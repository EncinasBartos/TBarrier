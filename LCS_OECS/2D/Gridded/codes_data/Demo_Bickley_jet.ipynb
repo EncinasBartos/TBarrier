{
 "cells": [
  {
   "cell_type": "code",
   "execution_count": 1,
   "metadata": {},
   "outputs": [],
   "source": [
    "# Import general libraries\n",
    "%matplotlib notebook\n",
    "import matplotlib.pyplot as plt\n",
    "import matplotlib.animation as animation\n",
    "import numpy as np"
   ]
  },
  {
   "cell_type": "code",
   "execution_count": 2,
   "metadata": {},
   "outputs": [
    {
     "name": "stdout",
     "output_type": "stream",
     "text": [
      "Import data\n",
      "Wall time: 41.9 ms\n"
     ]
    }
   ],
   "source": [
    "%%time\n",
    "# Import velocity field\n",
    "import scipy.io as sio\n",
    "\n",
    "print(\"Import data\")\n",
    "#Import velocity data from file in data-folder\n",
    "mat_file = sio.loadmat('./data/Files/Bickley_jet.mat')\n",
    "\n",
    "U = mat_file['u']\n",
    "V = mat_file['v']\n",
    "x = mat_file['x']\n",
    "y = mat_file['y']\n",
    "time = mat_file['t']"
   ]
  },
  {
   "cell_type": "code",
   "execution_count": 3,
   "metadata": {},
   "outputs": [],
   "source": [
    "# Create meshgrid\n",
    "X, Y = np.meshgrid(x, y)"
   ]
  },
  {
   "cell_type": "code",
   "execution_count": 4,
   "metadata": {},
   "outputs": [],
   "source": [
    "# Name of Dataset. {\"Ocean\", \"General\"}\n",
    "Type = \"General\"\n",
    "\n",
    "# Number of cores to be used for parallel computing\n",
    "Ncores = 4\n",
    "\n",
    "# Specify whether the flow is incompressible. {True, False}\n",
    "incompressible = True\n",
    "\n",
    "# Specify periodic boundary conditions\n",
    "periodic_boundary = [False, False]\n",
    "\n",
    "# Summarize list of parameters of the flow.\n",
    "params_data = Type, X, Y, time, U, V, Ncores, incompressible, periodic_boundary"
   ]
  },
  {
   "cell_type": "code",
   "execution_count": 5,
   "metadata": {},
   "outputs": [
    {
     "name": "stdout",
     "output_type": "stream",
     "text": [
      "Wall time: 76.8 ms\n"
     ]
    }
   ],
   "source": [
    "%%time\n",
    "import sys\n",
    "sys.path.append(\"./classes\")\n",
    "from ipynb.fs.defs.Dynamical_System import *\n",
    "DS = Dynamical_System()\n",
    "DS._init_data(params_data)"
   ]
  },
  {
   "cell_type": "code",
   "execution_count": 6,
   "metadata": {},
   "outputs": [],
   "source": [
    "DS._Interpolation_velocity()"
   ]
  },
  {
   "cell_type": "code",
   "execution_count": 7,
   "metadata": {},
   "outputs": [
    {
     "name": "stdout",
     "output_type": "stream",
     "text": [
      "Wall time: 995 µs\n"
     ]
    }
   ],
   "source": [
    "%%time\n",
    "\n",
    "# Initial time (in days)\n",
    "t0 = DS.Time[0, 0]\n",
    "\n",
    "# Final time (in days)\n",
    "tN = DS.Time[0, 15]\n",
    "\n",
    "# time step-size\n",
    "dt = 0.2\n",
    "\n",
    "time = np.arange(t0, tN+dt, dt)\n",
    "\n",
    "#  x, y boundaries\n",
    "xmin = np.min(DS.X)\n",
    "xmax = np.max(DS.X)/20\n",
    "ymin = np.min(DS.Y)/2\n",
    "ymax = np.max(DS.Y)/2\n",
    "\n",
    "# spacing of meshgrid (in degrees)\n",
    "dx = np.minimum(X[0, 1]-X[0, 0], Y[1, 0]-Y[0, 0])/10\n",
    "dy = dx\n",
    "\n",
    "# x, y grid with spacing dx, dy\n",
    "x_grid = np.arange(xmin, xmax+dx, dx)\n",
    "y_grid = np.arange(ymin, ymax+dy, dy)\n",
    "\n",
    "# Specify ratio of auxiliary grid\n",
    "ratio_auxiliary_grid = 0.1\n",
    "\n",
    "params_ds = time, x_grid, y_grid, ratio_auxiliary_grid\n",
    "DS._init_ds(params_ds)"
   ]
  },
  {
   "cell_type": "code",
   "execution_count": null,
   "metadata": {},
   "outputs": [
    {
     "name": "stdout",
     "output_type": "stream",
     "text": [
      "=================Trajectories over meshgrid=================\n"
     ]
    },
    {
     "data": {
      "application/vnd.jupyter.widget-view+json": {
       "model_id": "faf422946eeb4876973d4c2f9db5162b",
       "version_major": 2,
       "version_minor": 0
      },
      "text/plain": [
       "  0%|          | 0/96 [00:00<?, ?it/s]"
      ]
     },
     "metadata": {},
     "output_type": "display_data"
    },
    {
     "name": "stderr",
     "output_type": "stream",
     "text": [
      "[Parallel(n_jobs=4)]: Using backend LokyBackend with 4 concurrent workers.\n"
     ]
    }
   ],
   "source": [
    "FTLE_min, FTLE_max = DS._FTLE_()"
   ]
  },
  {
   "cell_type": "code",
   "execution_count": null,
   "metadata": {},
   "outputs": [],
   "source": [
    "%matplotlib notebook \n",
    "%matplotlib notebook \n",
    "\n",
    "from IPython.display import HTML\n",
    "    \n",
    "c = DS.FTLE[:,:,1].ravel()\n",
    "x = DS.trajectory_grid[:,:,0,0].ravel()\n",
    "y = DS.trajectory_grid[:,:,1,0].ravel()\n",
    "\n",
    "steps = np.arange(0, DS.lenT, 1)\n",
    "    \n",
    "# create figure and axes \n",
    "fig, ax = plt.subplots(1, figsize=(8, 4))\n",
    "scat = ax.scatter(x, y, c=c, s=6)\n",
    "ax.set_xlabel(\"x (m)\")\n",
    "ax.set_ylabel(\"y (m)\")\n",
    "    \n",
    "def update_plot(i, X, Y, scat):\n",
    "    x_data = X[:,:,i].ravel()\n",
    "    y_data = Y[:,:,i].ravel()\n",
    "    ax.set_title(f'$FTLE_{{{DS.t0}}}^{{{DS.tN}}}(t = {{{np.around(DS.time[i], 2)}d}})$')\n",
    "    ax.set_xlim(np.nanmin(x_data), np.nanmax(x_data))\n",
    "    ax.set_ylim(np.nanmin(y_data), np.nanmax(y_data))\n",
    "    scat.set_offsets(np.column_stack([x_data, y_data]))\n",
    "    return scat,\n",
    "    \n",
    "# the FuncAnimation function iterates through our animate function using the steps array\n",
    "ani = animation.FuncAnimation(fig, update_plot, frames=steps,\n",
    "                                  fargs=(DS.trajectory_grid[:,:,0,:], DS.trajectory_grid[:,:,1,:], scat), \n",
    "                                  interval = 20, \n",
    "                                  blit = True)\n",
    "    \n",
    "HTML(ani.to_jshtml())\n",
    "# the FuncAnimation function iterates through our animate function using the steps array\n",
    "#ani = FuncAnimation(fig, animate, steps, init_func=init, blit=True)"
   ]
  },
  {
   "cell_type": "code",
   "execution_count": null,
   "metadata": {},
   "outputs": [],
   "source": [
    "PRA = DS._PRA_()"
   ]
  },
  {
   "cell_type": "code",
   "execution_count": null,
   "metadata": {},
   "outputs": [],
   "source": [
    "fig = plt.figure(figsize = (8, 4))\n",
    "ax = plt.axes()\n",
    "cax = ax.contourf(DS.X_domain, DS.Y_domain, PRA, levels = 600, cmap = \"gist_rainbow\")\n",
    "#cax = ax.scatter(DS.trajectory_grid[:, :, 0, 0].ravel(), DS.trajectory_grid[:, :, 1, 0].ravel(), c = FTLE_max.ravel())\n",
    "plt.colorbar(cax, ticks = np.linspace(0, np.pi, 8))\n",
    "plt.show()"
   ]
  },
  {
   "cell_type": "code",
   "execution_count": null,
   "metadata": {},
   "outputs": [],
   "source": [
    "#extrema_x, extrema_y = DS._ridge_trench(FTLE_max, threshold = 0.02, type = \"ridge\", method = \"gradient\", \n",
    "#                                        resolution = 1, ds = 1, n_iterations = 100)\n",
    "#plt.scatter(extrema_x, extrema_y, s = .5)\n",
    "#plt.show()"
   ]
  }
 ],
 "metadata": {
  "kernelspec": {
   "display_name": "Python 3",
   "language": "python",
   "name": "python3"
  },
  "language_info": {
   "codemirror_mode": {
    "name": "ipython",
    "version": 3
   },
   "file_extension": ".py",
   "mimetype": "text/x-python",
   "name": "python",
   "nbconvert_exporter": "python",
   "pygments_lexer": "ipython3",
   "version": "3.7.11"
  },
  "toc": {
   "base_numbering": 1,
   "nav_menu": {},
   "number_sections": true,
   "sideBar": true,
   "skip_h1_title": false,
   "title_cell": "Table of Contents",
   "title_sidebar": "Contents",
   "toc_cell": false,
   "toc_position": {},
   "toc_section_display": true,
   "toc_window_display": false
  }
 },
 "nbformat": 4,
 "nbformat_minor": 4
}
