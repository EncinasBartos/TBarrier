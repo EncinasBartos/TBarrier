{
 "cells": [
  {
   "cell_type": "code",
   "execution_count": 1,
   "metadata": {},
   "outputs": [],
   "source": [
    "import os, inspect\n",
    "import matplotlib.pyplot as plt\n",
    "import numpy as np\n",
    "currentdir = os.path.dirname(os.path.abspath(inspect.getfile(inspect.currentframe())))\n",
    "parentdir = os.path.dirname(os.path.dirname(os.path.dirname(os.path.dirname(currentdir))))"
   ]
  },
  {
   "cell_type": "code",
   "execution_count": 2,
   "metadata": {},
   "outputs": [
    {
     "name": "stdout",
     "output_type": "stream",
     "text": [
      "CPU times: user 36.4 ms, sys: 12.2 ms, total: 48.6 ms\n",
      "Wall time: 47.1 ms\n"
     ]
    }
   ],
   "source": [
    "%%time\n",
    "# Import velocity field\n",
    "import sys\n",
    "sys.path.append(parentdir+\"/code/2D/Gridded/General\")\n",
    "\n",
    "from os.path import dirname, join as pjoin\n",
    "import scipy.io as sio\n",
    "\n",
    "#Import velocity data from file in data-folder\n",
    "mat_file = sio.loadmat(parentdir + '/data/quadruple_gyre.mat')\n",
    "\n",
    "U = mat_file['u']\n",
    "V = mat_file['v']\n",
    "x = mat_file['x']\n",
    "y = mat_file['y']\n",
    "time = mat_file['t']"
   ]
  },
  {
   "cell_type": "code",
   "execution_count": 3,
   "metadata": {},
   "outputs": [],
   "source": [
    "X, Y = np.meshgrid(x, y)"
   ]
  },
  {
   "cell_type": "code",
   "execution_count": 4,
   "metadata": {},
   "outputs": [],
   "source": [
    "# Name of Dataset. {\"Ocean\", \"General\"}\n",
    "Type = \"General\"\n",
    "\n",
    "# Number of cores to be used for parallel computing\n",
    "Ncores = 4\n",
    "\n",
    "# Specify whether the flow is incompressible. {True, False}\n",
    "incompressible = True\n",
    "\n",
    "# Summarize list of parameters of the flow.\n",
    "params_data = Type, X, Y, time, U, V, Ncores, incompressible"
   ]
  },
  {
   "cell_type": "code",
   "execution_count": 5,
   "metadata": {},
   "outputs": [
    {
     "name": "stdout",
     "output_type": "stream",
     "text": [
      "CPU times: user 75.3 ms, sys: 16.4 ms, total: 91.6 ms\n",
      "Wall time: 90.4 ms\n"
     ]
    }
   ],
   "source": [
    "%%time\n",
    "sys.path.append(parentdir+\"/code/2D/Gridded\")\n",
    "from ipynb.fs.full.System import System\n",
    "DS = System()\n",
    "DS._init_data(params_data)"
   ]
  },
  {
   "cell_type": "code",
   "execution_count": 6,
   "metadata": {},
   "outputs": [],
   "source": [
    "DS._Interpolation_velocity()"
   ]
  },
  {
   "cell_type": "code",
   "execution_count": 7,
   "metadata": {},
   "outputs": [],
   "source": [
    "# %%time\n",
    "\n",
    "# Initial time (in days)\n",
    "t0 = 0\n",
    "\n",
    "# Final time (in days)\n",
    "tN = 10\n",
    "\n",
    "# time step-size\n",
    "dt = .01\n",
    "\n",
    "time = np.arange(t0, tN+dt, dt)\n",
    "\n",
    "# longitudinal and latitudinal boundaries (in degrees)\n",
    "xmin = 0\n",
    "xmax = 2\n",
    "ymin = 0\n",
    "ymax = 1\n",
    "\n",
    "# spacing of meshgrid (in degrees)\n",
    "dx = 0.004\n",
    "dy = 0.004\n",
    "\n",
    "x_grid = np.arange(xmin, xmax + dx, dx)\n",
    "y_grid = np.arange(ymin, ymax + dy, dy)\n",
    "\n",
    "periodic_boundary = [True, False]\n",
    "ratio_auxiliary_grid = 0.1\n",
    "\n",
    "params_ds = time, x_grid, y_grid, periodic_boundary, ratio_auxiliary_grid\n",
    "DS._init_ds(params_ds)"
   ]
  },
  {
   "cell_type": "code",
   "execution_count": null,
   "metadata": {},
   "outputs": [
    {
     "name": "stdout",
     "output_type": "stream",
     "text": [
      "=================Trajectories over meshgrid=================\n"
     ]
    },
    {
     "data": {
      "application/vnd.jupyter.widget-view+json": {
       "model_id": "41ca085d6aae4cc1a7514b59c5f1e092",
       "version_major": 2,
       "version_minor": 0
      },
      "text/plain": [
       "  0%|          | 0/251 [00:00<?, ?it/s]"
      ]
     },
     "metadata": {},
     "output_type": "display_data"
    },
    {
     "name": "stderr",
     "output_type": "stream",
     "text": [
      "[Parallel(n_jobs=4)]: Using backend LokyBackend with 4 concurrent workers.\n",
      "[Parallel(n_jobs=4)]: Done  42 tasks      | elapsed: 14.7min\n"
     ]
    }
   ],
   "source": [
    "TRA_bar = DS._TRA_bar_()\n",
    "\n",
    "fig = plt.figure(figsize = (14, 8))\n",
    "ax = plt.axes()\n",
    "cax = ax.contourf(DS.X_domain, DS.Y_domain, TRA_bar, levels = 600)\n",
    "plt.colorbar(cax)\n",
    "plt.show()"
   ]
  },
  {
   "cell_type": "code",
   "execution_count": null,
   "metadata": {},
   "outputs": [],
   "source": [
    "FTLE_min, FTLE_max = DS._FTLE_()\n",
    "\n",
    "fig = plt.figure(figsize = (14, 8))\n",
    "ax = plt.axes()\n",
    "cax = ax.contourf(DS.X_domain, DS.Y_domain, FTLE_min, levels = 600)\n",
    "plt.colorbar(cax)\n",
    "plt.show()"
   ]
  },
  {
   "cell_type": "code",
   "execution_count": null,
   "metadata": {},
   "outputs": [],
   "source": [
    "LAVD = DS._LAVD_()\n",
    "\n",
    "fig = plt.figure(figsize = (14, 8))\n",
    "ax = plt.axes()\n",
    "cax = ax.contourf(DS.X_domain, DS.Y_domain, LAVD, levels = 600)\n",
    "plt.colorbar(cax)\n",
    "plt.show()"
   ]
  }
 ],
 "metadata": {
  "kernelspec": {
   "display_name": "Python 3",
   "language": "python",
   "name": "python3"
  },
  "language_info": {
   "codemirror_mode": {
    "name": "ipython",
    "version": 3
   },
   "file_extension": ".py",
   "mimetype": "text/x-python",
   "name": "python",
   "nbconvert_exporter": "python",
   "pygments_lexer": "ipython3",
   "version": "3.7.11"
  },
  "toc": {
   "base_numbering": 1,
   "nav_menu": {},
   "number_sections": true,
   "sideBar": true,
   "skip_h1_title": false,
   "title_cell": "Table of Contents",
   "title_sidebar": "Contents",
   "toc_cell": false,
   "toc_position": {},
   "toc_section_display": true,
   "toc_window_display": false
  }
 },
 "nbformat": 4,
 "nbformat_minor": 4
}
