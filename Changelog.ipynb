{
 "cells": [
  {
   "cell_type": "markdown",
   "id": "baf6bbc8",
   "metadata": {},
   "source": [
    "## Changelog \n"
   ]
  },
  {
   "cell_type": "markdown",
   "id": "610831fc",
   "metadata": {},
   "source": [
    "# Index.html\n",
    "    - Removed redundant entries\n",
    "    - Fixed links\n",
    "\n",
    "# Data\n",
    "    - Fixed Bickley-Jet formulas"
   ]
  },
  {
   "cell_type": "code",
   "execution_count": null,
   "id": "16229e24",
   "metadata": {},
   "outputs": [],
   "source": [
    "\n"
   ]
  }
 ],
 "metadata": {
  "kernelspec": {
   "display_name": "Python 3",
   "language": "python",
   "name": "python3"
  },
  "language_info": {
   "codemirror_mode": {
    "name": "ipython",
    "version": 3
   },
   "file_extension": ".py",
   "mimetype": "text/x-python",
   "name": "python",
   "nbconvert_exporter": "python",
   "pygments_lexer": "ipython3",
   "version": "3.7.12"
  }
 },
 "nbformat": 4,
 "nbformat_minor": 5
}
