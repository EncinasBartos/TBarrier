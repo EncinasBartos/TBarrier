{
 "cells": [
  {
   "cell_type": "markdown",
   "id": "baf6bbc8",
   "metadata": {},
   "source": [
    "## Changelog \n"
   ]
  },
  {
   "cell_type": "markdown",
   "id": "610831fc",
   "metadata": {},
   "source": [
    "# Index.html\n",
    "- Removed redundant entries\n",
    "- Fixed links\n",
    "\n",
    "# Data\n",
    "- Fixed Bickley-Jet formulas\n",
    "    \n",
    "    \n",
    "# Demos\n",
    "\n",
    "### FTLE\n",
    "- FTLE ridges are neither necessary nor sufficient conditions for hyp. LCS\n",
    "\n",
    "### DBS\n",
    "- Diffusion barrier strength vs. Diffusion barrier sensitivity?\n",
    "- role of n_averaging wasn't clear in DiffusionCauchyGreen function \n",
    "    \n",
    "### LAVD\n",
    "\n",
    "- Normalization of $\\dfrac{1}{t_N-t_0} \\sum_{i = 0}^{N}| \\omega(\\mathbf{x}(t_i)) - \\overline{\\omega}(t_i) |$ wasn't implemented correctly. I changed the signature of _LAVD() to match FTLE() : it now expects the length of the time interval.\n",
    "- Changed color scheme in Agulhas LAVD demo\n",
    "- The check to decide if the contour line of LAVD is closed or not was buggy, fixed.\n",
    "- Increased convexity deficinecy threshold, because with the current value, we were clearly not getting the outermost curves\n",
    "\n",
    "\n",
    "### PRA\n",
    "\n",
    "- Fixed typos in the formulas\n",
    "- Dimension of PRA is just rad, not rad/d"
   ]
  },
  {
   "cell_type": "markdown",
   "id": "445076df",
   "metadata": {},
   "source": [
    "\n"
   ]
  }
 ],
 "metadata": {
  "kernelspec": {
   "display_name": "Python 3",
   "language": "python",
   "name": "python3"
  },
  "language_info": {
   "codemirror_mode": {
    "name": "ipython",
    "version": 3
   },
   "file_extension": ".py",
   "mimetype": "text/x-python",
   "name": "python",
   "nbconvert_exporter": "python",
   "pygments_lexer": "ipython3",
   "version": "3.7.12"
  }
 },
 "nbformat": 4,
 "nbformat_minor": 5
}
