{
 "cells": [
  {
   "cell_type": "markdown",
   "metadata": {},
   "source": [
    "The particle dynamics in a general velocity field $ \\mathbf{u}(\\mathbf{x}, t) = \\begin{pmatrix} u(\\mathbf{x}, t) \\\\ v(\\mathbf{x}, t) \\\\  w(\\mathbf{x}, t) \\end{pmatrix} $. This function evaluates the velocity field $ \\mathbf{u}(\\mathbf{x}, t) $, at point $ \\mathbf{x} $ at time $ t $.\n",
    "\n",
    "| Name | Type (Shape) | Description |\n",
    "| --- | --- | --- |\n",
    "| t | float | time |\n",
    "| x | array (3, NxNyNz) | $ \\mathbf{x} $ |\n",
    "| X | array (NY, NX, NZ) | X-meshgrid|\n",
    "| Y | array (NY, NX, NZ) | Y-meshgrid|\n",
    "| Z | array (NY, NX, NZ) | Y-meshgrid|\n",
    "| Interpolant_u | RectangularGridInterpolator | Interpolant object for $ u(\\mathbf{x}, t)  $ |\n",
    "| Interpolant_v | RectangularGridInterpolator | Interpolant object for $ v(\\mathbf{x}, t)  $ |\n",
    "| Interpolant_w | RectangularGridInterpolator | Interpolant object for $ w(\\mathbf{x}, t)  $ |\n",
    "| periodic | list (4,) | periodic[0]: periodicity in x <br /> periodic[1]: periodicity in y <br /> periodic[2]: periodicity in z <br /> periodic[3]: periodicity in time |\n",
    "| bool_unsteady | bool | specifies if velocity field is unsteady/steady |\n",
    "| vel | array (3, NxNyNz) | $ \\begin{pmatrix} u(\\mathbf{x}, t) \\\\ v(\\mathbf{x}, t) \\\\ w(\\mathbf{x}, t) \\end{pmatrix} $ |"
   ]
  },
  {
   "cell_type": "code",
   "execution_count": 1,
   "metadata": {
    "ExecuteTime": {
     "end_time": "2021-11-25T16:49:34.574190Z",
     "start_time": "2021-11-25T16:49:34.571273Z"
    }
   },
   "outputs": [],
   "source": [
    "import sys, os\n",
    "\n",
    "# get current directory\n",
    "path = os.getcwd()\n",
    "\n",
    "# get parent directory\n",
    "parent_directory = os.path.sep.join(path.split(os.path.sep)[:-1])\n",
    "\n",
    "# add utils folder to current working path\n",
    "sys.path.append(parent_directory+\"/utils\")"
   ]
  },
  {
   "cell_type": "code",
   "execution_count": 2,
   "metadata": {
    "ExecuteTime": {
     "end_time": "2021-11-25T16:49:35.050000Z",
     "start_time": "2021-11-25T16:49:34.575786Z"
    }
   },
   "outputs": [],
   "source": [
    "# Import numpy\n",
    "import numpy as np"
   ]
  },
  {
   "cell_type": "code",
   "execution_count": 3,
   "metadata": {
    "ExecuteTime": {
     "end_time": "2021-11-25T16:49:35.057542Z",
     "start_time": "2021-11-25T16:49:35.052218Z"
    }
   },
   "outputs": [],
   "source": [
    "def velocity(t, x, X, Y, Z, Interpolant_u, Interpolant_v, Interpolant_w, periodic, bool_unsteady):\n",
    "    \n",
    "    x_scaled = x.copy()\n",
    "    \n",
    "    # check if periodic in x\n",
    "    if periodic[0]:\n",
    "        \n",
    "        x_scaled[0,:] = x_scaled[0,:]%(X[0, -1, 0]-X[0, 0, 0])\n",
    "    \n",
    "    # check if periodic in y\n",
    "    if periodic[1]:\n",
    "        \n",
    "        x_scaled[1,:] = x_scaled[1,:]%(Y[-1, 0, 0]-Y[0, 0, 0])\n",
    "        \n",
    "    # check if periodic in z\n",
    "    if periodic[2]:\n",
    "        \n",
    "        x_scaled[2,:] = x_scaled[2,:]%(Z[0, 0, -1]-Z[0, 0, 0])\n",
    "    \n",
    "    x_scaled[0,:] = (x_scaled[0,:]-X[0, 0, 0])/(X[0, 1, 0]-X[0, 0, 0])\n",
    "    x_scaled[1,:] = (x_scaled[1,:]-Y[0, 0, 0])/(Y[1, 0, 0]-Y[0, 0, 0])\n",
    "    x_scaled[2,:] = (x_scaled[2,:]-Z[0, 0, 0])/(Z[0, 0, 1]-Z[0, 0, 0])\n",
    "    \n",
    "    x_scaled = x_scaled.transpose()\n",
    "    \n",
    "    x_swap = x_scaled[:, [1, 0, 2]]\n",
    "    \n",
    "    print(x_swap)\n",
    "    \n",
    "    if bool_unsteady:\n",
    "    \n",
    "        u = Interpolant_u(np.append(x_swap, t*np.ones(x.shape[0])))\n",
    "        v = Interpolant_v(np.append(x_swap, t*np.ones(x.shape[0])))\n",
    "        w = Interpolant_w(np.append(x_swap, t*np.ones(x.shape[0])))\n",
    "        \n",
    "    else:\n",
    "        \n",
    "        u = np.zeros((x_swap.shape[0], ))\n",
    "        v = u.copy()\n",
    "        w = u.copy()\n",
    "        \n",
    "        for i in range(x_swap.shape[0]):\n",
    "            u[i] = Interpolant_u.ip(list(x_swap[i, :]))\n",
    "            v[i] = Interpolant_v.ip(list(x_swap[i, :]))\n",
    "            w[i] = Interpolant_w.ip(list(x_swap[i, :]))\n",
    "        \n",
    "    vel = np.array([u, v, w])\n",
    "    \n",
    "    return vel"
   ]
  }
 ],
 "metadata": {
  "kernelspec": {
   "display_name": "Python 3",
   "language": "python",
   "name": "python3"
  },
  "language_info": {
   "codemirror_mode": {
    "name": "ipython",
    "version": 3
   },
   "file_extension": ".py",
   "mimetype": "text/x-python",
   "name": "python",
   "nbconvert_exporter": "python",
   "pygments_lexer": "ipython3",
   "version": "3.7.12"
  },
  "toc": {
   "base_numbering": 1,
   "nav_menu": {},
   "number_sections": true,
   "sideBar": true,
   "skip_h1_title": false,
   "title_cell": "Table of Contents",
   "title_sidebar": "Contents",
   "toc_cell": false,
   "toc_position": {},
   "toc_section_display": true,
   "toc_window_display": false
  }
 },
 "nbformat": 4,
 "nbformat_minor": 4
}
