{
 "cells": [
  {
   "cell_type": "markdown",
   "metadata": {},
   "source": [
    "The particle dynamics in a general velocity field $ \\mathbf{u}(\\mathbf{x}, t) = \\begin{pmatrix} u(\\mathbf{x}, t) \\\\ v(\\mathbf{x}, t) \\\\  w(\\mathbf{x}, t) \\end{pmatrix} $. This function evaluates the velocity field $ \\mathbf{u}(\\mathbf{x}, t) $, at point $ \\mathbf{x} $ at time $ t $.\n",
    "\n",
    "| Name | Type (Shape) | Description |\n",
    "| --- | --- | --- |\n",
    "| t | float | time |\n",
    "| x | array (3,) | $ \\mathbf{x} $ |\n",
    "| X | array (Ny, Nx, Nz) | X-meshgrid|\n",
    "| Y | array (Ny, Nx, Nz) | Y-meshgrid|\n",
    "| Interpolant | list (3,) | Interpolant[0]: Interpolant object for $ u(\\mathbf{x}, t)  $ <br /> Interpolant[1]: Interpolant object for $ v(\\mathbf{x}, t)  $ <br /> Interpolant[2]: Interpolant object for $ w(\\mathbf{x}, t)  $ |\n",
    "| periodic | list (3,) | periodic[0]: periodicity in x <br /> periodic[1]: periodicity in y <br /> periodic[2]: periodicity in z <br />|\n",
    "| bool_unsteady | bool | specifies if velocity field is unsteady/steady |\n",
    "| v | float | $ u(\\mathbf{x}, t) $ |\n",
    "| v | float | $ v(\\mathbf{x}, t) $ |\n",
    "| w | float | $ w(\\mathbf{x}, t) $ |"
   ]
  },
  {
   "cell_type": "code",
   "execution_count": 1,
   "metadata": {
    "ExecuteTime": {
     "end_time": "2021-11-25T16:49:34.574190Z",
     "start_time": "2021-11-25T16:49:34.571273Z"
    }
   },
   "outputs": [],
   "source": [
    "import sys, os\n",
    "\n",
    "# get current directory\n",
    "path = os.getcwd()\n",
    "\n",
    "# get parent directory\n",
    "parent_directory = os.path.sep.join(path.split(os.path.sep)[:-1])\n",
    "\n",
    "# add Algorithm folder to current working path in order to access the functions\n",
    "sys.path.append(parent_directory+\"/utils\")"
   ]
  },
  {
   "cell_type": "code",
   "execution_count": 2,
   "metadata": {
    "ExecuteTime": {
     "end_time": "2021-11-25T16:49:35.050000Z",
     "start_time": "2021-11-25T16:49:34.575786Z"
    }
   },
   "outputs": [],
   "source": [
    "# Import numpy\n",
    "import numpy as np"
   ]
  },
  {
   "cell_type": "code",
   "execution_count": 3,
   "metadata": {
    "ExecuteTime": {
     "end_time": "2021-11-25T16:49:35.057542Z",
     "start_time": "2021-11-25T16:49:35.052218Z"
    }
   },
   "outputs": [],
   "source": [
    "def velocity(t, x, X, Y, Z, Interpolant, periodic, bool_unsteady):\n",
    "    \n",
    "    # check if periodic in x\n",
    "    if periodic[0]:\n",
    "        \n",
    "        x[0] = x[0]%(X[0, -1, 0]-X[0, 0, 0])\n",
    "    \n",
    "    # check if periodic in y\n",
    "    if periodic[1]:\n",
    "        \n",
    "        x[1] = x[1]%(Y[-1, 0, 0]-Y[0, 0, 0])\n",
    "        \n",
    "    # check if periodic in z\n",
    "    if periodic[2]:\n",
    "        \n",
    "        x[2] = x[2]%(Z[0, 0, -1]-Z[0, 0, 0])\n",
    "    \n",
    "    if bool_unsteady:\n",
    "    \n",
    "        u = Interpolant[0]([x[1], x[0], x[2], time])[0]\n",
    "        v = Interpolant[1]([x[1], x[0], x[2], time])[0]\n",
    "        w = Interpolant[2]([x[1], x[0], x[2], time])[0]\n",
    "        \n",
    "    else:\n",
    "        \n",
    "        u = Interpolant[0]([x[1], x[0], x[2]])[0]\n",
    "        v = Interpolant[1]([x[1], x[0], x[2]])[0]\n",
    "        w = Interpolant[2]([x[1], x[0], x[2]])[0]\n",
    "        \n",
    "    vel = [np.around(u, 10), np.around(v, 10), np.around(w, 10)]\n",
    "    \n",
    "    return vel"
   ]
  }
 ],
 "metadata": {
  "kernelspec": {
   "display_name": "Python 3 (ipykernel)",
   "language": "python",
   "name": "python3"
  },
  "language_info": {
   "codemirror_mode": {
    "name": "ipython",
    "version": 3
   },
   "file_extension": ".py",
   "mimetype": "text/x-python",
   "name": "python",
   "nbconvert_exporter": "python",
   "pygments_lexer": "ipython3",
   "version": "3.7.11"
  },
  "toc": {
   "base_numbering": 1,
   "nav_menu": {},
   "number_sections": true,
   "sideBar": true,
   "skip_h1_title": false,
   "title_cell": "Table of Contents",
   "title_sidebar": "Contents",
   "toc_cell": false,
   "toc_position": {},
   "toc_section_display": true,
   "toc_window_display": false
  }
 },
 "nbformat": 4,
 "nbformat_minor": 4
}
