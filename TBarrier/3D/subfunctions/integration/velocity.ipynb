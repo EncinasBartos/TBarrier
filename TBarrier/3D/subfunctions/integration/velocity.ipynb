{
 "cells": [
  {
   "cell_type": "markdown",
   "metadata": {},
   "source": [
    "The particle dynamics in a general velocity field $ \\mathbf{u}(\\mathbf{x}, t) = \\begin{pmatrix} u(\\mathbf{x}, t) \\\\ v(\\mathbf{x}, t) \\\\  w(\\mathbf{x}, t) \\end{pmatrix} $. This function evaluates the velocity field $ \\mathbf{u}(\\mathbf{x}, t) $, at point $ \\mathbf{x} $ at time $ t $.\n",
    "\n",
    "| Name | Type (Shape) | Description |\n",
    "| --- | --- | --- |\n",
    "| t | float | time |\n",
    "| x | array (3, NxNyNz) | $ \\mathbf{x} $ |\n",
    "| X | array (NY, NX, NZ) | X-meshgrid|\n",
    "| Y | array (NY, NX, NZ) | Y-meshgrid|\n",
    "| Z | array (NY, NX, NZ) | Y-meshgrid|\n",
    "| Interpolant_u | RectangularGridInterpolator | Interpolant object for $ u(\\mathbf{x}, t)  $ |\n",
    "| Interpolant_v | RectangularGridInterpolator | Interpolant object for $ v(\\mathbf{x}, t)  $ |\n",
    "| Interpolant_w | RectangularGridInterpolator | Interpolant object for $ w(\\mathbf{x}, t)  $ |\n",
    "| periodic | list (3,) | periodic[0]: periodicity in x <br /> periodic[1]: periodicity in y <br /> periodic[2]: periodicity in z |\n",
    "| bool_unsteady | bool | specifies if velocity field is unsteady/steady |\n",
    "| vel | array (3, NxNyNz) | $ \\begin{pmatrix} u(\\mathbf{x}, t) \\\\ v(\\mathbf{x}, t) \\\\ w(\\mathbf{x}, t) \\end{pmatrix} $ |"
   ]
  },
  {
   "cell_type": "code",
   "execution_count": 1,
   "metadata": {
    "ExecuteTime": {
     "end_time": "2021-11-25T16:49:34.574190Z",
     "start_time": "2021-11-25T16:49:34.571273Z"
    },
    "code_folding": [
     0
    ]
   },
   "outputs": [],
   "source": [
    "# import sys/os\n",
    "import sys, os\n",
    "\n",
    "# get current directory\n",
    "path = os.getcwd()\n",
    "\n",
    "# get parent directory\n",
    "parent_directory = os.path.sep.join(path.split(os.path.sep)[:-1])\n",
    "\n",
    "# add utils folder to current working path\n",
    "sys.path.append(parent_directory+\"/utils\")"
   ]
  },
  {
   "cell_type": "code",
   "execution_count": null,
   "metadata": {
    "code_folding": [
     0
    ]
   },
   "outputs": [],
   "source": [
    "# Import numpy\n",
    "import numpy as np"
   ]
  },
  {
   "cell_type": "code",
   "execution_count": 1,
   "metadata": {
    "ExecuteTime": {
     "end_time": "2022-02-14T09:18:15.584346Z",
     "start_time": "2022-02-14T09:18:15.555346Z"
    },
    "code_folding": [],
    "run_control": {
     "marked": true
    }
   },
   "outputs": [],
   "source": [
    "def velocity(t, x, X, Y, Z, Interpolant_u, Interpolant_v, Interpolant_w, periodic, bool_unsteady):\n",
    "    \n",
    "    x_swap = np.zeros((x.shape[1], x.shape[0]))\n",
    "    x_swap[:,0] = x[1,:]\n",
    "    x_swap[:,1] = x[0,:]\n",
    "    x_swap[:,2] = x[2,:] \n",
    "    \n",
    "    # check if periodic in x\n",
    "    if periodic[0]:\n",
    "        \n",
    "        x_swap[:,1] = (x[0,:]-X[0, 0, 0])%(X[0, -1, 0]-X[0, 0, 0])+X[0, 0, 0]\n",
    "\n",
    "    \n",
    "    # check if periodic in y\n",
    "    if periodic[1]:\n",
    "        \n",
    "        x_swap[:,0] = (x[1,:]-Y[0, 0, 0])%(Y[-1, 0, 0]-Y[0, 0, 0])+Y[0, 0, 0]\n",
    "    \n",
    "    # check if periodic in z\n",
    "    if periodic[2]:\n",
    "        \n",
    "        x_swap[:,2] = (x[2,:]-Z[0, 0, 0])%(Z[0, 0, -1]-Z[0, 0, 0])+Z[0, 0, 0]\n",
    "        \n",
    "        \n",
    "    if bool_unsteady:\n",
    "    \n",
    "        u = Interpolant_u(np.append(x_swap, t*np.ones((x_swap.shape[0], 1)), axis = 1))\n",
    "        v = Interpolant_v(np.append(x_swap, t*np.ones((x_swap.shape[0], 1)), axis = 1))\n",
    "        w = Interpolant_w(np.append(x_swap, t*np.ones((x_swap.shape[0], 1)), axis = 1))\n",
    "    \n",
    "    else:\n",
    "               \n",
    "        u = Interpolant_u(x_swap)\n",
    "        v = Interpolant_v(x_swap)\n",
    "        w = Interpolant_w(x_swap)\n",
    "    \n",
    "    vel = np.array([u, v, w])\n",
    "    \n",
    "    return vel"
   ]
  },
  {
   "cell_type": "code",
   "execution_count": null,
   "metadata": {},
   "outputs": [],
   "source": []
  }
 ],
 "metadata": {
  "kernelspec": {
   "display_name": "Python 3",
   "language": "python",
   "name": "python3"
  },
  "language_info": {
   "codemirror_mode": {
    "name": "ipython",
    "version": 3
   },
   "file_extension": ".py",
   "mimetype": "text/x-python",
   "name": "python",
   "nbconvert_exporter": "python",
   "pygments_lexer": "ipython3",
   "version": "3.7.12"
  },
  "toc": {
   "base_numbering": 1,
   "nav_menu": {},
   "number_sections": true,
   "sideBar": true,
   "skip_h1_title": false,
   "title_cell": "Table of Contents",
   "title_sidebar": "Contents",
   "toc_cell": false,
   "toc_position": {},
   "toc_section_display": true,
   "toc_window_display": false
  }
 },
 "nbformat": 4,
 "nbformat_minor": 4
}
