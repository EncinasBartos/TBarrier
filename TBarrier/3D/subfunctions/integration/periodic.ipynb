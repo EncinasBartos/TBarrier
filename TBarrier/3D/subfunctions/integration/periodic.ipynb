{
 "cells": [
  {
   "cell_type": "code",
   "execution_count": null,
   "metadata": {},
   "outputs": [],
   "source": [
    "from math import pi\n",
    "\n",
    "def _periodic(X, Y, Z, periodic, x):\n",
    "    \n",
    "    if periodic[0]:\n",
    "        \n",
    "        x[0] = x[0]%(X[0,-1,0]-X[0,0,0])\n",
    "            \n",
    "    if periodic[1]:\n",
    "        \n",
    "        x[1] = x[1]%(Y[-1,0,0]-Y[0,0,0])\n",
    "            \n",
    "    if periodic[2]:\n",
    "        \n",
    "        x[2] = x[2]%(Z[0,0,-1]-Z[0,0,0])\n",
    "            \n",
    "    return x"
   ]
  }
 ],
 "metadata": {
  "kernelspec": {
   "display_name": "Python 3",
   "language": "python",
   "name": "python3"
  },
  "language_info": {
   "codemirror_mode": {
    "name": "ipython",
    "version": 3
   },
   "file_extension": ".py",
   "mimetype": "text/x-python",
   "name": "python",
   "nbconvert_exporter": "python",
   "pygments_lexer": "ipython3",
   "version": "3.7.11"
  },
  "toc": {
   "base_numbering": 1,
   "nav_menu": {},
   "number_sections": true,
   "sideBar": true,
   "skip_h1_title": false,
   "title_cell": "Table of Contents",
   "title_sidebar": "Contents",
   "toc_cell": false,
   "toc_position": {},
   "toc_section_display": true,
   "toc_window_display": false
  }
 },
 "nbformat": 4,
 "nbformat_minor": 4
}
