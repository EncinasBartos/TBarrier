{
 "cells": [
  {
   "cell_type": "markdown",
   "metadata": {
    "ExecuteTime": {
     "end_time": "2021-11-25T16:51:30.640266Z",
     "start_time": "2021-11-25T16:51:30.633301Z"
    }
   },
   "source": [
    "| Name | Type (Shape) | Description |\n",
    "| --- | --- | --- |\n",
    "| time | array (N,) | time |\n",
    "| x | array (3,) | $ \\mathbf{x} $ |\n",
    "| X | array (Ny, Nx, Nz) | X-meshgrid|\n",
    "| Y | array (Ny, Nx, Nz) | Y-meshgrid|\n",
    "| Z | array (Ny, Nx, Nz) | Z-meshgrid|\n",
    "| Interpolant | list (3,) | Interpolant[0]: Interpolant object for $ u(\\mathbf{x}, t)  $ <br /> Interpolant[1]: Interpolant object for $ v(\\mathbf{x}, t)  $. <br /> Interpolant[2]: Interpolant object for $ w(\\mathbf{x}, t)  $|\n",
    "| periodic | list (3,) | periodic[0]: periodicity in x <br /> periodic[1]: periodicity in y <br /> periodic[2]: periodicity in y|\n",
    "| bool_unsteady | bool | specifies if velocity field is unsteady/steady |\n",
    "| aux_grid | list (3,) | auxiliary grid |\n",
    "| trajectory | array (3,N) | integrated trajectory |\n",
    "| velocity | array (3,N) | velocity along trajectory |\n",
    "| DF | array (3,3,N) | gradient of flow map at every time-step |"
   ]
  },
  {
   "cell_type": "code",
   "execution_count": 1,
   "metadata": {
    "ExecuteTime": {
     "end_time": "2021-11-25T17:05:47.756230Z",
     "start_time": "2021-11-25T17:05:47.753048Z"
    }
   },
   "outputs": [],
   "source": [
    "import sys, os\n",
    "\n",
    "# get current directory\n",
    "path = os.getcwd()\n",
    "\n",
    "# get parent directory\n",
    "parent_directory = os.path.sep.join(path.split(os.path.sep)[:-1])\n",
    "\n",
    "# add Algorithm folder to current working path in order to access the functions\n",
    "sys.path.append(parent_directory+\"/utils\")"
   ]
  },
  {
   "cell_type": "code",
   "execution_count": 2,
   "metadata": {
    "ExecuteTime": {
     "end_time": "2021-11-25T17:05:48.318330Z",
     "start_time": "2021-11-25T17:05:47.757820Z"
    }
   },
   "outputs": [],
   "source": [
    "# Import numpy\n",
    "import numpy as np\n",
    "\n",
    "# Import package to solve ODE\n",
    "from scipy.integrate import solve_ivp\n",
    "\n",
    "# function which evalutes derivative of flow map and derivative of gradient of flow map\n",
    "from ipynb.fs.defs.dFdt_eqVar import dFdt_eqVar"
   ]
  },
  {
   "cell_type": "code",
   "execution_count": 3,
   "metadata": {
    "ExecuteTime": {
     "end_time": "2021-11-25T17:05:48.326873Z",
     "start_time": "2021-11-25T17:05:48.320324Z"
    }
   },
   "outputs": [],
   "source": [
    "def integration_dFdt_eqVar(time, x, X, Y, Interpolant, periodic, bool_unsteady, aux_grid):\n",
    "    \n",
    "    # initial condition [x0, DF0]\n",
    "    x_init_extended = np.array([x[0], x[1], 1, 0, 0, 1])\n",
    "        \n",
    "    # time-interval [t0,tN] over which to integrate\n",
    "    time_interval = [time[0], time[-1]]\n",
    "        \n",
    "    # time-array at which trajectory must be evaluated\n",
    "    t_eval = time.copy()\n",
    "        \n",
    "    # Step-size\n",
    "    dt = time[1]-time[0]\n",
    "                    \n",
    "    sol = solve_ivp(dFdt_eqVar, time_interval, x_init_extended, 'RK45', t_eval, rtol=1e-8, atol=1e-8, first_step = dt, args = (X, Y, Interpolant, periodic, defined_domain, bool_unsteady, dt_data, delta, aux_grid))\n",
    "          \n",
    "    # Initialize velocity array\n",
    "    velocity = np.zeros((2, len(time)))\n",
    "    \n",
    "    # Initialize DF\n",
    "    DF = np.zeros((2, 2, len(time)))\n",
    "    DF[0,0,:] = sol.y[2,:]\n",
    "    DF[0,1,:] = sol.y[3,:]\n",
    "    DF[1,0,:] = sol.y[4,:]\n",
    "    DF[1,1,:] = sol.y[5,:]\n",
    "            \n",
    "    for i in range(sol.y.shape[1]-1):\n",
    "                \n",
    "        velocity[0, i] = (sol.y[0,i+1]-sol.y[0,i])/dt\n",
    "        velocity[1, i] = (sol.y[1,i+1]-sol.y[1,i])/dt\n",
    "        \n",
    "    trajectory = sol.y.copy()\n",
    "    \n",
    "    if periodic[0]:\n",
    "        \n",
    "        trajectory[0,:] = trajectory[0,:]%(X[0, -1]-X[0, 0])\n",
    "    \n",
    "    if periodic[1]:\n",
    "        \n",
    "        trajectory[1,:] = trajectory[1,:]%(Y[-1, 0]-Y[0, 0])\n",
    "            \n",
    "    return trajectory, velocity, DF"
   ]
  }
 ],
 "metadata": {
  "kernelspec": {
   "display_name": "Python 3 (ipykernel)",
   "language": "python",
   "name": "python3"
  },
  "language_info": {
   "codemirror_mode": {
    "name": "ipython",
    "version": 3
   },
   "file_extension": ".py",
   "mimetype": "text/x-python",
   "name": "python",
   "nbconvert_exporter": "python",
   "pygments_lexer": "ipython3",
   "version": "3.7.11"
  },
  "toc": {
   "base_numbering": 1,
   "nav_menu": {},
   "number_sections": true,
   "sideBar": true,
   "skip_h1_title": false,
   "title_cell": "Table of Contents",
   "title_sidebar": "Contents",
   "toc_cell": false,
   "toc_position": {},
   "toc_section_display": true,
   "toc_window_display": false
  }
 },
 "nbformat": 4,
 "nbformat_minor": 4
}
