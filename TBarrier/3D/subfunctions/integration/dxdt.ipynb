{
 "cells": [
  {
   "cell_type": "markdown",
   "metadata": {},
   "source": [
    "The particle dynamics in a general velocity field $ \\mathbf{u}(\\mathbf{x}, t) = \\begin{pmatrix} u((\\mathbf{x}, t)) \\\\ v((\\mathbf{x}, t)) \\end{pmatrix} $. This function evaluates the velocity field $ \\mathbf{u}(\\mathbf{x}, t) $, at point $ \\mathbf{x} $ at time $ t $.\n",
    "\n",
    "| Name | Type (Shape) | Description |\n",
    "| --- | --- | --- |\n",
    "| t | float | time |\n",
    "| x | array (3,) | $ \\mathbf{x} $ |\n",
    "| X | array (Nx, Ny) | X-meshgrid|\n",
    "| Y | array (Nx, Ny) | Y-meshgrid|\n",
    "| Interpolant | list (3,) | Interpolant[0]: Interpolant object for $ u((\\mathbf{x}, t))  $ <br /> Interpolant[1]: Interpolant object for $ v((\\mathbf{x}, t))  $. <br /> <br /> The interpolation, however, works only <br /> if the particle is in the defined flow domain. <br /> At the boundary of the domain, <br /> the interpolant is not defined.|\n",
    "| periodic | list (3,) | periodic[0]: periodicity in x <br /> periodic[1]: periodicity in y <br />|\n",
    "| defined_domain | array (Nx, Ny) | points on the meshgrid where velocity field is defined |\n",
    "| bool_unsteady | bool | specifies if velocity field is unsteady/steady |\n",
    "| dt_data | float | time spacing of the velocity data |\n",
    "| delta | list (3,) | delta[0]: x-grid spacing of the velocity data <br /> delta[1]: y-grid spacing of the velocity data|\n",
    "| u | float | $ u((\\mathbf{x}, t)) $ |\n",
    "| v | float | $ v((\\mathbf{x}, t)) $ |\n",
    "| dDF11dt | float | $ \\dfrac{dDF_{11}}{dt} $ |\n",
    "| dDF12dt | float | $ \\dfrac{dDF_{12}}{dt} $ |\n",
    "| dDF21dt | float | $ \\dfrac{dDF_{21}}{dt} $ |\n",
    "| dDF22dt | float | $ \\dfrac{dDF_{22}}{dt} $ |"
   ]
  },
  {
   "cell_type": "code",
   "execution_count": 1,
   "metadata": {
    "ExecuteTime": {
     "end_time": "2021-11-25T15:51:52.247948Z",
     "start_time": "2021-11-25T15:51:52.244611Z"
    }
   },
   "outputs": [],
   "source": [
    "import sys, os\n",
    "\n",
    "# get current directory\n",
    "path = os.getcwd()\n",
    "\n",
    "# get parent directory\n",
    "parent_directory = os.path.sep.join(path.split(os.path.sep)[:-1])\n",
    "\n",
    "# add Algorithm folder to current working path in order to access the functions\n",
    "sys.path.append(parent_directory+\"/utils\")"
   ]
  },
  {
   "cell_type": "code",
   "execution_count": 2,
   "metadata": {
    "ExecuteTime": {
     "end_time": "2021-11-25T15:51:52.689242Z",
     "start_time": "2021-11-25T15:51:52.249574Z"
    }
   },
   "outputs": [],
   "source": [
    "# Import numpy\n",
    "import numpy as np\n",
    "\n",
    "# Import function that computes velocity\n",
    "from ipynb.fs.defs.velocity import velocity\n",
    "\n",
    "# Import function that computes gradient of velocity\n",
    "from ipynb.fs.defs.gradient_velocity import gradient_velocity"
   ]
  },
  {
   "cell_type": "code",
   "execution_count": 3,
   "metadata": {
    "ExecuteTime": {
     "end_time": "2021-11-25T15:51:52.695323Z",
     "start_time": "2021-11-25T15:51:52.691260Z"
    }
   },
   "outputs": [],
   "source": [
    "def dxdt_eqVar(t, y, X, Y, Interpolant, periodic, defined_domain, bool_unsteady, dt_data, delta, aux_grid):\n",
    "    \n",
    "    # x/y position of particle\n",
    "    x = y[:2]\n",
    "    \n",
    "    # first row of DF\n",
    "    DF11, DF12, DF13 = y[2], y[3], y[4]\n",
    "    \n",
    "    # second row of DF\n",
    "    DF21, DF22, DF23 = y[5], y[6], y[7]\n",
    "    \n",
    "    # second row of DF\n",
    "    DF31, DF32, DF33 = y[8], y[9], y[10]\n",
    "    \n",
    "    DF = np.array([[y[2], y[3], y[4]], [y[5], y[6], y[7]], [y[8], y[9], y[10]]])\n",
    "    \n",
    "    dx_data = delta[0]\n",
    "    dy_data = delta[1]\n",
    "    dz_data = delta[2]\n",
    "    \n",
    "    # check if periodic in x\n",
    "    if periodic[0]:\n",
    "        \n",
    "        x[0] = x[0]%(X[0, -1, 0]-X[0, 0, 0])\n",
    "    \n",
    "    # check if periodic in y\n",
    "    if periodic[1]:\n",
    "        \n",
    "        x[1] = x[1]%(Y[-1, 0, 0]-Y[0, 0, 0])\n",
    "        \n",
    "    # check if periodic in y\n",
    "    if periodic[2]:\n",
    "        \n",
    "        x[2] = x[2]%(Z[0, 0, -1]-Z[0, 0, 0])\n",
    "    \n",
    "    vel = velocity(t, x, X, Y, Z, Interpolant, periodic, defined_domain, bool_unsteady, dt_data, delta)\n",
    "    \n",
    "    grad_vel = gradient_velocity(t, x, X, Y, Z, Interpolant, periodic, defined_domain, bool_unsteady, dt_data, delta, aux_grid)\n",
    "    \n",
    "    dDFdt = grad_vel@DF\n",
    "    \n",
    "    u = vel[0]\n",
    "    v = vel[1]\n",
    "    w = vel[2]\n",
    "    dDF11dt, dDF12dt = dDFdt[0,0], dDFdt[0, 1], dDFdt\n",
    "    dDF12dt = dDFdt[0,1]\n",
    "    dDF21dt = dDFdt[1,0]\n",
    "    dDF22dt = dDFdt[1,1]\n",
    "    \n",
    "    return [u, v, w, dDF11dt, dDF12dt, dDF21dt, dDF22dt]"
   ]
  }
 ],
 "metadata": {
  "kernelspec": {
   "display_name": "Python 3 (ipykernel)",
   "language": "python",
   "name": "python3"
  },
  "language_info": {
   "codemirror_mode": {
    "name": "ipython",
    "version": 3
   },
   "file_extension": ".py",
   "mimetype": "text/x-python",
   "name": "python",
   "nbconvert_exporter": "python",
   "pygments_lexer": "ipython3",
   "version": "3.7.11"
  },
  "toc": {
   "base_numbering": 1,
   "nav_menu": {},
   "number_sections": true,
   "sideBar": true,
   "skip_h1_title": false,
   "title_cell": "Table of Contents",
   "title_sidebar": "Contents",
   "toc_cell": false,
   "toc_position": {},
   "toc_section_display": true,
   "toc_window_display": false
  }
 },
 "nbformat": 4,
 "nbformat_minor": 4
}
