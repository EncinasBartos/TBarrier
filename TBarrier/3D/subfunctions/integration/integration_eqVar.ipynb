{
 "cells": [
  {
   "cell_type": "code",
   "execution_count": null,
   "metadata": {},
   "outputs": [],
   "source": [
    "# Import numpy\n",
    "import numpy as np\n",
    "\n",
    "# Import package to solve ODE\n",
    "from scipy.integrate import solve_ivp\n",
    "\n",
    "# function which evalutes Right-Hand-Side of differential equation of Lagrangian particle dynamics\n",
    "from ipynb.fs.defs.dxdt import dxdt"
   ]
  },
  {
   "cell_type": "code",
   "execution_count": 1,
   "metadata": {
    "ExecuteTime": {
     "end_time": "2021-11-24T08:19:40.607370Z",
     "start_time": "2021-11-24T08:19:40.600825Z"
    }
   },
   "outputs": [],
   "source": [
    "def integration(time, x, X, Y, Interpolant, periodic, defined_domain, bool_unsteady, dt_data, delta):\n",
    "        \n",
    "    # time-interval [t0,tN] over which to integrate\n",
    "    time_interval = [time[0], time[-1]]\n",
    "        \n",
    "    # time-array at which trajectory must be evaluated\n",
    "    t_eval = time.copy()\n",
    "        \n",
    "    # Step-size\n",
    "    dt = time[1]-time[0]\n",
    "                    \n",
    "    sol = solve_ivp(dxdt, time_interval, x, 'RK45', t_eval, rtol=1e-6, atol=1e-6, first_step = dt, args = (X, Y, Interpolant, periodic, defined_domain, bool_unsteady, dt_data, delta))\n",
    "          \n",
    "    # Initialize velocity array\n",
    "    velocity = np.zeros((2, len(time)))\n",
    "            \n",
    "    for i in range(sol.y.shape[1]-1):\n",
    "                \n",
    "        velocity[0, i] = (sol.y[0,i+1]-sol.y[0,i])/dt\n",
    "        velocity[1, i] = (sol.y[1,i+1]-sol.y[1,i])/dt\n",
    "        \n",
    "    trajectory = sol.y.copy()\n",
    "    \n",
    "    if periodic[0]:\n",
    "        \n",
    "        trajectory[0,:] = trajectory[0,:]%(X[0, -1]-X[0, 0])\n",
    "    \n",
    "    if periodic[1]:\n",
    "        \n",
    "        trajectory[1,:] = trajectory[1,:]%(Y[-1, 0]-Y[0, 0])\n",
    "            \n",
    "    return trajectory, velocity"
   ]
  }
 ],
 "metadata": {
  "kernelspec": {
   "display_name": "Python 3",
   "language": "python",
   "name": "python3"
  },
  "language_info": {
   "codemirror_mode": {
    "name": "ipython",
    "version": 3
   },
   "file_extension": ".py",
   "mimetype": "text/x-python",
   "name": "python",
   "nbconvert_exporter": "python",
   "pygments_lexer": "ipython3",
   "version": "3.7.11"
  },
  "toc": {
   "base_numbering": 1,
   "nav_menu": {},
   "number_sections": true,
   "sideBar": true,
   "skip_h1_title": false,
   "title_cell": "Table of Contents",
   "title_sidebar": "Contents",
   "toc_cell": false,
   "toc_position": {},
   "toc_section_display": true,
   "toc_window_display": false
  }
 },
 "nbformat": 4,
 "nbformat_minor": 4
}
