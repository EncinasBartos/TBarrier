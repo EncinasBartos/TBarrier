{
 "cells": [
  {
   "cell_type": "markdown",
   "metadata": {},
   "source": [
    "The evolution of a trajectory $ \\mathbf{x}(t;t0,\\mathbf{x_0}) $ as a function of its initial position $ \\mathbf{x_0} $ is described by the flow map\n",
    "\n",
    "$$ \\mathbf{F}_{t_0}^t : \\mathbf{x}_0 \\rightarrow \\mathbf{x}(t;t_0,\\mathbf{x_0}) $$\n",
    "\n",
    "Differentiation of the flow map $ {\\mathbf{F}}_{t_0}^t = \\begin{pmatrix} {F_1}_{t_0}^t \\\\ {F_2}_{t_0}^t \\\\ {F_3}_{t_0}^t \\end{pmatrix} $ with respect to time gives:\n",
    "\n",
    "\\begin{equation}\n",
    "\\dfrac{d}{dt}\\mathbf{F}_{t_0}^t(\\mathbf{x_0}) = \\mathbf{v}(\\mathbf{F}_{t_0}^t(\\mathbf{x_0}), t) = \\begin{pmatrix} u(\\mathbf{F}_{t_0}^t(\\mathbf{x_0}), t) \\\\ v(\\mathbf{F}_{t_0}^t(\\mathbf{x_0}), t) \\\\ w(\\mathbf{F}_{t_0}^t(\\mathbf{x_0}), t) \\end{pmatrix}\n",
    "\\label{eq: dFdt},\n",
    "\\end{equation}\n",
    "\n",
    "with $ \\mathbf{v}(\\mathbf{F}_{t_0}^t(\\mathbf{x_0}), t) = \\begin{pmatrix} u(\\mathbf{F}_{t_0}^t(\\mathbf{x_0}), t) \\\\ u(\\mathbf{F}_{t_0}^t(\\mathbf{x_0}), t) \\\\ w(\\mathbf{F}_{t_0}^t(\\mathbf{x_0}), t) \\end{pmatrix} $ being the velocity field.\n",
    "\n",
    "| Name | Type (Shape) | Description |\n",
    "| --- | --- | --- |\n",
    "| t | float | time |\n",
    "| x | array (3,) | $ \\mathbf{x} $ |\n",
    "| X | array (Ny, Nx, Nz) | X-meshgrid|\n",
    "| Y | array (Ny, Nx, Nz) | Y-meshgrid|\n",
    "| Z | array (Ny, Nx, Nz) | Z-meshgrid|\n",
    "| Interpolant | list (3,) | Interpolant[0]: Interpolant object for $ u(\\mathbf{x}, t)  $ <br /> Interpolant[1]: Interpolant object for $ v(\\mathbf{x}, t)  $ <br /> Interpolant[2]: Interpolant object for $ w(\\mathbf{x}, t)  $ |\n",
    "| periodic | list (3,) | periodic[0]: periodicity in x <br /> periodic[1]: periodicity in y <br /> periodic[2]: periodicity in z <br />|\n",
    "| bool_unsteady | bool | specifies if velocity field is unsteady/steady |\n",
    "| v | float | $ u(\\mathbf{x}, t) $ |\n",
    "| v | float | $ v(\\mathbf{x}, t) $ |\n",
    "| w | float | $ w(\\mathbf{x}, t) $ |"
   ]
  },
  {
   "cell_type": "code",
   "execution_count": 1,
   "metadata": {
    "ExecuteTime": {
     "end_time": "2021-11-25T17:05:36.316405Z",
     "start_time": "2021-11-25T17:05:36.313237Z"
    }
   },
   "outputs": [],
   "source": [
    "import sys, os\n",
    "\n",
    "# get current directory\n",
    "path = os.getcwd()\n",
    "\n",
    "# get parent directory\n",
    "parent_directory = os.path.sep.join(path.split(os.path.sep)[:-1])\n",
    "\n",
    "# add Algorithm folder to current working path in order to access the functions\n",
    "sys.path.append(parent_directory+\"/utils\")"
   ]
  },
  {
   "cell_type": "code",
   "execution_count": 2,
   "metadata": {
    "ExecuteTime": {
     "end_time": "2021-11-25T17:05:36.776018Z",
     "start_time": "2021-11-25T17:05:36.318254Z"
    }
   },
   "outputs": [],
   "source": [
    "# Import numpy\n",
    "import numpy as np\n",
    "\n",
    "# Import function that computes velocity\n",
    "from ipynb.fs.defs.velocity import velocity"
   ]
  },
  {
   "cell_type": "code",
   "execution_count": 3,
   "metadata": {
    "ExecuteTime": {
     "end_time": "2021-11-25T17:05:36.781722Z",
     "start_time": "2021-11-25T17:05:36.777910Z"
    }
   },
   "outputs": [],
   "source": [
    "def dFdt(t, x, X, Y, Z, Interpolant, periodic, bool_unsteady):\n",
    "    \n",
    "    # check if periodic in x\n",
    "    if periodic[0]:\n",
    "        \n",
    "        x[0] = x[0]%(X[0, -1, 0]-X[0, 0, 0])\n",
    "    \n",
    "    # check if periodic in y\n",
    "    if periodic[1]:\n",
    "        \n",
    "        x[1] = x[1]%(Y[-1, 0, 0]-Y[0, 0, 0])\n",
    "    \n",
    "    # check if periodic in z\n",
    "    if periodic[2]:\n",
    "        \n",
    "        x[2] = x[2]%(Z[0, 0, -1]-Z[0, 0, 0])\n",
    "    \n",
    "    vel = velocity(t, x, X, Y, Z, Interpolant, periodic, bool_unsteady)\n",
    "    \n",
    "    return vel"
   ]
  }
 ],
 "metadata": {
  "kernelspec": {
   "display_name": "Python 3 (ipykernel)",
   "language": "python",
   "name": "python3"
  },
  "language_info": {
   "codemirror_mode": {
    "name": "ipython",
    "version": 3
   },
   "file_extension": ".py",
   "mimetype": "text/x-python",
   "name": "python",
   "nbconvert_exporter": "python",
   "pygments_lexer": "ipython3",
   "version": "3.7.11"
  },
  "toc": {
   "base_numbering": 1,
   "nav_menu": {},
   "number_sections": true,
   "sideBar": true,
   "skip_h1_title": false,
   "title_cell": "Table of Contents",
   "title_sidebar": "Contents",
   "toc_cell": false,
   "toc_position": {},
   "toc_section_display": true,
   "toc_window_display": false
  }
 },
 "nbformat": 4,
 "nbformat_minor": 4
}
