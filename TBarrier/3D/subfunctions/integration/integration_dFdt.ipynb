{
 "cells": [
  {
   "cell_type": "markdown",
   "metadata": {
    "ExecuteTime": {
     "end_time": "2021-11-26T17:55:20.205572Z",
     "start_time": "2021-11-26T17:55:20.186598Z"
    }
   },
   "source": [
    "| Name | Type (Shape) | Description |\n",
    "| --- | --- | --- |\n",
    "| time | array (N,) | time |\n",
    "| x | array (3,) | $ \\mathbf{x} $ |\n",
    "| X | array (NY, NX, NZ) | X-meshgrid|\n",
    "| Y | array (NY, NX, NZ) | Y-meshgrid|\n",
    "| Z | array (NY, NX, NZ) | Y-meshgrid|\n",
    "| Interpolant_u | RectangularGridInterpolator | Interpolant object for $ u(\\mathbf{x}, t)  $ |\n",
    "| Interpolant_v | RectangularGridInterpolator | Interpolant object for $ v(\\mathbf{x}, t)  $ |\n",
    "| Interpolant_w | RectangularGridInterpolator | Interpolant object for $ w(\\mathbf{x}, t)  $ |\n",
    "| periodic | list (4,) | periodic[0]: periodicity in x <br /> periodic[1]: periodicity in y <br /> periodic[2]: periodicity in z <br /> periodic[3]: periodicity in time |\n",
    "| bool_unsteady | bool | specifies if velocity field is unsteady/steady |\n",
    "| Fmap | array (3,N) | integrated trajectory (=flow map) |\n",
    "| dFdt | array (3,N) | velocity along trajectories (=time derivative of flow map) |"
   ]
  },
  {
   "cell_type": "code",
   "execution_count": 1,
   "metadata": {
    "ExecuteTime": {
     "end_time": "2022-02-08T17:08:41.221541Z",
     "start_time": "2022-02-08T17:08:41.217552Z"
    },
    "code_folding": [
     0
    ]
   },
   "outputs": [],
   "source": [
    "# import sys/os\n",
    "import sys, os\n",
    "\n",
    "# get current directory\n",
    "path = os.getcwd()\n",
    "\n",
    "# get parent directory\n",
    "parent_directory = os.path.sep.join(path.split(os.path.sep)[:-1])\n",
    "\n",
    "# add utils folder to current working path in order to access the functions\n",
    "sys.path.append(parent_directory+\"/utils\")"
   ]
  },
  {
   "cell_type": "code",
   "execution_count": 1,
   "metadata": {
    "ExecuteTime": {
     "end_time": "2022-02-11T17:39:36.166463Z",
     "start_time": "2022-02-11T17:39:36.076758Z"
    },
    "code_folding": [
     0
    ]
   },
   "outputs": [],
   "source": [
    "# Import numpy\n",
    "import numpy as np\n",
    "\n",
    "# Import function to compute velocity\n",
    "from ipynb.fs.defs.velocity import velocity"
   ]
  },
  {
   "cell_type": "code",
   "execution_count": 4,
   "metadata": {
    "ExecuteTime": {
     "end_time": "2022-01-10T22:39:49.277112Z",
     "start_time": "2022-01-10T22:39:49.258178Z"
    },
    "code_folding": [],
    "run_control": {
     "marked": true
    }
   },
   "outputs": [],
   "source": [
    "def integration_dFdt(time, x, X, Y, Z, Interpolant_u, Interpolant_v, Interpolant_w, periodic, bool_unsteady):\n",
    "    \n",
    "    # reshape x\n",
    "    x = x.reshape(3, -1) # reshape array (3, Nx*Ny*Nz)\n",
    "    \n",
    "    # Initialize arrays for flow map and derivative of flow map\n",
    "    Fmap = np.zeros((len(time), 3, x.shape[1])) # array (Nt, 3, Nx*Ny*Nz)\n",
    "    dFdt = np.zeros((len(time)-1, 3, x.shape[1])) # array (Nt-1, 3, Nx*Ny*Nz)\n",
    "    \n",
    "    # Step-size\n",
    "    dt = time[1]-time[0] # float\n",
    "    \n",
    "    counter = 0 # int\n",
    "\n",
    "    # initial conditions\n",
    "    Fmap[counter,:,:] = x\n",
    "    \n",
    "    # Runge Kutta 4th order integration with fixed step size dt\n",
    "    for t in time[:-1]:\n",
    "        \n",
    "        if np.around((t-time[0])/(time[-1]-time[0])*1000,4)%10 == 0:\n",
    "            print('Percentage completed: ', np.around((t-time[0])/(time[-1]-time[0]), 4))\n",
    "        \n",
    "        Fmap[counter+1,:, :], dFdt[counter,:,:] = RK4_step(t, Fmap[counter,:, :], dt, X, Y, Z, Interpolant_u, Interpolant_v, Interpolant_w, periodic, bool_unsteady)[:2]\n",
    "    \n",
    "        counter += 1\n",
    "    \n",
    "    return Fmap, dFdt"
   ]
  },
  {
   "cell_type": "code",
   "execution_count": null,
   "metadata": {
    "code_folding": [
     0
    ]
   },
   "outputs": [],
   "source": [
    "def RK4_step(t, x1, dt, X, Y, Z, Interpolant_u, Interpolant_v, Interpolant_w, periodic, bool_unsteady):\n",
    "    \n",
    "    t0 = t # float\n",
    "    \n",
    "    # Compute x_prime at the beginning of the time-step by re-orienting and rescaling the vector field\n",
    "    x_prime = velocity(t, x1, X, Y, Z, Interpolant_u, Interpolant_v, Interpolant_w, periodic, bool_unsteady) # array(3, Nx*Ny*Nz)\n",
    "    \n",
    "    # compute derivative\n",
    "    k1 = dt * x_prime # array(3, Nx*Ny*Nz)\n",
    "    \n",
    "    # Update position at the first midpoint.\n",
    "    x2 = x1 + .5 * k1 # array(3, Nx*Ny*Nz)\n",
    "     \n",
    "    # Update time\n",
    "    t = t0 + .5*dt # float\n",
    "    \n",
    "    # Compute x_prime at the first midpoint.\n",
    "    x_prime = velocity(t, x2, X, Y, Z, Interpolant_u, Interpolant_v, Interpolant_w, periodic, bool_unsteady) # array(3, Nx*Ny*Nz)\n",
    "    \n",
    "    # compute derivative\n",
    "    k2 = dt * x_prime # array(3, Nx*Ny*Nz)\n",
    "\n",
    "    # Update position at the second midpoint.\n",
    "    x3 = x1 + .5 * k2 # array(3, Nx*Ny*Nz)\n",
    "    \n",
    "    # Update time\n",
    "    t = t0 + .5*dt # float\n",
    "    \n",
    "    # Compute x_prime at the second midpoint.\n",
    "    x_prime = velocity(t, x3, X, Y, Z, Interpolant_u, Interpolant_v, Interpolant_w, periodic, bool_unsteady) # array(3, Nx*Ny*Nz)\n",
    "    \n",
    "    # compute derivative\n",
    "    k3 = dt * x_prime # array(3, Nx*Ny*Nz)\n",
    "    \n",
    "    # Update position at the endpoint.\n",
    "    x4 = x1 + k3 # array(3, Nx*Ny*Nz)\n",
    "    \n",
    "    # Update time\n",
    "    t = t0+dt # float\n",
    "    \n",
    "    # Compute derivative at the end of the time-step.\n",
    "    x_prime = velocity(t, x4, X, Y, Z, Interpolant_u, Interpolant_v, Interpolant_w, periodic, bool_unsteady) # array(3, Nx*Ny*Nz)\n",
    "    \n",
    "    # compute derivative\n",
    "    k4 = dt * x_prime\n",
    "    \n",
    "    # Compute RK4 derivative\n",
    "    y_prime_update = 1.0 / 6.0*(k1 + 2 * k2 + 2 * k3 + k4) # array(3, Nx*Ny*Nz)\n",
    "    \n",
    "    # Integration y <-- y + y_primeupdate\n",
    "    y_update = x1 + y_prime_update # array(3, Nx*Ny*Nz)\n",
    "    \n",
    "    return y_update, y_prime_update/dt"
   ]
  }
 ],
 "metadata": {
  "kernelspec": {
   "display_name": "Python 3",
   "language": "python",
   "name": "python3"
  },
  "language_info": {
   "codemirror_mode": {
    "name": "ipython",
    "version": 3
   },
   "file_extension": ".py",
   "mimetype": "text/x-python",
   "name": "python",
   "nbconvert_exporter": "python",
   "pygments_lexer": "ipython3",
   "version": "3.7.11"
  },
  "toc": {
   "base_numbering": 1,
   "nav_menu": {},
   "number_sections": true,
   "sideBar": true,
   "skip_h1_title": false,
   "title_cell": "Table of Contents",
   "title_sidebar": "Contents",
   "toc_cell": false,
   "toc_position": {},
   "toc_section_display": true,
   "toc_window_display": false
  }
 },
 "nbformat": 4,
 "nbformat_minor": 4
}
