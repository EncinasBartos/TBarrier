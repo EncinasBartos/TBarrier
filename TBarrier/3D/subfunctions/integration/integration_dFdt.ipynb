{
 "cells": [
  {
   "cell_type": "markdown",
   "metadata": {
    "ExecuteTime": {
     "end_time": "2021-11-26T17:55:20.205572Z",
     "start_time": "2021-11-26T17:55:20.186598Z"
    }
   },
   "source": [
    "| Name | Type (Shape) | Description |\n",
    "| --- | --- | --- |\n",
    "| time | array (N,) | time |\n",
    "| x | array (3,) | $ \\mathbf{x} $ |\n",
    "| X | array (NY, NX, NZ) | X-meshgrid|\n",
    "| Y | array (NY, NX, NZ) | Y-meshgrid|\n",
    "| Z | array (NY, NX, NZ) | Y-meshgrid|\n",
    "| Interpolant_u | RectangularGridInterpolator | Interpolant object for $ u(\\mathbf{x}, t)  $ |\n",
    "| Interpolant_v | RectangularGridInterpolator | Interpolant object for $ v(\\mathbf{x}, t)  $ |\n",
    "| Interpolant_w | RectangularGridInterpolator | Interpolant object for $ w(\\mathbf{x}, t)  $ |\n",
    "| periodic | list (4,) | periodic[0]: periodicity in x <br /> periodic[1]: periodicity in y <br /> periodic[2]: periodicity in z <br /> periodic[3]: periodicity in time |\n",
    "| bool_unsteady | bool | specifies if velocity field is unsteady/steady |\n",
    "| Fmap | array (3,N) | integrated trajectory (=flow map) |\n",
    "| dFdt | array (3,N) | velocity along trajectories (=time derivative of flow map) |\n",
    "| DF | array (3,3,N) | gradient of flow map at every time-step |"
   ]
  },
  {
   "cell_type": "code",
   "execution_count": 1,
   "metadata": {
    "ExecuteTime": {
     "end_time": "2022-01-10T11:21:04.190997Z",
     "start_time": "2022-01-10T11:21:04.182021Z"
    }
   },
   "outputs": [],
   "source": [
    "import sys, os\n",
    "\n",
    "# get current directory\n",
    "path = os.getcwd()\n",
    "\n",
    "# get parent directory\n",
    "parent_directory = os.path.sep.join(path.split(os.path.sep)[:-1])\n",
    "\n",
    "# add utils folder to current working path in order to access the functions\n",
    "sys.path.append(parent_directory+\"/utils\")"
   ]
  },
  {
   "cell_type": "code",
   "execution_count": 2,
   "metadata": {
    "ExecuteTime": {
     "end_time": "2022-01-10T11:21:04.627954Z",
     "start_time": "2022-01-10T11:21:04.540098Z"
    }
   },
   "outputs": [],
   "source": [
    "# Import numpy\n",
    "import numpy as np\n",
    "\n",
    "# Import function to compute RK4 step\n",
    "from ipynb.fs.defs.RK4_step import RK4_step\n",
    "\n",
    "from tqdm.notebook import tqdm"
   ]
  },
  {
   "cell_type": "code",
   "execution_count": 4,
   "metadata": {
    "ExecuteTime": {
     "end_time": "2022-01-10T22:39:49.277112Z",
     "start_time": "2022-01-10T22:39:49.258178Z"
    }
   },
   "outputs": [],
   "source": [
    "def integration_dFdt(time, x, X, Y, Z, Interpolant_u, Interpolant_v, Interpolant_w, periodic, bool_unsteady):\n",
    "    \n",
    "    # reshape x\n",
    "    x = x.reshape(3, -1)\n",
    "    \n",
    "    # Initialize arrays for flow map and derivative of flow map\n",
    "    Fmap = np.zeros((len(time), 3, x.shape[1]))\n",
    "    dFdt = np.zeros((len(time)-1, 3, x.shape[1]))\n",
    "    \n",
    "    # Step-size\n",
    "    dt = time[1]-time[0]\n",
    "    \n",
    "    counter = 0\n",
    "\n",
    "    # initial conditions\n",
    "    Fmap[counter,:,:] = x\n",
    "    \n",
    "    # Runge Kutta 4th order integration with fixed step size dt\n",
    "    for t in tqdm(time[:-1]):\n",
    "        \n",
    "        Fmap[counter+1,:, :], dFdt[counter,:,:] = RK4_step(t, Fmap[counter,:, :], dt, X, Y, Z, Interpolant_u, Interpolant_v, Interpolant_w, periodic, bool_unsteady)\n",
    "    \n",
    "        counter += 1\n",
    "    \n",
    "    return Fmap, dFdt"
   ]
  }
 ],
 "metadata": {
  "kernelspec": {
   "display_name": "Python 3",
   "language": "python",
   "name": "python3"
  },
  "language_info": {
   "codemirror_mode": {
    "name": "ipython",
    "version": 3
   },
   "file_extension": ".py",
   "mimetype": "text/x-python",
   "name": "python",
   "nbconvert_exporter": "python",
   "pygments_lexer": "ipython3",
   "version": "3.7.12"
  },
  "toc": {
   "base_numbering": 1,
   "nav_menu": {},
   "number_sections": true,
   "sideBar": true,
   "skip_h1_title": false,
   "title_cell": "Table of Contents",
   "title_sidebar": "Contents",
   "toc_cell": false,
   "toc_position": {},
   "toc_section_display": true,
   "toc_window_display": false
  }
 },
 "nbformat": 4,
 "nbformat_minor": 4
}
