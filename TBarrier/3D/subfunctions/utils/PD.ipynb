{
 "cells": [
  {
   "cell_type": "markdown",
   "metadata": {},
   "source": [
    "This function computes the Polar Decomposition (PD) of the $ 2\\times 2$ deformation gradient $ \\mathbf{\\nabla F_{t_0}^t(\\mathbf{x}_0)} $:\n",
    "\n",
    "\\begin{equation}\n",
    "\\mathbf{\\nabla F_{t_0}^t(\\mathbf{x}_0)} = \\mathbf{R}_{t_0}^t(\\mathbf{x}_0)\\mathbf{U}_{t_0}^t(\\mathbf{x}_0) = \\mathbf{V}_{t_0}^t(\\mathbf{x}_0)\\mathbf{R}_{t_0}^t(\\mathbf{x}_0), \n",
    "\\end{equation} with the proper orthogonal rotation tensor $ \\mathbf{R}^t_{t_0} $, the symmetric and positive definite right stretch tensor $ \\mathbf{U}_{t_0}^t $ and the symmetric and positive definite left stretch tensor $ \\mathbf{V}_{t_0}^t $ given by:\n",
    "\n",
    "\\begin{equation}\n",
    "\\mathbf{U}_{t_0}^t(\\mathbf{x}_0) = [\\mathbf{C}_{t_0}^t(\\mathbf{x}_0)]^{1/2}\n",
    "\\end{equation}\n",
    "\n",
    "\\begin{equation}\n",
    "\\mathbf{V}_{t_0}^t(\\mathbf{x}_0) = [\\mathbf{B}_{t_0}^t(\\mathbf{x}_0)]^{1/2}\n",
    "\\end{equation}\n",
    "\n",
    "\\begin{equation}\n",
    "\\mathbf{R}_{t_0}^t(\\mathbf{x}_0) = \\mathbf{\\nabla F}_{t_0}^t(\\mathbf{x}_0)[\\mathbf{U}_{t_0}^t(\\mathbf{x}_0)]^{-1} = [\\mathbf{V}_{t_0}^t(\\mathbf{x}_0)]^{-1}\\mathbf{\\nabla F}_{t_0}^t(\\mathbf{x}_0)\n",
    "\\end{equation}\n",
    "\n",
    "$ \\mathbf{C}_{t_0}^t(\\mathbf{x}_0) $ and $ \\mathbf{B}_{t_0}^t(\\mathbf{x}_0) $ respectively denote the left and right Cauchy-Green strain tensor.\n",
    "\n",
    "Given a Singular Value Decomposition (SVD) of the $ 2\\times 2$ deformation gradient $ \\mathbf{\\nabla F_{t_0}^t(\\mathbf{x}_0)} $:\n",
    "\\begin{equation}\n",
    "\\mathbf{\\nabla F}_{t_0}^t(\\mathbf{x}_0) = \\mathbf{P}_{t_0}^t(\\mathbf{x}_0) \\Sigma_{t_0}^t(\\mathbf{x}_0) {\\mathbf{Q}_{t_0}^t(\\mathbf{x}_0)}^T\n",
    "\\end{equation}\n",
    "\n",
    "The PD is related to the SVD as:\n",
    "\n",
    "\\begin{equation}\n",
    "\\mathbf{U}_{t_0}^{t}(\\mathbf{x}_0) = \\mathbf{Q}_{t_0}^{t}(\\mathbf{x}_0)\\Sigma(\\mathbf{x}_0)\\mathbf{Q}_{t_0}^{t}(\\mathbf{x}_0)^T\n",
    "\\end{equation}\n",
    "\n",
    "\\begin{equation}\n",
    "\\mathbf{R}_{t_0}^{t}(\\mathbf{x}_0) = \\mathbf{P}_{t_0}^{t}(\\mathbf{x}_0)\\mathbf{Q}_{t_0}^{t}(\\mathbf{x}_0)^T\n",
    "\\end{equation}"
   ]
  },
  {
   "cell_type": "markdown",
   "metadata": {
    "ExecuteTime": {
     "end_time": "2021-11-25T09:45:16.626018Z",
     "start_time": "2021-11-25T09:45:16.622076Z"
    }
   },
   "source": [
    "| Name | Type (Shape) | Description |\n",
    "| --- | --- | --- |\n",
    "| gradFmap | array (3, 3) | $ \\mathbf{\\nabla F_{t_0}^t(\\mathbf{x}_0)} $ |\n",
    "| W_avg | array (3, 3, Nt) | $ \\mathbf{\\overline{W}}(\\mathbf{x}(t)) $|\n",
    "| U | array (3, 3) | $ \\mathbf{U}_{t_0}^t(\\mathbf{x}_0) $|\n",
    "| V | array (3, 3) | $ \\mathbf{V}_{t_0}^t(\\mathbf{x}_0) $|\n",
    "| R | array (3, 3) | $ \\mathbf{R}_{t_0}^t(\\mathbf{x}_0) $|"
   ]
  },
  {
   "cell_type": "code",
   "execution_count": 32,
   "metadata": {
    "ExecuteTime": {
     "end_time": "2021-12-21T21:00:09.876573Z",
     "start_time": "2021-12-21T21:00:09.865603Z"
    }
   },
   "outputs": [],
   "source": [
    "# Import numpy\n",
    "import numpy as np\n",
    "\n",
    "# Import math tools\n",
    "from math import sqrt, cos, sin, atan2\n",
    "\n",
    "# import function to compute SVD\n",
    "from ipynb.fs.defs.SVD import SVD"
   ]
  },
  {
   "cell_type": "code",
   "execution_count": 49,
   "metadata": {
    "ExecuteTime": {
     "end_time": "2021-12-21T21:05:07.853374Z",
     "start_time": "2021-12-21T21:05:07.833428Z"
    }
   },
   "outputs": [],
   "source": [
    "def PD(gradFmap):\n",
    "\n",
    "    # compute SVD\n",
    "    P, SIG, Q = SVD(gradFmap)\n",
    "    \n",
    "    U = Q@SIG@Q.transpose()\n",
    "    R = P@Q.transpose()\n",
    "    V = gradFmap@np.linalg.inv(R)\n",
    "    \n",
    "    return R, U, V"
   ]
  }
 ],
 "metadata": {
  "kernelspec": {
   "display_name": "Python 3",
   "language": "python",
   "name": "python3"
  },
  "language_info": {
   "codemirror_mode": {
    "name": "ipython",
    "version": 3
   },
   "file_extension": ".py",
   "mimetype": "text/x-python",
   "name": "python",
   "nbconvert_exporter": "python",
   "pygments_lexer": "ipython3",
   "version": "3.7.11"
  },
  "latex_envs": {
   "LaTeX_envs_menu_present": true,
   "autoclose": false,
   "autocomplete": true,
   "bibliofile": "biblio.bib",
   "cite_by": "apalike",
   "current_citInitial": 1,
   "eqLabelWithNumbers": true,
   "eqNumInitial": 1,
   "hotkeys": {
    "equation": "Ctrl-E",
    "itemize": "Ctrl-I"
   },
   "labels_anchors": false,
   "latex_user_defs": false,
   "report_style_numbering": false,
   "user_envs_cfg": false
  },
  "toc": {
   "base_numbering": 1,
   "nav_menu": {},
   "number_sections": true,
   "sideBar": true,
   "skip_h1_title": false,
   "title_cell": "Table of Contents",
   "title_sidebar": "Contents",
   "toc_cell": false,
   "toc_position": {},
   "toc_section_display": true,
   "toc_window_display": false
  }
 },
 "nbformat": 4,
 "nbformat_minor": 4
}
