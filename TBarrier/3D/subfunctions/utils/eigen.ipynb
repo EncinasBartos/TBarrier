{
 "cells": [
  {
   "cell_type": "markdown",
   "metadata": {},
   "source": [
    "The function computes the eigenvalues and eigenvectors of a two-dimensional symmetric matrix."
   ]
  },
  {
   "cell_type": "markdown",
   "metadata": {
    "ExecuteTime": {
     "end_time": "2021-11-25T09:45:16.626018Z",
     "start_time": "2021-11-25T09:45:16.622076Z"
    }
   },
   "source": [
    "| Name | Type (Shape) | Description |\n",
    "| --- | --- | --- |\n",
    "| C | array (3,3) | $ C $|\n",
    "| [eig1, eig2, eig3] | list | list of eigenvalues (in increasing order) of $ C $|\n",
    "| eigenvector | array (3,3) | eigenvectors of $ C $|"
   ]
  },
  {
   "cell_type": "code",
   "execution_count": 22,
   "metadata": {
    "ExecuteTime": {
     "end_time": "2021-11-26T19:13:52.712592Z",
     "start_time": "2021-11-26T19:13:52.701591Z"
    }
   },
   "outputs": [],
   "source": [
    "# Import numpy\n",
    "import numpy as np\n",
    "\n",
    "# Import math tools\n",
    "from math import sqrt, acos, pi, cos"
   ]
  },
  {
   "cell_type": "code",
   "execution_count": 23,
   "metadata": {
    "ExecuteTime": {
     "end_time": "2021-11-26T19:13:53.212316Z",
     "start_time": "2021-11-26T19:13:53.188380Z"
    }
   },
   "outputs": [],
   "source": [
    "def eigen(C):\n",
    "    \n",
    "    p1 = C[0,1]*C[1,0] + C[0,2]*C[2,0] + C[1,2]*C[2,1]\n",
    "    \n",
    "    if p1 == 0:\n",
    "        # A is diagonal.\n",
    "        eig1 = C[0,0]\n",
    "        eig2 = C[1,1]\n",
    "        eig3 = C[2,2]\n",
    "    else:\n",
    "        traceC = C[0,0]+C[1,1]+C[2,2]\n",
    "        q = traceC/3               # trace(A) is the sum of all diagonal values\n",
    "        p2 = (C[0, 0] - q)**2 + (C[1,1] - q)**2 + (C[2,2] - q)**2 + 2 * p1\n",
    "        p = sqrt(p2 / 6)\n",
    "        B = (1 / p) * (C - q * np.eye(3, 3))\n",
    "        r = np.linalg.det(B) / 2\n",
    "\n",
    "       # In exact arithmetic for a symmetric matrix  -1 <= r <= 1\n",
    "       # but computation error can leave it slightly outside this range.\n",
    "        if r <= -1:\n",
    "            phi = pi / 3\n",
    "        elif r >= 1:\n",
    "            phi = 0\n",
    "        else:\n",
    "            phi = acos(r) / 3\n",
    "\n",
    "       # the eigenvalues satisfy eig3 <= eig2 <= eig1\n",
    "        eig1 = q + 2 * p * cos(phi)\n",
    "        eig3 = q + 2 * p * cos(phi + (2*pi/3))\n",
    "        eig2 = 3 * q - eig1 - eig3     # since trace(A) = eig1 + eig2 + eig3\n",
    "    \n",
    "    eigenvector = []\n",
    "    \n",
    "    for eig in [eig1, eig2, eig3]:\n",
    "        if eig != C[0,0]:\n",
    "            A = C[0,1]*C[1,0]/(eig-C[0,0])+C[1,1]-eig\n",
    "            B = C[1,0]*C[0,2]/(eig-C[0,0])+C[1,2]\n",
<<<<<<< HEAD
    "            \n",
    "            # numerical threshold\n",
=======
>>>>>>> 9f629d66ae56f4b85feb5c441d44a74d1f3b2bba
    "            if np.abs(A) >= 10**(-8):\n",
    "                s3 = 1\n",
    "                s2 = -B/A\n",
    "                s1 = C[0,1]/(eig-C[0,0]) * s2 + C[0,2]/(eig-C[0,0])\n",
    "            else:\n",
    "                s2 = 1\n",
    "                s3 = 0\n",
    "                s1 = C[0,1]/(eig-C[0,0])\n",
    "        \n",
    "        # Assume that C[0,0] is equal to the eigenvalue but C[1,1] is not\n",
    "        if eig == C[0, 0] and eig != C[1, 1]:\n",
    "        \n",
    "            A = C[1, 2] * C[2, 1]/(eig-C[1, 1])+C[2, 2]-eig\n",
    "            B = C[1, 2] * C[1, 0]/(eig-C[1, 1])+C[2, 0]\n",
    "            if A != 0:\n",
    "                s1 = 1\n",
    "                s3 = -B/A\n",
    "                s2 = C[1, 0]/(eig-C[1, 1])+C[1, 2]/(eig-C[1, 1])*s3\n",
    "            elif A== 0 and B!= 0:\n",
    "                s3 = 1\n",
    "                s1 = 0\n",
    "                s2 = C[1, 2]/(eig-C[1,1])\n",
    "            \n",
    "        # Assume that C[0,0] and C[1,1] are equal to the eigenvalue but C[2,2] is not\n",
    "        if C[0, 0] == eig and C[1, 1] == eig and C[2, 2] != eig:\n",
    "            A = C[1, 2] * C[2, 0]/(eig-C[2, 2])+C[1, 0]\n",
    "            B = C[2, 1]*C[1,2]/(eig-C[2, 2])\n",
    "            if A!=0:\n",
    "                s2 =1\n",
    "                s1 = -B/A\n",
    "                s3 = C[2,0]/(eig-C[2,2])*s1+C[2,1]/(eig-C[2,2])*s2\n",
    "            elif A == 0 and B!= 0:\n",
    "                s1 = 1\n",
    "                s2 = 0\n",
    "                s3 = C[2,0]/(eig-C[2,2])\n",
    "                \n",
    "        # Assume that Z is the eigendirection (trivial 2Dflow)\n",
    "        if C[0, 0] == eig and C[1, 1] == eig and C[2, 2] == eig and eig == 0:\n",
    "            s1 = 0\n",
    "            s2 = 0\n",
    "            s3 = 1\n",
    "    \n",
    "        # normalize eigenvector\n",
    "        norm = sqrt(s1**2+s2**2+s3**2)\n",
    "        s1 = s1/norm\n",
    "        s2 = s2/norm\n",
    "        s3 = s3/norm\n",
    "        \n",
    "        eigenvector.append([s1, s2, s3])\n",
    "\n",
    "    return np.array([eig1, eig2, eig3]), np.array(eigenvector).transpose()"
   ]
  }
 ],
 "metadata": {
  "kernelspec": {
   "display_name": "Python 3",
   "language": "python",
   "name": "python3"
  },
  "language_info": {
   "codemirror_mode": {
    "name": "ipython",
    "version": 3
   },
   "file_extension": ".py",
   "mimetype": "text/x-python",
   "name": "python",
   "nbconvert_exporter": "python",
   "pygments_lexer": "ipython3",
   "version": "3.7.12"
  },
  "latex_envs": {
   "LaTeX_envs_menu_present": true,
   "autoclose": false,
   "autocomplete": true,
   "bibliofile": "biblio.bib",
   "cite_by": "apalike",
   "current_citInitial": 1,
   "eqLabelWithNumbers": true,
   "eqNumInitial": 1,
   "hotkeys": {
    "equation": "Ctrl-E",
    "itemize": "Ctrl-I"
   },
   "labels_anchors": false,
   "latex_user_defs": false,
   "report_style_numbering": false,
   "user_envs_cfg": false
  },
  "toc": {
   "base_numbering": 1,
   "nav_menu": {},
   "number_sections": true,
   "sideBar": true,
   "skip_h1_title": false,
   "title_cell": "Table of Contents",
   "title_sidebar": "Contents",
   "toc_cell": false,
   "toc_position": {},
   "toc_section_display": true,
   "toc_window_display": false
  }
 },
 "nbformat": 4,
 "nbformat_minor": 4
}
