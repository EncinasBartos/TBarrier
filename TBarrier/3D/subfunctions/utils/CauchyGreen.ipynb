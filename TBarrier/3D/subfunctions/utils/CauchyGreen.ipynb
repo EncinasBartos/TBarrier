{
 "cells": [
  {
   "cell_type": "markdown",
   "metadata": {},
   "source": [
    "This function computes the Cauchy Green strain tensor $ C_{t_0}^{t}(\\mathbf{x_0}) $ from the gradient of the flow map $ \\nabla \\mathbf{F}_{t_0}^{t}(\\mathbf{x_0}) $.\n",
    "\n",
    "| Name | Type (Shape) | Description |\n",
    "| --- | --- | --- |\n",
    "| gradFmap | array (3,3) | $ \\nabla \\mathbf{F}_{t_0}^{t}(\\mathbf{x_0}) $ |\n",
    "| C | array (2,2) | $ C_{t_0}^{t}(\\mathbf{x_0}) $ |"
   ]
  },
  {
   "cell_type": "code",
   "execution_count": null,
   "metadata": {},
   "outputs": [],
   "source": [
    "def CauchyGreen(gradFmap):\n",
    "    '''\n",
    "    Compute the Cauchy-Green strain tensor given the gradient of the flowmap.\n",
    "    Parameters:\n",
    "        gradFmap: array(3,3) \n",
    "        \n",
    "    Returns:\n",
    "        C: array(3,3) C = (gradFmap)^T (gradFmap)\n",
    "    \n",
    "    ''' \n",
    "    ### Compute right Cauchy-Green-Strain tensor\n",
    "    C = gradFmap.transpose()@gradFmap\n",
    "                    \n",
    "    return C"
   ]
  }
 ],
 "metadata": {
  "kernelspec": {
   "display_name": "Python 3",
   "language": "python",
   "name": "python3"
  },
  "language_info": {
   "codemirror_mode": {
    "name": "ipython",
    "version": 3
   },
   "file_extension": ".py",
   "mimetype": "text/x-python",
   "name": "python",
   "nbconvert_exporter": "python",
   "pygments_lexer": "ipython3",
   "version": "3.7.12"
  },
  "toc": {
   "base_numbering": 1,
   "nav_menu": {},
   "number_sections": true,
   "sideBar": true,
   "skip_h1_title": false,
   "title_cell": "Table of Contents",
   "title_sidebar": "Contents",
   "toc_cell": false,
   "toc_position": {},
   "toc_section_display": true,
   "toc_window_display": false
  }
 },
 "nbformat": 4,
 "nbformat_minor": 4
}
