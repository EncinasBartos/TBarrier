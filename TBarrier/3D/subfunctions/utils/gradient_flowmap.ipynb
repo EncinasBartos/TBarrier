{
 "cells": [
  {
   "cell_type": "code",
   "execution_count": 1,
   "metadata": {
    "ExecuteTime": {
     "end_time": "2021-11-25T17:05:22.345303Z",
     "start_time": "2021-11-25T17:05:22.342251Z"
    }
   },
   "outputs": [],
   "source": [
    "import sys, os\n",
    "\n",
    "# get current directory\n",
    "path = os.getcwd()\n",
    "\n",
    "# get parent directory\n",
    "parent_directory = os.path.sep.join(path.split(os.path.sep)[:-1])\n",
    "\n",
    "# add 'utils' folder to current working path in order to access the functions\n",
    "sys.path.append(parent_directory+\"/utils\")"
   ]
  },
  {
   "cell_type": "code",
   "execution_count": 2,
   "metadata": {
    "ExecuteTime": {
     "end_time": "2021-11-25T17:05:22.915152Z",
     "start_time": "2021-11-25T17:05:22.346805Z"
    }
   },
   "outputs": [],
   "source": [
    "# Import numpy\n",
    "import numpy as np\n",
    "\n",
    "# function to compute trajectory from dFdt\n",
    "from ipynb.fs.defs.integration_dFdt import integration_dFdt"
   ]
  },
  {
   "cell_type": "code",
   "execution_count": 1,
   "metadata": {
    "ExecuteTime": {
     "end_time": "2022-01-10T20:10:14.228878Z",
     "start_time": "2022-01-10T20:10:14.210926Z"
    },
    "code_folding": [
     0
    ]
   },
   "outputs": [],
   "source": [
    "def gradient_flowmap(time, x, X, Y, Z, Interpolant_u, Interpolant_v, Interpolant_w, periodic, bool_unsteady, aux_grid):\n",
    "    '''\n",
    "    Calculates the gradient of the flowmap for a flow given by u, v, w velocities, starting from given initial conditions. \n",
    "    The initial conditions can be specified as an array. \n",
    "    \n",
    "    Parameters:\n",
    "        time: array (Nt,),  time array  \n",
    "        x: array (3, Npoints),  array of ICs\n",
    "        X: array (NY, NX, NZ)  X-meshgrid\n",
    "        Y: array (NY, NX, NZ)  Y-meshgrid \n",
    "        Z: array (NY, NX, NZ)  Z-meshgrid\n",
    "        Interpolant_u: Interpolant object for u(x, t)\n",
    "        Interpolant_v: Interpolant object for v(x, t)\n",
    "        Interpolant_w: Interpolant object for w(x, t)\n",
    "        periodic: list of 4 bools, periodic[i] is True if the flow is periodic in the ith coordinate. Time is i=4.\n",
    "        bool_unsteady:  specifies if velocity field is unsteady/steady\n",
    "    \n",
    "    Returns:\n",
    "        gradFmap: array(Nt, 3, 3, Npoints), gradient of the flowmap (3 by 3 matrix) for each time instant and each spatial point\n",
    "    '''\n",
    "    \n",
    "    \n",
    "    \n",
    "    # define auxiliary grid spacing\n",
    "    rho_x = aux_grid[0]\n",
    "    rho_y = aux_grid[1]\n",
    "    rho_z = aux_grid[2]\n",
    "    \n",
    "    XL, XR, XU, XD, XF, XB = [], [], [], [], [], []\n",
    "    \n",
    "    for i in range(x.shape[1]):\n",
    "        \n",
    "        xr = x[0, i] + rho_x # float\n",
    "        xl = x[0, i] - rho_x # float\n",
    "        yu = x[1, i] + rho_y # float\n",
    "        yd = x[1, i] - rho_y # float\n",
    "        zF = x[2, i] + rho_z # float\n",
    "        zB = x[2, i] - rho_z # float\n",
    "    \n",
    "        XL.append([xl, x[1, i], x[2, i]])\n",
    "        XR.append([xr, x[1, i], x[2, i]])\n",
    "        XU.append([x[0, i], yu, x[2, i]])\n",
    "        XD.append([x[0, i], yd, x[2, i]])\n",
    "        XF.append([x[0, i], x[1, i], zF])\n",
    "        XB.append([x[0, i], x[1, i], zB])\n",
    "    \n",
    "    XL = np.array(XL).transpose()\n",
    "    XR = np.array(XR).transpose()\n",
    "    XU = np.array(XU).transpose()\n",
    "    XD = np.array(XD).transpose()\n",
    "    XF = np.array(XF).transpose()\n",
    "    XB = np.array(XB).transpose()\n",
    "    \n",
    "    # launch trajectories from auxiliary grid\n",
    "    XLend = integration_dFdt(time, XL, X, Y, Z, Interpolant_u, Interpolant_v, Interpolant_w, periodic, bool_unsteady)[0] # array (Nt, 2)\n",
    "    XRend = integration_dFdt(time, XR, X, Y, Z, Interpolant_u, Interpolant_v, Interpolant_w, periodic, bool_unsteady)[0] # array (Nt, 2)\n",
    "    XDend = integration_dFdt(time, XD, X, Y, Z, Interpolant_u, Interpolant_v, Interpolant_w, periodic, bool_unsteady)[0] # array (Nt, 2)\n",
    "    XUend = integration_dFdt(time, XU, X, Y, Z, Interpolant_u, Interpolant_v, Interpolant_w, periodic, bool_unsteady)[0] # array (Nt, 2)\n",
    "    XFend = integration_dFdt(time, XF, X, Y, Z, Interpolant_u, Interpolant_v, Interpolant_w, periodic, bool_unsteady)[0] # array (Nt, 2)\n",
    "    XBend = integration_dFdt(time, XB, X, Y, Z, Interpolant_u, Interpolant_v, Interpolant_w, periodic, bool_unsteady)[0] # array (Nt, 2)\n",
    "    \n",
    "    return iterate_gradient(XRend, XLend, XUend, XDend, XFend, XBend)"
   ]
  },
  {
   "cell_type": "code",
   "execution_count": 2,
   "metadata": {
    "ExecuteTime": {
     "end_time": "2022-01-10T20:10:14.711552Z",
     "start_time": "2022-01-10T20:10:14.440739Z"
    }
   },
   "outputs": [],
   "source": [
    "from numba import njit, prange\n",
    "\n",
    "@njit(parallel = True)\n",
    "def iterate_gradient(XRend, XLend, XUend, XDend, XFend, XBend):\n",
    "    \n",
    "    gradFmap = np.zeros((XLend.shape[0], 3, 3, XLend.shape[2])) # array (Nt, 3, 3, Nx*Ny)\n",
    "    \n",
    "    for i in prange(XLend.shape[2]):      \n",
    "            \n",
    "        for j in prange(XLend.shape[0]):\n",
    "\n",
    "            gradFmap[j,0,0,i] = (XRend[j,0,i]-XLend[j,0,i])/(XRend[0,0,i]-XLend[0,0,i])\n",
    "            gradFmap[j,1,0,i] = (XRend[j,1,i]-XLend[j,1,i])/(XRend[0,0,i]-XLend[0,0,i])\n",
    "            gradFmap[j,2,0,i] = (XRend[j,2,i]-XLend[j,2,i])/(XRend[0,0,i]-XLend[0,0,i])\n",
    "        \n",
    "            gradFmap[j,0,1,i] = (XUend[j,0,i]-XDend[j,0,i])/(XUend[0,1,i]-XDend[0,1,i])\n",
    "            gradFmap[j,1,1,i] = (XUend[j,1,i]-XDend[j,1,i])/(XUend[0,1,i]-XDend[0,1,i])\n",
    "            gradFmap[j,2,1,i] = (XUend[j,2,i]-XDend[j,2,i])/(XUend[0,1,i]-XDend[0,1,i])\n",
    "                \n",
    "            gradFmap[j,0,2,i] = (XFend[j,0,i]-XBend[j,0,i])/(XFend[0,2,i]-XBend[0,2,i])\n",
    "            gradFmap[j,1,2,i] = (XFend[j,1,i]-XBend[j,1,i])/(XFend[0,2,i]-XBend[0,2,i])\n",
    "            gradFmap[j,2,2,i] = (XFend[j,2,i]-XBend[j,2,i])/(XFend[0,2,i]-XBend[0,2,i])\n",
    "            \n",
    "    return gradFmap"
   ]
  }
 ],
 "metadata": {
  "kernelspec": {
   "display_name": "Python 3",
   "language": "python",
   "name": "python3"
  },
  "language_info": {
   "codemirror_mode": {
    "name": "ipython",
    "version": 3
   },
   "file_extension": ".py",
   "mimetype": "text/x-python",
   "name": "python",
   "nbconvert_exporter": "python",
   "pygments_lexer": "ipython3",
   "version": "3.7.12"
  },
  "latex_envs": {
   "LaTeX_envs_menu_present": true,
   "autoclose": false,
   "autocomplete": true,
   "bibliofile": "biblio.bib",
   "cite_by": "apalike",
   "current_citInitial": 1,
   "eqLabelWithNumbers": true,
   "eqNumInitial": 1,
   "hotkeys": {
    "equation": "Ctrl-E",
    "itemize": "Ctrl-I"
   },
   "labels_anchors": false,
   "latex_user_defs": false,
   "report_style_numbering": false,
   "user_envs_cfg": false
  },
  "toc": {
   "base_numbering": 1,
   "nav_menu": {},
   "number_sections": true,
   "sideBar": true,
   "skip_h1_title": false,
   "title_cell": "Table of Contents",
   "title_sidebar": "Contents",
   "toc_cell": false,
   "toc_position": {},
   "toc_section_display": true,
   "toc_window_display": false
  }
 },
 "nbformat": 4,
 "nbformat_minor": 4
}
