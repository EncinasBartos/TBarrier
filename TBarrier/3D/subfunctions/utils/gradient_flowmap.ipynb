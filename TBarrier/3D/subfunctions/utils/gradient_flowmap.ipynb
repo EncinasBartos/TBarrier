{
 "cells": [
  {
   "cell_type": "code",
   "execution_count": 1,
   "metadata": {
    "ExecuteTime": {
     "end_time": "2021-11-25T17:05:22.345303Z",
     "start_time": "2021-11-25T17:05:22.342251Z"
    }
   },
   "outputs": [],
   "source": [
    "import sys, os\n",
    "\n",
    "# get current directory\n",
    "path = os.getcwd()\n",
    "\n",
    "# get parent directory\n",
    "parent_directory = os.path.sep.join(path.split(os.path.sep)[:-1])\n",
    "\n",
    "# add Algorithm folder to current working path in order to access the functions\n",
    "sys.path.append(parent_directory+\"/utils\")"
   ]
  },
  {
   "cell_type": "code",
   "execution_count": 2,
   "metadata": {
    "ExecuteTime": {
     "end_time": "2021-11-25T17:05:22.915152Z",
     "start_time": "2021-11-25T17:05:22.346805Z"
    }
   },
   "outputs": [],
   "source": [
    "# Import numpy\n",
    "import numpy as np\n",
    "\n",
    "# function to compute trajectory from dFdt\n",
    "from ipynb.fs.defs.integration_dFdt import integration_dFdt"
   ]
  },
  {
   "cell_type": "code",
   "execution_count": 3,
   "metadata": {
    "ExecuteTime": {
     "end_time": "2021-11-25T17:05:22.923987Z",
     "start_time": "2021-11-25T17:05:22.917104Z"
    }
   },
   "outputs": [],
   "source": [
    "def gradient_flowmap(time, x, X, Y, Interpolant, periodic, defined_domain, bool_unsteady, dt_data, delta, aux_grid):\n",
    "    \n",
    "    dx = delta[0]\n",
    "    dy = delta[1]\n",
    "    \n",
    "    xL = x-np.array([1, 0])*aux_grid*dx\n",
    "    xLend = integration_dFdt(time, xL, X, Y, Interpolant, periodic, defined_domain, bool_unsteady, dt_data, delta)[0]\n",
    "        \n",
    "    xR = x+np.array([1, 0])*aux_grid*dx\n",
    "    xRend = integration_dFdt(time, xR, X, Y, Interpolant, periodic, defined_domain, bool_unsteady, dt_data, delta)[0]\n",
    "        \n",
    "    xD = x-np.array([0, 1])*aux_grid*dy\n",
    "    xDend = integration_dFdt(time, xD, X, Y, Interpolant, periodic, defined_domain, bool_unsteady, dt_data, delta)[0]\n",
    "        \n",
    "    xU = x+np.array([0, 1])*aux_grid*dy\n",
    "    xUend = integration_dFdt(time, xU, X, Y, Interpolant, periodic, defined_domain, bool_unsteady, dt_data, delta)[0]\n",
    "    \n",
    "    gradFmap = np.zeros((2, 2, len(time)))\n",
    "    \n",
    "    for i in range(len(time)):\n",
    "        \n",
    "        gradFmap[0, 0, i] = (xRend[0, i]-xLend[0, i])/(2*aux_grid*dx)\n",
    "        gradFmap[1, 0, i] = (xRend[1, i]-xLend[1, i])/(2*aux_grid*dx)\n",
    "        \n",
    "        gradFmap[0, 1, i] = (xUend[0, i]-xDend[0, i])/(2*aux_grid*dy)\n",
    "        gradFmap[1, 1, i] = (xUend[1, i]-xDend[1, i])/(2*aux_grid*dy)\n",
    "        \n",
    "    return gradFmap"
   ]
  }
 ],
 "metadata": {
  "kernelspec": {
   "display_name": "Python 3",
   "language": "python",
   "name": "python3"
  },
  "language_info": {
   "codemirror_mode": {
    "name": "ipython",
    "version": 3
   },
   "file_extension": ".py",
   "mimetype": "text/x-python",
   "name": "python",
   "nbconvert_exporter": "python",
   "pygments_lexer": "ipython3",
   "version": "3.7.11"
  },
  "toc": {
   "base_numbering": 1,
   "nav_menu": {},
   "number_sections": true,
   "sideBar": true,
   "skip_h1_title": false,
   "title_cell": "Table of Contents",
   "title_sidebar": "Contents",
   "toc_cell": false,
   "toc_position": {},
   "toc_section_display": true,
   "toc_window_display": false
  }
 },
 "nbformat": 4,
 "nbformat_minor": 4
}
