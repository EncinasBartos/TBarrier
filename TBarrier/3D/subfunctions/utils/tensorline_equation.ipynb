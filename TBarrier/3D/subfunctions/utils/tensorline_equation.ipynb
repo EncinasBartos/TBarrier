{
 "cells": [
  {
   "cell_type": "markdown",
   "metadata": {},
   "source": [
    "# Tensorlines in 3D"
   ]
  },
  {
   "cell_type": "markdown",
   "metadata": {
    "ExecuteTime": {
     "end_time": "2021-11-01T22:06:39.218091Z",
     "start_time": "2021-11-01T22:06:39.210113Z"
    }
   },
   "source": [
    "Given the eigenvalue problem:\n",
    "\n",
    "\\begin{equation}\n",
    "\\mathbf{A} \\mathbf{e}_k = \\lambda_k \\mathbf{e}_k, \\quad k = 1, 2, 3\n",
    "\\label{eq: eigenvalueproblem}\n",
    "\\end{equation}\n",
    "\n",
    "where we assume $ A(\\mathbf{x}, t) = A(\\mathbf{x}, t)^T \\in \\mathbb{R}^{3 \\times 3}, \\mathbf{e}_k(\\mathbf{x}, t) \\in \\mathbb{R}^3 $ and $ \\lambda_k(\\mathbf{x}, t) \\in \\mathbb{R} $. We seek to find a way to compute the tensorlines of $ \\mathbf{A} $ without having the deal with the orientational discontinuities of the eigenvector field $ \\mathbf{e}_{k}(\\mathbf{x},t) $.\n",
    "\n",
    "For a fixed time $ t $ and a fixed integer $ k $ a tensorline is a parametrized curve $ \\mathbf{x}(s) \\in \\mathbb{R}^3 $ such that $ \\mathbf{x}^{\\prime}(s)=\\mathbf{e}_{k}(\\mathbf{x}(s),t) $ for some k. Since $ \\mathbf{e}_{k} $ is of unit length, we can view it as a vector spanning the surface of the unit sphere in $ \\mathbf{R}^{3} $. Therefore, using the spherical coordinates $ \\boldsymbol{\\phi=}(\\phi_{1},\\phi_{2})^{T}\\in S^{1}\\times S^{1} $, we can write parametrize the curve on a three-dimensional sphere by:\n",
    "\n",
    "\n",
    "\n",
    "$$ \\mathbf{e}(\\boldsymbol{\\phi})=\\left(\\begin{array}{c}\n",
    "\\cos\\phi_{1}(s)\\sin\\phi_{2}(s)\\\\\n",
    "\\sin\\phi_{1}(s)\\sin\\phi_{2}(s)\\\\\n",
    "\\cos\\phi_{2}(s)\n",
    "\\end{array}\\right),\\quad\\mathbf{A}:=D_{\\boldsymbol{\\phi}}\\mathbf{e}=\\left(\\begin{array}{cc}\n",
    "-\\sin\\phi_{1}\\sin\\phi_{2} & \\cos\\phi_{1}\\cos\\phi_{2}\\\\\n",
    "\\cos\\phi_{1}\\sin\\phi_{2} & \\sin\\phi_{1}\\cos\\phi_{2}\\\\\n",
    "0 & -\\sin\\phi_{2}\n",
    "\\end{array}\\right) $$."
   ]
  },
  {
   "cell_type": "code",
   "execution_count": 1,
   "metadata": {
    "ExecuteTime": {
     "end_time": "2021-11-09T08:51:22.176147Z",
     "start_time": "2021-11-09T08:51:22.172734Z"
    }
   },
   "outputs": [],
   "source": [
    "import sys, os\n",
    "\n",
    "# get current directory\n",
    "path = os.getcwd()\n",
    "\n",
    "# get parent directory\n",
    "parent_directory = os.path.sep.join(path.split(os.path.sep)[:-2])\n",
    "\n",
    "# add Algorithm folder to current working path\n",
    "sys.path.append(parent_directory+\"/subfunctions\")"
   ]
  },
  {
   "cell_type": "code",
   "execution_count": null,
   "metadata": {
    "ExecuteTime": {
     "end_time": "2021-11-09T08:51:22.244316Z",
     "start_time": "2021-11-09T08:51:22.177823Z"
    },
    "hide_input": false
   },
   "outputs": [],
   "source": [
    "from math import cos, sin, sqrt, pi\n",
    "import numpy as np\n",
    "\n",
    "# Import package to compute eigenvalue\n",
    "from ipynb.fs.defs.eigen import eigen\n",
    "\n",
    "def _tensorline_equation(t, x_phi, interpS11, interpS12, interpS13, interpS22, interpS23, interpS33, aux_grid, idx_eigenvector = 0):\n",
    "    \n",
    "    phi = x_phi[3]\n",
    "    theta = x_phi[4]\n",
    "\n",
    "    x = x_phi[0]%(2*pi)\n",
    "    y = x_phi[1]%(2*pi)\n",
    "    z = x_phi[2]%(2*pi)\n",
    "    \n",
    "    S11 = interpS11([y, x, z])[0]\n",
    "    S12 = interpS12([y, x, z])[0]\n",
    "    S22 = interpS22([y, x, z])[0]\n",
    "    S13 = interpS13([y, x, z])[0]\n",
    "    S23 = interpS23([y, x, z])[0]\n",
    "    S33 = interpS33([y, x, z])[0]\n",
    "    \n",
    "    S21 = S12.copy()\n",
    "    S31 = S13.copy()\n",
    "    S32 = S23.copy()\n",
    "    \n",
    "    S = np.array([[S11, S12, S13], [S21, S22, S23], [S31, S32, S33]])\n",
    "\n",
    "    lam, eigenv = eigen(S)\n",
    "    \n",
    "    # Define auxilary meshgrid\n",
    "    rho_x = aux_grid[0]\n",
    "    rho_y = aux_grid[1]\n",
    "    rho_z = aux_grid[2]\n",
    "    \n",
    "    xL = (x-rho_x)%(2*pi)\n",
    "    xR = (x+rho_x)%(2*pi)\n",
    "            \n",
    "    yD = (y-rho_y)%(2*pi)\n",
    "    yU = (y+rho_y)%(2*pi)\n",
    "            \n",
    "    zB = (z-rho_z)%(2*pi)\n",
    "    zF = (z+rho_z)%(2*pi)\n",
    "    \n",
    "    # compute derivatives using auxiliary grid and finite-differencing\n",
    "    S11x = (interpS11([y, xR, z])[0]-interpS11([y, xL, z])[0])/(2*rho_x)\n",
    "    S11y = (interpS11([yU, x,z])[0]-interpS11([yD, x, z])[0])/(2*rho_y)\n",
    "    S11z = (interpS11([y, x, zF])[0]-interpS11([y, x, zB])[0])/(2*rho_z)\n",
    "        \n",
    "    S12x = (interpS12([y, xR, z])[0]-interpS12([y, xL, z])[0])/(2*rho_x)\n",
    "    S12y = (interpS12([yU, x, z])[0]-interpS12([yD, x, z])[0])/(2*rho_y)\n",
    "    S12z = (interpS12([y, x, zF])[0]-interpS12([y, x, zB])[0])/(2*rho_z)\n",
    "            \n",
    "    S22x = (interpS22([y, xR, z])[0]-interpS22([y, xL, z])[0])/(2*rho_x)\n",
    "    S22y = (interpS22([yU, x, z])[0]-interpS22([yD, x, z])[0])/(2*rho_y)\n",
    "    S22z = (interpS22([y, x, zF])[0]-interpS22([y, x, zB])[0])/(2*rho_z)\n",
    "            \n",
    "    S33x = (interpS33([y, xR, z])[0]-interpS33([y, xL, z])[0])/(2*rho_x)\n",
    "    S33y = (interpS33([yU, x, z])[0]-interpS33([yD, x, z])[0])/(2*rho_y)\n",
    "    S33z = (interpS33([y, x, zF])[0]-interpS33([y, x, zB])[0])/(2*rho_z)\n",
    "            \n",
    "    S23x = (interpS23([y, xR, z])[0]-interpS23([y, xL, z])[0])/(2*rho_x)\n",
    "    S23y = (interpS23([yU, x, z])[0]-interpS23([yD, x, z])[0])/(2*rho_y)\n",
    "    S23z = (interpS23([y, x, zF])[0]-interpS23([y, x, zB])[0])/(2*rho_z)\n",
    "            \n",
    "    S13x = (interpS13([y, xR, z])[0]-interpS13([y, xL, z])[0])/(2*rho_x)\n",
    "    S13y = (interpS13([yU, x, z])[0]-interpS13([yD, x, z])[0])/(2*rho_y)\n",
    "    S13z = (interpS13([y, x, zF])[0]-interpS13([y, x, zB])[0])/(2*rho_z)\n",
    "            \n",
    "    e = np.array([[cos(phi)*sin(theta)], [sin(phi)*sin(theta)], [cos(theta)]])\n",
    "    A = np.array([[-sin(phi)*sin(theta), cos(phi)*cos(theta)], [cos(phi)*sin(theta), sin(phi)*cos(theta)], [0,-sin(theta)]])\n",
    "                            \n",
    "    grad_Sx_e = [S11x*cos(phi)*sin(theta)+S11y*sin(phi)*sin(theta)+S11z*cos(theta), S12x*cos(phi)*sin(theta)+S12y*sin(phi)*sin(theta)+S12z*cos(theta), S13x*cos(phi)*sin(theta)+S13y*sin(phi)*sin(theta)+S13z*cos(theta)]\n",
    "    grad_Sy_e = [S12x*cos(phi)*sin(theta)+S12y*sin(phi)*sin(theta)+S12z*cos(theta), S22x*cos(phi)*sin(theta)+S22y*sin(phi)*sin(theta)+S22z*cos(theta), S23x*cos(phi)*sin(theta)+S23y*sin(phi)*sin(theta)+S23z*cos(theta)]\n",
    "    grad_Sz_e = [S13x*cos(phi)*sin(theta)+S13y*sin(phi)*sin(theta)+S13z*cos(theta), S23x*cos(phi)*sin(theta)+S23y*sin(phi)*sin(theta)+S23z*cos(theta), S33x*cos(phi)*sin(theta)+S33y*sin(phi)*sin(theta)+S33z*cos(theta)]\n",
    "    \n",
    "    grad_S_e = np.array([grad_Sx_e, grad_Sy_e, grad_Sz_e])\n",
    "    \n",
    "    f = -A.transpose()@(grad_S_e@e)\n",
    "    M = A.transpose()@(S-lam[idx_eigenvector]*np.eye(3,3))@A\n",
    "        \n",
    "    M_inverse = np.linalg.inv(M)\n",
    "    phi_theta_dot = (M_inverse@f).ravel()\n",
    "        \n",
    "    phi_dot = phi_theta_dot[0]\n",
    "    theta_dot = phi_theta_dot[1]\n",
    "        \n",
    "    x_dot = cos(phi)*sin(theta)\n",
    "    y_dot = sin(phi)*sin(theta)\n",
    "    z_dot = cos(theta)\n",
    "        \n",
    "    norm = sqrt(1+theta_dot**2+phi_dot**2)\n",
    "        \n",
    "    return [x_dot/norm, y_dot/norm, z_dot/norm, phi_dot/norm, theta_dot/norm]    "
   ]
  }
 ],
 "metadata": {
  "kernelspec": {
   "display_name": "Python 3",
   "language": "python",
   "name": "python3"
  },
  "language_info": {
   "codemirror_mode": {
    "name": "ipython",
    "version": 3
   },
   "file_extension": ".py",
   "mimetype": "text/x-python",
   "name": "python",
   "nbconvert_exporter": "python",
   "pygments_lexer": "ipython3",
   "version": "3.7.11"
  },
  "toc": {
   "base_numbering": 1,
   "nav_menu": {},
   "number_sections": true,
   "sideBar": true,
   "skip_h1_title": false,
   "title_cell": "Table of Contents",
   "title_sidebar": "Contents",
   "toc_cell": false,
   "toc_position": {
    "height": "calc(100% - 180px)",
    "left": "10px",
    "top": "150px",
    "width": "165px"
   },
   "toc_section_display": true,
   "toc_window_display": false
  }
 },
 "nbformat": 4,
 "nbformat_minor": 5
}
