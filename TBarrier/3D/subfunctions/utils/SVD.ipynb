{
 "cells": [
  {
   "cell_type": "markdown",
   "metadata": {},
   "source": [
    "This function computes the singular value decomposition (SVD) of $ 3\\times 3$ deformation gradient $ \\mathbf{\\nabla F_{t_0}^t(\\mathbf{x}_0)} $:\n",
    "\n",
    "\\begin{equation}\n",
    "\\mathbf{\\nabla F}_{t_0}^t(\\mathbf{x}_0) = \\mathbf{P}_{t_0}^t \\Sigma_{t_0}^t {\\mathbf{Q}_{t_0}^t}^T\n",
    "\\end{equation}"
   ]
  },
  {
   "cell_type": "markdown",
   "metadata": {
    "ExecuteTime": {
     "end_time": "2021-11-25T09:45:16.626018Z",
     "start_time": "2021-11-25T09:45:16.622076Z"
    }
   },
   "source": [
    "| Name | Type (Shape) | Description |\n",
    "| --- | --- | --- |\n",
    "| gradFmap | array (3, 3) | $ \\mathbf{\\nabla F}_{t_0}^t(\\mathbf{x}_0) $|\n",
    "| P | array (3, 3) | $ \\mathbf{P}_{t_0}^t(\\mathbf{x}_0) $: orthogonal rotation matrix |\n",
    "| Q | array (3, 3) | $ \\mathbf{Q}_{t_0}^t(\\mathbf{x}_0) $: orthogonal rotation matrix |\n",
    "| SIG | array (3, 3) | $ \\mathbf{\\Sigma}_{t_0}^t(\\mathbf{x}_0) $: positive definite diagonal matrix representing uniaxial stretching/compression  |"
   ]
  },
  {
   "cell_type": "code",
   "execution_count": 17,
   "metadata": {
    "ExecuteTime": {
     "end_time": "2022-01-11T14:52:07.282086Z",
     "start_time": "2022-01-11T14:52:07.262138Z"
    }
   },
   "outputs": [],
   "source": [
    "# Import numpy\n",
    "import numpy as np\n",
    "\n",
    "# Import svd from scipy.linalg\n",
    "from numpy.linalg import svd"
   ]
  },
  {
   "cell_type": "code",
   "execution_count": 18,
   "metadata": {
    "ExecuteTime": {
     "end_time": "2022-01-11T14:52:07.623195Z",
     "start_time": "2022-01-11T14:52:07.604284Z"
    }
   },
   "outputs": [],
   "source": [
    "def SVD(gradFmap):\n",
    "    \n",
    "    P, s, QT = svd(gradFmap)\n",
    "    Q = QT.transpose()\n",
    "    SIG = np.diag(s)\n",
    "    \n",
    "    return P, SIG, Q"
   ]
  },
  {
   "cell_type": "code",
   "execution_count": null,
   "metadata": {},
   "outputs": [],
   "source": []
  }
 ],
 "metadata": {
  "kernelspec": {
   "display_name": "Python 3",
   "language": "python",
   "name": "python3"
  },
  "language_info": {
   "codemirror_mode": {
    "name": "ipython",
    "version": 3
   },
   "file_extension": ".py",
   "mimetype": "text/x-python",
   "name": "python",
   "nbconvert_exporter": "python",
   "pygments_lexer": "ipython3",
   "version": "3.7.12"
  },
  "toc": {
   "base_numbering": 1,
   "nav_menu": {},
   "number_sections": true,
   "sideBar": true,
   "skip_h1_title": false,
   "title_cell": "Table of Contents",
   "title_sidebar": "Contents",
   "toc_cell": false,
   "toc_position": {},
   "toc_section_display": true,
   "toc_window_display": false
  }
 },
 "nbformat": 4,
 "nbformat_minor": 4
}
