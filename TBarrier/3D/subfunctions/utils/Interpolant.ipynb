{
 "cells": [
  {
   "cell_type": "code",
   "execution_count": null,
   "metadata": {},
   "outputs": [],
   "source": [
    "# import Rectangular bivariate spline from scipy\n",
    "from scipy.interpolate import RegularGridInterpolator"
   ]
  },
  {
   "cell_type": "code",
   "execution_count": null,
   "metadata": {},
   "outputs": [],
   "source": [
    "def interpolant_unsteady(X, Y, Z, U, V, W, time):\n",
    "\n",
    "    Interpolant = [[], [], []]\n",
    "                    \n",
    "    for j in range(self.U.shape[3]):\n",
    "    \n",
    "        Interpolant[0].append(RegularGridInterpolator((Y[:,0,0], X[0,:,0], Z[0,0,:], time), U))\n",
    "        Interpolant[1].append(RegularGridInterpolator((Y[:,0,0], X[0,:,0], Z[0,0,:], time), V))\n",
    "        Interpolant[2].append(RegularGridInterpolator((Y[:,0,0], X[0,:,0], Z[0,0,:], time), W))               \n",
    "        \n",
    "    return Interpolant"
   ]
  },
  {
   "cell_type": "code",
   "execution_count": null,
   "metadata": {},
   "outputs": [],
   "source": [
    "def interpolant_steady(X, Y, Z, U, V, W):\n",
    "        \n",
    "    Interpolant = []\n",
    "        \n",
    "    Interpolant.append(RegularGridInterpolator((Y[:,0,0], X[0,:,0], Z[0,0,:]), U))\n",
    "    Interpolant.append(RegularGridInterpolator((Y[:,0,0], X[0,:,0], Z[0,0,:]), V))\n",
    "    Interpolant.append(RegularGridInterpolator((Y[:,0,0], X[0,:,0], Z[0,0,:]), W))\n",
    "    \n",
    "    return Interpolant"
   ]
  }
 ],
 "metadata": {
  "kernelspec": {
   "display_name": "Python 3 (ipykernel)",
   "language": "python",
   "name": "python3"
  },
  "language_info": {
   "codemirror_mode": {
    "name": "ipython",
    "version": 3
   },
   "file_extension": ".py",
   "mimetype": "text/x-python",
   "name": "python",
   "nbconvert_exporter": "python",
   "pygments_lexer": "ipython3",
   "version": "3.7.11"
  },
  "toc": {
   "base_numbering": 1,
   "nav_menu": {},
   "number_sections": true,
   "sideBar": true,
   "skip_h1_title": false,
   "title_cell": "Table of Contents",
   "title_sidebar": "Contents",
   "toc_cell": false,
   "toc_position": {},
   "toc_section_display": true,
   "toc_window_display": false
  }
 },
 "nbformat": 4,
 "nbformat_minor": 4
}
