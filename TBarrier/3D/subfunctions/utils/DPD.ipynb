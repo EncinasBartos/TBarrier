{
 "cells": [
  {
   "cell_type": "markdown",
   "metadata": {},
   "source": [
    "This function computes the Dynamic Polar Decomposition (DPD) of the $ 3\\times 3$ deformation gradient $ \\mathbf{\\nabla F_{t_0}^t(\\mathbf{x}_0)} $ for any times $ \\tau, t \\in [t_0, t_1] $:\n",
    "\n",
    "\\begin{equation}\n",
    "\\mathbf{\\nabla F_{t_0}^t(\\mathbf{x}_0)} = \\mathbf{O}_{t_0}^t(\\mathbf{x}_0)\\mathbf{M}_{t_0}^t(\\mathbf{x}_0) = \\mathbf{N}_{t_0}^t(\\mathbf{x}_0)\\mathbf{O}_{t_0}^t(\\mathbf{x}_0), \n",
    "\\end{equation} where the proper orthogonal dynamic rotation tensor $ \\mathbf{O}_{t_0}^t(\\mathbf{x}_0) $ is the deformation gradient of a purely rotational flow; $ \\mathbf{M}_{t_0}^t(\\mathbf{x}_0) $ the right dynamic stretch tensor and the non-degenerate left dynamic stretch tensor $ \\mathbf{N}_{t_0}^t(\\mathbf{x}_0) $ are deformation gradients of purely straining flows.\n",
    "\n",
    "The dynamic rotation tensor admits a further factorization:\n",
    "\n",
    "\\begin{equation}\n",
    "\\mathbf{O}_{t_0}^{t}(\\mathbf{x}_0) = \\mathbf{\\Phi}_{t_0}^t(\\mathbf{x}_0)\\mathbf{\\Theta}_{t_0}^t(\\mathbf{x}_0)\n",
    "\\end{equation}\n",
    "\n",
    "\\begin{equation}\n",
    "\\mathbf{\\dot{\\Phi}}_{t_0}^t(\\mathbf{x}_0) = [\\mathbf{W}(\\mathbf{F}_{t_0}^{t}(\\mathbf{x}_0), t)-\\mathbf{\\overline{W}}(t)]\\mathbf{\\Phi}_{t_0}^t(\\mathbf{x}_0), \\quad \\mathbf{\\Phi}_{t_0}^{t_0}(\\mathbf{x}_0) = \\mathbf{I}\n",
    "\\label{eq: Phi_dot}\n",
    "\\end{equation}\n",
    "\n",
    "\\begin{equation}\n",
    "\\mathbf{\\dot{\\Theta}}_{t_0}^t(\\mathbf{x}_0) = \\mathbf{\\Phi}_{t}^{t_0}(\\mathbf{F}_{t_0}^{t}(\\mathbf{x}_0))\\mathbf{\\overline{W}}(t)\\mathbf{\\Phi}_{t_0}^{t}(\\mathbf{x}_0), \\quad \\mathbf{\\Theta}_{t_0}^{t_0}(\\mathbf{x}_0) = \\mathbf{I}\n",
    "\\label{eq: Theta_dot}\n",
    "\\end{equation}\n",
    "\n",
    "We start by computing $ \\mathbf{\\Phi}_{t_0}^t(\\mathbf{x}_0) $ by solving the initial value problem (eq. \\ref{eq: Phi_dot}) and then subsequently the initial value problem for $ \\mathbf{\\Theta}_{t_0}^{t} $ (eq. \\ref{eq: Theta_dot}) over the interval $ t \\in [t_0, t_N] $."
   ]
  },
  {
   "cell_type": "markdown",
   "metadata": {
    "ExecuteTime": {
     "end_time": "2022-02-17T20:50:59.661498Z",
     "start_time": "2022-02-17T20:50:59.645657Z"
    }
   },
   "source": [
    "| Name | Type (Shape) | Description |\n",
    "| --- | --- | --- |\n",
    "| gradFmap | array (Nt, 3, 3) | $ \\mathbf{\\nabla F_{t_0}^{t}(\\mathbf{x}_0)} $ |\n",
    "| W | array (Nt, 3, 3) | $ \\mathbf{W}(\\mathbf{F}_{t_0}^{t}(\\mathbf{x}_0), t) $ |\n",
    "| W_avg | array (Nt, 3, 3) | $ \\mathbf{\\overline{W}}(t) $ |\n",
    "| O | array (3, 3) | $ \\mathbf{O}_{t_0}^t(\\mathbf{x}_0) $|\n",
    "| M | array (3, 3) | $ \\mathbf{M}_{t_0}^t(\\mathbf{x}_0) $|\n",
    "| N | array (3, 3) | $ \\mathbf{N}_{t_0}^t(\\mathbf{x}_0) $|"
   ]
  },
  {
   "cell_type": "code",
   "execution_count": 3,
   "metadata": {
    "ExecuteTime": {
     "end_time": "2022-02-17T21:07:56.451848Z",
     "start_time": "2022-02-17T21:07:56.433868Z"
    }
   },
   "outputs": [
    {
     "name": "stdout",
     "output_type": "stream",
     "text": [
      "[[1. 0. 0.]\n",
      " [0. 1. 0.]\n",
      " [0. 0. 1.]]\n"
     ]
    }
   ],
   "source": [
    "# Import numpy\n",
    "import numpy as np\n",
    "\n",
    "# Import math tools\n",
    "from math import sqrt, cos, sin, atan2"
   ]
  },
  {
   "cell_type": "code",
   "execution_count": 5,
   "metadata": {
    "ExecuteTime": {
     "end_time": "2022-02-17T22:41:04.230490Z",
     "start_time": "2022-02-17T22:41:04.221514Z"
    }
   },
   "outputs": [],
   "source": [
    "def DPD(gradFmap, W_avg, W, dt):\n",
    "    \n",
    "    THETA = np.eye(3,3) # Initial condition for Theta \n",
    "    \n",
    "    Theta = []\n",
    "    \n",
    "    # solve IVP for THETA [t0, tN]\n",
    "    for i in range(W_avg.shape[0]):\n",
    "        Theta.append(THETA)\n",
    "        THETA = THETA+(W[i,:,:]-W_avg[i,:,:])@THETA*dt\n",
    "    \n",
    "    Theta_memory = []\n",
    "    \n",
    "    # solve IVP for memory THETA\n",
    "    for i in range(W_avg.shape[0]):\n",
    "        \n",
    "        THETA_memory = np.eye(3,3) # Initial condition for Theta\n",
    "\n",
    "        for ii in range(i, 0, -1):\n",
    "            THETA_memory = THETA_memory-(W[ii,:,:]-W_avg[ii,:,:])@THETA_memory*dt\n",
    "        Theta_memory.append(THETA_memory)\n",
    "        \n",
    "    PHI = np.eye(3,3) # Initial condition for Phi\n",
    "    \n",
    "    Phi = []\n",
    "    \n",
    "    for i in range(W_avg.shape[0]):\n",
    "        Phi.append(PHI)\n",
    "        PHI = PHI+Theta_memory[i]@W_avg[i]@Theta[i]\n",
    "        \n",
    "    O, N, M = [], [], []\n",
    "    \n",
    "    for i in range(W_avg.shape[0]):\n",
    "        Ot = Phi[i]@Theta[i]\n",
    "        O.append(Ot)\n",
    "        N.append(gradFmap[i,:,:]@np.linalg.inv(Ot))\n",
    "        M.append(np.linalg.inv(Ot)@gradFmap[i,:,:])\n",
    "    \n",
    "    return np.array(Theta), np.array(Phi), np.array(O), np.array(M), np.array(N)"
   ]
  }
 ],
 "metadata": {
  "kernelspec": {
   "display_name": "Python 3",
   "language": "python",
   "name": "python3"
  },
  "language_info": {
   "codemirror_mode": {
    "name": "ipython",
    "version": 3
   },
   "file_extension": ".py",
   "mimetype": "text/x-python",
   "name": "python",
   "nbconvert_exporter": "python",
   "pygments_lexer": "ipython3",
   "version": "3.7.12"
  },
  "toc": {
   "base_numbering": 1,
   "nav_menu": {},
   "number_sections": true,
   "sideBar": true,
   "skip_h1_title": false,
   "title_cell": "Table of Contents",
   "title_sidebar": "Contents",
   "toc_cell": false,
   "toc_position": {},
   "toc_section_display": true,
   "toc_window_display": false
  }
 },
 "nbformat": 4,
 "nbformat_minor": 4
}
