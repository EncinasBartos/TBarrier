{
 "cells": [
  {
   "cell_type": "markdown",
   "metadata": {
    "ExecuteTime": {
     "end_time": "2021-11-25T15:42:06.721153Z",
     "start_time": "2021-11-25T15:42:06.715208Z"
    }
   },
   "source": [
    "This function computes the gradient of the velocity-field $ \\mathbf{v}(\\mathbf{x}, t) $ using an auxiliary meshgrid.\n",
    "\n",
    "| Name | Type (Shape) | Description |\n",
    "| --- | --- | --- |\n",
    "| t | float | time |\n",
    "| x | array (3,) | $ \\mathbf{x} $ |\n",
    "| X | array (Ny, Nx, Nz) | X-meshgrid|\n",
    "| Y | array (Ny, Nx, Nz) | Y-meshgrid|\n",
    "| Z | array (Ny, Nx, Nz) | Y-meshgrid|\n",
    "| Interpolant_u | interpolant |  Interpolant object for $ u(\\mathbf{x}, t)$|\n",
    "| Interpolant_v | interpolant |  Interpolant object for $ v(\\mathbf{x}, t)$|\n",
    "| Interpolant_w | interpolant |  Interpolant object for $ w(\\mathbf{x}, t)$|\n",
    "| periodic | list (3,) | periodic[0]: periodicity in x <br /> periodic[1]: periodicity in y <br /> periodic[2]: periodicity in z|\n",
    "| bool_unsteady | bool | specifies if velocity field is unsteady/steady |\n",
    "| dt_data | float | time spacing of the velocity data |\n",
    "| delta | list (3,) | delta[0]: x-grid spacing of the velocity data <br /> delta[1]: y-grid spacing of the velocity data <br /> delta[2]: z-grid spacing of the velocity data|\n",
    "| aux_grid | float | ratio of auxiliary meshgrid to original meshgrid |\n",
    "| grad_vel | array (3,3) | $ \\nabla \\mathbf{v}(\\mathbf{x}, t) $ |"
   ]
  },
  {
   "cell_type": "code",
   "execution_count": 1,
   "metadata": {
    "ExecuteTime": {
     "end_time": "2021-11-25T16:58:25.998297Z",
     "start_time": "2021-11-25T16:58:25.994676Z"
    },
    "code_folding": [
     0
    ]
   },
   "outputs": [],
   "source": [
    "# import sys\n",
    "import sys, os\n",
    "\n",
    "# get current directory\n",
    "path = os.getcwd()\n",
    "\n",
    "# get parent directory\n",
    "parent_directory = os.path.sep.join(path.split(os.path.sep)[:-1])\n",
    "\n",
    "# add 'integration' folder to current working path\n",
    "sys.path.append(parent_directory+\"/integration\")"
   ]
  },
  {
   "cell_type": "code",
   "execution_count": 2,
   "metadata": {
    "ExecuteTime": {
     "end_time": "2021-11-25T16:58:27.211266Z",
     "start_time": "2021-11-25T16:58:27.208925Z"
    },
    "code_folding": [
     0
    ]
   },
   "outputs": [],
   "source": [
    "# Import numpy as np\n",
    "import numpy as np\n",
    "\n",
    "# Import function to compute velocity\n",
    "from ipynb.fs.defs.velocity import velocity"
   ]
  },
  {
   "cell_type": "code",
   "execution_count": 3,
   "metadata": {
    "ExecuteTime": {
     "end_time": "2021-11-25T15:52:54.765628Z",
     "start_time": "2021-11-25T15:52:54.759383Z"
    },
    "code_folding": [
     3
    ],
    "run_control": {
     "marked": true
    }
   },
   "outputs": [],
   "source": [
    "# Import function to compute velocity\n",
    "from ipynb.fs.defs.velocity import velocity\n",
    "\n",
    "def gradient_velocity(t, x, X, Y, Z, Interpolant_u, Interpolant_v, Interpolant_w, periodic, bool_unsteady, aux_grid):\n",
    "    '''This function computes the gradient of the velocity-field by finite differencing on an auxiliary grid.\n",
    "\n",
    "    Parameters:\n",
    "        t: float, time\n",
    "        x: array (3,Npoints),  vector of positions\n",
    "        X: array (Ny, Nx, Nz), X-meshgrid\n",
    "        Y: array (Ny, Nx, Nz), Y-meshgrid\n",
    "        Z: array (Ny, Nx, Nz), Z-meshgrid\n",
    "        Interpolant_u: Interpolant object for u(x,t)\n",
    "        Interpolant_v: Interpolant object for v(x,t)\n",
    "        Interpolant_w: Interpolant object for w(x,t)\n",
    "        periodic: list (3,), periodic[0]: periodicity in x\n",
    "                             periodic[1]: periodicity in y\n",
    "                             periodic[2]: periodicity in z\n",
    "        bool_unsteady: bool, specifies if velocity field is unsteady/steady\n",
    "        dt_data: float, time spacing of the velocity data\n",
    "        delta: list (3,), delta[0]: x-grid spacing of the velocity data\n",
    "                          delta[1]: y-grid spacing of the velocity data\n",
    "                          delta[2]: z-grid spacing of the velocity data\n",
    "        aux_grid: float, ratio of auxiliary meshgrid to original meshgrid\n",
    "        \n",
    "    Returns:\n",
    "        grad_vel: array (3,3, Npoints),  gradient (Jacobian matrix) of the velocity field\n",
    "    '''\n",
    "    x = x.reshape(3,-1)\n",
    "    \n",
    "    # define auxiliary grid spacing\n",
    "    rho_x = aux_grid[0] # float\n",
    "    rho_y = aux_grid[1] # float\n",
    "    rho_z = aux_grid[2] # float\n",
    "    \n",
    "    X0, XL, XR, XU, XD, XF, XB = [], [], [], [], [], [], []\n",
    "    \n",
    "    for i in range(x.shape[1]):\n",
    "        \n",
    "        xr = x[0, i] + rho_x # float\n",
    "        xl = x[0, i] - rho_x # float\n",
    "         \n",
    "        if periodic[0]:\n",
    "            \n",
    "            xr = (xr-X[0,0,0])%(X[0,-1,0]-X[0,0,0])+X[0,0,0] # float\n",
    "            xl = (xl-X[0,0,0])%(X[0,-1,0]-X[0,0,0])+X[0,0,0] # float\n",
    "        \n",
    "        yu = x[1, i] + rho_y # float\n",
    "        yd = x[1, i] - rho_y # float\n",
    "        \n",
    "        if periodic[1]:\n",
    "            \n",
    "            yu = (yu-Y[0,0,0])%(Y[-1,0,0]-Y[0,0,0])+Y[0,0,0] # float\n",
    "            yd = (yd-Y[0,0,0])%(Y[-1,0,0]-Y[0,0,0])+Y[0,0,0] # float\n",
    "            \n",
    "        zf = x[2, i] + rho_z # float\n",
    "        zb = x[2, i] - rho_z # float\n",
    "        \n",
    "        if periodic[2]:\n",
    "            \n",
    "            zf = (zf-Z[0,0,0])%(Z[0,0,-1]-Z[0,0,0])+Z[0,0,0] # float\n",
    "            zb = (zb-Z[0,0,0])%(Z[0,0,-1]-Z[0,0,0])+Z[0,0,0] # float\n",
    "        \n",
    "        X0.append([x[0,i], x[1,i], x[2,i]])\n",
    "        XL.append([xl, x[1,i], x[2,i]])\n",
    "        XR.append([xr, x[1,i], x[2,i]])\n",
    "        XU.append([x[0,i], yu, x[2,i]])\n",
    "        XD.append([x[0,i], yd, x[2,i]])\n",
    "        XF.append([x[0,i], x[1,i], zf])\n",
    "        XB.append([x[0,i], x[1,i], zb])\n",
    "    \n",
    "    X0 = np.array(X0).transpose()\n",
    "    XL = np.array(XL).transpose()\n",
    "    XR = np.array(XR).transpose()\n",
    "    XU = np.array(XU).transpose()\n",
    "    XD = np.array(XD).transpose()\n",
    "    XF = np.array(XF).transpose()\n",
    "    XB = np.array(XB).transpose()\n",
    "    \n",
    "    # velocity on the auxiliary meshgrid\n",
    "    vLend = velocity(t, XL, X, Y, Z, Interpolant_u, Interpolant_v, Interpolant_w, periodic, bool_unsteady)    \n",
    "    vRend = velocity(t, XR, X, Y, Z, Interpolant_u, Interpolant_v, Interpolant_w, periodic, bool_unsteady)     \n",
    "    vDend = velocity(t, XD, X, Y, Z, Interpolant_u, Interpolant_v, Interpolant_w, periodic, bool_unsteady)   \n",
    "    vUend = velocity(t, XU, X, Y, Z, Interpolant_u, Interpolant_v, Interpolant_w, periodic, bool_unsteady)\n",
    "    vFend = velocity(t, XF, X, Y, Z, Interpolant_u, Interpolant_v, Interpolant_w, periodic, bool_unsteady)   \n",
    "    vBend = velocity(t, XB, X, Y, Z, Interpolant_u, Interpolant_v, Interpolant_w, periodic, bool_unsteady)\n",
    "    \n",
    "    grad_vel = np.zeros((3, 3, X0.shape[1]))*np.nan\n",
    "    \n",
    "    for i in range(X0.shape[1]):\n",
    "\n",
    "            grad_vel[0, 0, i] = (vRend[0,i]-vLend[0,i])/(2*rho_x)\n",
    "            grad_vel[1, 0, i] = (vRend[1,i]-vLend[1,i])/(2*rho_x)\n",
    "            grad_vel[2, 0, i] = (vRend[2,i]-vLend[2,i])/(2*rho_x) \n",
    "            \n",
    "            grad_vel[0, 1, i] = (vUend[0,i]-vDend[0,i])/(2*rho_y)\n",
    "            grad_vel[1, 1, i] = (vUend[1,i]-vDend[1,i])/(2*rho_y)\n",
    "            grad_vel[2, 1, i] = (vUend[2,i]-vDend[2,i])/(2*rho_y)\n",
    "            \n",
    "            grad_vel[0, 2, i] = (vFend[0,i]-vBend[0,i])/(2*rho_z)\n",
    "            grad_vel[1, 2, i] = (vFend[1,i]-vBend[1,i])/(2*rho_z)\n",
    "            grad_vel[2, 2, i] = (vFend[2,i]-vBend[2,i])/(2*rho_z)\n",
    "                \n",
    "    return grad_vel"
   ]
  },
  {
   "cell_type": "code",
   "execution_count": null,
   "metadata": {},
   "outputs": [],
   "source": []
  }
 ],
 "metadata": {
  "kernelspec": {
   "display_name": "Python 3",
   "language": "python",
   "name": "python3"
  },
  "language_info": {
   "codemirror_mode": {
    "name": "ipython",
    "version": 3
   },
   "file_extension": ".py",
   "mimetype": "text/x-python",
   "name": "python",
   "nbconvert_exporter": "python",
   "pygments_lexer": "ipython3",
   "version": "3.7.12"
  },
  "latex_envs": {
   "LaTeX_envs_menu_present": true,
   "autoclose": false,
   "autocomplete": true,
   "bibliofile": "biblio.bib",
   "cite_by": "apalike",
   "current_citInitial": 1,
   "eqLabelWithNumbers": true,
   "eqNumInitial": 1,
   "hotkeys": {
    "equation": "Ctrl-E",
    "itemize": "Ctrl-I"
   },
   "labels_anchors": false,
   "latex_user_defs": false,
   "report_style_numbering": false,
   "user_envs_cfg": false
  },
  "toc": {
   "base_numbering": 1,
   "nav_menu": {},
   "number_sections": true,
   "sideBar": true,
   "skip_h1_title": false,
   "title_cell": "Table of Contents",
   "title_sidebar": "Contents",
   "toc_cell": false,
   "toc_position": {},
   "toc_section_display": true,
   "toc_window_display": false
  }
 },
 "nbformat": 4,
 "nbformat_minor": 4
}
