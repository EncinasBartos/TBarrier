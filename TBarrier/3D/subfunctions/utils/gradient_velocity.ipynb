{
 "cells": [
  {
   "cell_type": "markdown",
   "metadata": {
    "ExecuteTime": {
     "end_time": "2021-11-25T15:42:06.721153Z",
     "start_time": "2021-11-25T15:42:06.715208Z"
    }
   },
   "source": [
    "This function computes the gradient of the velocity-field $ \\mathbf{v}(\\mathbf{x}, t) $ using an auxiliary meshgrid.\n",
    "\n",
    "| Name | Type (Shape) | Description |\n",
    "| --- | --- | --- |\n",
    "| t | float | time |\n",
    "| x | array (3,) | $ \\mathbf{x} $ |\n",
    "| X | array (Nx, Ny, Nz) | X-meshgrid|\n",
    "| Y | array (Nx, Ny, Nz) | Y-meshgrid|\n",
    "| Z | array (Nx, Ny, Nz) | Y-meshgrid|\n",
    "| Interpolant | list (3,) | Interpolant[0]: Interpolant object for $ u((\\mathbf{x}, t))  $ <br /> Interpolant[1]: Interpolant object for $ v((\\mathbf{x}, t))  $ <br /> Interpolant[3]: Interpolant object for $ v((\\mathbf{x}, t))  $. <br /> <br /> The interpolation, however, works only <br /> if the particle is in the defined flow domain. <br /> At the boundary of the domain, <br /> the interpolant is not defined.|\n",
    "| periodic | list (3,) | periodic[0]: periodicity in x <br /> periodic[1]: periodicity in y <br /> periodic[2]: periodicity in z|\n",
    "| bool_unsteady | bool | specifies if velocity field is unsteady/steady |\n",
    "| dt_data | float | time spacing of the velocity data |\n",
    "| delta | list (3,) | delta[0]: x-grid spacing of the velocity data <br /> delta[1]: y-grid spacing of the velocity data|\n",
    "| aux_grid | float | ratio of auxiliary meshgrid to original meshgrid |\n",
    "| grad_vel | array (3,3) | $ \\nabla \\mathbf{v}(\\mathbf{x}, t) $ |"
   ]
  },
  {
   "cell_type": "code",
   "execution_count": 5,
   "metadata": {
    "ExecuteTime": {
     "end_time": "2021-11-25T16:58:25.998297Z",
     "start_time": "2021-11-25T16:58:25.994676Z"
    }
   },
   "outputs": [
    {
     "name": "stdout",
     "output_type": "stream",
     "text": [
      "/Users/enalex/OneDrive/TBarrier/TBarrier/2D/Src\n"
     ]
    }
   ],
   "source": [
    "import sys, os\n",
    "\n",
    "# get current directory\n",
    "path = os.getcwd()\n",
    "\n",
    "# get parent directory\n",
    "parent_directory = os.path.sep.join(path.split(os.path.sep)[:-1])\n",
    "\n",
    "# add Algorithm folder to current working path in order to access the functions\n",
    "sys.path.append(parent_directory+\"/utils\")"
   ]
  },
  {
   "cell_type": "code",
   "execution_count": 6,
   "metadata": {
    "ExecuteTime": {
     "end_time": "2021-11-25T16:58:27.211266Z",
     "start_time": "2021-11-25T16:58:27.208925Z"
    }
   },
   "outputs": [],
   "source": [
    "# Import numpy as np\n",
    "import numpy as np\n",
    "\n",
    "# Import function that computes velocity in the domain\n",
    "from ipynb.fs.defs.velocity import velocity"
   ]
  },
  {
   "cell_type": "code",
   "execution_count": 3,
   "metadata": {
    "ExecuteTime": {
     "end_time": "2021-11-25T15:52:54.765628Z",
     "start_time": "2021-11-25T15:52:54.759383Z"
    }
   },
   "outputs": [],
   "source": [
    "def gradient_velocity(t, x, X, Y, Interpolant, periodic, bool_unsteady, dt_data, delta, aux_grid):\n",
    "        \n",
    "    rho_x = delta[0]\n",
    "    rho_y = delta[1]\n",
    "    rho_z = delta[2]\n",
    "    \n",
    "    grad_vel = np.zeros((3, 3))\n",
    "    \n",
    "    xL = x-np.array([1, 0, 0])*rho_x\n",
    "    vLend = velocity(t, xL, X, Y, Z, Interpolant, periodic, bool_unsteady)\n",
    "        \n",
    "    xR = x+np.array([1, 0, 0])*rho_x\n",
    "    vRend = velocity(t, xR, X, Y, Z, Interpolant, periodic, bool_unsteady)\n",
    "        \n",
    "    xD = x-np.array([0, 1, 0])*rho_y\n",
    "    vDend = velocity(t, xD, X, Y, Z, Interpolant, periodic, bool_unsteady)\n",
    "        \n",
    "    xU = x+np.array([0, 1, 0])*rho_y\n",
    "    vUend = velocity(t, xU, X, Y, Z, Interpolant, periodic, bool_unsteady)\n",
    "    \n",
    "    xB = x-np.array([0, 0, 1])*rho_z\n",
    "    vBend = velocity(t, xD, X, Y, Z, Interpolant, periodic, bool_unsteady)\n",
    "        \n",
    "    xF = x+np.array([0, 0, 1])*rho_z\n",
    "    vFend = velocity(t, xU, X, Y, Z, Interpolant, periodic, bool_unsteady)\n",
    "    \n",
    "    grad_vel[0, 0] = (vRend[0]-vLend[0])/(2*aux_grid*dx_data)\n",
    "    grad_vel[1, 0] = (vUend[1]-vDend[1])/(2*aux_grid*dx_data)\n",
    "    grad_vel[2, 0] = (vFend[2]-vBend[2])/(2*aux_grid*dx_data)\n",
    "    \n",
    "    grad_vel[0, 1] = (vUend[0]-vDend[0])/(2*aux_grid*dy_data)\n",
    "    grad_vel[1, 0] = (vUend[1]-vDend[1])/(2*aux_grid*dy_data)\n",
    "                \n",
    "    return grad_vel"
   ]
  }
 ],
 "metadata": {
  "kernelspec": {
   "display_name": "Python 3 (ipykernel)",
   "language": "python",
   "name": "python3"
  },
  "language_info": {
   "codemirror_mode": {
    "name": "ipython",
    "version": 3
   },
   "file_extension": ".py",
   "mimetype": "text/x-python",
   "name": "python",
   "nbconvert_exporter": "python",
   "pygments_lexer": "ipython3",
   "version": "3.7.11"
  },
  "toc": {
   "base_numbering": 1,
   "nav_menu": {},
   "number_sections": true,
   "sideBar": true,
   "skip_h1_title": false,
   "title_cell": "Table of Contents",
   "title_sidebar": "Contents",
   "toc_cell": false,
   "toc_position": {},
   "toc_section_display": true,
   "toc_window_display": false
  }
 },
 "nbformat": 4,
 "nbformat_minor": 4
}
