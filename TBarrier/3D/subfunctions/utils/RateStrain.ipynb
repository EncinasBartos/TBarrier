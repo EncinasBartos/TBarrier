{
 "cells": [
  {
   "cell_type": "markdown",
   "metadata": {
    "ExecuteTime": {
     "end_time": "2021-11-25T15:42:06.721153Z",
     "start_time": "2021-11-25T15:42:06.715208Z"
    }
   },
   "source": [
    "This function computes the rate of strain tensor at $$ S(\\mathbf{x}, t) = \\dfrac{1}{2}(\\nabla \\mathbf{v}(\\mathbf{x}, t)+\\nabla \\mathbf{v}(\\mathbf{x}, t)^T ) $$ using an auxiliary meshgrid.\n",
    "\n",
    "| Name | Type (Shape) | Description |\n",
    "| --- | --- | --- |\n",
    "| grad_vel | array (3,3) | $ \\nabla \\mathbf{v}(\\mathbf{x}, t) $ |"
   ]
  },
  {
   "cell_type": "code",
   "execution_count": 5,
   "metadata": {
    "ExecuteTime": {
     "end_time": "2021-11-26T14:21:19.605067Z",
     "start_time": "2021-11-26T14:21:19.602075Z"
    }
   },
   "outputs": [],
   "source": [
    "def RateStrain(gradient_velocity):\n",
    "    return .5*(gradient_velocity.transpose()+gradient_velocity)"
   ]
  }
 ],
 "metadata": {
  "kernelspec": {
   "display_name": "Python 3",
   "language": "python",
   "name": "python3"
  },
  "language_info": {
   "codemirror_mode": {
    "name": "ipython",
    "version": 3
   },
   "file_extension": ".py",
   "mimetype": "text/x-python",
   "name": "python",
   "nbconvert_exporter": "python",
   "pygments_lexer": "ipython3",
   "version": "3.7.11"
  },
  "toc": {
   "base_numbering": 1,
   "nav_menu": {},
   "number_sections": true,
   "sideBar": true,
   "skip_h1_title": false,
   "title_cell": "Table of Contents",
   "title_sidebar": "Contents",
   "toc_cell": false,
   "toc_position": {},
   "toc_section_display": true,
   "toc_window_display": false
  }
 },
 "nbformat": 4,
 "nbformat_minor": 4
}
