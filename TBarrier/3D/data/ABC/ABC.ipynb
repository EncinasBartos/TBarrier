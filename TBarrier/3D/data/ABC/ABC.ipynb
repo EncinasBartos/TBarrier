{
 "cells": [
  {
   "cell_type": "markdown",
   "metadata": {},
   "source": [
    "As an example, we consider the three dimensional ABC-flow. This spatially periodic velocity field has been studied in several papers including [1,2,3,4]. As a benchmark we will use the steady version of the ABC-flow:\n",
    "\n",
    "\\begin{equation}\n",
    "\\begin{pmatrix} \\dot{x}(t) \\\\ \\dot{y}(t) \\\\ \\dot{z}(t) \\end{pmatrix} = \\begin{pmatrix} u \\\\ v \\\\ w \\end{pmatrix} = \\begin{pmatrix} A\\sin(z)+C\\cos(y) \\\\ B\\sin(x) + A\\cos(z) \\\\ C\\sin(y)+B\\cos(x) \\end{pmatrix}, \\quad (x,y,z) \\in [0, 2\\pi]^3\n",
    "\\label{eq: periodicABC}\n",
    "\\end{equation} and its unsteady, viscous counterpart:\n",
    "\n",
    "\\begin{equation}\n",
    "\\begin{pmatrix} \\dot{x}(t) \\\\ \\dot{y}(t) \\\\ \\dot{z}(t) \\end{pmatrix} = e^{-\\nu t}\\begin{pmatrix} u \\\\ v \\\\ w \\end{pmatrix}, \\quad (x,y,z) \\in [0, 2\\pi]^3\n",
    "\\label{eq: viscousABC}.\n",
    "\\end{equation}\n",
    "\n",
    "The parameters are chosen to be: $ A = \\sqrt{3}, B = \\sqrt{2}, C = 1 $ and $ \\nu = 0.01 $. The velocity-field is discretized with a spatial resolution of $ NX = NY = NZ = 51 $ and a temporal resolution of $ NT = 51 $. The time-interval is $ [0,10] $."
   ]
  },
  {
   "cell_type": "code",
   "execution_count": null,
   "id": "4643c57f",
   "metadata": {},
   "outputs": [],
   "source": []
  },
  {
   "cell_type": "code",
   "execution_count": 1,
   "id": "17af2692",
   "metadata": {
    "ExecuteTime": {
<<<<<<< HEAD
     "end_time": "2022-03-03T13:27:04.581009Z",
     "start_time": "2022-03-03T13:27:04.086369Z"
    },
    "code_folding": [
     0,
=======
     "end_time": "2022-02-09T10:43:06.558325Z",
     "start_time": "2022-02-09T10:43:06.430154Z"
    },
    "code_folding": [
>>>>>>> 9f629d66ae56f4b85feb5c441d44a74d1f3b2bba
     6,
     14,
     20
    ]
   },
   "outputs": [],
   "source": [
    "# import scipy\n",
    "import scipy.io\n",
    "\n",
    "# import numpy\n",
    "import numpy as np\n",
    "\n",
    "def velocity_steady(A, B, C, x, y, z):\n",
    "    \n",
    "    u = A*np.sin(z)+C*np.cos(y)\n",
    "    v = B*np.sin(x)+A*np.cos(z)\n",
    "    w = C*np.sin(y)+B*np.cos(x)\n",
    "    \n",
    "    return u, v, w\n",
    "\n",
    "def ABC_steady(A, B, C, X, Y, Z):\n",
    "                \n",
    "    U, V, W = velocity_steady(A, B, C, X, Y, Z)\n",
    "        \n",
    "    return U, V, W \n",
    "            \n",
    "def ABC_unsteady(nu, A, B, C, X, Y, Z, t):\n",
    "    \n",
    "    U = np.zeros((X.shape[0], Y.shape[1], Z.shape[2], t.shape[0]))\n",
    "    V = np.zeros((X.shape[0], Y.shape[1], Z.shape[2], t.shape[0]))\n",
    "    W = np.zeros((X.shape[0], Y.shape[1], Z.shape[2], t.shape[0]))             \n",
    "                \n",
    "    u, v, w = velocity_steady(A, B, C, X, Y, Z)\n",
    "    \n",
    "    for i in range(U.shape[-1]):\n",
    "        U[:,:,:,i] = np.exp(-nu*t[i])*u\n",
    "        V[:,:,:,i] = np.exp(-nu*t[i])*v\n",
    "        W[:,:,:,i] = np.exp(-nu*t[i])*w\n",
    "                    \n",
    "    return U, V, W"
   ]
  },
  {
   "cell_type": "markdown",
<<<<<<< HEAD
=======
   "id": "ac3b1902",
>>>>>>> 9f629d66ae56f4b85feb5c441d44a74d1f3b2bba
   "metadata": {},
   "source": [
    "# Steady ABC-flow"
   ]
  },
  {
   "cell_type": "code",
   "execution_count": 2,
   "id": "dfe3807b",
   "metadata": {
    "ExecuteTime": {
<<<<<<< HEAD
     "end_time": "2022-03-03T13:27:04.624735Z",
     "start_time": "2022-03-03T13:27:04.585309Z"
=======
     "end_time": "2022-02-09T10:43:06.590267Z",
     "start_time": "2022-02-09T10:43:06.559324Z"
>>>>>>> 9f629d66ae56f4b85feb5c441d44a74d1f3b2bba
    },
    "scrolled": false
   },
   "outputs": [],
   "source": [
<<<<<<< HEAD
    "NX = 51\n",
    "NY = NX\n",
    "NZ = NY\n",
    "\n",
=======
>>>>>>> 9f629d66ae56f4b85feb5c441d44a74d1f3b2bba
    "x = np.linspace(0, 2*np.pi, 51, endpoint = True)\n",
    "y = x.copy()\n",
    "z = x.copy()\n",
    "X, Y, Z = np.meshgrid(x, y, z)\n",
    "\n",
    "A = np.sqrt(3)\n",
    "B = np.sqrt(2)\n",
    "C = 1\n",
    "\n",
    "U, V, W = ABC_steady(A, B, C, X, Y, Z)\n",
    "\n",
    "scipy.io.savemat('./ABCsteady.mat', {'u': U, 'v': V, 'w': W, 'x': x, 'y': y, 'z': z})"
   ]
  },
  {
   "cell_type": "markdown",
<<<<<<< HEAD
=======
   "id": "8cf1c5c1",
>>>>>>> 9f629d66ae56f4b85feb5c441d44a74d1f3b2bba
   "metadata": {},
   "source": [
    "# Unteady ABC-flow"
   ]
  },
  {
   "cell_type": "code",
   "execution_count": 3,
<<<<<<< HEAD
   "metadata": {
    "ExecuteTime": {
     "end_time": "2022-03-03T13:27:06.254621Z",
     "start_time": "2022-03-03T13:27:04.628977Z"
=======
   "id": "3110dc92",
   "metadata": {
    "ExecuteTime": {
     "end_time": "2022-02-09T10:43:07.225599Z",
     "start_time": "2022-02-09T10:43:06.591237Z"
>>>>>>> 9f629d66ae56f4b85feb5c441d44a74d1f3b2bba
    }
   },
   "outputs": [],
   "source": [
<<<<<<< HEAD
    "NT = 51\n",
    "\n",
    "t0 = 0\n",
    "tN = 10\n",
    "\n",
    "t = np.linspace(t0, tN, NT, endpoint = True)\n",
    "\n",
    "# viscosity\n",
=======
    "x = np.linspace(0, 2*np.pi, 51, endpoint = True)\n",
    "y = x.copy()\n",
    "z = x.copy()\n",
    "t = np.linspace(0, 51, 52, endpoint = True)\n",
    "X, Y, Z = np.meshgrid(x, y, z)\n",
    "\n",
    "A = np.sqrt(3)\n",
    "B = np.sqrt(2)\n",
    "C = 1\n",
    "\n",
>>>>>>> 9f629d66ae56f4b85feb5c441d44a74d1f3b2bba
    "nu = 0.01\n",
    "\n",
    "U, V, W = ABC_unsteady(nu, A, B, C, X, Y, Z, t)\n",
    "\n",
    "scipy.io.savemat('./ABCunsteady.mat', {'u': U, 'v': V, 'w': W, 'x': x, 'y': y, 'z': z, 't': t})"
<<<<<<< HEAD
   ]
  },
  {
   "cell_type": "markdown",
   "metadata": {},
   "source": [
    "# References\n",
    "\n",
    "[1] Dombre, T., Frisch, U., Greene, J. M., Hénon, M., Mehr, A., & Soward, A. M. (1986). Chaotic streamlines in the ABC flows. Journal of Fluid Mechanics, 167, 353-391.\n",
    "\n",
    "[2] Haller, G. (2001). Distinguished material surfaces and coherent structures in three-dimensional fluid flows. Physica D: Nonlinear Phenomena, 149(4), 248-277.\n",
    "\n",
    "[3] Oettinger, D., & Haller, G. (2016). An autonomous dynamical system captures all LCSs in three-dimensional unsteady flows. Chaos: An Interdisciplinary Journal of Nonlinear Science, 26(10), 103111.\n",
    "\n",
    "[4] Haller, G., Aksamit, N., & Encinas-Bartos, A. P. (2021). Quasi-objective coherent structure diagnostics from single trajectories. Chaos: An Interdisciplinary Journal of Nonlinear Science, 31(4), 043131."
=======
>>>>>>> 9f629d66ae56f4b85feb5c441d44a74d1f3b2bba
   ]
  }
 ],
 "metadata": {
  "kernelspec": {
   "display_name": "Python 3",
   "language": "python",
   "name": "python3"
  },
  "language_info": {
   "codemirror_mode": {
    "name": "ipython",
    "version": 3
   },
   "file_extension": ".py",
   "mimetype": "text/x-python",
   "name": "python",
   "nbconvert_exporter": "python",
   "pygments_lexer": "ipython3",
   "version": "3.7.12"
  },
  "latex_envs": {
   "LaTeX_envs_menu_present": true,
   "autoclose": false,
   "autocomplete": true,
   "bibliofile": "biblio.bib",
   "cite_by": "apalike",
   "current_citInitial": 1,
   "eqLabelWithNumbers": true,
   "eqNumInitial": 1,
   "hotkeys": {
    "equation": "Ctrl-E",
    "itemize": "Ctrl-I"
   },
   "labels_anchors": false,
   "latex_user_defs": false,
   "report_style_numbering": false,
   "user_envs_cfg": false
  },
  "toc": {
   "base_numbering": 1,
   "nav_menu": {},
   "number_sections": true,
   "sideBar": true,
   "skip_h1_title": false,
   "title_cell": "Table of Contents",
   "title_sidebar": "Contents",
   "toc_cell": false,
   "toc_position": {},
   "toc_section_display": true,
   "toc_window_display": false
  }
 },
 "nbformat": 4,
 "nbformat_minor": 5
}
