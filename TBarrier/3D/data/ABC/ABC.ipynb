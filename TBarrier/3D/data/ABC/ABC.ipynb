{
 "cells": [
  {
   "cell_type": "code",
   "execution_count": null,
   "id": "4643c57f",
   "metadata": {},
   "outputs": [],
   "source": []
  },
  {
   "cell_type": "code",
   "execution_count": 1,
   "id": "17af2692",
   "metadata": {
    "ExecuteTime": {
     "end_time": "2022-02-09T10:43:06.558325Z",
     "start_time": "2022-02-09T10:43:06.430154Z"
    },
    "code_folding": [
     6,
     14,
     20
    ]
   },
   "outputs": [],
   "source": [
    "# import scipy\n",
    "import scipy.io\n",
    "\n",
    "# import numpy\n",
    "import numpy as np\n",
    "\n",
    "def velocity_steady(A, B, C, x, y, z):\n",
    "    \n",
    "    u = A*np.sin(z)+C*np.cos(y)\n",
    "    v = B*np.sin(x)+A*np.cos(z)\n",
    "    w = C*np.sin(y)+B*np.cos(x)\n",
    "    \n",
    "    return u, v, w\n",
    "\n",
    "def ABC_steady(A, B, C, X, Y, Z):\n",
    "                \n",
    "    U, V, W = velocity_steady(A, B, C, X, Y, Z)\n",
    "        \n",
    "    return U, V, W \n",
    "            \n",
    "def ABC_unsteady(nu, A, B, C, X, Y, Z, t):\n",
    "    \n",
    "    U = np.zeros((X.shape[0], Y.shape[1], Z.shape[2], t.shape[0]))\n",
    "    V = np.zeros((X.shape[0], Y.shape[1], Z.shape[2], t.shape[0]))\n",
    "    W = np.zeros((X.shape[0], Y.shape[1], Z.shape[2], t.shape[0]))             \n",
    "                \n",
    "    u, v, w = velocity_steady(A, B, C, X, Y, Z)\n",
    "    \n",
    "    for i in range(U.shape[-1]):\n",
    "        U[:,:,:,i] = np.exp(-nu*t[i])*u\n",
    "        V[:,:,:,i] = np.exp(-nu*t[i])*v\n",
    "        W[:,:,:,i] = np.exp(-nu*t[i])*w\n",
    "                    \n",
    "    return U, V, W"
   ]
  },
  {
   "cell_type": "markdown",
   "id": "ac3b1902",
   "metadata": {},
   "source": [
    "# Steady ABC-flow"
   ]
  },
  {
   "cell_type": "code",
   "execution_count": 2,
   "id": "dfe3807b",
   "metadata": {
    "ExecuteTime": {
     "end_time": "2022-02-09T10:43:06.590267Z",
     "start_time": "2022-02-09T10:43:06.559324Z"
    },
    "scrolled": false
   },
   "outputs": [],
   "source": [
    "x = np.linspace(0, 2*np.pi, 51, endpoint = True)\n",
    "y = x.copy()\n",
    "z = x.copy()\n",
    "X, Y, Z = np.meshgrid(x, y, z)\n",
    "\n",
    "A = np.sqrt(3)\n",
    "B = np.sqrt(2)\n",
    "C = 1\n",
    "\n",
    "U, V, W = ABC_steady(A, B, C, X, Y, Z)\n",
    "\n",
    "scipy.io.savemat('./ABCsteady.mat', {'u': U, 'v': V, 'w': W, 'x': x, 'y': y, 'z': z})"
   ]
  },
  {
   "cell_type": "markdown",
   "id": "8cf1c5c1",
   "metadata": {},
   "source": [
    "# Unteady ABC-flow"
   ]
  },
  {
   "cell_type": "code",
   "execution_count": 3,
   "id": "3110dc92",
   "metadata": {
    "ExecuteTime": {
     "end_time": "2022-02-09T10:43:07.225599Z",
     "start_time": "2022-02-09T10:43:06.591237Z"
    }
   },
   "outputs": [],
   "source": [
    "x = np.linspace(0, 2*np.pi, 51, endpoint = True)\n",
    "y = x.copy()\n",
    "z = x.copy()\n",
    "t = np.linspace(0, 51, 52, endpoint = True)\n",
    "X, Y, Z = np.meshgrid(x, y, z)\n",
    "\n",
    "A = np.sqrt(3)\n",
    "B = np.sqrt(2)\n",
    "C = 1\n",
    "\n",
    "nu = 0.01\n",
    "\n",
    "U, V, W = ABC_unsteady(nu, A, B, C, X, Y, Z, t)\n",
    "\n",
    "scipy.io.savemat('./ABCunsteady.mat', {'u': U, 'v': V, 'w': W, 'x': x, 'y': y, 'z': z, 't': t})"
   ]
  }
 ],
 "metadata": {
  "kernelspec": {
   "display_name": "Python 3",
   "language": "python",
   "name": "python3"
  },
  "language_info": {
   "codemirror_mode": {
    "name": "ipython",
    "version": 3
   },
   "file_extension": ".py",
   "mimetype": "text/x-python",
   "name": "python",
   "nbconvert_exporter": "python",
   "pygments_lexer": "ipython3",
   "version": "3.7.12"
  },
  "toc": {
   "base_numbering": 1,
   "nav_menu": {},
   "number_sections": true,
   "sideBar": true,
   "skip_h1_title": false,
   "title_cell": "Table of Contents",
   "title_sidebar": "Contents",
   "toc_cell": false,
   "toc_position": {},
   "toc_section_display": true,
   "toc_window_display": false
  }
 },
 "nbformat": 4,
 "nbformat_minor": 5
}
