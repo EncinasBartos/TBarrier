{
 "cells": [
  {
   "cell_type": "code",
   "execution_count": 1,
   "metadata": {
    "ExecuteTime": {
     "end_time": "2021-11-24T09:52:19.646240Z",
     "start_time": "2021-11-24T09:52:18.897432Z"
    }
   },
   "outputs": [],
   "source": [
    "import scipy.io\n",
    "import numpy as np\n",
    "import matplotlib.pyplot as plt\n",
    "from tqdm.notebook import tqdm\n",
    "from math import sqrt, tanh, cos, sin, pi\n",
    "\n",
    "def Bt(B0, k0, k1, k2, t):\n",
    "    return B0*k0*tanh(l1*t)*cos((k2*t)**2)\n",
    "\n",
    "def Ct(C0, k0, k1, k2, t):\n",
    "    return C0*k0*tanh(l1*t)*cos((k2*t)**2)\n",
    "\n",
    "def velocity_steady(A0, B0, C0, x, y, z):\n",
    "    \n",
    "    u = A0*sin(z)+C0*cos(y)\n",
    "    v = B0*sin(x)+A0*cos(z)\n",
    "    w = C0*sin(y)+B0*cos(x)\n",
    "    \n",
    "    return u, v, w\n",
    "\n",
    "def velocity_unsteady(A0, B0, C0, k0, k1, k2, x, y, z, t):\n",
    "\n",
    "    Bt = Bt(B0, k0, k1, k2, t)\n",
    "    Ct = Ct(C0, k0, k1, k2, t)\n",
    "    \n",
    "    u = A0*sqrt(3)*sin(z)+(C0+Ct)*cos(y)\n",
    "    v = (B0+Bt)*sin(x)+A0*cos(z)\n",
    "    w = (C0+Ct)*sin(y)+(B0+Bt)*cos(x)\n",
    "    \n",
    "    return u, v, w\n",
    "\n",
    "def ABC_steady(A0, B0, C0, X, Y, Z):\n",
    "    \n",
    "    U = X.copy()*np.nan\n",
    "    V = Y.copy()*np.nan\n",
    "    W = Z.copy()*np.nan\n",
    "    \n",
    "    for i in range(X.shape[0]):\n",
    "        \n",
    "        for j in range(Y.shape[1]):\n",
    "            \n",
    "            for k in range(Y.shape[2]):\n",
    "                \n",
    "                x = X[i, j, k]\n",
    "                y = Y[i, j, k]\n",
    "                z = Z[i, j, k]\n",
    "                \n",
    "                u, v, w = velocity_steady(A0, B0, C0, x, y, z)\n",
    "                \n",
    "                U[i, j, k] = u\n",
    "                V[i, j, k] = v\n",
    "                W[i, j, k] = w\n",
    "        \n",
    "    return U, V, W\n",
    "            \n",
    "def ABC_unsteady(A0, B0, C0, k0, k1, k2, X, Y, Z, t):\n",
    "    \n",
    "    for i in range(Y.shape[0]):\n",
    "        \n",
    "        for j in range(X.shape[1]):\n",
    "            \n",
    "            for k in range(Z.shape[2]):\n",
    "                \n",
    "                for t in range(T.shape[3]):\n",
    "                \n",
    "                    x = X[i, j, k]\n",
    "                    y = Y[i, j, k]\n",
    "                    z = Z[i, j, k]                \n",
    "                \n",
    "                    u, v, w = velocity(A0, B0, C0, k0, k1, k2, x, y, z, t)\n",
    "                \n",
    "                    U[i, j, k, t] = u\n",
    "                    V[i, j, k, t] = v\n",
    "                    W[i, j, k, t] = w"
   ]
  },
  {
   "cell_type": "code",
   "execution_count": 2,
   "metadata": {
    "ExecuteTime": {
     "end_time": "2021-11-24T09:52:20.033625Z",
     "start_time": "2021-11-24T09:52:19.649374Z"
    },
    "scrolled": false
   },
   "outputs": [],
   "source": [
    "x = np.linspace(0, 2*pi, 50, endpoint = True)\n",
    "y = x.copy()\n",
    "z = x.copy()\n",
    "X, Y, Z = np.meshgrid(x, x, x)\n",
    "\n",
    "A0 = 1*sqrt(3)\n",
    "B0 = sqrt(2/3)*sqrt(3)\n",
    "C0 = 1/sqrt(3)*sqrt(3)\n",
    "\n",
    "#k0 = .15\n",
    "#k1 = .05\n",
    "#k2 = .12\n",
    "\n",
    "U, V, W = ABC_steady(A0, B0, C0, X, Y, Z)\n",
    "            \n",
    "scipy.io.savemat('./ABC_steady.mat', {'u': U, 'v': V, 'w': W, 'x': x, 'y': y, 'z': z})"
   ]
  }
 ],
 "metadata": {
  "kernelspec": {
   "display_name": "Python 3",
   "language": "python",
   "name": "python3"
  },
  "language_info": {
   "codemirror_mode": {
    "name": "ipython",
    "version": 3
   },
   "file_extension": ".py",
   "mimetype": "text/x-python",
   "name": "python",
   "nbconvert_exporter": "python",
   "pygments_lexer": "ipython3",
   "version": "3.7.11"
  },
  "toc": {
   "base_numbering": 1,
   "nav_menu": {},
   "number_sections": true,
   "sideBar": true,
   "skip_h1_title": false,
   "title_cell": "Table of Contents",
   "title_sidebar": "Contents",
   "toc_cell": false,
   "toc_position": {},
   "toc_section_display": true,
   "toc_window_display": false
  }
 },
 "nbformat": 4,
 "nbformat_minor": 5
}
