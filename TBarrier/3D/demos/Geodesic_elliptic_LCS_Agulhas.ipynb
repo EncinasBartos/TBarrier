{
 "cells": [
  {
   "cell_type": "markdown",
   "metadata": {},
   "source": [
    "# Add Folders to Path"
   ]
  },
  {
   "cell_type": "code",
   "execution_count": 1,
   "metadata": {
    "ExecuteTime": {
     "end_time": "2021-10-27T16:35:53.011693Z",
     "start_time": "2021-10-27T16:35:53.007812Z"
    }
   },
   "outputs": [
    {
     "name": "stdout",
     "output_type": "stream",
     "text": [
      "CPU times: user 195 µs, sys: 126 µs, total: 321 µs\n",
      "Wall time: 211 µs\n"
     ]
    }
   ],
   "source": [
    "%%time\n",
    "import sys, os\n",
    "# get current directory\n",
    "path = os.getcwd()\n",
    "# get parent directory\n",
    "parent_directory = os.path.sep.join(path.split(os.path.sep)[:-2])\n",
    "# add Algorithm folder to current working path in order to access the functions inside the folder ´Algorithms´\n",
    "sys.path.append(parent_directory+\"/General_Functions\")"
   ]
  },
  {
   "cell_type": "markdown",
   "metadata": {},
   "source": [
    "# Agulhas"
   ]
  },
  {
   "cell_type": "markdown",
   "metadata": {},
   "source": [
    "## Import Data"
   ]
  },
  {
   "cell_type": "code",
   "execution_count": 2,
   "metadata": {
    "ExecuteTime": {
     "end_time": "2021-10-27T16:35:53.290369Z",
     "start_time": "2021-10-27T16:35:53.018271Z"
    }
   },
   "outputs": [
    {
     "name": "stdout",
     "output_type": "stream",
     "text": [
      "CPU times: user 227 ms, sys: 41.9 ms, total: 269 ms\n",
      "Wall time: 269 ms\n"
     ]
    }
   ],
   "source": [
    "%%time\n",
    "import scipy.io as sio\n",
    "import numpy as np\n",
    "\n",
    "#Import velocity data from file in data-folder\n",
    "mat_file = sio.loadmat('../../Data/TensorFieldData.mat')\n",
    "\n",
    "x = mat_file['x1_g']\n",
    "y = mat_file['x2_g']\n",
    "C11 = mat_file['C11']\n",
    "C12 = mat_file['C12']\n",
    "C22 = mat_file['C22']\n",
    "lam2 = mat_file['lam2']\n",
    "C11_x = mat_file['C11x1']\n",
    "C11_y = mat_file['C11x2']\n",
    "C12_x = mat_file['C12x1']\n",
    "C12_y = mat_file['C12x2']\n",
    "C22_x = mat_file['C22x1']\n",
    "C22_y = mat_file['C22x2']\n",
    "\n",
    "Ncores = 18\n",
    "\n",
    "X_domain, Y_domain = np.meshgrid(x, y)"
   ]
  },
  {
   "cell_type": "code",
   "execution_count": 3,
   "metadata": {
    "ExecuteTime": {
     "end_time": "2021-10-27T16:37:20.261475Z",
     "start_time": "2021-10-27T16:35:53.292376Z"
    }
   },
   "outputs": [
    {
     "data": {
      "application/vnd.jupyter.widget-view+json": {
       "model_id": "59891ca7b3a24b0bb6b756e4de471782",
       "version_major": 2,
       "version_minor": 0
      },
      "text/plain": [
       "  0%|          | 0/801 [00:00<?, ?it/s]"
      ]
     },
     "metadata": {},
     "output_type": "display_data"
    },
    {
     "name": "stdout",
     "output_type": "stream",
     "text": [
      "CPU times: user 5.35 s, sys: 1 s, total: 6.35 s\n",
      "Wall time: 1min 26s\n"
     ]
    }
   ],
   "source": [
    "%%time\n",
    "import numpy as np\n",
    "from ipynb.fs.defs.init_level_set import _init_level_set\n",
    "from ipynb.fs.defs.gradient_C import _gradient_C\n",
    "from ipynb.fs.defs.geodesic_equation import _geodesic_equation\n",
    "from ipynb.fs.defs.RK4_geodesic import _RK4_geodesic\n",
    "from ipynb.fs.defs.phi_prime import _phi_prime\n",
    "\n",
    "lambda_range = np.arange(0.9, 1.1+0.02, 0.02)\n",
    "\n",
    "#grad_C11, grad_C12, grad_C22 = _gradient_C(X_domain, Y_domain, C)\n",
    "x0lam, y0lam, phi0lam = _init_level_set(X_domain, Y_domain, C11, C12, lambda_range)\n",
    "\n",
    "from scipy.interpolate import RectBivariateSpline as RBS\n",
    "        \n",
    "# Interpolant for components of Cauchy-Green strain tensor\n",
    "interp_C11 = RBS(Y_domain[:,0], X_domain[0,:], C11, kx = 1, ky = 1)\n",
    "interp_C12 = RBS(Y_domain[:,0], X_domain[0,:], C12, kx = 1, ky = 1)\n",
    "interp_C22 = RBS(Y_domain[:,0], X_domain[0,:], C22, kx = 1, ky = 1)\n",
    "\n",
    "interp_phi_prime = _phi_prime(X_domain, Y_domain, C11, C12, C22, C11_x, C11_y, C12_x, C12_y, C22_x, C22_y, Ncores)"
   ]
  },
  {
   "cell_type": "code",
   "execution_count": 4,
   "metadata": {
    "ExecuteTime": {
     "end_time": "2021-10-27T16:37:20.267213Z",
     "start_time": "2021-10-27T16:37:20.263877Z"
    }
   },
   "outputs": [
    {
     "name": "stdout",
     "output_type": "stream",
     "text": [
      "[-4.35421621]\n"
     ]
    }
   ],
   "source": [
    "print(interp_phi_prime(np.array([-30, -2, 0])))"
   ]
  },
  {
   "cell_type": "code",
   "execution_count": null,
   "metadata": {
    "ExecuteTime": {
     "start_time": "2021-10-27T16:40:58.528Z"
    }
   },
   "outputs": [
    {
     "data": {
      "application/vnd.jupyter.widget-view+json": {
       "model_id": "a3ff06e164b041b79e68bec9cac06de1",
       "version_major": 2,
       "version_minor": 0
      },
      "text/plain": [
       "  0%|          | 0/98924 [00:00<?, ?it/s]"
      ]
     },
     "metadata": {},
     "output_type": "display_data"
    }
   ],
   "source": [
    "x_phi = np.array([-2.67, -29.27, 0])\n",
    "\n",
    "ds = 0.01\n",
    "\n",
    "from tqdm.notebook import tqdm\n",
    "\n",
    "import matplotlib.pyplot as plt\n",
    "fig = plt.figure(figsize=(16, 10))\n",
    "ax = plt.axes()\n",
    "\n",
    "for i in tqdm(range(len(x0lam))):\n",
    "    \n",
    "    x_phi = np.array([x0lam[i], y0lam[i], phi0lam[i]])\n",
    "\n",
    "    defined_domain = np.isfinite(C11).astype(int)\n",
    "\n",
    "    trajectory = []\n",
    "\n",
    "    counter = 0\n",
    "\n",
    "    while counter < 2000:\n",
    "    \n",
    "        trajectory.append(x_phi)\n",
    "    \n",
    "        x_phi = _RK4_geodesic(X_domain, Y_domain, defined_domain, ds, x_phi, interp_phi_prime, interp_C11, interp_C22, interp_C12)[0]\n",
    "        counter += 1\n",
    "    \n",
    "        if x_phi is None:\n",
    "            break\n",
    "    trajectory = np.array(trajectory)\n",
    "    ax = plt.axes()\n",
    "    ax.plot(trajectory[:,0], trajectory[:,1])\n",
    "    \n",
    "    trajectory = np.array(trajectory)\n",
    "plt.show()"
   ]
  },
  {
   "cell_type": "code",
   "execution_count": null,
   "metadata": {},
   "outputs": [],
   "source": []
  }
 ],
 "metadata": {
  "kernelspec": {
   "display_name": "Python 3",
   "language": "python",
   "name": "python3"
  },
  "language_info": {
   "codemirror_mode": {
    "name": "ipython",
    "version": 3
   },
   "file_extension": ".py",
   "mimetype": "text/x-python",
   "name": "python",
   "nbconvert_exporter": "python",
   "pygments_lexer": "ipython3",
   "version": "3.7.11"
  },
  "toc": {
   "base_numbering": 1,
   "nav_menu": {},
   "number_sections": true,
   "sideBar": true,
   "skip_h1_title": false,
   "title_cell": "Table of Contents",
   "title_sidebar": "Contents",
   "toc_cell": false,
   "toc_position": {},
   "toc_section_display": true,
   "toc_window_display": false
  }
 },
 "nbformat": 4,
 "nbformat_minor": 4
}
