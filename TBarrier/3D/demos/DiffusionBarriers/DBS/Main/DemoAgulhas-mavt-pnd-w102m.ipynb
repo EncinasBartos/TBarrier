{
 "cells": [
  {
   "cell_type": "markdown",
   "metadata": {},
   "source": [
    "# Add Folders to Path"
   ]
  },
  {
   "cell_type": "code",
   "execution_count": 1,
   "metadata": {
    "ExecuteTime": {
     "end_time": "2021-11-29T19:17:00.850906Z",
     "start_time": "2021-11-29T19:17:00.846572Z"
    }
   },
   "outputs": [],
   "source": [
    "%%time\n",
    "import sys, os\n",
    "\n",
    "# get current directory\n",
    "path = os.getcwd()\n",
    "\n",
    "# get parent directory\n",
    "parent_directory = os.path.sep.join(path.split(os.path.sep)[:-4])\n",
    "\n",
    "# add utils folder to current working path\n",
    "sys.path.append(parent_directory+\"/Src/utils\")\n",
    "\n",
    "# add integration folder to current working path\n",
    "sys.path.append(parent_directory+\"/Src/integration\")\n",
    "\n",
    "# add DiffusionBarriers folder to current working path\n",
    "sys.path.append(parent_directory+\"/Demos/DiffusionBarriers\")\n",
    "\n",
    "# add DBS folder to current working path\n",
    "sys.path.append(parent_directory+\"/Demos/DiffusionBarriers/DBS\")"
   ]
  },
  {
   "cell_type": "code",
   "execution_count": 2,
   "metadata": {
    "ExecuteTime": {
     "end_time": "2021-11-29T19:17:01.299875Z",
     "start_time": "2021-11-29T19:17:00.852374Z"
    }
   },
   "outputs": [],
   "source": [
    "# Suppress numba warnings arising from computation falling back into object mode.\n",
    "from numba.core.errors import NumbaDeprecationWarning\n",
    "import warnings\n",
    "\n",
    "warnings.simplefilter('ignore', category=NumbaDeprecationWarning)"
   ]
  },
  {
   "cell_type": "markdown",
   "metadata": {},
   "source": [
    "# Import Data\n",
    "\n",
    "We start by import the AVISO-data from the file 'Agulhas_AVISO.mat' stored in the folder 'Data'."
   ]
  },
  {
   "cell_type": "code",
   "execution_count": 3,
   "metadata": {
    "ExecuteTime": {
     "end_time": "2021-11-29T19:17:01.333719Z",
     "start_time": "2021-11-29T19:17:01.301940Z"
    }
   },
   "outputs": [
    {
     "name": "stdout",
     "output_type": "stream",
     "text": [
      "CPU times: user 17.6 ms, sys: 12.3 ms, total: 29.8 ms\n",
      "Wall time: 28.8 ms\n"
     ]
    }
   ],
   "source": [
    "%%time\n",
    "import scipy.io as sio\n",
    "\n",
    "#Import velocity data from file in data-folder\n",
    "mat_file = sio.loadmat('../../../../Data/Aviso/Agulhas_AVISO.mat')\n",
    "\n",
    "U = mat_file['u'][:,:,:]\n",
    "V = mat_file['v'][:,:,:]\n",
    "x = mat_file['x']\n",
    "y = mat_file['y']\n",
    "time_data = mat_file['t'][:,:]"
   ]
  },
  {
   "cell_type": "markdown",
   "metadata": {},
   "source": [
    "# Data/Parameters for Dynamical System"
   ]
  },
  {
   "cell_type": "code",
   "execution_count": 4,
   "metadata": {
    "ExecuteTime": {
     "end_time": "2021-11-29T19:17:01.341835Z",
     "start_time": "2021-11-29T19:17:01.337728Z"
    }
   },
   "outputs": [],
   "source": [
    "import numpy as np\n",
    "\n",
    "# number of cores to be used for parallel computing\n",
    "Ncores = 18\n",
    "\n",
    "# time resolution of data\n",
    "dt_data = time_data[0, 1]-time_data[0,0]\n",
    "\n",
    "# periodic boundary conditions\n",
    "periodic_x = False\n",
    "periodic_y = False\n",
    "periodic = [periodic_x, periodic_y]\n",
    "\n",
    "# unsteady velocity field\n",
    "bool_unsteady = True\n",
    "\n",
    "# defined domain\n",
    "defined_domain = np.isfinite(U[:,:,0]).astype(int)\n",
    "\n",
    "## compute meshgrid of dataset\n",
    "X, Y = np.meshgrid(x, y)\n",
    "\n",
    "## resolution of meshgrid\n",
    "dx_data = X[0,1]-X[0,0]\n",
    "dy_data = Y[1,0]-Y[0,0]\n",
    "\n",
    "delta = [dx_data, dy_data]"
   ]
  },
  {
   "cell_type": "markdown",
   "metadata": {},
   "source": [
    "# Spatio-Temporal Domain of Dynamical System"
   ]
  },
  {
   "cell_type": "code",
   "execution_count": 5,
   "metadata": {
    "ExecuteTime": {
     "end_time": "2021-11-29T19:17:01.346843Z",
     "start_time": "2021-11-29T19:17:01.343394Z"
    }
   },
   "outputs": [
    {
     "name": "stdout",
     "output_type": "stream",
     "text": [
      "CPU times: user 470 µs, sys: 513 µs, total: 983 µs\n",
      "Wall time: 492 µs\n"
     ]
    }
   ],
   "source": [
    "%%time\n",
    "# Initial time (in days)\n",
    "t0 = 0\n",
    "\n",
    "# Final time (in days)\n",
    "tN = 25\n",
    "\n",
    "# time step-size (in days)\n",
    "dt = .1\n",
    "\n",
    "# Time resolution: N = len(time)\n",
    "time = np.arange(t0, tN+dt, dt)\n",
    "\n",
    "# length of time interval (in days)\n",
    "lenT = tN-t0\n",
    "\n",
    "# longitudinal and latitudinal boundaries (in degrees)\n",
    "xmin = -3\n",
    "xmax = 1\n",
    "ymin = -34\n",
    "ymax = -30\n",
    "\n",
    "# spacing of meshgrid (in degrees)\n",
    "dx = 0.02\n",
    "dy = 0.02\n",
    "\n",
    "# Spatial resolution Nx = len(x_domain), Ny = len(y_domain)\n",
    "x_domain = np.arange(xmin, xmax + dx, dx)\n",
    "y_domain = np.arange(ymin, ymax + dy, dy)\n",
    "\n",
    "X_domain, Y_domain = np.meshgrid(x_domain, y_domain)"
   ]
  },
  {
   "cell_type": "markdown",
   "metadata": {},
   "source": [
    "# Velocity Interpolation"
   ]
  },
  {
   "cell_type": "markdown",
   "metadata": {},
   "source": [
    "In order to evaluate the velocity field at arbitrary locations and times, we must interpolate the discrete velocity data. The interpolation with respect to time is always linear. The interpolation with respect to space can be chosen to be \"cubic\" or \"linear\". In order to favour a smooth velocity field, we interpolate the velocity field in space using a cubic interpolant. "
   ]
  },
  {
   "cell_type": "code",
   "execution_count": 6,
   "metadata": {
    "ExecuteTime": {
     "end_time": "2021-11-29T19:17:01.496855Z",
     "start_time": "2021-11-29T19:17:01.349219Z"
    }
   },
   "outputs": [
    {
     "name": "stdout",
     "output_type": "stream",
     "text": [
      "CPU times: user 126 ms, sys: 20 ms, total: 146 ms\n",
      "Wall time: 145 ms\n"
     ]
    }
   ],
   "source": [
    "%%time\n",
    "# Import interpolation function for unsteady flow field\n",
    "from ipynb.fs.defs.Interpolant import interpolant_unsteady\n",
    "\n",
    "# Interpolate velocity data using cubic spatial interpolation\n",
    "Interpolant = interpolant_unsteady(X, Y, U, V, time_data, method = \"cubic\")"
   ]
  },
  {
   "cell_type": "markdown",
   "metadata": {},
   "source": [
    "# Diffusion Barrier Sensitivity (DBS)\n",
    "\n",
    "Next, we compute the DBS over the meshgrid over the given time-interval.\n",
    "We iterate over all initial conditions and first calculate the gradient of the flow map using an auxiliary grid. 'aux_grid' specifies the ratio between the auxiliary grid and the original meshgrid. This parameter is generally chosen to be between $ [\\dfrac{1}{10}, \\dfrac{1}{100}] $. From the gradient of the flow map and the given diffusivity tensor, we can then compute the average transport tensor. \n",
    "\n",
    "The $\\mathrm{DBS}$ is computed from the trace of the averaged transport tensor $ \\mathrm{\\overline{T}_{t_0}^{t_N}}(\\mathbf{x}_0) $:\n",
    "\n",
    "\\begin{equation}\n",
    "\\mathrm{DBS}_{t_0}^{t_N}(\\mathbf{x}_0)) = \\mathrm{trace}(\\mathrm{\\overline{T}_{t_0}^{t_N}}(\\mathbf{x}_0)) \n",
    "\\end{equation}\n",
    "\n",
    "The iteration over the meshgrid is parallelized."
   ]
  },
  {
   "cell_type": "code",
   "execution_count": null,
   "metadata": {
    "ExecuteTime": {
     "start_time": "2021-11-29T19:17:00.919Z"
    }
   },
   "outputs": [
    {
     "data": {
      "application/vnd.jupyter.widget-view+json": {
       "model_id": "035b02749954488687d0cdf076261491",
       "version_major": 2,
       "version_minor": 0
      },
      "text/plain": [
       "  0%|          | 0/201 [00:00<?, ?it/s]"
      ]
     },
     "metadata": {},
     "output_type": "display_data"
    }
   ],
   "source": [
    "%%time\n",
    "# Import gradient of flow map\n",
    "from ipynb.fs.defs.gradient_flowmap import gradient_flowmap\n",
    "\n",
    "# Import function which computes eigenvalues/eigenvectors\n",
    "from ipynb.fs.defs.eigen import eigen\n",
    "\n",
    "# Import package for progress bar\n",
    "from tqdm.notebook import tqdm\n",
    "\n",
    "# Import package for parallel computing\n",
    "from joblib import Parallel, delayed\n",
    "\n",
    "# Import function for computing Diffusion Barrier Sensitivity\n",
    "from ipynb.fs.defs.DBS import _DBS\n",
    "\n",
    "# Import function for c flow map\n",
    "from ipynb.fs.defs.integration_dFdt import integration_dFdt\n",
    "\n",
    "# Import function for computing Diffusion Cauchy Green strain tensor\n",
    "from ipynb.fs.defs.DiffusionCauchyGreen import _DiffusionCauchyGreen\n",
    "\n",
    "# Import RegularGridInterpolator\n",
    "from scipy.interpolate import RegularGridInterpolator\n",
    "\n",
    "# Define ratio of auxiliary grid spacing vs original grid_spacing\n",
    "aux_grid_ratio = .1 # [1/10, 1/100]\n",
    "aux_grid = [np.around(aux_grid_ratio*(X_domain[0, 1]-X_domain[0, 0]), 5), np.around(aux_grid_ratio*(Y_domain[1, 0]-Y_domain[0, 0]), 5)]\n",
    "\n",
    "# Components of diffusivity tensor D11, D12, D22 over spatial meshgrid and time have shape (Ny, Nx, N)\n",
    "# , where Ny/Nx are the spatial resolution in the lat/long coordinates\n",
    "# and N the time-resolution of the data\n",
    "D11_field = np.zeros((X.shape[0], Y.shape[1], time_data.shape[1]))\n",
    "D12_field = np.zeros((X.shape[0], Y.shape[1], time_data.shape[1]))\n",
    "D22_field = np.zeros((X.shape[0], Y.shape[1], time_data.shape[1]))\n",
    "\n",
    "# Diffusivity Tensor (we set it to be constant in space and time \n",
    "# but it can generally be anisotropic and temporally varying)\n",
    "D11 = 1\n",
    "D12 = 0\n",
    "D22 = 1\n",
    "D11_field[:,:,:] = D11\n",
    "D12_field[:,:,:] = D12\n",
    "D22_field[:,:,:] = D22\n",
    "\n",
    "# Interpolate D11_field/D12_field/D22_field over spatial and temporal domain\n",
    "Interpolant_D11 = RegularGridInterpolator((Y[:,0], X[0,:], time_data[0,:]), D11_field)\n",
    "Interpolant_D12 = RegularGridInterpolator((Y[:,0], X[0,:], time_data[0,:]), D12_field)\n",
    "Interpolant_D22 = RegularGridInterpolator((Y[:,0], X[0,:], time_data[0,:]), D22_field)\n",
    "\n",
    "def parallel_DBS(i):\n",
    "    \n",
    "    DBS_parallel = X_domain[0,:].copy()*np.nan\n",
    "    \n",
    "    for j in range(X_domain.shape[1]):\n",
    "        \n",
    "        # set initial condition\n",
    "        x = np.array([X_domain[i, j], Y_domain[i, j]])\n",
    "    \n",
    "        # compute gradient of flow map from finite differencing \n",
    "        gradFmap = gradient_flowmap(time, x, X, Y, Interpolant, periodic, defined_domain, bool_unsteady, dt_data, delta, aux_grid)\n",
    "        \n",
    "        Fmap = integration_dFdt(time, x, X, Y, Interpolant, periodic, defined_domain, bool_unsteady, dt_data, delta)[0]\n",
    "        \n",
    "        # gradFmap has shape (2, 2, N) and \n",
    "        # stores the gradient of the flow map from t0 to t, where t ranges from t0 to tN\n",
    "        \n",
    "        Cd_avg = _DiffusionCauchyGreen(Interpolant_D11, Interpolant_D12, Interpolant_D22, time, Fmap, gradFmap, lenT)\n",
    "        \n",
    "        DBS_parallel[j] = _DBS(Cd_avg, lenT)\n",
    "        \n",
    "    return DBS_parallel\n",
    "\n",
    "DBS = np.array(Parallel(n_jobs=Ncores, verbose = 0)(delayed(parallel_DBS)(i) for i in tqdm(range(X_domain.shape[0]))))"
   ]
  },
  {
   "cell_type": "code",
   "execution_count": null,
   "metadata": {
    "ExecuteTime": {
     "start_time": "2021-11-29T19:17:00.920Z"
    }
   },
   "outputs": [],
   "source": [
    "######################## PLOT RESULTS ########################\n",
    "import matplotlib.pyplot as plt\n",
    "\n",
    "# Figure/Axes\n",
    "fig = plt.figure(figsize=(16, 10), dpi = 600)\n",
    "ax = plt.axes()\n",
    "\n",
    "# Contourplot of TSE over meshgrid of initial conditions\n",
    "cax = ax.contourf(X_domain, Y_domain, np.log(DBS), cmap = \"gist_gray\", levels = 600)\n",
    "\n",
    "# Axis Labels\n",
    "ax.set_xlabel(\"long (°)\", fontsize = 16)\n",
    "ax.set_ylabel(\"lat (°)\", fontsize = 16)\n",
    "\n",
    "# Ticks\n",
    "ax.set_xticks(np.arange(np.min(X_domain), np.max(X_domain), 1))\n",
    "ax.set_yticks(np.arange(np.min(Y_domain), np.max(Y_domain), 1))\n",
    "\n",
    "# Colorbar\n",
    "#cbar = fig.colorbar(cax, ticks = np.linspace(0, .4, 9))\n",
    "#cbar.ax.set_ylabel(r'$(\\dfrac{1}{d})$', rotation = 0, labelpad = 10, fontsize = 16)\n",
    "\n",
    "# Title\n",
    "ax.set_title(r'$ \\mathrm{DBS}$'+f'$_{{{int(time[0])}}}^{{{int(time[-1])}}}$'+r'$(\\mathbf{x})$', fontsize = 20)\n",
    "\n",
    "plt.show()"
   ]
  },
  {
   "cell_type": "code",
   "execution_count": null,
   "metadata": {},
   "outputs": [],
   "source": []
  }
 ],
 "metadata": {
  "kernelspec": {
   "display_name": "Python 3",
   "language": "python",
   "name": "python3"
  },
  "language_info": {
   "codemirror_mode": {
    "name": "ipython",
    "version": 3
   },
   "file_extension": ".py",
   "mimetype": "text/x-python",
   "name": "python",
   "nbconvert_exporter": "python",
   "pygments_lexer": "ipython3",
   "version": "3.7.11"
  },
  "toc": {
   "base_numbering": 1,
   "nav_menu": {},
   "number_sections": true,
   "sideBar": true,
   "skip_h1_title": false,
   "title_cell": "Table of Contents",
   "title_sidebar": "Contents",
   "toc_cell": false,
   "toc_position": {},
   "toc_section_display": true,
   "toc_window_display": false
  }
 },
 "nbformat": 4,
 "nbformat_minor": 4
}
