{
 "cells": [
  {
   "cell_type": "code",
   "execution_count": 1,
   "metadata": {
    "ExecuteTime": {
     "end_time": "2022-03-03T16:50:01.728333Z",
     "start_time": "2022-03-03T16:50:01.723155Z"
    },
    "code_folding": [
     0
    ]
   },
   "outputs": [],
   "source": [
    "# import sys/os\n",
    "import sys, os\n",
    "\n",
    "# get current directory\n",
    "path = os.getcwd()\n",
    "\n",
    "# get parent directory\n",
    "parent_directory = os.path.sep.join(path.split(os.path.sep)[:-3])\n",
    "\n",
    "# add utils folder to current working path\n",
    "sys.path.append(parent_directory+\"/subfunctions/utils\")\n",
    "\n",
    "# add integration folder to current working path\n",
    "sys.path.append(parent_directory+\"/subfunctions/integration\")"
   ]
  },
  {
   "cell_type": "markdown",
   "metadata": {},
   "source": [
    "# Overview\n",
    "\n",
    "In the following demos we illustrate how to compute the Polar Decomposition (PD) of the gradient of the flow map $ \\nabla F_{t_0}^t(\\mathbf{x}_0) $ on a general three dimensional unsteady velocity dataset. In our case we chose the ABC which is used throughout the demos on advective barriers in 3D. The notebook is structured as follows:\n",
    "\n",
    "1. Import data from the file 'ABCunsteady.mat' stored in the folder 'data/ABC'.\n",
    "2. Define computational parameters and data.\n",
    "3. Interpolate velocity from (discrete) gridded data.\n",
    "4. Compute gradient of flow map $ \\mathbf{\\nabla F}_{t_0}^{t_N}(\\mathbf{x}_0) $.\n",
    "5. SVD on $ \\mathbf{\\nabla F}_{t_0}^{t_N}(\\mathbf{x}_0) $"
   ]
  },
  {
   "cell_type": "markdown",
   "metadata": {},
   "source": [
    "# Import data"
   ]
  },
  {
   "cell_type": "code",
   "execution_count": 2,
   "metadata": {
    "ExecuteTime": {
     "end_time": "2022-03-03T16:50:02.377056Z",
     "start_time": "2022-03-03T16:50:01.748306Z"
    },
    "code_folding": [
     0
    ]
   },
   "outputs": [],
   "source": [
    "# import scipy\n",
    "import scipy.io as sio\n",
    "\n",
    "# Import velocity data from file in data-folder\n",
    "mat_file = sio.loadmat('../../../data/ABC/ABCunsteady.mat')\n",
    "\n",
    "U = mat_file['u'] # array (NY, NX, NZ)\n",
    "V = mat_file['v'] # array (NY, NX, NZ)\n",
    "W = mat_file['w'] # array (NY, NX, NZ)\n",
    "x = mat_file['x'] # array (1, NX)\n",
    "y = mat_file['y'] # array (1, NY)\n",
    "z = mat_file['z'] # array (1, NZ)\n",
    "time_data = mat_file['t']"
   ]
  },
  {
   "cell_type": "markdown",
   "metadata": {},
   "source": [
    "# Computational parameters and data\n",
    "\n",
    "Here we define the computational parameters and the data."
   ]
  },
  {
   "cell_type": "code",
   "execution_count": 3,
   "metadata": {
    "ExecuteTime": {
     "end_time": "2022-03-03T16:50:02.438639Z",
     "start_time": "2022-03-03T16:50:02.380713Z"
    },
    "code_folding": [
     0
    ]
   },
   "outputs": [],
   "source": [
    "# import numpy\n",
    "import numpy as np\n",
    "\n",
    "# Number of cores for parallel computing\n",
    "Ncores = 7 # int\n",
    "\n",
    "# Periodic boundary conditions\n",
    "periodic_x = True # bool\n",
    "periodic_y = True # bool\n",
    "periodic_z = True # bool\n",
    "periodic = [periodic_x, periodic_y, periodic_z]\n",
    "\n",
    "# Unsteady velocity field\n",
    "bool_unsteady = True # bool\n",
    "\n",
    "# Defined domain\n",
    "defined_domain = np.isfinite(U).astype(int) # array (NY, NX, NZ)\n",
    "\n",
    "## Compute meshgrid of dataset\n",
    "X, Y, Z = np.meshgrid(x, y, z) # array (NY, NX), array (NY, NX, NZ)\n",
    "\n",
    "## Resolution of meshgrid\n",
    "dx_data = X[0,1,0]-X[0,0,0] # float\n",
    "dy_data = Y[1,0,0]-Y[0,0,0] # float\n",
    "dz_data = Y[0,0,1]-Z[0,0,0] # float\n",
    "\n",
    "delta = [dx_data, dy_data, dx_data] # list (3, )"
   ]
  },
  {
   "cell_type": "markdown",
   "metadata": {},
   "source": [
    "# Interpolate velocity\n",
    "\n",
    "In order to evaluate the velocity field at arbitrary locations, we interpolate the discrete velocity data. The interpolation with respect to time and space is linear."
   ]
  },
  {
   "cell_type": "code",
   "execution_count": 4,
   "metadata": {
    "ExecuteTime": {
     "end_time": "2022-03-03T16:50:02.588961Z",
     "start_time": "2022-03-03T16:50:02.443314Z"
    },
    "code_folding": [
     0
    ]
   },
   "outputs": [],
   "source": [
    "# Import interpolation function for unsteady flow field\n",
    "from ipynb.fs.defs.Interpolant import interpolant_unsteady\n",
    "\n",
    "# Set nan values to zero (in case there are any) so that we can apply interpolant. \n",
    "# Interpolant does not work if the array contains nan values. \n",
    "U[np.isnan(U)] = 0\n",
    "V[np.isnan(V)] = 0\n",
    "W[np.isnan(W)] = 0\n",
    "\n",
    "# Interpolate velocity data using cubic spatial interpolation\n",
    "Interpolant = interpolant_unsteady(X, Y, Z, U, V, W, time_data)\n",
    "\n",
    "Interpolant_u = Interpolant[0] # RectangularBivariateSpline-object\n",
    "Interpolant_v = Interpolant[1] # RectangularBivariateSpline-object\n",
    "Interpolant_w = Interpolant[2] # RectangularBivariateSpline-object"
   ]
  },
  {
   "cell_type": "markdown",
   "metadata": {},
   "source": [
    "# Compute gradient of the flow map $ \\nabla F_{t_0}^t(\\mathbf{x}_0) $"
   ]
  },
  {
   "cell_type": "code",
   "execution_count": 5,
   "metadata": {
    "ExecuteTime": {
     "end_time": "2022-03-03T16:50:13.503534Z",
     "start_time": "2022-03-03T16:50:02.592659Z"
    },
    "code_folding": [
     0
    ]
   },
   "outputs": [],
   "source": [
    "# Import function to compute gradient of flow map\n",
    "from ipynb.fs.defs.gradient_flowmap import gradient_flowmap\n",
    "\n",
    "# import package used to suppress output of integration of flow map. \n",
    "from IPython.utils import io\n",
    "\n",
    "# Initial time\n",
    "t0 = 0\n",
    "\n",
    "# Final time\n",
    "tN = 10\n",
    "\n",
    "# Time step-size (in days)\n",
    "dt = .1\n",
    "\n",
    "# NOTE: For computing the backward trajectories set: tN < t0 and dt < 0.\n",
    "\n",
    "time = np.arange(t0, tN+dt, dt) # len(time) = N\n",
    "\n",
    "# auxiliary grid\n",
    "aux_grid = [0.01, 0.01, 0.01]\n",
    "\n",
    "# initial x/y-coordinate\n",
    "x0 = 3\n",
    "y0 = 3.4\n",
    "z0 = 1\n",
    "\n",
    "#Initial conditions\n",
    "X0 = np.array([x0, y0, z0]).reshape(3,-1)\n",
    "\n",
    "# Compute gradient of flow map\n",
    "with io.capture_output() as captured:\n",
    "    gradFmap = gradient_flowmap(time, X0, X, Y, Z, Interpolant_u, Interpolant_v, Interpolant_w, periodic, bool_unsteady, aux_grid) # array (Nt, 3, 3, 1)\n",
    "\n",
    "# gradFmap stores the gradient of the flow map for all t in [t0,tN] \n",
    "# for the trajectory starting at the initial condition defined above.\n",
    "# We extract gradient of flow map over the time-interval [t0,tN]\n",
    "gradFmap_t0_tN = gradFmap[-1,:,:,0]"
   ]
  },
  {
   "cell_type": "markdown",
   "metadata": {},
   "source": [
    "# Polar Decomposition of $ \\nabla F_{t_0}^t(\\mathbf{x}_0) $"
   ]
  },
  {
   "cell_type": "code",
   "execution_count": 6,
   "metadata": {
    "ExecuteTime": {
     "end_time": "2022-03-03T16:50:13.531311Z",
     "start_time": "2022-03-03T16:50:13.506506Z"
    },
    "code_folding": [
     8
    ],
    "run_control": {
     "marked": true
    }
   },
   "outputs": [
    {
     "data": {
      "text/markdown": [
       "\n",
       "   \n",
       "   $\\nabla \\mathbf{F}_{t_0}^{t_N}(\\mathbf{x}_0)$: $\\begin{pmatrix} -53.02895 & -11.45559 & -23.99325 \\\\ 25.98267 & 4.916453 & 11.39278 \\\\ -25.70481 & -6.023877 & -12.48539 \\end{pmatrix} $\n",
       "   \n",
       "   $\\mathbf{R}_{t_0}^{t_N}(\\mathbf{x}_0)$: $\\begin{pmatrix} -0.840608 & -0.536281 & 0.07603256 \\\\ 0.5405135 & -0.8214828 & 0.1816896 \\\\ 0.03497724 & -0.1938263 & -0.9804121 \\end{pmatrix} $\n",
       "   \n",
       "   $\\mathbf{U}_{t_0}^{t_N}(\\mathbf{x}_0)$: $\\begin{pmatrix} 57.72146 & 12.07637 & 25.89017 \\\\ 12.07637 & 3.272221 & 5.928152 \\\\ 25.89017 & 5.928152 & 12.4865 \\end{pmatrix} $\n",
       "   \n",
       "   $\\mathbf{V}_{t_0}^{t_N}(\\mathbf{x}_0)$: $\\begin{pmatrix} 48.89571 & -23.61162 & -11.21375 \\\\ -23.61162 & 12.07515 & -11.21375 \\\\ 23.88887 & -11.21375 & 12.50933 \\end{pmatrix} $\n",
       "   \n",
       "   "
      ],
      "text/plain": [
       "<IPython.core.display.Markdown object>"
      ]
     },
     "metadata": {},
     "output_type": "display_data"
    }
   ],
   "source": [
    "# import function to compute PD\n",
    "from ipynb.fs.defs.PD import PD\n",
    "\n",
    "# import package to print latex statement\n",
    "from IPython.display import display, Markdown\n",
    "\n",
    "R, U, V = PD(gradFmap_t0_tN)\n",
    "\n",
    "display(Markdown(\n",
    "   rf\"\"\"\n",
    "   \n",
    "   $\\nabla \\mathbf{{F}}_{{t_0}}^{{t_N}}(\\mathbf{{x}}_0)$: $\\begin{{pmatrix}} {gradFmap_t0_tN[0,0]:5.7} & {gradFmap_t0_tN[0,1]:5.7} & {gradFmap_t0_tN[0,2]:5.7} \\\\ {gradFmap_t0_tN[1,0]:5.7} & {gradFmap_t0_tN[1,1]:5.7} & {gradFmap_t0_tN[1,2]:5.7} \\\\ {gradFmap_t0_tN[2,0]:5.7} & {gradFmap_t0_tN[2,1]:5.7} & {gradFmap_t0_tN[2,2]:5.7} \\end{{pmatrix}} $\n",
    "   \n",
    "   $\\mathbf{{R}}_{{t_0}}^{{t_N}}(\\mathbf{{x}}_0)$: $\\begin{{pmatrix}} {R[0,0]:5.7} & {R[0,1]:5.7} & {R[0,2]:5.7} \\\\ {R[1,0]:5.7} & {R[1,1]:5.7} & {R[1,2]:5.7} \\\\ {R[2,0]:5.7} & {R[2,1]:5.7} & {R[2,2]:5.7} \\end{{pmatrix}} $\n",
    "   \n",
    "   $\\mathbf{{U}}_{{t_0}}^{{t_N}}(\\mathbf{{x}}_0)$: $\\begin{{pmatrix}} {U[0,0]:5.7} & {U[0,1]:5.7} & {U[0,2]:5.7} \\\\ {U[1,0]:5.7} & {U[1,1]:5.7} & {U[1,2]:5.7} \\\\ {U[2,0]:5.7} & {U[2,1]:5.7} & {U[2,2]:5.7} \\end{{pmatrix}} $\n",
    "   \n",
    "   $\\mathbf{{V}}_{{t_0}}^{{t_N}}(\\mathbf{{x}}_0)$: $\\begin{{pmatrix}} {V[0,0]:5.7} & {V[0,1]:5.7} & {V[1,2]:5.7} \\\\ {V[1,0]:5.7} & {V[1,1]:5.7} & {V[1,2]:5.7} \\\\ {V[2,0]:5.7} & {V[2,1]:5.7} & {V[2,2]:5.7} \\end{{pmatrix}} $\n",
    "   \n",
    "   \"\"\"))"
   ]
  },
  {
   "cell_type": "markdown",
   "metadata": {
    "ExecuteTime": {
     "end_time": "2022-02-17T20:38:22.214771Z",
     "start_time": "2022-02-17T20:38:22.199811Z"
    }
   },
   "source": [
    "# References\n",
    "\n",
    "[1] Notebook 2.3.4. in \"Transport Barriers and Coherent Structures in Flow Data\" by Prof. George Haller."
   ]
  }
 ],
 "metadata": {
  "kernelspec": {
   "display_name": "Python 3",
   "language": "python",
   "name": "python3"
  },
  "language_info": {
   "codemirror_mode": {
    "name": "ipython",
    "version": 3
   },
   "file_extension": ".py",
   "mimetype": "text/x-python",
   "name": "python",
   "nbconvert_exporter": "python",
   "pygments_lexer": "ipython3",
   "version": "3.7.11"
  },
  "latex_envs": {
   "LaTeX_envs_menu_present": true,
   "autoclose": false,
   "autocomplete": true,
   "bibliofile": "biblio.bib",
   "cite_by": "apalike",
   "current_citInitial": 1,
   "eqLabelWithNumbers": true,
   "eqNumInitial": 1,
   "hotkeys": {
    "equation": "Ctrl-E",
    "itemize": "Ctrl-I"
   },
   "labels_anchors": false,
   "latex_user_defs": false,
   "report_style_numbering": false,
   "user_envs_cfg": false
  },
  "toc": {
   "base_numbering": "0",
   "nav_menu": {},
   "number_sections": true,
   "sideBar": true,
   "skip_h1_title": false,
   "title_cell": "Table of Contents",
   "title_sidebar": "Contents",
   "toc_cell": false,
   "toc_position": {},
   "toc_section_display": true,
   "toc_window_display": true
  }
 },
 "nbformat": 4,
 "nbformat_minor": 4
}
