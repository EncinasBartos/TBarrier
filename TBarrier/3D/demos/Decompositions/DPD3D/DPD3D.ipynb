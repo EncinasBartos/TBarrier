{
 "cells": [
  {
   "cell_type": "code",
   "execution_count": 1,
   "metadata": {
    "ExecuteTime": {
     "end_time": "2022-03-03T16:48:57.665501Z",
     "start_time": "2022-03-03T16:48:57.657791Z"
    },
    "code_folding": [
     0
    ]
   },
   "outputs": [],
   "source": [
    "# import sys/os\n",
    "import sys, os\n",
    "\n",
    "# get current directory\n",
    "path = os.getcwd()\n",
    "\n",
    "# get parent directory\n",
    "parent_directory = os.path.sep.join(path.split(os.path.sep)[:-3])\n",
    "\n",
    "# add utils folder to current working path\n",
    "sys.path.append(parent_directory+\"/subfunctions/utils\")\n",
    "\n",
    "# add integration folder to current working path\n",
    "sys.path.append(parent_directory+\"/subfunctions/integration\")"
   ]
  },
  {
   "cell_type": "markdown",
   "metadata": {},
   "source": [
    "# Overview\n",
    "\n",
    "In the following demos we illustrate how to compute the Dynamic Polar Decomposition (DPD) of the gradient of the flow map $ \\nabla F_{t_0}^t(\\mathbf{x}_0) $ on a general three dimensional unsteady velocity dataset. In our case we chose the unsteady ABC-flow which is used throughout the demos on advective barriers in 3D. The notebook is structured as follows:\n",
    "\n",
    "1. Import data from the file 'ABCunsteady.mat' stored in the folder 'data/ABC'.\n",
    "2. Define computational parameters and data.\n",
    "3. Interpolate velocity from (discrete) gridded data.\n",
    "4. Compute $ \\mathbf{\\nabla F}_{t_0}^{t}(\\mathbf{x}_0), \\mathbf{F}_{t_0}^{t}(\\mathbf{x}_0), \\mathbf{W_{t_0}^{t}(\\mathbf{x}_0)}, \\mathbf{\\overline{W}}(t), \\quad \\forall t \\in [t_0, t_N] $.\n",
    "5. DPD of $ \\mathbf{\\nabla F}_{t_0}^{t_N}(\\mathbf{x}_0) $"
   ]
  },
  {
   "cell_type": "markdown",
   "metadata": {},
   "source": [
    "# Import data"
   ]
  },
  {
   "cell_type": "code",
   "execution_count": 2,
   "metadata": {
    "ExecuteTime": {
     "end_time": "2022-03-03T16:48:58.338921Z",
     "start_time": "2022-03-03T16:48:57.689908Z"
    },
    "code_folding": [
     0
    ]
   },
   "outputs": [],
   "source": [
    "# import scipy\n",
    "import scipy.io as sio\n",
    "\n",
    "# Import velocity data from file in data-folder\n",
    "mat_file = sio.loadmat('../../../data/ABC/ABCunsteady.mat')\n",
    "\n",
    "U = mat_file['u'] # array (NY, NX, NZ)\n",
    "V = mat_file['v'] # array (NY, NX, NZ)\n",
    "W = mat_file['w'] # array (NY, NX, NZ)\n",
    "x = mat_file['x'] # array (1, NX)\n",
    "y = mat_file['y'] # array (1, NY)\n",
    "z = mat_file['z'] # array (1, NZ)\n",
    "time_data = mat_file['t']"
   ]
  },
  {
   "cell_type": "markdown",
   "metadata": {},
   "source": [
    "# Computational parameters and data\n",
    "\n",
    "Here we define the computational parameters and the data."
   ]
  },
  {
   "cell_type": "code",
   "execution_count": 3,
   "metadata": {
    "ExecuteTime": {
     "end_time": "2022-03-03T16:48:58.408946Z",
     "start_time": "2022-03-03T16:48:58.342747Z"
    },
    "code_folding": [
     0
    ]
   },
   "outputs": [],
   "source": [
    "# import numpy\n",
    "import numpy as np\n",
    "\n",
    "# Number of cores for parallel computing\n",
    "Ncores = 7 # int\n",
    "\n",
    "# Periodic boundary conditions\n",
    "periodic_x = True # bool\n",
    "periodic_y = True # bool\n",
    "periodic_z = True # bool\n",
    "periodic = [periodic_x, periodic_y, periodic_z]\n",
    "\n",
    "# Unsteady velocity field\n",
    "bool_unsteady = True # bool\n",
    "\n",
    "# Defined domain\n",
    "defined_domain = np.isfinite(U).astype(int) # array (NY, NX, NZ)\n",
    "\n",
    "## Compute meshgrid of dataset\n",
    "X, Y, Z = np.meshgrid(x, y, z) # array (NY, NX), array (NY, NX, NZ)\n",
    "\n",
    "## Resolution of meshgrid\n",
    "dx_data = X[0,1,0]-X[0,0,0] # float\n",
    "dy_data = Y[1,0,0]-Y[0,0,0] # float\n",
    "dz_data = Y[0,0,1]-Z[0,0,0] # float\n",
    "\n",
    "delta = [dx_data, dy_data, dx_data] # list (3, )"
   ]
  },
  {
   "cell_type": "markdown",
   "metadata": {},
   "source": [
    "# Interpolate velocity\n",
    "\n",
    "In order to evaluate the velocity field at arbitrary locations, we interpolate the discrete velocity data. The interpolation with respect to time and space is linear."
   ]
  },
  {
   "cell_type": "code",
   "execution_count": 4,
   "metadata": {
    "ExecuteTime": {
     "end_time": "2022-03-03T16:48:58.555191Z",
     "start_time": "2022-03-03T16:48:58.413039Z"
    },
    "code_folding": [
     0
    ],
    "run_control": {
     "marked": false
    }
   },
   "outputs": [],
   "source": [
    "# Import interpolation function for unsteady flow field\n",
    "from ipynb.fs.defs.Interpolant import interpolant_unsteady\n",
    "\n",
    "# Set nan values to zero (in case there are any) so that we can apply interpolant. \n",
    "# Interpolant does not work if the array contains nan values. \n",
    "U[np.isnan(U)] = 0\n",
    "V[np.isnan(V)] = 0\n",
    "W[np.isnan(W)] = 0\n",
    "\n",
    "# Interpolate velocity data using cubic spatial interpolation\n",
    "Interpolant = interpolant_unsteady(X, Y, Z, U, V, W, time_data)\n",
    "\n",
    "Interpolant_u = Interpolant[0] # RectangularBivariateSpline-object\n",
    "Interpolant_v = Interpolant[1] # RectangularBivariateSpline-object\n",
    "Interpolant_w = Interpolant[2] # RectangularBivariateSpline-object"
   ]
  },
  {
   "cell_type": "markdown",
   "metadata": {},
   "source": [
    "# Compute $ \\mathbf{\\nabla F}_{t_0}^{t}(\\mathbf{x}_0), \\mathbf{F}_{t_0}^{t}(\\mathbf{x}_0), \\mathbf{W_{t_0}^{t}(\\mathbf{x}_0)}, \\mathbf{\\overline{W}}(t), \\quad \\forall t \\in [t_0, t_N] $."
   ]
  },
  {
   "cell_type": "code",
   "execution_count": 5,
   "metadata": {
    "ExecuteTime": {
     "end_time": "2022-03-03T16:49:40.374919Z",
     "start_time": "2022-03-03T16:48:58.559384Z"
    },
    "code_folding": [
     0
    ]
   },
   "outputs": [
    {
     "data": {
      "application/vnd.jupyter.widget-view+json": {
       "model_id": "a172a844ccf84e4fb44fa9053e1f58ce",
       "version_major": 2,
       "version_minor": 0
      },
      "text/plain": [
       "  0%|          | 0/201 [00:00<?, ?it/s]"
      ]
     },
     "metadata": {},
     "output_type": "display_data"
    },
    {
     "data": {
      "application/vnd.jupyter.widget-view+json": {
       "model_id": "d8b2373db6f047959b452d30def3338c",
       "version_major": 2,
       "version_minor": 0
      },
      "text/plain": [
       "  0%|          | 0/201 [00:00<?, ?it/s]"
      ]
     },
     "metadata": {},
     "output_type": "display_data"
    }
   ],
   "source": [
    "# Import function to compute gradient of flow map\n",
    "from ipynb.fs.defs.gradient_flowmap import gradient_flowmap\n",
    "\n",
    "# Import function to compute flow map\n",
    "from ipynb.fs.defs.integration_dFdt import integration_dFdt\n",
    "\n",
    "# Import function to compute gradient of velocity\n",
    "from ipynb.fs.defs.gradient_velocity import gradient_velocity\n",
    "\n",
    "# import package used to suppress output of integration of flow map. \n",
    "from IPython.utils import io\n",
    "\n",
    "# import package for progress bar\n",
    "from tqdm.notebook import tqdm\n",
    "\n",
    "# Initial time\n",
    "t0 = 0\n",
    "\n",
    "# Final time\n",
    "tN = 10\n",
    "\n",
    "# Time step-size (in days)\n",
    "dt = .05\n",
    "\n",
    "# NOTE: For computing the backward trajectories set: tN < t0 and dt < 0.\n",
    "\n",
    "time = np.arange(t0, tN+dt/2, dt) # len(time) = N\n",
    "\n",
    "# auxiliary grid\n",
    "aux_grid = [0.01, 0.01, 0.01]\n",
    "\n",
    "# initial x/y-coordinate\n",
    "x0 = 3\n",
    "y0 = 3.4\n",
    "z0 = 1\n",
    "\n",
    "#Initial conditions\n",
    "X0 = np.array([x0, y0, z0]).reshape(3,-1)\n",
    "\n",
    "# Compute gradient of flow map\n",
    "with io.capture_output() as captured:\n",
    "    gradFmap = gradient_flowmap(time, X0, X, Y, Z, Interpolant_u, Interpolant_v, Interpolant_w, periodic, bool_unsteady, aux_grid) # array (Nt, 3, 3, 1)\n",
    "    gradFmap = gradFmap[:,:,:,0]\n",
    "    \n",
    "# gradFmap stores the gradient of the flow map for all t in [t0,tN] \n",
    "# for the trajectory starting at the initial condition defined above.\n",
    "\n",
    "# Compute flow map\n",
    "with io.capture_output() as captured:\n",
    "    Fmap = integration_dFdt(time, X0, X, Y, Z, Interpolant_u, Interpolant_v, Interpolant_w, periodic, bool_unsteady)[0] # array (Nt, 3, 3, 1)\n",
    "\n",
    "# Compute average spin tensor over the whole domain:\n",
    "W_avg = []\n",
    "\n",
    "for t in tqdm(time):\n",
    "    \n",
    "    grad_vel = gradient_velocity(t, np.array([X[::5,::5,::5].ravel(), Y[::5,::5,::5].ravel(), Z[::5,::5,::5].ravel()]), X, Y, Z, Interpolant_u, Interpolant_v, Interpolant_w, periodic, bool_unsteady, aux_grid) # array (Nt, 3, 3, NX*NY*NZ)\n",
    "    \n",
    "    W_avg.append(np.mean(grad_vel-grad_vel.transpose(1,0,2), axis = -1))\n",
    "    \n",
    "W_avg = np.array(W_avg)\n",
    "# Compute spin along particle trajectory\n",
    "\n",
    "W = []\n",
    "for t in tqdm(range(len(time))):\n",
    "    \n",
    "    grad_vel = gradient_velocity(t, np.array([Fmap[t,0,0], Fmap[t,1,0], Fmap[t,2,0]]).reshape(3,-1), X, Y, Z, Interpolant_u, Interpolant_v, Interpolant_w, periodic, bool_unsteady, aux_grid) # array (Nt, 3, 3, NX*NY*NZ)\n",
    "    \n",
    "    grad_vel = grad_vel[:,:,0]\n",
    "    \n",
    "    W.append(grad_vel-grad_vel.transpose())\n",
    "    \n",
    "W = np.array(W)"
   ]
  },
  {
   "cell_type": "markdown",
   "metadata": {},
   "source": [
    "# Dynamic Polar Decomposition of $ \\nabla F_{t_0}^t(\\mathbf{x}_0) $"
   ]
  },
  {
   "cell_type": "code",
   "execution_count": 6,
   "metadata": {
    "ExecuteTime": {
     "end_time": "2022-03-03T16:49:40.591544Z",
     "start_time": "2022-03-03T16:49:40.378414Z"
    },
    "code_folding": [
     0
    ],
    "run_control": {
     "marked": false
    }
   },
   "outputs": [],
   "source": [
    "# import function to compute DPD\n",
    "from ipynb.fs.defs.DPD import DPD\n",
    "\n",
    "# import package to print latex statement\n",
    "from IPython.display import display, Markdown\n",
    "\n",
    "Theta, Phi, O, M, N = DPD(gradFmap, W_avg, W, dt)\n",
    "\n",
    "gradFmap_t0_tN = gradFmap[-1,:,:]\n",
    "O_t0_tN = O[-1,:,:]\n",
    "M_t0_tN = M[-1,:,:]\n",
    "N_t0_tN = N[-1,:,:]\n",
    "Theta_t0_tN = Theta[-1,:,:]\n",
    "Phi_t0_tN = Phi[-1,:,:]"
   ]
  },
  {
   "cell_type": "code",
   "execution_count": 7,
   "metadata": {
    "ExecuteTime": {
     "end_time": "2022-03-03T16:49:40.619721Z",
     "start_time": "2022-03-03T16:49:40.595564Z"
    },
    "code_folding": [
     0
    ],
    "run_control": {
     "marked": true
    }
   },
   "outputs": [
    {
     "data": {
      "text/markdown": [
       "\n",
       "   \n",
       "   $\\nabla \\mathbf{F}_{t_0}^{t_N}(\\mathbf{x}_0)$: $\\begin{pmatrix} -52.87116 & -10.93125 & -24.00126 \\\\ 25.9289 & 4.606676 & 11.37006 \\\\ -25.54587 & -5.737868 & -12.48484 \\end{pmatrix} $\n",
       "   \n",
       "   $\\mathbf{O}_{t_0}^{t_N}(\\mathbf{x}_0)$: $\\begin{pmatrix} 19.32343 & 30.6772 & -3.631241 \\\\ -17.18627 & 37.96263 & 4.506541 \\\\ 41.02229 & 1.450651 & -6.985271 \\end{pmatrix} $\n",
       "   \n",
       "   $\\mathbf{M}_{t_0}^{t_N}(\\mathbf{x}_0)$: $\\begin{pmatrix} 5.126924 & 0.9458109 & 2.194956 \\\\ -0.9801368 & -0.2023598 & -0.4383719 \\\\ 33.56237 & 6.333849 & 14.58656 \\end{pmatrix} $\n",
       "   \n",
       "   $\\mathbf{N}_{t_0}^{t_N}(\\mathbf{x}_0)$: $\\begin{pmatrix} 20.79097 & -16.40283 & 8.609235 \\\\ -9.96072 & 7.841517 & 8.609235 \\\\ 10.59954 & -8.367965 & -9.121365 \\end{pmatrix} $\n",
       "   \n",
       "   $\\mathbf{\\Theta}_{t_0}^{t_N}(\\mathbf{x}_0)$: $\\begin{pmatrix} -0.7452687 & 0.3912032 & 0.6285707 \\\\ -0.7874545 & -0.299805 & 0.6285707 \\\\ 0.06829163 & 0.9546513 & 0.5216716 \\end{pmatrix} $\n",
       "   \n",
       "   $\\mathbf{\\Phi}_{t_0}^{t_N}(\\mathbf{x}_0)$: $\\begin{pmatrix} 1.634721 & -24.01146 & 31.57372 \\\\ 22.49798 & 3.2706 & 31.57372 \\\\ -21.10778 & -32.11044 & 0.08507141 \\end{pmatrix} $\n",
       "   \n",
       "   "
      ],
      "text/plain": [
       "<IPython.core.display.Markdown object>"
      ]
     },
     "metadata": {},
     "output_type": "display_data"
    }
   ],
   "source": [
    "display(Markdown(\n",
    "   rf\"\"\"\n",
    "   \n",
    "   $\\nabla \\mathbf{{F}}_{{t_0}}^{{t_N}}(\\mathbf{{x}}_0)$: $\\begin{{pmatrix}} {gradFmap_t0_tN[0,0]:5.7} & {gradFmap_t0_tN[0,1]:5.7} & {gradFmap_t0_tN[0,2]:5.7} \\\\ {gradFmap_t0_tN[1,0]:5.7} & {gradFmap_t0_tN[1,1]:5.7} & {gradFmap_t0_tN[1,2]:5.7} \\\\ {gradFmap_t0_tN[2,0]:5.7} & {gradFmap_t0_tN[2,1]:5.7} & {gradFmap_t0_tN[2,2]:5.7} \\end{{pmatrix}} $\n",
    "   \n",
    "   $\\mathbf{{O}}_{{t_0}}^{{t_N}}(\\mathbf{{x}}_0)$: $\\begin{{pmatrix}} {O_t0_tN[0,0]:5.7} & {O_t0_tN[0,1]:5.7} & {O_t0_tN[0,2]:5.7} \\\\ {O_t0_tN[1,0]:5.7} & {O_t0_tN[1,1]:5.7} & {O_t0_tN[1,2]:5.7} \\\\ {O_t0_tN[2,0]:5.7} & {O_t0_tN[2,1]:5.7} & {O_t0_tN[2,2]:5.7} \\end{{pmatrix}} $\n",
    "   \n",
    "   $\\mathbf{{M}}_{{t_0}}^{{t_N}}(\\mathbf{{x}}_0)$: $\\begin{{pmatrix}} {M_t0_tN[0,0]:5.7} & {M_t0_tN[0,1]:5.7} & {M_t0_tN[0,2]:5.7} \\\\ {M_t0_tN[1,0]:5.7} & {M_t0_tN[1,1]:5.7} & {M_t0_tN[1,2]:5.7} \\\\ {M_t0_tN[2,0]:5.7} & {M_t0_tN[2,1]:5.7} & {M_t0_tN[2,2]:5.7} \\end{{pmatrix}} $\n",
    "   \n",
    "   $\\mathbf{{N}}_{{t_0}}^{{t_N}}(\\mathbf{{x}}_0)$: $\\begin{{pmatrix}} {N_t0_tN[0,0]:5.7} & {N_t0_tN[0,1]:5.7} & {N_t0_tN[1,2]:5.7} \\\\ {N_t0_tN[1,0]:5.7} & {N_t0_tN[1,1]:5.7} & {N_t0_tN[1,2]:5.7} \\\\ {N_t0_tN[2,0]:5.7} & {N_t0_tN[2,1]:5.7} & {N_t0_tN[2,2]:5.7} \\end{{pmatrix}} $\n",
    "   \n",
    "   $\\mathbf{{\\Theta}}_{{t_0}}^{{t_N}}(\\mathbf{{x}}_0)$: $\\begin{{pmatrix}} {Theta_t0_tN[0,0]:5.7} & {Theta_t0_tN[0,1]:5.7} & {Theta_t0_tN[1,2]:5.7} \\\\ {Theta_t0_tN[1,0]:5.7} & {Theta_t0_tN[1,1]:5.7} & {Theta_t0_tN[1,2]:5.7} \\\\ {Theta_t0_tN[2,0]:5.7} & {Theta_t0_tN[2,1]:5.7} & {Theta_t0_tN[2,2]:5.7} \\end{{pmatrix}} $\n",
    "   \n",
    "   $\\mathbf{{\\Phi}}_{{t_0}}^{{t_N}}(\\mathbf{{x}}_0)$: $\\begin{{pmatrix}} {Phi_t0_tN[0,0]:5.7} & {Phi_t0_tN[0,1]:5.7} & {Phi_t0_tN[1,2]:5.7} \\\\ {Phi_t0_tN[1,0]:5.7} & {Phi_t0_tN[1,1]:5.7} & {Phi_t0_tN[1,2]:5.7} \\\\ {Phi_t0_tN[2,0]:5.7} & {Phi_t0_tN[2,1]:5.7} & {Phi_t0_tN[2,2]:5.7} \\end{{pmatrix}} $\n",
    "   \n",
    "   \"\"\"))"
   ]
  },
  {
   "cell_type": "markdown",
   "metadata": {
    "ExecuteTime": {
     "end_time": "2022-02-17T20:38:22.214771Z",
     "start_time": "2022-02-17T20:38:22.199811Z"
    }
   },
   "source": [
    "# References\n",
    "\n",
    "[1] Notebook 2.3.6. in \"Transport Barriers and Coherent Structures in Flow Data\" by Prof. George Haller."
   ]
  }
 ],
 "metadata": {
  "kernelspec": {
   "display_name": "Python 3",
   "language": "python",
   "name": "python3"
  },
  "language_info": {
   "codemirror_mode": {
    "name": "ipython",
    "version": 3
   },
   "file_extension": ".py",
   "mimetype": "text/x-python",
   "name": "python",
   "nbconvert_exporter": "python",
   "pygments_lexer": "ipython3",
   "version": "3.7.11"
  },
  "latex_envs": {
   "LaTeX_envs_menu_present": true,
   "autoclose": false,
   "autocomplete": true,
   "bibliofile": "biblio.bib",
   "cite_by": "apalike",
   "current_citInitial": 1,
   "eqLabelWithNumbers": true,
   "eqNumInitial": 1,
   "hotkeys": {
    "equation": "Ctrl-E",
    "itemize": "Ctrl-I"
   },
   "labels_anchors": false,
   "latex_user_defs": false,
   "report_style_numbering": false,
   "user_envs_cfg": false
  },
  "toc": {
   "base_numbering": "0",
   "nav_menu": {},
   "number_sections": true,
   "sideBar": true,
   "skip_h1_title": false,
   "title_cell": "Table of Contents",
   "title_sidebar": "Contents",
   "toc_cell": false,
   "toc_position": {},
   "toc_section_display": true,
   "toc_window_display": true
  }
 },
 "nbformat": 4,
 "nbformat_minor": 4
}
