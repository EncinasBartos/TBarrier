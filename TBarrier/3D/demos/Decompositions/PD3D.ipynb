{
 "cells": [
  {
   "cell_type": "markdown",
   "metadata": {},
   "source": [
    "This function computes the Polar Decomposition (PD) of the $ 2\\times 2$ deformation gradient $ \\mathbf{\\nabla F_{t_0}^t(\\mathbf{x}_0)} $:\n",
    "\n",
    "\\begin{equation}\n",
    "\\mathbf{\\nabla F_{t_0}^t(\\mathbf{x}_0)} = \\mathbf{R}_{t_0}^t(\\mathbf{x}_0)\\mathbf{U}_{t_0}^t(\\mathbf{x}_0) = \\mathbf{V}_{t_0}^t(\\mathbf{x}_0)\\mathbf{R}_{t_0}^t(\\mathbf{x}_0), \n",
    "\\end{equation} with the proper orthogonal rotation tensor $ \\mathbf{R}^t_{t_0} $, the symmetric and positive definite right stretch tensor $ \\mathbf{U}_{t_0}^t $ and the symmetric and positive definite left stretch tensor $ \\mathbf{V}_{t_0}^t $ given by:\n",
    "\n",
    "\\begin{equation}\n",
    "\\mathbf{U}_{t_0}^t(\\mathbf{x}_0) = [\\mathbf{C}_{t_0}^t(\\mathbf{x}_0)]^{1/2}\n",
    "\\end{equation}\n",
    "\n",
    "\\begin{equation}\n",
    "\\mathbf{V}_{t_0}^t(\\mathbf{x}_0) = [\\mathbf{B}_{t_0}^t(\\mathbf{x}_0)]^{1/2}\n",
    "\\end{equation}\n",
    "\n",
    "\\begin{equation}\n",
    "\\mathbf{R}_{t_0}^t(\\mathbf{x}_0) = \\mathbf{\\nabla F}_{t_0}^t(\\mathbf{x}_0)[\\mathbf{U}_{t_0}^t(\\mathbf{x}_0)]^{-1} = [\\mathbf{V}_{t_0}^t(\\mathbf{x}_0)]^{-1}\\mathbf{\\nabla F}_{t_0}^t(\\mathbf{x}_0)\n",
    "\\end{equation}\n",
    "\n",
    "$ \\mathbf{C}_{t_0}^t(\\mathbf{x}_0) $ and $ \\mathbf{B}_{t_0}^t(\\mathbf{x}_0) $ respectively denote the left and right Cauchy-G"
   ]
  },
  {
   "cell_type": "markdown",
   "metadata": {
    "ExecuteTime": {
     "end_time": "2021-11-25T09:45:16.626018Z",
     "start_time": "2021-11-25T09:45:16.622076Z"
    }
   },
   "source": [
    "| Name | Type (Shape) | Description |\n",
    "| --- | --- | --- |\n",
    "| gradFmap | array (2, 2) | $ \\mathbf{\\nabla F_{t_0}^t(\\mathbf{x}_0)} $ |\n",
    "| U | array (2, 2) | $ \\mathbf{U}_{t_0}^t(\\mathbf{x}_0) $|\n",
    "| V | array (2, 2) | $ \\mathbf{V}_{t_0}^t(\\mathbf{x}_0) $|\n",
    "| R | array (2, 2) | $ \\mathbf{R}_{t_0}^t(\\mathbf{x}_0) $|"
   ]
  },
  {
   "cell_type": "code",
   "execution_count": 32,
   "metadata": {
    "ExecuteTime": {
     "end_time": "2021-12-21T21:00:09.876573Z",
     "start_time": "2021-12-21T21:00:09.865603Z"
    }
   },
   "outputs": [],
   "source": [
    "# Import numpy\n",
    "import numpy as np\n",
    "\n",
    "# Import math tools\n",
    "from math import sqrt, cos, sin, atan2"
   ]
  },
  {
   "cell_type": "code",
   "execution_count": 49,
   "metadata": {
    "ExecuteTime": {
     "end_time": "2021-12-21T21:05:07.853374Z",
     "start_time": "2021-12-21T21:05:07.833428Z"
    }
   },
   "outputs": [],
   "source": [
    "def PD(gradFmap):\n",
    "    \n",
    "    # compute left CG tensor\n",
    "    C = gradFmap.transpose()@gradFmap\n",
    "    \n",
    "    # compute right CG tensor\n",
    "    B = gradFmap.transpose()@gradFmap\n",
    "    \n",
    "    # to be completed\n",
    "    \n",
    "    return U, SIG, V"
   ]
  }
 ],
 "metadata": {
  "kernelspec": {
   "display_name": "Python 3",
   "language": "python",
   "name": "python3"
  },
  "language_info": {
   "codemirror_mode": {
    "name": "ipython",
    "version": 3
   },
   "file_extension": ".py",
   "mimetype": "text/x-python",
   "name": "python",
   "nbconvert_exporter": "python",
   "pygments_lexer": "ipython3",
   "version": "3.7.12"
  },
  "toc": {
   "base_numbering": 1,
   "nav_menu": {},
   "number_sections": true,
   "sideBar": true,
   "skip_h1_title": false,
   "title_cell": "Table of Contents",
   "title_sidebar": "Contents",
   "toc_cell": false,
   "toc_position": {},
   "toc_section_display": true,
   "toc_window_display": false
  }
 },
 "nbformat": 4,
 "nbformat_minor": 4
}
