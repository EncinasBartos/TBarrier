{
 "cells": [
  {
   "cell_type": "markdown",
   "metadata": {},
   "source": [
    "We start by adding the necessary folders to the current working path."
   ]
  },
  {
   "cell_type": "code",
   "execution_count": 1,
   "metadata": {
    "ExecuteTime": {
     "end_time": "2022-03-04T16:10:35.901041Z",
     "start_time": "2022-03-04T16:10:35.894858Z"
    },
    "code_folding": [
     0
    ]
   },
   "outputs": [],
   "source": [
    "# import sys/os\n",
    "import sys, os\n",
    "\n",
    "# get current directory\n",
    "path = os.getcwd()\n",
    "\n",
    "# get parent directory\n",
    "parent_directory = os.path.sep.join(path.split(os.path.sep)[:-4])\n",
    "\n",
    "# add utils folder to current working path\n",
    "sys.path.append(parent_directory+\"/subfunctions/utils\")\n",
    "\n",
    "# add integration folder to current working path\n",
    "sys.path.append(parent_directory+\"/subfunctions/integration\")\n",
    "\n",
    "# add FTLE folder to current working path\n",
    "sys.path.append(parent_directory+\"/demos/AdvectiveBarriers/FTLE3D\")\n",
    "\n",
    "# add ActiveBarriers folder to current working path\n",
    "sys.path.append(parent_directory+\"/demos/ActiveBarriers\")"
   ]
  },
  {
   "cell_type": "markdown",
   "metadata": {},
   "source": [
    "# Overview\n",
    "\n",
    "We illustrate the numerical implementation and the use of the active Finite Time Lyapunov Exponent ($ \\mathrm{aFTLE} $) on a direct numerical simulation of a turbulent channel flow from the publicly available [Johns Hopkins University Turbulence\n",
    "Database (JHTDB)](http://turbulence.pha.jhu.edu/). The active LCS diagnostic is applied to the three-dimensional and steady instantaneous linear momentum barrier equation. The notebook is structured as follows:\n",
    "\n",
    "1. Import Laplacian of velocity-field data stored in the folder 'data/Turbulence'. The Laplacian of the velocity field from the publicly available John Hopkins University Turbulence Database has been [precomputed](../../../../data/Turbulence/Channel.ipynb).\n",
    "<br />\n",
    "2. Define computational parameters (such as the number of cores) and data.\n",
    " <br />\n",
    "3. Define spatio-temporal domain.\n",
    " <br />\n",
    "4. Interpolate Laplacian of velocity from (discrete) gridded data.\n",
    " <br />\n",
    "5. Instantaneous linear momentum barrier equation active Finite Time Lyapunov Exponent ($ \\mathrm{aFTLE} $):\n",
    "\n",
    "   <br />\n",
    "   * For 3D incompressible, uniform-density Navier–Stokes flows, the Eulerian barrier equation for linear momentum is:\n",
    "   <br />\n",
    "   \\begin{equation}\n",
    "   \\mathbf{x'}(s) = \\nu \\rho \\Delta \\mathbf{v}(\\mathbf{x}, t)\n",
    "   \\label{eq: linearmoment1}\n",
    "   \\end{equation}\n",
    "   \n",
    "   <br />\n",
    "   \n",
    "   By appropriate rescaling with respect to the dummy time, equation \\ref{eq: linearmoment1} simplifies to: \n",
    "   <br />\n",
    "   \\begin{equation}\n",
    "   \\mathbf{x'}(s) = \\Delta \\mathbf{v}(\\mathbf{x}, t)\n",
    "   \\label{eq: linearmoment2}\n",
    "   \\end{equation}\n",
    "   \n",
    "    Time 't' is just a fixed parameter and hence the system is autonomous and the integration is done with respect to a dummy time variable 's'. 's' can be arbitrarily large and the $ \\mathrm{aFTLE} $ is only limited by the spatial resolution and domain. It can thus potentially reveal finer and more resolved structures compared to the classic version of the $ \\mathrm{FTLE} $, which is fundamentally limited by the temporal domain of the available data.\n",
    "    \n",
    "    <br />\n",
    "    \n",
    "   * We start by evaluating the right-hand-side of equation \\ref{eq: linearmoment2} by first interpolating $ \\Delta \\mathbf{v}(\\mathbf{x}, t) $ over the spatial meshgrid.\n",
    "   \n",
    "   <br />\n",
    "   \n",
    "   * We then apply the $ \\mathrm{aFTLE} $ to the autonomous ODE from equation \\eqref{eq: linearmoment2} over different dummy time-intervals.\n",
    " <br />\n",
    "6. References"
   ]
  },
  {
   "cell_type": "markdown",
   "metadata": {},
   "source": [
    "# Import data"
   ]
  },
  {
   "cell_type": "code",
   "execution_count": null,
   "metadata": {
    "ExecuteTime": {
     "end_time": "2022-03-04T16:10:36.864085Z",
     "start_time": "2022-03-04T16:10:35.929340Z"
    },
    "code_folding": [
     0
    ]
   },
   "outputs": [],
   "source": [
    "# import scipy\n",
    "import scipy.io as sio\n",
    "\n",
    "# import numpy\n",
    "import numpy as np\n",
    "\n",
    "f = sio.loadmat('../../../../data/Turbulence/Channel.mat')\n",
    "\n",
    "lap_U = f['Lap_u'] # array (NY, NX, NZ)\n",
    "lap_V = f['Lap_v'] # array (NY, NX, NZ)\n",
    "lap_W = f['Lap_w'] # array (NY, NX, NZ)\n",
    "\n",
    "x = f['xspan'] # array (1, NX)\n",
    "y = f['yspan'] # array (1, NY)\n",
    "z = f['zspan'] # array (1, NZ)"
   ]
  },
  {
   "cell_type": "markdown",
   "metadata": {},
   "source": [
    "# Computational parameters and data\n",
    "\n",
    "Here we define the computational parameters and the data."
   ]
  },
  {
   "cell_type": "code",
   "execution_count": null,
   "metadata": {
    "ExecuteTime": {
     "end_time": "2022-03-04T16:10:37.171903Z",
     "start_time": "2022-03-04T16:10:36.867394Z"
    },
    "code_folding": [
     0
    ],
    "run_control": {
     "marked": false
    }
   },
   "outputs": [],
   "source": [
    "# import numpy\n",
    "import numpy as np\n",
    "\n",
    "# Number of cores for parallel computing\n",
    "Ncores = 7 # int\n",
    "\n",
    "# Periodic boundary conditions\n",
    "periodic_x = False # bool\n",
    "periodic_y = False # bool\n",
    "periodic_z = False # bool\n",
    "periodic = [periodic_x, periodic_y, periodic_z]\n",
    "\n",
    "# Unsteady velocity field\n",
    "bool_unsteady = False # bool\n",
    "\n",
    "# Defined domain\n",
    "defined_domain = np.isfinite(lap_U).astype(int) # array (NY, NX, NZ)\n",
    "\n",
    "## Compute meshgrid of dataset\n",
    "X, Y, Z = np.meshgrid(x, y, z) # array (NY, NX), array (NY, NX, NZ)\n",
    "\n",
    "## Resolution of meshgrid\n",
    "dx_data = X[0,1,0]-X[0,0,0] # float\n",
    "dy_data = Y[1,0,0]-Y[0,0,0] # float\n",
    "dz_data = Y[0,0,1]-Z[0,0,0] # float\n",
    "\n",
    "delta = [dx_data, dy_data, dx_data] # list (3, )"
   ]
  },
  {
   "cell_type": "markdown",
   "metadata": {},
   "source": [
    "# Spatio-temporal domain\n",
    "\n",
    "Here we define the spatio-temporal domain over which to consider the dynamical system."
   ]
  },
  {
   "cell_type": "code",
   "execution_count": null,
   "metadata": {
    "ExecuteTime": {
     "end_time": "2022-03-04T16:10:37.187807Z",
     "start_time": "2022-03-04T16:10:37.176387Z"
    },
    "code_folding": [
     0
    ]
   },
   "outputs": [],
   "source": [
    "# boundaries\n",
    "xmin = 3.6 # float\n",
    "xmax = 4 # float\n",
    "ymin = 0.2 # float\n",
    "ymax = 0.6 # float\n",
    "z_section = 2.55 # float\n",
    "\n",
    "# Resolution of meshgrid\n",
    "Ny = 400 # int\n",
    "Nx = 400 # int\n",
    "\n",
    "x_domain = np.linspace(xmin, xmax, Nx, endpoint = True) # array (Nx, )\n",
    "y_domain = np.linspace(ymin, ymax, Ny, endpoint = True) # array (Ny, )\n",
    "\n",
    "dx = x_domain[1]-x_domain[0] # float\n",
    "dy = y_domain[1]-y_domain[0] # float\n",
    "\n",
    "X_domain, Y_domain = np.meshgrid(x_domain, y_domain) # array (Ny, Nx)\n",
    "\n",
    "# auxiliary grid spacing\n",
    "aux_grid = [0.1*dx, 0.1*dy, 0.1*dy] # list (3,)\n",
    "\n",
    "# Define dummy time-intervals for computation of aFTLE in ascending order.\n",
    "s1 = 10**(-4) # float s1 > 0\n",
    "s2 = 0.5*10**(-3) # float s2 > s1\n",
    "s3 = 10**(-3) # float s3 > s2\n",
    "\n",
    "s = [s1, s2, s3] # list (3,)\n",
    "\n",
    "# define dummy time interval\n",
    "ds = .5*10**(-5)\n",
    "sN = s[-1] # Feel free to change this parameter as needed\n",
    "s_dummy = np.arange(0, sN+ds, ds)"
   ]
  },
  {
   "cell_type": "markdown",
   "metadata": {},
   "source": [
    "# Interpolate Laplacian of velocity\n",
    "\n",
    "In order to evaluate the laplacian of the velocity field at arbitrary locations, we interpolate the gridded laplacian of velocity data. The interpolation with respect to time and space is \"linear\"."
   ]
  },
  {
   "cell_type": "code",
   "execution_count": null,
   "metadata": {
    "ExecuteTime": {
     "end_time": "2022-03-04T16:10:37.373489Z",
     "start_time": "2022-03-04T16:10:37.192035Z"
    },
    "code_folding": [
     0
    ],
    "run_control": {
     "marked": true
    }
   },
   "outputs": [],
   "source": [
    "# Import interpolation function for steady flow field\n",
    "from ipynb.fs.defs.Interpolant import interpolant_steady\n",
    "\n",
    "# Set nan values to zero (in case there are any) so that we can apply interpolant. \n",
    "# Interpolant does not work if the array contains nan values. \n",
    "lap_U[np.isnan(lap_U)] = 0\n",
    "lap_V[np.isnan(lap_V)] = 0\n",
    "lap_W[np.isnan(lap_W)] = 0\n",
    "\n",
    "# Interpolate velocity data using cubic spatial interpolation\n",
    "Interpolant = interpolant_steady(X, Y, Z, lap_U, lap_V, lap_W)\n",
    "\n",
    "Interpolant_lap_u = Interpolant[0] # RectangularBivariateSpline-object\n",
    "Interpolant_lap_v = Interpolant[1] # RectangularBivariateSpline-object\n",
    "Interpolant_lap_w = Interpolant[2] # RectangularBivariateSpline-object"
   ]
  },
  {
   "cell_type": "markdown",
   "metadata": {},
   "source": [
    "# Instantaneous linear momentum barriers\n",
    "\n",
    "We visualize linear momentum/vorticity barriers by applying the $ \\mathrm{FTLE} $ to trajectories of instantaneous linear momentum/vorticity barrier equation \\ref{eq: linearmoment2}. As soon as the $ \\mathrm{FTLE} $-field is applied to an active vector field, such as linear momentum, we refer to it as $ \\mathrm{aFTLE} $ (active $ \\mathrm{FTLE} $)."
   ]
  },
  {
   "cell_type": "markdown",
   "metadata": {},
   "source": [
    "## active FTLE\n",
    "\n",
    "We now compute the active $ \\mathrm{FTLE} $ for the instantaneous linear momentum/vorticity barrier equations. First, we evaluate the gradient of the active flow map over the meshgrid. The active flow map is given by the solution of the autonomous ODE from equation \\ref{eq: linearmoment2}. Finally, we apply the classic $ \\mathrm{FTLE} $ to the gradient of the active flow map. The computation of the active $ \\mathrm{FTLE} $ is not done over the 3D meshgrid but only over the 2D cross-section."
   ]
  },
  {
   "cell_type": "code",
   "execution_count": null,
   "metadata": {
    "ExecuteTime": {
     "end_time": "2022-03-04T16:10:38.090928Z",
     "start_time": "2022-03-04T16:10:37.376552Z"
    },
    "code_folding": [
     0,
     9,
     29
    ]
   },
   "outputs": [],
   "source": [
    "# Import function to compute gradient of flow map\n",
    "from ipynb.fs.defs.gradient_flowmap import gradient_flowmap\n",
    "\n",
    "# Import function to compute finite time Lyapunov exponent (FTLE)\n",
    "from ipynb.fs.defs.FTLE import _FTLE\n",
    "\n",
    "# Import package for parallel computing\n",
    "from joblib import Parallel, delayed\n",
    "\n",
    "def compute_aFTLE(x0, y0, z0, s_dummy, s):\n",
    "    \n",
    "    X0 = np.array([x0, y0, z0]) # array (3, Nx*Ny*Nz)\n",
    "    \n",
    "    activeDF = gradient_flowmap(s_dummy, X0, X, Y, Z, Interpolant_lap_u, Interpolant_lap_v, Interpolant_lap_w, periodic, bool_unsteady, aux_grid) # array (Nt, 3, 3, Nx*Ny*Nz)\n",
    "    \n",
    "    aFTLE = np.zeros((len(s), activeDF.shape[-1]))\n",
    "    \n",
    "    counter = 0\n",
    "    for idx in np.searchsorted(s_dummy, s):\n",
    "        \n",
    "        for i in range(activeDF.shape[3]):\n",
    "            \n",
    "            aFTLE[counter, i] = _FTLE(activeDF[idx,:,:,i], s_dummy[idx])\n",
    "            \n",
    "        counter += 1\n",
    "    \n",
    "    return aFTLE\n",
    "\n",
    "# Split x0,y0,z0 into 'Ncores' equal batches for parallel computing\n",
    "def split(a, n):\n",
    "    k, m = divmod(len(a), n)\n",
    "    return (a[i*k+min(i, m):(i+1)*k+min(i+1, m)] for i in range(n))"
   ]
  },
  {
   "cell_type": "code",
   "execution_count": null,
   "metadata": {
    "ExecuteTime": {
     "end_time": "2022-03-04T16:14:29.892680Z",
     "start_time": "2022-03-04T16:10:38.093996Z"
    },
    "code_folding": [
     0,
     12
    ]
   },
   "outputs": [],
   "source": [
    "# Vectorize initial conditions by arranging them to a vector of size (Nx*Ny*Nz, )\n",
    "x0 = X_domain.ravel() # array (Nx*Ny, )\n",
    "y0 = Y_domain.ravel() # array (Nx*Ny, )\n",
    "z0 = z_section*np.ones(x0.shape[0],) # array (Nx*Ny, )\n",
    "\n",
    "x0_batch = list(split(x0, Ncores)) # list (Nx*Ny)\n",
    "y0_batch = list(split(y0, Ncores)) # list (Nx*Ny)\n",
    "z0_batch = list(split(z0, Ncores)) # list (Nx*Ny)\n",
    "results = Parallel(n_jobs=Ncores, verbose = 2)(delayed(compute_aFTLE)(x0_batch[i], y0_batch[i], z0_batch[i], s_dummy, s) for i in range(len(x0_batch)))\n",
    "\n",
    "# Extract results of aFTLE computation on xy-plane\n",
    "aFTLE = results[0]\n",
    "for res in results[1:]:\n",
    "    aFTLE = np.append(aFTLE, res, axis = -1)\n",
    "    \n",
    "X0 = np.array(x0).reshape(Ny,Nx) # array (Ny, Nx)\n",
    "Y0 = np.array(y0).reshape(Ny,Nx) # array (Ny, Nx)\n",
    "Z0 = np.array(z0).reshape(Ny,Nx) # array (Ny, Nx)\n",
    "aFTLE = np.array(aFTLE).reshape(len(s),Ny,Nx) # array (3, Ny, Nx)"
   ]
  },
  {
   "cell_type": "markdown",
   "metadata": {},
   "source": [
    "##### aFTLE over different dummy time-intervals\n",
    "\n",
    "In the following we visualize the instantaneous linear momentum/vorticity barriers at time $ t_0 = 0 $ through the $ \\mathrm{aFTLE} $ over different dummy time-intervals. Ridges of $ \\mathrm{aFTLE}_{0,0}^{s_i} \\ (i \\in \\lbrace 1,2,3 \\rbrace) $ indicate transport barriers which block the transport of linear momentum. Note that contrary to the classic $ \\mathrm{FTLE} $, the $ \\mathrm{aFTLE} $ diagnostic is not limited by the temporal domain as the dummy time-interval can be chosen to be arbitrarily large. We explore the structures of the $ \\mathrm{aFTLE}_{0,t_0}^{s_i} $ over different dummy time-intervals $ s_i \\in \\lbrace 1,2,3 \\rbrace $ at time $ t_0 $."
   ]
  },
  {
   "cell_type": "code",
   "execution_count": null,
   "metadata": {
    "ExecuteTime": {
     "end_time": "2022-03-04T16:14:30.317323Z",
     "start_time": "2022-03-04T16:14:29.896339Z"
    },
    "code_folding": [
     4
    ],
    "run_control": {
     "marked": false
    }
   },
   "outputs": [],
   "source": [
    "# Import matplotlib\n",
    "import matplotlib.pyplot as plt\n",
    "\n",
    "# plot iterate over different dummy time-intervals and display aFTLE field calculated over each time-interval\n",
    "def plot_aFTLE(i):\n",
    "    \n",
    "    # create figure\n",
    "    fig = plt.figure(dpi = 350)\n",
    "    ax = plt.axes()\n",
    "    \n",
    "    # Fontsize\n",
    "    font_size = 7\n",
    "    \n",
    "    # Title\n",
    "    ax.set_title(r'$ \\mathrm{aFTLE}$'+f'$_{{{0}}}^{{{s[i]}}}$', fontsize = font_size)\n",
    "    \n",
    "    # Contourplot\n",
    "    cax = ax.contourf(X_domain, Y_domain, aFTLE[i,:,:], levels = 400, cmap = \"gist_rainbow_r\")\n",
    "    \n",
    "    # Set labels\n",
    "    ax.set_xlabel(\"x\", fontsize = font_size)\n",
    "    ax.set_ylabel(\"y\", fontsize = font_size)\n",
    "    \n",
    "    # Set ticks\n",
    "    ax.set_xticks(np.arange(xmin, xmax+0.01, 0.1))\n",
    "    ax.set_yticks(np.arange(ymin, ymax+0.01, 0.1))\n",
    "    \n",
    "    # Set fontsize\n",
    "    ax.xaxis.set_tick_params(labelsize=font_size)\n",
    "    ax.yaxis.set_tick_params(labelsize=font_size)\n",
    "    \n",
    "    # Colorbar\n",
    "    cbar = plt.colorbar(cax, format='%.0e')\n",
    "    cbar.ax.tick_params(labelsize=font_size)\n",
    "    ax.set_aspect('equal')\n",
    "    plt.show()"
   ]
  },
  {
   "cell_type": "markdown",
   "metadata": {},
   "source": [
    "##### $ \\mathrm{aFTLE}_{0,0}^{s_1} $\n",
    "\n",
    "Instantaneous linear momentum barriers at time $ t_0 = 0 $ from $ \\mathrm{aFTLE}_{0,0}^{s_1} $."
   ]
  },
  {
   "cell_type": "code",
   "execution_count": null,
   "metadata": {
    "ExecuteTime": {
     "end_time": "2022-03-04T16:14:34.382476Z",
     "start_time": "2022-03-04T16:14:30.322693Z"
    },
    "code_folding": [
     0
    ],
    "run_control": {
     "marked": false
    }
   },
   "outputs": [],
   "source": [
    "################################################ PLOT RESULTS ################################################\n",
    "plot_aFTLE(0)"
   ]
  },
  {
   "cell_type": "markdown",
   "metadata": {},
   "source": [
    "##### $ \\mathrm{aFTLE}_{0,0}^{s_2} $\n",
    "\n",
    "Instantaneous linear momentum barriers at time $ t_0 = 0 $ from $ \\mathrm{aFTLE}_{0,0}^{s_2} $."
   ]
  },
  {
   "cell_type": "code",
   "execution_count": null,
   "metadata": {
    "ExecuteTime": {
     "end_time": "2022-03-04T16:14:48.293687Z",
     "start_time": "2022-03-04T16:14:34.386475Z"
    },
    "code_folding": [
     0
    ]
   },
   "outputs": [],
   "source": [
    "################################################ PLOT RESULTS ################################################\n",
    "plot_aFTLE(1)"
   ]
  },
  {
   "cell_type": "markdown",
   "metadata": {},
   "source": [
    "##### $ \\mathrm{aFTLE}_{0,0}^{s_3} $\n",
    "\n",
    "Instantaneous linear momentum barriers at time $ t_0 = 0 $ from $ \\mathrm{aFTLE}_{0,0}^{s_3} $."
   ]
  },
  {
   "cell_type": "code",
   "execution_count": null,
   "metadata": {
    "ExecuteTime": {
     "end_time": "2022-03-04T16:15:14.653522Z",
     "start_time": "2022-03-04T16:14:48.297213Z"
    },
    "code_folding": [
     0
    ]
   },
   "outputs": [],
   "source": [
    "################################################ PLOT RESULTS ################################################\n",
    "plot_aFTLE(2)"
   ]
  },
  {
   "cell_type": "markdown",
   "metadata": {},
   "source": [
    "The figures focus on momentum-based active hyperbolic barriers in a section of a 3D turbulent channel flow. In 2D cross-sections of the flow, hyperbolic regions which inhibit the transport of linear momentum can be located as ridges of the $ \\mathrm{aFTLE} $-field. The $ \\mathrm{aFTLE} $ provides a clear picture of active hyperbolic barriers. The features become even more pronounced for longer s-times, revealing several small scale hyperbolic structures. As the turbulent channel flow is spatially limited, one must be aware that by increasing the dummy time interval, trajectories might leave the domain where the velocity field (and hence also the laplacian of the velocity field) is well defined. Furthermore, it must be taken into account that increasing the dummy time horizon, also emphasizes numerical errors and hence the $ \\mathrm{aFTLE} $ become more sensitive to noise."
   ]
  },
  {
   "cell_type": "markdown",
   "metadata": {},
   "source": [
    "# References\n",
    "\n",
    "[1] Haller, G., Katsanoulis, S., Holzner, M., Frohnapfel, B., & Gatti, D. (2020). Objective barriers to the transport of dynamically active vector fields. Journal of Fluid Mechanics, 905.\n",
    "\n",
    "[2] Notebook 9.7.2. in \"Transport Barriers and Coherent Structures in Flow Data\" by Prof. George Haller."
   ]
  }
 ],
 "metadata": {
  "kernelspec": {
   "display_name": "Python 3",
   "language": "python",
   "name": "python3"
  },
  "language_info": {
   "codemirror_mode": {
    "name": "ipython",
    "version": 3
   },
   "file_extension": ".py",
   "mimetype": "text/x-python",
   "name": "python",
   "nbconvert_exporter": "python",
   "pygments_lexer": "ipython3",
   "version": "3.7.12"
  },
  "latex_envs": {
   "LaTeX_envs_menu_present": true,
   "autoclose": false,
   "autocomplete": true,
   "bibliofile": "biblio.bib",
   "cite_by": "apalike",
   "current_citInitial": 1,
   "eqLabelWithNumbers": true,
   "eqNumInitial": 1,
   "hotkeys": {
    "equation": "Ctrl-E",
    "itemize": "Ctrl-I"
   },
   "labels_anchors": false,
   "latex_user_defs": false,
   "report_style_numbering": false,
   "user_envs_cfg": false
  },
  "toc": {
   "base_numbering": "0",
   "nav_menu": {},
   "number_sections": true,
   "sideBar": true,
   "skip_h1_title": false,
   "title_cell": "Table of Contents",
   "title_sidebar": "Contents",
   "toc_cell": false,
   "toc_position": {
    "height": "calc(100% - 180px)",
    "left": "10px",
    "top": "150px",
    "width": "307.2px"
   },
   "toc_section_display": true,
   "toc_window_display": true
  }
 },
 "nbformat": 4,
 "nbformat_minor": 4
}
