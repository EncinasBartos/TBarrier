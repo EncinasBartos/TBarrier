{
 "cells": [
  {
   "cell_type": "markdown",
   "metadata": {},
   "source": [
    "We start by adding the necessary folders to the current working path."
   ]
  },
  {
   "cell_type": "code",
   "execution_count": 1,
   "metadata": {
    "ExecuteTime": {
     "end_time": "2022-02-15T10:14:38.864186Z",
     "start_time": "2022-02-15T10:14:38.854062Z"
    },
    "code_folding": [
     0
    ]
   },
   "outputs": [],
   "source": [
    "# import sys/os\n",
    "import sys, os\n",
    "\n",
    "# get current directory\n",
    "path = os.getcwd()\n",
    "\n",
    "# get parent directory\n",
    "parent_directory = os.path.sep.join(path.split(os.path.sep)[:-4])\n",
    "\n",
    "# add utils folder to current working path\n",
    "sys.path.append(parent_directory+\"/subfunctions/utils\")\n",
    "\n",
    "# add integration folder to current working path\n",
    "sys.path.append(parent_directory+\"/subfunctions/integration\")\n",
    "\n",
    "# add PRA folder to current working path\n",
    "sys.path.append(parent_directory+\"/demos/AdvectiveBarriers/PRA3D\")\n",
    "\n",
    "# add ActiveBarriers folder to current working path\n",
    "sys.path.append(parent_directory+\"/demos/ActiveBarriers\")"
   ]
  },
  {
   "cell_type": "markdown",
   "metadata": {},
   "source": [
    "# Overview\n",
    "\n",
    "We illustrate the numerical implementation and the use of the active Polar Rotation Angle ($ \\mathrm{aPRA} $) on a directionally steady Beltrami flow such as the 3D viscous, unsteady version of the classic ABC-flow. The active LCS diagnostic is applied to the three-dimensional and steady instantaneous linear momentum barrier equation. The notebook is structured as follows:\n",
    "\n",
    "1. Import vorticity and velocity data stored in the folder 'data/ABC'.\n",
    "<br />\n",
    "2. Define computational parameters (such as the number of cores) and data.\n",
    " <br />\n",
    "3. Define spatio-temporal domain.\n",
    " <br />\n",
    "4. Interpolate velocity from (discrete) gridded data.\n",
    " <br />\n",
    "5. Instantaneous linear momentum barriers from active Polar Rotation Angle ($ \\mathrm{aPRA} $):\n",
    "\n",
    "   <br />\n",
    "   * For 3D incompressible, uniform-density Navier–Stokes flows, the Eulerian barrier equation for linear momentum is:\n",
    "   <br />\n",
    "   \\begin{equation}\n",
    "   \\mathbf{x'}(s) = \\nu \\rho \\Delta \\mathbf{v}(\\mathbf{x}, t)\n",
    "   \\label{eq: linearmoment1}\n",
    "   \\end{equation}\n",
    "   \n",
    "   <br />\n",
    "   * For 3D incompressible, uniform-density Navier–Stokes flows, the Eulerian barrier equation for vorticity is:\n",
    "   <br />\n",
    "   \\begin{equation}\n",
    "   \\mathbf{x'}(s) = \\nu \\rho \\Delta \\mathbf{\\omega}(\\mathbf{x}, t)\n",
    "   \\label{eq: vorticity1}\n",
    "   \\end{equation}\n",
    "    \n",
    "   It can be verified that the 3D viscous, unsteady version of the classic ABC-flow satisfies the strong Beltrami property:\n",
    "   <br />\n",
    "   \\begin{equation}\n",
    "   \\mathbf{\\omega}(\\mathbf{x},t) = \\mathbf{v}(\\mathbf{x}, t)\n",
    "   \\label{eq: Beltrami}\n",
    "   \\end{equation}\n",
    "   By definition it follows:\n",
    "   <br />\n",
    "   \\begin{equation}\n",
    "   \\mathbf{\\Delta v}(\\mathbf{x},t) = \\mathbf{\\Delta \\omega}(\\mathbf{x},t) = \\mathbf{\\nabla}(\\mathbf{ \\nabla \\omega})-\\mathbf{\\nabla} \\times (\\mathbf{\\nabla \\times \\mathbf{\\omega}}) = \\mathbf{v}(\\mathbf{x}, t)\n",
    "   \\label{eq: LaplacianOmega}\n",
    "   \\end{equation}\n",
    "   \n",
    "   The Eulerian barrier equation for both linear momentum/vorticity reduce to:\n",
    "   \\begin{equation}\n",
    "   \\mathbf{x'}(s) = -\\nu \\rho \\mathbf{v}(\\mathbf{x}, t)\n",
    "   \\label{eq: linearmoment2}\n",
    "   \\end{equation}\n",
    "   \n",
    "   By appropriate rescaling with respect to the dummy time, equation \\ref{eq: linearmoment2} simplifies to: \n",
    "   \\begin{equation}\n",
    "   \\mathbf{x'}(s) = \\mathbf{v}(\\mathbf{x}, t)\n",
    "   \\label{eq: linearmoment3}\n",
    "   \\end{equation}\n",
    "   \n",
    "    Time 't' is just a fixed parameter and hence the system is autonomous and the integration is done with respect to a dummy time variable 's'. 's' can be arbitrarily large and the $ \\mathrm{aPRA} $ is only limited by the spatial resolution and domain. It can thus potentially reveal finer and more resolved structures compared to the classic version of the $ \\mathrm{PRA} $, which is fundamentally limited by the temporal domain of the available data.\n",
    "    <br />\n",
    "   * We start by evaluating the right-hand-side of equation \\ref{eq: linearmoment3} by first interpolating $ \\mathbf{v}(\\mathbf{x}, t) $ over the spatial meshgrid.\n",
    "   <br />\n",
    "   * We then apply the $ \\mathrm{aPRA} $ to the autonomous ODE from equation \\ref{eq: linearmoment3} over different 'dummy' time-intervals.\n",
    "<br />\n",
    "6. References"
   ]
  },
  {
   "cell_type": "markdown",
   "metadata": {},
   "source": [
    "# Import data"
   ]
  },
  {
   "cell_type": "code",
   "execution_count": 2,
   "metadata": {
    "ExecuteTime": {
     "end_time": "2022-02-15T10:14:39.158184Z",
     "start_time": "2022-02-15T10:14:38.895239Z"
    },
    "code_folding": [
     0
    ]
   },
   "outputs": [],
   "source": [
    "# import scipy\n",
    "import scipy.io as sio\n",
    "\n",
    "# Import velocity data from file in data-folder\n",
    "mat_file = sio.loadmat('../../../../data/ABC/ABCunsteady.mat')\n",
    "\n",
    "U = mat_file['u'] # array (NY, NX, NZ)\n",
    "V = mat_file['v'] # array (NY, NX, NZ)\n",
    "W = mat_file['w'] # array (NY, NX, NZ)\n",
    "x = mat_file['x'] # array (1, NX)\n",
    "y = mat_file['y'] # array (1, NY)\n",
    "z = mat_file['z'] # array (1, NZ)\n",
    "time_data = mat_file['t']"
   ]
  },
  {
   "cell_type": "markdown",
   "metadata": {},
   "source": [
    "# Computational parameters and data\n",
    "\n",
    "Here we define the computational parameters and the data."
   ]
  },
  {
   "cell_type": "code",
   "execution_count": 3,
   "metadata": {
    "ExecuteTime": {
     "end_time": "2022-02-15T10:14:39.189099Z",
     "start_time": "2022-02-15T10:14:39.159181Z"
    },
    "code_folding": [
     0
    ]
   },
   "outputs": [],
   "source": [
    "# import numpy\n",
    "import numpy as np\n",
    "\n",
    "# Number of cores for parallel computing\n",
    "Ncores = 7 # int\n",
    "\n",
    "# Periodic boundary conditions\n",
    "periodic_x = True # bool\n",
    "periodic_y = True # bool\n",
    "periodic_z = True # bool\n",
    "periodic = [periodic_x, periodic_y, periodic_z]\n",
    "\n",
    "# Unsteady velocity field\n",
    "bool_unsteady = True # bool\n",
    "\n",
    "# Defined domain\n",
    "defined_domain = np.isfinite(U).astype(int) # array (NY, NX, NZ)\n",
    "\n",
    "## Compute meshgrid of dataset\n",
    "X, Y, Z = np.meshgrid(x, y, z) # array (NY, NX), array (NY, NX, NZ)\n",
    "\n",
    "## Resolution of meshgrid\n",
    "dx_data = X[0,1,0]-X[0,0,0] # float\n",
    "dy_data = Y[1,0,0]-Y[0,0,0] # float\n",
    "dz_data = Y[0,0,1]-Z[0,0,0] # float\n",
    "\n",
    "delta = [dx_data, dy_data, dx_data] # list (3, )"
   ]
  },
  {
   "cell_type": "markdown",
   "metadata": {},
   "source": [
    "# Spatio-temporal domain\n",
    "\n",
    "Here we define the spatio-temporal domain over which to consider the dynamical system."
   ]
  },
  {
   "cell_type": "code",
   "execution_count": 4,
   "metadata": {
    "ExecuteTime": {
     "end_time": "2022-02-15T10:14:39.236973Z",
     "start_time": "2022-02-15T10:14:39.191095Z"
    },
    "code_folding": [
     0
    ]
   },
   "outputs": [],
   "source": [
    "# Initial time\n",
    "t0 = 0 # float\n",
    "\n",
    "# boundaries\n",
    "xmin = 0 # float\n",
    "xmax = 2*np.pi # float\n",
    "ymin = 0 # float\n",
    "ymax = 2*np.pi # float\n",
    "zmin = 0 # float\n",
    "zmax = 2*np.pi # float\n",
    "\n",
    "# Resolution of meshgrid\n",
    "Ny = 200 # int\n",
    "Nx = 200 # int\n",
    "Nz = 200 # int\n",
    "\n",
    "x_domain = np.linspace(xmin, xmax, Nx, endpoint = True) # array (Nx, )\n",
    "y_domain = np.linspace(ymin, ymax, Ny, endpoint = True) # array (Ny, )\n",
    "z_domain = np.linspace(zmin, zmax, Nz, endpoint = True) # array (Nz, )\n",
    "\n",
    "dx = x_domain[1]-x_domain[0] # float\n",
    "dy = y_domain[1]-y_domain[0] # float\n",
    "dz = z_domain[1]-z_domain[0] # float\n",
    "\n",
    "X_domain, Y_domain, Z_domain = np.meshgrid(x_domain, y_domain, z_domain) # array (Ny, Nx, Nz)\n",
    "\n",
    "# Define dummy time-intervals for computation of aFTLE in ascending order\n",
    "s1 = 10 # float s1 > 0\n",
    "s2 = 20 # float s2 > s1\n",
    "s3 = 30 # float s3 > s2\n",
    "\n",
    "s = [s1, s2, s3] # list (3,)\n",
    "\n",
    "# define dummy time interval\n",
    "ds = 0.1\n",
    "sN = s[-1] # Feel free to change this parameter as needed\n",
    "s_dummy = np.arange(0, sN+ds, ds)\n",
    "\n",
    "# auxiliary grid spacing\n",
    "aux_grid = [0.1*dx, 0.1*dy, 0.1*dz] # list (3,)"
   ]
  },
  {
   "cell_type": "markdown",
   "metadata": {},
   "source": [
    "# Velocity Interpolation\n",
    "\n",
    "In order to evaluate the velocity field at arbitrary locations, we interpolate the discrete velocity data. The interpolation with respect to time and space is \"linear\"."
   ]
  },
  {
   "cell_type": "code",
   "execution_count": 5,
   "metadata": {
    "ExecuteTime": {
     "end_time": "2022-02-15T10:14:39.330511Z",
     "start_time": "2022-02-15T10:14:39.238966Z"
    },
    "code_folding": [
     0
    ],
    "run_control": {
     "marked": true
    }
   },
   "outputs": [],
   "source": [
    "# Import interpolation function for unsteady flow field\n",
    "from ipynb.fs.defs.Interpolant import interpolant_unsteady\n",
    "\n",
    "# Set nan values to zero (in case there are any) so that we can apply interpolant. \n",
    "# Interpolant does not work if the array contains nan values. \n",
    "U[np.isnan(U)] = 0\n",
    "V[np.isnan(V)] = 0\n",
    "W[np.isnan(W)] = 0\n",
    "\n",
    "# Interpolate velocity data using cubic spatial interpolation\n",
    "Interpolant = interpolant_unsteady(X, Y, Z, U, V, W, time_data)\n",
    "\n",
    "Interpolant_u = Interpolant[0] # RectangularBivariateSpline-object\n",
    "Interpolant_v = Interpolant[1] # RectangularBivariateSpline-object\n",
    "Interpolant_w = Interpolant[2] # RectangularBivariateSpline-object"
   ]
  },
  {
   "cell_type": "markdown",
   "metadata": {},
   "source": [
    "# Instantaneous linear momentum/vorticity barriers from active $ \\mathrm{aPRA} $\n",
    "\n",
    "We visualize linear momentum/vorticity barriers by applying the $ \\mathrm{PRA} $ to trajectories of instantaneous linear momentum/vorticity barrier equation \\ref{eq: linearmoment3}. As soon as the $ \\mathrm{PRA} $ is applied to an active vector field, such as linear momentum (or vorticity), we refer to it as $ \\mathrm{aPRA} $ (active $ \\mathrm{PRA} $)."
   ]
  },
  {
   "cell_type": "markdown",
   "metadata": {},
   "source": [
    "## active PRA\n",
    "\n",
    "We now compute the active $ \\mathrm{PRA} $ for the instantaneous linear momentum/vorticity barrier equations. First, we evaluate the gradient of the active flow map over the meshgrid. The active flow map is given by the solution of the autonomous ODE from equation \\ref{eq: linearmoment3}. Finally, we apply the classic $ \\mathrm{PRA} $ to the gradient of the active flow map. The computation of the active $ \\mathrm{PRA} $ is not done over the 3D meshgrid but only over the 2D faces of the cube $ [0,2\\pi]^3 $."
   ]
  },
  {
   "cell_type": "code",
   "execution_count": 6,
   "metadata": {
    "ExecuteTime": {
     "end_time": "2022-02-15T10:14:39.605188Z",
     "start_time": "2022-02-15T10:14:39.330511Z"
    },
    "code_folding": [
     0,
     9,
     29
    ],
    "run_control": {
     "marked": true
    }
   },
   "outputs": [],
   "source": [
    "# Import function to compute gradient of flow map\n",
    "from ipynb.fs.defs.gradient_flowmap import gradient_flowmap\n",
    "\n",
    "# Import function to compute Polar Rotation Angle (PRA)\n",
    "from ipynb.fs.defs.PRA import _PRA\n",
    "\n",
    "# Import package for parallel computing\n",
    "from joblib import Parallel, delayed\n",
    "\n",
    "def compute_aPRA(x0, y0, z0, s_dummy, s):\n",
    "    \n",
    "    X0 = np.array([x0, y0, z0]) # array (3, Nx*Ny*Nz)\n",
    "    \n",
    "    activeDF = gradient_flowmap(s_dummy, X0, X, Y, Z, Interpolant_u, Interpolant_v, Interpolant_w, periodic, bool_unsteady, aux_grid) # array (Nt, 3, 3, Nx*Ny*Nz)\n",
    "    \n",
    "    aPRA = np.zeros((len(s), activeDF.shape[-1]))\n",
    "    \n",
    "    counter = 0\n",
    "    for idx in np.searchsorted(s_dummy, s):\n",
    "        \n",
    "        for i in range(activeDF.shape[3]):\n",
    "            \n",
    "            aPRA[counter, i] = _PRA(activeDF[idx,:,:,i])\n",
    "            \n",
    "        counter += 1\n",
    "    \n",
    "    return aPRA\n",
    "\n",
    "# Split x0,y0,z0 into 'Ncores' equal batches for parallel computing\n",
    "def split(a, n):\n",
    "    k, m = divmod(len(a), n)\n",
    "    return (a[i*k+min(i, m):(i+1)*k+min(i+1, m)] for i in range(n))"
   ]
  },
  {
   "cell_type": "markdown",
   "metadata": {},
   "source": [
    "### XY-plane"
   ]
  },
  {
   "cell_type": "code",
   "execution_count": 7,
   "metadata": {
    "ExecuteTime": {
     "end_time": "2022-02-15T10:18:45.931098Z",
     "start_time": "2022-02-15T10:14:39.606185Z"
    },
    "code_folding": [
     0
    ],
    "run_control": {
     "marked": true
    }
   },
   "outputs": [
    {
     "name": "stderr",
     "output_type": "stream",
     "text": [
      "[Parallel(n_jobs=7)]: Using backend LokyBackend with 7 concurrent workers.\n",
      "[Parallel(n_jobs=7)]: Done   2 out of   7 | elapsed:  3.9min remaining:  9.9min\n",
      "[Parallel(n_jobs=7)]: Done   7 out of   7 | elapsed:  4.1min finished\n"
     ]
    }
   ],
   "source": [
    "# Vectorize initial conditions by arranging them to a vector of size (Nx*Ny*Nz, )\n",
    "x0_xy = X_domain[:,:,-1].ravel() # array (Nx*Ny, )\n",
    "y0_xy = Y_domain[:,:,-1].ravel() # array (Nx*Ny, )\n",
    "z0_xy = Z_domain[:,:,-1].ravel() # array (Nx*Ny, )\n",
    "\n",
    "x0_batch = list(split(x0_xy, Ncores)) # list (Nx*Ny)\n",
    "y0_batch = list(split(y0_xy, Ncores)) # list (Nx*Ny)\n",
    "z0_batch = list(split(z0_xy, Ncores)) # list (Nx*Ny)\n",
    "results = Parallel(n_jobs=Ncores, verbose = 2)(delayed(compute_aPRA)(x0_batch[i], y0_batch[i], z0_batch[i], s_dummy, s) for i in range(len(x0_batch)))\n",
    "\n",
    "# Extract results of aPRA computation on xy-plane\n",
    "aPRA_xy = results[0]\n",
    "for res in results[1:]:\n",
    "    aPRA_xy = np.append(aPRA_xy, res, axis = -1)\n",
    "    \n",
    "X0_xy = np.array(x0_xy).reshape(Ny,Nx) # array (Ny, Nx)\n",
    "Y0_xy = np.array(y0_xy).reshape(Ny,Nx) # array (Ny, Nx)\n",
    "Z0_xy = np.array(z0_xy).reshape(Ny,Nx) # array (Ny, Nx)\n",
    "aPRA_xy = np.array(aPRA_xy).reshape(len(s),Ny,Nx) # array (3, Ny, Nx)"
   ]
  },
  {
   "cell_type": "markdown",
   "metadata": {},
   "source": [
    "### XZ-plane"
   ]
  },
  {
   "cell_type": "code",
   "execution_count": 9,
   "metadata": {
    "ExecuteTime": {
     "end_time": "2022-02-15T10:23:24.326250Z",
     "start_time": "2022-02-15T10:18:58.314257Z"
    },
    "code_folding": [
     0
    ],
    "run_control": {
     "marked": false
    }
   },
   "outputs": [
    {
     "name": "stderr",
     "output_type": "stream",
     "text": [
      "[Parallel(n_jobs=7)]: Using backend LokyBackend with 7 concurrent workers.\n",
      "[Parallel(n_jobs=7)]: Done   2 out of   7 | elapsed:  4.1min remaining: 10.3min\n",
      "[Parallel(n_jobs=7)]: Done   7 out of   7 | elapsed:  4.4min finished\n"
     ]
    }
   ],
   "source": [
    "# Vectorize initial conditions by arranging them to a vector of size (Nx*Ny*Nz, )\n",
    "x0_xz = X_domain[0,:,:].ravel() # array (Nx*Nz, )\n",
    "y0_xz = Y_domain[0,:,:].ravel() # array (Nx*Nz, )\n",
    "z0_xz = Z_domain[0,:,:].ravel() # array (Nx*Nz, )\n",
    "\n",
    "x0_batch = list(split(x0_xz, Ncores)) # list (Nx*Nz)\n",
    "y0_batch = list(split(y0_xz, Ncores)) # list (Nx*Nz)\n",
    "z0_batch = list(split(z0_xz, Ncores)) # list (Nx*Nz)\n",
    "results = Parallel(n_jobs=Ncores, verbose = 2)(delayed(compute_aPRA)(x0_batch[i], y0_batch[i], z0_batch[i], s_dummy, s) for i in range(len(x0_batch)))\n",
    "\n",
    "# Extract results of aFTLE computation on xz-plane\n",
    "aFTLE_xz = results[0]\n",
    "for res in results[1:]:\n",
    "    aFTLE_xz = np.append(aFTLE_xz, res, axis = -1)\n",
    "    \n",
    "X0_xz = np.array(x0_xz).reshape(Nz,Nx) # array (Ny, Nx)\n",
    "Y0_xz = np.array(y0_xz).reshape(Nz,Nx) # array (Ny, Nx)\n",
    "Z0_xz = np.array(z0_xz).reshape(Nz,Nx) # array (Ny, Nx)\n",
    "aFTLE_xz = np.array(aFTLE_xz).reshape(len(s),Nz,Nx) # array (3, Ny, Nx)"
   ]
  },
  {
   "cell_type": "markdown",
   "metadata": {},
   "source": [
    "### YZ-plane"
   ]
  },
  {
   "cell_type": "code",
   "execution_count": 10,
   "metadata": {
    "ExecuteTime": {
     "end_time": "2022-02-15T10:27:26.042137Z",
     "start_time": "2022-02-15T10:23:24.327249Z"
    },
    "code_folding": [
     0
    ],
    "run_control": {
     "marked": false
    }
   },
   "outputs": [
    {
     "name": "stderr",
     "output_type": "stream",
     "text": [
      "[Parallel(n_jobs=7)]: Using backend LokyBackend with 7 concurrent workers.\n",
      "[Parallel(n_jobs=7)]: Done   2 out of   7 | elapsed:  3.9min remaining:  9.7min\n",
      "[Parallel(n_jobs=7)]: Done   7 out of   7 | elapsed:  4.0min finished\n"
     ]
    }
   ],
   "source": [
    "# Vectorize initial conditions by arranging them to a vector of size (Nx*Ny*Nz, )\n",
    "x0_yz = X_domain[:,0,:].ravel() # array (Ny*Nz, )\n",
    "y0_yz = Y_domain[:,0,:].ravel() # array (Ny*Nz, )\n",
    "z0_yz = Z_domain[:,0,:].ravel() # array (Ny*Nz, )\n",
    "\n",
    "x0_batch = list(split(x0_yz, Ncores)) # list (Ny*Nz)\n",
    "y0_batch = list(split(y0_yz, Ncores)) # list (Ny*Nz)\n",
    "z0_batch = list(split(z0_yz, Ncores)) # list (Ny*Nz)\n",
    "results = Parallel(n_jobs=Ncores, verbose = 2)(delayed(compute_aPRA)(x0_batch[i], y0_batch[i], z0_batch[i], s_dummy, s) for i in range(len(x0_batch)))\n",
    "\n",
    "# Extract results of aFTLE computation on xz-plane\n",
    "aFTLE_yz = results[0]\n",
    "for res in results[1:]:\n",
    "    aFTLE_yz = np.append(aFTLE_yz, res, axis = -1)\n",
    "    \n",
    "X0_yz = np.array(x0_yz).reshape(Nz,Ny) # array (Nz, Ny) \n",
    "Y0_yz = np.array(y0_yz).reshape(Nz,Ny) # array (Nz, Ny) \n",
    "Z0_yz = np.array(z0_yz).reshape(Nz,Ny) # array (Nz, Ny) \n",
    "aFTLE_yz = np.array(aFTLE_yz).reshape(len(s),Nz,Ny) # array (3, Nz, Ny)"
   ]
  },
  {
   "cell_type": "markdown",
   "metadata": {},
   "source": [
    "##### aPRA over different dummy time-intervals\n",
    "\n",
    "In the following we visualize the instantaneous linear momentum/vorticity barriers at time $ t_0 = 0 $ through the $ \\mathrm{aPRA} $ over different dummy time-intervals. Nested closed level sets surrounding a local minimum of the $ \\mathrm{aPRA}_{0,0}^{s_i} \\ (i \\in \\lbrace 1,2,3 \\rbrace) $ indicate elliptic transport barriers which block the transport of linear momentum. Note that contrary to the classic $ \\mathrm{PRA} $, the $ \\mathrm{aPRA} $ diagnostic is not limited by the temporal domain as the dummy time-interval can be chosen to be arbitrarily large. We explore the structures of the $ \\mathrm{aPRA}_{0,t_0}^{s_i} $ over different dummy time-intervals $ s_i \\in \\lbrace 1,2,3 \\rbrace $ at time $ t_0 $."
   ]
  },
  {
   "cell_type": "code",
   "execution_count": null,
   "metadata": {
    "ExecuteTime": {
     "end_time": "2022-02-15T10:18:46.059756Z",
     "start_time": "2022-02-15T10:14:39.124Z"
    },
    "code_folding": [
     0,
     5
    ],
    "scrolled": true
   },
   "outputs": [],
   "source": [
    "# Import plotly for 3D figures\n",
    "from plotly import graph_objs as go\n",
    "\n",
    "# iterate over different dummy time-intervals and display aFTLE field calculated over each time-interval\n",
    "\n",
    "def plot_aFTLE(i):\n",
    "\n",
    "    # define minimum and maximum values for colorbar\n",
    "    min_value = min(np.min(aFTLE_yz[i,:,:]),min(np.min(aFTLE_xy[i,:,:]), np.min(aFTLE_xz[i,:,:])))\n",
    "    max_value = max(np.max(aFTLE_yz[i,:,:]),max(np.max(aFTLE_xy[i,:,:]), np.max(aFTLE_xz[i,:,:])))\n",
    "\n",
    "    # create figure\n",
    "    fig = go.Figure(data=[go.Surface(x = X0_xy, y = Y0_xy, z = Z0_xy, surfacecolor = aFTLE_xy[i,:,:], showscale = True, colorscale='rainbow', cmin=min_value, cmax=max_value)])\n",
    "    fig.add_trace(go.Surface(x = X0_xz, y = Y0_xz, z = Z0_xz, surfacecolor = aFTLE_xz[i,:,:], showscale = False, colorscale='rainbow', cmin=min_value, cmax=max_value))\n",
    "    fig.add_trace(go.Surface(x = X0_yz, y = Y0_yz, z = Z0_yz, surfacecolor = aFTLE_yz[i,:,:], showscale = False, colorscale='rainbow', cmin=min_value, cmax=max_value))\n",
    "    fig.add_trace(go.Surface(x = X0_xy, y = Y0_xy, z = Z0_xy-2*np.pi, surfacecolor = aFTLE_xy[i,:,:], showscale = False, colorscale='rainbow', cmin=min_value, cmax=max_value))\n",
    "    fig.add_trace(go.Surface(x = X0_xz, y = Y0_xz+2*np.pi, z = Z0_xz, surfacecolor = aFTLE_xz[i,:,:], showscale = False, colorscale='rainbow', cmin=min_value, cmax=max_value))\n",
    "    fig.add_trace(go.Surface(x = X0_yz+2*np.pi, y = Y0_yz, z = Z0_yz, surfacecolor = aFTLE_yz[i,:,:], showscale = False, colorscale='rainbow', cmin=min_value, cmax=max_value))\n",
    "\n",
    "    # camera\n",
    "    camera = dict(eye=dict(x=-1.45,y=-1.45,z=1.7))\n",
    "    \n",
    "    fig.update_layout(scene_camera=camera)\n",
    "\n",
    "    fig.show()"
   ]
  },
  {
   "cell_type": "markdown",
   "metadata": {},
   "source": [
    "### $ \\mathrm{aPRA}_{0,0}^{s_1} $\n",
    "\n",
    "In the following we visualize the instantaneous linear momentum barriers/vorticity at time $ t_0 = 0 $ through $ \\mathrm{aPRA}_{0,0}^{s_1} $."
   ]
  },
  {
   "cell_type": "code",
   "execution_count": null,
   "metadata": {
    "ExecuteTime": {
     "end_time": "2022-02-15T10:18:46.060752Z",
     "start_time": "2022-02-15T10:14:39.144Z"
    }
   },
   "outputs": [],
   "source": [
    "plot_aPRA(0)"
   ]
  },
  {
   "cell_type": "markdown",
   "metadata": {},
   "source": [
    "### $ \\mathrm{aPRA}_{0,0}^{s_2} $\n",
    "\n",
    "In the following we visualize the instantaneous linear momentum/vorticity barriers at time $ t_0 = 0 $ through $ \\mathrm{aPRA}_{0,0}^{s_2} $."
   ]
  },
  {
   "cell_type": "code",
   "execution_count": null,
   "metadata": {
    "ExecuteTime": {
     "end_time": "2022-02-15T10:18:46.062749Z",
     "start_time": "2022-02-15T10:14:39.166Z"
    }
   },
   "outputs": [],
   "source": [
    "plot_aPRA(1)"
   ]
  },
  {
   "cell_type": "markdown",
   "metadata": {},
   "source": [
    "### $ \\mathrm{aPRA}_{0,0}^{s_3} $\n",
    "\n",
    "In the following we visualize the instantaneous linear momentum/vorticity barriers at time $ t_0 = 0 $ through $ \\mathrm{aPRA}_{0,0}^{s_3} $."
   ]
  },
  {
   "cell_type": "code",
   "execution_count": null,
   "metadata": {
    "ExecuteTime": {
     "end_time": "2022-02-15T10:18:46.063745Z",
     "start_time": "2022-02-15T10:14:39.187Z"
    }
   },
   "outputs": [],
   "source": [
    "plot_aPRA(2)"
   ]
  },
  {
   "cell_type": "markdown",
   "metadata": {},
   "source": [
    "The figures focus on momentum/vorticity-based elliptic active barriers of the 3D viscous, unsteady ABC-flow. \n",
    "The $ \\mathrm{aPRA} $ provides a clear picture of the main elliptic active barriers. The features become even more pronounced for longer s-times. Nested closed level sets surrounding a local minimum of the $ \\mathrm{aPRA} $ reveal elliptic barriers to the transport of linear momenutm. The equivalence between instantaneous momentum and vorticity barriers holds as the ABC-flows satisfies the strong Beltrami property."
   ]
  },
  {
   "cell_type": "markdown",
   "metadata": {},
   "source": [
    "# References\n",
    "\n",
    "[1] Haller, G., Katsanoulis, S., Holzner, M., Frohnapfel, B., & Gatti, D. (2020). Objective barriers to the transport of dynamically active vector fields. Journal of Fluid Mechanics, 905.\n",
    "\n",
    "[2] Notebook 9.7.6. in \"Transport Barriers and Coherent Structures in Flow Data\" by Prof. George Haller."
   ]
  }
 ],
 "metadata": {
  "kernelspec": {
   "display_name": "Python 3",
   "language": "python",
   "name": "python3"
  },
  "language_info": {
   "codemirror_mode": {
    "name": "ipython",
    "version": 3
   },
   "file_extension": ".py",
   "mimetype": "text/x-python",
   "name": "python",
   "nbconvert_exporter": "python",
   "pygments_lexer": "ipython3",
   "version": "3.7.12"
  },
  "toc": {
   "base_numbering": "0",
   "nav_menu": {},
   "number_sections": true,
   "sideBar": true,
   "skip_h1_title": false,
   "title_cell": "Table of Contents",
   "title_sidebar": "Contents",
   "toc_cell": false,
   "toc_position": {
    "height": "calc(100% - 180px)",
    "left": "10px",
    "top": "150px",
    "width": "307.2px"
   },
   "toc_section_display": true,
   "toc_window_display": true
  }
 },
 "nbformat": 4,
 "nbformat_minor": 4
}
