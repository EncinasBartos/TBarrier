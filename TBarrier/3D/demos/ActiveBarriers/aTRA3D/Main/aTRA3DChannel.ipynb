{
 "cells": [
  {
   "cell_type": "markdown",
   "metadata": {},
   "source": [
    "We start by adding the necessary folders to the current working path."
   ]
  },
  {
   "cell_type": "code",
   "execution_count": 1,
   "metadata": {
    "ExecuteTime": {
     "end_time": "2022-02-17T11:35:01.532238Z",
     "start_time": "2022-02-17T11:35:01.528553Z"
    },
    "code_folding": [
     0
    ],
    "run_control": {
     "marked": true
    }
   },
   "outputs": [],
   "source": [
    "# import sys/os\n",
    "import sys, os\n",
    "\n",
    "# get current directory\n",
    "path = os.getcwd()\n",
    "\n",
    "# get parent directory\n",
    "parent_directory = os.path.sep.join(path.split(os.path.sep)[:-4])\n",
    "\n",
    "# add utils folder to current working path\n",
    "sys.path.append(parent_directory+\"/subfunctions/utils\")\n",
    "\n",
    "# add integration folder to current working path\n",
    "sys.path.append(parent_directory+\"/subfunctions/integration\")\n",
    "\n",
    "# add TRA folder to current working path\n",
    "sys.path.append(parent_directory+\"/demos/AdvectiveBarriers/TRA3D\")\n",
    "\n",
    "# add ActiveBarriers folder to current working path\n",
    "sys.path.append(parent_directory+\"/demos/ActiveBarriers\")\n",
    "\n",
    "# remove warnings from shapely due to deprecation\n",
    "import warnings\n",
    "warnings.filterwarnings('ignore')"
   ]
  },
  {
   "cell_type": "markdown",
   "metadata": {},
   "source": [
    "# Overview\n",
    "\n",
    "We illustrate the numerical implementation and the use of the active Trajectory Rotation Average ($ \\mathrm{a\\overline{TRA}} $) on a direct numerical simulation of a turbulent channel flow from the publicly available [Johns Hopkins University Turbulence\n",
    "Database (JHTDB)](http://turbulence.pha.jhu.edu/). The active LCS diagnostic is applied to the three-dimensional and steady instantaneous linear momentum barrier equation. The notebook is structured as follows:\n",
    "\n",
    "1. Import Laplacian of velocity-field data stored in the folder 'data/Turbulence'. The Laplacian of the velocity field from the publicly available John Hopkins University Turbulence Database has been [precomputed](../../../../data/Turbulence/Channel.ipynb).\n",
    "<br />\n",
    "2. Define computational parameters (such as the number of cores) and data.\n",
    " <br />\n",
    "3. Define spatio-temporal domain.\n",
    " <br />\n",
    "4. Interpolate Laplacian of velocity from (discrete) gridded data.\n",
    " <br />\n",
    "5. Instantaneous linear momentum barriers from active Trajectory Rotation Average ($ \\mathrm{a\\overline{TRA}} $):\n",
    "\n",
    "   <br />\n",
    "   * For 3D incompressible, uniform-density Navier–Stokes flows, the Eulerian barrier equation for linear momentum is:\n",
    "   <br />\n",
    "   \\begin{equation}\n",
    "   \\mathbf{x'}(s) = \\nu \\rho \\Delta \\mathbf{v}(\\mathbf{x}, t)\n",
    "   \\label{eq: linearmoment1}\n",
    "   \\end{equation}\n",
    "   \n",
    "   <br />\n",
    "   \n",
    "   By appropriate rescaling with respect to the dummy time, equation \\ref{eq: linearmoment1} simplifies to: \n",
    "   <br />\n",
    "   \\begin{equation}\n",
    "   \\mathbf{x'}(s) = \\Delta \\mathbf{v}(\\mathbf{x}, t)\n",
    "   \\label{eq: linearmoment2}\n",
    "   \\end{equation}\n",
    "   \n",
    "    Time 't' is just a fixed parameter and hence the system is autonomous and the integration is done with respect to a dummy time variable 's'. 's' can be arbitrarily large and the $ \\mathrm{a\\overline{TRA}} $ is only limited by the spatial resolution and domain. It can thus potentially reveal finer and more resolved structures compared to the classic version of the $ \\mathrm{\\overline{TRA}} $, which is fundamentally limited by the temporal domain of the available data.\n",
    "    \n",
    "    <br />\n",
    "    \n",
    "   * We start by evaluating the right-hand-side of equation \\ref{eq: linearmoment2} by first interpolating $ \\Delta \\mathbf{v}(\\mathbf{x}, t) $ over the spatial meshgrid.\n",
    "   \n",
    "   <br />\n",
    "   \n",
    "   * We then apply the $ \\mathrm{a\\overline{TRA}} $ to the autonomous ODE from equation \\ref{eq: linearmoment2} over different dummy time-intervals.\n",
    "<br />\n",
    "7. References"
   ]
  },
  {
   "cell_type": "markdown",
   "metadata": {},
   "source": [
    "# Import data"
   ]
  },
  {
   "cell_type": "code",
   "execution_count": 2,
   "metadata": {
    "ExecuteTime": {
     "end_time": "2022-02-17T11:35:01.902896Z",
     "start_time": "2022-02-17T11:35:01.573390Z"
    },
    "code_folding": [
     0
    ],
    "run_control": {
     "marked": true
    }
   },
   "outputs": [
    {
     "ename": "FileNotFoundError",
     "evalue": "[Errno 2] No such file or directory: '../../../../data/Turbulence/Lap_velocity_TurbulentChannelFlow.mat'",
     "output_type": "error",
     "traceback": [
      "\u001b[0;31m---------------------------------------------------------------------------\u001b[0m",
      "\u001b[0;31mFileNotFoundError\u001b[0m                         Traceback (most recent call last)",
      "\u001b[0;32m/opt/anaconda3/envs/TBarrier/lib/python3.7/site-packages/scipy/io/matlab/mio.py\u001b[0m in \u001b[0;36m_open_file\u001b[0;34m(file_like, appendmat, mode)\u001b[0m\n\u001b[1;32m     38\u001b[0m     \u001b[0;32mtry\u001b[0m\u001b[0;34m:\u001b[0m\u001b[0;34m\u001b[0m\u001b[0;34m\u001b[0m\u001b[0m\n\u001b[0;32m---> 39\u001b[0;31m         \u001b[0;32mreturn\u001b[0m \u001b[0mopen\u001b[0m\u001b[0;34m(\u001b[0m\u001b[0mfile_like\u001b[0m\u001b[0;34m,\u001b[0m \u001b[0mmode\u001b[0m\u001b[0;34m)\u001b[0m\u001b[0;34m,\u001b[0m \u001b[0;32mTrue\u001b[0m\u001b[0;34m\u001b[0m\u001b[0;34m\u001b[0m\u001b[0m\n\u001b[0m\u001b[1;32m     40\u001b[0m     \u001b[0;32mexcept\u001b[0m \u001b[0mIOError\u001b[0m \u001b[0;32mas\u001b[0m \u001b[0me\u001b[0m\u001b[0;34m:\u001b[0m\u001b[0;34m\u001b[0m\u001b[0;34m\u001b[0m\u001b[0m\n",
      "\u001b[0;31mFileNotFoundError\u001b[0m: [Errno 2] No such file or directory: '../../../../data/Turbulence/Lap_velocity_TurbulentChannelFlow.mat'",
      "\nDuring handling of the above exception, another exception occurred:\n",
      "\u001b[0;31mFileNotFoundError\u001b[0m                         Traceback (most recent call last)",
      "\u001b[0;32m<ipython-input-2-d2d45af81f4e>\u001b[0m in \u001b[0;36m<module>\u001b[0;34m\u001b[0m\n\u001b[1;32m      5\u001b[0m \u001b[0;32mimport\u001b[0m \u001b[0mnumpy\u001b[0m \u001b[0;32mas\u001b[0m \u001b[0mnp\u001b[0m\u001b[0;34m\u001b[0m\u001b[0;34m\u001b[0m\u001b[0m\n\u001b[1;32m      6\u001b[0m \u001b[0;34m\u001b[0m\u001b[0m\n\u001b[0;32m----> 7\u001b[0;31m \u001b[0mf\u001b[0m \u001b[0;34m=\u001b[0m \u001b[0msio\u001b[0m\u001b[0;34m.\u001b[0m\u001b[0mloadmat\u001b[0m\u001b[0;34m(\u001b[0m\u001b[0;34m'../../../../data/Turbulence/Lap_velocity_TurbulentChannelFlow.mat'\u001b[0m\u001b[0;34m)\u001b[0m\u001b[0;34m\u001b[0m\u001b[0;34m\u001b[0m\u001b[0m\n\u001b[0m\u001b[1;32m      8\u001b[0m \u001b[0;34m\u001b[0m\u001b[0m\n\u001b[1;32m      9\u001b[0m \u001b[0mlap_U\u001b[0m \u001b[0;34m=\u001b[0m \u001b[0mf\u001b[0m\u001b[0;34m[\u001b[0m\u001b[0;34m'Lap_u'\u001b[0m\u001b[0;34m]\u001b[0m\u001b[0;34m\u001b[0m\u001b[0;34m\u001b[0m\u001b[0m\n",
      "\u001b[0;32m/opt/anaconda3/envs/TBarrier/lib/python3.7/site-packages/scipy/io/matlab/mio.py\u001b[0m in \u001b[0;36mloadmat\u001b[0;34m(file_name, mdict, appendmat, **kwargs)\u001b[0m\n\u001b[1;32m    222\u001b[0m     \"\"\"\n\u001b[1;32m    223\u001b[0m     \u001b[0mvariable_names\u001b[0m \u001b[0;34m=\u001b[0m \u001b[0mkwargs\u001b[0m\u001b[0;34m.\u001b[0m\u001b[0mpop\u001b[0m\u001b[0;34m(\u001b[0m\u001b[0;34m'variable_names'\u001b[0m\u001b[0;34m,\u001b[0m \u001b[0;32mNone\u001b[0m\u001b[0;34m)\u001b[0m\u001b[0;34m\u001b[0m\u001b[0;34m\u001b[0m\u001b[0m\n\u001b[0;32m--> 224\u001b[0;31m     \u001b[0;32mwith\u001b[0m \u001b[0m_open_file_context\u001b[0m\u001b[0;34m(\u001b[0m\u001b[0mfile_name\u001b[0m\u001b[0;34m,\u001b[0m \u001b[0mappendmat\u001b[0m\u001b[0;34m)\u001b[0m \u001b[0;32mas\u001b[0m \u001b[0mf\u001b[0m\u001b[0;34m:\u001b[0m\u001b[0;34m\u001b[0m\u001b[0;34m\u001b[0m\u001b[0m\n\u001b[0m\u001b[1;32m    225\u001b[0m         \u001b[0mMR\u001b[0m\u001b[0;34m,\u001b[0m \u001b[0m_\u001b[0m \u001b[0;34m=\u001b[0m \u001b[0mmat_reader_factory\u001b[0m\u001b[0;34m(\u001b[0m\u001b[0mf\u001b[0m\u001b[0;34m,\u001b[0m \u001b[0;34m**\u001b[0m\u001b[0mkwargs\u001b[0m\u001b[0;34m)\u001b[0m\u001b[0;34m\u001b[0m\u001b[0;34m\u001b[0m\u001b[0m\n\u001b[1;32m    226\u001b[0m         \u001b[0mmatfile_dict\u001b[0m \u001b[0;34m=\u001b[0m \u001b[0mMR\u001b[0m\u001b[0;34m.\u001b[0m\u001b[0mget_variables\u001b[0m\u001b[0;34m(\u001b[0m\u001b[0mvariable_names\u001b[0m\u001b[0;34m)\u001b[0m\u001b[0;34m\u001b[0m\u001b[0;34m\u001b[0m\u001b[0m\n",
      "\u001b[0;32m/opt/anaconda3/envs/TBarrier/lib/python3.7/contextlib.py\u001b[0m in \u001b[0;36m__enter__\u001b[0;34m(self)\u001b[0m\n\u001b[1;32m    110\u001b[0m         \u001b[0;32mdel\u001b[0m \u001b[0mself\u001b[0m\u001b[0;34m.\u001b[0m\u001b[0margs\u001b[0m\u001b[0;34m,\u001b[0m \u001b[0mself\u001b[0m\u001b[0;34m.\u001b[0m\u001b[0mkwds\u001b[0m\u001b[0;34m,\u001b[0m \u001b[0mself\u001b[0m\u001b[0;34m.\u001b[0m\u001b[0mfunc\u001b[0m\u001b[0;34m\u001b[0m\u001b[0;34m\u001b[0m\u001b[0m\n\u001b[1;32m    111\u001b[0m         \u001b[0;32mtry\u001b[0m\u001b[0;34m:\u001b[0m\u001b[0;34m\u001b[0m\u001b[0;34m\u001b[0m\u001b[0m\n\u001b[0;32m--> 112\u001b[0;31m             \u001b[0;32mreturn\u001b[0m \u001b[0mnext\u001b[0m\u001b[0;34m(\u001b[0m\u001b[0mself\u001b[0m\u001b[0;34m.\u001b[0m\u001b[0mgen\u001b[0m\u001b[0;34m)\u001b[0m\u001b[0;34m\u001b[0m\u001b[0;34m\u001b[0m\u001b[0m\n\u001b[0m\u001b[1;32m    113\u001b[0m         \u001b[0;32mexcept\u001b[0m \u001b[0mStopIteration\u001b[0m\u001b[0;34m:\u001b[0m\u001b[0;34m\u001b[0m\u001b[0;34m\u001b[0m\u001b[0m\n\u001b[1;32m    114\u001b[0m             \u001b[0;32mraise\u001b[0m \u001b[0mRuntimeError\u001b[0m\u001b[0;34m(\u001b[0m\u001b[0;34m\"generator didn't yield\"\u001b[0m\u001b[0;34m)\u001b[0m \u001b[0;32mfrom\u001b[0m \u001b[0;32mNone\u001b[0m\u001b[0;34m\u001b[0m\u001b[0;34m\u001b[0m\u001b[0m\n",
      "\u001b[0;32m/opt/anaconda3/envs/TBarrier/lib/python3.7/site-packages/scipy/io/matlab/mio.py\u001b[0m in \u001b[0;36m_open_file_context\u001b[0;34m(file_like, appendmat, mode)\u001b[0m\n\u001b[1;32m     15\u001b[0m \u001b[0;34m@\u001b[0m\u001b[0mcontextmanager\u001b[0m\u001b[0;34m\u001b[0m\u001b[0;34m\u001b[0m\u001b[0m\n\u001b[1;32m     16\u001b[0m \u001b[0;32mdef\u001b[0m \u001b[0m_open_file_context\u001b[0m\u001b[0;34m(\u001b[0m\u001b[0mfile_like\u001b[0m\u001b[0;34m,\u001b[0m \u001b[0mappendmat\u001b[0m\u001b[0;34m,\u001b[0m \u001b[0mmode\u001b[0m\u001b[0;34m=\u001b[0m\u001b[0;34m'rb'\u001b[0m\u001b[0;34m)\u001b[0m\u001b[0;34m:\u001b[0m\u001b[0;34m\u001b[0m\u001b[0;34m\u001b[0m\u001b[0m\n\u001b[0;32m---> 17\u001b[0;31m     \u001b[0mf\u001b[0m\u001b[0;34m,\u001b[0m \u001b[0mopened\u001b[0m \u001b[0;34m=\u001b[0m \u001b[0m_open_file\u001b[0m\u001b[0;34m(\u001b[0m\u001b[0mfile_like\u001b[0m\u001b[0;34m,\u001b[0m \u001b[0mappendmat\u001b[0m\u001b[0;34m,\u001b[0m \u001b[0mmode\u001b[0m\u001b[0;34m)\u001b[0m\u001b[0;34m\u001b[0m\u001b[0;34m\u001b[0m\u001b[0m\n\u001b[0m\u001b[1;32m     18\u001b[0m     \u001b[0;32mtry\u001b[0m\u001b[0;34m:\u001b[0m\u001b[0;34m\u001b[0m\u001b[0;34m\u001b[0m\u001b[0m\n\u001b[1;32m     19\u001b[0m         \u001b[0;32myield\u001b[0m \u001b[0mf\u001b[0m\u001b[0;34m\u001b[0m\u001b[0;34m\u001b[0m\u001b[0m\n",
      "\u001b[0;32m/opt/anaconda3/envs/TBarrier/lib/python3.7/site-packages/scipy/io/matlab/mio.py\u001b[0m in \u001b[0;36m_open_file\u001b[0;34m(file_like, appendmat, mode)\u001b[0m\n\u001b[1;32m     43\u001b[0m             \u001b[0;32mif\u001b[0m \u001b[0mappendmat\u001b[0m \u001b[0;32mand\u001b[0m \u001b[0;32mnot\u001b[0m \u001b[0mfile_like\u001b[0m\u001b[0;34m.\u001b[0m\u001b[0mendswith\u001b[0m\u001b[0;34m(\u001b[0m\u001b[0;34m'.mat'\u001b[0m\u001b[0;34m)\u001b[0m\u001b[0;34m:\u001b[0m\u001b[0;34m\u001b[0m\u001b[0;34m\u001b[0m\u001b[0m\n\u001b[1;32m     44\u001b[0m                 \u001b[0mfile_like\u001b[0m \u001b[0;34m+=\u001b[0m \u001b[0;34m'.mat'\u001b[0m\u001b[0;34m\u001b[0m\u001b[0;34m\u001b[0m\u001b[0m\n\u001b[0;32m---> 45\u001b[0;31m             \u001b[0;32mreturn\u001b[0m \u001b[0mopen\u001b[0m\u001b[0;34m(\u001b[0m\u001b[0mfile_like\u001b[0m\u001b[0;34m,\u001b[0m \u001b[0mmode\u001b[0m\u001b[0;34m)\u001b[0m\u001b[0;34m,\u001b[0m \u001b[0;32mTrue\u001b[0m\u001b[0;34m\u001b[0m\u001b[0;34m\u001b[0m\u001b[0m\n\u001b[0m\u001b[1;32m     46\u001b[0m         \u001b[0;32melse\u001b[0m\u001b[0;34m:\u001b[0m\u001b[0;34m\u001b[0m\u001b[0;34m\u001b[0m\u001b[0m\n\u001b[1;32m     47\u001b[0m             raise IOError(\n",
      "\u001b[0;31mFileNotFoundError\u001b[0m: [Errno 2] No such file or directory: '../../../../data/Turbulence/Lap_velocity_TurbulentChannelFlow.mat'"
     ]
    }
   ],
   "source": [
    "# import scipy\n",
    "import scipy.io as sio\n",
    "\n",
    "# import numpy\n",
    "import numpy as np\n",
    "\n",
    "f = sio.loadmat('../../../../data/Turbulence/Lap_velocity_TurbulentChannelFlow.mat')\n",
    "\n",
    "lap_U = f['Lap_u']\n",
    "lap_V = f['Lap_v']\n",
    "lap_W = f['Lap_w']\n",
    "\n",
    "x = f['xspan']\n",
    "y = f['yspan']\n",
    "z = f['zspan']"
   ]
  },
  {
   "cell_type": "markdown",
   "metadata": {},
   "source": [
    "# Computational parameters and data\n",
    "\n",
    "Here we define the computational parameters and the data."
   ]
  },
  {
   "cell_type": "code",
   "execution_count": null,
   "metadata": {
    "ExecuteTime": {
     "end_time": "2022-02-17T11:35:01.905109Z",
     "start_time": "2022-02-17T11:35:01.588Z"
    },
    "code_folding": [
     0
    ],
    "run_control": {
     "marked": false
    }
   },
   "outputs": [],
   "source": [
    "# import numpy\n",
    "import numpy as np\n",
    "\n",
    "# Number of cores for parallel computing\n",
    "Ncores = 7 # int\n",
    "\n",
    "# Periodic boundary conditions\n",
    "periodic_x = False # bool\n",
    "periodic_y = False # bool\n",
    "periodic_z = False # bool\n",
    "periodic = [periodic_x, periodic_y, periodic_z]\n",
    "\n",
    "# Unsteady velocity field\n",
    "bool_unsteady = False # bool\n",
    "\n",
    "# Defined domain\n",
    "defined_domain = np.isfinite(lap_U).astype(int) # array (NY, NX, NZ)\n",
    "\n",
    "## Compute meshgrid of dataset\n",
    "X, Y, Z = np.meshgrid(x, y, z) # array (NY, NX), array (NY, NX, NZ)\n",
    "\n",
    "## Resolution of meshgrid\n",
    "dx_data = X[0,1,0]-X[0,0,0] # float\n",
    "dy_data = Y[1,0,0]-Y[0,0,0] # float\n",
    "dz_data = Y[0,0,1]-Z[0,0,0] # float\n",
    "\n",
    "delta = [dx_data, dy_data, dx_data] # list (3, )"
   ]
  },
  {
   "cell_type": "markdown",
   "metadata": {},
   "source": [
    "# Spatio-temporal domain\n",
    "\n",
    "Here we define the spatio-temporal domain over which to consider the dynamical system."
   ]
  },
  {
   "cell_type": "code",
   "execution_count": null,
   "metadata": {
    "ExecuteTime": {
     "end_time": "2022-02-17T11:35:01.906049Z",
     "start_time": "2022-02-17T11:35:01.608Z"
    },
    "code_folding": []
   },
   "outputs": [],
   "source": [
    "# boundaries\n",
    "xmin = 3.6 # float\n",
    "xmax = 4 # float\n",
    "ymin = 0.2 # float\n",
    "ymax = 0.6 # float\n",
    "z_section = 2.55 # float\n",
    "\n",
    "assert np.min(X) < xmin < np.max(X), f'xmin must be between {np.min(X)} and {np.max(X)}'\n",
    "assert np.min(X) < xmax < np.max(X), f'xmax must be between {np.min(X)} and {np.max(X)}'\n",
    "assert np.min(Y) < ymin < np.max(Y), f'ymin must be between {np.min(Y)} and {np.max(Y)}'\n",
    "assert np.min(Y) < ymax < np.max(Y), f'ymax must be between {np.min(Y)} and {np.max(Y)}'\n",
    "assert np.min(Z) < z_section < np.max(Z), f'z_section must be between {np.min(Z)} and {np.max(Z)}'\n",
    "\n",
    "# Resolution of meshgrid\n",
    "Ny = 500 # int\n",
    "Nx = 500 # int\n",
    "\n",
    "x_domain = np.linspace(xmin, xmax, Nx, endpoint = True) # array (Nx, )\n",
    "y_domain = np.linspace(ymin, ymax, Ny, endpoint = True) # array (Ny, )\n",
    "\n",
    "dx = x_domain[1]-x_domain[0] # float\n",
    "dy = y_domain[1]-y_domain[0] # float\n",
    "\n",
    "X_domain, Y_domain = np.meshgrid(x_domain, y_domain) # array (Ny, Nx)\n",
    "\n",
    "# Define dummy time-intervals for computation of aFTLE in ascending order\n",
    "s1 = 10**(-4) # float s1 > 0\n",
    "s2 = 0.5*10**(-3) # float s2 > s1\n",
    "s3 = 10**(-3) # float s3 > s2\n",
    "\n",
    "s = [s1, s2, s3] # list (3,)\n",
    "\n",
    "# define dummy time interval\n",
    "ds = .5*10**(-5)\n",
    "sN = s[-1] # Feel free to change this parameter as needed\n",
    "s_dummy = np.arange(0, sN+ds, ds)"
   ]
  },
  {
   "cell_type": "markdown",
   "metadata": {},
   "source": [
    "# Laplacian of velocity Interpolation\n",
    "\n",
    "In order to evaluate the laplacian of the velocity field at arbitrary locations, we interpolate the gridded laplacian of velocity data. The interpolation with respect to time and space is \"linear\"."
   ]
  },
  {
   "cell_type": "code",
   "execution_count": null,
   "metadata": {
    "ExecuteTime": {
     "end_time": "2022-02-17T11:35:01.906861Z",
     "start_time": "2022-02-17T11:35:01.626Z"
    },
    "code_folding": [
     0
    ],
    "run_control": {
     "marked": false
    }
   },
   "outputs": [],
   "source": [
    "# Import interpolation function for steady flow field\n",
    "from ipynb.fs.defs.Interpolant import interpolant_steady\n",
    "\n",
    "# Set nan values to zero (in case there are any) so that we can apply interpolant. \n",
    "# Interpolant does not work if the array contains nan values. \n",
    "lap_U[np.isnan(lap_U)] = 0\n",
    "lap_V[np.isnan(lap_V)] = 0\n",
    "lap_W[np.isnan(lap_W)] = 0\n",
    "\n",
    "# Interpolate velocity data using cubic spatial interpolation\n",
    "Interpolant = interpolant_steady(X, Y, Z, lap_U, lap_V, lap_W)\n",
    "\n",
    "Interpolant_lap_u = Interpolant[0] # RectangularBivariateSpline-object\n",
    "Interpolant_lap_v = Interpolant[1] # RectangularBivariateSpline-object\n",
    "Interpolant_lap_w = Interpolant[2] # RectangularBivariateSpline-object"
   ]
  },
  {
   "cell_type": "markdown",
   "metadata": {},
   "source": [
    "# Instantaneous linear momentum barriers from active Trajectory Rotation Average $ (\\mathrm{a\\overline{TRA}}) $.\n",
    "\n",
    "We visualize linear momentum barriers by applying the $ \\mathrm{\\overline{TRA}} $ to trajectories of instantaneous linear momentum barrier equation \\ref{eq: linearmoment2}. As soon as the $ \\mathrm{\\overline{TRA}} $-field is applied to an active vector field, such as linear momentum, we refer to it as $ \\mathrm{a\\overline{TRA}} $ (active $ \\mathrm{\\overline{TRA}} $)."
   ]
  },
  {
   "cell_type": "markdown",
   "metadata": {},
   "source": [
    "## active $ \\mathrm{\\overline{TRA}} $\n",
    "\n",
    "We now compute the active $ \\mathrm{\\overline{TRA}} $ for the instantaneous linear momentum barrier equations. First, we evaluate the velocity along the particle trajectories from the autonomous ODE (eq. \\ref{eq: linearmoment2}) for all initial conditions on the 2D cross-section. From the velocity of the trajectories (=time-derivative of flow map) we then compute the $ \\mathrm{\\overline{TRA}} $."
   ]
  },
  {
   "cell_type": "code",
   "execution_count": null,
   "metadata": {
    "ExecuteTime": {
     "end_time": "2022-02-17T11:35:01.907848Z",
     "start_time": "2022-02-17T11:35:01.662Z"
    },
    "code_folding": [
     0,
     9,
     29
    ],
    "run_control": {
     "marked": true
    }
   },
   "outputs": [],
   "source": [
    "# Import function to compute trajectory/velocity along trajectory\n",
    "from ipynb.fs.defs.integration_dFdt import integration_dFdt\n",
    "\n",
    "# Import function to compute Trajectory Rotation Angle (TRA)\n",
    "from ipynb.fs.defs.TRA import _TRA\n",
    "\n",
    "# Import package for parallel computing\n",
    "from joblib import Parallel, delayed\n",
    "\n",
    "def compute_aTRA(x0, y0, z0, s_dummy, s):\n",
    "    \n",
    "    X0 = np.array([x0, y0, z0]) # array (3, Nx*Ny*Nz)\n",
    "    \n",
    "    DFDt = integration_dFdt(s_dummy, X0, X, Y, Z, Interpolant_lap_u, Interpolant_lap_v, Interpolant_lap_w, periodic, bool_unsteady)[1] # array (Nt, 3, Nx*Ny)\n",
    "    \n",
    "    aTRA = np.zeros((len(s), DFDt.shape[-1]))\n",
    "    \n",
    "    counter = 0\n",
    "    for idx in np.searchsorted(s_dummy, s):\n",
    "        \n",
    "        for i in range(DFDt.shape[2]):\n",
    "            \n",
    "            aTRA[counter, i] = _TRA(DFDt[:idx+1,:,i].transpose(), s_dummy[idx])\n",
    "            \n",
    "        counter += 1\n",
    "    \n",
    "    return aTRA\n",
    "\n",
    "# Split x0,y0,z0 into 'Ncores' equal batches for parallel computing\n",
    "def split(a, n):\n",
    "    k, m = divmod(len(a), n)\n",
    "    return (a[i*k+min(i, m):(i+1)*k+min(i+1, m)] for i in range(n))"
   ]
  },
  {
   "cell_type": "code",
   "execution_count": null,
   "metadata": {
    "ExecuteTime": {
     "end_time": "2022-02-17T11:35:01.908727Z",
     "start_time": "2022-02-17T11:35:01.663Z"
    },
    "code_folding": [
     0
    ]
   },
   "outputs": [],
   "source": [
    "# Vectorize initial conditions by arranging them to a vector of size (Nx*Ny*Nz, )\n",
    "x0 = X_domain.ravel() # array (Nx*Ny, )\n",
    "y0 = Y_domain.ravel() # array (Nx*Ny, )\n",
    "z0 = z_section*np.ones(x0.shape[0],) # array (Nx*Ny, )\n",
    "\n",
    "x0_batch = list(split(x0, Ncores)) # list (Nx*Ny)\n",
    "y0_batch = list(split(y0, Ncores)) # list (Nx*Ny)\n",
    "z0_batch = list(split(z0, Ncores)) # list (Nx*Ny)\n",
    "results = Parallel(n_jobs=Ncores, verbose = 2)(delayed(compute_aTRA)(x0_batch[i], y0_batch[i], z0_batch[i], s_dummy, s) for i in range(len(x0_batch)))\n",
    "\n",
    "# Extract results of aTRA computation on z=\n",
    "aTRA = results[0]\n",
    "for res in results[1:]:\n",
    "    aTRA = np.append(aTRA, res, axis = -1)\n",
    "    \n",
    "aTRA = np.array(aTRA).reshape(len(s),Ny,Nx) # array (3, Ny, Nx)"
   ]
  },
  {
   "cell_type": "markdown",
   "metadata": {},
   "source": [
    "##### $ \\mathrm{a\\overline{TRA}} $ over different dummy time-intervals\n",
    "\n",
    "In the following we visualize the instantaneous linear momentum barriers at time $ t_0 = 0 $ through the $ \\mathrm{a\\overline{TRA}} $ over different dummy time-intervals. Note that contrary to the classic $ \\mathrm{a\\overline{TRA}} $, the $ \\mathrm{a\\overline{TRA}} $ diagnostic is not limited by the temporal domain as the dummy time-interval can be chosen to be arbitrarily large. We explore the structures of the $ \\mathrm{a\\overline{TRA}}_{0,t_0}^{s_i} $ over different dummy time-intervals $ s_i \\in \\lbrace 1,2,3 \\rbrace $ at time $ t_0 $."
   ]
  },
  {
   "cell_type": "code",
   "execution_count": null,
   "metadata": {
    "ExecuteTime": {
     "end_time": "2022-02-17T11:35:01.909648Z",
     "start_time": "2022-02-17T11:35:01.684Z"
    },
    "code_folding": [
     0
    ],
    "run_control": {
     "marked": true
    },
    "scrolled": true
   },
   "outputs": [],
   "source": [
    "# Import matplotlib\n",
    "import matplotlib.pyplot as plt\n",
    "\n",
    "# plot iterate over different dummy time-intervals and display aTRA field calculated over each time-interval\n",
    "def plot_aTRA(i, ticks_colorbar):\n",
    "    \n",
    "    # create figure\n",
    "    fig = plt.figure(dpi = 180)\n",
    "    ax = plt.axes()\n",
    "    \n",
    "    # Fontsize\n",
    "    font_size = 7\n",
    "    \n",
    "    # Title\n",
    "    ax.set_title(r'$ \\mathrm{a\\overline{TRA}} $'+f'$_{{{0}}}^{{{s[i]}}}$', fontsize = font_size)\n",
    "    \n",
    "    # Contourplot\n",
    "    cax = ax.contourf(X_domain, Y_domain, aTRA[i,:,:], levels = 400, cmap = \"gist_rainbow_r\")\n",
    "    \n",
    "    # Set labels\n",
    "    ax.set_xlabel(\"x\", fontsize = font_size)\n",
    "    ax.set_ylabel(\"y\", fontsize = font_size)\n",
    "    \n",
    "    # Set ticks\n",
    "    ax.set_xticks(np.arange(xmin, xmax+0.01, 0.1))\n",
    "    ax.set_yticks(np.arange(ymin, ymax+0.01, 0.1))\n",
    "    \n",
    "    # Set fontsize\n",
    "    ax.xaxis.set_tick_params(labelsize=font_size)\n",
    "    ax.yaxis.set_tick_params(labelsize=font_size)\n",
    "    \n",
    "    # Colorbar\n",
    "    cbar = plt.colorbar(cax, ticks = ticks_colorbar, format='%.0e')\n",
    "    cbar.ax.tick_params(labelsize=font_size)\n",
    "    ax.set_aspect('equal')\n",
    "    plt.show()"
   ]
  },
  {
   "cell_type": "markdown",
   "metadata": {},
   "source": [
    "##### $ \\mathrm{a\\overline{TRA}}_{0,0}^{s_1} $\n",
    "\n",
    "Instantaneous linear momentum barriers at time $ t_0 = 0 $ from $ \\mathrm{a\\overline{TRA}}_{0,0}^{s_1} $."
   ]
  },
  {
   "cell_type": "code",
   "execution_count": null,
   "metadata": {
    "ExecuteTime": {
     "end_time": "2022-02-17T11:35:01.910550Z",
     "start_time": "2022-02-17T11:35:01.697Z"
    },
    "code_folding": [
     0
    ],
    "run_control": {
     "marked": false
    }
   },
   "outputs": [],
   "source": [
    "################################################ PLOT RESULTS ################################################\n",
    "plot_aTRA(0, np.linspace(0, 7*10**4, 8))"
   ]
  },
  {
   "cell_type": "markdown",
   "metadata": {},
   "source": [
    "##### $ \\mathrm{a\\overline{TRA}}_{0,0}^{s_2} $\n",
    "\n",
    "Instantaneous linear momentum barriers at time $ t_0 = 0 $ from $ \\mathrm{a\\overline{TRA}}_{0,0}^{s_2} $."
   ]
  },
  {
   "cell_type": "code",
   "execution_count": null,
   "metadata": {
    "ExecuteTime": {
     "end_time": "2022-02-17T11:35:01.911590Z",
     "start_time": "2022-02-17T11:35:01.708Z"
    },
    "code_folding": [
     0
    ],
    "run_control": {
     "marked": true
    }
   },
   "outputs": [],
   "source": [
    "################################################ PLOT RESULTS ################################################\n",
    "plot_aTRA(1, np.linspace(0, 7*10**4, 8))"
   ]
  },
  {
   "cell_type": "markdown",
   "metadata": {},
   "source": [
    "##### $ \\mathrm{a\\overline{TRA}}_{0,0}^{s_3} $\n",
    "\n",
    "Instantaneous linear momentum barriers at time $ t_0 = 0 $ from $ \\mathrm{a\\overline{TRA}}_{0,0}^{s_3} $."
   ]
  },
  {
   "cell_type": "code",
   "execution_count": null,
   "metadata": {
    "ExecuteTime": {
     "end_time": "2022-02-17T11:35:01.912580Z",
     "start_time": "2022-02-17T11:35:01.720Z"
    },
    "code_folding": [
     0
    ],
    "run_control": {
     "marked": true
    }
   },
   "outputs": [],
   "source": [
    "################################################ PLOT RESULTS ################################################\n",
    "plot_aTRA(2, np.linspace(0, 7*10**4, 8))"
   ]
  },
  {
   "cell_type": "markdown",
   "metadata": {},
   "source": [
    "The figures focus on momentum-based active elliptic structures in a section of a 3D turbulent channel flow. In 2D cross-sections of the flow, elliptic regions are characterized by local maxima of $ \\mathrm{a\\overline{TRA}} $. The $ \\mathrm{a\\overline{TRA}} $ provides a clear picture of the main vortices. The features become even more pronounced for longer s-times, revealing several small scale elliptic structures. For very long dummy time-horizon, however, trajectories might leave the domain where the velocity field (and hence also the laplacian of the velocity field) is well defined."
   ]
  },
  {
   "cell_type": "markdown",
   "metadata": {},
   "source": [
    "# References\n",
    "\n",
    "[1] Haller, G., Katsanoulis, S., Holzner, M., Frohnapfel, B., & Gatti, D. (2020). Objective barriers to the transport of dynamically active vector fields. Journal of Fluid Mechanics, 905.\n",
    "\n",
    "[2] Haller, G., Aksamit, N., & Encinas-Bartos, A. P. (2021). Quasi-objective coherent structure diagnostics from single trajectories. Chaos: An Interdisciplinary Journal of Nonlinear Science, 31(4), 043131.\n",
    "\n",
    "[3] Notebook 9.7.8. in \"Transport Barriers and Coherent Structures in Flow Data\" by Prof. George Haller."
   ]
  }
 ],
 "metadata": {
  "kernelspec": {
   "display_name": "Python 3",
   "language": "python",
   "name": "python3"
  },
  "language_info": {
   "codemirror_mode": {
    "name": "ipython",
    "version": 3
   },
   "file_extension": ".py",
   "mimetype": "text/x-python",
   "name": "python",
   "nbconvert_exporter": "python",
   "pygments_lexer": "ipython3",
   "version": "3.7.11"
  },
  "toc": {
   "base_numbering": "0",
   "nav_menu": {},
   "number_sections": true,
   "sideBar": true,
   "skip_h1_title": false,
   "title_cell": "Table of Contents",
   "title_sidebar": "Contents",
   "toc_cell": false,
   "toc_position": {
    "height": "calc(100% - 180px)",
    "left": "10px",
    "top": "150px",
    "width": "307.2px"
   },
   "toc_section_display": true,
   "toc_window_display": true
  }
 },
 "nbformat": 4,
 "nbformat_minor": 4
}
