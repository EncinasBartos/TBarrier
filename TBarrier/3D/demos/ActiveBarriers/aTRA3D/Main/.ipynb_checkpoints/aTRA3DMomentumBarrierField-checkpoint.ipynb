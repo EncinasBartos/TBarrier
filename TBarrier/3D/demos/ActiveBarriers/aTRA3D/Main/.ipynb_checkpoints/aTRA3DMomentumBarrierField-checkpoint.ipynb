{
 "cells": [
  {
   "cell_type": "markdown",
   "metadata": {},
   "source": [
    "We start by adding the necessary folders to the current working path."
   ]
  },
  {
   "cell_type": "code",
   "execution_count": null,
   "metadata": {
    "ExecuteTime": {
     "end_time": "2022-03-04T18:18:17.425293Z",
     "start_time": "2022-03-04T18:18:17.417774Z"
    },
    "code_folding": [],
    "run_control": {
     "marked": true
    }
   },
   "outputs": [],
   "source": [
    "# import sys/os\n",
    "import sys, os\n",
    "\n",
    "# get current directory\n",
    "path = os.getcwd()\n",
    "\n",
    "# get parent directory\n",
    "parent_directory = os.path.sep.join(path.split(os.path.sep)[:-4])\n",
    "\n",
    "# add utils folder to current working path\n",
    "sys.path.append(parent_directory+\"/subfunctions/utils\")\n",
    "\n",
    "# add integration folder to current working path\n",
    "sys.path.append(parent_directory+\"/subfunctions/integration\")\n",
    "\n",
    "# add TRA folder to current working path\n",
    "sys.path.append(parent_directory+\"/demos/AdvectiveBarriers/TRA3D\")\n",
    "\n",
    "# add aTRA folder to current working path\n",
    "sys.path.append(parent_directory+\"/demos/ActiveBarriers/aTRA3D\")\n",
    "\n",
    "# add ActiveBarriers folder to current working path\n",
    "sys.path.append(parent_directory+\"/demos/ActiveBarriers\")\n",
    "\n",
    "# remove warnings from shapely due to deprecation\n",
    "import warnings\n",
    "warnings.filterwarnings('ignore')"
   ]
  },
  {
   "cell_type": "markdown",
   "metadata": {},
   "source": [
    "# Overview\n",
    "\n",
    "We illustrate the numerical implementation and the use of the active Trajectory Rotation Angle ($ \\mathrm{a\\overline{TRA}} $) on a direct numerical simulation of a turbulent channel flow from the publicly available [Johns Hopkins University Turbulence\n",
    "Database (JHTDB)](http://turbulence.pha.jhu.edu/). The active LCS diagnostic is applied to the three-dimensional and steady instantaneous linear momentum barrier equation. The notebook is structured as follows:\n",
    "\n",
    "1. Import Laplacian of velocity-field data stored in the folder 'data/Turbulence'. The Laplacian of the velocity field has been computed from the publicly available John Hopkins University Turbulence Database. The precomputed data has been processed by Dr. Aksamit and can alternatively be found on [haller-group/TRA_TSE](https://github.com/haller-group/TRA_TSE).\n",
    "<br />\n",
    "2. Define computational parameters (such as the number of cores) and data.\n",
    " <br />\n",
    "3. Define spatio-temporal domain.\n",
    " <br />\n",
    "4. Interpolate Laplacian of velocity from (discrete) gridded data.\n",
    " <br />\n",
    "5. Instantaneous linear momentum barriers from active Trajectory Rotation Average ($ \\mathrm{a\\overline{TRA}} $):\n",
    "   * For 3D incompressible, uniform-density Navier–Stokes flows, the Eulerian barrier equation for linear momentum is:\n",
    "   \\begin{equation}\n",
    "   \\mathbf{x'}(s) = \\nu \\rho \\Delta \\mathbf{v}(\\mathbf{x}, t)\n",
    "   \\label{eq: linearmoment1}\n",
    "   \\end{equation}\n",
    "   By appropriate rescaling with respect to the dummy time, equation \\ref{eq: linearmoment1} simplifies to: \n",
    "   \\begin{equation}\n",
    "   \\mathbf{x'}(s) = \\Delta \\mathbf{v}(\\mathbf{x}, t)\n",
    "   \\label{eq: linearmoment2}\n",
    "   \\end{equation}\n",
    "    Time 't' is just a fixed parameter and hence the system is autonomous and the integration is done with respect to a dummy time variable 's'. 's' can be arbitrarily large and the $ \\mathrm{a\\overline{TRA}} $ is only limited by the spatial resolution and domain. It can thus potentially reveal finer and more resolved structures compared to the classic version of the $ \\mathrm{\\overline{TRA}} $, which is fundamentally limited by the temporal domain of the available data.\n",
    "    \n",
    "    <br />\n",
    "    \n",
    "   * We start by evaluating the right-hand-side of equation \\ref{eq: linearmoment2} by first interpolating $ \\Delta \\mathbf{v}(\\mathbf{x}, t) $ over the spatial meshgrid.\n",
    "   \n",
    "   <br />\n",
    "   \n",
    "   * We then apply the $ \\mathrm{a\\overline{TRA}} $ to the autonomous ODE from equation \\ref{eq: linearmoment2} over different dummy time-intervals.\n",
    "<br />\n",
    "6. Momentum trapping barriers: Extract approximate vortex boundaries from the $ \\mathrm{a\\overline{TRA}} $ and launch trajectories of equation \\ref{eq: linearmoment2} from the boundaries in order to visualize the 2D surfaces blocking the transport of linear momentum in 3D flows.\n",
    "<br />\n",
    "7. References"
   ]
  },
  {
   "cell_type": "markdown",
   "metadata": {},
   "source": [
    "# Import data"
   ]
  },
  {
   "cell_type": "code",
   "execution_count": null,
   "metadata": {
    "ExecuteTime": {
     "end_time": "2022-03-04T18:18:18.089627Z",
     "start_time": "2022-03-04T18:18:17.466612Z"
    },
    "code_folding": [
     0
    ],
    "run_control": {
     "marked": true
    }
   },
   "outputs": [],
   "source": [
    "# import h5py\n",
    "import h5py\n",
    "\n",
    "# import numpy\n",
    "import numpy as np\n",
    "\n",
    "f = h5py.File('../../../../data/Turbulence/MomentumBarrierField.mat','r')\n",
    "\n",
    "lap_U = np.array(f.get('Lap_vx'))\n",
    "lap_V = np.array(f.get('Lap_vy'))\n",
    "lap_W = np.array(f.get('Lap_vz'))\n",
    "\n",
    "lap_U = lap_U.transpose([1,2,0])\n",
    "lap_V = lap_V.transpose([1,2,0])\n",
    "lap_W = lap_W.transpose([1,2,0])\n",
    "\n",
    "x = np.array(f.get('x_span'))\n",
    "y = np.array(f.get('y_span'))\n",
    "z = np.array(f.get('z_span'))\n",
    "y = y.transpose()"
   ]
  },
  {
   "cell_type": "markdown",
   "metadata": {},
   "source": [
    "# Computational parameters and data\n",
    "\n",
    "Here we define the computational parameters and the data."
   ]
  },
  {
   "cell_type": "code",
   "execution_count": null,
   "metadata": {
    "ExecuteTime": {
     "end_time": "2022-03-04T18:18:18.118029Z",
     "start_time": "2022-03-04T18:18:18.093557Z"
    },
    "code_folding": [
     0
    ],
    "run_control": {
     "marked": false
    }
   },
   "outputs": [],
   "source": [
    "# import numpy\n",
    "import numpy as np\n",
    "\n",
    "# Number of cores for parallel computing\n",
    "Ncores = 7 # int\n",
    "\n",
    "# Periodic boundary conditions\n",
    "periodic_x = False # bool\n",
    "periodic_y = False # bool\n",
    "periodic_z = False # bool\n",
    "periodic = [periodic_x, periodic_y, periodic_z]\n",
    "\n",
    "# Unsteady velocity field\n",
    "bool_unsteady = False # bool\n",
    "\n",
    "# Defined domain\n",
    "defined_domain = np.isfinite(lap_U).astype(int) # array (NY, NX, NZ)\n",
    "\n",
    "## Compute meshgrid of dataset\n",
    "X, Y, Z = np.meshgrid(x, y, z) # array (NY, NX), array (NY, NX, NZ)\n",
    "\n",
    "## Resolution of meshgrid\n",
    "dx_data = X[0,1,0]-X[0,0,0] # float\n",
    "dy_data = Y[1,0,0]-Y[0,0,0] # float\n",
    "dz_data = Y[0,0,1]-Z[0,0,0] # float\n",
    "\n",
    "delta = [dx_data, dy_data, dx_data] # list (3, )"
   ]
  },
  {
   "cell_type": "markdown",
   "metadata": {},
   "source": [
    "# Spatio-temporal domain\n",
    "\n",
    "Here we define the spatio-temporal domain over which to consider the dynamical system."
   ]
  },
  {
   "cell_type": "code",
   "execution_count": null,
   "metadata": {
    "ExecuteTime": {
     "end_time": "2022-03-04T18:18:18.142449Z",
     "start_time": "2022-03-04T18:18:18.122737Z"
    },
    "code_folding": [
     0
    ]
   },
   "outputs": [],
   "source": [
    "# boundaries\n",
    "xmin = 2.26 # float\n",
    "xmax = 2.36 # float\n",
    "ymin = 0.33 # float\n",
    "ymax = 0.47 # float\n",
    "z_section = 2.55 # float\n",
    "\n",
    "assert np.min(X) < xmin < np.max(X), f'xmin must be between {np.min(X)} and {np.max(X)}'\n",
    "assert np.min(X) < xmax < np.max(X), f'xmax must be between {np.min(X)} and {np.max(X)}'\n",
    "assert np.min(Y) < ymin < np.max(Y), f'ymin must be between {np.min(Y)} and {np.max(Y)}'\n",
    "assert np.min(Y) < ymax < np.max(Y), f'ymax must be between {np.min(Y)} and {np.max(Y)}'\n",
    "assert np.min(Z) < z_section < np.max(Z), f'z_section must be between {np.min(Z)} and {np.max(Z)}'\n",
    "\n",
    "# Resolution of meshgrid\n",
    "Ny = 200 # int\n",
    "Nx = 200 # int\n",
    "\n",
    "x_domain = np.linspace(xmin, xmax, Nx, endpoint = True) # array (Nx, )\n",
    "y_domain = np.linspace(ymin, ymax, Ny, endpoint = True) # array (Ny, )\n",
    "\n",
    "dx = x_domain[1]-x_domain[0] # float\n",
    "dy = y_domain[1]-y_domain[0] # float\n",
    "\n",
    "X_domain, Y_domain = np.meshgrid(x_domain, y_domain) # array (Ny, Nx)\n",
    "\n",
    "# Define dummy time-intervals for computation of aFTLE in ascending order\n",
    "s1 = 10**(-4) # float s1 > 0\n",
    "s2 = 0.5*10**(-3) # float s2 > s1\n",
    "s3 = 10**(-3) # float s3 > s2\n",
    "\n",
    "s = [s1, s2, s3] # list (3,)\n",
    "\n",
    "# define dummy time interval\n",
    "ds = 10**(-5)\n",
    "sN = s[-1] # Feel free to change this parameter as needed\n",
    "s_dummy = np.arange(0, sN+ds, ds)\n",
    "\n",
    "# auxiliary grid spacing\n",
    "aux_grid = [0.1*dx, 0.1*dy, 0.1*dy] # list (3,)"
   ]
  },
  {
   "cell_type": "markdown",
   "metadata": {},
   "source": [
    "# Interpolate Laplacian of velocity field\n",
    "\n",
    "In order to evaluate the laplacian of the velocity field at arbitrary locations, we interpolate the gridded laplacian of velocity data. The interpolation with respect to time and space is \"linear\"."
   ]
  },
  {
   "cell_type": "code",
   "execution_count": null,
   "metadata": {
    "ExecuteTime": {
     "end_time": "2022-03-04T18:18:18.272932Z",
     "start_time": "2022-03-04T18:18:18.146261Z"
    },
    "code_folding": [
     0
    ],
    "run_control": {
     "marked": false
    }
   },
   "outputs": [],
   "source": [
    "# Import interpolation function for steady flow field\n",
    "from ipynb.fs.defs.Interpolant import interpolant_steady\n",
    "\n",
    "# Set nan values to zero (in case there are any) so that we can apply interpolant. \n",
    "# Interpolant does not work if the array contains nan values. \n",
    "lap_U[np.isnan(lap_U)] = 0\n",
    "lap_V[np.isnan(lap_V)] = 0\n",
    "lap_W[np.isnan(lap_W)] = 0\n",
    "\n",
    "# Interpolate velocity data using cubic spatial interpolation\n",
    "Interpolant = interpolant_steady(X, Y, Z, lap_U, lap_V, lap_W)\n",
    "\n",
    "Interpolant_u = Interpolant[0] # RectangularBivariateSpline-object\n",
    "Interpolant_v = Interpolant[1] # RectangularBivariateSpline-object\n",
    "Interpolant_w = Interpolant[2] # RectangularBivariateSpline-object"
   ]
  },
  {
   "cell_type": "markdown",
   "metadata": {},
   "source": [
    "# Instantaneous linear momentum barriers from active Trajectory Rotation Average $ \\mathrm{a\\overline{TRA}} $.\n",
    "\n",
    "We visualize linear momentum barriers by applying the $ \\mathrm{\\overline{TRA}} $ to trajectories of instantaneous linear momentum barrier equation \\ref{eq: linearmoment2}. As soon as the $ \\mathrm{\\overline{TRA}} $-field is applied to an active vector field, such as linear momentum, we refer to it as $ \\mathrm{a\\overline{TRA}} $ (active $ \\mathrm{\\overline{TRA}} $)."
   ]
  },
  {
   "cell_type": "markdown",
   "metadata": {},
   "source": [
    "## active $ \\mathrm{\\overline{TRA}} $\n",
    "\n",
    "We now compute the active $ \\mathrm{\\overline{TRA}} $ for the instantaneous linear momentum barrier equations. First, we evaluate the velocity along the particle trajectories from the autonomous ODE (eq. \\ref{eq: linearmoment2}) for all initial conditions on the 2D cross-section. From the velocity of the trajectories (=time-derivative of flow map) we then compute the $ \\mathrm{\\overline{TRA}} $."
   ]
  },
  {
   "cell_type": "code",
   "execution_count": null,
   "metadata": {
    "ExecuteTime": {
     "end_time": "2022-03-04T18:18:18.325703Z",
     "start_time": "2022-03-04T18:18:18.275971Z"
    },
    "code_folding": [
     0,
     28
    ],
    "run_control": {
     "marked": true
    }
   },
   "outputs": [],
   "source": [
    "# Import function to compute trajectory/velocity along trajectory\n",
    "from ipynb.fs.defs.integration_dFdt import integration_dFdt\n",
    "\n",
    "# Import function to compute Trajectory Rotation Angle (TRA)\n",
    "from ipynb.fs.defs.TRA import _TRA\n",
    "\n",
    "# Import package for parallel computing\n",
    "from joblib import Parallel, delayed\n",
    "\n",
    "def compute_aTRA(x0, y0, z0, s_dummy, s):\n",
    "    \n",
    "    X0 = np.array([x0, y0, z0]) # array (3, Nx*Ny*Nz)\n",
    "    \n",
    "    DFDt = integration_dFdt(s_dummy, X0, X, Y, Z, Interpolant_u, Interpolant_v, Interpolant_w, periodic, bool_unsteady)[1] # array (Nt, 3, Nx*Ny)\n",
    "    aTRA = np.zeros((len(s), DFDt.shape[-1]))\n",
    "    \n",
    "    counter = 0\n",
    "    for idx in np.searchsorted(s_dummy, s):\n",
    "        \n",
    "        for i in range(DFDt.shape[2]):\n",
    "            \n",
    "            aTRA[counter, i] = _TRA(DFDt[:idx+1,:,i].transpose(), s_dummy[idx])\n",
    "            \n",
    "        counter += 1\n",
    "    \n",
    "    return aTRA\n",
    "\n",
    "# Split x0,y0,z0 into 'Ncores' equal batches for parallel computing\n",
    "def split(a, n):\n",
    "    k, m = divmod(len(a), n)\n",
    "    return (a[i*k+min(i, m):(i+1)*k+min(i+1, m)] for i in range(n))"
   ]
  },
  {
   "cell_type": "code",
   "execution_count": null,
   "metadata": {
    "ExecuteTime": {
     "end_time": "2022-03-04T18:18:29.458507Z",
     "start_time": "2022-03-04T18:18:18.328511Z"
    },
    "code_folding": [
     0
    ]
   },
   "outputs": [],
   "source": [
    "# Vectorize initial conditions by arranging them to a vector of size (Nx*Ny*Nz, )\n",
    "x0 = X_domain.ravel() # array (Nx*Ny, )\n",
    "y0 = Y_domain.ravel() # array (Nx*Ny, )\n",
    "z0 = z_section*np.ones(x0.shape[0],) # array (Nx*Ny, )\n",
    "\n",
    "x0_batch = list(split(x0, Ncores)) # list (Nx*Ny)\n",
    "y0_batch = list(split(y0, Ncores)) # list (Nx*Ny)\n",
    "z0_batch = list(split(z0, Ncores)) # list (Nx*Ny)\n",
    "results = Parallel(n_jobs=Ncores, verbose = 2)(delayed(compute_aTRA)(x0_batch[i], y0_batch[i], z0_batch[i], s_dummy, s) for i in range(len(x0_batch)))\n",
    "\n",
    "# Extract results of aTRA computation on z=\n",
    "aTRA = results[0]\n",
    "for res in results[1:]:\n",
    "    aTRA = np.append(aTRA, res, axis = -1)\n",
    "    \n",
    "aTRA = np.array(aTRA).reshape(len(s),Ny,Nx) # array (3, Ny, Nx)"
   ]
  },
  {
   "cell_type": "markdown",
   "metadata": {},
   "source": [
    "##### $ \\mathrm{a\\overline{TRA}} $ over different dummy time-intervals\n",
    "\n",
    "In the following we visualize the instantaneous linear momentum barriers at time $ t_0 = 0 $ through the $ \\mathrm{a\\overline{TRA}} $ over different dummy time-intervals. Note that contrary to the classic $ \\mathrm{a\\overline{TRA}} $, the $ \\mathrm{a\\overline{TRA}} $ diagnostic is not limited by the temporal domain as the dummy time-interval can be chosen to be arbitrarily large. We explore the structures of the $ \\mathrm{a\\overline{TRA}}_{0,t_0}^{s_i} $ over different dummy time-intervals $ s_i \\in \\lbrace 1,2,3 \\rbrace $ at time $ t_0 $."
   ]
  },
  {
   "cell_type": "code",
   "execution_count": null,
   "metadata": {
    "ExecuteTime": {
     "end_time": "2022-03-04T18:18:29.785392Z",
     "start_time": "2022-03-04T18:18:29.462486Z"
    },
    "code_folding": [
     4
    ],
    "run_control": {
     "marked": true
    },
    "scrolled": true
   },
   "outputs": [],
   "source": [
    "# Import matplotlib\n",
    "import matplotlib.pyplot as plt\n",
    "\n",
    "# plot iterate over different dummy time-intervals and display aTRA field calculated over each time-interval\n",
    "def plot_aTRA(i, ticks_colorbar):\n",
    "    \n",
    "    # create figure\n",
    "    fig = plt.figure(dpi = 350)\n",
    "    ax = plt.axes()\n",
    "    \n",
    "    # Fontsize\n",
    "    font_size = 7\n",
    "    \n",
    "    # Title\n",
    "    ax.set_title(r'$ \\mathrm{a\\overline{TRA}} $'+f'$_{{{0}}}^{{{s[i]}}}$', fontsize = font_size)\n",
    "    \n",
    "    # Contourplot\n",
    "    cax = ax.contourf(X_domain, Y_domain, aTRA[i,:,:], levels = 400, cmap = \"gist_rainbow_r\")\n",
    "    \n",
    "    # Set labels\n",
    "    ax.set_xlabel(\"x\", fontsize = font_size)\n",
    "    ax.set_ylabel(\"y\", fontsize = font_size)\n",
    "    \n",
    "    # Set ticks\n",
    "    ax.set_xticks(np.arange(xmin, xmax+0.01, 0.02))\n",
    "    ax.set_yticks(np.arange(ymin, ymax+0.01, 0.02))\n",
    "    \n",
    "    # Set fontsize\n",
    "    ax.xaxis.set_tick_params(labelsize=font_size)\n",
    "    ax.yaxis.set_tick_params(labelsize=font_size)\n",
    "    \n",
    "    # Colorbar\n",
    "    cbar = plt.colorbar(cax, ticks = ticks_colorbar, format='%.0e')\n",
    "    cbar.ax.tick_params(labelsize=font_size)\n",
    "    ax.set_aspect('equal')\n",
    "    plt.show()"
   ]
  },
  {
   "cell_type": "markdown",
   "metadata": {},
   "source": [
    "##### $ \\mathrm{a\\overline{TRA}}_{0,0}^{s_1} $\n",
    "\n",
    "Instantaneous linear momentum barriers at time $ t_0 = 0 $ from $ \\mathrm{a\\overline{TRA}}_{0,0}^{s_1} $."
   ]
  },
  {
   "cell_type": "code",
   "execution_count": null,
   "metadata": {
    "ExecuteTime": {
     "end_time": "2022-03-04T18:18:31.434975Z",
     "start_time": "2022-03-04T18:18:29.792057Z"
    },
    "code_folding": [
     0
    ],
    "run_control": {
     "marked": false
    }
   },
   "outputs": [],
   "source": [
    "################################################ PLOT RESULTS ################################################\n",
    "plot_aTRA(0, np.linspace(0, 3*10**4, 6))"
   ]
  },
  {
   "cell_type": "markdown",
   "metadata": {},
   "source": [
    "##### $ \\mathrm{a\\overline{TRA}}_{0,0}^{s_2} $\n",
    "\n",
    "Instantaneous linear momentum barriers at time $ t_0 = 0 $ from $ \\mathrm{a\\overline{TRA}}_{0,0}^{s_2} $."
   ]
  },
  {
   "cell_type": "code",
   "execution_count": null,
   "metadata": {
    "ExecuteTime": {
     "end_time": "2022-03-04T18:18:33.058432Z",
     "start_time": "2022-03-04T18:18:31.439257Z"
    },
    "code_folding": [
     0
    ],
    "run_control": {
     "marked": true
    }
   },
   "outputs": [],
   "source": [
    "################################################ PLOT RESULTS ################################################\n",
    "plot_aTRA(1, np.linspace(0, 3*10**4, 6))"
   ]
  },
  {
   "cell_type": "markdown",
   "metadata": {},
   "source": [
    "##### $ \\mathrm{a\\overline{TRA}}_{0,0}^{s_3} $\n",
    "\n",
    "Instantaneous linear momentum barriers at time $ t_0 = 0 $ from $ \\mathrm{a\\overline{TRA}}_{0,0}^{s_3} $."
   ]
  },
  {
   "cell_type": "code",
   "execution_count": null,
   "metadata": {
    "ExecuteTime": {
     "end_time": "2022-03-04T18:18:34.230042Z",
     "start_time": "2022-03-04T18:18:33.061289Z"
    },
    "code_folding": [
     0
    ],
    "run_control": {
     "marked": true
    }
   },
   "outputs": [],
   "source": [
    "################################################ PLOT RESULTS ################################################\n",
    "plot_aTRA(2, np.linspace(0, 3*10**4, 6))"
   ]
  },
  {
   "cell_type": "markdown",
   "metadata": {},
   "source": [
    "The figures focus on momentum-based active elliptic barriers in a section of a 3D turbulent channel flow. In 2D cross-sections of the flow, elliptic regions are characterized by local maxima of $ \\mathrm{a\\overline{TRA}} $. The $ \\mathrm{a\\overline{TRA}} $ provides a clear picture of the main vortices. The features become even more pronounced for longer s-times, revealing several small scale elliptic structures. However, for very long dummy time-horizon, trajectories might leave the domain where the velocity field (and hence also the laplacian of the velocity field) is well defined. "
   ]
  },
  {
   "cell_type": "markdown",
   "metadata": {},
   "source": [
    "# Momentum trapping barriers\n",
    "\n",
    "In 2D cross-sections of the flow, vortex boundaries can be located as outermost members of nested families of closed curves of the $ \\mathrm{\\overline{TRA}} $. Launching trajectories of the 3D barrier equation \\ref{eq: linearmoment2} from these boundary curves generates instantaneous, vortical momentum barrier surfaces in the full 3D flow. [1] proposed an automated vortex boundary extraction scheme, which extracts convex isocurves of the $ \\mathrm{a\\overline{TRA}} $ above a given threshold.\n",
    "\n",
    "In the following we use the alternative scheme proposed in [2] which extracts approximate vortex boundaries from the $ \\mathrm{\\overline{aTRA}} $ from a (very) sparse set of trajectories in [geophysical flows](../../../../../2D/Demos/AdvectiveBarriers/TRA2D/Main/TRAAgulhas.ipynb). "
   ]
  },
  {
   "cell_type": "code",
   "execution_count": null,
   "metadata": {
    "ExecuteTime": {
     "end_time": "2022-03-04T18:20:08.412715Z",
     "start_time": "2022-03-04T18:18:34.233076Z"
    },
    "code_folding": []
   },
   "outputs": [],
   "source": [
    "# Import function to extract vortex from 2D slice of TRA-field\n",
    "from ipynb.fs.defs.extract_vortex import __extract_vortex__\n",
    "\n",
    "# threshold on local maximum\n",
    "threshold = 1.5*10**4\n",
    "\n",
    "# Minimum number of trajectories required to be inside vortical flow structures.\n",
    "# This parameter is helpful when dealing with sparse trajectories\n",
    "N_trajectories = 2\n",
    "\n",
    "vortex_boundaries = __extract_vortex__(X_domain, Y_domain, aTRA[2,:,:], X_domain[::10,::10].ravel(), Y_domain[::10,::10].ravel(), threshold, N_trajectories)"
   ]
  },
  {
   "cell_type": "code",
   "execution_count": null,
   "metadata": {
    "ExecuteTime": {
     "end_time": "2022-03-04T18:20:19.038249Z",
     "start_time": "2022-03-04T18:20:08.415507Z"
    },
    "code_folding": [
     9
    ]
   },
   "outputs": [],
   "source": [
    "# Momentum trapping barriers\n",
    "invariant_manifold = [[], []]\n",
    "\n",
    "# Import function to suppress printing statement\n",
    "from IPython.utils import io\n",
    "\n",
    "s_dummy_invariant_manifold_forward = np.arange(0, 5*10**(-4), 10**(-6))\n",
    "s_dummy_invariant_manifold_backward = np.arange(0, -5*10**(-4), -10**(-6))\n",
    "\n",
    "for i in range(len(vortex_boundaries[0])):\n",
    "    \n",
    "    X0 = np.array([vortex_boundaries[0][i], vortex_boundaries[1][i], z_section*np.ones(len(vortex_boundaries[1][i]))])\n",
    "    \n",
    "    with io.capture_output() as captured:\n",
    "    \n",
    "        Fmap = integration_dFdt(s_dummy_invariant_manifold_forward, X0, X, Y, Z, Interpolant_u, Interpolant_v, Interpolant_w, periodic, bool_unsteady)[0] # array (Nt, 3, Nx*Ny)\n",
    "    \n",
    "    invariant_manifold[0].append(Fmap)\n",
    "    \n",
    "    with io.capture_output() as captured:\n",
    "    \n",
    "        Fmap = integration_dFdt(s_dummy_invariant_manifold_backward, X0, X, Y, Z, Interpolant_u, Interpolant_v, Interpolant_w, periodic, bool_unsteady)[0] # array (Nt, 3, Nx*Ny)\n",
    "    \n",
    "    invariant_manifold[1].append(Fmap)  "
   ]
  },
  {
   "cell_type": "code",
   "execution_count": null,
   "metadata": {
    "ExecuteTime": {
     "end_time": "2022-03-04T18:20:20.007089Z",
     "start_time": "2022-03-04T18:20:19.041165Z"
    },
    "code_folding": [
     0
    ]
   },
   "outputs": [],
   "source": [
    "################################################ PLOT RESULTS ################################################\n",
    "\n",
    "# create figure\n",
    "fig = plt.figure(dpi = 180)\n",
    "ax = plt.axes()\n",
    "    \n",
    "# Fontsize\n",
    "font_size = 7\n",
    "    \n",
    "# Title\n",
    "ax.set_title(r'$ \\mathrm{a\\overline{TRA}} $'+f'$_{{{0}}}^{{{s[2]}}}$', fontsize = font_size)\n",
    "    \n",
    "# Contourplot\n",
    "cax = ax.contourf(X_domain, Y_domain, aTRA[2,:,:], levels = 400, cmap = \"gist_rainbow_r\")\n",
    "\n",
    "\n",
    "for i in range(len(vortex_boundaries[0])):\n",
    "    ax.plot(vortex_boundaries[0][i], vortex_boundaries[1][i], c = \"w\", linewidth = 2)\n",
    "    \n",
    "# Set labels\n",
    "ax.set_xlabel(\"x\", fontsize = font_size)\n",
    "ax.set_ylabel(\"y\", fontsize = font_size)\n",
    "    \n",
    "# Set ticks\n",
    "ax.set_xticks(np.arange(xmin, xmax+0.01, 0.02))\n",
    "ax.set_yticks(np.arange(ymin, ymax+0.01, 0.02))\n",
    "    \n",
    "# Set fontsize\n",
    "ax.xaxis.set_tick_params(labelsize=font_size)\n",
    "ax.yaxis.set_tick_params(labelsize=font_size)\n",
    "    \n",
    "# Colorbar\n",
    "cbar = plt.colorbar(cax, ticks = np.linspace(0, 3*10**4, 6), format='%.0e')\n",
    "cbar.ax.tick_params(labelsize=font_size)\n",
    "ax.set_aspect('equal')\n",
    "plt.show()"
   ]
  },
  {
   "cell_type": "code",
   "execution_count": null,
   "metadata": {
    "ExecuteTime": {
     "end_time": "2022-03-04T18:20:21.339969Z",
     "start_time": "2022-03-04T18:20:20.009940Z"
    },
    "code_folding": [
     0
    ]
   },
   "outputs": [],
   "source": [
    "################################################ PLOT RESULTS ################################################\n",
    "\n",
    "# import plotly for 3D plots\n",
    "from plotly import graph_objs as go\n",
    "\n",
    "# create figure\n",
    "fig = go.Figure(data=[go.Surface(x = X_domain, y = Y_domain, z = z_section*np.ones(X_domain.shape), surfacecolor = aTRA[2,:,:], showscale = True, colorscale='rainbow')])\n",
    "for i in range(len(invariant_manifold[0])):\n",
    "\n",
    "    fig.add_trace(go.Scatter3d(x=vortex_boundaries[0][i], y=vortex_boundaries[1][i], z=z_section*np.ones(len(vortex_boundaries[0][i]), ),\n",
    "                               mode='lines', line=dict(color='white', width=10), showlegend = False))\n",
    "    \n",
    "    for ii in range(invariant_manifold[0][i].shape[-1]):\n",
    "        for iii in range(len(invariant_manifold)):\n",
    "            fig.add_trace(go.Scatter3d(x=invariant_manifold[iii][i][::10,0,ii], y=invariant_manifold[iii][i][::10,1,ii], z=invariant_manifold[iii][i][::10,2,ii],\n",
    "                               mode='lines', line=dict(color='white', width=5), showlegend = False))\n",
    "        \n",
    "\n",
    "# camera\n",
    "camera = dict(eye=dict(x=-1.45,y=-1.45,z=1.7))\n",
    "fig.update_layout(scene_camera=camera)\n",
    "\n",
    "fig.show()"
   ]
  },
  {
   "cell_type": "markdown",
   "metadata": {},
   "source": [
    "The tubular surfaces, generated by launching trajectories of the barrier equation \\ref{eq: linearmoment2} from the extracted approximate vortex boundaries, reveal surfaces in the 3D flow which block the transport of linear momentum."
   ]
  },
  {
   "cell_type": "markdown",
   "metadata": {},
   "source": [
    "# References\n",
    "\n",
    "[1] Aksamit, N. O., & Haller, G. (2021). Objective Momentum Barriers in Wall Turbulence. arxiv preprint.\n",
    "\n",
    "[2] Haller, G., Aksamit, N., & Encinas-Bartos, A. P. (2021). Quasi-objective coherent structure diagnostics from single trajectories. Chaos: An Interdisciplinary Journal of Nonlinear Science, 31(4), 043131.\n",
    "\n",
    "[3] Notebook 9.7.8. in \"Transport Barriers and Coherent Structures in Flow Data\" by Prof. George Haller."
   ]
  }
 ],
 "metadata": {
  "kernelspec": {
   "display_name": "Python 3",
   "language": "python",
   "name": "python3"
  },
  "language_info": {
   "codemirror_mode": {
    "name": "ipython",
    "version": 3
   },
   "file_extension": ".py",
   "mimetype": "text/x-python",
   "name": "python",
   "nbconvert_exporter": "python",
   "pygments_lexer": "ipython3",
   "version": "3.7.11"
  },
  "latex_envs": {
   "LaTeX_envs_menu_present": true,
   "autoclose": false,
   "autocomplete": true,
   "bibliofile": "biblio.bib",
   "cite_by": "apalike",
   "current_citInitial": 1,
   "eqLabelWithNumbers": true,
   "eqNumInitial": 1,
   "hotkeys": {
    "equation": "Ctrl-E",
    "itemize": "Ctrl-I"
   },
   "labels_anchors": false,
   "latex_user_defs": false,
   "report_style_numbering": false,
   "user_envs_cfg": false
  },
  "toc": {
   "base_numbering": "0",
   "nav_menu": {},
   "number_sections": true,
   "sideBar": true,
   "skip_h1_title": false,
   "title_cell": "Table of Contents",
   "title_sidebar": "Contents",
   "toc_cell": false,
   "toc_position": {
    "height": "calc(100% - 180px)",
    "left": "10px",
    "top": "150px",
    "width": "307.2px"
   },
   "toc_section_display": true,
   "toc_window_display": true
  }
 },
 "nbformat": 4,
 "nbformat_minor": 4
}
