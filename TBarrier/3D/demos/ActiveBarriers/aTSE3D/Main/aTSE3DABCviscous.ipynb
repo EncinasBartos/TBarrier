{
 "cells": [
  {
   "cell_type": "markdown",
   "metadata": {},
   "source": [
    "We start by adding the necessary folders to the current working path."
   ]
  },
  {
   "cell_type": "code",
<<<<<<< HEAD
   "execution_count": null,
   "metadata": {
    "ExecuteTime": {
     "end_time": "2022-03-04T11:28:30.100892Z",
     "start_time": "2022-03-04T11:28:30.094596Z"
=======
   "execution_count": 1,
   "metadata": {
    "ExecuteTime": {
     "end_time": "2022-02-16T11:05:41.552560Z",
     "start_time": "2022-02-16T11:05:41.537600Z"
>>>>>>> 9f629d66ae56f4b85feb5c441d44a74d1f3b2bba
    },
    "code_folding": [
     0
    ],
    "run_control": {
     "marked": true
    }
   },
   "outputs": [],
   "source": [
    "# import sys/os\n",
    "import sys, os\n",
    "\n",
    "# get current directory\n",
    "path = os.getcwd()\n",
    "\n",
    "# get parent directory\n",
    "parent_directory = os.path.sep.join(path.split(os.path.sep)[:-4])\n",
    "\n",
    "# add utils folder to current working path\n",
    "sys.path.append(parent_directory+\"/subfunctions/utils\")\n",
    "\n",
    "# add integration folder to current working path\n",
    "sys.path.append(parent_directory+\"/subfunctions/integration\")\n",
    "\n",
    "# add FTLE folder to current working path\n",
    "sys.path.append(parent_directory+\"/demos/AdvectiveBarriers/TSE3D\")\n",
    "\n",
    "# add ActiveBarriers folder to current working path\n",
    "sys.path.append(parent_directory+\"/demos/ActiveBarriers\")"
   ]
  },
  {
   "cell_type": "markdown",
   "metadata": {},
   "source": [
    "# Overview\n",
    "\n",
    "We illustrate the numerical implementation and the use of the active Trajectory Stretching Exponents ($ \\mathrm{aTSE}/\\mathrm{a\\overline{TSE}} $) on a directionally steady Beltrami flow such as the 3D viscous, unsteady version of the classic ABC-flow. The active LCS diagnostic is applied to the three-dimensional and steady instantaneous linear momentum/vorticity barrier equation. The notebook is structured as follows:\n",
    "\n",
    "1. Import vorticity and velocity data stored in the folder 'data/ABC'.\n",
    "<br />\n",
    "2. Define computational parameters (such as the number of cores) and data.\n",
    " <br />\n",
    "3. Define spatio-temporal domain.\n",
    " <br />\n",
    "4. Interpolate velocity from (discrete) gridded data.\n",
    " <br />\n",
    "5. Instantaneous linear momentum/vorticity barriers from active Trajectory Stretching Exponents ($ \\mathrm{aTSE}/\\mathrm{a\\overline{TSE}} $):\n",
    "\n",
    "   <br />\n",
    "   * For 3D incompressible, uniform-density Navier–Stokes flows, the Eulerian barrier equation for linear momentum is:\n",
    "   <br />\n",
    "   \\begin{equation}\n",
    "   \\mathbf{x'}(s) = \\nu \\rho \\Delta \\mathbf{v}(\\mathbf{x}, t)\n",
    "   \\label{eq: linearmoment1}\n",
    "   \\end{equation}\n",
    "   \n",
    "   <br />\n",
    "   * For 3D incompressible, uniform-density Navier–Stokes flows, the Eulerian barrier equation for vorticity is:\n",
    "   <br />\n",
    "   \\begin{equation}\n",
    "   \\mathbf{x'}(s) = \\nu \\rho \\Delta \\mathbf{\\omega}(\\mathbf{x}, t)\n",
    "   \\label{eq: vorticity1}\n",
    "   \\end{equation}\n",
    "    \n",
    "   It can be verified that the 3D viscous, unsteady version of the classic ABC-flow satisfies the strong Beltrami property:\n",
    "   <br />\n",
    "   \\begin{equation}\n",
    "   \\mathbf{\\omega}(\\mathbf{x},t) = \\mathbf{v}(\\mathbf{x}, t)\n",
    "   \\label{eq: Beltrami}\n",
    "   \\end{equation}\n",
    "   By definition it follows:\n",
    "   <br />\n",
    "   \\begin{equation}\n",
    "   \\mathbf{\\Delta v}(\\mathbf{x},t) = \\mathbf{\\Delta \\omega}(\\mathbf{x},t) = \\mathbf{\\nabla}(\\mathbf{ \\nabla \\omega})-\\mathbf{\\nabla} \\times (\\mathbf{\\nabla \\times \\mathbf{\\omega}}) = \\mathbf{v}(\\mathbf{x}, t)\n",
    "   \\label{eq: LaplacianOmega}\n",
    "   \\end{equation}\n",
    "   \n",
    "   The Eulerian barrier equation for both linear momentum/vorticity reduce to:\n",
    "   <br />\n",
    "   \\begin{equation}\n",
    "   \\mathbf{x'}(s) = -\\nu \\rho \\mathbf{v}(\\mathbf{x}, t)\n",
    "   \\label{eq: linearmoment2}\n",
    "   \\end{equation}\n",
    "   \n",
    "   By appropriate rescaling with respect to the dummy time, equation \\ref{eq: linearmoment2} simplifies to: \n",
<<<<<<< HEAD
    "   \\begin{equation}\n",
    "   \\mathbf{x'}(s) = \\Delta \\mathbf{v}(\\mathbf{x}, t) = \\Delta \\mathbf{\\omega}(\\mathbf{x}, t) = \\mathbf{v}(\\mathbf{x}, t)\n",
    "   \\label{eq: linearmoment3}\n",
    "   \\end{equation}\n",
    "   \n",
    "    In order to compute \\ref{eq: linearmoment3}, we numerically evaluate the laplacian of the velocity field. Generally the strong Beltrami property of the flow is not know, whenever the data is gathered from numerical/experimental data and hence one needs to compute $ \\Delta \\mathbf{v}(\\mathbf{x}, t) $ in order to evaluate Eulerian active barriers.\n",
    "   \n",
=======
    "   <br />\n",
    "   \\begin{equation}\n",
    "   \\mathbf{x'}(s) = \\mathbf{v}(\\mathbf{x}, t) = \\Delta \\mathbf{v}(\\mathbf{x}, t)\n",
    "   \\label{eq: linearmoment3}\n",
    "   \\end{equation}\n",
    "   \n",
>>>>>>> 9f629d66ae56f4b85feb5c441d44a74d1f3b2bba
    "    Time 't' is just a fixed parameter and hence the system is autonomous and the integration is done with respect to a dummy time variable 's'. 's' can be arbitrarily large and the $ \\mathrm{aTSE}/\\mathrm{a\\overline{TSE}} $ is only limited by the spatial resolution and domain. It can thus potentially reveal finer and more resolved structures compared to the classic version of the $ \\mathrm{aTSE}/\\mathrm{a\\overline{TSE}} $, which is fundamentally limited by the temporal domain of the available data.\n",
    "    \n",
    "    <br />\n",
    "    \n",
    "   * We start by interpolating the RHS of equation \\ref{eq: linearmoment3}. We could we in principle make use of the strong Beltrami property and evalute the RHS of equation by interpolating $ \\mathbf{v}(\\mathbf{x}, t) $. However, given a discrete velocity dataset, the properties of the flow are generally a priori unknown. Hence we compute $ \\Delta \\mathbf{v}(\\mathbf{x}, t) $ from $ \\mathbf{v}(\\mathbf{x}, t) $ and then interpolate the resulting laplacian velocity field. This procedure can hence be applied to all types of flows as far as the velocity is given over a structured grid.\n",
    "   \n",
    "   <br />\n",
    "   \n",
<<<<<<< HEAD
    "   * We then apply the $ \\mathrm{aTSE}/\\mathrm{a\\overline{TSE}} $ to the autonomous ODE from equation \\ref{eq:linearmoment3} over different dummy time-intervals."
=======
    "   * We then apply the $ \\mathrm{aTSE}/\\mathrm{a\\overline{TSE}} $ to the autonomous ODE from equation \\ref{eq: linearmoment3} over different dummy time-intervals."
>>>>>>> 9f629d66ae56f4b85feb5c441d44a74d1f3b2bba
   ]
  },
  {
   "cell_type": "markdown",
   "metadata": {},
   "source": [
    "# Import data"
   ]
  },
  {
   "cell_type": "code",
<<<<<<< HEAD
   "execution_count": null,
   "metadata": {
    "ExecuteTime": {
     "end_time": "2022-03-04T11:28:30.679153Z",
     "start_time": "2022-03-04T11:28:30.167737Z"
=======
   "execution_count": 2,
   "metadata": {
    "ExecuteTime": {
     "end_time": "2022-02-16T11:05:41.754047Z",
     "start_time": "2022-02-16T11:05:41.584502Z"
>>>>>>> 9f629d66ae56f4b85feb5c441d44a74d1f3b2bba
    },
    "code_folding": [
     0
    ],
    "run_control": {
     "marked": true
    }
   },
   "outputs": [],
   "source": [
    "# import scipy\n",
    "import scipy.io as sio\n",
    "\n",
    "# Import velocity data from file in data-folder\n",
    "mat_file = sio.loadmat('../../../../data/ABC/ABCunsteady.mat')\n",
    "\n",
    "U = mat_file['u'] # array (NY, NX, NZ)\n",
    "V = mat_file['v'] # array (NY, NX, NZ)\n",
    "W = mat_file['w'] # array (NY, NX, NZ)\n",
    "x = mat_file['x'] # array (1, NX)\n",
    "y = mat_file['y'] # array (1, NY)\n",
    "z = mat_file['z'] # array (1, NZ)\n",
    "time_data = mat_file['t']"
   ]
  },
  {
   "cell_type": "markdown",
   "metadata": {},
   "source": [
    "# Computational parameters and data\n",
    "\n",
    "Here we define the computational parameters and the data."
   ]
  },
  {
   "cell_type": "code",
<<<<<<< HEAD
   "execution_count": null,
   "metadata": {
    "ExecuteTime": {
     "end_time": "2022-03-04T11:28:30.733433Z",
     "start_time": "2022-03-04T11:28:30.682446Z"
=======
   "execution_count": 3,
   "metadata": {
    "ExecuteTime": {
     "end_time": "2022-02-16T11:05:41.784968Z",
     "start_time": "2022-02-16T11:05:41.755018Z"
>>>>>>> 9f629d66ae56f4b85feb5c441d44a74d1f3b2bba
    },
    "code_folding": [
     0
    ],
    "run_control": {
     "marked": true
    }
   },
   "outputs": [],
   "source": [
    "# import numpy\n",
    "import numpy as np\n",
    "\n",
    "# Number of cores for parallel computing\n",
    "Ncores = 7 # int\n",
    "\n",
    "# Periodic boundary conditions\n",
    "periodic_x = True # bool\n",
    "periodic_y = True # bool\n",
    "periodic_z = True # bool\n",
    "periodic = [periodic_x, periodic_y, periodic_z]\n",
    "\n",
    "# Unsteady velocity field\n",
    "bool_unsteady = True # bool\n",
    "\n",
    "# Defined domain\n",
    "defined_domain = np.isfinite(U).astype(int) # array (NY, NX, NZ)\n",
    "\n",
    "## Compute meshgrid of dataset\n",
    "X, Y, Z = np.meshgrid(x, y, z) # array (NY, NX), array (NY, NX, NZ)\n",
    "\n",
    "## Resolution of meshgrid\n",
    "dx_data = X[0,1,0]-X[0,0,0] # float\n",
    "dy_data = Y[1,0,0]-Y[0,0,0] # float\n",
    "dz_data = Y[0,0,1]-Z[0,0,0] # float\n",
    "\n",
    "delta = [dx_data, dy_data, dx_data] # list (3, )\n",
    "\n",
    "# auxiliary grid spacing\n",
    "aux_grid = [delta[0], delta[1], delta[2]] # list (3,)"
   ]
  },
  {
   "cell_type": "markdown",
   "metadata": {},
   "source": [
    "# Spatio-temporal domain\n",
    "\n",
    "Here we define the spatio-temporal domain over which to consider the dynamical system."
   ]
  },
  {
   "cell_type": "code",
<<<<<<< HEAD
   "execution_count": null,
   "metadata": {
    "ExecuteTime": {
     "end_time": "2022-03-04T11:28:30.830521Z",
     "start_time": "2022-03-04T11:28:30.738380Z"
=======
   "execution_count": 4,
   "metadata": {
    "ExecuteTime": {
     "end_time": "2022-02-16T11:05:41.829845Z",
     "start_time": "2022-02-16T11:05:41.785935Z"
>>>>>>> 9f629d66ae56f4b85feb5c441d44a74d1f3b2bba
    },
    "code_folding": [
     0
    ],
    "run_control": {
     "marked": true
    }
   },
   "outputs": [],
   "source": [
    "# Initial time\n",
    "t0 = 0 # float\n",
    "\n",
    "# boundaries\n",
    "xmin = 0 # float\n",
    "xmax = 2*np.pi # float\n",
    "ymin = 0 # float\n",
    "ymax = 2*np.pi # float\n",
    "zmin = 0 # float\n",
    "zmax = 2*np.pi # float\n",
    "\n",
    "# Resolution of meshgrid\n",
    "Ny = 200 # int\n",
    "Nx = 200 # int\n",
    "Nz = 200 # int\n",
    "\n",
    "x_domain = np.linspace(xmin, xmax, Nx, endpoint = True) # array (Nx, )\n",
    "y_domain = np.linspace(ymin, ymax, Ny, endpoint = True) # array (Ny, )\n",
    "z_domain = np.linspace(zmin, zmax, Nz, endpoint = True) # array (Nz, )\n",
    "\n",
    "dx = x_domain[1]-x_domain[0] # float\n",
    "dy = y_domain[1]-y_domain[0] # float\n",
    "dz = z_domain[1]-z_domain[0] # float\n",
    "\n",
    "X_domain, Y_domain, Z_domain = np.meshgrid(x_domain, y_domain, z_domain) # array (Ny, Nx, Nz)\n",
    "\n",
    "# auxiliary grid spacing\n",
    "aux_grid = [0.1*dx, 0.1*dy, 0.1*dz] # list (3,)\n",
    "\n",
    "# Define dummy time-intervals for computation of aFTLE in ascending order\n",
    "s1 = 10 # float s1 > 0\n",
    "s2 = 20 # float s2 > s1\n",
    "s3 = 30 # float s3 > s2\n",
    "\n",
    "s = [s1, s2, s3] # list (3,)\n",
    "\n",
    "# define dummy time interval\n",
    "ds = 0.1\n",
    "sN = s[-1] # Feel free to change this parameter as needed\n",
    "s_dummy = np.arange(0, sN+ds, ds)"
   ]
  },
  {
   "cell_type": "markdown",
   "metadata": {},
   "source": [
<<<<<<< HEAD
    "# Interpolate velocity and Laplacian of velocity\n",
    "\n",
    "In order to evaluate the velocity field at arbitrary locations, we interpolate the discrete velocity data. The interpolation with respect to time and space is \"linear\".\n",
    "We further compute the laplacian of the velocity field and construct an interpolation object for the laplacian of the velocity field."
=======
    "# Velocity Interpolation\n",
    "\n",
    "In order to evaluate the velocity field at arbitrary locations, we interpolate the discrete velocity data. The interpolation with respect to time and space is \"linear\"."
>>>>>>> 9f629d66ae56f4b85feb5c441d44a74d1f3b2bba
   ]
  },
  {
   "cell_type": "code",
<<<<<<< HEAD
   "execution_count": null,
   "metadata": {
    "ExecuteTime": {
     "end_time": "2022-03-04T11:30:07.787543Z",
     "start_time": "2022-03-04T11:29:46.789692Z"
=======
   "execution_count": 6,
   "metadata": {
    "ExecuteTime": {
     "end_time": "2022-02-16T11:06:17.905393Z",
     "start_time": "2022-02-16T11:06:17.875575Z"
>>>>>>> 9f629d66ae56f4b85feb5c441d44a74d1f3b2bba
    },
    "code_folding": []
   },
   "outputs": [],
   "source": [
<<<<<<< HEAD
    "# Import interpolation function for unsteady flow field\n",
    "from ipynb.fs.defs.Interpolant import interpolant_unsteady, interpolant_steady\n",
    "\n",
    "# Import function to compute laplacian of velocity from structured velocity data.\n",
    "from ipynb.fs.defs.laplacian_velocity import laplacian_velocity\n",
    "\n",
=======
    "# Import interpolation function for unsteady/steady flow field\n",
    "from ipynb.fs.defs.Interpolant import interpolant_unsteady, interpolant_steady\n",
    "\n",
    "from ipynb.fs.defs.laplacian_velocity import laplacian_velocity\n",
    "\n",
    "# Set nan values to zero (in case there are any) so that we can apply interpolant. \n",
    "# Interpolant does not work if the array contains nan values. \n",
    "U[np.isnan(U)] = 0\n",
    "V[np.isnan(V)] = 0\n",
    "W[np.isnan(W)] = 0\n",
    "\n",
>>>>>>> 9f629d66ae56f4b85feb5c441d44a74d1f3b2bba
    "# Interpolate velocity data using cubic spatial interpolation\n",
    "Interpolant = interpolant_unsteady(X, Y, Z, U, V, W, time_data)\n",
    "\n",
    "Interpolant_u = Interpolant[0] # RectangularBivariateSpline-object\n",
    "Interpolant_v = Interpolant[1] # RectangularBivariateSpline-object\n",
    "Interpolant_w = Interpolant[2] # RectangularBivariateSpline-object\n",
    "\n",
<<<<<<< HEAD
    "# Compute laplacian of velocity\n",
    "Lap_u, Lap_v, Lap_w  = laplacian_velocity(t0, X, Y, Z, U, V, W, periodic, bool_unsteady, 0, time_data)\n",
    "\n",
    "# Set nan values to zero (in case there are any) so that we can apply interpolant. \n",
    "# Interpolant does not work if the array contains nan values. \n",
    "Lap_u[np.isnan(Lap_u)] = 0\n",
    "Lap_v[np.isnan(Lap_v)] = 0\n",
    "Lap_w[np.isnan(Lap_w)] = 0\n",
    "\n",
    "# Interpolate laplacian of velocity data using cubic spatial interpolation\n",
    "Interpolant_lap = interpolant_steady(X, Y, Z, Lap_u, Lap_v, Lap_w)\n",
    "\n",
    "Interpolant_lap_u = Interpolant_lap[0] # RectangularBivariateSpline-object\n",
    "Interpolant_lap_v = Interpolant_lap[1] # RectangularBivariateSpline-object\n",
    "Interpolant_lap_w = Interpolant_lap[2] # RectangularBivariateSpline-object"
=======
    "Lap_u, Lap_v, Lap_w  = laplacian_velocity(t0, X, Y, Z, Interpolant_u, Interpolant_v, Interpolant_w, periodic, bool_unsteady, aux_grid, 0.005)\n",
    "\n",
    "# Interpolate velocity data using cubic spatial interpolation\n",
    "Interpolant = interpolant_steady(X, Y, Z, Lap_u, Lap_v, Lap_w)\n",
    "\n",
    "Interpolant_lap_u = Interpolant[0] # RectangularBivariateSpline-object\n",
    "Interpolant_lap_v = Interpolant[1] # RectangularBivariateSpline-object\n",
    "Interpolant_lap_w = Interpolant[2] # RectangularBivariateSpline-object"
>>>>>>> 9f629d66ae56f4b85feb5c441d44a74d1f3b2bba
   ]
  },
  {
   "cell_type": "markdown",
   "metadata": {},
   "source": [
    "# Instantaneous linear momentum/vorticity barriers from active Trajectory Stretching Exponents ($ \\mathrm{aTSE/a\\overline{TSE}} $)\n",
    "\n",
    "We visualize linear momentum/vorticity barriers by applying the $ \\mathrm{aTSE/a\\overline{TSE}} $ to trajectories of instantaneous linear momentum/vorticity barrier equation \\ref{eq: linearmoment3}. As soon as the $ \\mathrm{TSE/\\overline{TSE}} $ are applied to an active vector field, such as linear momentum (or vorticity), we refer to it as active $ \\mathrm{TSE/\\overline{TSE}} $ ($ \\mathrm{aTSE/a\\overline{TSE}} $)."
   ]
  },
  {
   "cell_type": "markdown",
   "metadata": {},
   "source": [
<<<<<<< HEAD
=======
    "## Compute active $ \\mathrm{aTSE}/\\mathrm{a\\overline{TSE}} $\n",
    "\n",
>>>>>>> 9f629d66ae56f4b85feb5c441d44a74d1f3b2bba
    "We now compute the active $ \\mathrm{TSE}/\\mathrm{\\overline{TSE}} $ for the instantaneous linear momentum/vorticity barrier equations. First, we evaluate the velocity along the particle trajectories from the autonomous ODE (eq. \\ref{eq: linearmoment2}) for all initial conditions on the 2D cross-section. From the velocity of the trajectories (=time-derivative of flow map) we then compute the $ \\mathrm{TSE}/\\mathrm{\\overline{TSE}} $ over the 2D faces of the cube $ [0,2\\pi]^3 $."
   ]
  },
  {
   "cell_type": "code",
<<<<<<< HEAD
   "execution_count": null,
   "metadata": {
    "ExecuteTime": {
     "end_time": "2022-03-04T11:30:14.893558Z",
     "start_time": "2022-03-04T11:30:14.845231Z"
=======
   "execution_count": 7,
   "metadata": {
    "ExecuteTime": {
     "end_time": "2022-02-16T11:06:19.465276Z",
     "start_time": "2022-02-16T11:06:19.403114Z"
>>>>>>> 9f629d66ae56f4b85feb5c441d44a74d1f3b2bba
    },
    "code_folding": [
     9,
     31
    ]
   },
   "outputs": [],
   "source": [
    "# Import function to compute trajectory/velocity along trajectory\n",
    "from ipynb.fs.defs.integration_dFdt import integration_dFdt\n",
    "\n",
    "# Import function to compute trajectory stretching exponent (TSE)\n",
    "from ipynb.fs.defs.TSE import _TSE, _TSE_bar\n",
    "\n",
    "# Import package for parallel computing\n",
    "from joblib import Parallel, delayed\n",
    "\n",
    "def compute_aTSE(x0, y0, z0, s_dummy, s):\n",
    "    \n",
    "    X0 = np.array([x0, y0, z0]) # array (3, Nx*Ny*Nz)\n",
    "    \n",
    "    DFdt = integration_dFdt(s_dummy, X0, X, Y, Z, Interpolant_lap_u, Interpolant_lap_v, Interpolant_lap_w, periodic, False)[1] # array (Nt, 3, Nx*Ny*Nz)\n",
    "    \n",
    "    aTSE = np.zeros((len(s), DFdt.shape[-1]))\n",
    "    aTSE_bar = np.zeros((len(s), DFdt.shape[-1]))\n",
    "    \n",
    "    counter = 0\n",
    "    for idx in np.searchsorted(s_dummy, s):\n",
    "        \n",
    "        for i in range(DFdt.shape[-1]):\n",
    "            \n",
    "            aTSE[counter, i] = _TSE(DFdt[:idx+1,:,i].transpose(), s_dummy[idx])\n",
    "            aTSE_bar[counter, i] = _TSE_bar(DFdt[:idx+1,:,i].transpose(), s_dummy[idx])\n",
    "            \n",
    "        counter += 1\n",
    "    \n",
    "    return aTSE, aTSE_bar\n",
    "\n",
    "# Split x0,y0,z0 into 'Ncores' equal batches for parallel computing\n",
    "def split(a, n):\n",
    "    k, m = divmod(len(a), n)\n",
    "    return (a[i*k+min(i, m):(i+1)*k+min(i+1, m)] for i in range(n))"
   ]
  },
  {
   "cell_type": "markdown",
   "metadata": {},
   "source": [
<<<<<<< HEAD
    "## XY-plane"
=======
    "### XY-plane"
>>>>>>> 9f629d66ae56f4b85feb5c441d44a74d1f3b2bba
   ]
  },
  {
   "cell_type": "code",
<<<<<<< HEAD
   "execution_count": null,
   "metadata": {
    "ExecuteTime": {
     "end_time": "2022-03-04T11:30:55.885392Z",
     "start_time": "2022-03-04T11:30:16.248500Z"
    },
    "code_folding": [
     0
    ]
   },
   "outputs": [],
=======
   "execution_count": 8,
   "metadata": {
    "ExecuteTime": {
     "end_time": "2022-02-16T11:06:21.543271Z",
     "start_time": "2022-02-16T11:06:20.531949Z"
    },
    "code_folding": []
   },
   "outputs": [
    {
     "name": "stderr",
     "output_type": "stream",
     "text": [
      "[Parallel(n_jobs=7)]: Using backend LokyBackend with 7 concurrent workers.\n",
      "[Parallel(n_jobs=7)]: Done   2 out of   7 | elapsed:    0.7s remaining:    1.9s\n"
     ]
    },
    {
     "ename": "ValueError",
     "evalue": "The requested sample points xi have dimension 3, but this RegularGridInterpolator has dimension 4",
     "output_type": "error",
     "traceback": [
      "\u001b[1;31m---------------------------------------------------------------------------\u001b[0m",
      "\u001b[1;31m_RemoteTraceback\u001b[0m                          Traceback (most recent call last)",
      "\u001b[1;31m_RemoteTraceback\u001b[0m: \n\"\"\"\nTraceback (most recent call last):\n  File \"C:\\Users\\encin\\anaconda3\\envs\\TBarrier\\lib\\site-packages\\joblib\\externals\\loky\\process_executor.py\", line 418, in _process_worker\n    r = call_item()\n  File \"C:\\Users\\encin\\anaconda3\\envs\\TBarrier\\lib\\site-packages\\joblib\\externals\\loky\\process_executor.py\", line 272, in __call__\n    return self.fn(*self.args, **self.kwargs)\n  File \"C:\\Users\\encin\\anaconda3\\envs\\TBarrier\\lib\\site-packages\\joblib\\_parallel_backends.py\", line 608, in __call__\n    return self.func(*args, **kwargs)\n  File \"C:\\Users\\encin\\anaconda3\\envs\\TBarrier\\lib\\site-packages\\joblib\\parallel.py\", line 256, in __call__\n    for func, args, kwargs in self.items]\n  File \"C:\\Users\\encin\\anaconda3\\envs\\TBarrier\\lib\\site-packages\\joblib\\parallel.py\", line 256, in <listcomp>\n    for func, args, kwargs in self.items]\n  File \"<ipython-input-7-a38f92a017ca>\", line 14, in compute_aTSE\n  File \"C:\\Users\\encin\\OneDrive\\TBarrier\\TBarrier\\3D/subfunctions/integration\\integration_dFdt.ipynb\", line 63, in integration_dFdt\n    \"code_folding\": [\n  File \"C:\\Users\\encin\\OneDrive\\TBarrier\\TBarrier\\3D/subfunctions/integration\\integration_dFdt.ipynb\", line 74, in RK4_step\n    ]\n  File \"C:\\Users\\encin\\OneDrive\\TBarrier\\TBarrier\\3D/subfunctions/integration\\velocity.ipynb\", line 70, in velocity\n    \"end_time\": \"2022-02-14T09:18:15.584346Z\",\n  File \"C:\\Users\\encin\\anaconda3\\envs\\TBarrier\\lib\\site-packages\\scipy\\interpolate\\interpolate.py\", line 2500, in __call__\n    \"dimension %d\" % (xi.shape[1], ndim))\nValueError: The requested sample points xi have dimension 3, but this RegularGridInterpolator has dimension 4\n\"\"\"",
      "\nThe above exception was the direct cause of the following exception:\n",
      "\u001b[1;31mValueError\u001b[0m                                Traceback (most recent call last)",
      "\u001b[1;32m<ipython-input-8-0a0178ad31f9>\u001b[0m in \u001b[0;36m<module>\u001b[1;34m\u001b[0m\n\u001b[0;32m      7\u001b[0m \u001b[0my0_batch\u001b[0m \u001b[1;33m=\u001b[0m \u001b[0mlist\u001b[0m\u001b[1;33m(\u001b[0m\u001b[0msplit\u001b[0m\u001b[1;33m(\u001b[0m\u001b[0my0_xy\u001b[0m\u001b[1;33m,\u001b[0m \u001b[0mNcores\u001b[0m\u001b[1;33m)\u001b[0m\u001b[1;33m)\u001b[0m \u001b[1;31m# list (Nx*Ny)\u001b[0m\u001b[1;33m\u001b[0m\u001b[1;33m\u001b[0m\u001b[0m\n\u001b[0;32m      8\u001b[0m \u001b[0mz0_batch\u001b[0m \u001b[1;33m=\u001b[0m \u001b[0mlist\u001b[0m\u001b[1;33m(\u001b[0m\u001b[0msplit\u001b[0m\u001b[1;33m(\u001b[0m\u001b[0mz0_xy\u001b[0m\u001b[1;33m,\u001b[0m \u001b[0mNcores\u001b[0m\u001b[1;33m)\u001b[0m\u001b[1;33m)\u001b[0m \u001b[1;31m# list (Nx*Ny)\u001b[0m\u001b[1;33m\u001b[0m\u001b[1;33m\u001b[0m\u001b[0m\n\u001b[1;32m----> 9\u001b[1;33m \u001b[0mresults\u001b[0m \u001b[1;33m=\u001b[0m \u001b[0mParallel\u001b[0m\u001b[1;33m(\u001b[0m\u001b[0mn_jobs\u001b[0m\u001b[1;33m=\u001b[0m\u001b[0mNcores\u001b[0m\u001b[1;33m,\u001b[0m \u001b[0mverbose\u001b[0m \u001b[1;33m=\u001b[0m \u001b[1;36m2\u001b[0m\u001b[1;33m)\u001b[0m\u001b[1;33m(\u001b[0m\u001b[0mdelayed\u001b[0m\u001b[1;33m(\u001b[0m\u001b[0mcompute_aTSE\u001b[0m\u001b[1;33m)\u001b[0m\u001b[1;33m(\u001b[0m\u001b[0mx0_batch\u001b[0m\u001b[1;33m[\u001b[0m\u001b[0mi\u001b[0m\u001b[1;33m]\u001b[0m\u001b[1;33m,\u001b[0m \u001b[0my0_batch\u001b[0m\u001b[1;33m[\u001b[0m\u001b[0mi\u001b[0m\u001b[1;33m]\u001b[0m\u001b[1;33m,\u001b[0m \u001b[0mz0_batch\u001b[0m\u001b[1;33m[\u001b[0m\u001b[0mi\u001b[0m\u001b[1;33m]\u001b[0m\u001b[1;33m,\u001b[0m \u001b[0ms_dummy\u001b[0m\u001b[1;33m,\u001b[0m \u001b[0ms\u001b[0m\u001b[1;33m)\u001b[0m \u001b[1;32mfor\u001b[0m \u001b[0mi\u001b[0m \u001b[1;32min\u001b[0m \u001b[0mrange\u001b[0m\u001b[1;33m(\u001b[0m\u001b[0mlen\u001b[0m\u001b[1;33m(\u001b[0m\u001b[0mx0_batch\u001b[0m\u001b[1;33m)\u001b[0m\u001b[1;33m)\u001b[0m\u001b[1;33m)\u001b[0m\u001b[1;33m\u001b[0m\u001b[1;33m\u001b[0m\u001b[0m\n\u001b[0m\u001b[0;32m     10\u001b[0m \u001b[1;33m\u001b[0m\u001b[0m\n\u001b[0;32m     11\u001b[0m \u001b[1;31m# Extract results of aTSE/aTSE_bar computation on xy-plane\u001b[0m\u001b[1;33m\u001b[0m\u001b[1;33m\u001b[0m\u001b[1;33m\u001b[0m\u001b[0m\n",
      "\u001b[1;32m~\\anaconda3\\envs\\TBarrier\\lib\\site-packages\\joblib\\parallel.py\u001b[0m in \u001b[0;36m__call__\u001b[1;34m(self, iterable)\u001b[0m\n\u001b[0;32m   1015\u001b[0m \u001b[1;33m\u001b[0m\u001b[0m\n\u001b[0;32m   1016\u001b[0m             \u001b[1;32mwith\u001b[0m \u001b[0mself\u001b[0m\u001b[1;33m.\u001b[0m\u001b[0m_backend\u001b[0m\u001b[1;33m.\u001b[0m\u001b[0mretrieval_context\u001b[0m\u001b[1;33m(\u001b[0m\u001b[1;33m)\u001b[0m\u001b[1;33m:\u001b[0m\u001b[1;33m\u001b[0m\u001b[1;33m\u001b[0m\u001b[0m\n\u001b[1;32m-> 1017\u001b[1;33m                 \u001b[0mself\u001b[0m\u001b[1;33m.\u001b[0m\u001b[0mretrieve\u001b[0m\u001b[1;33m(\u001b[0m\u001b[1;33m)\u001b[0m\u001b[1;33m\u001b[0m\u001b[1;33m\u001b[0m\u001b[0m\n\u001b[0m\u001b[0;32m   1018\u001b[0m             \u001b[1;31m# Make sure that we get a last message telling us we are done\u001b[0m\u001b[1;33m\u001b[0m\u001b[1;33m\u001b[0m\u001b[1;33m\u001b[0m\u001b[0m\n\u001b[0;32m   1019\u001b[0m             \u001b[0melapsed_time\u001b[0m \u001b[1;33m=\u001b[0m \u001b[0mtime\u001b[0m\u001b[1;33m.\u001b[0m\u001b[0mtime\u001b[0m\u001b[1;33m(\u001b[0m\u001b[1;33m)\u001b[0m \u001b[1;33m-\u001b[0m \u001b[0mself\u001b[0m\u001b[1;33m.\u001b[0m\u001b[0m_start_time\u001b[0m\u001b[1;33m\u001b[0m\u001b[1;33m\u001b[0m\u001b[0m\n",
      "\u001b[1;32m~\\anaconda3\\envs\\TBarrier\\lib\\site-packages\\joblib\\parallel.py\u001b[0m in \u001b[0;36mretrieve\u001b[1;34m(self)\u001b[0m\n\u001b[0;32m    907\u001b[0m             \u001b[1;32mtry\u001b[0m\u001b[1;33m:\u001b[0m\u001b[1;33m\u001b[0m\u001b[1;33m\u001b[0m\u001b[0m\n\u001b[0;32m    908\u001b[0m                 \u001b[1;32mif\u001b[0m \u001b[0mgetattr\u001b[0m\u001b[1;33m(\u001b[0m\u001b[0mself\u001b[0m\u001b[1;33m.\u001b[0m\u001b[0m_backend\u001b[0m\u001b[1;33m,\u001b[0m \u001b[1;34m'supports_timeout'\u001b[0m\u001b[1;33m,\u001b[0m \u001b[1;32mFalse\u001b[0m\u001b[1;33m)\u001b[0m\u001b[1;33m:\u001b[0m\u001b[1;33m\u001b[0m\u001b[1;33m\u001b[0m\u001b[0m\n\u001b[1;32m--> 909\u001b[1;33m                     \u001b[0mself\u001b[0m\u001b[1;33m.\u001b[0m\u001b[0m_output\u001b[0m\u001b[1;33m.\u001b[0m\u001b[0mextend\u001b[0m\u001b[1;33m(\u001b[0m\u001b[0mjob\u001b[0m\u001b[1;33m.\u001b[0m\u001b[0mget\u001b[0m\u001b[1;33m(\u001b[0m\u001b[0mtimeout\u001b[0m\u001b[1;33m=\u001b[0m\u001b[0mself\u001b[0m\u001b[1;33m.\u001b[0m\u001b[0mtimeout\u001b[0m\u001b[1;33m)\u001b[0m\u001b[1;33m)\u001b[0m\u001b[1;33m\u001b[0m\u001b[1;33m\u001b[0m\u001b[0m\n\u001b[0m\u001b[0;32m    910\u001b[0m                 \u001b[1;32melse\u001b[0m\u001b[1;33m:\u001b[0m\u001b[1;33m\u001b[0m\u001b[1;33m\u001b[0m\u001b[0m\n\u001b[0;32m    911\u001b[0m                     \u001b[0mself\u001b[0m\u001b[1;33m.\u001b[0m\u001b[0m_output\u001b[0m\u001b[1;33m.\u001b[0m\u001b[0mextend\u001b[0m\u001b[1;33m(\u001b[0m\u001b[0mjob\u001b[0m\u001b[1;33m.\u001b[0m\u001b[0mget\u001b[0m\u001b[1;33m(\u001b[0m\u001b[1;33m)\u001b[0m\u001b[1;33m)\u001b[0m\u001b[1;33m\u001b[0m\u001b[1;33m\u001b[0m\u001b[0m\n",
      "\u001b[1;32m~\\anaconda3\\envs\\TBarrier\\lib\\site-packages\\joblib\\_parallel_backends.py\u001b[0m in \u001b[0;36mwrap_future_result\u001b[1;34m(future, timeout)\u001b[0m\n\u001b[0;32m    560\u001b[0m         AsyncResults.get from multiprocessing.\"\"\"\n\u001b[0;32m    561\u001b[0m         \u001b[1;32mtry\u001b[0m\u001b[1;33m:\u001b[0m\u001b[1;33m\u001b[0m\u001b[1;33m\u001b[0m\u001b[0m\n\u001b[1;32m--> 562\u001b[1;33m             \u001b[1;32mreturn\u001b[0m \u001b[0mfuture\u001b[0m\u001b[1;33m.\u001b[0m\u001b[0mresult\u001b[0m\u001b[1;33m(\u001b[0m\u001b[0mtimeout\u001b[0m\u001b[1;33m=\u001b[0m\u001b[0mtimeout\u001b[0m\u001b[1;33m)\u001b[0m\u001b[1;33m\u001b[0m\u001b[1;33m\u001b[0m\u001b[0m\n\u001b[0m\u001b[0;32m    563\u001b[0m         \u001b[1;32mexcept\u001b[0m \u001b[0mLokyTimeoutError\u001b[0m\u001b[1;33m:\u001b[0m\u001b[1;33m\u001b[0m\u001b[1;33m\u001b[0m\u001b[0m\n\u001b[0;32m    564\u001b[0m             \u001b[1;32mraise\u001b[0m \u001b[0mTimeoutError\u001b[0m\u001b[1;33m(\u001b[0m\u001b[1;33m)\u001b[0m\u001b[1;33m\u001b[0m\u001b[1;33m\u001b[0m\u001b[0m\n",
      "\u001b[1;32m~\\anaconda3\\envs\\TBarrier\\lib\\concurrent\\futures\\_base.py\u001b[0m in \u001b[0;36mresult\u001b[1;34m(self, timeout)\u001b[0m\n\u001b[0;32m    433\u001b[0m                 \u001b[1;32mraise\u001b[0m \u001b[0mCancelledError\u001b[0m\u001b[1;33m(\u001b[0m\u001b[1;33m)\u001b[0m\u001b[1;33m\u001b[0m\u001b[1;33m\u001b[0m\u001b[0m\n\u001b[0;32m    434\u001b[0m             \u001b[1;32melif\u001b[0m \u001b[0mself\u001b[0m\u001b[1;33m.\u001b[0m\u001b[0m_state\u001b[0m \u001b[1;33m==\u001b[0m \u001b[0mFINISHED\u001b[0m\u001b[1;33m:\u001b[0m\u001b[1;33m\u001b[0m\u001b[1;33m\u001b[0m\u001b[0m\n\u001b[1;32m--> 435\u001b[1;33m                 \u001b[1;32mreturn\u001b[0m \u001b[0mself\u001b[0m\u001b[1;33m.\u001b[0m\u001b[0m__get_result\u001b[0m\u001b[1;33m(\u001b[0m\u001b[1;33m)\u001b[0m\u001b[1;33m\u001b[0m\u001b[1;33m\u001b[0m\u001b[0m\n\u001b[0m\u001b[0;32m    436\u001b[0m             \u001b[1;32melse\u001b[0m\u001b[1;33m:\u001b[0m\u001b[1;33m\u001b[0m\u001b[1;33m\u001b[0m\u001b[0m\n\u001b[0;32m    437\u001b[0m                 \u001b[1;32mraise\u001b[0m \u001b[0mTimeoutError\u001b[0m\u001b[1;33m(\u001b[0m\u001b[1;33m)\u001b[0m\u001b[1;33m\u001b[0m\u001b[1;33m\u001b[0m\u001b[0m\n",
      "\u001b[1;32m~\\anaconda3\\envs\\TBarrier\\lib\\concurrent\\futures\\_base.py\u001b[0m in \u001b[0;36m__get_result\u001b[1;34m(self)\u001b[0m\n\u001b[0;32m    382\u001b[0m     \u001b[1;32mdef\u001b[0m \u001b[0m__get_result\u001b[0m\u001b[1;33m(\u001b[0m\u001b[0mself\u001b[0m\u001b[1;33m)\u001b[0m\u001b[1;33m:\u001b[0m\u001b[1;33m\u001b[0m\u001b[1;33m\u001b[0m\u001b[0m\n\u001b[0;32m    383\u001b[0m         \u001b[1;32mif\u001b[0m \u001b[0mself\u001b[0m\u001b[1;33m.\u001b[0m\u001b[0m_exception\u001b[0m\u001b[1;33m:\u001b[0m\u001b[1;33m\u001b[0m\u001b[1;33m\u001b[0m\u001b[0m\n\u001b[1;32m--> 384\u001b[1;33m             \u001b[1;32mraise\u001b[0m \u001b[0mself\u001b[0m\u001b[1;33m.\u001b[0m\u001b[0m_exception\u001b[0m\u001b[1;33m\u001b[0m\u001b[1;33m\u001b[0m\u001b[0m\n\u001b[0m\u001b[0;32m    385\u001b[0m         \u001b[1;32melse\u001b[0m\u001b[1;33m:\u001b[0m\u001b[1;33m\u001b[0m\u001b[1;33m\u001b[0m\u001b[0m\n\u001b[0;32m    386\u001b[0m             \u001b[1;32mreturn\u001b[0m \u001b[0mself\u001b[0m\u001b[1;33m.\u001b[0m\u001b[0m_result\u001b[0m\u001b[1;33m\u001b[0m\u001b[1;33m\u001b[0m\u001b[0m\n",
      "\u001b[1;31mValueError\u001b[0m: The requested sample points xi have dimension 3, but this RegularGridInterpolator has dimension 4"
     ]
    }
   ],
>>>>>>> 9f629d66ae56f4b85feb5c441d44a74d1f3b2bba
   "source": [
    "# Vectorize initial conditions by arranging them to a vector of size (Nx*Ny*Nz, )\n",
    "x0_xy = X_domain[:,:,-1].ravel() # array (Nx*Ny, )\n",
    "y0_xy = Y_domain[:,:,-1].ravel() # array (Nx*Ny, )\n",
    "z0_xy = Z_domain[:,:,-1].ravel() # array (Nx*Ny, )\n",
    "\n",
    "x0_batch = list(split(x0_xy, Ncores)) # list (Nx*Ny)\n",
    "y0_batch = list(split(y0_xy, Ncores)) # list (Nx*Ny)\n",
    "z0_batch = list(split(z0_xy, Ncores)) # list (Nx*Ny)\n",
    "results = Parallel(n_jobs=Ncores, verbose = 2)(delayed(compute_aTSE)(x0_batch[i], y0_batch[i], z0_batch[i], s_dummy, s) for i in range(len(x0_batch)))\n",
    "\n",
    "# Extract results of aTSE/aTSE_bar computation on xy-plane\n",
    "aTSE_xy = results[0][0]\n",
    "aTSE_bar_xy = results[0][1]\n",
    "for res in results[1:]:\n",
    "    aTSE_xy = np.append(aTSE_xy, res[0], axis = -1)\n",
    "    aTSE_bar_xy = np.append(aTSE_bar_xy, res[1], axis = -1)\n",
    "    \n",
    "X0_xy = np.array(x0_xy).reshape(Ny,Nx) # array (Ny, Nx)\n",
    "Y0_xy = np.array(y0_xy).reshape(Ny,Nx) # array (Ny, Nx)\n",
    "Z0_xy = np.array(z0_xy).reshape(Ny,Nx) # array (Ny, Nx)\n",
    "aTSE_xy = np.array(aTSE_xy).reshape(len(s),Ny,Nx) # array (3, Ny, Nx)\n",
    "aTSE_bar_xy = np.array(aTSE_bar_xy).reshape(len(s),Ny,Nx) # array (3, Ny, Nx)"
   ]
  },
  {
   "cell_type": "markdown",
   "metadata": {},
   "source": [
<<<<<<< HEAD
    "## XZ-plane"
=======
    "### XZ-plane"
>>>>>>> 9f629d66ae56f4b85feb5c441d44a74d1f3b2bba
   ]
  },
  {
   "cell_type": "code",
   "execution_count": null,
   "metadata": {
    "ExecuteTime": {
<<<<<<< HEAD
     "end_time": "2022-03-04T11:32:00.483246Z",
     "start_time": "2022-03-04T11:31:22.847995Z"
=======
     "end_time": "2022-02-16T11:06:21.544268Z",
     "start_time": "2022-02-16T11:06:21.128Z"
>>>>>>> 9f629d66ae56f4b85feb5c441d44a74d1f3b2bba
    },
    "code_folding": [
     0
    ]
   },
   "outputs": [],
   "source": [
    "# Vectorize initial conditions by arranging them to a vector of size (Nx*Ny*Nz, )\n",
    "x0_xz = X_domain[0,:,:].ravel() # array (Nx*Nz, )\n",
    "y0_xz = Y_domain[0,:,:].ravel() # array (Nx*Nz, )\n",
    "z0_xz = Z_domain[0,:,:].ravel() # array (Nx*Nz, )\n",
    "\n",
    "x0_batch = list(split(x0_xz, Ncores)) # list (Nx*Nz)\n",
    "y0_batch = list(split(y0_xz, Ncores)) # list (Nx*Nz)\n",
    "z0_batch = list(split(z0_xz, Ncores)) # list (Nx*Nz)\n",
    "results = Parallel(n_jobs=Ncores, verbose = 2)(delayed(compute_aTSE)(x0_batch[i], y0_batch[i], z0_batch[i], s_dummy, s) for i in range(len(x0_batch)))\n",
    "\n",
    "# Extract results of aTSE/aTSE_bar computation on xy-plane\n",
    "aTSE_xz = results[0][0]\n",
    "aTSE_bar_xz = results[0][1]\n",
    "for res in results[1:]:\n",
    "    aTSE_xz = np.append(aTSE_xz, res[0], axis = -1)\n",
    "    aTSE_bar_xz = np.append(aTSE_bar_xz, res[1], axis = -1)\n",
    "    \n",
    "X0_xz = np.array(x0_xz).reshape(Nz,Nx) # array (Ny, Nx)\n",
    "Y0_xz = np.array(y0_xz).reshape(Nz,Nx) # array (Ny, Nx)\n",
    "Z0_xz = np.array(z0_xz).reshape(Nz,Nx) # array (Ny, Nx)\n",
    "aTSE_xz = np.array(aTSE_xz).reshape(len(s),Nz,Nx) # array (3, Ny, Nx)\n",
    "aTSE_bar_xz = np.array(aTSE_bar_xz).reshape(len(s),Nz,Nx) # array (3, Ny, Nx)"
   ]
  },
  {
   "cell_type": "markdown",
   "metadata": {},
   "source": [
<<<<<<< HEAD
    "## YZ-plane"
=======
    "### YZ-plane"
>>>>>>> 9f629d66ae56f4b85feb5c441d44a74d1f3b2bba
   ]
  },
  {
   "cell_type": "code",
<<<<<<< HEAD
   "execution_count": null,
   "metadata": {
    "ExecuteTime": {
     "end_time": "2022-03-04T11:32:57.516261Z",
     "start_time": "2022-03-04T11:32:19.708668Z"
=======
   "execution_count": 9,
   "metadata": {
    "ExecuteTime": {
     "end_time": "2022-02-16T11:06:22.805144Z",
     "start_time": "2022-02-16T11:06:21.891041Z"
>>>>>>> 9f629d66ae56f4b85feb5c441d44a74d1f3b2bba
    },
    "code_folding": [
     0
    ]
   },
<<<<<<< HEAD
   "outputs": [],
=======
   "outputs": [
    {
     "name": "stderr",
     "output_type": "stream",
     "text": [
      "[Parallel(n_jobs=7)]: Using backend LokyBackend with 7 concurrent workers.\n",
      "[Parallel(n_jobs=7)]: Done   2 out of   7 | elapsed:    0.7s remaining:    1.8s\n"
     ]
    },
    {
     "ename": "ValueError",
     "evalue": "The requested sample points xi have dimension 3, but this RegularGridInterpolator has dimension 4",
     "output_type": "error",
     "traceback": [
      "\u001b[1;31m---------------------------------------------------------------------------\u001b[0m",
      "\u001b[1;31m_RemoteTraceback\u001b[0m                          Traceback (most recent call last)",
      "\u001b[1;31m_RemoteTraceback\u001b[0m: \n\"\"\"\nTraceback (most recent call last):\n  File \"C:\\Users\\encin\\anaconda3\\envs\\TBarrier\\lib\\site-packages\\joblib\\externals\\loky\\process_executor.py\", line 418, in _process_worker\n    r = call_item()\n  File \"C:\\Users\\encin\\anaconda3\\envs\\TBarrier\\lib\\site-packages\\joblib\\externals\\loky\\process_executor.py\", line 272, in __call__\n    return self.fn(*self.args, **self.kwargs)\n  File \"C:\\Users\\encin\\anaconda3\\envs\\TBarrier\\lib\\site-packages\\joblib\\_parallel_backends.py\", line 608, in __call__\n    return self.func(*args, **kwargs)\n  File \"C:\\Users\\encin\\anaconda3\\envs\\TBarrier\\lib\\site-packages\\joblib\\parallel.py\", line 256, in __call__\n    for func, args, kwargs in self.items]\n  File \"C:\\Users\\encin\\anaconda3\\envs\\TBarrier\\lib\\site-packages\\joblib\\parallel.py\", line 256, in <listcomp>\n    for func, args, kwargs in self.items]\n  File \"<ipython-input-7-a38f92a017ca>\", line 14, in compute_aTSE\n  File \"C:\\Users\\encin\\OneDrive\\TBarrier\\TBarrier\\3D/subfunctions/integration\\integration_dFdt.ipynb\", line 63, in integration_dFdt\n    \"code_folding\": [\n  File \"C:\\Users\\encin\\OneDrive\\TBarrier\\TBarrier\\3D/subfunctions/integration\\integration_dFdt.ipynb\", line 74, in RK4_step\n    ]\n  File \"C:\\Users\\encin\\OneDrive\\TBarrier\\TBarrier\\3D/subfunctions/integration\\velocity.ipynb\", line 70, in velocity\n    \"end_time\": \"2022-02-14T09:18:15.584346Z\",\n  File \"C:\\Users\\encin\\anaconda3\\envs\\TBarrier\\lib\\site-packages\\scipy\\interpolate\\interpolate.py\", line 2500, in __call__\n    \"dimension %d\" % (xi.shape[1], ndim))\nValueError: The requested sample points xi have dimension 3, but this RegularGridInterpolator has dimension 4\n\"\"\"",
      "\nThe above exception was the direct cause of the following exception:\n",
      "\u001b[1;31mValueError\u001b[0m                                Traceback (most recent call last)",
      "\u001b[1;32m<ipython-input-9-09c8136b7ff9>\u001b[0m in \u001b[0;36m<module>\u001b[1;34m\u001b[0m\n\u001b[0;32m      7\u001b[0m \u001b[0my0_batch\u001b[0m \u001b[1;33m=\u001b[0m \u001b[0mlist\u001b[0m\u001b[1;33m(\u001b[0m\u001b[0msplit\u001b[0m\u001b[1;33m(\u001b[0m\u001b[0my0_yz\u001b[0m\u001b[1;33m,\u001b[0m \u001b[0mNcores\u001b[0m\u001b[1;33m)\u001b[0m\u001b[1;33m)\u001b[0m \u001b[1;31m# list (Ny*Nz)\u001b[0m\u001b[1;33m\u001b[0m\u001b[1;33m\u001b[0m\u001b[0m\n\u001b[0;32m      8\u001b[0m \u001b[0mz0_batch\u001b[0m \u001b[1;33m=\u001b[0m \u001b[0mlist\u001b[0m\u001b[1;33m(\u001b[0m\u001b[0msplit\u001b[0m\u001b[1;33m(\u001b[0m\u001b[0mz0_yz\u001b[0m\u001b[1;33m,\u001b[0m \u001b[0mNcores\u001b[0m\u001b[1;33m)\u001b[0m\u001b[1;33m)\u001b[0m \u001b[1;31m# list (Ny*Nz)\u001b[0m\u001b[1;33m\u001b[0m\u001b[1;33m\u001b[0m\u001b[0m\n\u001b[1;32m----> 9\u001b[1;33m \u001b[0mresults\u001b[0m \u001b[1;33m=\u001b[0m \u001b[0mParallel\u001b[0m\u001b[1;33m(\u001b[0m\u001b[0mn_jobs\u001b[0m\u001b[1;33m=\u001b[0m\u001b[0mNcores\u001b[0m\u001b[1;33m,\u001b[0m \u001b[0mverbose\u001b[0m \u001b[1;33m=\u001b[0m \u001b[1;36m2\u001b[0m\u001b[1;33m)\u001b[0m\u001b[1;33m(\u001b[0m\u001b[0mdelayed\u001b[0m\u001b[1;33m(\u001b[0m\u001b[0mcompute_aTSE\u001b[0m\u001b[1;33m)\u001b[0m\u001b[1;33m(\u001b[0m\u001b[0mx0_batch\u001b[0m\u001b[1;33m[\u001b[0m\u001b[0mi\u001b[0m\u001b[1;33m]\u001b[0m\u001b[1;33m,\u001b[0m \u001b[0my0_batch\u001b[0m\u001b[1;33m[\u001b[0m\u001b[0mi\u001b[0m\u001b[1;33m]\u001b[0m\u001b[1;33m,\u001b[0m \u001b[0mz0_batch\u001b[0m\u001b[1;33m[\u001b[0m\u001b[0mi\u001b[0m\u001b[1;33m]\u001b[0m\u001b[1;33m,\u001b[0m \u001b[0ms_dummy\u001b[0m\u001b[1;33m,\u001b[0m \u001b[0ms\u001b[0m\u001b[1;33m)\u001b[0m \u001b[1;32mfor\u001b[0m \u001b[0mi\u001b[0m \u001b[1;32min\u001b[0m \u001b[0mrange\u001b[0m\u001b[1;33m(\u001b[0m\u001b[0mlen\u001b[0m\u001b[1;33m(\u001b[0m\u001b[0mx0_batch\u001b[0m\u001b[1;33m)\u001b[0m\u001b[1;33m)\u001b[0m\u001b[1;33m)\u001b[0m\u001b[1;33m\u001b[0m\u001b[1;33m\u001b[0m\u001b[0m\n\u001b[0m\u001b[0;32m     10\u001b[0m \u001b[1;33m\u001b[0m\u001b[0m\n\u001b[0;32m     11\u001b[0m \u001b[1;31m# Extract results of aTSE/aTSE_bar computation on xz-plane\u001b[0m\u001b[1;33m\u001b[0m\u001b[1;33m\u001b[0m\u001b[1;33m\u001b[0m\u001b[0m\n",
      "\u001b[1;32m~\\anaconda3\\envs\\TBarrier\\lib\\site-packages\\joblib\\parallel.py\u001b[0m in \u001b[0;36m__call__\u001b[1;34m(self, iterable)\u001b[0m\n\u001b[0;32m   1015\u001b[0m \u001b[1;33m\u001b[0m\u001b[0m\n\u001b[0;32m   1016\u001b[0m             \u001b[1;32mwith\u001b[0m \u001b[0mself\u001b[0m\u001b[1;33m.\u001b[0m\u001b[0m_backend\u001b[0m\u001b[1;33m.\u001b[0m\u001b[0mretrieval_context\u001b[0m\u001b[1;33m(\u001b[0m\u001b[1;33m)\u001b[0m\u001b[1;33m:\u001b[0m\u001b[1;33m\u001b[0m\u001b[1;33m\u001b[0m\u001b[0m\n\u001b[1;32m-> 1017\u001b[1;33m                 \u001b[0mself\u001b[0m\u001b[1;33m.\u001b[0m\u001b[0mretrieve\u001b[0m\u001b[1;33m(\u001b[0m\u001b[1;33m)\u001b[0m\u001b[1;33m\u001b[0m\u001b[1;33m\u001b[0m\u001b[0m\n\u001b[0m\u001b[0;32m   1018\u001b[0m             \u001b[1;31m# Make sure that we get a last message telling us we are done\u001b[0m\u001b[1;33m\u001b[0m\u001b[1;33m\u001b[0m\u001b[1;33m\u001b[0m\u001b[0m\n\u001b[0;32m   1019\u001b[0m             \u001b[0melapsed_time\u001b[0m \u001b[1;33m=\u001b[0m \u001b[0mtime\u001b[0m\u001b[1;33m.\u001b[0m\u001b[0mtime\u001b[0m\u001b[1;33m(\u001b[0m\u001b[1;33m)\u001b[0m \u001b[1;33m-\u001b[0m \u001b[0mself\u001b[0m\u001b[1;33m.\u001b[0m\u001b[0m_start_time\u001b[0m\u001b[1;33m\u001b[0m\u001b[1;33m\u001b[0m\u001b[0m\n",
      "\u001b[1;32m~\\anaconda3\\envs\\TBarrier\\lib\\site-packages\\joblib\\parallel.py\u001b[0m in \u001b[0;36mretrieve\u001b[1;34m(self)\u001b[0m\n\u001b[0;32m    907\u001b[0m             \u001b[1;32mtry\u001b[0m\u001b[1;33m:\u001b[0m\u001b[1;33m\u001b[0m\u001b[1;33m\u001b[0m\u001b[0m\n\u001b[0;32m    908\u001b[0m                 \u001b[1;32mif\u001b[0m \u001b[0mgetattr\u001b[0m\u001b[1;33m(\u001b[0m\u001b[0mself\u001b[0m\u001b[1;33m.\u001b[0m\u001b[0m_backend\u001b[0m\u001b[1;33m,\u001b[0m \u001b[1;34m'supports_timeout'\u001b[0m\u001b[1;33m,\u001b[0m \u001b[1;32mFalse\u001b[0m\u001b[1;33m)\u001b[0m\u001b[1;33m:\u001b[0m\u001b[1;33m\u001b[0m\u001b[1;33m\u001b[0m\u001b[0m\n\u001b[1;32m--> 909\u001b[1;33m                     \u001b[0mself\u001b[0m\u001b[1;33m.\u001b[0m\u001b[0m_output\u001b[0m\u001b[1;33m.\u001b[0m\u001b[0mextend\u001b[0m\u001b[1;33m(\u001b[0m\u001b[0mjob\u001b[0m\u001b[1;33m.\u001b[0m\u001b[0mget\u001b[0m\u001b[1;33m(\u001b[0m\u001b[0mtimeout\u001b[0m\u001b[1;33m=\u001b[0m\u001b[0mself\u001b[0m\u001b[1;33m.\u001b[0m\u001b[0mtimeout\u001b[0m\u001b[1;33m)\u001b[0m\u001b[1;33m)\u001b[0m\u001b[1;33m\u001b[0m\u001b[1;33m\u001b[0m\u001b[0m\n\u001b[0m\u001b[0;32m    910\u001b[0m                 \u001b[1;32melse\u001b[0m\u001b[1;33m:\u001b[0m\u001b[1;33m\u001b[0m\u001b[1;33m\u001b[0m\u001b[0m\n\u001b[0;32m    911\u001b[0m                     \u001b[0mself\u001b[0m\u001b[1;33m.\u001b[0m\u001b[0m_output\u001b[0m\u001b[1;33m.\u001b[0m\u001b[0mextend\u001b[0m\u001b[1;33m(\u001b[0m\u001b[0mjob\u001b[0m\u001b[1;33m.\u001b[0m\u001b[0mget\u001b[0m\u001b[1;33m(\u001b[0m\u001b[1;33m)\u001b[0m\u001b[1;33m)\u001b[0m\u001b[1;33m\u001b[0m\u001b[1;33m\u001b[0m\u001b[0m\n",
      "\u001b[1;32m~\\anaconda3\\envs\\TBarrier\\lib\\site-packages\\joblib\\_parallel_backends.py\u001b[0m in \u001b[0;36mwrap_future_result\u001b[1;34m(future, timeout)\u001b[0m\n\u001b[0;32m    560\u001b[0m         AsyncResults.get from multiprocessing.\"\"\"\n\u001b[0;32m    561\u001b[0m         \u001b[1;32mtry\u001b[0m\u001b[1;33m:\u001b[0m\u001b[1;33m\u001b[0m\u001b[1;33m\u001b[0m\u001b[0m\n\u001b[1;32m--> 562\u001b[1;33m             \u001b[1;32mreturn\u001b[0m \u001b[0mfuture\u001b[0m\u001b[1;33m.\u001b[0m\u001b[0mresult\u001b[0m\u001b[1;33m(\u001b[0m\u001b[0mtimeout\u001b[0m\u001b[1;33m=\u001b[0m\u001b[0mtimeout\u001b[0m\u001b[1;33m)\u001b[0m\u001b[1;33m\u001b[0m\u001b[1;33m\u001b[0m\u001b[0m\n\u001b[0m\u001b[0;32m    563\u001b[0m         \u001b[1;32mexcept\u001b[0m \u001b[0mLokyTimeoutError\u001b[0m\u001b[1;33m:\u001b[0m\u001b[1;33m\u001b[0m\u001b[1;33m\u001b[0m\u001b[0m\n\u001b[0;32m    564\u001b[0m             \u001b[1;32mraise\u001b[0m \u001b[0mTimeoutError\u001b[0m\u001b[1;33m(\u001b[0m\u001b[1;33m)\u001b[0m\u001b[1;33m\u001b[0m\u001b[1;33m\u001b[0m\u001b[0m\n",
      "\u001b[1;32m~\\anaconda3\\envs\\TBarrier\\lib\\concurrent\\futures\\_base.py\u001b[0m in \u001b[0;36mresult\u001b[1;34m(self, timeout)\u001b[0m\n\u001b[0;32m    433\u001b[0m                 \u001b[1;32mraise\u001b[0m \u001b[0mCancelledError\u001b[0m\u001b[1;33m(\u001b[0m\u001b[1;33m)\u001b[0m\u001b[1;33m\u001b[0m\u001b[1;33m\u001b[0m\u001b[0m\n\u001b[0;32m    434\u001b[0m             \u001b[1;32melif\u001b[0m \u001b[0mself\u001b[0m\u001b[1;33m.\u001b[0m\u001b[0m_state\u001b[0m \u001b[1;33m==\u001b[0m \u001b[0mFINISHED\u001b[0m\u001b[1;33m:\u001b[0m\u001b[1;33m\u001b[0m\u001b[1;33m\u001b[0m\u001b[0m\n\u001b[1;32m--> 435\u001b[1;33m                 \u001b[1;32mreturn\u001b[0m \u001b[0mself\u001b[0m\u001b[1;33m.\u001b[0m\u001b[0m__get_result\u001b[0m\u001b[1;33m(\u001b[0m\u001b[1;33m)\u001b[0m\u001b[1;33m\u001b[0m\u001b[1;33m\u001b[0m\u001b[0m\n\u001b[0m\u001b[0;32m    436\u001b[0m             \u001b[1;32melse\u001b[0m\u001b[1;33m:\u001b[0m\u001b[1;33m\u001b[0m\u001b[1;33m\u001b[0m\u001b[0m\n\u001b[0;32m    437\u001b[0m                 \u001b[1;32mraise\u001b[0m \u001b[0mTimeoutError\u001b[0m\u001b[1;33m(\u001b[0m\u001b[1;33m)\u001b[0m\u001b[1;33m\u001b[0m\u001b[1;33m\u001b[0m\u001b[0m\n",
      "\u001b[1;32m~\\anaconda3\\envs\\TBarrier\\lib\\concurrent\\futures\\_base.py\u001b[0m in \u001b[0;36m__get_result\u001b[1;34m(self)\u001b[0m\n\u001b[0;32m    382\u001b[0m     \u001b[1;32mdef\u001b[0m \u001b[0m__get_result\u001b[0m\u001b[1;33m(\u001b[0m\u001b[0mself\u001b[0m\u001b[1;33m)\u001b[0m\u001b[1;33m:\u001b[0m\u001b[1;33m\u001b[0m\u001b[1;33m\u001b[0m\u001b[0m\n\u001b[0;32m    383\u001b[0m         \u001b[1;32mif\u001b[0m \u001b[0mself\u001b[0m\u001b[1;33m.\u001b[0m\u001b[0m_exception\u001b[0m\u001b[1;33m:\u001b[0m\u001b[1;33m\u001b[0m\u001b[1;33m\u001b[0m\u001b[0m\n\u001b[1;32m--> 384\u001b[1;33m             \u001b[1;32mraise\u001b[0m \u001b[0mself\u001b[0m\u001b[1;33m.\u001b[0m\u001b[0m_exception\u001b[0m\u001b[1;33m\u001b[0m\u001b[1;33m\u001b[0m\u001b[0m\n\u001b[0m\u001b[0;32m    385\u001b[0m         \u001b[1;32melse\u001b[0m\u001b[1;33m:\u001b[0m\u001b[1;33m\u001b[0m\u001b[1;33m\u001b[0m\u001b[0m\n\u001b[0;32m    386\u001b[0m             \u001b[1;32mreturn\u001b[0m \u001b[0mself\u001b[0m\u001b[1;33m.\u001b[0m\u001b[0m_result\u001b[0m\u001b[1;33m\u001b[0m\u001b[1;33m\u001b[0m\u001b[0m\n",
      "\u001b[1;31mValueError\u001b[0m: The requested sample points xi have dimension 3, but this RegularGridInterpolator has dimension 4"
     ]
    }
   ],
>>>>>>> 9f629d66ae56f4b85feb5c441d44a74d1f3b2bba
   "source": [
    "# Vectorize initial conditions by arranging them to a vector of size (Nx*Ny*Nz, )\n",
    "x0_yz = X_domain[:,0,:].ravel() # array (Ny*Nz, )\n",
    "y0_yz = Y_domain[:,0,:].ravel() # array (Ny*Nz, )\n",
    "z0_yz = Z_domain[:,0,:].ravel() # array (Ny*Nz, )\n",
    "\n",
    "x0_batch = list(split(x0_yz, Ncores)) # list (Ny*Nz)\n",
    "y0_batch = list(split(y0_yz, Ncores)) # list (Ny*Nz)\n",
    "z0_batch = list(split(z0_yz, Ncores)) # list (Ny*Nz)\n",
    "results = Parallel(n_jobs=Ncores, verbose = 2)(delayed(compute_aTSE)(x0_batch[i], y0_batch[i], z0_batch[i], s_dummy, s) for i in range(len(x0_batch)))\n",
    "\n",
    "# Extract results of aTSE/aTSE_bar computation on xz-plane\n",
    "aTSE_yz = results[0][0]\n",
    "aTSE_bar_yz = results[0][1]\n",
    "for res in results[1:]:\n",
    "    aTSE_yz = np.append(aTSE_yz, res[0], axis = -1)\n",
    "    aTSE_bar_yz = np.append(aTSE_bar_yz, res[1], axis = -1)\n",
    "    \n",
    "X0_yz = np.array(x0_yz).reshape(Nz,Ny) # array (Nz, Ny) \n",
    "Y0_yz = np.array(y0_yz).reshape(Nz,Ny) # array (Nz, Ny) \n",
    "Z0_yz = np.array(z0_yz).reshape(Nz,Ny) # array (Nz, Ny) \n",
    "aTSE_yz = np.array(aTSE_yz).reshape(len(s),Nz,Nx) # array (3, Ny, Nx)\n",
    "aTSE_bar_yz = np.array(aTSE_bar_yz).reshape(len(s),Nz,Nx) # array (3, Ny, Nx)"
   ]
  },
  {
   "cell_type": "markdown",
   "metadata": {},
   "source": [
    "##### Visualize $ \\mathrm{aTSE/a\\overline{TSE}} $ over different dummy time-intervals\n",
    "\n",
    "In the following we visualize the instantaneous linear momentum/vorticity barriers at time $ t_0 = 0 $ through the $ \\mathrm{aTSE/a\\overline{TSE}} $ over different dummy time-intervals. Influential invariant\n",
    "manifolds of the barrier equation  \\ref{eq: linearmoment3} will appear as 2D surfaces along which the $ \\mathrm{aTSE}/\\mathrm{a\\overline{TSE}} $ exhibit large changes. Note that contrary to the classic $ \\mathrm{TSE}/\\mathrm{\\overline{TSE}} $, the $ \\mathrm{aTSE}/\\mathrm{a\\overline{TSE}} $ diagnostic is not limited by the temporal domain as the dummy time-interval can be chosen to be arbitrarily large. We explore the structures of the $ \\mathrm{aTSE}_{0,0}^{s_i}/\\mathrm{a\\overline{TSE}_{0,0}^{s_i}} $ over different dummy time-intervals $ s_i \\in \\lbrace 1,2,3 \\rbrace $ at time $ t_0 $."
   ]
  },
  {
   "cell_type": "code",
   "execution_count": null,
   "metadata": {
    "ExecuteTime": {
<<<<<<< HEAD
     "end_time": "2022-03-04T11:33:38.751357Z",
     "start_time": "2022-03-04T11:33:38.725724Z"
=======
     "end_time": "2022-02-16T11:05:41.925563Z",
     "start_time": "2022-02-16T11:05:41.795Z"
>>>>>>> 9f629d66ae56f4b85feb5c441d44a74d1f3b2bba
    },
    "code_folding": [
     0,
     4,
     26
    ],
    "scrolled": true
   },
   "outputs": [],
   "source": [
    "# Import plotly for 3D figures\n",
    "from plotly import graph_objs as go\n",
    "\n",
    "# iterate over different dummy time-intervals and display aTSE field calculated over each time-interval\n",
    "def plot_aTSE(i):\n",
    "\n",
    "    # define minimum and maximum values for colorbar\n",
    "    min_value = min(np.min(aTSE_yz[i,:,:]),min(np.min(aTSE_xy[i,:,:]), np.min(aTSE_xz[i,:,:])))\n",
    "    max_value = max(np.max(aTSE_yz[i,:,:]),max(np.max(aTSE_xy[i,:,:]), np.max(aTSE_xz[i,:,:])))\n",
    "\n",
    "    # create figure\n",
    "    fig = go.Figure(data=[go.Surface(x = X0_xy, y = Y0_xy, z = Z0_xy, surfacecolor = aTSE_xy[i,:,:], showscale = True, colorscale='rainbow', cmin=min_value, cmax=max_value)])\n",
    "    fig.add_trace(go.Surface(x = X0_xz, y = Y0_xz, z = Z0_xz, surfacecolor = aTSE_xz[i,:,:], showscale = False, colorscale='rainbow', cmin=min_value, cmax=max_value))\n",
    "    fig.add_trace(go.Surface(x = X0_yz, y = Y0_yz, z = Z0_yz, surfacecolor = aTSE_yz[i,:,:], showscale = False, colorscale='rainbow', cmin=min_value, cmax=max_value))\n",
    "    fig.add_trace(go.Surface(x = X0_xy, y = Y0_xy, z = Z0_xy-2*np.pi, surfacecolor = aTSE_xy[i,:,:], showscale = False, colorscale='rainbow', cmin=min_value, cmax=max_value))\n",
    "    fig.add_trace(go.Surface(x = X0_xz, y = Y0_xz+2*np.pi, z = Z0_xz, surfacecolor = aTSE_xz[i,:,:], showscale = False, colorscale='rainbow', cmin=min_value, cmax=max_value))\n",
    "    fig.add_trace(go.Surface(x = X0_yz+2*np.pi, y = Y0_yz, z = Z0_yz, surfacecolor = aTSE_yz[i,:,:], showscale = False, colorscale='rainbow', cmin=min_value, cmax=max_value))\n",
    "\n",
    "    # camera\n",
    "    camera = dict(eye=dict(x=-1.45,y=-1.45,z=1.7))\n",
    "    \n",
    "    fig.update_layout(scene_camera=camera)\n",
    "\n",
    "    fig.show()\n",
    "    \n",
    "# iterate over different dummy time-intervals and display aTSE_bar field calculated over each time-interval\n",
    "def plot_aTSE_bar(i):\n",
    "\n",
    "    # define minimum and maximum values for colorbar\n",
    "    min_value = min(np.min(aTSE_bar_yz[i,:,:]),min(np.min(aTSE_bar_xy[i,:,:]), np.min(aTSE_bar_xz[i,:,:])))\n",
    "    max_value = max(np.max(aTSE_bar_yz[i,:,:]),max(np.max(aTSE_bar_xy[i,:,:]), np.max(aTSE_bar_xz[i,:,:])))\n",
    "\n",
    "    # create figure\n",
    "    fig = go.Figure(data=[go.Surface(x = X0_xy, y = Y0_xy, z = Z0_xy, surfacecolor = aTSE_bar_xy[i,:,:], showscale = True, colorscale='rainbow', cmin=min_value, cmax=max_value)])\n",
    "    fig.add_trace(go.Surface(x = X0_xz, y = Y0_xz, z = Z0_xz, surfacecolor = aTSE_bar_xz[i,:,:], showscale = False, colorscale='rainbow', cmin=min_value, cmax=max_value))\n",
    "    fig.add_trace(go.Surface(x = X0_yz, y = Y0_yz, z = Z0_yz, surfacecolor = aTSE_bar_yz[i,:,:], showscale = False, colorscale='rainbow', cmin=min_value, cmax=max_value))\n",
    "    fig.add_trace(go.Surface(x = X0_xy, y = Y0_xy, z = Z0_xy-2*np.pi, surfacecolor = aTSE_bar_xy[i,:,:], showscale = False, colorscale='rainbow', cmin=min_value, cmax=max_value))\n",
    "    fig.add_trace(go.Surface(x = X0_xz, y = Y0_xz+2*np.pi, z = Z0_xz, surfacecolor = aTSE_bar_xz[i,:,:], showscale = False, colorscale='rainbow', cmin=min_value, cmax=max_value))\n",
    "    fig.add_trace(go.Surface(x = X0_yz+2*np.pi, y = Y0_yz, z = Z0_yz, surfacecolor = aTSE_bar_yz[i,:,:], showscale = False, colorscale='rainbow', cmin=min_value, cmax=max_value))\n",
    "\n",
    "    # camera\n",
    "    camera = dict(eye=dict(x=-1.45,y=-1.45,z=1.7))\n",
    "    \n",
    "    fig.update_layout(scene_camera=camera)\n",
    "\n",
    "    fig.show()"
   ]
  },
  {
   "cell_type": "markdown",
   "metadata": {},
   "source": [
<<<<<<< HEAD
    "## $ \\mathrm{aTSE}_{0,0}^{s_1}/a\\mathrm{\\overline{TSE}_{0,0}^{s_1}} $\n",
=======
    "### $ \\mathrm{aTSE}_{0,0}^{s_1}/a\\mathrm{\\overline{TSE}_{0,0}^{s_1}} $\n",
>>>>>>> 9f629d66ae56f4b85feb5c441d44a74d1f3b2bba
    "\n",
    "In the following we visualize the instantaneous linear momentum barriers/vorticity at time $ t_0 = 0 $ through $ \\mathrm{aTSE}_{0,0}^{s_1} $ and $ \\mathrm{a\\overline{TSE}}_{0,0}^{s_1} $ ."
   ]
  },
  {
   "cell_type": "code",
   "execution_count": null,
   "metadata": {
    "ExecuteTime": {
<<<<<<< HEAD
     "end_time": "2022-03-04T11:33:48.007167Z",
     "start_time": "2022-03-04T11:33:40.239690Z"
=======
     "end_time": "2022-02-16T11:05:41.925563Z",
     "start_time": "2022-02-16T11:05:41.816Z"
>>>>>>> 9f629d66ae56f4b85feb5c441d44a74d1f3b2bba
    }
   },
   "outputs": [],
   "source": [
    "############################################ PLOT RESULTS ############################################\n",
    "plot_aTSE(0)\n",
    "plot_aTSE_bar(0)"
   ]
  },
  {
   "cell_type": "markdown",
   "metadata": {},
   "source": [
<<<<<<< HEAD
    "## $ \\mathrm{aTSE}_{0,0}^{s_2}/a\\mathrm{\\overline{TSE}_{0,0}^{s_2}} $\n",
=======
    "### $ \\mathrm{aTSE}_{0,0}^{s_2}/a\\mathrm{\\overline{TSE}_{0,0}^{s_2}} $\n",
>>>>>>> 9f629d66ae56f4b85feb5c441d44a74d1f3b2bba
    "\n",
    "In the following we visualize the instantaneous linear momentum barriers/vorticity at time $ t_0 = 0 $ through $ \\mathrm{aTSE}_{0,0}^{s_2} $ and $ \\mathrm{a\\overline{TSE}}_{0,0}^{s_2} $ ."
   ]
  },
  {
   "cell_type": "code",
   "execution_count": null,
   "metadata": {
    "ExecuteTime": {
<<<<<<< HEAD
     "end_time": "2022-03-04T11:34:04.318826Z",
     "start_time": "2022-03-04T11:33:56.653954Z"
=======
     "end_time": "2022-02-16T11:05:41.926560Z",
     "start_time": "2022-02-16T11:05:41.838Z"
>>>>>>> 9f629d66ae56f4b85feb5c441d44a74d1f3b2bba
    },
    "code_folding": [
     0
    ]
   },
   "outputs": [],
   "source": [
    "############################################ PLOT RESULTS ############################################\n",
    "plot_aTSE(1)\n",
    "plot_aTSE_bar(1)"
   ]
  },
  {
   "cell_type": "markdown",
   "metadata": {},
   "source": [
<<<<<<< HEAD
    "## $ \\mathrm{aTSE}_{0,0}^{s_3}/a\\mathrm{\\overline{TSE}_{0,0}^{s_3}} $\n",
=======
    "### $ \\mathrm{aTSE}_{0,0}^{s_3}/a\\mathrm{\\overline{TSE}_{0,0}^{s_3}} $\n",
>>>>>>> 9f629d66ae56f4b85feb5c441d44a74d1f3b2bba
    "\n",
    "In the following we visualize the instantaneous linear momentum barriers/vorticity at time $ t_0 = 0 $ through $ \\mathrm{aTSE}_{0,0}^{s_3} $ and $ \\mathrm{a\\overline{TSE}}_{0,0}^{s_3} $ ."
   ]
  },
  {
   "cell_type": "code",
   "execution_count": null,
   "metadata": {
    "ExecuteTime": {
<<<<<<< HEAD
     "end_time": "2022-03-04T11:34:12.335438Z",
     "start_time": "2022-03-04T11:34:04.322815Z"
=======
     "end_time": "2022-02-16T11:05:41.926560Z",
     "start_time": "2022-02-16T11:05:41.858Z"
>>>>>>> 9f629d66ae56f4b85feb5c441d44a74d1f3b2bba
    },
    "code_folding": [
     0
    ]
   },
   "outputs": [],
   "source": [
    "############################################ PLOT RESULTS ############################################\n",
    "plot_aTSE(2)\n",
    "plot_aTSE_bar(2)"
   ]
  },
  {
   "cell_type": "markdown",
   "metadata": {},
   "source": [
    "The figures focus on momentum/vorticity-based active barriers of the 3D viscous, unsteady ABC-flow. \n",
    "Hyperbolic barrers which block the transport of linear momentum/vorticity will appear as 2D surfaces where $ \\mathrm{aTSE}/\\mathrm{a\\overline{TSE}} $ exhibit large changes.\n",
    "The $ \\mathrm{aTSE}/\\mathrm{a\\overline{TSE}} $ provide a clear picture of the main active hyperbolic barriers. The features in the $ \\mathrm{a\\overline{TSE}} $ become even more pronounced for longer s-times. The equivalence between instantaneous momentum and vorticity barriers holds as the ABC-flows satisfies the strong Beltrami property."
   ]
  },
  {
   "cell_type": "markdown",
   "metadata": {},
   "source": [
    "# References\n",
    "\n",
    "[1] Haller, G., Katsanoulis, S., Holzner, M., Frohnapfel, B., & Gatti, D. (2020). Objective barriers to the transport of dynamically active vector fields. Journal of Fluid Mechanics, 905.\n",
    "\n",
    "[2] Notebook 9.7.2. in \"Transport Barriers and Coherent Structures in Flow Data\" by Prof. George Haller."
   ]
  }
 ],
 "metadata": {
  "kernelspec": {
   "display_name": "Python 3",
   "language": "python",
   "name": "python3"
  },
  "language_info": {
   "codemirror_mode": {
    "name": "ipython",
    "version": 3
   },
   "file_extension": ".py",
   "mimetype": "text/x-python",
   "name": "python",
   "nbconvert_exporter": "python",
   "pygments_lexer": "ipython3",
   "version": "3.7.12"
  },
<<<<<<< HEAD
  "latex_envs": {
   "LaTeX_envs_menu_present": true,
   "autoclose": false,
   "autocomplete": true,
   "bibliofile": "biblio.bib",
   "cite_by": "apalike",
   "current_citInitial": 1,
   "eqLabelWithNumbers": true,
   "eqNumInitial": 1,
   "hotkeys": {
    "equation": "Ctrl-E",
    "itemize": "Ctrl-I"
   },
   "labels_anchors": false,
   "latex_user_defs": false,
   "report_style_numbering": false,
   "user_envs_cfg": false
  },
=======
>>>>>>> 9f629d66ae56f4b85feb5c441d44a74d1f3b2bba
  "toc": {
   "base_numbering": "0",
   "nav_menu": {},
   "number_sections": true,
   "sideBar": true,
   "skip_h1_title": false,
   "title_cell": "Table of Contents",
   "title_sidebar": "Contents",
   "toc_cell": false,
   "toc_position": {
    "height": "calc(100% - 180px)",
    "left": "10px",
    "top": "150px",
    "width": "307.2px"
   },
   "toc_section_display": true,
   "toc_window_display": true
  }
 },
 "nbformat": 4,
 "nbformat_minor": 4
}
