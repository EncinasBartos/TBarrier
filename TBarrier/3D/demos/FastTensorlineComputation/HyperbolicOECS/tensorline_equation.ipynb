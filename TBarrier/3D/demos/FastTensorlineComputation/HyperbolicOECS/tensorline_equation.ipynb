{
 "cells": [
  {
   "cell_type": "markdown",
   "metadata": {},
   "source": [
    "# Attracting LCS"
   ]
  },
  {
   "cell_type": "markdown",
   "metadata": {},
   "source": [
    "\\begin{align*}\n",
    "\\mathbf{x}' &= \\xi_2 \\\\\n",
    "\\phi' &= \\dfrac{\\lambda_2}{\\lambda_2^2-1} \\xi_{1}(\\nabla_x C \\xi_2)\\xi_2\n",
    "\\end{align*}"
   ]
  },
  {
   "cell_type": "markdown",
   "metadata": {
    "ExecuteTime": {
     "end_time": "2021-11-01T22:13:34.829800Z",
     "start_time": "2021-11-01T22:13:34.817833Z"
    }
   },
   "source": [
    "# Repelling OECS"
   ]
  },
  {
   "cell_type": "markdown",
   "metadata": {
    "ExecuteTime": {
     "end_time": "2021-11-01T22:06:39.218091Z",
     "start_time": "2021-11-01T22:06:39.210113Z"
    }
   },
   "source": [
    "Repelling OECS over at time $ t $ are given by tensorlines starting from local maxima of $ s_2(x, y) $ which satisfy:\n",
    "\n",
    "\\begin{align}\n",
    "S \\mathbf{e}_1 = s_1 \\mathbf{e}_1,\n",
    "\\label{eq:repellingOECS}\n",
    "\\end{align} \n",
    "\n",
    "with $ \\mathbf{e}_1 $ and $ s_1 $ respectively denoting the eigenvector associated to the maximum eigenvalue of the Cauchy-Green strain tensor $ S = S(x,y,t) $\n",
    "\n",
    "Parametrizing the vector $ \\dfrac{d}{ds}\\mathbf{x}(\\phi(s)) = \\mathbf{e}_1(\\phi(s)) = \\begin{pmatrix} \\cos(\\phi(s)) \\\\ \\sin(\\phi(s)) \\end{pmatrix} $ and taking the derivative of \\ref{eq:repellingOECS} with respect to $ s $ leads to:\n",
    "\n",
    "\\begin{align*}\n",
    "(\\nabla_x S \\mathbf{e}_1)\\mathbf{e}_1 + S\\mathbf{e}_2\\dot{\\phi} &= \\langle \\nabla_x s_1, \\mathbf{e}_1 \\rangle I \\mathbf{e}_1 + \\lambda_1\\mathbf{e}_2\\dot{\\phi} \\\\\n",
    "((S\\mathbf{e}_2)-s_1\\mathbf{e}_2)\\dot{\\phi} & = (\\langle \\nabla_x s_1, \\mathbf{e}_1 \\rangle I - (\\nabla_x S \\mathbf{e}_1)) \\mathbf{e}_1 \\\\\n",
    "(s_2 - s_1)\\dot{\\phi} &= - \\mathbf{e}_2^T (\\nabla_x S \\mathbf{e}_1)\\mathbf{e}_1, \n",
    "\\end{align*}\n",
    "\n",
    "where we used the property $ S\\mathbf{e}_2 = \\lambda_2 \\mathbf{e}_2 $ and $ \\langle \\mathbf{e}_1, \\dfrac{d}{ds}\\mathbf{e}_1 \\rangle = \\langle \\mathbf{e}_1, \\mathbf{e}_2 \\rangle = 0 $ for an incompressible flow. Assuming again incompressibility $ \\lambda_2 = \\dfrac{1}{\\lambda_1} $ it eventually holds:\n",
    "\n",
    "\\begin{equation}\n",
    "\\dot{\\phi} = \\dfrac{1}{2s_1}\\mathbf{e}_2^T (\\nabla_x S \\mathbf{e}_1)\\mathbf{e}_1\n",
    "\\label{eq: repellingOECS_phi}\n",
    "\\end{equation}\n",
    "\n",
    "Writing out the RHS of \\ref{eq: repellingOECS_phi} leads to:\n",
    "For a two-dimensional velocity field, repelling LCS thus need to satisfy the three dimensional ODE:\n",
    "\\begin{align*}\n",
    "\\dfrac{d}{ds}\\mathbf{x} &= \\mathbf{e}_1 \\\\\n",
    "\\dfrac{d}{ds}\\phi &= \\dfrac{1}{2s_1}\\mathbf{e}_2^T (\\nabla_x S \\mathbf{e}_1)\\mathbf{e}_1\n",
    "\\end{align*}"
   ]
  },
  {
   "cell_type": "markdown",
   "metadata": {
    "ExecuteTime": {
     "end_time": "2021-11-01T23:39:36.870325Z",
     "start_time": "2021-11-01T23:39:36.851375Z"
    }
   },
   "source": [
    "\\begin{align*}\n",
    "\\mathbf{x}' &= \\mathbf{e}_1(\\phi(s)) = \\begin{pmatrix} \\cos(\\phi) \\\\ \\sin(\\phi) \\end{pmatrix} \\\\\n",
    "\\phi' &= \\dfrac{1}{2s_1} (\\sin(\\phi)\\cos(\\phi)^2(-S_x^{11}+S_y^{12}+S_x^{22})+\\sin(\\phi)^2\\cos(\\phi)(-S_y^{11}-S_x^{12}+S_y^{22})+S_x^{12}\\cos(\\phi)^3-S_y^{12}\\sin(\\phi)^3)\n",
    "\\end{align*}"
   ]
  },
  {
   "cell_type": "code",
   "execution_count": 1,
   "metadata": {
    "ExecuteTime": {
     "end_time": "2021-10-30T17:49:59.970544Z",
     "start_time": "2021-10-30T17:49:59.967417Z"
    }
   },
   "outputs": [],
   "source": [
    "import sys, os\n",
    "\n",
    "# get current directory\n",
    "path = os.getcwd()\n",
    "\n",
    "# get parent directory\n",
    "parent_directory = os.path.sep.join(path.split(os.path.sep)[:-2])\n",
    "\n",
    "# add Algorithm folder to current working path\n",
    "sys.path.append(parent_directory+\"/General_Functions\")"
   ]
  },
  {
   "cell_type": "code",
   "execution_count": 2,
   "metadata": {
    "ExecuteTime": {
     "end_time": "2021-10-30T17:50:00.397486Z",
     "start_time": "2021-10-30T17:49:59.972179Z"
    },
    "hide_input": false
   },
   "outputs": [],
   "source": [
    "from math import cos, sin, sqrt, pi\n",
    "from ipynb.fs.defs.check_location import check_location\n",
    "\n",
    "def _tensorline_equation(t, x_phi, interp_phi_prime, interp_s, X, Y, defined_domain):\n",
    "    \n",
    "    x, y, phi = x_phi[0], x_phi[1], x_phi[2]%(2*pi)\n",
    "    \n",
    "    if check_location(X, Y, defined_domain, x_phi[:2], True)[0] == \"IN\":\n",
    "        \n",
    "        if abs(abs(interp_s(y, x)[0][0])) > 10**(-1):  \n",
    "        \n",
    "            phi_dot = interp_phi_prime([y, x, phi])[0]\n",
    "        \n",
    "            s_dot = -phi_dot\n",
    "        \n",
    "            x_dot = cos(phi)\n",
    "            y_dot = sin(phi)\n",
    "    \n",
    "            norm = sqrt(1+phi_dot**2)\n",
    "    \n",
    "            return [x_dot/norm, y_dot/norm, phi_dot/norm]\n",
    "\n",
    "        else:\n",
    "            return [0, 0, 0]\n",
    "   \n",
    "    else:\n",
    "        \n",
    "        return [0, 0, 0]"
   ]
  }
 ],
 "metadata": {
  "kernelspec": {
   "display_name": "Python 3",
   "language": "python",
   "name": "python3"
  },
  "language_info": {
   "codemirror_mode": {
    "name": "ipython",
    "version": 3
   },
   "file_extension": ".py",
   "mimetype": "text/x-python",
   "name": "python",
   "nbconvert_exporter": "python",
   "pygments_lexer": "ipython3",
   "version": "3.7.11"
  },
  "toc": {
   "base_numbering": 1,
   "nav_menu": {},
   "number_sections": true,
   "sideBar": true,
   "skip_h1_title": false,
   "title_cell": "Table of Contents",
   "title_sidebar": "Contents",
   "toc_cell": false,
   "toc_position": {},
   "toc_section_display": true,
   "toc_window_display": true
  }
 },
 "nbformat": 4,
 "nbformat_minor": 5
}
