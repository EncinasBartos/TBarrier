{
 "cells": [
  {
   "cell_type": "code",
   "execution_count": 3,
   "metadata": {},
   "outputs": [],
   "source": [
    "import sys, os\n",
    "\n",
    "# get current directory\n",
    "path = os.getcwd()\n",
    "\n",
    "# get parent directory\n",
    "parent_directory = os.path.sep.join(path.split(os.path.sep)[:-2])\n",
    "\n",
    "# add Algorithm folder to current working path\n",
    "sys.path.append(parent_directory+\"/Src\")"
   ]
  },
  {
   "cell_type": "code",
   "execution_count": 5,
   "metadata": {},
   "outputs": [],
   "source": [
    "from ipynb.fs.defs.scaling_vector_field import _scaling_vector_field\n",
    "import numpy as np\n",
    "\n",
    "def _RK4_tensorlines(X, Y, Z, x, x_prime, ds, vector_field):\n",
    "        \n",
    "    # Define starting point.\n",
    "    x1 = x\n",
    "        \n",
    "    # Compute x_prime at the beginning of the time-step\n",
    "    x_prime = _scaling_vector_field(X, Y, Z, x1, x_prime, vector_field)\n",
    "    print(\"x_prime: \", x_prime)\n",
    "    k1 = ds * x_prime\n",
    "\n",
    "    #  position and time at the first midpoint.\n",
    "    x2 = x1 + .5 * k1\n",
    "        \n",
    "    # Compute x_prime at the first midpoint.\n",
    "    x_prime = _scaling_vector_field(X, Y, Z, x2, x_prime, vector_field)\n",
    "    k2 = ds * x_prime\n",
    "\n",
    "    # Update position at the second midpoint.\n",
    "    x3 = x1 + .5 * k2\n",
    "    \n",
    "    # Compute velocity at the second midpoint.\n",
    "    x_prime = _scaling_vector_field(X, Y, Z, x3, x_prime, vector_field)\n",
    "    k3 = ds * x_prime\n",
    "    \n",
    "    # Update position at the endpoint.\n",
    "    x4 = x1 + k3\n",
    "    \n",
    "    # Compute velocity at the end of the time-step.\n",
    "    x_prime = _scaling_vector_field(X, Y, Z, x4, x_prime, vector_field) \n",
    "    k4 = ds * x_prime\n",
    "    \n",
    "    # define list for velocity and positions of particle\n",
    "    x_prime_update = []\n",
    "    x_update = []\n",
    "        \n",
    "    # Compute velocity\n",
    "    for j in range(3):\n",
    "        # Update velocity of particles\n",
    "        x_prime_update.append(1.0 / 6.0*(k1[j] + 2 * k2[j] + 2 * k3[j] + k4[j])/ds)\n",
    "    \n",
    "    # Integration x <-- x + x_prime*ds\n",
    "    for j in range(3):\n",
    "        # Update position of particles\n",
    "        x_update.append(x[j] + x_prime_update[j]*ds)\n",
    "\n",
    "    x_update = np.array(x_update)\n",
    "    x_prime_update = np.array(x_prime_update)\n",
    "    \n",
    "    return x_update, x_prime_update"
   ]
  }
 ],
 "metadata": {
  "kernelspec": {
   "display_name": "Python 3",
   "language": "python",
   "name": "python3"
  },
  "language_info": {
   "codemirror_mode": {
    "name": "ipython",
    "version": 3
   },
   "file_extension": ".py",
   "mimetype": "text/x-python",
   "name": "python",
   "nbconvert_exporter": "python",
   "pygments_lexer": "ipython3",
   "version": "3.7.11"
  },
  "toc": {
   "base_numbering": 1,
   "nav_menu": {},
   "number_sections": true,
   "sideBar": true,
   "skip_h1_title": false,
   "title_cell": "Table of Contents",
   "title_sidebar": "Contents",
   "toc_cell": false,
   "toc_position": {},
   "toc_section_display": true,
   "toc_window_display": false
  }
 },
 "nbformat": 4,
 "nbformat_minor": 4
}
