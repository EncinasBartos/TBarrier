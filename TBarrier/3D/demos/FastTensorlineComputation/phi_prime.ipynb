{
 "cells": [
  {
   "cell_type": "code",
   "execution_count": null,
   "metadata": {},
   "outputs": [],
   "source": [
    "def _phi_prime(X, Y, C11, C12, C22, C11_x, C11_y, C12_x, C12_y, C22_x, C22_y, Ncores):\n",
    "    \n",
    "    import numpy as np\n",
    "    from tqdm.notebook import tqdm\n",
    "    from joblib import Parallel, delayed\n",
    "    \n",
    "    phi = np.linspace(0, 2*np.pi, 180)\n",
    "    \n",
    "    def parallelization(i, X, Y, phi, C11, C12, C22, C11_x, C11_y, C12_x, C12_y, C22_x, C22_y):\n",
    "        \n",
    "        phi_prime = np.zeros((X.shape[1], phi.shape[0]))\n",
    "        \n",
    "        for j in range(X.shape[1]):\n",
    "            \n",
    "            x = np.array([X[i, j], Y[i, j]])\n",
    "\n",
    "            for p in range(phi.shape[0]):\n",
    "    \n",
    "                inner_product_C11 = C11_x[i, j]*np.cos(phi[p])+C11_y[i, j]*np.sin(phi[p])\n",
    "                inner_product_C12 = C12_x[i, j]*np.cos(phi[p])+C12_y[i, j]*np.sin(phi[p])\n",
    "                inner_product_C22 = C22_x[i, j]*np.cos(phi[p])+C22_y[i, j]*np.sin(phi[p])\n",
    "\n",
    "                phi_prime_num = np.cos(phi[p])**2*inner_product_C11\n",
    "                phi_prime_num += np.sin(2*phi[p])*inner_product_C12\n",
    "                phi_prime_num += np.sin(phi[p])**2*inner_product_C22\n",
    "    \n",
    "                phi_prime_denom = np.sin(2*phi[p])*(C22[i, j]-C11[i, j])\n",
    "                phi_prime_denom +=  2*np.cos(2*phi[p])*C12[i, j]\n",
    "    \n",
    "                phi_prime[j, p] = -phi_prime_num/phi_prime_denom\n",
    "        \n",
    "        return phi_prime\n",
    "\n",
    "    phi_prime = np.array(Parallel(n_jobs=Ncores, verbose = 0)(delayed(parallelization)(i, X, Y, phi, C11, C12, C22, C11_x, C11_y, C12_x, C12_y, C22_x, C22_y) for i in tqdm(range(X.shape[0]))))\n",
    "\n",
    "    from scipy.interpolate import RegularGridInterpolator\n",
    "      \n",
    "    return RegularGridInterpolator((Y[:,0], X[0,:], phi), phi_prime)"
   ]
  }
 ],
 "metadata": {
  "kernelspec": {
   "display_name": "Python 3",
   "language": "python",
   "name": "python3"
  },
  "language_info": {
   "codemirror_mode": {
    "name": "ipython",
    "version": 3
   },
   "file_extension": ".py",
   "mimetype": "text/x-python",
   "name": "python",
   "nbconvert_exporter": "python",
   "pygments_lexer": "ipython3",
   "version": "3.7.11"
  },
  "toc": {
   "base_numbering": 1,
   "nav_menu": {},
   "number_sections": true,
   "sideBar": true,
   "skip_h1_title": false,
   "title_cell": "Table of Contents",
   "title_sidebar": "Contents",
   "toc_cell": false,
   "toc_position": {},
   "toc_section_display": true,
   "toc_window_display": false
  }
 },
 "nbformat": 4,
 "nbformat_minor": 4
}
