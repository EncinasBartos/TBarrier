{
 "cells": [
  {
   "cell_type": "markdown",
   "metadata": {},
   "source": [
    "\\begin{align*}\n",
    "\\mathbf{x}' &= \\mathbf{e}_{\\phi} \\\\\n",
    "\\phi' &= -\\dfrac{\\cos^2(\\phi)\\langle \\nabla_x C^{11}(\\mathbf{x}), \\mathbf{e}_{\\phi}\\rangle+\\sin(2\\phi)\\langle \\nabla_xC^{12}(\\mathbf{x}), \\mathbf{e}_{\\phi}\\rangle+\\sin^2(\\mathbf{x})\\langle \\nabla_x C^{22}(\\mathbf{x}), \\mathbf{e}_{\\phi}\\rangle}{\\sin(2\\phi)(C^{22}(\\mathbf{x})-C^{11}(\\mathbf{x}))+2\\cos(2\\phi)C^{12}(\\mathbf{x})} \n",
    "\\end{align*}"
   ]
  },
  {
   "cell_type": "code",
   "execution_count": null,
   "metadata": {
    "hide_input": false
   },
   "outputs": [],
   "source": [
    "import numpy as np\n",
    "\n",
    "def _OECS(x_phi, interp_phi_prime):\n",
    "    \n",
    "    x = x_phi[0]\n",
    "    y = x_phi[1]\n",
    "    phi = x_phi[2]%(2*np.pi)\n",
    "    \n",
    "    x_prime = np.cos(phi)\n",
    "    y_prime = np.sin(phi)\n",
    "    \n",
    "    phi_prime = interp_phi_prime(np.array([y, x, phi]))[0]\n",
    "    \n",
    "    return np.array([x_prime, y_prime, phi_prime])"
   ]
  }
 ],
 "metadata": {
  "kernelspec": {
   "display_name": "Python 3",
   "language": "python",
   "name": "python3"
  },
  "language_info": {
   "codemirror_mode": {
    "name": "ipython",
    "version": 3
   },
   "file_extension": ".py",
   "mimetype": "text/x-python",
   "name": "python",
   "nbconvert_exporter": "python",
   "pygments_lexer": "ipython3",
   "version": "3.7.11"
  },
  "toc": {
   "base_numbering": 1,
   "nav_menu": {},
   "number_sections": true,
   "sideBar": true,
   "skip_h1_title": false,
   "title_cell": "Table of Contents",
   "title_sidebar": "Contents",
   "toc_cell": false,
   "toc_position": {},
   "toc_section_display": true,
   "toc_window_display": true
  }
 },
 "nbformat": 4,
 "nbformat_minor": 5
}
