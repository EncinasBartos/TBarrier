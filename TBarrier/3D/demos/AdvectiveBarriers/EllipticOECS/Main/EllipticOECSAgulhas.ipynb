{
 "cells": [
  {
   "cell_type": "markdown",
   "metadata": {},
   "source": [
    "# Add Folders to Path"
   ]
  },
  {
   "cell_type": "code",
   "execution_count": 1,
   "metadata": {
    "ExecuteTime": {
     "end_time": "2021-11-30T18:35:58.599187Z",
     "start_time": "2021-11-30T18:35:58.595179Z"
    }
   },
   "outputs": [],
   "source": [
    "%%time\n",
    "import sys, os\n",
    "\n",
    "# get current directory\n",
    "path = os.getcwd()\n",
    "\n",
    "# get parent directory\n",
    "parent_directory = os.path.sep.join(path.split(os.path.sep)[:-4])\n",
    "\n",
    "# add utils folder to current working path\n",
    "sys.path.append(parent_directory+\"/Src/utils\")\n",
    "\n",
    "# add integration folder to current working path\n",
    "sys.path.append(parent_directory+\"/Src/integration\")\n",
    "\n",
    "# add EllipticOECS folder to current working path in order to access the functions\n",
    "sys.path.append(parent_directory+\"/Demos/AdvectiveBarriers/EllipticOECS\")"
   ]
  },
  {
   "cell_type": "code",
   "execution_count": 2,
   "metadata": {
    "ExecuteTime": {
     "end_time": "2021-11-30T18:35:59.086038Z",
     "start_time": "2021-11-30T18:35:58.600682Z"
    }
   },
   "outputs": [],
   "source": [
    "# Suppress numba warnings arising from computation falling back into object mode.\n",
    "from numba.core.errors import NumbaDeprecationWarning\n",
    "import warnings\n",
    "\n",
    "warnings.simplefilter('ignore', category=NumbaDeprecationWarning)"
   ]
  },
  {
   "cell_type": "markdown",
   "metadata": {},
   "source": [
    "# Overview\n",
    "\n",
    "In the following notebok we extract elliptic OECS in the Agulhas region from the AVISO dataset. The notebook is structured as follows:\n",
    "\n",
    "* Import data from the file 'Agulhas_AVISO.mat' stored in the folder 'Data'\n",
    "<br />\n",
    "* Define computational parameters (such as the number of cores) and variables\n",
    " <br />\n",
    "* Define spatio-temporal domain over which to compute the elliptic OECS.\n",
    " <br />\n",
    "* Interpolate velocity from the (discrete) gridded data using a cubic spline interpolation <br />\n",
    "* Compute rate of strain tensor $ \\mathbf{S}(\\mathbf{x}, t) $ over meshgrid of initial conditions '$ \\mathbf{x} $' at time '$t$' <br />\n",
    "* Compute elliptic OECS as closed null geodesics of $ \\mathbf{S}(\\mathbf{x}, t)-\\mu I $."
   ]
  },
  {
   "cell_type": "markdown",
   "metadata": {},
   "source": [
    "# Import Data\n",
    "\n",
    "We start by import the AVISO-data from the file 'Agulhas_AVISO.mat' stored in the folder 'Data'."
   ]
  },
  {
   "cell_type": "code",
   "execution_count": 3,
   "metadata": {
    "ExecuteTime": {
     "end_time": "2021-11-30T18:35:59.124175Z",
     "start_time": "2021-11-30T18:35:59.088079Z"
    }
   },
   "outputs": [
    {
     "name": "stdout",
     "output_type": "stream",
     "text": [
      "CPU times: user 18.5 ms, sys: 12.7 ms, total: 31.2 ms\n",
      "Wall time: 33 ms\n"
     ]
    }
   ],
   "source": [
    "%%time\n",
    "import scipy.io as sio\n",
    "\n",
    "#Import velocity data from file in data-folder\n",
    "mat_file = sio.loadmat('../../../../Data/Aviso/processed_data/Agulhas_AVISO.mat')\n",
    "\n",
    "U = mat_file['u'][:,:,::7]\n",
    "V = mat_file['v'][:,:,::7]\n",
    "x = mat_file['x']\n",
    "y = mat_file['y']\n",
    "time_data = mat_file['t'][:,::7]"
   ]
  },
  {
   "cell_type": "markdown",
   "metadata": {},
   "source": [
    "# Data/Parameters for Dynamical System"
   ]
  },
  {
   "cell_type": "code",
   "execution_count": 4,
   "metadata": {
    "ExecuteTime": {
     "end_time": "2021-11-30T18:35:59.131766Z",
     "start_time": "2021-11-30T18:35:59.127893Z"
    }
   },
   "outputs": [],
   "source": [
    "import numpy as np\n",
    "\n",
    "# number of cores to be used for parallel computing\n",
    "Ncores = 50\n",
    "\n",
    "# time resolution of data\n",
    "dt_data = time_data[0, 1]-time_data[0,0]\n",
    "\n",
    "# periodic boundary conditions\n",
    "periodic_x = False\n",
    "periodic_y = False\n",
    "periodic = [periodic_x, periodic_y]\n",
    "\n",
    "# unsteady velocity field\n",
    "bool_unsteady = True\n",
    "\n",
    "# defined domain\n",
    "defined_domain = np.isfinite(U[:,:,0]).astype(int)\n",
    "\n",
    "## compute meshgrid of dataset\n",
    "X, Y = np.meshgrid(x, y)\n",
    "\n",
    "## resolution of meshgrid\n",
    "dx_data = X[0,1]-X[0,0]\n",
    "dy_data = Y[1,0]-Y[0,0]\n",
    "\n",
    "delta = [dx_data, dy_data]"
   ]
  },
  {
   "cell_type": "markdown",
   "metadata": {},
   "source": [
    "# Spatio-Temporal Domain of Dynamical System"
   ]
  },
  {
   "cell_type": "code",
   "execution_count": 5,
   "metadata": {
    "ExecuteTime": {
     "end_time": "2021-11-30T18:35:59.136912Z",
     "start_time": "2021-11-30T18:35:59.133037Z"
    }
   },
   "outputs": [
    {
     "name": "stdout",
     "output_type": "stream",
     "text": [
      "CPU times: user 799 µs, sys: 1.05 ms, total: 1.85 ms\n",
      "Wall time: 991 µs\n"
     ]
    }
   ],
   "source": [
    "%%time\n",
    "# Time\n",
    "t_OECS = 0\n",
    "\n",
    "# store time in array\n",
    "time = np.array([t_OECS])\n",
    "\n",
    "# domain boundary (in degrees)\n",
    "xmin = -3\n",
    "xmax = 1\n",
    "ymin = -32\n",
    "ymax = -24\n",
    "\n",
    "# spacing of meshgrid (in degrees)\n",
    "dx = 0.025\n",
    "dy = 0.025\n",
    "\n",
    "x_domain = np.arange(xmin, xmax + dx, dx)\n",
    "y_domain = np.arange(ymin, ymax + dy, dy)\n",
    "\n",
    "X_domain, Y_domain = np.meshgrid(x_domain, y_domain)"
   ]
  },
  {
   "cell_type": "markdown",
   "metadata": {},
   "source": [
    "# Interpolate Velocity\n",
    "\n",
    "In order to evaluate the velocity field at arbitrary locations and times, we must interpolate the discrete velocity data. The interpolation with respect to time is always linear. The interpolation with respect to space can be chosen to be \"cubic\" or \"linear\". In order to favour a smooth velocity field, we interpolate the velocity field in space using a cubic interpolant. "
   ]
  },
  {
   "cell_type": "code",
   "execution_count": 6,
   "metadata": {
    "ExecuteTime": {
     "end_time": "2021-11-30T18:35:59.212460Z",
     "start_time": "2021-11-30T18:35:59.139480Z"
    }
   },
   "outputs": [
    {
     "name": "stdout",
     "output_type": "stream",
     "text": [
      "CPU times: user 50.3 ms, sys: 16.7 ms, total: 67 ms\n",
      "Wall time: 70.4 ms\n"
     ]
    }
   ],
   "source": [
    "%%time\n",
    "# Import interpolation function for unsteady flow field\n",
    "from ipynb.fs.defs.Interpolant import interpolant_unsteady\n",
    "\n",
    "# Interpolate velocity data using cubic spatial interpolation\n",
    "Interpolant = interpolant_unsteady(X, Y, U, V, time_data, method = \"cubic\")"
   ]
  },
  {
   "cell_type": "markdown",
   "metadata": {},
   "source": [
    "# Rate of strain tensor over meshgrid of initial conditions\n",
    "\n",
    "The rate of strain tensor $ S(\\mathbf{x}, t) $ at time $ t $ is computed by iterating over meshgrid. The method *DS._spin_tensor(x, t)* computes the rate of strain tensor at point $ \\mathbf{x} $  at time $ t $ by using an auxiliary meshgrid. 'aux_grid' specifies the ratio between the auxiliary grid and the original meshgrid. This parameter is generally chosen to be between $ [\\dfrac{1}{10}, \\dfrac{1}{100}] $. The computations are parallelized."
   ]
  },
  {
   "cell_type": "code",
   "execution_count": 7,
   "metadata": {
    "ExecuteTime": {
     "end_time": "2021-11-30T18:36:11.988686Z",
     "start_time": "2021-11-30T18:35:59.214320Z"
    }
   },
   "outputs": [
    {
     "data": {
      "application/vnd.jupyter.widget-view+json": {
       "model_id": "b1df26cdca504106a7f3d0b73aa9c428",
       "version_major": 2,
       "version_minor": 0
      },
      "text/plain": [
       "  0%|          | 0/535 [00:00<?, ?it/s]"
      ]
     },
     "metadata": {},
     "output_type": "display_data"
    },
    {
     "name": "stdout",
     "output_type": "stream",
     "text": [
      "CPU times: user 5.07 s, sys: 1.23 s, total: 6.31 s\n",
      "Wall time: 12.8 s\n"
     ]
    }
   ],
   "source": [
    "%%time\n",
    "# Import package for progress bar\n",
    "from tqdm.notebook import tqdm\n",
    "\n",
    "# Import package for parallel computing\n",
    "from joblib import Parallel, delayed\n",
    "\n",
    "# Import gradient of velocity function\n",
    "from ipynb.fs.defs.gradient_velocity import gradient_velocity\n",
    "\n",
    "# Import Rate of Strain function\n",
    "from ipynb.fs.defs.RateStrain import RateStrain\n",
    "\n",
    "# Define ratio of auxiliary grid spacing vs original grid_spacing\n",
    "aux_grid_ratio = .1 # [1/10, 1/100]\n",
    "aux_grid = [aux_grid_ratio*(X_domain[0, 1]-X_domain[0, 0]), aux_grid_ratio*(Y_domain[1, 0]-Y_domain[0, 0])]\n",
    "\n",
    "def parallel_S(i):\n",
    "    \n",
    "    S_parallel = np.zeros((X_domain.shape[1], 2, 2))\n",
    "    \n",
    "    for j in range(S_parallel.shape[0]):\n",
    "        \n",
    "        x = np.array([X_domain[i,j], Y_domain[i,j]])\n",
    "        \n",
    "        # Compute gradient of velocity\n",
    "        grad_vel = gradient_velocity(t_OECS, x, X, Y, Interpolant, periodic, defined_domain, bool_unsteady, dt_data, delta, aux_grid)\n",
    "        \n",
    "        # Compute rate of strain at 'x'\n",
    "        S_parallel[j, :, :] = RateStrain(grad_vel)\n",
    "    \n",
    "    return S_parallel\n",
    "\n",
    "S = np.array(Parallel(n_jobs=Ncores, verbose = 0)(delayed(parallel_S)(i) for i in tqdm(range(X_domain.shape[0]))))"
   ]
  },
  {
   "cell_type": "markdown",
   "metadata": {},
   "source": [
    "# Compute Tensorfield Properties"
   ]
  },
  {
   "cell_type": "markdown",
   "metadata": {},
   "source": [
    "We now compute the properties of the rate of strain tensor 'S' such as the eigenvalues 's1', 's2' and eigenvectors 'eigenv1', 'eigenv2'. Furthermore, we also need the spatial derivatives of the elements of 'S'."
   ]
  },
  {
   "cell_type": "code",
   "execution_count": 8,
   "metadata": {
    "ExecuteTime": {
     "end_time": "2021-11-30T18:36:19.173530Z",
     "start_time": "2021-11-30T18:36:11.990572Z"
    }
   },
   "outputs": [],
   "source": [
    "# Import (cubic) RectBivariateSpline from scipy\n",
    "from scipy.interpolate import RectBivariateSpline as RBS\n",
    "        \n",
    "# Compute gradients of elements of rate of strain tensor\n",
    "\n",
    "S11 = np.nan_to_num(S[:,:,0,0], nan=0.0)\n",
    "S12 = np.nan_to_num(S[:,:,0,1], nan=0.0)\n",
    "S22 = np.nan_to_num(S[:,:,1,1], nan=0.0)\n",
    "    \n",
    "# Interpolate elements of rate of strain tensor (per default: cubic)\n",
    "interp_S11 = RBS(Y_domain[:,0], X_domain[0,:], S11)\n",
    "interp_S12 = RBS(Y_domain[:,0], X_domain[0,:], S12)\n",
    "interp_S22 = RBS(Y_domain[:,0], X_domain[0,:], S22)\n",
    "\n",
    "# Initialize arrays\n",
    "S11x = np.zeros((S.shape[0], S.shape[1]))*np.nan\n",
    "S11y = np.zeros((S.shape[0], S.shape[1]))*np.nan\n",
    "S12x = np.zeros((S.shape[0], S.shape[1]))*np.nan\n",
    "S12y = np.zeros((S.shape[0], S.shape[1]))*np.nan\n",
    "S22x = np.zeros((S.shape[0], S.shape[1]))*np.nan\n",
    "S22y = np.zeros((S.shape[0], S.shape[1]))*np.nan\n",
    "    \n",
    "# Define auxilary meshgrid\n",
    "rho_x = aux_grid[0]\n",
    "rho_y = aux_grid[1]\n",
    "        \n",
    "#iterate over meshgrid\n",
    "for i in range(X_domain.shape[0]):\n",
    "        \n",
    "    for j in range(Y_domain.shape[1]):\n",
    "            \n",
    "        x = [X_domain[i,j], Y_domain[i, j]]\n",
    "        \n",
    "        # compute derivatives using auxiliary grid and finite-differencing\n",
    "        S11x[i, j] = (interp_S11(x[1], x[0]+rho_x)[0][0]-interp_S11(x[1], x[0]-rho_x)[0][0])/(2*rho_x)\n",
    "        S11y[i, j] = (interp_S11(x[1]+rho_y, x[0])[0][0]-interp_S11(x[1]-rho_y, x[0])[0][0])/(2*rho_y)\n",
    "        \n",
    "        S12x[i, j] = (interp_S12(x[1], x[0]+rho_x)[0][0]-interp_S12(x[1], x[0]-rho_x)[0][0])/(2*rho_x)\n",
    "        S12y[i, j] = (interp_S12(x[1]+rho_y, x[0])[0][0]-interp_S12(x[1]-rho_y, x[0])[0][0])/(2*rho_y)\n",
    "            \n",
    "        S22x[i, j] = (interp_S22(x[1], x[0]+rho_x)[0][0]-interp_S22(x[1], x[0]-rho_x)[0][0])/(2*rho_x)\n",
    "        S22y[i, j] = (interp_S22(x[1]+rho_y, x[0])[0][0]-interp_S22(x[1]-rho_y, x[0])[0][0])/(2*rho_y)"
   ]
  },
  {
   "cell_type": "markdown",
   "metadata": {},
   "source": [
    "# Interpolate $ \\dot{\\phi}(x, y, \\phi)$ "
   ]
  },
  {
   "cell_type": "code",
   "execution_count": 9,
   "metadata": {
    "ExecuteTime": {
     "end_time": "2021-11-30T18:36:20.869525Z",
     "start_time": "2021-11-30T18:36:19.175180Z"
    }
   },
   "outputs": [
    {
     "name": "stdout",
     "output_type": "stream",
     "text": [
      "CPU times: user 2.96 s, sys: 2.79 s, total: 5.74 s\n",
      "Wall time: 1.69 s\n"
     ]
    }
   ],
   "source": [
    "%%time\n",
    "from ipynb.fs.defs.phi_prime import _phi_prime\n",
    "\n",
    "# Interpolant phi_phrime, interpolant indicating domain of existence (= denominator of phi_prime)\n",
    "interp_phi_prime, interp_DOE = _phi_prime(X_domain, Y_domain, S11, S12, S22, S11x, S11y, S12x, S12y, S22x, S22y)"
   ]
  },
  {
   "cell_type": "markdown",
   "metadata": {},
   "source": [
    "# Find closed null-geodesics of $ S − \\mu I $\n",
    "\n",
    "Elliptic OECSs are closed null geodesics of the one-parameter family of Lorentzian metrics $ S(\\mathbf{x}, t) − \\mu $. $ \\mu ∈ \\mathbb{R} $ denotes the tangential stretch rate along an elliptic OECS. For perfectly coherent elliptic OECS with no tangential stretchin (=filamentation) it holds that $ \\mu = 0 $.  "
   ]
  },
  {
   "cell_type": "code",
   "execution_count": null,
   "metadata": {
    "ExecuteTime": {
     "start_time": "2021-11-30T18:35:58.769Z"
    }
   },
   "outputs": [
    {
     "name": "stdout",
     "output_type": "stream",
     "text": [
      "Compute elliptic OECS for mu = -0.01\n"
     ]
    },
    {
     "data": {
      "application/vnd.jupyter.widget-view+json": {
       "model_id": "114d5d26412c4578b2674a84b08a7271",
       "version_major": 2,
       "version_minor": 0
      },
      "text/plain": [
       "  0%|          | 0/3423 [00:00<?, ?it/s]"
      ]
     },
     "metadata": {},
     "output_type": "display_data"
    },
    {
     "name": "stdout",
     "output_type": "stream",
     "text": [
      "Finished integration of closed null geodesics\n",
      "No elliptic OECS found for mu =  -0.01\n",
      "Compute elliptic OECS for mu = -0.008\n"
     ]
    },
    {
     "data": {
      "application/vnd.jupyter.widget-view+json": {
       "model_id": "47121295e57b4191ba485bc2b8850ac3",
       "version_major": 2,
       "version_minor": 0
      },
      "text/plain": [
       "  0%|          | 0/3408 [00:00<?, ?it/s]"
      ]
     },
     "metadata": {},
     "output_type": "display_data"
    },
    {
     "name": "stdout",
     "output_type": "stream",
     "text": [
      "Finished integration of closed null geodesics\n",
      "7246 elliptic OECS found for mu = -0.008\n",
      "Compute elliptic OECS for mu = -0.006\n"
     ]
    },
    {
     "data": {
      "application/vnd.jupyter.widget-view+json": {
       "model_id": "eff807ecda1743d7be146a1510173daf",
       "version_major": 2,
       "version_minor": 0
      },
      "text/plain": [
       "  0%|          | 0/3410 [00:00<?, ?it/s]"
      ]
     },
     "metadata": {},
     "output_type": "display_data"
    },
    {
     "name": "stdout",
     "output_type": "stream",
     "text": [
      "Finished integration of closed null geodesics\n",
      "1 elliptic OECS found for mu = -0.006\n",
      "Compute elliptic OECS for mu = -0.003\n"
     ]
    },
    {
     "data": {
      "application/vnd.jupyter.widget-view+json": {
       "model_id": "8cade46b06b6499282e5c376e8abf2da",
       "version_major": 2,
       "version_minor": 0
      },
      "text/plain": [
       "  0%|          | 0/3419 [00:00<?, ?it/s]"
      ]
     },
     "metadata": {},
     "output_type": "display_data"
    },
    {
     "name": "stdout",
     "output_type": "stream",
     "text": [
      "Finished integration of closed null geodesics\n",
      "2 elliptic OECS found for mu = -0.003\n",
      "Compute elliptic OECS for mu = -0.001\n"
     ]
    },
    {
     "data": {
      "application/vnd.jupyter.widget-view+json": {
       "model_id": "3390d0d47165419bbf63e789562329d3",
       "version_major": 2,
       "version_minor": 0
      },
      "text/plain": [
       "  0%|          | 0/3412 [00:00<?, ?it/s]"
      ]
     },
     "metadata": {},
     "output_type": "display_data"
    },
    {
     "name": "stdout",
     "output_type": "stream",
     "text": [
      "Finished integration of closed null geodesics\n",
      "2 elliptic OECS found for mu = -0.001\n",
      "Compute elliptic OECS for mu = 0.001\n"
     ]
    },
    {
     "data": {
      "application/vnd.jupyter.widget-view+json": {
       "model_id": "76ad13b44fa541fe88f2591dcf8f8f05",
       "version_major": 2,
       "version_minor": 0
      },
      "text/plain": [
       "  0%|          | 0/3411 [00:00<?, ?it/s]"
      ]
     },
     "metadata": {},
     "output_type": "display_data"
    },
    {
     "name": "stdout",
     "output_type": "stream",
     "text": [
      "Finished integration of closed null geodesics\n",
      "3 elliptic OECS found for mu = 0.001\n",
      "Compute elliptic OECS for mu = 0.003\n"
     ]
    },
    {
     "data": {
      "application/vnd.jupyter.widget-view+json": {
       "model_id": "e10c75dabcfa4c9292c456ee469c7ee9",
       "version_major": 2,
       "version_minor": 0
      },
      "text/plain": [
       "  0%|          | 0/3409 [00:00<?, ?it/s]"
      ]
     },
     "metadata": {},
     "output_type": "display_data"
    }
   ],
   "source": [
    "%%time\n",
    "# Import function to extract closed null geodesics\n",
    "from ipynb.fs.defs.closed_null_geodesics import _closed_null_geodesics\n",
    "\n",
    "# extract elliptic OECS from closed null geodesics\n",
    "from ipynb.fs.defs.elliptic_OECS import _elliptic_OECS\n",
    "\n",
    "# define mu range\n",
    "mu_min = -0.01\n",
    "mu_max = 0.01\n",
    "n_mu = 10\n",
    "mu_range = np.linspace(mu_min, mu_max, n_mu)\n",
    "\n",
    "# parameter specifying sparsity of initial conditions. \n",
    "# Increasing this parameter reduces the number of initial conditions and thereby reduces the computational time involved.\n",
    "# For maximal accuracy set sparse_ic = 1. This implies that we use the resolution of the meshgrid. \n",
    "# This value should always be at least 1.\n",
    "sparse_ic = 1\n",
    "\n",
    "# threshold distance for periodicity of trajectory\n",
    "d_threshold = dx\n",
    "\n",
    "# compute Elliptic OECS\n",
    "# If you do not want to use parallel computing, then set n_jobs = 1\n",
    "elliptic_OECS = []\n",
    "\n",
    "# Initial conditions of mu\n",
    "init_mu_range = []\n",
    "\n",
    "for mu in mu_range:\n",
    "    \n",
    "    print(\"Compute elliptic OECS for mu =\", np.around(mu, 3))\n",
    "    \n",
    "    # Define list storing x, y coordinates of elliptic OECS\n",
    "    x_elliptic, y_elliptic = [], []\n",
    "    \n",
    "    # Find all closed null geodesics\n",
    "    closed_null_geodesics, init_mu = _closed_null_geodesics(X_domain, Y_domain, mu, interp_phi_prime, d_threshold, S11, interp_DOE, sparse_ic, Ncores)\n",
    "    \n",
    "    # Append initial conditions to list \n",
    "    init_mu_range.append(init_mu)\n",
    "        \n",
    "    # Extract elliptic OECS\n",
    "    x_elliptic, y_elliptic = _elliptic_OECS(closed_null_geodesics)\n",
    "    \n",
    "    if x_elliptic is not None:\n",
    "    \n",
    "        print(np.str(len(x_elliptic)) + \" elliptic OECS found for mu = \" + np.str(np.around(mu, 3)))\n",
    "            \n",
    "        elliptic_OECS.append([x_elliptic, y_elliptic])\n",
    "        \n",
    "    else:\n",
    "        \n",
    "        print(\"No elliptic OECS found for mu = \", np.around(mu, 3))"
   ]
  },
  {
   "cell_type": "code",
   "execution_count": null,
   "metadata": {
    "ExecuteTime": {
     "start_time": "2021-11-30T18:35:58.770Z"
    }
   },
   "outputs": [],
   "source": [
    "######################################## Plot elliptic OECS ########################################\n",
    "\n",
    "# import plotting library\n",
    "import matplotlib.pyplot as plt\n",
    "import matplotlib as mpl\n",
    "\n",
    "# Define figure/axes\n",
    "fig = plt.figure(figsize = (16, 10), dpi = 300)\n",
    "ax = plt.axes()\n",
    "\n",
    "# Define norm/cmap\n",
    "norm = mpl.colors.Normalize(vmin=mu_range.min(), vmax=mu_range.max())\n",
    "cmap = mpl.cm.ScalarMappable(norm=norm, cmap='gist_rainbow_r')#mpl.cm.jet)\n",
    "\n",
    "# Iterate over all elliptic OECS and plot\n",
    "for i in range(len(elliptic_OECS)):\n",
    "    \n",
    "    ax.scatter(init_mu_range[i][0], init_mu_range[i][1], s = 1, color=cmap.to_rgba(mu_range[i]))\n",
    "    \n",
    "    if elliptic_OECS[i][0] is not None:\n",
    "    \n",
    "        for j in range(len(elliptic_OECS[i][0])):\n",
    "        \n",
    "            if elliptic_OECS[i][0][j] is not None:\n",
    "        \n",
    "                ax.plot(elliptic_OECS[i][0][j], elliptic_OECS[i][1][j], c=cmap.to_rgba(mu_range[i]), linewidth = 2)\n",
    "\n",
    "# Set axis limits\n",
    "ax.set_xlim([xmin, xmax])\n",
    "ax.set_ylim([ymin, ymax])\n",
    "\n",
    "# Set axis labels\n",
    "ax.set_xlabel(\"long (deg)\", fontsize = 16)\n",
    "ax.set_ylabel(\"lat (deg)\", fontsize = 16)\n",
    "\n",
    "# Colorbar\n",
    "cbar = fig.colorbar(cmap, ticks=[mu_range.min(), 0, mu_range.max()])\n",
    "cbar.ax.set_ylabel(r'$ \\mu $', rotation = 0, fontsize = 10)\n",
    "\n",
    "# Title\n",
    "ax.set_title(\"Elliptic OECS\", fontsize = 20)\n",
    "plt.show();"
   ]
  },
  {
   "cell_type": "code",
   "execution_count": null,
   "metadata": {},
   "outputs": [],
   "source": []
  }
 ],
 "metadata": {
  "kernelspec": {
   "display_name": "Python 3",
   "language": "python",
   "name": "python3"
  },
  "language_info": {
   "codemirror_mode": {
    "name": "ipython",
    "version": 3
   },
   "file_extension": ".py",
   "mimetype": "text/x-python",
   "name": "python",
   "nbconvert_exporter": "python",
   "pygments_lexer": "ipython3",
   "version": "3.7.11"
  },
  "toc": {
   "base_numbering": 1,
   "nav_menu": {},
   "number_sections": true,
   "sideBar": true,
   "skip_h1_title": false,
   "title_cell": "Table of Contents",
   "title_sidebar": "Contents",
   "toc_cell": false,
   "toc_position": {},
   "toc_section_display": true,
   "toc_window_display": false
  }
 },
 "nbformat": 4,
 "nbformat_minor": 4
}
