{
 "cells": [
  {
   "cell_type": "markdown",
   "metadata": {},
   "source": [
    "We start by adding the necessary folders to the current working path."
   ]
  },
  {
   "cell_type": "code",
   "execution_count": null,
   "metadata": {
    "ExecuteTime": {
     "end_time": "2022-03-04T15:34:23.468511Z",
     "start_time": "2022-03-04T15:34:23.460374Z"
    },
    "code_folding": [
     0
    ]
   },
   "outputs": [],
   "source": [
    "# import sys/os\n",
    "import sys, os\n",
    "\n",
    "# get current directory\n",
    "path = os.getcwd()\n",
    "\n",
    "# get parent directory\n",
    "parent_directory = os.path.sep.join(path.split(os.path.sep)[:-4])\n",
    "\n",
    "# add utils folder to current working path\n",
    "sys.path.append(parent_directory+\"/subfunctions/utils\")\n",
    "\n",
    "# add integration folder to current working path\n",
    "sys.path.append(parent_directory+\"/subfunctions/integration\")\n",
    "\n",
    "# add 'FTLE3D' folder to current working path in order to access the functions\n",
    "sys.path.append(parent_directory+\"/demos/AdvectiveBarriers/FTLE3D\")"
   ]
  },
  {
   "cell_type": "markdown",
   "metadata": {},
   "source": [
    "# Overview\n",
    "\n",
    "In the following notebook we illustrate the numerical implementation and the use of the Mz-criterion on the three-dimensional, unsteady ABC-flow. The velocity field is given as discrete dataset defined over the 3D meshgrid $ [0,2\\pi]^3 $. The notebook is structured as follows:\n",
    "\n",
    "1. Import data from the file 'ABCunsteady.mat' stored in the folder 'data/ABC'.\n",
    "<br />\n",
    "2. Define computational parameters and data.\n",
    " <br />\n",
    "3. Define spatio-temporal domain.\n",
    " <br />\n",
    "4. Interpolate velocity from (discrete) gridded data.\n",
    " <br />\n",
    "5. $ \\mathrm{Mz-criterion} $:\n",
    "\n",
    "    * Compute the strain acceleration tensor $ \\mathbf{M}(\\mathbf{x}, t) $ along every trajectory launched at $ \\mathbf{x}_0 $ over the time-interval $ t \\in [t_0, t_N] $.\n",
    "    \n",
    "    \\begin{equation}\n",
    "    \\mathbf{M}(\\mathbf{x}, t) = \\dfrac{D\\mathbf{S}}{Dt} + \\mathbf{S}\\mathbf{\\nabla v}+(\\mathbf{\\nabla v})^T\\mathbf{S}\n",
    "    \\end{equation}\n",
    "    \n",
    "    <br />\n",
    "    \n",
    "    * If the trajectory $ \\mathbf{x}(t) $ at time $ t $ satisfies $ \\mathbf{M}(\\mathbf{x}, t) \\succ 0 $, then it is in a hyperbolic flow region. Otherwise, if $ \\mathbf{M}(\\mathbf{x}, t) $ is indefinite, then it is in an elliptic flow region.\n",
    "    \n",
    "    * Compute the total time spent in a hyperbolic flow region ($ \\tau_H $) of the trajectory $ \\mathbf{x}(t) $ launched from $ \\mathbf{x}_0 $ over the time-interval $ [t_0, t_N] $.\n",
    "    \n",
    "    * Compute the total time spent in an elliptic flow region ($ \\tau_E $) of the trajectory $ \\mathbf{x}(t) $ launched from $ \\mathbf{x}_0 $ over the time-interval $ [t_0, t_N] $.\n",
    "    \n",
    "    $ \\tau_H $ and $ \\tau_E $ are then plotted with respect to the initial position of the particles.\n",
    "    \n",
    " <br />    \n",
    "6. References"
   ]
  },
  {
   "cell_type": "markdown",
   "metadata": {},
   "source": [
    "# Import data"
   ]
  },
  {
   "cell_type": "code",
   "execution_count": null,
   "metadata": {
    "ExecuteTime": {
     "end_time": "2022-03-04T15:34:24.196977Z",
     "start_time": "2022-03-04T15:34:23.493391Z"
    },
    "code_folding": [
     0
    ]
   },
   "outputs": [],
   "source": [
    "# import scipy\n",
    "import scipy.io as sio\n",
    "\n",
    "# Import velocity data from file in data-folder\n",
    "mat_file = sio.loadmat('../../../../data/ABC/ABCunsteady.mat')\n",
    "\n",
    "U = mat_file['u'] # array (NY, NX, NZ)\n",
    "V = mat_file['v'] # array (NY, NX, NZ)\n",
    "W = mat_file['w'] # array (NY, NX, NZ)\n",
    "x = mat_file['x'] # array (1, NX)\n",
    "y = mat_file['y'] # array (1, NY)\n",
    "z = mat_file['z'] # array (1, NZ)\n",
    "time_data = mat_file['t']"
   ]
  },
  {
   "cell_type": "markdown",
   "metadata": {},
   "source": [
    "# Computational parameters and data\n",
    "\n",
    "Here we define the computational parameters and the data."
   ]
  },
  {
   "cell_type": "code",
   "execution_count": null,
   "metadata": {
    "ExecuteTime": {
     "end_time": "2022-03-04T15:34:24.270479Z",
     "start_time": "2022-03-04T15:34:24.200997Z"
    },
    "code_folding": [
     0
    ]
   },
   "outputs": [],
   "source": [
    "# import numpy\n",
    "import numpy as np\n",
    "\n",
    "# Number of cores for parallel computing\n",
    "Ncores = 7 # int\n",
    "\n",
    "# Periodic boundary conditions\n",
    "periodic_x = True # bool\n",
    "periodic_y = True # bool\n",
    "periodic_z = True # bool\n",
    "periodic = [periodic_x, periodic_y, periodic_z]\n",
    "\n",
    "# Unsteady velocity field\n",
    "bool_unsteady = True # bool\n",
    "\n",
    "# Defined domain\n",
    "defined_domain = np.isfinite(U).astype(int) # array (NY, NX, NZ)\n",
    "\n",
    "## Compute meshgrid of dataset\n",
    "X, Y, Z = np.meshgrid(x, y, z) # array (NY, NX), array (NY, NX, NZ)\n",
    "\n",
    "## Resolution of meshgrid\n",
    "dx_data = X[0,1,0]-X[0,0,0] # float\n",
    "dy_data = Y[1,0,0]-Y[0,0,0] # float\n",
    "dz_data = Y[0,0,1]-Z[0,0,0] # float\n",
    "\n",
    "delta = [dx_data, dy_data, dx_data] # list (3, )"
   ]
  },
  {
   "cell_type": "markdown",
   "metadata": {},
   "source": [
    "# Spatio-temporal domain\n",
    "\n",
    "Here we define the spatio-temporal domain over which to consider the dynamical system."
   ]
  },
  {
   "cell_type": "code",
   "execution_count": null,
   "metadata": {
    "ExecuteTime": {
     "end_time": "2022-03-04T15:34:24.302336Z",
     "start_time": "2022-03-04T15:34:24.275340Z"
    },
    "code_folding": [
     0
    ]
   },
   "outputs": [],
   "source": [
    "# Initial time\n",
    "t0 = 0 # float\n",
    "\n",
    "# Final time\n",
    "tN = 20 # float\n",
    "\n",
    "# Time step-size\n",
    "dt = 0.1 # float\n",
    "\n",
    "# NOTE: For computing the backward FTLE field tN < t0 and dt < 0.\n",
    "\n",
    "time = np.arange(t0, tN+dt, dt) # shape (Nt,)\n",
    "\n",
    "# Length of time interval\n",
    "lenT = abs(tN-t0) # float\n",
    "\n",
    "# boundaries\n",
    "xmin = 0 # float\n",
    "xmax = 2*np.pi # float\n",
    "ymin = 0 # float\n",
    "ymax = 2*np.pi # float\n",
    "zmin = 0 # float\n",
    "zmax = 2*np.pi # float\n",
    "\n",
    "# Resolution of meshgrid\n",
    "Ny = 100 # int\n",
    "Nx = 100 # int\n",
    "Nz = 100 # int\n",
    "\n",
    "x_domain = np.linspace(xmin, xmax, Nx, endpoint = True) # array (Nx, )\n",
    "y_domain = np.linspace(ymin, ymax, Ny, endpoint = True) # array (Ny, )\n",
    "z_domain = np.linspace(zmin, zmax, Nz, endpoint = True) # array (Nz, )\n",
    "\n",
    "dx = x_domain[1]-x_domain[0] # float\n",
    "dy = y_domain[1]-y_domain[0] # float\n",
    "dz = z_domain[1]-z_domain[0] # float\n",
    "\n",
    "X_domain, Y_domain, Z_domain = np.meshgrid(x_domain, y_domain, z_domain) # array (Ny, Nx, Nz)\n",
    "\n",
    "Ny = X_domain.shape[0] # int\n",
    "Nx = X_domain.shape[1] # int\n",
    "Nz = X_domain.shape[2] # int\n",
    "\n",
    "# auxiliary grid spacing\n",
    "aux_grid = [0.1*dx, 0.1*dy, 0.1*dz] # list (3,)"
   ]
  },
  {
   "cell_type": "markdown",
   "metadata": {},
   "source": [
    "# Interpolate velocity\n",
    "\n",
    "In order to evaluate the velocity field at arbitrary locations, we interpolate the discrete velocity data. The interpolation with respect to time and space is linear."
   ]
  },
  {
   "cell_type": "code",
   "execution_count": null,
   "metadata": {
    "ExecuteTime": {
     "end_time": "2022-03-04T15:34:24.470142Z",
     "start_time": "2022-03-04T15:34:24.306204Z"
    },
    "code_folding": [
     0
    ]
   },
   "outputs": [],
   "source": [
    "# Import interpolation function for unsteady flow field\n",
    "from ipynb.fs.defs.Interpolant import interpolant_unsteady\n",
    "\n",
    "# Set nan values to zero (in case there are any) so that we can apply interpolant. \n",
    "# Interpolant does not work if the array contains nan values. \n",
    "U[np.isnan(U)] = 0\n",
    "V[np.isnan(V)] = 0\n",
    "W[np.isnan(W)] = 0\n",
    "\n",
    "# Interpolate velocity data using cubic spatial interpolation\n",
    "Interpolant = interpolant_unsteady(X, Y, Z, U, V, W, time_data)\n",
    "\n",
    "Interpolant_u = Interpolant[0] # RectangularBivariateSpline-object\n",
    "Interpolant_v = Interpolant[1] # RectangularBivariateSpline-object\n",
    "Interpolant_w = Interpolant[2] # RectangularBivariateSpline-object"
   ]
  },
  {
   "cell_type": "markdown",
   "metadata": {},
   "source": [
    "# Hyperbolicity/Ellipticity time $ \\tau_{\\mathcal{H}}, \\tau_{\\mathcal{E}} $\n",
    "\n",
    "Next, we compute the time spent in hyperbolic and elliptic flow regions by particles launched from $ \\mathbf{x}_0 $ at time $ t_0 $"
   ]
  },
  {
   "cell_type": "code",
   "execution_count": null,
   "metadata": {
    "ExecuteTime": {
     "end_time": "2022-03-04T15:34:24.548446Z",
     "start_time": "2022-03-04T15:34:24.473277Z"
    },
    "code_folding": [
     0,
     13,
     17
    ],
    "run_control": {
     "marked": false
    }
   },
   "outputs": [],
   "source": [
    "# Import function to compute trajectories/velocity along trajectories\n",
    "from ipynb.fs.defs.integration_dFdt import integration_dFdt\n",
    "\n",
    "# Import function to compute gradient of velocity\n",
    "from ipynb.fs.defs.gradient_velocity import gradient_velocity\n",
    "\n",
    "# Import function to compute eigenvalues\n",
    "from ipynb.fs.defs.eigen import eigen\n",
    "\n",
    "# Import package for parallel computing\n",
    "from joblib import Parallel, delayed\n",
    "\n",
    "# Split x0, y0 into 'Ncores' equal batches for parallel computing\n",
    "def split(a, n):\n",
    "    k, m = divmod(len(a), n)\n",
    "    return (a[i*k+min(i, m):(i+1)*k+min(i+1, m)] for i in range(n))\n",
    "\n",
    "def tau_Hyperbolicity_Ellipticity(x0_batch, y0_batch, z0_batch):\n",
    "    \n",
    "    # Initial conditions\n",
    "    X0 = np.array([x0_batch, y0_batch, z0_batch])  # array (2, Nx*Ny)\n",
    "    \n",
    "    # Compute velocity along trajectories\n",
    "    Fmap = integration_dFdt(time, X0, X, Y, Z, Interpolant_u, Interpolant_v, Interpolant_w, periodic, bool_unsteady)[0] # shape (Nt, 3, Nx*Ny)\n",
    "\n",
    "    M = np.zeros((Fmap.shape[0], 3, 3, Fmap.shape[-1]))\n",
    "    \n",
    "    Hyperbolicity = np.zeros((M.shape[0], M.shape[-1]))\n",
    "    Ellipticity = np.zeros((M.shape[0], M.shape[-1]))\n",
    "    \n",
    "    for i in range(Fmap.shape[0]-1):\n",
    "        \n",
    "        if np.around(i/(Fmap.shape[0]-1)*100, 2) % 2 == 0:\n",
    "            \n",
    "            print(\"Percentage completed: \", np.around(i/(Fmap.shape[0]-1)*100, 2))\n",
    "          \n",
    "        # Compute gradient of velocity field\n",
    "        grad_vel = gradient_velocity(time[i], Fmap[i,:,:], X, Y, Z, Interpolant_u, Interpolant_v, Interpolant_w, periodic, bool_unsteady, aux_grid) # (3,3,Nx*Ny)\n",
    "        \n",
    "        # Compute rate of strain tensor\n",
    "        S = .5*(grad_vel+grad_vel.transpose(1,0,2))\n",
    "        \n",
    "        # Compute gradient of velocity field at t+dt in order to evaluate partial derivative of S with respect to t\n",
    "        grad_vel_dt = gradient_velocity(time[i+1], Fmap[i+1,:,:], X, Y, Z, Interpolant_u, Interpolant_v, Interpolant_w, periodic, bool_unsteady, aux_grid) # (3,3,Nx*Ny)\n",
    "        \n",
    "        # Compute rate of strain tensor at t + dt\n",
    "        S_dt = .5*(grad_vel_dt+grad_vel_dt.transpose(1,0,2))\n",
    "        \n",
    "        for ii in range(Fmap.shape[-1]):\n",
    "        \n",
    "            M[i,:,:,ii] = (S_dt[:,:,ii]-S[:,:,ii])/(time[i+1]-time[i])+S[:,:,ii]@grad_vel[:,:,ii]+grad_vel[:,:,ii].transpose()@S[:,:,ii]\n",
    "            lambda_min = eigen(M[i,:,:,ii])[0][-1]\n",
    "            \n",
    "            if lambda_min > 0:\n",
    "                Hyperbolicity[i,ii] = 1\n",
    "            \n",
    "            elif lambda_min < 0:\n",
    "                Ellipticity[i,ii] = 1\n",
    "    \n",
    "    tau_Hyperbolicity = np.sum(Hyperbolicity, axis = 0)*dt\n",
    "    tau_Ellipticity = np.sum(Ellipticity, axis = 0)*dt\n",
    "    \n",
    "    return tau_Hyperbolicity, tau_Ellipticity"
   ]
  },
  {
   "cell_type": "markdown",
   "metadata": {},
   "source": [
    "## XY-plane\n",
    "\n",
    "Compute $ \\mathrm{\\tau}_H, \\mathrm{\\tau}_E $ over the 2D meshgrid on the XY-plane."
   ]
  },
  {
   "cell_type": "code",
   "execution_count": null,
   "metadata": {
    "ExecuteTime": {
     "end_time": "2022-03-04T15:35:51.709882Z",
     "start_time": "2022-03-04T15:34:24.551340Z"
    },
    "code_folding": [
     0,
     13
    ]
   },
   "outputs": [],
   "source": [
    "# Vectorize initial conditions by arranging them to a vector of size (Nx*Ny*Nz, )\n",
    "x0_xy = X_domain[:,:,-1].ravel() # array (Nx*Ny, )\n",
    "y0_xy = Y_domain[:,:,-1].ravel() # array (Nx*Ny, )\n",
    "z0_xy = Z_domain[:,:,-1].ravel() # array (Nx*Ny, )\n",
    "\n",
    "x0_batch = list(split(x0_xy, Ncores)) # list (Nx*Ny)\n",
    "y0_batch = list(split(y0_xy, Ncores)) # list (Nx*Ny)\n",
    "z0_batch = list(split(z0_xy, Ncores)) # list (Nx*Ny)\n",
    "results = Parallel(n_jobs=Ncores, verbose = 2)(delayed(tau_Hyperbolicity_Ellipticity)(x0_batch[i], y0_batch[i], z0_batch[i]) for i in range(len(x0_batch)))\n",
    "\n",
    "# Extract results of hyperbolicity and ellipticity time computation on xy-plane\n",
    "tau_Hyperbolicity_xy = results[0][0]\n",
    "tau_Ellipticity_xy = results[0][1]\n",
    "for res in results[1:]:\n",
    "    tau_Hyperbolicity_xy = np.append(tau_Hyperbolicity_xy, res[0], axis = -1)\n",
    "    tau_Ellipticity_xy = np.append(tau_Ellipticity_xy, res[1], axis = -1)\n",
    "\n",
    "# reshape vectorized arrays to structured array\n",
    "X0_xy = np.array(x0_xy).reshape(Ny,Nx) # array (Ny, Nx)\n",
    "Y0_xy = np.array(y0_xy).reshape(Ny,Nx) # array (Ny, Nx)\n",
    "Z0_xy = np.array(z0_xy).reshape(Ny,Nx) # array (Ny, Nx)\n",
    "tau_Hyperbolicity_xy = np.array(tau_Hyperbolicity_xy).reshape(Ny,Nx) # array (Ny, Nx)\n",
    "tau_Ellipticity_xy = np.array(tau_Ellipticity_xy).reshape(Ny,Nx) # array (Ny, Nx)"
   ]
  },
  {
   "cell_type": "markdown",
   "metadata": {},
   "source": [
    "## XZ-plane\n",
    "\n",
    "Compute $ \\mathrm{\\tau}_H, \\mathrm{\\tau}_E $ over the 2D meshgrid on the XZ-plane."
   ]
  },
  {
   "cell_type": "code",
   "execution_count": null,
   "metadata": {
    "ExecuteTime": {
     "end_time": "2022-03-04T15:37:10.851695Z",
     "start_time": "2022-03-04T15:35:51.713041Z"
    },
    "code_folding": [
     0
    ]
   },
   "outputs": [],
   "source": [
    "# Vectorize initial conditions by arranging them to a vector of size (Nx*Ny*Nz, )\n",
    "x0_xz = X_domain[0,:,:].ravel() # array (Nx*Nz, )\n",
    "y0_xz = Y_domain[0,:,:].ravel() # array (Nx*Nz, )\n",
    "z0_xz = Z_domain[0,:,:].ravel() # array (Nx*Nz, )\n",
    "\n",
    "x0_batch = list(split(x0_xz, Ncores)) # list (Nx*Nz)\n",
    "y0_batch = list(split(y0_xz, Ncores)) # list (Nx*Nz)\n",
    "z0_batch = list(split(z0_xz, Ncores)) # list (Nx*Nz)\n",
    "results = Parallel(n_jobs=Ncores, verbose = 2)(delayed(tau_Hyperbolicity_Ellipticity)(x0_batch[i], y0_batch[i], z0_batch[i]) for i in range(len(x0_batch)))\n",
    "\n",
    "# Extract results of hyperbolicity and ellipticity time computation on xy-plane\n",
    "tau_Hyperbolicity_xz = results[0][0]\n",
    "tau_Ellipticity_xz = results[0][1]\n",
    "for res in results[1:]:\n",
    "    tau_Hyperbolicity_xz = np.append(tau_Hyperbolicity_xz, res[0], axis = -1)\n",
    "    tau_Ellipticity_xz = np.append(tau_Ellipticity_xz, res[1], axis = -1)\n",
    "\n",
    "# reshape vectorized arrays to structured array\n",
    "X0_xz= np.array(x0_xz).reshape(Nz,Nx) # array (Nz, Nx)\n",
    "Y0_xz = np.array(y0_xz).reshape(Nz,Nx) # array (Nz, Nx)\n",
    "Z0_xz = np.array(z0_xz).reshape(Nz,Nx) # array (Nz, Nx)\n",
    "tau_Hyperbolicity_xz = np.array(tau_Hyperbolicity_xz).reshape(Nz,Nx) # array (Ny, Nx)\n",
    "tau_Ellipticity_xz = np.array(tau_Ellipticity_xz).reshape(Nz,Nx) # array (Ny, Nx)"
   ]
  },
  {
   "cell_type": "markdown",
   "metadata": {},
   "source": [
    "## YZ-plane\n",
    "\n",
    "Compute $ \\mathrm{\\tau}_H, \\mathrm{\\tau}_E $ over the 2D meshgrid on the YZ-plane."
   ]
  },
  {
   "cell_type": "code",
   "execution_count": null,
   "metadata": {
    "ExecuteTime": {
     "end_time": "2022-03-04T15:38:30.136655Z",
     "start_time": "2022-03-04T15:37:10.858171Z"
    },
    "code_folding": [
     0
    ]
   },
   "outputs": [],
   "source": [
    "# Vectorize initial conditions by arranging them to a vector of size (Nx*Ny*Nz, )\n",
    "x0_yz = X_domain[:,0,:].ravel() # array (Nx*Ny, )\n",
    "y0_yz = Y_domain[:,0,:].ravel() # array (Nx*Ny, )\n",
    "z0_yz = Z_domain[:,0,:].ravel() # array (Nx*Ny, )\n",
    "\n",
    "x0_batch = list(split(x0_yz, Ncores)) # list (Nx*Ny)\n",
    "y0_batch = list(split(y0_yz, Ncores)) # list (Nx*Ny)\n",
    "z0_batch = list(split(z0_yz, Ncores)) # list (Nx*Ny)\n",
    "results = Parallel(n_jobs=Ncores, verbose = 2)(delayed(tau_Hyperbolicity_Ellipticity)(x0_batch[i], y0_batch[i], z0_batch[i]) for i in range(len(x0_batch)))\n",
    "\n",
    "# Extract results of hyperbolicity and ellipticity time computation on xy-plane\n",
    "tau_Hyperbolicity_yz = results[0][0]\n",
    "tau_Ellipticity_yz = results[0][1]\n",
    "for res in results[1:]:\n",
    "    tau_Hyperbolicity_yz = np.append(tau_Hyperbolicity_yz, res[0], axis = -1)\n",
    "    tau_Ellipticity_yz = np.append(tau_Ellipticity_yz, res[1], axis = -1)\n",
    "\n",
    "# reshape vectorized arrays to structured array\n",
    "X0_yz= np.array(x0_yz).reshape(Nz,Ny) # array (Nz, Nx)\n",
    "Y0_yz = np.array(y0_yz).reshape(Nz,Ny) # array (Nz, Nx)\n",
    "Z0_yz = np.array(z0_yz).reshape(Nz,Ny) # array (Nz, Nx)\n",
    "tau_Hyperbolicity_yz = np.array(tau_Hyperbolicity_yz).reshape(Nz,Ny) # array (Ny, Nx)\n",
    "tau_Ellipticity_yz = np.array(tau_Ellipticity_yz).reshape(Nz,Ny) # array (Ny, Nx)"
   ]
  },
  {
   "cell_type": "markdown",
   "metadata": {
    "ExecuteTime": {
     "end_time": "2022-03-01T10:22:11.313157Z",
     "start_time": "2022-03-01T10:22:11.310999Z"
    }
   },
   "source": [
    "###### Hyperbolicity time $ \\tau_H $"
   ]
  },
  {
   "cell_type": "code",
   "execution_count": null,
   "metadata": {
    "ExecuteTime": {
     "end_time": "2022-03-04T15:39:57.434134Z",
     "start_time": "2022-03-04T15:39:56.492171Z"
    },
    "code_folding": [
     19
    ]
   },
   "outputs": [],
   "source": [
    "# Import plotly for 3D figures\n",
    "from plotly import graph_objs as go\n",
    "\n",
    "# define minimum and maximum values for colorbar\n",
    "min_value = min(np.min(tau_Hyperbolicity_yz),min(np.min(tau_Hyperbolicity_xy), np.min(tau_Hyperbolicity_xz)))\n",
    "max_value = max(np.max(tau_Hyperbolicity_yz),max(np.max(tau_Hyperbolicity_xy), np.max(tau_Hyperbolicity_xz)))\n",
    "\n",
    "# create figure\n",
    "fig = go.Figure(data=[go.Surface(x = X0_xy, y = Y0_xy, z = Z0_xy, surfacecolor = tau_Hyperbolicity_xy, showscale = True, colorscale='rainbow', cmin=min_value, cmax=max_value)])\n",
    "fig.add_trace(go.Surface(x = X0_xz, y = Y0_xz, z = Z0_xz, surfacecolor = tau_Hyperbolicity_xz, showscale = False, colorscale='rainbow', cmin=min_value, cmax=max_value))\n",
    "fig.add_trace(go.Surface(x = X0_yz, y = Y0_yz, z = Z0_yz, surfacecolor = tau_Hyperbolicity_yz, showscale = False, colorscale='rainbow', cmin=min_value, cmax=max_value))\n",
    "fig.add_trace(go.Surface(x = X0_xy, y = Y0_xy, z = Z0_xy-2*np.pi, surfacecolor = tau_Hyperbolicity_xy, showscale = False, colorscale='rainbow', cmin=min_value, cmax=max_value))\n",
    "fig.add_trace(go.Surface(x = X0_xz, y = Y0_xz+2*np.pi, z = Z0_xz, surfacecolor = tau_Hyperbolicity_xz, showscale = False, colorscale='rainbow', cmin=min_value, cmax=max_value))\n",
    "fig.add_trace(go.Surface(x = X0_yz+2*np.pi, y = Y0_yz, z = Z0_yz, surfacecolor = tau_Hyperbolicity_yz, showscale = False, colorscale='rainbow', cmin=min_value, cmax=max_value))\n",
    "\n",
    "# camera\n",
    "camera = dict(eye=dict(x=-1.45,y=-1.45,z=1.7))\n",
    "fig.update_layout(scene_camera=camera)\n",
    "\n",
    "fig.show()"
   ]
  },
  {
   "cell_type": "markdown",
   "metadata": {},
   "source": [
    "###### Ellipticity time $ \\tau_E $"
   ]
  },
  {
   "cell_type": "code",
   "execution_count": null,
   "metadata": {
    "ExecuteTime": {
     "end_time": "2022-03-04T15:39:47.179395Z",
     "start_time": "2022-03-04T15:39:46.232150Z"
    },
    "code_folding": []
   },
   "outputs": [],
   "source": [
    "# Import plotly for 3D figures\n",
    "from plotly import graph_objs as go\n",
    "\n",
    "# define minimum and maximum values for colorbar\n",
    "min_value = min(np.min(tau_Ellipticity_yz),min(np.min(tau_Ellipticity_xy), np.min(tau_Ellipticity_xz)))\n",
    "max_value = max(np.max(tau_Ellipticity_yz),max(np.max(tau_Ellipticity_xy), np.max(tau_Ellipticity_xz)))\n",
    "\n",
    "# create figure\n",
    "fig = go.Figure(data=[go.Surface(x = X0_xy, y = Y0_xy, z = Z0_xy, surfacecolor = tau_Ellipticity_xy, showscale = True, colorscale='rainbow', cmin=min_value, cmax=max_value)])\n",
    "fig.add_trace(go.Surface(x = X0_xz, y = Y0_xz, z = Z0_xz, surfacecolor = tau_Ellipticity_xz, showscale = False, colorscale='rainbow', cmin=min_value, cmax=max_value))\n",
    "fig.add_trace(go.Surface(x = X0_yz, y = Y0_yz, z = Z0_yz, surfacecolor = tau_Ellipticity_yz, showscale = False, colorscale='rainbow', cmin=min_value, cmax=max_value))\n",
    "fig.add_trace(go.Surface(x = X0_xy, y = Y0_xy, z = Z0_xy-2*np.pi, surfacecolor = tau_Ellipticity_xy, showscale = False, colorscale='rainbow', cmin=min_value, cmax=max_value))\n",
    "fig.add_trace(go.Surface(x = X0_xz, y = Y0_xz+2*np.pi, z = Z0_xz, surfacecolor = tau_Ellipticity_xz, showscale = False, colorscale='rainbow', cmin=min_value, cmax=max_value))\n",
    "fig.add_trace(go.Surface(x = X0_yz+2*np.pi, y = Y0_yz, z = Z0_yz, surfacecolor = tau_Ellipticity_yz, showscale = False, colorscale='rainbow', cmin=min_value, cmax=max_value))\n",
    "\n",
    "# camera\n",
    "camera = dict(eye=dict(x=-1.45,y=-1.45,z=1.7))\n",
    "fig.update_layout(scene_camera=camera)\n",
    "\n",
    "fig.show()"
   ]
  },
  {
   "cell_type": "markdown",
   "metadata": {},
   "source": [
    "The total time spent inside hyperbolic/elliptic regions is plotted with respect to initial positions."
   ]
  },
  {
   "cell_type": "markdown",
   "metadata": {},
   "source": [
    "# References\n",
    "\n",
    "[1] Haller, G. (2001). Lagrangian structures and the rate of strain in a partition of two-dimensional turbulence. Physics of Fluids, 13(11), 3365-3385.\n",
    "\n",
    "[2] Notebook 5.6.2 in \"Transport Barriers and Coherent Structures in Flow Data\" by Prof. George Haller."
   ]
  }
 ],
 "metadata": {
  "kernelspec": {
   "display_name": "Python 3",
   "language": "python",
   "name": "python3"
  },
  "language_info": {
   "codemirror_mode": {
    "name": "ipython",
    "version": 3
   },
   "file_extension": ".py",
   "mimetype": "text/x-python",
   "name": "python",
   "nbconvert_exporter": "python",
   "pygments_lexer": "ipython3",
   "version": "3.7.11"
  },
  "latex_envs": {
   "LaTeX_envs_menu_present": true,
   "autoclose": false,
   "autocomplete": true,
   "bibliofile": "biblio.bib",
   "cite_by": "apalike",
   "current_citInitial": 1,
   "eqLabelWithNumbers": true,
   "eqNumInitial": 1,
   "hotkeys": {
    "equation": "Ctrl-E",
    "itemize": "Ctrl-I"
   },
   "labels_anchors": false,
   "latex_user_defs": false,
   "report_style_numbering": false,
   "user_envs_cfg": false
  },
  "toc": {
   "base_numbering": "0",
   "nav_menu": {},
   "number_sections": true,
   "sideBar": true,
   "skip_h1_title": false,
   "title_cell": "Table of Contents",
   "title_sidebar": "Contents",
   "toc_cell": false,
   "toc_position": {
    "height": "calc(100% - 180px)",
    "left": "10px",
    "top": "150px",
    "width": "363.3500061035156px"
   },
   "toc_section_display": true,
   "toc_window_display": true
  }
 },
 "nbformat": 4,
 "nbformat_minor": 5
}
