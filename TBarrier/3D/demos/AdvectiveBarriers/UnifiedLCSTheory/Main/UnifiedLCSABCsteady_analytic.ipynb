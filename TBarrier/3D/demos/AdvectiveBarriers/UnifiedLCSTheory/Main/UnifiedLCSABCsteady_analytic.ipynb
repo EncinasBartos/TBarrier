{
 "cells": [
  {
<<<<<<< HEAD
   "cell_type": "markdown",
   "metadata": {
    "ExecuteTime": {
     "end_time": "2022-03-03T09:57:57.020802Z",
     "start_time": "2022-03-03T09:57:57.017682Z"
    }
   },
   "source": [
    "We start by adding the necessary folders to the current working path."
=======
   "cell_type": "code",
   "execution_count": 1,
   "metadata": {
    "ExecuteTime": {
     "end_time": "2022-02-15T12:12:04.484941Z",
     "start_time": "2022-02-15T12:12:04.469981Z"
    }
   },
   "outputs": [],
   "source": [
    "# add folders to working path"
>>>>>>> 9f629d66ae56f4b85feb5c441d44a74d1f3b2bba
   ]
  },
  {
   "cell_type": "code",
<<<<<<< HEAD
   "execution_count": 1,
   "metadata": {
    "ExecuteTime": {
     "end_time": "2022-03-04T11:05:29.475718Z",
     "start_time": "2022-03-04T11:05:29.471619Z"
=======
   "execution_count": 2,
   "metadata": {
    "ExecuteTime": {
     "end_time": "2022-02-15T12:12:04.500898Z",
     "start_time": "2022-02-15T12:12:04.485938Z"
>>>>>>> 9f629d66ae56f4b85feb5c441d44a74d1f3b2bba
    },
    "code_folding": [
     0
    ]
   },
   "outputs": [],
   "source": [
    "# import sys/os\n",
    "import sys, os\n",
    "\n",
    "# get current directory\n",
    "path = os.getcwd()\n",
    "\n",
    "# get parent directory\n",
    "parent_directory = os.path.sep.join(path.split(os.path.sep)[:-4])\n",
    "\n",
    "# add utils folder to current working path\n",
    "sys.path.append(parent_directory+\"/subfunctions/utils\")\n",
    "\n",
    "# add integration folder to current working path\n",
    "sys.path.append(parent_directory+\"/subfunctions/integration\")"
   ]
  },
  {
   "cell_type": "markdown",
   "metadata": {},
   "source": [
    "# Overview\n",
    "\n",
    "In the following notebook we compute the Poincaré Map of the three-dimensional, steady ABC-flow. The notebook is structured as follows:\n",
    "\n",
    "1. Define analytic velocity field of the three-dimensional solution of the Euler equations, the steady and spatially periodic Arnold-Beltrami-Childress (ABC) flow:\n",
    "\\begin{equation}\n",
    "\\begin{pmatrix} \\dot{x}(t) \\\\ \\dot{y}(t) \\\\ \\dot{z}(t) \\end{pmatrix} = \\begin{pmatrix} u \\\\ v \\\\ w \\end{pmatrix} = \\begin{pmatrix} \\sqrt{3}\\sin(z)+\\cos(y) \\\\ \\sqrt{2}\\sin(x) + \\sqrt{3}\\cos(z) \\\\ \\sin(y)+\\sqrt{2}\\cos(x) \\end{pmatrix}, \\quad (x,y,z) \\in [0, 2\\pi]^3\n",
    "\\label{eq: periodicABC}\n",
    "\\end{equation}\n",
    "<br />\n",
    "2. Define computational parameters.\n",
    " <br />\n",
    "3. Define spatio-temporal domain.\n",
<<<<<<< HEAD
    " <br />\n",
    "4. Poincare map:\n",
    "\n",
    "    * All 2D structurally stable invariant manifolds of the 3D direction field:\n",
    "    \n",
    "    \\begin{equation}\n",
    "    \\mathbf{x}_0'(s) = \\mathbf{\\xi}_2(\\mathbf{x}_0(s);t_0,t_N)\n",
    "    \\label{eq: relaxedLCS}\n",
    "    \\end{equation}\n",
    "    \n",
    "    are relaxed LCS. All relaxed attracting LCSs, repelling LCSs and elliptic LCSs can be sought as invariant manifolds of the same direction field \\ref{eq: relaxedLCS}, defined by the right intermediate singularvector field of the gradient of the flow map.\n",
    "        \n",
    "    <br />\n",
    "    \n",
    "    * Compute tensorlines over the dummy time-interval [0, 2*$10^4$] generated from $ \\mathbf{\\xi}_2 $, where $ \\mathbf{\\xi}_2 $ is the intermediate right singularvector-field of $ \\mathbf{\\nabla F}(\\mathbf{x},t) $. The tensorlines are launched from the Poincare section given by the z=0 plane. In order to have precise results, $ \\mathbf{\\nabla F}(\\mathbf{x},t) $ is evaluated at every dummy time-step of the tensorline integration. Hence, the computational time of this demo is more than 24hours on a 2.3 GHz 18-Core Intel Xeon W processor.\n",
    "    \n",
    "    <br />\n",
    "    \n",
    "    * Compute Poincare map by sampling tensorline trajectories which intersect the Poincare section z = 0.\n",
    " <br />\n",
    "6. References   "
=======
    " <br />"
>>>>>>> 9f629d66ae56f4b85feb5c441d44a74d1f3b2bba
   ]
  },
  {
   "cell_type": "markdown",
   "metadata": {},
   "source": [
<<<<<<< HEAD
    "# Analytic velocity field\n",
=======
    "# Define analytic velocity field\n",
>>>>>>> 9f629d66ae56f4b85feb5c441d44a74d1f3b2bba
    "\n",
    "Here we define the analytic velocity field of a steady ABC-flow. The parameters are chosen as in [1,2]."
   ]
  },
  {
   "cell_type": "code",
<<<<<<< HEAD
   "execution_count": 2,
   "metadata": {
    "ExecuteTime": {
     "end_time": "2022-03-04T11:05:29.780781Z",
     "start_time": "2022-03-04T11:05:29.494897Z"
    },
    "code_folding": [
     0,
=======
   "execution_count": 10,
   "metadata": {
    "ExecuteTime": {
     "end_time": "2022-02-15T12:17:22.729894Z",
     "start_time": "2022-02-15T12:17:22.722397Z"
    },
    "code_folding": [
>>>>>>> 9f629d66ae56f4b85feb5c441d44a74d1f3b2bba
     6,
     14,
     16,
     18,
     21,
     23,
     25,
     28,
     30,
     32
    ],
    "run_control": {
     "marked": true
    }
   },
<<<<<<< HEAD
   "outputs": [],
=======
   "outputs": [
    {
     "ename": "SyntaxError",
     "evalue": "invalid syntax (<ipython-input-10-b036c9ef3d97>, line 1)",
     "output_type": "error",
     "traceback": [
      "\u001b[1;36m  File \u001b[1;32m\"<ipython-input-10-b036c9ef3d97>\"\u001b[1;36m, line \u001b[1;32m1\u001b[0m\n\u001b[1;33m    <div class=\"burk\">\u001b[0m\n\u001b[1;37m    ^\u001b[0m\n\u001b[1;31mSyntaxError\u001b[0m\u001b[1;31m:\u001b[0m invalid syntax\n"
     ]
    }
   ],
>>>>>>> 9f629d66ae56f4b85feb5c441d44a74d1f3b2bba
   "source": [
    "# import numpy\n",
    "import numpy as np\n",
    "\n",
    "# import math tools\n",
<<<<<<< HEAD
    "from math import sqrt, pi\n",
=======
    "from math import sqrt\n",
>>>>>>> 9f629d66ae56f4b85feb5c441d44a74d1f3b2bba
    "\n",
    "def velocity(x, y, z):\n",
    "\n",
    "    u = sqrt(3)*np.sin(z)+np.cos(y)\n",
    "    v = sqrt(2)*np.sin(x)+sqrt(3)*np.cos(z)\n",
    "    w = np.sin(y)+sqrt(2)*np.cos(x)\n",
    "    \n",
    "    return np.array([u, v, w])\n",
    "\n",
    "def dudx(x, y, z):\n",
    "    return 0*x.copy()\n",
    "def dudy(x, y, z):\n",
    "    return -np.sin(y)\n",
    "def dudz(x, y, z):\n",
    "    return sqrt(3)*np.cos(z)\n",
    "\n",
    "def dvdx(x, y, z):\n",
    "    return sqrt(2)*np.cos(x)\n",
    "def dvdy(x, y, z):\n",
    "    return 0*x.copy()\n",
    "def dvdz(x, y, z):\n",
    "    return -sqrt(3)*np.sin(z)\n",
    "\n",
    "def dwdx(x, y, z):\n",
    "    return -sqrt(2)*np.sin(x)\n",
    "def dwdy(x, y, z):\n",
    "    return np.cos(y)\n",
    "def dwdz(x, y, z):\n",
    "    return 0*x.copy()"
   ]
  },
  {
   "cell_type": "markdown",
   "metadata": {},
   "source": [
    "# Computational parameters\n",
    "\n",
    "Here we define the computational parameters and the analytic velocity field."
   ]
  },
  {
   "cell_type": "code",
<<<<<<< HEAD
   "execution_count": 3,
   "metadata": {
    "ExecuteTime": {
     "end_time": "2022-03-04T11:05:29.786806Z",
     "start_time": "2022-03-04T11:05:29.782849Z"
    },
    "code_folding": [
     0
    ],
=======
   "execution_count": 4,
   "metadata": {
    "ExecuteTime": {
     "end_time": "2022-02-15T12:12:04.594834Z",
     "start_time": "2022-02-15T12:12:04.579846Z"
    },
    "code_folding": [],
>>>>>>> 9f629d66ae56f4b85feb5c441d44a74d1f3b2bba
    "run_control": {
     "marked": true
    }
   },
   "outputs": [],
   "source": [
    "# number of cores to be used for parallel computing\n",
<<<<<<< HEAD
    "Ncores = 16\n",
    "\n",
    "# dummy time interval\n",
    "ds = 0.1\n",
    "s_dummy = np.arange(0, 4*10**4, ds)"
=======
    "Ncores = 4\n",
    "\n",
    "# dummy time interval\n",
    "ds = 0.1\n",
    "s_dummy = np.arange(0, 5*10**4, ds)"
>>>>>>> 9f629d66ae56f4b85feb5c441d44a74d1f3b2bba
   ]
  },
  {
   "cell_type": "markdown",
   "metadata": {},
   "source": [
    "# Spatio-temporal domain\n",
    "\n",
    "Here we define the spatio-temporal domain over which to consider the dynamical system."
   ]
  },
  {
   "cell_type": "code",
<<<<<<< HEAD
   "execution_count": 4,
   "metadata": {
    "ExecuteTime": {
     "end_time": "2022-03-04T11:05:29.792898Z",
     "start_time": "2022-03-04T11:05:29.789315Z"
    },
    "code_folding": [
     0
    ]
   },
   "outputs": [],
   "source": [
    "# Initial time\n",
    "t0 = 0 # float\n",
    "\n",
    "# Final time\n",
    "tN = 10 # float\n",
    "\n",
    "# Time step-size\n",
    "dt = 0.1 # float\n",
    "\n",
    "time = np.arange(t0, tN+dt, dt) # shape (Nt,)\n",
    "\n",
    "# Length of time interval\n",
=======
   "execution_count": 5,
   "metadata": {
    "ExecuteTime": {
     "end_time": "2022-02-15T12:12:04.610794Z",
     "start_time": "2022-02-15T12:12:04.595831Z"
    }
   },
   "outputs": [],
   "source": [
    "# Initial time (in days)\n",
    "t0 = 0 # float\n",
    "\n",
    "# Final time (in days)\n",
    "tN = 10 # float\n",
    "\n",
    "# Time step-size (in days)\n",
    "dt = 0.05 # float\n",
    "\n",
    "# NOTE: For computing the backward FTLE field tN < t0 and dt < 0.\n",
    "\n",
    "time = np.arange(t0, tN+dt, dt) # shape (Nt,)\n",
    "\n",
    "# Length of time interval (in days)\n",
>>>>>>> 9f629d66ae56f4b85feb5c441d44a74d1f3b2bba
    "lenT = abs(tN-t0) # float\n",
    "\n",
    "# boundaries\n",
    "xmin = 0 # float\n",
    "xmax = 2*np.pi # float\n",
    "ymin = 0 # float\n",
    "ymax = 2*np.pi # float\n",
    "zmin = 0 # float\n",
    "zmax = 2*np.pi # float"
   ]
  },
  {
   "cell_type": "markdown",
   "metadata": {},
   "source": [
<<<<<<< HEAD
    "# Poincare Map"
=======
    "# Compute Cauchy-Green strain tensor"
>>>>>>> 9f629d66ae56f4b85feb5c441d44a74d1f3b2bba
   ]
  },
  {
   "cell_type": "code",
<<<<<<< HEAD
   "execution_count": 5,
   "metadata": {
    "ExecuteTime": {
     "end_time": "2022-03-04T11:05:29.834823Z",
     "start_time": "2022-03-04T11:05:29.796338Z"
    },
    "code_folding": [
     0,
     1,
     30,
     49,
     74,
     153,
     163,
     183
=======
   "execution_count": 6,
   "metadata": {
    "ExecuteTime": {
     "end_time": "2022-02-15T12:12:04.640711Z",
     "start_time": "2022-02-15T12:12:04.611789Z"
    },
    "code_folding": [
     0,
     33,
     51,
     74
>>>>>>> 9f629d66ae56f4b85feb5c441d44a74d1f3b2bba
    ],
    "hide_input": false,
    "run_control": {
     "marked": true
    }
   },
   "outputs": [],
   "source": [
<<<<<<< HEAD
    "# function to compute gradient of flow map along particle trajectories.\n",
=======
>>>>>>> 9f629d66ae56f4b85feb5c441d44a74d1f3b2bba
    "def integration_dDF_dt(time, x):\n",
    "    \n",
    "    # reshape x\n",
    "    x = x.reshape(3, -1)\n",
    "    \n",
    "    # Initialize arrays for flow map and derivative of flow map\n",
<<<<<<< HEAD
    "    Fmap = np.zeros((3, x.shape[1]))\n",
    "    DF = np.zeros((3, 3, x.shape[1]))\n",
    "    \n",
    "    # Step-size\n",
    "    dt = time[1]-time[0]\n",
    "\n",
    "    # initial conditions\n",
    "    Fmap = x\n",
    "    DF[0,0,:] = 1\n",
    "    DF[1,1,:] = 1\n",
    "    DF[2,2,:] = 1\n",
=======
    "    Fmap = np.zeros((len(time), 3, x.shape[1]))\n",
    "    dFdt = np.zeros((len(time)-1, 3, x.shape[1]))\n",
    "    DF = np.zeros((len(time), 3, 3, x.shape[1]))\n",
    "    \n",
    "    # Step-size\n",
    "    dt = time[1]-time[0]\n",
    "    \n",
    "    counter = 0\n",
    "\n",
    "    # initial conditions\n",
    "    Fmap[counter,:,:] = x\n",
    "    DF[counter,0,0,:] = 1\n",
    "    DF[counter,1,1,:] = 1\n",
    "    DF[counter,2,2,:] = 1\n",
>>>>>>> 9f629d66ae56f4b85feb5c441d44a74d1f3b2bba
    "    \n",
    "    # Runge Kutta 4th order integration with fixed step size dt\n",
    "    for t in time[:-1]:\n",
    "        \n",
    "        #if t % 0.1 == 0:\n",
    "        #    print(\"Percentage completed: \", 100*np.around(t/time[-1], 2))\n",
    "        \n",
<<<<<<< HEAD
    "        Fmap, _, DF = RK4_step(t, Fmap, DF, dt)\n",
    "    \n",
    "    return DF\n",
    "\n",
    "# function to compute gradient of the velocity\n",
=======
    "        Fmap[counter+1,:, :], dFdt[counter,:,:], DF[counter+1,:,:] = RK4_step(t, Fmap[counter,:, :], DF[counter,:,:], dt)\n",
    "    \n",
    "        counter += 1\n",
    "    \n",
    "    return Fmap, dFdt, DF\n",
    "\n",
>>>>>>> 9f629d66ae56f4b85feb5c441d44a74d1f3b2bba
    "def grad_velocity(x, y, z):\n",
    "    \n",
    "    grad_vel = np.zeros((x.shape[0], 3, 3))\n",
    "    \n",
    "    grad_vel[:,0,0] = dudx(x, y, z)\n",
    "    grad_vel[:,1,0] = dvdx(x, y, z)\n",
    "    grad_vel[:,2,0] = dwdx(x, y, z)\n",
    "    \n",
    "    grad_vel[:,0,1] = dudy(x, y, z)\n",
    "    grad_vel[:,1,1] = dvdy(x, y, z)\n",
    "    grad_vel[:,2,1] = dwdy(x, y, z)\n",
    "    \n",
    "    grad_vel[:,0,2] = dudz(x, y, z)\n",
    "    grad_vel[:,1,2] = dvdz(x, y, z)\n",
    "    grad_vel[:,2,2] = dwdz(x, y, z)\n",
    "    \n",
    "    return grad_vel\n",
    "\n",
<<<<<<< HEAD
    "# function to compute time-derivative of gradient of flow map\n",
=======
>>>>>>> 9f629d66ae56f4b85feb5c441d44a74d1f3b2bba
    "def DDFdt(X0, DF):\n",
    "    \n",
    "    x = X0[0,:]\n",
    "    y = X0[1,:]\n",
    "    z = X0[2,:]\n",
    "    \n",
    "    grad_vel = grad_velocity(x, y, z)\n",
    "    \n",
    "    grad_k = np.zeros(DF.shape)\n",
    "    \n",
    "    grad_k[0,0,:] = grad_vel[:,0,0]*DF[0,0,:]+grad_vel[:,0,1]*DF[1,0,:]+grad_vel[:,0,2]*DF[2,0,:]\n",
    "    grad_k[0,1,:] = grad_vel[:,0,0]*DF[0,1,:]+grad_vel[:,0,1]*DF[1,1,:]+grad_vel[:,0,2]*DF[2,1,:]\n",
    "    grad_k[0,2,:] = grad_vel[:,0,0]*DF[0,2,:]+grad_vel[:,0,1]*DF[1,2,:]+grad_vel[:,0,2]*DF[2,2,:]\n",
    "    \n",
    "    grad_k[1,0,:] = grad_vel[:,1,0]*DF[0,0,:]+grad_vel[:,1,1]*DF[1,0,:]+grad_vel[:,1,2]*DF[2,0,:]\n",
    "    grad_k[1,1,:] = grad_vel[:,1,0]*DF[0,1,:]+grad_vel[:,1,1]*DF[1,1,:]+grad_vel[:,1,2]*DF[2,1,:]\n",
    "    grad_k[1,2,:] = grad_vel[:,1,0]*DF[0,2,:]+grad_vel[:,1,1]*DF[1,2,:]+grad_vel[:,1,2]*DF[2,2,:]\n",
    "\n",
    "    grad_k[2,0,:] = grad_vel[:,2,0]*DF[0,0,:]+grad_vel[:,2,1]*DF[1,0,:]+grad_vel[:,2,2]*DF[2,0,:]\n",
    "    grad_k[2,1,:] = grad_vel[:,2,0]*DF[0,1,:]+grad_vel[:,2,1]*DF[1,1,:]+grad_vel[:,2,2]*DF[2,1,:]\n",
    "    grad_k[2,2,:] = grad_vel[:,2,0]*DF[0,2,:]+grad_vel[:,2,1]*DF[1,2,:]+grad_vel[:,2,2]*DF[2,2,:]\n",
    "    \n",
    "    return grad_k\n",
    "\n",
<<<<<<< HEAD
    "# 4th order Runge Kutta step integration\n",
=======
>>>>>>> 9f629d66ae56f4b85feb5c441d44a74d1f3b2bba
    "def RK4_step(t, x1, DF1, dt):\n",
    "    \n",
    "    t0 = t\n",
    "    \n",
    "    # Compute x_prime at the beginning of the time-step by re-orienting and rescaling the vector field\n",
    "    x_prime = velocity(x1[0,:], x1[1,:], x1[2,:])\n",
    "    \n",
    "    # compute derivative\n",
    "    k1 = dt * x_prime\n",
    "    \n",
    "    # Compute prime for DF\n",
    "    DDFdt1 = DDFdt(x1, DF1) * dt\n",
    "    \n",
    "    DF2 = DF1 + .5*DDFdt1\n",
    "    \n",
    "    # Update position at the first midpoint.\n",
    "    x2 = x1 + .5 * k1\n",
    "     \n",
    "    # Update time\n",
    "    t = t0 + .5*dt\n",
    "    \n",
    "    # Compute x_prime at the first midpoint.\n",
    "    x_prime = velocity(x2[0,:], x2[1,:], x2[2,:])\n",
    "    \n",
    "    # compute derivative\n",
    "    k2 = dt * x_prime\n",
    "    \n",
    "    # Compute prime for DF\n",
    "    DDFdt2 = DDFdt(x2, DF2) * dt\n",
    "    \n",
    "    DF3 = DF1 + .5*DDFdt2\n",
    "\n",
    "    # Update position at the second midpoint.\n",
    "    x3 = x1 + .5 * k2\n",
    "    \n",
    "    # Update time\n",
    "    t = t0 + .5*dt\n",
    "    \n",
    "    # Compute x_prime at the second midpoint.\n",
    "    x_prime = velocity(x3[0,:], x3[1,:], x3[2,:])\n",
    "    \n",
    "    # compute derivative\n",
    "    k3 = dt * x_prime\n",
    "    \n",
    "    # Compute prime for DF\n",
    "    DDFdt3 = DDFdt(x3, DF3) * dt\n",
    "    \n",
    "    DF4 = DF1 + DDFdt3\n",
    "    \n",
    "    # Update position at the endpoint.\n",
    "    x4 = x1 + k3\n",
    "    \n",
    "    # Compute prime for DF\n",
    "    DDFdt4 = DDFdt(x4, DF4) * dt\n",
    "    \n",
    "    # Update time\n",
    "    t = t0+dt\n",
    "    \n",
    "    # Compute derivative at the end of the time-step.\n",
    "    x_prime = velocity(x4[0,:], x4[1,:], x4[2,:]) \n",
    "    \n",
    "    # compute derivative\n",
    "    k4 = dt * x_prime\n",
    "    \n",
    "    # Compute RK4 derivative\n",
    "    y_prime_update = 1.0 / 6.0*(k1 + 2 * k2 + 2 * k3 + k4)\n",
    "    \n",
    "    DF_prime = 1.0 / 6.0*(DDFdt1 + 2 * DDFdt2 + 2 * DDFdt3 + DDFdt4)\n",
    "    \n",
    "    # Integration y <-- y + y_primeupdate\n",
    "    y_update = x1 + y_prime_update\n",
    "    \n",
    "    DF_update = DF1+DF_prime\n",
    "    \n",
<<<<<<< HEAD
    "    return y_update, y_prime_update/dt, DF_update\n",
    "\n",
    "# Import package to compute singular values/vectors of 3x3 matrix\n",
    "from ipynb.fs.defs.SVD import SVD\n",
=======
    "    return y_update, y_prime_update/dt, DF_update"
   ]
  },
  {
   "cell_type": "code",
   "execution_count": 7,
   "metadata": {
    "ExecuteTime": {
     "end_time": "2022-02-15T12:12:04.656668Z",
     "start_time": "2022-02-15T12:12:04.641709Z"
    },
    "code_folding": [
     0
    ]
   },
   "outputs": [],
   "source": [
    "# Import package to compute eigenvalues of 3x3 matrix\n",
    "from ipynb.fs.defs.eigen import eigen\n",
    "from ipynb.fs.defs.SVD3D import SVD\n",
>>>>>>> 9f629d66ae56f4b85feb5c441d44a74d1f3b2bba
    "\n",
    "def calculate_Fmap(x0_batch, y0_batch, z0_batch):\n",
    "    \n",
    "    # Initial conditions\n",
    "    X0 = np.array([x0_batch, y0_batch, z0_batch]) # array (3, Nx*Ny*Nz)\n",
    "\n",
<<<<<<< HEAD
    "    # gradient of flow map\n",
    "    gradFmap_t0_tN = integration_dDF_dt(time, X0)# array (3, 3, Nx*Ny)\n",
=======
    "    gradFmap = integration_dDF_dt(time, X0)[-1]\n",
    "\n",
    "    # Extract gradient from t0 to tN\n",
    "    gradFmap_t0_tN = gradFmap[-1,:, :, :] # array (Nt, 3, 3, Nx*Ny)\n",
>>>>>>> 9f629d66ae56f4b85feb5c441d44a74d1f3b2bba
    "    \n",
    "    return gradFmap_t0_tN\n",
    "\n",
    "def oriented_vector(x_interp, idx_eigenvector):\n",
    "    \n",
<<<<<<< HEAD
=======
    "    # CG = calculate_CG(x_interp[:,0], x_interp[:,1], x_interp[:,2])\n",
>>>>>>> 9f629d66ae56f4b85feb5c441d44a74d1f3b2bba
    "    gradFmap_t0_tN = calculate_Fmap(x_interp[:,0], x_interp[:,1], x_interp[:,2])\n",
    "    \n",
    "    eigenvector = np.zeros((gradFmap_t0_tN.shape[2], 3))*np.nan\n",
    "    \n",
    "    for i in range(gradFmap_t0_tN.shape[2]):\n",
    "        \n",
    "        P, SIG, Q = SVD(gradFmap_t0_tN[:,:,i])\n",
    "        \n",
    "        max_diff = SIG[0,0]-SIG[1,1]\n",
    "        min_diff = abs(SIG[1,1]-SIG[2,2])\n",
    "        \n",
    "        min_eigenvalue_diff = min(max_diff, min_diff)/(SIG[0,0]+SIG[1,1]+SIG[2,2])\n",
    "        \n",
    "        eigenvector[i,:] = min_eigenvalue_diff*Q[:,idx_eigenvector]\n",
    "\n",
<<<<<<< HEAD
    "    return eigenvector\n",
=======
    "    return eigenvector"
   ]
  },
  {
   "cell_type": "code",
   "execution_count": 9,
   "metadata": {
    "ExecuteTime": {
     "end_time": "2022-02-15T12:15:33.291928Z",
     "start_time": "2022-02-15T12:15:32.583822Z"
    },
    "code_folding": [
     7,
     67,
     71
    ],
    "run_control": {
     "marked": true
    }
   },
   "outputs": [
    {
     "name": "stderr",
     "output_type": "stream",
     "text": [
      "[Parallel(n_jobs=4)]: Using backend LokyBackend with 4 concurrent workers.\n"
     ]
    },
    {
     "ename": "NameError",
     "evalue": "name 's_range' is not defined",
     "output_type": "error",
     "traceback": [
      "\u001b[1;31m---------------------------------------------------------------------------\u001b[0m",
      "\u001b[1;31m_RemoteTraceback\u001b[0m                          Traceback (most recent call last)",
      "\u001b[1;31m_RemoteTraceback\u001b[0m: \n\"\"\"\nTraceback (most recent call last):\n  File \"C:\\Users\\encin\\anaconda3\\envs\\TBarrier\\lib\\site-packages\\joblib\\externals\\loky\\process_executor.py\", line 418, in _process_worker\n    r = call_item()\n  File \"C:\\Users\\encin\\anaconda3\\envs\\TBarrier\\lib\\site-packages\\joblib\\externals\\loky\\process_executor.py\", line 272, in __call__\n    return self.fn(*self.args, **self.kwargs)\n  File \"C:\\Users\\encin\\anaconda3\\envs\\TBarrier\\lib\\site-packages\\joblib\\_parallel_backends.py\", line 608, in __call__\n    return self.func(*args, **kwargs)\n  File \"C:\\Users\\encin\\anaconda3\\envs\\TBarrier\\lib\\site-packages\\joblib\\parallel.py\", line 256, in __call__\n    for func, args, kwargs in self.items]\n  File \"C:\\Users\\encin\\anaconda3\\envs\\TBarrier\\lib\\site-packages\\joblib\\parallel.py\", line 256, in <listcomp>\n    for func, args, kwargs in self.items]\n  File \"<ipython-input-9-c95cd9477fba>\", line 83, in parallel_tensorlines\nNameError: name 's_range' is not defined\n\"\"\"",
      "\nThe above exception was the direct cause of the following exception:\n",
      "\u001b[1;31mNameError\u001b[0m                                 Traceback (most recent call last)",
      "\u001b[1;32m<ipython-input-9-c95cd9477fba>\u001b[0m in \u001b[0;36m<module>\u001b[1;34m\u001b[0m\n\u001b[0;32m    106\u001b[0m \u001b[0mz0_batch\u001b[0m \u001b[1;33m=\u001b[0m \u001b[0mlist\u001b[0m\u001b[1;33m(\u001b[0m\u001b[0msplit\u001b[0m\u001b[1;33m(\u001b[0m\u001b[0mz0\u001b[0m\u001b[1;33m,\u001b[0m \u001b[0mNcores\u001b[0m\u001b[1;33m)\u001b[0m\u001b[1;33m)\u001b[0m \u001b[1;31m# list (Nx*Ny*Nz)\u001b[0m\u001b[1;33m\u001b[0m\u001b[1;33m\u001b[0m\u001b[0m\n\u001b[0;32m    107\u001b[0m \u001b[1;33m\u001b[0m\u001b[0m\n\u001b[1;32m--> 108\u001b[1;33m \u001b[0mresults\u001b[0m \u001b[1;33m=\u001b[0m \u001b[0mParallel\u001b[0m\u001b[1;33m(\u001b[0m\u001b[0mn_jobs\u001b[0m\u001b[1;33m=\u001b[0m\u001b[0mNcores\u001b[0m\u001b[1;33m,\u001b[0m \u001b[0mverbose\u001b[0m \u001b[1;33m=\u001b[0m \u001b[1;36m2\u001b[0m\u001b[1;33m)\u001b[0m\u001b[1;33m(\u001b[0m\u001b[0mdelayed\u001b[0m\u001b[1;33m(\u001b[0m\u001b[0mparallel_tensorlines\u001b[0m\u001b[1;33m)\u001b[0m\u001b[1;33m(\u001b[0m\u001b[0mx0_batch\u001b[0m\u001b[1;33m[\u001b[0m\u001b[0mi\u001b[0m\u001b[1;33m]\u001b[0m\u001b[1;33m,\u001b[0m \u001b[0my0_batch\u001b[0m\u001b[1;33m[\u001b[0m\u001b[0mi\u001b[0m\u001b[1;33m]\u001b[0m\u001b[1;33m,\u001b[0m \u001b[0mz0_batch\u001b[0m\u001b[1;33m[\u001b[0m\u001b[0mi\u001b[0m\u001b[1;33m]\u001b[0m\u001b[1;33m,\u001b[0m \u001b[0ms_dummy\u001b[0m\u001b[1;33m)\u001b[0m \u001b[1;32mfor\u001b[0m \u001b[0mi\u001b[0m \u001b[1;32min\u001b[0m \u001b[0mrange\u001b[0m\u001b[1;33m(\u001b[0m\u001b[0mlen\u001b[0m\u001b[1;33m(\u001b[0m\u001b[0mx0_batch\u001b[0m\u001b[1;33m)\u001b[0m\u001b[1;33m)\u001b[0m\u001b[1;33m)\u001b[0m\u001b[1;33m\u001b[0m\u001b[1;33m\u001b[0m\u001b[0m\n\u001b[0m\u001b[0;32m    109\u001b[0m \u001b[1;33m\u001b[0m\u001b[0m\n\u001b[0;32m    110\u001b[0m \u001b[1;31m# Extract results from parallel computation\u001b[0m\u001b[1;33m\u001b[0m\u001b[1;33m\u001b[0m\u001b[1;33m\u001b[0m\u001b[0m\n",
      "\u001b[1;32m~\\anaconda3\\envs\\TBarrier\\lib\\site-packages\\joblib\\parallel.py\u001b[0m in \u001b[0;36m__call__\u001b[1;34m(self, iterable)\u001b[0m\n\u001b[0;32m   1015\u001b[0m \u001b[1;33m\u001b[0m\u001b[0m\n\u001b[0;32m   1016\u001b[0m             \u001b[1;32mwith\u001b[0m \u001b[0mself\u001b[0m\u001b[1;33m.\u001b[0m\u001b[0m_backend\u001b[0m\u001b[1;33m.\u001b[0m\u001b[0mretrieval_context\u001b[0m\u001b[1;33m(\u001b[0m\u001b[1;33m)\u001b[0m\u001b[1;33m:\u001b[0m\u001b[1;33m\u001b[0m\u001b[1;33m\u001b[0m\u001b[0m\n\u001b[1;32m-> 1017\u001b[1;33m                 \u001b[0mself\u001b[0m\u001b[1;33m.\u001b[0m\u001b[0mretrieve\u001b[0m\u001b[1;33m(\u001b[0m\u001b[1;33m)\u001b[0m\u001b[1;33m\u001b[0m\u001b[1;33m\u001b[0m\u001b[0m\n\u001b[0m\u001b[0;32m   1018\u001b[0m             \u001b[1;31m# Make sure that we get a last message telling us we are done\u001b[0m\u001b[1;33m\u001b[0m\u001b[1;33m\u001b[0m\u001b[1;33m\u001b[0m\u001b[0m\n\u001b[0;32m   1019\u001b[0m             \u001b[0melapsed_time\u001b[0m \u001b[1;33m=\u001b[0m \u001b[0mtime\u001b[0m\u001b[1;33m.\u001b[0m\u001b[0mtime\u001b[0m\u001b[1;33m(\u001b[0m\u001b[1;33m)\u001b[0m \u001b[1;33m-\u001b[0m \u001b[0mself\u001b[0m\u001b[1;33m.\u001b[0m\u001b[0m_start_time\u001b[0m\u001b[1;33m\u001b[0m\u001b[1;33m\u001b[0m\u001b[0m\n",
      "\u001b[1;32m~\\anaconda3\\envs\\TBarrier\\lib\\site-packages\\joblib\\parallel.py\u001b[0m in \u001b[0;36mretrieve\u001b[1;34m(self)\u001b[0m\n\u001b[0;32m    907\u001b[0m             \u001b[1;32mtry\u001b[0m\u001b[1;33m:\u001b[0m\u001b[1;33m\u001b[0m\u001b[1;33m\u001b[0m\u001b[0m\n\u001b[0;32m    908\u001b[0m                 \u001b[1;32mif\u001b[0m \u001b[0mgetattr\u001b[0m\u001b[1;33m(\u001b[0m\u001b[0mself\u001b[0m\u001b[1;33m.\u001b[0m\u001b[0m_backend\u001b[0m\u001b[1;33m,\u001b[0m \u001b[1;34m'supports_timeout'\u001b[0m\u001b[1;33m,\u001b[0m \u001b[1;32mFalse\u001b[0m\u001b[1;33m)\u001b[0m\u001b[1;33m:\u001b[0m\u001b[1;33m\u001b[0m\u001b[1;33m\u001b[0m\u001b[0m\n\u001b[1;32m--> 909\u001b[1;33m                     \u001b[0mself\u001b[0m\u001b[1;33m.\u001b[0m\u001b[0m_output\u001b[0m\u001b[1;33m.\u001b[0m\u001b[0mextend\u001b[0m\u001b[1;33m(\u001b[0m\u001b[0mjob\u001b[0m\u001b[1;33m.\u001b[0m\u001b[0mget\u001b[0m\u001b[1;33m(\u001b[0m\u001b[0mtimeout\u001b[0m\u001b[1;33m=\u001b[0m\u001b[0mself\u001b[0m\u001b[1;33m.\u001b[0m\u001b[0mtimeout\u001b[0m\u001b[1;33m)\u001b[0m\u001b[1;33m)\u001b[0m\u001b[1;33m\u001b[0m\u001b[1;33m\u001b[0m\u001b[0m\n\u001b[0m\u001b[0;32m    910\u001b[0m                 \u001b[1;32melse\u001b[0m\u001b[1;33m:\u001b[0m\u001b[1;33m\u001b[0m\u001b[1;33m\u001b[0m\u001b[0m\n\u001b[0;32m    911\u001b[0m                     \u001b[0mself\u001b[0m\u001b[1;33m.\u001b[0m\u001b[0m_output\u001b[0m\u001b[1;33m.\u001b[0m\u001b[0mextend\u001b[0m\u001b[1;33m(\u001b[0m\u001b[0mjob\u001b[0m\u001b[1;33m.\u001b[0m\u001b[0mget\u001b[0m\u001b[1;33m(\u001b[0m\u001b[1;33m)\u001b[0m\u001b[1;33m)\u001b[0m\u001b[1;33m\u001b[0m\u001b[1;33m\u001b[0m\u001b[0m\n",
      "\u001b[1;32m~\\anaconda3\\envs\\TBarrier\\lib\\site-packages\\joblib\\_parallel_backends.py\u001b[0m in \u001b[0;36mwrap_future_result\u001b[1;34m(future, timeout)\u001b[0m\n\u001b[0;32m    560\u001b[0m         AsyncResults.get from multiprocessing.\"\"\"\n\u001b[0;32m    561\u001b[0m         \u001b[1;32mtry\u001b[0m\u001b[1;33m:\u001b[0m\u001b[1;33m\u001b[0m\u001b[1;33m\u001b[0m\u001b[0m\n\u001b[1;32m--> 562\u001b[1;33m             \u001b[1;32mreturn\u001b[0m \u001b[0mfuture\u001b[0m\u001b[1;33m.\u001b[0m\u001b[0mresult\u001b[0m\u001b[1;33m(\u001b[0m\u001b[0mtimeout\u001b[0m\u001b[1;33m=\u001b[0m\u001b[0mtimeout\u001b[0m\u001b[1;33m)\u001b[0m\u001b[1;33m\u001b[0m\u001b[1;33m\u001b[0m\u001b[0m\n\u001b[0m\u001b[0;32m    563\u001b[0m         \u001b[1;32mexcept\u001b[0m \u001b[0mLokyTimeoutError\u001b[0m\u001b[1;33m:\u001b[0m\u001b[1;33m\u001b[0m\u001b[1;33m\u001b[0m\u001b[0m\n\u001b[0;32m    564\u001b[0m             \u001b[1;32mraise\u001b[0m \u001b[0mTimeoutError\u001b[0m\u001b[1;33m(\u001b[0m\u001b[1;33m)\u001b[0m\u001b[1;33m\u001b[0m\u001b[1;33m\u001b[0m\u001b[0m\n",
      "\u001b[1;32m~\\anaconda3\\envs\\TBarrier\\lib\\concurrent\\futures\\_base.py\u001b[0m in \u001b[0;36mresult\u001b[1;34m(self, timeout)\u001b[0m\n\u001b[0;32m    433\u001b[0m                 \u001b[1;32mraise\u001b[0m \u001b[0mCancelledError\u001b[0m\u001b[1;33m(\u001b[0m\u001b[1;33m)\u001b[0m\u001b[1;33m\u001b[0m\u001b[1;33m\u001b[0m\u001b[0m\n\u001b[0;32m    434\u001b[0m             \u001b[1;32melif\u001b[0m \u001b[0mself\u001b[0m\u001b[1;33m.\u001b[0m\u001b[0m_state\u001b[0m \u001b[1;33m==\u001b[0m \u001b[0mFINISHED\u001b[0m\u001b[1;33m:\u001b[0m\u001b[1;33m\u001b[0m\u001b[1;33m\u001b[0m\u001b[0m\n\u001b[1;32m--> 435\u001b[1;33m                 \u001b[1;32mreturn\u001b[0m \u001b[0mself\u001b[0m\u001b[1;33m.\u001b[0m\u001b[0m__get_result\u001b[0m\u001b[1;33m(\u001b[0m\u001b[1;33m)\u001b[0m\u001b[1;33m\u001b[0m\u001b[1;33m\u001b[0m\u001b[0m\n\u001b[0m\u001b[0;32m    436\u001b[0m             \u001b[1;32melse\u001b[0m\u001b[1;33m:\u001b[0m\u001b[1;33m\u001b[0m\u001b[1;33m\u001b[0m\u001b[0m\n\u001b[0;32m    437\u001b[0m                 \u001b[1;32mraise\u001b[0m \u001b[0mTimeoutError\u001b[0m\u001b[1;33m(\u001b[0m\u001b[1;33m)\u001b[0m\u001b[1;33m\u001b[0m\u001b[1;33m\u001b[0m\u001b[0m\n",
      "\u001b[1;32m~\\anaconda3\\envs\\TBarrier\\lib\\concurrent\\futures\\_base.py\u001b[0m in \u001b[0;36m__get_result\u001b[1;34m(self)\u001b[0m\n\u001b[0;32m    382\u001b[0m     \u001b[1;32mdef\u001b[0m \u001b[0m__get_result\u001b[0m\u001b[1;33m(\u001b[0m\u001b[0mself\u001b[0m\u001b[1;33m)\u001b[0m\u001b[1;33m:\u001b[0m\u001b[1;33m\u001b[0m\u001b[1;33m\u001b[0m\u001b[0m\n\u001b[0;32m    383\u001b[0m         \u001b[1;32mif\u001b[0m \u001b[0mself\u001b[0m\u001b[1;33m.\u001b[0m\u001b[0m_exception\u001b[0m\u001b[1;33m:\u001b[0m\u001b[1;33m\u001b[0m\u001b[1;33m\u001b[0m\u001b[0m\n\u001b[1;32m--> 384\u001b[1;33m             \u001b[1;32mraise\u001b[0m \u001b[0mself\u001b[0m\u001b[1;33m.\u001b[0m\u001b[0m_exception\u001b[0m\u001b[1;33m\u001b[0m\u001b[1;33m\u001b[0m\u001b[0m\n\u001b[0m\u001b[0;32m    385\u001b[0m         \u001b[1;32melse\u001b[0m\u001b[1;33m:\u001b[0m\u001b[1;33m\u001b[0m\u001b[1;33m\u001b[0m\u001b[0m\n\u001b[0;32m    386\u001b[0m             \u001b[1;32mreturn\u001b[0m \u001b[0mself\u001b[0m\u001b[1;33m.\u001b[0m\u001b[0m_result\u001b[0m\u001b[1;33m\u001b[0m\u001b[1;33m\u001b[0m\u001b[0m\n",
      "\u001b[1;31mNameError\u001b[0m: name 's_range' is not defined"
     ]
    }
   ],
   "source": [
    "# Import package for parallel computing\n",
    "from joblib import Parallel, delayed\n",
    "\n",
    "# Import package to compute eigenvalues of 3x3 matrix\n",
    "from ipynb.fs.defs.eigen import eigen\n",
>>>>>>> 9f629d66ae56f4b85feb5c441d44a74d1f3b2bba
    "\n",
    "# 4th-order Runge Kutta integration step of xi2 tensorlines\n",
    "def RK4_xi2(x, x_prime_before, ds):\n",
    "    \n",
    "    # Define starting point.\n",
    "    x1 = x\n",
    "    \n",
    "    x1_interp = x1%(2*pi)\n",
    "    \n",
    "    # Compute x_prime at the beginning of the time-step\n",
    "    x_prime = oriented_vector(x1_interp, 1)\n",
    "    \n",
    "    x_prime_reoriented = x_prime.copy()\n",
    "    for i in range(x_prime.shape[0]):\n",
    "        x_prime_reoriented[i,:] = x_prime[i,:]*np.sign(x_prime[i,0]*x_prime_before[i,0]+x_prime[i,1]*x_prime_before[i,1]+x_prime[i,2]*x_prime_before[i,2])\n",
    "    k1 = ds * x_prime_reoriented\n",
    "    \n",
    "    #  position and time at the first midpoint.\n",
    "    x2 = x1 + .5 * k1\n",
    "    \n",
    "    x2_interp = x2%(2*pi)\n",
    "    \n",
    "    # Compute x_prime at the first midpoint.\n",
    "    x_prime = oriented_vector(x2_interp, 1)\n",
    "    \n",
    "    for i in range(x_prime.shape[0]):\n",
    "        x_prime_reoriented[i,:] = x_prime[i,:]*np.sign(x_prime[i,0]*x_prime_before[i,0]+x_prime[i,1]*x_prime_before[i,1]+x_prime[i,2]*x_prime_before[i,2])\n",
    "    \n",
    "    k2 = ds * x_prime_reoriented\n",
    "    \n",
    "    # Update position at the second midpoint.\n",
    "    x3 = x1 + .5 * k2\n",
    "    \n",
    "    x3_interp = x3%(2*pi)\n",
    "    \n",
    "    # Compute x_prime at the second midpoint.\n",
    "    x_prime = oriented_vector(x3_interp, 1)\n",
    "\n",
    "    for i in range(x_prime.shape[0]):\n",
    "        x_prime_reoriented[i,:] = x_prime[i,:]*np.sign(x_prime[i,0]*x_prime_before[i,0]+x_prime[i,1]*x_prime_before[i,1]+x_prime[i,2]*x_prime_before[i,2])\n",
    "    \n",
    "    k3 = ds * x_prime_reoriented\n",
    "    \n",
    "    # Update position at the endpoint.\n",
    "    x4 = x1 + k3\n",
    "    \n",
    "    x4_interp = x4%(2*pi)\n",
    "    \n",
    "    # Compute x_prime at the endpoint.\n",
    "    x_prime = oriented_vector(x4_interp, 1)\n",
    "    \n",
    "    for i in range(x_prime.shape[0]):\n",
    "        x_prime_reoriented[i,:] = x_prime[i,:]*np.sign(x_prime[i,0]*x_prime_before[i,0]+x_prime[i,1]*x_prime_before[i,1]+x_prime[i,2]*x_prime_before[i,2])\n",
    "    \n",
    "    k4 = ds * x_prime_reoriented\n",
    "    \n",
    "    x_prime_avg = 1.0/6.0*(k1+2*k2+2*k3+k4)\n",
    "    x_update = x+x_prime_avg\n",
    "    \n",
<<<<<<< HEAD
    "    return x_update, x_prime_avg"
   ]
  },
  {
   "cell_type": "code",
   "execution_count": 6,
   "metadata": {
    "ExecuteTime": {
     "end_time": "2022-03-04T11:05:29.867236Z",
     "start_time": "2022-03-04T11:05:29.836386Z"
    },
    "code_folding": [
     0,
     4,
     8,
     23
    ],
    "run_control": {
     "marked": true
    }
   },
   "outputs": [],
   "source": [
    "# Import package for parallel computing\n",
    "from joblib import Parallel, delayed\n",
=======
    "    return x_update, x_prime_avg\n",
>>>>>>> 9f629d66ae56f4b85feb5c441d44a74d1f3b2bba
    "\n",
    "# Split x0, y0 into 'Ncores' equal batches for parallel computing\n",
    "def split(a, n):\n",
    "    k, m = divmod(len(a), n)\n",
    "    return (a[i*k+min(i, m):(i+1)*k+min(i+1, m)] for i in range(n))\n",
    "\n",
    "def parallel_tensorlines(x0, y0, z0, s_dummy):\n",
    "    \n",
    "    X0 = np.zeros((x0.shape[0], 3))\n",
    "\n",
    "    X0[:,0] = x0\n",
    "    X0[:,1] = y0\n",
    "    X0[:,2] = z0\n",
    "\n",
    "    x_prime_before = np.zeros(X0.shape)\n",
    "    x_prime_before[:,0] = 1\n",
    "    \n",
    "    X_tensorlines = np.zeros((len(s_dummy), X0.shape[0], X0.shape[1]))\n",
    "    X_tensorlines[0,:,:] = X0.copy()\n",
    "    \n",
    "    for s in range(len(s_dummy)-1):\n",
    "        if s % 10 == 0:\n",
    "            print(\"Percentage completed tensorline integration: \", np.around(100*s/len(s_dummy), 10))\n",
    "        X_tensorlines[s+1,:,:], x_prime_before = RK4_xi2(X_tensorlines[s,:,:], x_prime_before, ds)\n",
    "        \n",
<<<<<<< HEAD
    "    return X_tensorlines"
   ]
  },
  {
   "cell_type": "markdown",
   "metadata": {},
   "source": [
    "## Compute trajectories of $ \\mathbf{\\xi}_2 $."
   ]
  },
  {
   "cell_type": "code",
   "execution_count": null,
   "metadata": {
    "ExecuteTime": {
     "start_time": "2022-03-04T11:05:29.539Z"
    },
    "code_folding": [
     0
    ]
   },
   "outputs": [
    {
     "name": "stderr",
     "output_type": "stream",
     "text": [
      "[Parallel(n_jobs=16)]: Using backend LokyBackend with 16 concurrent workers.\n"
     ]
    }
   ],
   "source": [
    "# define Poincare section\n",
=======
    "    return X_tensorlines\n",
    "            \n",
>>>>>>> 9f629d66ae56f4b85feb5c441d44a74d1f3b2bba
    "x_domain_poincare = np.linspace(xmin, xmax, 20, endpoint = True) # array (20, )\n",
    "y_domain_poincare = np.linspace(ymin, ymax, 20, endpoint = True) # array (20, )\n",
    "z_domain_poincare = np.linspace(zmin, zmax, 20, endpoint = True) # array (20, )\n",
    "\n",
    "X_domain_poincare, Y_domain_poincare, Z_domain_poincare = np.meshgrid(x_domain_poincare, y_domain_poincare, z_domain_poincare) # array (10, 10, 10) \n",
    "\n",
    "# Vectorize initial conditions by arranging them to a vector of size (10*10*10, 3)\n",
    "x0 = X_domain_poincare[:,:,0].ravel()\n",
    "y0 = Y_domain_poincare[:,:,0].ravel()\n",
    "z0 = Z_domain_poincare[:,:,0].ravel()\n",
<<<<<<< HEAD
    "\n",
    "# split initial conditions into batches for parallel computing\n",
    "x0_batch = list(split(x0, Ncores)) # list (Nx*Ny*Nz)\n",
    "y0_batch = list(split(y0, Ncores)) # list (Nx*Ny*Nz)\n",
    "z0_batch = list(split(z0, Ncores)) # list (Nx*Ny*Nz)\n",
    "\n",
    "# Compute tensorlines of xi_2 in a parallelized fashion\n",
=======
    "            \n",
    "x0_batch = list(split(x0, Ncores)) # list (Nx*Ny*Nz)\n",
    "y0_batch = list(split(y0, Ncores)) # list (Nx*Ny*Nz)\n",
    "z0_batch = list(split(z0, Ncores)) # list (Nx*Ny*Nz)\n",
    "            \n",
>>>>>>> 9f629d66ae56f4b85feb5c441d44a74d1f3b2bba
    "results = Parallel(n_jobs=Ncores, verbose = 2)(delayed(parallel_tensorlines)(x0_batch[i], y0_batch[i], z0_batch[i], s_dummy) for i in range(len(x0_batch)))\n",
    "\n",
    "# Extract results from parallel computation\n",
    "X_tensorlines = results[0]\n",
    "\n",
    "for res in results[1:]:\n",
    "    X_tensorlines = np.append(X_tensorlines, res, axis = 1)"
   ]
  },
  {
<<<<<<< HEAD
   "cell_type": "markdown",
   "metadata": {},
   "source": [
    "## Sample trajectories intersecting Poincare section z = 0"
   ]
  },
  {
=======
>>>>>>> 9f629d66ae56f4b85feb5c441d44a74d1f3b2bba
   "cell_type": "code",
   "execution_count": null,
   "metadata": {
    "ExecuteTime": {
<<<<<<< HEAD
     "start_time": "2022-03-04T11:05:29.551Z"
    },
    "code_folding": [
     0,
     6,
     66
    ]
   },
   "outputs": [],
   "source": [
=======
     "end_time": "2022-02-15T12:12:05.470326Z",
     "start_time": "2022-02-15T12:12:04.518Z"
    }
   },
   "outputs": [],
   "source": [
    "# Import package for parallel computing\n",
    "from joblib import delayed, Parallel\n",
    "\n",
>>>>>>> 9f629d66ae56f4b85feb5c441d44a74d1f3b2bba
    "# Import 1D cubic spline interpolant\n",
    "from scipy.interpolate import CubicSpline\n",
    "\n",
    "# Import 1D linear interpolant\n",
    "from scipy.interpolate import interp1d\n",
    "\n",
    "def parallel_PoincareMap(time, Fmap, t0, tN):\n",
    "    \n",
    "    # CubicSpline Interpolation for x,y and z component of the trajectories\n",
    "    cs_x = CubicSpline(time, Fmap[:,0])\n",
    "    cs_y = CubicSpline(time, Fmap[:,1])\n",
    "    cs_z = CubicSpline(time, Fmap[:,2])\n",
    "    \n",
    "    z = Fmap[0,2]\n",
    "    \n",
    "    time_poincare = np.arange(t0, tN, dt)\n",
    "    \n",
    "    # evaluate long-term behaviour of x,y and z component\n",
    "    x_interp = cs_x(time_poincare)\n",
    "    y_interp = cs_y(time_poincare)\n",
    "    z_interp = cs_z(time_poincare)\n",
    "    \n",
    "    x_intersec, y_intersec, z_intersec = [], [], []\n",
    "    x_prime_intersec, y_prime_intersec, z_prime_intersec = [], [], []\n",
    "    \n",
    "    # iterate along long-term trajectories \n",
    "    for i in range(len(z_interp)-1):\n",
    "        \n",
    "        # if intersection then compute intersection point.\n",
    "        \n",
    "        if z == 0 or z == 2*pi:\n",
    "        \n",
    "            intersection_Condition = np.abs(z_interp[i]%(2*pi)-z_interp[i+1]%(2*pi)) > pi\n",
    "            \n",
    "            z_interp_shifted = z_interp[i:i+2]-np.around((z_interp[i]/(2*pi)), 0)*2*pi\n",
    "            \n",
    "        else:\n",
    "            \n",
    "            intersection_Condition = (z_interp[i]%(2*pi)>z and coord_interp[i+1]%(2*pi)<z) or (zinterp[i]%(2*pi)<z and z_interp[i+1]%(2*pi)>z)\n",
    "            z_interp_shifted = z_interp[i:i+2]%(2*pi)-z\n",
    "    \n",
    "        if intersection_Condition:\n",
    "            \n",
    "            root = -z_interp_shifted[0]*dt/(z_interp_shifted[1]-z_interp_shifted[0])+time_poincare[i]\n",
    "            x_intersec.append(cs_x(root)%(2*pi))\n",
    "            y_intersec.append(cs_y(root)%(2*pi))\n",
    "            z_intersec.append(cs_z(root)%(2*pi))\n",
    "            \n",
    "            dxdt = cs_x(root, 1)\n",
    "            dydt = cs_y(root, 1)\n",
    "            dzdt = cs_z(root, 1)\n",
    "            \n",
    "            norm = sqrt(dxdt**2+dydt**2+dzdt**2)\n",
    "            \n",
    "            x_prime_intersec.append(dxdt/norm)\n",
    "            y_prime_intersec.append(dydt/norm)\n",
    "            z_prime_intersec.append(dzdt/norm)\n",
    "    \n",
    "    return x_intersec, y_intersec, z_intersec, x_prime_intersec, y_prime_intersec, z_prime_intersec\n",
    "\n",
<<<<<<< HEAD
    "# Compute Poincare map by sampling trajectories whenever they intersect the z=0 plane.\n",
=======
>>>>>>> 9f629d66ae56f4b85feb5c441d44a74d1f3b2bba
    "results = Parallel(n_jobs=Ncores, verbose = 2)(delayed(parallel_PoincareMap)(s_dummy, X_tensorlines[:,i,:], t0=0.5*s_dummy[-1], tN=s_dummy[-1]) for i in range(X_tensorlines.shape[1]))\n",
    "\n",
    "x_intersec, y_intersec, z_intersec = [], [], []\n",
    "x_prime_intersec, y_prime_intersec, z_prime_intersec = [], [], []\n",
    "\n",
    "for res in results:\n",
    "    for i in range(len(res[0])):\n",
    "        x_intersec.append(res[0][i])\n",
    "        y_intersec.append(res[1][i])\n",
    "        z_intersec.append(res[2][i])\n",
    "        x_prime_intersec.append(res[3][i])\n",
    "        y_prime_intersec.append(res[4][i])\n",
    "        z_prime_intersec.append(res[5][i])"
   ]
  },
  {
   "cell_type": "code",
   "execution_count": null,
   "metadata": {
    "ExecuteTime": {
<<<<<<< HEAD
     "start_time": "2022-03-04T11:05:29.553Z"
    },
    "code_folding": [
     0
    ]
=======
     "end_time": "2022-02-15T12:12:05.472363Z",
     "start_time": "2022-02-15T12:12:04.519Z"
    }
>>>>>>> 9f629d66ae56f4b85feb5c441d44a74d1f3b2bba
   },
   "outputs": [],
   "source": [
    "############################################ PLOT RESULTS ############################################\n",
    "\n",
    "# Import plotting libraries\n",
    "import matplotlib.pyplot as plt\n",
    "\n",
    "# Figure/Axes\n",
    "fig = plt.figure(figsize = (8, 8), dpi=500)\n",
    "ax = plt.axes()\n",
    "\n",
    "# Poincare Map\n",
    "ax.scatter(x_intersec, y_intersec, c = \"b\", s = .15, marker = \"o\")\n",
    "\n",
    "# Axis Label\n",
    "ax.set_xlabel(\"x\", fontsize = 10)\n",
    "ax.set_ylabel(\"y\", fontsize = 10)\n",
    "\n",
    "# Axis limits\n",
    "ax.set_xlim([0, 2*pi])\n",
    "ax.set_ylim([0, 2*pi])\n",
    "\n",
    "ax.text(\n",
    "    1, 6, f'dummy time: [{int(s_dummy[0])}, {\"{:.1e}\".format(np.around(s_dummy[-1], 0))}]', ha=\"center\", va=\"center\", rotation=0, size=6,\n",
    "    bbox=dict(fc=\"cyan\", ec=\"b\", lw=2))\n",
    "\n",
    "# Title\n",
<<<<<<< HEAD
    "ax.set_title(r'Poincaré section: z='f'{np.around(z0[0], 2)}; '+r'$ \\mathbf{\\xi}_{2}$'+'-tensorlines', fontsize = 10)\n",
=======
    "ax.set_title(r'Poincaré section: z='f'{np.around(z0[0], 2)}; '+f'$e_{1}$'+'-tensorlines', fontsize = 10)\n",
>>>>>>> 9f629d66ae56f4b85feb5c441d44a74d1f3b2bba
    "\n",
    "plt.savefig(\"Poincare_\"+f'{np.around(z0[0], 2)}'+\"_long_intermediate.jpg\", dpi = 500)\n",
    "\n",
    "plt.show()"
   ]
  },
  {
<<<<<<< HEAD
   "cell_type": "markdown",
   "metadata": {},
   "source": [
    "The $ \\mathbf{\\xi}_2 $ -Poincaré map reveals both vortical and hyperbolic flow features with much more clarity than the classic [Poincare Map](../../../AdvectiveBarriers/PoincareMap3D/Main/PoincareMapABCsteady_analytic) computed from the same initial conditions."
   ]
  },
  {
   "cell_type": "markdown",
   "metadata": {},
   "source": [
    "# References\n",
    "\n",
    "[1] Oettinger, D., & Haller, G. (2016). An autonomous dynamical system captures all LCSs in three-dimensional unsteady flows. Chaos: An Interdisciplinary Journal of Nonlinear Science, 26(10), 1031\n",
    "\n",
    "[2] Notebook 5.4.2. in \"Transport Barriers and Coherent Structures in Flow Data\" by Prof. George Haller."
   ]
=======
   "cell_type": "code",
   "execution_count": null,
   "metadata": {},
   "outputs": [],
   "source": []
>>>>>>> 9f629d66ae56f4b85feb5c441d44a74d1f3b2bba
  }
 ],
 "metadata": {
  "kernelspec": {
   "display_name": "Python 3",
   "language": "python",
   "name": "python3"
  },
  "language_info": {
   "codemirror_mode": {
    "name": "ipython",
    "version": 3
   },
   "file_extension": ".py",
   "mimetype": "text/x-python",
   "name": "python",
   "nbconvert_exporter": "python",
   "pygments_lexer": "ipython3",
<<<<<<< HEAD
   "version": "3.7.11"
  },
  "latex_envs": {
   "LaTeX_envs_menu_present": true,
   "autoclose": false,
   "autocomplete": true,
   "bibliofile": "biblio.bib",
   "cite_by": "apalike",
   "current_citInitial": 1,
   "eqLabelWithNumbers": true,
   "eqNumInitial": 1,
   "hotkeys": {
    "equation": "Ctrl-E",
    "itemize": "Ctrl-I"
   },
   "labels_anchors": false,
   "latex_user_defs": false,
   "report_style_numbering": false,
   "user_envs_cfg": false
=======
   "version": "3.7.12"
>>>>>>> 9f629d66ae56f4b85feb5c441d44a74d1f3b2bba
  },
  "toc": {
   "base_numbering": "0",
   "nav_menu": {},
   "number_sections": true,
   "sideBar": true,
   "skip_h1_title": false,
   "title_cell": "Table of Contents",
   "title_sidebar": "Contents",
   "toc_cell": false,
<<<<<<< HEAD
   "toc_position": {
    "height": "calc(100% - 180px)",
    "left": "10px",
    "top": "150px",
    "width": "309.1979064941406px"
   },
=======
   "toc_position": {},
>>>>>>> 9f629d66ae56f4b85feb5c441d44a74d1f3b2bba
   "toc_section_display": true,
   "toc_window_display": true
  }
 },
 "nbformat": 4,
 "nbformat_minor": 4
}
