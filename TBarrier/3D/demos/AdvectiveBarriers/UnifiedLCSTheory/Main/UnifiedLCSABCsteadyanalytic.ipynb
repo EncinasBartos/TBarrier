{
 "cells": [
  {
   "cell_type": "markdown",
   "metadata": {
    "ExecuteTime": {
     "end_time": "2022-03-03T09:57:57.020802Z",
     "start_time": "2022-03-03T09:57:57.017682Z"
    }
   },
   "source": [
    "We start by adding the necessary folders to the current working path."
   ]
  },
  {
   "cell_type": "code",
   "execution_count": 1,
   "metadata": {
    "ExecuteTime": {
     "end_time": "2022-06-13T14:59:43.873764Z",
     "start_time": "2022-06-13T14:59:43.869230Z"
    },
    "code_folding": [
     0
    ]
   },
   "outputs": [],
   "source": [
    "# import sys/os\n",
    "import sys, os\n",
    "\n",
    "# get current directory\n",
    "path = os.getcwd()\n",
    "\n",
    "# get parent directory\n",
    "parent_directory = os.path.sep.join(path.split(os.path.sep)[:-4])\n",
    "\n",
    "# add utils folder to current working path\n",
    "sys.path.append(parent_directory+\"/subfunctions/utils\")\n",
    "\n",
    "# add integration folder to current working path\n",
    "sys.path.append(parent_directory+\"/subfunctions/integration\")"
   ]
  },
  {
   "cell_type": "markdown",
   "metadata": {},
   "source": [
    "# Overview\n",
    "\n",
    "In the following notebook we compute the Poincaré Map of the three-dimensional, steady ABC-flow. The notebook is structured as follows:\n",
    "\n",
    "1. Define analytic velocity field of the three-dimensional solution of the Euler equations, the steady and spatially periodic Arnold-Beltrami-Childress (ABC) flow:\n",
    "\\begin{equation}\n",
    "\\begin{pmatrix} \\dot{x}(t) \\\\ \\dot{y}(t) \\\\ \\dot{z}(t) \\end{pmatrix} = \\begin{pmatrix} u \\\\ v \\\\ w \\end{pmatrix} = \\begin{pmatrix} \\sqrt{3}\\sin(z)+\\cos(y) \\\\ \\sqrt{2}\\sin(x) + \\sqrt{3}\\cos(z) \\\\ \\sin(y)+\\sqrt{2}\\cos(x) \\end{pmatrix}, \\quad (x,y,z) \\in [0, 2\\pi]^3\n",
    "\\label{eq: periodicABC}\n",
    "\\end{equation}\n",
    "<br />\n",
    "2. Define computational parameters.\n",
    " <br />\n",
    "3. Define spatio-temporal domain.\n",
    " <br />\n",
    "4. Poincare map:\n",
    "\n",
    "    * All 2D structurally stable invariant manifolds of the 3D direction field:\n",
    "    \n",
    "    \\begin{equation}\n",
    "    \\mathbf{x}_0'(s) = \\mathbf{\\xi}_2(\\mathbf{x}_0(s);t_0,t_N)\n",
    "    \\label{eq: relaxedLCS}\n",
    "    \\end{equation}\n",
    "    \n",
    "    are relaxed LCS. All relaxed attracting LCSs, repelling LCSs and elliptic LCSs can be sought as invariant manifolds of the same direction field \\ref{eq: relaxedLCS}, defined by the right intermediate singularvector field of the gradient of the flow map.\n",
    "        \n",
    "    <br />\n",
    "    \n",
    "    * Compute tensorlines over the dummy time-interval [0, 2*$10^4$] generated from $ \\mathbf{\\xi}_2 $, where $ \\mathbf{\\xi}_2 $ is the intermediate right singularvector-field of $ \\mathbf{\\nabla F}(\\mathbf{x},t) $. The tensorlines are launched from the Poincare section given by the z=0 plane. In order to have precise results, $ \\mathbf{\\nabla F}(\\mathbf{x},t) $ is evaluated at every dummy time-step of the tensorline integration. Hence, the computational time of this demo is more than 24hours on a 2.3 GHz 18-Core Intel Xeon W processor.\n",
    "    \n",
    "    <br />\n",
    "    \n",
    "    * Compute Poincare map by sampling tensorline trajectories which intersect the Poincare section z = 0.\n",
    " <br />\n",
    "6. References   "
   ]
  },
  {
   "cell_type": "markdown",
   "metadata": {},
   "source": [
    "# Analytic velocity field\n",
    "\n",
    "Here we define the analytic velocity field of a steady ABC-flow. The parameters are chosen as in [1,2]."
   ]
  },
  {
   "cell_type": "code",
   "execution_count": 2,
   "metadata": {
    "ExecuteTime": {
     "end_time": "2022-06-13T14:59:44.163503Z",
     "start_time": "2022-06-13T14:59:43.896476Z"
    },
    "code_folding": [
     0,
     6,
     14,
     16,
     18,
     21,
     23,
     25,
     28,
     30,
     32
    ],
    "run_control": {
     "marked": true
    }
   },
   "outputs": [],
   "source": [
    "# import numpy\n",
    "import numpy as np\n",
    "\n",
    "# import math tools\n",
    "from math import sqrt, pi\n",
    "\n",
    "def velocity(x, y, z):\n",
    "\n",
    "    u = sqrt(3)*np.sin(z)+np.cos(y)\n",
    "    v = sqrt(2)*np.sin(x)+sqrt(3)*np.cos(z)\n",
    "    w = np.sin(y)+sqrt(2)*np.cos(x)\n",
    "    \n",
    "    return np.array([u, v, w])\n",
    "\n",
    "def dudx(x, y, z):\n",
    "    return 0*x.copy()\n",
    "def dudy(x, y, z):\n",
    "    return -np.sin(y)\n",
    "def dudz(x, y, z):\n",
    "    return sqrt(3)*np.cos(z)\n",
    "\n",
    "def dvdx(x, y, z):\n",
    "    return sqrt(2)*np.cos(x)\n",
    "def dvdy(x, y, z):\n",
    "    return 0*x.copy()\n",
    "def dvdz(x, y, z):\n",
    "    return -sqrt(3)*np.sin(z)\n",
    "\n",
    "def dwdx(x, y, z):\n",
    "    return -sqrt(2)*np.sin(x)\n",
    "def dwdy(x, y, z):\n",
    "    return np.cos(y)\n",
    "def dwdz(x, y, z):\n",
    "    return 0*x.copy()"
   ]
  },
  {
   "cell_type": "markdown",
   "metadata": {},
   "source": [
    "# Computational parameters\n",
    "\n",
    "Here we define the computational parameters and the analytic velocity field."
   ]
  },
  {
   "cell_type": "code",
   "execution_count": 3,
   "metadata": {
    "ExecuteTime": {
     "end_time": "2022-06-13T14:59:44.169086Z",
     "start_time": "2022-06-13T14:59:44.166331Z"
    },
    "code_folding": [
     0
    ],
    "run_control": {
     "marked": true
    }
   },
   "outputs": [],
   "source": [
    "# number of cores to be used for parallel computing\n",
    "Ncores = 5"
   ]
  },
  {
   "cell_type": "markdown",
   "metadata": {},
   "source": [
    "# Spatio-temporal domain\n",
    "\n",
    "Here we define the spatio-temporal domain over which to consider the dynamical system."
   ]
  },
  {
   "cell_type": "code",
   "execution_count": 4,
   "metadata": {
    "ExecuteTime": {
     "end_time": "2022-06-13T14:59:44.181583Z",
     "start_time": "2022-06-13T14:59:44.172060Z"
    },
    "code_folding": [
     0
    ]
   },
   "outputs": [],
   "source": [
    "# Initial time\n",
    "t0 = 0 # float\n",
    "\n",
    "# Final time\n",
    "tN = 10 # float\n",
    "\n",
    "# Time step-size\n",
    "dt = 0.05 # float\n",
    "\n",
    "# dummy time interval\n",
    "ds = 0.05\n",
    "s_dummy = np.arange(0, 5*10**4, ds)\n",
    "\n",
    "time = np.arange(t0, tN+dt, dt) # shape (Nt,)\n",
    "\n",
    "# Length of time interval\n",
    "lenT = abs(tN-t0) # float\n",
    "\n",
    "# boundaries\n",
    "xmin = 0 # float\n",
    "xmax = 2*np.pi # float\n",
    "ymin = 0 # float\n",
    "ymax = 2*np.pi # float\n",
    "zmin = 0 # float\n",
    "zmax = 2*np.pi # float"
   ]
  },
  {
   "cell_type": "markdown",
   "metadata": {},
   "source": [
    "# Poincare Map"
   ]
  },
  {
   "cell_type": "code",
   "execution_count": 5,
   "metadata": {
    "ExecuteTime": {
     "end_time": "2022-06-13T14:59:44.216549Z",
     "start_time": "2022-06-13T14:59:44.184501Z"
    },
    "code_folding": [
     1,
     30,
     49,
     74,
     153,
     163,
     178
    ],
    "hide_input": false,
    "run_control": {
     "marked": true
    }
   },
   "outputs": [],
   "source": [
    "# function to compute gradient of flow map along particle trajectories.\n",
    "def integration_dDF_dt(time, x):\n",
    "    \n",
    "    # reshape x\n",
    "    x = x.reshape(3, -1)\n",
    "    \n",
    "    # Initialize arrays for flow map and derivative of flow map\n",
    "    Fmap = np.zeros((3, x.shape[1]))\n",
    "    DF = np.zeros((3, 3, x.shape[1]))\n",
    "    \n",
    "    # Step-size\n",
    "    dt = time[1]-time[0]\n",
    "\n",
    "    # initial conditions\n",
    "    Fmap = x\n",
    "    DF[0,0,:] = 1\n",
    "    DF[1,1,:] = 1\n",
    "    DF[2,2,:] = 1\n",
    "    \n",
    "    # Runge Kutta 4th order integration with fixed step size dt\n",
    "    for t in time[:-1]:\n",
    "        \n",
    "        #if t % 0.1 == 0:\n",
    "        #    print(\"Percentage completed: \", 100*np.around(t/time[-1], 2))\n",
    "        \n",
    "        Fmap, _, DF = RK4_step(t, Fmap, DF, dt)\n",
    "    \n",
    "    return DF\n",
    "\n",
    "# function to compute gradient of the velocity\n",
    "def grad_velocity(x, y, z):\n",
    "    \n",
    "    grad_vel = np.zeros((x.shape[0], 3, 3))\n",
    "    \n",
    "    grad_vel[:,0,0] = dudx(x, y, z)\n",
    "    grad_vel[:,1,0] = dvdx(x, y, z)\n",
    "    grad_vel[:,2,0] = dwdx(x, y, z)\n",
    "    \n",
    "    grad_vel[:,0,1] = dudy(x, y, z)\n",
    "    grad_vel[:,1,1] = dvdy(x, y, z)\n",
    "    grad_vel[:,2,1] = dwdy(x, y, z)\n",
    "    \n",
    "    grad_vel[:,0,2] = dudz(x, y, z)\n",
    "    grad_vel[:,1,2] = dvdz(x, y, z)\n",
    "    grad_vel[:,2,2] = dwdz(x, y, z)\n",
    "    \n",
    "    return grad_vel\n",
    "\n",
    "# function to compute time-derivative of gradient of flow map\n",
    "def DDFdt(X0, DF):\n",
    "    \n",
    "    x = X0[0,:]\n",
    "    y = X0[1,:]\n",
    "    z = X0[2,:]\n",
    "    \n",
    "    grad_vel = grad_velocity(x, y, z)\n",
    "    \n",
    "    grad_k = np.zeros(DF.shape)\n",
    "    \n",
    "    grad_k[0,0,:] = grad_vel[:,0,0]*DF[0,0,:]+grad_vel[:,0,1]*DF[1,0,:]+grad_vel[:,0,2]*DF[2,0,:]\n",
    "    grad_k[0,1,:] = grad_vel[:,0,0]*DF[0,1,:]+grad_vel[:,0,1]*DF[1,1,:]+grad_vel[:,0,2]*DF[2,1,:]\n",
    "    grad_k[0,2,:] = grad_vel[:,0,0]*DF[0,2,:]+grad_vel[:,0,1]*DF[1,2,:]+grad_vel[:,0,2]*DF[2,2,:]\n",
    "    \n",
    "    grad_k[1,0,:] = grad_vel[:,1,0]*DF[0,0,:]+grad_vel[:,1,1]*DF[1,0,:]+grad_vel[:,1,2]*DF[2,0,:]\n",
    "    grad_k[1,1,:] = grad_vel[:,1,0]*DF[0,1,:]+grad_vel[:,1,1]*DF[1,1,:]+grad_vel[:,1,2]*DF[2,1,:]\n",
    "    grad_k[1,2,:] = grad_vel[:,1,0]*DF[0,2,:]+grad_vel[:,1,1]*DF[1,2,:]+grad_vel[:,1,2]*DF[2,2,:]\n",
    "\n",
    "    grad_k[2,0,:] = grad_vel[:,2,0]*DF[0,0,:]+grad_vel[:,2,1]*DF[1,0,:]+grad_vel[:,2,2]*DF[2,0,:]\n",
    "    grad_k[2,1,:] = grad_vel[:,2,0]*DF[0,1,:]+grad_vel[:,2,1]*DF[1,1,:]+grad_vel[:,2,2]*DF[2,1,:]\n",
    "    grad_k[2,2,:] = grad_vel[:,2,0]*DF[0,2,:]+grad_vel[:,2,1]*DF[1,2,:]+grad_vel[:,2,2]*DF[2,2,:]\n",
    "    \n",
    "    return grad_k\n",
    "\n",
    "# 4th order Runge Kutta step integration\n",
    "def RK4_step(t, x1, DF1, dt):\n",
    "    \n",
    "    t0 = t\n",
    "    \n",
    "    # Compute x_prime at the beginning of the time-step by re-orienting and rescaling the vector field\n",
    "    x_prime = velocity(x1[0,:], x1[1,:], x1[2,:])\n",
    "    \n",
    "    # compute derivative\n",
    "    k1 = dt * x_prime\n",
    "    \n",
    "    # Compute prime for DF\n",
    "    DDFdt1 = DDFdt(x1, DF1) * dt\n",
    "    \n",
    "    DF2 = DF1 + .5*DDFdt1\n",
    "    \n",
    "    # Update position at the first midpoint.\n",
    "    x2 = x1 + .5 * k1\n",
    "     \n",
    "    # Update time\n",
    "    t = t0 + .5*dt\n",
    "    \n",
    "    # Compute x_prime at the first midpoint.\n",
    "    x_prime = velocity(x2[0,:], x2[1,:], x2[2,:])\n",
    "    \n",
    "    # compute derivative\n",
    "    k2 = dt * x_prime\n",
    "    \n",
    "    # Compute prime for DF\n",
    "    DDFdt2 = DDFdt(x2, DF2) * dt\n",
    "    \n",
    "    DF3 = DF1 + .5*DDFdt2\n",
    "\n",
    "    # Update position at the second midpoint.\n",
    "    x3 = x1 + .5 * k2\n",
    "    \n",
    "    # Update time\n",
    "    t = t0 + .5*dt\n",
    "    \n",
    "    # Compute x_prime at the second midpoint.\n",
    "    x_prime = velocity(x3[0,:], x3[1,:], x3[2,:])\n",
    "    \n",
    "    # compute derivative\n",
    "    k3 = dt * x_prime\n",
    "    \n",
    "    # Compute prime for DF\n",
    "    DDFdt3 = DDFdt(x3, DF3) * dt\n",
    "    \n",
    "    DF4 = DF1 + DDFdt3\n",
    "    \n",
    "    # Update position at the endpoint.\n",
    "    x4 = x1 + k3\n",
    "    \n",
    "    # Compute prime for DF\n",
    "    DDFdt4 = DDFdt(x4, DF4) * dt\n",
    "    \n",
    "    # Update time\n",
    "    t = t0+dt\n",
    "    \n",
    "    # Compute derivative at the end of the time-step.\n",
    "    x_prime = velocity(x4[0,:], x4[1,:], x4[2,:]) \n",
    "    \n",
    "    # compute derivative\n",
    "    k4 = dt * x_prime\n",
    "    \n",
    "    # Compute RK4 derivative\n",
    "    y_prime_update = 1.0 / 6.0*(k1 + 2 * k2 + 2 * k3 + k4)\n",
    "    \n",
    "    DF_prime = 1.0 / 6.0*(DDFdt1 + 2 * DDFdt2 + 2 * DDFdt3 + DDFdt4)\n",
    "    \n",
    "    # Integration y <-- y + y_primeupdate\n",
    "    y_update = x1 + y_prime_update\n",
    "    \n",
    "    DF_update = DF1+DF_prime\n",
    "    \n",
    "    return y_update, y_prime_update/dt, DF_update\n",
    "\n",
    "# Import package to compute singular values/vectors of 3x3 matrix\n",
    "from ipynb.fs.defs.SVD import SVD\n",
    "\n",
    "def calculate_Fmap(x0_batch, y0_batch, z0_batch):\n",
    "    \n",
    "    # Initial conditions\n",
    "    X0 = np.array([x0_batch, y0_batch, z0_batch]) # array (3, Nx*Ny*Nz)\n",
    "\n",
    "    # gradient of flow map\n",
    "    gradFmap_t0_tN = integration_dDF_dt(time, X0)# array (3, 3, Nx*Ny)\n",
    "    \n",
    "    return gradFmap_t0_tN\n",
    "\n",
    "def oriented_vector(x_interp, idx_eigenvector):\n",
    "    \n",
    "    gradFmap_t0_tN = calculate_Fmap(x_interp[:,0], x_interp[:,1], x_interp[:,2])\n",
    "    \n",
    "    eigenvector = np.zeros((gradFmap_t0_tN.shape[2], 3))*np.nan\n",
    "    \n",
    "    for i in range(gradFmap_t0_tN.shape[2]):\n",
    "        \n",
    "        P, SIG, Q = SVD(gradFmap_t0_tN[:,:,i])\n",
    "        \n",
    "        eigenvector[i,:] = Q[:,idx_eigenvector]\n",
    "\n",
    "    return eigenvector\n",
    "\n",
    "# 4th-order Runge Kutta integration step of xi2 tensorlines\n",
    "def RK4_xi2(x, x_prime_before, ds):\n",
    "    \n",
    "    # Define starting point.\n",
    "    x1 = x\n",
    "    \n",
    "    x1_interp = x1%(2*pi)\n",
    "    \n",
    "    # Compute x_prime at the beginning of the time-step\n",
    "    x_prime = oriented_vector(x1_interp, 1)\n",
    "    \n",
    "    x_prime_reoriented = x_prime.copy()\n",
    "    for i in range(x_prime.shape[0]):\n",
    "        x_prime_reoriented[i,:] = x_prime[i,:]*np.sign(x_prime[i,0]*x_prime_before[i,0]+x_prime[i,1]*x_prime_before[i,1]+x_prime[i,2]*x_prime_before[i,2])\n",
    "    k1 = ds * x_prime_reoriented\n",
    "    \n",
    "    #  position and time at the first midpoint.\n",
    "    x2 = x1 + .5 * k1\n",
    "    \n",
    "    x2_interp = x2%(2*pi)\n",
    "    \n",
    "    # Compute x_prime at the first midpoint.\n",
    "    x_prime = oriented_vector(x2_interp, 1)\n",
    "    \n",
    "    for i in range(x_prime.shape[0]):\n",
    "        x_prime_reoriented[i,:] = x_prime[i,:]*np.sign(x_prime[i,0]*x_prime_before[i,0]+x_prime[i,1]*x_prime_before[i,1]+x_prime[i,2]*x_prime_before[i,2])\n",
    "    \n",
    "    k2 = ds * x_prime_reoriented\n",
    "    \n",
    "    # Update position at the second midpoint.\n",
    "    x3 = x1 + .5 * k2\n",
    "    \n",
    "    x3_interp = x3%(2*pi)\n",
    "    \n",
    "    # Compute x_prime at the second midpoint.\n",
    "    x_prime = oriented_vector(x3_interp, 1)\n",
    "\n",
    "    for i in range(x_prime.shape[0]):\n",
    "        x_prime_reoriented[i,:] = x_prime[i,:]*np.sign(x_prime[i,0]*x_prime_before[i,0]+x_prime[i,1]*x_prime_before[i,1]+x_prime[i,2]*x_prime_before[i,2])\n",
    "    \n",
    "    k3 = ds * x_prime_reoriented\n",
    "    \n",
    "    # Update position at the endpoint.\n",
    "    x4 = x1 + k3\n",
    "    \n",
    "    x4_interp = x4%(2*pi)\n",
    "    \n",
    "    # Compute x_prime at the endpoint.\n",
    "    x_prime = oriented_vector(x4_interp, 1)\n",
    "    \n",
    "    for i in range(x_prime.shape[0]):\n",
    "        x_prime_reoriented[i,:] = x_prime[i,:]*np.sign(x_prime[i,0]*x_prime_before[i,0]+x_prime[i,1]*x_prime_before[i,1]+x_prime[i,2]*x_prime_before[i,2])\n",
    "    \n",
    "    k4 = ds * x_prime_reoriented\n",
    "    \n",
    "    x_prime_avg = 1.0/6.0*(k1+2*k2+2*k3+k4)\n",
    "    x_update = x+x_prime_avg\n",
    "    \n",
    "    return x_update, x_prime_avg"
   ]
  },
  {
   "cell_type": "code",
   "execution_count": 6,
   "metadata": {
    "ExecuteTime": {
     "end_time": "2022-06-13T14:59:44.253298Z",
     "start_time": "2022-06-13T14:59:44.218619Z"
    },
    "code_folding": [
     0,
     4,
     23
    ],
    "run_control": {
     "marked": true
    }
   },
   "outputs": [],
   "source": [
    "# Import package for parallel computing\n",
    "from joblib import Parallel, delayed\n",
    "\n",
    "# Split x0, y0 into 'Ncores' equal batches for parallel computing\n",
    "def split(a, n):\n",
    "    k, m = divmod(len(a), n)\n",
    "    return (a[i*k+min(i, m):(i+1)*k+min(i+1, m)] for i in range(n))\n",
    "\n",
    "def parallel_tensorlines(x0, y0, z0, s_dummy):\n",
    "    \n",
    "    X0 = np.zeros((x0.shape[0], 3))\n",
    "\n",
    "    X0[:,0] = x0\n",
    "    X0[:,1] = y0\n",
    "    X0[:,2] = z0\n",
    "\n",
    "    x_prime_before = np.zeros(X0.shape)\n",
    "    x_prime_before[:,0] = 1\n",
    "    \n",
    "    X_tensorlines = np.zeros((len(s_dummy), X0.shape[0], X0.shape[1]))\n",
    "    X_tensorlines[0,:,:] = X0.copy()\n",
    "    \n",
    "    for s in range(len(s_dummy)-1):\n",
    "        if s % 100 == 0:\n",
    "            print(\"Percentage completed tensorline integration: \", np.around(100*s/len(s_dummy), 10))\n",
    "        X_tensorlines[s+1,:,:], x_prime_before = RK4_xi2(X_tensorlines[s,:,:], x_prime_before, ds)\n",
    "        \n",
    "    return X_tensorlines"
   ]
  },
  {
   "cell_type": "markdown",
   "metadata": {},
   "source": [
    "## Compute trajectories of $ \\mathbf{\\xi}_2 $."
   ]
  },
  {
   "cell_type": "code",
   "execution_count": null,
   "metadata": {
    "ExecuteTime": {
     "start_time": "2022-06-13T14:59:43.950Z"
    },
    "code_folding": [
     0
    ]
   },
   "outputs": [
    {
     "name": "stderr",
     "output_type": "stream",
     "text": [
      "[Parallel(n_jobs=5)]: Using backend LokyBackend with 5 concurrent workers.\n"
     ]
    }
   ],
   "source": [
    "# define Poincare section\n",
    "x_domain_poincare = np.linspace(xmin, xmax, 20, endpoint = True) # array (20, )\n",
    "y_domain_poincare = np.linspace(ymin, ymax, 20, endpoint = True) # array (20, )\n",
    "z_domain_poincare = np.linspace(zmin, zmax, 20, endpoint = True) # array (20, )\n",
    "\n",
    "X_domain_poincare, Y_domain_poincare, Z_domain_poincare = np.meshgrid(x_domain_poincare, y_domain_poincare, z_domain_poincare) # array (10, 10, 10) \n",
    "\n",
    "# Vectorize initial conditions by arranging them to a vector of size (10*10*10, 3)\n",
    "x0 = X_domain_poincare[:,:,0].ravel()\n",
    "y0 = Y_domain_poincare[:,:,0].ravel()\n",
    "z0 = Z_domain_poincare[:,:,0].ravel()\n",
    "\n",
    "# split initial conditions into batches for parallel computing\n",
    "x0_batch = list(split(x0, Ncores)) # list (Nx*Ny*Nz)\n",
    "y0_batch = list(split(y0, Ncores)) # list (Nx*Ny*Nz)\n",
    "z0_batch = list(split(z0, Ncores)) # list (Nx*Ny*Nz)\n",
    "\n",
    "# Compute tensorlines of xi_2 in a parallelized fashion\n",
    "results = Parallel(n_jobs=Ncores, verbose = 2)(delayed(parallel_tensorlines)(x0_batch[i], y0_batch[i], z0_batch[i], s_dummy) for i in range(len(x0_batch)))\n",
    "\n",
    "# Extract results from parallel computation\n",
    "X_tensorlines = results[0]\n",
    "\n",
    "for res in results[1:]:\n",
    "    X_tensorlines = np.append(X_tensorlines, res, axis = 1)"
   ]
  },
  {
   "cell_type": "markdown",
   "metadata": {},
   "source": [
    "## Sample trajectories intersecting Poincare section z = 0"
   ]
  },
  {
   "cell_type": "code",
   "execution_count": null,
   "metadata": {
    "ExecuteTime": {
     "start_time": "2022-06-13T14:59:43.962Z"
    },
    "code_folding": [
     0,
     6
    ]
   },
   "outputs": [],
   "source": [
    "# Import 1D cubic spline interpolant\n",
    "from scipy.interpolate import CubicSpline\n",
    "\n",
    "# Import 1D linear interpolant\n",
    "from scipy.interpolate import interp1d\n",
    "\n",
    "def parallel_PoincareMap(time, Fmap, t0, tN):\n",
    "    \n",
    "    # CubicSpline Interpolation for x,y and z component of the trajectories\n",
    "    cs_x = CubicSpline(time, Fmap[:,0])\n",
    "    cs_y = CubicSpline(time, Fmap[:,1])\n",
    "    cs_z = CubicSpline(time, Fmap[:,2])\n",
    "    \n",
    "    z = Fmap[0,2]\n",
    "    \n",
    "    time_poincare = np.arange(t0, tN, dt)\n",
    "    \n",
    "    # evaluate long-term behaviour of x,y and z component\n",
    "    x_interp = cs_x(time_poincare)\n",
    "    y_interp = cs_y(time_poincare)\n",
    "    z_interp = cs_z(time_poincare)\n",
    "    \n",
    "    x_intersec, y_intersec, z_intersec = [], [], []\n",
    "    x_prime_intersec, y_prime_intersec, z_prime_intersec = [], [], []\n",
    "    \n",
    "    # iterate along long-term trajectories \n",
    "    for i in range(len(z_interp)-1):\n",
    "        \n",
    "        # if intersection then compute intersection point.\n",
    "        \n",
    "        if z == 0 or z == 2*pi:\n",
    "        \n",
    "            intersection_Condition = np.abs(z_interp[i]%(2*pi)-z_interp[i+1]%(2*pi)) > pi\n",
    "            \n",
    "            z_interp_shifted = z_interp[i:i+2]-np.around((z_interp[i]/(2*pi)), 0)*2*pi\n",
    "            \n",
    "        else:\n",
    "            \n",
    "            intersection_Condition = (z_interp[i]%(2*pi)>z and coord_interp[i+1]%(2*pi)<z) or (zinterp[i]%(2*pi)<z and z_interp[i+1]%(2*pi)>z)\n",
    "            z_interp_shifted = z_interp[i:i+2]%(2*pi)-z\n",
    "    \n",
    "        if intersection_Condition:\n",
    "            \n",
    "            root = -z_interp_shifted[0]*dt/(z_interp_shifted[1]-z_interp_shifted[0])+time_poincare[i]\n",
    "            x_intersec.append(cs_x(root)%(2*pi))\n",
    "            y_intersec.append(cs_y(root)%(2*pi))\n",
    "            z_intersec.append(cs_z(root)%(2*pi))\n",
    "            \n",
    "            dxdt = cs_x(root, 1)\n",
    "            dydt = cs_y(root, 1)\n",
    "            dzdt = cs_z(root, 1)\n",
    "            \n",
    "            norm = sqrt(dxdt**2+dydt**2+dzdt**2)\n",
    "            \n",
    "            x_prime_intersec.append(dxdt/norm)\n",
    "            y_prime_intersec.append(dydt/norm)\n",
    "            z_prime_intersec.append(dzdt/norm)\n",
    "    \n",
    "    return x_intersec, y_intersec, z_intersec, x_prime_intersec, y_prime_intersec, z_prime_intersec\n",
    "\n",
    "# Compute Poincare map by sampling trajectories whenever they intersect the z=0 plane.\n",
    "results = Parallel(n_jobs=Ncores, verbose = 2)(delayed(parallel_PoincareMap)(s_dummy, X_tensorlines[:,i,:], t0=0.5*s_dummy[-1], tN=s_dummy[-1]) for i in range(X_tensorlines.shape[1]))\n",
    "\n",
    "x_intersec, y_intersec, z_intersec = [], [], []\n",
    "x_prime_intersec, y_prime_intersec, z_prime_intersec = [], [], []\n",
    "\n",
    "for res in results:\n",
    "    for i in range(len(res[0])):\n",
    "        x_intersec.append(res[0][i])\n",
    "        y_intersec.append(res[1][i])\n",
    "        z_intersec.append(res[2][i])\n",
    "        x_prime_intersec.append(res[3][i])\n",
    "        y_prime_intersec.append(res[4][i])\n",
    "        z_prime_intersec.append(res[5][i])"
   ]
  },
  {
   "cell_type": "code",
   "execution_count": null,
   "metadata": {
    "ExecuteTime": {
     "start_time": "2022-06-13T14:59:43.964Z"
    },
    "code_folding": [
     0
    ]
   },
   "outputs": [],
   "source": [
    "############################################ PLOT RESULTS ############################################\n",
    "\n",
    "# Import plotting libraries\n",
    "import matplotlib.pyplot as plt\n",
    "\n",
    "# Figure/Axes\n",
    "fig = plt.figure(figsize = (8, 8), dpi=500)\n",
    "ax = plt.axes()\n",
    "\n",
    "# Poincare Map\n",
    "ax.scatter(x_intersec, y_intersec, c = \"b\", s = .15, marker = \"o\")\n",
    "\n",
    "# Axis Label\n",
    "ax.set_xlabel(\"x\", fontsize = 10)\n",
    "ax.set_ylabel(\"y\", fontsize = 10)\n",
    "\n",
    "# Axis limits\n",
    "ax.set_xlim([0, 2*pi])\n",
    "ax.set_ylim([0, 2*pi])\n",
    "\n",
    "ax.text(\n",
    "    1, 6, f'dummy time: [{int(s_dummy[0])}, {\"{:.1e}\".format(np.around(s_dummy[-1], 0))}]', ha=\"center\", va=\"center\", rotation=0, size=6,\n",
    "    bbox=dict(fc=\"cyan\", ec=\"b\", lw=2))\n",
    "\n",
    "# Title\n",
    "ax.set_title(r'Poincaré section: z='f'{np.around(z0[0], 2)}; '+r'$ \\mathbf{\\xi}_{2}$'+'-tensorlines', fontsize = 10)\n",
    "\n",
    "plt.savefig(\"Poincare_\"+f'{np.around(z0[0], 2)}'+\"_long_intermediate.jpg\", dpi = 500)\n",
    "\n",
    "plt.show()"
   ]
  },
  {
   "cell_type": "markdown",
   "metadata": {},
   "source": [
    "The $ \\mathbf{\\xi}_2 $ -Poincaré map reveals both vortical and hyperbolic flow features with much more clarity than the classic [Poincare Map](../../../AdvectiveBarriers/PoincareMap3D/Main/PoincareMapABCsteady_analytic.ipynb) computed from the same initial conditions."
   ]
  },
  {
   "cell_type": "markdown",
   "metadata": {},
   "source": [
    "# References\n",
    "[1] Oettinger, D., & Haller, G. (2016). An autonomous dynamical system captures all LCSs in three-dimensional unsteady flows. Chaos: An Interdisciplinary Journal of Nonlinear Science, 26(10), 1031\n",
    "\n",
    "[2] Notebook 5.4.2. in \"Transport Barriers and Coherent Structures in Flow Data\" by Prof. George Haller."
   ]
  }
 ],
 "metadata": {
  "kernelspec": {
   "display_name": "Python 3",
   "language": "python",
   "name": "python3"
  },
  "language_info": {
   "codemirror_mode": {
    "name": "ipython",
    "version": 3
   },
   "file_extension": ".py",
   "mimetype": "text/x-python",
   "name": "python",
   "nbconvert_exporter": "python",
   "pygments_lexer": "ipython3",
   "version": "3.7.11"
  },
  "latex_envs": {
   "LaTeX_envs_menu_present": true,
   "autoclose": false,
   "autocomplete": true,
   "bibliofile": "biblio.bib",
   "cite_by": "apalike",
   "current_citInitial": 1,
   "eqLabelWithNumbers": true,
   "eqNumInitial": 1,
   "hotkeys": {
    "equation": "Ctrl-E",
    "itemize": "Ctrl-I"
   },
   "labels_anchors": false,
   "latex_user_defs": false,
   "report_style_numbering": false,
   "user_envs_cfg": false
  },
  "toc": {
   "base_numbering": "0",
   "nav_menu": {},
   "number_sections": true,
   "sideBar": true,
   "skip_h1_title": false,
   "title_cell": "Table of Contents",
   "title_sidebar": "Contents",
   "toc_cell": false,
   "toc_position": {
    "height": "calc(100% - 180px)",
    "left": "10px",
    "top": "150px",
    "width": "309.1979064941406px"
   },
   "toc_section_display": true,
   "toc_window_display": true
  }
 },
 "nbformat": 4,
 "nbformat_minor": 4
}
