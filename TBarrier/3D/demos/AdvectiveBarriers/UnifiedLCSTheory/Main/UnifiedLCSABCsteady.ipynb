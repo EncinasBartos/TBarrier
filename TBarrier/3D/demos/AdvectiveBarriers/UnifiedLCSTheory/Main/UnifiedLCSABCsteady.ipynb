{
 "cells": [
  {
   "cell_type": "markdown",
   "metadata": {
    "ExecuteTime": {
     "end_time": "2022-01-28T09:43:28.068932Z",
     "start_time": "2022-01-28T09:43:28.066437Z"
    }
   },
   "source": [
    "We start by adding the necessary folders to the current working path."
   ]
  },
  {
   "cell_type": "code",
   "execution_count": null,
   "metadata": {
    "ExecuteTime": {
     "end_time": "2022-02-13T14:58:29.294886Z",
     "start_time": "2022-02-13T14:58:29.279925Z"
    },
    "code_folding": [
     0
    ]
   },
   "outputs": [],
   "source": [
    "# import sys/os\n",
    "import sys, os\n",
    "\n",
    "# get current directory\n",
    "path = os.getcwd()\n",
    "\n",
    "# get parent directory\n",
    "parent_directory = os.path.sep.join(path.split(os.path.sep)[:-4])\n",
    "\n",
    "# add utils folder to current working path\n",
    "sys.path.append(parent_directory+\"/subfunctions/utils\")\n",
    "\n",
    "# add integration folder to current working path\n",
    "sys.path.append(parent_directory+\"/subfunctions/integration\")"
   ]
  },
  {
   "cell_type": "markdown",
   "metadata": {},
   "source": [
    "# Overview\n",
    "\n",
    "In the following notebook we compute the Finite Time Lyapunov Exponent ($ \\mathrm{FTLE} $) on the three-dimensional, steady ABC-flow. The velocity field is given as discrete dataset defined over the 3D meshgrid $ [0,2\\pi]^3 $. The notebook is structured as follows:\n",
    "\n",
    "1. Import data from the file 'ABCsteady.mat' stored in the folder 'data/ABC'.\n",
    "<br />\n",
    "2. Define computational parameters and data.\n",
    " <br />\n",
    "3. Define spatio-temporal domain.\n",
    " <br />\n",
    "4. Interpolate velocity from (discrete) gridded data.\n",
    " <br />\n",
    "5. $ \\mathrm{FTLE} $:\n",
    "\n",
    "    * Compute gradient of flow map $ \\mathbf{\\nabla F}_{t_0}^{t_N}(\\mathbf{x}_0) $ over meshgrid using an auxiliary grid.\n",
    "     <br />\n",
    "    * Compute $ \\mathrm{FTLE} $ from maximum singular value $ \\sigma_{max} $ of $ \\mathbf{\\nabla F}_{t_0}^{t_N}(\\mathbf{x}_0) $ according to:\n",
    "    \\begin{equation}\n",
    "    \\mathrm{FTLE}_{t_0}^{t_N}(\\mathbf{x}_0) = \\dfrac{1}{t_N-t_0}\\log(\\sigma_{max}(\\mathbf{x}_0))\n",
    "    \\end{equation}\n",
    " <br />\n",
    "6. References"
   ]
  },
  {
   "cell_type": "markdown",
   "metadata": {},
   "source": [
    "# Import data\n",
    "\n",
    "We start by importing the ABC-data from 'ABCsteady.mat' located in the folder 'data/ABC'."
   ]
  },
  {
   "cell_type": "code",
   "execution_count": null,
   "metadata": {
    "ExecuteTime": {
     "end_time": "2022-02-13T14:58:31.349802Z",
     "start_time": "2022-02-13T14:58:31.236962Z"
    },
    "code_folding": [
     0
    ]
   },
   "outputs": [],
   "source": [
    "# import scipy\n",
    "import scipy.io as sio\n",
    "\n",
    "# Import velocity data from file in data-folder\n",
    "mat_file = sio.loadmat('../../../../data/ABC/ABCsteady.mat')\n",
    "\n",
    "U = mat_file['u'] # array (NY, NX, NZ)\n",
    "V = mat_file['v'] # array (NY, NX, NZ)\n",
    "W = mat_file['w'] # array (NY, NX, NZ)\n",
    "x = mat_file['x'] # array (1, NX)\n",
    "y = mat_file['y'] # array (1, NY)\n",
    "z = mat_file['z'] # array (1, NZ))"
   ]
  },
  {
   "cell_type": "markdown",
   "metadata": {},
   "source": [
    "# Computational parameters\n",
    "\n",
    "Here we define the computational parameters and the data."
   ]
  },
  {
   "cell_type": "code",
   "execution_count": null,
   "metadata": {
    "ExecuteTime": {
     "end_time": "2022-02-13T14:58:32.830790Z",
     "start_time": "2022-02-13T14:58:32.819829Z"
    },
    "code_folding": [
     0
    ]
   },
   "outputs": [],
   "source": [
    "# import numpy\n",
    "import numpy as np\n",
    "\n",
    "# Number of cores for parallel computing\n",
    "Ncores = 7 # int\n",
    "\n",
    "# Periodic boundary conditions\n",
    "periodic_x = True # bool\n",
    "periodic_y = True # bool\n",
    "periodic_z = True # bool\n",
    "periodic = [periodic_x, periodic_y, periodic_z]\n",
    "\n",
    "# Unsteady velocity field\n",
    "bool_unsteady = False # bool\n",
    "\n",
    "# Defined domain\n",
    "defined_domain = np.isfinite(U).astype(int) # array (NY, NX, NZ)\n",
    "\n",
    "## Compute meshgrid of dataset\n",
    "X, Y, Z = np.meshgrid(x, y, z) # array (NY, NX), array (NY, NX, NZ)\n",
    "\n",
    "## Resolution of meshgrid\n",
    "dx_data = X[0,1,0]-X[0,0,0] # float\n",
    "dy_data = Y[1,0,0]-Y[0,0,0] # float\n",
    "dz_data = Y[0,0,1]-Z[0,0,0] # float\n",
    "\n",
    "delta = [dx_data, dy_data, dx_data] # list (3, )"
   ]
  },
  {
   "cell_type": "markdown",
   "metadata": {},
   "source": [
    "# Spatio-temporal domain\n",
    "\n",
    "Here we define the spatio-temporal domain over which to consider the dynamical system."
   ]
  },
  {
   "cell_type": "code",
   "execution_count": null,
   "metadata": {
    "ExecuteTime": {
     "end_time": "2022-02-13T14:59:46.640587Z",
     "start_time": "2022-02-13T14:59:46.603543Z"
    },
    "code_folding": [
     0
    ]
   },
   "outputs": [],
   "source": [
    "# Initial time (in days)\n",
    "t0 = 0 # float\n",
    "\n",
    "# Final time (in days)\n",
    "tN = 10 # float\n",
    "\n",
    "# Time step-size (in days)\n",
    "dt = 0.1 # float\n",
    "\n",
    "# NOTE: For computing the backward FTLE field tN < t0 and dt < 0.\n",
    "\n",
    "time = np.arange(t0, tN+dt, dt) # shape (Nt,)\n",
    "\n",
    "# Length of time interval (in days)\n",
    "lenT = abs(tN-t0) # float\n",
    "\n",
    "# boundaries\n",
    "xmin = 0 # float\n",
    "xmax = 2*np.pi # float\n",
    "ymin = 0 # float\n",
    "ymax = 2*np.pi # float\n",
    "zmin = 0 # float\n",
    "zmax = 2*np.pi # float\n",
    "\n",
    "# Resolution of meshgrid\n",
    "Ny = 200 # int\n",
    "Nx = 200 # int\n",
    "Nz = 200 # int\n",
    "\n",
    "x_domain = np.linspace(xmin, xmax, Nx, endpoint = True) # array (Nx, )\n",
    "y_domain = np.linspace(ymin, ymax, Ny, endpoint = True) # array (Ny, )\n",
    "z_domain = np.linspace(zmin, zmax, Nz, endpoint = True) # array (Nz, )\n",
    "\n",
    "dx = x_domain[1]-x_domain[0]\n",
    "dy = y_domain[1]-y_domain[0]\n",
    "dz = z_domain[1]-z_domain[0]\n",
    "\n",
    "X_domain, Y_domain, Z_domain = np.meshgrid(x_domain, y_domain, z_domain) # array (Ny, Nx, Nz)\n",
    "\n",
    "# auxiliary grid spacing\n",
    "aux_grid = [0.1*dx, 0.1*dy, 0.1*dz] # list (3,)\n",
    "\n",
    "Ny = X_domain.shape[0] # int\n",
    "Nx = X_domain.shape[1] # int\n",
    "Nz = X_domain.shape[2] # int\n",
    "\n",
    "x_domain_poincare = np.linspace(xmin, xmax, 10, endpoint = True) # array (20, )\n",
    "y_domain_poincare = np.linspace(ymin, ymax, 10, endpoint = True) # array (20, )\n",
    "z_domain_poincare = np.linspace(zmin, zmax, 10, endpoint = True) # array (20, )\n",
    "\n",
    "X_domain_poincare, Y_domain_poincare, Z_domain_poincare = np.meshgrid(x_domain_poincare, y_domain_poincare, z_domain_poincare) # array (10, 10, 10) "
   ]
  },
  {
   "cell_type": "markdown",
   "metadata": {},
   "source": [
    "# Velocity Interpolation\n",
    "\n",
    "In order to evaluate the velocity field at arbitrary locations, we interpolate the discrete velocity data. The interpolation with respect to time and space is always linear."
   ]
  },
  {
   "cell_type": "code",
   "execution_count": null,
   "metadata": {
    "ExecuteTime": {
     "end_time": "2022-02-13T14:59:47.461323Z",
     "start_time": "2022-02-13T14:59:47.452347Z"
    },
    "code_folding": [
     0
    ]
   },
   "outputs": [],
   "source": [
    "# Import interpolation function for unsteady flow field\n",
    "from ipynb.fs.defs.Interpolant import interpolant_steady\n",
    "\n",
    "# Set nan values to zero (in case there are any) so that we can apply interpolant. \n",
    "# Interpolant does not work if the array contains nan values. \n",
    "U[np.isnan(U)] = 0\n",
    "V[np.isnan(V)] = 0\n",
    "W[np.isnan(W)] = 0\n",
    "\n",
    "# Interpolate velocity data using cubic spatial interpolation\n",
    "Interpolant = interpolant_steady(X, Y, Z, U, V, W)\n",
    "\n",
    "Interpolant_u = Interpolant[0] # RectangularBivariateSpline-object\n",
    "Interpolant_v = Interpolant[1] # RectangularBivariateSpline-object\n",
    "Interpolant_w = Interpolant[2] # RectangularBivariateSpline-object"
   ]
  },
  {
   "cell_type": "markdown",
   "metadata": {},
   "source": [
    "# Compute gradient of flow map"
   ]
  },
  {
   "cell_type": "code",
   "execution_count": null,
   "metadata": {
    "ExecuteTime": {
     "end_time": "2022-02-13T14:59:48.302830Z",
     "start_time": "2022-02-13T14:59:48.291859Z"
    },
    "code_folding": [
     0,
     7
    ]
   },
   "outputs": [],
   "source": [
    "# Import function to compute gradient of flow map\n",
    "from ipynb.fs.defs.gradient_flowmap import gradient_flowmap\n",
    "\n",
    "# Import package for parallel computing\n",
    "from joblib import Parallel, delayed\n",
    "\n",
    "# Split x0, y0 into 'Ncores' equal batches for parallel computing\n",
    "def split(a, n):\n",
    "    k, m = divmod(len(a), n)\n",
    "    return (a[i*k+min(i, m):(i+1)*k+min(i+1, m)] for i in range(n))\n",
    "\n",
    "def calculate_gradFmap(x0_batch, y0_batch, z0_batch):\n",
    "    \n",
    "    # Initial conditions\n",
    "    X0 = np.array([x0_batch, y0_batch, z0_batch]) # array (3, Nx*Ny*Nz)\n",
    "\n",
    "    DF = gradient_flowmap(time, X0, X, Y, Z, Interpolant_u, Interpolant_v, Interpolant_w, periodic, bool_unsteady, aux_grid)[1] # array (Nt, 3, 3, Nx*Ny*Nz)\n",
    "    \n",
    "    return DF[-1,:,:,:]"
   ]
  },
  {
   "cell_type": "code",
   "execution_count": null,
   "metadata": {
    "ExecuteTime": {
     "start_time": "2022-02-13T14:59:48.979Z"
    },
    "code_folding": [],
    "run_control": {
     "marked": false
    }
   },
   "outputs": [],
   "source": [
    "# Vectorize initial conditions by arranging them to a vector of size (Nx*Ny*Nz, )\n",
    "x0 = X_domain.ravel() # array (Nx*Ny*Nz,)\n",
    "y0 = Y_domain.ravel() # array (Nx*Ny*Nz,)\n",
    "z0 = Z_domain.ravel() # array (Nx*Ny*Nz,)\n",
    "\n",
    "x0_batch = list(split(x0, Ncores)) # list (Nx*Ny)\n",
    "y0_batch = list(split(y0, Ncores)) # list (Nx*Ny)\n",
    "z0_batch = list(split(z0, Ncores)) # list (Nx*Ny)\n",
    "\n",
    "results = Parallel(n_jobs=Ncores, verbose = 50)(delayed(calculate_gradFmap)(x0_batch[i], y0_batch[i], z0_batch[i]) for i in range(len(x0_batch)))\n",
    "\n",
    "# Extract gradient of flow map from results of parallel computing\n",
    "gradFmap = results[0]\n",
    "\n",
    "for res in results[1:]:\n",
    "    gradFmap = np.append(gradFmap, res, axis = 2)\n",
    "    \n",
    "# Reshape array storing gradient of flow map over meshgrid\n",
    "gradFmap = np.array(gradFmap).reshape(3, 3, Nx, Ny, Nz)"
   ]
  },
  {
   "cell_type": "markdown",
   "metadata": {},
   "source": [
    "# Interpolate gradient of flow map"
   ]
  },
  {
   "cell_type": "code",
   "execution_count": null,
   "metadata": {
    "ExecuteTime": {
     "end_time": "2022-01-28T09:45:55.776323Z",
     "start_time": "2022-01-28T09:45:50.535517Z"
    },
    "code_folding": [
     0,
     29
    ],
    "run_control": {
     "marked": true
    }
   },
   "outputs": [],
   "source": [
    "# Import (cubic) RectangularGridInterpolant from scipy\n",
    "from scipy.interpolate import RegularGridInterpolator\n",
    "        \n",
    "# Compute elements of gradient of flow map\n",
    "gradF11 = np.nan_to_num(gradFmap[0,0,:,:,:], nan=0.0)\n",
    "gradF12 = np.nan_to_num(gradFmap[0,1,:,:,:], nan=0.0)\n",
    "gradF13 = np.nan_to_num(gradFmap[0,2,:,:,:], nan=0.0)\n",
    "\n",
    "gradF21 = np.nan_to_num(gradFmap[1,0,:,:,:], nan=0.0)\n",
    "gradF22 = np.nan_to_num(gradFmap[1,1,:,:,:], nan=0.0)\n",
    "gradF23 = np.nan_to_num(gradFmap[1,2,:,:,:], nan=0.0)\n",
    "\n",
    "gradF31 = np.nan_to_num(gradFmap[2,0,:,:,:], nan=0.0)\n",
    "gradF32 = np.nan_to_num(gradFmap[2,1,:,:,:], nan=0.0)\n",
    "gradF33 = np.nan_to_num(gradFmap[2,2,:,:,:], nan=0.0)\n",
    "\n",
    "# Interpolate elements of gradient of flow map\n",
    "interpgradF11 = RegularGridInterpolator((Y_domain[:,0,0], X_domain[0,:,0], Z_domain[0,0,:]), gradF11)\n",
    "interpgradF12 = RegularGridInterpolator((Y_domain[:,0,0], X_domain[0,:,0], Z_domain[0,0,:]), gradF12)\n",
    "interpgradF13 = RegularGridInterpolator((Y_domain[:,0,0], X_domain[0,:,0], Z_domain[0,0,:]), gradF13)\n",
    "\n",
    "interpgradF21 = RegularGridInterpolator((Y_domain[:,0,0], X_domain[0,:,0], Z_domain[0,0,:]), gradF21)\n",
    "interpgradF22 = RegularGridInterpolator((Y_domain[:,0,0], X_domain[0,:,0], Z_domain[0,0,:]), gradF22)\n",
    "interpgradF23 = RegularGridInterpolator((Y_domain[:,0,0], X_domain[0,:,0], Z_domain[0,0,:]), gradF23)\n",
    "\n",
    "interpgradF31 = RegularGridInterpolator((Y_domain[:,0,0], X_domain[0,:,0], Z_domain[0,0,:]), gradF31)\n",
    "interpgradF32 = RegularGridInterpolator((Y_domain[:,0,0], X_domain[0,:,0], Z_domain[0,0,:]), gradF32)\n",
    "interpgradF33 = RegularGridInterpolator((Y_domain[:,0,0], X_domain[0,:,0], Z_domain[0,0,:]), gradF33)\n",
    "\n",
    "def evaluate_gradF(x):\n",
    "    \n",
    "    x_flipped = x.copy()\n",
    "    \n",
    "    x_flipped.T[[0,1]]= x_flipped.T[[1, 0]]\n",
    "    \n",
    "    gradF = np.zeros((x.shape[0], 3, 3))\n",
    "    gradF[:,0,0] = interpgradF11(x_flipped)\n",
    "    gradF[:,0,1] = interpgradF12(x_flipped)\n",
    "    gradF[:,0,2] = interpgradF13(x_flipped)\n",
    "    \n",
    "    gradF[:,1,0] = interpgradF21(x_flipped)\n",
    "    gradF[:,1,1] = interpgradF22(x_flipped)\n",
    "    gradF[:,1,2] = interpgradF23(x_flipped)\n",
    "\n",
    "    gradF[:,2,0] = interpgradF31(x_flipped)\n",
    "    gradF[:,2,1] = interpgradF32(x_flipped)\n",
    "    gradF[:,2,2] = interpgradF33(x_flipped)\n",
    "    \n",
    "    return gradF"
   ]
  },
  {
   "cell_type": "code",
   "execution_count": null,
   "metadata": {
    "ExecuteTime": {
     "end_time": "2022-01-28T09:45:55.838610Z",
     "start_time": "2022-01-28T09:45:55.789784Z"
    },
    "code_folding": [
     0,
     3,
     10
    ]
   },
   "outputs": [],
   "source": [
    "# Import package to compute singular values of 3x3 matrix\n",
    "from ipynb.fs.defs.SVD3D import SVD\n",
    "\n",
    "def calculate_Fmap(x0_batch, y0_batch, z0_batch):\n",
    "    \n",
    "    # Initial conditions\n",
    "    X0 = np.array([x0_batch, y0_batch, z0_batch]) # array (3, Nx*Ny*Nz)\n",
    "    \n",
    "    return evaluate_gradF(X0.transpose())\n",
    "\n",
    "def oriented_vector(x_interp):\n",
    "    \n",
    "    gradFmap_t0_tN = calculate_Fmap(x_interp[:,0], x_interp[:,1], x_interp[:,2])\n",
    "    \n",
    "    eigenvector = np.zeros((gradFmap_t0_tN.shape[0], 3))*np.nan\n",
    "    \n",
    "    for i in range(gradFmap_t0_tN.shape[0]):\n",
    "        \n",
    "        P, SIG, Q = SVD(gradFmap_t0_tN[i,:,:])\n",
    "        \n",
    "        eigenvector[i,:] = Q[:,1]#min_eigenvalue_diff*Q[:,idx_eigenvector]\n",
    "\n",
    "    return eigenvector"
   ]
  },
  {
   "cell_type": "markdown",
   "metadata": {},
   "source": [
    "# Poincare Map"
   ]
  },
  {
   "cell_type": "code",
   "execution_count": null,
   "metadata": {
    "ExecuteTime": {
     "end_time": "2022-01-28T13:29:47.786087Z",
     "start_time": "2022-01-28T09:45:55.840605Z"
    },
    "code_folding": [
     0
    ],
    "run_control": {
     "marked": true
    }
   },
   "outputs": [],
   "source": [
    "# Import package for parallel computing\n",
    "from joblib import Parallel, delayed\n",
    "\n",
    "# Import package to compute eigenvalues of 3x3 matrix\n",
    "from ipynb.fs.defs.eigen import eigen\n",
    "            \n",
    "def RK4_xi2(x, x_prime_before, ds):\n",
    "    \n",
    "    # Define starting point.\n",
    "    x1 = x\n",
    "    \n",
    "    x1_interp = x1%(2*pi)\n",
    "    \n",
    "    # Compute x_prime at the beginning of the time-step\n",
    "    x_prime = oriented_vector(x1_interp)\n",
    "    \n",
    "    x_prime_reoriented = x_prime.copy()\n",
    "    for i in range(x_prime.shape[0]):\n",
    "        x_prime_reoriented[i,:] = x_prime[i,:]*np.sign(x_prime[i,0]*x_prime_before[i,0]+x_prime[i,1]*x_prime_before[i,1]+x_prime[i,2]*x_prime_before[i,2])\n",
    "    k1 = ds * x_prime_reoriented\n",
    "    \n",
    "    #  position and time at the first midpoint.\n",
    "    x2 = x1 + .5 * k1\n",
    "    \n",
    "    x2_interp = x2%(2*pi)\n",
    "    \n",
    "    # Compute x_prime at the first midpoint.\n",
    "    x_prime = oriented_vector(x2_interp)\n",
    "    \n",
    "    for i in range(x_prime.shape[0]):\n",
    "        x_prime_reoriented[i,:] = x_prime[i,:]*np.sign(x_prime[i,0]*x_prime_before[i,0]+x_prime[i,1]*x_prime_before[i,1]+x_prime[i,2]*x_prime_before[i,2])\n",
    "    \n",
    "    k2 = ds * x_prime_reoriented\n",
    "    \n",
    "    # Update position at the second midpoint.\n",
    "    x3 = x1 + .5 * k2\n",
    "    \n",
    "    x3_interp = x3%(2*pi)\n",
    "    \n",
    "    # Compute x_prime at the second midpoint.\n",
    "    x_prime = oriented_vector(x3_interp)\n",
    "\n",
    "    for i in range(x_prime.shape[0]):\n",
    "        x_prime_reoriented[i,:] = x_prime[i,:]*np.sign(x_prime[i,0]*x_prime_before[i,0]+x_prime[i,1]*x_prime_before[i,1]+x_prime[i,2]*x_prime_before[i,2])\n",
    "    \n",
    "    k3 = ds * x_prime_reoriented\n",
    "    \n",
    "    # Update position at the endpoint.\n",
    "    x4 = x1 + k3\n",
    "    \n",
    "    x4_interp = x4%(2*pi)\n",
    "    \n",
    "    # Compute x_prime at the endpoint.\n",
    "    x_prime = oriented_vector(x4_interp)\n",
    "    \n",
    "    for i in range(x_prime.shape[0]):\n",
    "        x_prime_reoriented[i,:] = x_prime[i,:]*np.sign(x_prime[i,0]*x_prime_before[i,0]+x_prime[i,1]*x_prime_before[i,1]+x_prime[i,2]*x_prime_before[i,2])\n",
    "    \n",
    "    k4 = ds * x_prime_reoriented\n",
    "    \n",
    "    x_prime_avg = 1.0/6.0*(k1+2*k2+2*k3+k4)\n",
    "    x_update = x+x_prime_avg\n",
    "    \n",
    "    return x_update, x_prime_avg\n",
    "\n",
    "# Vectorize initial conditions by arranging them to a vector of size (10*10*10, 3)\n",
    "x0 = X_domain_poincare[:,:,0].ravel()\n",
    "y0 = Y_domain_poincare[:,:,0].ravel()\n",
    "z0 = Z_domain_poincare[:,:,0].ravel()\n",
    "\n",
    "x0_batch = list(split(x0, Ncores)) # list (Nx*Ny*Nz)\n",
    "y0_batch = list(split(y0, Ncores)) # list (Nx*Ny*Nz)\n",
    "z0_batch = list(split(z0, Ncores)) # list (Nx*Ny*Nz)\n",
    "\n",
    "ds = 0.025\n",
    "s_range = np.arange(0, 2*10**4, ds)\n",
    "\n",
    "def xi2_tensorlines(x0, y0, z0):\n",
    "    \n",
    "    X0 = np.zeros((x0.shape[0], 3))\n",
    "\n",
    "    X0[:,0] = x0\n",
    "    X0[:,1] = y0\n",
    "    X0[:,2] = z0\n",
    "\n",
    "    x_prime_before = np.zeros(X0.shape)\n",
    "    x_prime_before[:,0] = 1\n",
    "    \n",
    "    X_tensorlines = np.zeros((len(s_range), X0.shape[0], X0.shape[1]))\n",
    "    X_tensorlines[0,:,:] = X0.copy()\n",
    "    \n",
    "    for s in range(len(s_range)-1):\n",
    "        if s % 1000 == 0:\n",
    "            print(\"Percentage completed: \", int(100*s/len(s_range)))\n",
    "        X_tensorlines[s+1,:,:], x_prime_before = RK4_classic_tensorline(X_tensorlines[s,:,:], x_prime_before, ds)\n",
    "        \n",
    "    return X_tensorlines\n",
    "    \n",
    "results = Parallel(n_jobs=Ncores, verbose = 2)(delayed(parallel_tensorlines)(x0_batch[i], y0_batch[i], z0_batch[i]) for i in range(len(x0_batch)))\n",
    "\n",
    "# Extract results from parallel computation\n",
    "X_tensorlines = results[0]\n",
    "\n",
    "for res in results[1:]:\n",
    "    X_tensorlines = np.append(X_tensorlines, res, axis = 1)\n",
    "    "
   ]
  },
  {
   "cell_type": "code",
   "execution_count": null,
   "metadata": {
    "ExecuteTime": {
     "end_time": "2022-01-28T13:31:32.755471Z",
     "start_time": "2022-01-28T13:29:47.787574Z"
    },
    "code_folding": [
     0
    ]
   },
   "outputs": [],
   "source": [
    "# Import package for parallel computing\n",
    "from joblib import delayed, Parallel\n",
    "\n",
    "# Import 1D cubic spline interpolant\n",
    "from scipy.interpolate import CubicSpline\n",
    "\n",
    "# Import 1D linear interpolant\n",
    "from scipy.interpolate import interp1d\n",
    "\n",
    "# import math tools\n",
    "from math import pi\n",
    "\n",
    "def parallel_PoincareMap(time, Fmap, t0, tN, idx_poincare):\n",
    "    \n",
    "    # CubicSpline Interpolation for x,y and z component of the trajectories\n",
    "    cs_x = CubicSpline(time, Fmap[:,0])\n",
    "    cs_y = CubicSpline(time, Fmap[:,1])\n",
    "    cs_z = CubicSpline(time, Fmap[:,2])\n",
    "    \n",
    "    z = Fmap[0,2]\n",
    "    \n",
    "    time_poincare = np.arange(t0, tN, dt)\n",
    "    \n",
    "    # evaluate long-term behaviour of x,y and z component\n",
    "    x_interp = cs_x(time_poincare)\n",
    "    y_interp = cs_y(time_poincare)\n",
    "    z_interp = cs_z(time_poincare)\n",
    "    \n",
    "    x_intersec, y_intersec, z_intersec = [], [], []\n",
    "    x_prime_intersec, y_prime_intersec, z_prime_intersec = [], [], []\n",
    "    \n",
    "    if idx_poincare == \"x\":\n",
    "        \n",
    "        coord_interp = x_interp\n",
    "        \n",
    "    elif idx_poincare == \"y\":\n",
    "        \n",
    "        coord_interp = y_interp\n",
    "        \n",
    "    elif idx_poincare == \"z\":\n",
    "        \n",
    "        coord_interp = z_interp \n",
    "    \n",
    "    # iterate along long-term trajectories \n",
    "    for i in range(len(coord_interp)-1):\n",
    "        \n",
    "        # if intersection then compute intersection point.\n",
    "        \n",
    "        if z == 0 or z == 2*pi:\n",
    "        \n",
    "            intersection_Condition = np.abs(coord_interp[i]%(2*pi)-coord_interp[i+1]%(2*pi)) > pi\n",
    "            \n",
    "            coord_interp_shifted = coord_interp[i:i+2]-np.around((coord_interp[i]/(2*pi)), 0)*2*pi\n",
    "            \n",
    "        else:\n",
    "            \n",
    "            intersection_Condition = (coord_interp[i]%(2*pi)>z and coord_interp[i+1]%(2*pi)<z) or (coord_interp[i]%(2*pi)<z and coord_interp[i+1]%(2*pi)>z)\n",
    "            coord_interp_shifted = coord_interp[i:i+2]%(2*pi)-z\n",
    "    \n",
    "        if intersection_Condition:\n",
    "            \n",
    "            root = -coord_interp_shifted[0]*dt/(coord_interp_shifted[1]-coord_interp_shifted[0])+time_poincare[i]\n",
    "            x_intersec.append(cs_x(root)%(2*pi))\n",
    "            y_intersec.append(cs_y(root)%(2*pi))\n",
    "            z_intersec.append(cs_z(root)%(2*pi))\n",
    "            \n",
    "            dxdt = cs_x(root, 1)\n",
    "            dydt = cs_y(root, 1)\n",
    "            dzdt = cs_z(root, 1)\n",
    "            \n",
    "            norm = sqrt(dxdt**2+dydt**2+dzdt**2)\n",
    "            \n",
    "            x_prime_intersec.append(dxdt/norm)\n",
    "            y_prime_intersec.append(dydt/norm)\n",
    "            z_prime_intersec.append(dzdt/norm)\n",
    "    \n",
    "    return x_intersec, y_intersec, z_intersec, x_prime_intersec, y_prime_intersec, z_prime_intersec\n",
    "\n",
    "results = Parallel(n_jobs=Ncores, verbose = 2)(delayed(parallel_PoincareMap)(s_range, X_tensorlines[:,i,:], t0=0.8*s_range[-1], tN=s_range[-1], idx_poincare = \"z\") for i in range(X_tensorlines.shape[1]))\n",
    "\n",
    "x_intersec, y_intersec, z_intersec = [], [], []\n",
    "x_prime_intersec, y_prime_intersec, z_prime_intersec = [], [], []\n",
    "\n",
    "for res in results:\n",
    "    for i in range(len(res[0])):\n",
    "        x_intersec.append(res[0][i])\n",
    "        y_intersec.append(res[1][i])\n",
    "        z_intersec.append(res[2][i])\n",
    "        x_prime_intersec.append(res[3][i])\n",
    "        y_prime_intersec.append(res[4][i])\n",
    "        z_prime_intersec.append(res[5][i])"
   ]
  },
  {
   "cell_type": "code",
   "execution_count": null,
   "metadata": {
    "ExecuteTime": {
     "end_time": "2022-01-28T13:31:35.739093Z",
     "start_time": "2022-01-28T13:31:32.757137Z"
    },
    "code_folding": [
     0
    ],
    "scrolled": false
   },
   "outputs": [],
   "source": [
    "############################################ PLOT RESULTS ############################################\n",
    "\n",
    "# Import plotting libraries\n",
    "import matplotlib.pyplot as plt\n",
    "\n",
    "# Figure/Axes\n",
    "fig = plt.figure(figsize = (8, 8), dpi=500)\n",
    "ax = plt.axes()\n",
    "\n",
    "# Poincare Map\n",
    "ax.scatter(x_intersec, y_intersec, c = \"b\", s = .15, marker = \"o\")\n",
    "\n",
    "# Axis Label\n",
    "ax.set_xlabel(\"x\", fontsize = 10)\n",
    "ax.set_ylabel(\"y\", fontsize = 10)\n",
    "\n",
    "# Axis limits\n",
    "ax.set_xlim([0, 2*pi])\n",
    "ax.set_ylim([0, 2*pi])\n",
    "\n",
    "ax.text(1, 6, f'dummy time: [{int(s_range[0])}, {\"{:.1e}\".format(np.around(s_range[-1], 0))}]', ha=\"center\", va=\"center\", rotation=0, size=8,\n",
    "    bbox=dict(fc=\"cyan\", ec=\"b\", lw=2))\n",
    "\n",
    "# Title\n",
    "ax.set_title(f'$\\u03BE_{2}$'+'-tensorlines of C'+f'$_{{{np.around(time[0],1)}}}^{{{np.around(time[-1],1)}}}$', fontsize = 10)\n",
    "ax.set_aspect('equal')\n",
    "\n",
    "plt.savefig(\"Poincare_\"+f'{np.around(z0[0], 2)}'+\"_CG_inst.jpg\", dpi = 500)\n",
    "\n",
    "plt.show()"
   ]
  },
  {
   "cell_type": "code",
   "execution_count": null,
   "metadata": {},
   "outputs": [],
   "source": []
  }
 ],
 "metadata": {
  "kernelspec": {
   "display_name": "Python 3",
   "language": "python",
   "name": "python3"
  },
  "language_info": {
   "codemirror_mode": {
    "name": "ipython",
    "version": 3
   },
   "file_extension": ".py",
   "mimetype": "text/x-python",
   "name": "python",
   "nbconvert_exporter": "python",
   "pygments_lexer": "ipython3",
   "version": "3.7.12"
  },
  "toc": {
   "base_numbering": "0",
   "nav_menu": {},
   "number_sections": true,
   "sideBar": true,
   "skip_h1_title": false,
   "title_cell": "Table of Contents",
   "title_sidebar": "Contents",
   "toc_cell": false,
   "toc_position": {
    "height": "calc(100% - 180px)",
    "left": "10px",
    "top": "150px",
    "width": "299.2px"
   },
   "toc_section_display": true,
   "toc_window_display": true
  }
 },
 "nbformat": 4,
 "nbformat_minor": 4
}
