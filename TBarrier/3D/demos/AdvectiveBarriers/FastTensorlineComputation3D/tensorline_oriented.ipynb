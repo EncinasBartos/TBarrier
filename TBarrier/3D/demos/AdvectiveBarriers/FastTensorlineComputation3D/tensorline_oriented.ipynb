{
 "cells": [
  {
   "cell_type": "code",
   "execution_count": null,
   "metadata": {},
   "outputs": [],
   "source": [
    "import sys, os\n",
    "\n",
    "# get current directory\n",
    "path = os.getcwd()\n",
    "\n",
    "# get parent directory\n",
    "parent_directory = os.path.sep.join(path.split(os.path.sep)[:-2])\n",
    "\n",
    "# add Algorithm folder to current working path\n",
    "sys.path.append(parent_directory+\"/subfunctions\")"
   ]
  },
  {
   "cell_type": "code",
   "execution_count": null,
   "metadata": {},
   "outputs": [],
   "source": [
    "# Import numpy\n",
    "import numpy as np\n",
    "\n",
    "# Import package to compute gradient of velocity\n",
    "from ipynb.fs.defs.gradient_velocity import gradient_velocity\n",
    "\n",
    "# Import package to compute rate of strain\n",
    "from ipynb.fs.defs.RateStrain import RateStrain\n",
    "\n",
    "# Import package to compute eigenvalue\n",
    "from ipynb.fs.defs.eigen import eigen\n",
    "\n",
    "# import pi from math\n",
    "from math import pi\n",
    "\n",
    "def _tensorline_oriented(x_oriented, xprime, interpS11, interpS12, interpS13, interpS22, interpS23, interpS33, idx_eigenvector):\n",
    "    \n",
    "    x = x_oriented[0]%(2*pi)\n",
    "    y = x_oriented[1]%(2*pi)\n",
    "    z = x_oriented[2]%(2*pi)\n",
    "    \n",
    "    S11 = interpS11([y, x, z])[0]\n",
    "    S12 = interpS12([y, x, z])[0]\n",
    "    S22 = interpS22([y, x, z])[0]\n",
    "    S13 = interpS13([y, x, z])[0]\n",
    "    S23 = interpS23([y, x, z])[0]\n",
    "    S33 = interpS33([y, x, z])[0]\n",
    "    \n",
    "    S21 = S12.copy()\n",
    "    S31 = S13.copy()\n",
    "    S32 = S23.copy()\n",
    "    \n",
    "    S = np.array([[S11, S12, S13], [S21, S22, S23], [S31, S32, S33]])\n",
    "\n",
    "    lam, eigenv = eigen(S)\n",
    "    \n",
    "    # compute eigenvector\n",
    "    lam, eigenv = eigen(S)\n",
    "    if abs(lam[0]-lam[1]) <= .01 or abs(lam[0]-lam[2]) <= .01 or abs(lam[1]-lam[2]) <= .01:\n",
    "        return np.array([0, 0, 0])\n",
    "    \n",
    "    else:\n",
    "        v = eigenv[:,idx_eigenvector]\n",
    "        # re-orient eigenvector\n",
    "        if np.sign(v@xprime) < 0:\n",
    "            v = -v\n",
    "        return v"
   ]
  }
 ],
 "metadata": {
  "kernelspec": {
   "display_name": "Python 3",
   "language": "python",
   "name": "python3"
  },
  "language_info": {
   "codemirror_mode": {
    "name": "ipython",
    "version": 3
   },
   "file_extension": ".py",
   "mimetype": "text/x-python",
   "name": "python",
   "nbconvert_exporter": "python",
   "pygments_lexer": "ipython3",
   "version": "3.7.11"
  },
  "toc": {
   "base_numbering": 1,
   "nav_menu": {},
   "number_sections": true,
   "sideBar": true,
   "skip_h1_title": false,
   "title_cell": "Table of Contents",
   "title_sidebar": "Contents",
   "toc_cell": false,
   "toc_position": {},
   "toc_section_display": true,
   "toc_window_display": false
  }
 },
 "nbformat": 4,
 "nbformat_minor": 5
}
