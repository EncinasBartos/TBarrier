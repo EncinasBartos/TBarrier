{
 "cells": [
  {
   "cell_type": "code",
   "execution_count": 1,
   "metadata": {
    "ExecuteTime": {
     "end_time": "2022-01-17T12:50:47.216028Z",
     "start_time": "2022-01-17T12:50:47.201068Z"
    }
   },
   "outputs": [],
   "source": [
    "# add folders to working path"
   ]
  },
  {
   "cell_type": "code",
   "execution_count": 2,
   "metadata": {
    "ExecuteTime": {
     "end_time": "2022-01-17T12:50:47.231985Z",
     "start_time": "2022-01-17T12:50:47.217027Z"
    }
   },
   "outputs": [
    {
     "name": "stdout",
     "output_type": "stream",
     "text": [
      "Wall time: 0 ns\n"
     ]
    }
   ],
   "source": [
    "%%time\n",
    "import sys, os\n",
    "\n",
    "# get current directory\n",
    "path = os.getcwd()\n",
    "\n",
    "# get parent directory\n",
    "parent_directory = os.path.sep.join(path.split(os.path.sep)[:-4])\n",
    "\n",
    "# add utils folder to current working path\n",
    "sys.path.append(parent_directory+\"/subfunctions/utils\")\n",
    "\n",
    "# add integration folder to current working path\n",
    "sys.path.append(parent_directory+\"/subfunctions/integration\")\n",
    "\n",
    "# add FastTensorlineComputation folder to current working path in order to access the functions\n",
    "sys.path.append(parent_directory+\"/demos/AdvectiveBarriers/FastTensorlineComputation3D\")"
   ]
  },
  {
   "cell_type": "markdown",
   "metadata": {},
   "source": [
    "# Overview\n",
    "\n",
    "In the following notebook we compute the Poincaré Map of the three-dimensional, steady ABC-flow. The notebook is structured as follows:\n",
    "\n",
    "1. Define analytic velocity field of the three-dimensional solution of the Euler equations, the steady and spatially periodic Arnold-Beltrami-Childress (ABC) flow:\n",
    "\\begin{equation}\n",
    "\\begin{pmatrix} \\dot{x}(t) \\\\ \\dot{y}(t) \\\\ \\dot{z}(t) \\end{pmatrix} = \\begin{pmatrix} u \\\\ v \\\\ w \\end{pmatrix} = \\begin{pmatrix} \\sqrt{3}\\sin(z)+\\cos(y) \\\\ \\sqrt{2}\\sin(x) + \\sqrt{3}\\cos(z) \\\\ \\sin(y)+\\sqrt{2}\\cos(x) \\end{pmatrix}, \\quad (x,y,z) \\in [0, 2\\pi]^3\n",
    "\\label{eq: periodicABC}\n",
    "\\end{equation}\n",
    "<br />\n",
    "2. Define computational parameters.\n",
    " <br />\n",
    "3. Define spatio-temporal domain.\n",
    " <br />"
   ]
  },
  {
   "cell_type": "markdown",
   "metadata": {},
   "source": [
    "# Analytic velocity field\n",
    "\n",
    "Here we define the spatially periodic and steady three dimensional ABC-velocity field."
   ]
  },
  {
   "cell_type": "code",
   "execution_count": 3,
   "metadata": {
    "ExecuteTime": {
     "end_time": "2022-01-17T12:50:47.263900Z",
     "start_time": "2022-01-17T12:50:47.240961Z"
    }
   },
   "outputs": [],
   "source": [
    "def velocity(x, y, z):\n",
    "\n",
    "    u = sqrt(3)*np.sin(z)+np.cos(y)\n",
    "    v = sqrt(2)*np.sin(x)+sqrt(3)*np.cos(z)\n",
    "    w = np.sin(y)+sqrt(2)*np.cos(x)\n",
    "    \n",
    "    return np.array([u, v, w])\n",
    "\n",
    "def dudx(x, y, z):\n",
    "    return 0*x.copy()\n",
    "def dudy(x, y, z):\n",
    "    return np.sin(y)\n",
    "def dudz(x, y, z):\n",
    "    return sqrt(3)*np.cos(z)\n",
    "def dvdx(x, y, z):\n",
    "    return sqrt(2)*np.cos(x)\n",
    "def dvdy(x, y, z):\n",
    "    return 0*x.copy()\n",
    "def dvdz(x, y, z):\n",
    "    return -sqrt(3)*np.sin(z)\n",
    "def dwdx(x, y, z):\n",
    "    return -sqrt(2)*np.sin(x)\n",
    "def dwdy(x, y, z):\n",
    "    return np.cos(y)\n",
    "def dwdz(x, y, z):\n",
    "    return 0*x.copy()\n",
    "\n",
    "def vorticity(x, y, z):\n",
    "    \n",
    "    #vorticity_x = dwdy(x, y, z)-dudz(x, y, z)\n",
    "    #vorticity_y = dudz(x, y, z)-dwdx(x, y, z)\n",
    "    #vorticity_z = dvdx(x, y, z)-dudy(x, y, z)\n",
    "    \n",
    "    return velocity(x, y, z)"
   ]
  },
  {
   "cell_type": "markdown",
   "metadata": {},
   "source": [
    "# Computational parameters\n",
    "\n",
    "Here we define the computational parameters and the analytic velocity field."
   ]
  },
  {
   "cell_type": "code",
   "execution_count": 4,
   "metadata": {
    "ExecuteTime": {
     "end_time": "2022-01-17T12:50:47.355654Z",
     "start_time": "2022-01-17T12:50:47.264897Z"
    }
   },
   "outputs": [],
   "source": [
    "# import numpy\n",
    "import numpy as np\n",
    "\n",
    "# import math tools\n",
    "from math import sqrt, pi\n",
    "\n",
    "# number of cores to be used for parallel computing\n",
    "Ncores = 6\n",
    "\n",
    "# periodic boundary conditions\n",
    "periodic_x = True\n",
    "periodic_y = True\n",
    "periodic_z = True\n",
    "periodic = [periodic_x, periodic_y, periodic_z]"
   ]
  },
  {
   "cell_type": "markdown",
   "metadata": {},
   "source": [
    "# Spatio-temporal domain\n",
    "\n",
    "Here we define the spatio-temporal domain over which to consider the dynamical system."
   ]
  },
  {
   "cell_type": "code",
   "execution_count": 5,
   "metadata": {
    "ExecuteTime": {
     "end_time": "2022-01-17T12:50:47.371612Z",
     "start_time": "2022-01-17T12:50:47.356652Z"
    }
   },
   "outputs": [
    {
     "name": "stdout",
     "output_type": "stream",
     "text": [
      "Wall time: 6.98 ms\n"
     ]
    }
   ],
   "source": [
    "%%time\n",
    "# Initial time (in days)\n",
    "t0 = 0 # float\n",
    "\n",
    "# Final time (in days)\n",
    "tN = 2*10**4 # float\n",
    "\n",
    "# Time step-size (in days)\n",
    "dt = 0.01 # float\n",
    "\n",
    "# NOTE: For computing the backward trajectories: tN < t0 and dt < 0.\n",
    "\n",
    "time = np.arange(t0, tN+dt, dt) # shape (Nt,)\n",
    "\n",
    "# Length of time interval (in days)\n",
    "lenT = abs(tN-t0) # float\n",
    "\n",
    "# boundaries\n",
    "xmin = 0 # float\n",
    "xmax = 2*np.pi # float\n",
    "ymin = 0 # float\n",
    "ymax = 2*np.pi # float\n",
    "zmin = 0 # float\n",
    "zmax = 2*np.pi # float\n",
    "\n",
    "# Resolution of meshgrid\n",
    "Ny = 100 # int\n",
    "Nx = 100 # int\n",
    "Nz = 100 # int\n",
    "\n",
    "x_domain = np.linspace(xmin, xmax, Nx, endpoint = True) # array (Nx, )\n",
    "y_domain = np.linspace(ymin, ymax, Ny, endpoint = True) # array (Ny, )\n",
    "z_domain = np.linspace(zmin, zmax, Nz, endpoint = True) # array (Nz, )\n",
    "\n",
    "dx = x_domain[1]-x_domain[0]\n",
    "dy = y_domain[1]-y_domain[0]\n",
    "dz = z_domain[1]-z_domain[0]\n",
    "\n",
    "X_domain, Y_domain, Z_domain = np.meshgrid(x_domain, y_domain, z_domain) # array (Ny, Nx, Nz)"
   ]
  },
  {
   "cell_type": "markdown",
   "metadata": {},
   "source": [
    "# Rate of Strain ($ \\mathrm{S}(\\mathbf{x})$)"
   ]
  },
  {
   "cell_type": "code",
   "execution_count": 6,
   "metadata": {
    "ExecuteTime": {
     "end_time": "2022-01-17T12:50:48.184161Z",
     "start_time": "2022-01-17T12:50:47.372609Z"
    }
   },
   "outputs": [
    {
     "name": "stdout",
     "output_type": "stream",
     "text": [
      "Wall time: 802 ms\n"
     ]
    }
   ],
   "source": [
    "%%time\n",
    "# Import package for parallel computing\n",
    "from joblib import delayed, Parallel\n",
    "\n",
    "# Import function to compute velocity\n",
    "from ipynb.fs.defs.velocity import velocity\n",
    "\n",
    "def gradient_velocity(x, y, z):\n",
    "    \n",
    "    grad_vel = np.array([dudx(x,y,z), dudy(x,y,z), dudz(x,y,z), [dvdx(x,y,z), dvdy(x,y,z), dvdz(x,y,z)], [dwdx(x,y,z), dwdy(x,y,z), dwdz(x,y,z)]])\n",
    "    \n",
    "    return grad_vel\n",
    "\n",
    "# Vectorize initial conditions by arranging them to a vector of size (Nx*Ny, 2)\n",
    "x0 = X_domain.ravel()\n",
    "y0 = Y_domain.ravel()\n",
    "z0 = Z_domain.ravel()\n",
    "\n",
    "# Split x0, y0, z0 into N (equal) batches for parallel computing\n",
    "def split(a, n):\n",
    "    k, m = divmod(len(a), n)\n",
    "    return (a[i*k+min(i, m):(i+1)*k+min(i+1, m)] for i in range(n))\n",
    "\n",
    "x0_batch = list(split(x0, Ncores))\n",
    "y0_batch = list(split(y0, Ncores))\n",
    "z0_batch = list(split(z0, Ncores))\n",
    "\n",
    "def parallel_S(x, y, z):\n",
    "    \n",
    "    # Compute gradient of velocity field\n",
    "    #grad_vel = gradient_velocity(x0_batch, y0_batch, z0_batch)\n",
    "    \n",
    "    grad_vel = np.zeros((3, 3, x.shape[0]))\n",
    "    \n",
    "    grad_vel[0,0,:] = dudx(x,y,z)\n",
    "    grad_vel[1,0,:] = dvdx(x,y,z)\n",
    "    grad_vel[2,0,:] = dwdx(x,y,z)\n",
    "    \n",
    "    grad_vel[0,1,:] = dudy(x,y,z)\n",
    "    grad_vel[1,1,:] = dvdy(x,y,z)\n",
    "    grad_vel[2,1,:] = dwdy(x,y,z)\n",
    "    \n",
    "    grad_vel[0,2,:] = dudz(x,y,z)\n",
    "    grad_vel[1,2,:] = dvdz(x,y,z)\n",
    "    grad_vel[2,2,:] = dwdz(x,y,z)\n",
    "    \n",
    "    # Compute rate of strain tensor\n",
    "    S = .5*(grad_vel+grad_vel.transpose(1,0,2))\n",
    "\n",
    "    return S\n",
    "\n",
    "results = Parallel(n_jobs=Ncores, verbose = 0)(delayed(parallel_S)(x0_batch[i], y0_batch[i], z0_batch[i]) for i in range(len(x0_batch)))\n",
    "\n",
    "# Extract rate of strain tensor from results of parallel computation\n",
    "S = results[0]\n",
    "\n",
    "for i in range(1,len(results)):\n",
    "    \n",
    "    S = np.append(S, results[i], axis = 2)\n",
    "\n",
    "# Reshape array from vectorized form to structured meshgrid\n",
    "X0_gridded = x0.reshape((X_domain.shape[0], X_domain.shape[1], X_domain.shape[2]))\n",
    "Y0_gridded = y0.reshape((X_domain.shape[0], X_domain.shape[1], X_domain.shape[2]))\n",
    "S = S.reshape((3, 3, X_domain.shape[0], X_domain.shape[1], X_domain.shape[2]))"
   ]
  },
  {
   "cell_type": "markdown",
   "metadata": {},
   "source": [
    "# Compute eigenvalues/eigenvectors of rate of strain"
   ]
  },
  {
   "cell_type": "code",
   "execution_count": 7,
   "metadata": {
    "ExecuteTime": {
     "end_time": "2022-01-17T12:51:14.568440Z",
     "start_time": "2022-01-17T12:50:48.185340Z"
    }
   },
   "outputs": [
    {
     "data": {
      "application/vnd.jupyter.widget-view+json": {
       "model_id": "6c89e2ddd7f84579929f251b35e4aee3",
       "version_major": 2,
       "version_minor": 0
      },
      "text/plain": [
       "  0%|          | 0/100 [00:00<?, ?it/s]"
      ]
     },
     "metadata": {},
     "output_type": "display_data"
    },
    {
     "name": "stdout",
     "output_type": "stream",
     "text": [
      "Wall time: 26.4 s\n"
     ]
    }
   ],
   "source": [
    "%%time\n",
    "# Import package to compute eigenvalues of 3x3 matrix\n",
    "from ipynb.fs.defs.eigen import eigen\n",
    "\n",
    "from tqdm.notebook import tqdm\n",
    "\n",
    "def parallel_eigen(i):\n",
    "    \n",
    "    eigenvalue_parallel = np.zeros((X_domain.shape[1], X_domain.shape[2], 3, 3))*np.nan\n",
    "    eigenvector_parallel = np.zeros((X_domain.shape[1], X_domain.shape[2], 3, 3))*np.nan\n",
    "    \n",
    "    for j in range(X_domain.shape[1]):\n",
    "        \n",
    "        for k in range(Z_domain.shape[2]):\n",
    "            \n",
    "            eigenvalue, eigenvector = eigen(S[:,:,i,j,k])\n",
    "        \n",
    "            eigenvalue_parallel[j,k,:,:] = np.diag(eigenvalue)\n",
    "            eigenvector_parallel[j,k,:,:] = eigenvector\n",
    "        \n",
    "    return eigenvalue_parallel, eigenvector_parallel\n",
    "\n",
    "results_eigen = np.array(Parallel(n_jobs=Ncores, verbose = 0)(delayed(parallel_eigen)(i) for i in tqdm(range(X_domain.shape[2]))))\n",
    "\n",
    "#eigenvalues and eigenvectors\n",
    "eigenvalues = results_eigen[:,0,:,:,:,:]\n",
    "eigenvectors = results_eigen[:,1,:,:,:,:]\n",
    "smax = eigenvalues[:,:,:,0,0]\n",
    "smid = eigenvalues[:,:,:,1,1]\n",
    "smin = eigenvalues[:,:,:,2,2]\n",
    "eigenvector_max = eigenvectors[:,:,:,:,0]\n",
    "eigenvector_mid = eigenvectors[:,:,:,:,1]\n",
    "eigenvector_min = eigenvectors[:,:,:,:,2]"
   ]
  },
  {
   "cell_type": "markdown",
   "metadata": {},
   "source": [
    "## Compute Tensorfield properties\n",
    "\n",
    "We now compute the properties of the rate of strain tensor 'S' such as the eigenvalues 's1', 's2', 's3' and eigenvectors 'eigenv1', 'eigenv2', 'eigenv3'. Furthermore, we also need the spatial derivatives of the elements of 'S'."
   ]
  },
  {
   "cell_type": "code",
   "execution_count": 8,
   "metadata": {
    "ExecuteTime": {
     "end_time": "2022-01-17T12:51:14.697718Z",
     "start_time": "2022-01-17T12:51:14.569437Z"
    }
   },
   "outputs": [
    {
     "name": "stdout",
     "output_type": "stream",
     "text": [
      "Wall time: 114 ms\n"
     ]
    }
   ],
   "source": [
    "%%time\n",
    "# Import (cubic) RectangularGridInterpolat from scipy\n",
    "from scipy.interpolate import RegularGridInterpolator\n",
    "        \n",
    "# Compute gradients of elements of rate of strain tensor\n",
    "S11 = np.nan_to_num(S[0,0,:,:,:], nan=0.0)\n",
    "S12 = np.nan_to_num(S[0,1,:,:,:], nan=0.0)\n",
    "S22 = np.nan_to_num(S[1,1,:,:,:], nan=0.0)\n",
    "S33 = np.nan_to_num(S[2,2,:,:,:], nan=0.0)\n",
    "S23 = np.nan_to_num(S[1,2,:,:,:], nan=0.0)\n",
    "S13 = np.nan_to_num(S[0,2,:,:,:], nan=0.0)\n",
    "\n",
    "# Interpolate elements of rate of strain tensor (per default: cubic)\n",
    "interpS11 = RegularGridInterpolator((Y_domain[:,0,0], X_domain[0,:,0], Z_domain[0,0,:]), S11)\n",
    "interpS12 = RegularGridInterpolator((Y_domain[:,0,0], X_domain[0,:,0], Z_domain[0,0,:]), S12)\n",
    "interpS22 = RegularGridInterpolator((Y_domain[:,0,0], X_domain[0,:,0], Z_domain[0,0,:]), S22)\n",
    "interpS33 = RegularGridInterpolator((Y_domain[:,0,0], X_domain[0,:,0], Z_domain[0,0,:]), S33)\n",
    "interpS23 = RegularGridInterpolator((Y_domain[:,0,0], X_domain[0,:,0], Z_domain[0,0,:]), S23)\n",
    "interpS13 = RegularGridInterpolator((Y_domain[:,0,0], X_domain[0,:,0], Z_domain[0,0,:]), S13)\n",
    "\n",
    "interp_s_max = RegularGridInterpolator((Y_domain[:,0,0], X_domain[0,:,0], Z_domain[0,0,:]), smax)\n",
    "interp_s_mid = RegularGridInterpolator((Y_domain[:,0,0], X_domain[0,:,0], Z_domain[0,0,:]), smid)\n",
    "interp_s_min = RegularGridInterpolator((Y_domain[:,0,0], X_domain[0,:,0], Z_domain[0,0,:]), smin)\n",
    "\n",
    "interp_xi_max_x = RegularGridInterpolator((Y_domain[:,0,0], X_domain[0,:,0], Z_domain[0,0,:]), eigenvector_max[:,:,:,0])\n",
    "interp_xi_max_y = RegularGridInterpolator((Y_domain[:,0,0], X_domain[0,:,0], Z_domain[0,0,:]), eigenvector_max[:,:,:,1])\n",
    "interp_xi_max_z = RegularGridInterpolator((Y_domain[:,0,0], X_domain[0,:,0], Z_domain[0,0,:]), eigenvector_max[:,:,:,2])\n",
    "\n",
    "interp_xi_min_x = RegularGridInterpolator((Y_domain[:,0,0], X_domain[0,:,0], Z_domain[0,0,:]), eigenvector_min[:,:,:,0])\n",
    "interp_xi_min_y = RegularGridInterpolator((Y_domain[:,0,0], X_domain[0,:,0], Z_domain[0,0,:]), eigenvector_min[:,:,:,1])\n",
    "interp_xi_min_z = RegularGridInterpolator((Y_domain[:,0,0], X_domain[0,:,0], Z_domain[0,0,:]), eigenvector_min[:,:,:,2])\n",
    "\n",
    "interp_xi_mid_x = RegularGridInterpolator((Y_domain[:,0,0], X_domain[0,:,0], Z_domain[0,0,:]), eigenvector_mid[:,:,:,0])\n",
    "interp_xi_mid_y = RegularGridInterpolator((Y_domain[:,0,0], X_domain[0,:,0], Z_domain[0,0,:]), eigenvector_mid[:,:,:,1])\n",
    "interp_xi_mid_z = RegularGridInterpolator((Y_domain[:,0,0], X_domain[0,:,0], Z_domain[0,0,:]), eigenvector_mid[:,:,:,2])"
   ]
  },
  {
   "cell_type": "markdown",
   "metadata": {},
   "source": [
    "# Classic tensorline integration"
   ]
  },
  {
   "cell_type": "code",
   "execution_count": 9,
   "metadata": {
    "ExecuteTime": {
     "end_time": "2022-01-17T12:59:47.998653Z",
     "start_time": "2022-01-17T12:51:14.699713Z"
    }
   },
   "outputs": [
    {
     "name": "stderr",
     "output_type": "stream",
     "text": [
      "[Parallel(n_jobs=6)]: Using backend LokyBackend with 6 concurrent workers.\n",
      "[Parallel(n_jobs=6)]: Done   3 out of   6 | elapsed:  8.5min remaining:  8.5min\n"
     ]
    },
    {
     "ename": "KeyboardInterrupt",
     "evalue": "",
     "output_type": "error",
     "traceback": [
      "\u001b[1;31m---------------------------------------------------------------------------\u001b[0m",
      "\u001b[1;31mKeyboardInterrupt\u001b[0m                         Traceback (most recent call last)",
      "\u001b[1;32m<ipython-input-9-b5b1db0092c0>\u001b[0m in \u001b[0;36m<module>\u001b[1;34m\u001b[0m\n\u001b[0;32m    123\u001b[0m     \u001b[1;32mreturn\u001b[0m \u001b[0mX_tensorlines\u001b[0m\u001b[1;33m\u001b[0m\u001b[1;33m\u001b[0m\u001b[0m\n\u001b[0;32m    124\u001b[0m \u001b[1;33m\u001b[0m\u001b[0m\n\u001b[1;32m--> 125\u001b[1;33m \u001b[0mresults\u001b[0m \u001b[1;33m=\u001b[0m \u001b[0mParallel\u001b[0m\u001b[1;33m(\u001b[0m\u001b[0mn_jobs\u001b[0m\u001b[1;33m=\u001b[0m\u001b[0mNcores\u001b[0m\u001b[1;33m,\u001b[0m \u001b[0mverbose\u001b[0m \u001b[1;33m=\u001b[0m \u001b[1;36m2\u001b[0m\u001b[1;33m)\u001b[0m\u001b[1;33m(\u001b[0m\u001b[0mdelayed\u001b[0m\u001b[1;33m(\u001b[0m\u001b[0mparallel_tensorlines\u001b[0m\u001b[1;33m)\u001b[0m\u001b[1;33m(\u001b[0m\u001b[0mx0_batch\u001b[0m\u001b[1;33m[\u001b[0m\u001b[0mi\u001b[0m\u001b[1;33m]\u001b[0m\u001b[1;33m,\u001b[0m \u001b[0my0_batch\u001b[0m\u001b[1;33m[\u001b[0m\u001b[0mi\u001b[0m\u001b[1;33m]\u001b[0m\u001b[1;33m,\u001b[0m \u001b[0mz0_batch\u001b[0m\u001b[1;33m[\u001b[0m\u001b[0mi\u001b[0m\u001b[1;33m]\u001b[0m\u001b[1;33m)\u001b[0m \u001b[1;32mfor\u001b[0m \u001b[0mi\u001b[0m \u001b[1;32min\u001b[0m \u001b[0mrange\u001b[0m\u001b[1;33m(\u001b[0m\u001b[0mlen\u001b[0m\u001b[1;33m(\u001b[0m\u001b[0mx0_batch\u001b[0m\u001b[1;33m)\u001b[0m\u001b[1;33m)\u001b[0m\u001b[1;33m)\u001b[0m\u001b[1;33m\u001b[0m\u001b[1;33m\u001b[0m\u001b[0m\n\u001b[0m",
      "\u001b[1;32m~\\anaconda3\\envs\\TBarrier\\lib\\site-packages\\joblib\\parallel.py\u001b[0m in \u001b[0;36m__call__\u001b[1;34m(self, iterable)\u001b[0m\n\u001b[0;32m   1015\u001b[0m \u001b[1;33m\u001b[0m\u001b[0m\n\u001b[0;32m   1016\u001b[0m             \u001b[1;32mwith\u001b[0m \u001b[0mself\u001b[0m\u001b[1;33m.\u001b[0m\u001b[0m_backend\u001b[0m\u001b[1;33m.\u001b[0m\u001b[0mretrieval_context\u001b[0m\u001b[1;33m(\u001b[0m\u001b[1;33m)\u001b[0m\u001b[1;33m:\u001b[0m\u001b[1;33m\u001b[0m\u001b[1;33m\u001b[0m\u001b[0m\n\u001b[1;32m-> 1017\u001b[1;33m                 \u001b[0mself\u001b[0m\u001b[1;33m.\u001b[0m\u001b[0mretrieve\u001b[0m\u001b[1;33m(\u001b[0m\u001b[1;33m)\u001b[0m\u001b[1;33m\u001b[0m\u001b[1;33m\u001b[0m\u001b[0m\n\u001b[0m\u001b[0;32m   1018\u001b[0m             \u001b[1;31m# Make sure that we get a last message telling us we are done\u001b[0m\u001b[1;33m\u001b[0m\u001b[1;33m\u001b[0m\u001b[1;33m\u001b[0m\u001b[0m\n\u001b[0;32m   1019\u001b[0m             \u001b[0melapsed_time\u001b[0m \u001b[1;33m=\u001b[0m \u001b[0mtime\u001b[0m\u001b[1;33m.\u001b[0m\u001b[0mtime\u001b[0m\u001b[1;33m(\u001b[0m\u001b[1;33m)\u001b[0m \u001b[1;33m-\u001b[0m \u001b[0mself\u001b[0m\u001b[1;33m.\u001b[0m\u001b[0m_start_time\u001b[0m\u001b[1;33m\u001b[0m\u001b[1;33m\u001b[0m\u001b[0m\n",
      "\u001b[1;32m~\\anaconda3\\envs\\TBarrier\\lib\\site-packages\\joblib\\parallel.py\u001b[0m in \u001b[0;36mretrieve\u001b[1;34m(self)\u001b[0m\n\u001b[0;32m    907\u001b[0m             \u001b[1;32mtry\u001b[0m\u001b[1;33m:\u001b[0m\u001b[1;33m\u001b[0m\u001b[1;33m\u001b[0m\u001b[0m\n\u001b[0;32m    908\u001b[0m                 \u001b[1;32mif\u001b[0m \u001b[0mgetattr\u001b[0m\u001b[1;33m(\u001b[0m\u001b[0mself\u001b[0m\u001b[1;33m.\u001b[0m\u001b[0m_backend\u001b[0m\u001b[1;33m,\u001b[0m \u001b[1;34m'supports_timeout'\u001b[0m\u001b[1;33m,\u001b[0m \u001b[1;32mFalse\u001b[0m\u001b[1;33m)\u001b[0m\u001b[1;33m:\u001b[0m\u001b[1;33m\u001b[0m\u001b[1;33m\u001b[0m\u001b[0m\n\u001b[1;32m--> 909\u001b[1;33m                     \u001b[0mself\u001b[0m\u001b[1;33m.\u001b[0m\u001b[0m_output\u001b[0m\u001b[1;33m.\u001b[0m\u001b[0mextend\u001b[0m\u001b[1;33m(\u001b[0m\u001b[0mjob\u001b[0m\u001b[1;33m.\u001b[0m\u001b[0mget\u001b[0m\u001b[1;33m(\u001b[0m\u001b[0mtimeout\u001b[0m\u001b[1;33m=\u001b[0m\u001b[0mself\u001b[0m\u001b[1;33m.\u001b[0m\u001b[0mtimeout\u001b[0m\u001b[1;33m)\u001b[0m\u001b[1;33m)\u001b[0m\u001b[1;33m\u001b[0m\u001b[1;33m\u001b[0m\u001b[0m\n\u001b[0m\u001b[0;32m    910\u001b[0m                 \u001b[1;32melse\u001b[0m\u001b[1;33m:\u001b[0m\u001b[1;33m\u001b[0m\u001b[1;33m\u001b[0m\u001b[0m\n\u001b[0;32m    911\u001b[0m                     \u001b[0mself\u001b[0m\u001b[1;33m.\u001b[0m\u001b[0m_output\u001b[0m\u001b[1;33m.\u001b[0m\u001b[0mextend\u001b[0m\u001b[1;33m(\u001b[0m\u001b[0mjob\u001b[0m\u001b[1;33m.\u001b[0m\u001b[0mget\u001b[0m\u001b[1;33m(\u001b[0m\u001b[1;33m)\u001b[0m\u001b[1;33m)\u001b[0m\u001b[1;33m\u001b[0m\u001b[1;33m\u001b[0m\u001b[0m\n",
      "\u001b[1;32m~\\anaconda3\\envs\\TBarrier\\lib\\site-packages\\joblib\\_parallel_backends.py\u001b[0m in \u001b[0;36mwrap_future_result\u001b[1;34m(future, timeout)\u001b[0m\n\u001b[0;32m    560\u001b[0m         AsyncResults.get from multiprocessing.\"\"\"\n\u001b[0;32m    561\u001b[0m         \u001b[1;32mtry\u001b[0m\u001b[1;33m:\u001b[0m\u001b[1;33m\u001b[0m\u001b[1;33m\u001b[0m\u001b[0m\n\u001b[1;32m--> 562\u001b[1;33m             \u001b[1;32mreturn\u001b[0m \u001b[0mfuture\u001b[0m\u001b[1;33m.\u001b[0m\u001b[0mresult\u001b[0m\u001b[1;33m(\u001b[0m\u001b[0mtimeout\u001b[0m\u001b[1;33m=\u001b[0m\u001b[0mtimeout\u001b[0m\u001b[1;33m)\u001b[0m\u001b[1;33m\u001b[0m\u001b[1;33m\u001b[0m\u001b[0m\n\u001b[0m\u001b[0;32m    563\u001b[0m         \u001b[1;32mexcept\u001b[0m \u001b[0mLokyTimeoutError\u001b[0m\u001b[1;33m:\u001b[0m\u001b[1;33m\u001b[0m\u001b[1;33m\u001b[0m\u001b[0m\n\u001b[0;32m    564\u001b[0m             \u001b[1;32mraise\u001b[0m \u001b[0mTimeoutError\u001b[0m\u001b[1;33m(\u001b[0m\u001b[1;33m)\u001b[0m\u001b[1;33m\u001b[0m\u001b[1;33m\u001b[0m\u001b[0m\n",
      "\u001b[1;32m~\\anaconda3\\envs\\TBarrier\\lib\\concurrent\\futures\\_base.py\u001b[0m in \u001b[0;36mresult\u001b[1;34m(self, timeout)\u001b[0m\n\u001b[0;32m    428\u001b[0m                 \u001b[1;32mreturn\u001b[0m \u001b[0mself\u001b[0m\u001b[1;33m.\u001b[0m\u001b[0m__get_result\u001b[0m\u001b[1;33m(\u001b[0m\u001b[1;33m)\u001b[0m\u001b[1;33m\u001b[0m\u001b[1;33m\u001b[0m\u001b[0m\n\u001b[0;32m    429\u001b[0m \u001b[1;33m\u001b[0m\u001b[0m\n\u001b[1;32m--> 430\u001b[1;33m             \u001b[0mself\u001b[0m\u001b[1;33m.\u001b[0m\u001b[0m_condition\u001b[0m\u001b[1;33m.\u001b[0m\u001b[0mwait\u001b[0m\u001b[1;33m(\u001b[0m\u001b[0mtimeout\u001b[0m\u001b[1;33m)\u001b[0m\u001b[1;33m\u001b[0m\u001b[1;33m\u001b[0m\u001b[0m\n\u001b[0m\u001b[0;32m    431\u001b[0m \u001b[1;33m\u001b[0m\u001b[0m\n\u001b[0;32m    432\u001b[0m             \u001b[1;32mif\u001b[0m \u001b[0mself\u001b[0m\u001b[1;33m.\u001b[0m\u001b[0m_state\u001b[0m \u001b[1;32min\u001b[0m \u001b[1;33m[\u001b[0m\u001b[0mCANCELLED\u001b[0m\u001b[1;33m,\u001b[0m \u001b[0mCANCELLED_AND_NOTIFIED\u001b[0m\u001b[1;33m]\u001b[0m\u001b[1;33m:\u001b[0m\u001b[1;33m\u001b[0m\u001b[1;33m\u001b[0m\u001b[0m\n",
      "\u001b[1;32m~\\anaconda3\\envs\\TBarrier\\lib\\threading.py\u001b[0m in \u001b[0;36mwait\u001b[1;34m(self, timeout)\u001b[0m\n\u001b[0;32m    294\u001b[0m         \u001b[1;32mtry\u001b[0m\u001b[1;33m:\u001b[0m    \u001b[1;31m# restore state no matter what (e.g., KeyboardInterrupt)\u001b[0m\u001b[1;33m\u001b[0m\u001b[1;33m\u001b[0m\u001b[0m\n\u001b[0;32m    295\u001b[0m             \u001b[1;32mif\u001b[0m \u001b[0mtimeout\u001b[0m \u001b[1;32mis\u001b[0m \u001b[1;32mNone\u001b[0m\u001b[1;33m:\u001b[0m\u001b[1;33m\u001b[0m\u001b[1;33m\u001b[0m\u001b[0m\n\u001b[1;32m--> 296\u001b[1;33m                 \u001b[0mwaiter\u001b[0m\u001b[1;33m.\u001b[0m\u001b[0macquire\u001b[0m\u001b[1;33m(\u001b[0m\u001b[1;33m)\u001b[0m\u001b[1;33m\u001b[0m\u001b[1;33m\u001b[0m\u001b[0m\n\u001b[0m\u001b[0;32m    297\u001b[0m                 \u001b[0mgotit\u001b[0m \u001b[1;33m=\u001b[0m \u001b[1;32mTrue\u001b[0m\u001b[1;33m\u001b[0m\u001b[1;33m\u001b[0m\u001b[0m\n\u001b[0;32m    298\u001b[0m             \u001b[1;32melse\u001b[0m\u001b[1;33m:\u001b[0m\u001b[1;33m\u001b[0m\u001b[1;33m\u001b[0m\u001b[0m\n",
      "\u001b[1;31mKeyboardInterrupt\u001b[0m: "
     ]
    }
   ],
   "source": [
    "from time import perf_counter\n",
    "\n",
    "def RK4_classic_tensorline(x, x_prime_before, ds, interp_x, interp_y, interp_z):\n",
    "    \n",
    "    # Define starting point.\n",
    "    x1 = x\n",
    "    \n",
    "    x1_interp = x1%(2*pi)\n",
    "    \n",
    "    # Compute x_prime at the beginning of the time-step\n",
    "    x_prime_x = interp_x(x1_interp)\n",
    "    x_prime_y = interp_y(x1_interp)\n",
    "    x_prime_z = interp_z(x1_interp)\n",
    "    x_prime = np.array([x_prime_x, x_prime_y, x_prime_z]).transpose()\n",
    "    \n",
    "    x_prime_reoriented = x_prime.copy()\n",
    "    for i in range(x_prime.shape[0]):\n",
    "        x_prime_reoriented[i,:] = x_prime[i,:]*np.sign(x_prime[i,0]*x_prime_before[i,0]+x_prime[i,1]*x_prime_before[i,1]+x_prime[i,2]*x_prime_before[i,2])\n",
    "    k1 = ds * x_prime_reoriented\n",
    "\n",
    "    #  position and time at the first midpoint.\n",
    "    x2 = x1 + .5 * k1\n",
    "    \n",
    "    x2_interp = x2%(2*pi)\n",
    "    \n",
    "    # Compute x_prime at the first midpoint.\n",
    "    x_prime_x = interp_x(x2_interp)\n",
    "    x_prime_y = interp_y(x2_interp)\n",
    "    x_prime_z = interp_z(x2_interp)\n",
    "    x_prime = np.array([x_prime_x, x_prime_y, x_prime_z]).transpose()\n",
    "    \n",
    "    x_prime_reoriented = x_prime.copy()\n",
    "    for i in range(x_prime.shape[0]):\n",
    "        x_prime_reoriented[i,:] = x_prime[i,:]*np.sign(x_prime[i,0]*x_prime_before[i,0]+x_prime[i,1]*x_prime_before[i,1]+x_prime[i,2]*x_prime_before[i,2])\n",
    "    \n",
    "    k2 = ds * x_prime_reoriented\n",
    "\n",
    "    # Update position at the second midpoint.\n",
    "    x3 = x1 + .5 * k2\n",
    "    \n",
    "    x3_interp = x3%(2*pi)\n",
    "    \n",
    "    # Compute x_prime at the second midpoint.\n",
    "    x_prime_x = interp_x(x3_interp)\n",
    "    x_prime_y = interp_y(x3_interp)\n",
    "    x_prime_z = interp_z(x3_interp)\n",
    "    x_prime = np.array([x_prime_x, x_prime_y, x_prime_z]).transpose()\n",
    "\n",
    "    x_prime_reoriented = x_prime.copy()\n",
    "    for i in range(x_prime.shape[0]):\n",
    "        x_prime_reoriented[i,:] = x_prime[i,:]*np.sign(x_prime[i,0]*x_prime_before[i,0]+x_prime[i,1]*x_prime_before[i,1]+x_prime[i,2]*x_prime_before[i,2])\n",
    "    \n",
    "    k3 = ds * x_prime_reoriented\n",
    "    \n",
    "    # Update position at the endpoint.\n",
    "    x4 = x1 + k3\n",
    "    \n",
    "    x4_interp = x4%(2*pi)\n",
    "    \n",
    "    # Compute x_prime at the endpoint.\n",
    "    x_prime_x = interp_x(x4_interp)\n",
    "    x_prime_y = interp_y(x4_interp)\n",
    "    x_prime_z = interp_z(x4_interp)\n",
    "    x_prime = np.array([x_prime_x, x_prime_y, x_prime_z]).transpose()\n",
    "    \n",
    "    x_prime_reoriented = x_prime.copy()\n",
    "    for i in range(x_prime.shape[0]):\n",
    "        x_prime_reoriented[i,:] = x_prime[i,:]*np.sign(x_prime[i,0]*x_prime_before[i,0]+x_prime[i,1]*x_prime_before[i,1]+x_prime[i,2]*x_prime_before[i,2])\n",
    "    \n",
    "    k4 = ds * x_prime_reoriented\n",
    "    \n",
    "    x_prime_avg = 1.0/6.0*(k1+2*k2+2*k3+k4)\n",
    "    x_update = x+x_prime_avg\n",
    "    \n",
    "    return x_update, x_prime_avg\n",
    "\n",
    "x_domain_poincare = np.linspace(xmin, xmax, 10, endpoint = True) # array (10, )\n",
    "y_domain_poincare = np.linspace(ymin, ymax, 10, endpoint = True) # array (10, )\n",
    "z_domain_poincare = np.linspace(zmin, zmax, 10, endpoint = True) # array (10, )\n",
    "\n",
    "dx = x_domain_poincare[1]-x_domain_poincare[0]\n",
    "dy = y_domain_poincare[1]-y_domain_poincare[0]\n",
    "dz = z_domain_poincare[1]-z_domain_poincare[0]\n",
    "\n",
    "X_domain_poincare, Y_domain_poincare, Z_domain_poincare = np.meshgrid(x_domain_poincare, y_domain_poincare, z_domain_poincare) # array (10, 10, 10) \n",
    "\n",
    "# Vectorize initial conditions by arranging them to a vector of size (10*10*10, 3)\n",
    "x0 = X_domain_poincare[:,:,:].ravel()\n",
    "y0 = Y_domain_poincare[:,:,:].ravel()\n",
    "z0 = Z_domain_poincare[:,:,:].ravel()\n",
    "\n",
    "# Split x0, y0 into 'Ncores' equal batches for parallel computing\n",
    "def split(a, n):\n",
    "    k, m = divmod(len(a), n)\n",
    "    return (a[i*k+min(i, m):(i+1)*k+min(i+1, m)] for i in range(n))\n",
    "\n",
    "x0_batch = list(split(x0, Ncores)) # list (Nx*Ny*Nz)\n",
    "y0_batch = list(split(y0, Ncores)) # list (Nx*Ny*Nz)\n",
    "z0_batch = list(split(z0, Ncores)) # list (Nx*Ny*Nz)\n",
    "\n",
    "ds = 0.2\n",
    "s_range = np.arange(0, 1*10**4, ds)\n",
    "\n",
    "def parallel_tensorlines(x0, y0, z0):\n",
    "    \n",
    "    X0 = np.zeros((x0.shape[0], 3))\n",
    "\n",
    "    X0[:,0] = x0\n",
    "    X0[:,1] = y0\n",
    "    X0[:,2] = z0\n",
    "\n",
    "    x_prime_before = np.zeros(X0.shape)\n",
    "    x_prime_before[:,0] = 1\n",
    "    \n",
    "    X_tensorlines = np.zeros((len(s_range), X0.shape[0], X0.shape[1]))\n",
    "    X_tensorlines[0,:,:] = X0.copy()\n",
    "    \n",
    "    for s in tqdm(range(len(s_range)-1)):\n",
    "        if np.around(s/len(s_range), 3) % 0.01 == 0:\n",
    "            print(\"Percentage completed: \", int(100*s/len(s_range)))\n",
    "        X_tensorlines[s+1,:,:], x_prime_before = RK4_classic_tensorline(X_tensorlines[s,:,:], x_prime_before, ds, interp_xi_mid_x, interp_xi_mid_y, interp_xi_mid_z)\n",
    "        \n",
    "    return X_tensorlines\n",
    "    \n",
    "results = Parallel(n_jobs=Ncores, verbose = 2)(delayed(parallel_tensorlines)(x0_batch[i], y0_batch[i], z0_batch[i]) for i in range(len(x0_batch)))\n"
   ]
  },
  {
   "cell_type": "code",
   "execution_count": null,
   "metadata": {
    "ExecuteTime": {
     "end_time": "2022-01-17T12:59:48.000648Z",
     "start_time": "2022-01-17T12:50:47.368Z"
    }
   },
   "outputs": [],
   "source": [
    "import matplotlib.pyplot as plt\n",
    "\n",
    "fig = plt.figure(figsize = (8, 4), dpi = 600)\n",
    "ax = plt.axes(projection = '3d')\n",
    "for i in tqdm(range(X_tensorlines.shape[1])):\n",
    "    ax.scatter(X_tensorlines[-1000:,i,0]%(2*pi), X_tensorlines[-1000:,i,1]%(2*pi), X_tensorlines[-1000:,i,2]%(2*pi), s = 0.1, marker = \"^\", c = \"k\")\n",
    "\n",
    "ax.set_xticks([0, pi, 2*pi])    \n",
    "ax.set_yticks([0, pi, 2*pi])   \n",
    "ax.set_zticks([0, pi, 2*pi])   \n",
    "plt.show()"
   ]
  },
  {
   "cell_type": "code",
   "execution_count": null,
   "metadata": {
    "ExecuteTime": {
     "end_time": "2022-01-17T12:59:48.001645Z",
     "start_time": "2022-01-17T12:50:47.369Z"
    }
   },
   "outputs": [],
   "source": [
    "fig = plt.figure(figsize = (8, 4), dpi = 400)\n",
    "ax = plt.axes()\n",
    "for i in tqdm(range(X_tensorlines.shape[1])):\n",
    "    ax.scatter(X_tensorlines[-1000:,i,0]%(2*pi), X_tensorlines[-1000:,i,1]%(2*pi), s = 0.1, marker = \"^\", c = \"k\")\n",
    "ax.set_xlabel(\"x\")\n",
    "ax.set_ylabel(\"y\")\n",
    "plt.show()\n",
    "\n",
    "fig = plt.figure(figsize = (8, 4), dpi = 400)\n",
    "ax = plt.axes()\n",
    "for i in tqdm(range(X_tensorlines.shape[1])):\n",
    "    ax.scatter(X_tensorlines[-1000:,i,1]%(2*pi), X_tensorlines[-1000:,i,2]%(2*pi), s = 0.1, marker = \"^\", c = \"k\")\n",
    "ax.set_xlabel(\"y\")\n",
    "ax.set_ylabel(\"z\")\n",
    "plt.show()\n",
    "\n",
    "fig = plt.figure(figsize = (8, 4), dpi = 400)\n",
    "ax = plt.axes()\n",
    "for i in tqdm(range(X_tensorlines.shape[1])):\n",
    "    ax.scatter(X_tensorlines[-1000:,i,0]%(2*pi), X_tensorlines[-1000:,i,2]%(2*pi), s = 0.1, marker = \"^\", c = \"k\")\n",
    "ax.set_xlabel(\"x\")\n",
    "ax.set_ylabel(\"z\")\n",
    "plt.show()"
   ]
  },
  {
   "cell_type": "code",
   "execution_count": null,
   "metadata": {
    "ExecuteTime": {
     "end_time": "2022-01-17T12:59:48.002643Z",
     "start_time": "2022-01-17T12:50:47.371Z"
    }
   },
   "outputs": [],
   "source": [
    "# Import package for parallel computing\n",
    "from joblib import delayed, Parallel\n",
    "\n",
    "# Import 1D cubic spline interpolant\n",
    "from scipy.interpolate import CubicSpline\n",
    "\n",
    "# Import 1D linear interpolant\n",
    "from scipy.interpolate import interp1d\n",
    "\n",
    "# import math tools\n",
    "from math import pi\n",
    "\n",
    "def parallel_PoincareMap(time, Fmap, t0, tN):\n",
    "    \n",
    "    # CubicSpline Interpolation for x,y and z component of the trajectories\n",
    "    cs_x = CubicSpline(time, Fmap[:,0])\n",
    "    cs_y = CubicSpline(time, Fmap[:,1])\n",
    "    cs_z = CubicSpline(time, Fmap[:,2])\n",
    "    \n",
    "    # time-interval [10^4, 2*10^4] (long-term behaviour of trajectories)\n",
    "    time_poincare = np.arange(t0, tN, dt)\n",
    "    \n",
    "    # evaluate long-term behaviour of x,y and z component\n",
    "    x_interp = cs_x(time_poincare)\n",
    "    y_interp = cs_y(time_poincare)\n",
    "    z_interp = cs_z(time_poincare)\n",
    "    \n",
    "    x_intersec, y_intersec, z_intersec = [], [], []\n",
    "    \n",
    "    # iterate along long-term trajectories \n",
    "    for i in range(len(z_interp)-1):\n",
    "        \n",
    "        if np.abs(z_interp[i]%(2*pi)-z_interp[i+1]%(2*pi)) > pi:\n",
    "            \n",
    "            z_interp_shifted = z_interp[i:i+2]-np.around((z_interp[i]/(2*pi)), 0)*2*pi\n",
    "            \n",
    "            root = -z_interp_shifted[0]*dt/(z_interp_shifted[1]-z_interp_shifted[0])+time_poincare[i]\n",
    "            x_intersec.append(cs_x(root)%(2*pi))\n",
    "            y_intersec.append(cs_y(root)%(2*pi))\n",
    "            z_intersec.append(cs_z(root)%(2*pi))\n",
    "    \n",
    "    return x_intersec, y_intersec, z_intersec\n",
    "\n",
    "results = Parallel(n_jobs=Ncores, verbose = 2)(delayed(parallel_PoincareMap)(s_range, X_tensorlines[:,i,:], t0=0.5*s_range[-1], tN=s_range[-1]) for i in range(X_tensorlines.shape[1]))\n",
    "\n",
    "x_intersec, y_intersec, z_intersec = [], [], []\n",
    "\n",
    "for res in results:\n",
    "    for i in range(len(res[0])):\n",
    "        x_intersec.append(res[0][i])\n",
    "        y_intersec.append(res[1][i])\n",
    "        z_intersec.append(res[2][i])"
   ]
  },
  {
   "cell_type": "code",
   "execution_count": null,
   "metadata": {
    "ExecuteTime": {
     "end_time": "2022-01-17T12:59:48.003640Z",
     "start_time": "2022-01-17T12:50:47.372Z"
    }
   },
   "outputs": [],
   "source": [
    "############################################ PLOT RESULTS ############################################\n",
    "\n",
    "# Import plotting libraries\n",
    "import matplotlib.pyplot as plt\n",
    "\n",
    "# Figure/Axes\n",
    "fig = plt.figure(figsize=(8, 4), dpi = 600)\n",
    "ax = plt.axes()\n",
    "\n",
    "# Poincare Map\n",
    "ax.scatter(x_intersec, y_intersec, c = \"b\", s = 0.2)\n",
    "\n",
    "# Axis Labels\n",
    "ax.set_xlabel(\"x\", fontsize = 10)\n",
    "ax.set_ylabel(\"y\", fontsize = 10)\n",
    "\n",
    "# Axis limits\n",
    "ax.set_xlim([0, 2*pi])\n",
    "ax.set_ylim([0, 2*pi])\n",
    "\n",
    "# Title\n",
    "ax.set_title(r'Poincaré Map with Poincaré section z=0', fontsize = 10)\n",
    "\n",
    "plt.show()"
   ]
  },
  {
   "cell_type": "code",
   "execution_count": null,
   "metadata": {
    "ExecuteTime": {
     "end_time": "2022-01-17T12:59:48.005635Z",
     "start_time": "2022-01-17T12:50:47.373Z"
    },
    "code_folding": [
     0
    ]
   },
   "outputs": [],
   "source": [
    "# import math tools\n",
    "from math import atan, acos, asin, cos, sin, sqrt\n",
    "\n",
    "# Import package to compute tensorline equation using ODE solver\n",
    "from ipynb.fs.defs.tensorline_equation import _tensorline_equation\n",
    "\n",
    "# Import package to compute tensorlines by re-orienting the vectorfield on the fly\n",
    "from ipynb.fs.defs.RK4_tensorlines import _RK4_tensorlines\n",
    "\n",
    "# Import package to solve ODE\n",
    "from scipy.integrate import solve_ivp\n",
    "\n",
    "# import plotting library\n",
    "import matplotlib.pyplot as plt\n",
    "\n",
    "# define integration interval of dummy variable 's'\n",
    "t = [0, 10]\n",
    "t_eval = np.linspace(t[0], t[-1], 1000)\n",
    "\n",
    "# initial alignment of eigenvector\n",
    "init_orientation = np.array([0, 0, 1])\n",
    "\n",
    "# define eigenvector_field \n",
    "# {0: eigenvector field of maximum eigenvalue}\n",
    "# {1: eigenvector field of middle eigenvalue}\n",
    "# {2: eigenvector field of minimum eigenvalue}\n",
    "idx_eigenvector = 0\n",
    "\n",
    "counter = 0\n",
    "\n",
    "def terminate_ODE(t, x_phi, interpS11, interpS12, interpS13, interpS22, interpS23, interpS33, aux_grid, idx_eigenvector):\n",
    "                \n",
    "    x = x_phi[0]%(2*pi)\n",
    "    y = x_phi[1]%(2*pi)\n",
    "    z = x_phi[2]%(2*pi)\n",
    "    \n",
    "    # compute gradient of velocity\n",
    "    grad_vel = gradient_velocity(0, np.array([x, y, z]), X, Y, Z, Interpolant, periodic, bool_unsteady, aux_grid)\n",
    "    \n",
    "    # compute rate of strain\n",
    "    S = RateStrain(grad_vel)\n",
    "    \n",
    "    # compute eigenvalues/eigenvectors of rate of strain\n",
    "    lam = eigen(S)[0]\n",
    "            \n",
    "    event = abs(lam[0]-lam[1]) <= .01 or abs(lam[0]-lam[2]) <= .01 or abs(lam[1]-lam[2]) <= .01\n",
    "                \n",
    "    return 1-event\n",
    "            \n",
    "terminate_ODE.terminal = True\n",
    "\n",
    "for i in range(0, X_domain.shape[0], 5):\n",
    "    for j in range(0, Y_domain.shape[1], 5):\n",
    "        for k in range(0, Z_domain.shape[2], 5):\n",
    "            \n",
    "            # initial position of particle\n",
    "            xinit = np.array([X_domain[i, j, k], Y_domain[i, j, k], Z_domain[i, j, k]])\n",
    "            \n",
    "            # compute gradient of velocity\n",
    "            grad_vel = gradient_velocity(t[0], xinit, X, Y, Z, Interpolant, periodic, bool_unsteady, aux_grid)\n",
    "        \n",
    "            # compute rate of strain\n",
    "            S = RateStrain(grad_vel)\n",
    "            \n",
    "            # compute inital eigenvector orientation\n",
    "            lamda, eigenv = eigen(S)\n",
    "            initial_vector = eigenv[:,idx_eigenvector]\n",
    "            print(\"initial particle position: \", xinit)\n",
    "            if np.sign(init_orientation@initial_vector) < 0:\n",
    "                initial_vector = -initial_vector\n",
    "            \n",
    "            if initial_vector[0] < 0 or initial_vector[1] < 0:\n",
    "                phi0 = atan(initial_vector[1]/initial_vector[0])+pi\n",
    "            else:\n",
    "                phi0 = atan(initial_vector[1]/initial_vector[0])\n",
    "            theta0 = acos(initial_vector[2])\n",
    "                \n",
    "            x0 = np.array([X_domain[i, j, k], Y_domain[i, j, k], Z_domain[i, j, k], phi0, theta0])\n",
    "            \n",
    "            # Compute tensorline by re-orienting vector field\n",
    "            ds = t_eval[1]-t_eval[0]\n",
    "            x_oriented = x0[:3].copy()\n",
    "            x_prime = initial_vector.copy()\n",
    "            trajectory_oriented = [[], [], []]\n",
    "            trajectory_oriented[0].append(x_oriented[0])\n",
    "            trajectory_oriented[1].append(x_oriented[1])\n",
    "            trajectory_oriented[2].append(x_oriented[2])   \n",
    "            phi_oriented, theta_oriented = [], []\n",
    "            print(\"initial vector: \", x_prime)\n",
    "            \n",
    "            for idx_t in range(len(t_eval)):             \n",
    "                x_oriented, x_prime = _RK4_tensorlines(X, Y, Z, x, x_prime, ds, periodic, interpS11, interpS12, interpS13, interpS22, interpS23, interpS33, idx_eigenvector)\n",
    "                trajectory_oriented[0].append(x_oriented[0])\n",
    "                trajectory_oriented[1].append(x_oriented[1])\n",
    "                trajectory_oriented[2].append(x_oriented[2])   \n",
    "                vx = x_prime[0]\n",
    "                vy = x_prime[1]\n",
    "                vz = x_prime[2]\n",
    "                norm_v = sqrt(vx**2+vy**2+vz**2)\n",
    "                if norm_v == 0:\n",
    "                    phi_oriented.append(np.nan)\n",
    "                    theta_oriented.append(np.nan)                   \n",
    "                else:\n",
    "                    if vx < 0:\n",
    "                        phi_oriented.append((atan(vy/vx)+pi)%(2*pi))\n",
    "                    else:\n",
    "                        phi_oriented.append((atan(vy/vx))%(2*pi))\n",
    "                    theta_oriented.append(acos(vz/norm_v))\n",
    "            \n",
    "            # solve ODE for tensorlines maximum eigenvector field of rate of strain\n",
    "            solODE = solve_ivp(_tensorline_equation, t, x0, 'RK45', t_eval, rtol=1e-5, atol=1e-5, args=(interpS11, interpS12, interpS13, interpS22, interpS23, interpS33, aux_grid, idx_eigenvector))\n",
    "                               \n",
    "            x = solODE.y[0,:]%(2*pi)\n",
    "            y = solODE.y[1,:]%(2*pi)\n",
    "            z = solODE.y[2,:]%(2*pi)\n",
    "            phi = solODE.y[3,:]%(2*pi)\n",
    "            theta = solODE.y[4,:]%pi\n",
    "            \n",
    "            lam1_2, lam2_3, lam1_3 = [], [], []\n",
    "            \n",
    "            for ii in range(x.shape[0]):\n",
    "                \n",
    "                S11 = interpS11([y[ii], x[ii], z[ii]])[0]\n",
    "                S12 = interpS12([y[ii], x[ii], z[ii]])[0]\n",
    "                S22 = interpS22([y[ii], x[ii], z[ii]])[0]\n",
    "                S13 = interpS13([y[ii], x[ii], z[ii]])[0]\n",
    "                S23 = interpS23([y[ii], x[ii], z[ii]])[0]\n",
    "                S33 = interpS33([y[ii], x[ii], z[ii]])[0]\n",
    "    \n",
    "                S21 = S12.copy()\n",
    "                S31 = S13.copy()\n",
    "                S32 = S23.copy()\n",
    "    \n",
    "                S = np.array([[S11, S12, S13], [S21, S22, S23], [S31, S32, S33]])\n",
    "                lam = eigen(S)[0]\n",
    "                lam1_2.append(abs(lam[0]-lam[1]))\n",
    "                lam1_3.append(abs(lam[0]-lam[2]))\n",
    "                lam2_3.append(abs(lam[1]-lam[2]))\n",
    "                \n",
    "            # plot trajectory in 3D\n",
    "            fig, ((ax1, ax2), (ax3, ax4)) = plt.subplots(2, 2, figsize = (14, 10), dpi = 500)\n",
    "            ax1.scatter(trajectory_oriented[0][::10], trajectory_oriented[1][::10], facecolor = \"None\", edgecolor = \"r\", label = r'manual', marker = \"o\", s = 50)\n",
    "            ax2.scatter(trajectory_oriented[0][::10], trajectory_oriented[2][::10], facecolor = \"None\", edgecolor = \"r\", label = r'manual', marker = \"o\", s = 50)\n",
    "            ax3.scatter(trajectory_oriented[1][::10], trajectory_oriented[2][::10], facecolor = \"None\", edgecolor = \"r\", label = r'manual', marker = \"o\", s = 50)\n",
    "            ax1.scatter(x[::10], y[::10], marker = \"^\", label = r'automatic', s = 50, facecolor = \"None\", edgecolor = \"b\")\n",
    "            ax1.set_xlabel(\"x\")\n",
    "            ax1.set_ylabel(\"y\")\n",
    "            ax1.set_title(\"projection onto x/y plane\")\n",
    "            ax2.set_xlabel(\"x\")\n",
    "            ax2.set_ylabel(\"z\")\n",
    "            ax2.scatter(x[::10], z[::10], marker = \"^\", label = r'automatic', s = 50, facecolor = \"None\", edgecolor = \"b\")\n",
    "            ax2.set_title(\"projection onto x/z plane\")\n",
    "            ax3.scatter(y[::10], z[::10], marker = \"^\", label = r'automatic', s = 50, facecolor = \"None\", edgecolor = \"b\")\n",
    "            ax3.set_xlabel(\"y\")\n",
    "            ax3.set_ylabel(\"z\")\n",
    "            ax3.set_title(\"projection onto y/z plane\")\n",
    "            ax4.scatter(phi, theta, label = r'automatic', marker = \"^\", s = 50, facecolor = \"None\", edgecolor = \"b\")\n",
    "            ax4.scatter(phi_oriented, theta_oriented, label = r'manual', marker = \"o\", s = 50, facecolor = \"None\", edgecolor = \"r\")\n",
    "            ax4.set_xlabel(r'$\\phi$')\n",
    "            ax4.set_ylabel(r'$\\theta$')\n",
    "            ax4.set_title(r'$ \\theta - \\phi $')\n",
    "            ax1.scatter(trajectory_oriented[0][0], trajectory_oriented[1][0], c = \"b\", marker = \"^\", s = 100)\n",
    "            ax2.scatter(trajectory_oriented[0][0], trajectory_oriented[2][0], c = \"b\", marker = \"^\", s = 100)\n",
    "            ax3.scatter(trajectory_oriented[1][0], trajectory_oriented[2][0], c = \"b\", marker = \"^\", s = 100)\n",
    "            plt.legend(loc=\"upper right\", fontsize = 10)\n",
    "            \n",
    "            plt.savefig('./Fig/max/fig_'+np.str(int(counter)) + '.jpg')\n",
    "            counter += 1\n",
    "            plt.show()"
   ]
  },
  {
   "cell_type": "code",
   "execution_count": null,
   "metadata": {},
   "outputs": [],
   "source": []
  }
 ],
 "metadata": {
  "kernelspec": {
   "display_name": "Python 3",
   "language": "python",
   "name": "python3"
  },
  "language_info": {
   "codemirror_mode": {
    "name": "ipython",
    "version": 3
   },
   "file_extension": ".py",
   "mimetype": "text/x-python",
   "name": "python",
   "nbconvert_exporter": "python",
   "pygments_lexer": "ipython3",
   "version": "3.7.12"
  },
  "toc": {
   "base_numbering": 1,
   "nav_menu": {},
   "number_sections": true,
   "sideBar": true,
   "skip_h1_title": false,
   "title_cell": "Table of Contents",
   "title_sidebar": "Contents",
   "toc_cell": false,
   "toc_position": {},
   "toc_section_display": true,
   "toc_window_display": false
  }
 },
 "nbformat": 4,
 "nbformat_minor": 4
}
