{
 "cells": [
  {
   "cell_type": "code",
   "execution_count": 1,
   "metadata": {
    "ExecuteTime": {
     "end_time": "2022-01-14T10:44:19.143686Z",
     "start_time": "2022-01-14T10:44:19.127631Z"
    }
   },
   "outputs": [],
   "source": [
    "#add folders to working path"
   ]
  },
  {
   "cell_type": "code",
   "execution_count": 2,
   "metadata": {
    "ExecuteTime": {
     "end_time": "2022-01-14T10:44:19.159731Z",
     "start_time": "2022-01-14T10:44:19.143686Z"
    }
   },
   "outputs": [
    {
     "name": "stdout",
     "output_type": "stream",
     "text": [
      "Wall time: 0 ns\n"
     ]
    }
   ],
   "source": [
    "%%time\n",
    "import sys, os\n",
    "\n",
    "# get current directory\n",
    "path = os.getcwd()\n",
    "\n",
    "# get parent directory\n",
    "parent_directory = os.path.sep.join(path.split(os.path.sep)[:-4])\n",
    "\n",
    "# add utils folder to current working path\n",
    "sys.path.append(parent_directory+\"/subfunctions/utils\")\n",
    "\n",
    "# add integration folder to current working path\n",
    "sys.path.append(parent_directory+\"/subfunctions/integration\")\n",
    "\n",
    "# add FastTensorlineComputation folder to current working path in order to access the functions\n",
    "sys.path.append(parent_directory+\"/demos/AdvectiveBarriers/FastTensorlineComputation\")"
   ]
  },
  {
   "cell_type": "markdown",
   "metadata": {},
   "source": [
    "# Import data"
   ]
  },
  {
   "cell_type": "code",
   "execution_count": 3,
   "metadata": {
    "ExecuteTime": {
     "end_time": "2022-01-14T10:44:19.276373Z",
     "start_time": "2022-01-14T10:44:19.159731Z"
    }
   },
   "outputs": [
    {
     "name": "stdout",
     "output_type": "stream",
     "text": [
      "Wall time: 113 ms\n"
     ]
    }
   ],
   "source": [
    "%%time\n",
    "import scipy.io as sio\n",
    "\n",
    "#Import velocity data from file in data-folder\n",
    "mat_file = sio.loadmat('../../../../data/ABC/ABC_steady.mat')\n",
    "\n",
    "U = mat_file['u']\n",
    "V = mat_file['v']\n",
    "W = mat_file['w']\n",
    "x = mat_file['x']\n",
    "y = mat_file['y']\n",
    "z = mat_file['z']"
   ]
  },
  {
   "cell_type": "markdown",
   "metadata": {},
   "source": [
    "# Data/Parameters for Dynamical System"
   ]
  },
  {
   "cell_type": "code",
   "execution_count": 4,
   "metadata": {
    "ExecuteTime": {
     "end_time": "2022-01-14T10:44:19.292488Z",
     "start_time": "2022-01-14T10:44:19.276373Z"
    }
   },
   "outputs": [],
   "source": [
    "import numpy as np\n",
    "\n",
    "# number of cores to be used for parallel computing\n",
    "Ncores = 18\n",
    "\n",
    "# periodic boundary conditions\n",
    "periodic_x = True\n",
    "periodic_y = True\n",
    "periodic_z = True\n",
    "periodic = [periodic_x, periodic_y, periodic_z]\n",
    "\n",
    "# unsteady velocity field\n",
    "bool_unsteady = False\n",
    "\n",
    "## compute meshgrid of dataset\n",
    "X, Y, Z = np.meshgrid(x, y, z)\n",
    "\n",
    "## resolution of meshgrid\n",
    "dx_data = X[0,1,0]-X[0,0,0]\n",
    "dy_data = Y[1,0,0]-Y[0,0,0]\n",
    "dz_data = Z[0,0,1]-Z[0,0,0]\n",
    "\n",
    "delta = [dx_data, dy_data, dz_data]"
   ]
  },
  {
   "cell_type": "markdown",
   "metadata": {},
   "source": [
    "# Spatio-Temporal Domain of Dynamical System"
   ]
  },
  {
   "cell_type": "code",
   "execution_count": 5,
   "metadata": {
    "ExecuteTime": {
     "end_time": "2022-01-14T10:44:19.307496Z",
     "start_time": "2022-01-14T10:44:19.292488Z"
    }
   },
   "outputs": [
    {
     "name": "stdout",
     "output_type": "stream",
     "text": [
      "Wall time: 7.08 ms\n"
     ]
    }
   ],
   "source": [
    "%%time\n",
    "from math import pi\n",
    "\n",
    "# Time\n",
    "t0 = 0\n",
    "tN = 0\n",
    "dt = 0.1\n",
    "\n",
    "# store time in array\n",
    "time = np.arange(t0, tN+dt, dt)\n",
    "\n",
    "lenT = 10\n",
    "\n",
    "# domain boundary (in degrees)\n",
    "xmin = 0\n",
    "xmax = 2*pi\n",
    "ymin = 0\n",
    "ymax = 2*pi\n",
    "zmin = 0\n",
    "zmax = 2*pi\n",
    "\n",
    "# spacing of meshgrid (in degrees)\n",
    "dx = 0.05\n",
    "dy = 0.05\n",
    "dz = 0.05\n",
    "\n",
    "x_domain = np.linspace(xmin, xmax, int((xmax-xmin)/dx), endpoint = True)\n",
    "y_domain = np.linspace(ymin, ymax, int((ymax-ymin)/dy), endpoint = True)\n",
    "z_domain = np.linspace(ymin, ymax, int((zmax-zmin)/dz), endpoint = True)\n",
    "\n",
    "X_domain, Y_domain, Z_domain = np.meshgrid(x_domain, y_domain, z_domain)"
   ]
  },
  {
   "cell_type": "markdown",
   "metadata": {},
   "source": [
    "# Interpolate Velocity\n",
    "\n",
    "In order to evaluate the velocity field at arbitrary locations and times, we must interpolate the discrete velocity data. The interpolation with respect to time is always linear. The interpolation with respect to space can be chosen to be \"cubic\" or \"linear\". In order to favour a smooth velocity field, we interpolate the velocity field in space using a cubic interpolant."
   ]
  },
  {
   "cell_type": "code",
   "execution_count": 6,
   "metadata": {
    "ExecuteTime": {
     "end_time": "2022-01-14T10:44:19.359138Z",
     "start_time": "2022-01-14T10:44:19.308721Z"
    }
   },
   "outputs": [
    {
     "name": "stdout",
     "output_type": "stream",
     "text": [
      "Wall time: 44.4 ms\n"
     ]
    }
   ],
   "source": [
    "%%time\n",
    "# Import interpolation function for unsteady flow field\n",
    "from ipynb.fs.defs.Interpolant import interpolant_steady\n",
    "\n",
    "# Set nan values to zero (in case there are any) so that we can apply interpolant. \n",
    "# Interpolant does not work if the array contains nan values. \n",
    "U[np.isnan(U)] = 0\n",
    "V[np.isnan(V)] = 0\n",
    "W[np.isnan(W)] = 0\n",
    "\n",
    "# Interpolate velocity data using linear spatial interpolation\n",
    "Interpolant = interpolant_steady(X, Y, Z, U, V, W)\n",
    "\n",
    "Interpolant_u = Interpolant[0]\n",
    "Interpolant_v = Interpolant[1]\n",
    "Interpolant_w = Interpolant[2]"
   ]
  },
  {
   "cell_type": "markdown",
   "metadata": {},
   "source": [
    "# Rate of Strain ($ \\mathrm{S}(\\mathbf{x})$)"
   ]
  },
  {
   "cell_type": "code",
   "execution_count": 7,
   "metadata": {
    "ExecuteTime": {
     "end_time": "2022-01-14T10:44:20.965024Z",
     "start_time": "2022-01-14T10:44:19.360342Z"
    }
   },
   "outputs": [
    {
     "ename": "ValueError",
     "evalue": "not enough values to unpack (expected 7, got 5)",
     "output_type": "error",
     "traceback": [
      "\u001b[1;31m---------------------------------------------------------------------------\u001b[0m",
      "\u001b[1;31m_RemoteTraceback\u001b[0m                          Traceback (most recent call last)",
      "\u001b[1;31m_RemoteTraceback\u001b[0m: \n\"\"\"\nTraceback (most recent call last):\n  File \"C:\\Users\\encin\\anaconda3\\envs\\TBarrier\\lib\\site-packages\\joblib\\externals\\loky\\process_executor.py\", line 418, in _process_worker\n    r = call_item()\n  File \"C:\\Users\\encin\\anaconda3\\envs\\TBarrier\\lib\\site-packages\\joblib\\externals\\loky\\process_executor.py\", line 272, in __call__\n    return self.fn(*self.args, **self.kwargs)\n  File \"C:\\Users\\encin\\anaconda3\\envs\\TBarrier\\lib\\site-packages\\joblib\\_parallel_backends.py\", line 608, in __call__\n    return self.func(*args, **kwargs)\n  File \"C:\\Users\\encin\\anaconda3\\envs\\TBarrier\\lib\\site-packages\\joblib\\parallel.py\", line 256, in __call__\n    for func, args, kwargs in self.items]\n  File \"C:\\Users\\encin\\anaconda3\\envs\\TBarrier\\lib\\site-packages\\joblib\\parallel.py\", line 256, in <listcomp>\n    for func, args, kwargs in self.items]\n  File \"<timed exec>\", line 34, in parallel_S\n  File \"C:\\Users\\encin\\OneDrive\\TBarrier\\TBarrier\\3D/subfunctions/utils\\gradient_velocity.ipynb\", line 50, in gradient_velocity\n    \"\\n\",\nValueError: not enough values to unpack (expected 7, got 5)\n\"\"\"",
      "\nThe above exception was the direct cause of the following exception:\n",
      "\u001b[1;31mValueError\u001b[0m                                Traceback (most recent call last)",
      "\u001b[1;32m<timed exec>\u001b[0m in \u001b[0;36m<module>\u001b[1;34m\u001b[0m\n",
      "\u001b[1;32m~\\anaconda3\\envs\\TBarrier\\lib\\site-packages\\joblib\\parallel.py\u001b[0m in \u001b[0;36m__call__\u001b[1;34m(self, iterable)\u001b[0m\n\u001b[0;32m   1015\u001b[0m \u001b[1;33m\u001b[0m\u001b[0m\n\u001b[0;32m   1016\u001b[0m             \u001b[1;32mwith\u001b[0m \u001b[0mself\u001b[0m\u001b[1;33m.\u001b[0m\u001b[0m_backend\u001b[0m\u001b[1;33m.\u001b[0m\u001b[0mretrieval_context\u001b[0m\u001b[1;33m(\u001b[0m\u001b[1;33m)\u001b[0m\u001b[1;33m:\u001b[0m\u001b[1;33m\u001b[0m\u001b[1;33m\u001b[0m\u001b[0m\n\u001b[1;32m-> 1017\u001b[1;33m                 \u001b[0mself\u001b[0m\u001b[1;33m.\u001b[0m\u001b[0mretrieve\u001b[0m\u001b[1;33m(\u001b[0m\u001b[1;33m)\u001b[0m\u001b[1;33m\u001b[0m\u001b[1;33m\u001b[0m\u001b[0m\n\u001b[0m\u001b[0;32m   1018\u001b[0m             \u001b[1;31m# Make sure that we get a last message telling us we are done\u001b[0m\u001b[1;33m\u001b[0m\u001b[1;33m\u001b[0m\u001b[1;33m\u001b[0m\u001b[0m\n\u001b[0;32m   1019\u001b[0m             \u001b[0melapsed_time\u001b[0m \u001b[1;33m=\u001b[0m \u001b[0mtime\u001b[0m\u001b[1;33m.\u001b[0m\u001b[0mtime\u001b[0m\u001b[1;33m(\u001b[0m\u001b[1;33m)\u001b[0m \u001b[1;33m-\u001b[0m \u001b[0mself\u001b[0m\u001b[1;33m.\u001b[0m\u001b[0m_start_time\u001b[0m\u001b[1;33m\u001b[0m\u001b[1;33m\u001b[0m\u001b[0m\n",
      "\u001b[1;32m~\\anaconda3\\envs\\TBarrier\\lib\\site-packages\\joblib\\parallel.py\u001b[0m in \u001b[0;36mretrieve\u001b[1;34m(self)\u001b[0m\n\u001b[0;32m    907\u001b[0m             \u001b[1;32mtry\u001b[0m\u001b[1;33m:\u001b[0m\u001b[1;33m\u001b[0m\u001b[1;33m\u001b[0m\u001b[0m\n\u001b[0;32m    908\u001b[0m                 \u001b[1;32mif\u001b[0m \u001b[0mgetattr\u001b[0m\u001b[1;33m(\u001b[0m\u001b[0mself\u001b[0m\u001b[1;33m.\u001b[0m\u001b[0m_backend\u001b[0m\u001b[1;33m,\u001b[0m \u001b[1;34m'supports_timeout'\u001b[0m\u001b[1;33m,\u001b[0m \u001b[1;32mFalse\u001b[0m\u001b[1;33m)\u001b[0m\u001b[1;33m:\u001b[0m\u001b[1;33m\u001b[0m\u001b[1;33m\u001b[0m\u001b[0m\n\u001b[1;32m--> 909\u001b[1;33m                     \u001b[0mself\u001b[0m\u001b[1;33m.\u001b[0m\u001b[0m_output\u001b[0m\u001b[1;33m.\u001b[0m\u001b[0mextend\u001b[0m\u001b[1;33m(\u001b[0m\u001b[0mjob\u001b[0m\u001b[1;33m.\u001b[0m\u001b[0mget\u001b[0m\u001b[1;33m(\u001b[0m\u001b[0mtimeout\u001b[0m\u001b[1;33m=\u001b[0m\u001b[0mself\u001b[0m\u001b[1;33m.\u001b[0m\u001b[0mtimeout\u001b[0m\u001b[1;33m)\u001b[0m\u001b[1;33m)\u001b[0m\u001b[1;33m\u001b[0m\u001b[1;33m\u001b[0m\u001b[0m\n\u001b[0m\u001b[0;32m    910\u001b[0m                 \u001b[1;32melse\u001b[0m\u001b[1;33m:\u001b[0m\u001b[1;33m\u001b[0m\u001b[1;33m\u001b[0m\u001b[0m\n\u001b[0;32m    911\u001b[0m                     \u001b[0mself\u001b[0m\u001b[1;33m.\u001b[0m\u001b[0m_output\u001b[0m\u001b[1;33m.\u001b[0m\u001b[0mextend\u001b[0m\u001b[1;33m(\u001b[0m\u001b[0mjob\u001b[0m\u001b[1;33m.\u001b[0m\u001b[0mget\u001b[0m\u001b[1;33m(\u001b[0m\u001b[1;33m)\u001b[0m\u001b[1;33m)\u001b[0m\u001b[1;33m\u001b[0m\u001b[1;33m\u001b[0m\u001b[0m\n",
      "\u001b[1;32m~\\anaconda3\\envs\\TBarrier\\lib\\site-packages\\joblib\\_parallel_backends.py\u001b[0m in \u001b[0;36mwrap_future_result\u001b[1;34m(future, timeout)\u001b[0m\n\u001b[0;32m    560\u001b[0m         AsyncResults.get from multiprocessing.\"\"\"\n\u001b[0;32m    561\u001b[0m         \u001b[1;32mtry\u001b[0m\u001b[1;33m:\u001b[0m\u001b[1;33m\u001b[0m\u001b[1;33m\u001b[0m\u001b[0m\n\u001b[1;32m--> 562\u001b[1;33m             \u001b[1;32mreturn\u001b[0m \u001b[0mfuture\u001b[0m\u001b[1;33m.\u001b[0m\u001b[0mresult\u001b[0m\u001b[1;33m(\u001b[0m\u001b[0mtimeout\u001b[0m\u001b[1;33m=\u001b[0m\u001b[0mtimeout\u001b[0m\u001b[1;33m)\u001b[0m\u001b[1;33m\u001b[0m\u001b[1;33m\u001b[0m\u001b[0m\n\u001b[0m\u001b[0;32m    563\u001b[0m         \u001b[1;32mexcept\u001b[0m \u001b[0mLokyTimeoutError\u001b[0m\u001b[1;33m:\u001b[0m\u001b[1;33m\u001b[0m\u001b[1;33m\u001b[0m\u001b[0m\n\u001b[0;32m    564\u001b[0m             \u001b[1;32mraise\u001b[0m \u001b[0mTimeoutError\u001b[0m\u001b[1;33m(\u001b[0m\u001b[1;33m)\u001b[0m\u001b[1;33m\u001b[0m\u001b[1;33m\u001b[0m\u001b[0m\n",
      "\u001b[1;32m~\\anaconda3\\envs\\TBarrier\\lib\\concurrent\\futures\\_base.py\u001b[0m in \u001b[0;36mresult\u001b[1;34m(self, timeout)\u001b[0m\n\u001b[0;32m    433\u001b[0m                 \u001b[1;32mraise\u001b[0m \u001b[0mCancelledError\u001b[0m\u001b[1;33m(\u001b[0m\u001b[1;33m)\u001b[0m\u001b[1;33m\u001b[0m\u001b[1;33m\u001b[0m\u001b[0m\n\u001b[0;32m    434\u001b[0m             \u001b[1;32melif\u001b[0m \u001b[0mself\u001b[0m\u001b[1;33m.\u001b[0m\u001b[0m_state\u001b[0m \u001b[1;33m==\u001b[0m \u001b[0mFINISHED\u001b[0m\u001b[1;33m:\u001b[0m\u001b[1;33m\u001b[0m\u001b[1;33m\u001b[0m\u001b[0m\n\u001b[1;32m--> 435\u001b[1;33m                 \u001b[1;32mreturn\u001b[0m \u001b[0mself\u001b[0m\u001b[1;33m.\u001b[0m\u001b[0m__get_result\u001b[0m\u001b[1;33m(\u001b[0m\u001b[1;33m)\u001b[0m\u001b[1;33m\u001b[0m\u001b[1;33m\u001b[0m\u001b[0m\n\u001b[0m\u001b[0;32m    436\u001b[0m             \u001b[1;32melse\u001b[0m\u001b[1;33m:\u001b[0m\u001b[1;33m\u001b[0m\u001b[1;33m\u001b[0m\u001b[0m\n\u001b[0;32m    437\u001b[0m                 \u001b[1;32mraise\u001b[0m \u001b[0mTimeoutError\u001b[0m\u001b[1;33m(\u001b[0m\u001b[1;33m)\u001b[0m\u001b[1;33m\u001b[0m\u001b[1;33m\u001b[0m\u001b[0m\n",
      "\u001b[1;32m~\\anaconda3\\envs\\TBarrier\\lib\\concurrent\\futures\\_base.py\u001b[0m in \u001b[0;36m__get_result\u001b[1;34m(self)\u001b[0m\n\u001b[0;32m    382\u001b[0m     \u001b[1;32mdef\u001b[0m \u001b[0m__get_result\u001b[0m\u001b[1;33m(\u001b[0m\u001b[0mself\u001b[0m\u001b[1;33m)\u001b[0m\u001b[1;33m:\u001b[0m\u001b[1;33m\u001b[0m\u001b[1;33m\u001b[0m\u001b[0m\n\u001b[0;32m    383\u001b[0m         \u001b[1;32mif\u001b[0m \u001b[0mself\u001b[0m\u001b[1;33m.\u001b[0m\u001b[0m_exception\u001b[0m\u001b[1;33m:\u001b[0m\u001b[1;33m\u001b[0m\u001b[1;33m\u001b[0m\u001b[0m\n\u001b[1;32m--> 384\u001b[1;33m             \u001b[1;32mraise\u001b[0m \u001b[0mself\u001b[0m\u001b[1;33m.\u001b[0m\u001b[0m_exception\u001b[0m\u001b[1;33m\u001b[0m\u001b[1;33m\u001b[0m\u001b[0m\n\u001b[0m\u001b[0;32m    385\u001b[0m         \u001b[1;32melse\u001b[0m\u001b[1;33m:\u001b[0m\u001b[1;33m\u001b[0m\u001b[1;33m\u001b[0m\u001b[0m\n\u001b[0;32m    386\u001b[0m             \u001b[1;32mreturn\u001b[0m \u001b[0mself\u001b[0m\u001b[1;33m.\u001b[0m\u001b[0m_result\u001b[0m\u001b[1;33m\u001b[0m\u001b[1;33m\u001b[0m\u001b[0m\n",
      "\u001b[1;31mValueError\u001b[0m: not enough values to unpack (expected 7, got 5)"
     ]
    }
   ],
   "source": [
    "%%time\n",
    "# Import package for parallel computing\n",
    "from joblib import delayed, Parallel\n",
    "\n",
    "# Import function to compute gradient of velocity function\n",
    "from ipynb.fs.defs.gradient_velocity import gradient_velocity\n",
    "\n",
    "# Import function to compute velocity\n",
    "from ipynb.fs.defs.velocity import velocity\n",
    "\n",
    "# Define ratio of auxiliary grid spacing vs original grid_spacing\n",
    "aux_grid_ratio = .2 # [1/100, 1/5]\n",
    "aux_grid = [aux_grid_ratio*dx, aux_grid_ratio*dy, aux_grid_ratio*dz]\n",
    "\n",
    "# Vectorize initial conditions by arranging them to a vector of size (Nx*Ny, 2)\n",
    "x0 = X_domain.ravel()\n",
    "y0 = Y_domain.ravel()\n",
    "z0 = Z_domain.ravel()\n",
    "\n",
    "# Split x0, y0, z0 into N (equal) batches for parallel computing\n",
    "def split(a, n):\n",
    "    k, m = divmod(len(a), n)\n",
    "    return (a[i*k+min(i, m):(i+1)*k+min(i+1, m)] for i in range(n))\n",
    "\n",
    "x0_batch = list(split(x0, Ncores))\n",
    "y0_batch = list(split(y0, Ncores))\n",
    "z0_batch = list(split(z0, Ncores))\n",
    "\n",
    "def parallel_S(x0_batch, y0_batch, z0_batch):\n",
    "    \n",
    "    # Initial conditions\n",
    "    X0 = np.array([x0_batch, y0_batch, z0_batch])\n",
    "    \n",
    "    # Compute gradient of velocity field\n",
    "    grad_vel = gradient_velocity(time[0], X0, X, Y, Z, Interpolant_u, Interpolant_v, Interpolant_w, periodic, bool_unsteady, aux_grid)\n",
    "    \n",
    "    # Compute rate of strain tensor\n",
    "    S = .5*(grad_vel+grad_vel.transpose(1,0,2))\n",
    "\n",
    "    return S\n",
    "\n",
    "results = Parallel(n_jobs=Ncores, verbose = 0)(delayed(parallel_S)(x0_batch[i], y0_batch[i], z0_batch[i]) for i in range(len(x0_batch)))\n",
    "\n",
    "# Extract rate of strain tensor from results of parallel computation\n",
    "S = results[0]\n",
    "\n",
    "for i in range(1,len(results)):\n",
    "    \n",
    "    S = np.append(S, results[i], axis = 2)\n",
    "    \n",
    "# Reshape array from vectorized form to structured meshgrid\n",
    "X0_gridded = x0.reshape((X_domain.shape[0], X_domain.shape[1]))\n",
    "Y0_gridded = y0.reshape((X_domain.shape[0], X_domain.shape[1]))\n",
    "S = S.reshape((3, 3, X_domain.shape[0], X_domain.shape[1]))"
   ]
  },
  {
   "cell_type": "markdown",
   "metadata": {},
   "source": [
    "# Compute eigenvalues/eigenvectors of rate of strain"
   ]
  },
  {
   "cell_type": "code",
   "execution_count": 8,
   "metadata": {
    "ExecuteTime": {
     "end_time": "2022-01-14T10:44:20.996273Z",
     "start_time": "2022-01-14T10:44:20.968034Z"
    }
   },
   "outputs": [
    {
     "ename": "NameError",
     "evalue": "name 'tqdm' is not defined",
     "output_type": "error",
     "traceback": [
      "\u001b[1;31m---------------------------------------------------------------------------\u001b[0m",
      "\u001b[1;31mNameError\u001b[0m                                 Traceback (most recent call last)",
      "\u001b[1;32m<timed exec>\u001b[0m in \u001b[0;36m<module>\u001b[1;34m\u001b[0m\n",
      "\u001b[1;31mNameError\u001b[0m: name 'tqdm' is not defined"
     ]
    }
   ],
   "source": [
    "%%time\n",
    "# Import package to compute eigenvalues of 3x3 matrix\n",
    "from ipynb.fs.defs.eigen import eigen\n",
    "\n",
    "def parallel_eigen(i):\n",
    "    \n",
    "    eigenvalue_parallel = np.zeros((X_domain.shape[1], X_domain.shape[2], 3, 3))*np.nan\n",
    "    eigenvector_parallel = np.zeros((X_domain.shape[1], X_domain.shape[2], 3, 3))*np.nan\n",
    "    \n",
    "    for j in range(X_domain.shape[1]):\n",
    "        \n",
    "        for k in range(Z_domain.shape[2]):\n",
    "            \n",
    "            eigenvalue, eigenvector = eigen(S[i,j,k,:,:])\n",
    "        \n",
    "            eigenvalue_parallel[j,k,:,:] = np.diag(eigenvalue)\n",
    "            eigenvector_parallel[j,k,:,:] = eigenvector\n",
    "        \n",
    "    return eigenvalue_parallel, eigenvector_parallel\n",
    "\n",
    "results_eigen = np.array(Parallel(n_jobs=Ncores, verbose = 0)(delayed(parallel_eigen)(i) for i in tqdm(range(X_domain.shape[0]))))\n",
    "\n",
    "#eigenvalues and eigenvectors\n",
    "eigenvalues = results_eigen[:,0,:,:,:,:]\n",
    "eigenvectors = results_eigen[:,1,:,:,:,:]\n",
    "smax = eigenvalues[:,:,:,0,0]\n",
    "smid = eigenvalues[:,:,:,1,1]\n",
    "smin = eigenvalues[:,:,:,2,2]\n",
    "eigenvector_max = eigenvectors[:,:,:,:,0]\n",
    "eigenvector_mid = eigenvectors[:,:,:,:,1]\n",
    "eigenvector_min = eigenvectors[:,:,:,:,2]"
   ]
  },
  {
   "cell_type": "markdown",
   "metadata": {},
   "source": [
    "## Compute Tensorfield properties\n",
    "\n",
    "We now compute the properties of the rate of strain tensor 'S' such as the eigenvalues 's1', 's2', 's3' and eigenvectors 'eigenv1', 'eigenv2', 'eigenv3'. Furthermore, we also need the spatial derivatives of the elements of 'S'."
   ]
  },
  {
   "cell_type": "code",
   "execution_count": 9,
   "metadata": {
    "ExecuteTime": {
     "end_time": "2022-01-14T10:44:21.010339Z",
     "start_time": "2022-01-14T10:44:20.997779Z"
    }
   },
   "outputs": [
    {
     "ename": "NameError",
     "evalue": "name 'S' is not defined",
     "output_type": "error",
     "traceback": [
      "\u001b[1;31m---------------------------------------------------------------------------\u001b[0m",
      "\u001b[1;31mNameError\u001b[0m                                 Traceback (most recent call last)",
      "\u001b[1;32m<timed exec>\u001b[0m in \u001b[0;36m<module>\u001b[1;34m\u001b[0m\n",
      "\u001b[1;31mNameError\u001b[0m: name 'S' is not defined"
     ]
    }
   ],
   "source": [
    "%%time\n",
    "# Import (cubic) RectangularGridInterpolat from scipy\n",
    "from scipy.interpolate import RegularGridInterpolator\n",
    "        \n",
    "# Compute gradients of elements of rate of strain tensor\n",
    "S11 = np.nan_to_num(S[:,:,:,0,0], nan=0.0)\n",
    "S12 = np.nan_to_num(S[:,:,:,0,1], nan=0.0)\n",
    "S22 = np.nan_to_num(S[:,:,:,1,1], nan=0.0)\n",
    "S33 = np.nan_to_num(S[:,:,:,2,2], nan=0.0)\n",
    "S23 = np.nan_to_num(S[:,:,:,1,2], nan=0.0)\n",
    "S13 = np.nan_to_num(S[:,:,:,0,2], nan=0.0)\n",
    "\n",
    "# Interpolate elements of rate of strain tensor (per default: cubic)\n",
    "interpS11 = RegularGridInterpolator((Y_domain[:,0,0], X_domain[0,:,0], Z_domain[0,0,:]), S11)\n",
    "interpS12 = RegularGridInterpolator((Y_domain[:,0,0], X_domain[0,:,0], Z_domain[0,0,:]), S12)\n",
    "interpS22 = RegularGridInterpolator((Y_domain[:,0,0], X_domain[0,:,0], Z_domain[0,0,:]), S22)\n",
    "interpS33 = RegularGridInterpolator((Y_domain[:,0,0], X_domain[0,:,0], Z_domain[0,0,:]), S33)\n",
    "interpS23 = RegularGridInterpolator((Y_domain[:,0,0], X_domain[0,:,0], Z_domain[0,0,:]), S23)\n",
    "interpS13 = RegularGridInterpolator((Y_domain[:,0,0], X_domain[0,:,0], Z_domain[0,0,:]), S13)"
   ]
  },
  {
   "cell_type": "code",
   "execution_count": null,
   "metadata": {},
   "outputs": [],
   "source": []
  },
  {
   "cell_type": "code",
   "execution_count": 10,
   "metadata": {
    "ExecuteTime": {
     "end_time": "2022-01-14T10:44:21.047921Z",
     "start_time": "2022-01-14T10:44:21.010339Z"
    }
   },
   "outputs": [
    {
     "ename": "ModuleNotFoundError",
     "evalue": "No module named 'ipynb.fs.defs.RK4_tensorlines'",
     "output_type": "error",
     "traceback": [
      "\u001b[1;31m---------------------------------------------------------------------------\u001b[0m",
      "\u001b[1;31mModuleNotFoundError\u001b[0m                       Traceback (most recent call last)",
      "\u001b[1;32m<ipython-input-10-a2a4ccd160b7>\u001b[0m in \u001b[0;36m<module>\u001b[1;34m\u001b[0m\n\u001b[0;32m      6\u001b[0m \u001b[1;33m\u001b[0m\u001b[0m\n\u001b[0;32m      7\u001b[0m \u001b[1;31m# Import package to compute tensorlines by re-orienting the vectorfield on the fly\u001b[0m\u001b[1;33m\u001b[0m\u001b[1;33m\u001b[0m\u001b[1;33m\u001b[0m\u001b[0m\n\u001b[1;32m----> 8\u001b[1;33m \u001b[1;32mfrom\u001b[0m \u001b[0mipynb\u001b[0m\u001b[1;33m.\u001b[0m\u001b[0mfs\u001b[0m\u001b[1;33m.\u001b[0m\u001b[0mdefs\u001b[0m\u001b[1;33m.\u001b[0m\u001b[0mRK4_tensorlines\u001b[0m \u001b[1;32mimport\u001b[0m \u001b[0m_RK4_tensorlines\u001b[0m\u001b[1;33m\u001b[0m\u001b[1;33m\u001b[0m\u001b[0m\n\u001b[0m\u001b[0;32m      9\u001b[0m \u001b[1;33m\u001b[0m\u001b[0m\n\u001b[0;32m     10\u001b[0m \u001b[1;31m# Import package to solve ODE\u001b[0m\u001b[1;33m\u001b[0m\u001b[1;33m\u001b[0m\u001b[1;33m\u001b[0m\u001b[0m\n",
      "\u001b[1;31mModuleNotFoundError\u001b[0m: No module named 'ipynb.fs.defs.RK4_tensorlines'"
     ]
    }
   ],
   "source": [
    "# import math tools\n",
    "from math import atan, acos, asin, cos, sin, sqrt\n",
    "\n",
    "# Import package to compute tensorline equation using ODE solver\n",
    "from ipynb.fs.defs.tensorline_equation import _tensorline_equation\n",
    "\n",
    "# Import package to compute tensorlines by re-orienting the vectorfield on the fly\n",
    "from ipynb.fs.defs.RK4_tensorlines import _RK4_tensorlines\n",
    "\n",
    "# Import package to solve ODE\n",
    "from scipy.integrate import solve_ivp\n",
    "\n",
    "# import plotting library\n",
    "import matplotlib.pyplot as plt\n",
    "\n",
    "# define integration interval of dummy variable 's'\n",
    "t = [0, 10]\n",
    "t_eval = np.linspace(t[0], t[-1], 1000)\n",
    "\n",
    "# initial alignment of eigenvector\n",
    "init_orientation = np.array([0, 0, 1])\n",
    "\n",
    "# define eigenvector_field \n",
    "# {0: eigenvector field of maximum eigenvalue}\n",
    "# {1: eigenvector field of middle eigenvalue}\n",
    "# {2: eigenvector field of minimum eigenvalue}\n",
    "idx_eigenvector = 0\n",
    "\n",
    "counter = 0\n",
    "\n",
    "def terminate_ODE(t, x_phi, interpS11, interpS12, interpS13, interpS22, interpS23, interpS33, aux_grid, idx_eigenvector):\n",
    "                \n",
    "    x = x_phi[0]%(2*pi)\n",
    "    y = x_phi[1]%(2*pi)\n",
    "    z = x_phi[2]%(2*pi)\n",
    "    \n",
    "    # compute gradient of velocity\n",
    "    grad_vel = gradient_velocity(0, np.array([x, y, z]), X, Y, Z, Interpolant, periodic, bool_unsteady, aux_grid)\n",
    "    \n",
    "    # compute rate of strain\n",
    "    S = RateStrain(grad_vel)\n",
    "    \n",
    "    # compute eigenvalues/eigenvectors of rate of strain\n",
    "    lam = eigen(S)[0]\n",
    "            \n",
    "    event = abs(lam[0]-lam[1]) <= .01 or abs(lam[0]-lam[2]) <= .01 or abs(lam[1]-lam[2]) <= .01\n",
    "                \n",
    "    return 1-event\n",
    "            \n",
    "terminate_ODE.terminal = True\n",
    "\n",
    "for i in range(0, X_domain.shape[0], 5):\n",
    "    for j in range(0, Y_domain.shape[1], 5):\n",
    "        for k in range(0, Z_domain.shape[2], 5):\n",
    "            \n",
    "            # initial position of particle\n",
    "            xinit = np.array([X_domain[i, j, k], Y_domain[i, j, k], Z_domain[i, j, k]])\n",
    "            \n",
    "            # compute gradient of velocity\n",
    "            grad_vel = gradient_velocity(t[0], xinit, X, Y, Z, Interpolant, periodic, bool_unsteady, aux_grid)\n",
    "        \n",
    "            # compute rate of strain\n",
    "            S = RateStrain(grad_vel)\n",
    "            \n",
    "            # compute inital eigenvector orientation\n",
    "            lamda, eigenv = eigen(S)\n",
    "            initial_vector = eigenv[:,idx_eigenvector]\n",
    "            print(\"initial particle position: \", xinit)\n",
    "            if np.sign(init_orientation@initial_vector) < 0:\n",
    "                initial_vector = -initial_vector\n",
    "            \n",
    "            if initial_vector[0] < 0 or initial_vector[1] < 0:\n",
    "                phi0 = atan(initial_vector[1]/initial_vector[0])+pi\n",
    "            else:\n",
    "                phi0 = atan(initial_vector[1]/initial_vector[0])\n",
    "            theta0 = acos(initial_vector[2])\n",
    "                \n",
    "            x0 = np.array([X_domain[i, j, k], Y_domain[i, j, k], Z_domain[i, j, k], phi0, theta0])\n",
    "            \n",
    "            # Compute tensorline by re-orienting vector field\n",
    "            ds = t_eval[1]-t_eval[0]\n",
    "            x_oriented = x0[:3].copy()\n",
    "            x_prime = initial_vector.copy()\n",
    "            trajectory_oriented = [[], [], []]\n",
    "            trajectory_oriented[0].append(x_oriented[0])\n",
    "            trajectory_oriented[1].append(x_oriented[1])\n",
    "            trajectory_oriented[2].append(x_oriented[2])   \n",
    "            phi_oriented, theta_oriented = [], []\n",
    "            print(\"initial vector: \", x_prime)\n",
    "            \n",
    "            for idx_t in range(len(t_eval)):             \n",
    "                x_oriented, x_prime = _RK4_tensorlines(X, Y, Z, x, x_prime, ds, periodic, interpS11, interpS12, interpS13, interpS22, interpS23, interpS33, idx_eigenvector)\n",
    "                trajectory_oriented[0].append(x_oriented[0])\n",
    "                trajectory_oriented[1].append(x_oriented[1])\n",
    "                trajectory_oriented[2].append(x_oriented[2])   \n",
    "                vx = x_prime[0]\n",
    "                vy = x_prime[1]\n",
    "                vz = x_prime[2]\n",
    "                norm_v = sqrt(vx**2+vy**2+vz**2)\n",
    "                if norm_v == 0:\n",
    "                    phi_oriented.append(np.nan)\n",
    "                    theta_oriented.append(np.nan)                   \n",
    "                else:\n",
    "                    if vx < 0:\n",
    "                        phi_oriented.append((atan(vy/vx)+pi)%(2*pi))\n",
    "                    else:\n",
    "                        phi_oriented.append((atan(vy/vx))%(2*pi))\n",
    "                    theta_oriented.append(acos(vz/norm_v))\n",
    "            \n",
    "            # solve ODE for tensorlines maximum eigenvector field of rate of strain\n",
    "            solODE = solve_ivp(_tensorline_equation, t, x0, 'RK45', t_eval, rtol=1e-5, atol=1e-5, args=(interpS11, interpS12, interpS13, interpS22, interpS23, interpS33, aux_grid, idx_eigenvector))\n",
    "                               \n",
    "            x = solODE.y[0,:]%(2*pi)\n",
    "            y = solODE.y[1,:]%(2*pi)\n",
    "            z = solODE.y[2,:]%(2*pi)\n",
    "            phi = solODE.y[3,:]%(2*pi)\n",
    "            theta = solODE.y[4,:]%pi\n",
    "            \n",
    "            lam1_2, lam2_3, lam1_3 = [], [], []\n",
    "            \n",
    "            for ii in range(x.shape[0]):\n",
    "                \n",
    "                S11 = interpS11([y[ii], x[ii], z[ii]])[0]\n",
    "                S12 = interpS12([y[ii], x[ii], z[ii]])[0]\n",
    "                S22 = interpS22([y[ii], x[ii], z[ii]])[0]\n",
    "                S13 = interpS13([y[ii], x[ii], z[ii]])[0]\n",
    "                S23 = interpS23([y[ii], x[ii], z[ii]])[0]\n",
    "                S33 = interpS33([y[ii], x[ii], z[ii]])[0]\n",
    "    \n",
    "                S21 = S12.copy()\n",
    "                S31 = S13.copy()\n",
    "                S32 = S23.copy()\n",
    "    \n",
    "                S = np.array([[S11, S12, S13], [S21, S22, S23], [S31, S32, S33]])\n",
    "                lam = eigen(S)[0]\n",
    "                lam1_2.append(abs(lam[0]-lam[1]))\n",
    "                lam1_3.append(abs(lam[0]-lam[2]))\n",
    "                lam2_3.append(abs(lam[1]-lam[2]))\n",
    "                \n",
    "            # plot trajectory in 3D\n",
    "            fig, ((ax1, ax2), (ax3, ax4)) = plt.subplots(2, 2, figsize = (14, 10), dpi = 500)\n",
    "            ax1.scatter(trajectory_oriented[0][::10], trajectory_oriented[1][::10], facecolor = \"None\", edgecolor = \"r\", label = r'manual', marker = \"o\", s = 50)\n",
    "            ax2.scatter(trajectory_oriented[0][::10], trajectory_oriented[2][::10], facecolor = \"None\", edgecolor = \"r\", label = r'manual', marker = \"o\", s = 50)\n",
    "            ax3.scatter(trajectory_oriented[1][::10], trajectory_oriented[2][::10], facecolor = \"None\", edgecolor = \"r\", label = r'manual', marker = \"o\", s = 50)\n",
    "            ax1.scatter(x[::10], y[::10], marker = \"^\", label = r'automatic', s = 50, facecolor = \"None\", edgecolor = \"b\")\n",
    "            ax1.set_xlabel(\"x\")\n",
    "            ax1.set_ylabel(\"y\")\n",
    "            ax1.set_title(\"projection onto x/y plane\")\n",
    "            ax2.set_xlabel(\"x\")\n",
    "            ax2.set_ylabel(\"z\")\n",
    "            ax2.scatter(x[::10], z[::10], marker = \"^\", label = r'automatic', s = 50, facecolor = \"None\", edgecolor = \"b\")\n",
    "            ax2.set_title(\"projection onto x/z plane\")\n",
    "            ax3.scatter(y[::10], z[::10], marker = \"^\", label = r'automatic', s = 50, facecolor = \"None\", edgecolor = \"b\")\n",
    "            ax3.set_xlabel(\"y\")\n",
    "            ax3.set_ylabel(\"z\")\n",
    "            ax3.set_title(\"projection onto y/z plane\")\n",
    "            ax4.scatter(phi, theta, label = r'automatic', marker = \"^\", s = 50, facecolor = \"None\", edgecolor = \"b\")\n",
    "            ax4.scatter(phi_oriented, theta_oriented, label = r'manual', marker = \"o\", s = 50, facecolor = \"None\", edgecolor = \"r\")\n",
    "            ax4.set_xlabel(r'$\\phi$')\n",
    "            ax4.set_ylabel(r'$\\theta$')\n",
    "            ax4.set_title(r'$ \\theta - \\phi $')\n",
    "            ax1.scatter(trajectory_oriented[0][0], trajectory_oriented[1][0], c = \"b\", marker = \"^\", s = 100)\n",
    "            ax2.scatter(trajectory_oriented[0][0], trajectory_oriented[2][0], c = \"b\", marker = \"^\", s = 100)\n",
    "            ax3.scatter(trajectory_oriented[1][0], trajectory_oriented[2][0], c = \"b\", marker = \"^\", s = 100)\n",
    "            plt.legend(loc=\"upper right\", fontsize = 10)\n",
    "            \n",
    "            plt.savefig('./Fig/max/fig_'+np.str(int(counter)) + '.jpg')\n",
    "            counter += 1\n",
    "            plt.show()"
   ]
  },
  {
   "cell_type": "code",
   "execution_count": null,
   "metadata": {},
   "outputs": [],
   "source": []
  }
 ],
 "metadata": {
  "kernelspec": {
   "display_name": "Python 3",
   "language": "python",
   "name": "python3"
  },
  "language_info": {
   "codemirror_mode": {
    "name": "ipython",
    "version": 3
   },
   "file_extension": ".py",
   "mimetype": "text/x-python",
   "name": "python",
   "nbconvert_exporter": "python",
   "pygments_lexer": "ipython3",
   "version": "3.7.12"
  },
  "toc": {
   "base_numbering": 1,
   "nav_menu": {},
   "number_sections": true,
   "sideBar": true,
   "skip_h1_title": false,
   "title_cell": "Table of Contents",
   "title_sidebar": "Contents",
   "toc_cell": false,
   "toc_position": {},
   "toc_section_display": true,
   "toc_window_display": false
  }
 },
 "nbformat": 4,
 "nbformat_minor": 4
}
