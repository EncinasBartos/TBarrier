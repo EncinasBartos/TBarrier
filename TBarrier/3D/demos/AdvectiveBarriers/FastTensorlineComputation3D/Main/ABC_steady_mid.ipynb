{
 "cells": [
  {
   "cell_type": "markdown",
   "metadata": {},
   "source": [
    "# Add Folders to Path"
   ]
  },
  {
   "cell_type": "code",
   "execution_count": 1,
   "metadata": {
    "ExecuteTime": {
     "end_time": "2021-12-07T10:47:33.183213Z",
     "start_time": "2021-12-07T10:47:33.178539Z"
    }
   },
   "outputs": [
    {
     "name": "stdout",
     "output_type": "stream",
     "text": [
      "CPU times: user 141 µs, sys: 109 µs, total: 250 µs\n",
      "Wall time: 175 µs\n"
     ]
    }
   ],
   "source": [
    "%%time\n",
    "import sys, os\n",
    "\n",
    "# get current directory\n",
    "path = os.getcwd()\n",
    "\n",
    "# get parent directory\n",
    "parent_directory = os.path.sep.join(path.split(os.path.sep)[:-4])\n",
    "\n",
    "# add utils folder to current working path\n",
    "sys.path.append(parent_directory+\"/subfunctions/utils\")\n",
    "\n",
    "# add integration folder to current working path\n",
    "sys.path.append(parent_directory+\"/subfunctions/integration\")\n",
    "\n",
    "# add EllipticOECS folder to current working path in order to access the functions\n",
    "sys.path.append(parent_directory+\"/demos/AdvectiveBarriers/FastTensorlineComputation\")"
   ]
  },
  {
   "cell_type": "code",
   "execution_count": 2,
   "metadata": {
    "ExecuteTime": {
     "end_time": "2021-12-07T10:47:33.640149Z",
     "start_time": "2021-12-07T10:47:33.185208Z"
    }
   },
   "outputs": [],
   "source": [
    "# Suppress numba warnings arising from computation falling back into object mode.\n",
    "from numba.core.errors import NumbaDeprecationWarning\n",
    "import warnings\n",
    "\n",
    "warnings.simplefilter('ignore', category=NumbaDeprecationWarning)"
   ]
  },
  {
   "cell_type": "markdown",
   "metadata": {},
   "source": [
    "# Import data"
   ]
  },
  {
   "cell_type": "code",
   "execution_count": 3,
   "metadata": {
    "ExecuteTime": {
     "end_time": "2021-12-07T10:47:33.773754Z",
     "start_time": "2021-12-07T10:47:33.642111Z"
    }
   },
   "outputs": [
    {
     "name": "stdout",
     "output_type": "stream",
     "text": [
      "CPU times: user 59.6 ms, sys: 69.8 ms, total: 129 ms\n",
      "Wall time: 128 ms\n"
     ]
    }
   ],
   "source": [
    "%%time\n",
    "import scipy.io as sio\n",
    "\n",
    "#Import velocity data from file in data-folder\n",
    "mat_file = sio.loadmat('../../../../data/ABC/ABC_steady.mat')\n",
    "\n",
    "U = mat_file['u']\n",
    "V = mat_file['v']\n",
    "W = mat_file['w']\n",
    "x = mat_file['x']\n",
    "y = mat_file['y']\n",
    "z = mat_file['z']"
   ]
  },
  {
   "cell_type": "markdown",
   "metadata": {},
   "source": [
    "# Data/Parameters for Dynamical System"
   ]
  },
  {
   "cell_type": "code",
   "execution_count": 4,
   "metadata": {
    "ExecuteTime": {
     "end_time": "2021-12-07T10:47:33.853100Z",
     "start_time": "2021-12-07T10:47:33.776037Z"
    }
   },
   "outputs": [],
   "source": [
    "import numpy as np\n",
    "\n",
    "# number of cores to be used for parallel computing\n",
    "Ncores = 18\n",
    "\n",
    "# periodic boundary conditions\n",
    "periodic_x = True\n",
    "periodic_y = True\n",
    "periodic_z = True\n",
    "periodic = [periodic_x, periodic_y, periodic_z]\n",
    "\n",
    "# unsteady velocity field\n",
    "bool_unsteady = False\n",
    "\n",
    "## compute meshgrid of dataset\n",
    "X, Y, Z = np.meshgrid(x, y, z)\n",
    "\n",
    "## resolution of meshgrid\n",
    "dx_data = X[0,1,0]-X[0,0,0]\n",
    "dy_data = Y[1,0,0]-Y[0,0,0]\n",
    "dz_data = Z[0,0,1]-Z[0,0,0]\n",
    "\n",
    "delta = [dx_data, dy_data, dz_data]"
   ]
  },
  {
   "cell_type": "markdown",
   "metadata": {},
   "source": [
    "# Spatio-Temporal Domain of Dynamical System"
   ]
  },
  {
   "cell_type": "code",
   "execution_count": 5,
   "metadata": {
    "ExecuteTime": {
     "end_time": "2021-12-07T10:47:33.860968Z",
     "start_time": "2021-12-07T10:47:33.854784Z"
    }
   },
   "outputs": [
    {
     "name": "stdout",
     "output_type": "stream",
     "text": [
      "CPU times: user 1.73 ms, sys: 1.85 ms, total: 3.58 ms\n",
      "Wall time: 2.47 ms\n"
     ]
    }
   ],
   "source": [
    "%%time\n",
    "from math import pi\n",
    "\n",
    "# Time\n",
    "t0 = 0\n",
    "tN = 10\n",
    "dt = 0.1\n",
    "\n",
    "# store time in array\n",
    "time = np.arange(t0, tN+dt, dt)\n",
    "\n",
    "lenT = 10\n",
    "\n",
    "# domain boundary (in degrees)\n",
    "xmin = 0\n",
    "xmax = 2*pi\n",
    "ymin = 0\n",
    "ymax = 2*pi\n",
    "zmin = 0\n",
    "zmax = 2*pi\n",
    "\n",
    "# spacing of meshgrid (in degrees)\n",
    "dx = 0.1\n",
    "dy = 0.1\n",
    "dz = 0.1\n",
    "\n",
    "x_domain = np.linspace(xmin, xmax, int((xmax-xmin)/dx), endpoint = True)\n",
    "y_domain = np.linspace(ymin, ymax, int((ymax-ymin)/dy), endpoint = True)\n",
    "z_domain = np.linspace(ymin, ymax, int((zmax-zmin)/dz), endpoint = True)\n",
    "\n",
    "X_domain, Y_domain, Z_domain = np.meshgrid(x_domain, y_domain, z_domain)"
   ]
  },
  {
   "cell_type": "markdown",
   "metadata": {},
   "source": [
    "# Interpolate Velocity\n",
    "\n",
    "In order to evaluate the velocity field at arbitrary locations and times, we must interpolate the discrete velocity data. The interpolation with respect to time is always linear. The interpolation with respect to space can be chosen to be \"cubic\" or \"linear\". In order to favour a smooth velocity field, we interpolate the velocity field in space using a cubic interpolant. "
   ]
  },
  {
   "cell_type": "code",
   "execution_count": 6,
   "metadata": {
    "ExecuteTime": {
     "end_time": "2021-12-07T10:47:33.917420Z",
     "start_time": "2021-12-07T10:47:33.862636Z"
    }
   },
   "outputs": [
    {
     "name": "stdout",
     "output_type": "stream",
     "text": [
      "CPU times: user 36.9 ms, sys: 15.9 ms, total: 52.8 ms\n",
      "Wall time: 52.1 ms\n"
     ]
    }
   ],
   "source": [
    "%%time\n",
    "# Import interpolation function for unsteady flow field\n",
    "from ipynb.fs.defs.Interpolant import interpolant_steady\n",
    "\n",
    "# Interpolate velocity data using linear spatial interpolation\n",
    "Interpolant = interpolant_steady(X, Y, Z, U, V, W)"
   ]
  },
  {
   "cell_type": "markdown",
   "metadata": {},
   "source": [
    "# Rate of Strain $ \\mathrm{S}(\\mathbf{x})$"
   ]
  },
  {
   "cell_type": "code",
   "execution_count": 7,
   "metadata": {
    "ExecuteTime": {
     "end_time": "2021-12-07T10:49:07.145788Z",
     "start_time": "2021-12-07T10:47:33.920021Z"
    }
   },
   "outputs": [
    {
     "data": {
      "application/vnd.jupyter.widget-view+json": {
       "model_id": "8ae0abf45c4c43a0a23a2e3981452fd3",
       "version_major": 2,
       "version_minor": 0
      },
      "text/plain": [
       "  0%|          | 0/62 [00:00<?, ?it/s]"
      ]
     },
     "metadata": {},
     "output_type": "display_data"
    },
    {
     "name": "stdout",
     "output_type": "stream",
     "text": [
      "CPU times: user 456 ms, sys: 300 ms, total: 756 ms\n",
      "Wall time: 1min 33s\n"
     ]
    }
   ],
   "source": [
    "%%time\n",
    "# Import package to compute gradient of velocity\n",
    "from ipynb.fs.defs.gradient_velocity import gradient_velocity\n",
    "\n",
    "# Import package to compute rate of strain\n",
    "from ipynb.fs.defs.RateStrain import RateStrain\n",
    "\n",
    "# Import package for progress bar\n",
    "from tqdm.notebook import tqdm\n",
    "\n",
    "# Import package for parallel computing\n",
    "from joblib import Parallel, delayed\n",
    "\n",
    "# Define auxiliary grid \n",
    "aux_grid = [np.around(.1*dx, 5), np.around(.1*dy, 5), np.around(.1*dz, 5)]\n",
    "\n",
    "def parallel_S(i):\n",
    "    \n",
    "    S_parallel = np.zeros((X_domain.shape[1], X_domain.shape[2], 3, 3))*np.nan\n",
    "    \n",
    "    for j in range(X_domain.shape[1]):\n",
    "        \n",
    "        for k in range(Y_domain.shape[2]):\n",
    "        \n",
    "            # set initial condition\n",
    "            x = np.array([X_domain[i, j, k], Y_domain[i, j, k], Z_domain[i, j, k]])\n",
    "    \n",
    "            # compute gradient of velocity\n",
    "            grad_vel = gradient_velocity(time, x, X, Y, Z, Interpolant, periodic, bool_unsteady, aux_grid)\n",
    "        \n",
    "            # compute rate of strain\n",
    "            S_parallel[j,k,:,:] = RateStrain(grad_vel)\n",
    "        \n",
    "    return S_parallel\n",
    "\n",
    "S = np.array(Parallel(n_jobs=Ncores, verbose = 0)(delayed(parallel_S)(i) for i in tqdm(range(X_domain.shape[0]))))"
   ]
  },
  {
   "cell_type": "markdown",
   "metadata": {},
   "source": [
    "# Compute Tensorfield properties\n",
    "\n",
    "We now compute the properties of the rate of strain tensor 'S' such as the spatial derivatives of the elements of 'S'."
   ]
  },
  {
   "cell_type": "code",
   "execution_count": 8,
   "metadata": {
    "ExecuteTime": {
     "end_time": "2021-12-07T10:49:07.170772Z",
     "start_time": "2021-12-07T10:49:07.148260Z"
    }
   },
   "outputs": [
    {
     "name": "stdout",
     "output_type": "stream",
     "text": [
      "CPU times: user 14.7 ms, sys: 3.63 ms, total: 18.3 ms\n",
      "Wall time: 16.8 ms\n"
     ]
    }
   ],
   "source": [
    "%%time\n",
    "# Import (cubic) RectangularGridInterpolat from scipy\n",
    "from scipy.interpolate import RegularGridInterpolator\n",
    "        \n",
    "# Compute gradients of elements of rate of strain tensor\n",
    "S11 = np.nan_to_num(S[:,:,:,0,0], nan=0.0)\n",
    "S12 = np.nan_to_num(S[:,:,:,0,1], nan=0.0)\n",
    "S22 = np.nan_to_num(S[:,:,:,1,1], nan=0.0)\n",
    "S33 = np.nan_to_num(S[:,:,:,2,2], nan=0.0)\n",
    "S23 = np.nan_to_num(S[:,:,:,1,2], nan=0.0)\n",
    "S13 = np.nan_to_num(S[:,:,:,0,2], nan=0.0)\n",
    "\n",
    "# Interpolate elements of rate of strain tensor (per default: cubic)\n",
    "interpS11 = RegularGridInterpolator((Y_domain[:,0,0], X_domain[0,:,0], Z_domain[0,0,:]), S11)\n",
    "interpS12 = RegularGridInterpolator((Y_domain[:,0,0], X_domain[0,:,0], Z_domain[0,0,:]), S12)\n",
    "interpS22 = RegularGridInterpolator((Y_domain[:,0,0], X_domain[0,:,0], Z_domain[0,0,:]), S22)\n",
    "interpS33 = RegularGridInterpolator((Y_domain[:,0,0], X_domain[0,:,0], Z_domain[0,0,:]), S33)\n",
    "interpS23 = RegularGridInterpolator((Y_domain[:,0,0], X_domain[0,:,0], Z_domain[0,0,:]), S23)\n",
    "interpS13 = RegularGridInterpolator((Y_domain[:,0,0], X_domain[0,:,0], Z_domain[0,0,:]), S13)"
   ]
  },
  {
   "cell_type": "code",
   "execution_count": 10,
   "metadata": {
    "ExecuteTime": {
     "end_time": "2021-12-07T11:00:03.271624Z",
     "start_time": "2021-12-07T10:50:28.404284Z"
    }
   },
   "outputs": [
    {
     "data": {
      "application/vnd.jupyter.widget-view+json": {
       "model_id": "cf5a6590358043f29b4651f008b49e3a",
       "version_major": 2,
       "version_minor": 0
      },
      "text/plain": [
       "  0%|          | 0/49 [00:00<?, ?it/s]"
      ]
     },
     "metadata": {},
     "output_type": "display_data"
    },
    {
     "name": "stdout",
     "output_type": "stream",
     "text": [
      "initial particle position:  [0. 0. 0.]\n",
      "initial vector:  [ 0.14178314 -0.80409216  0.57735027]\n",
      "initial vector:  [ 0.14178314 -0.80409216  0.57735027]\n",
      "initial particle position:  [1.03003038 0.         0.        ]\n",
      "initial vector:  [-0.83319734  0.18087748  0.52255672]\n",
      "initial vector:  [-0.83319734  0.18087748  0.52255672]\n",
      "initial particle position:  [2.06006076 0.         0.        ]\n",
      "initial vector:  [ 0.85201705 -0.20445654  0.48193823]\n",
      "initial vector:  [ 0.85201705 -0.20445654  0.48193823]\n",
      "initial particle position:  [3.09009113 0.         0.        ]\n",
      "initial vector:  [-0.12109812  0.78947581  0.60171686]\n",
      "initial vector:  [-0.12109812  0.78947581  0.60171686]\n",
      "initial particle position:  [4.12012151 0.         0.        ]\n",
      "initial vector:  [-0.28839693  0.934719    0.20767186]\n",
      "initial vector:  [-0.28839693  0.934719    0.20767186]\n",
      "initial particle position:  [5.15015189 0.         0.        ]\n",
      "initial vector:  [ 0.29510222 -0.94296129  0.15407364]\n",
      "initial vector:  [ 0.29510222 -0.94296129  0.15407364]\n",
      "initial particle position:  [6.18018227 0.         0.        ]\n",
      "initial vector:  [ 0.17534032 -0.82887794  0.53124112]\n",
      "initial vector:  [ 0.17534032 -0.82887794  0.53124112]\n",
      "initial particle position:  [0.         1.03003038 0.        ]\n",
      "initial vector:  [ 0.23638867 -0.93547924  0.26267657]\n",
      "initial vector:  [ 0.23638867 -0.93547924  0.26267657]\n",
      "initial particle position:  [1.03003038 1.03003038 0.        ]\n",
      "initial vector:  [-0.70412972  0.71006998  0.00139981]\n",
      "initial vector:  [-0.70412972  0.71006998  0.00139981]\n",
      "initial particle position:  [2.06006076 1.03003038 0.        ]\n",
      "initial vector:  [0.27073159 0.24720274 0.9303737 ]\n",
      "initial vector:  [0.27073159 0.24720274 0.9303737 ]\n",
      "initial particle position:  [3.09009113 1.03003038 0.        ]\n",
      "initial vector:  [0.05975447 0.58018906 0.81228693]\n",
      "initial vector:  [0.05975447 0.58018906 0.81228693]\n",
      "initial particle position:  [4.12012151 1.03003038 0.        ]\n",
      "initial vector:  [-0.08249818  0.87261924  0.48138313]\n",
      "initial vector:  [-0.08249818  0.87261924  0.48138313]\n",
      "initial particle position:  [5.15015189 1.03003038 0.        ]\n",
      "initial vector:  [-0.16693443  0.98287974  0.07797643]\n",
      "initial vector:  [-0.16693443  0.98287974  0.07797643]\n",
      "initial particle position:  [6.18018227 1.03003038 0.        ]\n",
      "initial vector:  [ 0.22504746 -0.94330102  0.24400168]\n",
      "initial vector:  [ 0.22504746 -0.94330102  0.24400168]\n",
      "initial particle position:  [0.         2.06006076 0.        ]\n",
      "initial vector:  [-0.21966022 -0.94094682  0.25762079]\n",
      "initial vector:  [-0.21966022 -0.94094682  0.25762079]\n",
      "initial particle position:  [1.03003038 2.06006076 0.        ]\n",
      "initial vector:  [0.668408   0.74346308 0.02221249]\n",
      "initial vector:  [0.668408   0.74346308 0.02221249]\n",
      "initial particle position:  [2.06006076 2.06006076 0.        ]\n",
      "initial vector:  [-0.24430607  0.25347142  0.93598439]\n",
      "initial vector:  [-0.24430607  0.25347142  0.93598439]\n",
      "initial particle position:  [3.09009113 2.06006076 0.        ]\n",
      "initial vector:  [-0.05540411  0.57743029  0.81455795]\n",
      "initial vector:  [-0.05540411  0.57743029  0.81455795]\n",
      "initial particle position:  [4.12012151 2.06006076 0.        ]\n",
      "initial vector:  [0.07317646 0.86909656 0.48919974]\n",
      "initial vector:  [0.07317646 0.86909656 0.48919974]\n",
      "initial particle position:  [5.15015189 2.06006076 0.        ]\n",
      "initial vector:  [0.15249471 0.98449251 0.08671716]\n",
      "initial vector:  [0.15249471 0.98449251 0.08671716]\n",
      "initial particle position:  [6.18018227 2.06006076 0.        ]\n",
      "initial vector:  [-0.20884663 -0.94842601  0.2384768 ]\n",
      "initial vector:  [-0.20884663 -0.94842601  0.2384768 ]\n",
      "initial particle position:  [0.         3.09009113 0.        ]\n",
      "initial vector:  [-0.16963816 -0.81820596  0.54932858]\n",
      "initial vector:  [-0.16963816 -0.81820596  0.54932858]\n",
      "initial particle position:  [1.03003038 3.09009113 0.        ]\n",
      "initial vector:  [0.85160998 0.22277366 0.47448113]\n",
      "initial vector:  [0.85160998 0.22277366 0.47448113]\n",
      "initial particle position:  [2.06006076 3.09009113 0.        ]\n",
      "initial vector:  [-0.83256947 -0.16589342  0.52849546]\n",
      "initial vector:  [-0.83256947 -0.16589342  0.52849546]\n",
      "initial particle position:  [3.09009113 3.09009113 0.        ]\n",
      "initial vector:  [0.09052733 0.77178867 0.62940213]\n",
      "initial vector:  [0.09052733 0.77178867 0.62940213]\n",
      "initial particle position:  [4.12012151 3.09009113 0.        ]\n",
      "initial vector:  [0.28278051 0.93298381 0.22265758]\n",
      "initial vector:  [0.28278051 0.93298381 0.22265758]\n",
      "initial particle position:  [5.15015189 3.09009113 0.        ]\n",
      "initial vector:  [-0.29811594 -0.94419183  0.14010233]\n",
      "initial vector:  [-0.29811594 -0.94419183  0.14010233]\n",
      "initial particle position:  [6.18018227 3.09009113 0.        ]\n",
      "initial vector:  [-0.19783593 -0.83958855  0.50591699]\n",
      "initial vector:  [-0.19783593 -0.83958855  0.50591699]\n",
      "initial particle position:  [0.         4.12012151 0.        ]\n",
      "initial vector:  [ 0.05368705 -0.60200773  0.79668337]\n",
      "initial vector:  [ 0.05368705 -0.60200773  0.79668337]\n",
      "initial particle position:  [1.03003038 4.12012151 0.        ]\n",
      "initial vector:  [ 0.28015619 -0.25368603  0.92582715]\n",
      "initial vector:  [ 0.28015619 -0.25368603  0.92582715]\n",
      "initial particle position:  [2.06006076 4.12012151 0.        ]\n",
      "initial vector:  [0.75781163 0.65167509 0.03226626]\n",
      "initial vector:  [0.75781163 0.65167509 0.03226626]\n",
      "initial particle position:  [3.09009113 4.12012151 0.        ]\n",
      "initial vector:  [0.25785697 0.92630664 0.27471036]\n",
      "initial vector:  [0.25785697 0.92630664 0.27471036]\n",
      "initial particle position:  [4.12012151 4.12012151 0.        ]\n",
      "initial vector:  [-0.18854076 -0.98198244  0.01276187]\n",
      "initial vector:  [-0.18854076 -0.98198244  0.01276187]\n",
      "initial particle position:  [5.15015189 4.12012151 0.        ]\n",
      "initial vector:  [-0.10858877 -0.90364939  0.41427801]\n",
      "initial vector:  [-0.10858877 -0.90364939  0.41427801]\n",
      "initial particle position:  [6.18018227 4.12012151 0.        ]\n",
      "initial vector:  [ 0.03479822 -0.63897713  0.76843823]\n",
      "initial vector:  [ 0.03479822 -0.63897713  0.76843823]\n",
      "initial particle position:  [0.         5.15015189 0.        ]\n",
      "initial vector:  [-0.0434402  -0.59292359  0.80408617]\n",
      "initial vector:  [-0.0434402  -0.59292359  0.80408617]\n",
      "initial particle position:  [1.03003038 5.15015189 0.        ]\n",
      "initial vector:  [-0.20553223 -0.2703054   0.9405804 ]\n",
      "initial vector:  [-0.20553223 -0.2703054   0.9405804 ]\n",
      "initial particle position:  [2.06006076 5.15015189 0.        ]\n",
      "initial vector:  [ 0.6395014  -0.76606506  0.06467061]\n",
      "initial vector:  [ 0.6395014  -0.76606506  0.06467061]\n",
      "initial particle position:  [3.09009113 5.15015189 0.        ]\n",
      "initial vector:  [-0.2065609   0.94313239  0.2604494 ]\n",
      "initial vector:  [-0.2065609   0.94313239  0.2604494 ]\n",
      "initial particle position:  [4.12012151 5.15015189 0.        ]\n",
      "initial vector:  [ 0.1444724 -0.9887913  0.0376761]\n",
      "initial vector:  [ 0.1444724 -0.9887913  0.0376761]\n",
      "initial particle position:  [5.15015189 5.15015189 0.        ]\n",
      "initial vector:  [ 0.07713993 -0.89506693  0.43920908]\n",
      "initial vector:  [ 0.07713993 -0.89506693  0.43920908]\n",
      "initial particle position:  [6.18018227 5.15015189 0.        ]\n",
      "initial vector:  [-0.0299118  -0.62839     0.77732316]\n",
      "initial vector:  [-0.0299118  -0.62839     0.77732316]\n",
      "initial particle position:  [0.         6.18018227 0.        ]\n",
      "initial vector:  [ 0.08675166 -0.77225171  0.62936591]\n",
      "initial vector:  [ 0.08675166 -0.77225171  0.62936591]\n",
      "initial particle position:  [1.03003038 6.18018227 0.        ]\n",
      "initial vector:  [-0.78406449  0.09631952  0.6131602 ]\n",
      "initial vector:  [-0.78406449  0.09631952  0.6131602 ]\n",
      "initial particle position:  [2.06006076 6.18018227 0.        ]\n",
      "initial vector:  [ 0.87896721 -0.27709052  0.38812046]\n",
      "initial vector:  [ 0.87896721 -0.27709052  0.38812046]\n",
      "initial particle position:  [3.09009113 6.18018227 0.        ]\n",
      "initial vector:  [-0.18264568  0.82037729  0.54186867]\n",
      "initial vector:  [-0.18264568  0.82037729  0.54186867]\n",
      "initial particle position:  [4.12012151 6.18018227 0.        ]\n",
      "initial vector:  [-0.29613647  0.93824878  0.17886423]\n",
      "initial vector:  [-0.29613647  0.93824878  0.17886423]\n",
      "initial particle position:  [5.15015189 6.18018227 0.        ]\n",
      "initial vector:  [ 0.2857279  -0.94069335  0.18290866]\n",
      "initial vector:  [ 0.2857279  -0.94069335  0.18290866]\n"
     ]
    },
    {
     "name": "stdout",
     "output_type": "stream",
     "text": [
      "initial particle position:  [6.18018227 6.18018227 0.        ]\n",
      "initial vector:  [ 0.12860264 -0.8040732   0.58045469]\n",
      "initial vector:  [ 0.12860264 -0.8040732   0.58045469]\n"
     ]
    }
   ],
   "source": [
    "# import math tools\n",
    "from math import atan, acos, asin, cos, sin, sqrt\n",
    "\n",
    "# Import package to compute tensorline equation using ODE solver\n",
    "from ipynb.fs.defs.tensorline_equation import _tensorline_equation\n",
    "\n",
    "# Import package to compute tensorlines by re-orienting the vectorfield on the fly\n",
    "from ipynb.fs.defs.RK4_tensorlines import _RK4_tensorlines\n",
    "\n",
    "# Import package to solve ODE\n",
    "from scipy.integrate import solve_ivp\n",
    "\n",
    "# Import package to solve ODE\n",
    "from ipynb.fs.defs.eigen import eigen\n",
    "\n",
    "# Import package for parallel computing\n",
    "from joblib import Parallel, delayed\n",
    "\n",
    "# import plotting library\n",
    "import matplotlib.pyplot as plt\n",
    "\n",
    "# define integration interval of dummy variable 's'\n",
    "t = [0, 10]\n",
    "t_eval = np.linspace(t[0], t[-1], 1000)\n",
    "\n",
    "# initial alignment of eigenvector\n",
    "init_orientation = np.array([0, 0, 1])\n",
    "\n",
    "# define eigenvector_field \n",
    "# {0: eigenvector field of maximum eigenvalue}\n",
    "# {1: eigenvector field of middle eigenvalue}\n",
    "# {2: eigenvector field of minimum eigenvalue}\n",
    "idx_eigenvector = 1\n",
    "\n",
    "x_0 = X_domain[::10,::10,0].ravel()\n",
    "y_0 = Y_domain[::10,::10,0].ravel()\n",
    "z_0 = 0\n",
    "\n",
    "def terminate_ODE(t, x_phi, interpS11, interpS12, interpS13, interpS22, interpS23, interpS33, aux_grid, idx_eigenvector):\n",
    "                \n",
    "    x = x_phi[0]%(2*pi)\n",
    "    y = x_phi[1]%(2*pi)\n",
    "    z = x_phi[2]%(2*pi)\n",
    "    \n",
    "    # compute gradient of velocity\n",
    "    grad_vel = gradient_velocity(0, np.array([x, y, z]), X, Y, Z, Interpolant, periodic, bool_unsteady, aux_grid)\n",
    "    \n",
    "    # compute rate of strain\n",
    "    S = RateStrain(grad_vel)\n",
    "    \n",
    "    # compute eigenvalues/eigenvectors of rate of strain\n",
    "    lam = eigen(S)[0]\n",
    "            \n",
    "    event = abs(lam[0]-lam[1]) <= .01 or abs(lam[0]-lam[2]) <= .01 or abs(lam[1]-lam[2]) <= .01\n",
    "                \n",
    "    return 1-event\n",
    "            \n",
    "terminate_ODE.terminal = True\n",
    "\n",
    "def compute_e2(i):\n",
    "            \n",
    "    # initial position of particle\n",
    "    xinit = np.array([x_0[i], y_0[i], z_0])\n",
    "            \n",
    "    # compute gradient of velocity\n",
    "    grad_vel = gradient_velocity(t[0], xinit, X, Y, Z, Interpolant, periodic, bool_unsteady, aux_grid)\n",
    "        \n",
    "    # compute rate of strain\n",
    "    S = RateStrain(grad_vel)\n",
    "            \n",
    "    # compute inital eigenvector orientation\n",
    "    lamda, eigenv = eigen(S)\n",
    "    initial_vector = eigenv[:,idx_eigenvector]\n",
    "    print(\"initial particle position: \", xinit)\n",
    "    print(\"initial vector: \", initial_vector)\n",
    "    if np.sign(init_orientation@initial_vector) < 0:\n",
    "        initial_vector = -initial_vector\n",
    "            \n",
    "    if initial_vector[0] < 0 or (initial_vector[0] < 0 and initial_vector[1] < 0):\n",
    "        phi0 = atan(initial_vector[1]/initial_vector[0])+pi\n",
    "    else:\n",
    "        phi0 = atan(initial_vector[1]/initial_vector[0])\n",
    "    theta0 = acos(initial_vector[2])\n",
    "                \n",
    "    x0 = np.array([x_0[i], y_0[i], z_0, phi0, theta0])\n",
    "            \n",
    "    # Compute tensorline by re-orienting vector field\n",
    "    ds = t_eval[1]-t_eval[0]\n",
    "    x_oriented = x0[:3].copy()\n",
    "    x_prime = initial_vector.copy()\n",
    "    trajectory_oriented = [[], [], []]\n",
    "    trajectory_oriented[0].append(x_oriented[0])\n",
    "    trajectory_oriented[1].append(x_oriented[1])\n",
    "    trajectory_oriented[2].append(x_oriented[2])   \n",
    "    phi_oriented, theta_oriented = [], []\n",
    "    print(\"initial vector: \", x_prime)\n",
    "            \n",
    "    for idx_t in range(len(t_eval)):             \n",
    "        x_oriented, x_prime = _RK4_tensorlines(X, Y, Z, x_oriented, x_prime, ds, periodic, interpS11, interpS12, interpS13, interpS22, interpS23, interpS33, idx_eigenvector)\n",
    "        trajectory_oriented[0].append(x_oriented[0])\n",
    "        trajectory_oriented[1].append(x_oriented[1])\n",
    "        trajectory_oriented[2].append(x_oriented[2])   \n",
    "        vx = x_prime[0]\n",
    "        vy = x_prime[1]\n",
    "        vz = x_prime[2]\n",
    "        norm_v = sqrt(vx**2+vy**2+vz**2)\n",
    "        if norm_v == 0:\n",
    "            phi_oriented.append(np.nan)\n",
    "            theta_oriented.append(np.nan)                   \n",
    "        else:\n",
    "            if vx < 0:\n",
    "                phi_oriented.append((atan(vy/vx)+pi)%(2*pi))\n",
    "            else:\n",
    "                phi_oriented.append((atan(vy/vx))%(2*pi))\n",
    "            theta_oriented.append(acos(vz/norm_v))\n",
    "            \n",
    "    # solve ODE for tensorlines maximum eigenvector field of rate of strain\n",
    "    solODE = solve_ivp(_tensorline_equation, t, x0, 'RK45', t_eval, rtol=1e-5, atol=1e-5, events = terminate_ODE, args=(interpS11, interpS12, interpS13, interpS22, interpS23, interpS33, aux_grid, idx_eigenvector))\n",
    "                               \n",
    "    x = solODE.y[0,:]%(2*pi)\n",
    "    y = solODE.y[1,:]%(2*pi)\n",
    "    z = solODE.y[2,:]%(2*pi)\n",
    "    phi = solODE.y[3,:]%(2*pi)\n",
    "    theta = solODE.y[4,:]%pi\n",
    "                \n",
    "    # plot trajectory in 3D\n",
    "    fig, ((ax1, ax2), (ax3, ax4)) = plt.subplots(2, 2, figsize = (14, 10), dpi = 500)\n",
    "    ax1.scatter(trajectory_oriented[0][::5], trajectory_oriented[1][::5], facecolor = \"None\", edgecolor = \"r\", label = r'manual', marker = \"o\", s = 50)\n",
    "    ax2.scatter(trajectory_oriented[0][::5], trajectory_oriented[2][::5], facecolor = \"None\", edgecolor = \"r\", label = r'manual', marker = \"o\", s = 50)\n",
    "    ax3.scatter(trajectory_oriented[1][::5], trajectory_oriented[2][::5], facecolor = \"None\", edgecolor = \"r\", label = r'manual', marker = \"o\", s = 50)\n",
    "    ax1.scatter(x[::5], y[::5], marker = \"^\", label = r'automatic', s = 50, facecolor = \"None\", edgecolor = \"b\")\n",
    "    ax1.set_xlabel(\"x\")\n",
    "    ax1.set_ylabel(\"y\")\n",
    "    ax1.set_title(\"projection onto x/y plane\")\n",
    "    ax2.set_xlabel(\"x\")\n",
    "    ax2.set_ylabel(\"z\")\n",
    "    ax2.scatter(x[::5], z[::5], marker = \"^\", label = r'automatic', s = 50, facecolor = \"None\", edgecolor = \"b\")\n",
    "    ax2.set_title(\"projection onto x/z plane\")\n",
    "    ax3.scatter(y[::5], z[::5], marker = \"^\", label = r'automatic', s = 50, facecolor = \"None\", edgecolor = \"b\")\n",
    "    ax3.set_xlabel(\"y\")\n",
    "    ax3.set_ylabel(\"z\")\n",
    "    ax3.set_title(\"projection onto y/z plane\")\n",
    "    ax4.scatter(phi, theta, label = r'automatic', marker = \"^\", s = 50, facecolor = \"None\", edgecolor = \"b\")\n",
    "    ax4.scatter(phi_oriented, theta_oriented, label = r'manual', marker = \"o\", s = 50, facecolor = \"None\", edgecolor = \"r\")\n",
    "    ax4.set_xlabel(r'$\\phi$')\n",
    "    ax4.set_ylabel(r'$\\theta$')\n",
    "    ax4.set_title(r'$ \\theta - \\phi $')\n",
    "    ax1.scatter(trajectory_oriented[0][0], trajectory_oriented[1][0], c = \"b\", marker = \"^\", s = 100)\n",
    "    ax2.scatter(trajectory_oriented[0][0], trajectory_oriented[2][0], c = \"b\", marker = \"^\", s = 100)\n",
    "    ax3.scatter(trajectory_oriented[1][0], trajectory_oriented[2][0], c = \"b\", marker = \"^\", s = 100)\n",
    "    plt.legend(loc=\"upper right\", fontsize = 10)\n",
    "            \n",
    "    plt.savefig('./Fig/mid/fig_'+np.str(int(i)) + '.jpg')\n",
    "    plt.close()\n",
    "    \n",
    "    return solODE\n",
    "\n",
    "Ncores = 1\n",
    "sol = Parallel(n_jobs=Ncores, verbose = 0)(delayed(compute_e2)(i) for i in tqdm(range(len(x_0))))\n"
   ]
  },
  {
   "cell_type": "code",
   "execution_count": null,
   "metadata": {},
   "outputs": [],
   "source": []
  }
 ],
 "metadata": {
  "kernelspec": {
   "display_name": "Python 3",
   "language": "python",
   "name": "python3"
  },
  "language_info": {
   "codemirror_mode": {
    "name": "ipython",
    "version": 3
   },
   "file_extension": ".py",
   "mimetype": "text/x-python",
   "name": "python",
   "nbconvert_exporter": "python",
   "pygments_lexer": "ipython3",
   "version": "3.7.11"
  },
  "toc": {
   "base_numbering": 1,
   "nav_menu": {},
   "number_sections": true,
   "sideBar": true,
   "skip_h1_title": false,
   "title_cell": "Table of Contents",
   "title_sidebar": "Contents",
   "toc_cell": false,
   "toc_position": {},
   "toc_section_display": true,
   "toc_window_display": false
  }
 },
 "nbformat": 4,
 "nbformat_minor": 4
}
