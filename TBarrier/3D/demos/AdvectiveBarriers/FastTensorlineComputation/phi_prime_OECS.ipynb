{
 "cells": [
  {
   "cell_type": "code",
   "execution_count": 1,
   "metadata": {
    "ExecuteTime": {
     "end_time": "2021-11-02T21:28:07.752563Z",
     "start_time": "2021-11-02T21:28:07.518896Z"
    }
   },
   "outputs": [],
   "source": [
    "import numpy as np\n",
    "from numba import njit, prange\n",
    "from math import cos, sin\n",
    "\n",
    "@njit(parallel=True)\n",
    "def __phi_prime_OECS(X, Y, phi, s, S11_x, S11_y, S12_x, S12_y, S22_x, S22_y, Ncores):\n",
    "    \n",
    "    phi_prime = np.zeros((Y.shape[0], X.shape[1], phi.shape[0]))\n",
    "    \n",
    "    for i in prange(Y.shape[0]):\n",
    "        \n",
    "        for j in prange(X.shape[1]):\n",
    "            \n",
    "            s_ = s[i, j]\n",
    "            \n",
    "            if np.abs(s_) > 0 and np.isfinite(s_) and np.isfinite(S11_x[i, j]) and np.isfinite(S11_y[i, j]) and np.isfinite(S12_x[i, j]) and np.isfinite(S12_y[i, j]) and np.isfinite(S22_x[i, j]) and np.isfinite(S22_y[i, j]):\n",
    "                \n",
    "                s_matrix = s_*np.eye(2, 2)\n",
    "            \n",
    "                S11_x_ = S11_x[i, j]\n",
    "                S11_y_ = S11_y[i, j]\n",
    "            \n",
    "                S12_x_ = S12_x[i, j]\n",
    "                S12_y_ = S12_y[i, j]\n",
    "            \n",
    "                S22_x_ = S22_x[i, j]\n",
    "                S22_y_ = S22_y[i, j]\n",
    "            \n",
    "                for p in prange(phi.shape[0]):\n",
    "                \n",
    "                    phi_ = phi[p]\n",
    "                \n",
    "                    e = np.array([cos(phi_), sin(phi_)])\n",
    "                    v = np.array([-sin(phi_), cos(phi_)])\n",
    "                \n",
    "                    grad_S_e = np.array([[S11_x_*cos(phi_)+S11_y_*sin(phi_), S12_x_*cos(phi_)+S12_y_*sin(phi_)], [S12_x_*cos(phi_)+S12_y_*sin(phi_), S22_x_*cos(phi_)+S22_y_*sin(phi_)]])\n",
    "                \n",
    "                    #K = sin(phi_)*cos(phi_)**2*(-S11_x_+S12_y_+S22_x_)+sin(phi_)**2*cos(phi_)*(-S11_y_-S12_x_+S22_y_)+S12_x_*cos(phi_)**3-S12_y_*sin(phi_)**3\n",
    "    \n",
    "                    K = v.T@(grad_S_e@e)\n",
    "        \n",
    "                    phi_prime[i, j, p] = 1/(2*s_)*K#*(v.T@(grad_C_e@e))\n",
    "                    \n",
    "            else:\n",
    "                \n",
    "                phi_prime[i, j, :] = 0\n",
    "      \n",
    "    return phi_prime"
   ]
  },
  {
   "cell_type": "code",
   "execution_count": 2,
   "metadata": {
    "ExecuteTime": {
     "end_time": "2021-11-02T21:28:07.768554Z",
     "start_time": "2021-11-02T21:28:07.754567Z"
    }
   },
   "outputs": [],
   "source": [
    "def _phi_prime_OECS(X, Y, s, S11_x, S11_y, S12_x, S12_y, S22_x, S22_y, Ncores):\n",
    "    \n",
    "    phi = np.linspace(0, 2*np.pi, 180)\n",
    "    \n",
    "    from scipy.interpolate import RegularGridInterpolator\n",
    "    \n",
    "    phi_prime = __phi_prime_OECS(X, Y, phi, s, S11_x, S11_y, S12_x, S12_y, S22_x, S22_y, Ncores)\n",
    "    \n",
    "    return RegularGridInterpolator((Y[:,0], X[0,:], phi), phi_prime)"
   ]
  }
 ],
 "metadata": {
  "kernelspec": {
   "display_name": "Python 3 (ipykernel)",
   "language": "python",
   "name": "python3"
  },
  "language_info": {
   "codemirror_mode": {
    "name": "ipython",
    "version": 3
   },
   "file_extension": ".py",
   "mimetype": "text/x-python",
   "name": "python",
   "nbconvert_exporter": "python",
   "pygments_lexer": "ipython3",
   "version": "3.7.11"
  },
  "toc": {
   "base_numbering": 1,
   "nav_menu": {},
   "number_sections": true,
   "sideBar": true,
   "skip_h1_title": false,
   "title_cell": "Table of Contents",
   "title_sidebar": "Contents",
   "toc_cell": false,
   "toc_position": {},
   "toc_section_display": true,
   "toc_window_display": false
  }
 },
 "nbformat": 4,
 "nbformat_minor": 4
}
