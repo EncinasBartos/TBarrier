{
 "cells": [
  {
   "cell_type": "markdown",
   "id": "523f7c35",
   "metadata": {},
   "source": [
    "We start by adding the necessary folders to the current working path."
   ]
  },
  {
   "cell_type": "code",
   "execution_count": null,
   "id": "e5125de0",
   "metadata": {
    "ExecuteTime": {
     "end_time": "2022-02-17T17:47:19.622491Z",
     "start_time": "2022-02-17T17:47:19.618618Z"
    },
    "code_folding": [
     0
    ]
   },
   "outputs": [],
   "source": [
    "# import sys/os\n",
    "import sys, os\n",
    "\n",
    "# get current directory\n",
    "path = os.getcwd()\n",
    "\n",
    "# get parent directory\n",
    "parent_directory = os.path.sep.join(path.split(os.path.sep)[:-4])\n",
    "\n",
    "# add utils folder to current working path\n",
    "sys.path.append(parent_directory+\"/subfunctions/utils\")\n",
    "\n",
    "# add integration folder to current working path\n",
    "sys.path.append(parent_directory+\"/subfunctions/integration\")\n",
    "\n",
    "# add 'FTLE3D' folder to current working path in order to access the functions\n",
    "sys.path.append(parent_directory+\"/demos/AdvectiveBarriers/FTLE3D\")"
   ]
  },
  {
   "cell_type": "markdown",
   "id": "dc0449c6",
   "metadata": {},
   "source": [
    "# Overview\n",
    "\n",
    "In the following notebook we compute the Finite Time Lyapunov Exponent ($ \\mathrm{FTLE} $) on the three-dimensional, unsteady ABC-flow. The velocity field is given as discrete dataset defined over the 3D meshgrid $ [0,2\\pi]^3 $. The notebook is structured as follows:\n",
    "\n",
    "1. Import data from the file 'ABCunsteady.mat' stored in the folder 'data/ABC'.\n",
    "<br />\n",
    "2. Define computational parameters and data.\n",
    " <br />\n",
    "3. Define spatio-temporal domain.\n",
    " <br />\n",
    "4. Interpolate velocity from (discrete) gridded data.\n",
    " <br />\n",
    "5. $ \\mathrm{FTLE} $:\n",
    "\n",
    "    * Compute gradient of flow map $ \\mathbf{\\nabla F}_{t_0}^{t_N}(\\mathbf{x}_0) $ over meshgrid using an auxiliary grid.\n",
    "    <br />\n",
    "    \n",
    "    * Compute $ \\mathrm{FTLE} $ from maximum singular value $ \\sigma_{max} $ of $ \\mathbf{\\nabla F}_{t_0}^{t_N}(\\mathbf{x}_0) $ according to:\n",
    "    \\begin{equation}\n",
    "    \\mathrm{FTLE}_{t_0}^{t_N}(\\mathbf{x}_0) = \\dfrac{1}{t_N-t_0}\\log(\\sigma_{max}(\\mathbf{x}_0))\n",
    "    \\end{equation}\n",
    " <br />\n",
    "6. References"
   ]
  },
  {
   "cell_type": "markdown",
   "id": "68c33f08",
   "metadata": {},
   "source": [
    "# Import data"
   ]
  },
  {
   "cell_type": "code",
   "execution_count": null,
   "id": "5d9e8651",
   "metadata": {
    "ExecuteTime": {
     "end_time": "2022-02-17T17:47:20.003196Z",
     "start_time": "2022-02-17T17:47:19.656018Z"
    },
    "code_folding": []
   },
   "outputs": [],
   "source": [
    "# import scipy\n",
    "import scipy.io as sio\n",
    "\n",
    "# Import velocity data from file in data-folder\n",
    "mat_file = sio.loadmat('../../../../data/ABC/ABCunsteady.mat')\n",
    "\n",
    "U = mat_file['u'] # array (NY, NX, NZ)\n",
    "V = mat_file['v'] # array (NY, NX, NZ)\n",
    "W = mat_file['w'] # array (NY, NX, NZ)\n",
    "x = mat_file['x'] # array (1, NX)\n",
    "y = mat_file['y'] # array (1, NY)\n",
    "z = mat_file['z'] # array (1, NZ)\n",
    "time_data = mat_file['t']"
   ]
  },
  {
   "cell_type": "markdown",
   "id": "7d9355bd",
   "metadata": {},
   "source": [
    "# Computational parameters and data\n",
    "\n",
    "Here we define the computational parameters and the data."
   ]
  },
  {
   "cell_type": "code",
   "execution_count": null,
   "id": "92f140e3",
   "metadata": {
    "ExecuteTime": {
     "end_time": "2022-02-17T17:47:20.046189Z",
     "start_time": "2022-02-17T17:47:20.005293Z"
    },
    "code_folding": [
     0
    ]
   },
   "outputs": [],
   "source": [
    "# import numpy\n",
    "import numpy as np\n",
    "\n",
    "# Number of cores for parallel computing\n",
    "Ncores = 7 # int\n",
    "\n",
    "# Periodic boundary conditions\n",
    "periodic_x = True # bool\n",
    "periodic_y = True # bool\n",
    "periodic_z = True # bool\n",
    "periodic = [periodic_x, periodic_y, periodic_z]\n",
    "\n",
    "# Unsteady velocity field\n",
    "bool_unsteady = True # bool\n",
    "\n",
    "# Defined domain\n",
    "defined_domain = np.isfinite(U).astype(int) # array (NY, NX, NZ)\n",
    "\n",
    "## Compute meshgrid of dataset\n",
    "X, Y, Z = np.meshgrid(x, y, z) # array (NY, NX), array (NY, NX, NZ)\n",
    "\n",
    "## Resolution of meshgrid\n",
    "dx_data = X[0,1,0]-X[0,0,0] # float\n",
    "dy_data = Y[1,0,0]-Y[0,0,0] # float\n",
    "dz_data = Y[0,0,1]-Z[0,0,0] # float\n",
    "\n",
    "delta = [dx_data, dy_data, dx_data] # list (3, )"
   ]
  },
  {
   "cell_type": "markdown",
   "id": "4949ca9f",
   "metadata": {},
   "source": [
    "# Spatio-temporal domain\n",
    "\n",
    "Here we define the spatio-temporal domain over which to consider the dynamical system."
   ]
  },
  {
   "cell_type": "code",
   "execution_count": null,
   "id": "8eb69419",
   "metadata": {
    "ExecuteTime": {
     "end_time": "2022-02-17T17:47:20.126967Z",
     "start_time": "2022-02-17T17:47:20.048543Z"
    },
    "code_folding": []
   },
   "outputs": [],
   "source": [
    "# Initial time\n",
    "t0 = 0 # float\n",
    "\n",
    "# Final time\n",
    "tN = 20 # float\n",
    "\n",
    "# Time step-size\n",
    "dt = 0.1 # float\n",
    "\n",
    "# NOTE: For computing the backward FTLE field tN < t0 and dt < 0.\n",
    "\n",
    "time = np.arange(t0, tN+dt, dt) # shape (Nt,)\n",
    "\n",
    "# Length of time interval\n",
    "lenT = abs(tN-t0) # float\n",
    "\n",
    "# boundaries\n",
    "xmin = 0 # float\n",
    "xmax = 2*np.pi # float\n",
    "ymin = 0 # float\n",
    "ymax = 2*np.pi # float\n",
    "zmin = 0 # float\n",
    "zmax = 2*np.pi # float\n",
    "\n",
    "# Resolution of meshgrid\n",
    "Ny = 200 # int\n",
    "Nx = 200 # int\n",
    "Nz = 200 # int\n",
    "\n",
    "x_domain = np.linspace(xmin, xmax, Nx, endpoint = True) # array (Nx, )\n",
    "y_domain = np.linspace(ymin, ymax, Ny, endpoint = True) # array (Ny, )\n",
    "z_domain = np.linspace(zmin, zmax, Nz, endpoint = True) # array (Nz, )\n",
    "\n",
    "dx = x_domain[1]-x_domain[0] # float\n",
    "dy = y_domain[1]-y_domain[0] # float\n",
    "dz = z_domain[1]-z_domain[0] # float\n",
    "\n",
    "X_domain, Y_domain, Z_domain = np.meshgrid(x_domain, y_domain, z_domain) # array (Ny, Nx, Nz)\n",
    "\n",
    "Ny = X_domain.shape[0] # int\n",
    "Nx = X_domain.shape[1] # int\n",
    "Nz = X_domain.shape[2] # int\n",
    "\n",
    "# auxiliary grid spacing\n",
    "aux_grid = [0.1*dx, 0.1*dy, 0.1*dz] # list (3,)"
   ]
  },
  {
   "cell_type": "markdown",
   "id": "3deea2f1",
   "metadata": {},
   "source": [
    "# Velocity Interpolation\n",
    "\n",
    "In order to evaluate the velocity field at arbitrary locations, we interpolate the discrete velocity data. The interpolation with respect to time and space is linear."
   ]
  },
  {
   "cell_type": "code",
   "execution_count": null,
   "id": "83dd6ccd",
   "metadata": {
    "ExecuteTime": {
     "end_time": "2022-02-17T17:47:20.207519Z",
     "start_time": "2022-02-17T17:47:20.129138Z"
    },
    "code_folding": []
   },
   "outputs": [],
   "source": [
    "# Import interpolation function for unsteady flow field\n",
    "from ipynb.fs.defs.Interpolant import interpolant_unsteady\n",
    "\n",
    "# Set nan values to zero (in case there are any) so that we can apply interpolant. \n",
    "# Interpolant does not work if the array contains nan values. \n",
    "U[np.isnan(U)] = 0\n",
    "V[np.isnan(V)] = 0\n",
    "W[np.isnan(W)] = 0\n",
    "\n",
    "# Interpolate velocity data using cubic spatial interpolation\n",
    "Interpolant = interpolant_unsteady(X, Y, Z, U, V, W, time_data)\n",
    "\n",
    "Interpolant_u = Interpolant[0] # RectangularBivariateSpline-object\n",
    "Interpolant_v = Interpolant[1] # RectangularBivariateSpline-object\n",
    "Interpolant_w = Interpolant[2] # RectangularBivariateSpline-object"
   ]
  },
  {
   "cell_type": "markdown",
   "id": "ae29e365",
   "metadata": {},
   "source": [
    "# FTLE\n",
    "\n",
    "The computation of the $ \\mathrm{FTLE} $ is not done over the 3D meshgrid but only over the 2D faces of the cube $ [0,2\\pi]^3 $.\n",
    "We iterate over all initial conditions on the faces of the cube and calculate the gradient of the flow map. From the maximum singular value of the gradient of the flow map we then compute the $ \\mathrm{FTLE} $."
   ]
  },
  {
   "cell_type": "code",
   "execution_count": null,
   "id": "3b0a38d0",
   "metadata": {
    "ExecuteTime": {
     "end_time": "2022-02-17T17:47:20.538882Z",
     "start_time": "2022-02-17T17:47:20.209373Z"
    },
    "code_folding": [
     23
    ],
    "run_control": {
     "marked": false
    }
   },
   "outputs": [],
   "source": [
    "# Import function to compute gradient of flow map\n",
    "from ipynb.fs.defs.gradient_flowmap import gradient_flowmap\n",
    "\n",
    "# Import function to compute finite time Lyapunov exponent (FTLE)\n",
    "from ipynb.fs.defs.FTLE import _FTLE\n",
    "\n",
    "# Import package for parallel computing\n",
    "from joblib import Parallel, delayed\n",
    "\n",
    "def compute_FTLE(x0, y0, z0):\n",
    "    \n",
    "    X0 = np.array([x0, y0, z0]) # array (3, Nx*Ny*Nz)\n",
    "    \n",
    "    DF = gradient_flowmap(time, X0, X, Y, Z, Interpolant_u, Interpolant_v, Interpolant_w, periodic, bool_unsteady, aux_grid) # array (Nt, 3, 3, Nx*Ny*Nz)\n",
    "    \n",
    "    FTLE = []\n",
    "    \n",
    "    for i in range(DF.shape[3]):\n",
    "        FTLE.append(_FTLE(DF[-1,:,:,i], lenT))\n",
    "    \n",
    "    return FTLE\n",
    "\n",
    "# Split x0,y0,z0 into 'Ncores' equal batches for parallel computing\n",
    "def split(a, n):\n",
    "    k, m = divmod(len(a), n)\n",
    "    return (a[i*k+min(i, m):(i+1)*k+min(i+1, m)] for i in range(n))"
   ]
  },
  {
   "cell_type": "markdown",
   "id": "7e0557ff",
   "metadata": {},
   "source": [
    "## XY-plane\n",
    "\n",
    "Compute $ \\mathrm{FTLE} $ over the 2D meshgrid on the XY-plane."
   ]
  },
  {
   "cell_type": "code",
   "execution_count": null,
   "id": "83103402",
   "metadata": {
    "ExecuteTime": {
     "end_time": "2022-02-17T17:48:15.734366Z",
     "start_time": "2022-02-17T17:47:20.540312Z"
    },
    "code_folding": [
     0,
     12
    ]
   },
   "outputs": [],
   "source": [
    "# Vectorize initial conditions by arranging them to a vector of size (Nx*Ny*Nz, )\n",
    "x0_xy = X_domain[:,:,-1].ravel() # array (Nx*Ny, )\n",
    "y0_xy = Y_domain[:,:,-1].ravel() # array (Nx*Ny, )\n",
    "z0_xy = Z_domain[:,:,-1].ravel() # array (Nx*Ny, )\n",
    "\n",
    "x0_batch = list(split(x0_xy, Ncores)) # list (Nx*Ny)\n",
    "y0_batch = list(split(y0_xy, Ncores)) # list (Nx*Ny)\n",
    "z0_batch = list(split(z0_xy, Ncores)) # list (Nx*Ny)\n",
    "results = Parallel(n_jobs=Ncores, verbose = 2)(delayed(compute_FTLE)(x0_batch[i], y0_batch[i], z0_batch[i]) for i in range(len(x0_batch)))\n",
    "\n",
    "# Extract results of FTLE computation on xy-plane\n",
    "FTLE_xy = results[0]\n",
    "for res in results[1:]:\n",
    "    FTLE_xy = np.append(FTLE_xy, res)\n",
    "\n",
    "# reshape vectorized arrays to structured array\n",
    "X0_xy = np.array(x0_xy).reshape(Ny,Nx) # array (Ny, Nx)\n",
    "Y0_xy = np.array(y0_xy).reshape(Ny,Nx) # array (Ny, Nx)\n",
    "Z0_xy = np.array(z0_xy).reshape(Ny,Nx) # array (Ny, Nx)\n",
    "FTLE_xy = np.array(FTLE_xy).reshape(Ny,Nx) # array (Ny, Nx)"
   ]
  },
  {
   "cell_type": "markdown",
   "id": "e7f51b04",
   "metadata": {},
   "source": [
    "## XZ-plane\n",
    "\n",
    "Compute $ \\mathrm{FTLE} $ over the 2D meshgrid on the XZ-plane."
   ]
  },
  {
   "cell_type": "code",
   "execution_count": null,
   "id": "5e3ff8da",
   "metadata": {
    "ExecuteTime": {
     "end_time": "2022-02-17T17:49:44.465945Z",
     "start_time": "2022-02-17T17:48:15.736165Z"
    },
    "code_folding": [
     0,
     12
    ]
   },
   "outputs": [],
   "source": [
    "# Vectorize initial conditions by arranging them to a vector of size (Nx*Ny*Nz, )\n",
    "x0_xz = X_domain[0,:,:].ravel() # array (Nx*Nz, )\n",
    "y0_xz = Y_domain[0,:,:].ravel() # array (Nx*Nz, )\n",
    "z0_xz = Z_domain[0,:,:].ravel() # array (Nx*Nz, )\n",
    "\n",
    "x0_batch = list(split(x0_xz, Ncores)) # list (Nx*Nz)\n",
    "y0_batch = list(split(y0_xz, Ncores)) # list (Nx*Nz)\n",
    "z0_batch = list(split(z0_xz, Ncores)) # list (Nx*Nz)\n",
    "results = Parallel(n_jobs=Ncores, verbose = 2)(delayed(compute_FTLE)(x0_batch[i], y0_batch[i], z0_batch[i]) for i in range(len(x0_batch)))\n",
    "\n",
    "# Extract results of FTLE computation on xz-plane\n",
    "FTLE_xz = results[0]\n",
    "for res in results[1:]:\n",
    "    FTLE_xz = np.append(FTLE_xz, res)\n",
    "    \n",
    "# reshape vectorized arrays to structured array\n",
    "X0_xz = np.array(x0_xz).reshape(Nz,Nx) # array (Nz, Nx)\n",
    "Y0_xz = np.array(y0_xz).reshape(Nz,Nx) # array (Nz, Nx)\n",
    "Z0_xz = np.array(z0_xz).reshape(Nz,Nx) # array (Nz, Nx)\n",
    "FTLE_xz = np.array(FTLE_xz).reshape(Nz,Nx) # array (Nz, Nx)"
   ]
  },
  {
   "cell_type": "markdown",
   "id": "3264ff3b",
   "metadata": {},
   "source": [
    "## YZ-plane\n",
    "\n",
    "Compute $ \\mathrm{FTLE} $ over the 2D meshgrid on the YZ-plane."
   ]
  },
  {
   "cell_type": "code",
   "execution_count": null,
   "id": "34ceaaf3",
   "metadata": {
    "ExecuteTime": {
     "end_time": "2022-02-17T17:50:38.771983Z",
     "start_time": "2022-02-17T17:49:44.473402Z"
    },
    "code_folding": [
     0,
     12
    ]
   },
   "outputs": [],
   "source": [
    "# Vectorize initial conditions by arranging them to a vector of size (Nx*Ny*Nz, )\n",
    "x0_yz = X_domain[:,0,:].ravel() # array (Nx*Ny*Nz, )\n",
    "y0_yz = Y_domain[:,0,:].ravel() # array (Nx*Ny*Nz, )\n",
    "z0_yz = Z_domain[:,0,:].ravel() # array (Nx*Ny*Nz, )\n",
    "\n",
    "x0_batch = list(split(x0_yz, Ncores)) # list (Nx*Ny*Nz)\n",
    "y0_batch = list(split(y0_yz, Ncores)) # list (Nx*Ny*Nz)\n",
    "z0_batch = list(split(z0_yz, Ncores)) # list (Nx*Ny*Nz)\n",
    "results = Parallel(n_jobs=Ncores, verbose = 2)(delayed(compute_FTLE)(x0_batch[i], y0_batch[i], z0_batch[i]) for i in range(len(x0_batch)))\n",
    "\n",
    "# Extract results of FTLE computation on yz-plane\n",
    "FTLE_yz = results[0]\n",
    "for res in results[1:]:\n",
    "    FTLE_yz = np.append(FTLE_yz, res)\n",
    "\n",
    "# reshape vectorized arrays to structured array\n",
    "X0_yz = np.array(x0_yz).reshape(Nz,Ny) # array (Nz, Ny)\n",
    "Y0_yz = np.array(y0_yz).reshape(Nz,Ny) # array (Nz, Ny)\n",
    "Z0_yz = np.array(z0_yz).reshape(Nz,Ny) # array (Nz, Ny)\n",
    "FTLE_yz = np.array(FTLE_yz).reshape(Nz,Ny) # array (Nz, Ny)"
   ]
  },
  {
   "cell_type": "code",
   "execution_count": null,
   "id": "c9244f55",
   "metadata": {
    "ExecuteTime": {
     "end_time": "2022-02-17T17:50:41.482943Z",
     "start_time": "2022-02-17T17:50:38.773758Z"
    },
    "code_folding": [
     0
    ]
   },
   "outputs": [],
   "source": [
    "# Import plotly for 3D figures\n",
    "from plotly import graph_objs as go\n",
    "\n",
    "# define minimum and maximum values for colorbar\n",
    "min_value = min(np.min(FTLE_yz),min(np.min(FTLE_xy), np.min(FTLE_xz)))\n",
    "max_value = max(np.max(FTLE_yz),max(np.max(FTLE_xy), np.max(FTLE_xz)))\n",
    "\n",
    "# create figure\n",
    "fig = go.Figure(data=[go.Surface(x = X0_xy, y = Y0_xy, z = Z0_xy, surfacecolor = FTLE_xy, showscale = True, colorscale='rainbow', cmin=min_value, cmax=max_value)])\n",
    "fig.add_trace(go.Surface(x = X0_xz, y = Y0_xz, z = Z0_xz, surfacecolor = FTLE_xz, showscale = False, colorscale='rainbow', cmin=min_value, cmax=max_value))\n",
    "fig.add_trace(go.Surface(x = X0_yz, y = Y0_yz, z = Z0_yz, surfacecolor = FTLE_yz, showscale = False, colorscale='rainbow', cmin=min_value, cmax=max_value))\n",
    "fig.add_trace(go.Surface(x = X0_xy, y = Y0_xy, z = Z0_xy-2*np.pi, surfacecolor = FTLE_xy, showscale = False, colorscale='rainbow', cmin=min_value, cmax=max_value))\n",
    "fig.add_trace(go.Surface(x = X0_xz, y = Y0_xz+2*np.pi, z = Z0_xz, surfacecolor = FTLE_xz, showscale = False, colorscale='rainbow', cmin=min_value, cmax=max_value))\n",
    "fig.add_trace(go.Surface(x = X0_yz+2*np.pi, y = Y0_yz, z = Z0_yz, surfacecolor = FTLE_yz, showscale = False, colorscale='rainbow', cmin=min_value, cmax=max_value))\n",
    "\n",
    "# camera\n",
    "camera = dict(eye=dict(x=-1.45,y=-1.45,z=1.7))\n",
    "fig.update_layout(scene_camera=camera)\n",
    "\n",
    "fig.show()"
   ]
  },
  {
   "cell_type": "markdown",
   "id": "562e0a7b",
   "metadata": {},
   "source": [
    "Ridges of the forward $ \\mathrm{FTLE} $-field indicate repelling coherent structures. The spiraling structures in the $ \\mathrm{FTLE} $-field indicate the presence of elliptic coherent structures."
   ]
  },
  {
   "cell_type": "markdown",
   "id": "08c0c62b",
   "metadata": {},
   "source": [
    "# References\n",
    "\n",
    "[1] Haller, G. (2001). Distinguished material surfaces and coherent structures in three-dimensional fluid flows. Physica D: Nonlinear Phenomena, 149(4), 248-277.\n",
    "\n",
    "[2] Notebook 5.2.4. in \"Transport Barriers and Coherent Structures in Flow Data\" by Prof. George Haller."
   ]
  }
 ],
 "metadata": {
  "kernelspec": {
   "display_name": "Python 3",
   "language": "python",
   "name": "python3"
  },
  "language_info": {
   "codemirror_mode": {
    "name": "ipython",
    "version": 3
   },
   "file_extension": ".py",
   "mimetype": "text/x-python",
   "name": "python",
   "nbconvert_exporter": "python",
   "pygments_lexer": "ipython3",
   "version": "3.7.12"
  },
  "latex_envs": {
   "LaTeX_envs_menu_present": true,
   "autoclose": false,
   "autocomplete": true,
   "bibliofile": "biblio.bib",
   "cite_by": "apalike",
   "current_citInitial": 1,
   "eqLabelWithNumbers": true,
   "eqNumInitial": 1,
   "hotkeys": {
    "equation": "Ctrl-E",
    "itemize": "Ctrl-I"
   },
   "labels_anchors": false,
   "latex_user_defs": false,
   "report_style_numbering": false,
   "user_envs_cfg": false
  },
  "toc": {
   "base_numbering": "0",
   "nav_menu": {},
   "number_sections": true,
   "sideBar": true,
   "skip_h1_title": false,
   "title_cell": "Table of Contents",
   "title_sidebar": "Contents",
   "toc_cell": false,
   "toc_position": {},
   "toc_section_display": true,
   "toc_window_display": true
  }
 },
 "nbformat": 4,
 "nbformat_minor": 5
}
