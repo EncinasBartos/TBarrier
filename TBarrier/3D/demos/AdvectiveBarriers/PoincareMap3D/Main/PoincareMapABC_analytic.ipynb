{
 "cells": [
  {
   "cell_type": "code",
   "execution_count": 1,
   "metadata": {
    "ExecuteTime": {
     "end_time": "2022-02-13T18:43:08.812068Z",
     "start_time": "2022-02-13T18:43:08.809879Z"
    }
   },
   "outputs": [],
   "source": [
    "# add folders to current working path"
   ]
  },
  {
   "cell_type": "code",
   "execution_count": 2,
   "metadata": {
    "ExecuteTime": {
     "end_time": "2022-02-13T18:43:08.816780Z",
     "start_time": "2022-02-13T18:43:08.813527Z"
    }
   },
   "outputs": [],
   "source": [
    "%%time\n",
    "import sys, os\n",
    "\n",
    "# get current directory\n",
    "path = os.getcwd()\n",
    "\n",
    "# get parent directory\n",
    "parent_directory = os.path.sep.join(path.split(os.path.sep)[:-4])\n",
    "\n",
    "# add utils folder to current working path\n",
    "sys.path.append(parent_directory+\"/subfunctions/utils\")\n",
    "\n",
    "# add integration folder to current working path\n",
    "sys.path.append(parent_directory+\"/subfunctions/integration\")"
   ]
  },
  {
   "cell_type": "markdown",
   "metadata": {},
   "source": [
    "# Overview\n",
    "\n",
    "In the following notebook we compute the Poincaré Map of the three-dimensional, steady ABC-flow. The notebook is structured as follows:\n",
    "1. Define analytic velocity field of the three-dimensional solution of the Euler equations, the steady and spatially periodic Arnold-Beltrami-Childress (ABC) flow:\n",
    "\\begin{equation}\n",
    "\\begin{pmatrix} \\dot{x}(t) \\\\ \\dot{y}(t) \\\\ \\dot{z}(t) \\end{pmatrix} = \\begin{pmatrix} \\sqrt{3}\\sin(z)+\\cos(y) \\\\ \\sqrt{2}\\sin(x) + \\sqrt{3}\\cos(z) \\\\ \\sin(y)+\\sqrt{2}\\cos(x) \\end{pmatrix}, \\quad (x,y,z) \\in [0, 2\\pi]^3\n",
    "\\label{eq: periodicABC}\n",
    "\\end{equation}\n",
    "\n",
    "2. Define computational parameters.\n",
    " <br />\n",
    "3. Define spatio-temporal domain.\n",
    " <br />\n",
    "5. Poincaré Map:\n",
    "\n",
    "* Compute trajectories of \\ref{eq: periodicABC} launched from $ 10 \\times 10 $ equally spaced initial positions on the grid defined by the plane z=0. The time-interval of integration is given by $ [0, 2*10^4] $.\n",
    "<br />\n",
    "* Retaining only the long term behaviour of the trajectories given by the time-interval $ [10^4, 2*10^4] $, we sample the trajectories at points which intersect the Poincaré section $ z = 0 $."
   ]
  },
  {
   "cell_type": "markdown",
   "metadata": {},
   "source": [
    "# Analytic velocity field\n",
    "\n",
    "Here we define the spatially periodic and steady three dimensional ABC-velocity field."
   ]
  },
  {
   "cell_type": "code",
   "execution_count": 3,
   "metadata": {
    "ExecuteTime": {
     "end_time": "2022-02-13T18:43:08.858270Z",
     "start_time": "2022-02-13T18:43:08.855313Z"
    }
   },
   "outputs": [],
   "source": [
    "def velocity(x, y, z):\n",
    "\n",
    "    u = sqrt(3)*np.sin(z)+np.cos(y)\n",
    "    v = sqrt(2)*np.sin(x)+sqrt(3)*np.cos(z)\n",
    "    w = np.sin(y)+sqrt(2)*np.cos(x)\n",
    "    \n",
    "    return np.array([u, v, w])"
   ]
  },
  {
   "cell_type": "markdown",
   "metadata": {},
   "source": [
    "# Computational parameters\n",
    "\n",
    "Here we define the computational parameters and the analytic velocity field."
   ]
  },
  {
   "cell_type": "code",
   "execution_count": 4,
   "metadata": {
    "ExecuteTime": {
     "end_time": "2022-02-13T18:43:09.097345Z",
     "start_time": "2022-02-13T18:43:08.868682Z"
    }
   },
   "outputs": [],
   "source": [
    "# import numpy\n",
    "import numpy as np\n",
    "\n",
    "# import math tools\n",
    "from math import sqrt, pi\n",
    "\n",
    "# number of cores to be used for parallel computing\n",
    "Ncores = 6\n",
    "\n",
    "# periodic boundary conditions\n",
    "periodic_x = True\n",
    "periodic_y = True\n",
    "periodic_z = True\n",
    "periodic = [periodic_x, periodic_y, periodic_z]"
   ]
  },
  {
   "cell_type": "markdown",
   "metadata": {},
   "source": [
    "# Spatio-temporal domain\n",
    "\n",
    "Here we define the spatio-temporal domain over which to consider the dynamical system."
   ]
  },
  {
   "cell_type": "code",
   "execution_count": 5,
   "metadata": {
    "ExecuteTime": {
     "end_time": "2022-02-13T18:43:09.103638Z",
     "start_time": "2022-02-13T18:43:09.099081Z"
    }
   },
   "outputs": [
    {
     "name": "stdout",
     "output_type": "stream",
     "text": [
      "CPU times: user 515 µs, sys: 294 µs, total: 809 µs\n",
      "Wall time: 508 µs\n"
     ]
    }
   ],
   "source": [
    "%%time\n",
    "# Initial time (in days)\n",
    "t0 = 0 # float\n",
    "\n",
    "# Final time (in days)\n",
    "tN = 2*10**2 # float\n",
    "\n",
    "# Time step-size (in days)\n",
    "dt = 0.05 # float\n",
    "\n",
    "# NOTE: For computing the backward trajectories: tN < t0 and dt < 0.\n",
    "\n",
    "time = np.arange(t0, tN+dt, dt) # shape (Nt,)\n",
    "\n",
    "# Length of time interval (in days)\n",
    "lenT = abs(tN-t0) # float\n",
    "\n",
    "# boundaries\n",
    "xmin = 0 # float\n",
    "xmax = 2*np.pi # float\n",
    "ymin = 0 # float\n",
    "ymax = 2*np.pi # float\n",
    "zmin = 0 # float\n",
    "zmax = 2*np.pi # float\n",
    "\n",
    "# Resolution of meshgrid\n",
    "Ny = 20 # int\n",
    "Nx = 20 # int\n",
    "Nz = 20 # int\n",
    "\n",
    "x_domain = np.linspace(xmin, xmax, Nx, endpoint = True) # array (Nx, )\n",
    "y_domain = np.linspace(ymin, ymax, Ny, endpoint = True) # array (Ny, )\n",
    "z_domain = np.linspace(zmin, zmax, Nz, endpoint = True) # array (Nz, )\n",
    "\n",
    "dx = x_domain[1]-x_domain[0]\n",
    "dy = y_domain[1]-y_domain[0]\n",
    "dz = z_domain[1]-z_domain[0]\n",
    "\n",
    "X_domain, Y_domain, Z_domain = np.meshgrid(x_domain, y_domain, z_domain) # array (Ny, Nx, Nz)\n",
    "\n",
    "Ny = X_domain.shape[0] # int\n",
    "Nx = X_domain.shape[1] # int\n",
    "Nz = X_domain.shape[2] # int"
   ]
  },
  {
   "cell_type": "markdown",
   "metadata": {
    "hide_input": true
   },
   "source": [
    "# Poincare map\n",
    "\n",
    "Using the plane $ z=0 $ as a Poincare section, and placing in it a square grid of $ 20 \\times 20 $ initial positions, we integrate trajectories from time $ [0, 2*10^{4}] $.\n",
    "Retaining only their long term behaviour from $ [10^{4}, 2*10^{4}] $, we obtain a large number of iterations of the\n",
    "Poincare map. "
   ]
  },
  {
   "cell_type": "markdown",
   "metadata": {},
   "source": [
    "## Integrate trajectories"
   ]
  },
  {
   "cell_type": "code",
   "execution_count": 6,
   "metadata": {
    "ExecuteTime": {
     "end_time": "2022-02-13T18:43:09.131938Z",
     "start_time": "2022-02-13T18:43:09.105646Z"
    },
    "code_folding": [
     3,
     21,
     29
    ]
   },
   "outputs": [],
   "source": [
    "# Import package for parallel computing\n",
    "from joblib import Parallel, delayed\n",
    "\n",
    "def integration_dFdt(time, x, periodic):\n",
    "    \n",
    "    # reshape x\n",
    "    x = x.reshape(3, -1)\n",
    "    \n",
    "    # Initialize arrays for flow map and derivative of flow map\n",
    "    Fmap = np.zeros((len(time), 3, x.shape[1]))\n",
    "    dFdt = np.zeros((len(time)-1, 3, x.shape[1]))\n",
    "    \n",
    "    # Step-size\n",
    "    dt = time[1]-time[0]\n",
    "    \n",
    "    counter = 0\n",
    "\n",
    "    # initial conditions\n",
    "    Fmap[counter,:,:] = x\n",
    "    \n",
    "    # Runge Kutta 4th order integration with fixed step size dt\n",
    "    for t in time[:-1]:\n",
    "        \n",
    "        Fmap[counter+1,:, :], dFdt[counter,:,:] = RK4_step(t, Fmap[counter,:, :], dt)\n",
    "    \n",
    "        counter += 1\n",
    "    \n",
    "    return Fmap, dFdt\n",
    "\n",
    "def RK4_step(t, x1, dt):\n",
    "    \n",
    "    t0 = t\n",
    "    \n",
    "    # Compute x_prime at the beginning of the time-step by re-orienting and rescaling the vector field\n",
    "    x_prime = velocity(x1[0,:], x1[1,:], x1[2,:])\n",
    "    \n",
    "    # compute derivative\n",
    "    k1 = dt * x_prime\n",
    "    \n",
    "    # Update position at the first midpoint.\n",
    "    x2 = x1 + .5 * k1\n",
    "     \n",
    "    # Update time\n",
    "    t = t0 + .5*dt\n",
    "    \n",
    "    # Compute x_prime at the first midpoint.\n",
    "    x_prime = velocity(x2[0,:], x2[1,:], x2[2,:])\n",
    "    \n",
    "    # compute derivative\n",
    "    k2 = dt * x_prime\n",
    "\n",
    "    # Update position at the second midpoint.\n",
    "    x3 = x1 + .5 * k2\n",
    "    \n",
    "    # Update time\n",
    "    t = t0 + .5*dt\n",
    "    \n",
    "    # Compute x_prime at the second midpoint.\n",
    "    x_prime = velocity(x3[0,:], x3[1,:], x3[2,:])\n",
    "    \n",
    "    # compute derivative\n",
    "    k3 = dt * x_prime\n",
    "    \n",
    "    # Update position at the endpoint.\n",
    "    x4 = x1 + k3\n",
    "    \n",
    "    # Update time\n",
    "    t = t0+dt\n",
    "    \n",
    "    # Compute derivative at the end of the time-step.\n",
    "    x_prime = velocity(x4[0,:], x4[1,:], x4[2,:]) \n",
    "    \n",
    "    # compute derivative\n",
    "    k4 = dt * x_prime\n",
    "    \n",
    "    # Compute RK4 derivative\n",
    "    y_prime_update = 1.0 / 6.0*(k1 + 2 * k2 + 2 * k3 + k4)\n",
    "    \n",
    "    # Integration y <-- y + y_primeupdate\n",
    "    y_update = x1 + y_prime_update\n",
    "    \n",
    "    return y_update, y_prime_update/dt"
   ]
  },
  {
   "cell_type": "code",
   "execution_count": 7,
   "metadata": {
    "ExecuteTime": {
     "end_time": "2022-02-13T18:43:10.039503Z",
     "start_time": "2022-02-13T18:43:09.133468Z"
    }
   },
   "outputs": [],
   "source": [
    "# Vectorize initial conditions by arranging them to a vector of size (Nx*Ny*Nz, )\n",
    "x0 = X_domain[:,0,:].ravel() # array (Nx*Ny*Nz,)\n",
    "y0 = Y_domain[:,0,:].ravel() # array (Nx*Ny*Nz,)\n",
    "z0 = Z_domain[:,0,:].ravel() # array (Nx*Ny*Nz,)\n",
    "\n",
    "# Initial conditions\n",
    "X0 = np.array([x0, y0, z0]) # array (3, Nx*Ny*Nz)\n",
    "\n",
    "Fmap = integration_dFdt(time, X0, periodic)[0]"
   ]
  },
  {
   "cell_type": "markdown",
   "metadata": {},
   "source": [
    "## Compute Poincaré Map\n",
    "Poincare map obtained from trajectories of equation \\ref{eq: periodicABC} over $ [10^4, 2*10^4]$ intersecting the plane $ z = 0 $ indicate invariant manifolds of the ABC flow."
   ]
  },
  {
   "cell_type": "code",
   "execution_count": 8,
   "metadata": {
    "ExecuteTime": {
     "end_time": "2022-02-13T18:50:02.080078Z",
     "start_time": "2022-02-13T18:43:10.041328Z"
    },
    "code_folding": [],
    "scrolled": false
   },
   "outputs": [
    {
     "name": "stderr",
     "output_type": "stream",
     "text": [
      "[Parallel(n_jobs=6)]: Using backend LokyBackend with 6 concurrent workers.\n",
      "[Parallel(n_jobs=6)]: Done  29 tasks      | elapsed:   25.0s\n",
      "[Parallel(n_jobs=6)]: Done 150 tasks      | elapsed:  2.5min\n",
      "[Parallel(n_jobs=6)]: Done 353 tasks      | elapsed:  5.9min\n",
      "[Parallel(n_jobs=6)]: Done 400 out of 400 | elapsed:  6.7min finished\n"
     ]
    }
   ],
   "source": [
    "# Import package for parallel computing\n",
    "from joblib import delayed, Parallel\n",
    "\n",
    "# Import 1D cubic spline interpolant\n",
    "from scipy.interpolate import CubicSpline\n",
    "\n",
    "# Import 1D linear interpolant\n",
    "from scipy.interpolate import interp1d\n",
    "\n",
    "t0_poincare = 10**4\n",
    "tN_poincare = 2*10**4\n",
    "\n",
    "def parallel_PoincareMap(time, Fmap, t0, tN, idx_poincare):\n",
    "    \n",
    "    # CubicSpline Interpolation for x,y and z component of the trajectories\n",
    "    cs_x = CubicSpline(time, Fmap[:,0])\n",
    "    cs_y = CubicSpline(time, Fmap[:,1])\n",
    "    cs_z = CubicSpline(time, Fmap[:,2])\n",
    "    \n",
    "    # time-interval (long-term behaviour of trajectories)\n",
    "    time_poincare = np.arange(t0, tN, dt)\n",
    "    \n",
    "    # evaluate long-term behaviour of x,y and z component\n",
    "    x_interp = cs_x(time_poincare)\n",
    "    y_interp = cs_y(time_poincare)\n",
    "    z_interp = cs_z(time_poincare)\n",
    "    \n",
    "    x_intersec, y_intersec, z_intersec = [], [], []\n",
    "    \n",
    "    # poincare section: \"x=constant\"\n",
    "    if idx_poincare == \"x\":\n",
    "        \n",
    "        coord_interp = x_interp\n",
    "    \n",
    "    # poincare section: \"y=constant\"\n",
    "    elif idx_poincare == \"y\":\n",
    "        \n",
    "        coord_interp = y_interp\n",
    "    \n",
    "    # poincare section: \"z=constant\"\n",
    "    elif idx_poincare == \"z\":\n",
    "        \n",
    "        coord_interp = z_interp \n",
    "    \n",
    "    # iterate along long-term trajectories \n",
    "    for i in range(len(coord_interp)-1):\n",
    "        \n",
    "        # if intersection then compute intersection point.\n",
    "        if np.abs(coord_interp[i]%(2*pi)-coord_interp[i+1]%(2*pi)) > pi:\n",
    "            \n",
    "            coord_interp_shifted = coord_interp[i:i+2]-np.around((coord_interp[i]/(2*pi)), 0)*2*pi\n",
    "            \n",
    "            root = -coord_interp_shifted[0]*dt/(coord_interp_shifted[1]-coord_interp_shifted[0])+time_poincare[i]\n",
    "            x_intersec.append(cs_x(root)%(2*pi))\n",
    "            y_intersec.append(cs_y(root)%(2*pi))\n",
    "            z_intersec.append(cs_z(root)%(2*pi))\n",
    "    \n",
    "    return x_intersec, y_intersec, z_intersec\n",
    "\n",
    "results = Parallel(n_jobs=Ncores, verbose = 2)(delayed(parallel_PoincareMap)(time, Fmap[:,:,i], t0=t0_poincare, tN=tN_poincare, idx_poincare = \"z\") for i in range(Fmap.shape[2]))\n",
    "\n",
    "x_intersec, y_intersec, z_intersec = [], [], []\n",
    "\n",
    "for res in results:\n",
    "    for i in range(len(res[0])):\n",
    "        x_intersec.append(res[0][i])\n",
    "        y_intersec.append(res[1][i])\n",
    "        z_intersec.append(res[2][i])"
   ]
  },
  {
   "cell_type": "code",
   "execution_count": 9,
   "metadata": {
    "ExecuteTime": {
     "end_time": "2022-02-13T18:52:52.873856Z",
     "start_time": "2022-02-13T18:50:02.082234Z"
    },
    "scrolled": false
   },
   "outputs": [
    {
     "data": {
      "image/png": "[encoded data removed]",
      "text/plain": [
       "<Figure size 2000x2000 with 1 Axes>"
      ]
     },
     "metadata": {
      "needs_background": "light"
     },
     "output_type": "display_data"
    }
   ],
   "source": [
    "############################################ PLOT RESULTS ############################################\n",
    "\n",
    "# Import plotting libraries\n",
    "import matplotlib.pyplot as plt\n",
    "\n",
    "# Figure/Axes\n",
    "fig = plt.figure(figsize=(10, 10), dpi = 200)\n",
    "ax = plt.axes()\n",
    "\n",
    "# Poincare Map\n",
    "ax.scatter(x_intersec, y_intersec, c = \"b\", s = 0.01)\n",
    "\n",
    "# Axis Labels\n",
    "ax.set_xlabel(\"x\", fontsize = 10)\n",
    "ax.set_ylabel(\"y\", fontsize = 10)\n",
    "\n",
    "# Axis limits\n",
    "ax.set_xlim([0, 2*pi])\n",
    "ax.set_ylim([0, 2*pi])\n",
    "\n",
    "# Title\n",
    "ax.set_title(r'Classical Poincaré Map with Poincaré section z=0', fontsize = 10)\n",
    "\n",
    "ax.set_aspect('equal')\n",
    "\n",
    "plt.show()"
   ]
  },
  {
   "cell_type": "markdown",
   "metadata": {},
   "source": [
    "The plot reveals vortical regions surrounded by a chaotic sea. Each of the vortical regions contains a family of invariant tori that act as transport barriers."
   ]
  },
  {
   "cell_type": "markdown",
   "metadata": {
    "ExecuteTime": {
     "end_time": "2022-02-09T12:00:10.942509Z",
     "start_time": "2022-02-09T12:00:10.924557Z"
    }
   },
   "source": [
    "# References\n",
    "\n",
    "[1] Oettinger, D., & Haller, G. (2016). An autonomous dynamical system captures all LCSs in three-dimensional unsteady flows. Chaos: An Interdisciplinary Journal of Nonlinear Science, 26(10), 103111."
   ]
  },
  {
   "cell_type": "code",
   "execution_count": null,
   "metadata": {},
   "outputs": [],
   "source": []
  }
 ],
 "metadata": {
  "kernelspec": {
   "display_name": "Python 3",
   "language": "python",
   "name": "python3"
  },
  "language_info": {
   "codemirror_mode": {
    "name": "ipython",
    "version": 3
   },
   "file_extension": ".py",
   "mimetype": "text/x-python",
   "name": "python",
   "nbconvert_exporter": "python",
   "pygments_lexer": "ipython3",
   "version": "3.7.11"
  },
  "toc": {
   "base_numbering": 1,
   "nav_menu": {},
   "number_sections": true,
   "sideBar": true,
   "skip_h1_title": false,
   "title_cell": "Table of Contents",
   "title_sidebar": "Contents",
   "toc_cell": false,
   "toc_position": {},
   "toc_section_display": true,
   "toc_window_display": false
  }
 },
 "nbformat": 4,
 "nbformat_minor": 5
}
