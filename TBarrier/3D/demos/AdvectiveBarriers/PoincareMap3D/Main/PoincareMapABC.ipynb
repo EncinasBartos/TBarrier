{
 "cells": [
  {
   "cell_type": "code",
   "execution_count": null,
   "id": "2d5c22a2",
   "metadata": {
    "ExecuteTime": {
     "end_time": "2022-02-13T18:43:23.225586Z",
     "start_time": "2022-02-13T18:43:23.222274Z"
    },
    "code_folding": [
     0
    ]
   },
   "outputs": [],
   "source": [
    "# import sys/os\n",
    "import sys, os\n",
    "\n",
    "# get current directory\n",
    "path = os.getcwd()\n",
    "\n",
    "# get parent directory\n",
    "parent_directory = os.path.sep.join(path.split(os.path.sep)[:-4])\n",
    "\n",
    "# add utils folder to current working path\n",
    "sys.path.append(parent_directory+\"/subfunctions/utils\")\n",
    "\n",
    "# add integration folder to current working path\n",
    "sys.path.append(parent_directory+\"/subfunctions/integration\")"
   ]
  },
  {
   "cell_type": "markdown",
   "id": "594b3b88",
   "metadata": {},
   "source": [
    "# Overview\n",
    "\n",
    "In the following notebook we compute the Poincaré Map of the three-dimensional, steady ABC-flow. The notebook is structured as follows:\n",
    "\n",
    "1. Import data from the file 'ABCsteady.mat' stored in the folder 'data/ABC'.\n",
    "<br />\n",
    "2. Define computational parameters and data.\n",
    "<br />\n",
    "3. Define spatio-temporal domain.\n",
    "<br />\n",
    "4. Interpolate velocity from (discrete) gridded data.\n",
    "<br />\n",
    "5. Poincaré Map:\n",
    "* Compute trajectories launched from $ 10 \\times 10 $ equally spaced initial positions on the grid defined by the plane z=0. The time-interval of integration is $ [0, 2*10^4] $.\n",
    "<br />\n",
    "* Retaining only the long term behaviour of the trajectories over the time-interval $ [10^4, 2*10^4] $, we sample the trajectories at points which intersect the Poincaré section $ z = 0 $.\n",
    "<br />\n",
    "6. References"
   ]
  },
  {
   "cell_type": "markdown",
   "id": "6d885f33",
   "metadata": {},
   "source": [
    "# Import data\n",
    "\n",
    "We start by importing the ABC-data from 'ABCsteady.mat' located in the folder 'data/ABC'."
   ]
  },
  {
   "cell_type": "code",
   "execution_count": null,
   "id": "2e0dacc6",
   "metadata": {
    "ExecuteTime": {
     "end_time": "2022-02-13T18:43:23.512508Z",
     "start_time": "2022-02-13T18:43:23.250093Z"
    },
    "code_folding": [
     0
    ]
   },
   "outputs": [],
   "source": [
    "# import scipy\n",
    "import scipy.io as sio\n",
    "\n",
    "# Import velocity data from file in data-folder\n",
    "mat_file = sio.loadmat('../../../../data/ABC/ABCsteady.mat')\n",
    "\n",
    "U = mat_file['u'] # array (NY, NX, NZ)\n",
    "V = mat_file['v'] # array (NY, NX, NZ)\n",
    "W = mat_file['w'] # array (NY, NX, NZ)\n",
    "x = mat_file['x'] # array (1, NX)\n",
    "y = mat_file['y'] # array (1, NY)\n",
    "z = mat_file['z'] # array (1, NZ))"
   ]
  },
  {
   "cell_type": "markdown",
   "id": "12cdff6f",
   "metadata": {},
   "source": [
    "# Computational parameters\n",
    "\n",
    "Here we define the computational parameters and the analytic velocity field."
   ]
  },
  {
   "cell_type": "code",
   "execution_count": null,
   "id": "39fe497c",
   "metadata": {
    "ExecuteTime": {
     "end_time": "2022-02-13T18:43:23.520100Z",
     "start_time": "2022-02-13T18:43:23.514513Z"
    },
    "code_folding": [
     0
    ]
   },
   "outputs": [],
   "source": [
    "# import numpy\n",
    "import numpy as np\n",
    "\n",
    "# Number of cores for parallel computing\n",
    "Ncores = 16 # int\n",
    "\n",
    "# Periodic boundary conditions\n",
    "periodic_x = True # bool\n",
    "periodic_y = True # bool\n",
    "periodic_z = True # bool\n",
    "periodic = [periodic_x, periodic_y, periodic_z]\n",
    "\n",
    "# Unsteady velocity field\n",
    "bool_unsteady = False # bool\n",
    "\n",
    "## Compute meshgrid of dataset\n",
    "X, Y, Z = np.meshgrid(x, y, z) # array (NY, NX), array (NY, NX, NZ)\n",
    "\n",
    "## Resolution of meshgrid\n",
    "dx_data = X[0,1,0]-X[0,0,0] # float\n",
    "dy_data = Y[1,0,0]-Y[0,0,0] # float\n",
    "dz_data = Y[0,0,1]-Z[0,0,0] # float\n",
    "\n",
    "delta = [dx_data, dy_data, dx_data] # list (3, )"
   ]
  },
  {
   "cell_type": "markdown",
   "id": "2c960ac0",
   "metadata": {},
   "source": [
    "# Spatio-temporal domain\n",
    "\n",
    "Here we define the spatio-temporal domain over which to consider the dynamical system."
   ]
  },
  {
   "cell_type": "code",
   "execution_count": null,
   "id": "9eaa90dd",
   "metadata": {
    "ExecuteTime": {
     "end_time": "2022-02-13T18:43:23.530845Z",
     "start_time": "2022-02-13T18:43:23.524644Z"
    },
    "code_folding": [
     0
    ],
    "run_control": {
     "marked": false
    }
   },
   "outputs": [],
   "source": [
    "# import math tools\n",
    "from math import pi\n",
    "\n",
    "# Initial time (in days)\n",
    "t0 = 0 # float\n",
    "\n",
    "# Final time (in days)\n",
    "tN = 2*10**4 # float\n",
    "\n",
    "# Time step-size (in days)\n",
    "dt = 0.05 # float\n",
    "\n",
    "# NOTE: For computing the backward trajectories: tN < t0 and dt < 0.\n",
    "\n",
    "# time array\n",
    "time = np.arange(t0, tN+dt, dt) # shape (Nt,)\n",
    "\n",
    "# Poincare section z = 0\n",
    "xmin = 0 # float\n",
    "xmax = 2*pi # float\n",
    "ymin = 0 # float\n",
    "ymax = 2*pi # float\n",
    "z = 0 # float\n",
    "\n",
    "# Resolution of meshgrid\n",
    "Ny = 10 # int\n",
    "Nx = 10 # int\n",
    "\n",
    "x_domain = np.linspace(xmin, xmax, Nx, endpoint = True) # array (Nx, )\n",
    "y_domain = np.linspace(ymin, ymax, Ny, endpoint = True) # array (Ny, )\n",
    "\n",
    "X_domain, Y_domain = np.meshgrid(x_domain, y_domain) # array (Ny, Nx)\n",
    "\n",
    "Ny = X_domain.shape[0] # int\n",
    "Nx = X_domain.shape[1] # int"
   ]
  },
  {
   "cell_type": "markdown",
   "id": "74ebbce4",
   "metadata": {},
   "source": [
    "# Velocity Interpolation\n",
    "\n",
    "In order to evaluate the velocity field at arbitrary locations, we interpolate the discrete velocity data. The interpolation with respect to time and space is always linear."
   ]
  },
  {
   "cell_type": "code",
   "execution_count": null,
   "id": "02393980",
   "metadata": {
    "ExecuteTime": {
     "end_time": "2022-02-13T18:43:23.590030Z",
     "start_time": "2022-02-13T18:43:23.532497Z"
    },
    "code_folding": [
     0
    ],
    "run_control": {
     "marked": true
    }
   },
   "outputs": [],
   "source": [
    "# Import interpolation function for unsteady flow field\n",
    "from ipynb.fs.defs.Interpolant import interpolant_steady\n",
    "\n",
    "# Set nan values to zero (in case there are any) so that we can apply interpolant. \n",
    "# Interpolant does not work if the array contains nan values. \n",
    "U[np.isnan(U)] = 0\n",
    "V[np.isnan(V)] = 0\n",
    "W[np.isnan(W)] = 0\n",
    "\n",
    "# Interpolate velocity data using cubic spatial interpolation\n",
    "Interpolant = interpolant_steady(X, Y, Z, U, V, W)\n",
    "\n",
    "Interpolant_u = Interpolant[0] # RectangularBivariateSpline-object\n",
    "Interpolant_v = Interpolant[1] # RectangularBivariateSpline-object\n",
    "Interpolant_w = Interpolant[2] # RectangularBivariateSpline-object"
   ]
  },
  {
   "cell_type": "markdown",
   "id": "10792a80",
   "metadata": {
    "hide_input": true
   },
   "source": [
    "# Poincare map\n",
    "\n",
    "Using the plane $ z=0 $ as a Poincare section, and placing in it a square grid of $ 10 \\times 10 $ initial positions (cf. Fig. 7(a)), we integrate trajectories from time $ [0, 2*10^{4}] $.\n",
    "Retaining only their long term behaviour from $ [10^{4}, 2*10^{4}] $, we obtain a large number of iterations of the\n",
    "Poincare map. "
   ]
  },
  {
   "cell_type": "markdown",
   "id": "85f30731",
   "metadata": {},
   "source": [
    "## Integrate trajectories"
   ]
  },
  {
   "cell_type": "code",
   "execution_count": null,
   "id": "b706f8bd",
   "metadata": {
    "ExecuteTime": {
     "end_time": "2022-02-13T18:43:23.619239Z",
     "start_time": "2022-02-13T18:43:23.591459Z"
    },
    "code_folding": [
     6,
     14
    ]
   },
   "outputs": [],
   "source": [
    "# Import package for parallel computing\n",
    "from joblib import Parallel, delayed\n",
    "\n",
    "# Import function to compute flow map (=trajectories) and derivative of flow map (=velocity along trajectories)\n",
    "from ipynb.fs.defs.integration_dFdt import integration_dFdt\n",
    "\n",
    "from ipynb.fs.defs.velocity import velocity\n",
    "\n",
    "def parallel_integration_dFdt(x0, y0, z0):\n",
    "    \n",
    "    X0 = np.array([x0, y0, z0]) # array (3, Nx*Ny*Nz)\n",
    "    \n",
    "    Fmap = integration_dFdt(time, X0, X, Y, Z, Interpolant_u, Interpolant_v, Interpolant_w, periodic, bool_unsteady)[0] # array (Nt, 3, Nx*Ny*Nz)\n",
    "    \n",
    "    return Fmap\n",
    "\n",
    "# Split x0,y0,z0 into 'Ncores' equal batches for parallel computing\n",
    "def split(a, n):\n",
    "    k, m = divmod(len(a), n)\n",
    "    return (a[i*k+min(i, m):(i+1)*k+min(i+1, m)] for i in range(n))    "
   ]
  },
  {
   "cell_type": "code",
   "execution_count": null,
   "id": "26e0d6fe",
   "metadata": {
    "ExecuteTime": {
     "end_time": "2022-02-13T19:10:00.160910Z",
     "start_time": "2022-02-13T18:43:23.620807Z"
    },
    "code_folding": [
     2
    ]
   },
   "outputs": [],
   "source": [
    "# Vectorize initial conditions by arranging them to a vector of size (Nx*Ny*Nz, )\n",
    "x0_xy = X_domain.ravel() # array (Nx*Ny, )\n",
    "y0_xy = Y_domain.ravel() # array (Nx*Ny, )\n",
    "z0_xy = z*np.ones(x0_xy.shape[0],) # array (Nx*Ny, )\n",
    "\n",
    "x0_batch = list(split(x0_xy, Ncores)) # list (Nx*Ny*Nz)\n",
    "y0_batch = list(split(y0_xy, Ncores)) # list (Nx*Ny*Nz)\n",
    "z0_batch = list(split(z0_xy, Ncores)) # list (Nx*Ny*Nz)\n",
    "\n",
    "results = Parallel(n_jobs=Ncores, verbose = 2)(delayed(parallel_integration_dFdt)(x0_batch[i], y0_batch[i], z0_batch[i]) for i in range(len(x0_batch)))\n",
    "\n",
    "Fmap = results[0]\n",
    "\n",
    "for res in results[1:]:\n",
    "    Fmap = np.append(Fmap, res, axis = -1)"
   ]
  },
  {
   "cell_type": "markdown",
   "id": "d2da8940",
   "metadata": {},
   "source": [
    "## Compute Poincaré Map\n",
    "Poincare map obtained from trajectories over $ [10^4, 2*10^4]$ intersecting the plane $ z = 0 $, indicating invariant manifolds of the ABC flow.\n",
    "The plot reveals 5 vortical regions surrounded by a chaotic sea. Each of the vortical regions contains a family of invariant tori that act as transport barriers."
   ]
  },
  {
   "cell_type": "code",
   "execution_count": null,
   "id": "a7a86f82",
   "metadata": {
    "ExecuteTime": {
     "end_time": "2022-02-13T19:10:15.424329Z",
     "start_time": "2022-02-13T19:10:00.163981Z"
    },
    "code_folding": [
     9,
     45
    ],
    "scrolled": false
   },
   "outputs": [],
   "source": [
    "# Import 1D cubic spline interpolant\n",
    "from scipy.interpolate import CubicSpline\n",
    "\n",
    "# Import 1D linear interpolant\n",
    "from scipy.interpolate import interp1d\n",
    "\n",
    "t0_poincare = 0.5*time[-1]\n",
    "tN_poincare = time[-1]\n",
    "\n",
    "def parallel_PoincareMap(time, Fmap, t0, tN):\n",
    "    \n",
    "    # CubicSpline Interpolation for x,y and z component of the trajectories\n",
    "    cs_x = CubicSpline(time, Fmap[:,0])\n",
    "    cs_y = CubicSpline(time, Fmap[:,1])\n",
    "    cs_z = CubicSpline(time, Fmap[:,2])\n",
    "    \n",
    "    # time-interval (long-term behaviour of trajectories)\n",
    "    time_poincare = np.arange(t0, tN, dt)\n",
    "    \n",
    "    # evaluate long-term behaviour of x,y and z component\n",
    "    x_interp = cs_x(time_poincare)\n",
    "    y_interp = cs_y(time_poincare)\n",
    "    z_interp = cs_z(time_poincare)\n",
    "    \n",
    "    x_intersec, y_intersec, z_intersec = [], [], []\n",
    "    \n",
    "    coord_interp = z_interp\n",
    "    \n",
    "    # iterate along long-term trajectories \n",
    "    for i in range(len(coord_interp)-1):\n",
    "        \n",
    "        # if intersection then compute intersection point.\n",
    "        if np.abs(coord_interp[i]%(2*pi)-coord_interp[i+1]%(2*pi)) > pi:\n",
    "            \n",
    "            coord_interp_shifted = coord_interp[i:i+2]-np.around((coord_interp[i]/(2*pi)), 0)*2*pi\n",
    "            \n",
    "            root = -coord_interp_shifted[0]*dt/(coord_interp_shifted[1]-coord_interp_shifted[0])+time_poincare[i]\n",
    "            x_intersec.append(cs_x(root)%(2*pi))\n",
    "            y_intersec.append(cs_y(root)%(2*pi))\n",
    "            z_intersec.append(cs_z(root)%(2*pi))\n",
    "    \n",
    "    return x_intersec, y_intersec, z_intersec\n",
    "\n",
    "results = Parallel(n_jobs=Ncores, verbose = 2)(delayed(parallel_PoincareMap)(time, Fmap[:,:,i], t0=t0_poincare, tN=tN_poincare) for i in range(Fmap.shape[2]))\n",
    "\n",
    "x_intersec, y_intersec, z_intersec = [], [], []\n",
    "\n",
    "for res in results:\n",
    "    for i in range(len(res[0])):\n",
    "        x_intersec.append(res[0][i])\n",
    "        y_intersec.append(res[1][i])\n",
    "        z_intersec.append(res[2][i])"
   ]
  },
  {
   "cell_type": "code",
   "execution_count": null,
   "id": "584735c9",
   "metadata": {
    "ExecuteTime": {
     "end_time": "2022-02-13T19:10:18.380757Z",
     "start_time": "2022-02-13T19:10:15.426180Z"
    },
    "code_folding": [
     0
    ],
    "run_control": {
     "marked": true
    },
    "scrolled": false
   },
   "outputs": [],
   "source": [
    "############################################ PLOT RESULTS ############################################\n",
    "\n",
    "# Import plotting libraries\n",
    "import matplotlib.pyplot as plt\n",
    "\n",
    "# Figure/Axes\n",
    "fig = plt.figure(figsize=(6, 6), dpi = 500)\n",
    "ax = plt.axes()\n",
    "\n",
    "# Poincare Map\n",
    "ax.scatter(x_intersec, y_intersec, c = \"b\", s = 0.01, marker = \"^\")\n",
    "\n",
    "# Axis Labels\n",
    "ax.set_xlabel(\"x\", fontsize = 10)\n",
    "ax.set_ylabel(\"y\", fontsize = 10)\n",
    "\n",
    "# Axis limits\n",
    "ax.set_xlim([0, 2*pi])\n",
    "ax.set_ylim([0, 2*pi])\n",
    "\n",
    "# Title\n",
    "ax.set_title(r'Poincaré Map with Poincaré section z=0', fontsize = 10)\n",
    "\n",
    "ax.set_aspect('equal')\n",
    "\n",
    "plt.show()"
   ]
  },
  {
   "cell_type": "markdown",
   "id": "d3d06b93",
   "metadata": {},
   "source": [
    "The plot reveals vortical regions surrounded by a chaotic sea. Each of the vortical regions contains a family of invariant tori that act as transport barriers."
   ]
  },
  {
   "cell_type": "markdown",
   "id": "fd0b4859",
   "metadata": {},
   "source": [
    "# References\n",
    "\n",
    "[1] Oettinger, D., & Haller, G. (2016). An autonomous dynamical system captures all LCSs in three-dimensional unsteady flows. Chaos: An Interdisciplinary Journal of Nonlinear Science, 26(10), 103111."
   ]
  }
 ],
 "metadata": {
  "kernelspec": {
   "display_name": "Python 3",
   "language": "python",
   "name": "python3"
  },
  "language_info": {
   "codemirror_mode": {
    "name": "ipython",
    "version": 3
   },
   "file_extension": ".py",
   "mimetype": "text/x-python",
   "name": "python",
   "nbconvert_exporter": "python",
   "pygments_lexer": "ipython3",
   "version": "3.7.12"
  },
  "toc": {
   "base_numbering": "0",
   "nav_menu": {},
   "number_sections": true,
   "sideBar": true,
   "skip_h1_title": false,
   "title_cell": "Table of Contents",
   "title_sidebar": "Contents",
   "toc_cell": false,
   "toc_position": {},
   "toc_section_display": true,
   "toc_window_display": true
  }
 },
 "nbformat": 4,
 "nbformat_minor": 5
}
