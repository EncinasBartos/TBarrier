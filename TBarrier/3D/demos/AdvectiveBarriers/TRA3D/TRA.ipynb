{
 "cells": [
  {
   "cell_type": "markdown",
   "metadata": {},
   "source": [
    "The Trajectory Rotation Average $ (\\mathrm{\\overline{TRA}}_{t_0}^{t_N}) $ is computed from the velocity along the particle trajectories. The time-interval $ [t_0, t_N] $ is discretized with a resolution of N.\n",
    "\n",
    "\\begin{equation}\n",
    "\\mathrm{\\overline{TRA}}_{t_0}^{t_N}(\\mathbf{x}_0) = \\dfrac{1}{t_N-t_0} \\sum_{i = 0}^{N-1} \\cos^{-1}\\dfrac{\\langle \\mathbf{\\dot{x}}(t_i), \\mathbf{\\dot{x}}(t_{i+1}) \\rangle}{|\\mathbf{\\dot{x}}(t_i)||\\mathbf{\\dot{x}}(t_{i+1})|}\n",
    "    \\end{equation}"
   ]
  },
  {
   "cell_type": "markdown",
   "metadata": {},
   "source": [
    "| Name | Type (Shape) | Description |\n",
    "| --- | --- | --- |\n",
    "| lenT | float | $ t_N-t_0 $ |\n",
    "| velocity | array (3, N) | velocity along trajectories over the <br /> discretized time-interval with resolution N|\n",
    "| TRA | float | $ \\mathrm{\\overline{TRA}}_{t_0}^{t_N} $|"
   ]
  },
  {
   "cell_type": "code",
   "execution_count": null,
   "metadata": {
    "code_folding": [
     0
    ]
   },
   "outputs": [],
   "source": [
    "# Import numpy\n",
    "import numpy as np\n",
    "\n",
    "# Import symbols from math\n",
    "from math import sqrt, acos, pi"
   ]
  },
  {
   "cell_type": "code",
   "execution_count": 1,
   "metadata": {
    "code_folding": []
   },
   "outputs": [],
   "source": [
    "def _TRA(velocity, lenT):\n",
    "    '''\n",
    "    Computes the Trajectory rotation average (TRA) along a single trajectory.\n",
    "    \n",
    "    Parameters:\n",
    "        velocity: array(3, N), discretized velocity along a trajectory\n",
    "        lenT: length of the time interval\n",
    "    \n",
    "    Returns:\n",
    "        TRA: float, trajectory rotation average\n",
    "    '''\n",
    "    TRA = []\n",
    "    \n",
    "    # Iterate over trajectory\n",
    "    for k in range(velocity.shape[1]-1):\n",
    "                \n",
    "        # velocity at time 'k'\n",
    "        velx0 = velocity[0, k]\n",
    "        vely0 = velocity[1, k]\n",
    "        velz0 = velocity[2, k]\n",
    "            \n",
    "        vel0 = sqrt(velx0**2+vely0**2+velz0**2)\n",
    "                \n",
    "        # velocity at time 'k+1'\n",
    "        velx1 = velocity[0, k+1]\n",
    "        vely1 = velocity[1, k+1]\n",
    "        velz1 = velocity[2, k+1]\n",
    "                \n",
    "        vel1 = sqrt(velx1**2+vely1**2+velz1**2)\n",
    "        \n",
    "        if vel0 != 0 and vel1 != 0:\n",
    "                \n",
    "            argcos = (velx0*velx1+vely0*vely1+velz0*velz1)/(vel0*vel1)\n",
    "        \n",
    "            if argcos > 1:\n",
    "                argcos = 1\n",
    "            elif argcos <-1:\n",
    "                argcos = -1\n",
    "        \n",
    "            TRA.append(abs(acos(argcos)))\n",
    "    \n",
    "    # Compute sum and then normalize by length of time        \n",
    "    return np.sum(TRA)/lenT"
   ]
  }
 ],
 "metadata": {
  "kernelspec": {
   "display_name": "Python 3",
   "language": "python",
   "name": "python3"
  },
  "language_info": {
   "codemirror_mode": {
    "name": "ipython",
    "version": 3
   },
   "file_extension": ".py",
   "mimetype": "text/x-python",
   "name": "python",
   "nbconvert_exporter": "python",
   "pygments_lexer": "ipython3",
   "version": "3.7.11"
  },
  "latex_envs": {
   "LaTeX_envs_menu_present": true,
   "autoclose": false,
   "autocomplete": true,
   "bibliofile": "biblio.bib",
   "cite_by": "apalike",
   "current_citInitial": 1,
   "eqLabelWithNumbers": true,
   "eqNumInitial": 1,
   "hotkeys": {
    "equation": "Ctrl-E",
    "itemize": "Ctrl-I"
   },
   "labels_anchors": false,
   "latex_user_defs": false,
   "report_style_numbering": false,
   "user_envs_cfg": false
  },
  "toc": {
   "base_numbering": 1,
   "nav_menu": {},
   "number_sections": true,
   "sideBar": true,
   "skip_h1_title": false,
   "title_cell": "Table of Contents",
   "title_sidebar": "Contents",
   "toc_cell": false,
   "toc_position": {},
   "toc_section_display": true,
   "toc_window_display": false
  }
 },
 "nbformat": 4,
 "nbformat_minor": 4
}
