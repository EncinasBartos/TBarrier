{
 "cells": [
  {
   "cell_type": "markdown",
   "metadata": {},
   "source": [
<<<<<<< HEAD
    "The Trajectory Rotation Average $ (\\mathrm{\\overline{TRA}}_{t_0}^{t_N}) $ is computed from the velocity along the particle trajectories. The time-interval $ [t_0, t_N] $ is discretized with a resolution of N.\n",
    "\n",
    "\\begin{equation}\n",
    "\\mathrm{\\overline{TRA}}_{t_0}^{t_N}(\\mathbf{x}_0) = \\dfrac{1}{t_N-t_0} \\sum_{i = 0}^{N-1} \\cos^{-1}\\dfrac{\\langle \\mathbf{\\dot{x}}(t_i), \\mathbf{\\dot{x}}(t_{i+1}) \\rangle}{|\\mathbf{\\dot{x}}(t_i)||\\mathbf{\\dot{x}}(t_{i+1})|}\n",
    "    \\end{equation}"
=======
    "The Trajectory Rotation Average $ (\\mathrm{\\overline{TRA}}_{t_0}^{t_N}(\\mathbf{x}_0)) $ is computed from the velocity along the particle trajectories. The time-interval $ [t_0, t_N] $ is discretized."
   ]
  },
  {
   "cell_type": "markdown",
   "metadata": {},
   "source": [
    "\\begin{equation}\n",
    "\\mathrm{\\overline{TRA}}_{t_0}^{t_N}(\\mathbf{x}_0) = \\dfrac{1}{t_N-t_0} \\sum_{i = 0}^{N-1} \\cos^{-1}\\dfrac{\\langle \\mathbf{\\dot{x}}(t_i), \\mathbf{\\dot{x}}(t_{i+1}) \\rangle}{|\\mathbf{\\dot{x}}(t_i)||\\mathbf{\\dot{x}}(t_{i+1})|}\n",
    "\\end{equation}"
>>>>>>> 9f629d66ae56f4b85feb5c441d44a74d1f3b2bba
   ]
  },
  {
   "cell_type": "markdown",
   "metadata": {},
   "source": [
    "| Name | Type (Shape) | Description |\n",
    "| --- | --- | --- |\n",
    "| lenT | float | $ t_N-t_0 $ |\n",
<<<<<<< HEAD
    "| velocity | array (2, N) | velocity along trajectories over the <br /> discretized time-interval with resolution N|\n",
=======
    "| velocity | array (Nt, 2) | velocity along trajectories over the <br /> discretized time-interval with resolution N|\n",
>>>>>>> 9f629d66ae56f4b85feb5c441d44a74d1f3b2bba
    "| TRA | float | $ \\mathrm{\\overline{TRA}}_{t_0}^{t_N} $|"
   ]
  },
  {
   "cell_type": "code",
   "execution_count": null,
<<<<<<< HEAD
   "metadata": {
    "code_folding": [
     0
    ]
   },
=======
   "metadata": {},
>>>>>>> 9f629d66ae56f4b85feb5c441d44a74d1f3b2bba
   "outputs": [],
   "source": [
    "# Import numpy\n",
    "import numpy as np\n",
    "\n",
    "# Import symbols from math\n",
    "from math import sqrt, acos, pi"
   ]
  },
  {
   "cell_type": "code",
   "execution_count": 1,
<<<<<<< HEAD
   "metadata": {
    "code_folding": [
     0
    ]
   },
   "outputs": [],
   "source": [
    "def _TRA(velocity, lenT):\n",
=======
   "metadata": {},
   "outputs": [],
   "source": [
<<<<<<< HEAD:TBarrier/2D/demos/AdvectiveBarriers/TRA2D/TRA.ipynb
    "def _TRA(lenT, velocity):\n",
=======
    "def _TRA(velocity, lenT, v0 = 0):\n",
>>>>>>> 9f629d66ae56f4b85feb5c441d44a74d1f3b2bba:TBarrier/3D/demos/AdvectiveBarriers/TRA3D/TRA.ipynb
>>>>>>> 9f629d66ae56f4b85feb5c441d44a74d1f3b2bba
    "    \n",
    "    TRA = []\n",
    "    \n",
    "    # Iterate over trajectory\n",
<<<<<<< HEAD
    "    for k in range(velocity.shape[1]-1):\n",
    "                \n",
    "        # velocity at time 'k'\n",
=======
    "    for k in range(velocity.shape[0]-1):\n",
    "                \n",
    "        # velocity at time 'k'\n",
<<<<<<< HEAD:TBarrier/2D/demos/AdvectiveBarriers/TRA2D/TRA.ipynb
    "        velx0 = velocity[k, 0] # float\n",
    "        vely0 = velocity[k, 1] # float\n",
    "            \n",
    "        vel0 = sqrt(velx0**2+vely0**2) # float\n",
    "                 \n",
    "        # velocity at time 'k+1'\n",
    "        velx1 = velocity[k+1, 0] # float\n",
    "        vely1 = velocity[k+1, 1] # float\n",
    "                \n",
    "        vel1 = sqrt(velx1**2+vely1**2) # float\n",
    "        \n",
    "        # if velocity is identical to zero then return nan\n",
    "        if vel1 == 0 and vel0 == 0:\n",
    "            return np.nan\n",
    "        \n",
    "        argcos = (velx0*velx1+vely0*vely1)/(vel0*vel1) # float\n",
    "        \n",
    "        if argcos > 1:\n",
    "            argcos = 1\n",
    "        elif argcos < -1:\n",
    "            argcos = -1\n",
=======
>>>>>>> 9f629d66ae56f4b85feb5c441d44a74d1f3b2bba
    "        velx0 = velocity[0, k]\n",
    "        vely0 = velocity[1, k]\n",
    "        velz0 = velocity[2, k]\n",
    "            \n",
<<<<<<< HEAD
    "        vel0 = sqrt(velx0**2+vely0**2+velz0**2)\n",
=======
    "        vel0 = sqrt(velx0**2+vely0**2+velz0**2+v0**2)\n",
>>>>>>> 9f629d66ae56f4b85feb5c441d44a74d1f3b2bba
    "                \n",
    "        # velocity at time 'k+1'\n",
    "        velx1 = velocity[0, k+1]\n",
    "        vely1 = velocity[1, k+1]\n",
    "        velz1 = velocity[2, k+1]\n",
    "                \n",
<<<<<<< HEAD
    "        vel1 = sqrt(velx1**2+vely1**2+velz1**2)\n",
    "        \n",
    "        if vel0 != 0 and vel1 != 0:\n",
    "                \n",
    "            argcos = (velx0*velx1+vely0*vely1+velz0*velz1)/(vel0*vel1)\n",
=======
    "        vel1 = sqrt(velx1**2+vely1**2+velz1**2+v0**2)\n",
    "        \n",
    "        if vel0 != 0 and vel1 != 0:\n",
>>>>>>> 9f629d66ae56f4b85feb5c441d44a74d1f3b2bba:TBarrier/3D/demos/AdvectiveBarriers/TRA3D/TRA.ipynb
    "                \n",
    "            argcos = (velx0*velx1+vely0*vely1+velz0*velz1+v0**2)/(vel0*vel1)\n",
>>>>>>> 9f629d66ae56f4b85feb5c441d44a74d1f3b2bba
    "        \n",
    "            if argcos > 1:\n",
    "                argcos = 1\n",
    "            elif argcos <-1:\n",
    "                argcos = -1\n",
    "        \n",
    "            TRA.append(abs(acos(argcos)))\n",
    "    \n",
    "    # Compute sum and then normalize by length of time        \n",
<<<<<<< HEAD
    "    return np.sum(TRA)/lenT"
=======
    "    return np.sum(TRA)/lenT # float"
>>>>>>> 9f629d66ae56f4b85feb5c441d44a74d1f3b2bba
   ]
  }
 ],
 "metadata": {
  "kernelspec": {
   "display_name": "Python 3",
   "language": "python",
   "name": "python3"
  },
  "language_info": {
   "codemirror_mode": {
    "name": "ipython",
    "version": 3
   },
   "file_extension": ".py",
   "mimetype": "text/x-python",
   "name": "python",
   "nbconvert_exporter": "python",
   "pygments_lexer": "ipython3",
<<<<<<< HEAD
   "version": "3.7.11"
  },
  "latex_envs": {
   "LaTeX_envs_menu_present": true,
   "autoclose": false,
   "autocomplete": true,
   "bibliofile": "biblio.bib",
   "cite_by": "apalike",
   "current_citInitial": 1,
   "eqLabelWithNumbers": true,
   "eqNumInitial": 1,
   "hotkeys": {
    "equation": "Ctrl-E",
    "itemize": "Ctrl-I"
   },
   "labels_anchors": false,
   "latex_user_defs": false,
   "report_style_numbering": false,
   "user_envs_cfg": false
=======
   "version": "3.7.12"
>>>>>>> 9f629d66ae56f4b85feb5c441d44a74d1f3b2bba
  },
  "toc": {
   "base_numbering": 1,
   "nav_menu": {},
   "number_sections": true,
   "sideBar": true,
   "skip_h1_title": false,
   "title_cell": "Table of Contents",
   "title_sidebar": "Contents",
   "toc_cell": false,
   "toc_position": {},
   "toc_section_display": true,
   "toc_window_display": false
  }
 },
 "nbformat": 4,
 "nbformat_minor": 4
}
