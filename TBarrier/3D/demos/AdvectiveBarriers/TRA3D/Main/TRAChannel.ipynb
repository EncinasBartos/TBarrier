{
 "cells": [
  {
   "cell_type": "markdown",
   "id": "182a85a6",
   "metadata": {},
   "source": [
    "We start by adding the necessary folders to the current working path."
   ]
  },
  {
   "cell_type": "code",
   "execution_count": 1,
   "id": "0f8d1bed",
   "metadata": {
    "ExecuteTime": {
     "end_time": "2022-02-14T19:16:12.133235Z",
     "start_time": "2022-02-14T19:16:12.117614Z"
    },
    "code_folding": [
     0
    ]
   },
   "outputs": [],
   "source": [
    "# import sys, os\n",
    "import sys, os\n",
    "\n",
    "# get current directory\n",
    "path = os.getcwd()\n",
    "\n",
    "# get parent directory\n",
    "parent_directory = os.path.sep.join(path.split(os.path.sep)[:-4])\n",
    "\n",
    "# add utils folder to current working path\n",
    "sys.path.append(parent_directory+\"/subfunctions/utils\")\n",
    "\n",
    "# add integration folder to current working path\n",
    "sys.path.append(parent_directory+\"/subfunctions/integration\")\n",
    "\n",
    "# add 'TRA3D' folder to current working path in order to access the functions\n",
    "sys.path.append(parent_directory+\"/demos/AdvectiveBarriers/TRA3D\")"
   ]
  },
  {
   "cell_type": "markdown",
   "id": "92f1a975",
   "metadata": {},
   "source": [
    "# Overview\n",
    "\n",
    "In the following notebook we compute the TRA on the three-dimensional, steady ABC-flow. The velocity field is given as discrete dataset defined over the 3D meshgrid $ [0,2\\pi]^3 $. The notebook is structured as follows:\n",
    "\n",
    "1. Import data from the file 'Channel.h5' stored in the folder 'data/Turbulence'.\n",
    "<br />\n",
    "2. Define computational parameters and data.\n",
    " <br />\n",
    "3. Define spatio-temporal domain.\n",
    " <br />\n",
    "4. Define integration scheme for computing flow map (=trajectories) and derivative of flow map (=velocities).\n",
    " <br />\n",
    "5. TRA:\n",
    "\n",
    "    * Compute velocity along trajectories $ \\lbrace \\mathbf{\\dot{x}}(t_{i}) \\rbrace_{i=0}^N $ over the time interval $ [t_0, t_N] $.\n",
    "    <br />\n",
    "    \n",
    "    * Compute $ \\mathrm{\\overline{TRA}} $ from velocity along trajectories:\n",
    "    \n",
    "    \\begin{equation}\n",
    "    \\mathrm{\\overline{TRA}}_{t_0}^{t_N}(\\mathbf{x}_0) = \\dfrac{1}{t_N-t_0} \\sum_{i = 0}^{N-1} \\cos^{-1}\\dfrac{\\langle \\mathbf{\\dot{x}}(t_i), \\mathbf{\\dot{x}}(t_{i+1}) \\rangle+\\mathrm{v}_0^2}{\\sqrt{|\\mathbf{\\dot{x}}(t_i)|^2+\\mathrm{v}_0^2}\\sqrt{|\\mathbf{\\dot{x}}(t_{i+1})|^2+\\mathrm{v}_0^2}}\n",
    "    \\end{equation}\n",
    "    \n",
    "    $ \\mathrm{v}_0 $ is a characteristic velocity. In a steady ABC-flow, $ \\mathrm{v}_0 = 0 $."
   ]
  },
  {
   "cell_type": "code",
   "execution_count": 2,
   "id": "b40385a3",
   "metadata": {
    "ExecuteTime": {
     "end_time": "2022-02-14T19:16:14.262415Z",
     "start_time": "2022-02-14T19:16:12.133235Z"
    },
    "code_folding": [
     0,
     11
    ]
   },
   "outputs": [],
   "source": [
    "# import h5py\n",
    "import h5py\n",
    "\n",
    "# import numpy\n",
    "import numpy as np\n",
    "\n",
    "# Import velocity data from file in data-folder\n",
    "f = h5py.File('../../../../data/Turbulence/Channel_fine.h5', 'r')\n",
    "\n",
    "U, V, W = [], [], []\n",
    "\n",
    "for key in f.keys():\n",
    "    if key[:8] == \"Velocity\":\n",
    "        U.append(f[key][:,:,:,0])\n",
    "        V.append(f[key][:,:,:,1])\n",
    "        W.append(f[key][:,:,:,2])\n",
    "\n",
    "U = np.array(U).transpose(2,3,1,0) # array (NY, NX, NZ, NT)\n",
    "V = np.array(V).transpose(2,3,1,0) # array (NY, NX, NZ, NT)\n",
    "W = np.array(W).transpose(2,3,1,0) # array (NY, NX, NZ, NT)\n",
    "x = f['xcoor'][:].reshape(1,-1) # array (1, NX)\n",
    "y = f['ycoor'][:].reshape(1,-1) # array (1, NY)\n",
    "z = f['zcoor'][:].reshape(1,-1) # array (1, NZ)\n",
    "time_data = np.linspace(0, 25.9935, U.shape[-1], endpoint = True).reshape(1,-1) # array (1, NT)"
   ]
  },
  {
   "cell_type": "markdown",
   "id": "fa802f28",
   "metadata": {},
   "source": [
    "# Computational parameters\n",
    "\n",
    "Here we define the computational parameters."
   ]
  },
  {
   "cell_type": "code",
   "execution_count": 3,
   "id": "f5f30f2c",
   "metadata": {
    "ExecuteTime": {
     "end_time": "2022-02-14T19:16:14.584014Z",
     "start_time": "2022-02-14T19:16:14.264006Z"
    },
    "code_folding": []
   },
   "outputs": [],
   "source": [
    "# import numpy\n",
    "import numpy as np\n",
    "\n",
    "# Number of cores for parallel computing\n",
    "Ncores = 7 # int\n",
    "\n",
    "# Periodic boundary conditions\n",
    "periodic_x = True # bool\n",
    "periodic_y = False # bool\n",
    "periodic_z = True # bool\n",
    "periodic = [periodic_x, periodic_y, periodic_z]\n",
    "\n",
    "# Unsteady velocity field\n",
    "bool_unsteady = True # bool\n",
    "\n",
    "# Defined domain\n",
    "defined_domain = np.isfinite(U).astype(int) # array (NY, NX, NZ)\n",
    "\n",
    "## Compute meshgrid of dataset\n",
    "X, Y, Z = np.meshgrid(x, y, z) # array (NY, NX), array (NY, NX, NZ)\n",
    "\n",
    "# Characteristic velocity\n",
    "v0 = 1.13 # Centerline velocity of turbulent channel flow"
   ]
  },
  {
   "cell_type": "markdown",
   "id": "8fa74d39",
   "metadata": {},
   "source": [
    "# Spatio-temporal domain\n",
    "\n",
    "Here we define the spatio-temporal domain over which to consider the dynamical system."
   ]
  },
  {
   "cell_type": "markdown",
   "id": "53433c05",
   "metadata": {},
   "source": [
    "# Velocity Interpolation\n",
    "\n",
    "In order to evaluate the velocity field at arbitrary locations, we interpolate the discrete velocity data. The interpolation with respect to time and space is always linear."
   ]
  },
  {
   "cell_type": "code",
   "execution_count": 4,
   "id": "5f445dde",
   "metadata": {
    "ExecuteTime": {
     "end_time": "2022-02-14T19:16:14.617005Z",
     "start_time": "2022-02-14T19:16:14.586387Z"
    },
    "code_folding": []
   },
   "outputs": [],
   "source": [
    "# Initial time\n",
    "t0 = 0 # float\n",
    "\n",
    "# Final time\n",
    "tN = 20 # float\n",
    "\n",
    "# Time step-size\n",
    "dt = 0.005 # float\n",
    "\n",
    "# NOTE: For computing the backward FTLE field tN < t0 and dt < 0.\n",
    "\n",
    "time = np.arange(t0, tN+dt, dt) # shape (Nt,)\n",
    "\n",
    "# Length of time interval\n",
    "lenT = abs(tN-t0) # float\n",
    "\n",
    "# boundaries\n",
    "xmin = 2.26 # float\n",
    "xmax = 2.36 # float\n",
    "\n",
    "# check if chosen x-domain is inside the x-grid of the channel flow\n",
    "assert xmin >= np.min(X) and xmax <= np.max(X)\n",
    "\n",
    "ymin = 0.33 # float\n",
    "ymax = 0.47 # float\n",
    "\n",
    "# check if chosen y-domain is inside the y-grid of the channel flow\n",
    "assert ymin >= np.min(Y) and ymax <= np.max(Y)\n",
    "\n",
    "z = 2.55 # float\n",
    "\n",
    "# check if chosen z is inside the z-grid of the channel flow\n",
    "assert z >= np.min(Z) and z <= np.max(Z)\n",
    "\n",
    "dx = 0.005 # float\n",
    "dy = 0.005 # float\n",
    "\n",
    "x_domain = np.arange(xmin, xmax, dx) # array (Nx, )\n",
    "y_domain = np.arange(ymin, ymax, dy) # array (Ny, )\n",
    "\n",
    "# Resolution of meshgrid\n",
    "Ny = len(x_domain) # int\n",
    "Nx = len(y_domain) # int\n",
    "\n",
    "X_domain, Y_domain = np.meshgrid(x_domain, y_domain) # array (Ny, Nx)\n",
    "\n",
    "Ny = Y_domain.shape[0] # int\n",
    "Nx = X_domain.shape[1] # int"
   ]
  },
  {
   "cell_type": "code",
   "execution_count": 5,
   "id": "671e9966",
   "metadata": {
    "ExecuteTime": {
     "end_time": "2022-02-14T19:16:15.234619Z",
     "start_time": "2022-02-14T19:16:14.618860Z"
    },
    "code_folding": [
     0
    ]
   },
   "outputs": [],
   "source": [
    "# Import interpolation function for unsteady flow field\n",
    "from ipynb.fs.defs.Interpolant import interpolant_unsteady\n",
    "\n",
    "# Set nan values to zero (in case there are any) so that we can apply interpolant. \n",
    "# Interpolant does not work if the array contains nan values. \n",
    "U[np.isnan(U)] = 0\n",
    "V[np.isnan(V)] = 0\n",
    "W[np.isnan(W)] = 0\n",
    "\n",
    "# Interpolate velocity data using cubic spatial interpolation\n",
    "Interpolant = interpolant_unsteady(X, Y, Z, U, V, W, time_data)\n",
    "\n",
    "Interpolant_u = Interpolant[0] # RectangularBivariateSpline-object\n",
    "Interpolant_v = Interpolant[1] # RectangularBivariateSpline-object\n",
    "Interpolant_w = Interpolant[2] # RectangularBivariateSpline-object"
   ]
  },
  {
   "cell_type": "markdown",
   "id": "6d6fb4d6",
   "metadata": {},
   "source": [
    "# $ \\mathrm{\\overline{TRA}} $\n",
    "\n",
    "The computation of the $ \\mathrm{\\overline{TRA}} $ is not done over the 3D meshgrid but only over the 2D plane specified by $ z = 2.55 $.\n",
    "We iterate over all initial conditions on the faces of the 2D cross-section and calculate the velocity along the particle trajectories. From the velocity of the trajectories (=time-derivative of flow map) we then compute the $ \\mathrm{\\overline{TRA}} $."
   ]
  },
  {
   "cell_type": "code",
   "execution_count": 6,
   "id": "3294451e",
   "metadata": {
    "ExecuteTime": {
     "end_time": "2022-02-14T19:16:15.297376Z",
     "start_time": "2022-02-14T19:16:15.235616Z"
    },
    "code_folding": [
     24
    ],
    "run_control": {
     "marked": true
    }
   },
   "outputs": [],
   "source": [
    "# Import function to compute trajectory/velocity along trajectory\n",
    "from ipynb.fs.defs.integration_dFdt import integration_dFdt\n",
    "\n",
    "# Import function to compute trajectory rotation average (TRA)\n",
    "from ipynb.fs.defs.TRA import _TRA\n",
    "\n",
    "# Import package for parallel computing\n",
    "from joblib import Parallel, delayed\n",
    "\n",
    "def compute_TRA(x0, y0, z0):\n",
    "    \n",
    "    X0 = np.array([x0, y0, z0]) # array (3, Nx*Ny*Nz)\n",
    "    \n",
    "    DFDt = integration_dFdt(time, X0, X, Y, Z, Interpolant_u, Interpolant_v, Interpolant_w, periodic, bool_unsteady)[1] # array (Nt, 3, Nx*Ny*Nz)\n",
    "    \n",
    "    TRA = []\n",
    "    \n",
    "    for i in range(DFDt.shape[-1]):\n",
    "            \n",
    "        TRA.append(_TRA(DFDt[:,:,i].transpose(), time[-1], v0))\n",
    "    \n",
    "    return TRA\n",
    "\n",
    "# Split x0,y0,z0 into 'Ncores' equal batches for parallel computing\n",
    "def split(a, n):\n",
    "    k, m = divmod(len(a), n)\n",
    "    return (a[i*k+min(i, m):(i+1)*k+min(i+1, m)] for i in range(n))"
   ]
  },
  {
   "cell_type": "code",
   "execution_count": 7,
   "id": "b5d24bbf",
   "metadata": {
    "ExecuteTime": {
     "end_time": "2022-02-14T19:17:05.649040Z",
     "start_time": "2022-02-14T19:16:15.298783Z"
    },
    "code_folding": []
   },
   "outputs": [
    {
     "name": "stderr",
     "output_type": "stream",
     "text": [
      "[Parallel(n_jobs=7)]: Using backend LokyBackend with 7 concurrent workers.\n",
      "[Parallel(n_jobs=7)]: Done   2 out of   7 | elapsed:   49.0s remaining:  2.0min\n",
      "[Parallel(n_jobs=7)]: Done   7 out of   7 | elapsed:   50.1s finished\n"
     ]
    }
   ],
   "source": [
    "# Vectorize initial conditions by arranging them to a vector of size (Nx*Ny, )\n",
    "\n",
    "# XY-plane\n",
    "x0_xy = X_domain.ravel() # array (Nx*Ny, )\n",
    "y0_xy = Y_domain.ravel() # array (Nx*Ny, )\n",
    "z0_xy = np.ones(y0_xy.shape[0], )*2*np.pi\n",
    "\n",
    "x0_batch = list(split(x0_xy, Ncores)) # list (Nx*Ny)\n",
    "y0_batch = list(split(y0_xy, Ncores)) # list (Nx*Ny)\n",
    "z0_batch = list(split(z0_xy, Ncores)) # list (Nx*Ny)\n",
    "\n",
    "# Parallel computing\n",
    "results = Parallel(n_jobs=Ncores, verbose = 2)(delayed(compute_TRA)(x0_batch[i], y0_batch[i], z0_batch[i]) for i in range(len(x0_batch)))\n",
    "\n",
    "# Extract results of omega computation on xy-plane\n",
    "TRA = results[0]\n",
    "for res in results[1:]:\n",
    "    TRA = np.append(TRA, res, axis = -1)\n",
    "\n",
    "# Reshape arrays\n",
    "TRA = np.array(TRA).reshape(Ny,Nx) # array (Ny, Nx)"
   ]
  },
  {
   "cell_type": "code",
   "execution_count": 8,
   "id": "5f5fc6a3",
   "metadata": {
    "ExecuteTime": {
     "end_time": "2022-02-14T19:17:06.650642Z",
     "start_time": "2022-02-14T19:17:05.651034Z"
    }
   },
   "outputs": [
    {
     "data": {
      "image/png": "[encoded data removed]",
      "text/plain": [
       "<Figure size 576x432 with 2 Axes>"
      ]
     },
     "metadata": {
      "needs_background": "light"
     },
     "output_type": "display_data"
    }
   ],
   "source": [
    "import matplotlib.pyplot as plt\n",
    "\n",
    "fig = plt.figure(figsize=(8, 6))\n",
    "ax = plt.axes()\n",
    "cax = ax.contourf(X_domain, Y_domain, TRA, levels = 500, cmap = \"gist_rainbow_r\")\n",
    "ax.set_aspect('equal')\n",
    "plt.colorbar(cax)\n",
    "plt.show()"
   ]
  },
  {
   "cell_type": "markdown",
   "id": "79631e8d",
   "metadata": {},
   "source": [
    "Elliptic LCS are visible as convex tubular surfaces with a sharp drop in the $ \\mathrm{TRA} $-field. The structures highlighted by the $ \\mathrm{LAVD} $-field can directly be compared to those of the [$ \\mathrm{\\overline{LAVD}}$](../../LAVD3D/Main/LAVDABCsteady.ipynb)-field. Contrary to other commonly used elliptic LCS detection methods such as the $ \\mathrm{\\overline{LAVD}}$, the features of $ \\mathrm{TRA} $ are robust with respect to subsampling as the main vortical flow features are preserved even in a very sparse setting."
   ]
  },
  {
   "cell_type": "markdown",
   "id": "23044cca",
   "metadata": {},
   "source": [
    "# References\n",
    "\n",
    "[1] Haller, G., Aksamit, N., & Encinas-Bartos, A. P. (2021). Quasi-objective coherent structure diagnostics from single trajectories. Chaos: An Interdisciplinary Journal of Nonlinear Science, 31(4), 043131."
   ]
  }
 ],
 "metadata": {
  "kernelspec": {
   "display_name": "Python 3",
   "language": "python",
   "name": "python3"
  },
  "language_info": {
   "codemirror_mode": {
    "name": "ipython",
    "version": 3
   },
   "file_extension": ".py",
   "mimetype": "text/x-python",
   "name": "python",
   "nbconvert_exporter": "python",
   "pygments_lexer": "ipython3",
   "version": "3.7.12"
  },
  "toc": {
   "base_numbering": 1,
   "nav_menu": {},
   "number_sections": true,
   "sideBar": true,
   "skip_h1_title": false,
   "title_cell": "Table of Contents",
   "title_sidebar": "Contents",
   "toc_cell": false,
   "toc_position": {},
   "toc_section_display": true,
   "toc_window_display": true
  }
 },
 "nbformat": 4,
 "nbformat_minor": 5
}
