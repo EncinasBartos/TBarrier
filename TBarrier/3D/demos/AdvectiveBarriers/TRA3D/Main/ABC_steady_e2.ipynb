{
 "cells": [
  {
   "cell_type": "markdown",
   "metadata": {},
   "source": [
    "# Add Folders to Path"
   ]
  },
  {
   "cell_type": "code",
   "execution_count": 1,
   "metadata": {
    "ExecuteTime": {
     "end_time": "2022-01-09T18:48:09.096269Z",
     "start_time": "2022-01-09T18:48:09.092164Z"
    }
   },
   "outputs": [
    {
     "name": "stdout",
     "output_type": "stream",
     "text": [
      "CPU times: user 191 µs, sys: 138 µs, total: 329 µs\n",
      "Wall time: 297 µs\n"
     ]
    }
   ],
   "source": [
    "%%time\n",
    "import sys, os\n",
    "\n",
    "# get current directory\n",
    "path = os.getcwd()\n",
    "\n",
    "# get parent directory\n",
    "parent_directory = os.path.sep.join(path.split(os.path.sep)[:-4])\n",
    "\n",
    "# add utils folder to current working path\n",
    "sys.path.append(parent_directory+\"/subfunctions/utils\")\n",
    "\n",
    "# add integration folder to current working path\n",
    "sys.path.append(parent_directory+\"/subfunctions/integration\")\n",
    "\n",
    "# add EllipticOECS folder to current working path in order to access the functions\n",
    "sys.path.append(parent_directory+\"/demos/AdvectiveBarriers/FastTensorlineComputation\")"
   ]
  },
  {
   "cell_type": "code",
   "execution_count": null,
   "metadata": {},
   "outputs": [],
   "source": []
  },
  {
   "cell_type": "markdown",
   "metadata": {},
   "source": [
    "# Import data"
   ]
  },
  {
   "cell_type": "code",
   "execution_count": 1,
   "metadata": {
    "ExecuteTime": {
     "end_time": "2022-01-10T08:53:58.585769Z",
     "start_time": "2022-01-10T08:53:58.405124Z"
    }
   },
   "outputs": [
    {
     "name": "stdout",
     "output_type": "stream",
     "text": [
      "Wall time: 165 ms\n"
     ]
    }
   ],
   "source": [
    "%%time\n",
    "import scipy.io as sio\n",
    "\n",
    "#Import velocity data from file in data-folder\n",
    "mat_file = sio.loadmat('../../../../data/ABC/ABC_steady.mat')\n",
    "\n",
    "U = mat_file['u']\n",
    "V = mat_file['v']\n",
    "W = mat_file['w']\n",
    "x = mat_file['x']\n",
    "y = mat_file['y']\n",
    "z = mat_file['z']"
   ]
  },
  {
   "cell_type": "markdown",
   "metadata": {},
   "source": [
    "# Data/Parameters for Dynamical System"
   ]
  },
  {
   "cell_type": "code",
   "execution_count": 3,
   "metadata": {
    "ExecuteTime": {
     "end_time": "2022-01-09T18:48:09.429619Z",
     "start_time": "2022-01-09T18:48:09.362258Z"
    }
   },
   "outputs": [],
   "source": [
    "import numpy as np\n",
    "\n",
    "# number of cores to be used for parallel computing\n",
    "Ncores = 18\n",
    "\n",
    "# periodic boundary conditions\n",
    "periodic_x = True\n",
    "periodic_y = True\n",
    "periodic_z = True\n",
    "periodic = [periodic_x, periodic_y, periodic_z]\n",
    "\n",
    "# unsteady velocity field\n",
    "bool_unsteady = False\n",
    "\n",
    "## compute meshgrid of dataset\n",
    "X, Y, Z = np.meshgrid(x, y, z)\n",
    "\n",
    "## resolution of meshgrid\n",
    "dx_data = X[0,1,0]-X[0,0,0]\n",
    "dy_data = Y[1,0,0]-Y[0,0,0]\n",
    "dz_data = Z[0,0,1]-Z[0,0,0]\n",
    "\n",
    "delta = [dx_data, dy_data, dz_data]"
   ]
  },
  {
   "cell_type": "markdown",
   "metadata": {},
   "source": [
    "# Spatio-Temporal Domain of Dynamical System"
   ]
  },
  {
   "cell_type": "code",
   "execution_count": 4,
   "metadata": {
    "ExecuteTime": {
     "end_time": "2022-01-09T18:48:09.453641Z",
     "start_time": "2022-01-09T18:48:09.434007Z"
    }
   },
   "outputs": [
    {
     "name": "stdout",
     "output_type": "stream",
     "text": [
      "CPU times: user 8.33 ms, sys: 8.78 ms, total: 17.1 ms\n",
      "Wall time: 16 ms\n"
     ]
    }
   ],
   "source": [
    "%%time\n",
    "from math import pi\n",
    "\n",
    "# Time\n",
    "t0 = 0\n",
    "tN = 10\n",
    "dt = 0.1\n",
    "\n",
    "# store time in array\n",
    "time = np.arange(t0, tN+dt, dt)\n",
    "\n",
    "lenT = 10\n",
    "\n",
    "# domain boundary (in degrees)\n",
    "xmin = 0\n",
    "xmax = 2*pi\n",
    "ymin = 0\n",
    "ymax = 2*pi\n",
    "zmin = 0\n",
    "zmax = 2*pi\n",
    "\n",
    "# spacing of meshgrid (in degrees)\n",
    "dx = 0.05\n",
    "dy = 0.05\n",
    "dz = 0.05\n",
    "\n",
    "x_domain = np.linspace(xmin, xmax, int((xmax-xmin)/dx), endpoint = True)\n",
    "y_domain = np.linspace(ymin, ymax, int((ymax-ymin)/dy), endpoint = True)\n",
    "z_domain = np.linspace(ymin, ymax, int((zmax-zmin)/dz), endpoint = True)\n",
    "\n",
    "X_domain, Y_domain, Z_domain = np.meshgrid(x_domain, y_domain, z_domain)"
   ]
  },
  {
   "cell_type": "markdown",
   "metadata": {},
   "source": [
    "# Interpolate Velocity\n",
    "\n",
    "In order to evaluate the velocity field at arbitrary locations and times, we must interpolate the discrete velocity data. The interpolation with respect to time is always linear. The interpolation with respect to space can be chosen to be \"cubic\" or \"linear\". In order to favour a smooth velocity field, we interpolate the velocity field in space using a cubic interpolant. "
   ]
  },
  {
   "cell_type": "code",
   "execution_count": 5,
   "metadata": {
    "ExecuteTime": {
     "end_time": "2022-01-09T18:48:09.509695Z",
     "start_time": "2022-01-09T18:48:09.455062Z"
    }
   },
   "outputs": [
    {
     "name": "stdout",
     "output_type": "stream",
     "text": [
      "CPU times: user 36.9 ms, sys: 15.5 ms, total: 52.5 ms\n",
      "Wall time: 51.6 ms\n"
     ]
    }
   ],
   "source": [
    "%%time\n",
    "# Import interpolation function for unsteady flow field\n",
    "from ipynb.fs.defs.Interpolant import interpolant_steady\n",
    "\n",
    "# Interpolate velocity data using linear spatial interpolation\n",
    "Interpolant = interpolant_steady(X, Y, Z, U, V, W)\n",
    "\n",
    "Interpolant_u = Interpolant[0]\n",
    "Interpolant_v = Interpolant[1]\n",
    "Interpolant_w = Interpolant[2]"
   ]
  },
  {
   "cell_type": "markdown",
   "metadata": {},
   "source": [
    "# Rate of Strain $ \\mathrm{S}(\\mathbf{x})$"
   ]
  },
  {
   "cell_type": "code",
   "execution_count": 6,
   "metadata": {
    "ExecuteTime": {
     "end_time": "2022-01-09T18:48:09.684474Z",
     "start_time": "2022-01-09T18:48:09.511133Z"
    }
   },
   "outputs": [
    {
     "data": {
      "application/vnd.jupyter.widget-view+json": {
       "model_id": "3f54b1c9fefd442298818405e529f677",
       "version_major": 2,
       "version_minor": 0
      },
      "text/plain": [
       "  0%|          | 0/125 [00:00<?, ?it/s]"
      ]
     },
     "metadata": {},
     "output_type": "display_data"
    },
    {
     "ename": "ValueError",
     "evalue": "not enough values to unpack (expected 7, got 5)",
     "output_type": "error",
     "traceback": [
      "\u001b[0;31m---------------------------------------------------------------------------\u001b[0m",
      "\u001b[0;31mValueError\u001b[0m                                Traceback (most recent call last)",
      "\u001b[0;32m<timed exec>\u001b[0m in \u001b[0;36m<module>\u001b[0;34m\u001b[0m\n",
      "\u001b[0;32m/opt/anaconda3/envs/TBarrier/lib/python3.7/site-packages/joblib/parallel.py\u001b[0m in \u001b[0;36m__call__\u001b[0;34m(self, iterable)\u001b[0m\n\u001b[1;32m   1046\u001b[0m             \u001b[0;31m# remaining jobs.\u001b[0m\u001b[0;34m\u001b[0m\u001b[0;34m\u001b[0m\u001b[0;34m\u001b[0m\u001b[0m\n\u001b[1;32m   1047\u001b[0m             \u001b[0mself\u001b[0m\u001b[0;34m.\u001b[0m\u001b[0m_iterating\u001b[0m \u001b[0;34m=\u001b[0m \u001b[0;32mFalse\u001b[0m\u001b[0;34m\u001b[0m\u001b[0;34m\u001b[0m\u001b[0m\n\u001b[0;32m-> 1048\u001b[0;31m             \u001b[0;32mif\u001b[0m \u001b[0mself\u001b[0m\u001b[0;34m.\u001b[0m\u001b[0mdispatch_one_batch\u001b[0m\u001b[0;34m(\u001b[0m\u001b[0miterator\u001b[0m\u001b[0;34m)\u001b[0m\u001b[0;34m:\u001b[0m\u001b[0;34m\u001b[0m\u001b[0;34m\u001b[0m\u001b[0m\n\u001b[0m\u001b[1;32m   1049\u001b[0m                 \u001b[0mself\u001b[0m\u001b[0;34m.\u001b[0m\u001b[0m_iterating\u001b[0m \u001b[0;34m=\u001b[0m \u001b[0mself\u001b[0m\u001b[0;34m.\u001b[0m\u001b[0m_original_iterator\u001b[0m \u001b[0;32mis\u001b[0m \u001b[0;32mnot\u001b[0m \u001b[0;32mNone\u001b[0m\u001b[0;34m\u001b[0m\u001b[0;34m\u001b[0m\u001b[0m\n\u001b[1;32m   1050\u001b[0m \u001b[0;34m\u001b[0m\u001b[0m\n",
      "\u001b[0;32m/opt/anaconda3/envs/TBarrier/lib/python3.7/site-packages/joblib/parallel.py\u001b[0m in \u001b[0;36mdispatch_one_batch\u001b[0;34m(self, iterator)\u001b[0m\n\u001b[1;32m    864\u001b[0m                 \u001b[0;32mreturn\u001b[0m \u001b[0;32mFalse\u001b[0m\u001b[0;34m\u001b[0m\u001b[0;34m\u001b[0m\u001b[0m\n\u001b[1;32m    865\u001b[0m             \u001b[0;32melse\u001b[0m\u001b[0;34m:\u001b[0m\u001b[0;34m\u001b[0m\u001b[0;34m\u001b[0m\u001b[0m\n\u001b[0;32m--> 866\u001b[0;31m                 \u001b[0mself\u001b[0m\u001b[0;34m.\u001b[0m\u001b[0m_dispatch\u001b[0m\u001b[0;34m(\u001b[0m\u001b[0mtasks\u001b[0m\u001b[0;34m)\u001b[0m\u001b[0;34m\u001b[0m\u001b[0;34m\u001b[0m\u001b[0m\n\u001b[0m\u001b[1;32m    867\u001b[0m                 \u001b[0;32mreturn\u001b[0m \u001b[0;32mTrue\u001b[0m\u001b[0;34m\u001b[0m\u001b[0;34m\u001b[0m\u001b[0m\n\u001b[1;32m    868\u001b[0m \u001b[0;34m\u001b[0m\u001b[0m\n",
      "\u001b[0;32m/opt/anaconda3/envs/TBarrier/lib/python3.7/site-packages/joblib/parallel.py\u001b[0m in \u001b[0;36m_dispatch\u001b[0;34m(self, batch)\u001b[0m\n\u001b[1;32m    782\u001b[0m         \u001b[0;32mwith\u001b[0m \u001b[0mself\u001b[0m\u001b[0;34m.\u001b[0m\u001b[0m_lock\u001b[0m\u001b[0;34m:\u001b[0m\u001b[0;34m\u001b[0m\u001b[0;34m\u001b[0m\u001b[0m\n\u001b[1;32m    783\u001b[0m             \u001b[0mjob_idx\u001b[0m \u001b[0;34m=\u001b[0m \u001b[0mlen\u001b[0m\u001b[0;34m(\u001b[0m\u001b[0mself\u001b[0m\u001b[0;34m.\u001b[0m\u001b[0m_jobs\u001b[0m\u001b[0;34m)\u001b[0m\u001b[0;34m\u001b[0m\u001b[0;34m\u001b[0m\u001b[0m\n\u001b[0;32m--> 784\u001b[0;31m             \u001b[0mjob\u001b[0m \u001b[0;34m=\u001b[0m \u001b[0mself\u001b[0m\u001b[0;34m.\u001b[0m\u001b[0m_backend\u001b[0m\u001b[0;34m.\u001b[0m\u001b[0mapply_async\u001b[0m\u001b[0;34m(\u001b[0m\u001b[0mbatch\u001b[0m\u001b[0;34m,\u001b[0m \u001b[0mcallback\u001b[0m\u001b[0;34m=\u001b[0m\u001b[0mcb\u001b[0m\u001b[0;34m)\u001b[0m\u001b[0;34m\u001b[0m\u001b[0;34m\u001b[0m\u001b[0m\n\u001b[0m\u001b[1;32m    785\u001b[0m             \u001b[0;31m# A job can complete so quickly than its callback is\u001b[0m\u001b[0;34m\u001b[0m\u001b[0;34m\u001b[0m\u001b[0;34m\u001b[0m\u001b[0m\n\u001b[1;32m    786\u001b[0m             \u001b[0;31m# called before we get here, causing self._jobs to\u001b[0m\u001b[0;34m\u001b[0m\u001b[0;34m\u001b[0m\u001b[0;34m\u001b[0m\u001b[0m\n",
      "\u001b[0;32m/opt/anaconda3/envs/TBarrier/lib/python3.7/site-packages/joblib/_parallel_backends.py\u001b[0m in \u001b[0;36mapply_async\u001b[0;34m(self, func, callback)\u001b[0m\n\u001b[1;32m    206\u001b[0m     \u001b[0;32mdef\u001b[0m \u001b[0mapply_async\u001b[0m\u001b[0;34m(\u001b[0m\u001b[0mself\u001b[0m\u001b[0;34m,\u001b[0m \u001b[0mfunc\u001b[0m\u001b[0;34m,\u001b[0m \u001b[0mcallback\u001b[0m\u001b[0;34m=\u001b[0m\u001b[0;32mNone\u001b[0m\u001b[0;34m)\u001b[0m\u001b[0;34m:\u001b[0m\u001b[0;34m\u001b[0m\u001b[0;34m\u001b[0m\u001b[0m\n\u001b[1;32m    207\u001b[0m         \u001b[0;34m\"\"\"Schedule a func to be run\"\"\"\u001b[0m\u001b[0;34m\u001b[0m\u001b[0;34m\u001b[0m\u001b[0m\n\u001b[0;32m--> 208\u001b[0;31m         \u001b[0mresult\u001b[0m \u001b[0;34m=\u001b[0m \u001b[0mImmediateResult\u001b[0m\u001b[0;34m(\u001b[0m\u001b[0mfunc\u001b[0m\u001b[0;34m)\u001b[0m\u001b[0;34m\u001b[0m\u001b[0;34m\u001b[0m\u001b[0m\n\u001b[0m\u001b[1;32m    209\u001b[0m         \u001b[0;32mif\u001b[0m \u001b[0mcallback\u001b[0m\u001b[0;34m:\u001b[0m\u001b[0;34m\u001b[0m\u001b[0;34m\u001b[0m\u001b[0m\n\u001b[1;32m    210\u001b[0m             \u001b[0mcallback\u001b[0m\u001b[0;34m(\u001b[0m\u001b[0mresult\u001b[0m\u001b[0;34m)\u001b[0m\u001b[0;34m\u001b[0m\u001b[0;34m\u001b[0m\u001b[0m\n",
      "\u001b[0;32m/opt/anaconda3/envs/TBarrier/lib/python3.7/site-packages/joblib/_parallel_backends.py\u001b[0m in \u001b[0;36m__init__\u001b[0;34m(self, batch)\u001b[0m\n\u001b[1;32m    570\u001b[0m         \u001b[0;31m# Don't delay the application, to avoid keeping the input\u001b[0m\u001b[0;34m\u001b[0m\u001b[0;34m\u001b[0m\u001b[0;34m\u001b[0m\u001b[0m\n\u001b[1;32m    571\u001b[0m         \u001b[0;31m# arguments in memory\u001b[0m\u001b[0;34m\u001b[0m\u001b[0;34m\u001b[0m\u001b[0;34m\u001b[0m\u001b[0m\n\u001b[0;32m--> 572\u001b[0;31m         \u001b[0mself\u001b[0m\u001b[0;34m.\u001b[0m\u001b[0mresults\u001b[0m \u001b[0;34m=\u001b[0m \u001b[0mbatch\u001b[0m\u001b[0;34m(\u001b[0m\u001b[0;34m)\u001b[0m\u001b[0;34m\u001b[0m\u001b[0;34m\u001b[0m\u001b[0m\n\u001b[0m\u001b[1;32m    573\u001b[0m \u001b[0;34m\u001b[0m\u001b[0m\n\u001b[1;32m    574\u001b[0m     \u001b[0;32mdef\u001b[0m \u001b[0mget\u001b[0m\u001b[0;34m(\u001b[0m\u001b[0mself\u001b[0m\u001b[0;34m)\u001b[0m\u001b[0;34m:\u001b[0m\u001b[0;34m\u001b[0m\u001b[0;34m\u001b[0m\u001b[0m\n",
      "\u001b[0;32m/opt/anaconda3/envs/TBarrier/lib/python3.7/site-packages/joblib/parallel.py\u001b[0m in \u001b[0;36m__call__\u001b[0;34m(self)\u001b[0m\n\u001b[1;32m    261\u001b[0m         \u001b[0;32mwith\u001b[0m \u001b[0mparallel_backend\u001b[0m\u001b[0;34m(\u001b[0m\u001b[0mself\u001b[0m\u001b[0;34m.\u001b[0m\u001b[0m_backend\u001b[0m\u001b[0;34m,\u001b[0m \u001b[0mn_jobs\u001b[0m\u001b[0;34m=\u001b[0m\u001b[0mself\u001b[0m\u001b[0;34m.\u001b[0m\u001b[0m_n_jobs\u001b[0m\u001b[0;34m)\u001b[0m\u001b[0;34m:\u001b[0m\u001b[0;34m\u001b[0m\u001b[0;34m\u001b[0m\u001b[0m\n\u001b[1;32m    262\u001b[0m             return [func(*args, **kwargs)\n\u001b[0;32m--> 263\u001b[0;31m                     for func, args, kwargs in self.items]\n\u001b[0m\u001b[1;32m    264\u001b[0m \u001b[0;34m\u001b[0m\u001b[0m\n\u001b[1;32m    265\u001b[0m     \u001b[0;32mdef\u001b[0m \u001b[0m__reduce__\u001b[0m\u001b[0;34m(\u001b[0m\u001b[0mself\u001b[0m\u001b[0;34m)\u001b[0m\u001b[0;34m:\u001b[0m\u001b[0;34m\u001b[0m\u001b[0;34m\u001b[0m\u001b[0m\n",
      "\u001b[0;32m/opt/anaconda3/envs/TBarrier/lib/python3.7/site-packages/joblib/parallel.py\u001b[0m in \u001b[0;36m<listcomp>\u001b[0;34m(.0)\u001b[0m\n\u001b[1;32m    261\u001b[0m         \u001b[0;32mwith\u001b[0m \u001b[0mparallel_backend\u001b[0m\u001b[0;34m(\u001b[0m\u001b[0mself\u001b[0m\u001b[0;34m.\u001b[0m\u001b[0m_backend\u001b[0m\u001b[0;34m,\u001b[0m \u001b[0mn_jobs\u001b[0m\u001b[0;34m=\u001b[0m\u001b[0mself\u001b[0m\u001b[0;34m.\u001b[0m\u001b[0m_n_jobs\u001b[0m\u001b[0;34m)\u001b[0m\u001b[0;34m:\u001b[0m\u001b[0;34m\u001b[0m\u001b[0;34m\u001b[0m\u001b[0m\n\u001b[1;32m    262\u001b[0m             return [func(*args, **kwargs)\n\u001b[0;32m--> 263\u001b[0;31m                     for func, args, kwargs in self.items]\n\u001b[0m\u001b[1;32m    264\u001b[0m \u001b[0;34m\u001b[0m\u001b[0m\n\u001b[1;32m    265\u001b[0m     \u001b[0;32mdef\u001b[0m \u001b[0m__reduce__\u001b[0m\u001b[0;34m(\u001b[0m\u001b[0mself\u001b[0m\u001b[0;34m)\u001b[0m\u001b[0;34m:\u001b[0m\u001b[0;34m\u001b[0m\u001b[0;34m\u001b[0m\u001b[0m\n",
      "\u001b[0;32m<timed exec>\u001b[0m in \u001b[0;36mparallel_S\u001b[0;34m(i)\u001b[0m\n",
      "\u001b[0;32m~/OneDrive/TBarrier/TBarrier/3D/subfunctions/utils/gradient_velocity.ipynb\u001b[0m in \u001b[0;36mgradient_velocity\u001b[0;34m(t, x, X, Y, Z, Interpolant_u, Interpolant_v, Interpolant_w, periodic, bool_unsteady, aux_grid, dt_data)\u001b[0m\n\u001b[1;32m     48\u001b[0m    \"source\": [\n\u001b[1;32m     49\u001b[0m     \u001b[0;34m\"import sys, os\\n\"\u001b[0m\u001b[0;34m,\u001b[0m\u001b[0;34m\u001b[0m\u001b[0;34m\u001b[0m\u001b[0m\n\u001b[0;32m---> 50\u001b[0;31m     \u001b[0;34m\"\\n\"\u001b[0m\u001b[0;34m,\u001b[0m\u001b[0;34m\u001b[0m\u001b[0;34m\u001b[0m\u001b[0m\n\u001b[0m\u001b[1;32m     51\u001b[0m     \u001b[0;34m\"# get current directory\\n\"\u001b[0m\u001b[0;34m,\u001b[0m\u001b[0;34m\u001b[0m\u001b[0;34m\u001b[0m\u001b[0m\n\u001b[1;32m     52\u001b[0m     \u001b[0;34m\"path = os.getcwd()\\n\"\u001b[0m\u001b[0;34m,\u001b[0m\u001b[0;34m\u001b[0m\u001b[0;34m\u001b[0m\u001b[0m\n",
      "\u001b[0;31mValueError\u001b[0m: not enough values to unpack (expected 7, got 5)"
     ]
    }
   ],
   "source": [
    "%%time\n",
    "# Import package to compute gradient of velocity\n",
    "from ipynb.fs.defs.gradient_velocity import gradient_velocity\n",
    "\n",
    "# Import package to compute rate of strain\n",
    "from ipynb.fs.defs.RateStrain import RateStrain\n",
    "\n",
    "# Import package for progress bar\n",
    "from tqdm.notebook import tqdm\n",
    "\n",
    "# Import package for parallel computing\n",
    "from joblib import Parallel, delayed\n",
    "\n",
    "# Define auxiliary grid \n",
    "aux_grid = [.1*dx, .1*dy, .1*dz]\n",
    "\n",
    "def parallel_S(i):\n",
    "    \n",
    "    S_parallel = np.zeros((X_domain.shape[1], X_domain.shape[2], 3, 3))*np.nan\n",
    "    \n",
    "    for j in range(X_domain.shape[1]):\n",
    "        \n",
    "        for k in range(Y_domain.shape[2]):\n",
    "        \n",
    "            # set initial condition\n",
    "            x = np.array([X_domain[i, j, k], Y_domain[i, j, k], Z_domain[i, j, k]])\n",
    "    \n",
    "            # compute gradient of velocity\n",
    "            grad_vel = gradient_velocity(time[0], x, X, Y, Z, Interpolant_u, Interpolant_v, Interpolant_w, periodic, bool_unsteady, aux_grid)\n",
    "        \n",
    "            # compute rate of strain\n",
    "            S_parallel[j,k,:,:] = RateStrain(grad_vel)\n",
    "        \n",
    "    return S_parallel\n",
    "\n",
    "\n",
    "Ncores = 1\n",
    "S = np.array(Parallel(n_jobs=Ncores, verbose = 0)(delayed(parallel_S)(i) for i in tqdm(range(X_domain.shape[0]))))"
   ]
  },
  {
   "cell_type": "markdown",
   "metadata": {},
   "source": [
    "# Compute Tensorfield properties\n",
    "\n",
    "We now compute the properties of the rate of strain tensor 'S' such as the spatial derivatives of the elements of 'S'."
   ]
  },
  {
   "cell_type": "code",
   "execution_count": 7,
   "metadata": {
    "ExecuteTime": {
     "end_time": "2022-01-09T18:48:09.693872Z",
     "start_time": "2022-01-09T18:48:09.685996Z"
    }
   },
   "outputs": [
    {
     "ename": "NameError",
     "evalue": "name 'S' is not defined",
     "output_type": "error",
     "traceback": [
      "\u001b[0;31m---------------------------------------------------------------------------\u001b[0m",
      "\u001b[0;31mNameError\u001b[0m                                 Traceback (most recent call last)",
      "\u001b[0;32m<timed exec>\u001b[0m in \u001b[0;36m<module>\u001b[0;34m\u001b[0m\n",
      "\u001b[0;31mNameError\u001b[0m: name 'S' is not defined"
     ]
    }
   ],
   "source": [
    "%%time\n",
    "# Import (cubic) RectangularGridInterpolat from scipy\n",
    "from scipy.interpolate import RegularGridInterpolator\n",
    "        \n",
    "# Compute gradients of elements of rate of strain tensor\n",
    "S11 = np.nan_to_num(S[:,:,:,0,0], nan=0.0)\n",
    "S12 = np.nan_to_num(S[:,:,:,0,1], nan=0.0)\n",
    "S22 = np.nan_to_num(S[:,:,:,1,1], nan=0.0)\n",
    "S33 = np.nan_to_num(S[:,:,:,2,2], nan=0.0)\n",
    "S23 = np.nan_to_num(S[:,:,:,1,2], nan=0.0)\n",
    "S13 = np.nan_to_num(S[:,:,:,0,2], nan=0.0)\n",
    "\n",
    "# Interpolate elements of rate of strain tensor (per default: cubic)\n",
    "interpS11 = RegularGridInterpolator((Y_domain[:,0,0], X_domain[0,:,0], Z_domain[0,0,:]), S11)\n",
    "interpS12 = RegularGridInterpolator((Y_domain[:,0,0], X_domain[0,:,0], Z_domain[0,0,:]), S12)\n",
    "interpS22 = RegularGridInterpolator((Y_domain[:,0,0], X_domain[0,:,0], Z_domain[0,0,:]), S22)\n",
    "interpS33 = RegularGridInterpolator((Y_domain[:,0,0], X_domain[0,:,0], Z_domain[0,0,:]), S33)\n",
    "interpS23 = RegularGridInterpolator((Y_domain[:,0,0], X_domain[0,:,0], Z_domain[0,0,:]), S23)\n",
    "interpS13 = RegularGridInterpolator((Y_domain[:,0,0], X_domain[0,:,0], Z_domain[0,0,:]), S13)"
   ]
  },
  {
   "cell_type": "code",
   "execution_count": 8,
   "metadata": {
    "ExecuteTime": {
     "end_time": "2022-01-09T18:48:09.711497Z",
     "start_time": "2022-01-09T18:48:09.696179Z"
    }
   },
   "outputs": [
    {
     "ename": "ModuleNotFoundError",
     "evalue": "No module named 'ipynb.fs.defs.RK4_tensorlines'",
     "output_type": "error",
     "traceback": [
      "\u001b[0;31m---------------------------------------------------------------------------\u001b[0m",
      "\u001b[0;31mModuleNotFoundError\u001b[0m                       Traceback (most recent call last)",
      "\u001b[0;32m<timed exec>\u001b[0m in \u001b[0;36m<module>\u001b[0;34m\u001b[0m\n",
      "\u001b[0;31mModuleNotFoundError\u001b[0m: No module named 'ipynb.fs.defs.RK4_tensorlines'"
     ]
    }
   ],
   "source": [
    "%%time\n",
    "# import math tools\n",
    "from math import atan, acos, asin, cos, sin, sqrt\n",
    "\n",
    "# Import package to compute tensorline equation using ODE solver\n",
    "from ipynb.fs.defs.tensorline_equation import _tensorline_equation\n",
    "\n",
    "# Import package to compute tensorlines by re-orienting the vectorfield on the fly\n",
    "from ipynb.fs.defs.RK4_tensorlines import _RK4_tensorlines\n",
    "\n",
    "# Import package to solve ODE\n",
    "from scipy.integrate import solve_ivp\n",
    "\n",
    "# Import package for parallel computing\n",
    "from joblib import Parallel, delayed\n",
    "\n",
    "# import plotting library\n",
    "import matplotlib.pyplot as plt\n",
    "\n",
    "# define integration interval of dummy variable 's'\n",
    "t = [0, 10]\n",
    "t_eval = np.linspace(t[0], t[-1], 10000)\n",
    "\n",
    "# initial alignment of eigenvector\n",
    "init_orientation = np.array([0, 0, 1])\n",
    "\n",
    "# Import package to compute eigenvalues of 3x3 matrix\n",
    "from ipynb.fs.defs.eigen import eigen\n",
    "\n",
    "# define eigenvector_field \n",
    "# {0: eigenvector field of maximum eigenvalue}\n",
    "# {1: eigenvector field of middle eigenvalue}\n",
    "# {2: eigenvector field of minimum eigenvalue}\n",
    "idx_eigenvector = 1\n",
    "\n",
    "counter = 0\n",
    "x_0 = X_domain[::5,::5,0].ravel()\n",
    "y_0 = Y_domain[::5,::5,0].ravel()\n",
    "z_0 = 0\n",
    "\n",
    "def terminate_ODE(t, x_phi, interpS11, interpS12, interpS13, interpS22, interpS23, interpS33, aux_grid, idx_eigenvector):\n",
    "                \n",
    "    x = x_phi[0]%(2*pi)\n",
    "    y = x_phi[1]%(2*pi)\n",
    "    z = x_phi[2]%(2*pi)\n",
    "    \n",
    "    # compute gradient of velocity\n",
    "    grad_vel = gradient_velocity(0, np.array([x, y, z]), X, Y, Z, Interpolant, periodic, bool_unsteady, aux_grid)\n",
    "    \n",
    "    # compute rate of strain\n",
    "    S = RateStrain(grad_vel)\n",
    "    \n",
    "    # compute eigenvalues/eigenvectors of rate of strain\n",
    "    lam = eigen(S)[0]\n",
    "            \n",
    "    event = abs(lam[0]-lam[1]) <= .01 or abs(lam[0]-lam[2]) <= .01 or abs(lam[1]-lam[2]) <= .01\n",
    "                \n",
    "    return 1-event\n",
    "            \n",
    "terminate_ODE.terminal = True\n",
    "\n",
    "def compute_e2(i):\n",
    "            \n",
    "    # initial position of particle\n",
    "    xinit = np.array([x_0[i], y_0[i], z_0])\n",
    "            \n",
    "    # compute gradient of velocity\n",
    "    grad_vel = gradient_velocity(t[0], xinit, X, Y, Z, Interpolant, periodic, bool_unsteady, aux_grid)\n",
    "        \n",
    "    # compute rate of strain\n",
    "    S = RateStrain(grad_vel)\n",
    "            \n",
    "    # compute inital eigenvector orientation\n",
    "    lamda, eigenv = eigen(S)\n",
    "    initial_vector = eigenv[:,idx_eigenvector]\n",
    "    if np.sign(init_orientation@initial_vector) < 0:\n",
    "        initial_vector = -initial_vector\n",
    "            \n",
    "    if initial_vector[0] < 0 or (initial_vector[0] < 0 and initial_vector[1] < 0):\n",
    "        phi0 = atan(initial_vector[1]/initial_vector[0])+pi\n",
    "    else:\n",
    "        phi0 = atan(initial_vector[1]/initial_vector[0])\n",
    "    theta0 = acos(initial_vector[2])\n",
    "    \n",
    "    x0 = np.array([x_0[i], y_0[i], z_0, phi0, theta0])\n",
    "            \n",
    "    # solve ODE for tensorlines maximum eigenvector field of rate of strain\n",
    "    solODE = solve_ivp(_tensorline_equation, t, x0, 'RK45', t_eval, rtol=1e-5, atol=1e-5, args=(interpS11, interpS12, interpS13, interpS22, interpS23, interpS33, aux_grid, idx_eigenvector))\n",
    "    \n",
    "    return solODE\n",
    "\n",
    "solODE = Parallel(n_jobs=Ncores, verbose = 0)(delayed(compute_e2)(i) for i in tqdm(range(len(x_0))))\n"
   ]
  },
  {
   "cell_type": "code",
   "execution_count": 9,
   "metadata": {
    "ExecuteTime": {
     "end_time": "2022-01-09T18:48:09.723716Z",
     "start_time": "2022-01-09T18:48:09.713107Z"
    }
   },
   "outputs": [
    {
     "ename": "NameError",
     "evalue": "name 'solODE' is not defined",
     "output_type": "error",
     "traceback": [
      "\u001b[0;31m---------------------------------------------------------------------------\u001b[0m",
      "\u001b[0;31mNameError\u001b[0m                                 Traceback (most recent call last)",
      "\u001b[0;32m<ipython-input-9-7166d47d88f6>\u001b[0m in \u001b[0;36m<module>\u001b[0;34m\u001b[0m\n\u001b[1;32m      1\u001b[0m \u001b[0mx_intersec_pos\u001b[0m\u001b[0;34m,\u001b[0m \u001b[0my_intersec_pos\u001b[0m\u001b[0;34m,\u001b[0m \u001b[0mx_intersec_neg\u001b[0m\u001b[0;34m,\u001b[0m \u001b[0my_intersec_neg\u001b[0m \u001b[0;34m=\u001b[0m \u001b[0;34m[\u001b[0m\u001b[0;34m]\u001b[0m\u001b[0;34m,\u001b[0m \u001b[0;34m[\u001b[0m\u001b[0;34m]\u001b[0m\u001b[0;34m,\u001b[0m \u001b[0;34m[\u001b[0m\u001b[0;34m]\u001b[0m\u001b[0;34m,\u001b[0m \u001b[0;34m[\u001b[0m\u001b[0;34m]\u001b[0m\u001b[0;34m\u001b[0m\u001b[0;34m\u001b[0m\u001b[0m\n\u001b[0;32m----> 2\u001b[0;31m \u001b[0;32mfor\u001b[0m \u001b[0msol\u001b[0m \u001b[0;32min\u001b[0m \u001b[0msolODE\u001b[0m\u001b[0;34m:\u001b[0m\u001b[0;34m\u001b[0m\u001b[0;34m\u001b[0m\u001b[0m\n\u001b[0m\u001b[1;32m      3\u001b[0m     \u001b[0mx\u001b[0m \u001b[0;34m=\u001b[0m \u001b[0msol\u001b[0m\u001b[0;34m.\u001b[0m\u001b[0my\u001b[0m\u001b[0;34m[\u001b[0m\u001b[0;36m0\u001b[0m\u001b[0;34m,\u001b[0m\u001b[0;34m:\u001b[0m\u001b[0;34m]\u001b[0m\u001b[0;34m%\u001b[0m\u001b[0;34m(\u001b[0m\u001b[0;36m2\u001b[0m\u001b[0;34m*\u001b[0m\u001b[0mpi\u001b[0m\u001b[0;34m)\u001b[0m\u001b[0;34m\u001b[0m\u001b[0;34m\u001b[0m\u001b[0m\n\u001b[1;32m      4\u001b[0m     \u001b[0my\u001b[0m \u001b[0;34m=\u001b[0m \u001b[0msol\u001b[0m\u001b[0;34m.\u001b[0m\u001b[0my\u001b[0m\u001b[0;34m[\u001b[0m\u001b[0;36m1\u001b[0m\u001b[0;34m,\u001b[0m\u001b[0;34m:\u001b[0m\u001b[0;34m]\u001b[0m\u001b[0;34m%\u001b[0m\u001b[0;34m(\u001b[0m\u001b[0;36m2\u001b[0m\u001b[0;34m*\u001b[0m\u001b[0mpi\u001b[0m\u001b[0;34m)\u001b[0m\u001b[0;34m\u001b[0m\u001b[0;34m\u001b[0m\u001b[0m\n\u001b[1;32m      5\u001b[0m     \u001b[0mz\u001b[0m \u001b[0;34m=\u001b[0m \u001b[0msol\u001b[0m\u001b[0;34m.\u001b[0m\u001b[0my\u001b[0m\u001b[0;34m[\u001b[0m\u001b[0;36m2\u001b[0m\u001b[0;34m,\u001b[0m\u001b[0;34m:\u001b[0m\u001b[0;34m]\u001b[0m\u001b[0;34m%\u001b[0m\u001b[0;34m(\u001b[0m\u001b[0;36m2\u001b[0m\u001b[0;34m*\u001b[0m\u001b[0mpi\u001b[0m\u001b[0;34m)\u001b[0m\u001b[0;34m\u001b[0m\u001b[0;34m\u001b[0m\u001b[0m\n",
      "\u001b[0;31mNameError\u001b[0m: name 'solODE' is not defined"
     ]
    }
   ],
   "source": [
    "x_intersec_pos, y_intersec_pos, x_intersec_neg, y_intersec_neg = [], [], [], []\n",
    "for sol in solODE:\n",
    "    x = sol.y[0,:]%(2*pi)\n",
    "    y = sol.y[1,:]%(2*pi)\n",
    "    z = sol.y[2,:]%(2*pi)\n",
    "    phi = sol.y[3,:]%(2*pi)\n",
    "    theta = sol.y[4,:]%(pi)\n",
    "    #ax.scatter(x[0], y[0], marker = \"^\", edgecolor = \"k\", facecolor = \"k\")\n",
    "    for j in range(len(x)-1):\n",
    "        if z[j+1] - z[j] > 1:\n",
    "            x_intersec_pos.append((x[j]+x[j+1])/2)\n",
    "            y_intersec_pos.append((y[j]+y[j+1])/2)\n",
    "        elif z[j+1] - z[j] < -1:\n",
    "            x_intersec_neg.append((x[j]+x[j+1])/2)\n",
    "            y_intersec_neg.append((y[j]+y[j+1])/2)\n",
    "# plot intersection of trajectories with plane z=0\n",
    "fig = plt.figure(figsize = (10, 6), dpi = 400)\n",
    "ax = plt.axes()\n",
    "ax.scatter(x_intersec_pos, y_intersec_pos, c = \"b\", label = r'aligned with (0,0,-1)')\n",
    "ax.scatter(x_intersec_neg, y_intersec_neg, c = \"r\", label = r'aligned with (0,0,1)')\n",
    "ax.set_title(\"Intersection of trajectories with z=0\")\n",
    "\n",
    "ax.set_ylabel(\"y\")\n",
    "ax.set_xlabel(\"x\")\n",
    "plt.legend(loc = \"upper right\")\n",
    "plt.show()"
   ]
  },
  {
   "cell_type": "code",
   "execution_count": null,
   "metadata": {
    "ExecuteTime": {
     "end_time": "2022-01-09T18:48:09.725216Z",
     "start_time": "2022-01-09T18:48:09.178Z"
    },
    "scrolled": false
   },
   "outputs": [],
   "source": [
    "# plot intersection of trajectories with plane z=0\n",
    "fig = plt.figure(figsize = (10, 6), dpi = 400)\n",
    "ax = plt.axes(projection = '3d')\n",
    "for sol in solODE:\n",
    "    x = sol.y[0,:]%(2*pi)\n",
    "    y = sol.y[1,:]%(2*pi)\n",
    "    z = sol.y[2,:]%(2*pi)\n",
    "    phi = sol.y[3,:]%(2*pi)\n",
    "    theta = sol.y[4,:]%(pi)\n",
    "    ax.scatter(x, y, z)\n",
    "    \n",
    "ax.set_title(\"Trajectories in 3D\")\n",
    "ax.set_xlabel(\"x\")\n",
    "ax.set_ylabel(\"y\")\n",
    "ax.set_zlabel(\"z\")\n",
    "plt.show()"
   ]
  },
  {
   "cell_type": "code",
   "execution_count": null,
   "metadata": {},
   "outputs": [],
   "source": []
  }
 ],
 "metadata": {
  "kernelspec": {
   "display_name": "Python 3",
   "language": "python",
   "name": "python3"
  },
  "language_info": {
   "codemirror_mode": {
    "name": "ipython",
    "version": 3
   },
   "file_extension": ".py",
   "mimetype": "text/x-python",
   "name": "python",
   "nbconvert_exporter": "python",
   "pygments_lexer": "ipython3",
   "version": "3.7.12"
  },
  "toc": {
   "base_numbering": 1,
   "nav_menu": {},
   "number_sections": true,
   "sideBar": true,
   "skip_h1_title": false,
   "title_cell": "Table of Contents",
   "title_sidebar": "Contents",
   "toc_cell": false,
   "toc_position": {},
   "toc_section_display": true,
   "toc_window_display": false
  }
 },
 "nbformat": 4,
 "nbformat_minor": 4
}
