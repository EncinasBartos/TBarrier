{
 "cells": [
  {
   "cell_type": "markdown",
   "id": "ffd45d7f",
   "metadata": {},
   "source": [
    "We start by adding the necessary folders to the current working path."
   ]
  },
  {
   "cell_type": "code",
   "execution_count": null,
   "id": "fc2a1f9e",
   "metadata": {
    "ExecuteTime": {
     "end_time": "2022-03-04T15:34:17.708047Z",
     "start_time": "2022-03-04T15:34:17.702515Z"
    },
    "code_folding": [
     0
    ]
   },
   "outputs": [],
   "source": [
    "# import sys, os\n",
    "import sys, os\n",
    "\n",
    "# get current directory\n",
    "path = os.getcwd()\n",
    "\n",
    "# get parent directory\n",
    "parent_directory = os.path.sep.join(path.split(os.path.sep)[:-4])\n",
    "\n",
    "# add utils folder to current working path\n",
    "sys.path.append(parent_directory+\"/subfunctions/utils\")\n",
    "\n",
    "# add integration folder to current working path\n",
    "sys.path.append(parent_directory+\"/subfunctions/integration\")\n",
    "\n",
    "# add 'TRA3D' folder to current working path in order to access the functions\n",
    "sys.path.append(parent_directory+\"/demos/AdvectiveBarriers/TRA3D\")"
   ]
  },
  {
   "cell_type": "markdown",
   "id": "dfbfd6a7",
   "metadata": {},
   "source": [
    "# Overview\n",
    "\n",
    "In the following notebook we compute the $ \\mathrm{\\overline{TRA}} $ on the three-dimensional, steady ABC-flow. The velocity field is given as discrete dataset defined over the 3D meshgrid $ [0,2\\pi]^3 $. The notebook is structured as follows:\n",
    "\n",
    "1. Import data from the file 'ABCsteady.mat' stored in the folder 'data/ABC'.\n",
    "<br />\n",
    "2. Define computational parameters and data.\n",
    " <br />\n",
    "3. Define spatio-temporal domain.\n",
    " <br />\n",
    "4. Define integration scheme for computing flow map (=trajectories) and derivative of flow map (=velocities).\n",
    " <br />\n",
    "5. $ \\mathrm{\\overline{TRA}} $:\n",
    "\n",
    "    * Compute velocity along trajectories $ \\lbrace \\mathbf{\\dot{x}}(t_{i}) \\rbrace_{i=0}^N $ over the time interval $ [t_0, t_N] $.\n",
    "    <br />\n",
    "    \n",
    "    * Compute $ \\mathrm{\\overline{TRA}} $ from velocity along trajectories:\n",
    "    \n",
    "    \\begin{equation}\n",
    "    \\mathrm{\\overline{TRA}}_{t_0}^{t_N}(\\mathbf{x}_0) = \\dfrac{1}{t_N-t_0} \\sum_{i = 0}^{N-1} \\cos^{-1}\\dfrac{\\langle \\mathbf{\\dot{x}}(t_i), \\mathbf{\\dot{x}}(t_{i+1}) \\rangle}{|\\mathbf{\\dot{x}}(t_i)||\\mathbf{\\dot{x}}(t_{i+1})|}\n",
    "    \\end{equation}"
   ]
  },
  {
   "cell_type": "code",
   "execution_count": null,
   "id": "6e2cfb66",
   "metadata": {
    "ExecuteTime": {
     "end_time": "2022-03-04T15:34:18.242048Z",
     "start_time": "2022-03-04T15:34:17.727349Z"
    },
    "code_folding": [
     0
    ]
   },
   "outputs": [],
   "source": [
    "# import scipy\n",
    "import scipy.io as sio\n",
    "\n",
    "# Import velocity data from file in data-folder\n",
    "mat_file = sio.loadmat('../../../../data/ABC/ABCsteady.mat')\n",
    "\n",
    "U = mat_file['u'] # array (NY, NX, NZ)\n",
    "V = mat_file['v'] # array (NY, NX, NZ)\n",
    "W = mat_file['w'] # array (NY, NX, NZ)\n",
    "x = mat_file['x'] # array (1, NX)\n",
    "y = mat_file['y'] # array (1, NY)\n",
    "z = mat_file['z'] # array (1, NZ))"
   ]
  },
  {
   "cell_type": "markdown",
   "id": "7c0c4c58",
   "metadata": {},
   "source": [
    "# Computational parameters\n",
    "\n",
    "Here we define the computational parameters."
   ]
  },
  {
   "cell_type": "code",
   "execution_count": null,
   "id": "25fd59a5",
   "metadata": {
    "ExecuteTime": {
     "end_time": "2022-03-04T15:34:18.254569Z",
     "start_time": "2022-03-04T15:34:18.246277Z"
    },
    "code_folding": [
     0
    ]
   },
   "outputs": [],
   "source": [
    "# import numpy\n",
    "import numpy as np\n",
    "\n",
    "# Number of cores for parallel computing\n",
    "Ncores = 7 # int\n",
    "\n",
    "# Periodic boundary conditions\n",
    "periodic_x = True # bool\n",
    "periodic_y = True # bool\n",
    "periodic_z = True # bool\n",
    "periodic = [periodic_x, periodic_y, periodic_z]\n",
    "\n",
    "# Unsteady velocity field\n",
    "bool_unsteady = False # bool\n",
    "\n",
    "# Defined domain\n",
    "defined_domain = np.isfinite(U).astype(int) # array (NY, NX, NZ)\n",
    "\n",
    "## Compute meshgrid of dataset\n",
    "X, Y, Z = np.meshgrid(x, y, z) # array (NY, NX), array (NY, NX, NZ)"
   ]
  },
  {
   "cell_type": "markdown",
   "id": "34288b1d",
   "metadata": {},
   "source": [
    "# Spatio-temporal domain\n",
    "\n",
    "Here we define the spatio-temporal domain over which to consider the dynamical system."
   ]
  },
  {
   "cell_type": "code",
   "execution_count": null,
   "id": "eb93d5cf",
   "metadata": {
    "ExecuteTime": {
     "end_time": "2022-03-04T15:34:18.373201Z",
     "start_time": "2022-03-04T15:34:18.262040Z"
    },
    "code_folding": [
     0
    ]
   },
   "outputs": [],
   "source": [
    "# Initial time\n",
    "t0 = 0 # float\n",
    "\n",
    "# Final time\n",
    "tN = 10 # float\n",
    "\n",
    "# Time step-size\n",
    "dt = 0.1 # float\n",
    "\n",
    "# NOTE: For computing the backward FTLE field tN < t0 and dt < 0.\n",
    "\n",
    "time = np.arange(t0, tN+dt, dt) # shape (Nt,)\n",
    "\n",
    "# Length of time interval\n",
    "lenT = abs(tN-t0) # float\n",
    "\n",
    "# boundaries\n",
    "xmin = 0 # float\n",
    "xmax = 2*np.pi # float\n",
    "ymin = 0 # float\n",
    "ymax = 2*np.pi # float\n",
    "zmin = 0 # float\n",
    "zmax = 2*np.pi # float\n",
    "\n",
    "# Resolution of meshgrid\n",
    "Ny = 200 # int\n",
    "Nx = 200 # int\n",
    "Nz = 200 # int\n",
    "\n",
    "x_domain = np.linspace(xmin, xmax, Nx, endpoint = True) # array (Nx, )\n",
    "y_domain = np.linspace(ymin, ymax, Ny, endpoint = True) # array (Ny, )\n",
    "z_domain = np.linspace(zmin, zmax, Nz, endpoint = True) # array (Nz, )\n",
    "\n",
    "dx = x_domain[1]-x_domain[0] # float\n",
    "dy = y_domain[1]-y_domain[0] # float\n",
    "dz = z_domain[1]-z_domain[0] # float\n",
    "\n",
    "X_domain, Y_domain, Z_domain = np.meshgrid(x_domain, y_domain, z_domain) # array (Ny, Nx, Nz)\n",
    "\n",
    "Ny = X_domain.shape[0] # int\n",
    "Nx = X_domain.shape[1] # int\n",
    "Nz = X_domain.shape[2] # int"
   ]
  },
  {
   "cell_type": "markdown",
   "id": "0000b8eb",
   "metadata": {},
   "source": [
    "# Velocity Interpolation\n",
    "\n",
    "In order to evaluate the velocity field at arbitrary locations, we interpolate the discrete velocity data. The interpolation with respect to time and space is always linear."
   ]
  },
  {
   "cell_type": "code",
   "execution_count": null,
   "id": "5f7dea5c",
   "metadata": {
    "ExecuteTime": {
     "end_time": "2022-03-04T15:34:18.499943Z",
     "start_time": "2022-03-04T15:34:18.379820Z"
    },
    "code_folding": [
     0
    ]
   },
   "outputs": [],
   "source": [
    "# Import interpolation function for unsteady flow field\n",
    "from ipynb.fs.defs.Interpolant import interpolant_steady\n",
    "\n",
    "# Set nan values to zero (in case there are any) so that we can apply interpolant. \n",
    "# Interpolant does not work if the array contains nan values. \n",
    "U[np.isnan(U)] = 0\n",
    "V[np.isnan(V)] = 0\n",
    "W[np.isnan(W)] = 0\n",
    "\n",
    "# Interpolate velocity data using cubic spatial interpolation\n",
    "Interpolant = interpolant_steady(X, Y, Z, U, V, W)\n",
    "\n",
    "Interpolant_u = Interpolant[0] # RectangularBivariateSpline-object\n",
    "Interpolant_v = Interpolant[1] # RectangularBivariateSpline-object\n",
    "Interpolant_w = Interpolant[2] # RectangularBivariateSpline-object"
   ]
  },
  {
   "cell_type": "markdown",
   "id": "c6eee15c",
   "metadata": {},
   "source": [
    "# $ \\mathrm{\\overline{TRA}} $\n",
    "\n",
    "The computation of the $ \\mathrm{\\overline{TRA}} $ is not done over the 3D meshgrid but only over the 2D faces of the cube $ [0,2\\pi]^3 $.\n",
    "We iterate over all initial conditions on the faces of the cube and calculate the velocity along the Lagrangian particle trajectories. We then compute the $ \\mathrm{\\overline{TRA}} $."
   ]
  },
  {
   "cell_type": "code",
   "execution_count": null,
   "id": "80fc485e",
   "metadata": {
    "ExecuteTime": {
     "end_time": "2022-03-04T15:34:18.560425Z",
     "start_time": "2022-03-04T15:34:18.503534Z"
    },
    "code_folding": [
     0,
     9,
     24
    ],
    "run_control": {
     "marked": true
    }
   },
   "outputs": [],
   "source": [
    "# Import function to compute trajectory/velocity along trajectory\n",
    "from ipynb.fs.defs.integration_dFdt import integration_dFdt\n",
    "\n",
    "# Import function to compute trajectory rotation average (TRA)\n",
    "from ipynb.fs.defs.TRA import _TRA\n",
    "\n",
    "# Import package for parallel computing\n",
    "from joblib import Parallel, delayed\n",
    "\n",
    "def compute_TRA(x0, y0, z0):\n",
    "    \n",
    "    X0 = np.array([x0, y0, z0]) # array (3, Nx*Ny*Nz)\n",
    "    \n",
    "    DFdt = integration_dFdt(time, X0, X, Y, Z, Interpolant_u, Interpolant_v, Interpolant_w, periodic, bool_unsteady)[1] # array (Nt, 3, Nx*Ny*Nz)\n",
    "    \n",
    "    TRA = []\n",
    "    \n",
    "    for i in range(DFdt.shape[-1]):\n",
    "            \n",
    "        TRA.append(_TRA(DFdt[:,:,i].transpose(), time[-1]))\n",
    "    \n",
    "    return TRA\n",
    "\n",
    "# Split x0,y0,z0 into 'Ncores' equal batches for parallel computing\n",
    "def split(a, n):\n",
    "    k, m = divmod(len(a), n)\n",
    "    return (a[i*k+min(i, m):(i+1)*k+min(i+1, m)] for i in range(n))"
   ]
  },
  {
   "cell_type": "markdown",
   "id": "ca48478d",
   "metadata": {},
   "source": [
    "## XY-plane\n",
    "\n",
    "Compute $ \\mathrm{\\overline{TRA}} $ on XY-plane."
   ]
  },
  {
   "cell_type": "code",
   "execution_count": null,
   "id": "6a450104",
   "metadata": {
    "ExecuteTime": {
     "end_time": "2022-03-04T15:34:29.749260Z",
     "start_time": "2022-03-04T15:34:18.563436Z"
    },
    "code_folding": [
     0
    ]
   },
   "outputs": [],
   "source": [
    "# XY-plane\n",
    "x0_xy = X_domain[:,:,-1].ravel() # array (Nx*Ny*Nz, )\n",
    "y0_xy = Y_domain[:,:,-1].ravel() # array (Nx*Ny*Nz, )\n",
    "z0_xy = 0*np.ones(Nx*Ny,) # array (Nx*Ny*Nz, )\n",
    "\n",
    "x0_batch = list(split(x0_xy, Ncores)) # list (Nx*Ny*Nz)\n",
    "y0_batch = list(split(y0_xy, Ncores)) # list (Nx*Ny*Nz)\n",
    "z0_batch = list(split(z0_xy, Ncores)) # list (Nx*Ny*Nz)\n",
    "\n",
    "# Parallel computing\n",
    "results = Parallel(n_jobs=Ncores, verbose = 2)(delayed(compute_TRA)(x0_batch[i], y0_batch[i], z0_batch[i]) for i in range(len(x0_batch)))\n",
    "\n",
    "# Extract results of omega computation on xy-plane\n",
    "TRA_xy = results[0]\n",
    "for res in results[1:]:\n",
    "    TRA_xy = np.append(TRA_xy, res, axis = -1)\n",
    "\n",
    "# Reshape arrays\n",
    "X0_xy = np.array(x0_xy).reshape(Ny,Nx) # array (Ny, Nx)\n",
    "Y0_xy = np.array(y0_xy).reshape(Ny,Nx) # array (Ny, Nx)\n",
    "Z0_xy = np.array(z0_xy).reshape(Ny,Nx) # array (Ny, Nx)\n",
    "TRA_xy = np.array(TRA_xy).reshape(Ny,Nx) # array (Nt, Ny, Nx)"
   ]
  },
  {
   "cell_type": "markdown",
   "id": "f02c231b",
   "metadata": {},
   "source": [
    "## XZ-plane\n",
    "\n",
    "Compute $ \\mathrm{\\overline{TRA}} $ on XZ-plane."
   ]
  },
  {
   "cell_type": "code",
   "execution_count": null,
   "id": "a497cf97",
   "metadata": {
    "ExecuteTime": {
     "end_time": "2022-03-04T15:34:40.271498Z",
     "start_time": "2022-03-04T15:34:29.752829Z"
    },
    "code_folding": [
     0
    ]
   },
   "outputs": [],
   "source": [
    "# XZ-plane\n",
    "x0_xz = X_domain[0,:,:].ravel() # array (Nx*Ny*Nz, )\n",
    "y0_xz = 0*np.ones(Nx*Nz,) # array (Nx*Ny*Nz, )\n",
    "z0_xz = Z_domain[0,:,:].ravel() # array (Nx*Ny*Nz, )\n",
    "\n",
    "x0_batch = list(split(x0_xz, Ncores)) # list (Nx*Ny*Nz)\n",
    "y0_batch = list(split(y0_xz, Ncores)) # list (Nx*Ny*Nz)\n",
    "z0_batch = list(split(z0_xz, Ncores)) # list (Nx*Ny*Nz)\n",
    "\n",
    "# Parallel computing\n",
    "results = Parallel(n_jobs=Ncores, verbose = 2)(delayed(compute_TRA)(x0_batch[i], y0_batch[i], z0_batch[i]) for i in range(len(x0_batch)))\n",
    "\n",
    "# Extract results of omega computation on xz-plane\n",
    "TRA_xz = results[0]\n",
    "for res in results[1:]:\n",
    "    TRA_xz = np.append(TRA_xz, res, axis = -1)\n",
    "    \n",
    "# Reshape arrays\n",
    "X0_xz = np.array(x0_xz).reshape(Nz,Nx) # array (Nz, Nx)\n",
    "Y0_xz = np.array(y0_xz).reshape(Nz,Nx) # array (Nz, Nx)\n",
    "Z0_xz = np.array(z0_xz).reshape(Nz,Nx) # array (Nz, Nx)\n",
    "TRA_xz = np.array(TRA_xz).reshape(Nz,Nx) # array (Nt, Nz, Nx)"
   ]
  },
  {
   "cell_type": "markdown",
   "id": "d996a9e2",
   "metadata": {},
   "source": [
    "## YZ-plane\n",
    "\n",
    "Compute $ \\mathrm{\\overline{TRA}} $ on YZ-plane."
   ]
  },
  {
   "cell_type": "code",
   "execution_count": null,
   "id": "97033bec",
   "metadata": {
    "ExecuteTime": {
     "end_time": "2022-03-04T15:34:50.993690Z",
     "start_time": "2022-03-04T15:34:40.278766Z"
    },
    "code_folding": [
     0
    ],
    "scrolled": false
   },
   "outputs": [],
   "source": [
    "# YZ-plane\n",
    "x0_yz = 0*np.ones(Ny*Nz,) # array (Nx*Ny*Nz, )\n",
    "y0_yz = Y_domain[:,0,:].ravel() # array (Nx*Ny*Nz, )\n",
    "z0_yz = Z_domain[:,0,:].ravel() # array (Nx*Ny*Nz, )\n",
    "    \n",
    "x0_batch = list(split(x0_yz, Ncores)) # list (Nx*Ny*Nz)\n",
    "y0_batch = list(split(y0_yz, Ncores)) # list (Nx*Ny*Nz)\n",
    "z0_batch = list(split(z0_yz, Ncores)) # list (Nx*Ny*Nz)\n",
    "\n",
    "# Parallel computing\n",
    "results = Parallel(n_jobs=Ncores, verbose = 2)(delayed(compute_TRA)(x0_batch[i], y0_batch[i], z0_batch[i]) for i in range(len(x0_batch)))\n",
    "\n",
    "# Extract results of omega computation on yz-plane\n",
    "TRA_yz = results[0]\n",
    "for res in results[1:]:\n",
    "    TRA_yz = np.append(TRA_yz, res, axis = -1)\n",
    "\n",
    "# Reshape arrays\n",
    "X0_yz = np.array(x0_yz).reshape(Nz,Ny) # array (Nt, Nz, Ny)\n",
    "Y0_yz = np.array(y0_yz).reshape(Nz,Ny) # array (Nt, Nz, Ny)\n",
    "Z0_yz = np.array(z0_yz).reshape(Nz,Ny) # array (Nt, Nz, Ny)\n",
    "TRA_yz = np.array(TRA_yz).reshape(Nz,Ny) # array (Nz, Ny)"
   ]
  },
  {
   "cell_type": "code",
   "execution_count": null,
   "id": "8fc3bb7a",
   "metadata": {
    "ExecuteTime": {
     "end_time": "2022-03-04T15:34:57.643663Z",
     "start_time": "2022-03-04T15:34:50.998385Z"
    },
    "code_folding": [
     0,
     21
    ]
   },
   "outputs": [],
   "source": [
    "############################################ PLOT RESULTS ############################################\n",
    "\n",
    "# Import plotly for 3D figures\n",
    "from plotly import graph_objs as go\n",
    "\n",
    "# define minimum and maximum values for colorbar\n",
    "min_value = min(np.min(TRA_yz),min(np.min(TRA_xy), np.min(TRA_xz)))\n",
    "max_value = max(np.max(TRA_yz),max(np.max(TRA_xy), np.max(TRA_xz)))\n",
    "\n",
    "# create figure\n",
    "fig = go.Figure(data=[go.Surface(x = X0_xy, y = Y0_xy, z = Z0_xy, surfacecolor = TRA_xy, showscale = True, colorscale='rainbow', cmin=min_value, cmax=max_value)])\n",
    "fig.add_trace(go.Surface(x = X0_xz, y = Y0_xz, z = Z0_xz, surfacecolor = TRA_xz, showscale = False, colorscale='rainbow', cmin=min_value, cmax=max_value))\n",
    "fig.add_trace(go.Surface(x = X0_yz, y = Y0_yz, z = Z0_yz, surfacecolor = TRA_yz, showscale = False, colorscale='rainbow', cmin=min_value, cmax=max_value))\n",
    "fig.add_trace(go.Surface(x = X0_xy, y = Y0_xy, z = Z0_xy+2*np.pi, surfacecolor = TRA_xy, showscale = False, colorscale='rainbow', cmin=min_value, cmax=max_value))\n",
    "fig.add_trace(go.Surface(x = X0_xz, y = Y0_xz+2*np.pi, z = Z0_xz, surfacecolor = TRA_xz, showscale = False, colorscale='rainbow', cmin=min_value, cmax=max_value))\n",
    "fig.add_trace(go.Surface(x = X0_yz+2*np.pi, y = Y0_yz, z = Z0_yz, surfacecolor = TRA_yz, showscale = False, colorscale='rainbow', cmin=min_value, cmax=max_value))\n",
    "\n",
    "# camera\n",
    "camera = dict(eye=dict(x=-1.45,y=-1.45,z=1.7))\n",
    "fig.update_layout(scene_camera=camera)\n",
    "\n",
    "fig.update_layout(\n",
    "    title={\n",
    "        'text': f'$\\mathrm{{\\overline{{TRA}}}}_{t0}^{{{tN}}}$',\n",
    "        'y':0.9,\n",
    "        'x':0.5,\n",
    "        'xanchor': 'center',\n",
    "        'yanchor': 'top'})\n",
    "\n",
    "fig.show()"
   ]
  },
  {
   "cell_type": "markdown",
   "id": "0c96b32d",
   "metadata": {},
   "source": [
    "Regions of high $ \\mathrm{\\overline{TRA}}_{t_0}^{t_N} $ are linked to vortical flow structures. Note that the $ \\mathrm{\\overline{TRA}} $ highlights the same vortical flow areas as the [LAVD](../../LAVD3D/Main/LAVDABCsteady.ipynb). In order to test the ability of the $ \\mathrm{\\overline{TRA}} $ to extract vortical flow regions even in a sparse data setting, we randomly progressively downsample the trajectory data."
   ]
  },
  {
   "cell_type": "markdown",
   "id": "6e58bf17",
   "metadata": {},
   "source": [
    "# Random subsampling\n",
    "\n",
    "As shown in the following figures, $ \\mathrm{\\overline{TRA}} $ is able to capture the major lagrangian eddies even at very low resolutions."
   ]
  },
  {
   "cell_type": "markdown",
   "id": "3eacd106",
   "metadata": {},
   "source": [
    "## 10% subsampling"
   ]
  },
  {
   "cell_type": "code",
   "execution_count": null,
   "id": "6b466d2d",
   "metadata": {
    "ExecuteTime": {
     "end_time": "2022-03-04T15:35:45.544107Z",
     "start_time": "2022-03-04T15:34:57.647156Z"
    },
    "code_folding": [
     0
    ]
   },
   "outputs": [],
   "source": [
    "# import random number generator\n",
    "import random\n",
    "\n",
    "# 10% subsampling\n",
    "rdn10 = random.sample(range(0, Nx*Ny), int(Nx*Ny/10))\n",
    "\n",
    "# Subsample initial grid and TRA field (=subsample trajectories) on XY-plane\n",
    "x_XY_subsampled10 = X0_xy.ravel()[rdn10] # array (Nx*Ny/10, )\n",
    "y_XY_subsampled10 = Y0_xy.ravel()[rdn10] # array (Nx*Ny/10, )\n",
    "TRA_XY_subsampled10 = TRA_xy.ravel()[rdn10] # array (Nx*Ny/10, )\n",
    "\n",
    "# Subsample initial grid and TRA field (=subsample trajectories) on XZ-plane\n",
    "x_XZ_subsampled10 = X0_xz.ravel()[rdn10] # array (Nx*Ny/10, )\n",
    "y_XZ_subsampled10 = Z0_xz.ravel()[rdn10] # array (Nx*Ny/10, )\n",
    "TRA_XZ_subsampled10 = TRA_xz.ravel()[rdn10] # array (Nx*Ny/10, )\n",
    "\n",
    "# Subsample initial grid and TRA field (=subsample trajectories) on YZ-plane\n",
    "x_YZ_subsampled10 = Y0_yz.ravel()[rdn10] # array (Nx*Ny/10, )\n",
    "y_YZ_subsampled10 = Z0_yz.ravel()[rdn10] # array (Nx*Ny/10, )\n",
    "TRA_YZ_subsampled10 = TRA_yz.ravel()[rdn10] # array (Nx*Ny/10, )\n",
    "\n",
    "# Import interpolant for scatter interpolation\n",
    "from scipy.interpolate import Rbf\n",
    "\n",
    "# Compute Interpolant\n",
    "interp10_XY = Rbf(x_XY_subsampled10, y_XY_subsampled10, TRA_XY_subsampled10, function = \"linear\")\n",
    "interp10_XZ = Rbf(x_XZ_subsampled10, y_XZ_subsampled10, TRA_XZ_subsampled10, function = \"linear\")\n",
    "interp10_YZ = Rbf(x_YZ_subsampled10, y_YZ_subsampled10, TRA_YZ_subsampled10, function = \"linear\")\n",
    "\n",
    "# Re-evaluate interpolant over original (initial) meshgrid\n",
    "TRA_interpolated10_xy = interp10_XY(X0_xy, Y0_xy) \n",
    "TRA_interpolated10_xz = interp10_XZ(X0_xz, Z0_xz) \n",
    "TRA_interpolated10_yz = interp10_YZ(Y0_yz, Z0_yz)"
   ]
  },
  {
   "cell_type": "code",
   "execution_count": null,
   "id": "1d32933e",
   "metadata": {
    "ExecuteTime": {
     "end_time": "2022-03-04T15:35:51.009349Z",
     "start_time": "2022-03-04T15:35:45.547142Z"
    },
    "code_folding": [
     0,
     18
    ]
   },
   "outputs": [],
   "source": [
    "############################################ PLOT RESULTS ############################################\n",
    "\n",
    "# define minimum and maximum values for colorbar\n",
    "min_value = min(np.min(TRA_yz),min(np.min(TRA_xy), np.min(TRA_xz)))\n",
    "max_value = max(np.max(TRA_yz),max(np.max(TRA_xy), np.max(TRA_xz)))\n",
    "\n",
    "# create figure\n",
    "fig = go.Figure(data=[go.Surface(x = X0_xy, y = Y0_xy, z = Z0_xy, surfacecolor = TRA_interpolated10_xy, showscale = True, colorscale='rainbow', cmin=min_value, cmax=max_value)])\n",
    "fig.add_trace(go.Surface(x = X0_xz, y = Y0_xz, z = Z0_xz, surfacecolor = TRA_interpolated10_xz, showscale = False, colorscale='rainbow', cmin=min_value, cmax=max_value))\n",
    "fig.add_trace(go.Surface(x = X0_yz, y = Y0_yz, z = Z0_yz, surfacecolor = TRA_interpolated10_yz, showscale = False, colorscale='rainbow', cmin=min_value, cmax=max_value))\n",
    "fig.add_trace(go.Surface(x = X0_xy, y = Y0_xy, z = Z0_xy+2*np.pi, surfacecolor = TRA_interpolated10_xy, showscale = False, colorscale='rainbow', cmin=min_value, cmax=max_value))\n",
    "fig.add_trace(go.Surface(x = X0_xz, y = Y0_xz+2*np.pi, z = Z0_xz, surfacecolor = TRA_interpolated10_xz, showscale = False, colorscale='rainbow', cmin=min_value, cmax=max_value))\n",
    "fig.add_trace(go.Surface(x = X0_yz+2*np.pi, y = Y0_yz, z = Z0_yz, surfacecolor = TRA_interpolated10_yz, showscale = False, colorscale='rainbow', cmin=min_value, cmax=max_value))\n",
    "\n",
    "# camera\n",
    "camera = dict(eye=dict(x=-1.45,y=-1.45,z=1.7))\n",
    "fig.update_layout(scene_camera=camera)\n",
    "\n",
    "fig.update_layout(\n",
    "    title={\n",
    "        'text': f'$\\mathrm{{\\overline{{TRA}}}}_{t0}^{{{tN}}}$',\n",
    "        'y':0.9,\n",
    "        'x':0.5,\n",
    "        'xanchor': 'center',\n",
    "        'yanchor': 'top'})\n",
    "\n",
    "fig.show()"
   ]
  },
  {
   "cell_type": "markdown",
   "id": "89a2fbe6",
   "metadata": {},
   "source": [
    "## 1% subsampling"
   ]
  },
  {
   "cell_type": "code",
   "execution_count": null,
   "id": "6316452b",
   "metadata": {
    "ExecuteTime": {
     "end_time": "2022-03-04T15:35:51.326210Z",
     "start_time": "2022-03-04T15:35:51.012763Z"
    },
    "code_folding": [
     0
    ]
   },
   "outputs": [],
   "source": [
    "# 1% subsampling\n",
    "rdn100 = random.sample(range(0, Nx*Ny), int(Nx*Ny/100))\n",
    "\n",
    "# Subsample initial grid and TRA field (=subsample trajectories) on XY-plane\n",
    "x_XY_subsampled100 = X0_xy.ravel()[rdn100] # array (Nx*Ny/10, )\n",
    "y_XY_subsampled100 = Y0_xy.ravel()[rdn100] # array (Nx*Ny/10, )\n",
    "TRA_XY_subsampled100 = TRA_xy.ravel()[rdn100] # array (Nx*Ny/10, )\n",
    "\n",
    "# Subsample initial grid and TRA field (=subsample trajectories) on XZ-plane\n",
    "x_XZ_subsampled100 = X0_xz.ravel()[rdn100] # array (Nx*Ny/10, )\n",
    "y_XZ_subsampled100 = Z0_xz.ravel()[rdn100] # array (Nx*Ny/10, )\n",
    "TRA_XZ_subsampled100 = TRA_xz.ravel()[rdn100] # array (Nx*Ny/10, )\n",
    "\n",
    "# Subsample initial grid and TRA field (=subsample trajectories) on YZ-plane\n",
    "x_YZ_subsampled100 = Y0_yz.ravel()[rdn100] # array (Nx*Ny/10, )\n",
    "y_YZ_subsampled100 = Z0_yz.ravel()[rdn100] # array (Nx*Ny/10, )\n",
    "TRA_YZ_subsampled100 = TRA_yz.ravel()[rdn100] # array (Nx*Ny/10, )\n",
    "\n",
    "# Compute Interpolant\n",
    "interp100_XY = Rbf(x_XY_subsampled100, y_XY_subsampled100, TRA_XY_subsampled100, function = \"linear\")\n",
    "interp100_XZ = Rbf(x_XZ_subsampled100, y_XZ_subsampled100, TRA_XZ_subsampled100, function = \"linear\")\n",
    "interp100_YZ = Rbf(x_YZ_subsampled100, y_YZ_subsampled100, TRA_YZ_subsampled100, function = \"linear\")\n",
    "\n",
    "# Re-evaluate interpolant over original (initial) meshgrid\n",
    "TRA_interpolated100_xy = interp100_XY(X0_xy, Y0_xy) \n",
    "TRA_interpolated100_xz = interp100_XZ(X0_xz, Z0_xz) \n",
    "TRA_interpolated100_yz = interp100_YZ(Y0_yz, Z0_yz)"
   ]
  },
  {
   "cell_type": "code",
   "execution_count": null,
   "id": "8a5bf437",
   "metadata": {
    "ExecuteTime": {
     "end_time": "2022-03-04T15:35:56.951260Z",
     "start_time": "2022-03-04T15:35:51.329597Z"
    },
    "code_folding": [
     0
    ],
    "run_control": {
     "marked": true
    }
   },
   "outputs": [],
   "source": [
    "############################################ PLOT RESULTS ############################################\n",
    "\n",
    "# define minimum and maximum values for colorbar\n",
    "min_value = min(np.min(TRA_yz),min(np.min(TRA_xy), np.min(TRA_xz)))\n",
    "max_value = max(np.max(TRA_yz),max(np.max(TRA_xy), np.max(TRA_xz)))\n",
    "\n",
    "# create figure\n",
    "fig = go.Figure(data=[go.Surface(x = X0_xy, y = Y0_xy, z = Z0_xy, surfacecolor = TRA_interpolated100_xy, showscale = True, colorscale='rainbow', cmin=min_value, cmax=max_value)])\n",
    "fig.add_trace(go.Surface(x = X0_xz, y = Y0_xz, z = Z0_xz, surfacecolor = TRA_interpolated100_xz, showscale = False, colorscale='rainbow', cmin=min_value, cmax=max_value))\n",
    "fig.add_trace(go.Surface(x = X0_yz, y = Y0_yz, z = Z0_yz, surfacecolor = TRA_interpolated100_yz, showscale = False, colorscale='rainbow', cmin=min_value, cmax=max_value))\n",
    "fig.add_trace(go.Surface(x = X0_xy, y = Y0_xy, z = Z0_xy+2*np.pi, surfacecolor = TRA_interpolated100_xy, showscale = False, colorscale='rainbow', cmin=min_value, cmax=max_value))\n",
    "fig.add_trace(go.Surface(x = X0_xz, y = Y0_xz+2*np.pi, z = Z0_xz, surfacecolor = TRA_interpolated100_xz, showscale = False, colorscale='rainbow', cmin=min_value, cmax=max_value))\n",
    "fig.add_trace(go.Surface(x = X0_yz+2*np.pi, y = Y0_yz, z = Z0_yz, surfacecolor = TRA_interpolated100_yz, showscale = False, colorscale='rainbow', cmin=min_value, cmax=max_value))\n",
    "\n",
    "# camera\n",
    "camera = dict(eye=dict(x=-1.45,y=-1.45,z=1.7))\n",
    "fig.update_layout(scene_camera=camera)\n",
    "\n",
    "fig.update_layout(\n",
    "    title={\n",
    "        'text': f'$\\mathrm{{\\overline{{TRA}}}}_{t0}^{{{tN}}}$',\n",
    "        'y':0.9,\n",
    "        'x':0.5,\n",
    "        'xanchor': 'center',\n",
    "        'yanchor': 'top'})\n",
    "\n",
    "fig.show()"
   ]
  },
  {
   "cell_type": "markdown",
   "id": "ac618442",
   "metadata": {},
   "source": [
    "## 0.1% subsampling"
   ]
  },
  {
   "cell_type": "code",
   "execution_count": null,
   "id": "898a7a34",
   "metadata": {
    "ExecuteTime": {
     "end_time": "2022-03-04T15:35:57.006241Z",
     "start_time": "2022-03-04T15:35:56.954913Z"
    },
    "code_folding": [
     0
    ]
   },
   "outputs": [],
   "source": [
    "# 0.1% subsampling\n",
    "rdn1000 = random.sample(range(0, Nx*Ny), int(Nx*Ny/1000))\n",
    "\n",
    "# Subsample initial grid and TRA field (=subsample trajectories) on XY-plane\n",
    "x_XY_subsampled1000 = X0_xy.ravel()[rdn1000] # array (Nx*Ny/10, )\n",
    "y_XY_subsampled1000 = Y0_xy.ravel()[rdn1000] # array (Nx*Ny/10, )\n",
    "TRA_XY_subsampled1000 = TRA_xy.ravel()[rdn1000] # array (Nx*Ny/10, )\n",
    "\n",
    "# Subsample initial grid and TRA field (=subsample trajectories) on XZ-plane\n",
    "x_XZ_subsampled1000 = X0_xz.ravel()[rdn1000] # array (Nx*Ny/10, )\n",
    "y_XZ_subsampled1000 = Z0_xz.ravel()[rdn1000] # array (Nx*Ny/10, )\n",
    "TRA_XZ_subsampled1000 = TRA_xz.ravel()[rdn1000] # array (Nx*Ny/10, )\n",
    "\n",
    "# Subsample initial grid and TRA field (=subsample trajectories) on YZ-plane\n",
    "x_YZ_subsampled1000 = Y0_yz.ravel()[rdn1000] # array (Nx*Ny/10, )\n",
    "y_YZ_subsampled1000 = Z0_yz.ravel()[rdn1000] # array (Nx*Ny/10, )\n",
    "TRA_YZ_subsampled1000 = TRA_yz.ravel()[rdn1000] # array (Nx*Ny/10, )\n",
    "\n",
    "# Compute Interpolant\n",
    "interp1000_XY = Rbf(x_XY_subsampled1000, y_XY_subsampled1000, TRA_XY_subsampled1000, function = \"linear\")\n",
    "interp1000_XZ = Rbf(x_XZ_subsampled1000, y_XZ_subsampled1000, TRA_XZ_subsampled1000, function = \"linear\")\n",
    "interp1000_YZ = Rbf(x_YZ_subsampled1000, y_YZ_subsampled1000, TRA_YZ_subsampled1000, function = \"linear\")\n",
    "\n",
    "# Re-evaluate interpolant over original (initial) meshgrid\n",
    "TRA_interpolated1000_xy = interp1000_XY(X0_xy, Y0_xy) \n",
    "TRA_interpolated1000_xz = interp1000_XZ(X0_xz, Z0_xz) \n",
    "TRA_interpolated1000_yz = interp1000_YZ(Y0_yz, Z0_yz)"
   ]
  },
  {
   "cell_type": "code",
   "execution_count": null,
   "id": "bfca5ae9",
   "metadata": {
    "ExecuteTime": {
     "end_time": "2022-03-04T15:36:02.780262Z",
     "start_time": "2022-03-04T15:35:57.009849Z"
    },
    "code_folding": [
     0
    ]
   },
   "outputs": [],
   "source": [
    "############################################ PLOT RESULTS ############################################\n",
    "\n",
    "# define minimum and maximum values for colorbar\n",
    "min_value = min(np.min(TRA_yz),min(np.min(TRA_xy), np.min(TRA_xz)))\n",
    "max_value = max(np.max(TRA_yz),max(np.max(TRA_xy), np.max(TRA_xz)))\n",
    "\n",
    "# create figure\n",
    "fig = go.Figure(data=[go.Surface(x = X0_xy, y = Y0_xy, z = Z0_xy, surfacecolor = TRA_interpolated1000_xy, showscale = True, colorscale='rainbow', cmin=min_value, cmax=max_value)])\n",
    "fig.add_trace(go.Surface(x = X0_xz, y = Y0_xz, z = Z0_xz, surfacecolor = TRA_interpolated1000_xz, showscale = False, colorscale='rainbow', cmin=min_value, cmax=max_value))\n",
    "fig.add_trace(go.Surface(x = X0_yz, y = Y0_yz, z = Z0_yz, surfacecolor = TRA_interpolated1000_yz, showscale = False, colorscale='rainbow', cmin=min_value, cmax=max_value))\n",
    "fig.add_trace(go.Surface(x = X0_xy, y = Y0_xy, z = Z0_xy+2*np.pi, surfacecolor = TRA_interpolated1000_xy, showscale = False, colorscale='rainbow', cmin=min_value, cmax=max_value))\n",
    "fig.add_trace(go.Surface(x = X0_xz, y = Y0_xz+2*np.pi, z = Z0_xz, surfacecolor = TRA_interpolated1000_xz, showscale = False, colorscale='rainbow', cmin=min_value, cmax=max_value))\n",
    "fig.add_trace(go.Surface(x = X0_yz+2*np.pi, y = Y0_yz, z = Z0_yz, surfacecolor = TRA_interpolated100_yz, showscale = False, colorscale='rainbow', cmin=min_value, cmax=max_value))\n",
    "\n",
    "# camera\n",
    "camera = dict(eye=dict(x=-1.45,y=-1.45,z=1.7))\n",
    "fig.update_layout(scene_camera=camera)\n",
    "\n",
    "fig.update_layout(\n",
    "    title={\n",
    "        'text': f'$\\mathrm{{\\overline{{TRA}}}}_{t0}^{{{tN}}}$',\n",
    "        'y':0.9,\n",
    "        'x':0.5,\n",
    "        'xanchor': 'center',\n",
    "        'yanchor': 'top'})\n",
    "\n",
    "fig.show()"
   ]
  },
  {
   "cell_type": "markdown",
   "id": "3e8b8a5a",
   "metadata": {},
   "source": [
    "Elliptic LCS are visible as convex tubular surfaces with a sharp drop in the $ \\mathrm{\\overline{TRA}} $-field. The structures highlighted by the $ \\mathrm{LAVD} $-field can directly be compared to those of the [$ \\mathrm{\\overline{LAVD}}$](../../LAVD3D/Main/LAVDABCsteady.ipynb)-field. Contrary to other commonly used elliptic LCS detection methods such as the $ \\mathrm{\\overline{LAVD}}$, the features of $ \\mathrm{\\overline{TRA}} $ are robust with respect to subsampling as the main vortical flow features are preserved even in a very sparse setting."
   ]
  },
  {
   "cell_type": "markdown",
   "id": "4ff74dbe",
   "metadata": {},
   "source": [
    "# References\n",
    "\n",
    "[1] Haller, G., Aksamit, N., & Encinas-Bartos, A. P. (2021). Quasi-objective coherent structure diagnostics from single trajectories. Chaos: An Interdisciplinary Journal of Nonlinear Science, 31(4), 043131.\n",
    "\n",
    "[2] Notebook 5.5.4 in \"Transport Barriers and Coherent Structures in Flow Data\" by George Haller"
   ]
  }
 ],
 "metadata": {
  "kernelspec": {
   "display_name": "Python 3",
   "language": "python",
   "name": "python3"
  },
  "language_info": {
   "codemirror_mode": {
    "name": "ipython",
    "version": 3
   },
   "file_extension": ".py",
   "mimetype": "text/x-python",
   "name": "python",
   "nbconvert_exporter": "python",
   "pygments_lexer": "ipython3",
   "version": "3.7.12"
  },
  "latex_envs": {
   "LaTeX_envs_menu_present": true,
   "autoclose": false,
   "autocomplete": true,
   "bibliofile": "biblio.bib",
   "cite_by": "apalike",
   "current_citInitial": 1,
   "eqLabelWithNumbers": true,
   "eqNumInitial": 1,
   "hotkeys": {
    "equation": "Ctrl-E",
    "itemize": "Ctrl-I"
   },
   "labels_anchors": false,
   "latex_user_defs": false,
   "report_style_numbering": false,
   "user_envs_cfg": false
  },
  "toc": {
   "base_numbering": "0",
   "nav_menu": {},
   "number_sections": true,
   "sideBar": true,
   "skip_h1_title": false,
   "title_cell": "Table of Contents",
   "title_sidebar": "Contents",
   "toc_cell": false,
   "toc_position": {},
   "toc_section_display": true,
   "toc_window_display": true
  }
 },
 "nbformat": 4,
 "nbformat_minor": 5
}
