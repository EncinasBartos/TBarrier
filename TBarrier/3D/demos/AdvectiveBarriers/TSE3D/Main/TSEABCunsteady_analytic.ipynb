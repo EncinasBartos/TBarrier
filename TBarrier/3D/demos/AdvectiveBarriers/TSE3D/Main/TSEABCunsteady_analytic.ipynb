{
 "cells": [
  {
   "cell_type": "code",
   "execution_count": null,
   "id": "0f8d1bed",
   "metadata": {
    "ExecuteTime": {
     "end_time": "2022-02-08T10:14:18.168934Z",
     "start_time": "2022-02-08T10:14:18.153976Z"
    },
    "code_folding": [
     0
    ]
   },
   "outputs": [],
   "source": [
    "# import sys/os\n",
    "import sys, os\n",
    "\n",
    "# get current directory\n",
    "path = os.getcwd()\n",
    "\n",
    "# get parent directory\n",
    "parent_directory = os.path.sep.join(path.split(os.path.sep)[:-4])\n",
    "\n",
    "# add utils folder to current working path\n",
    "sys.path.append(parent_directory+\"/subfunctions/utils\")\n",
    "\n",
    "# add integration folder to current working path\n",
    "sys.path.append(parent_directory+\"/subfunctions/integration\")\n",
    "\n",
    "# add 'TRA3D' folder to current working path in order to access the functions\n",
    "sys.path.append(parent_directory+\"/demos/AdvectiveBarriers/TRA3D\")"
   ]
  },
  {
   "cell_type": "markdown",
   "id": "92f1a975",
   "metadata": {},
   "source": [
    "# Overview\n",
    "\n",
    "In the following notebook we compute the $ \\mathrm{\\overline{TSE}}/\\mathrm{TSE} $ on the three-dimensional, unsteady ABC-flow. The velocity field is analytically defined. The notebook is structured as follows:\n",
    "\n",
    "1. Define analytic velocity-field of unsteady ABC-flow.\n",
    "<br />\n",
    "2. Define computational parameters.\n",
    " <br />\n",
    "3. Define spatio-temporal domain.\n",
    " <br />\n",
    "4. Define integration scheme for computing flow map (=trajectories) and derivative of flow map (=velocities).\n",
    " <br />\n",
    "5. TRA:\n",
    "\n",
    "    * Compute velocity along trajectories $ \\lbrace \\mathbf{\\dot{x}}(t_{i}) \\rbrace_{i=0}^N $ over the time interval $ [t_0, t_N] $.\n",
    "    <br />\n",
    "    \n",
    "    * Compute $ \\mathrm{\\overline{TRA}} $ from velocity along trajectories:\n",
    "    \n",
    "    \\begin{equation}\n",
    "    \\mathrm{TSE}_{t_0}^{t_N} = \\dfrac{1}{t_N-t_0} \\log{\\dfrac{\\sqrt{|\\mathbf{\\dot{x}}(t_N)|^2 +\\mathrm{v}_0^2}}{\\sqrt{|\\mathbf{\\dot{x}}(t_0)|^2 +\\mathrm{v}_0^2}}}\n",
    "    \\end{equation}\n",
    "    \n",
    "    $ \\mathrm{v}_0 $ is a characteristic velocity. As the unsteady ABC-flow is dimensionless, we choose $ \\mathrm{v}_0 = 1 $."
   ]
  },
  {
   "cell_type": "markdown",
   "id": "b9fdd7dc",
   "metadata": {},
   "source": [
    "# Define analytic velocity field\n",
    "\n",
    "Here we define the analytic unsteady velocity of the ABC-flow.\n",
    "\n",
    "\\begin{equation}\n",
    "\\begin{pmatrix} \\dot{x}(t) \\\\ \\dot{y}(t) \\\\ \\dot{z}(t) \\end{pmatrix} = e^{-\\nu t}\\begin{pmatrix} \\sqrt{3}\\sin(z)+\\cos(y) \\\\ \\sqrt{2}\\sin(x)+\\sqrt{3}\\cos(z) \\\\ \\sin(y)+\\sqrt{2}\\cos(x) \\end{pmatrix}, \n",
    "\\end{equation} with $ \\nu = 0.01 $."
   ]
  },
  {
   "cell_type": "code",
   "execution_count": null,
   "id": "0ce33ce8",
   "metadata": {
    "ExecuteTime": {
     "end_time": "2022-02-08T10:14:18.184400Z",
     "start_time": "2022-02-08T10:14:18.178416Z"
    }
   },
   "outputs": [],
   "source": [
    "def velocity(t, x, y, z):\n",
    "    \n",
    "    nu = 0.01\n",
    "    \n",
    "    u = sqrt(3)*np.sin(z)+np.cos(y)\n",
    "    v = sqrt(2)*np.sin(x)+sqrt(3)*np.cos(z)\n",
    "    w = np.sin(y)+sqrt(2)*np.cos(x)\n",
    "    \n",
    "    return np.exp(-nu*t)*np.array([u, v, w])"
   ]
  },
  {
   "cell_type": "markdown",
   "id": "fa802f28",
   "metadata": {},
   "source": [
    "# Computational parameters\n",
    "\n",
    "Here we define the computational parameters."
   ]
  },
  {
   "cell_type": "code",
   "execution_count": null,
   "id": "f5f30f2c",
   "metadata": {
    "ExecuteTime": {
     "end_time": "2022-02-08T10:14:18.278176Z",
     "start_time": "2022-02-08T10:14:18.192380Z"
    },
    "code_folding": []
   },
   "outputs": [],
   "source": [
    "# import numpy\n",
    "import numpy as np\n",
    "\n",
    "# import math tools\n",
    "from math import sqrt, pi\n",
    "\n",
    "# number of cores to be used for parallel computing\n",
    "Ncores = 4\n",
    "\n",
    "# periodic boundary conditions\n",
    "periodic_x = True\n",
    "periodic_y = True\n",
    "periodic_z = True\n",
    "periodic = [periodic_x, periodic_y, periodic_z]"
   ]
  },
  {
   "cell_type": "markdown",
   "id": "8fa74d39",
   "metadata": {},
   "source": [
    "# Spatio-temporal domain\n",
    "\n",
    "Here we define the spatio-temporal domain over which to consider the dynamical system."
   ]
  },
  {
   "cell_type": "code",
   "execution_count": null,
   "id": "5f445dde",
   "metadata": {
    "ExecuteTime": {
     "end_time": "2022-02-08T10:14:18.324027Z",
     "start_time": "2022-02-08T10:14:18.279148Z"
    }
   },
   "outputs": [],
   "source": [
    "%%time\n",
    "# Initial time\n",
    "t0 = 0 # float\n",
    "\n",
    "# Final time\n",
    "tN = 50 # float\n",
    "\n",
    "# Time step-size\n",
    "dt = 0.1 # float\n",
    "\n",
    "# NOTE: For computing the backward FTLE field tN < t0 and dt < 0.\n",
    "\n",
    "time = np.arange(t0, tN+dt, dt) # shape (Nt,)\n",
    "\n",
    "# Length of time interval\n",
    "lenT = abs(tN-t0) # float\n",
    "\n",
    "# boundaries\n",
    "xmin = 0 # float\n",
    "xmax = 2*np.pi # float\n",
    "ymin = 0 # float\n",
    "ymax = 2*np.pi # float\n",
    "zmin = 0 # float\n",
    "zmax = 2*np.pi # float\n",
    "\n",
    "# Resolution of meshgrid\n",
    "Ny = 200 # int\n",
    "Nx = 200 # int\n",
    "Nz = 200 # int\n",
    "\n",
    "x_domain = np.linspace(xmin, xmax, Nx, endpoint = True) # array (Nx, )\n",
    "y_domain = np.linspace(ymin, ymax, Ny, endpoint = True) # array (Ny, )\n",
    "z_domain = np.linspace(zmin, zmax, Nz, endpoint = True) # array (Nz, )\n",
    "\n",
    "dx = x_domain[1]-x_domain[0] # float\n",
    "dy = y_domain[1]-y_domain[0] # float\n",
    "dz = z_domain[1]-z_domain[0] # float\n",
    "\n",
    "X_domain, Y_domain, Z_domain = np.meshgrid(x_domain, y_domain, z_domain) # array (Ny, Nx, Nz)\n",
    "\n",
    "Ny = X_domain.shape[0] # int\n",
    "Nx = X_domain.shape[1] # int\n",
    "Nz = X_domain.shape[2] # int"
   ]
  },
  {
   "cell_type": "markdown",
   "id": "47200d73",
   "metadata": {},
   "source": [
    "# Define Integration"
   ]
  },
  {
   "cell_type": "code",
   "execution_count": null,
   "id": "0f8f8169",
   "metadata": {
    "ExecuteTime": {
     "end_time": "2022-02-08T10:14:18.339985Z",
     "start_time": "2022-02-08T10:14:18.325025Z"
    },
    "code_folding": [
     29
    ],
    "run_control": {
     "marked": true
    }
   },
   "outputs": [],
   "source": [
    "def integration_dFdt(time, x):\n",
    "    \n",
    "    # reshape x\n",
    "    x = x.reshape(3, -1) # reshape array (3, Nx*Ny*Nz)\n",
    "    \n",
    "    # Initialize arrays for flow map and derivative of flow map\n",
    "    Fmap = np.zeros((len(time), 3, x.shape[1])) # array (Nt, 3, Nx*Ny*Nz)\n",
    "    dFdt = np.zeros((len(time)-1, 3, x.shape[1])) # array (Nt-1, 3, Nx*Ny*Nz)\n",
    "    \n",
    "    # Step-size\n",
    "    dt = time[1]-time[0] # float\n",
    "    \n",
    "    counter = 0 # int\n",
    "\n",
    "    # initial conditions\n",
    "    Fmap[counter,:,:] = x\n",
    "    \n",
    "    # Runge Kutta 4th order integration with fixed step size dt\n",
    "    for t in time[:-1]:\n",
    "        \n",
    "        if t%2 == 0:\n",
    "            print('Percentage completed: ', 100*np.around(t/time[-1], 3))\n",
    "        \n",
    "        Fmap[counter+1,:, :], dFdt[counter,:,:] = RK4_classic_step(t, Fmap[counter,:, :], dt)[:2]\n",
    "    \n",
    "        counter += 1\n",
    "    \n",
    "    return Fmap, dFdt\n",
    "\n",
    "def RK4_classic_step(t, x1, dt):\n",
    "    \n",
    "    t0 = t # float\n",
    "    \n",
    "    # Compute x_prime at the beginning of the time-step by re-orienting and rescaling the vector field\n",
    "    x_prime = velocity(t, x1[0,:], x1[1,:], x1[2,:]) # array(3, Nx*Ny*Nz)\n",
    "    \n",
    "    # compute derivative\n",
    "    k1 = dt * x_prime # array(3, Nx*Ny*Nz)\n",
    "    \n",
    "    # Update position at the first midpoint.\n",
    "    x2 = x1 + .5 * k1 # array(3, Nx*Ny*Nz)\n",
    "     \n",
    "    # Update time\n",
    "    t = t0 + .5*dt # float\n",
    "    \n",
    "    # Compute x_prime at the first midpoint.\n",
    "    x_prime = velocity(t, x2[0,:], x2[1,:], x2[2,:]) # array(3, Nx*Ny*Nz)\n",
    "    \n",
    "    # compute derivative\n",
    "    k2 = dt * x_prime # array(3, Nx*Ny*Nz)\n",
    "\n",
    "    # Update position at the second midpoint.\n",
    "    x3 = x1 + .5 * k2 # array(3, Nx*Ny*Nz)\n",
    "    \n",
    "    # Update time\n",
    "    t = t0 + .5*dt # float\n",
    "    \n",
    "    # Compute x_prime at the second midpoint.\n",
    "    x_prime = velocity(t, x3[0,:], x3[1,:], x3[2,:]) # array(3, Nx*Ny*Nz)\n",
    "    \n",
    "    # compute derivative\n",
    "    k3 = dt * x_prime # array(3, Nx*Ny*Nz)\n",
    "    \n",
    "    # Update position at the endpoint.\n",
    "    x4 = x1 + k3 # array(3, Nx*Ny*Nz)\n",
    "    \n",
    "    # Update time\n",
    "    t = t0+dt # float\n",
    "    \n",
    "    # Compute derivative at the end of the time-step.\n",
    "    x_prime = velocity(t, x4[0,:], x4[1,:], x4[2,:]) # array(3, Nx*Ny*Nz)\n",
    "    \n",
    "    # compute derivative\n",
    "    k4 = dt * x_prime\n",
    "    \n",
    "    # Compute RK4 derivative\n",
    "    y_prime_update = 1.0 / 6.0*(k1 + 2 * k2 + 2 * k3 + k4) # array(3, Nx*Ny*Nz)\n",
    "    \n",
    "    # Integration y <-- y + y_primeupdate\n",
    "    y_update = x1 + y_prime_update # array(3, Nx*Ny*Nz)\n",
    "    \n",
    "    return y_update, y_prime_update/dt"
   ]
  },
  {
   "cell_type": "markdown",
   "id": "6d6fb4d6",
   "metadata": {},
   "source": [
    "# TRA\n",
    "\n",
    "The computation of the $ \\mathrm{\\overline{TRA}} $ is not done over the 3D meshgrid but only over the 2D faces of the cube $ [0,2\\pi]^3 $."
   ]
  },
  {
   "cell_type": "markdown",
   "id": "0ef6cc46",
   "metadata": {},
   "source": [
    "## Define function to compute $ \\mathrm{\\overline{TRA}} $ in parallel."
   ]
  },
  {
   "cell_type": "code",
   "execution_count": null,
   "id": "3294451e",
   "metadata": {
    "ExecuteTime": {
     "end_time": "2022-02-08T10:14:18.385862Z",
     "start_time": "2022-02-08T10:14:18.340983Z"
    },
    "code_folding": [],
    "run_control": {
     "marked": true
    }
   },
   "outputs": [],
   "source": [
    "%%time\n",
    "\n",
    "# Import function to compute Trajectory Rotation Average (TRA)\n",
    "from ipynb.fs.defs.TRA import _TRA\n",
    "\n",
    "# Import package for parallel computing\n",
    "from joblib import Parallel, delayed\n",
    "\n",
    "def compute_TRA(x0, y0, z0):\n",
    "    \n",
    "    # Set initial conditions\n",
    "    X0 = np.array([x0, y0, z0]) # array (3, Nx*Ny*Nz)\n",
    "    \n",
    "    # Velocity along particle trajectories\n",
    "    DFdt = integration_dFdt(time, X0)[1] # array (Nt, 3, Nx*Ny*Nz)\n",
    "    \n",
    "    # Compute TRA\n",
    "    TRA = []\n",
    "    \n",
    "    for i in range(DFdt.shape[2]):\n",
    "        TRA.append(_TRA(DFdt[:,:,i].transpose(), lenT, v0))\n",
    "\n",
    "    return TRA\n",
    "\n",
    "# Split x0,y0,z0 into 'Ncores' equal batches for parallel computing\n",
    "def split(a, n):\n",
    "    k, m = divmod(len(a), n)\n",
    "    return (a[i*k+min(i, m):(i+1)*k+min(i+1, m)] for i in range(n))"
   ]
  },
  {
   "cell_type": "markdown",
   "id": "2ccf3440",
   "metadata": {},
   "source": [
    "## XY-plane"
   ]
  },
  {
   "cell_type": "code",
   "execution_count": null,
   "id": "b5d24bbf",
   "metadata": {
    "ExecuteTime": {
     "end_time": "2022-02-08T10:14:52.745866Z",
     "start_time": "2022-02-08T10:14:18.386860Z"
    }
   },
   "outputs": [],
   "source": [
    "# Vectorize initial conditions by arranging them to a vector of size (Nx*Ny*Nz, )\n",
    "\n",
    "# XY-plane\n",
    "x0_xy = X_domain[:,:,-1].ravel() # array (Nx*Ny*Nz, )\n",
    "y0_xy = Y_domain[:,:,-1].ravel() # array (Nx*Ny*Nz, )\n",
    "z0_xy = Z_domain[:,:,-1].ravel() # array (Nx*Ny*Nz, )\n",
    "\n",
    "x0_batch = list(split(x0_xy, Ncores)) # list (Nx*Ny*Nz)\n",
    "y0_batch = list(split(y0_xy, Ncores)) # list (Nx*Ny*Nz)\n",
    "z0_batch = list(split(z0_xy, Ncores)) # list (Nx*Ny*Nz)\n",
    "\n",
    "# Parallel computing\n",
    "results = Parallel(n_jobs=Ncores, verbose = 2)(delayed(compute_TRA)(x0_batch[i], y0_batch[i], z0_batch[i]) for i in range(len(x0_batch)))\n",
    "\n",
    "# Extract results of omega computation on xy-plane\n",
    "TRA_xy = results[0]\n",
    "for res in results[1:]:\n",
    "    TRA_xy = np.append(TRA_xy, res, axis = -1)\n",
    "\n",
    "# Reshape arrays\n",
    "X0_xy = np.array(x0_xy).reshape(Ny,Nx) # array (Ny, Nx)\n",
    "Y0_xy = np.array(y0_xy).reshape(Ny,Nx) # array (Ny, Nx)\n",
    "Z0_xy = np.array(z0_xy).reshape(Ny,Nx) # array (Ny, Nx)\n",
    "TRA_xy = np.array(TRA_xy).reshape(Ny,Nx) # array (Nt, Ny, Nx)"
   ]
  },
  {
   "cell_type": "markdown",
   "id": "124ebeca",
   "metadata": {},
   "source": [
    "## XZ-plane"
   ]
  },
  {
   "cell_type": "code",
   "execution_count": null,
   "id": "29e208b1",
   "metadata": {
    "ExecuteTime": {
     "end_time": "2022-02-08T10:15:23.736121Z",
     "start_time": "2022-02-08T10:14:52.746906Z"
    }
   },
   "outputs": [],
   "source": [
    "# Vectorize initial conditions by arranging them to a vector of size (Nx*Ny*Nz, )\n",
    "\n",
    "# XZ-plane\n",
    "x0_xz = X_domain[0,:,:].ravel() # array (Nx*Ny*Nz, )\n",
    "y0_xz = Y_domain[0,:,:].ravel() # array (Nx*Ny*Nz, )\n",
    "z0_xz = Z_domain[0,:,:].ravel() # array (Nx*Ny*Nz, )\n",
    "\n",
    "x0_batch = list(split(x0_xz, Ncores)) # list (Nx*Ny*Nz)\n",
    "y0_batch = list(split(y0_xz, Ncores)) # list (Nx*Ny*Nz)\n",
    "z0_batch = list(split(z0_xz, Ncores)) # list (Nx*Ny*Nz)\n",
    "\n",
    "# Parallel computing\n",
    "results = Parallel(n_jobs=Ncores, verbose = 2)(delayed(compute_TRA)(x0_batch[i], y0_batch[i], z0_batch[i]) for i in range(len(x0_batch)))\n",
    "\n",
    "# Extract results of omega computation on xz-plane\n",
    "TRA_xz = results[0]\n",
    "for res in results[1:]:\n",
    "    TRA_xz = np.append(TRA_xz, res, axis = -1)\n",
    "    \n",
    "# Reshape arrays\n",
    "X0_xz = np.array(x0_xz).reshape(Nz,Nx) # array (Nz, Nx)\n",
    "Y0_xz = np.array(y0_xz).reshape(Nz,Nx) # array (Nz, Nx)\n",
    "Z0_xz = np.array(z0_xz).reshape(Nz,Nx) # array (Nz, Nx)\n",
    "TRA_xz = np.array(TRA_xz).reshape(Nz,Nx) # array (Nt, Nz, Nx)"
   ]
  },
  {
   "cell_type": "markdown",
   "id": "f2585c12",
   "metadata": {},
   "source": [
    "## YZ-plane"
   ]
  },
  {
   "cell_type": "code",
   "execution_count": null,
   "id": "c7809a2e",
   "metadata": {
    "ExecuteTime": {
     "end_time": "2022-02-08T10:15:55.678107Z",
     "start_time": "2022-02-08T10:15:23.740191Z"
    },
    "code_folding": [],
    "scrolled": false
   },
   "outputs": [],
   "source": [
    "# Vectorize initial conditions by arranging them to a vector of size (Nx*Ny*Nz, )\n",
    "\n",
    "# YZ-plane\n",
    "x0_yz = X_domain[:,0,:].ravel() # array (Nx*Ny*Nz, )\n",
    "y0_yz = Y_domain[:,0,:].ravel() # array (Nx*Ny*Nz, )\n",
    "z0_yz = Z_domain[:,0,:].ravel() # array (Nx*Ny*Nz, )\n",
    "    \n",
    "x0_batch = list(split(x0_yz, Ncores)) # list (Nx*Ny*Nz)\n",
    "y0_batch = list(split(y0_yz, Ncores)) # list (Nx*Ny*Nz)\n",
    "z0_batch = list(split(z0_yz, Ncores)) # list (Nx*Ny*Nz)\n",
    "\n",
    "# Parallel computing\n",
    "results = Parallel(n_jobs=Ncores, verbose = 2)(delayed(compute_TRA)(x0_batch[i], y0_batch[i], z0_batch[i]) for i in range(len(x0_batch)))\n",
    "\n",
    "# Extract results of omega computation on yz-plane\n",
    "TRA_yz = results[0]\n",
    "for res in results[1:]:\n",
    "    TRA_yz = np.append(TRA_yz, res, axis = -1)\n",
    "\n",
    "# Reshape arrays\n",
    "X0_yz = np.array(x0_yz).reshape(Nz,Ny) # array (Nt, Nz, Ny)\n",
    "Y0_yz = np.array(y0_yz).reshape(Nz,Ny) # array (Nt, Nz, Ny)\n",
    "Z0_yz = np.array(z0_yz).reshape(Nz,Ny) # array (Nt, Nz, Ny)\n",
    "TRA_yz = np.array(TRA_yz).reshape(Nz,Ny) # array (Nz, Ny)"
   ]
  },
  {
   "cell_type": "code",
   "execution_count": null,
   "id": "54e1eabf",
   "metadata": {
    "ExecuteTime": {
     "end_time": "2022-02-08T10:15:59.283304Z",
     "start_time": "2022-02-08T10:15:55.679968Z"
    }
   },
   "outputs": [],
   "source": [
    "# Import plotly for 3D figures\n",
    "from plotly import graph_objs as go\n",
    "\n",
    "# define minimum and maximum values for colorbar\n",
    "min_value = min(np.min(TRA_yz),min(np.min(TRA_xy), np.min(TRA_xz)))\n",
    "max_value = max(np.max(TRA_yz),max(np.max(TRA_xy), np.max(TRA_xz)))\n",
    "\n",
    "# create figure\n",
    "fig = go.Figure(data=[go.Surface(x = X0_xy, y = Y0_xy, z = Z0_xy, surfacecolor = TRA_xy, showscale = True, colorscale='rainbow', cmin=min_value, cmax=max_value)])\n",
    "fig.add_trace(go.Surface(x = X0_xz, y = Y0_xz, z = Z0_xz, surfacecolor = TRA_xz, showscale = False, colorscale='rainbow', cmin=min_value, cmax=max_value))\n",
    "fig.add_trace(go.Surface(x = X0_yz, y = Y0_yz, z = Z0_yz, surfacecolor = TRA_yz, showscale = False, colorscale='rainbow', cmin=min_value, cmax=max_value))\n",
    "fig.add_trace(go.Surface(x = X0_xy, y = Y0_xy, z = Z0_xy-2*pi, surfacecolor = TRA_xy, showscale = False, colorscale='rainbow', cmin=min_value, cmax=max_value))\n",
    "fig.add_trace(go.Surface(x = X0_xz, y = Y0_xz+2*pi, z = Z0_xz, surfacecolor = TRA_xz, showscale = False, colorscale='rainbow', cmin=min_value, cmax=max_value))\n",
    "fig.add_trace(go.Surface(x = X0_yz+2*pi, y = Y0_yz, z = Z0_yz, surfacecolor = TRA_yz, showscale = False, colorscale='rainbow', cmin=min_value, cmax=max_value))\n",
    "\n",
    "# camera\n",
    "camera = dict(eye=dict(x=-1.45,y=-1.45,z=1.7))\n",
    "fig.update_layout(scene_camera=camera)\n",
    "\n",
    "fig.show()"
   ]
  },
  {
   "cell_type": "markdown",
   "id": "e1b2ce03",
   "metadata": {},
   "source": [
    "Regions of high $ \\mathrm{\\overline{TRA}}_{t_0}^{t_N} $ are linked to vortical flow structures. Note that the $ \\mathrm{\\overline{TRA}} $ highlights the same vortical flow areas as the [LAVD](../../LAVD3D/Main/LAVDABC_analytic_steady.ipynb). In order to test the ability of the $ \\mathrm{\\overline{TRA}} $ to extract vortical flow regions even in a sparse data setting, we randomly progressively downsample the trajectory data. As shown in the following figures, $ \\mathrm{\\overline{TRA}} $ is able to capture the major lagrangian eddies even at very low resolutions."
   ]
  },
  {
   "cell_type": "code",
   "execution_count": null,
   "id": "302f2a51",
   "metadata": {
    "ExecuteTime": {
     "end_time": "2022-02-08T10:16:04.132836Z",
     "start_time": "2022-02-08T10:15:59.284271Z"
    },
    "code_folding": [
     0
    ]
   },
   "outputs": [],
   "source": [
    "# import random number generator\n",
    "import random\n",
    "\n",
    "# 10% subsampling\n",
    "rdn10 = random.sample(range(0, Nx*Ny), int(Nx*Ny/10))\n",
    "\n",
    "# Subsample initial grid and TRA field (=subsample trajectories) on XY-plane\n",
    "x_XY_subsampled10 = X0_xy.ravel()[rdn10] # array (Nx*Ny/10, )\n",
    "y_XY_subsampled10 = Y0_xy.ravel()[rdn10] # array (Nx*Ny/10, )\n",
    "TRA_XY_subsampled10 = TRA_xy.ravel()[rdn10] # array (Nx*Ny/10, )\n",
    "\n",
    "# Subsample initial grid and TRA field (=subsample trajectories) on XZ-plane\n",
    "x_XZ_subsampled10 = X0_xz.ravel()[rdn10] # array (Nx*Ny/10, )\n",
    "y_XZ_subsampled10 = Z0_xz.ravel()[rdn10] # array (Nx*Ny/10, )\n",
    "TRA_XZ_subsampled10 = TRA_xz.ravel()[rdn10] # array (Nx*Ny/10, )\n",
    "\n",
    "# Subsample initial grid and TRA field (=subsample trajectories) on YZ-plane\n",
    "x_YZ_subsampled10 = Y0_yz.ravel()[rdn10] # array (Nx*Ny/10, )\n",
    "y_YZ_subsampled10 = Z0_yz.ravel()[rdn10] # array (Nx*Ny/10, )\n",
    "TRA_YZ_subsampled10 = TRA_yz.ravel()[rdn10] # array (Nx*Ny/10, )\n",
    "\n",
    "# Import interpolant for scatter interpolation\n",
    "from scipy.interpolate import Rbf\n",
    "\n",
    "# Compute Interpolant\n",
    "interp10_XY = Rbf(x_XY_subsampled10, y_XY_subsampled10, TRA_XY_subsampled10, function = \"linear\")\n",
    "interp10_XZ = Rbf(x_XZ_subsampled10, y_XZ_subsampled10, TRA_XZ_subsampled10, function = \"linear\")\n",
    "interp10_YZ = Rbf(x_YZ_subsampled10, y_YZ_subsampled10, TRA_YZ_subsampled10, function = \"linear\")\n",
    "\n",
    "# Re-evaluate interpolant over original (initial) meshgrid\n",
    "TRA_interpolated10_xy = interp10_XY(X0_xy, Y0_xy) \n",
    "TRA_interpolated10_xz = interp10_XZ(X0_xz, Z0_xz) \n",
    "TRA_interpolated10_yz = interp10_YZ(Y0_yz, Z0_yz)"
   ]
  },
  {
   "cell_type": "code",
   "execution_count": null,
   "id": "dd52e808",
   "metadata": {
    "ExecuteTime": {
     "end_time": "2022-02-08T10:16:07.234395Z",
     "start_time": "2022-02-08T10:16:04.133804Z"
    },
    "code_folding": [
     0
    ]
   },
   "outputs": [],
   "source": [
    "# define minimum and maximum values for colorbar\n",
    "min_value = min(np.min(TRA_yz),min(np.min(TRA_xy), np.min(TRA_xz)))\n",
    "max_value = max(np.max(TRA_yz),max(np.max(TRA_xy), np.max(TRA_xz)))\n",
    "\n",
    "# create figure\n",
    "fig = go.Figure(data=[go.Surface(x = X0_xy, y = Y0_xy, z = Z0_xy, surfacecolor = TRA_interpolated10_xy, showscale = True, colorscale='rainbow', cmin=min_value, cmax=max_value)])\n",
    "fig.add_trace(go.Surface(x = X0_xz, y = Y0_xz, z = Z0_xz, surfacecolor = TRA_interpolated10_xz, showscale = False, colorscale='rainbow', cmin=min_value, cmax=max_value))\n",
    "fig.add_trace(go.Surface(x = X0_yz, y = Y0_yz, z = Z0_yz, surfacecolor = TRA_interpolated10_yz, showscale = False, colorscale='rainbow', cmin=min_value, cmax=max_value))\n",
    "fig.add_trace(go.Surface(x = X0_xy, y = Y0_xy, z = Z0_xy-2*pi, surfacecolor = TRA_interpolated10_xy, showscale = False, colorscale='rainbow', cmin=min_value, cmax=max_value))\n",
    "fig.add_trace(go.Surface(x = X0_xz, y = Y0_xz+2*pi, z = Z0_xz, surfacecolor = TRA_interpolated10_xz, showscale = False, colorscale='rainbow', cmin=min_value, cmax=max_value))\n",
    "fig.add_trace(go.Surface(x = X0_yz+2*pi, y = Y0_yz, z = Z0_yz, surfacecolor = TRA_interpolated10_yz, showscale = False, colorscale='rainbow', cmin=min_value, cmax=max_value))\n",
    "\n",
    "# camera\n",
    "camera = dict(eye=dict(x=-1.45,y=-1.45,z=1.7))\n",
    "fig.update_layout(scene_camera=camera)\n",
    "\n",
    "fig.show()"
   ]
  },
  {
   "cell_type": "code",
   "execution_count": null,
   "id": "dc19a9e6",
   "metadata": {
    "ExecuteTime": {
     "end_time": "2022-02-08T10:16:07.603406Z",
     "start_time": "2022-02-08T10:16:07.235391Z"
    },
    "code_folding": [
     0
    ]
   },
   "outputs": [],
   "source": [
    "# 1% subsampling\n",
    "rdn100 = random.sample(range(0, Nx*Ny), int(Nx*Ny/100))\n",
    "\n",
    "# Subsample initial grid and TRA field (=subsample trajectories) on XY-plane\n",
    "x_XY_subsampled100 = X0_xy.ravel()[rdn100] # array (Nx*Ny/10, )\n",
    "y_XY_subsampled100 = Y0_xy.ravel()[rdn100] # array (Nx*Ny/10, )\n",
    "TRA_XY_subsampled100 = TRA_xy.ravel()[rdn100] # array (Nx*Ny/10, )\n",
    "\n",
    "# Subsample initial grid and TRA field (=subsample trajectories) on XZ-plane\n",
    "x_XZ_subsampled100 = X0_xz.ravel()[rdn100] # array (Nx*Ny/10, )\n",
    "y_XZ_subsampled100 = Z0_xz.ravel()[rdn100] # array (Nx*Ny/10, )\n",
    "TRA_XZ_subsampled100 = TRA_xz.ravel()[rdn100] # array (Nx*Ny/10, )\n",
    "\n",
    "# Subsample initial grid and TRA field (=subsample trajectories) on YZ-plane\n",
    "x_YZ_subsampled100 = Y0_yz.ravel()[rdn100] # array (Nx*Ny/10, )\n",
    "y_YZ_subsampled100 = Z0_yz.ravel()[rdn100] # array (Nx*Ny/10, )\n",
    "TRA_YZ_subsampled100 = TRA_yz.ravel()[rdn100] # array (Nx*Ny/10, )\n",
    "\n",
    "# Compute Interpolant\n",
    "interp100_XY = Rbf(x_XY_subsampled100, y_XY_subsampled100, TRA_XY_subsampled100, function = \"linear\")\n",
    "interp100_XZ = Rbf(x_XZ_subsampled100, y_XZ_subsampled100, TRA_XZ_subsampled100, function = \"linear\")\n",
    "interp100_YZ = Rbf(x_YZ_subsampled100, y_YZ_subsampled100, TRA_YZ_subsampled100, function = \"linear\")\n",
    "\n",
    "# Re-evaluate interpolant over original (initial) meshgrid\n",
    "TRA_interpolated100_xy = interp100_XY(X0_xy, Y0_xy) \n",
    "TRA_interpolated100_xz = interp100_XZ(X0_xz, Z0_xz) \n",
    "TRA_interpolated100_yz = interp100_YZ(Y0_yz, Z0_yz)"
   ]
  },
  {
   "cell_type": "code",
   "execution_count": null,
   "id": "4beaadc8",
   "metadata": {
    "ExecuteTime": {
     "end_time": "2022-02-08T10:16:10.766470Z",
     "start_time": "2022-02-08T10:16:07.604404Z"
    },
    "code_folding": [
     0
    ],
    "run_control": {
     "marked": true
    }
   },
   "outputs": [],
   "source": [
    "# define minimum and maximum values for colorbar\n",
    "min_value = min(np.min(TRA_yz),min(np.min(TRA_xy), np.min(TRA_xz)))\n",
    "max_value = max(np.max(TRA_yz),max(np.max(TRA_xy), np.max(TRA_xz)))\n",
    "\n",
    "# create figure\n",
    "fig = go.Figure(data=[go.Surface(x = X0_xy, y = Y0_xy, z = Z0_xy, surfacecolor = TRA_interpolated100_xy, showscale = True, colorscale='rainbow', cmin=min_value, cmax=max_value)])\n",
    "fig.add_trace(go.Surface(x = X0_xz, y = Y0_xz, z = Z0_xz, surfacecolor = TRA_interpolated100_xz, showscale = False, colorscale='rainbow', cmin=min_value, cmax=max_value))\n",
    "fig.add_trace(go.Surface(x = X0_yz, y = Y0_yz, z = Z0_yz, surfacecolor = TRA_interpolated100_yz, showscale = False, colorscale='rainbow', cmin=min_value, cmax=max_value))\n",
    "fig.add_trace(go.Surface(x = X0_xy, y = Y0_xy, z = Z0_xy-2*pi, surfacecolor = TRA_interpolated100_xy, showscale = False, colorscale='rainbow', cmin=min_value, cmax=max_value))\n",
    "fig.add_trace(go.Surface(x = X0_xz, y = Y0_xz+2*pi, z = Z0_xz, surfacecolor = TRA_interpolated100_xz, showscale = False, colorscale='rainbow', cmin=min_value, cmax=max_value))\n",
    "fig.add_trace(go.Surface(x = X0_yz+2*pi, y = Y0_yz, z = Z0_yz, surfacecolor = TRA_interpolated100_yz, showscale = False, colorscale='rainbow', cmin=min_value, cmax=max_value))\n",
    "\n",
    "# camera\n",
    "camera = dict(eye=dict(x=-1.45,y=-1.45,z=1.7))\n",
    "fig.update_layout(scene_camera=camera)\n",
    "\n",
    "fig.show()"
   ]
  },
  {
   "cell_type": "code",
   "execution_count": null,
   "id": "23abead4",
   "metadata": {
    "ExecuteTime": {
     "end_time": "2022-02-08T10:16:10.813373Z",
     "start_time": "2022-02-08T10:16:10.767467Z"
    },
    "code_folding": [
     0
    ]
   },
   "outputs": [],
   "source": [
    "# 0.1% subsampling\n",
    "rdn1000 = random.sample(range(0, Nx*Ny), int(Nx*Ny/1000))\n",
    "\n",
    "# Subsample initial grid and TRA field (=subsample trajectories) on XY-plane\n",
    "x_XY_subsampled1000 = X0_xy.ravel()[rdn1000] # array (Nx*Ny/10, )\n",
    "y_XY_subsampled1000 = Y0_xy.ravel()[rdn1000] # array (Nx*Ny/10, )\n",
    "TRA_XY_subsampled1000 = TRA_xy.ravel()[rdn1000] # array (Nx*Ny/10, )\n",
    "\n",
    "# Subsample initial grid and TRA field (=subsample trajectories) on XZ-plane\n",
    "x_XZ_subsampled1000 = X0_xz.ravel()[rdn1000] # array (Nx*Ny/10, )\n",
    "y_XZ_subsampled1000 = Z0_xz.ravel()[rdn1000] # array (Nx*Ny/10, )\n",
    "TRA_XZ_subsampled1000 = TRA_xz.ravel()[rdn1000] # array (Nx*Ny/10, )\n",
    "\n",
    "# Subsample initial grid and TRA field (=subsample trajectories) on YZ-plane\n",
    "x_YZ_subsampled1000 = Y0_yz.ravel()[rdn1000] # array (Nx*Ny/10, )\n",
    "y_YZ_subsampled1000 = Z0_yz.ravel()[rdn1000] # array (Nx*Ny/10, )\n",
    "TRA_YZ_subsampled1000 = TRA_yz.ravel()[rdn1000] # array (Nx*Ny/10, )\n",
    "\n",
    "# Compute Interpolant\n",
    "interp1000_XY = Rbf(x_XY_subsampled1000, y_XY_subsampled1000, TRA_XY_subsampled1000, function = \"linear\")\n",
    "interp1000_XZ = Rbf(x_XZ_subsampled1000, y_XZ_subsampled1000, TRA_XZ_subsampled1000, function = \"linear\")\n",
    "interp1000_YZ = Rbf(x_YZ_subsampled1000, y_YZ_subsampled1000, TRA_YZ_subsampled1000, function = \"linear\")\n",
    "\n",
    "# Re-evaluate interpolant over original (initial) meshgrid\n",
    "TRA_interpolated1000_xy = interp1000_XY(X0_xy, Y0_xy) \n",
    "TRA_interpolated1000_xz = interp1000_XZ(X0_xz, Z0_xz) \n",
    "TRA_interpolated1000_yz = interp1000_YZ(Y0_yz, Z0_yz)"
   ]
  },
  {
   "cell_type": "code",
   "execution_count": null,
   "id": "442e17cd",
   "metadata": {
    "ExecuteTime": {
     "end_time": "2022-02-08T10:16:13.928803Z",
     "start_time": "2022-02-08T10:16:10.814342Z"
    },
    "code_folding": [
     0
    ]
   },
   "outputs": [],
   "source": [
    "# define minimum and maximum values for colorbar\n",
    "min_value = min(np.min(TRA_yz),min(np.min(TRA_xy), np.min(TRA_xz)))\n",
    "max_value = max(np.max(TRA_yz),max(np.max(TRA_xy), np.max(TRA_xz)))\n",
    "\n",
    "# create figure\n",
    "fig = go.Figure(data=[go.Surface(x = X0_xy, y = Y0_xy, z = Z0_xy, surfacecolor = TRA_interpolated1000_xy, showscale = True, colorscale='rainbow', cmin=min_value, cmax=max_value)])\n",
    "fig.add_trace(go.Surface(x = X0_xz, y = Y0_xz, z = Z0_xz, surfacecolor = TRA_interpolated1000_xz, showscale = False, colorscale='rainbow', cmin=min_value, cmax=max_value))\n",
    "fig.add_trace(go.Surface(x = X0_yz, y = Y0_yz, z = Z0_yz, surfacecolor = TRA_interpolated1000_yz, showscale = False, colorscale='rainbow', cmin=min_value, cmax=max_value))\n",
    "fig.add_trace(go.Surface(x = X0_xy, y = Y0_xy, z = Z0_xy-2*pi, surfacecolor = TRA_interpolated1000_xy, showscale = False, colorscale='rainbow', cmin=min_value, cmax=max_value))\n",
    "fig.add_trace(go.Surface(x = X0_xz, y = Y0_xz+2*pi, z = Z0_xz, surfacecolor = TRA_interpolated1000_xz, showscale = False, colorscale='rainbow', cmin=min_value, cmax=max_value))\n",
    "fig.add_trace(go.Surface(x = X0_yz+2*pi, y = Y0_yz, z = Z0_yz, surfacecolor = TRA_interpolated100_yz, showscale = False, colorscale='rainbow', cmin=min_value, cmax=max_value))\n",
    "\n",
    "# camera\n",
    "camera = dict(eye=dict(x=-1.45,y=-1.45,z=1.7))\n",
    "fig.update_layout(scene_camera=camera)\n",
    "\n",
    "fig.show()"
   ]
  },
  {
   "cell_type": "code",
   "execution_count": null,
   "id": "5bee5a51",
   "metadata": {},
   "outputs": [],
   "source": []
  }
 ],
 "metadata": {
  "kernelspec": {
   "display_name": "Python 3",
   "language": "python",
   "name": "python3"
  },
  "language_info": {
   "codemirror_mode": {
    "name": "ipython",
    "version": 3
   },
   "file_extension": ".py",
   "mimetype": "text/x-python",
   "name": "python",
   "nbconvert_exporter": "python",
   "pygments_lexer": "ipython3",
   "version": "3.7.12"
  },
  "toc": {
   "base_numbering": "0",
   "nav_menu": {},
   "number_sections": true,
   "sideBar": true,
   "skip_h1_title": false,
   "title_cell": "Table of Contents",
   "title_sidebar": "Contents",
   "toc_cell": false,
   "toc_position": {},
   "toc_section_display": true,
   "toc_window_display": true
  }
 },
 "nbformat": 4,
 "nbformat_minor": 5
}
