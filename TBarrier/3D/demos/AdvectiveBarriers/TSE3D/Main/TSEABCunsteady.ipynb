{
 "cells": [
  {
   "cell_type": "markdown",
   "id": "96070d25",
   "metadata": {},
   "source": [
    "We start by adding the necessary folders to the current working path."
   ]
  },
  {
   "cell_type": "code",
   "execution_count": null,
   "id": "f43b0a40",
   "metadata": {
    "ExecuteTime": {
     "end_time": "2022-03-04T15:43:55.197934Z",
     "start_time": "2022-03-04T15:43:55.191941Z"
    },
    "code_folding": [
     0
    ]
   },
   "outputs": [],
   "source": [
    "# import sys, os\n",
    "import sys, os\n",
    "\n",
    "# get current directory\n",
    "path = os.getcwd()\n",
    "\n",
    "# get parent directory\n",
    "parent_directory = os.path.sep.join(path.split(os.path.sep)[:-4])\n",
    "\n",
    "# add utils folder to current working path\n",
    "sys.path.append(parent_directory+\"/subfunctions/utils\")\n",
    "\n",
    "# add integration folder to current working path\n",
    "sys.path.append(parent_directory+\"/subfunctions/integration\")\n",
    "\n",
    "# add 'TSE3D' folder to current working path in order to access the functions\n",
    "sys.path.append(parent_directory+\"/demos/AdvectiveBarriers/TSE3D\")"
   ]
  },
  {
   "cell_type": "markdown",
   "id": "29a9c1bb",
   "metadata": {},
   "source": [
    "# Overview\n",
    "\n",
    "In the following notebook we compute the $ \\mathrm{TSE}/\\mathrm{\\overline{TSE}} $ on the three-dimensional, unsteady, viscous ABC-flow. The velocity field is given as discrete dataset defined over the 3D meshgrid $ [0,2\\pi]^3 $. The notebook is structured as follows:\n",
    "\n",
    "1. Import data from the file 'ABCunsteady.mat' stored in the folder 'data/ABC'.\n",
    "<br />\n",
    "2. Define computational parameters and data.\n",
    " <br />\n",
    "3. Define spatio-temporal domain.\n",
    " <br />\n",
    "4. Interpolate velo\n",
    "5. $ \\mathrm{TSE}/\\mathrm{\\overline{TSE}} $:\n",
    "\n",
    "    * Compute velocity along trajectories $ \\lbrace \\mathbf{\\dot{x}}(t_{i}) \\rbrace_{i=0}^N $ over the time interval $ [t_0, t_N] $.\n",
    "    <br />\n",
    "    \n",
    "    * Compute $ \\mathrm{TSE}/\\mathrm{\\overline{TSE}} $ from velocity along trajectories:\n",
    "    \n",
    "    \\begin{equation}\n",
    "    \\mathrm{TSE}_{t_0}^{t_N} = \\log{\\dfrac{|\\mathbf{\\dot{x}}(t_N)|}{|\\mathbf{\\dot{x}}(t_0)|}}\n",
    "    \\end{equation}\n",
    "    \n",
    "    \\begin{equation}\n",
    "    \\mathrm{\\overline{TSE}}_{t_0}^{t_N} = \\dfrac{1}{t_N-t_0} \\sum_{i=0}^{N-1}|\\log{\\dfrac{|\\mathbf{\\dot{x}}(t_{i+1})|}{|\\mathbf{\\dot{x}}(t_i)|}}|\n",
    "    \\end{equation}\n",
    "    \n",
    "6. Random subsampling\n",
    "    * Finally we test the ability of the $ \\mathrm{TSE}/\\mathrm{\\overline{TSE}} $ to detect vortical flow features in a sparse data setting by progressively downsampling the data.\n",
    "    \n",
    "7. References"
   ]
  },
  {
   "cell_type": "markdown",
   "id": "933474cf",
   "metadata": {},
   "source": [
    "# Import data"
   ]
  },
  {
   "cell_type": "code",
   "execution_count": null,
   "id": "d98dfac9",
   "metadata": {
    "ExecuteTime": {
     "end_time": "2022-03-04T15:43:55.762633Z",
     "start_time": "2022-03-04T15:43:55.223013Z"
    },
    "code_folding": [
     0
    ]
   },
   "outputs": [],
   "source": [
    "# import scipy\n",
    "import scipy.io as sio\n",
    "\n",
    "# Import velocity data from file in data-folder\n",
    "mat_file = sio.loadmat('../../../../data/ABC/ABCunsteady.mat')\n",
    "\n",
    "U = mat_file['u'] # array (NY, NX, NZ)\n",
    "V = mat_file['v'] # array (NY, NX, NZ)\n",
    "W = mat_file['w'] # array (NY, NX, NZ)\n",
    "x = mat_file['x'] # array (1, NX)\n",
    "y = mat_file['y'] # array (1, NY)\n",
    "z = mat_file['z'] # array (1, NZ)\n",
    "time_data = mat_file['t'] # array (1, NT)"
   ]
  },
  {
   "cell_type": "markdown",
   "id": "4a497f60",
   "metadata": {},
   "source": [
    "# Computational parameters\n",
    "\n",
    "Here we define the computational parameters."
   ]
  },
  {
   "cell_type": "code",
   "execution_count": null,
   "id": "6bed7fdd",
   "metadata": {
    "ExecuteTime": {
     "end_time": "2022-03-04T15:43:55.824647Z",
     "start_time": "2022-03-04T15:43:55.766718Z"
    },
    "code_folding": [
     0
    ]
   },
   "outputs": [],
   "source": [
    "# import numpy\n",
    "import numpy as np\n",
    "\n",
    "# Number of cores for parallel computing\n",
    "Ncores = 7 # int\n",
    "\n",
    "# Periodic boundary conditions\n",
    "periodic_x = True # bool\n",
    "periodic_y = True # bool\n",
    "periodic_z = True # bool\n",
    "periodic = [periodic_x, periodic_y, periodic_z]\n",
    "\n",
    "# Unsteady velocity field\n",
    "bool_unsteady = True # bool\n",
    "\n",
    "# Defined domain\n",
    "defined_domain = np.isfinite(U).astype(int) # array (NY, NX, NZ)\n",
    "\n",
    "## Compute meshgrid of dataset\n",
    "X, Y, Z = np.meshgrid(x, y, z) # array (NY, NX), array (NY, NX, NZ)\n",
    "\n",
    "## Resolution of meshgrid\n",
    "dx_data = X[0,1,0]-X[0,0,0] # float\n",
    "dy_data = Y[1,0,0]-Y[0,0,0] # float\n",
    "dz_data = Y[0,0,1]-Z[0,0,0] # float\n",
    "\n",
    "delta = [dx_data, dy_data, dx_data] # list (3, )"
   ]
  },
  {
   "cell_type": "markdown",
   "id": "eed2534e",
   "metadata": {},
   "source": [
    "# Spatio-temporal domain\n",
    "\n",
    "Here we define the spatio-temporal domain over which to consider the dynamical system."
   ]
  },
  {
   "cell_type": "code",
   "execution_count": null,
   "id": "f07c5540",
   "metadata": {
    "ExecuteTime": {
     "end_time": "2022-03-04T15:43:55.937087Z",
     "start_time": "2022-03-04T15:43:55.829179Z"
    },
    "code_folding": [
     0
    ]
   },
   "outputs": [],
   "source": [
    "# Initial time\n",
    "t0 = 0 # float\n",
    "\n",
    "# Final time\n",
    "tN = 10 # float\n",
    "\n",
    "# Time step-size\n",
    "dt = 0.1 # float\n",
    "\n",
    "# time-array\n",
    "time = np.arange(t0, tN+dt, dt) # shape (Nt,)\n",
    "\n",
    "# Length of time interval\n",
    "lenT = abs(tN-t0) # float\n",
    "\n",
    "# boundaries\n",
    "xmin = 0 # float\n",
    "xmax = 2*np.pi # float\n",
    "ymin = 0 # float\n",
    "ymax = 2*np.pi # float\n",
    "zmin = 0 # float\n",
    "zmax = 2*np.pi # float\n",
    "\n",
    "# Resolution of meshgrid\n",
    "Ny = 200 # int\n",
    "Nx = 200 # int\n",
    "Nz = 200 # int\n",
    "\n",
    "x_domain = np.linspace(xmin, xmax, Nx, endpoint = True) # array (Nx, )\n",
    "y_domain = np.linspace(ymin, ymax, Ny, endpoint = True) # array (Ny, )\n",
    "z_domain = np.linspace(zmin, zmax, Nz, endpoint = True) # array (Nz, )\n",
    "\n",
    "dx = x_domain[1]-x_domain[0] # float\n",
    "dy = y_domain[1]-y_domain[0] # float\n",
    "dz = z_domain[1]-z_domain[0] # float\n",
    "\n",
    "X_domain, Y_domain, Z_domain = np.meshgrid(x_domain, y_domain, z_domain) # array (Ny, Nx, Nz)"
   ]
  },
  {
   "cell_type": "markdown",
   "id": "3e9ab364",
   "metadata": {},
   "source": [
    "# Interpolate velocity\n",
    "\n",
    "In order to evaluate the velocity field at arbitrary locations, we interpolate the discrete velocity data. The interpolation with respect to time and space is always linear."
   ]
  },
  {
   "cell_type": "code",
   "execution_count": null,
   "id": "72ec3d66",
   "metadata": {
    "ExecuteTime": {
     "end_time": "2022-03-04T15:43:56.048707Z",
     "start_time": "2022-03-04T15:43:55.941668Z"
    },
    "code_folding": [
     0
    ]
   },
   "outputs": [],
   "source": [
    "# Import interpolation function for unsteady flow field\n",
    "from ipynb.fs.defs.Interpolant import interpolant_unsteady\n",
    "\n",
    "# Set nan values to zero (in case there are any) so that we can apply interpolant. \n",
    "# Interpolant does not work if the array contains nan values. \n",
    "U[np.isnan(U)] = 0\n",
    "V[np.isnan(V)] = 0\n",
    "W[np.isnan(W)] = 0\n",
    "\n",
    "# Interpolate velocity data using cubic spatial interpolation\n",
    "Interpolant = interpolant_unsteady(X, Y, Z, U, V, W, time_data)\n",
    "\n",
    "Interpolant_u = Interpolant[0] # RectangularBivariateSpline-object\n",
    "Interpolant_v = Interpolant[1] # RectangularBivariateSpline-object\n",
    "Interpolant_w = Interpolant[2] # RectangularBivariateSpline-object"
   ]
  },
  {
   "cell_type": "markdown",
   "id": "f122279d",
   "metadata": {},
   "source": [
    "# $ \\mathrm{TSE}/\\mathrm{\\overline{TSE}} $\n",
    "\n",
    "The computation of the $ \\mathrm{TSE}/\\mathrm{\\overline{TSE}} $ is not done over the 3D meshgrid but only over the 2D faces of the cube $ [0,2\\pi]^3 $.\n",
    "We iterate over all initial conditions on the faces of the cube and calculate the gradient of the flow map. From the maximum singular value of the gradient of the flow map we then compute the $ \\mathrm{TSE}/\\mathrm{\\overline{TSE}} $."
   ]
  },
  {
   "cell_type": "code",
   "execution_count": null,
   "id": "bb109b5a",
   "metadata": {
    "ExecuteTime": {
     "end_time": "2022-03-04T15:43:56.103240Z",
     "start_time": "2022-03-04T15:43:56.051637Z"
    },
    "code_folding": [
     0
    ],
    "run_control": {
     "marked": true
    }
   },
   "outputs": [],
   "source": [
    "# Import function to compute trajectory/velocity along trajectory\n",
    "from ipynb.fs.defs.integration_dFdt import integration_dFdt\n",
    "\n",
    "# Import function to compute trajectory stretching exponents (TSE/TSE_bar)\n",
    "from ipynb.fs.defs.TSE import _TSE, _TSE_bar\n",
    "\n",
    "# Import package for parallel computing\n",
    "from joblib import Parallel, delayed\n",
    "\n",
    "def compute_TSE(x0, y0, z0):\n",
    "    \n",
    "    X0 = np.array([x0, y0, z0]) # array (3, Nx*Ny*Nz)\n",
    "    \n",
    "    DFdt = integration_dFdt(time, X0, X, Y, Z, Interpolant_u, Interpolant_v, Interpolant_w, periodic, bool_unsteady)[1] # array (Nt, 3, Nx*Ny*Nz)\n",
    "    \n",
    "    # Compute TSE, TSE_bar\n",
    "    TSE, TSE_bar = [], []\n",
    "    \n",
    "    for i in range(DFdt.shape[2]):\n",
    "        TSE.append(_TSE(DFdt[:,:,i].transpose()))\n",
    "        TSE_bar.append(_TSE_bar(DFdt[:,:,i].transpose(), lenT))\n",
    "    \n",
    "    return TSE, TSE_bar\n",
    "\n",
    "# Split x0,y0,z0 into 'Ncores' equal batches for parallel computing\n",
    "def split(a, n):\n",
    "    k, m = divmod(len(a), n)\n",
    "    return (a[i*k+min(i, m):(i+1)*k+min(i+1, m)] for i in range(n))"
   ]
  },
  {
   "cell_type": "markdown",
   "id": "3c65f9c3",
   "metadata": {},
   "source": [
    "## XY-plane\n",
    "\n",
    "Compute $ \\mathrm{TSE}/\\mathrm{\\overline{TSE}} $ on XY-plane."
   ]
  },
  {
   "cell_type": "code",
   "execution_count": null,
   "id": "40acff61",
   "metadata": {
    "ExecuteTime": {
     "end_time": "2022-03-04T15:44:09.038146Z",
     "start_time": "2022-03-04T15:43:56.106456Z"
    },
    "code_folding": [
     0
    ]
   },
   "outputs": [],
   "source": [
    "# Vectorize initial conditions by arranging them to a vector of size (Nx*Ny*Nz, )\n",
    "\n",
    "# XY-plane\n",
    "x0_xy = X_domain[:,:,-1].ravel() # array (Nx*Ny*Nz, )\n",
    "y0_xy = Y_domain[:,:,-1].ravel() # array (Nx*Ny*Nz, )\n",
    "z0_xy = Z_domain[:,:,-1].ravel() # array (Nx*Ny*Nz, )\n",
    "\n",
    "x0_batch = list(split(x0_xy, Ncores)) # list (Nx*Ny*Nz)\n",
    "y0_batch = list(split(y0_xy, Ncores)) # list (Nx*Ny*Nz)\n",
    "z0_batch = list(split(z0_xy, Ncores)) # list (Nx*Ny*Nz)\n",
    "\n",
    "# Parallel computing\n",
    "results = Parallel(n_jobs=Ncores, verbose = 2)(delayed(compute_TSE)(x0_batch[i], y0_batch[i], z0_batch[i]) for i in range(len(x0_batch)))\n",
    "\n",
    "# Extract results of omega computation on xy-plane\n",
    "TSE_xy = results[0][0]\n",
    "TSE_bar_xy = results[0][1]\n",
    "for res in results[1:]:\n",
    "    TSE_xy = np.append(TSE_xy, res[0], axis = -1)\n",
    "    TSE_bar_xy = np.append(TSE_bar_xy, res[1], axis = -1)\n",
    "\n",
    "# Reshape arrays\n",
    "X0_xy = np.array(x0_xy).reshape(Ny,Nx) # array (Ny, Nx)\n",
    "Y0_xy = np.array(y0_xy).reshape(Ny,Nx) # array (Ny, Nx)\n",
    "Z0_xy = np.array(z0_xy).reshape(Ny,Nx) # array (Ny, Nx)\n",
    "TSE_xy = np.array(TSE_xy).reshape(Ny,Nx) # array (Ny, Nx)\n",
    "TSE_bar_xy = np.array(TSE_bar_xy).reshape(Ny,Nx) # array (Ny, Nx)"
   ]
  },
  {
   "cell_type": "markdown",
   "id": "9cb9d229",
   "metadata": {},
   "source": [
    "## XZ-plane\n",
    "\n",
    "Compute $ \\mathrm{TSE}/\\mathrm{\\overline{TSE}} $ on XZ-plane."
   ]
  },
  {
   "cell_type": "code",
   "execution_count": null,
   "id": "9b96c2d8",
   "metadata": {
    "ExecuteTime": {
     "end_time": "2022-03-04T15:44:21.368435Z",
     "start_time": "2022-03-04T15:44:09.041315Z"
    },
    "code_folding": [
     0
    ]
   },
   "outputs": [],
   "source": [
    "# Vectorize initial conditions by arranging them to a vector of size (Nx*Ny*Nz, )\n",
    "\n",
    "# XZ-plane\n",
    "x0_xz = X_domain[0,:,:].ravel() # array (Nx*Ny*Nz, )\n",
    "y0_xz = Y_domain[0,:,:].ravel() # array (Nx*Ny*Nz, )\n",
    "z0_xz = Z_domain[0,:,:].ravel() # array (Nx*Ny*Nz, )\n",
    "\n",
    "x0_batch = list(split(x0_xz, Ncores)) # list (Nx*Ny*Nz)\n",
    "y0_batch = list(split(y0_xz, Ncores)) # list (Nx*Ny*Nz)\n",
    "z0_batch = list(split(z0_xz, Ncores)) # list (Nx*Ny*Nz)\n",
    "\n",
    "# Parallel computing\n",
    "results = Parallel(n_jobs=Ncores, verbose = 2)(delayed(compute_TSE)(x0_batch[i], y0_batch[i], z0_batch[i]) for i in range(len(x0_batch)))\n",
    "\n",
    "# Extract results of omega computation on xz-plane\n",
    "TSE_xz = results[0][0]\n",
    "TSE_bar_xz = results[0][1]\n",
    "for res in results[1:]:\n",
    "    TSE_xz = np.append(TSE_xz, res[0], axis = -1)\n",
    "    TSE_bar_xz = np.append(TSE_bar_xz, res[1], axis = -1)\n",
    "    \n",
    "# Reshape arrays\n",
    "X0_xz = np.array(x0_xz).reshape(Nz,Nx) # array (Nz, Nx)\n",
    "Y0_xz = np.array(y0_xz).reshape(Nz,Nx) # array (Nz, Nx)\n",
    "Z0_xz = np.array(z0_xz).reshape(Nz,Nx) # array (Nz, Nx)\n",
    "TSE_xz = np.array(TSE_xz).reshape(Nz,Nx) # array (Nz, Nx)\n",
    "TSE_bar_xz = np.array(TSE_bar_xz).reshape(Nz,Nx) # array (Nz, Nx)"
   ]
  },
  {
   "cell_type": "markdown",
   "id": "48cd13aa",
   "metadata": {},
   "source": [
    "## YZ-plane\n",
    "\n",
    "Compute $ \\mathrm{TSE}/\\mathrm{\\overline{TSE}} $ on YZ-plane."
   ]
  },
  {
   "cell_type": "code",
   "execution_count": null,
   "id": "16314130",
   "metadata": {
    "ExecuteTime": {
     "end_time": "2022-03-04T15:44:33.778530Z",
     "start_time": "2022-03-04T15:44:21.374783Z"
    },
    "code_folding": [
     0
    ],
    "scrolled": false
   },
   "outputs": [],
   "source": [
    "# Vectorize initial conditions by arranging them to a vector of size (Nx*Ny*Nz, )\n",
    "\n",
    "# YZ-plane\n",
    "x0_yz = X_domain[:,0,:].ravel() # array (Nx*Ny*Nz, )\n",
    "y0_yz = Y_domain[:,0,:].ravel() # array (Nx*Ny*Nz, )\n",
    "z0_yz = Z_domain[:,0,:].ravel() # array (Nx*Ny*Nz, )\n",
    "    \n",
    "x0_batch = list(split(x0_yz, Ncores)) # list (Nx*Ny*Nz)\n",
    "y0_batch = list(split(y0_yz, Ncores)) # list (Nx*Ny*Nz)\n",
    "z0_batch = list(split(z0_yz, Ncores)) # list (Nx*Ny*Nz)\n",
    "\n",
    "# Parallel computing\n",
    "results = Parallel(n_jobs=Ncores, verbose = 2)(delayed(compute_TSE)(x0_batch[i], y0_batch[i], z0_batch[i]) for i in range(len(x0_batch)))\n",
    "\n",
    "# Extract results of omega computation on yz-plane\n",
    "TSE_yz = results[0][0]\n",
    "TSE_bar_yz = results[0][1]\n",
    "for res in results[1:]:\n",
    "    TSE_yz = np.append(TSE_yz, res[0], axis = -1)\n",
    "    TSE_bar_yz = np.append(TSE_bar_yz, res[1], axis = -1)\n",
    "\n",
    "# Reshape arrays\n",
    "X0_yz = np.array(x0_yz).reshape(Nz,Ny) # array (Nt, Nz, Ny)\n",
    "Y0_yz = np.array(y0_yz).reshape(Nz,Ny) # array (Nt, Nz, Ny)\n",
    "Z0_yz = np.array(z0_yz).reshape(Nz,Ny) # array (Nt, Nz, Ny)\n",
    "TSE_yz = np.array(TSE_yz).reshape(Nz,Ny) # array (Nz, Ny)\n",
    "TSE_bar_yz = np.array(TSE_bar_yz).reshape(Nz,Ny) # array (Nz, Ny)"
   ]
  },
  {
   "cell_type": "code",
   "execution_count": null,
   "id": "7063c104",
   "metadata": {
    "ExecuteTime": {
     "end_time": "2022-03-04T15:44:38.371220Z",
     "start_time": "2022-03-04T15:44:33.783357Z"
    },
    "code_folding": [
     0
    ]
   },
   "outputs": [],
   "source": [
    "############################################ PLOT RESULTS ############################################\n",
    "\n",
    "# Import plotly for 3D figures\n",
    "from plotly import graph_objs as go\n",
    "\n",
    "# define minimum and maximum values for colorbar\n",
    "min_value = min(np.min(TSE_yz),min(np.min(TSE_xy), np.min(TSE_xz)))\n",
    "max_value = max(np.max(TSE_yz),max(np.max(TSE_xy), np.max(TSE_xz)))\n",
    "\n",
    "# create figure\n",
    "fig = go.Figure(data=[go.Surface(x = X0_xy, y = Y0_xy, z = Z0_xy, surfacecolor = TSE_xy, showscale = True, colorscale='rainbow', cmin=min_value, cmax=max_value)])\n",
    "fig.add_trace(go.Surface(x = X0_xz, y = Y0_xz, z = Z0_xz, surfacecolor = TSE_xz, showscale = False, colorscale='rainbow', cmin=min_value, cmax=max_value))\n",
    "fig.add_trace(go.Surface(x = X0_yz, y = Y0_yz, z = Z0_yz, surfacecolor = TSE_yz, showscale = False, colorscale='rainbow', cmin=min_value, cmax=max_value))\n",
    "fig.add_trace(go.Surface(x = X0_xy, y = Y0_xy, z = Z0_xy-2*np.pi, surfacecolor = TSE_xy, showscale = False, colorscale='rainbow', cmin=min_value, cmax=max_value))\n",
    "fig.add_trace(go.Surface(x = X0_xz, y = Y0_xz+2*np.pi, z = Z0_xz, surfacecolor = TSE_xz, showscale = False, colorscale='rainbow', cmin=min_value, cmax=max_value))\n",
    "fig.add_trace(go.Surface(x = X0_yz+2*np.pi, y = Y0_yz, z = Z0_yz, surfacecolor = TSE_yz, showscale = False, colorscale='rainbow', cmin=min_value, cmax=max_value))\n",
    "\n",
    "# camera\n",
    "camera = dict(eye=dict(x=-1.45,y=-1.45,z=1.7))\n",
    "fig.update_layout(scene_camera=camera)\n",
    "\n",
    "fig.update_layout(\n",
    "    title={\n",
    "        'text': f'$\\mathrm{{TSE}}_{t0}^{{{tN}}}$',\n",
    "        'y':0.9,\n",
    "        'x':0.5,\n",
    "        'xanchor': 'center',\n",
    "        'yanchor': 'top'})\n",
    "\n",
    "fig.show()"
   ]
  },
  {
   "cell_type": "code",
   "execution_count": null,
   "id": "a25534f7",
   "metadata": {
    "ExecuteTime": {
     "end_time": "2022-03-04T15:44:42.649700Z",
     "start_time": "2022-03-04T15:44:38.374870Z"
    },
    "code_folding": [
     0
    ]
   },
   "outputs": [],
   "source": [
    "############################################ PLOT RESULTS ############################################\n",
    "\n",
    "# Import plotly for 3D figures\n",
    "from plotly import graph_objs as go\n",
    "\n",
    "# define minimum and maximum values for colorbar\n",
    "min_value = min(np.min(TSE_bar_yz),min(np.min(TSE_bar_xy), np.min(TSE_bar_xz)))\n",
    "max_value = max(np.max(TSE_bar_yz),max(np.max(TSE_bar_xy), np.max(TSE_bar_xz)))\n",
    "\n",
    "# create figure\n",
    "fig = go.Figure(data=[go.Surface(x = X0_xy, y = Y0_xy, z = Z0_xy, surfacecolor = TSE_bar_xy, showscale = True, colorscale='rainbow', cmin=min_value, cmax=max_value)])\n",
    "fig.add_trace(go.Surface(x = X0_xz, y = Y0_xz, z = Z0_xz, surfacecolor = TSE_bar_xz, showscale = False, colorscale='rainbow', cmin=min_value, cmax=max_value))\n",
    "fig.add_trace(go.Surface(x = X0_yz, y = Y0_yz, z = Z0_yz, surfacecolor = TSE_bar_yz, showscale = False, colorscale='rainbow', cmin=min_value, cmax=max_value))\n",
    "fig.add_trace(go.Surface(x = X0_xy, y = Y0_xy, z = Z0_xy-2*np.pi, surfacecolor = TSE_bar_xy, showscale = False, colorscale='rainbow', cmin=min_value, cmax=max_value))\n",
    "fig.add_trace(go.Surface(x = X0_xz, y = Y0_xz+2*np.pi, z = Z0_xz, surfacecolor = TSE_bar_xz, showscale = False, colorscale='rainbow', cmin=min_value, cmax=max_value))\n",
    "fig.add_trace(go.Surface(x = X0_yz+2*np.pi, y = Y0_yz, z = Z0_yz, surfacecolor = TSE_bar_yz, showscale = False, colorscale='rainbow', cmin=min_value, cmax=max_value))\n",
    "\n",
    "# camera\n",
    "camera = dict(eye=dict(x=-1.45,y=-1.45,z=1.7))\n",
    "fig.update_layout(scene_camera=camera)\n",
    "\n",
    "fig.update_layout(\n",
    "    title={\n",
    "        'text': f'$\\mathrm{{\\overline{{TSE}}}}_{t0}^{{{tN}}}$',\n",
    "        'y':0.9,\n",
    "        'x':0.5,\n",
    "        'xanchor': 'center',\n",
    "        'yanchor': 'top'})\n",
    "\n",
    "fig.show()"
   ]
  },
  {
   "cell_type": "markdown",
   "id": "bbdec2cb",
   "metadata": {},
   "source": [
    "The $ \\mathrm{TSE}/\\mathrm{\\overline{TSE}} $ highlights features similar to [FTLE](../../FTLE3D/Main/FTLEABCsteady.ipynb). In order to test the ability of the $ \\mathrm{TSE}/\\mathrm{\\overline{TSE}} $ to extract flow features even in a sparse data setting, we randomly progressively downsample the trajectory data."
   ]
  },
  {
   "cell_type": "markdown",
   "id": "8e61f8cf",
   "metadata": {},
   "source": [
    "# Random subsampling\n",
    "\n",
    "As shown in the following figures, $ \\mathrm{TSE}/\\mathrm{\\overline{TSE}} $ is able to capture the flow features at very low resolution."
   ]
  },
  {
   "cell_type": "markdown",
   "id": "761316a3",
   "metadata": {},
   "source": [
    "## 10% subsampling"
   ]
  },
  {
   "cell_type": "code",
   "execution_count": null,
   "id": "b9156f26",
   "metadata": {
    "ExecuteTime": {
     "end_time": "2022-03-04T15:45:19.688241Z",
     "start_time": "2022-03-04T15:44:42.652908Z"
    },
    "code_folding": [
     0
    ]
   },
   "outputs": [],
   "source": [
    "# import random number generator\n",
    "import random\n",
    "\n",
    "# 10% subsampling\n",
    "rdn10 = random.sample(range(0, Nx*Ny), int(Nx*Ny/10))\n",
    "\n",
    "# Subsample initial grid and TSE_bar field (=subsample trajectories) on XY-plane\n",
    "x_XY_subsampled10 = X0_xy.ravel()[rdn10] # array (Nx*Ny/10, )\n",
    "y_XY_subsampled10 = Y0_xy.ravel()[rdn10] # array (Nx*Ny/10, )\n",
    "TSE_bar_XY_subsampled10 = TSE_bar_xy.ravel()[rdn10] # array (Nx*Ny/10, )\n",
    "\n",
    "# Subsample initial grid and TSE_bar field (=subsample trajectories) on XZ-plane\n",
    "x_XZ_subsampled10 = X0_xz.ravel()[rdn10] # array (Nx*Ny/10, )\n",
    "y_XZ_subsampled10 = Z0_xz.ravel()[rdn10] # array (Nx*Ny/10, )\n",
    "TSE_bar_XZ_subsampled10 = TSE_bar_xz.ravel()[rdn10] # array (Nx*Ny/10, )\n",
    "\n",
    "# Subsample initial grid and TRA field (=subsample trajectories) on YZ-plane\n",
    "x_YZ_subsampled10 = Y0_yz.ravel()[rdn10] # array (Nx*Ny/10, )\n",
    "y_YZ_subsampled10 = Z0_yz.ravel()[rdn10] # array (Nx*Ny/10, )\n",
    "TSE_bar_YZ_subsampled10 = TSE_bar_yz.ravel()[rdn10] # array (Nx*Ny/10, )\n",
    "\n",
    "# Import interpolant for scatter interpolation\n",
    "from scipy.interpolate import Rbf\n",
    "\n",
    "# Compute Interpolant\n",
    "interp10_XY = Rbf(x_XY_subsampled10, y_XY_subsampled10, TSE_bar_XY_subsampled10, function = \"linear\")\n",
    "interp10_XZ = Rbf(x_XZ_subsampled10, y_XZ_subsampled10, TSE_bar_XZ_subsampled10, function = \"linear\")\n",
    "interp10_YZ = Rbf(x_YZ_subsampled10, y_YZ_subsampled10, TSE_bar_YZ_subsampled10, function = \"linear\")\n",
    "\n",
    "# Re-evaluate interpolant over original (initial) meshgrid\n",
    "TSE_bar_interpolated10_xy = interp10_XY(X0_xy, Y0_xy) \n",
    "TSE_bar_interpolated10_xz = interp10_XZ(X0_xz, Z0_xz) \n",
    "TSE_bar_interpolated10_yz = interp10_YZ(Y0_yz, Z0_yz)"
   ]
  },
  {
   "cell_type": "code",
   "execution_count": null,
   "id": "50bba46b",
   "metadata": {
    "ExecuteTime": {
     "end_time": "2022-03-04T15:58:58.419396Z",
     "start_time": "2022-03-04T15:58:54.741287Z"
    },
    "code_folding": []
   },
   "outputs": [],
   "source": [
    "############################################ PLOT RESULTS ############################################\n",
    "\n",
    "# define minimum and maximum values for colorbar\n",
    "min_value = min(np.min(TSE_bar_yz),min(np.min(TSE_bar_xy), np.min(TSE_bar_xz)))\n",
    "max_value = max(np.max(TSE_bar_yz),max(np.max(TSE_bar_xy), np.max(TSE_bar_xz)))\n",
    "\n",
    "# create figure\n",
    "fig = go.Figure(data=[go.Surface(x = X0_xy, y = Y0_xy, z = Z0_xy, surfacecolor = TSE_bar_interpolated10_xy, showscale = True, colorscale='rainbow', cmin=min_value, cmax=max_value)])\n",
    "fig.add_trace(go.Surface(x = X0_xz, y = Y0_xz, z = Z0_xz, surfacecolor = TSE_bar_interpolated10_xz, showscale = False, colorscale='rainbow', cmin=min_value, cmax=max_value))\n",
    "fig.add_trace(go.Surface(x = X0_yz, y = Y0_yz, z = Z0_yz, surfacecolor = TSE_bar_interpolated10_yz, showscale = False, colorscale='rainbow', cmin=min_value, cmax=max_value))\n",
    "fig.add_trace(go.Surface(x = X0_xy, y = Y0_xy, z = Z0_xy-2*np.pi, surfacecolor = TSE_bar_interpolated10_xy, showscale = False, colorscale='rainbow', cmin=min_value, cmax=max_value))\n",
    "fig.add_trace(go.Surface(x = X0_xz, y = Y0_xz+2*np.pi, z = Z0_xz, surfacecolor = TSE_bar_interpolated10_xz, showscale = False, colorscale='rainbow', cmin=min_value, cmax=max_value))\n",
    "fig.add_trace(go.Surface(x = X0_yz+2*np.pi, y = Y0_yz, z = Z0_yz, surfacecolor = TSE_bar_interpolated10_yz, showscale = False, colorscale='rainbow', cmin=min_value, cmax=max_value))\n",
    "\n",
    "# camera\n",
    "camera = dict(eye=dict(x=-1.45,y=-1.45,z=1.7))\n",
    "fig.update_layout(scene_camera=camera)\n",
    "\n",
    "fig.update_layout(\n",
    "    title={\n",
    "        'text': f'$\\mathrm{{\\overline{{TSE}}}}_{t0}^{{{tN}}}$',\n",
    "        'y':0.9,\n",
    "        'x':0.5,\n",
    "        'xanchor': 'center',\n",
    "        'yanchor': 'top'})\n",
    "\n",
    "fig.show()"
   ]
  },
  {
   "cell_type": "markdown",
   "id": "658f4ef1",
   "metadata": {},
   "source": [
    "## 1% subsampling"
   ]
  },
  {
   "cell_type": "code",
   "execution_count": null,
   "id": "4eba34a2",
   "metadata": {
    "ExecuteTime": {
     "end_time": "2022-03-04T15:45:23.798203Z",
     "start_time": "2022-03-04T15:45:23.480474Z"
    },
    "code_folding": [
     0
    ]
   },
   "outputs": [],
   "source": [
    "# 1% subsampling\n",
    "rdn100 = random.sample(range(0, Nx*Ny), int(Nx*Ny/100))\n",
    "\n",
    "# Subsample initial grid and TSE_bar field (=subsample trajectories) on XY-plane\n",
    "x_XY_subsampled100 = X0_xy.ravel()[rdn100] # array (Nx*Ny/10, )\n",
    "y_XY_subsampled100 = Y0_xy.ravel()[rdn100] # array (Nx*Ny/10, )\n",
    "TSE_bar_XY_subsampled100 = TSE_bar_xy.ravel()[rdn100] # array (Nx*Ny/10, )\n",
    "\n",
    "# Subsample initial grid and TSE_bar field (=subsample trajectories) on XZ-plane\n",
    "x_XZ_subsampled100 = X0_xz.ravel()[rdn100] # array (Nx*Ny/10, )\n",
    "y_XZ_subsampled100 = Z0_xz.ravel()[rdn100] # array (Nx*Ny/10, )\n",
    "TSE_bar_XZ_subsampled100 = TSE_bar_xz.ravel()[rdn100] # array (Nx*Ny/10, )\n",
    "\n",
    "# Subsample initial grid and TSE_bar field (=subsample trajectories) on YZ-plane\n",
    "x_YZ_subsampled100 = Y0_yz.ravel()[rdn100] # array (Nx*Ny/10, )\n",
    "y_YZ_subsampled100 = Z0_yz.ravel()[rdn100] # array (Nx*Ny/10, )\n",
    "TSE_bar_YZ_subsampled100 = TSE_bar_yz.ravel()[rdn100] # array (Nx*Ny/10, )\n",
    "\n",
    "# Compute Interpolant\n",
    "interp100_XY = Rbf(x_XY_subsampled100, y_XY_subsampled100, TSE_bar_XY_subsampled100, function = \"linear\")\n",
    "interp100_XZ = Rbf(x_XZ_subsampled100, y_XZ_subsampled100, TSE_bar_XZ_subsampled100, function = \"linear\")\n",
    "interp100_YZ = Rbf(x_YZ_subsampled100, y_YZ_subsampled100, TSE_bar_YZ_subsampled100, function = \"linear\")\n",
    "\n",
    "# Re-evaluate interpolant over original (initial) meshgrid\n",
    "TSE_bar_interpolated100_xy = interp100_XY(X0_xy, Y0_xy) \n",
    "TSE_bar_interpolated100_xz = interp100_XZ(X0_xz, Z0_xz) \n",
    "TSE_bar_interpolated100_yz = interp100_YZ(Y0_yz, Z0_yz)"
   ]
  },
  {
   "cell_type": "code",
   "execution_count": null,
   "id": "599490ec",
   "metadata": {
    "ExecuteTime": {
     "end_time": "2022-03-04T15:45:27.663318Z",
     "start_time": "2022-03-04T15:45:23.801187Z"
    },
    "code_folding": [
     0
    ],
    "run_control": {
     "marked": true
    }
   },
   "outputs": [],
   "source": [
    "############################################ PLOT RESULTS ############################################\n",
    "\n",
    "# define minimum and maximum values for colorbar\n",
    "min_value = min(np.min(TSE_bar_yz),min(np.min(TSE_bar_xy), np.min(TSE_bar_xz)))\n",
    "max_value = max(np.max(TSE_bar_yz),max(np.max(TSE_bar_xy), np.max(TSE_bar_xz)))\n",
    "\n",
    "# create figure\n",
    "fig = go.Figure(data=[go.Surface(x = X0_xy, y = Y0_xy, z = Z0_xy, surfacecolor = TSE_bar_interpolated100_xy, showscale = True, colorscale='rainbow', cmin=min_value, cmax=max_value)])\n",
    "fig.add_trace(go.Surface(x = X0_xz, y = Y0_xz, z = Z0_xz, surfacecolor = TSE_bar_interpolated100_xz, showscale = False, colorscale='rainbow', cmin=min_value, cmax=max_value))\n",
    "fig.add_trace(go.Surface(x = X0_yz, y = Y0_yz, z = Z0_yz, surfacecolor = TSE_bar_interpolated100_yz, showscale = False, colorscale='rainbow', cmin=min_value, cmax=max_value))\n",
    "fig.add_trace(go.Surface(x = X0_xy, y = Y0_xy, z = Z0_xy-2*np.pi, surfacecolor = TSE_bar_interpolated100_xy, showscale = False, colorscale='rainbow', cmin=min_value, cmax=max_value))\n",
    "fig.add_trace(go.Surface(x = X0_xz, y = Y0_xz+2*np.pi, z = Z0_xz, surfacecolor = TSE_bar_interpolated100_xz, showscale = False, colorscale='rainbow', cmin=min_value, cmax=max_value))\n",
    "fig.add_trace(go.Surface(x = X0_yz+2*np.pi, y = Y0_yz, z = Z0_yz, surfacecolor = TSE_bar_interpolated100_yz, showscale = False, colorscale='rainbow', cmin=min_value, cmax=max_value))\n",
    "\n",
    "# camera\n",
    "camera = dict(eye=dict(x=-1.45,y=-1.45,z=1.7))\n",
    "fig.update_layout(scene_camera=camera)\n",
    "\n",
    "fig.update_layout(\n",
    "    title={\n",
    "        'text': f'$\\mathrm{{\\overline{{TSE}}}}_{t0}^{{{tN}}}$',\n",
    "        'y':0.9,\n",
    "        'x':0.5,\n",
    "        'xanchor': 'center',\n",
    "        'yanchor': 'top'})\n",
    "\n",
    "fig.show()"
   ]
  },
  {
   "cell_type": "markdown",
   "id": "de1af6bc",
   "metadata": {},
   "source": [
    "## 0.1% subsampling"
   ]
  },
  {
   "cell_type": "code",
   "execution_count": null,
   "id": "920729ea",
   "metadata": {
    "ExecuteTime": {
     "end_time": "2022-03-04T15:45:27.701366Z",
     "start_time": "2022-03-04T15:45:27.665558Z"
    },
    "code_folding": [
     0
    ]
   },
   "outputs": [],
   "source": [
    "# 0.1% subsampling\n",
    "rdn1000 = random.sample(range(0, Nx*Ny), int(Nx*Ny/1000))\n",
    "\n",
    "# Subsample initial grid and TSE_bar field (=subsample trajectories) on XY-plane\n",
    "x_XY_subsampled1000 = X0_xy.ravel()[rdn1000] # array (Nx*Ny/10, )\n",
    "y_XY_subsampled1000 = Y0_xy.ravel()[rdn1000] # array (Nx*Ny/10, )\n",
    "TSE_bar_XY_subsampled1000 = TSE_bar_xy.ravel()[rdn1000] # array (Nx*Ny/10, )\n",
    "\n",
    "# Subsample initial grid and TSE_bar field (=subsample trajectories) on XZ-plane\n",
    "x_XZ_subsampled1000 = X0_xz.ravel()[rdn1000] # array (Nx*Ny/10, )\n",
    "y_XZ_subsampled1000 = Z0_xz.ravel()[rdn1000] # array (Nx*Ny/10, )\n",
    "TSE_bar_XZ_subsampled1000 = TSE_bar_xz.ravel()[rdn1000] # array (Nx*Ny/10, )\n",
    "\n",
    "# Subsample initial grid and TSE_bar field (=subsample trajectories) on YZ-plane\n",
    "x_YZ_subsampled1000 = Y0_yz.ravel()[rdn1000] # array (Nx*Ny/10, )\n",
    "y_YZ_subsampled1000 = Z0_yz.ravel()[rdn1000] # array (Nx*Ny/10, )\n",
    "TSE_bar_YZ_subsampled1000 = TSE_bar_yz.ravel()[rdn1000] # array (Nx*Ny/10, )\n",
    "\n",
    "# Compute Interpolant\n",
    "interp1000_XY = Rbf(x_XY_subsampled1000, y_XY_subsampled1000, TSE_bar_XY_subsampled1000, function = \"linear\")\n",
    "interp1000_XZ = Rbf(x_XZ_subsampled1000, y_XZ_subsampled1000, TSE_bar_XZ_subsampled1000, function = \"linear\")\n",
    "interp1000_YZ = Rbf(x_YZ_subsampled1000, y_YZ_subsampled1000, TSE_bar_YZ_subsampled1000, function = \"linear\")\n",
    "\n",
    "# Re-evaluate interpolant over original (initial) meshgrid\n",
    "TSE_bar_interpolated1000_xy = interp1000_XY(X0_xy, Y0_xy) \n",
    "TSE_bar_interpolated1000_xz = interp1000_XZ(X0_xz, Z0_xz) \n",
    "TSE_bar_interpolated1000_yz = interp1000_YZ(Y0_yz, Z0_yz)"
   ]
  },
  {
   "cell_type": "code",
   "execution_count": null,
   "id": "1cb41731",
   "metadata": {
    "ExecuteTime": {
     "end_time": "2022-03-04T15:45:31.633380Z",
     "start_time": "2022-03-04T15:45:27.704522Z"
    },
    "code_folding": [
     0,
     18
    ]
   },
   "outputs": [],
   "source": [
    "############################################ PLOT RESULTS ############################################\n",
    "\n",
    "# define minimum and maximum values for colorbar\n",
    "min_value = min(np.min(TSE_bar_yz),min(np.min(TSE_bar_xy), np.min(TSE_bar_xz)))\n",
    "max_value = max(np.max(TSE_bar_yz),max(np.max(TSE_bar_xy), np.max(TSE_bar_xz)))\n",
    "\n",
    "# create figure\n",
    "fig = go.Figure(data=[go.Surface(x = X0_xy, y = Y0_xy, z = Z0_xy, surfacecolor = TSE_bar_interpolated1000_xy, showscale = True, colorscale='rainbow', cmin=min_value, cmax=max_value)])\n",
    "fig.add_trace(go.Surface(x = X0_xz, y = Y0_xz, z = Z0_xz, surfacecolor = TSE_bar_interpolated1000_xz, showscale = False, colorscale='rainbow', cmin=min_value, cmax=max_value))\n",
    "fig.add_trace(go.Surface(x = X0_yz, y = Y0_yz, z = Z0_yz, surfacecolor = TSE_bar_interpolated1000_yz, showscale = False, colorscale='rainbow', cmin=min_value, cmax=max_value))\n",
    "fig.add_trace(go.Surface(x = X0_xy, y = Y0_xy, z = Z0_xy-2*np.pi, surfacecolor = TSE_bar_interpolated1000_xy, showscale = False, colorscale='rainbow', cmin=min_value, cmax=max_value))\n",
    "fig.add_trace(go.Surface(x = X0_xz, y = Y0_xz+2*np.pi, z = Z0_xz, surfacecolor = TSE_bar_interpolated1000_xz, showscale = False, colorscale='rainbow', cmin=min_value, cmax=max_value))\n",
    "fig.add_trace(go.Surface(x = X0_yz+2*np.pi, y = Y0_yz, z = Z0_yz, surfacecolor = TSE_bar_interpolated100_yz, showscale = False, colorscale='rainbow', cmin=min_value, cmax=max_value))\n",
    "\n",
    "# camera\n",
    "camera = dict(eye=dict(x=-1.45,y=-1.45,z=1.7))\n",
    "fig.update_layout(scene_camera=camera)\n",
    "\n",
    "fig.update_layout(\n",
    "    title={\n",
    "        'text': f'$\\mathrm{{\\overline{{TSE}}}}_{t0}^{{{tN}}}$',\n",
    "        'y':0.9,\n",
    "        'x':0.5,\n",
    "        'xanchor': 'center',\n",
    "        'yanchor': 'top'})\n",
    "\n",
    "fig.show()"
   ]
  },
  {
   "cell_type": "markdown",
   "id": "cf1e6f71",
   "metadata": {},
   "source": [
    "The $ \\mathrm{\\overline{TSE}} $ approximates hyperbolic flow features from single lagrangian particle trajectories.\n",
    "Contrary to other commonly used hyperbolic LCS detection methods such as the $ \\mathrm{\\overline{FTLE}}$, the features of $ \\mathrm{\\overline{TSE}} $ are robust with respect to subsampling as the main flow features are preserved even in a very sparse setting."
   ]
  },
  {
   "cell_type": "markdown",
   "id": "2ecf0071",
   "metadata": {},
   "source": [
    "# References\n",
    "\n",
    "[1] Haller, G., Aksamit, N., & Encinas-Bartos, A. P. (2021). Quasi-objective coherent structure diagnostics from single trajectories. Chaos: An Interdisciplinary Journal of Nonlinear Science, 31(4), 043131.\n",
    "\n",
    "[2] Notebook 5.5.2 in \"Transport Barriers and Coherent Structures in Flow Data\" by George Haller"
   ]
  }
 ],
 "metadata": {
  "kernelspec": {
   "display_name": "Python 3",
   "language": "python",
   "name": "python3"
  },
  "language_info": {
   "codemirror_mode": {
    "name": "ipython",
    "version": 3
   },
   "file_extension": ".py",
   "mimetype": "text/x-python",
   "name": "python",
   "nbconvert_exporter": "python",
   "pygments_lexer": "ipython3",
   "version": "3.7.12"
  },
  "latex_envs": {
   "LaTeX_envs_menu_present": true,
   "autoclose": false,
   "autocomplete": true,
   "bibliofile": "biblio.bib",
   "cite_by": "apalike",
   "current_citInitial": 1,
   "eqLabelWithNumbers": true,
   "eqNumInitial": 1,
   "hotkeys": {
    "equation": "Ctrl-E",
    "itemize": "Ctrl-I"
   },
   "labels_anchors": false,
   "latex_user_defs": false,
   "report_style_numbering": false,
   "user_envs_cfg": false
  },
  "toc": {
   "base_numbering": "0",
   "nav_menu": {},
   "number_sections": true,
   "sideBar": true,
   "skip_h1_title": false,
   "title_cell": "Table of Contents",
   "title_sidebar": "Contents",
   "toc_cell": false,
   "toc_position": {},
   "toc_section_display": true,
   "toc_window_display": true
  }
 },
 "nbformat": 4,
 "nbformat_minor": 5
}
