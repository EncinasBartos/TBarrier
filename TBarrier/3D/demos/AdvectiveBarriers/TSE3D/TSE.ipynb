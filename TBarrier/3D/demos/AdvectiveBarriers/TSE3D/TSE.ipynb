{
 "cells": [
  {
   "cell_type": "markdown",
   "metadata": {},
   "source": [
    "The Trajectory Stretching Exponent $ (\\mathrm{TSE}_{t_0}^{t_N}) $ is computed from the velocity along a lagrangian particle trajectory. The time-interval $ [t_0, t_N] $ is discretized with a resolution of N."
   ]
  },
  {
   "cell_type": "markdown",
   "metadata": {},
   "source": [
    "\\begin{equation}\n",
    "\\mathrm{TSE}_{t_0}^{t_N} = \\log{\\dfrac{|\\mathbf{\\dot{x}}(t_N)|}{|\\mathbf{\\dot{x}}(t_0)|}}\n",
    "\\end{equation}"
   ]
  },
  {
   "cell_type": "markdown",
   "metadata": {},
   "source": [
    "| Name | Type (Shape) | Description |\n",
    "| --- | --- | --- |\n",
    "| lenT | float | $ t_N-t_0 $ |\n",
    "| velocity | array (3, Nt) | velocity along trajectories over the <br /> discretized time-interval [t_0,t_N]|\n",
    "| TSE | float | $ \\mathrm{TSE}_{t_0}^{t_N} $|\n",
    "| TSE_bar | float | $ \\mathrm{\\overline{TSE}}_{t_0}^{t_N} $|"
   ]
  },
  {
   "cell_type": "code",
   "execution_count": null,
   "metadata": {
    "code_folding": [
     0
    ]
   },
   "outputs": [],
   "source": [
    "# Import numpy\n",
    "import numpy as np\n",
    "\n",
    "# Import symbols from math\n",
    "from math import sqrt, acos"
   ]
  },
  {
   "cell_type": "code",
   "execution_count": 2,
   "metadata": {
    "code_folding": [
     0
    ]
   },
   "outputs": [],
   "source": [
    "def _TSE(velocity):\n",
    "    '''\n",
    "    Compute the Trajectory stretching exponent (TSE) over a single trajectory.\n",
    "    \n",
    "    Parameters:\n",
    "        velocity: array(3, Nt) velocity data along a trajectory\n",
    "        \n",
    "    Returns:\n",
    "        TSE: float, log (v_n / v_0)\n",
    "    '''                \n",
    "    # velocity at time '0'\n",
    "    velx0 = velocity[0, 0]\n",
    "    vely0 = velocity[1, 0]\n",
    "    velz0 = velocity[2, 0]\n",
    "            \n",
    "    vel0 = sqrt(velx0**2+vely0**2+velz0**2)\n",
    "                \n",
    "    # velocity at time 'N'\n",
    "    velxN = velocity[0, -1]\n",
    "    velyN = velocity[1, -1]\n",
    "    velzN = velocity[2, -1]\n",
    "                \n",
    "    velN = sqrt(velxN**2+velyN**2+velzN**2)\n",
    "                \n",
    "    TSE = np.log(velN/vel0)\n",
    "        \n",
    "    return TSE"
   ]
  },
  {
   "cell_type": "markdown",
   "metadata": {},
   "source": [
    "The average Trajectory Stretching Exponent $ (\\mathrm{\\overline{TSE}}_{t_0}^{t_N}) $ is computed from the velocity along the trajectories. The time-interval $ [t_0, t_N] $ is discretized with a resolution of N.\n",
    "\n",
    "\\begin{equation}\n",
    "\\mathrm{\\overline{TSE}}_{t_0}^{t_N} = \\dfrac{1}{t_N-t_0} \\sum_{i=0}^{N-1}|\\log{\\dfrac{|\\mathbf{\\dot{x}}(t_{i+1})|}{|\\mathbf{\\dot{x}}(t_i)|}}|\n",
    "\\end{equation}"
   ]
  },
  {
   "cell_type": "code",
   "execution_count": null,
   "metadata": {
    "code_folding": [
     0
    ]
   },
   "outputs": [],
   "source": [
    "def _TSE_bar(velocity, lenT):\n",
    "    '''\n",
    "    Compute the averaged Trajectory Stretching Exponent (TSE) over a single trajectory.\n",
    "    \n",
    "    Parameters:\n",
    "        velocity: array(3, Nt) velocity data along a trajectory\n",
    "        lenT: float, length of the trajectory\n",
    "        \n",
    "    Returns:\n",
    "        TSE_bar: float averaged TSE\n",
    "    ''' \n",
    "    TSE_bar = []\n",
    "        \n",
    "    # Iterate over trajectory\n",
    "    for k in range(velocity.shape[1]-1):\n",
    "            \n",
    "        velx0 = velocity[0, k]\n",
    "        vely0 = velocity[1, k]\n",
    "        velz0 = velocity[2, k]\n",
    "                    \n",
    "        vel0 = sqrt(velx0**2+vely0**2+velz0**2)\n",
    "                    \n",
    "        velx1 = velocity[0, k+1]\n",
    "        vely1 = velocity[1, k+1]\n",
    "        velz1 = velocity[2, k+1]\n",
    "                \n",
    "        vel1 = sqrt(velx1**2+vely1**2+velz1**2)\n",
    "                \n",
    "        TSE_bar.append(abs(np.log(vel1/vel0)))\n",
    "        \n",
    "    return np.sum(TSE_bar)/lenT"
   ]
  }
 ],
 "metadata": {
  "kernelspec": {
   "display_name": "Python 3",
   "language": "python",
   "name": "python3"
  },
  "language_info": {
   "codemirror_mode": {
    "name": "ipython",
    "version": 3
   },
   "file_extension": ".py",
   "mimetype": "text/x-python",
   "name": "python",
   "nbconvert_exporter": "python",
   "pygments_lexer": "ipython3",
   "version": "3.7.11"
  },
  "latex_envs": {
   "LaTeX_envs_menu_present": true,
   "autoclose": false,
   "autocomplete": true,
   "bibliofile": "biblio.bib",
   "cite_by": "apalike",
   "current_citInitial": 1,
   "eqLabelWithNumbers": true,
   "eqNumInitial": 1,
   "hotkeys": {
    "equation": "Ctrl-E",
    "itemize": "Ctrl-I"
   },
   "labels_anchors": false,
   "latex_user_defs": false,
   "report_style_numbering": false,
   "user_envs_cfg": false
  },
  "toc": {
   "base_numbering": 1,
   "nav_menu": {},
   "number_sections": true,
   "sideBar": true,
   "skip_h1_title": false,
   "title_cell": "Table of Contents",
   "title_sidebar": "Contents",
   "toc_cell": false,
   "toc_position": {},
   "toc_section_display": true,
   "toc_window_display": false
  }
 },
 "nbformat": 4,
 "nbformat_minor": 4
}
