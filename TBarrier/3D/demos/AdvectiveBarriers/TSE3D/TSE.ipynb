{
 "cells": [
  {
   "cell_type": "markdown",
   "metadata": {},
   "source": [
    "The Trajectory Stretching Exponent $ (\\mathrm{TSE}_{t_0}^{t_N}) $ is computed from the velocity along a lagrangian particle trajectory. The time-interval $ [t_0, t_N] $ is discretized with a resolution of N."
   ]
  },
  {
   "cell_type": "markdown",
   "metadata": {},
   "source": [
    "\\begin{equation}\n",
<<<<<<< HEAD
    "\\mathrm{TSE}_{t_0}^{t_N} = \\log{\\dfrac{|\\mathbf{\\dot{x}}(t_N)|}{|\\mathbf{\\dot{x}}(t_0)|}}\n",
=======
    "\\mathrm{TSE}_{t_0}^{t_N} = \\log{\\dfrac{\\sqrt{|\\mathbf{\\dot{x}}(t_N)|^2 +\\mathrm{v}_0^2}}{\\sqrt{|\\mathbf{\\dot{x}}(t_0)|^2 +\\mathrm{v}_0^2}}}\n",
>>>>>>> 9f629d66ae56f4b85feb5c441d44a74d1f3b2bba
    "\\end{equation}"
   ]
  },
  {
   "cell_type": "markdown",
   "metadata": {},
   "source": [
    "| Name | Type (Shape) | Description |\n",
    "| --- | --- | --- |\n",
    "| lenT | float | $ t_N-t_0 $ |\n",
<<<<<<< HEAD
    "| velocity | array (3, N) | velocity along trajectories over the <br /> discretized time-interval with resolution N|\n",
    "| TSE | float | $ \\mathrm{TSE}_{t_0}^{t_N} $|\n",
    "| TSE_bar | float | $ \\mathrm{\\overline{TSE}}_{t_0}^{t_N} $|"
=======
    "| v0 | float | $ \\mathrm{v}_0 $|\n",
    "| velocity | array (3, N) | velocity along trajectories over the <br /> discretized time-interval with resolution N|\n",
    "| TSE | float | $ \\mathrm{\\overline{TSE}}_{t_0}^{t_N} $|"
>>>>>>> 9f629d66ae56f4b85feb5c441d44a74d1f3b2bba
   ]
  },
  {
   "cell_type": "code",
   "execution_count": null,
<<<<<<< HEAD
   "metadata": {
    "code_folding": [
     0
    ]
   },
=======
   "metadata": {},
>>>>>>> 9f629d66ae56f4b85feb5c441d44a74d1f3b2bba
   "outputs": [],
   "source": [
    "# Import numpy\n",
    "import numpy as np\n",
    "\n",
    "# Import symbols from math\n",
    "from math import sqrt, acos"
   ]
  },
  {
   "cell_type": "code",
   "execution_count": 2,
<<<<<<< HEAD
   "metadata": {
    "code_folding": [
     0
    ]
   },
   "outputs": [],
   "source": [
    "def _TSE(velocity):\n",
=======
   "metadata": {},
   "outputs": [],
   "source": [
    "def _TSE(velocity, v0 = 0):\n",
>>>>>>> 9f629d66ae56f4b85feb5c441d44a74d1f3b2bba
    "                \n",
    "    # velocity at time '0'\n",
    "    velx0 = velocity[0, 0]\n",
    "    vely0 = velocity[1, 0]\n",
    "    velz0 = velocity[2, 0]\n",
    "            \n",
<<<<<<< HEAD
    "    vel0 = sqrt(velx0**2+vely0**2+velz0**2)\n",
=======
    "    vel0 = sqrt(velx0**2+vely0**2+velz0**2+v0**2)\n",
>>>>>>> 9f629d66ae56f4b85feb5c441d44a74d1f3b2bba
    "                \n",
    "    # velocity at time 'N'\n",
    "    velxN = velocity[0, -1]\n",
    "    velyN = velocity[1, -1]\n",
    "    velzN = velocity[2, -1]\n",
    "                \n",
<<<<<<< HEAD
    "    velN = sqrt(velxN**2+velyN**2+velzN**2)\n",
=======
    "    velN = sqrt(velxN**2+velyN**2+velzN**2+v0**2)\n",
>>>>>>> 9f629d66ae56f4b85feb5c441d44a74d1f3b2bba
    "                \n",
    "    TSE = np.log(velN/vel0)\n",
    "        \n",
    "    return TSE"
   ]
  },
  {
   "cell_type": "markdown",
   "metadata": {},
   "source": [
    "The average Trajectory Stretching Exponent $ (\\mathrm{\\overline{TSE}}_{t_0}^{t_N}) $ is computed from the velocity along the trajectories. The time-interval $ [t_0, t_N] $ is discretized with a resolution of N.\n",
    "\n",
    "\\begin{equation}\n",
<<<<<<< HEAD
    "\\mathrm{\\overline{TSE}}_{t_0}^{t_N} = \\dfrac{1}{t_N-t_0} \\sum_{i=0}^{N-1}|\\log{\\dfrac{|\\mathbf{\\dot{x}}(t_{i+1})|}{|\\mathbf{\\dot{x}}(t_i)|}}|\n",
=======
    "\\mathrm{\\overline{TSE}}_{t_0}^{t_N} = \\dfrac{1}{t_N-t_0} \\sum_{i=0}^{N-1}|\\log{\\dfrac{\\sqrt{|\\mathbf{\\dot{x}}(t_{i+1})|^2 +\\mathrm{v}_0^2}}{\\sqrt{|\\mathbf{\\dot{x}}(t_i)|^2 +\\mathrm{v}_0^2}}}|\n",
>>>>>>> 9f629d66ae56f4b85feb5c441d44a74d1f3b2bba
    "\\end{equation}"
   ]
  },
  {
   "cell_type": "code",
   "execution_count": null,
<<<<<<< HEAD
   "metadata": {
    "code_folding": [
     0
    ]
   },
   "outputs": [],
   "source": [
    "def _TSE_bar(velocity, lenT):\n",
=======
   "metadata": {},
   "outputs": [],
   "source": [
    "def _TSE_bar(velocity, lenT, v0 = 0):\n",
>>>>>>> 9f629d66ae56f4b85feb5c441d44a74d1f3b2bba
    "        \n",
    "    TSE_bar = []\n",
    "        \n",
    "    # Iterate over trajectory\n",
    "    for k in range(velocity.shape[1]-1):\n",
    "            \n",
    "        velx0 = velocity[0, k]\n",
    "        vely0 = velocity[1, k]\n",
    "        velz0 = velocity[2, k]\n",
    "                    \n",
<<<<<<< HEAD
    "        vel0 = sqrt(velx0**2+vely0**2+velz0**2)\n",
=======
    "        vel0 = sqrt(velx0**2+vely0**2+velz0**2+v0**2)\n",
>>>>>>> 9f629d66ae56f4b85feb5c441d44a74d1f3b2bba
    "                    \n",
    "        velx1 = velocity[0, k+1]\n",
    "        vely1 = velocity[1, k+1]\n",
    "        velz1 = velocity[2, k+1]\n",
    "                \n",
<<<<<<< HEAD
    "        vel1 = sqrt(velx1**2+vely1**2+velz1**2)\n",
=======
    "        vel1 = sqrt(velx1**2+vely1**2+velz1**2+v0**2)\n",
>>>>>>> 9f629d66ae56f4b85feb5c441d44a74d1f3b2bba
    "                \n",
    "        TSE_bar.append(abs(np.log(vel1/vel0)))\n",
    "        \n",
    "    return np.sum(TSE_bar)/lenT"
   ]
  }
 ],
 "metadata": {
  "kernelspec": {
   "display_name": "Python 3",
   "language": "python",
   "name": "python3"
  },
  "language_info": {
   "codemirror_mode": {
    "name": "ipython",
    "version": 3
   },
   "file_extension": ".py",
   "mimetype": "text/x-python",
   "name": "python",
   "nbconvert_exporter": "python",
   "pygments_lexer": "ipython3",
<<<<<<< HEAD
   "version": "3.7.11"
  },
  "latex_envs": {
   "LaTeX_envs_menu_present": true,
   "autoclose": false,
   "autocomplete": true,
   "bibliofile": "biblio.bib",
   "cite_by": "apalike",
   "current_citInitial": 1,
   "eqLabelWithNumbers": true,
   "eqNumInitial": 1,
   "hotkeys": {
    "equation": "Ctrl-E",
    "itemize": "Ctrl-I"
   },
   "labels_anchors": false,
   "latex_user_defs": false,
   "report_style_numbering": false,
   "user_envs_cfg": false
=======
   "version": "3.7.12"
>>>>>>> 9f629d66ae56f4b85feb5c441d44a74d1f3b2bba
  },
  "toc": {
   "base_numbering": 1,
   "nav_menu": {},
   "number_sections": true,
   "sideBar": true,
   "skip_h1_title": false,
   "title_cell": "Table of Contents",
   "title_sidebar": "Contents",
   "toc_cell": false,
   "toc_position": {},
   "toc_section_display": true,
   "toc_window_display": false
  }
 },
 "nbformat": 4,
 "nbformat_minor": 4
}
