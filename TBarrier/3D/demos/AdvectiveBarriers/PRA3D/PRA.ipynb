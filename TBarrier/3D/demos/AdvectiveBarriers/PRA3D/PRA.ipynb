{
 "cells": [
  {
   "cell_type": "code",
   "execution_count": 1,
   "metadata": {
    "ExecuteTime": {
     "end_time": "2022-02-11T10:19:28.034501Z",
     "start_time": "2022-02-11T10:19:28.029514Z"
    },
    "code_folding": [],
    "run_control": {
     "marked": true
    }
   },
   "outputs": [],
   "source": [
    "import sys, os\n",
    "\n",
    "# get current directory\n",
    "path = os.getcwd()\n",
    "\n",
    "# get parent directory\n",
    "parent_directory = os.path.sep.join(path.split(os.path.sep)[:-3])\n",
    "\n",
    "# add utils folder to current working path\n",
    "sys.path.append(parent_directory+\"/subfunctions/utils\")\n",
    "\n",
    "# add integration folder to current working path\n",
    "sys.path.append(parent_directory+\"/subfunctions/integration\")"
   ]
  },
  {
   "cell_type": "markdown",
   "metadata": {},
   "source": [
    "The Polar Rotation Angle (PRA) is computed from the left and right singular vectors $ \\xi_i, \\eta_i $ (with i = 1, 2, 3) of the gradient of the flow map $ \\mathbf{\\nabla F}_{t_0}^{t_N}(\\mathbf{x}_0) $:\n",
    "\n",
    "\\begin{equation}\n",
    "\\mathrm{PRA}_{t_0}^{t_N}(\\mathbf{x}_0) = \\dfrac{1}{2} (\\sum_{i=0}^{3} \\langle \\xi_i(\\mathbf{x}_0;t_0, t_N), \\eta_i(\\mathbf{x}_0;t_0, t_N) \\rangle - 1)\n",
    "\\end{equation}"
   ]
  },
  {
   "cell_type": "markdown",
   "metadata": {
    "ExecuteTime": {
     "end_time": "2021-10-25T07:40:09.687566Z",
     "start_time": "2021-10-25T07:40:09.684107Z"
    }
   },
   "source": [
    "| Name | Type (Shape) | Description |\n",
    "| --- | --- | --- |\n",
    "| grad_Fmap | array (3, 3) | $ \\mathbf{\\nabla F}_{t_0}^{t_N}(\\mathbf{x}_0) $|\n",
    "| PRA | float | $ \\mathrm{PRA}_{t_0}^{t_N}(\\mathbf{x}_0) $|"
   ]
  },
  {
   "cell_type": "code",
   "execution_count": 4,
   "metadata": {
    "ExecuteTime": {
     "end_time": "2022-02-11T10:19:44.020871Z",
     "start_time": "2022-02-11T10:19:44.009329Z"
    }
   },
   "outputs": [],
   "source": [
    "# Import numpy\n",
    "import numpy as np\n",
    "\n",
    "# Import arccos from math\n",
    "from math import acos\n",
    "\n",
    "# Import function to compute singular values/vectors of two-dimensional matrix\n",
    "from ipynb.fs.defs.SVD import SVD"
   ]
  },
  {
   "cell_type": "code",
   "execution_count": 2,
   "metadata": {
    "ExecuteTime": {
     "end_time": "2022-02-11T10:19:45.290034Z",
     "start_time": "2022-02-11T10:19:45.272111Z"
    }
   },
   "outputs": [],
   "source": [
    "def _PRA(grad_Fmap):\n",
    "    '''The Polar Rotation Angle (PRA) is computed from the left and right singular vectors of the gradient of the flow map\n",
    "    These are computed from an SVD.\n",
    "    \n",
    "    Parameters:\n",
    "        grad_Fmap: array(3,3) gradient of the flow map\n",
    "        \n",
    "    Returns\n",
    "        PRA: float arc cosine of the dot product between left and right singular vectors\n",
    "    '''                \n",
    "    P, SIG, Q = SVD(grad_Fmap)\n",
    "    \n",
    "    argcos = 0.5*(np.dot(P[0, :],Q[0, :])+np.dot(P[1, :],Q[1, :])+np.dot(P[2, :],Q[2, :])-1)\n",
    "            \n",
    "    if argcos < -1:\n",
    "                \n",
    "        argcos = -1\n",
    "                \n",
    "    elif argcos > 1:\n",
    "        \n",
    "        argcos = 1\n",
    "            \n",
    "    PRA = acos(argcos)\n",
    "        \n",
    "    return PRA"
   ]
  }
 ],
 "metadata": {
  "kernelspec": {
   "display_name": "Python 3",
   "language": "python",
   "name": "python3"
  },
  "language_info": {
   "codemirror_mode": {
    "name": "ipython",
    "version": 3
   },
   "file_extension": ".py",
   "mimetype": "text/x-python",
   "name": "python",
   "nbconvert_exporter": "python",
   "pygments_lexer": "ipython3",
   "version": "3.7.12"
  },
  "latex_envs": {
   "LaTeX_envs_menu_present": true,
   "autoclose": false,
   "autocomplete": true,
   "bibliofile": "biblio.bib",
   "cite_by": "apalike",
   "current_citInitial": 1,
   "eqLabelWithNumbers": true,
   "eqNumInitial": 1,
   "hotkeys": {
    "equation": "Ctrl-E",
    "itemize": "Ctrl-I"
   },
   "labels_anchors": false,
   "latex_user_defs": false,
   "report_style_numbering": false,
   "user_envs_cfg": false
  },
  "toc": {
   "base_numbering": 1,
   "nav_menu": {},
   "number_sections": true,
   "sideBar": true,
   "skip_h1_title": false,
   "title_cell": "Table of Contents",
   "title_sidebar": "Contents",
   "toc_cell": false,
   "toc_position": {},
   "toc_section_display": true,
   "toc_window_display": false
  }
 },
 "nbformat": 4,
 "nbformat_minor": 4
}
