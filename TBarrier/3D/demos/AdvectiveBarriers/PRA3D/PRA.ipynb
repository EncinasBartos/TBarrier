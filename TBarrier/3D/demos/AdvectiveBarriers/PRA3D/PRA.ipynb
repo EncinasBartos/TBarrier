{
 "cells": [
  {
   "cell_type": "code",
   "execution_count": 3,
   "metadata": {
    "ExecuteTime": {
     "end_time": "2022-02-11T10:19:28.034501Z",
     "start_time": "2022-02-11T10:19:28.029514Z"
    },
    "code_folding": [],
    "run_control": {
     "marked": true
    }
   },
   "outputs": [
    {
     "name": "stdout",
     "output_type": "stream",
     "text": [
      "C:\\Users\\encin\\OneDrive\\TBarrier\\TBarrier\\3D\n",
      "Wall time: 0 ns\n"
     ]
    }
   ],
   "source": [
    "import sys, os\n",
    "\n",
    "# get current directory\n",
    "path = os.getcwd()\n",
    "\n",
    "# get parent directory\n",
    "parent_directory = os.path.sep.join(path.split(os.path.sep)[:-3])\n",
    "\n",
    "# add utils folder to current working path\n",
    "sys.path.append(parent_directory+\"/subfunctions/utils\")\n",
    "\n",
    "# add integration folder to current working path\n",
    "sys.path.append(parent_directory+\"/subfunctions/integration\")"
   ]
  },
  {
   "cell_type": "markdown",
   "metadata": {},
   "source": [
    "The Polar Rotation Angle (PRA) is computed from the left and right singular vectors of $ \\xi_i, \\eta_i $ (with i = 1, 2, 3) of the gradient of the flow map $ \\mathbf{\\nabla F}_{t_0}^{t_N}(\\mathbf{x}_0) $:\n",
    "\n",
    "\\begin{equation}\n",
    "\\mathrm{PRA}_{t_0}^{t_N}(\\mathbf{x}_0) = \\dfrac{1}{2} (\\sum_{i=0}^{3} \\langle \\xi_i(\\mathbf{x}_0;t_0, t_N), \\eta_i(\\mathbf{x}_0;t_0, t_N) \\rangle - 1)\n",
    "\\end{equation}"
   ]
  },
  {
   "cell_type": "markdown",
   "metadata": {
    "ExecuteTime": {
     "end_time": "2021-10-25T07:40:09.687566Z",
     "start_time": "2021-10-25T07:40:09.684107Z"
    }
   },
   "source": [
    "| Name | Type (Shape) | Description |\n",
    "| --- | --- | --- |\n",
    "| grad_Fmap | array (3, 3) | $ \\mathbf{\\nabla F}_{t_0}^{t_N}(\\mathbf{x}_0) $|\n",
    "| PRA | float | $ \\mathrm{PRA}_{t_0}^{t_N}(\\mathbf{x}_0) $|"
   ]
  },
  {
   "cell_type": "code",
   "execution_count": 4,
   "metadata": {
    "ExecuteTime": {
     "end_time": "2022-02-11T10:19:44.020871Z",
     "start_time": "2022-02-11T10:19:44.009329Z"
    }
   },
   "outputs": [],
   "source": [
    "# Import numpy\n",
    "import numpy as np\n",
    "\n",
    "# Import arccos from math\n",
    "from math import acos\n",
    "\n",
    "# Import function to compute singular values/vectors of two-dimensional matrix\n",
    "from ipynb.fs.defs.SVD3D import SVD"
   ]
  },
  {
   "cell_type": "code",
   "execution_count": 5,
   "metadata": {
    "ExecuteTime": {
     "end_time": "2022-02-11T10:19:45.290034Z",
     "start_time": "2022-02-11T10:19:45.272111Z"
    }
   },
   "outputs": [],
   "source": [
    "def _PRA(grad_Fmap):\n",
    "                \n",
    "    P, SIG, Q = SVD(grad_Fmap)\n",
    "    \n",
    "    argcos = 0.5*(np.dot(P[0, :],Q[0, :])+np.dot(P[1, :],Q[1, :])+np.dot(P[2, :],Q[2, :])-1)\n",
    "            \n",
    "    if argcos < -1:\n",
    "                \n",
    "        argcos = -1\n",
    "                \n",
    "    elif argcos > 1:\n",
    "        \n",
    "        argcos = 1\n",
    "            \n",
    "    PRA = acos(argcos)\n",
    "        \n",
    "    return PRA"
   ]
  }
 ],
 "metadata": {
  "kernelspec": {
   "display_name": "Python 3",
   "language": "python",
   "name": "python3"
  },
  "language_info": {
   "codemirror_mode": {
    "name": "ipython",
    "version": 3
   },
   "file_extension": ".py",
   "mimetype": "text/x-python",
   "name": "python",
   "nbconvert_exporter": "python",
   "pygments_lexer": "ipython3",
   "version": "3.7.12"
  },
  "toc": {
   "base_numbering": 1,
   "nav_menu": {},
   "number_sections": true,
   "sideBar": true,
   "skip_h1_title": false,
   "title_cell": "Table of Contents",
   "title_sidebar": "Contents",
   "toc_cell": false,
   "toc_position": {},
   "toc_section_display": true,
   "toc_window_display": false
  }
 },
 "nbformat": 4,
 "nbformat_minor": 4
}
