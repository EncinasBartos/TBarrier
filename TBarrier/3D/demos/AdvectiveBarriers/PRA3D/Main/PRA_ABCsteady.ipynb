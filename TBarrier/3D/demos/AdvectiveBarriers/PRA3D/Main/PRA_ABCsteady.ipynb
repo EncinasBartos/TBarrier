{
 "cells": [
  {
<<<<<<< HEAD
   "cell_type": "markdown",
   "metadata": {
    "ExecuteTime": {
     "end_time": "2022-03-04T09:41:28.394423Z",
     "start_time": "2022-03-04T09:41:28.390471Z"
    },
    "code_folding": []
   },
   "source": [
    "We start by adding the necessary folders to the current working path."
=======
   "cell_type": "code",
   "execution_count": null,
   "id": "81153c25",
   "metadata": {
    "ExecuteTime": {
     "end_time": "2022-02-09T12:11:39.334433Z",
     "start_time": "2022-02-09T12:11:39.322465Z"
    }
   },
   "outputs": [],
   "source": [
    "# add folders to working directory"
>>>>>>> 9f629d66ae56f4b85feb5c441d44a74d1f3b2bba
   ]
  },
  {
   "cell_type": "code",
   "execution_count": null,
<<<<<<< HEAD
   "metadata": {
    "ExecuteTime": {
     "end_time": "2022-03-04T15:27:27.849587Z",
     "start_time": "2022-03-04T15:27:27.843753Z"
=======
   "id": "bb46126d",
   "metadata": {
    "ExecuteTime": {
     "end_time": "2022-02-09T12:11:39.651031Z",
     "start_time": "2022-02-09T12:11:39.636072Z"
>>>>>>> 9f629d66ae56f4b85feb5c441d44a74d1f3b2bba
    },
    "code_folding": [
     0
    ]
   },
   "outputs": [],
   "source": [
    "# import sys/os\n",
    "import sys, os\n",
    "\n",
    "# get current directory\n",
    "path = os.getcwd()\n",
    "\n",
    "# get parent directory\n",
    "parent_directory = os.path.sep.join(path.split(os.path.sep)[:-4])\n",
    "\n",
    "# add utils folder to current working path\n",
    "sys.path.append(parent_directory+\"/subfunctions/utils\")\n",
    "\n",
    "# add integration folder to current working path\n",
    "sys.path.append(parent_directory+\"/subfunctions/integration\")\n",
    "\n",
    "# add 'PRA3D' folder to current working path in order to access the functions\n",
    "sys.path.append(parent_directory+\"/demos/AdvectiveBarriers/PRA3D\")"
   ]
  },
  {
   "cell_type": "markdown",
<<<<<<< HEAD
=======
   "id": "46af9041",
>>>>>>> 9f629d66ae56f4b85feb5c441d44a74d1f3b2bba
   "metadata": {},
   "source": [
    "# Overview\n",
    "\n",
<<<<<<< HEAD
    "In the following notebook we compute the Polar Rotation Angle (PRA) on the three-dimensional, steady ABC-flow. The velocity field is analytically defined. The notebook is structured as follows:\n",
=======
    "In the following notebook we compute the finite time Lyapunov exponent (FTLE) on the three-dimensional, steady ABC-flow. The velocity field is analytically defined. The notebook is structured as follows:\n",
>>>>>>> 9f629d66ae56f4b85feb5c441d44a74d1f3b2bba
    "\n",
    "1. Import data from the file 'ABCsteady.mat' stored in the folder 'data'.\n",
    "<br />\n",
    "2. Define computational parameters and data.\n",
    " <br />\n",
    "3. Define spatio-temporal domain.\n",
    " <br />\n",
    "4. Interpolate velocity from (discrete) gridded data.\n",
    " <br />\n",
<<<<<<< HEAD
    "5. PRA:\n",
    "\n",
    "    * Compute gradient of flow map $ \\mathbf{\\nabla F}_{t_0}^{t_N}(\\mathbf{x}_0) $ over meshgrid using an auxiliary grid.\n",
    "\n",
    "    <br />\n",
    "    \n",
    "    * Compute the Polar Rotation Angle (PRA) from the left and right singular vectors of $ \\xi_i, \\eta_i $ (with i = 1, 2, 3) of the gradient of the flow map $ \\mathbf{\\nabla F}_{t_0}^{t_N}(\\mathbf{x}_0) $:\n",
    "\n",
    "\\begin{equation}\n",
    "\\mathrm{PRA}_{t_0}^{t_N}(\\mathbf{x}_0) = \\dfrac{1}{2} (\\sum_{i=0}^{3} \\langle \\xi_i(\\mathbf{x}_0;t_0, t_N), \\eta_i(\\mathbf{x}_0;t_0, t_N) \\rangle - 1)\n",
    "\\end{equation}\n",
    " <br />\n",
    "6. References"
=======
    "5. FTLE:\n",
    "\n",
    "    * Compute gradient of flow map $ \\mathbf{\\nabla F}_{t_0}^{t_N}(\\mathbf{x}_0) $. The gradient of the flow map is computed by solving the system of coupled ODEs:\n",
    "    \\begin{align*}\n",
    "    \\dfrac{d}{dt}\\mathbf{F}_{t_0}^{t}(\\mathbf{x}_0) &= \\mathbf{v}(\\mathbf{F}_{t_0}^{t}(\\mathbf{x}_0),t) \\\\\n",
    "    \\dfrac{d}{dt}\\mathbf{\\nabla F}_{t_0}^{t}(\\mathbf{x}_0) &= \\mathbf{\\nabla v}(\\mathbf{x},t)\\mathbf{\\nabla F}_{t_0}^{t}(\\mathbf{x}_0)\n",
    "    \\end{align*}\n",
    "    <br />\n",
    "    \n",
    "    * Compute FTLE from maximum singular value $ \\sigma_{max} $ of $ \\mathbf{\\nabla F}_{t_0}^{t_N}(\\mathbf{x}_0) $ according to:\n",
    "    \\begin{equation}\n",
    "    \\mathrm{FTLE}_{t_0}^{t_N}(\\mathbf{x}_0) = \\dfrac{1}{t_N-t_0}\\log(\\sigma_{max}(\\mathbf{x}_0))\n",
    "    \\end{equation}"
>>>>>>> 9f629d66ae56f4b85feb5c441d44a74d1f3b2bba
   ]
  },
  {
   "cell_type": "markdown",
<<<<<<< HEAD
   "metadata": {},
   "source": [
    "# Import data"
=======
   "id": "69d4b27c",
   "metadata": {},
   "source": [
    "# Import Data"
>>>>>>> 9f629d66ae56f4b85feb5c441d44a74d1f3b2bba
   ]
  },
  {
   "cell_type": "code",
   "execution_count": null,
<<<<<<< HEAD
   "metadata": {
    "ExecuteTime": {
     "end_time": "2022-03-04T15:27:28.356808Z",
     "start_time": "2022-03-04T15:27:27.867204Z"
    },
    "code_folding": [
     0
    ]
   },
   "outputs": [],
   "source": [
    "# import scipy\n",
=======
   "id": "de96ec70",
   "metadata": {
    "ExecuteTime": {
     "end_time": "2022-02-09T12:11:40.705478Z",
     "start_time": "2022-02-09T12:11:40.691447Z"
    }
   },
   "outputs": [],
   "source": [
    "%%time\n",
>>>>>>> 9f629d66ae56f4b85feb5c441d44a74d1f3b2bba
    "import scipy.io as sio\n",
    "\n",
    "# Import velocity data from file in data-folder\n",
    "mat_file = sio.loadmat('../../../../data/ABC/ABCsteady.mat')\n",
    "\n",
    "U = mat_file['u'] # array (NY, NX, NZ)\n",
    "V = mat_file['v'] # array (NY, NX, NZ)\n",
    "W = mat_file['w'] # array (NY, NX, NZ)\n",
    "x = mat_file['x'] # array (1, NX)\n",
    "y = mat_file['y'] # array (1, NY)\n",
    "z = mat_file['z'] # array (1, NZ))"
   ]
  },
  {
   "cell_type": "markdown",
<<<<<<< HEAD
=======
   "id": "dccb58dd",
>>>>>>> 9f629d66ae56f4b85feb5c441d44a74d1f3b2bba
   "metadata": {},
   "source": [
    "# Computational parameters and data\n",
    "\n",
    "Here we define the computational parameters and the data."
   ]
  },
  {
   "cell_type": "code",
   "execution_count": null,
<<<<<<< HEAD
   "metadata": {
    "ExecuteTime": {
     "end_time": "2022-03-04T15:27:28.372523Z",
     "start_time": "2022-03-04T15:27:28.360684Z"
    },
    "code_folding": [
     0
    ]
   },
   "outputs": [],
   "source": [
    "# import numpy\n",
=======
   "id": "4283c15e",
   "metadata": {
    "ExecuteTime": {
     "end_time": "2022-02-09T12:11:41.492441Z",
     "start_time": "2022-02-09T12:11:41.483465Z"
    },
    "code_folding": []
   },
   "outputs": [],
   "source": [
    "%%time\n",
>>>>>>> 9f629d66ae56f4b85feb5c441d44a74d1f3b2bba
    "import numpy as np\n",
    "\n",
    "# Number of cores for parallel computing\n",
    "Ncores = 4 # int\n",
    "\n",
    "# Periodic boundary conditions\n",
    "periodic_x = True # bool\n",
    "periodic_y = True # bool\n",
    "periodic_z = True # bool\n",
    "periodic = [periodic_x, periodic_y, periodic_z]\n",
    "\n",
    "# Unsteady velocity field\n",
    "bool_unsteady = False # bool\n",
    "\n",
    "# Defined domain\n",
    "defined_domain = np.isfinite(U).astype(int) # array (NY, NX, NZ)\n",
    "\n",
    "## Compute meshgrid of dataset\n",
    "X, Y, Z = np.meshgrid(x, y, z) # array (NY, NX), array (NY, NX, NZ)\n",
    "\n",
    "## Resolution of meshgrid\n",
    "dx_data = X[0,1,0]-X[0,0,0] # float\n",
    "dy_data = Y[1,0,0]-Y[0,0,0] # float\n",
    "dz_data = Y[0,0,1]-Z[0,0,0] # float\n",
    "\n",
    "delta = [dx_data, dy_data, dx_data] # list (3, )\n",
    "\n",
    "# auxiliary grid spacing\n",
    "aux_grid = [0.1*delta[0], 0.1*delta[1], 0.1*delta[2]] # list (3,)"
   ]
  },
  {
   "cell_type": "markdown",
<<<<<<< HEAD
=======
   "id": "52a20504",
>>>>>>> 9f629d66ae56f4b85feb5c441d44a74d1f3b2bba
   "metadata": {},
   "source": [
    "# Spatio-temporal domain\n",
    "\n",
    "Here we define the spatio-temporal domain over which to consider the dynamical system."
   ]
  },
  {
   "cell_type": "code",
   "execution_count": null,
<<<<<<< HEAD
   "metadata": {
    "ExecuteTime": {
     "end_time": "2022-03-04T15:27:28.514720Z",
     "start_time": "2022-03-04T15:27:28.376791Z"
    },
    "code_folding": [
     0
    ]
   },
   "outputs": [],
   "source": [
    "# Initial time\n",
    "t0 = 0 # float\n",
    "\n",
    "# Final time \n",
    "tN = 20 # float\n",
    "\n",
    "# Time step-size\n",
    "dt = 0.05 # float\n",
=======
   "id": "14c356ad",
   "metadata": {
    "ExecuteTime": {
     "end_time": "2022-02-09T12:11:42.387951Z",
     "start_time": "2022-02-09T12:11:42.347129Z"
    }
   },
   "outputs": [],
   "source": [
    "%%time\n",
    "# Initial time (in days)\n",
    "t0 = 0 # float\n",
    "\n",
    "# Final time (in days)\n",
    "tN = 50 # float\n",
    "\n",
    "# Time step-size (in days)\n",
    "dt = 0.1 # float\n",
    "\n",
    "# NOTE: For computing the backward FTLE field tN < t0 and dt < 0.\n",
>>>>>>> 9f629d66ae56f4b85feb5c441d44a74d1f3b2bba
    "\n",
    "time = np.arange(t0, tN+dt, dt) # shape (Nt,)\n",
    "\n",
    "# Length of time interval (in days)\n",
    "lenT = abs(tN-t0) # float\n",
    "\n",
    "# boundaries\n",
    "xmin = 0 # float\n",
    "xmax = 2*np.pi # float\n",
    "ymin = 0 # float\n",
    "ymax = 2*np.pi # float\n",
    "zmin = 0 # float\n",
    "zmax = 2*np.pi # float\n",
    "\n",
    "# Resolution of meshgrid\n",
    "Ny = 200 # int\n",
    "Nx = 200 # int\n",
    "Nz = 200 # int\n",
    "\n",
    "x_domain = np.linspace(xmin, xmax, Nx, endpoint = True) # array (Nx, )\n",
    "y_domain = np.linspace(ymin, ymax, Ny, endpoint = True) # array (Ny, )\n",
    "z_domain = np.linspace(zmin, zmax, Nz, endpoint = True) # array (Nz, )\n",
    "\n",
    "dx = x_domain[1]-x_domain[0] # float\n",
    "dy = y_domain[1]-y_domain[0] # float\n",
    "dz = z_domain[1]-z_domain[0] # float\n",
    "\n",
    "X_domain, Y_domain, Z_domain = np.meshgrid(x_domain, y_domain, z_domain) # array (Ny, Nx, Nz)\n",
    "\n",
    "Ny = X_domain.shape[0] # int\n",
    "Nx = X_domain.shape[1] # int\n",
    "Nz = X_domain.shape[2] # int"
   ]
  },
  {
   "cell_type": "markdown",
<<<<<<< HEAD
   "metadata": {},
   "source": [
    "# Interpolate velocity\n",
=======
   "id": "95f1a44a",
   "metadata": {},
   "source": [
    "# Velocity Interpolation\n",
>>>>>>> 9f629d66ae56f4b85feb5c441d44a74d1f3b2bba
    "\n",
    "In order to evaluate the velocity field at arbitrary locations, we interpolate the discrete velocity data. The interpolation with respect to time is always linear. The interpolation with respect to space is \"linear\"."
   ]
  },
  {
   "cell_type": "code",
   "execution_count": null,
<<<<<<< HEAD
   "metadata": {
    "ExecuteTime": {
     "end_time": "2022-03-04T15:27:33.194424Z",
     "start_time": "2022-03-04T15:27:33.068127Z"
    },
    "code_folding": [
     0
    ]
   },
   "outputs": [],
   "source": [
=======
   "id": "b13ef37f",
   "metadata": {
    "ExecuteTime": {
     "end_time": "2022-02-09T12:11:43.328591Z",
     "start_time": "2022-02-09T12:11:43.316623Z"
    }
   },
   "outputs": [],
   "source": [
    "%%time\n",
>>>>>>> 9f629d66ae56f4b85feb5c441d44a74d1f3b2bba
    "# Import interpolation function for unsteady flow field\n",
    "from ipynb.fs.defs.Interpolant import interpolant_steady\n",
    "\n",
    "# Set nan values to zero (in case there are any) so that we can apply interpolant. \n",
    "# Interpolant does not work if the array contains nan values. \n",
    "U[np.isnan(U)] = 0\n",
    "V[np.isnan(V)] = 0\n",
    "W[np.isnan(W)] = 0\n",
    "\n",
    "# Interpolate velocity data using cubic spatial interpolation\n",
    "Interpolant = interpolant_steady(X, Y, Z, U, V, W)\n",
    "\n",
    "Interpolant_u = Interpolant[0] # RectangularBivariateSpline-object\n",
    "Interpolant_v = Interpolant[1] # RectangularBivariateSpline-object\n",
    "Interpolant_w = Interpolant[2] # RectangularBivariateSpline-object"
   ]
  },
  {
   "cell_type": "markdown",
<<<<<<< HEAD
   "metadata": {},
   "source": [
    "# PRA\n",
    "\n",
    "Next, we compute the $ \\mathrm{PRA} $ over the meshgrid over the given time-interval. The computation of the $ \\mathrm{PRA} $ is not done over the 3D meshgrid but only over the 2D faces of the cube $ [0,2\\pi]^3 $.\n",
    "We iterate over all initial conditions on the faces of the cube and calculate the gradient of the flow map. From the maximum singular value of the gradient of the flow map we then compute the PRA."
=======
   "id": "a7a6b218",
   "metadata": {},
   "source": [
    "# FTLE\n",
    "\n",
    "Next, we compute the $ \\mathrm{FTLE} $ over the meshgrid over the given time-interval. The computation of the $ \\mathrm{FTLE} $ is not done over the 3D meshgrid but only over the 2D faces of the cube $ [0,2\\pi]^3 $.\n",
    "We iterate over all initial conditions on the faces of the cube and calculate the gradient of the flow map. From the maximum singular value of the gradient of the flow map we then compute the FTLE."
>>>>>>> 9f629d66ae56f4b85feb5c441d44a74d1f3b2bba
   ]
  },
  {
   "cell_type": "code",
   "execution_count": null,
<<<<<<< HEAD
   "metadata": {
    "ExecuteTime": {
     "end_time": "2022-03-04T15:27:34.012657Z",
     "start_time": "2022-03-04T15:27:33.201012Z"
    },
    "code_folding": [
     0,
     9,
     23
=======
   "id": "ef8668b0",
   "metadata": {
    "ExecuteTime": {
     "end_time": "2022-02-09T12:11:44.787366Z",
     "start_time": "2022-02-09T12:11:44.779388Z"
    },
    "code_folding": [
     22
>>>>>>> 9f629d66ae56f4b85feb5c441d44a74d1f3b2bba
    ],
    "run_control": {
     "marked": false
    }
   },
   "outputs": [],
   "source": [
<<<<<<< HEAD
    "# Import function to compute gradient of flow map\n",
    "from ipynb.fs.defs.gradient_flowmap import gradient_flowmap\n",
    "\n",
    "# Import function to compute Polar Rotation Angle (PRA)\n",
    "from ipynb.fs.defs.PRA import _PRA\n",
=======
    "%%time\n",
    "\n",
    "# Import function to compute gradient of flow map\n",
    "from ipynb.fs.defs.gradient_flowmap import gradient_flowmap\n",
    "\n",
    "# Import function to compute finite time Lyapunov exponent (FTLE)\n",
    "from ipynb.fs.defs.FTLE import _FTLE\n",
>>>>>>> 9f629d66ae56f4b85feb5c441d44a74d1f3b2bba
    "\n",
    "# Import package for parallel computing\n",
    "from joblib import Parallel, delayed\n",
    "\n",
<<<<<<< HEAD
    "def compute_PRA(x0, y0, z0):\n",
=======
    "def compute_FTLE(x0, y0, z0):\n",
>>>>>>> 9f629d66ae56f4b85feb5c441d44a74d1f3b2bba
    "    \n",
    "    X0 = np.array([x0, y0, z0]) # array (3, Nx*Ny*Nz)\n",
    "    \n",
    "    DF = gradient_flowmap(time, X0, X, Y, Z, Interpolant_u, Interpolant_v, Interpolant_w, periodic, bool_unsteady, aux_grid) # array (Nt, 3, 3, Nx*Ny*Nz)\n",
    "    \n",
<<<<<<< HEAD
    "    PRA = []\n",
    "    \n",
    "    for i in range(DF.shape[3]):\n",
    "        PRA.append(_PRA(DF[-1,:,:,i]))\n",
    "    \n",
    "    return PRA\n",
=======
    "    FTLE = []\n",
    "    \n",
    "    for i in range(DF.shape[3]):\n",
    "        FTLE.append(_FTLE(DF[-1,:,:,i], lenT))\n",
    "    \n",
    "    return FTLE\n",
>>>>>>> 9f629d66ae56f4b85feb5c441d44a74d1f3b2bba
    "\n",
    "# Split x0,y0,z0 into 'Ncores' equal batches for parallel computing\n",
    "def split(a, n):\n",
    "    k, m = divmod(len(a), n)\n",
    "    return (a[i*k+min(i, m):(i+1)*k+min(i+1, m)] for i in range(n))"
   ]
  },
  {
   "cell_type": "markdown",
<<<<<<< HEAD
=======
   "id": "046eda36",
>>>>>>> 9f629d66ae56f4b85feb5c441d44a74d1f3b2bba
   "metadata": {},
   "source": [
    "## XY-plane\n",
    "\n",
<<<<<<< HEAD
    "Compute $ \\mathrm{PRA} $ on XY-plane."
=======
    "Compute $ \\mathrm{FTLE} $ on XY-plane."
>>>>>>> 9f629d66ae56f4b85feb5c441d44a74d1f3b2bba
   ]
  },
  {
   "cell_type": "code",
   "execution_count": null,
<<<<<<< HEAD
   "metadata": {
    "ExecuteTime": {
     "end_time": "2022-03-04T15:30:02.845645Z",
     "start_time": "2022-03-04T15:27:34.016667Z"
    },
    "code_folding": [
     0
    ]
=======
   "id": "fa9fd733",
   "metadata": {
    "ExecuteTime": {
     "end_time": "2022-02-09T12:13:19.611213Z",
     "start_time": "2022-02-09T12:11:46.258477Z"
    }
>>>>>>> 9f629d66ae56f4b85feb5c441d44a74d1f3b2bba
   },
   "outputs": [],
   "source": [
    "# Vectorize initial conditions by arranging them to a vector of size (Nx*Ny*Nz, )\n",
    "x0_xy = X_domain[:,:,-1].ravel() # array (Nx*Ny, )\n",
    "y0_xy = Y_domain[:,:,-1].ravel() # array (Nx*Ny, )\n",
    "z0_xy = Z_domain[:,:,-1].ravel() # array (Nx*Ny, )\n",
    "\n",
    "x0_batch = list(split(x0_xy, Ncores)) # list (Nx*Ny)\n",
    "y0_batch = list(split(y0_xy, Ncores)) # list (Nx*Ny)\n",
    "z0_batch = list(split(z0_xy, Ncores)) # list (Nx*Ny)\n",
<<<<<<< HEAD
    "results = Parallel(n_jobs=Ncores, verbose = 2)(delayed(compute_PRA)(x0_batch[i], y0_batch[i], z0_batch[i]) for i in range(len(x0_batch)))\n",
    "\n",
    "# Extract results of PRA computation on xy-plane\n",
    "PRA_xy = results[0]\n",
    "for res in results[1:]:\n",
    "    PRA_xy = np.append(PRA_xy, res)\n",
=======
    "results = Parallel(n_jobs=Ncores, verbose = 2)(delayed(compute_FTLE)(x0_batch[i], y0_batch[i], z0_batch[i]) for i in range(len(x0_batch)))\n",
    "\n",
    "# Extract results of FTLE computation on xy-plane\n",
    "FTLE_xy = results[0]\n",
    "for res in results[1:]:\n",
    "    FTLE_xy = np.append(FTLE_xy, res)\n",
>>>>>>> 9f629d66ae56f4b85feb5c441d44a74d1f3b2bba
    "    \n",
    "X0_xy = np.array(x0_xy).reshape(Ny,Nx) # array (Ny, Nx)\n",
    "Y0_xy = np.array(y0_xy).reshape(Ny,Nx) # array (Ny, Nx)\n",
    "Z0_xy = np.array(z0_xy).reshape(Ny,Nx) # array (Ny, Nx)\n",
<<<<<<< HEAD
    "PRA_xy = np.array(PRA_xy).reshape(Ny,Nx) # array (Ny, Nx)"
=======
    "FTLE_xy = np.array(FTLE_xy).reshape(Ny,Nx) # array (Ny, Nx)"
>>>>>>> 9f629d66ae56f4b85feb5c441d44a74d1f3b2bba
   ]
  },
  {
   "cell_type": "markdown",
<<<<<<< HEAD
=======
   "id": "5314247a",
>>>>>>> 9f629d66ae56f4b85feb5c441d44a74d1f3b2bba
   "metadata": {},
   "source": [
    "## XZ-plane\n",
    "\n",
<<<<<<< HEAD
    "Compute $ \\mathrm{PRA} $ on XZ-plane."
=======
    "Compute $ \\mathrm{FTLE} $ on XZ-plane."
>>>>>>> 9f629d66ae56f4b85feb5c441d44a74d1f3b2bba
   ]
  },
  {
   "cell_type": "code",
   "execution_count": null,
<<<<<<< HEAD
   "metadata": {
    "ExecuteTime": {
     "end_time": "2022-03-04T15:32:23.380552Z",
     "start_time": "2022-03-04T15:30:02.849713Z"
    },
    "code_folding": [
     0
    ]
=======
   "id": "23af22d1",
   "metadata": {
    "ExecuteTime": {
     "end_time": "2022-02-09T12:14:51.927494Z",
     "start_time": "2022-02-09T12:13:19.613206Z"
    }
>>>>>>> 9f629d66ae56f4b85feb5c441d44a74d1f3b2bba
   },
   "outputs": [],
   "source": [
    "# Vectorize initial conditions by arranging them to a vector of size (Nx*Ny*Nz, )\n",
    "x0_xz = X_domain[0,:,:].ravel() # array (Nx*Nz, )\n",
    "y0_xz = Y_domain[0,:,:].ravel() # array (Nx*Nz, )\n",
    "z0_xz = Z_domain[0,:,:].ravel() # array (Nx*Nz, )\n",
    "\n",
    "x0_batch = list(split(x0_xz, Ncores)) # list (Nx*Nz)\n",
    "y0_batch = list(split(y0_xz, Ncores)) # list (Nx*Nz)\n",
    "z0_batch = list(split(z0_xz, Ncores)) # list (Nx*Nz)\n",
<<<<<<< HEAD
    "results = Parallel(n_jobs=Ncores, verbose = 2)(delayed(compute_PRA)(x0_batch[i], y0_batch[i], z0_batch[i]) for i in range(len(x0_batch)))\n",
    "\n",
    "# Extract results of PRA computation on xz-plane\n",
    "PRA_xz = results[0]\n",
    "for res in results[1:]:\n",
    "    PRA_xz = np.append(PRA_xz, res)\n",
=======
    "results = Parallel(n_jobs=Ncores, verbose = 2)(delayed(compute_FTLE)(x0_batch[i], y0_batch[i], z0_batch[i]) for i in range(len(x0_batch)))\n",
    "\n",
    "# Extract results of FTLE computation on xz-plane\n",
    "FTLE_xz = results[0]\n",
    "for res in results[1:]:\n",
    "    FTLE_xz = np.append(FTLE_xz, res)\n",
>>>>>>> 9f629d66ae56f4b85feb5c441d44a74d1f3b2bba
    "    \n",
    "X0_xz = np.array(x0_xz).reshape(Nz,Nx) # array (Nz, Nx)\n",
    "Y0_xz = np.array(y0_xz).reshape(Nz,Nx) # array (Nz, Nx)\n",
    "Z0_xz = np.array(z0_xz).reshape(Nz,Nx) # array (Nz, Nx)\n",
<<<<<<< HEAD
    "PRA_xz = np.array(PRA_xz).reshape(Nz,Nx) # array (Nz, Nx)"
=======
    "FTLE_xz = np.array(FTLE_xz).reshape(Nz,Nx) # array (Nz, Nx)"
>>>>>>> 9f629d66ae56f4b85feb5c441d44a74d1f3b2bba
   ]
  },
  {
   "cell_type": "markdown",
<<<<<<< HEAD
=======
   "id": "468beb16",
>>>>>>> 9f629d66ae56f4b85feb5c441d44a74d1f3b2bba
   "metadata": {},
   "source": [
    "## YZ-plane\n",
    "\n",
<<<<<<< HEAD
    "Compute $ \\mathrm{PRA} $ on YZ-plane."
=======
    "Compute $ \\mathrm{FTLE} $ on YZ-plane."
>>>>>>> 9f629d66ae56f4b85feb5c441d44a74d1f3b2bba
   ]
  },
  {
   "cell_type": "code",
   "execution_count": null,
<<<<<<< HEAD
   "metadata": {
    "ExecuteTime": {
     "end_time": "2022-03-04T15:34:56.714657Z",
     "start_time": "2022-03-04T15:32:23.383482Z"
    },
    "code_folding": [
     0
    ]
=======
   "id": "6242ad6c",
   "metadata": {
    "ExecuteTime": {
     "end_time": "2022-02-09T12:16:29.967890Z",
     "start_time": "2022-02-09T12:14:51.928493Z"
    }
>>>>>>> 9f629d66ae56f4b85feb5c441d44a74d1f3b2bba
   },
   "outputs": [],
   "source": [
    "# Vectorize initial conditions by arranging them to a vector of size (Nx*Ny*Nz, )\n",
    "x0_yz = X_domain[:,0,:].ravel() # array (Nx*Ny*Nz, )\n",
    "y0_yz = Y_domain[:,0,:].ravel() # array (Nx*Ny*Nz, )\n",
    "z0_yz = Z_domain[:,0,:].ravel() # array (Nx*Ny*Nz, )\n",
    "\n",
    "x0_batch = list(split(x0_yz, Ncores)) # list (Nx*Ny*Nz)\n",
    "y0_batch = list(split(y0_yz, Ncores)) # list (Nx*Ny*Nz)\n",
    "z0_batch = list(split(z0_yz, Ncores)) # list (Nx*Ny*Nz)\n",
<<<<<<< HEAD
    "results = Parallel(n_jobs=Ncores, verbose = 2)(delayed(compute_PRA)(x0_batch[i], y0_batch[i], z0_batch[i]) for i in range(len(x0_batch)))\n",
    "\n",
    "# Extract results of PRA computation on yz-plane\n",
    "PRA_yz = results[0]\n",
    "for res in results[1:]:\n",
    "    PRA_yz = np.append(PRA_yz, res)\n",
=======
    "results = Parallel(n_jobs=Ncores, verbose = 2)(delayed(compute_FTLE)(x0_batch[i], y0_batch[i], z0_batch[i]) for i in range(len(x0_batch)))\n",
    "\n",
    "# Extract results of FTLE computation on yz-plane\n",
    "FTLE_yz = results[0]\n",
    "for res in results[1:]:\n",
    "    FTLE_yz = np.append(FTLE_yz, res)\n",
>>>>>>> 9f629d66ae56f4b85feb5c441d44a74d1f3b2bba
    "    \n",
    "X0_yz = np.array(x0_yz).reshape(Nz,Ny) # array (Nz, Ny)\n",
    "Y0_yz = np.array(y0_yz).reshape(Nz,Ny) # array (Nz, Ny)\n",
    "Z0_yz = np.array(z0_yz).reshape(Nz,Ny) # array (Nz, Ny)\n",
<<<<<<< HEAD
    "PRA_yz = np.array(PRA_yz).reshape(Nz,Ny) # array (Nz, Ny)"
=======
    "FTLE_yz = np.array(FTLE_yz).reshape(Nz,Ny) # array (Nz, Ny)"
>>>>>>> 9f629d66ae56f4b85feb5c441d44a74d1f3b2bba
   ]
  },
  {
   "cell_type": "code",
   "execution_count": null,
<<<<<<< HEAD
   "metadata": {
    "ExecuteTime": {
     "end_time": "2022-03-04T15:35:02.796427Z",
     "start_time": "2022-03-04T15:34:56.717543Z"
    },
    "code_folding": [
     0,
     19
    ]
=======
   "id": "ef5d28a2",
   "metadata": {
    "ExecuteTime": {
     "end_time": "2022-02-09T12:16:33.555654Z",
     "start_time": "2022-02-09T12:16:29.968887Z"
    }
>>>>>>> 9f629d66ae56f4b85feb5c441d44a74d1f3b2bba
   },
   "outputs": [],
   "source": [
    "# Import plotly for 3D figures\n",
    "from plotly import graph_objs as go\n",
    "\n",
    "# define minimum and maximum values for colorbar\n",
<<<<<<< HEAD
    "min_value = min(np.min(PRA_yz),min(np.min(PRA_xy), np.min(PRA_xz)))\n",
    "max_value = max(np.max(PRA_yz),max(np.max(PRA_xy), np.max(PRA_xz)))\n",
    "\n",
    "# create figure\n",
    "fig = go.Figure(data=[go.Surface(x = X0_xy, y = Y0_xy, z = Z0_xy, surfacecolor = PRA_xy, showscale = True, colorscale='rainbow', cmin=min_value, cmax=max_value)])\n",
    "fig.add_trace(go.Surface(x = X0_xz, y = Y0_xz, z = Z0_xz, surfacecolor = PRA_xz, showscale = False, colorscale='rainbow', cmin=min_value, cmax=max_value))\n",
    "fig.add_trace(go.Surface(x = X0_yz, y = Y0_yz, z = Z0_yz, surfacecolor = PRA_yz, showscale = False, colorscale='rainbow', cmin=min_value, cmax=max_value))\n",
    "fig.add_trace(go.Surface(x = X0_xy, y = Y0_xy, z = Z0_xy-2*np.pi, surfacecolor = PRA_xy, showscale = False, colorscale='rainbow', cmin=min_value, cmax=max_value))\n",
    "fig.add_trace(go.Surface(x = X0_xz, y = Y0_xz+2*np.pi, z = Z0_xz, surfacecolor = PRA_xz, showscale = False, colorscale='rainbow', cmin=min_value, cmax=max_value))\n",
    "fig.add_trace(go.Surface(x = X0_yz+2*np.pi, y = Y0_yz, z = Z0_yz, surfacecolor = PRA_yz, showscale = False, colorscale='rainbow', cmin=min_value, cmax=max_value))\n",
=======
    "min_value = min(np.min(FTLE_yz),min(np.min(FTLE_xy), np.min(FTLE_xz)))\n",
    "max_value = max(np.max(FTLE_yz),max(np.max(FTLE_xy), np.max(FTLE_xz)))\n",
    "\n",
    "# create figure\n",
    "fig = go.Figure(data=[go.Surface(x = X0_xy, y = Y0_xy, z = Z0_xy, surfacecolor = FTLE_xy, showscale = True, colorscale='rainbow', cmin=min_value, cmax=max_value)])\n",
    "fig.add_trace(go.Surface(x = X0_xz, y = Y0_xz, z = Z0_xz, surfacecolor = FTLE_xz, showscale = False, colorscale='rainbow', cmin=min_value, cmax=max_value))\n",
    "fig.add_trace(go.Surface(x = X0_yz, y = Y0_yz, z = Z0_yz, surfacecolor = FTLE_yz, showscale = False, colorscale='rainbow', cmin=min_value, cmax=max_value))\n",
    "fig.add_trace(go.Surface(x = X0_xy, y = Y0_xy, z = Z0_xy-2*np.pi, surfacecolor = FTLE_xy, showscale = False, colorscale='rainbow', cmin=min_value, cmax=max_value))\n",
    "fig.add_trace(go.Surface(x = X0_xz, y = Y0_xz+2*np.pi, z = Z0_xz, surfacecolor = FTLE_xz, showscale = False, colorscale='rainbow', cmin=min_value, cmax=max_value))\n",
    "fig.add_trace(go.Surface(x = X0_yz+2*np.pi, y = Y0_yz, z = Z0_yz, surfacecolor = FTLE_yz, showscale = False, colorscale='rainbow', cmin=min_value, cmax=max_value))\n",
>>>>>>> 9f629d66ae56f4b85feb5c441d44a74d1f3b2bba
    "\n",
    "# camera\n",
    "camera = dict(eye=dict(x=-1.45,y=-1.45,z=1.7))\n",
    "fig.update_layout(scene_camera=camera)\n",
    "\n",
<<<<<<< HEAD
    "fig.update_layout(\n",
    "    title={\n",
    "        'text': f'$\\mathrm{{PRA}}_{t0}^{{{tN}}}$',\n",
    "        'y':0.9,\n",
    "        'x':0.5,\n",
    "        'xanchor': 'center',\n",
    "        'yanchor': 'top'})\n",
    "\n",
=======
>>>>>>> 9f629d66ae56f4b85feb5c441d44a74d1f3b2bba
    "fig.show()"
   ]
  },
  {
   "cell_type": "markdown",
<<<<<<< HEAD
   "metadata": {},
   "source": [
    "It must be emphasized that the Polar Rotation Angle (PRA) in 3D is no longer objective as it is in 2D. However, whenever it is applied to an objective vector-field such as in [aPRA](../../../ActiveBarriers/aPRA3D/Main/), the structures revealed by the PRA are objective."
   ]
  },
  {
   "cell_type": "markdown",
=======
   "id": "9efbd6db",
>>>>>>> 9f629d66ae56f4b85feb5c441d44a74d1f3b2bba
   "metadata": {},
   "source": [
    "# References\n",
    "\n",
<<<<<<< HEAD
    "[1] Farazmand, M., & Haller, G. (2016). Polar rotation angle identifies elliptic islands in unsteady dynamical systems. Physica D: Nonlinear Phenomena, 315, 1-12.\n",
    "\n",
    "[2] Notebook 5.2.8 in \"Transport Barriers and Coherent Structures in Flow Data\" by Prof. George Haller"
=======
    "[1] Haller, G., Aksamit, N., & Encinas-Bartos, A. P. (2021). Quasi-objective coherent structure diagnostics from single trajectories. Chaos: An Interdisciplinary Journal of Nonlinear Science, 31(4), 043131."
>>>>>>> 9f629d66ae56f4b85feb5c441d44a74d1f3b2bba
   ]
  }
 ],
 "metadata": {
  "kernelspec": {
   "display_name": "Python 3",
   "language": "python",
   "name": "python3"
  },
  "language_info": {
   "codemirror_mode": {
    "name": "ipython",
    "version": 3
   },
   "file_extension": ".py",
   "mimetype": "text/x-python",
   "name": "python",
   "nbconvert_exporter": "python",
   "pygments_lexer": "ipython3",
<<<<<<< HEAD
   "version": "3.7.11"
  },
  "latex_envs": {
   "LaTeX_envs_menu_present": true,
   "autoclose": false,
   "autocomplete": true,
   "bibliofile": "biblio.bib",
   "cite_by": "apalike",
   "current_citInitial": 1,
   "eqLabelWithNumbers": true,
   "eqNumInitial": 1,
   "hotkeys": {
    "equation": "Ctrl-E",
    "itemize": "Ctrl-I"
   },
   "labels_anchors": false,
   "latex_user_defs": false,
   "report_style_numbering": false,
   "user_envs_cfg": false
  },
  "toc": {
   "base_numbering": "0",
=======
   "version": "3.7.12"
  },
  "toc": {
   "base_numbering": 1,
>>>>>>> 9f629d66ae56f4b85feb5c441d44a74d1f3b2bba
   "nav_menu": {},
   "number_sections": true,
   "sideBar": true,
   "skip_h1_title": false,
   "title_cell": "Table of Contents",
   "title_sidebar": "Contents",
   "toc_cell": false,
   "toc_position": {},
   "toc_section_display": true,
<<<<<<< HEAD
   "toc_window_display": true
=======
   "toc_window_display": false
>>>>>>> 9f629d66ae56f4b85feb5c441d44a74d1f3b2bba
  }
 },
 "nbformat": 4,
 "nbformat_minor": 5
}
