{
 "cells": [
  {
   "cell_type": "markdown",
   "id": "567b83b2",
   "metadata": {},
   "source": [
    "We start by adding the necessary folders to the current working path."
   ]
  },
  {
   "cell_type": "code",
   "execution_count": null,
   "id": "bb46126d",
   "metadata": {
    "ExecuteTime": {
     "end_time": "2022-02-11T13:57:18.381064Z",
     "start_time": "2022-02-11T13:57:18.365443Z"
    },
    "code_folding": [
     0
    ]
   },
   "outputs": [],
   "source": [
    "# import sys/os\n",
    "import sys, os\n",
    "\n",
    "# get current directory\n",
    "path = os.getcwd()\n",
    "\n",
    "# get parent directory\n",
    "parent_directory = os.path.sep.join(path.split(os.path.sep)[:-4])\n",
    "\n",
    "# add utils folder to current working path\n",
    "sys.path.append(parent_directory+\"/subfunctions/utils\")\n",
    "\n",
    "# add integration folder to current working path\n",
    "sys.path.append(parent_directory+\"/subfunctions/integration\")\n",
    "\n",
    "# add 'PRA3D' folder to current working path in order to access the functions\n",
    "sys.path.append(parent_directory+\"/demos/AdvectiveBarriers/PRA3D\")"
   ]
  },
  {
   "cell_type": "markdown",
   "id": "46af9041",
   "metadata": {},
   "source": [
    "# Overview\n",
    "\n",
    "In the following notebook we compute the Polar Rotation Angle ($ \\mathrm{PRA} $) on the three-dimensional, steady ABC-flow. We emphasize that in 3D, the $ \\mathrm{PRA} $  does not objectively compute elliptic flow features, unless the underlying vector field is inherently objective. The velocity field is analytically defined. The notebook is structured as follows:\n",
    "\n",
    "1. Define analytic velocity-field of steady ABC-flow.\n",
    "<br />\n",
    "2. Define computational parameters.\n",
    " <br />\n",
    "3. Define spatio-temporal domain.\n",
    " <br />\n",
    "5. $ \\mathrm{PRA} $ :\n",
    "\n",
    "    * Compute gradient of flow map $ \\mathbf{\\nabla F}_{t_0}^{t_N}(\\mathbf{x}_0) $. The gradient of the flow map is computed by solving the system of coupled ODEs:\n",
    "    \\begin{align*}\n",
    "    \\dfrac{d}{dt}\\mathbf{F}_{t_0}^{t}(\\mathbf{x}_0) &= \\mathbf{v}(\\mathbf{F}_{t_0}^{t}(\\mathbf{x}_0),t) \\\\\n",
    "    \\dfrac{d}{dt}\\mathbf{\\nabla F}_{t_0}^{t}(\\mathbf{x}_0) &= \\mathbf{\\nabla v}(\\mathbf{x},t)\\mathbf{\\nabla F}_{t_0}^{t}(\\mathbf{x}_0)\n",
    "    \\end{align*}\n",
    "    <br />\n",
    "    \n",
    "    * Compute PRA from left and right singular vectors $ \\xi_i, \\eta_i $ (with i = 1, 2, 3)  of $ \\mathbf{\\nabla F}_{t_0}^{t_N}(\\mathbf{x}_0) $ according to:\n",
    "\n",
    "    \\begin{equation}\n",
    "        \\mathrm{PRA}_{t_0}^{t_N}(\\mathbf{x}_0) = \\dfrac{1}{2} (\\sum_{i=1}^{3} \\langle \\xi_i(\\mathbf{x}_0;t_0, t_N), \\eta_i(\\mathbf{x}_0;t_0, t_N) \\rangle - 1)\n",
    "    \\end{equation}"
   ]
  },
  {
   "cell_type": "markdown",
   "id": "69d4b27c",
   "metadata": {},
   "source": [
    "# Define analytic velocity field\n",
    "\n",
    "Here we define the analytic steady velocity of the ABC-flow.\n",
    "\n",
    "\\begin{equation}\n",
    "\\begin{pmatrix} \\dot{x}(t) \\\\ \\dot{y}(t) \\\\ \\dot{z}(t) \\end{pmatrix} = \\begin{pmatrix} \\sqrt{3}\\sin(z)+\\cos(y) \\\\ \\sqrt{2}\\sin(x)+\\sqrt{3}\\cos(z) \\\\ \\sin(y)+\\sqrt{2}\\cos(x) \\end{pmatrix}\n",
    "\\end{equation}."
   ]
  },
  {
   "cell_type": "code",
   "execution_count": null,
   "id": "71adf5db",
   "metadata": {
    "ExecuteTime": {
     "end_time": "2022-02-11T13:57:18.396686Z",
     "start_time": "2022-02-11T13:57:18.381064Z"
    },
    "code_folding": [
     0,
     8
    ]
   },
   "outputs": [],
   "source": [
    "def velocity(x, y, z):\n",
    "\n",
    "    u = sqrt(3)*np.sin(z)+np.cos(y)\n",
    "    v = sqrt(2)*np.sin(x)+sqrt(3)*np.cos(z)\n",
    "    w = np.sin(y)+sqrt(2)*np.cos(x)\n",
    "    \n",
    "    return np.array([u, v, w])\n",
    "\n",
    "def grad_velocity(x, y, z):\n",
    "    \n",
    "    grad_vel = np.zeros((x.shape[0], 3, 3))\n",
    "\n",
    "    dudx = 0\n",
    "    dudy = -np.sin(y)\n",
    "    dudz = sqrt(3)*np.cos(z)\n",
    "    \n",
    "    dvdx = sqrt(2)*np.cos(x)\n",
    "    dvdy = 0\n",
    "    dvdz = -sqrt(3)*np.sin(z)\n",
    "    \n",
    "    dwdx = -sqrt(2)*np.sin(x)\n",
    "    dwdy = np.cos(y)\n",
    "    dwdz = 0\n",
    "    \n",
    "    grad_vel[:,0,0] = dudx\n",
    "    grad_vel[:,1,0] = dvdx\n",
    "    grad_vel[:,2,0] = dwdx\n",
    "    \n",
    "    grad_vel[:,0,1] = dudy\n",
    "    grad_vel[:,1,1] = dvdy\n",
    "    grad_vel[:,2,1] = dwdy\n",
    "    \n",
    "    grad_vel[:,0,2] = dudz\n",
    "    grad_vel[:,1,2] = dvdz\n",
    "    grad_vel[:,2,2] = dwdz\n",
    "    \n",
    "    return grad_vel"
   ]
  },
  {
   "cell_type": "markdown",
   "id": "dccb58dd",
   "metadata": {},
   "source": [
    "# Computational parameters and analytic velocity field\n",
    "\n",
    "Here we define the computational parameters."
   ]
  },
  {
   "cell_type": "code",
   "execution_count": null,
   "id": "4283c15e",
   "metadata": {
    "ExecuteTime": {
     "end_time": "2022-02-11T13:57:18.474792Z",
     "start_time": "2022-02-11T13:57:18.396686Z"
    },
    "code_folding": [
     0
    ]
   },
   "outputs": [],
   "source": [
    "# import numpy\n",
    "import numpy as np\n",
    "\n",
    "# import math tools\n",
    "from math import sqrt, pi\n",
    "\n",
    "# number of cores to be used for parallel computing\n",
    "Ncores = 7\n",
    "\n",
    "# periodic boundary conditions\n",
    "periodic_x = True\n",
    "periodic_y = True\n",
    "periodic_z = True\n",
    "periodic = [periodic_x, periodic_y, periodic_z]"
   ]
  },
  {
   "cell_type": "markdown",
   "id": "52a20504",
   "metadata": {},
   "source": [
    "# Spatio-temporal domain\n",
    "\n",
    "Here we define the spatio-temporal domain over which to consider the dynamical system."
   ]
  },
  {
   "cell_type": "code",
   "execution_count": null,
   "id": "14c356ad",
   "metadata": {
    "ExecuteTime": {
     "end_time": "2022-02-11T13:57:18.506035Z",
     "start_time": "2022-02-11T13:57:18.474792Z"
    },
    "code_folding": [
     0
    ]
   },
   "outputs": [],
   "source": [
    "# Initial time (in days)\n",
    "t0 = 0 # float\n",
    "\n",
    "# Final time (in days)\n",
    "tN = 50 # float\n",
    "\n",
    "# Time step-size (in days)\n",
    "dt = 0.1 # float\n",
    "\n",
    "# NOTE: For computing the backward FTLE field tN < t0 and dt < 0.\n",
    "\n",
    "time = np.arange(t0, tN+dt, dt) # shape (Nt,)\n",
    "\n",
    "# Length of time interval (in days)\n",
    "lenT = abs(tN-t0) # float\n",
    "\n",
    "# boundaries\n",
    "xmin = 0 # float\n",
    "xmax = 2*np.pi # float\n",
    "ymin = 0 # float\n",
    "ymax = 2*np.pi # float\n",
    "zmin = 0 # float\n",
    "zmax = 2*np.pi # float\n",
    "\n",
    "# Resolution of meshgrid\n",
    "Ny = 200 # int\n",
    "Nx = 200 # int\n",
    "Nz = 200 # int\n",
    "\n",
    "x_domain = np.linspace(xmin, xmax, Nx, endpoint = True) # array (Nx, )\n",
    "y_domain = np.linspace(ymin, ymax, Ny, endpoint = True) # array (Ny, )\n",
    "z_domain = np.linspace(zmin, zmax, Nz, endpoint = True) # array (Nz, )\n",
    "\n",
    "dx = x_domain[1]-x_domain[0] # float\n",
    "dy = y_domain[1]-y_domain[0] # float\n",
    "dz = z_domain[1]-z_domain[0] # float\n",
    "\n",
    "X_domain, Y_domain, Z_domain = np.meshgrid(x_domain, y_domain, z_domain) # array (Ny, Nx, Nz)\n",
    "\n",
    "Ny = X_domain.shape[0] # int\n",
    "Nx = X_domain.shape[1] # int\n",
    "Nz = X_domain.shape[2] # int"
   ]
  },
  {
   "cell_type": "markdown",
   "id": "0d11aa14",
   "metadata": {},
   "source": [
    "# Define Integration"
   ]
  },
  {
   "cell_type": "code",
   "execution_count": null,
   "id": "019329c7",
   "metadata": {
    "ExecuteTime": {
     "end_time": "2022-02-11T13:57:18.568521Z",
     "start_time": "2022-02-11T13:57:18.506035Z"
    },
    "code_folding": [
     0,
     3,
     36
    ],
    "run_control": {
     "marked": true
    }
   },
   "outputs": [],
   "source": [
    "# import package for progress bar\n",
    "from tqdm.notebook import tqdm\n",
    "\n",
    "def integration_dDF_dt(time, x):\n",
    "    \n",
    "    # reshape x\n",
    "    x = x.reshape(3, -1) # reshape array (3, Nx*Ny*Nz)\n",
    "    \n",
    "    # Initialize arrays for flow map and derivative of flow map\n",
    "    Fmap = np.zeros((len(time), 3, x.shape[1])) # array (Nt, 3, Nx*Ny*Nz)\n",
    "    dFdt = np.zeros((len(time)-1, 3, x.shape[1])) # array (Nt-1, 3, Nx*Ny*Nz)\n",
    "    DF = np.zeros((len(time), 3, 3, x.shape[1])) # array (Nt, 3, Nx*Ny*Nz)\n",
    "    \n",
    "    # Step-size\n",
    "    dt = time[1]-time[0] # float\n",
    "    \n",
    "    counter = 0 # int\n",
    "\n",
    "    # initial conditions\n",
    "    Fmap[counter,:,:] = x\n",
    "    DF[counter,0,0,:] = 1\n",
    "    DF[counter,1,1,:] = 1\n",
    "    DF[counter,2,2,:] = 1\n",
    "    \n",
    "    # Runge Kutta 4th order integration with fixed step size dt\n",
    "    for t in tqdm(time[:-1]):\n",
    "        \n",
    "        if t%1 == 0:\n",
    "            print('Percentage completed: ', np.around(t/time[-1], 3))\n",
    "        \n",
    "        Fmap[counter+1,:, :], dFdt[counter,:,:], DF[counter+1,:,:,:] = RK4_step(t, Fmap[counter,:, :], DF[counter, :,:,:], dt)\n",
    "    \n",
    "        counter += 1\n",
    "    \n",
    "    return Fmap, dFdt, DF\n",
    "\n",
    "def RK4_step(t, x1, DF1, dt):\n",
    "    \n",
    "    t0 = t # float\n",
    "    \n",
    "    # Compute x_prime at the beginning of the time-step by re-orienting and rescaling the vector field\n",
    "    x_prime = velocity(x1[0,:], x1[1,:], x1[2,:]) # array(3, Nx*Ny*Nz)\n",
    "    \n",
    "    # compute gradient of velocity\n",
    "    grad_k1 = np.zeros(DF1.shape) # array(3,3, Nx*Ny*Nz)\n",
    "    \n",
    "    grad_vel = grad_velocity(x1[0,:], x1[1,:], x1[2,:]) # array(3,3, Nx*Ny*Nz)\n",
    "    \n",
    "    for i in range(grad_k1.shape[2]):\n",
    "        grad_k1[:,:,i] = dt*np.dot(grad_vel[i,:,:], DF1[:,:,i])\n",
    "    \n",
    "    # compute derivative\n",
    "    k1 = dt * x_prime # array(3, Nx*Ny*Nz)\n",
    "    \n",
    "    # Update position at the first midpoint.\n",
    "    x2 = x1 + .5 * k1 # array(3, Nx*Ny*Nz)\n",
    "    \n",
    "    DF2 = DF1 + .5 * grad_k1 # array(3,3, Nx*Ny*Nz)\n",
    "     \n",
    "    # Update time\n",
    "    t = t0 + .5*dt # float\n",
    "    \n",
    "    # Compute x_prime at the first midpoint.\n",
    "    x_prime = velocity(x2[0,:], x2[1,:], x2[2,:]) # array(3, Nx*Ny*Nz)\n",
    "    \n",
    "    # compute gradient of velocity\n",
    "    grad_k2 = np.zeros(DF1.shape) # array(3,3, Nx*Ny*Nz)\n",
    "    \n",
    "    grad_vel = grad_velocity(x2[0,:], x2[1,:], x2[2,:]) # array(3,3, Nx*Ny*Nz)\n",
    "    \n",
    "    for i in range(grad_k2.shape[2]):\n",
    "        grad_k2[:,:,i] = dt*np.dot(grad_vel[i,:,:], DF2[:,:,i])\n",
    "    \n",
    "    # compute derivative\n",
    "    k2 = dt * x_prime # array(3, Nx*Ny*Nz)\n",
    "\n",
    "    # Update position at the second midpoint.\n",
    "    x3 = x1 + .5 * k2 # array(3, Nx*Ny*Nz)\n",
    "    \n",
    "    DF3 = DF1 + .5 * grad_k2 # array(3,3, Nx*Ny*Nz)\n",
    "    \n",
    "    # Update time\n",
    "    t = t0 + .5*dt # float\n",
    "    \n",
    "    # Compute x_prime at the second midpoint.\n",
    "    x_prime = velocity(x3[0,:], x3[1,:], x3[2,:]) # array(3, Nx*Ny*Nz)\n",
    "    \n",
    "    # compute gradient of velocity\n",
    "    grad_k3 = np.zeros(DF1.shape) # array(3,3, Nx*Ny*Nz)\n",
    "    \n",
    "    grad_vel = grad_velocity(x3[0,:], x3[1,:], x3[2,:]) # array(3,3, Nx*Ny*Nz)\n",
    "    \n",
    "    for i in range(grad_k3.shape[2]):\n",
    "        grad_k3[:,:,i] = dt*np.dot(grad_vel[i,:,:], DF3[:,:,i])\n",
    "    \n",
    "    # compute derivative\n",
    "    k3 = dt * x_prime # array(3, Nx*Ny*Nz)\n",
    "    \n",
    "    # Update position at the endpoint.\n",
    "    x4 = x1 + k3 # array(3, Nx*Ny*Nz)\n",
    "    \n",
    "    DF4 = DF1 + grad_k3 # array(3,3, Nx*Ny*Nz)\n",
    "    \n",
    "    # Update time\n",
    "    t = t0+dt # float\n",
    "    \n",
    "    # Compute derivative at the end of the time-step.\n",
    "    x_prime = velocity(x4[0,:], x4[1,:], x4[2,:]) # array(3, Nx*Ny*Nz)\n",
    "    \n",
    "    # compute gradient of velocity\n",
    "    grad_k4 = np.zeros(DF1.shape) # array(3,3, Nx*Ny*Nz)\n",
    "    \n",
    "    grad_vel = grad_velocity(x4[0,:], x4[1,:], x4[2,:]) # array(3,3, Nx*Ny*Nz)\n",
    "    \n",
    "    for i in range(grad_k4.shape[2]):\n",
    "        grad_k4[:,:,i] = dt*np.dot(grad_vel[i,:,:], DF4[:,:,i])\n",
    "    \n",
    "    # compute derivative\n",
    "    k4 = dt * x_prime # array(3, Nx*Ny*Nz)\n",
    "    \n",
    "    # Compute RK4 derivative\n",
    "    y_prime_update = 1.0 / 6.0*(k1 + 2 * k2 + 2 * k3 + k4) # array(3, Nx*Ny*Nz)\n",
    "    \n",
    "    dDFdt_update = 1.0 / 6.0*(grad_k1 + 2 * grad_k2 + 2 * grad_k3 + grad_k4) # array(3,3, Nx*Ny*Nz)\n",
    "    \n",
    "    # Integration y <-- y + y_primeupdate\n",
    "    y_update = x1 + y_prime_update # array(3, Nx*Ny*Nz)\n",
    "\n",
    "    # Integration DF <-- DF + dDFdt_update\n",
    "    DF_update = DF1 + dDFdt_update # array(3,3, Nx*Ny*Nz)\n",
    "    \n",
    "    return y_update, y_prime_update/dt, DF_update"
   ]
  },
  {
   "cell_type": "markdown",
   "id": "a7a6b218",
   "metadata": {},
   "source": [
    "# PRA\n",
    "\n",
    "The computation of the $ \\mathrm{PRA} $ is not done over the 3D meshgrid but only over the 2D faces of the cube $ [0,2\\pi]^3 $.\n",
    "We iterate over all initial conditions on the faces of the cube and calculate the gradient of the flow map. From the left and right singular vectors of the gradient of the flow map we then compute the $ \\mathrm{PRA} $."
   ]
  },
  {
   "cell_type": "code",
   "execution_count": null,
   "id": "6e129dc8",
   "metadata": {
    "ExecuteTime": {
     "end_time": "2022-02-11T14:30:23.886669Z",
     "start_time": "2022-02-11T14:30:23.878690Z"
    },
    "code_folding": [
     0,
     6,
     20
    ]
   },
   "outputs": [],
   "source": [
    "# Import function to compute Polar Rotation Angle (PRA)\n",
    "from ipynb.fs.defs.PRA import _PRA\n",
    "\n",
    "# Import package for parallel computing\n",
    "from joblib import Parallel, delayed\n",
    "\n",
    "def compute_PRA(x0, y0, z0):\n",
    "    \n",
    "    X0 = np.array([x0, y0, z0]) # array (3, Nx*Ny*Nz)\n",
    "    \n",
    "    DF = integration_dDF_dt(time, X0)[-1] # array (Nt, 3, 3, Nx*Ny*Nz)\n",
    "    \n",
    "    PRA = []\n",
    "    \n",
    "    for i in range(DF.shape[3]):\n",
    "        PRA.append(_PRA(DF[-1,:,:,i]))\n",
    "    \n",
    "    return PRA\n",
    "\n",
    "# Split x0,y0,z0 into 'Ncores' equal batches for parallel computing\n",
    "def split(a, n):\n",
    "    k, m = divmod(len(a), n)\n",
    "    return (a[i*k+min(i, m):(i+1)*k+min(i+1, m)] for i in range(n))"
   ]
  },
  {
   "cell_type": "markdown",
   "id": "105881e7",
   "metadata": {},
   "source": [
    "## XY-plane\n",
    "\n",
    "Compute $ \\mathrm{PRA} $ over the 2D meshgrid on the XY-plane."
   ]
  },
  {
   "cell_type": "code",
   "execution_count": null,
   "id": "636fe55a",
   "metadata": {
    "ExecuteTime": {
     "end_time": "2022-02-11T13:58:24.761677Z",
     "start_time": "2022-02-11T13:57:18.620425Z"
    },
    "code_folding": [
     0
    ]
   },
   "outputs": [],
   "source": [
    "# Vectorize initial conditions by arranging them to a vector of size (Nx*Ny*Nz, )\n",
    "x0_xy = X_domain[:,:,-1].ravel() # array (Nx*Ny*Nz, )\n",
    "y0_xy = Y_domain[:,:,-1].ravel() # array (Nx*Ny*Nz, )\n",
    "z0_xy = Z_domain[:,:,-1].ravel() # array (Nx*Ny*Nz, )\n",
    "\n",
    "x0_batch = list(split(x0_xy, Ncores)) # list (Nx*Ny*Nz)\n",
    "y0_batch = list(split(y0_xy, Ncores)) # list (Nx*Ny*Nz)\n",
    "z0_batch = list(split(z0_xy, Ncores)) # list (Nx*Ny*Nz)\n",
    "results = Parallel(n_jobs=Ncores, verbose = 2)(delayed(compute_PRA)(x0_batch[i], y0_batch[i], z0_batch[i]) for i in range(len(x0_batch)))\n",
    "\n",
    "# Extract results of PRA computation on xy-plane\n",
    "PRA_xy = results[0]\n",
    "for res in results[1:]:\n",
    "    PRA_xy = np.append(PRA_xy, res)\n",
    "\n",
    "# reshape vectorized arrays to structured array\n",
    "X0_xy = np.array(x0_xy).reshape(Ny,Nx) # array (Ny, Nx)\n",
    "Y0_xy = np.array(y0_xy).reshape(Ny,Nx) # array (Ny, Nx)\n",
    "Z0_xy = np.array(z0_xy).reshape(Ny,Nx) # array (Ny, Nx)\n",
    "PRA_xy = np.array(PRA_xy).reshape(Ny,Nx) # array (Ny, Nx)"
   ]
  },
  {
   "cell_type": "markdown",
   "id": "511ab3ee",
   "metadata": {},
   "source": [
    "## XZ-plane\n",
    "\n",
    "Compute $ \\mathrm{PRA} $ over the 2D meshgrid on the XZ-plane."
   ]
  },
  {
   "cell_type": "code",
   "execution_count": null,
   "id": "fd48bc82",
   "metadata": {
    "ExecuteTime": {
     "end_time": "2022-02-11T13:59:26.235941Z",
     "start_time": "2022-02-11T13:58:24.762675Z"
    },
    "code_folding": [
     0
    ]
   },
   "outputs": [],
   "source": [
    "# Vectorize initial conditions by arranging them to a vector of size (Nx*Ny*Nz, )\n",
    "x0_xz = X_domain[0,:,:].ravel() # array (Nx*Ny*Nz, )\n",
    "y0_xz = Y_domain[0,:,:].ravel() # array (Nx*Ny*Nz, )\n",
    "z0_xz = Z_domain[0,:,:].ravel() # array (Nx*Ny*Nz, )\n",
    "\n",
    "x0_batch = list(split(x0_xz, Ncores)) # list (Nx*Ny*Nz)\n",
    "y0_batch = list(split(y0_xz, Ncores)) # list (Nx*Ny*Nz)\n",
    "z0_batch = list(split(z0_xz, Ncores)) # list (Nx*Ny*Nz)\n",
    "results = Parallel(n_jobs=Ncores, verbose = 2)(delayed(compute_PRA)(x0_batch[i], y0_batch[i], z0_batch[i]) for i in range(len(x0_batch)))\n",
    "\n",
    "# Extract results of PRA computation on xz-plane\n",
    "PRA_xz = results[0]\n",
    "for res in results[1:]:\n",
    "    PRA_xz = np.append(PRA_xz, res)\n",
    "\n",
    "# reshape vectorized arrays to structured array\n",
    "X0_xz = np.array(x0_xz).reshape(Nz,Nx) # array (Nz, Nx)\n",
    "Y0_xz = np.array(y0_xz).reshape(Nz,Nx) # array (Nz, Nx)\n",
    "Z0_xz = np.array(z0_xz).reshape(Nz,Nx) # array (Nz, Nx)\n",
    "PRA_xz = np.array(PRA_xz).reshape(Nz,Nx) # array (Nz, Nx)"
   ]
  },
  {
   "cell_type": "markdown",
   "id": "55a21db5",
   "metadata": {},
   "source": [
    "## YZ-plane\n",
    "\n",
    "Compute $ \\mathrm{PRA} $ over the 2D meshgrid on the YZ-plane."
   ]
  },
  {
   "cell_type": "code",
   "execution_count": null,
   "id": "7d53a80b",
   "metadata": {
    "ExecuteTime": {
     "end_time": "2022-02-11T14:00:29.296748Z",
     "start_time": "2022-02-11T13:59:26.236939Z"
    },
    "code_folding": [
     0
    ]
   },
   "outputs": [],
   "source": [
    "# Vectorize initial conditions by arranging them to a vector of size (Nx*Ny*Nz, )\n",
    "x0_yz = X_domain[:,0,:].ravel() # array (Nx*Ny*Nz, )\n",
    "y0_yz = Y_domain[:,0,:].ravel() # array (Nx*Ny*Nz, )\n",
    "z0_yz = Z_domain[:,0,:].ravel() # array (Nx*Ny*Nz, )\n",
    "\n",
    "x0_batch = list(split(x0_yz, Ncores)) # list (Nx*Ny*Nz)\n",
    "y0_batch = list(split(y0_yz, Ncores)) # list (Nx*Ny*Nz)\n",
    "z0_batch = list(split(z0_yz, Ncores)) # list (Nx*Ny*Nz)\n",
    "results = Parallel(n_jobs=Ncores, verbose = 2)(delayed(compute_PRA)(x0_batch[i], y0_batch[i], z0_batch[i]) for i in range(len(x0_batch)))\n",
    "\n",
    "# Extract results of PRA computation on yz-plane\n",
    "PRA_yz = results[0]\n",
    "for res in results[1:]:\n",
    "    PRA_yz = np.append(PRA_yz, res)\n",
    "\n",
    "# reshape vectorized arrays to structured array\n",
    "X0_yz = np.array(x0_yz).reshape(Nz,Ny) # array (Nz, Ny)\n",
    "Y0_yz = np.array(y0_yz).reshape(Nz,Ny) # array (Nz, Ny)\n",
    "Z0_yz = np.array(z0_yz).reshape(Nz,Ny) # array (Nz, Ny)\n",
    "PRA_yz = np.array(PRA_yz).reshape(Nz,Ny) # array (Nz, Ny)"
   ]
  },
  {
   "cell_type": "code",
   "execution_count": null,
   "id": "ef5d28a2",
   "metadata": {
    "ExecuteTime": {
     "end_time": "2022-02-11T14:00:32.940187Z",
     "start_time": "2022-02-11T14:00:29.297718Z"
    }
   },
   "outputs": [],
   "source": [
    "# Import plotly for 3D figures\n",
    "from plotly import graph_objs as go\n",
    "\n",
    "# define minimum and maximum values for colorbar\n",
    "min_value = min(np.min(PRA_yz),min(np.min(PRA_xy), np.min(PRA_xz)))\n",
    "max_value = max(np.max(PRA_yz),max(np.max(PRA_xy), np.max(PRA_xz)))\n",
    "\n",
    "# create figure\n",
    "fig = go.Figure(data=[go.Surface(x = X0_xy, y = Y0_xy, z = Z0_xy, surfacecolor = PRA_xy, showscale = True, colorscale='rainbow', cmin=min_value, cmax=max_value)])\n",
    "fig.add_trace(go.Surface(x = X0_xz, y = Y0_xz, z = Z0_xz, surfacecolor = PRA_xz, showscale = False, colorscale='rainbow', cmin=min_value, cmax=max_value))\n",
    "fig.add_trace(go.Surface(x = X0_yz, y = Y0_yz, z = Z0_yz, surfacecolor = PRA_yz, showscale = False, colorscale='rainbow', cmin=min_value, cmax=max_value))\n",
    "fig.add_trace(go.Surface(x = X0_xy, y = Y0_xy, z = Z0_xy-2*pi, surfacecolor = PRA_xy, showscale = False, colorscale='rainbow', cmin=min_value, cmax=max_value))\n",
    "fig.add_trace(go.Surface(x = X0_xz, y = Y0_xz+2*pi, z = Z0_xz, surfacecolor = PRA_xz, showscale = False, colorscale='rainbow', cmin=min_value, cmax=max_value))\n",
    "fig.add_trace(go.Surface(x = X0_yz+2*pi, y = Y0_yz, z = Z0_yz, surfacecolor = PRA_yz, showscale = False, colorscale='rainbow', cmin=min_value, cmax=max_value))\n",
    "\n",
    "# camera\n",
    "camera = dict(eye=dict(x=-1.45,y=-1.45,z=1.7))\n",
    "fig.update_layout(scene_camera=camera)\n",
    "\n",
    "fig.show()"
   ]
  },
  {
   "cell_type": "markdown",
   "id": "e78b0868",
   "metadata": {},
   "source": [
    "The $ \\mathrm{PRA} $ admits tubular level surfaces that closely approximate the invariant tori. Codimension-two level sets of the $ \\mathrm{PRA} $  are periodic material curves at the cores of the elliptic regions. As in earlier examples, outside the elliptic islands formed by these closed level surfaces, $ \\mathrm{PRA} $  levels exhibit small-scale variations due to sensitive dependence of the rotation angle on the initial conditions."
   ]
  },
  {
   "cell_type": "markdown",
   "id": "e82bad93",
   "metadata": {},
   "source": [
    "# References\n",
    "\n",
    "[1] Farazmand, M., & Haller, G. (2016). Polar rotation angle identifies elliptic islands in unsteady dynamical systems. Physica D: Nonlinear Phenomena, 315, 1-12."
   ]
  }
 ],
 "metadata": {
  "kernelspec": {
   "display_name": "Python 3",
   "language": "python",
   "name": "python3"
  },
  "language_info": {
   "codemirror_mode": {
    "name": "ipython",
    "version": 3
   },
   "file_extension": ".py",
   "mimetype": "text/x-python",
   "name": "python",
   "nbconvert_exporter": "python",
   "pygments_lexer": "ipython3",
   "version": "3.7.12"
  },
  "toc": {
   "base_numbering": "0",
   "nav_menu": {},
   "number_sections": true,
   "sideBar": true,
   "skip_h1_title": false,
   "title_cell": "Table of Contents",
   "title_sidebar": "Contents",
   "toc_cell": false,
   "toc_position": {},
   "toc_section_display": true,
   "toc_window_display": true
  }
 },
 "nbformat": 4,
 "nbformat_minor": 5
}
