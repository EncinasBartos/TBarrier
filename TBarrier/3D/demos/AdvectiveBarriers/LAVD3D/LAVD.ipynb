{
 "cells": [
  {
   "cell_type": "markdown",
   "metadata": {},
   "source": [
    "The Lagrangian Averaged Vorticity Deviation (LAVD) is computed from the vorticity $ \\omega $ as:\n",
    "\n",
    "\\begin{equation}\n",
    "\\mathrm{LAVD}_{t_0}^{t_N}(\\mathbf{x}_0) = \\dfrac{1}{t_N-t_0} \\sum_{i = 0}^{N}| \\omega(\\mathbf{x}(t_i)) - \\overline{\\omega}(t_i) |\n",
    "\\end{equation}\n",
    "\n",
    "where $ \\omega(\\mathbf{x}(t_i)) $ indicates the vorticity at $ \\mathbf{x}(t_i) $. $ \\overline{\\omega}(t_i) $ is the spatial average of the vorticity at time $ t_i $."
   ]
  },
  {
   "cell_type": "markdown",
   "metadata": {},
   "source": [
    "| Name | Type (Shape) | Description |\n",
    "| --- | --- | --- |\n",
    "| omega | array (Nt, Ny, Nx, Nz) | vorticity $ \\omega $ along trajectories|\n",
    "| lenT | float | $ t_N-t_0 $|\n",
    "| LAVD | array (Ny, Nx, Nz) | $ \\mathrm{LAVD}_{t_0}^{t_N}(\\mathbf{x}_0) $|"
   ]
  },
  {
   "cell_type": "code",
   "execution_count": 1,
   "metadata": {
    "ExecuteTime": {
     "end_time": "2021-12-07T14:22:23.208938Z",
     "start_time": "2021-12-07T14:22:23.202678Z"
    }
   },
   "outputs": [],
   "source": [
    "import sys, os\n",
    "\n",
    "# get current directory\n",
    "path = os.getcwd()\n",
    "\n",
    "# get parent directory\n",
    "parent_directory = os.path.sep.join(path.split(os.path.sep)[:-3])\n",
    "\n",
    "# add utils folder to current working path\n",
    "sys.path.append(parent_directory+\"/subfunctions/utils\")"
   ]
  },
  {
   "cell_type": "code",
   "execution_count": null,
   "metadata": {},
   "outputs": [],
   "source": [
    "# Import numpy\n",
    "import numpy as np\n",
    "\n",
    "# Import function which calculates gradient of velocity\n",
    "from ipynb.fs.defs.gradient_velocity import gradient_velocity\n",
    "\n",
    "# import math tools\n",
    "from math import sqrt\n",
    "\n",
    "# import progress bar\n",
    "from tqdm.notebook import tqdm"
   ]
  },
  {
   "cell_type": "code",
   "execution_count": 2,
   "metadata": {},
   "outputs": [],
   "source": [
    "def _LAVD(omega, lenT, omega_avg = None):\n",
    "    \n",
    "    omega = omega.reshape((omega.shape[0], 3, -1))\n",
    "    \n",
    "    if omega_avg is None:\n",
    "    \n",
    "        omega_avg = [] # list (Nt,)\n",
    "        for t in range(omega.shape[0]):\n",
    "            omega_avg.append(np.mean(omega[t,:,:], axis = -1))\n",
    "\n",
    "    omega_avg = np.array(omega_avg)\n",
    "    LAVD = np.zeros((omega.shape[2]))\n",
    "\n",
    "    for t in tqdm(range(omega.shape[0])):\n",
    "        for i in range(omega.shape[2]):\n",
    "            omega_dif = omega[t,:,i]-omega_avg[t,:]\n",
    "            LAVD[i] += sqrt(omega_dif[0]**2+omega_dif[1]**2+omega_dif[2]**2)\n",
    "    \n",
    "    return LAVD/lenT"
   ]
  }
 ],
 "metadata": {
  "kernelspec": {
   "display_name": "Python 3",
   "language": "python",
   "name": "python3"
  },
  "language_info": {
   "codemirror_mode": {
    "name": "ipython",
    "version": 3
   },
   "file_extension": ".py",
   "mimetype": "text/x-python",
   "name": "python",
   "nbconvert_exporter": "python",
   "pygments_lexer": "ipython3",
   "version": "3.7.12"
  },
  "toc": {
   "base_numbering": 1,
   "nav_menu": {},
   "number_sections": true,
   "sideBar": true,
   "skip_h1_title": false,
   "title_cell": "Table of Contents",
   "title_sidebar": "Contents",
   "toc_cell": false,
   "toc_position": {},
   "toc_section_display": true,
   "toc_window_display": false
  }
 },
 "nbformat": 4,
 "nbformat_minor": 4
}
