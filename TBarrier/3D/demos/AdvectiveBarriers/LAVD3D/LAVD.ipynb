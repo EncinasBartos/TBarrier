{
 "cells": [
  {
   "cell_type": "markdown",
   "metadata": {},
   "source": [
    "The Lagrangian Averaged Vorticity Deviation (LAVD) is computed from the vorticity $ \\omega $ with the trapezoid rule as:\n",
    "\n",
    "\\begin{equation}\n",
    "\\mathrm{LAVD}_{t_0}^{t_N}(\\mathbf{x}_0) = \\dfrac{1}{t_N-t_0} \\int_{t_0}^{t_N}| \\omega(\\mathbf{x}(t)) - \\overline{\\omega}(t) |dt \\approx \n",
    "\\dfrac{1}{t_N-t_0}\\left[\\frac{|\\omega(\\mathbf{x}(t_0)) - \\overline{\\omega}(t_0) | \\Delta t }{2} + \\frac{|\\omega(\\mathbf{x}(t_N)) - \\overline{\\omega}(t_N) | \\Delta t }{2} + \\sum_{i = 1}^{N-1}| \\omega(\\mathbf{x}(t_i)) - \\overline{\\omega}(t_i) | \\Delta t \\right]\n",
    "\\end{equation}\n",
    "\n",
    "where $ \\omega(\\mathbf{x}(t_i)) $ indicates the vorticity at $ \\mathbf{x}(t_i) $. $ \\overline{\\omega}(t_i) $ is the spatial average of the vorticity at time $ t_i $."
   ]
  },
  {
   "cell_type": "markdown",
   "metadata": {},
   "source": [
    "| Name | Type (Shape) | Description |\n",
    "| --- | --- | --- |\n",
    "| omega | array (Nt, 3, Npoints) | vorticity $ \\omega $ along trajectories|\n",
    "| times | array (Nt, )| time array, equi spaced array is assumed|\n",
    "| omega_avg | array (Nt, )| spatial average of the vorticity. If None, the function calculates this. |\n",
    "| LAVD | array (Npoints) | $ \\mathrm{LAVD}_{t_0}^{t_N}(\\mathbf{x}_0) $|"
   ]
  },
  {
   "cell_type": "code",
   "execution_count": 9,
   "metadata": {
    "ExecuteTime": {
     "end_time": "2021-12-07T14:22:23.208938Z",
     "start_time": "2021-12-07T14:22:23.202678Z"
    }
   },
   "outputs": [],
   "source": [
    "import sys, os\n",
    "\n",
    "# get current directory\n",
    "path = os.getcwd()\n",
    "\n",
    "# get parent directory\n",
    "parent_directory = os.path.sep.join(path.split(os.path.sep)[:-3])\n",
    "# add utils folder to current working path\n",
    "sys.path.append(parent_directory+\"/subfunctions/utils\")\n"
   ]
  },
  {
   "cell_type": "code",
   "execution_count": null,
   "metadata": {},
   "outputs": [],
   "source": [
    "# Import numpy\n",
    "import numpy as np\n",
    "\n",
    "# Import function which calculates gradient of velocity\n",
    "from ipynb.fs.defs.gradient_velocity import gradient_velocity\n",
    "\n",
    "# import math tools\n",
    "from math import sqrt\n",
    "\n",
    "# import progress bar\n",
    "from tqdm.notebook import tqdm"
   ]
  },
  {
   "cell_type": "code",
   "execution_count": 14,
   "metadata": {},
   "outputs": [],
   "source": [
    "def _LAVD(omega, times, omega_avg = None):\n",
    "    ''' \n",
    "    The Lagrangian Averaged Vorticity Deviation (LAVD) is computed from the vorticity with the trapezoid rule.\n",
    "    Integrate the absolute deviation of the vorticity from its spatial mean along trajectories\n",
    "    and divide by the length of the time interval.\n",
    "    \n",
    "    Parameters:\n",
    "        omega: array(Nt, 3, Npoints), the vorticity vector computed along trajectories\n",
    "        times: array(Nt, ), time array. Uniform spacing is assumed\n",
    "        omega_avg: array(Nt,), spatial average of the vorticity for each time instant\n",
    "        \n",
    "    Returns:\n",
    "        LAVD: array(Npoints,), integrated |\\omega - average(\\omega)| / t_N - t_0, the LAVD field\n",
    "    '''\n",
    "    omega = omega.reshape((omega.shape[0], 3, -1))\n",
    "    lenT = times[-1] - times[0] # calculate length of time interval\n",
    "    dt = times[1] - times[0] # assume uniform dt\n",
    "    if omega_avg is None:\n",
    "        omega_avg = [] # list (Nt,)\n",
    "        for t in range(omega.shape[0]):\n",
    "            omega_avg.append(np.mean(omega[t,:,:], axis = -1))\n",
    "\n",
    "    omega_avg = np.array(omega_avg)\n",
    "    LAVD = np.zeros((omega.shape[2]))\n",
    "    omega_dif = (omega[0,:,:].T - omega_avg[0,:]).T # 0 th step in the trapezoid rule\n",
    "    LAVD += np.sqrt(omega_dif[0]**2 + omega_dif[1]**2 + omega_dif[2]**2) * dt / 2\n",
    "\n",
    "    for t in tqdm(range(1,omega.shape[0]-1)): # integrate with the trapezoid rule\n",
    "        omega_dif = (omega[t,:,:].T - omega_avg[t,:]).T\n",
    "        LAVD += np.sqrt(omega_dif[0]**2+omega_dif[1]**2+omega_dif[2]**2) * dt\n",
    "            \n",
    "    indexN = omega.shape[0]-1\n",
    "    omega_dif = (omega[indexN,:,:].T - omega_avg[indexN,:]).T # N th step in the trapezoid rule\n",
    "    LAVD += np.sqrt(omega_dif[0]**2 + omega_dif[1]**2 + omega_dif[2]**2) * dt / 2\n",
    "    \n",
    "    return LAVD / lenT"
   ]
  }
 ],
 "metadata": {
  "kernelspec": {
   "display_name": "Python 3",
   "language": "python",
   "name": "python3"
  },
  "language_info": {
   "codemirror_mode": {
    "name": "ipython",
    "version": 3
   },
   "file_extension": ".py",
   "mimetype": "text/x-python",
   "name": "python",
   "nbconvert_exporter": "python",
   "pygments_lexer": "ipython3",
   "version": "3.7.12"
  },
  "latex_envs": {
   "LaTeX_envs_menu_present": true,
   "autoclose": false,
   "autocomplete": true,
   "bibliofile": "biblio.bib",
   "cite_by": "apalike",
   "current_citInitial": 1,
   "eqLabelWithNumbers": true,
   "eqNumInitial": 1,
   "hotkeys": {
    "equation": "Ctrl-E",
    "itemize": "Ctrl-I"
   },
   "labels_anchors": false,
   "latex_user_defs": false,
   "report_style_numbering": false,
   "user_envs_cfg": false
  },
  "toc": {
   "base_numbering": 1,
   "nav_menu": {},
   "number_sections": true,
   "sideBar": true,
   "skip_h1_title": false,
   "title_cell": "Table of Contents",
   "title_sidebar": "Contents",
   "toc_cell": false,
   "toc_position": {},
   "toc_section_display": true,
   "toc_window_display": false
  }
 },
 "nbformat": 4,
 "nbformat_minor": 4
}
