{
 "cells": [
  {
   "cell_type": "code",
   "execution_count": null,
   "metadata": {
    "ExecuteTime": {
     "end_time": "2022-03-04T15:19:07.826420Z",
     "start_time": "2022-03-04T15:19:07.819577Z"
    },
    "code_folding": [
     0
    ]
   },
   "outputs": [],
   "source": [
    "# import sys/os\n",
    "import sys, os\n",
    "\n",
    "# get current directory\n",
    "path = os.getcwd()\n",
    "\n",
    "# get parent directory\n",
    "parent_directory = os.path.sep.join(path.split(os.path.sep)[:-4])\n",
    "\n",
    "# add utils folder to current working path\n",
    "sys.path.append(parent_directory+\"/subfunctions/utils\")\n",
    "\n",
    "# add integration folder to current working path\n",
    "sys.path.append(parent_directory+\"/subfunctions/integration\")\n",
    "\n",
    "# add 'LAVD3D' folder to current working path in order to access the functions\n",
    "sys.path.append(parent_directory+\"/demos/AdvectiveBarriers/LAVD3D\")"
   ]
  },
  {
   "cell_type": "markdown",
   "metadata": {},
   "source": [
    "# Overview\n",
    "\n",
    "In the following notebook we compute the Lagrangian Averaged Vorticity Deviation ($ \\mathrm{LAVD} $) on the three-dimensional, unsteady ABC-flow. The velocity field is given as discrete dataset defined over the 3D meshgrid $ [0,2\\pi]^3 $. The notebook is structured as follows:\n",
    "\n",
    "1. Import data from the file 'ABCunsteady.mat' stored in the folder 'data/ABC'.\n",
    "<br />\n",
    "2. Define computational parameters and data.\n",
    " <br />\n",
    "3. Define spatio-temporal domain.\n",
    " <br />\n",
    "4. Interpolate velocity from (discrete) gridded data.\n",
    " <br />\n",
    "5. $ \\mathrm{LAVD} $:\n",
    "\n",
    "    * Compute vorticity $ \\mathbf{\\omega}(\\mathbf{F}_{t_0}^{t}(\\mathbf{x}_0),t) $ along particle trajectories. The ABC-flow satisfies the strong Beltrami property. It thus holds:\n",
    "    \\begin{equation}\n",
    "    \\mathbf{\\omega}(\\mathbf{F}_{t_0}^{t}(\\mathbf{x}_0),t) = \\mathbf{v}(\\mathbf{F}_{t_0}^{t}(\\mathbf{x}_0),t)= \\dfrac{d}{dt}\\mathbf{F}_{t_0}^{t}(\\mathbf{x}_0)\n",
    "    \\end{equation}\n",
    "    \n",
    "    Although due to the strong Beltrami property the vorticity can directly be inferred from the velocity, one cannot assume that for arbitry type of flows. We hence computed the vorticity along particle trajectories according to:\n",
    "    \n",
    "    \\begin{equation}\n",
    "    \\mathbf{\\omega}(\\mathbf{x},t) = \\nabla \\times \\mathbf{v}(\\mathbf{x}, t)\n",
    "    \\end{equation}\n",
    "    <br />\n",
    "    \n",
    "    * Compute $ \\mathrm{LAVD} $:\n",
    "    \\begin{equation}\n",
    "    \\mathrm{LAVD}_{t_0}^{t_N}(\\mathbf{x}_0) = \\dfrac{1}{t_N-t_0} \\sum_{i = 0}^{N}| \\omega(\\mathbf{F}_{t_0}^{t_i}(\\mathbf{x}_0)) - \\overline{\\omega}(t_i) |,\n",
    "    \\end{equation} where $ \\overline{\\omega}(t_i) $ denotes the spatio-temporal average over the defined domain.\n",
    "    <br />\n",
    "   \n",
    " <br />\n",
    "6. References"
   ]
  },
  {
   "cell_type": "markdown",
   "metadata": {},
   "source": [
    "# Import data\n",
    "\n",
    "We start by importing the ABC-data from 'ABCunsteady.mat' located in the folder 'data/ABC'."
   ]
  },
  {
   "cell_type": "code",
   "execution_count": null,
   "metadata": {
    "ExecuteTime": {
     "end_time": "2022-03-04T15:19:08.566047Z",
     "start_time": "2022-03-04T15:19:07.872015Z"
    },
    "code_folding": [
     0
    ]
   },
   "outputs": [],
   "source": [
    "# import scipy\n",
    "import scipy.io as sio\n",
    "\n",
    "# Import velocity data from file in data-folder\n",
    "mat_file = sio.loadmat('../../../../data/ABC/ABCunsteady.mat')\n",
    "\n",
    "U = mat_file['u'] # array (NY, NX, NZ, NT)\n",
    "V = mat_file['v'] # array (NY, NX, NZ, NT)\n",
    "W = mat_file['w'] # array (NY, NX, NZ, NT)\n",
    "x = mat_file['x'] # array (1, NX)\n",
    "y = mat_file['y'] # array (1, NY)\n",
    "z = mat_file['z'] # array (1, NZ)\n",
    "time_data = mat_file['t'] # array (1, NT)"
   ]
  },
  {
   "cell_type": "markdown",
   "metadata": {},
   "source": [
    "# Computational parameters and data\n",
    "\n",
    "Here we define the computational parameters and the data."
   ]
  },
  {
   "cell_type": "code",
   "execution_count": null,
   "metadata": {
    "ExecuteTime": {
     "end_time": "2022-03-04T15:19:08.636847Z",
     "start_time": "2022-03-04T15:19:08.569436Z"
    },
    "code_folding": [
     0
    ]
   },
   "outputs": [],
   "source": [
    "# import numpy\n",
    "import numpy as np\n",
    "\n",
    "# Number of cores for parallel computing\n",
    "Ncores = 7 # int\n",
    "\n",
    "# Periodic boundary conditions\n",
    "periodic_x = True # bool\n",
    "periodic_y = True # bool\n",
    "periodic_z = True # bool\n",
    "periodic = [periodic_x, periodic_y, periodic_z]\n",
    "\n",
    "# Unsteady velocity field\n",
    "bool_unsteady = True # bool\n",
    "\n",
    "# Defined domain\n",
    "defined_domain = np.isfinite(U).astype(int) # array (NY, NX, NZ)\n",
    "\n",
    "## Compute meshgrid of dataset\n",
    "X, Y, Z = np.meshgrid(x, y, z) # array (NY, NX), array (NY, NX, NZ)\n",
    "\n",
    "## Resolution of meshgrid\n",
    "dx_data = X[0,1,0]-X[0,0,0] # float\n",
    "dy_data = Y[1,0,0]-Y[0,0,0] # float\n",
    "dz_data = Y[0,0,1]-Z[0,0,0] # float\n",
    "\n",
    "delta = [dx_data, dy_data, dx_data] # list (3, )"
   ]
  },
  {
   "cell_type": "markdown",
   "metadata": {},
   "source": [
    "# Spatio-temporal domain\n",
    "\n",
    "Here we define the spatio-temporal domain over which to consider the dynamical system."
   ]
  },
  {
   "cell_type": "code",
   "execution_count": null,
   "metadata": {
    "ExecuteTime": {
     "end_time": "2022-03-04T15:19:08.784227Z",
     "start_time": "2022-03-04T15:19:08.641312Z"
    },
    "code_folding": [
     0
    ]
   },
   "outputs": [],
   "source": [
    "# Initial time\n",
    "t0 = 0 # float\n",
    "\n",
    "# Final time\n",
    "tN = 10 # float\n",
    "\n",
    "# Time step-size\n",
    "dt = 0.1 # float\n",
    "\n",
    "time = np.arange(t0, tN+dt, dt) # shape (Nt,)\n",
    "\n",
    "# Length of time interval\n",
    "lenT = abs(tN-t0) # float\n",
    "\n",
    "# boundaries\n",
    "xmin = 0 # float\n",
    "xmax = 2*np.pi # float\n",
    "ymin = 0 # float\n",
    "ymax = 2*np.pi # float\n",
    "zmin = 0 # float\n",
    "zmax = 2*np.pi # float\n",
    "\n",
    "# Resolution of meshgrid\n",
    "Ny = 200 # int\n",
    "Nx = 200 # int\n",
    "Nz = 200 # int\n",
    "\n",
    "x_domain = np.linspace(xmin, xmax, Nx, endpoint = True) # array (Nx, )\n",
    "y_domain = np.linspace(ymin, ymax, Ny, endpoint = True) # array (Ny, )\n",
    "z_domain = np.linspace(zmin, zmax, Nz, endpoint = True) # array (Nz, )\n",
    "\n",
    "dx = x_domain[1]-x_domain[0] # float\n",
    "dy = y_domain[1]-y_domain[0] # float\n",
    "dz = z_domain[1]-z_domain[0] # float\n",
    "\n",
    "X_domain, Y_domain, Z_domain = np.meshgrid(x_domain, y_domain, z_domain) # array (Ny, Nx, Nz)\n",
    "\n",
    "Ny = X_domain.shape[0] # int\n",
    "Nx = X_domain.shape[1] # int\n",
    "Nz = X_domain.shape[2] # int\n",
    "\n",
    "# auxiliary grid spacing\n",
    "aux_grid = [0.1*dx, 0.1*dy, 0.1*dz] # list (3,)"
   ]
  },
  {
   "cell_type": "markdown",
   "metadata": {},
   "source": [
    "# Interpolate velocity\n",
    "\n",
    "In order to evaluate the velocity field at arbitrary locations, we interpolate the discrete velocity data. The interpolation with respect to time and space is always linear."
   ]
  },
  {
   "cell_type": "code",
   "execution_count": null,
   "metadata": {
    "ExecuteTime": {
     "end_time": "2022-03-04T15:19:08.947834Z",
     "start_time": "2022-03-04T15:19:08.788628Z"
    },
    "code_folding": [
     0
    ],
    "run_control": {
     "marked": true
    }
   },
   "outputs": [],
   "source": [
    "# Import interpolation function for unsteady flow field\n",
    "from ipynb.fs.defs.Interpolant import interpolant_unsteady\n",
    "\n",
    "# Set nan values to zero (in case there are any) so that we can apply interpolant. \n",
    "# Interpolant does not work if the array contains nan values. \n",
    "U[np.isnan(U)] = 0\n",
    "V[np.isnan(V)] = 0\n",
    "W[np.isnan(W)] = 0\n",
    "\n",
    "# Interpolate velocity data using cubic spatial interpolation\n",
    "Interpolant = interpolant_unsteady(X, Y, Z, U, V, W, time_data)\n",
    "\n",
    "Interpolant_u = Interpolant[0] # RectangularBivariateSpline-object\n",
    "Interpolant_v = Interpolant[1] # RectangularBivariateSpline-object\n",
    "Interpolant_w = Interpolant[2] # RectangularBivariateSpline-object"
   ]
  },
  {
   "cell_type": "markdown",
   "metadata": {},
   "source": [
    "# LAVD\n",
    "\n",
    "The computation of the $ \\mathrm{LAVD} $ is not done over the 3D meshgrid but only over the 2D faces of the cube $ [0,2\\pi]^3 $.\n",
    "We iterate over all initial conditions on the faces of the cube and calculate the vorticity along the particle trajectories. In the ABC-flow, the vorticity coincides with the velocity. Furthermore, from the periodicity of the velocity field it can also be inferred that the spatially averaged velocity/vorticity is identically zero. \n",
    "From the velocity/vorticity along the particle trajectories we then compute the $ \\mathrm{LAVD} $."
   ]
  },
  {
   "cell_type": "code",
   "execution_count": null,
   "metadata": {
    "ExecuteTime": {
     "end_time": "2022-03-04T15:19:09.098082Z",
     "start_time": "2022-03-04T15:19:08.951186Z"
    },
    "code_folding": [
     0
    ]
   },
   "outputs": [],
   "source": [
    "# Import function to compute flow map (=trajectories) and derivative of flow map (=velocity along trajectories)\n",
    "from ipynb.fs.defs.integration_dFdt import integration_dFdt\n",
    "\n",
    "# Import function to compute Lagrangian Averaged Vorticity Deviation (LAVD)\n",
    "from ipynb.fs.defs.LAVD import _LAVD\n",
    "\n",
    "# Import function to compute vorticity along trajectories\n",
    "from ipynb.fs.defs.vorticity import vorticity\n",
    "\n",
    "# Import package for parallel computing\n",
    "from joblib import Parallel, delayed\n",
    "\n",
    "def compute_omega(x0, y0, z0):\n",
    "    \n",
    "    X0 = np.array([x0, y0, z0]) # array (3, Nx*Ny*Nz)\n",
    "    \n",
    "    Fmap = integration_dFdt(time, X0, X, Y, Z, Interpolant_u, Interpolant_v, Interpolant_w, periodic, bool_unsteady)[0] # array (Nt, 3, Nx*Ny*Nz)\n",
    "    \n",
    "    # As the ABC-flow satisfies the strong Beltrami property, the vorticity coincides with the velocity.\n",
    "    omega = np.zeros(Fmap.shape)\n",
    "    \n",
    "    for i in range(Fmap.shape[0]):\n",
    "        print(Fmap[i,:,:].shape)\n",
    "        omega[i,:,:] = vorticity(time[i], Fmap[i,:,:], X, Y, Z, Interpolant_u, Interpolant_v, Interpolant_w, periodic, bool_unsteady, aux_grid)\n",
    "    \n",
    "    return omega\n",
    "\n",
    "# Split x0,y0,z0 into 'Ncores' equal batches for parallel computing\n",
    "def split(a, n):\n",
    "    k, m = divmod(len(a), n)\n",
    "    return (a[i*k+min(i, m):(i+1)*k+min(i+1, m)] for i in range(n))"
   ]
  },
  {
   "cell_type": "markdown",
   "metadata": {},
   "source": [
    "## XY-plane\n",
    "\n",
    "Compute $ \\mathrm{LAVD} $ on XY-plane."
   ]
  },
  {
   "cell_type": "code",
   "execution_count": null,
   "metadata": {
    "ExecuteTime": {
     "end_time": "2022-03-04T15:20:30.778504Z",
     "start_time": "2022-03-04T15:19:09.101503Z"
    },
    "code_folding": [
     0
    ]
   },
   "outputs": [],
   "source": [
    "# Vectorize initial conditions by arranging them to a vector of size (Nx*Ny*Nz, )\n",
    "x0_xy = X_domain[:,:,-1].ravel() # array (Nx*Ny*Nz, )\n",
    "y0_xy = Y_domain[:,:,-1].ravel() # array (Nx*Ny*Nz, )\n",
    "z0_xy = Z_domain[:,:,-1].ravel() # array (Nx*Ny*Nz, )\n",
    "\n",
    "x0_batch = list(split(x0_xy, Ncores)) # list (Nx*Ny*Nz)\n",
    "y0_batch = list(split(y0_xy, Ncores)) # list (Nx*Ny*Nz)\n",
    "z0_batch = list(split(z0_xy, Ncores)) # list (Nx*Ny*Nz)\n",
    "results = Parallel(n_jobs=Ncores, verbose = 2)(delayed(compute_omega)(x0_batch[i], y0_batch[i], z0_batch[i]) for i in range(len(x0_batch)))\n",
    "\n",
    "# Extract results of omega computation on xy-plane\n",
    "omega_xy = results[0]\n",
    "for res in results[1:]:\n",
    "    omega_xy = np.append(omega_xy, res, axis = -1)\n",
    "    \n",
    "omega_avg = np.zeros((omega_xy.shape[0], 3))\n",
    "LAVD_xy = _LAVD(omega_xy, lenT, omega_avg)\n",
    "\n",
    "X0_xy = np.array(x0_xy).reshape(Ny,Nx) # array (Ny, Nx)\n",
    "Y0_xy = np.array(y0_xy).reshape(Ny,Nx) # array (Ny, Nx)\n",
    "Z0_xy = np.array(z0_xy).reshape(Ny,Nx) # array (Ny, Nx)\n",
    "LAVD_xy = np.array(LAVD_xy).reshape(Ny,Nx) # array (Ny, Nx)"
   ]
  },
  {
   "cell_type": "markdown",
   "metadata": {},
   "source": [
    "## XZ-plane\n",
    "\n",
    "Compute $ \\mathrm{LAVD} $ on XZ-plane."
   ]
  },
  {
   "cell_type": "code",
   "execution_count": null,
   "metadata": {
    "ExecuteTime": {
     "end_time": "2022-03-04T15:22:01.351482Z",
     "start_time": "2022-03-04T15:20:30.782137Z"
    },
    "code_folding": []
   },
   "outputs": [],
   "source": [
    "# Vectorize initial conditions by arranging them to a vector of size (Nx*Ny*Nz, )\n",
    "x0_xz = X_domain[0,:,:].ravel() # array (Nx*Ny*Nz, )\n",
    "y0_xz = Y_domain[0,:,:].ravel() # array (Nx*Ny*Nz, )\n",
    "z0_xz = Z_domain[0,:,:].ravel() # array (Nx*Ny*Nz, )\n",
    "\n",
    "x0_batch = list(split(x0_xz, Ncores)) # list (Nx*Ny*Nz)\n",
    "y0_batch = list(split(y0_xz, Ncores)) # list (Nx*Ny*Nz)\n",
    "z0_batch = list(split(z0_xz, Ncores)) # list (Nx*Ny*Nz)\n",
    "results = Parallel(n_jobs=Ncores, verbose = 2)(delayed(compute_omega)(x0_batch[i], y0_batch[i], z0_batch[i]) for i in range(len(x0_batch)))\n",
    "\n",
    "# Extract results of omega computation on xy-plane\n",
    "omega_xz = results[0]\n",
    "for res in results[1:]:\n",
    "    omega_xz = np.append(omega_xz, res, axis = -1)\n",
    "    \n",
    "omega_avg = np.zeros((omega_xz.shape[0], 3))\n",
    "LAVD_xz = _LAVD(omega_xz, lenT, omega_avg)\n",
    "\n",
    "X0_xz = np.array(x0_xz).reshape(Nz,Nx) # array (Nz, Nx)\n",
    "Y0_xz = np.array(y0_xz).reshape(Nz,Nx) # array (Nz, Nx)\n",
    "Z0_xz = np.array(z0_xz).reshape(Nz,Nx) # array (Nz, Nx)\n",
    "LAVD_xz = np.array(LAVD_xz).reshape(Nz,Nx) # array (Nz, Nx)"
   ]
  },
  {
   "cell_type": "markdown",
   "metadata": {},
   "source": [
    "## YZ-plane\n",
    "\n",
    "Compute $ \\mathrm{LAVD} $ on YZ-plane."
   ]
  },
  {
   "cell_type": "code",
   "execution_count": null,
   "metadata": {
    "ExecuteTime": {
     "end_time": "2022-03-04T15:23:32.687195Z",
     "start_time": "2022-03-04T15:22:01.357639Z"
    },
    "code_folding": [
     0
    ]
   },
   "outputs": [],
   "source": [
    "# Vectorize initial conditions by arranging them to a vector of size (Nx*Ny*Nz, )\n",
    "x0_yz = X_domain[:,0,:].ravel() # array (Nx*Ny*Nz, )\n",
    "y0_yz = Y_domain[:,0,:].ravel() # array (Nx*Ny*Nz, )\n",
    "z0_yz = Z_domain[:,0,:].ravel() # array (Nx*Ny*Nz, )\n",
    "\n",
    "x0_batch = list(split(x0_yz, Ncores)) # list (Nx*Ny*Nz)\n",
    "y0_batch = list(split(y0_yz, Ncores)) # list (Nx*Ny*Nz)\n",
    "z0_batch = list(split(z0_yz, Ncores)) # list (Nx*Ny*Nz)\n",
    "results = Parallel(n_jobs=Ncores, verbose = 2)(delayed(compute_omega)(x0_batch[i], y0_batch[i], z0_batch[i]) for i in range(len(x0_batch)))\n",
    "\n",
    "# Extract results of omega computation on xy-plane\n",
    "omega_yz = results[0]\n",
    "for res in results[1:]:\n",
    "    omega_yz = np.append(omega_yz, res, axis = -1)\n",
    "    \n",
    "omega_avg = np.zeros((omega_yz.shape[0], 3))\n",
    "LAVD_yz = _LAVD(omega_yz, lenT, omega_avg)\n",
    "\n",
    "X0_yz = np.array(x0_yz).reshape(Nz,Ny) # array (Nz, Ny)\n",
    "Y0_yz = np.array(y0_yz).reshape(Nz,Ny) # array (Nz, Ny)\n",
    "Z0_yz = np.array(z0_yz).reshape(Nz,Ny) # array (Nz, Ny)\n",
    "LAVD_yz = np.array(LAVD_yz).reshape(Nz,Ny) # array (Nz, Ny)"
   ]
  },
  {
   "cell_type": "code",
   "execution_count": null,
   "metadata": {
    "ExecuteTime": {
     "end_time": "2022-03-04T15:23:40.253948Z",
     "start_time": "2022-03-04T15:23:32.690931Z"
    },
    "code_folding": [
     0
    ],
    "run_control": {
     "marked": true
    },
    "scrolled": false
   },
   "outputs": [],
   "source": [
    "############################################ PLOT RESULTS ############################################\n",
    "\n",
    "# Import plotly for 3D figures\n",
    "from plotly import graph_objs as go \n",
    "\n",
    "# define minimum and maximum values for colorbar\n",
    "min_value = min(np.min(LAVD_yz),min(np.min(LAVD_xy), np.min(LAVD_xz)))\n",
    "max_value = max(np.max(LAVD_yz),max(np.max(LAVD_xy), np.max(LAVD_xz)))\n",
    "\n",
    "# create figure\n",
    "fig = go.Figure(data=[go.Surface(x = X0_xy, y = Y0_xy, z = Z0_xy, surfacecolor = LAVD_xy, showscale = True, colorscale='rainbow', cmin=min_value, cmax=max_value)])\n",
    "fig.add_trace(go.Surface(x = X0_xz, y = Y0_xz, z = Z0_xz, surfacecolor = LAVD_xz, showscale = False, colorscale='rainbow', cmin=min_value, cmax=max_value))\n",
    "fig.add_trace(go.Surface(x = X0_yz, y = Y0_yz, z = Z0_yz, surfacecolor = LAVD_yz, showscale = False, colorscale='rainbow', cmin=min_value, cmax=max_value))\n",
    "fig.add_trace(go.Surface(x = X0_xy, y = Y0_xy, z = Z0_xy-2*np.pi, surfacecolor = LAVD_xy, showscale = False, colorscale='rainbow', cmin=min_value, cmax=max_value))\n",
    "fig.add_trace(go.Surface(x = X0_xz, y = Y0_xz+2*np.pi, z = Z0_xz, surfacecolor = LAVD_xz, showscale = False, colorscale='rainbow', cmin=min_value, cmax=max_value))\n",
    "fig.add_trace(go.Surface(x = X0_yz+2*np.pi, y = Y0_yz, z = Z0_yz, surfacecolor = LAVD_yz, showscale = False, colorscale='rainbow', cmin=min_value, cmax=max_value))\n",
    "\n",
    "# camera\n",
    "camera = dict(eye=dict(x=-1.45,y=-1.45,z=1.7))\n",
    "fig.update_layout(scene_camera=camera)\n",
    "\n",
    "fig.update_layout(\n",
    "    title={\n",
    "        'text': f'$\\mathrm{{LAVD}}_{t0}^{{{tN}}}$',\n",
    "        'y':0.9,\n",
    "        'x':0.5,\n",
    "        'xanchor': 'center',\n",
    "        'yanchor': 'top'})\n",
    "\n",
    "fig.show()"
   ]
  },
  {
   "cell_type": "markdown",
   "metadata": {},
   "source": [
    "Elliptic LCS are visible as convex tubular surfaces with a sharp drop in the $ \\mathrm{LAVD} $-field. The structures highlighted by the $ \\mathrm{LAVD} $-field can directly be compared to those of the [$ \\mathrm{\\overline{TRA}}$](../../TRA3D/Main/TRAABCsteady.ipynb)-field. In general, the structures generated by the $ \\mathrm{LAVD} $ are not robust under subsampling as the computation of the vorticity along a particle trajectory requires evaluating spatial derivatives of the velocity-field. Strong Beltrami flows are an exception as the vorticity is equivalent to the velocity and hence no spatial derivatives are required in this special flow."
   ]
  },
  {
   "cell_type": "markdown",
   "metadata": {},
   "source": [
    "# References\n",
    "\n",
    "[1] Haller, G., Hadjighasem, A., Farazmand, M., & Huhn, F. (2016). Defining coherent vortices objectively from the vorticity. Journal of Fluid Mechanics, 795, 136-173.\n",
    "\n",
    "[2] Notebook 5.2.7. in \"Transport Barriers and Coherent Structures in Flow Data\" by Prof. George Haller."
   ]
  }
 ],
 "metadata": {
  "author": "me",
  "kernelspec": {
   "display_name": "Python 3",
   "language": "python",
   "name": "python3"
  },
  "language_info": {
   "codemirror_mode": {
    "name": "ipython",
    "version": 3
   },
   "file_extension": ".py",
   "mimetype": "text/x-python",
   "name": "python",
   "nbconvert_exporter": "python",
   "pygments_lexer": "ipython3",
   "version": "3.7.11"
  },
  "latex_envs": {
   "LaTeX_envs_menu_present": true,
   "autoclose": false,
   "autocomplete": true,
   "bibliofile": "biblio.bib",
   "cite_by": "apalike",
   "current_citInitial": 1,
   "eqLabelWithNumbers": true,
   "eqNumInitial": 1,
   "hotkeys": {
    "equation": "Ctrl-E",
    "itemize": "Ctrl-I"
   },
   "labels_anchors": false,
   "latex_user_defs": false,
   "report_style_numbering": false,
   "user_envs_cfg": false
  },
  "toc": {
   "base_numbering": "0",
   "nav_menu": {},
   "number_sections": true,
   "sideBar": true,
   "skip_h1_title": false,
   "title_cell": "Table of Contents",
   "title_sidebar": "Contents",
   "toc_cell": false,
   "toc_position": {},
   "toc_section_display": true,
   "toc_window_display": true
  }
 },
 "nbformat": 4,
 "nbformat_minor": 5
}
