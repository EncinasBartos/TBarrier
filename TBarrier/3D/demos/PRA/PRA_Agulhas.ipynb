{
 "cells": [
  {
   "cell_type": "markdown",
   "metadata": {},
   "source": [
    "# Add Folders to Path"
   ]
  },
  {
   "cell_type": "code",
   "execution_count": 1,
   "metadata": {
    "ExecuteTime": {
     "end_time": "2021-11-03T17:42:20.316477Z",
     "start_time": "2021-11-03T17:42:20.312516Z"
    }
   },
   "outputs": [
    {
     "name": "stdout",
     "output_type": "stream",
     "text": [
      "CPU times: user 133 µs, sys: 115 µs, total: 248 µs\n",
      "Wall time: 212 µs\n"
     ]
    }
   ],
   "source": [
    "%%time\n",
    "import sys, os\n",
    "# get current directory\n",
    "path = os.getcwd()\n",
    "# get parent directory\n",
    "parent_directory = os.path.sep.join(path.split(os.path.sep)[:-2])\n",
    "# add Algorithm folder to current working path in order to access the functions inside the folder ´Algorithms´\n",
    "sys.path.append(parent_directory+\"/GeneralFunctions\")"
   ]
  },
  {
   "cell_type": "markdown",
   "metadata": {},
   "source": [
    "# Agulhas"
   ]
  },
  {
   "cell_type": "markdown",
   "metadata": {},
   "source": [
    "## Import data"
   ]
  },
  {
   "cell_type": "code",
   "execution_count": 2,
   "metadata": {
    "ExecuteTime": {
     "end_time": "2021-11-03T17:42:20.505675Z",
     "start_time": "2021-11-03T17:42:20.326173Z"
    }
   },
   "outputs": [
    {
     "name": "stdout",
     "output_type": "stream",
     "text": [
      "CPU times: user 137 ms, sys: 39 ms, total: 176 ms\n",
      "Wall time: 176 ms\n"
     ]
    }
   ],
   "source": [
    "%%time\n",
    "import scipy.io as sio\n",
    "\n",
    "#Import velocity data from file in data-folder\n",
    "mat_file = sio.loadmat('../../Data/Agulhas_AVISO.mat')\n",
    "\n",
    "U = mat_file['u']\n",
    "V = mat_file['v']\n",
    "x = mat_file['x']\n",
    "y = mat_file['y']\n",
    "time = mat_file['t']"
   ]
  },
  {
   "cell_type": "markdown",
   "metadata": {},
   "source": [
    "## Data/Parameters for Dynamical System"
   ]
  },
  {
   "cell_type": "code",
   "execution_count": 3,
   "metadata": {
    "ExecuteTime": {
     "end_time": "2021-11-03T17:42:20.510695Z",
     "start_time": "2021-11-03T17:42:20.507421Z"
    }
   },
   "outputs": [],
   "source": [
    "import numpy as np\n",
    "\n",
    "# Number of cores to be used for parallel computing\n",
    "Ncores = 18\n",
    "\n",
    "# Incompressible/Compressible flow. {True, False}\n",
    "Incompressible = True\n",
    "\n",
    "# Periodic boundary conditions\n",
    "periodic_x = False\n",
    "periodic_y = False\n",
    "Periodic = [periodic_x, periodic_y]\n",
    "\n",
    "## Compute Meshgrid\n",
    "X, Y = np.meshgrid(x, y)\n",
    "\n",
    "# List of parameters of the flow.\n",
    "params_data = {\"X\": X, \"Y\": Y, \"Time\": time, \"U\": U, \"V\": V, \"Ncores\": Ncores, \n",
    "               \"Incompressible\": Incompressible, \"Periodic\": Periodic}"
   ]
  },
  {
   "cell_type": "markdown",
   "metadata": {},
   "source": [
    "<a id='Spatio-Temporal-Domain-of-Dynamical-System'></a>\n",
    "## Spatio-temporal domain of Dynamical System"
   ]
  },
  {
   "cell_type": "code",
   "execution_count": 4,
   "metadata": {
    "ExecuteTime": {
     "end_time": "2021-11-03T17:42:20.955292Z",
     "start_time": "2021-11-03T17:42:20.512730Z"
    }
   },
   "outputs": [
    {
     "name": "stdout",
     "output_type": "stream",
     "text": [
      "CPU times: user 354 ms, sys: 85.9 ms, total: 440 ms\n",
      "Wall time: 439 ms\n"
     ]
    }
   ],
   "source": [
    "%%time\n",
    "# Initial time (in days)\n",
    "t0 = 25\n",
    "\n",
    "# Final time (in days)\n",
    "tN = 45\n",
    "\n",
    "# time step-size\n",
    "dt = .2\n",
    "\n",
    "time = np.arange(t0, tN+dt, dt)\n",
    "\n",
    "# longitudinal and latitudinal boundaries (in degrees)\n",
    "xmin = 0\n",
    "xmax = 5\n",
    "ymin = -35\n",
    "ymax = -30\n",
    "\n",
    "# spacing of meshgrid (in degrees)\n",
    "dx = 0.01\n",
    "dy = 0.01\n",
    "\n",
    "x_domain = np.arange(xmin, xmax + dx, dx)\n",
    "y_domain = np.arange(ymin, ymax + dy, dy)\n",
    "\n",
    "X_domain, Y_domain = np.meshgrid(x_domain, y_domain)\n",
    "\n",
    "params_DS = {\"time\": time, \"X_domain\": X_domain, \"Y_domain\": Y_domain}\n",
    "\n",
    "# Initialize Dynamical System\n",
    "from ipynb.fs.defs.DynamicalSystem import *\n",
    "\n",
    "DS = Dynamical_System(params_data, params_DS)"
   ]
  },
  {
   "cell_type": "markdown",
   "metadata": {},
   "source": [
    "## Velocity interpolation"
   ]
  },
  {
   "cell_type": "code",
   "execution_count": 5,
   "metadata": {
    "ExecuteTime": {
     "end_time": "2021-11-03T17:42:21.121373Z",
     "start_time": "2021-11-03T17:42:20.957361Z"
    }
   },
   "outputs": [
    {
     "name": "stdout",
     "output_type": "stream",
     "text": [
      "CPU times: user 152 ms, sys: 10 ms, total: 162 ms\n",
      "Wall time: 161 ms\n"
     ]
    }
   ],
   "source": [
    "%%time\n",
    "# Interpolate velocity data using cubic spatial interpolation\n",
    "DS._Interpolation_velocity(\"cubic\")"
   ]
  },
  {
   "cell_type": "markdown",
   "metadata": {},
   "source": [
    "## Gradient of flow map over meshgrid of initial conditions"
   ]
  },
  {
   "cell_type": "code",
   "execution_count": null,
   "metadata": {
    "ExecuteTime": {
     "start_time": "2021-11-03T17:42:20.356Z"
    }
   },
   "outputs": [
    {
     "data": {
      "application/vnd.jupyter.widget-view+json": {
       "model_id": "47f4aff6407e4a069ee58d2ada1091e1",
       "version_major": 2,
       "version_minor": 0
      },
      "text/plain": [
       "  0%|          | 0/502 [00:00<?, ?it/s]"
      ]
     },
     "metadata": {},
     "output_type": "display_data"
    }
   ],
   "source": [
    "%%time\n",
    "# aux_grid = True --> Use auxiliary grid for numerical computation of gradient\n",
    "aux_grid = True\n",
    "\n",
    "# compute gradient of the flow map\n",
    "grad_Fmap_grid = DS._grad_Fmap_grid(aux_grid)"
   ]
  },
  {
   "cell_type": "markdown",
   "metadata": {},
   "source": [
    "## Polar Rotation Angle (PRA)"
   ]
  },
  {
   "cell_type": "code",
   "execution_count": null,
   "metadata": {
    "ExecuteTime": {
     "start_time": "2021-11-03T17:42:20.363Z"
    }
   },
   "outputs": [],
   "source": [
    "from ipynb.fs.defs.PRA import _PRA\n",
    "PRA = _PRA(grad_Fmap_grid)"
   ]
  },
  {
   "cell_type": "code",
   "execution_count": null,
   "metadata": {
    "ExecuteTime": {
     "start_time": "2021-11-03T17:42:20.364Z"
    }
   },
   "outputs": [],
   "source": [
    "######################## PLOT RESULTS ########################\n",
    "import matplotlib.pyplot as plt\n",
    "\n",
    "# Figure/Axes\n",
    "fig = plt.figure(figsize=(16, 10))\n",
    "ax = plt.axes()\n",
    "\n",
    "# Contourplot of TSE over meshgrid of initial conditions\n",
    "cax = ax.contourf(X_domain, Y_domain, PRA, cmap = \"gist_rainbow_r\", levels = 600)\n",
    "\n",
    "# Axis Labels\n",
    "ax.set_xlabel(\"long (°)\", fontsize = 16)\n",
    "ax.set_ylabel(\"lat (°)\", fontsize = 16)\n",
    "\n",
    "# Ticks\n",
    "ax.set_xticks(np.arange(np.min(X_domain), np.max(X_domain), 1))\n",
    "ax.set_yticks(np.arange(np.min(Y_domain), np.max(Y_domain), 1))\n",
    "\n",
    "# Colorbar\n",
    "cbar = fig.colorbar(cax, ticks = np.linspace(0, 3, 7))\n",
    "cbar.ax.set_ylabel(r'$(\\dfrac{1}{d})$', rotation = 0, labelpad = 15, fontsize = 16)\n",
    "\n",
    "# Title\n",
    "ax.set_title(r'$ \\mathrm{\\overline{PRA}}$'+f'$_{{{int(time[0])}}}^{{{int(time[-1])}}}$', fontsize = 20)\n",
    "\n",
    "plt.show()"
   ]
  }
 ],
 "metadata": {
  "kernelspec": {
   "display_name": "Python 3",
   "language": "python",
   "name": "python3"
  },
  "language_info": {
   "codemirror_mode": {
    "name": "ipython",
    "version": 3
   },
   "file_extension": ".py",
   "mimetype": "text/x-python",
   "name": "python",
   "nbconvert_exporter": "python",
   "pygments_lexer": "ipython3",
   "version": "3.7.11"
  },
  "toc": {
   "base_numbering": 1,
   "nav_menu": {},
   "number_sections": true,
   "sideBar": true,
   "skip_h1_title": false,
   "title_cell": "Table of Contents",
   "title_sidebar": "Contents",
   "toc_cell": false,
   "toc_position": {},
   "toc_section_display": true,
   "toc_window_display": false
  }
 },
 "nbformat": 4,
 "nbformat_minor": 4
}
