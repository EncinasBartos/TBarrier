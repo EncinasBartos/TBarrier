{
 "cells": [
  {
   "cell_type": "code",
   "execution_count": 1,
   "metadata": {
    "ExecuteTime": {
     "end_time": "2021-11-10T14:43:45.549343Z",
     "start_time": "2021-11-10T14:43:45.075421Z"
    }
   },
   "outputs": [],
   "source": [
    "import numpy as np\n",
    "from math import sqrt\n",
    "from numba import njit\n",
    "\n",
    "@njit\n",
    "def eigen_C(C):\n",
    "                   \n",
    "    a = C[0,0]\n",
    "    b = C[0,1]\n",
    "    c = C[1,0]\n",
    "    d = C[1,1]\n",
    "            \n",
    "    lamda_max = (a+d)/2+sqrt((a+d)**2/4-(a*d-b*c))\n",
    "            \n",
    "    if lamda_max < 1:\n",
    "                \n",
    "        lamda_max = 1\n",
    "        \n",
    "    lamda_min = 1/lamda_max\n",
    "        \n",
    "    if np.abs((a+d)**2/4-(a*d-b*c)) <= 10**(-14):\n",
    "                       \n",
    "        if b == 0 and c == 0:\n",
    "            \n",
    "            v_max = np.array([1, 0])\n",
    "            v_min = np.array([0, 1])\n",
    "                \n",
    "        elif b != 0 and c == 0:\n",
    "                \n",
    "            v_max = np.array([1, 0])\n",
    "            v_min = np.array([0, 1])\n",
    "                \n",
    "        elif b == 0 and c != 0:\n",
    "                \n",
    "            v_max = np.array([0, 1])\n",
    "            v_min = np.array([1, 0])\n",
    "            \n",
    "        else:\n",
    "                \n",
    "            v_max = np.array([-b, a-lamda_max])\n",
    "            v_max = v_max/sqrt(v_max[0]**2+v_max[1]**2)\n",
    "            \n",
    "            v_min = np.array([a-lamda_max, b])\n",
    "            v_min = v_min/sqrt(v_min[0]**2+v_min[1]**2)\n",
    "            \n",
    "    else:\n",
    "        \n",
    "        if a-lamda_max != 0 and b != 0:\n",
    "            \n",
    "            v_max = np.array([-b, a-lamda_max])\n",
    "            v_max = v_max/sqrt(v_max[0]**2+v_max[1]**2)\n",
    "            \n",
    "            v_min = np.array([a-lamda_max, b])\n",
    "            v_min = v_min/sqrt(v_min[0]**2+v_min[1]**2)\n",
    "        \n",
    "        else:\n",
    "            \n",
    "            v_max = np.array([d-lamda_max, -c])\n",
    "            v_max = v_max/sqrt(v_max[0]**2+v_max[1]**2)\n",
    "            \n",
    "            v_min = np.array([c, d-lamda_max])\n",
    "            v_min = v_min/sqrt(v_min[0]**2+v_min[1]**2)\n",
    "                        \n",
    "    return lamda_min, lamda_max, v_min, v_max"
   ]
  },
  {
   "cell_type": "code",
   "execution_count": 3,
   "metadata": {
    "ExecuteTime": {
     "end_time": "2021-11-10T14:59:38.075053Z",
     "start_time": "2021-11-10T14:59:38.044269Z"
    }
   },
   "outputs": [],
   "source": [
    "from math import sqrt, atan, sin, cos, pi\n",
    "import numpy as np\n",
    "\n",
    "from scipy.linalg import eigh\n",
    "\n",
    "def eigen_S(S):\n",
    "    \n",
    "    a = S[0,0]\n",
    "    b = S[1,1]\n",
    "    c = S[2,2]\n",
    "    d = S[0,1]\n",
    "    e = S[1,2]\n",
    "    f = S[0,2]\n",
    "            \n",
    "    #       | a   d   f  |\n",
    "    #  S =  | d*  b   e  |\n",
    "    #       | f*  e*  c  |\n",
    "    \n",
    "    S_symmetric = np.array([[a, d, f], [d, b, e], [f, e, c]])\n",
    "    \n",
    "    s, e = eigh(S_symmetric)\n",
    "    \n",
    "    s[0] = -s[1]-s[2]\n",
    "    \n",
    "    return s, e"
   ]
  }
 ],
 "metadata": {
  "kernelspec": {
   "display_name": "Python 3",
   "language": "python",
   "name": "python3"
  },
  "language_info": {
   "codemirror_mode": {
    "name": "ipython",
    "version": 3
   },
   "file_extension": ".py",
   "mimetype": "text/x-python",
   "name": "python",
   "nbconvert_exporter": "python",
   "pygments_lexer": "ipython3",
   "version": "3.7.11"
  },
  "toc": {
   "base_numbering": 1,
   "nav_menu": {},
   "number_sections": true,
   "sideBar": true,
   "skip_h1_title": false,
   "title_cell": "Table of Contents",
   "title_sidebar": "Contents",
   "toc_cell": false,
   "toc_position": {},
   "toc_section_display": true,
   "toc_window_display": false
  }
 },
 "nbformat": 4,
 "nbformat_minor": 4
}
