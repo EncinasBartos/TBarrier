{
 "cells": [
  {
   "cell_type": "markdown",
   "metadata": {},
   "source": [
    "The Trajectory Rotation Average $ (\\mathrm{\\overline{TRA}}_{t_0}^{t_N}) $ is computed from the velocity along the trajectories launched from initial conditions distributed over a regular meshgrid of size (Ny, Nx). The time-interval $ [t_0, t_N] $ is discretized with a resolution of N."
   ]
  },
  {
   "cell_type": "markdown",
   "metadata": {},
   "source": [
    "\\begin{equation}\n",
    "\\mathrm{\\overline{TRA}}_{t_0}^{t_N} = \\dfrac{1}{t_N-t_0} \\sum_{i = 0}^{N-1} \\cos^{-1}\\dfrac{\\langle \\mathbf{\\dot{x}}(t_i), \\mathbf{\\dot{x}}(t_{i+1}) \\rangle+\\mathrm{v}_0^2}{\\sqrt{|\\mathbf{\\dot{x}}(t_i)|^2+\\mathrm{v}_0^2}\\sqrt{|\\mathbf{\\dot{x}}(t_{i+1})|^2+\\mathrm{v}_0^2}}\n",
    "\\end{equation}"
   ]
  },
  {
   "cell_type": "markdown",
   "metadata": {},
   "source": [
    "| Name | Type (Shape) | Description |\n",
    "| --- | --- | --- |\n",
    "| lenT | float | $ t_N-t_0 $ |\n",
    "| v0 | float | $ \\mathrm{v}_0 $|\n",
    "| velocity_grid | array (Ny, Nx, Nz, 2, N) | velocity along trajectories launched from <br /> meshgrid of size (Ny, Nx, Nz) over the <br /> discretized time-interval with resolution N|\n",
    "| TRA | array (Ny, Nx, Nz) | $ \\mathrm{\\overline{TRA}}_{t_0}^{t_N} $|"
   ]
  },
  {
   "cell_type": "code",
   "execution_count": 1,
   "metadata": {},
   "outputs": [],
   "source": [
    "import numpy as np\n",
    "\n",
    "# import Rectangular bivariate spline from scipy\n",
    "from scipy.interpolate import RegularGridInterpolator as RGI\n",
    "\n",
    "def _orient_vectorfield(X, Y, Z, x, vector_field):\n",
    "            \n",
    "        # Check for orientational discontinuity by introducing appropriate scaling\n",
    "        idx_x = np.searchsorted(X[0, :, 0], x[0])\n",
    "        idx_y = np.searchsorted(Y[:, 0, 0], x[1])\n",
    "        idx_z = np.searchsorted(Z[0, 0, :], x[2])\n",
    "        \n",
    "        if idx_x == 0:\n",
    "            idx_x += 1\n",
    "        if idx_y == 0:\n",
    "            idx_y += 1\n",
    "        if idx_z == 0:\n",
    "            idx_z += 1\n",
    "        \n",
    "        \n",
    "        if 0 < idx_x < X.shape[1] and 0 < idx_y < Y.shape[0] and 0 < idx_z < Z.shape[2]:\n",
    "    \n",
    "            X_reduced = X[idx_y-1:idx_y+1, idx_x-1:idx_x+1, idx_z-1:idx_z+1]\n",
    "            Y_reduced = Y[idx_y-1:idx_y+1, idx_x-1:idx_x+1, idx_z-1:idx_z+1]\n",
    "            Z_reduced = Z[idx_y-1:idx_y+1, idx_x-1:idx_x+1, idx_z-1:idx_z+1]\n",
    "        \n",
    "            vx_grid = np.array([[[vector_field[idx_y-1,idx_x-1, idx_z-1, 0], vector_field[idx_y, idx_x-1, idx_z-1, 0]],\n",
    "                      [vector_field[idx_y-1,idx_x, idx_z-1, 0], vector_field[idx_y, idx_x, idx_z-1, 0]]],\n",
    "                      [[vector_field[idx_y-1,idx_x-1, idx_z, 0], vector_field[idx_y, idx_x-1, idx_z, 0]],\n",
    "                      [vector_field[idx_y-1,idx_x, idx_z, 0], vector_field[idx_y, idx_x, idx_z, 0]]]])\n",
    "            \n",
    "            vy_grid = np.array([[[vector_field[idx_y-1,idx_x-1, idx_z-1, 1], vector_field[idx_y, idx_x-1, idx_z-1, 1]],\n",
    "                      [vector_field[idx_y-1,idx_x, idx_z-1, 1], vector_field[idx_y, idx_x, idx_z-1, 1]]],\n",
    "                      [[vector_field[idx_y-1,idx_x-1, idx_z, 1], vector_field[idx_y, idx_x-1, idx_z, 1]],\n",
    "                      [vector_field[idx_y-1,idx_x, idx_z, 1], vector_field[idx_y, idx_x, idx_z, 1]]]])\n",
    "            \n",
    "            vz_grid = np.array([[[vector_field[idx_y-1,idx_x-1, idx_z-1, 2], vector_field[idx_y, idx_x-1, idx_z-1, 2]],\n",
    "                      [vector_field[idx_y-1,idx_x, idx_z-1, 2], vector_field[idx_y, idx_x, idx_z-1, 2]]],\n",
    "                      [[vector_field[idx_y-1,idx_x-1, idx_z, 2], vector_field[idx_y, idx_x-1, idx_z, 2]],\n",
    "                      [vector_field[idx_y-1,idx_x, idx_z, 2], vector_field[idx_y, idx_x, idx_z, 2]]]])\n",
    "\n",
    "            for i in range(2):\n",
    "                for j in range(2):\n",
    "                    for k in range(2):\n",
    "                        if vx_grid[0, 0, 0]*vx_grid[i, j, k]+vy_grid[0, 0, 0]*vy_grid[i, j, k]+vz_grid[0, 0, 0]*vz_grid[i, j, k] < 0:\n",
    "                            vx_grid[i, j, k] = -vx_grid[i, j, k]\n",
    "                            vy_grid[i, j, k] = -vy_grid[i, j, k]\n",
    "                            vz_grid[i, j, k] = -vz_grid[i, j, k]\n",
    "    \n",
    "            vx_Interp = RGI((Y_reduced[:, 0, 0], X_reduced[0, :, 0], Z_reduced[0, 0, :]), vx_grid)\n",
    "            vy_Interp = RGI((Y_reduced[:, 0, 0], X_reduced[0, :, 0], Z_reduced[0, 0, :]), vy_grid)\n",
    "            vz_Interp = RGI((Y_reduced[:, 0, 0], X_reduced[0, :, 0], Z_reduced[0, 0, :]), vz_grid)\n",
    "        \n",
    "            return vx_Interp(np.array([x[1], x[0], x[2]]))[0], vy_Interp(np.array([x[1], x[0], x[2]]))[0], vz_Interp(np.array([x[1], x[0], x[2]]))[0]\n",
    "        \n",
    "        else:\n",
    "            \n",
    "            return None, None, None"
   ]
  }
 ],
 "metadata": {
  "kernelspec": {
   "display_name": "Python 3",
   "language": "python",
   "name": "python3"
  },
  "language_info": {
   "codemirror_mode": {
    "name": "ipython",
    "version": 3
   },
   "file_extension": ".py",
   "mimetype": "text/x-python",
   "name": "python",
   "nbconvert_exporter": "python",
   "pygments_lexer": "ipython3",
   "version": "3.7.11"
  },
  "toc": {
   "base_numbering": 1,
   "nav_menu": {},
   "number_sections": true,
   "sideBar": true,
   "skip_h1_title": false,
   "title_cell": "Table of Contents",
   "title_sidebar": "Contents",
   "toc_cell": false,
   "toc_position": {},
   "toc_section_display": true,
   "toc_window_display": false
  }
 },
 "nbformat": 4,
 "nbformat_minor": 4
}
