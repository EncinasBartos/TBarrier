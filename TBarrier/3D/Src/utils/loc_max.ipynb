{
 "cells": [
  {
   "cell_type": "code",
   "execution_count": null,
   "metadata": {},
   "outputs": [],
   "source": [
    "from tqdm.notebook import tqdm\n",
    "import numpy as np\n",
    "from numba import njit, prange\n",
    "from math import sqrt\n",
    "\n",
    "def _loc_max(max_distance, X, Y, Field, loc_threshold = 0):\n",
    "    \n",
    "    peak_x, peak_y, peak_field, peak_idx_x, peak_idx_y = _find_reduced_set_of_local_maxima(max_distance, X, Y, Field, loc_threshold)\n",
    "          \n",
    "    arg_index = np.argsort(peak_field)\n",
    "    peak_x = np.flip([peak_x[i] for i in arg_index])\n",
    "    peak_y = np.flip([peak_y[i] for i in arg_index])\n",
    "    peak_idx_x = np.flip([peak_idx_x[i] for i in arg_index])\n",
    "    peak_idx_y = np.flip([peak_idx_y[i] for i in arg_index])\n",
    "    peak_field = np.flip([peak_field[i] for i in arg_index])\n",
    "    \n",
    "    return peak_idx_x, peak_idx_y, peak_x, peak_y, peak_field"
   ]
  },
  {
   "cell_type": "code",
   "execution_count": null,
   "metadata": {},
   "outputs": [],
   "source": [
    "@njit()\n",
    "def _find_all_local_maxima(X, Y, Field):\n",
    "            \n",
    "    loc_max_x, loc_max_y, loc_max_field = [], [], []\n",
    "    idx_x, idx_y = [], []\n",
    "            \n",
    "    for i in range(2, X.shape[0]-2):\n",
    "                \n",
    "        for j in range(2, Y.shape[1]-2):\n",
    "                    \n",
    "            if np.isfinite(Field[i, j]) and Field[i, j] > Field[i+1, j] and Field[i, j] > Field[i-1, j] and Field[i, j] > Field[i, j+1] and Field[i, j] > Field[i, j-1]:\n",
    "                        \n",
    "                loc_max_x.append(X[i, j])\n",
    "                loc_max_y.append(Y[i, j])\n",
    "                loc_max_field.append(Field[i, j])\n",
    "                idx_x.append(j)\n",
    "                idx_y.append(i)\n",
    "            \n",
    "    return idx_x, idx_y, loc_max_x, loc_max_y, loc_max_field"
   ]
  },
  {
   "cell_type": "code",
   "execution_count": null,
   "metadata": {},
   "outputs": [],
   "source": [
    "@njit()\n",
    "def _find_reduced_set_of_local_maxima(max_distance, X, Y, Field, loc_threshold):\n",
    "    \n",
    "    idx_x, idx_y, loc_max_x, loc_max_y, loc_max_field = _find_all_local_maxima(X, Y, Field)\n",
    "    \n",
    "    n_loc_max = len(loc_max_x)\n",
    "        \n",
    "    peak_x, peak_y, peak_field = [], [], []\n",
    "    peak_idx_x, peak_idx_y = [], []\n",
    "        \n",
    "    for i in range(n_loc_max):\n",
    "            \n",
    "        bool_loc_max = True\n",
    "    \n",
    "        for j in range(n_loc_max):\n",
    "            \n",
    "            if i != j and loc_max_field[i] < loc_max_field[j] and sqrt((loc_max_x[i]-loc_max_x[j])**2+(loc_max_y[i]-loc_max_y[j])**2) <= max_distance:\n",
    "                    \n",
    "                bool_loc_max = False\n",
    "                \n",
    "        if bool_loc_max and loc_max_field[i] > loc_threshold:\n",
    "                \n",
    "            peak_x.append(loc_max_x[i])\n",
    "            peak_y.append(loc_max_y[i])\n",
    "            peak_field.append(loc_max_field[i])\n",
    "            peak_idx_x.append(idx_x[i])\n",
    "            peak_idx_y.append(idx_y[i])\n",
    "            \n",
    "    return peak_x, peak_y, peak_field, peak_idx_x, peak_idx_y"
   ]
  }
 ],
 "metadata": {
  "kernelspec": {
   "display_name": "Python 3 (ipykernel)",
   "language": "python",
   "name": "python3"
  },
  "language_info": {
   "codemirror_mode": {
    "name": "ipython",
    "version": 3
   },
   "file_extension": ".py",
   "mimetype": "text/x-python",
   "name": "python",
   "nbconvert_exporter": "python",
   "pygments_lexer": "ipython3",
   "version": "3.7.11"
  },
  "toc": {
   "base_numbering": 1,
   "nav_menu": {},
   "number_sections": true,
   "sideBar": true,
   "skip_h1_title": false,
   "title_cell": "Table of Contents",
   "title_sidebar": "Contents",
   "toc_cell": false,
   "toc_position": {},
   "toc_section_display": true,
   "toc_window_display": false
  }
 },
 "nbformat": 4,
 "nbformat_minor": 4
}
