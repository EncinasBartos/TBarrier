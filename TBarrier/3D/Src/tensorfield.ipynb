{
 "cells": [
  {
   "cell_type": "code",
   "execution_count": 1,
   "metadata": {
    "ExecuteTime": {
     "end_time": "2021-11-01T17:27:19.286415Z",
     "start_time": "2021-11-01T17:27:18.968632Z"
    }
   },
   "outputs": [],
   "source": [
    "import numpy as np\n",
    "from scipy.interpolate import RectBivariateSpline as RBS\n",
    "from scipy.io import savemat\n",
    "from ipynb.fs.defs.eigen import eigen_C, eigen_S"
   ]
  },
  {
   "cell_type": "code",
   "execution_count": 2,
   "metadata": {
    "ExecuteTime": {
     "end_time": "2021-11-01T17:27:19.317370Z",
     "start_time": "2021-11-01T17:27:19.293938Z"
    }
   },
   "outputs": [],
   "source": [
    "def _tensorfield(X, Y, A, type = 'LCS'):\n",
    "    \n",
    "    # compute eigenvalues lambda_1, lambda_2\n",
    "    lambda1 = np.zeros((A.shape[0], A.shape[1]))\n",
    "    lambda2 = lambda1.copy()\n",
    "    eigenv1 = np.zeros((A.shape[0], A.shape[1], 2))\n",
    "    eigenv2 = eigenv1.copy()\n",
    "    \n",
    "    for i in range(X.shape[0]):\n",
    "        \n",
    "        for j in range(Y.shape[1]):\n",
    "            \n",
    "            if type == 'LCS':\n",
    "            \n",
    "                lambda1[i,j], lambda2[i,j], eigenv1[i,j,:], eigenv2[i,j,:] = eigen_C(A[i,j,:,:])\n",
    "                \n",
    "                if np.isfinite(lambda1[i,j]):\n",
    "                    T = np.array([eigenv1[i,j,:], eigenv2[i,j,:]]).T\n",
    "                    LAMBDA = np.diag([lambda1[i,j], lambda2[i,j]])\n",
    "                    A[i, j,:, :] = T.T@LAMBDA@T\n",
    "                \n",
    "            elif type == 'OECS':\n",
    "                \n",
    "                lambda1[i,j], lambda2[i,j], eigenv1[i,j,:], eigenv2[i,j,:] = eigen_S(A[i,j,:,:])\n",
    "                \n",
    "                if np.isfinite(lambda1[i,j]):\n",
    "                    T = np.array([eigenv1[i,j,:], eigenv2[i,j,:]]).T\n",
    "                    LAMBDA = np.diag([lambda1[i,j], lambda2[i,j]])\n",
    "                    A[i, j,:, :] = T.T@LAMBDA@T\n",
    "                \n",
    "            else:\n",
    "                \n",
    "                sys.exit(\"type must be either LCS or OECS\")\n",
    "    \n",
    "    A11 = np.nan_to_num(A[:,:,0,0], nan=0.0)\n",
    "    A12 = np.nan_to_num(A[:,:,0,1], nan=0.0)\n",
    "    A22 = np.nan_to_num(A[:,:,1,1], nan=0.0)\n",
    "    \n",
    "    interp_A11 = RBS(Y[:,0], X[0,:], A11)\n",
    "    interp_A12 = RBS(Y[:,0], X[0,:], A12)\n",
    "    interp_A22 = RBS(Y[:,0], X[0,:], A22)\n",
    "    \n",
    "    interp_lambda1 = RBS(Y[:,0], X[0,:], lambda1)\n",
    "    interp_lambda2 = RBS(Y[:,0], X[0,:], lambda2)\n",
    "    \n",
    "    rho_x = (X[0,1]-X[0,0])/20\n",
    "    rho_y = (Y[1,0]-Y[0,0])/20\n",
    "    \n",
    "    A11x = np.zeros((A.shape[0], A.shape[1]))*np.nan\n",
    "    A11y = A11x.copy()\n",
    "    A12x = A11x.copy()\n",
    "    A12y = A11x.copy()\n",
    "    A22x = A11x.copy()\n",
    "    A22y = A11x.copy()\n",
    "    \n",
    "    lam1x = A11x.copy()\n",
    "    lam1y = A11y.copy()\n",
    "    lam2x = A11x.copy()\n",
    "    lam2y = A11x.copy()\n",
    "    \n",
    "    for i in range(X.shape[0]):\n",
    "        \n",
    "        for j in range(Y.shape[1]):\n",
    "            \n",
    "            x = [X[i,j], Y[i, j]]\n",
    "            \n",
    "            A11x[i, j] = (interp_A11(x[1], x[0]+rho_x)[0][0]-interp_A11(x[1], x[0]-rho_x)[0][0])/(2*rho_x)\n",
    "            A11y[i, j] = (interp_A11(x[1]+rho_y, x[0])[0][0]-interp_A11(x[1]-rho_y, x[0])[0][0])/(2*rho_y)\n",
    "            A12x[i, j] = (interp_A12(x[1], x[0]+rho_x)[0][0]-interp_A12(x[1], x[0]-rho_x)[0][0])/(2*rho_x)\n",
    "            A12y[i, j] = (interp_A12(x[1]+rho_y, x[0])[0][0]-interp_A12(x[1]-rho_y, x[0])[0][0])/(2*rho_y)\n",
    "            A22x[i, j] = (interp_A22(x[1], x[0]+rho_x)[0][0]-interp_A22(x[1], x[0]-rho_x)[0][0])/(2*rho_x)\n",
    "            A22y[i, j] = (interp_A22(x[1]+rho_y, x[0])[0][0]-interp_A22(x[1]-rho_y, x[0])[0][0])/(2*rho_y)\n",
    "            \n",
    "            lam1x[i, j] = (interp_lambda1(x[1], x[0]+rho_x)[0][0]-interp_lambda1(x[1], x[0]-rho_x)[0][0])/(2*rho_x)\n",
    "            lam1y[i, j] = (interp_lambda1(x[1]+rho_y, x[0])[0][0]-interp_lambda1(x[1]-rho_y, x[0])[0][0])/(2*rho_y)\n",
    "            lam2x[i, j] = (interp_lambda2(x[1], x[0]+rho_x)[0][0]-interp_lambda2(x[1], x[0]-rho_x)[0][0])/(2*rho_x)\n",
    "            lam2y[i, j] = (interp_lambda2(x[1]+rho_y, x[0])[0][0]-interp_lambda2(x[1]-rho_y, x[0])[0][0])/(2*rho_y)    \n",
    "    \n",
    "    return X, Y, lambda1, lambda2, eigenv1, eigenv2, A11, A12, A22, A11x, A11y, A12x, A12y, A22x, A22y"
   ]
  }
 ],
 "metadata": {
  "kernelspec": {
   "display_name": "Python 3",
   "language": "python",
   "name": "python3"
  },
  "language_info": {
   "codemirror_mode": {
    "name": "ipython",
    "version": 3
   },
   "file_extension": ".py",
   "mimetype": "text/x-python",
   "name": "python",
   "nbconvert_exporter": "python",
   "pygments_lexer": "ipython3",
   "version": "3.7.11"
  },
  "toc": {
   "base_numbering": 1,
   "nav_menu": {},
   "number_sections": true,
   "sideBar": true,
   "skip_h1_title": false,
   "title_cell": "Table of Contents",
   "title_sidebar": "Contents",
   "toc_cell": false,
   "toc_position": {},
   "toc_section_display": true,
   "toc_window_display": false
  }
 },
 "nbformat": 4,
 "nbformat_minor": 4
}
