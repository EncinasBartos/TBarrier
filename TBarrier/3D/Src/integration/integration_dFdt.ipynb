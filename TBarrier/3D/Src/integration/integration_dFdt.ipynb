{
 "cells": [
  {
   "cell_type": "markdown",
   "metadata": {
    "ExecuteTime": {
     "end_time": "2021-11-26T17:55:20.205572Z",
     "start_time": "2021-11-26T17:55:20.186598Z"
    }
   },
   "source": [
    "| Name | Type (Shape) | Description |\n",
    "| --- | --- | --- |\n",
    "| time | array (N,) | time |\n",
    "| x | array (3,) | $ \\mathbf{x} $ |\n",
    "| X | array (Ny, Nx) | X-meshgrid|\n",
    "| Y | array (Ny, Nx) | Y-meshgrid|\n",
    "| Interpolant | list (3,) | Interpolant[0]: Interpolant object for $ u(\\mathbf{x}, t)  $ <br /> Interpolant[1]: Interpolant object for $ v(\\mathbf{x}, t)  $. <br /> Interpolant[2]: Interpolant object for $ w(\\mathbf{x}, t)  $|\n",
    "| periodic | list (3,) | periodic[0]: periodicity in x <br /> periodic[1]: periodicity in y <br /> periodic[2]: periodicity in z|\n",
    "| bool_unsteady | bool | specifies if velocity field is unsteady/steady |\n",
    "| trajectory | array (3,N) | integrated trajectory |\n",
    "| velocity | array (3,N) | velocity along trajectory |\n",
    "| DF | array (3,3,N) | gradient of flow map at every time-step |"
   ]
  },
  {
   "cell_type": "code",
   "execution_count": 2,
   "metadata": {
    "ExecuteTime": {
     "end_time": "2021-11-25T16:50:03.925160Z",
     "start_time": "2021-11-25T16:50:03.922382Z"
    }
   },
   "outputs": [],
   "source": [
    "import sys, os\n",
    "\n",
    "# get current directory\n",
    "path = os.getcwd()\n",
    "\n",
    "# get parent directory\n",
    "parent_directory = os.path.sep.join(path.split(os.path.sep)[:-1])\n",
    "\n",
    "# add utils folder to current working path in order to access the functions\n",
    "sys.path.append(parent_directory+\"/utils\")"
   ]
  },
  {
   "cell_type": "code",
   "execution_count": 3,
   "metadata": {
    "ExecuteTime": {
     "end_time": "2021-11-25T16:50:04.579282Z",
     "start_time": "2021-11-25T16:50:04.271008Z"
    }
   },
   "outputs": [],
   "source": [
    "# Import numpy\n",
    "import numpy as np\n",
    "\n",
    "# Import package to solve ODE\n",
    "from scipy.integrate import solve_ivp\n",
    "\n",
    "# function which evalutes derivative of flow map\n",
    "from ipynb.fs.defs.dFdt import dFdt"
   ]
  },
  {
   "cell_type": "code",
   "execution_count": 2,
   "metadata": {
    "ExecuteTime": {
     "end_time": "2021-11-26T16:56:59.965968Z",
     "start_time": "2021-11-26T16:56:59.951036Z"
    }
   },
   "outputs": [],
   "source": [
    "def integration_dFdt(time, x, X, Y, Z, Interpolant, periodic, bool_unsteady):\n",
    "        \n",
    "    # time-interval [t0,tN] over which to integrate\n",
    "    time_interval = [time[0], time[-1]]\n",
    "        \n",
    "    # time-array at which trajectory must be evaluated\n",
    "    t_eval = time.copy()\n",
    "        \n",
    "    # Step-size\n",
    "    dt = time[1]-time[0]\n",
    "    \n",
    "    sol = solve_ivp(dFdt, time_interval, x, 'RK45', t_eval, rtol=1e-6, atol=1e-6, first_step = dt, args = (X, Y, Z, Interpolant, periodic, bool_unsteady))\n",
    "          \n",
    "    # Initialize velocity array\n",
    "    velocity = np.zeros((3, len(time)))\n",
    "            \n",
    "    for i in range(sol.y.shape[1]-1):\n",
    "                \n",
    "        velocity[0, i] = (sol.y[0,i+1]-sol.y[0,i])/dt\n",
    "        velocity[1, i] = (sol.y[1,i+1]-sol.y[1,i])/dt\n",
    "        velocity[2, i] = (sol.y[2,i+1]-sol.y[2,i])/dt\n",
    "        \n",
    "    trajectory = sol.y.copy()\n",
    "    \n",
    "    if periodic[0]:\n",
    "        \n",
    "        trajectory[0,:] = trajectory[0,:]%(X[0, -1, 0]-X[0, 0, 0])\n",
    "    \n",
    "    if periodic[1]:\n",
    "        \n",
    "        trajectory[1,:] = trajectory[1,:]%(Y[-1, 0, 0]-Y[0, 0, 0])\n",
    "    \n",
    "    if periodic[2]:\n",
    "        \n",
    "        trajectory[2,:] = trajectory[2,:]%(Z[0, 0, -1]-Z[0, 0, 0])\n",
    "            \n",
    "    return trajectory, velocity"
   ]
  }
 ],
 "metadata": {
  "kernelspec": {
   "display_name": "Python 3 (ipykernel)",
   "language": "python",
   "name": "python3"
  },
  "language_info": {
   "codemirror_mode": {
    "name": "ipython",
    "version": 3
   },
   "file_extension": ".py",
   "mimetype": "text/x-python",
   "name": "python",
   "nbconvert_exporter": "python",
   "pygments_lexer": "ipython3",
   "version": "3.7.11"
  },
  "toc": {
   "base_numbering": 1,
   "nav_menu": {},
   "number_sections": true,
   "sideBar": true,
   "skip_h1_title": false,
   "title_cell": "Table of Contents",
   "title_sidebar": "Contents",
   "toc_cell": false,
   "toc_position": {},
   "toc_section_display": true,
   "toc_window_display": false
  }
 },
 "nbformat": 4,
 "nbformat_minor": 4
}
