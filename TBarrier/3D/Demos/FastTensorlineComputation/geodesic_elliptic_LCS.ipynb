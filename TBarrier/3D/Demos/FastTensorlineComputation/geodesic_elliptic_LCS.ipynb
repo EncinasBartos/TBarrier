{
 "cells": [
  {
   "cell_type": "code",
   "execution_count": 1,
   "metadata": {},
   "outputs": [],
   "source": [
    "from ipynb.fs.defs.init_level_set import _init_level_set\n",
    "#from ipynb.fs.defs.phi_prime import _phi_prime\n",
    "import numpy as np\n",
    "\n",
    "def _geodesic_elliptic_LCS(X, Y, C, lamda, incompressible):\n",
    "\n",
    "    C11 = C[:,:,0,0]\n",
    "    C12 = C[:,:,0,1]\n",
    "    \n",
    "    # Initial conditions\n",
    "    x0lam, y0lam, phi0lam = _init_level_set(X, Y, C11, C12, lamda)\n",
    "    \n",
    "    # Compute phi_prime\n",
    "    phi_prime = _phi_prime(X, Y, C)\n",
    "    \n",
    "    return x0lam, y0lam, phi0lam"
   ]
  }
 ],
 "metadata": {
  "kernelspec": {
   "display_name": "Python 3",
   "language": "python",
   "name": "python3"
  },
  "language_info": {
   "codemirror_mode": {
    "name": "ipython",
    "version": 3
   },
   "file_extension": ".py",
   "mimetype": "text/x-python",
   "name": "python",
   "nbconvert_exporter": "python",
   "pygments_lexer": "ipython3",
   "version": "3.7.11"
  },
  "toc": {
   "base_numbering": 1,
   "nav_menu": {},
   "number_sections": true,
   "sideBar": true,
   "skip_h1_title": false,
   "title_cell": "Table of Contents",
   "title_sidebar": "Contents",
   "toc_cell": false,
   "toc_position": {},
   "toc_section_display": true,
   "toc_window_display": false
  }
 },
 "nbformat": 4,
 "nbformat_minor": 4
}
