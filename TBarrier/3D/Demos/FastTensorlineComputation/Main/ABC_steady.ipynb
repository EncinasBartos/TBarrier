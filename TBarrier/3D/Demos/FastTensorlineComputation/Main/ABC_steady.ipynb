{
 "cells": [
  {
   "cell_type": "markdown",
   "metadata": {},
   "source": [
    "# Add Folders to Path"
   ]
  },
  {
   "cell_type": "code",
   "execution_count": 1,
   "metadata": {
    "ExecuteTime": {
     "end_time": "2021-11-26T17:44:04.421213Z",
     "start_time": "2021-11-26T17:44:04.406252Z"
    }
   },
   "outputs": [
    {
     "name": "stdout",
     "output_type": "stream",
     "text": [
      "Wall time: 997 µs\n"
     ]
    }
   ],
   "source": [
    "%%time\n",
    "import sys, os\n",
    "\n",
    "# get current directory\n",
    "path = os.getcwd()\n",
    "\n",
    "# get parent directory\n",
    "parent_directory = os.path.sep.join(path.split(os.path.sep)[:-2])\n",
    "\n",
    "# add integration folder to current working path\n",
    "sys.path.append(parent_directory+\"/Src/integration\")\n",
    "\n",
    "# add utils folder to current working path\n",
    "sys.path.append(parent_directory+\"/Src/utils\")"
   ]
  },
  {
   "cell_type": "markdown",
   "metadata": {},
   "source": [
    "# Steady ABC flow"
   ]
  },
  {
   "cell_type": "code",
   "execution_count": 2,
   "metadata": {
    "ExecuteTime": {
     "end_time": "2021-11-26T17:44:04.532946Z",
     "start_time": "2021-11-26T17:44:04.422211Z"
    }
   },
   "outputs": [
    {
     "name": "stdout",
     "output_type": "stream",
     "text": [
      "Wall time: 108 ms\n"
     ]
    }
   ],
   "source": [
    "%%time\n",
    "import numpy as np\n",
    "import scipy.io as sio\n",
    "\n",
    "#Import velocity data from file in data-folder\n",
    "mat_file = sio.loadmat('../../Data/ABC_steady.mat')\n",
    "\n",
    "U = mat_file['u'] \n",
    "V = mat_file['v'] \n",
    "W = mat_file['w'] \n",
    "x = mat_file['x'] \n",
    "y = mat_file['y'] \n",
    "z = mat_file['z']\n",
    "time = np.array([0, 0])"
   ]
  },
  {
   "cell_type": "markdown",
   "metadata": {},
   "source": [
    "## Data/Parameters for Dynamical System"
   ]
  },
  {
   "cell_type": "code",
   "execution_count": 3,
   "metadata": {
    "ExecuteTime": {
     "end_time": "2021-11-26T17:44:04.548081Z",
     "start_time": "2021-11-26T17:44:04.533939Z"
    }
   },
   "outputs": [],
   "source": [
    "# Number of cores to be used for parallel computing\n",
    "Ncores = 8\n",
    "\n",
    "# Periodic boundary conditions\n",
    "periodic_x = True\n",
    "periodic_y = True\n",
    "periodic_z = True\n",
    "periodic = [periodic_x, periodic_y, periodic_z]\n",
    "\n",
    "# steady/unsteady\n",
    "bool_unsteady = False\n",
    "\n",
    "## Compute Meshgrid\n",
    "X, Y, Z = np.meshgrid(x, y, z)"
   ]
  },
  {
   "cell_type": "markdown",
   "metadata": {},
   "source": [
    "<a id='Spatio-Temporal-Domain-of-Dynamical-System'></a>\n",
    "## Spatio-Temporal Domain of Dynamical System"
   ]
  },
  {
   "cell_type": "code",
   "execution_count": 4,
   "metadata": {
    "ExecuteTime": {
     "end_time": "2021-11-26T17:44:04.564014Z",
     "start_time": "2021-11-26T17:44:04.549047Z"
    }
   },
   "outputs": [
    {
     "name": "stdout",
     "output_type": "stream",
     "text": [
      "Wall time: 3 ms\n"
     ]
    }
   ],
   "source": [
    "%%time\n",
    "# Time\n",
    "t_OECS = 0\n",
    "\n",
    "# store time in array\n",
    "time = np.linspace(0, 10, 100)#np.array([t_OECS])\n",
    "\n",
    "# length of time-interval\n",
    "lenT = time[-1]-time[0]\n",
    "\n",
    "# domain boundaries\n",
    "xmin = X[0, 0, 0]\n",
    "xmax = X[0, -1,0]\n",
    "ymin = Y[0, 0, 0]\n",
    "ymax = Y[-1,0, 0]\n",
    "zmin = Z[0, 0, 0]\n",
    "zmax = Z[0, 0,-1]\n",
    "\n",
    "# resolution of meshgrid (in degrees)\n",
    "res_x = 100\n",
    "res_y = 100\n",
    "res_z = 100\n",
    "\n",
    "x_domain = np.linspace(xmin, xmax, res_x, endpoint = True)\n",
    "y_domain = np.linspace(ymin, ymax, res_y, endpoint = True)\n",
    "z_domain = np.linspace(zmin, zmax, res_z, endpoint = True)\n",
    "\n",
    "## Compute Meshgrid\n",
    "X_domain, Y_domain, Z_domain = np.meshgrid(x_domain, y_domain, z_domain)"
   ]
  },
  {
   "cell_type": "markdown",
   "metadata": {},
   "source": [
    "## Velocity Interpolation"
   ]
  },
  {
   "cell_type": "code",
   "execution_count": 5,
   "metadata": {
    "ExecuteTime": {
     "end_time": "2021-11-26T17:44:04.641799Z",
     "start_time": "2021-11-26T17:44:04.565003Z"
    }
   },
   "outputs": [
    {
     "name": "stdout",
     "output_type": "stream",
     "text": [
      "Wall time: 61.9 ms\n"
     ]
    }
   ],
   "source": [
    "%%time\n",
    "# Interpolate velocity data using cubic spatial interpolation\n",
    "from ipynb.fs.defs.Interpolant import interpolant_steady\n",
    "\n",
    "Interpolant = interpolant_steady(X, Y, Z, U, V, W)"
   ]
  },
  {
   "cell_type": "markdown",
   "metadata": {},
   "source": [
    "## Rate of Strain tensor"
   ]
  },
  {
   "cell_type": "code",
   "execution_count": null,
   "metadata": {
    "ExecuteTime": {
     "end_time": "2021-11-26T17:54:54.630664Z",
     "start_time": "2021-11-26T17:54:54.630664Z"
    }
   },
   "outputs": [],
   "source": [
    "%%time\n",
    "# Import package for progress bar\n",
    "from tqdm.notebook import tqdm\n",
    "\n",
    "# Import package for parallel computing\n",
    "from joblib import Parallel, delayed\n",
    "\n",
    "# Import gradient of velocity function\n",
    "from ipynb.fs.defs.gradient_velocity import gradient_velocity\n",
    "\n",
    "# Import Rate of Strain function\n",
    "from ipynb.fs.defs.RateStrain import RateStrain\n",
    "\n",
    "# Import package for eigenvalue/eigenvector computation\n",
    "from ipynb.fs.defs.eigen import eigen\n",
    "\n",
    "# Define ratio of auxiliary grid spacing vs original grid_spacing\n",
    "aux_grid_ratio = .1 # [1/10, 1/100]\n",
    "aux_grid = [aux_grid_ratio*(X_domain[0, 1, 0]-X_domain[0, 0, 0]), aux_grid_ratio*(Y_domain[1, 0, 0]-Y_domain[0, 0, 0]), aux_grid_ratio*(Z_domain[0, 0, 1]-Z_domain[0, 0, 0])]\n",
    "\n",
    "def parallel_S(i):\n",
    "    \n",
    "    S_parallel = np.zeros((X_domain.shape[1], X_domain.shape[2], 3, 3))*np.nan\n",
    "    s_parallel = np.zeros((X_domain.shape[1], X_domain.shape[2], 3, 3))*np.nan\n",
    "    e_parallel = np.zeros((X_domain.shape[1], X_domain.shape[2], 3, 3))*np.nan\n",
    "    \n",
    "    for j in range(X_domain.shape[1]):\n",
    "                \n",
    "        for k in range(X_domain.shape[2]):\n",
    "        \n",
    "            x = np.array([X_domain[i, j, k], Y_domain[i, j, k], Z_domain[i, j, k]])\n",
    "        \n",
    "            spin_tensor = DS._spin_tensor(t_OECS, x, grid_spacing)\n",
    "        \n",
    "            # Compute rate of strain\n",
    "            S_[j, k,:,:] = spin_tensor\n",
    "            \n",
    "            # Compute eigenvalues\n",
    "            \n",
    "    return S_\n",
    "\n",
    "# Iterate over meshgrid\n",
    "S = np.array(Parallel(n_jobs=DS.Ncores, verbose = 0)(delayed(parallel)(i) for i in tqdm(range(X_domain.shape[0]))))"
   ]
  },
  {
   "cell_type": "code",
   "execution_count": null,
   "metadata": {
    "ExecuteTime": {
     "end_time": "2021-11-26T17:54:54.629666Z",
     "start_time": "2021-11-26T17:54:54.629666Z"
    },
    "code_folding": [
     0
    ],
    "hide_input": true
   },
   "outputs": [],
   "source": [
    "# Import plotting packages \n",
    "import pyvista as pv\n",
    "import matplotlib.pyplot as plt\n",
    "\n",
    "# Controlling the text properties\n",
    "sargs = dict(\n",
    "    title_font_size=14,\n",
    "    label_font_size=12,\n",
    "    shadow=False,\n",
    "    n_labels=5,\n",
    "    italic=True,\n",
    "    fmt=\"%.0f\",\n",
    "    height=0.25, \n",
    "    vertical=True, \n",
    "    position_x=0.05, \n",
    "    position_y=0.05\n",
    ")\n",
    "\n",
    "print('initializing 3D B field')\n",
    "grid = pv.StructuredGrid(X_domain, Y_domain, Z_domain)\n",
    "# Add the data values to the cell data\n",
    "grid[\"ABC field magnitude\"] = TRA.flatten()  # Flatten the array!\n",
    "#grid[\"ABC field magnitude\"] = np.linalg.norm(B, axis=1)\n",
    "#grid[\"ABC field vectors\"] = B\n",
    "#grid.set_active_vectors(\"values\")\n",
    "#contours = grid.contour(20, scalars=\"ABC field magnitude\")\n",
    "#arrows = contours.glyph(orient=\"ABC field vectors\", factor=50.0)\n",
    "\n",
    "print('plotting')\n",
    "p = pv.Plotter(notebook=1, shape=(1,1))\n",
    "#p.background_color='white'\n",
    "#p.window_size\n",
    "cmap = plt.cm.get_cmap(\"viridis\", 200)\n",
    "p.add_mesh(grid, cmap=cmap, scalar_bar_args=sargs)\n",
    "p.show_grid()\n",
    "\n",
    "p.link_views()\n",
    "p.view_isometric()\n",
    "#p.disable()\n",
    "p.show()"
   ]
  },
  {
   "cell_type": "markdown",
   "metadata": {},
   "source": [
    "## Eigenvalues/Eigenvectors of rate of strain tensor"
   ]
  },
  {
   "cell_type": "code",
   "execution_count": null,
   "metadata": {
    "ExecuteTime": {
     "end_time": "2021-11-26T17:54:54.630664Z",
     "start_time": "2021-11-26T17:54:54.630664Z"
    }
   },
   "outputs": [],
   "source": [
    "%%time\n",
    "from ipynb.fs.defs.eigen import eigen_S\n",
    "\n",
    "def parallel(i):\n",
    "\n",
    "    s_ = np.zeros((X_domain.shape[1], X_domain.shape[2], 3))*np.nan\n",
    "    e_ = np.zeros((X_domain.shape[1], X_domain.shape[2], 3, 3))*np.nan\n",
    "    \n",
    "    for j in range(X_domain.shape[1]):\n",
    "        \n",
    "        for k in range(X_domain.shape[2]):\n",
    "            \n",
    "            # Compute eigenvalue of rate of strain tensor \n",
    "            s_[j, k, :], e_[j, k, :, :] = eigen_S(S[i, j, k,:,:])\n",
    "            \n",
    "    return s_, e_[:, :, 0, :], e_[:, :, 1, :], e_[:, :, 2, :]\n",
    "\n",
    "# Iterate over meshgrid\n",
    "res = np.array(Parallel(n_jobs=DS.Ncores, verbose = 0)(delayed(parallel)(i) for i in tqdm(range(X_domain.shape[0]))))\n",
    "\n",
    "# Eigenvalues and eigenvectors of rate of strain tensor\n",
    "s = res[:,0,:,:,:]\n",
    "e1 = res[:,1,:,:,:]\n",
    "e2 = res[:,2,:,:,:]\n",
    "e3 = res[:,3,:,:,:]"
   ]
  },
  {
   "cell_type": "code",
   "execution_count": null,
   "metadata": {
    "ExecuteTime": {
     "end_time": "2021-11-26T17:54:54.632071Z",
     "start_time": "2021-11-26T17:54:54.632071Z"
    }
   },
   "outputs": [],
   "source": [
    "import matplotlib.pyplot as plt\n",
    "\n",
    "fig, (ax1, ax2, ax3) = plt.subplots(1, 3, figsize = (16, 6))\n",
    "\n",
    "cax = ax1.contourf(X_domain[:,:,0], Y_domain[:,:,0], s[0,:,:,0], levels = 600)\n",
    "ax1.set_ylabel('y')\n",
    "ax1.set_xlabel('x')\n",
    "ax1.set_title(r'$s_1$')\n",
    "plt.colorbar(cax, ax = ax1, ticks = np.arange(-.3, 0.1, 0.025))\n",
    "\n",
    "cax = ax2.contourf(X_domain[:,:,0], Y_domain[:,:,0], s[0,:,:,1], levels = 600)\n",
    "ax2.set_xlabel('x')\n",
    "ax2.set_title(r'$s_2$')\n",
    "plt.colorbar(cax, ax = ax2, ticks = np.arange(-.1, .1, 0.01))\n",
    "\n",
    "cax = ax3.contourf(X_domain[:,:,0], Y_domain[:,:,0], s[0,:,:,2], levels = 600)\n",
    "ax3.set_xlabel('x')\n",
    "ax3.set_title(r'$s_3$')\n",
    "plt.colorbar(cax, ax = ax3, ticks = np.arange(0, .35, 0.025))\n",
    "\n",
    "plt.show()"
   ]
  },
  {
   "cell_type": "markdown",
   "metadata": {},
   "source": [
    "## Interpolate Eigenvector-field"
   ]
  },
  {
   "cell_type": "code",
   "execution_count": null,
   "metadata": {
    "ExecuteTime": {
     "end_time": "2021-11-26T17:54:54.633061Z",
     "start_time": "2021-11-26T17:54:54.633061Z"
    }
   },
   "outputs": [],
   "source": [
    "%%time\n",
    "\n",
    "# import RegularGridInterpolator from scipy\n",
    "from scipy.interpolate import RegularGridInterpolator as RGI\n",
    "\n",
    "# Interpolant e2x\n",
    "interp_e2x = RGI((Y_domain[:,0, 0], X_domain[0,:,0], Z_domain[0,0,:]), e2[:,:,:,0])\n",
    "\n",
    "# Interpolant e2y\n",
    "interp_e2y = RGI((Y_domain[:,0, 0], X_domain[0,:,0], Z_domain[0,0,:]), e2[:,:,:,1])\n",
    "                 \n",
    "# Interpolant e2z\n",
    "interp_e2z = RGI((Y_domain[:,0, 0], X_domain[0,:,0], Z_domain[0,0,:]), e2[:,:,:,2])"
   ]
  },
  {
   "cell_type": "markdown",
   "metadata": {},
   "source": [
    "## Poincare map of $ \\mathbf{x}' = \\mathbf{e}_2(\\mathbf{x})$ with $ z = 0 $"
   ]
  },
  {
   "cell_type": "markdown",
   "metadata": {},
   "source": [
    "### Compute trajectories of $ \\mathbf{x}' = \\mathbf{e}_2(\\mathbf{x})$ on plane $ z = 0 $"
   ]
  },
  {
   "cell_type": "code",
   "execution_count": null,
   "metadata": {
    "ExecuteTime": {
     "end_time": "2021-11-26T17:54:54.634060Z",
     "start_time": "2021-11-26T17:54:54.634060Z"
    }
   },
   "outputs": [],
   "source": [
    "from ipynb.fs.defs.RK4_tensorlines import _RK4_tensorlines\n",
    "from ipynb.fs.defs.scaling_vectorfield import _scaling_vectorfield\n",
    "\n",
    "# Define inital orientation from where to launch trajectories\n",
    "xprime_init_orientation = np.array([0, 0, 1])\n",
    "\n",
    "# Define vector field\n",
    "vector_field = e2\n",
    "\n",
    "iteration_array = np.linspace(0, 1, 100, endpoint = True)\n",
    "\n",
    "# step-size for integration\n",
    "ds = iteration_array[1]-iteration_array[0]\n",
    "\n",
    "# Create array storing trajectory/velocity of particles launched from meshgrid\n",
    "trajectory = np.zeros((X_domain.shape[0], X_domain.shape[1], Z_domain.shape[2], len(iteration_array), 3))*np.nan\n",
    "velocity = np.zeros((X_domain.shape[0], X_domain.shape[1], Z_domain.shape[2], len(iteration_array), 3))*np.nan\n",
    "\n",
    "def parallel(i):\n",
    "    \n",
    "    # Create array storing trajectory/velocity of particles launched from meshgrid\n",
    "    trajectory = np.zeros((X_domain.shape[1], Z_domain.shape[2], len(iteration_array), 3))*np.nan\n",
    "    velocity = np.zeros((X_domain.shape[1], Z_domain.shape[2], len(iteration_array), 3))*np.nan\n",
    "    \n",
    "    print(\"i: \", i)\n",
    "    \n",
    "    for j in range(0, X_domain.shape[1]):\n",
    "        \n",
    "        for k in range(Z_domain.shape[2]):\n",
    "            \n",
    "            if k == 0:\n",
    "\n",
    "                # Initial condition\n",
    "                x = np.array([Y_domain[i, j, k], X_domain[i, j, k], Z_domain[i, j, k]])\n",
    "                \n",
    "                # Initial orientation of vector\n",
    "                x_prime =_scaling_vectorfield(X_domain, Y_domain, Z_domain, x, xprime_init_orientation, vector_field)\n",
    "                \n",
    "                print(x_prime)\n",
    "                \n",
    "                for iter in range(len(iteration_array)):\n",
    "                        \n",
    "                    trajectory[j, k, iter, :] = x\n",
    "                    velocity[j, k, iter, :] = x_prime\n",
    "            \n",
    "                    x, x_prime = _RK4_tensorlines(X_domain, Y_domain, Z_domain, x, x_prime, ds, vector_field, Periodic)\n",
    "                \n",
    "    return trajectory, velocity\n",
    "\n",
    "# Iterate over meshgrid\n",
    "res = np.array(Parallel(n_jobs=DS.Ncores, verbose = 0)(delayed(parallel)(i) for i in tqdm(range(0, X_domain.shape[0]))))"
   ]
  },
  {
   "cell_type": "code",
   "execution_count": null,
   "metadata": {
    "ExecuteTime": {
     "end_time": "2021-11-26T17:54:54.634060Z",
     "start_time": "2021-11-26T17:54:54.634060Z"
    }
   },
   "outputs": [],
   "source": [
    "trajectory_grid = res[:,0,:,:,:,:]\n",
    "velocity_grid = res[:,1,:,:,:,:]"
   ]
  },
  {
   "cell_type": "code",
   "execution_count": null,
   "metadata": {
    "ExecuteTime": {
     "end_time": "2021-11-26T17:54:54.635057Z",
     "start_time": "2021-11-26T17:54:54.635057Z"
    }
   },
   "outputs": [],
   "source": [
    "from ipynb.fs.defs.TRA import _TRA\n",
    "\n",
    "TRA = _TRA(velocity_grid.shape[-2], velocity_grid, v0 = 0)"
   ]
  },
  {
   "cell_type": "code",
   "execution_count": null,
   "metadata": {
    "ExecuteTime": {
     "end_time": "2021-11-26T17:54:54.636052Z",
     "start_time": "2021-11-26T17:54:54.636052Z"
    }
   },
   "outputs": [],
   "source": [
    "import matplotlib.pyplot as plt\n",
    "\n",
    "fig = plt.figure(figsize = (16, 10))\n",
    "ax = plt.axes(projection = '3d')\n",
    "x_traj = trajectory_grid[14, 10, 0, :, 0]\n",
    "y_traj = trajectory_grid[14, 10, 0, :, 1]\n",
    "z_traj = trajectory_grid[14, 10, 0, :, 2]\n",
    "ax.plot(x_traj, y_traj, z_traj)\n",
    "ax.scatter(x_traj[0], y_traj[0], z_traj[0], c = \"r\", marker = \"^\")\n",
    "ax.set_xlabel(\"x\")\n",
    "ax.set_ylabel(\"y\")\n",
    "ax.set_zlabel(\"z\")\n",
    "plt.show()"
   ]
  },
  {
   "cell_type": "code",
   "execution_count": null,
   "metadata": {
    "ExecuteTime": {
     "end_time": "2021-11-26T17:54:54.637050Z",
     "start_time": "2021-11-26T17:54:54.637050Z"
    },
    "hide_input": false
   },
   "outputs": [],
   "source": [
    "F = lambda x, y, z: *2+ y**2+z**2\n",
    "\n",
    "import pyvista as pv\n",
    "import numpy as np\n",
    "from numpy import mgrid\n",
    "import matplotlib.pyplot as plt\n",
    "\n",
    "# Controlling the text properties\n",
    "sargs = dict(\n",
    "    title_font_size=14,\n",
    "    label_font_size=12,\n",
    "    shadow=False,\n",
    "    n_labels=5,\n",
    "    italic=True,\n",
    "    fmt=\"%.0f\",\n",
    "    height=0.25, \n",
    "    vertical=True, \n",
    "    position_x=0.05, \n",
    "    position_y=0.05\n",
    ")\n",
    "\n",
    "print('initializing 3D B field')\n",
    "grid = pv.StructuredGrid(X_domain, Y_domain, Z_domain)\n",
    "# Add the data values to the cell data\n",
    "grid[\"ABC field magnitude\"] = F(X_domain, Y_domain, Z_domain).flatten()  # Flatten the array!\n",
    "#grid[\"ABC field magnitude\"] = np.linalg.norm(B, axis=1)\n",
    "#grid[\"ABC field vectors\"] = B\n",
    "#grid.set_active_vectors(\"values\")\n",
    "#contours = grid.contour(20, scalars=\"ABC field magnitude\")\n",
    "#arrows = contours.glyph(orient=\"ABC field vectors\", factor=50.0)\n",
    "\n",
    "print('plotting')\n",
    "p = pv.Plotter(notebook=1, shape=(1,1))\n",
    "#p.background_color='white'\n",
    "#p.window_size\n",
    "cmap = plt.cm.get_cmap(\"viridis\", 200)\n",
    "p.add_mesh(grid, cmap=cmap, scalar_bar_args=sargs)\n",
    "p.show_grid()\n",
    "\n",
    "p.link_views()\n",
    "p.view_isometric()\n",
    "#p.disable()\n",
    "p.show()"
   ]
  },
  {
   "cell_type": "code",
   "execution_count": null,
   "metadata": {},
   "outputs": [],
   "source": [
    "%%time\n",
    "# function to compute trajectory \n",
    "from ipynb.fs.defs.integration_dFdt import integration_dFdt\n",
    "\n",
    "# package for progress bar\n",
    "from tqdm.notebook import tqdm\n",
    "\n",
    "# package for parallel computing\n",
    "from joblib import Parallel, delayed\n",
    "\n",
    "def parallel_integration(i):\n",
    "    \n",
    "    # define trajectories/velocities over Y,Z meshgrid\n",
    "    trajectory_grid = np.zeros((X_domain.shape[1], X_domain.shape[2], len(time), 3))\n",
    "    velocity_grid = np.zeros((X_domain.shape[1], X_domain.shape[2], len(time), 3))\n",
    "\n",
    "    for j in range(Y_domain.shape[1]):\n",
    "        \n",
    "        for k in range(Z_domain.shape[2]):\n",
    "            \n",
    "            # only compute trajectories which are on the sides of the cube\n",
    "            if k==0:\n",
    "                \n",
    "                x = np.array([X_domain[i, j, k], Y_domain[i, j, k], Z_domain[i, j, k]])\n",
    "                \n",
    "                trajectory, velocity = integration_dFdt(time, x, X, Y, Z, Interpolant, periodic, bool_unsteady)\n",
    "\n",
    "                trajectory_grid[j, k, :,:] = trajectory.T\n",
    "                velocity_grid[j, k,:, :] = velocity.T\n",
    "                \n",
    "    return trajectory_grid, velocity_grid\n",
    "\n",
    "results_parallel = np.array(Parallel(n_jobs=Ncores, verbose = 0)(delayed(parallel_integration)(i) for i in tqdm(range(X_domain.shape[0]))))\n",
    "\n",
    "# extract trajectory_grid and velocity_grid from results of parallel computation\n",
    "\n",
    "trajectory_grid = results_parallel[:,0,:,:,:,:]\n",
    "velocity_grid = results_parallel[:,1,:,:,:-1,:]"
   ]
  }
 ],
 "metadata": {
  "kernelspec": {
   "display_name": "Python 3 (ipykernel)",
   "language": "python",
   "name": "python3"
  },
  "language_info": {
   "codemirror_mode": {
    "name": "ipython",
    "version": 3
   },
   "file_extension": ".py",
   "mimetype": "text/x-python",
   "name": "python",
   "nbconvert_exporter": "python",
   "pygments_lexer": "ipython3",
   "version": "3.7.11"
  },
  "toc": {
   "base_numbering": 1,
   "nav_menu": {},
   "number_sections": true,
   "sideBar": true,
   "skip_h1_title": false,
   "title_cell": "Table of Contents",
   "title_sidebar": "Contents",
   "toc_cell": false,
   "toc_position": {},
   "toc_section_display": true,
   "toc_window_display": false
  }
 },
 "nbformat": 4,
 "nbformat_minor": 4
}
