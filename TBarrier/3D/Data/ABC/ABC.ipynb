{
 "cells": [
  {
   "cell_type": "code",
   "execution_count": 1,
   "metadata": {
    "ExecuteTime": {
     "end_time": "2021-11-10T13:25:47.648942Z",
     "start_time": "2021-11-10T13:25:46.904172Z"
    }
   },
   "outputs": [],
   "source": [
    "import scipy.io\n",
    "import numpy as np\n",
    "import matplotlib.pyplot as plt\n",
    "from tqdm.notebook import tqdm\n",
    "from math import sqrt, tanh, cos, sin, pi\n",
    "from numba import njit, prange\n",
    "\n",
    "@njit(parallel=True)\n",
    "def Bt(B0, k0, k1, k2, t):\n",
    "    return B0*k0*tanh(l1*t)*cos((k2*t)**2)\n",
    "\n",
    "@njit(parallel=True)\n",
    "def Ct(C0, k0, k1, k2, t):\n",
    "    return C0*k0*tanh(l1*t)*cos((k2*t)**2)\n",
    "\n",
    "@njit(parallel=True)\n",
    "def velocity_steady(A0, B0, C0, k0, k1, k2, x, y, z):\n",
    "    \n",
    "    u = A0*sqrt(3)*sin(z)+C0*cos(y)\n",
    "    v = B0*sin(x)+A0*cos(z)\n",
    "    w = C0*sin(y)+B0*cos(x)\n",
    "    \n",
    "    return u, v, w\n",
    "\n",
    "@njit(parallel=True)\n",
    "def velocity_usteady(A0, B0, C0, k0, k1, k2, x, y, z, t):\n",
    "\n",
    "    Bt = Bt(B0, k0, k1, k2, t)\n",
    "    Ct = Ct(C0, k0, k1, k2, t)\n",
    "    \n",
    "    u = A0*sqrt(3)*sin(z)+(C0+Ct)*cos(y)\n",
    "    v = (B0+Bt)*sin(x)+A0*cos(z)\n",
    "    w = (C0+Ct)*sin(y)+(B0+Bt)*cos(x)\n",
    "    \n",
    "    return u, v, w\n",
    "\n",
    "@njit(parallel=True)\n",
    "def ABC_steady(A0, B0, C0, k0, k1, k2, X, Y, Z):\n",
    "    \n",
    "    U = X.copy()*np.nan\n",
    "    V = Y.copy()*np.nan\n",
    "    W = Z.copy()*np.nan\n",
    "    \n",
    "    for i in prange(X.shape[0]):\n",
    "        \n",
    "        for j in prange(Y.shape[1]):\n",
    "            \n",
    "            for k in prange(Y.shape[2]):\n",
    "                \n",
    "                x = X[i, j, k]\n",
    "                y = Y[i, j, k]\n",
    "                z = Z[i, j, k]\n",
    "                \n",
    "                u, v, w = velocity_steady(A0, B0, C0, k0, k1, k2, x, y, z)\n",
    "                \n",
    "                U[i, j, k] = u\n",
    "                V[i, j, k] = v\n",
    "                W[i, j, k] = w\n",
    "        \n",
    "    return U, V, W\n",
    "            \n",
    "@njit(parallel=True)\n",
    "def ABC_unsteady(A0, B0, C0, k0, k1, k2, X, Y, Z, t):\n",
    "    \n",
    "    for i in prange(Y.shape[0]):\n",
    "        \n",
    "        for j in prange(X.shape[1]):\n",
    "            \n",
    "            for k in prange(Z.shape[2]):\n",
    "                \n",
    "                for t in prange(T.shape[3]):\n",
    "                \n",
    "                    x = X[i, j, k]\n",
    "                    y = Y[i, j, k]\n",
    "                    z = Z[i, j, k]                \n",
    "                \n",
    "                    u, v, w = velocity(A0, B0, C0, k0, k1, k2, x, y, z, t)\n",
    "                \n",
    "                    U[i, j, k, t] = u\n",
    "                    V[i, j, k, t] = v\n",
    "                    W[i, j, k, t] = w"
   ]
  },
  {
   "cell_type": "code",
   "execution_count": 3,
   "metadata": {
    "ExecuteTime": {
     "end_time": "2021-11-10T13:26:05.175579Z",
     "start_time": "2021-11-10T13:26:05.089591Z"
    },
    "scrolled": false
   },
   "outputs": [
    {
     "name": "stdout",
     "output_type": "stream",
     "text": [
      "6.283185307179586\n",
      "[0.         0.06346652 0.12693304 0.19039955 0.25386607 0.31733259\n",
      " 0.38079911 0.44426563 0.50773215 0.57119866 0.63466518 0.6981317\n",
      " 0.76159822 0.82506474 0.88853126 0.95199777 1.01546429 1.07893081\n",
      " 1.14239733 1.20586385 1.26933037 1.33279688 1.3962634  1.45972992\n",
      " 1.52319644 1.58666296 1.65012947 1.71359599 1.77706251 1.84052903\n",
      " 1.90399555 1.96746207 2.03092858 2.0943951  2.15786162 2.22132814\n",
      " 2.28479466 2.34826118 2.41172769 2.47519421 2.53866073 2.60212725\n",
      " 2.66559377 2.72906028 2.7925268  2.85599332 2.91945984 2.98292636\n",
      " 3.04639288 3.10985939 3.17332591 3.23679243 3.30025895 3.36372547\n",
      " 3.42719199 3.4906585  3.55412502 3.61759154 3.68105806 3.74452458\n",
      " 3.8079911  3.87145761 3.93492413 3.99839065 4.06185717 4.12532369\n",
      " 4.1887902  4.25225672 4.31572324 4.37918976 4.44265628 4.5061228\n",
      " 4.56958931 4.63305583 4.69652235 4.75998887 4.82345539 4.88692191\n",
      " 4.95038842 5.01385494 5.07732146 5.14078798 5.2042545  5.26772102\n",
      " 5.33118753 5.39465405 5.45812057 5.52158709 5.58505361 5.64852012\n",
      " 5.71198664 5.77545316 5.83891968 5.9023862  5.96585272 6.02931923\n",
      " 6.09278575 6.15625227 6.21971879 6.28318531]\n"
     ]
    }
   ],
   "source": [
    "x = np.linspace(0, 2*pi, 100, endpoint = True)\n",
    "y = x.copy()\n",
    "z = x.copy()\n",
    "X, Y, Z = np.meshgrid(x, x, x)\n",
    "\n",
    "A0 = sqrt(3)\n",
    "B0 = sqrt(2)\n",
    "C0 = 1\n",
    "k0 = .15\n",
    "k1 = .05\n",
    "k2 = .12\n",
    "\n",
    "U, V, W = ABC_steady(A0, B0, C0, k0, k1, k2, X, Y, Z)\n",
    "            \n",
    "scipy.io.savemat('./ABC_steady.mat', {'u': U, 'v': V, 'w': W, 'x': x, 'y': y, 'z': z})"
   ]
  },
  {
   "cell_type": "code",
   "execution_count": null,
   "metadata": {},
   "outputs": [],
   "source": []
  }
 ],
 "metadata": {
  "kernelspec": {
   "display_name": "Python 3",
   "language": "python",
   "name": "python3"
  },
  "language_info": {
   "codemirror_mode": {
    "name": "ipython",
    "version": 3
   },
   "file_extension": ".py",
   "mimetype": "text/x-python",
   "name": "python",
   "nbconvert_exporter": "python",
   "pygments_lexer": "ipython3",
   "version": "3.7.11"
  },
  "toc": {
   "base_numbering": 1,
   "nav_menu": {},
   "number_sections": true,
   "sideBar": true,
   "skip_h1_title": false,
   "title_cell": "Table of Contents",
   "title_sidebar": "Contents",
   "toc_cell": false,
   "toc_position": {},
   "toc_section_display": true,
   "toc_window_display": false
  }
 },
 "nbformat": 4,
 "nbformat_minor": 5
}
