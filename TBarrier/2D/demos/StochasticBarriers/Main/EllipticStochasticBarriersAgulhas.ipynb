{
 "cells": [
  {
   "cell_type": "markdown",
   "metadata": {},
   "source": [
    "# Add Folders to Path"
   ]
  },
  {
   "cell_type": "code",
   "execution_count": null,
   "metadata": {
    "ExecuteTime": {
     "end_time": "2021-12-29T23:20:58.197992Z",
     "start_time": "2021-12-29T23:20:58.184998Z"
    }
   },
   "outputs": [],
   "source": [
    "%%time\n",
    "import sys, os\n",
    "\n",
    "# get current directory\n",
    "path = os.getcwd()\n",
    "\n",
    "# get parent directory\n",
    "parent_directory = os.path.sep.join(path.split(os.path.sep)[:-3])\n",
    "\n",
    "# add utils folder to current working path\n",
    "sys.path.append(parent_directory+\"/subfunctions/utils\")\n",
    "\n",
    "# add integration folder to current working path\n",
    "sys.path.append(parent_directory+\"/subfunctions/integration\")\n",
    "\n",
    "# add StochasticBarriers folder to current working path\n",
    "sys.path.append(parent_directory+\"/demos/StochasticBarriers\")"
   ]
  },
  {
   "cell_type": "markdown",
   "metadata": {},
   "source": [
    "# Overview\n",
    "\n",
    "We extract elliptic Lagrangian stochastic barriers in the Agulhas region from the AVISO dataset using the null geodesic identification scheme. All the results on diffusive scalar transport in a deterministic velocity field carry over automatically to particle transport in the stochastic velocity given by: \n",
    "\n",
    "\\begin{equation}\n",
    "d \\mathbf{x}(t) = \\mathbf{v}(\\mathbf{x}(t), t)dt +  \\sqrt{\\nu} \\mathbf{B}(\\mathbf{x}(t), t)d\\mathbf{W}(t),\n",
    "\\label{eq: ProbabilisticTransport}\n",
    "\\end{equation}\n",
    "\n",
    "where $ \\mathbf{x}(t) \\in \\mathbb{R}^n $ is the random position vector of a particle at time $ t $; $ \\mathbf{v}(\\mathbf{x}, t) $ denotes the incompressible, deterministic drift in the particle motion; and $ \\mathbf{W}(t) $ is an m-dimensional Wiener process with diffusion matrix $ \\sqrt{\\nu} \\mathbf{B}(\\mathbf{x}(t), t) $. Elliptic Lagrangian stochastic barriers are sharp barriers to particle transport under uncertainties in the velocity field. As higlighted in [1], for probabilistic diffusion barriers in the stochastic velocity field, we can apply the same procedure from the [Lagrangian diffusion barriers](http://localhost:8888/notebooks/TBarrier/2D/demos/DiffusionBarriers/EllipticLagrangianDiffusionBarriers/Main/EllipticLagrangianDiffusionBarriersAgulhas.ipynb) by setting:\n",
    "\n",
    "\\begin{equation}\n",
    "\\mathbf{D}(\\mathbf{x}, t) = \\dfrac{1}{2} \\mathbf{B}(\\mathbf{x}, t)\\mathbf{B}(\\mathbf{x}, t)^T\n",
    "\\end{equation}\n",
    "\n",
    "The notebook is structured as follows:\n",
    "\n",
    "1. Import data from the file 'AVISO.mat' stored in the folder 'data'.\n",
    "<br />\n",
    "2. Define computational parameters (such as the number of cores) and data.\n",
    " <br />\n",
    "3. Define spatio-temporal domain.\n",
    " <br />\n",
    "4. Interpolate velocity from the (discrete) gridded data.\n",
    " <br />\n",
    "5. Elliptic Lagrangian stochastic barriers (LSB):\n",
    "\n",
    "    * Define diffusion matrix $ \\mathbf{B}(\\mathbf{x}(t), t) $:\n",
    "    \n",
    "    \\begin{equation}\n",
    "    \\mathbf{B}(\\mathbf{x}, t) = \\begin{pmatrix} \\sqrt{2} && 0 \\\\ 0 && \\sqrt{2} \\end{pmatrix}\n",
    "    \\end{equation}    \n",
    "    \n",
    "    and \n",
    "        \n",
    "    \\begin{equation}\n",
    "    \\mathbf{D}(\\mathbf{x}, t) = \\dfrac{1}{2}\\mathbf{B}(\\mathbf{x}, t)\\mathbf{B}(\\mathbf{x}, t)^T\n",
    "    \\end{equation}\n",
    "\n",
    "    * Compute gradient of flow map $ \\mathbf{\\nabla F}_{t_0}^{t_N}(\\mathbf{x}_0) $ over meshgrid using an auxiliary meshgrid. \n",
    "    <br />\n",
    "    \n",
    "    * Compute time-averaged diffusion Cauchy Green strain tensor as:\n",
    "    \n",
    "    \\begin{equation} \\mathbf{\\overline{C}_D}_{t_0}^{t_N}(\\mathbf{x}_0) = \\dfrac{1}{t_N-t_0} \\int_{t_0}^{t_N}[\\mathbf{C}_D]_{t_0}^{t_N} dt = \\dfrac{1}{t_N-t_0} \\int_{t_0}^{t_N} det[\\mathbf{D}(\\mathbf{F}_{t_0}^t(\\mathbf{x}_0), t)][\\mathbf{T}_{t_0}^t(\\mathbf{x}_0)]^{-1} dt, \\end{equation} where $ \\mathbf{T}_{t_0}^t(\\mathbf{x}_0) = [\\mathbf{\\nabla_0 F_{t_0}^t}(\\mathbf{x}_0)]^{-1}\\mathbf{D}(\\mathbf{F}_{t_0}^t(\\mathbf{x}_0), t)\\mathbf{\\nabla_0 F_{t_0}^t}(\\mathbf{x}_0)]^{-T} $ \n",
    "   \n",
    "    <br />\n",
    "    * Uniform transport barriers and enhancers satisfy\n",
    "    \n",
    "    \\begin{equation}\n",
    "    \\langle \\mathbf{x}_0', (\\mathbf{\\overline{C}_D}_{t_0}^{t_N}(\\mathbf{x}_0)- \\mathcal{T}_0 \\mathbf{I})\n",
    "    \\mathbf{x}_0') = 0\n",
    "    \\end{equation}\n",
    "    \n",
    "    These are precisely null-geodesics of:\n",
    "    \n",
    "    \\begin{equation}\n",
    "    \\mathbf{\\hat{E}}_{\\mathcal{T}_0}(\\mathbf{x}_0) = \\mathbf{\\overline{C}}_d(\\mathbf{x}_0)-\n",
    "    \\mathcal{T}_0\\mathbf{I},\n",
    "    \\end{equation} on the spatial domain satisfying $ \\overline{\\lambda}_1 \\leq \\mathcal{T}_0 \\leq\n",
    "    \\overline{\\lambda}_2 $\n",
    "    \n",
    "    Elliptic Lagrangian diffusion barriers are closed null geodesics of the one-parameter family of Lorentzian\n",
    "    metrics $ \\mathrm{\\overline{C}_{D}}_{t_0}^{t_N}(\\mathbf{x}_0) − \\mathcal{T}_0 I $. $ \\mathcal{T}_0 $ equals to the uniform diffusive transport density across any material surface over the time-interval $\n",
    "    [t_0, t_N] $.\n",
    "    \n",
    "    Elliptic Lagrangian diffusion barrierss are closed null geodesics of the one-parameter family of Lorentzian\n",
    "    metrics:\n",
    "    \n",
    "    \\begin{equation}\n",
    "    \\mathrm{A_{\\mathcal{T}_0}(\\mathbf{x}_0,t)} = \\mathbf{\\overline{C}_D}_{t_0}^{t_N}(\\mathbf{x}_0) - \\mathcal{T}_0\\mathbf{I}\n",
    "    \\end{equation}\n",
    "    \n",
    "    We denote:\n",
    "    \\begin{equation}\n",
    "    \\mathbf{\\overline{C}_D}_{t_0}^{t_N}(\\mathbf{x}_0) = \\begin{pmatrix} C_D^{11} && C_D^{12} \\\\ C_D^{12} && C_D^{22}\\end{pmatrix}\n",
    "    \\end{equation}\n",
    "    \n",
    "    Closed null geodesics are closed curves of the system of ODE:\n",
    "    \n",
    "    \\begin{align*}\n",
    "    \\dfrac{d \\mathbf{x}}{ds} &= \\mathbf{e}_{\\phi}(s) = \\begin{pmatrix} \\cos(\\phi(s)) \\\\ \\sin(\\phi(s)) \\end{pmatrix} \\\\\n",
    "    \\dfrac{d \\phi}{ds} &= - \\dfrac{\\langle \\mathbf{e}_{\\phi}(s), (\\nabla_x A(\\mathbf{x}) \\mathbf{e}_{\\phi}(s)) \\mathbf{e}_{\\phi}(s) \\rangle}{2 \\langle \\mathbf{e}_{\\phi}, R^T A(\\mathbf{x}) \\mathbf{e}_{\\phi}(s)}, \n",
    "    \\end{align*} where $ R = \\begin{pmatrix} 0 && -1 \\\\ 1 && 0\\end{pmatrix} $.\n",
    "    \n",
    "    $  \\dfrac{d \\phi}{ds} $ depends both on $ \\mathbf{x} $ and on $ \\phi $ and can be evaluated through interpolation by first computing $ \\nabla_x \\mathbf{A}(\\mathbf{x}) = \\nabla_x \\mathbf{\\overline{C}_D}_{t_0}^{t_N}(\\mathbf{x}) $ over the meshgrid. \n",
    "    <br />\n",
    "    It holds:\n",
    "    \\begin{equation}\n",
    "    \\dfrac{d \\phi}{ds} = - \\dfrac{\\cos^2(\\phi)[{C_D}_x^{11}(\\mathbf{x})\\cos(\\phi)+{C_D}_y^{11}(\\mathbf{x})\\sin(\\phi)]+[{C_D}_x^{12}(\\mathbf{x})\\cos(\\phi)+{C_D}_y^{11}(\\mathbf{x})\\sin(\\phi)]\\sin(2\\phi)+\\sin^2(\\phi)[{C_D}_x^{22}(\\mathbf{x})\\cos(\\phi)+{C_D}_y^{22}(\\mathbf{x})\\sin(\\phi)}{\\sin(2\\phi)[C_D^{22}(\\mathbf{x})-C_D^{11}(\\mathbf{x})]+2\\cos(2\\phi)C_D^{12}(\\mathbf{x})}\n",
    "    \\end{equation}\n",
    "    \n",
    "    The set of initial conditions is given by:\n",
    "    \\begin{equation}\n",
    "    (\\mathbf{x}_0, \\phi_0)_{\\mathcal{T}_0} = \\lbrace (\\mathbf{x}_0(\\mathcal{T}_0, \\phi = 0), 0) \\in V: C_D^{11}(\\mathbf{x}, t)- \\mathcal{T}_0 = 0 \\rbrace\n",
    "    \\end{equation}\n",
    "    \n",
    "    Furthermore the domain of existence of the ODE is restricted to points $ \\mathbf{x}, \\phi $ where:\n",
    "    \n",
    "    \\begin{equation}\n",
    "    \\sin(2\\phi)[C_D^{22}(\\mathbf{x})-C_D^{11}(\\mathbf{x})]+2\\cos(2\\phi)C_D^{12}(\\mathbf{x}) \\neq 0\n",
    "    \\end{equation}\n",
    "    \n",
    "6. Lagrangian stochastic simulation:\n",
    "\n",
    "    * In order to verify that the ring boundaries (computed from the deterministic velocity field) in step [5] act as sharp barriers to particle transport under uncertainties we perfom a Monte-Carlo simulation of eq. \\ref{eq: ProbabilisticTransport} in the Lagrangian frame:\n",
    "    \n",
    "    \\begin{equation}\n",
    "    d \\mathbf{x}_0(t) = \\sqrt{\\nu} \\mathbf{B}_0(\\mathbf{x}(t), t) d\\mathbf{W}(t), \\quad \\mathbf{B}_0(\\mathbf{x}(t), t) = \\mathbf{\\nabla F_{t_0}^t}^{-1} \\mathbf{B}(\\mathbf{x}(t), t)\n",
    "    \\label{eq: LagrangianProbabilisticTransport}\n",
    "    \\end{equation}\n",
    "    <br />\n",
    "    * First we find the outermost elliptic stochastic barriers within each family of elliptic SDB computed in step [5].\n",
    "    <br />\n",
    "    * Then we seed inside the outermost elliptic stochastic barriers particles and advect them using equation \\ref{eq: LagrangianProbabilisticTransport} over the time-interval $ [t_0, t_N] $."
   ]
  },
  {
   "cell_type": "markdown",
   "metadata": {},
   "source": [
    "# Import Data\n",
    "\n",
    "We start by import the AVISO-data from the file 'AVISO.mat' stored in the folder 'Data'."
   ]
  },
  {
   "cell_type": "code",
   "execution_count": null,
   "metadata": {
    "ExecuteTime": {
     "end_time": "2021-12-29T23:20:58.419372Z",
     "start_time": "2021-12-29T23:20:58.239881Z"
    }
   },
   "outputs": [],
   "source": [
    "%%time\n",
    "import scipy.io as sio\n",
    "\n",
    "# Import velocity data from file in data-folder\n",
    "mat_file = sio.loadmat('../../../data/Aviso/AVISO.mat')\n",
    "\n",
    "U = mat_file['u']\n",
    "V = mat_file['v']\n",
    "x = mat_file['x']\n",
    "y = mat_file['y']\n",
    "time_data = mat_file['t']"
   ]
  },
  {
   "cell_type": "markdown",
   "metadata": {},
   "source": [
    "# Computational parameters and data\n",
    "\n",
    "Here we define the computational parameters and the data."
   ]
  },
  {
   "cell_type": "code",
   "execution_count": null,
   "metadata": {
    "ExecuteTime": {
     "end_time": "2021-12-29T23:20:58.435357Z",
     "start_time": "2021-12-29T23:20:58.420370Z"
    }
   },
   "outputs": [],
   "source": [
    "import numpy as np\n",
    "\n",
    "# Number of cores to be used for parallel computing\n",
    "Ncores = 5\n",
    "\n",
    "# Time resolution of data\n",
    "dt_data = time_data[0,1]-time_data[0,0]\n",
    "\n",
    "# Periodic boundary conditions\n",
    "periodic_x = False\n",
    "periodic_y = False\n",
    "periodic_t = False\n",
    "periodic = [periodic_x, periodic_y, periodic_t]\n",
    "\n",
    "# Unsteady velocity field\n",
    "bool_unsteady = True\n",
    "\n",
    "# Defined domain\n",
    "# This array denotes where the velocity field is defined (=1) and where it is not defined (=0)\n",
    "defined_domain = np.isfinite(U[:,:,0]).astype(int)\n",
    "\n",
    "## Meshgrid\n",
    "X, Y = np.meshgrid(x, y)\n",
    "\n",
    "## Resolution of meshgrid\n",
    "dx_data = X[0,1]-X[0,0]\n",
    "dy_data = Y[1,0]-Y[0,0]\n",
    "\n",
    "delta = [dx_data, dy_data]"
   ]
  },
  {
   "cell_type": "markdown",
   "metadata": {},
   "source": [
    "# Spatio-temporal domain\n",
    "\n",
    "Here we define the spatio-temporal domain over which to consider the dynamical system."
   ]
  },
  {
   "cell_type": "code",
   "execution_count": null,
   "metadata": {
    "ExecuteTime": {
     "end_time": "2021-12-29T23:20:58.450315Z",
     "start_time": "2021-12-29T23:20:58.437350Z"
    }
   },
   "outputs": [],
   "source": [
    "%%time\n",
    "# Initial time (in days)\n",
    "t0 = 0\n",
    "\n",
    "# Final time (in days)\n",
    "tN = 50\n",
    "\n",
    "# Rime step-size\n",
    "dt = .1\n",
    "\n",
    "# Time resolution: N = len(time)\n",
    "time = np.arange(t0, tN+dt, dt)\n",
    "\n",
    "# length of time interval (in days)\n",
    "lenT = tN-t0\n",
    "\n",
    "# domain boundary (in degrees)\n",
    "xmin = -3.5\n",
    "xmax = 1\n",
    "ymin = -32\n",
    "ymax = -28\n",
    "\n",
    "# make sure that the spatio-temporal you defined are within the domain of the data\n",
    "assert (xmax <= np.max(X) and xmin >= np.min(X) and ymin >= np.min(Y) and ymax <= np.max(Y) and np.min(time_data) <= t0 <= np.max(time_data) and tN <= np.max(time_data)),\"The domains you are chooising are outside the domain of the data!!!!! --> redefine spatial/temporal domain\"\n",
    "\n",
    "# spacing of meshgrid (in degrees)\n",
    "dx = 0.015\n",
    "dy = 0.015\n",
    "\n",
    "# NOTE: As we are computing spatial derivatives of the CG-tensor, the spacing of the meshgrid has to be sufficiently small.\n",
    "# However, choosing dx to be too small leads to (unnecessary) long computation times.\n",
    "\n",
    "x_domain = np.arange(xmin, xmax + dx, dx)\n",
    "y_domain = np.arange(ymin, ymax + dy, dy)\n",
    "\n",
    "X_domain, Y_domain = np.meshgrid(x_domain, y_domain)"
   ]
  },
  {
   "cell_type": "markdown",
   "metadata": {},
   "source": [
    "# Interpolate Velocity\n",
    "\n",
    "In order to evaluate the velocity field at arbitrary locations and times, we interpolate the discrete velocity data. The interpolation with respect to time is always linear. The interpolation with respect to space can be chosen to be \"cubic\" or \"linear\"."
   ]
  },
  {
   "cell_type": "code",
   "execution_count": null,
   "metadata": {
    "ExecuteTime": {
     "end_time": "2021-12-29T23:20:58.652298Z",
     "start_time": "2021-12-29T23:20:58.451313Z"
    }
   },
   "outputs": [],
   "source": [
    "%%time\n",
    "# Import interpolation function for unsteady flow field\n",
    "from ipynb.fs.defs.Interpolant import interpolant_unsteady\n",
    "\n",
    "# set nan values to zero so that we can apply interpolant. Interpolant does not work if the array contains nan values\n",
    "U[np.isnan(U)] = 0\n",
    "V[np.isnan(V)] = 0\n",
    "\n",
    "# Interpolate velocity data using cubic spatial interpolation\n",
    "Interpolant = interpolant_unsteady(X, Y, U, V, method = \"cubic\")\n",
    "\n",
    "Interpolant_u = Interpolant[0]\n",
    "Interpolant_v = Interpolant[1]"
   ]
  },
  {
   "cell_type": "markdown",
   "metadata": {},
   "source": [
    "# Elliptic Lagrangian stochastic barriers"
   ]
  },
  {
   "cell_type": "markdown",
   "metadata": {},
   "source": [
    "##  Time averaged diffusion Cauchy Green (CG) strain tensor\n",
    "\n",
    "Next, we compute the time-averaged diffusion Cauchy Green strain tensor $ \\mathrm{\\overline{C}_{D}}_{t_0}^{t_N}(\\mathbf{x}_0) $ over the time-interval $ [t_0, t_N] $ by iterating over a meshgrid (parallelized). 'aux_grid' specifies the ratio between the auxiliary grid and the original meshgrid when computing spatial derivatives."
   ]
  },
  {
   "cell_type": "code",
   "execution_count": null,
   "metadata": {
    "ExecuteTime": {
     "end_time": "2021-12-29T23:24:20.474031Z",
     "start_time": "2021-12-29T23:20:58.653296Z"
    }
   },
   "outputs": [],
   "source": [
    "%%time\n",
    "# Import package for parallel computing\n",
    "from joblib import Parallel, delayed\n",
    "\n",
    "# Import function to compute gradient of velocity function\n",
    "from ipynb.fs.defs.gradient_flowmap import gradient_flowmap\n",
    "\n",
    "# Import function to compute trajectories/velocity along trajectories\n",
    "from ipynb.fs.defs.integration_dFdt import integration_dFdt\n",
    "\n",
    "# Import function to compute diffusive Cauchy Green strain tensor\n",
    "from ipynb.fs.defs.DiffusionCauchyGreen import DiffusionCauchyGreen\n",
    "\n",
    "# Import RegularGridInterpolator\n",
    "from scipy.interpolate import RegularGridInterpolator\n",
    "\n",
    "# Define ratio of auxiliary grid spacing vs original grid_spacing\n",
    "aux_grid_ratio = .2 # [1/5, 1/10]\n",
    "aux_grid = [aux_grid_ratio*(X_domain[0, 1]-X_domain[0, 0]), aux_grid_ratio*(Y_domain[1, 0]-Y_domain[0, 0])]\n",
    "\n",
    "# vectorize initial conditions by arranging them to a vector of size (Nx*Ny, 2)\n",
    "x0 = X_domain.ravel()\n",
    "y0 = Y_domain.ravel()\n",
    "\n",
    "# split x0, y0 into 'Ncores' (equal) batches for parallel computing\n",
    "def split(a, n):\n",
    "    k, m = divmod(len(a), n)\n",
    "    return (a[i*k+min(i, m):(i+1)*k+min(i+1, m)] for i in range(n))\n",
    "\n",
    "x0_batch = list(split(x0, Ncores))\n",
    "y0_batch = list(split(y0, Ncores))\n",
    "\n",
    "# number of diffusive Cauchy Green strain tensor used for averaging\n",
    "n_averaging = 10\n",
    "\n",
    "# Components of diffusivity tensor D11, D12, D22 over spatial meshgrid and time have shape (Ny, Nx, N)\n",
    "# , where Ny/Nx are the spatial resolution in the lat/long coordinates\n",
    "# and N the time-resolution of the data\n",
    "D11_field = np.zeros((X.shape[0], Y.shape[1], time_data.shape[1]))\n",
    "D12_field = np.zeros((X.shape[0], Y.shape[1], time_data.shape[1]))\n",
    "D22_field = np.zeros((X.shape[0], Y.shape[1], time_data.shape[1]))\n",
    "\n",
    "# Diffusion matrix D = 1/2*BB^Twe set it to be constant in space and time \n",
    "# but it can generally be spatially and temporally varying).\n",
    "B11 = np.sqrt(2)\n",
    "B12 = 0\n",
    "B21 = 0\n",
    "B22 = np.sqrt(2)\n",
    "\n",
    "# D = 1/2*B*B^T\n",
    "D11_field[:,:,:] = 1/2*(B11**2+B12**2)\n",
    "D12_field[:,:,:] = 1/2*(B11*B12+B22*B12)\n",
    "D22_field[:,:,:] = 1/2*(B12**2+B22**2)\n",
    "# Interpolate D11_field/D12_field/D22_field over spatial and temporal domain\n",
    "Interpolant_D11 = RegularGridInterpolator((Y[:,0], X[0,:], time_data[0,:]), D11_field)\n",
    "Interpolant_D12 = RegularGridInterpolator((Y[:,0], X[0,:], time_data[0,:]), D12_field)\n",
    "Interpolant_D22 = RegularGridInterpolator((Y[:,0], X[0,:], time_data[0,:]), D22_field)\n",
    "\n",
    "def parallel_CD(x0_batch, y0_batch):\n",
    "    \n",
    "    # Initial conditions\n",
    "    X0 = np.array([x0_batch, y0_batch])\n",
    "    \n",
    "    # Compute trajectories\n",
    "    Fmap = integration_dFdt(time, X0, X, Y, Interpolant_u, Interpolant_v, periodic, bool_unsteady, time_data)[0] # shape (N, 2, Nx*Ny)\n",
    "    \n",
    "    # Compute gradient of flow map\n",
    "    gradFmap = gradient_flowmap(time, X0, X, Y, Interpolant_u, Interpolant_v, periodic, defined_domain, bool_unsteady, time_data, aux_grid) # shape (N, 2, 2, Nx*Ny)\n",
    "    \n",
    "    # compute CG\n",
    "    Cd_avg = gradFmap[0,:,:,:].copy()*np.nan # shape (2, 2, Nx*Ny)\n",
    "    \n",
    "    DBS_parallel = []\n",
    "    \n",
    "    for i in range(gradFmap.shape[3]):\n",
    "        Cd_avg[:,:,i] = DiffusionCauchyGreen(Interpolant_D11, Interpolant_D12, Interpolant_D22, time, Fmap[:,:,i], gradFmap[:,:,:,i], lenT, n_averaging) # shape (2, 2, Nx*Ny)\n",
    "\n",
    "    return Cd_avg\n",
    "    \n",
    "# Compute DBS with parallel computing\n",
    "results = Parallel(n_jobs=Ncores, verbose = 0)(delayed(parallel_CD)(x0_batch[i], y0_batch[i]) for i in range(len(x0_batch)))\n",
    "\n",
    "# extract averaged CG tensor from results of parallel computing\n",
    "CD = results[0]\n",
    "\n",
    "for res in results[1:]:\n",
    "    CD = np.append(CD, res, axis = 2)\n",
    "    \n",
    "# reshape array from vectorized form to structured meshgrid\n",
    "X0_gridded = x0.reshape((X_domain.shape[0], X_domain.shape[1]))\n",
    "Y0_gridded = y0.reshape((X_domain.shape[0], X_domain.shape[1]))\n",
    "CD = CD.reshape((2, 2, X_domain.shape[0], X_domain.shape[1]))"
   ]
  },
  {
   "cell_type": "markdown",
   "metadata": {},
   "source": [
    "## Compute tensorfield"
   ]
  },
  {
   "cell_type": "code",
   "execution_count": null,
   "metadata": {
    "ExecuteTime": {
     "end_time": "2021-12-29T23:24:24.205630Z",
     "start_time": "2021-12-29T23:24:20.475028Z"
    }
   },
   "outputs": [],
   "source": [
    "# Import RectBivariateSpline from scipy\n",
    "from scipy.interpolate import RectBivariateSpline as RBS\n",
    "\n",
    "# Compute elements of CG tensor\n",
    "CD11 = CD[0,0,:,:].copy()\n",
    "CD12 = CD[0,1,:,:].copy()\n",
    "CD22 = CD[1,1,:,:].copy()\n",
    "    \n",
    "# Interpolate elements of CG tensor (per default: linear)\n",
    "interp_CD11 = RBS(Y_domain[:,0], X_domain[0,:], np.nan_to_num(CD11, nan=0.0), kx = 1, ky = 1)\n",
    "interp_CD12 = RBS(Y_domain[:,0], X_domain[0,:], np.nan_to_num(CD12, nan=0.0), kx = 1, ky = 1)\n",
    "interp_CD22 = RBS(Y_domain[:,0], X_domain[0,:], np.nan_to_num(CD22, nan=0.0), kx = 1, ky = 1)\n",
    "\n",
    "# Initialize arrays\n",
    "CD11x = np.zeros((CD11.shape[0], CD11.shape[1]))*np.nan\n",
    "CD11y = np.zeros((CD11.shape[0], CD11.shape[1]))*np.nan\n",
    "CD12x = np.zeros((CD11.shape[0], CD11.shape[1]))*np.nan\n",
    "CD12y = np.zeros((CD11.shape[0], CD11.shape[1]))*np.nan\n",
    "CD22x = np.zeros((CD11.shape[0], CD11.shape[1]))*np.nan\n",
    "CD22y = np.zeros((CD11.shape[0], CD11.shape[1]))*np.nan\n",
    "    \n",
    "# Define auxilary meshgrid\n",
    "rho_x = aux_grid[0]\n",
    "rho_y = aux_grid[1]\n",
    "        \n",
    "#iterate over meshgrid\n",
    "for i in range(X_domain.shape[0]):\n",
    "        \n",
    "    for j in range(Y_domain.shape[1]):\n",
    "            \n",
    "        x = [X_domain[i,j], Y_domain[i, j]]\n",
    "        \n",
    "        # compute derivatives using auxiliary grid and finite-differencing\n",
    "        CD11x[i, j] = (interp_CD11(x[1], x[0]+rho_x)[0][0]-interp_CD11(x[1], x[0]-rho_x)[0][0])/(2*rho_x)\n",
    "        CD11y[i, j] = (interp_CD11(x[1]+rho_y, x[0])[0][0]-interp_CD11(x[1]-rho_y, x[0])[0][0])/(2*rho_y)\n",
    "        \n",
    "        CD12x[i, j] = (interp_CD12(x[1], x[0]+rho_x)[0][0]-interp_CD12(x[1], x[0]-rho_x)[0][0])/(2*rho_x)\n",
    "        CD12y[i, j] = (interp_CD12(x[1]+rho_y, x[0])[0][0]-interp_CD12(x[1]-rho_y, x[0])[0][0])/(2*rho_y)\n",
    "            \n",
    "        CD22x[i, j] = (interp_CD22(x[1], x[0]+rho_x)[0][0]-interp_CD22(x[1], x[0]-rho_x)[0][0])/(2*rho_x)\n",
    "        CD22y[i, j] = (interp_CD22(x[1]+rho_y, x[0])[0][0]-interp_CD22(x[1]-rho_y, x[0])[0][0])/(2*rho_y)"
   ]
  },
  {
   "cell_type": "markdown",
   "metadata": {},
   "source": [
    "## Interpolate $ \\dot{\\phi}(x, y, \\phi)$ "
   ]
  },
  {
   "cell_type": "code",
   "execution_count": null,
   "metadata": {
    "ExecuteTime": {
     "end_time": "2021-12-29T23:24:25.901329Z",
     "start_time": "2021-12-29T23:24:24.206628Z"
    }
   },
   "outputs": [],
   "source": [
    "%%time\n",
    "from ipynb.fs.defs.phi_prime import _phi_prime\n",
    "\n",
    "# Interpolant phi_phrime, interpolant indicating domain of existence (= denominator of phi_prime)\n",
    "interp_phi_prime, interp_DOE = _phi_prime(X_domain, Y_domain, CD11, CD12, CD22, CD11x, CD11y, CD12x, CD12y, CD22x, CD22y)"
   ]
  },
  {
   "cell_type": "markdown",
   "metadata": {},
   "source": [
    "## Compute elliptic Lagrangian stochastic barriers"
   ]
  },
  {
   "cell_type": "code",
   "execution_count": null,
   "metadata": {
    "ExecuteTime": {
     "end_time": "2021-12-29T23:25:38.556281Z",
     "start_time": "2021-12-29T23:24:25.903324Z"
    }
   },
   "outputs": [],
   "source": [
    "%%time\n",
    "# import plotting library\n",
    "import matplotlib.pyplot as plt\n",
    "import matplotlib as mpl\n",
    "\n",
    "# Import function to extract closed null geodesics\n",
    "from ipynb.fs.defs.closed_null_geodesics import closed_null_geodesics\n",
    "\n",
    "# Define T0 range\n",
    "T0_min = .8\n",
    "T0_max = 1.2\n",
    "n_T0 = 2*Ncores\n",
    "T0_range = np.linspace(T0_min, T0_max, n_T0)\n",
    "\n",
    "# Threshold distance between starting and return point of trajectory\n",
    "d_threshold = dx/2\n",
    "\n",
    "# compute elliptic SB\n",
    "def compute_elliptic_SB(T0):\n",
    "    \n",
    "    # Define list storing x, y coordinates of elliptic LCS\n",
    "    x_elliptic, y_elliptic = [], []\n",
    "    \n",
    "    # Find all closed null geodesics\n",
    "    closed_NG, init_T0 = closed_null_geodesics(X_domain, Y_domain, T0, interp_phi_prime, d_threshold, CD11, interp_DOE)\n",
    "    \n",
    "    x_elliptic, y_elliptic = [], []\n",
    "    \n",
    "    # Iterate over all geodesics\n",
    "    for NG in closed_NG:\n",
    "        \n",
    "        if np.sum(NG[0]) is not None:\n",
    "            \n",
    "            x = NG[0]\n",
    "            y = NG[1]\n",
    "            x = np.append(x, x[0])\n",
    "            y = np.append(y, y[0])\n",
    "            \n",
    "            x_elliptic.append(x)\n",
    "            y_elliptic.append(y)\n",
    "        \n",
    "    return [x_elliptic, y_elliptic, init_T0]\n",
    "        \n",
    "# compute elliptic SB with parallel computing\n",
    "Elliptic_SB = Parallel(n_jobs=Ncores, verbose = 0)(delayed(compute_elliptic_SB)(i) for i in T0_range)"
   ]
  },
  {
   "cell_type": "code",
   "execution_count": null,
   "metadata": {
    "ExecuteTime": {
     "end_time": "2021-12-29T23:25:39.991275Z",
     "start_time": "2021-12-29T23:25:38.557282Z"
    },
    "scrolled": false
   },
   "outputs": [],
   "source": [
    "%%time\n",
    "######################################## Plot elliptic SB ########################################\n",
    "\n",
    "# import plotting library\n",
    "import matplotlib.pyplot as plt\n",
    "import matplotlib as mpl\n",
    "\n",
    "# Define figure/axes\n",
    "fig = plt.figure(figsize = (8, 4), dpi = 600)\n",
    "ax = plt.axes()\n",
    "\n",
    "# Define norm/cmap\n",
    "norm = mpl.colors.Normalize(vmin=T0_range.min(), vmax=T0_range.max())\n",
    "cmap = mpl.cm.ScalarMappable(norm=norm, cmap='gist_rainbow_r')\n",
    "\n",
    "# Iterate over all elliptic SB and plot\n",
    "for i in range(len(Elliptic_SB)):\n",
    "    \n",
    "    # Plot initial conditions\n",
    "    ax.scatter(Elliptic_SB[i][2][0], Elliptic_SB[i][2][1], color=cmap.to_rgba(T0_range[i]), s = 0.1)\n",
    "    \n",
    "    # Plot elliptic SB\n",
    "    if Elliptic_SB[i][0] is not None:\n",
    "        for j in range(len(Elliptic_SB[i][0])):\n",
    "            if Elliptic_SB[i][0][j] is not None:\n",
    "                ax.plot(Elliptic_SB[i][0][j], Elliptic_SB[i][1][j], c=cmap.to_rgba(T0_range[i]), linewidth = 1)\n",
    "\n",
    "# Set axis limits\n",
    "ax.set_xlim([xmin, xmax])\n",
    "ax.set_ylim([ymin, ymax])\n",
    "\n",
    "# Set axis labels\n",
    "ax.set_xlabel(\"long (°)\", fontsize = 10)\n",
    "ax.set_ylabel(\"lat (°)\", fontsize = 10)\n",
    "\n",
    "# Colorbar\n",
    "cbar = fig.colorbar(cmap, ticks=[T0_range.min(), 1, T0_range.max()])\n",
    "cbar.ax.set_ylabel(r'$ \\mathcal{T}_0 $', rotation = 0, fontsize = 10)\n",
    "\n",
    "# Title\n",
    "ax.set_title(\"Elliptic stochastic barriers\", fontsize = 10)\n",
    "plt.show();"
   ]
  },
  {
   "cell_type": "markdown",
   "metadata": {},
   "source": [
    "The colored (closed) curves indicate elliptic Lagrangian diffusion barriers with constant transport density $ \\mathcal{T}_0 $. The colored dots indicate the initial conditions depending on $ \\mathcal{T}_0 $."
   ]
  },
  {
   "cell_type": "markdown",
   "metadata": {},
   "source": [
    "# Lagrangian stochastic simulation\n",
    "\n",
    "We proceed by extracting the outermost elliptic barriers computed in step [5]. We then seed particles inside those barriers and advect them according to equation \\ref{eq: LagrangianProbabilisticTransport}"
   ]
  },
  {
   "cell_type": "markdown",
   "metadata": {},
   "source": [
    "## Find outermost closed curve for each family of elliptic Lagrangian stochastic barriers\n",
    "\n",
    "We now seek to find the outermost elliptic SDB within each family of SDBs."
   ]
  },
  {
   "cell_type": "code",
   "execution_count": null,
   "metadata": {
    "ExecuteTime": {
     "end_time": "2021-12-29T23:25:40.024343Z",
     "start_time": "2021-12-29T23:25:39.991275Z"
    }
   },
   "outputs": [],
   "source": [
    "# import function which extracts outermost elliptic SB for each family of elliptic SB\n",
    "from ipynb.fs.defs.find_outermost_closed_curve import find_outermost_closed_curve\n",
    "\n",
    "# find outermost elliptic SB in each family of elliptic SB\n",
    "x_outermost_elliptic_SB, y_outermost_elliptic_SB, T0_outermost_elliptic_SB = find_outermost_closed_curve(Elliptic_SB, T0_range)"
   ]
  },
  {
   "cell_type": "markdown",
   "metadata": {},
   "source": [
    "## Compute stochastic trajectories in Lagrangian frame\n",
    "\n",
    "We now compute the stochastic trajectories by first evaluating $ \\mathbf{\\nabla F}_{t_0}^t(\\mathbf{x}_0) $ over $ t \\in [t_0, t_N] $. The stochastic trajectories are computed using itoSRI2 (Rößler2010 order 1.0 strong Stochastic Runge-Kutta algorithm SRI2) from [sdeint](https://pypi.org/project/sdeint/). The particles are seeded inside the outermost closed stochastic barriers extracted from the deterministic velocity field. For comparison, we also seed particles inside shifted copies of the closed stochastic barriers."
   ]
  },
  {
   "cell_type": "markdown",
   "metadata": {},
   "source": [
    "## Compute $ \\mathbf{\\nabla F}_{t_0}^t(\\mathbf{x}_0), \\quad t \\in [t_0, t_N] $  for stochastic trajectories"
   ]
  },
  {
   "cell_type": "code",
   "execution_count": null,
   "metadata": {
    "ExecuteTime": {
     "end_time": "2021-12-29T23:26:05.769574Z",
     "start_time": "2021-12-29T23:25:40.024343Z"
    }
   },
   "outputs": [],
   "source": [
    "# Import shapely library to create polygons and points\n",
    "from shapely.geometry import Polygon, Point\n",
    "\n",
    "# define B\n",
    "B = np.array([[B11, B12], [B21, B22]])\n",
    "\n",
    "# define \\nu\n",
    "nu = 10**(-6)\n",
    "\n",
    "x0_stochastic, y0_stochastic = [], []\n",
    "x_shifted, y_shifted = [], []\n",
    "c = []\n",
    "\n",
    "# compute initial conditions for particles inside elliptic stochastic barrier and shifted version of elliptic_SD\n",
    "for b in range(len(x_outermost_elliptic_SB)):\n",
    "    \n",
    "    Poly_object = Polygon(zip(x_outermost_elliptic_SB[b], y_outermost_elliptic_SB[b]))\n",
    "    \n",
    "    # shifte copy of outermost elliptic SB\n",
    "    x_shifted.append(x_outermost_elliptic_SB[b]+3)\n",
    "    y_shifted.append(y_outermost_elliptic_SB[b])\n",
    "    \n",
    "    for xi in np.arange(xmin, xmax, 0.075):\n",
    "        \n",
    "        for yi in np.arange(ymin, ymax, 0.075):\n",
    "            \n",
    "            if Poly_object.contains(Point(xi, yi)):\n",
    "                \n",
    "                # particles inside outermost elliptic stochastic barrier\n",
    "                for _ in range(5):\n",
    "                    \n",
    "                    x0_stochastic.append(xi)\n",
    "                    y0_stochastic.append(yi)\n",
    "                    c.append(.75)\n",
    "                \n",
    "                # particles inside shifted version of outermost elliptic stochastic barrier (shifted by +3 in the x-direction)\n",
    "                for _ in range(5):\n",
    "                    \n",
    "                    x0_stochastic.append(xi+3)\n",
    "                    y0_stochastic.append(yi)\n",
    "                    c.append(0)\n",
    "                    \n",
    "# Compute gradient of flow map\n",
    "# This operation could also be parallelized\n",
    "X0 = np.array([x0_stochastic, y0_stochastic])  \n",
    "\n",
    "# Compute gradient of flowmap\n",
    "gradFmap = gradient_flowmap(time, X0, X, Y, Interpolant_u, Interpolant_v, periodic, defined_domain, bool_unsteady, time_data, aux_grid)"
   ]
  },
  {
   "cell_type": "markdown",
   "metadata": {},
   "source": [
    "### Compute stochastic trajectories from  $ \\mathbf{\\nabla F}_{t_0}^t(\\mathbf{x}_0), \\quad t \\in [t_0, t_N] $ "
   ]
  },
  {
   "cell_type": "code",
   "execution_count": null,
   "metadata": {
    "ExecuteTime": {
     "end_time": "2021-12-29T23:28:09.704114Z",
     "start_time": "2021-12-29T23:26:05.770542Z"
    }
   },
   "outputs": [],
   "source": [
    "# import package for stochastic differential equations\n",
    "import sdeint\n",
    "\n",
    "# import spline interpolation for 1D\n",
    "from scipy.interpolate import InterpolatedUnivariateSpline\n",
    "\n",
    "def stochastic_trajectories(gradFmap, x0batch, y0batch):\n",
    "    \n",
    "    # closure function. This is just a dummy function needed to pass arguments to sdeint.\n",
    "    def close(func, *args):\n",
    "        def newfunc(x, t):\n",
    "            return func(x, t, *args)\n",
    "        return newfunc\n",
    "    \n",
    "    # drift term of ODE\n",
    "    def f(x, t, gradFmap11, gradFmap12, gradFmap21, gradFmap22, B, nu):\n",
    "        return np.array([0, 0])\n",
    "\n",
    "    # stochastic term of ODE\n",
    "    def G(x, t, gradFmap11, gradFmap12, gradFmap21, gradFmap22, B, nu):\n",
    "                    \n",
    "        gFmap11 = gradFmap11(t)\n",
    "        gFmap12 = gradFmap12(t)\n",
    "        gFmap21 = gradFmap21(t)\n",
    "        gFmap22 = gradFmap22(t)\n",
    "        \n",
    "        inverse_gradFmap = 1/(gFmap11*gFmap22-gFmap12*gFmap21)*np.array([[gFmap22, -gFmap12], [-gFmap21, gFmap11]])\n",
    "        \n",
    "        B0 = np.sqrt(nu)*inverse_gradFmap@B\n",
    "                    \n",
    "        return B0\n",
    "    \n",
    "    x_stochastic, y_stochastic = [], []\n",
    "    \n",
    "    # Iterate over all initial conditions\n",
    "    for j in range(len(x0batch)):\n",
    "                \n",
    "        X0 = np.array([x0batch[j], y0batch[j]])  \n",
    "          \n",
    "        gradFmap11 = InterpolatedUnivariateSpline(time, gradFmap[:,0,0,j])\n",
    "        gradFmap12 = InterpolatedUnivariateSpline(time, gradFmap[:,0,1,j])\n",
    "        gradFmap21 = InterpolatedUnivariateSpline(time, gradFmap[:,1,0,j])\n",
    "        gradFmap22 = InterpolatedUnivariateSpline(time, gradFmap[:,1,1,j])\n",
    "        \n",
    "        if np.isfinite(np.sum(gradFmap[:,:,:].ravel())):\n",
    "            args = (gradFmap11, gradFmap12, gradFmap21, gradFmap22, B, nu)\n",
    "            result = sdeint.itoSRI2(close(f, *args), close(G, *args), X0, time)\n",
    "            x_stochastic.append(result[:,0])\n",
    "            y_stochastic.append(result[:,1])\n",
    "                \n",
    "        else:\n",
    "                \n",
    "            x_stochastic.append(np.zeros((len(time), ))*np.nan)\n",
    "            y_stochastic.append(np.zeros((len(time), ))*np.nan)\n",
    "    \n",
    "    return x_stochastic, y_stochastic\n",
    "\n",
    "gradFmap_batch = np.array_split(gradFmap, Ncores, axis = -1)\n",
    "x0_batch = np.array_split(x0_stochastic, Ncores)\n",
    "y0_batch = np.array_split(y0_stochastic, Ncores)\n",
    "\n",
    "# compute stochastic particle trajectories inside outermost elliptic SB\n",
    "Stochastic_trajectories = Parallel(n_jobs=Ncores)(delayed(stochastic_trajectories)(gradFmap_batch[i], x0_batch[i], y0_batch[i]) for i in range(len(x0_batch)))"
   ]
  },
  {
   "cell_type": "markdown",
   "metadata": {
    "ExecuteTime": {
     "end_time": "2021-12-21T09:48:02.673251Z",
     "start_time": "2021-12-21T09:44:47.425Z"
    }
   },
   "source": [
    "### Lagrangian stochastic simulation"
   ]
  },
  {
   "cell_type": "code",
   "execution_count": null,
   "metadata": {
    "ExecuteTime": {
     "end_time": "2021-12-29T23:30:42.932389Z",
     "start_time": "2021-12-29T23:29:21.787625Z"
    },
    "scrolled": true
   },
   "outputs": [],
   "source": [
    "####################################### Lagrangian stochastic simulation (animation) #######################################\n",
    "\n",
    "# import animation library\n",
    "from matplotlib.animation import FuncAnimation\n",
    "from IPython import display\n",
    "import matplotlib\n",
    "matplotlib.rcParams['animation.embed_limit'] = 2**128\n",
    "\n",
    "# transform stochastic trajectories from list object to a 2D array\n",
    "x_traj = []\n",
    "y_traj = []\n",
    "for traj in Stochastic_trajectories:\n",
    "    for idx in range(len(traj[0])):\n",
    "        x_traj.append(traj[0][idx])\n",
    "        y_traj.append(traj[1][idx])\n",
    "        \n",
    "x_traj = np.array(x_traj)\n",
    "y_traj = np.array(y_traj)\n",
    "c = np.array(c)\n",
    "\n",
    "# initialize figure\n",
    "fig = plt.figure(figsize = (8, 4), dpi = 600)\n",
    "ax = plt.axes()\n",
    "\n",
    "# Set axis limits\n",
    "ax.set_xlim([np.min(x_traj[:,0])-.5, np.max(x_traj[:,0])+.5])\n",
    "ax.set_ylim([np.min(y_traj[:,0])-.5, np.max(y_traj[:,0])+.5])\n",
    "\n",
    "# Set axis labels\n",
    "ax.set_xlabel(\"long (°)\", fontsize = 10)\n",
    "ax.set_ylabel(\"lat (°)\", fontsize = 10)\n",
    "\n",
    "# plot vortex boundaries\n",
    "for i in range(len(x_outermost_elliptic_SB)):\n",
    "    line, = ax.plot(x_outermost_elliptic_SB[i], y_outermost_elliptic_SB[i], c = \"k\", linewidth = 2)\n",
    "    \n",
    "# plot random closed curves\n",
    "for i in range(len(x_shifted)):\n",
    "    line, = ax.plot(x_shifted[i], y_shifted[i], '--', c = \"k\", linewidth = 2)\n",
    "    \n",
    "# initialize plot\n",
    "scat = ax.scatter([], [])\n",
    "\n",
    "label = ax.text(-2.5, -28.5, \"Elapsed time: \" + np.str(np.around(time[0], 2)) + \"d\", ha='center', va='center', fontsize=10, color=\"k\")\n",
    "\n",
    "def animate(frame):\n",
    "    \n",
    "    # update plot\n",
    "    scat.set_offsets(np.column_stack([x_traj[:,5*frame].ravel(), y_traj[:,5*frame].ravel()]))\n",
    "    scat.set_sizes(np.ones((c.shape[0], ))) # add size\n",
    "    scat.set_array(c) # add colors\n",
    "    scat.set_cmap('rainbow')\n",
    "    label.set_text(\"Elapsed time: \" + np.str(np.around(time[5*frame], 2)) + \"d\")\n",
    "    \n",
    "anim = FuncAnimation(fig, animate, frames = int(len(time)/5)+1, interval = 40, blit=False)\n",
    "video = anim.to_html5_video()\n",
    "html = display.HTML(anim.to_jshtml())\n",
    "display.display(html)\n",
    "plt.close()"
   ]
  },
  {
   "cell_type": "markdown",
   "metadata": {
    "ExecuteTime": {
     "end_time": "2021-12-21T13:35:02.644094Z",
     "start_time": "2021-12-21T13:35:02.640994Z"
    }
   },
   "source": [
    "The above figure displays the final positions of stochastic trajectories in the Lagrangian frame, initialized from the interiors of the closed black lines.\n",
    "\n",
    "The trajectories released from inside the elliptic Lagrangian stochastic barriers (red) remain confined within the stochastic barriers over the time-interval $ [t_0, t_N] $. Trajectories released from a shifted version of the elliptic stochastic barriers (violet) are more likely to penetrate the closed curves and exhibit a less coherent behaviour."
   ]
  },
  {
   "cell_type": "markdown",
   "metadata": {},
   "source": [
    "# References\n",
    "\n",
    "[1] Haller, G., Karrasch, D., & Kogelbauer, F. (2018). Material barriers to diffusive and stochastic transport. Proceedings of the National Academy of Sciences, 115(37), 9074-9079.\n",
    "\n",
    "[2] Notebook 8.5.1. in \"Transport Barriers and Coherent Structures in Flow Data\" by George Haller."
   ]
  }
 ],
 "metadata": {
  "kernelspec": {
   "display_name": "Python 3",
   "language": "python",
   "name": "python3"
  },
  "language_info": {
   "codemirror_mode": {
    "name": "ipython",
    "version": 3
   },
   "file_extension": ".py",
   "mimetype": "text/x-python",
   "name": "python",
   "nbconvert_exporter": "python",
   "pygments_lexer": "ipython3",
   "version": "3.7.12"
  },
  "toc": {
   "base_numbering": 1,
   "nav_menu": {},
   "number_sections": true,
   "sideBar": true,
   "skip_h1_title": false,
   "title_cell": "Table of Contents",
   "title_sidebar": "Contents",
   "toc_cell": false,
   "toc_position": {},
   "toc_section_display": true,
   "toc_window_display": false
  }
 },
 "nbformat": 4,
 "nbformat_minor": 4
}
