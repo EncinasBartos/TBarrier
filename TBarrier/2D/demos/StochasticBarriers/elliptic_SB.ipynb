{
 "cells": [
  {
   "cell_type": "markdown",
   "metadata": {},
   "source": [
    "Given that we have found a set of closed null geodesics, we now need to find the outermost closed null geodesic among those. "
   ]
  },
  {
   "cell_type": "markdown",
   "metadata": {},
   "source": [
    "| Name | Type (Shape) | Description |\n",
    "| --- | --- | --- |\n",
    "| closed_null_geodesics | list (N,) | list containing $ N $ closed null geodesics\n",
    "| x_elliptic | list | list containing x-coordinates of elliptic coherent structures\n",
    "| y_elliptic | list | list containing y-coordinates of elliptic coherent structures"
   ]
  },
  {
   "cell_type": "code",
   "execution_count": 3,
   "metadata": {
    "ExecuteTime": {
     "end_time": "2021-11-26T12:02:40.998213Z",
     "start_time": "2021-11-26T12:02:40.908453Z"
    }
   },
   "outputs": [],
   "source": [
    "# Import numpy\n",
    "import numpy as np\n",
    "\n",
    "# Import shapely library to create polygons and points\n",
    "from shapely.geometry import Polygon, Point\n",
    "\n",
    "# Import math tools\n",
    "from math import sqrt"
   ]
  },
  {
   "cell_type": "code",
   "execution_count": 4,
   "metadata": {
    "ExecuteTime": {
     "end_time": "2021-11-26T12:02:41.013173Z",
     "start_time": "2021-11-26T12:02:40.999244Z"
    },
    "scrolled": true
   },
   "outputs": [],
   "source": [
    "def elliptic_SB(closed_null_geodesics):\n",
    "    \n",
    "    Poly = []\n",
    "    Area = []\n",
    "    \n",
    "    # iterate over all geodesics\n",
    "    for geodesics in closed_null_geodesics:\n",
    "        \n",
    "        if np.sum(geodesics[0]) is not None:\n",
    "            \n",
    "            x = geodesics[0]\n",
    "            y = geodesics[1]\n",
    "        \n",
    "            # compute Polygon object of closed null geodesics\n",
    "            Poly.append(Polygon(zip(x, y)))\n",
    "            \n",
    "            # compute are of closed null geodesics\n",
    "            Area.append(Poly[-1].area)\n",
    "\n",
    "    # if no closed null geodesic is found then return 'nan'\n",
    "    if len(Area) == 0:\n",
    "        return None, None\n",
    "    \n",
    "    x_elliptic, y_elliptic = [], []\n",
    "    \n",
    "    # if only one closed null geodesic is found --> return it to main function as this is an elliptic SB.\n",
    "    if len(Area) == 1:\n",
    "        return x_elliptic.append(x), y_elliptic.append(y)\n",
    "    \n",
    "    Area_sorted, Poly_sorted = zip(*sorted(zip(Area, Poly), reverse = True))\n",
    "    \n",
    "    closed_elliptic_SB = []\n",
    "    \n",
    "    # iterate over all closed null geodesics\n",
    "    for idx, Poly_ in enumerate(Poly_sorted):\n",
    "        \n",
    "        # If first closed elliptic coherent structure, then set the center as a reference\n",
    "        if idx == 0:\n",
    "            \n",
    "            closed_elliptic_SB.append(Poly_)\n",
    "           \n",
    "        else:\n",
    "            \n",
    "            # assume that closed curve is a the outermost coherent structure\n",
    "            bool_create_vortex = True\n",
    "            \n",
    "            # iterate over all closed curves\n",
    "            for v in range(len(closed_elliptic_SB)):\n",
    "                \n",
    "                # If center of elliptic SB is contained inside the closed curve\n",
    "                # --> no new elliptic SB is created\n",
    "                if closed_elliptic_SB[v].contains(Poly_):\n",
    "                    bool_create_vortex = False\n",
    "                    break\n",
    "            \n",
    "            if bool_create_vortex:\n",
    "                # create new elliptic SB\n",
    "                closed_elliptic_SB.append(Poly_)\n",
    "    \n",
    "    # Iterate over all found elliptic SB and store the x/y coordinates.\n",
    "    for Poly_ in closed_elliptic_SB:\n",
    "        \n",
    "        coords = np.array(Poly_.exterior.coords)\n",
    "        \n",
    "        x = coords[:, 0]\n",
    "        y = coords[:, 1]\n",
    "        \n",
    "        x_elliptic.append(x)\n",
    "        y_elliptic.append(y)\n",
    "\n",
    "    return x_elliptic, y_elliptic"
   ]
  }
 ],
 "metadata": {
  "kernelspec": {
   "display_name": "Python 3",
   "language": "python",
   "name": "python3"
  },
  "language_info": {
   "codemirror_mode": {
    "name": "ipython",
    "version": 3
   },
   "file_extension": ".py",
   "mimetype": "text/x-python",
   "name": "python",
   "nbconvert_exporter": "python",
   "pygments_lexer": "ipython3",
   "version": "3.7.11"
  },
  "toc": {
   "base_numbering": 1,
   "nav_menu": {},
   "number_sections": true,
   "sideBar": true,
   "skip_h1_title": false,
   "title_cell": "Table of Contents",
   "title_sidebar": "Contents",
   "toc_cell": false,
   "toc_position": {},
   "toc_section_display": true,
   "toc_window_display": false
  }
 },
 "nbformat": 4,
 "nbformat_minor": 4
}
