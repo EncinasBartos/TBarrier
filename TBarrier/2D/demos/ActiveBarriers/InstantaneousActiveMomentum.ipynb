{
 "cells": [
  {
   "cell_type": "markdown",
   "id": "fa1a4d4d",
   "metadata": {},
   "source": [
    "This function computes the interpolant for the instantaneous momentum barrier equation:\n",
    "\n",
    "\\begin{equation}\n",
    " \\mathbf{x}'=\\nu \\rho \\mathbf{J} \\mathbf{\\nabla \\hat{\\omega} (\\mathbf{x}, t)}, \\label{eq: linearmomentum} \\tag{1}\n",
    "\\end{equation}\n",
    " \n",
    " where $ \\nu $ is the viscosity, $ \\rho $ the density of the fluid, $ \\mathbf{J} = \\begin{pmatrix} 0 && 1 \\\\ -1 && 0 \\end{pmatrix} $ and $ \\hat{\\omega} $ is the scalar valued vorticity in 2D.\n",
    " \n",
    "For simplicity we can normalize equation $ \\ref{eq: linearmomentum} $ by $ \\nu $ and $ \\rho $ and thus simply omit them for simplicity as they will play no role when exploring the structures of the field $ \\mathbf{x'} $."
   ]
  },
  {
   "cell_type": "markdown",
   "id": "a2b7f868",
   "metadata": {},
   "source": [
    "| Name | Type (Shape) | Description |\n",
    "| --- | --- | --- |\n",
    "| X | array (Ny, Nx)| X-meshgrid with Ny=Nx=1024 over which $ \\hat{\\omega}(\\mathbf{x}, t) $ is defined |\n",
    "| Y | array (Ny, Nx)| Y-meshgrid with Ny=Nx=1024 over which $ \\hat{\\omega}(\\mathbf{x}, t) $ is defined |\n",
    "| omega | array (Ny, Nx, N) | $ \\hat{\\omega}(\\mathbf{x}, t) $ with $ N = 251 $ being the resolution in time |\n",
    "| aux_grid | list (2,) | aux_grid[0]: dx_auxiliary spacing <br /> aux_grid[1]: dy_auxiliary spacing |\n",
    "| Interpolant_Jgrad_omega | list (2,) | Interpolant_Jgrad_omega[0]: Interpolant for x-component of $ \\mathbf{x}' $ <br /> Interpolant_Jgrad_omega[1]: Interpolant for y-component of $ \\mathbf{x}' $ |"
   ]
  },
  {
   "cell_type": "code",
   "execution_count": null,
   "id": "5543cb5f",
   "metadata": {},
   "outputs": [],
   "source": [
    "# import Rectangular bivariate spline from scipy\n",
    "from scipy.interpolate import RectBivariateSpline as RBS\n",
    "\n",
    "# Import numpy \n",
    "import numpy as np"
   ]
  },
  {
   "cell_type": "code",
   "execution_count": 3,
   "id": "f3d6f631",
   "metadata": {
    "ExecuteTime": {
     "end_time": "2021-12-13T21:16:21.911824Z",
     "start_time": "2021-12-13T21:16:21.902824Z"
    }
   },
   "outputs": [],
   "source": [
    "def InstantaneousActiveMomentum(X, Y, omega, aux_grid):\n",
    "    '''\n",
    "    Compute interpolant of right-hand-side of Eulerian momentum barrier equation.\n",
    "    \n",
    "    Parameters:\n",
    "        X:              array (NY, NX), X-meshgrid of data domain\n",
    "        Y:              array (NY, NX), Y-meshgrid of data domain\n",
    "        omega:          array (NY, NX), vorticity over meshgrid\n",
    "        aux_grid:       list(2,), specifies spacing of x/y auxiliary grid components\n",
    "        \n",
    "    Returns:\n",
    "        Interpolant_Jgrad_omega: list(2,) of Interpolant-objects for right-hand-side of Eulerian momentum barrier equation.\n",
    "        Interpolant_Jgrad_omega[0] --> Interpolant for x-component\n",
    "        Interpolant_Jgrad_omega[1] --> Interpolant for y-component\n",
    "    '''\n",
    "    \n",
    "    # auxiliary grid\n",
    "    rho_x = aux_grid[0]\n",
    "    rho_y = aux_grid[1]\n",
    "    \n",
    "    # compute interpolant for omega over meshgrid X, Y    \n",
    "    Interpolant_omega = RBS(Y[:,0], X[0,:], omega)\n",
    "    \n",
    "    Jgrad_omega = np.zeros((X.shape[0], X.shape[1], 2))\n",
    "    \n",
    "    # compute x'=J grad(omega), with J = [[0, 1], [-1, 0]]\n",
    "    for i in range(X.shape[0]):\n",
    "        \n",
    "        for j in range(Y.shape[1]):\n",
    "            \n",
    "            # apply periodic boundary conditions to point 'x'\n",
    "            x = np.array([X[i, j], Y[i, j]])\n",
    "            \n",
    "            # evaluate grad(omega) at 'x' using auxiliary grid\n",
    "            xR = x[0] + rho_x\n",
    "            OmegaR = Interpolant_omega(x[1], xR)[0][0]\n",
    "            \n",
    "            xL = x[0] - rho_x\n",
    "            OmegaL = Interpolant_omega(x[1], xL)[0][0]\n",
    "            \n",
    "            xU = x[1] + rho_y\n",
    "            OmegaU = Interpolant_omega(xU, x[0])[0][0]\n",
    "            \n",
    "            xD = x[1] - rho_y\n",
    "            OmegaD = Interpolant_omega(xD, x[0])[0][0]\n",
    "            \n",
    "            Jgrad_omega[i, j, 0] = -(OmegaU - OmegaD)/(2*rho_y)\n",
    "            Jgrad_omega[i, j, 1] = (OmegaR - OmegaL)/(2*rho_x)\n",
    "\n",
    "    Interpolant_Jgrad_omega = []\n",
    "    Interpolant_Jgrad_omega.append(RBS(Y[:,0], X[0,:], Jgrad_omega[:,:,0]))\n",
    "    Interpolant_Jgrad_omega.append(RBS(Y[:,0], X[0,:], Jgrad_omega[:,:,1]))\n",
    "    \n",
    "    return Interpolant_Jgrad_omega"
   ]
  }
 ],
 "metadata": {
  "kernelspec": {
   "display_name": "Python 3",
   "language": "python",
   "name": "python3"
  },
  "language_info": {
   "codemirror_mode": {
    "name": "ipython",
    "version": 3
   },
   "file_extension": ".py",
   "mimetype": "text/x-python",
   "name": "python",
   "nbconvert_exporter": "python",
   "pygments_lexer": "ipython3",
   "version": "3.7.12"
  },
  "toc": {
   "base_numbering": 1,
   "nav_menu": {},
   "number_sections": true,
   "sideBar": true,
   "skip_h1_title": false,
   "title_cell": "Table of Contents",
   "title_sidebar": "Contents",
   "toc_cell": false,
   "toc_position": {},
   "toc_section_display": true,
   "toc_window_display": false
  }
 },
 "nbformat": 4,
 "nbformat_minor": 5
}
