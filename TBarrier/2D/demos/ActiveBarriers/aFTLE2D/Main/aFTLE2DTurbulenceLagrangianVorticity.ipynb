{
 "cells": [
  {
   "cell_type": "markdown",
   "metadata": {},
   "source": [
    "# Add Folders to Path\n",
    "\n",
    "We start by adding the necessary folders to the current working path."
   ]
  },
  {
   "cell_type": "code",
   "execution_count": null,
   "metadata": {
    "ExecuteTime": {
     "end_time": "2021-12-26T17:33:19.700422Z",
     "start_time": "2021-12-26T16:55:33.121Z"
    }
   },
   "outputs": [],
   "source": [
    "%%time\n",
    "import sys, os\n",
    "\n",
    "# get current directory\n",
    "path = os.getcwd()\n",
    "\n",
    "# get parent directory\n",
    "parent_directory = os.path.sep.join(path.split(os.path.sep)[:-4])\n",
    "\n",
    "# add utils folder to current working path\n",
    "sys.path.append(parent_directory+\"/subfunctions/utils\")\n",
    "\n",
    "# add integration folder to current working path\n",
    "sys.path.append(parent_directory+\"/subfunctions/integration\")\n",
    "\n",
    "# add FTLE folder to current working path\n",
    "sys.path.append(parent_directory+\"/demos/AdvectiveBarriers/FTLE\")\n",
    "\n",
    "# add ActiveBarriers folder to current working path\n",
    "sys.path.append(parent_directory+\"/demos/ActiveBarriers\")"
   ]
  },
  {
   "cell_type": "markdown",
   "metadata": {},
   "source": [
    "# Overview\n",
    "\n",
    "We illustrate the numerical implementation and the use of the active Finite Time Lyapunov Exponent (aFTLE) on 2-D homogeneous, isotropic turbulence. The active LCS diagnostic is applied to the two-dimensional and steady Lagrangian vorticity barrier equation. The notebook is structured as follows:\n",
    "\n",
    "1. Import vorticity and velocity data stored in the folder 'data/Turbulence'. Make sure that all the necessary files are stored in the folder 'data/Turbulence'.\n",
    "<br />\n",
    "2. Define computational parameters (such as the number of cores) and data.\n",
    " <br />\n",
    "3. Define spatio-temporal domain.\n",
    " <br />\n",
    "4. Interpolate velocity from (discrete) gridded data.\n",
    " <br />\n",
    "5. Apply active Finite Time Lyapunov Exponent (aFTLE) to Lagrangian vorticity barrier equation:\n",
    "\n",
    "   <br />\n",
    "   \n",
    "   * For 2D incompressible, uniform-density Navier–Stokes flows, the Lagrangian barrier equation for vorticity is an autonomous Hamiltonian system of the form:\n",
    "    \n",
    "    \\begin{equation}\n",
    "    \\mathbf{x}_0'= \\dfrac{\\nu}{t_1-t_0} \\mathbf{J} \\nabla \\delta \\mathbf{\\omega (\\mathbf{x}_0, t_0,t_1)},\n",
    "    \\label{eq: vorticity},\n",
    "    \\end{equation}\n",
    "    \n",
    "    Time 't' is just a fixed parameter and hence the system is autonomous and the integration is done with respect to a dummy time variable 's'. 's' can be arbitrarily large and the aFTLE is only limited by the spatial resolution and domain. It can thus potentially reveal finer and more resolved structures compared to the classic version of the FTLE, which is fundamentally limited by the spatial and temporal domain of the available data.\n",
    "    \n",
    "    <br />\n",
    "    \n",
    "   * First we compute the trajectories over the time-interval [0, 25] over the selected domain. We then compute the right-hand-side of equation \\ref{eq: vorticity} by interpolating $ \\mathbf{J} \\mathbf{\\nabla_0 \\overline{\\omega (\\mathbf{F_{t_0}^{t}(x_0)}, t)}} $, where $ \\overline{(\\ldots)} $ denotes a temporal average.\n",
    "   \n",
    "   <br />\n",
    "   \n",
    "   * We then apply the aFTLE to the autonomous ODE from equation \\ref{eq: vorticity} over different 'dummy' time-intervals. We additionally compare the results with the classic FTLE-field."
   ]
  },
  {
   "cell_type": "markdown",
   "metadata": {},
   "source": [
    "# Import Data"
   ]
  },
  {
   "cell_type": "code",
   "execution_count": null,
   "metadata": {
    "ExecuteTime": {
     "end_time": "2021-12-26T17:33:19.700422Z",
     "start_time": "2021-12-26T16:55:33.158Z"
    }
   },
   "outputs": [],
   "source": [
    "%%time\n",
    "# import scipy\n",
    "import scipy.io\n",
    "\n",
    "# import numpy\n",
    "import numpy as np\n",
    "\n",
    "# load vorticity data\n",
    "turb_w = parent_directory + r'/data/Turbulence/turb_w'\n",
    "\n",
    "omega = np.zeros((1024, 1024, 251))\n",
    "\n",
    "# iterate over all files in folder 'turb_w' and load vorticity data\n",
    "i = 0\n",
    "for filename in sorted(os.listdir(turb_w)):\n",
    "    if filename.endswith(\".mat\"):\n",
    "        file_w = os.path.join(turb_w, filename)\n",
    "        mat_turb_w = scipy.io.loadmat(file_w)\n",
    "        omega[:,:,i] = mat_turb_w['w']\n",
    "        i+=1\n",
    "\n",
    "# load velocity data\n",
    "turb_u = parent_directory + r'/data/Turbulence/turb_u'\n",
    "      \n",
    "# iterate over all files in folder 'turb_u' and load velocity data\n",
    "i = 0\n",
    "U = np.zeros((1024, 1024, 251))\n",
    "V = np.zeros((1024, 1024, 251))\n",
    "for filename in sorted(os.listdir(turb_u)):\n",
    "    if filename.endswith(\".mat\"):\n",
    "        file_u = os.path.join(turb_u, filename)\n",
    "        mat_turb_u = scipy.io.loadmat(file_u)\n",
    "        U[:,:,i] = mat_turb_u['u1']\n",
    "        V[:,:,i] = mat_turb_u['u2']\n",
    "        i+=1\n",
    "\n",
    "# load x/y grid\n",
    "X = scipy.io.loadmat(parent_directory + r'/data/Turbulence/grid.mat')['x']\n",
    "Y = X.copy().transpose()"
   ]
  },
  {
   "cell_type": "markdown",
   "metadata": {},
   "source": [
    "# Computational parameters and data\n",
    "\n",
    "Here we define the computational parameters and the data."
   ]
  },
  {
   "cell_type": "code",
   "execution_count": null,
   "metadata": {
    "ExecuteTime": {
     "end_time": "2021-12-26T17:33:19.701417Z",
     "start_time": "2021-12-26T16:55:33.172Z"
    }
   },
   "outputs": [],
   "source": [
    "# Number of cores for parallel computing\n",
    "Ncores = 4\n",
    "\n",
    "# time-interval over which data is defined. DO NOT CHANGE!!!\n",
    "time_data = np.linspace(0, 50, 251, endpoint = True).reshape(1, -1)\n",
    "\n",
    "# time resolution of data\n",
    "dt_data = time_data[0,1]-time_data[0,0]\n",
    "\n",
    "# periodic boundary conditions\n",
    "periodic_x = True\n",
    "periodic_y = True\n",
    "periodic = [periodic_x, periodic_y]\n",
    "\n",
    "# unsteady velocity field\n",
    "bool_unsteady = True\n",
    "\n",
    "# defined domain\n",
    "# This array denotes where the velocity field is defined (=1) and where it is not defined (=0)\n",
    "defined_domain = np.isfinite(U[:,:,0]).astype(int)\n",
    "\n",
    "## resolution of meshgrid\n",
    "dx_data = X[0,1]-X[0,0]\n",
    "dy_data = Y[1,0]-Y[0,0]\n",
    "\n",
    "delta = [dx_data, dy_data]"
   ]
  },
  {
   "cell_type": "markdown",
   "metadata": {},
   "source": [
    "# Spatio-temporal domain\n",
    "\n",
    "Here we define the spatio-temporal domain over which to consider the dynamical system."
   ]
  },
  {
   "cell_type": "code",
   "execution_count": null,
   "metadata": {
    "ExecuteTime": {
     "end_time": "2021-12-26T17:33:19.702386Z",
     "start_time": "2021-12-26T16:55:33.187Z"
    }
   },
   "outputs": [],
   "source": [
    "%%time\n",
    "# Initial time (in days)\n",
    "t0 = 0\n",
    "\n",
    "# Final time (in days)\n",
    "tN = 25\n",
    "\n",
    "# time step-size\n",
    "dt = .2\n",
    "\n",
    "# Time resolution: N = len(time)\n",
    "time = np.arange(t0, tN+dt, dt)\n",
    "\n",
    "# length of time interval (in days)\n",
    "lenT = tN-t0\n",
    "\n",
    "# domain boundary (in degrees)\n",
    "xmin = 3\n",
    "xmax = 5\n",
    "ymin = 1\n",
    "ymax = 3\n",
    "\n",
    "# make sure that the spatio-temporal you defined are within the domain of the data\n",
    "assert (xmax <= np.max(X) and xmin >= np.min(X) and ymin >= np.min(Y) and ymax <= np.max(Y) and t0 >= np.min(time_data) and tN <= np.max(time_data)),\"The domains you are chooising are outside the domain of the data!!!!! --> redefine spatial/temporal domain\"\n",
    "\n",
    "# spacing of meshgrid (in degrees)\n",
    "dx = 0.002\n",
    "dy = 0.002\n",
    "\n",
    "x_domain = np.arange(xmin, xmax + dx, dx)\n",
    "y_domain = np.arange(ymin, ymax + dy, dy)\n",
    "\n",
    "X_domain, Y_domain = np.meshgrid(x_domain, y_domain)\n",
    "\n",
    "# define dummy time interval\n",
    "ds = 0.002\n",
    "sN = 0.25 # Feel free to change this parameter as needed\n",
    "s_dummy = np.arange(0, sN+ds, ds)\n",
    "\n",
    "# Define ratio of auxiliary grid spacing vs original grid_spacing\n",
    "aux_grid_ratio = .2 # [1/5, 1/100]\n",
    "aux_grid = [aux_grid_ratio*(X_domain[0, 1]-X_domain[0, 0]), aux_grid_ratio*(Y_domain[1, 0]-Y_domain[0, 0])]"
   ]
  },
  {
   "cell_type": "markdown",
   "metadata": {},
   "source": [
    "# Interpolate Velocity\n",
    "\n",
    "In order to evaluate the velocity field at arbitrary locations and times, we interpolate the discrete velocity data. The interpolation with respect to time is always linear. The interpolation with respect to space can be chosen to be \"cubic\" or \"linear\". Default value is \"cubic\"."
   ]
  },
  {
   "cell_type": "code",
   "execution_count": null,
   "metadata": {
    "ExecuteTime": {
     "end_time": "2021-12-26T17:33:19.702386Z",
     "start_time": "2021-12-26T16:55:33.200Z"
    }
   },
   "outputs": [],
   "source": [
    "%%time\n",
    "# Import interpolation function for unsteady flow field\n",
    "from ipynb.fs.defs.Interpolant import interpolant_unsteady\n",
    "\n",
    "# set nan values to zero so that we can apply interpolant. Interpolant does not work if the array contains nan values\n",
    "U[np.isnan(U)] = 0\n",
    "V[np.isnan(V)] = 0\n",
    "\n",
    "# Interpolate velocity data using cubic spatial interpolation\n",
    "Interpolant = interpolant_unsteady(X, Y, U, V, method = \"cubic\")\n",
    "\n",
    "Interpolant_u = Interpolant[0]\n",
    "Interpolant_v = Interpolant[1]"
   ]
  },
  {
   "cell_type": "markdown",
   "metadata": {},
   "source": [
    "# Compute trajectories"
   ]
  },
  {
   "cell_type": "code",
   "execution_count": null,
   "metadata": {
    "ExecuteTime": {
     "end_time": "2021-12-26T17:33:19.703414Z",
     "start_time": "2021-12-26T16:55:33.215Z"
    }
   },
   "outputs": [],
   "source": [
    "%%time\n",
    "# Import gradient of flow map\n",
    "from ipynb.fs.defs.gradient_flowmap import gradient_flowmap\n",
    "\n",
    "# Import package which computes flow map\n",
    "from ipynb.fs.defs.integration_dFdt import integration_dFdt\n",
    "\n",
    "# Import package for progress bar\n",
    "from tqdm.notebook import tqdm\n",
    "\n",
    "# Import package for parallel computing\n",
    "from joblib import Parallel, delayed\n",
    "\n",
    "# vectorize initial conditions by arranging them to a vector of size (Nx*Ny, 2)\n",
    "x0 = X_domain.ravel()\n",
    "y0 = Y_domain.ravel()\n",
    "\n",
    "# split x0, y0 into 'Ncores' (equal) batches for parallel computing\n",
    "def split(a, n):\n",
    "    k, m = divmod(len(a), n)\n",
    "    return (a[i*k+min(i, m):(i+1)*k+min(i+1, m)] for i in range(n))\n",
    "\n",
    "x0_batch = list(split(x0, Ncores))\n",
    "y0_batch = list(split(y0, Ncores))\n",
    "\n",
    "def parallel_Fmap(x0_batch, y0_batch):\n",
    "    \n",
    "    # Initial conditions\n",
    "    X0 = np.array([x0_batch, y0_batch])\n",
    "    \n",
    "    Fmap = integration_dFdt(time, X0, X, Y, Interpolant_u, Interpolant_v, periodic, bool_unsteady, dt_data)[0]\n",
    "    \n",
    "    return Fmap\n",
    "\n",
    "results = Parallel(n_jobs=Ncores, verbose = 50)(delayed(parallel_Fmap)(x0_batch[i], y0_batch[i]) for i in tqdm(range(len(x0_batch))))\n",
    "\n",
    "# extract FTLE field from results of parallel computing\n",
    "Fmap = results[0]\n",
    "\n",
    "for res in results[1:]:\n",
    "    Fmap = np.append(Fmap, res, axis = 2)\n",
    "    \n",
    "# reshape array from vectorized form to structured meshgrid\n",
    "X0_gridded = x0.reshape((X_domain.shape[0], X_domain.shape[1]))\n",
    "Y0_gridded = y0.reshape((X_domain.shape[0], X_domain.shape[1]))"
   ]
  },
  {
   "cell_type": "markdown",
   "metadata": {},
   "source": [
    "# Lagrangian vorticity barriers\n",
    "\n",
    "We visualize Lagrangian vorticity barriers by applying the FTLE-field to the trajectories of system \\ref{eq: vorticity}. As soon as the FTLE-field is applied to an active vector field, such as vorticity, we refer to it as aFTLE (active FTLE). We will subsequently compare the results with the classic version of the FTLE-field."
   ]
  },
  {
   "cell_type": "markdown",
   "metadata": {},
   "source": [
    "## Interpolate Lagrangian vorticity barrier field\n",
    "\n",
    "We start by computing the interpolant for the Lagrangian vorticity barrier field. The interpolant is given by the right-hand-side of equation \\ref{eq: vorticity}."
   ]
  },
  {
   "cell_type": "code",
   "execution_count": null,
   "metadata": {
    "ExecuteTime": {
     "end_time": "2021-12-26T17:33:19.704382Z",
     "start_time": "2021-12-26T16:55:33.246Z"
    }
   },
   "outputs": [],
   "source": [
    "%%time\n",
    "# Import interpolation function for Lagrangian vorticity barrier equation\n",
    "from ipynb.fs.defs.LagrangianActiveVorticity import LagrangianActiveVorticity\n",
    "\n",
    "# Interpolate RHS of vorticity barrier equation using cubic spatial interpolation\n",
    "Interpolant_vorticity = LagrangianActiveVorticity(X_domain, Y_domain, X, Y, omega, Fmap, time, dt_data, aux_grid)"
   ]
  },
  {
   "cell_type": "markdown",
   "metadata": {},
   "source": [
    "## Compute trajectories from barrier equation\n",
    "\n",
    "In the following we compute trajectories over a meshgrid. The integration is vectorized by arranging the initial conditions to a vector. As we need to compute the gradient of the flow map, we seed around each initial condition four particles on an auxiliary meshgrid. For each initial condition we hence have in total 5 particle trajectories (four auxiliary trajectories+original trajectory)."
   ]
  },
  {
   "cell_type": "code",
   "execution_count": null,
   "metadata": {
    "ExecuteTime": {
     "end_time": "2021-12-26T17:33:19.705378Z",
     "start_time": "2021-12-26T16:55:33.261Z"
    }
   },
   "outputs": [],
   "source": [
    "%%time\n",
    "# Import gradient of flow map\n",
    "from ipynb.fs.defs.RK4_integration import RK4_integration\n",
    "\n",
    "# Import package which computes eigenvalues/eigenvectors\n",
    "from ipynb.fs.defs.eigen import eigen\n",
    "\n",
    "# Import package for progress bar\n",
    "from tqdm.notebook import tqdm\n",
    "\n",
    "# Import package for parallel computing\n",
    "from joblib import Parallel, delayed\n",
    "\n",
    "# initial conditions of auxiliary grid\n",
    "x0_init, y0_init = X_domain.ravel(), Y_domain.ravel()\n",
    "x0_init_R = x0_init + aux_grid[0]\n",
    "x0_init_L = x0_init - aux_grid[0]\n",
    "y0_init_U = y0_init + aux_grid[1]\n",
    "y0_init_D = y0_init - aux_grid[1]\n",
    "\n",
    "# create array which stores solution of particle trajectories\n",
    "solODE = np.zeros((len(s_dummy), 2, len(x0_init), 5))\n",
    "        \n",
    "Interpolant_vorticity_x = Interpolant_vorticity[0]\n",
    "Interpolant_vorticity_y = Interpolant_vorticity[1]\n",
    "ds = s_dummy[1]-s_dummy[0]\n",
    "\n",
    "# initial conditions of auxiliary grid\n",
    "r0 = np.array([x0_init, y0_init]) # shape (len(x0_init), 2)\n",
    "r0R = np.array([x0_init_R, y0_init]) # shape (len(x0_init), 2)\n",
    "r0L = np.array([x0_init_L, y0_init]) # shape (len(x0_init), 2)\n",
    "r0U = np.array([x0_init, y0_init_U]) # shape (len(x0_init), 2)\n",
    "r0D = np.array([x0_init, y0_init_D]) # shape (len(x0_init), 2)\n",
    "\n",
    "# solODE stores trajectories launched from auxiliary grid\n",
    "solODE[0,:,:,0] = r0\n",
    "solODE[0,:,:,1] = r0R\n",
    "solODE[0,:,:,2] = r0L\n",
    "solODE[0,:,:,3] = r0U\n",
    "solODE[0,:,:,4] = r0D\n",
    "\n",
    "# iterate over all trajectories from auxiliary grid (this is parallellized)\n",
    "def trajectories_auxiliary_grid(solODE):\n",
    "    \n",
    "    solODE_parallel = solODE.copy()\n",
    "    \n",
    "    # iterate over dummy time\n",
    "    for i in range(len(s_dummy)-1):\n",
    "        solODE_parallel[i+1,:,:] = RK4_integration(solODE_parallel[i,:,:], ds, Interpolant_vorticity[0], Interpolant_vorticity[1])\n",
    "    \n",
    "    return solODE_parallel\n",
    "\n",
    "# compute trajectories over meshgrid\n",
    "solODE = np.array(Parallel(n_jobs=5, verbose = 0)(delayed(trajectories_auxiliary_grid)(solODE[:,:,:,i]) for i in range(5)))\n",
    "solODE= np.transpose(solODE, (1, 2, 3, 0))"
   ]
  },
  {
   "cell_type": "markdown",
   "metadata": {
    "ExecuteTime": {
     "end_time": "2021-12-13T21:13:38.388231Z",
     "start_time": "2021-12-13T21:13:38.373244Z"
    }
   },
   "source": [
    "## Compute active FTLE\n",
    "\n",
    "We now compute the active FTLE for the Lagrangian vorticity barrier equations. First, we evaluate the active Cauchy-Green strain tensor from the gradient of the active flow map over the meshgrid. The active flow map is given by the solution of the autonomous ODE from equation \\ref{eq: vorticity}. Finally, we apply the classic FTLE to the active Cauchy-Green strain tensor."
   ]
  },
  {
   "cell_type": "code",
   "execution_count": null,
   "metadata": {
    "ExecuteTime": {
     "end_time": "2021-12-26T17:33:19.706376Z",
     "start_time": "2021-12-26T16:55:33.277Z"
    }
   },
   "outputs": [],
   "source": [
    "# Import package for computing CauchyGreen (CG) strain tensor\n",
    "from ipynb.fs.defs.CauchyGreen import CauchyGreen\n",
    "\n",
    "# Import package for computing Finite-Time Lyapunov Exponent (FTLE)\n",
    "from ipynb.fs.defs.FTLE import _FTLE\n",
    "\n",
    "# compute aFTLE\n",
    "aFTLE = [[], [], []]\n",
    "\n",
    "s1 = 0.05\n",
    "s2 = 0.15\n",
    "s3 = 0.25\n",
    "\n",
    "s = [0.05, 0.15, 0.25]\n",
    "\n",
    "for i in tqdm(range(solODE.shape[2])):\n",
    "    \n",
    "    counter = 0\n",
    "    for idx in np.searchsorted(s_dummy, s):\n",
    "    \n",
    "        xR = solODE[idx,0,i,1]\n",
    "        xL = solODE[idx,0,i,2]\n",
    "        yR = solODE[idx,1,i,1]\n",
    "        yL = solODE[idx,1,i,2]\n",
    "    \n",
    "        xU = solODE[idx,0,i,3]\n",
    "        xD = solODE[idx,0,i,4]\n",
    "        yU = solODE[idx,1,i,3]\n",
    "        yD = solODE[idx,1,i,4]\n",
    "    \n",
    "        gradFmap = np.zeros((2,2))*np.nan\n",
    "    \n",
    "        gradFmap[0,0] = (xR-xL)/(2*aux_grid[0])\n",
    "        gradFmap[0,1] = (xU-xD)/(2*aux_grid[0])\n",
    "        gradFmap[1,0] = (yR-yL)/(2*aux_grid[1])\n",
    "        gradFmap[1,1] = (yU-yD)/(2*aux_grid[1])\n",
    "    \n",
    "        # aFTLE at over [0,s1]\n",
    "        aFTLE[counter].append(_FTLE(gradFmap, s_dummy[idx]))\n",
    "        \n",
    "        counter += 1"
   ]
  },
  {
   "cell_type": "markdown",
   "metadata": {
    "ExecuteTime": {
     "end_time": "2021-12-14T14:23:07.833763Z",
     "start_time": "2021-12-14T14:23:07.828777Z"
    }
   },
   "source": [
    "# Classic Finite-Time Lyapunov Exponent (FTLE)\n",
    "\n",
    "Next, we compute the FTLE over the meshgrid over the given time-interval.\n",
    "We iterate over all initial conditions and first calculate the gradient of the flow map using an auxiliary grid. 'aux_grid' specifies the ratio between the auxiliary grid and the original meshgrid. This parameter is generally chosen to be between $ \\left[\\dfrac{1}{100}, \\dfrac{1}{5}\\right] $. Subsequently, we compute the Cauchy Green strain tensor. From the maximum eigenvalue of the Cauchy-Green strain tensor we can then compute the FTLE. The iteration over the meshgrid is parallelized."
   ]
  },
  {
   "cell_type": "code",
   "execution_count": null,
   "metadata": {
    "ExecuteTime": {
     "end_time": "2021-12-26T17:33:19.706376Z",
     "start_time": "2021-12-26T16:55:33.297Z"
    }
   },
   "outputs": [],
   "source": [
    "%%time\n",
    "# Import gradient of flow map\n",
    "from ipynb.fs.defs.gradient_flowmap import gradient_flowmap\n",
    "\n",
    "# Import package which computes flow map\n",
    "from ipynb.fs.defs.integration_dFdt import integration_dFdt\n",
    "\n",
    "# Import package for computing CauchyGreen (CG) strain tensor\n",
    "from ipynb.fs.defs.CauchyGreen import CauchyGreen\n",
    "\n",
    "# Import package for computing Finite-Time Lyapunov Exponent (FTLE)\n",
    "from ipynb.fs.defs.FTLE import _FTLE\n",
    "\n",
    "# Import package for progress bar\n",
    "from tqdm.notebook import tqdm\n",
    "\n",
    "# Import package for parallel computing\n",
    "from joblib import Parallel, delayed\n",
    "\n",
    "# Define ratio of auxiliary grid spacing vs original grid_spacing\n",
    "aux_grid_ratio = .2 # [1/100, 1/5]\n",
    "aux_grid = [aux_grid_ratio*(X_domain[0, 1]-X_domain[0, 0]), aux_grid_ratio*(Y_domain[1, 0]-Y_domain[0, 0])]\n",
    "\n",
    "# vectorize initial conditions by arranging them to a vector of size (Nx*Ny, 2)\n",
    "x0 = X_domain.ravel()\n",
    "y0 = Y_domain.ravel()\n",
    "\n",
    "# split x0, y0 into 'Ncores' (equal) batches for parallel computing\n",
    "def split(a, n):\n",
    "    k, m = divmod(len(a), n)\n",
    "    return (a[i*k+min(i, m):(i+1)*k+min(i+1, m)] for i in range(n))\n",
    "\n",
    "x0_batch = list(split(x0, Ncores))\n",
    "y0_batch = list(split(y0, Ncores))\n",
    "\n",
    "def parallel_FTLE(x0_batch, y0_batch):\n",
    "    \n",
    "    # Initial conditions\n",
    "    X0 = np.array([x0_batch, y0_batch])\n",
    "\n",
    "    # Compute gradient of flow map\n",
    "    gradFmap = gradient_flowmap(time, X0, X, Y, Interpolant_u, Interpolant_v, periodic, defined_domain, bool_unsteady, dt_data, aux_grid) # shape (N, Nx*Ny, 2, 2)\n",
    "\n",
    "    # extract gradient from t0 to tN\n",
    "    gradFmap_t0_tN = gradFmap[-1,:, :, :] # shape (N, 2, 2, Nx*Ny)\n",
    "\n",
    "    # compute FTLE\n",
    "    FTLE = []\n",
    "    for i in range(gradFmap_t0_tN.shape[2]):\n",
    "        FTLE.append(_FTLE(CgradFmap_t0_tN[:,:,i], lenT))\n",
    "    \n",
    "    return FTLE\n",
    "\n",
    "results = Parallel(n_jobs=Ncores, verbose = 50)(delayed(parallel_FTLE)(x0_batch[i], y0_batch[i]) for i in tqdm(range(len(x0_batch))))\n",
    "\n",
    "# extract FTLE field from results of parallel computing\n",
    "FTLE = results[0]\n",
    "\n",
    "for res in results[1:]:\n",
    "    FTLE = np.append(FTLE, res)\n",
    "    \n",
    "# reshape array from vectorized form to structured meshgrid\n",
    "X0_gridded = x0.reshape((X_domain.shape[0], X_domain.shape[1]))\n",
    "Y0_gridded = y0.reshape((X_domain.shape[0], X_domain.shape[1]))\n",
    "FTLE = FTLE.reshape((X_domain.shape[0], X_domain.shape[1]))"
   ]
  },
  {
   "cell_type": "code",
   "execution_count": null,
   "metadata": {
    "ExecuteTime": {
     "end_time": "2021-12-26T17:33:19.707400Z",
     "start_time": "2021-12-26T16:55:33.299Z"
    }
   },
   "outputs": [],
   "source": [
    "################################################ PLOT RESULTS ################################################\n",
    "\n",
    "# Import plotting library\n",
    "import matplotlib.pyplot as plt\n",
    "\n",
    "# Figure/Axis\n",
    "fig, ((ax0, ax1), (ax2, ax3)) = plt.subplots(nrows=2, ncols=2, dpi = 600, figsize=(8, 7))\n",
    "\n",
    "# Contourplot of classic FTLE over the time-interval [0,25] over meshgrid of initial conditions\n",
    "cax = ax0.contourf(X_domain, Y_domain, FTLE, cmap = \"rainbow\", levels = 600)\n",
    "# Colorbar\n",
    "cbar = fig.colorbar(cax, ax = ax0, ticks = np.linspace(0, 0.4, 5))\n",
    "\n",
    "# Contourplot of aFTLE_0^0.05 over meshgrid of initial conditions\n",
    "cax = ax1.tricontourf(x0_init, y0_init, aFTLE[0], cmap = \"rainbow\", levels = 600)\n",
    "# Colorbar\n",
    "cbar = fig.colorbar(cax, ax = ax1, ticks = np.linspace(0, 100, 6))\n",
    "\n",
    "# Contourplot of aFTLE_0^0.15 over meshgrid of initial conditions\n",
    "cax = ax2.tricontourf(x0_init, y0_init, aFTLE[1], cmap = \"rainbow\", levels = 600)\n",
    "# Colorbar\n",
    "cbar = fig.colorbar(cax, ax = ax2, ticks = np.linspace(0, 100, 6))\n",
    "\n",
    "# Contourplot of aFTLE_0^0.25 over meshgrid of initial conditions\n",
    "cax = ax3.tricontourf(x0_init, y0_init, aFTLE[2], cmap = \"rainbow\", levels = 600)\n",
    "# Colorbar\n",
    "cbar = fig.colorbar(cax, ax = ax3, ticks = np.linspace(0, 50, 6))\n",
    "\n",
    "# Axis Labels\n",
    "ax2.set_ylabel(\"y\", fontsize = 10)\n",
    "ax2.set_xlabel(\"x\", fontsize = 10)\n",
    "ax3.set_xlabel(\"x\", fontsize = 10)\n",
    "ax0.set_ylabel(\"y\", fontsize = 10)\n",
    "\n",
    "# Axis ticks\n",
    "ax0.set_yticks(np.arange(np.min(Y_domain), np.max(Y_domain)+.1, 0.5))\n",
    "ax1.set_yticks(np.arange(np.min(Y_domain), np.max(Y_domain)+.1, 0.5))\n",
    "ax2.set_yticks(np.arange(np.min(Y_domain), np.max(Y_domain)+.1, 0.5))\n",
    "ax3.set_yticks(np.arange(np.min(Y_domain), np.max(Y_domain)+.1, 0.5))\n",
    "ax0.set_xticks(np.arange(np.min(X_domain), np.max(X_domain)+.1, 0.5))\n",
    "ax1.set_xticks(np.arange(np.min(X_domain), np.max(X_domain)+.1, 0.5))\n",
    "ax2.set_xticks(np.arange(np.min(X_domain), np.max(X_domain)+.1, 0.5))\n",
    "ax3.set_xticks(np.arange(np.min(X_domain), np.max(X_domain)+.1, 0.5))\n",
    "\n",
    "ax0.set_title(r'$\\mathrm{FTLE}$'+f'$_{{{np.around(time[0], 2)}}}^{{{np.around(time[-1], 2)}}}$'+r'($ \\mathbf{x}_0 $)')\n",
    "ax1.set_title(r'$ \\mathrm{aFTLE}$'+f'$_{{0,{np.around(s_dummy[0], 2)}}}^{{{np.around(s_dummy[np.searchsorted(s_dummy, s[0])], 2)}}}$'+r'($ \\mathbf{x}_0, \\mathbf{\\omega}$)', fontsize = 10)\n",
    "ax2.set_title(r'$ \\mathrm{aFTLE}$'+f'$_{{0,{np.around(s_dummy[0], 2)}}}^{{{np.around(s_dummy[np.searchsorted(s_dummy, s[1])], 2)}}}$'+r'($ \\mathbf{x}_0, \\mathbf{\\omega}$)', fontsize = 10)\n",
    "ax3.set_title(r'$ \\mathrm{aFTLE}$'+f'$_{{0,{np.around(s_dummy[0], 2)}}}^{{{np.around(s_dummy[np.searchsorted(s_dummy, s[2])], 2)}}}$'+r'($ \\mathbf{x}_0, \\mathbf{\\omega}$)', fontsize = 10)\n",
    "\n",
    "plt.show()"
   ]
  },
  {
   "cell_type": "markdown",
   "metadata": {},
   "source": [
    "The figures focus on vorticity-based active barriers in one of the vortical regions of the two-dimensional turbulence model. \n",
    "As expected the FTLE has a very weak signature when considering the instantaneous limit. On the other hand, the aFTLE provides a clear picture the main vortex and active hyperbolic barriers. The features become even more pronounced for longer s-times, revealing several secondary vortices around its neighbourhood. None of these vortices are present in the classic instantaneous FTLE. Ridges of the FTLE reveal barriers which block the transport of vorticity."
   ]
  },
  {
   "cell_type": "markdown",
   "metadata": {},
   "source": [
    "# References\n",
    "\n",
    "[1] Haller, G., Katsanoulis, S., Holzner, M., Frohnapfel, B., & Gatti, D. (2020). Objective barriers to the transport of dynamically active vector fields. Journal of Fluid Mechanics, 905."
   ]
  }
 ],
 "metadata": {
  "kernelspec": {
   "display_name": "Python 3",
   "language": "python",
   "name": "python3"
  },
  "language_info": {
   "codemirror_mode": {
    "name": "ipython",
    "version": 3
   },
   "file_extension": ".py",
   "mimetype": "text/x-python",
   "name": "python",
   "nbconvert_exporter": "python",
   "pygments_lexer": "ipython3",
   "version": "3.7.12"
  },
  "toc": {
   "base_numbering": 1,
   "nav_menu": {},
   "number_sections": true,
   "sideBar": true,
   "skip_h1_title": false,
   "title_cell": "Table of Contents",
   "title_sidebar": "Contents",
   "toc_cell": false,
   "toc_position": {},
   "toc_section_display": true,
   "toc_window_display": false
  }
 },
 "nbformat": 4,
 "nbformat_minor": 4
}
