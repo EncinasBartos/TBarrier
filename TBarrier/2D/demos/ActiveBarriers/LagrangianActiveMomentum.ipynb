{
 "cells": [
  {
   "cell_type": "markdown",
   "id": "d879e264",
   "metadata": {},
   "source": [
    "This function computes the interpolant for the Lagrangian linear momentum barrier equation:\n",
    "\n",
    " \\begin{equation}\n",
    " \\mathbf{x}_0'=\\nu \\rho \\mathbf{J} \\mathbf{\\nabla_0 \\overline{\\omega (\\mathbf{F_{t_0}^{t}(x_0)}, t)}},\n",
    " \\label{eq: linearmomentum} \n",
    " \\end{equation}\n",
    " \n",
    " where $ \\nu $ is the viscosity, $ \\rho $ the density of the fluid, $ \\mathbf{J} = \\begin{pmatrix} 0 && 1 \\\\ -1 && 0 \\end{pmatrix} $ and $ \\mathbf{\\omega} $ is the vorticity. $ \\overline{(\\ldots)} $ denotes a temporal average.\n",
    " \n",
    " For simplicity we can normalize equation $ \\ref{eq: linearmomentum} $ by $ \\nu $ and $ \\rho $ and thus simply omit them for simplicity as they will play no role when exploring the structures of the field $ \\mathbf{x'} $."
   ]
  },
  {
   "cell_type": "markdown",
   "id": "f19ca176",
   "metadata": {},
   "source": [
    "| Name | Type (Shape) | Description |\n",
    "| --- | --- | --- |\n",
    "| X_domain | array (Ny, Nx)| X-meshgrid of initial conditions |\n",
    "| Y_domain | array (Ny, Nx)| Y-meshgrid with Ny=Nx=1024 over which $ \\omega(\\mathbf{x}, t) $ is defined |\n",
    "| X | array (1024, 1024)| X-meshgrid over which $ \\omega(\\mathbf{x}, t) $ is defined |\n",
    "| Y | array (1024, 1024)| Y-meshgrid over which $ \\omega(\\mathbf{x}, t) $ is defined |\n",
    "| omega | array (1024, 1025, 251) | $ \\omega(\\mathbf{x}, t) $ |\n",
    "| Fmap | array (Ny, Nx, N) | $ \\mathbf{F}_{t_0}^{t}(\\mathbf{x}_0) $, with $ t \\in [t_0, t_1] $  |\n",
    "| time | array (N, ) | $ t \\in [t_0, t_1] $ |\n",
    "| dt_data| float| resolution of time-inteval of data |\n",
    "| aux_grid | list (2,) | aux_grid[0]: dx_auxiliary spacing <br /> aux_grid[1]: dy_auxiliary spacing |\n",
    "| Interpolant | list (2,) | Interpolant[0]: Interpolant for x-component of $ \\mathbf{x}' $ <br /> Interpolant[1]: Interpolant for y-component of $ \\mathbf{x}' $ |"
   ]
  },
  {
   "cell_type": "code",
   "execution_count": 1,
   "id": "f8599d16",
   "metadata": {
    "ExecuteTime": {
     "end_time": "2021-12-25T11:58:12.803632Z",
     "start_time": "2021-12-25T11:58:12.598263Z"
    }
   },
   "outputs": [],
   "source": [
    "# import Rectangular bivariate spline from scipy\n",
    "from scipy.interpolate import RectBivariateSpline as RBS\n",
    "\n",
    "# import package for progress bar\n",
    "from tqdm.notebook import tqdm\n",
    "\n",
    "# Import numpy \n",
    "import numpy as np"
   ]
  },
  {
   "cell_type": "code",
   "execution_count": 2,
   "id": "60329d61",
   "metadata": {
    "ExecuteTime": {
     "end_time": "2021-12-25T11:58:12.824275Z",
     "start_time": "2021-12-25T11:58:12.803632Z"
    }
   },
   "outputs": [],
   "source": [
    "def LagrangianActiveMomentum(X_domain, Y_domain, X, Y, omega, Fmap, time, dt_data, aux_grid):\n",
    "    \n",
    "    # auxiliary grid\n",
    "    rho_x = aux_grid[0]\n",
    "    rho_y = aux_grid[1]\n",
    "    \n",
    "    # iterate over all trajectories and compute omega along them\n",
    "    \n",
    "    # compute interpolant for omega over meshgrid X, Y over time\n",
    "    Interpolant_omega = []\n",
    "    for i in tqdm(range(omega.shape[2])):\n",
    "        Interpolant_omega.append(RBS(Y[:,0], X[0,:], omega[:,:,i]))\n",
    "    \n",
    "    Omega = np.zeros((Fmap.shape[0], Fmap.shape[2]))\n",
    "    counter = 0\n",
    "    \n",
    "    # evaluate omega at 'x' at time 't' \n",
    "    # iterate over time:\n",
    "    for i in time:\n",
    "        \n",
    "        k = int(i/dt_data)\n",
    "        \n",
    "        if k == Fmap.shape[0]-1:\n",
    "            \n",
    "            Omega[counter,:] = Interpolant_omega[k](Fmap[counter,1,:].ravel(), Fmap[counter,0,:].ravel(), grid = False)\n",
    "        \n",
    "        else:\n",
    "            \n",
    "            Omegai = Interpolant_omega[k](Fmap[counter,1,:].ravel(), Fmap[counter,0,:].ravel(), grid = False)\n",
    "            Omegaf = Interpolant_omega[k+1](Fmap[counter,1,:].ravel(), Fmap[counter,0,:].ravel(), grid = False)\n",
    "            Omega[counter,:] = ((k+1)*dt_data-i)/dt_data*Omegai + (i-k*dt_data)/dt_data*Omegaf\n",
    "        \n",
    "        counter += 1\n",
    "\n",
    "    Omega_avg = np.mean(Omega, axis = 0)\n",
    "    Omega_avg = Omega_avg.reshape((X_domain.shape[0], Y_domain.shape[1]))\n",
    "    \n",
    "    # Interpolant for average of omega\n",
    "    Interpolant_omega_avg = RBS(Y_domain[:,0], X_domain[0,:], Omega_avg)\n",
    "    \n",
    "    Jgrad_omega_avg = np.zeros((X_domain.shape[0], Y_domain.shape[1], 2))*np.nan\n",
    "        \n",
    "    # compute x'=J grad(average(omega)), with J = [[0, 1], [-1, 0]]\n",
    "    for i in range(X_domain.shape[0]):\n",
    "        \n",
    "        for j in range(Y_domain.shape[1]):\n",
    "            \n",
    "            # apply periodic boundary conditions to point 'x'\n",
    "            x = np.array([X_domain[i, j], Y_domain[i, j]])\n",
    "            \n",
    "            # evaluate grad(omega) at 'x' using auxiliary grid\n",
    "            xR = (x[0] + rho_x)%(X[0,-1]-X[0,0])\n",
    "            OmegaR = Interpolant_omega_avg(x[1], xR)[0][0]\n",
    "            \n",
    "            xL = (x[0] - rho_x)%(X[0,-1]-X[0,0])\n",
    "            OmegaL = Interpolant_omega_avg(x[1], xL)[0][0]\n",
    "            \n",
    "            xU = (x[1] + rho_y)%(Y[-1,0]-Y[0,0])\n",
    "            OmegaU = Interpolant_omega_avg(xU, x[0])[0][0]\n",
    "            \n",
    "            xD = (x[1] - rho_y)%(Y[-1,0]-Y[0,0])\n",
    "            OmegaD = Interpolant_omega_avg(xD, x[0])[0][0]\n",
    "            \n",
    "            Jgrad_omega_avg[i, j, 0] = -(OmegaU - OmegaD)/(2*rho_y)\n",
    "            Jgrad_omega_avg[i, j, 1] = (OmegaR - OmegaL)/(2*rho_x)\n",
    "    \n",
    "    Interpolant = []\n",
    "    Interpolant.append(RBS(Y_domain[:,0], X_domain[0,:], Jgrad_omega_avg[:,:,0]))\n",
    "    Interpolant.append(RBS(Y_domain[:,0], X_domain[0,:], Jgrad_omega_avg[:,:,1]))\n",
    "    \n",
    "    return Interpolant"
   ]
  }
 ],
 "metadata": {
  "kernelspec": {
   "display_name": "Python 3",
   "language": "python",
   "name": "python3"
  },
  "language_info": {
   "codemirror_mode": {
    "name": "ipython",
    "version": 3
   },
   "file_extension": ".py",
   "mimetype": "text/x-python",
   "name": "python",
   "nbconvert_exporter": "python",
   "pygments_lexer": "ipython3",
   "version": "3.7.12"
  },
  "toc": {
   "base_numbering": 1,
   "nav_menu": {},
   "number_sections": true,
   "sideBar": true,
   "skip_h1_title": false,
   "title_cell": "Table of Contents",
   "title_sidebar": "Contents",
   "toc_cell": false,
   "toc_position": {},
   "toc_section_display": true,
   "toc_window_display": false
  }
 },
 "nbformat": 4,
 "nbformat_minor": 5
}
