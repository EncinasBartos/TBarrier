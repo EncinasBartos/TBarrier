{
 "cells": [
  {
   "cell_type": "markdown",
   "metadata": {},
   "source": [
    "# Add Folders to Path\n",
    "\n",
    "We start by adding the necessary folders to the current working path."
   ]
  },
  {
   "cell_type": "code",
   "execution_count": 1,
   "metadata": {
    "ExecuteTime": {
     "end_time": "2021-12-15T22:27:56.374911Z",
     "start_time": "2021-12-15T22:27:56.367546Z"
    }
   },
   "outputs": [
    {
     "name": "stdout",
     "output_type": "stream",
     "text": [
      "CPU times: user 195 µs, sys: 136 µs, total: 331 µs\n",
      "Wall time: 234 µs\n"
     ]
    }
   ],
   "source": [
    "%%time\n",
    "import sys, os\n",
    "\n",
    "# get current directory\n",
    "path = os.getcwd()\n",
    "\n",
    "# get parent directory\n",
    "parent_directory = os.path.sep.join(path.split(os.path.sep)[:-4])\n",
    "\n",
    "# add utils folder to current working path\n",
    "sys.path.append(parent_directory+\"/subfunctions/utils\")\n",
    "\n",
    "# add integration folder to current working path\n",
    "sys.path.append(parent_directory+\"/subfunctions/integration\")\n",
    "\n",
    "# add PRA folder to current working path\n",
    "sys.path.append(parent_directory+\"/demos/AdvectiveBarriers/PRA\")\n",
    "\n",
    "# add ActiveBarriers folder to current working path\n",
    "sys.path.append(parent_directory+\"/demos/ActiveBarriers\")"
   ]
  },
  {
   "cell_type": "markdown",
   "metadata": {},
   "source": [
    "# Overview\n",
    "\n",
    "We illustrate the numerical implementation and the use of the active Finite Time Lyapunov Exponent (aFTLE) on 2-D homogeneous, isotropic turbulence. The active LCS diagnostic is applied to the two-dimensional and steady instantaneous linear momentum barrier equation. The notebook is structured as follows:\n",
    "\n",
    "1. Import vorticity and velocity data stored in the folder 'data/Turbulence'. Make sure that all the necessary files are stored in the folder 'data/Turbulence'.\n",
    "<br />\n",
    "2. Define computational parameters (such as the number of cores) and variables.\n",
    " <br />\n",
    "3. Define spatio-temporal domain.\n",
    " <br />\n",
    "4. Interpolate velocity from (discrete) gridded data.\n",
    " <br />\n",
    "5. Apply active Polar Rotation Angle (aPRA) to instantaneous vorticity barrier equation:\n",
    "\n",
    "   <br />\n",
    "    \n",
    "    For 2D incompressible, uniform-density Navier–Stokes flows, the Eulerian barrier equation for vorticity is an autonomous Hamiltonian system of the form:\n",
    "    \n",
    "    \\begin{equation}\n",
    "    \\mathbf{x}'(s)=\\nu \\rho \\mathbf{J} \\nabla \\dfrac{D}{Dt}\\mathbf{\\omega (\\mathbf{x}}, t),\n",
    "    \\label{eq: vorticity} \n",
    "    \\end{equation}\n",
    "    \n",
    "    Time 't' is just a fixed parameter and hence the system is autonomous and the integration is done with respect to a dummy time variable 's'. 's' can be arbitrarily large and the aPRA is only limited by the spatial resolution and domain. It can thus potentially reveal finer and more resolved structures compared to the classic version of the PRA, which is trivially zero in the instantaneous limit and hence does not succeed in higlighting elliptic barriers.\n",
    "    \n",
    "    <br />\n",
    "    \n",
    "   * We start by evaluating the right-hand-side of equation \\ref{eq: vorticity} by interpolating $ \\mathbf{J} \\nabla \\dfrac{D}{Dt}\\mathbf{\\omega (\\mathbf{x}}, t) $ over the spatial meshgrid.\n",
    "   \n",
    "   <br />\n",
    "   \n",
    "   * We then apply the aFTLE to the autonomous ODE from equation \\ref{eq: vorticity} on different 'dummy' time-intervals. "
   ]
  },
  {
   "cell_type": "markdown",
   "metadata": {},
   "source": [
    "# Import Data"
   ]
  },
  {
   "cell_type": "code",
   "execution_count": 2,
   "metadata": {
    "ExecuteTime": {
     "end_time": "2021-12-15T22:28:49.663384Z",
     "start_time": "2021-12-15T22:27:56.413615Z"
    }
   },
   "outputs": [
    {
     "name": "stdout",
     "output_type": "stream",
     "text": [
      "CPU times: user 50.3 s, sys: 2.86 s, total: 53.2 s\n",
      "Wall time: 53.2 s\n"
     ]
    }
   ],
   "source": [
    "%%time\n",
    "# import scipy\n",
    "import scipy.io\n",
    "\n",
    "# import numpy\n",
    "import numpy as np\n",
    "\n",
    "# load vorticity data\n",
    "turb_w = parent_directory + r'/data/Turbulence/turb_w'\n",
    "\n",
    "# iterate over all files in folder 'turb_w' and load vorticity data\n",
    "i = 0\n",
    "\n",
    "omega = np.zeros((1024, 1024, 251))\n",
    "for filename in sorted(os.listdir(turb_w)):\n",
    "    if filename.endswith(\".mat\"):\n",
    "        file_w = os.path.join(turb_w, filename)\n",
    "        mat_turb_w = scipy.io.loadmat(file_w)\n",
    "        omega[:,:,i] = mat_turb_w['w']\n",
    "        i+=1\n",
    "\n",
    "# load velocity data\n",
    "turb_u = parent_directory + r'/data/Turbulence/turb_u'\n",
    "      \n",
    "# iterate over all files in folder 'turb_u' and load velocity data\n",
    "i = 0\n",
    "U = np.zeros((1024, 1024, 251))\n",
    "V = np.zeros((1024, 1024, 251))\n",
    "for filename in sorted(os.listdir(turb_u)):\n",
    "    if filename.endswith(\".mat\"):\n",
    "        file_u = os.path.join(turb_u, filename)\n",
    "        mat_turb_u = scipy.io.loadmat(file_u)\n",
    "        U[:,:,i] = mat_turb_u['u1']\n",
    "        V[:,:,i] = mat_turb_u['u2']\n",
    "        i+=1\n",
    "        \n",
    "# load x/y grid\n",
    "X = scipy.io.loadmat(parent_directory + r'/data/Turbulence/grid.mat')['x']\n",
    "Y = X.copy().transpose()\n",
    "\n",
    "# undersample velocity field as dealing with the full resolution leads to long computational times. \n",
    "# Delete the upcoming four lines if you want complete resolution\n",
    "# U = U[::4, ::4, :]\n",
    "# V = V[::4, ::4, :]\n",
    "# X = X[::4, ::4]\n",
    "# Y = Y[::4, ::4]"
   ]
  },
  {
   "cell_type": "markdown",
   "metadata": {},
   "source": [
    "# Computational parameters and data\n",
    "\n",
    "Here we define the computational parameters and the data."
   ]
  },
  {
   "cell_type": "code",
   "execution_count": 3,
   "metadata": {
    "ExecuteTime": {
     "end_time": "2021-12-15T22:28:49.692640Z",
     "start_time": "2021-12-15T22:28:49.666908Z"
    }
   },
   "outputs": [],
   "source": [
    "# Number of cores for parallel computing\n",
    "Ncores = 18\n",
    "\n",
    "# time-interval over which data is defined\n",
    "time_data = np.linspace(0, 25, 251, endpoint = True).reshape(1, -1)\n",
    "\n",
    "# time resolution of data\n",
    "dt_data = time_data[0,1]-time_data[0,0]\n",
    "\n",
    "# periodic boundary conditions\n",
    "periodic_x = True\n",
    "periodic_y = True\n",
    "periodic = [periodic_x, periodic_y]\n",
    "\n",
    "# unsteady velocity field\n",
    "bool_unsteady = True\n",
    "\n",
    "# defined domain\n",
    "# This array denotes where the velocity field is defined (=1) and where it is not defined (=0)\n",
    "defined_domain = np.isfinite(U[:,:,0]).astype(int)\n",
    "\n",
    "## resolution of meshgrid\n",
    "dx_data = X[0,1]-X[0,0]\n",
    "dy_data = Y[1,0]-Y[0,0]\n",
    "\n",
    "delta = [dx_data, dy_data]"
   ]
  },
  {
   "cell_type": "markdown",
   "metadata": {},
   "source": [
    "# Spatio-temporal domain"
   ]
  },
  {
   "cell_type": "code",
   "execution_count": 4,
   "metadata": {
    "ExecuteTime": {
     "end_time": "2021-12-15T22:28:49.703741Z",
     "start_time": "2021-12-15T22:28:49.696804Z"
    }
   },
   "outputs": [],
   "source": [
    "# specify time at which to compute instantaneous momentum barriers (this should an integer in [0, 249])\n",
    "t0 = 0\n",
    "\n",
    "# specify domain over which to compute linear momentum barriers\n",
    "x_domain = np.linspace(4.2, 5, 250)\n",
    "y_domain = np.linspace(2.2, 3, 250)\n",
    "\n",
    "#compute meshgrid\n",
    "X_domain, Y_domain = np.meshgrid(x_domain, y_domain)\n",
    "\n",
    "# define dummy time interval\n",
    "ds = 0.001 \n",
    "sN = 0.25 # Feel free to change this parameter as needed\n",
    "s_dummy = np.arange(0, sN+ds, ds)\n",
    "\n",
    "# Define ratio of auxiliary grid spacing vs original grid_spacing\n",
    "aux_grid_ratio = .2 # [1/5, 1/100]\n",
    "aux_grid = [aux_grid_ratio*(X_domain[0, 1]-X_domain[0, 0]), aux_grid_ratio*(Y_domain[1, 0]-Y_domain[0, 0])]"
   ]
  },
  {
   "cell_type": "markdown",
   "metadata": {},
   "source": [
    "# Interpolate Velocity\n",
    "\n",
    "In order to evaluate the velocity field at arbitrary locations and times, we must interpolate the discrete velocity data. The interpolation with respect to time is always linear. The interpolation with respect to space can be chosen to be \"cubic\" or \"linear\"."
   ]
  },
  {
   "cell_type": "code",
   "execution_count": 5,
   "metadata": {
    "ExecuteTime": {
     "end_time": "2021-12-15T22:29:50.360738Z",
     "start_time": "2021-12-15T22:28:49.707238Z"
    }
   },
   "outputs": [
    {
     "name": "stdout",
     "output_type": "stream",
     "text": [
      "CPU times: user 59.2 s, sys: 1.42 s, total: 1min\n",
      "Wall time: 1min\n"
     ]
    }
   ],
   "source": [
    "%%time\n",
    "# Import interpolation function for unsteady flow field\n",
    "from ipynb.fs.defs.Interpolant import interpolant_unsteady\n",
    "\n",
    "# Interpolate velocity data using cubic spatial interpolation\n",
    "Interpolant_u = interpolant_unsteady(X, Y, U, V, time_data, method = \"cubic\")"
   ]
  },
  {
   "cell_type": "markdown",
   "metadata": {},
   "source": [
    "# Instantaneous vorticity barriers\n",
    "\n",
    "We visualize elliptic (closed) vorticity barriers by applying the PRA to the trajectories of system \\ref{eq: vorticity}. Whenever the PRA is applied to an active vector field, such as vorticity, we refer to it as aPRA (active PRA)."
   ]
  },
  {
   "cell_type": "code",
   "execution_count": 6,
   "metadata": {
    "ExecuteTime": {
     "end_time": "2021-12-15T22:36:58.833571Z",
     "start_time": "2021-12-15T22:29:50.365035Z"
    },
    "code_folding": []
   },
   "outputs": [
    {
     "data": {
      "application/vnd.jupyter.widget-view+json": {
       "model_id": "f749cd12c98b4fb3a99bf3305c86f1f8",
       "version_major": 2,
       "version_minor": 0
      },
      "text/plain": [
       "  0%|          | 0/1024 [00:00<?, ?it/s]"
      ]
     },
     "metadata": {},
     "output_type": "display_data"
    },
    {
     "name": "stdout",
     "output_type": "stream",
     "text": [
      "CPU times: user 6min 41s, sys: 2min 43s, total: 9min 25s\n",
      "Wall time: 7min 8s\n"
     ]
    }
   ],
   "source": [
    "%%time\n",
    "# Import interpolation function for instantaneous active momentum barrier equation\n",
    "from ipynb.fs.defs.InstantaneousActiveVorticity import InstantaneousActiveVorticity\n",
    "\n",
    "# Interpolate RHS of vorticity barrier equation using cubic spline interpolation\n",
    "Interpolant_vorticity = InstantaneousActiveVorticity(t0, X, Y, Interpolant_u, periodic, defined_domain, bool_unsteady, dt_data, delta, aux_grid, Ncores)"
   ]
  },
  {
   "cell_type": "markdown",
   "metadata": {
    "ExecuteTime": {
     "end_time": "2021-12-13T21:13:38.388231Z",
     "start_time": "2021-12-13T21:13:38.373244Z"
    }
   },
   "source": [
    "## Compute active PRA\n",
    "\n",
    "We now compute the active PRA for the instantaneous vorticity barrier equations. First, we evaluate the gradient of the active flow map. The active flow map is given by the solution of the autonomous ODE from equation \\ref{eq: vorticity}. Finally, we apply the classic PRA to the gradient of the active flow map."
   ]
  },
  {
   "cell_type": "code",
   "execution_count": null,
   "metadata": {
    "ExecuteTime": {
     "start_time": "2021-12-15T22:27:56.515Z"
    }
   },
   "outputs": [
    {
     "data": {
      "application/vnd.jupyter.widget-view+json": {
       "model_id": "50381b6ec711434eaca29ced9b1ebb2f",
       "version_major": 2,
       "version_minor": 0
      },
      "text/plain": [
       "  0%|          | 0/250 [00:00<?, ?it/s]"
      ]
     },
     "metadata": {},
     "output_type": "display_data"
    }
   ],
   "source": [
    "%%time\n",
    "# Import gradient of flow map\n",
    "from ipynb.fs.defs.ActiveGradientFlowMap import ActiveGradientFlowMap\n",
    "\n",
    "# Import package for progress bar\n",
    "from tqdm.notebook import tqdm\n",
    "\n",
    "# Import package for parallel computing\n",
    "from multiprocessing import Pool\n",
    "\n",
    "# Import package for computing Polar Rotation Angle (PRA)\n",
    "from ipynb.fs.defs.PRA import _PRA\n",
    "\n",
    "# parallel computation of active PRA over meshgrid.\n",
    "def parallel_aPRA(i):\n",
    "\n",
    "    aPRA_parallel = np.zeros((X_domain.shape[1], 3))*np.nan\n",
    "    \n",
    "    for j in range(X_domain.shape[1]):\n",
    "        \n",
    "        # set initial condition\n",
    "        x = np.array([X_domain[i, j], Y_domain[i, j]])%(2*np.pi)\n",
    "    \n",
    "        # compute active gradient of flow map from finite differencing using auxiliary grid\n",
    "        activegradFmap = ActiveGradientFlowMap(s_dummy, x, Interpolant_vorticity, aux_grid)\n",
    "        \n",
    "        # activegradFmap has shape (2, 2, len(s_dummy)) --> we need gradient of flow map from [0, 0.15] and from [0, 0.05]\n",
    "        \n",
    "        # activegradFmap from [0, 0.05]\n",
    "        activegradFmap_t0_t1 = activegradFmap[:,:,50]\n",
    "        \n",
    "        # activegradFmap from [0, 0.15]\n",
    "        activegradFmap_t0_t2 = activegradFmap[:,:,150]\n",
    "        \n",
    "        # activegradFmap from [0, 0.25]\n",
    "        activegradFmap_t0_t3 = activegradFmap[:,:,-1]\n",
    "            \n",
    "        # compute PRA from activegradFmap_t0_t1\n",
    "        aPRA_parallel[j, 0] = _PRA(activegradFmap_t0_t1)\n",
    "        \n",
    "        # compute PRA from activegradFmap_t0_t2\n",
    "        aPRA_parallel[j, 1] = _PRA(activegradFmap_t0_t2)\n",
    "        \n",
    "        # compute PRA from activegradFmap_t0_t3\n",
    "        aPRA_parallel[j, 2] = _PRA(activegradFmap_t0_t3)\n",
    "\n",
    "    return aPRA_parallel\n",
    "\n",
    "with Pool(Ncores) as p:\n",
    "    aPRA = list(tqdm(p.imap(parallel_aPRA, range(X_domain.shape[0])), total = X_domain.shape[0]))\n",
    "    \n",
    "p.close()\n",
    "p.join()\n",
    "aPRA = np.array(aPRA)"
   ]
  },
  {
   "cell_type": "code",
   "execution_count": null,
   "metadata": {
    "ExecuteTime": {
     "start_time": "2021-12-15T22:27:56.517Z"
    }
   },
   "outputs": [],
   "source": [
    "################################################ PLOT RESULTS ################################################\n",
    "\n",
    "# Import plotting library\n",
    "import matplotlib.pyplot as plt\n",
    "\n",
    "# Figure/Axis\n",
    "fig, (ax0, ax1, ax2) = plt.subplots(nrows=1, ncols=3, dpi = 600, figsize=(9, 3))\n",
    "\n",
    "# Contourplot of aPRA_0^0.05 over meshgrid of initial conditions\n",
    "cax = ax0.contourf(X_domain, Y_domain, aPRA[:,:,0], cmap = \"winter\", levels = 600)\n",
    "# Colorbar\n",
    "cbar = fig.colorbar(cax, ax = ax0, ticks = np.linspace(0, 3, 4))\n",
    "\n",
    "# Contourplot of aPRA_0^0.15 over meshgrid of initial conditions\n",
    "cax = ax1.contourf(X_domain, Y_domain, aPRA[:,:,1], cmap = \"winter\", levels = 600)\n",
    "# Colorbar\n",
    "cbar = fig.colorbar(cax, ax = ax1, ticks = np.linspace(0, 3, 4))\n",
    "\n",
    "# Contourplot of aPRA_0^0.25 over meshgrid of initial conditions\n",
    "cax = ax2.contourf(X_domain, Y_domain, aPRA[:,:,2], cmap = \"winter\", levels = 600)\n",
    "# Colorbar\n",
    "cbar = fig.colorbar(cax, ax = ax2, ticks = np.linspace(0, 3, 4))\n",
    "\n",
    "# Axis Labels\n",
    "ax2.set_xlabel(\"x\", fontsize = 10)\n",
    "ax0.set_xlabel(\"x\", fontsize = 10)\n",
    "ax0.set_ylabel(\"y\", fontsize = 10)\n",
    "ax1.set_xlabel(\"x\", fontsize = 10)\n",
    "\n",
    "ax0.set_title(r'$ \\mathrm{aPRA}$'+f'$_{{0,{np.around(s_dummy[0], 2)}}}^{{{np.around(s_dummy[50], 2)}}}$', fontsize = 10)\n",
    "ax1.set_title(r'$ \\mathrm{aPRA}$'+f'$_{{0,{np.around(s_dummy[0], 2)}}}^{{{np.around(s_dummy[150], 2)}}}$', fontsize = 10)\n",
    "ax2.set_title(r'$ \\mathrm{aPRA}$'+f'$_{{0,{np.around(s_dummy[0], 2)}}}^{{{np.around(s_dummy[-1], 2)}}}$', fontsize = 10)\n",
    "\n",
    "plt.show()"
   ]
  },
  {
   "cell_type": "markdown",
   "metadata": {},
   "source": [
    "The figures focus on elliptic active barriers to vorticity in one of the vortical regions of the two-dimensional turbulence model. The aPRA provides a clear picture of the main vortex. The features become even more pronounced for longer s-times, revealing several secondary vortices around its neighbourhood."
   ]
  }
 ],
 "metadata": {
  "kernelspec": {
   "display_name": "Python 3",
   "language": "python",
   "name": "python3"
  },
  "language_info": {
   "codemirror_mode": {
    "name": "ipython",
    "version": 3
   },
   "file_extension": ".py",
   "mimetype": "text/x-python",
   "name": "python",
   "nbconvert_exporter": "python",
   "pygments_lexer": "ipython3",
   "version": "3.7.11"
  },
  "toc": {
   "base_numbering": 1,
   "nav_menu": {},
   "number_sections": true,
   "sideBar": true,
   "skip_h1_title": false,
   "title_cell": "Table of Contents",
   "title_sidebar": "Contents",
   "toc_cell": false,
   "toc_position": {},
   "toc_section_display": true,
   "toc_window_display": false
  }
 },
 "nbformat": 4,
 "nbformat_minor": 4
}
