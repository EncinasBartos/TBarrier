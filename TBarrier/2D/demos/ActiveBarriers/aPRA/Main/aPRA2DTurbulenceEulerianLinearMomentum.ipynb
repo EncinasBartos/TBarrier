{
 "cells": [
  {
   "cell_type": "markdown",
   "metadata": {},
   "source": [
    "# Add Folders to Path\n",
    "\n",
    "We start by adding the necessary folders to the current working path."
   ]
  },
  {
   "cell_type": "code",
   "execution_count": 1,
   "metadata": {
    "ExecuteTime": {
     "end_time": "2021-12-19T01:50:07.504768Z",
     "start_time": "2021-12-19T01:50:07.500661Z"
    }
   },
   "outputs": [],
   "source": [
    "%%time\n",
    "import sys, os\n",
    "\n",
    "# get current directory\n",
    "path = os.getcwd()\n",
    "\n",
    "# get parent directory\n",
    "parent_directory = os.path.sep.join(path.split(os.path.sep)[:-4])\n",
    "\n",
    "# add utils folder to current working path\n",
    "sys.path.append(parent_directory+\"/subfunctions/utils\")\n",
    "\n",
    "# add integration folder to current working path\n",
    "sys.path.append(parent_directory+\"/subfunctions/integration\")\n",
    "\n",
    "# add PRA folder to current working path\n",
    "sys.path.append(parent_directory+\"/demos/AdvectiveBarriers/PRA\")\n",
    "\n",
    "# add ActiveBarriers folder to current working path\n",
    "sys.path.append(parent_directory+\"/demos/ActiveBarriers\")"
   ]
  },
  {
   "cell_type": "markdown",
   "metadata": {},
   "source": [
    "# Overview\n",
    "\n",
    "We illustrate the numerical implementation and the use of the active Polar Rotation (aPRA) on 2-D homogeneous, isotropic turbulence. The active elliptic LCS diagnostic is applied to the two-dimensional and steady instantaneous linear momentum barrier equation. The notebook is structured as follows:\n",
    "\n",
    "1. Import vorticity and velocity data stored in the folder 'data/Turbulence'. Make sure that all the necessary files are stored in the folder 'data/Turbulence'.\n",
    "<br />\n",
    "2. Define computational parameters (such as the number of cores) and variables.\n",
    " <br />\n",
    "3. Define spatio-temporal domain.\n",
    " <br />\n",
    "4. Interpolate velocity from (discrete) gridded data.\n",
    " <br />\n",
    "5. Apply active Polar Rotation Angle (aPRA) to instantaneous linear momentum barrier equation:\n",
    "\n",
    "   <br />\n",
    "   \n",
    "   * For 2D incompressible, uniform-density Navier–Stokes flows, the Eulerian barrier equation for linear momentum is an autonomous Hamiltonian system of the form:\n",
    "   \n",
    "   \\begin{equation}\n",
    "   \\mathbf{x'}(s) = \\nu \\rho \\mathbf{J}\\nabla \\mathbf{\\omega}(\\mathbf{x}, t)\n",
    "   \\label{eq: linearmoment}\n",
    "   \\end{equation}\n",
    "    \n",
    "    Time 't' is just a fixed parameter and hence the system is autonomous and the integration is done with respect to a dummy time variable 's'. 's' can be arbitrarily large and the aPRA is only limited by the spatial resolution and domain. It can thus potentially reveal finer and more resolved structures compared to the classic version of the PRA, which is trivially zero in the instantaneous limit and hence does not succeed in higlighting elliptic barriers.\n",
    "    \n",
    "    <br />\n",
    "    \n",
    "   * We start by evaluating the right-hand-side of equation \\ref{eq: linearmoment} by interpolating $ \\nabla \\mathbf{\\omega}(\\mathbf{x}, t) $ over the spatial meshgrid.\n",
    "   \n",
    "   <br />\n",
    "   \n",
    "   * Apply the aPRA to the autonomous ODE from equation \\ref{eq: linearmoment} on different 'dummy' time-intervals."
   ]
  },
  {
   "cell_type": "markdown",
   "metadata": {},
   "source": [
    "# Import Data"
   ]
  },
  {
   "cell_type": "code",
   "execution_count": 2,
   "metadata": {
    "ExecuteTime": {
     "end_time": "2021-12-19T01:50:46.547415Z",
     "start_time": "2021-12-19T01:50:07.526563Z"
    }
   },
   "outputs": [
    {
     "name": "stdout",
     "output_type": "stream",
     "text": [
      "CPU times: user 35.7 s, sys: 2.56 s, total: 38.3 s\n",
      "Wall time: 39 s\n"
     ]
    }
   ],
   "source": [
    "%%time\n",
    "# import scipy\n",
    "import scipy.io\n",
    "\n",
    "# import numpy\n",
    "import numpy as np\n",
    "\n",
    "# load vorticity data\n",
    "turb_w = parent_directory + r'/data/Turbulence/turb_w'\n",
    "\n",
    "omega = np.zeros((1024, 1024, 251))\n",
    "\n",
    "# iterate over all files in folder 'turb_w' and load vorticity data\n",
    "i = 0\n",
    "for filename in sorted(os.listdir(turb_w)):\n",
    "    if filename.endswith(\".mat\"):\n",
    "        file_w = os.path.join(turb_w, filename)\n",
    "        mat_turb_w = scipy.io.loadmat(file_w)\n",
    "        omega[:,:,i] = mat_turb_w['w']\n",
    "        i+=1\n",
    "\n",
    "# load velocity data\n",
    "turb_u = parent_directory + r'/data/Turbulence/turb_u'\n",
    "      \n",
    "# iterate over all files in folder 'turb_u' and load velocity data\n",
    "i = 0\n",
    "U = np.zeros((1024, 1024, 251))\n",
    "V = np.zeros((1024, 1024, 251))\n",
    "for filename in sorted(os.listdir(turb_u)):\n",
    "    if filename.endswith(\".mat\"):\n",
    "        file_u = os.path.join(turb_u, filename)\n",
    "        mat_turb_u = scipy.io.loadmat(file_u)\n",
    "        U[:,:,i] = mat_turb_u['u1']\n",
    "        V[:,:,i] = mat_turb_u['u2']\n",
    "        i+=1\n",
    "\n",
    "# load x/y grid\n",
    "X = scipy.io.loadmat(parent_directory + r'/data/Turbulence/grid.mat')['x']\n",
    "Y = X.copy().transpose()"
   ]
  },
  {
   "cell_type": "markdown",
   "metadata": {},
   "source": [
    "# Computational parameters and data\n",
    "\n",
    "Here we define the computational parameters and the data."
   ]
  },
  {
   "cell_type": "code",
   "execution_count": 3,
   "metadata": {
    "ExecuteTime": {
     "end_time": "2021-12-19T01:50:46.569606Z",
     "start_time": "2021-12-19T01:50:46.549184Z"
    }
   },
   "outputs": [],
   "source": [
    "# Number of cores for parallel computing\n",
    "Ncores = 8\n",
    "\n",
    "# time-interval over which data is defined\n",
    "time_data = np.linspace(0, 25, 251, endpoint = True).reshape(1, -1)\n",
    "\n",
    "# time resolution of data\n",
    "dt_data = time_data[0,1]-time_data[0,0]\n",
    "\n",
    "# periodic boundary conditions\n",
    "periodic_x = True\n",
    "periodic_y = True\n",
    "periodic = [periodic_x, periodic_y]\n",
    "\n",
    "# unsteady velocity field\n",
    "bool_unsteady = True\n",
    "\n",
    "# defined domain\n",
    "# This array denotes where the velocity field is defined (=1) and where it is not defined (=0)\n",
    "defined_domain = np.isfinite(U[:,:,0]).astype(int)\n",
    "\n",
    "## resolution of meshgrid\n",
    "dx_data = X[0,1]-X[0,0]\n",
    "dy_data = Y[1,0]-Y[0,0]\n",
    "\n",
    "delta = [dx_data, dy_data]"
   ]
  },
  {
   "cell_type": "markdown",
   "metadata": {},
   "source": [
    "# Spatio-temporal domain\n",
    "\n",
    "Here we define the spatio-temporal domain over which to consider the dynamical system."
   ]
  },
  {
   "cell_type": "code",
   "execution_count": 4,
   "metadata": {
    "ExecuteTime": {
     "end_time": "2021-12-19T01:50:46.575325Z",
     "start_time": "2021-12-19T01:50:46.571471Z"
    }
   },
   "outputs": [],
   "source": [
    "# specify time at which to compute instantaneous momentum barriers (this should an integer in [0, 249])\n",
    "t0 = 0\n",
    "\n",
    "# specify domain over which to compute linear momentum barriers\n",
    "x_domain = np.linspace(4.2, 5, 300)\n",
    "y_domain = np.linspace(2.2, 3, 300)\n",
    "\n",
    "#compute meshgrid\n",
    "X_domain, Y_domain = np.meshgrid(x_domain, y_domain)\n",
    "\n",
    "# define dummy time interval\n",
    "ds = 0.001 \n",
    "tN = 0.25 # Feel free to change this parameter as needed\n",
    "s_dummy = np.arange(0, tN+ds, ds)\n",
    "\n",
    "# Define ratio of auxiliary grid spacing vs original grid_spacing\n",
    "aux_grid_ratio = .2 # [1/5, 1/100]\n",
    "aux_grid = [aux_grid_ratio*(X_domain[0, 1]-X_domain[0, 0]), aux_grid_ratio*(Y_domain[1, 0]-Y_domain[0, 0])]"
   ]
  },
  {
   "cell_type": "markdown",
   "metadata": {},
   "source": [
    "# Instantaneous linear momentum barriers\n",
    "\n",
    "We visualize elliptic linear momentum barriers by applying the PRA to the trajectories of system \\ref{eq: linearmoment}. Whenever the PRA is applied to an active vector field, such as linear momentum, we refer to it as aPRA (active PRA)."
   ]
  },
  {
   "cell_type": "markdown",
   "metadata": {},
   "source": [
    "## Interpolate instantaneous momentum barrier field\n",
    "\n",
    "We start by computing the interpolant for the instantaneous momentum barrier field. The interpolant is given by the right-hand-side of equation \\ref{eq: linearmoment}."
   ]
  },
  {
   "cell_type": "code",
   "execution_count": 5,
   "metadata": {
    "ExecuteTime": {
     "end_time": "2021-12-19T01:51:06.328630Z",
     "start_time": "2021-12-19T01:50:46.577049Z"
    }
   },
   "outputs": [
    {
     "name": "stdout",
     "output_type": "stream",
     "text": [
      "CPU times: user 19.7 s, sys: 169 ms, total: 19.9 s\n",
      "Wall time: 19.7 s\n"
     ]
    }
   ],
   "source": [
    "%%time\n",
    "# Import interpolation function for instantaneous active momentum barrier equation\n",
    "from ipynb.fs.defs.InstantaneousActiveMomentum import InstantaneousActiveMomentum\n",
    "\n",
    "# Interpolate RHS of linear momentum barrier equation using cubic spatial interpolation\n",
    "Interpolant_momentum = InstantaneousActiveMomentum(X, Y, omega[:,:,t0], aux_grid)"
   ]
  },
  {
   "cell_type": "markdown",
   "metadata": {},
   "source": [
    "## Compute trajectories\n",
    "\n",
    "In the following we compute trajectories over a meshgrid. The integration is vectorized by arranging the initial conditions to a vector. As we need to compute the gradient of the flow map, we seed around each initial condition four particles on an auxiliary meshgrid. For each initial condition we hence have in total 5 particle trajectories (four auxiliary trajectories+original trajectory)."
   ]
  },
  {
   "cell_type": "code",
   "execution_count": null,
   "metadata": {
    "ExecuteTime": {
     "start_time": "2021-12-19T01:50:07.590Z"
    }
   },
   "outputs": [],
   "source": [
    "%%time\n",
    "# Import gradient of flow map\n",
    "from ipynb.fs.defs.RK4_integration import RK4_integration\n",
    "\n",
    "# Import package which computes eigenvalues/eigenvectors\n",
    "from ipynb.fs.defs.eigen import eigen\n",
    "\n",
    "# Import package for progress bar\n",
    "from tqdm.notebook import tqdm\n",
    "\n",
    "# Import package for parallel computing\n",
    "from joblib import Parallel, delayed\n",
    "\n",
    "# initial conditions of auxiliary grid\n",
    "x0_init, y0_init = X_domain.ravel(), Y_domain.ravel()\n",
    "x0_init_R = x0_init + aux_grid[0]\n",
    "x0_init_L = x0_init - aux_grid[0]\n",
    "y0_init_U = y0_init + aux_grid[1]\n",
    "y0_init_D = y0_init - aux_grid[1]\n",
    "\n",
    "# create array which stores solution of particle trajectories\n",
    "solODE = np.zeros((len(s_dummy), 2, len(x0_init), 5))\n",
    "        \n",
    "Interpolant_momentum_x = Interpolant_momentum[0]\n",
    "Interpolant_momentum_y = Interpolant_momentum[1]\n",
    "ds = s_dummy[1]-s_dummy[0]\n",
    "\n",
    "# initial conditions of auxiliary grid\n",
    "r0 = np.array([x0_init, y0_init]) # shape (len(x0_init), 2)\n",
    "r0R = np.array([x0_init_R, y0_init]) # shape (len(x0_init), 2)\n",
    "r0L = np.array([x0_init_L, y0_init]) # shape (len(x0_init), 2)\n",
    "r0U = np.array([x0_init, y0_init_U]) # shape (len(x0_init), 2)\n",
    "r0D = np.array([x0_init, y0_init_D]) # shape (len(x0_init), 2)\n",
    "\n",
    "# solODE stores trajectories launched from auxiliary grid\n",
    "solODE[0,:,:,0] = r0\n",
    "solODE[0,:,:,1] = r0R\n",
    "solODE[0,:,:,2] = r0L\n",
    "solODE[0,:,:,3] = r0U\n",
    "solODE[0,:,:,4] = r0D\n",
    "\n",
    "# iterate over all trajectories from auxiliary grid (this is parallellized)\n",
    "def trajectories_auxiliary_grid(solODE):\n",
    "    \n",
    "    solODE_parallel = solODE.copy()\n",
    "    \n",
    "    # iterate over dummy time\n",
    "    for i in range(len(s_dummy)-1):\n",
    "        solODE_parallel[i+1,:,:] = RK4_integration(solODE_parallel[i,:,:], ds, Interpolant_momentum[0], Interpolant_momentum[1])\n",
    "    \n",
    "    return solODE_parallel\n",
    "\n",
    "# compute trajectories over meshgrid\n",
    "solODE = np.array(Parallel(n_jobs=5, verbose = 0)(delayed(trajectories_auxiliary_grid)(solODE[:,:,:,i]) for i in range(5)))\n",
    "solODE= np.transpose(solODE, (1, 2, 3, 0))"
   ]
  },
  {
   "cell_type": "markdown",
   "metadata": {
    "ExecuteTime": {
     "end_time": "2021-12-13T21:13:38.388231Z",
     "start_time": "2021-12-13T21:13:38.373244Z"
    }
   },
   "source": [
    "## Compute active PRA\n",
    "\n",
    "We now compute the active PRA for the instantaneous linear momentum barrier equations. First, we evaluate the active Cauchy-Green strain tensor from the gradient of the active flow map over the meshgrid. The active flow map is given by the solution of the autonomous ODE from equation \\ref{eq: linearmoment}. Finally, we apply the classic PRA to the active Cauchy-Green strain tensor."
   ]
  },
  {
   "cell_type": "code",
   "execution_count": null,
   "metadata": {
    "ExecuteTime": {
     "start_time": "2021-12-19T01:50:07.611Z"
    }
   },
   "outputs": [],
   "source": [
    "# Import package for computing Polar Rotation Angle (FTLE)\n",
    "from ipynb.fs.defs.PRA import _PRA\n",
    "\n",
    "s = [0, 0.05, 0.15, 0.25]\n",
    "assert s[-1] <= np.max(s_dummy)\n",
    "\n",
    "# compute aPRA\n",
    "aPRA = [[], [], [], []]\n",
    "\n",
    "for i in tqdm(range(solODE.shape[2])):\n",
    "    \n",
    "    counter = 0\n",
    "    for idx in np.searchsorted(s_dummy, s):\n",
    "    \n",
    "        xR = solODE[idx,0,i,1]\n",
    "        xL = solODE[idx,0,i,2]\n",
    "        yR = solODE[idx,1,i,1]\n",
    "        yL = solODE[idx,1,i,2]\n",
    "    \n",
    "        xU = solODE[idx,0,i,3]\n",
    "        xD = solODE[idx,0,i,4]\n",
    "        yU = solODE[idx,1,i,3]\n",
    "        yD = solODE[idx,1,i,4]\n",
    "    \n",
    "        gradFmap = np.zeros((2,2))*np.nan\n",
    "    \n",
    "        gradFmap[0,0] = (xR-xL)/(2*aux_grid[0])\n",
    "        gradFmap[0,1] = (xU-xD)/(2*aux_grid[0])\n",
    "        gradFmap[1,0] = (yR-yL)/(2*aux_grid[1])\n",
    "        gradFmap[1,1] = (yU-yD)/(2*aux_grid[1])\n",
    "\n",
    "        # aPRA at over [0,s1]\n",
    "        aPRA[counter].append(_PRA(gradFmap))\n",
    "        \n",
    "        counter += 1"
   ]
  },
  {
   "cell_type": "code",
   "execution_count": null,
   "metadata": {
    "ExecuteTime": {
     "start_time": "2021-12-19T01:50:07.613Z"
    }
   },
   "outputs": [],
   "source": [
    "################################################ PLOT RESULTS ################################################\n",
    "\n",
    "# Import plotting library\n",
    "import matplotlib.pyplot as plt\n",
    "\n",
    "# Figure/Axis\n",
    "fig, ((ax0, ax1), (ax2, ax3)) = plt.subplots(nrows=2, ncols=2, dpi = 600, figsize=(8, 7))\n",
    "\n",
    "# Contourplot of aPRA_0^0 over meshgrid of initial conditions\n",
    "cax = ax0.tricontourf(x0_init, y0_init, aPRA[0], cmap = \"winter\", levels = 600)\n",
    "# Colorbar\n",
    "cbar = fig.colorbar(cax, ax = ax0, ticks = np.linspace(0, 3, 4))\n",
    "\n",
    "# Contourplot of aPRA_0^0.05 over meshgrid of initial conditions\n",
    "cax = ax1.tricontourf(x0_init, y0_init, aPRA[1], cmap = \"winter\", levels = 600)\n",
    "# Colorbar\n",
    "cbar = fig.colorbar(cax, ax = ax1, ticks = np.linspace(0, 3, 4))\n",
    "\n",
    "# Contourplot of aPRA_0^0.15 over meshgrid of initial conditions\n",
    "cax = ax2.tricontourf(x0_init, y0_init, aPRA[2], cmap = \"winter\", levels = 600)\n",
    "# Colorbar\n",
    "cbar = fig.colorbar(cax, ax = ax2, ticks = np.linspace(0, 3, 4))\n",
    "\n",
    "# Contourplot of aPRA_0^0.25 over meshgrid of initial conditions\n",
    "cax = ax3.tricontourf(x0_init, y0_init, aPRA[3], cmap = \"winter\", levels = 600)\n",
    "# Colorbar\n",
    "cbar = fig.colorbar(cax, ax = ax3, ticks = np.linspace(0, 3, 4))\n",
    "\n",
    "# Axis Labels\n",
    "ax2.set_xlabel(\"x\", fontsize = 10)\n",
    "ax3.set_xlabel(\"x\", fontsize = 10)\n",
    "ax0.set_ylabel(\"y\", fontsize = 10)\n",
    "ax1.set_ylabel(\"y\", fontsize = 10)\n",
    "\n",
    "ax0.set_title(r'$ \\mathrm{aPRA}$'+f'$_{{0,{np.around(s_dummy[0], 2)}}}^{{{np.around(s[0], 2)}}}$'+r'($\\rho \\mathbf{u}$)', fontsize = 10)\n",
    "ax1.set_title(r'$ \\mathrm{aPRA}$'+f'$_{{0,{np.around(s_dummy[0], 2)}}}^{{{np.around(s[1], 2)}}}$'+r'($\\rho \\mathbf{u}$)', fontsize = 10)\n",
    "ax2.set_title(r'$ \\mathrm{aPRA}$'+f'$_{{0,{np.around(s_dummy[0], 2)}}}^{{{np.around(s[2], 2)}}}$'+r'($\\rho \\mathbf{u}$)', fontsize = 10)\n",
    "ax3.set_title(r'$ \\mathrm{aPRA}$'+f'$_{{0,{np.around(s_dummy[0], 2)}}}^{{{np.around(s[3], 2)}}}$'+r'($\\rho \\mathbf{u}$)', fontsize = 10)\n",
    "\n",
    "plt.show()"
   ]
  },
  {
   "cell_type": "markdown",
   "metadata": {},
   "source": [
    "The figures focus on momentum-based active barriers in one of the vortical regions of the two-dimensional turbulence model. The aPRA provides a clear picture of the main vortex. The features become even more pronounced for longer s-times, revealing several secondary vortices around its neighbourhood."
   ]
  },
  {
   "cell_type": "markdown",
   "metadata": {},
   "source": [
    "# References\n",
    "\n",
    "[1] Haller, G., Katsanoulis, S., Holzner, M., Frohnapfel, B., & Gatti, D. (2020). Objective barriers to the transport of dynamically active vector fields. Journal of Fluid Mechanics, 905."
   ]
  }
 ],
 "metadata": {
  "kernelspec": {
   "display_name": "Python 3",
   "language": "python",
   "name": "python3"
  },
  "language_info": {
   "codemirror_mode": {
    "name": "ipython",
    "version": 3
   },
   "file_extension": ".py",
   "mimetype": "text/x-python",
   "name": "python",
   "nbconvert_exporter": "python",
   "pygments_lexer": "ipython3",
   "version": "3.7.12"
  },
  "toc": {
   "base_numbering": 1,
   "nav_menu": {},
   "number_sections": true,
   "sideBar": true,
   "skip_h1_title": false,
   "title_cell": "Table of Contents",
   "title_sidebar": "Contents",
   "toc_cell": false,
   "toc_position": {},
   "toc_section_display": true,
   "toc_window_display": false
  }
 },
 "nbformat": 4,
 "nbformat_minor": 4
}
