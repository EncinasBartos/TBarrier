{
 "cells": [
  {
   "cell_type": "markdown",
   "id": "cf7d7050",
   "metadata": {},
   "source": [
    "This function computes the interpolant for the instantaneous vorticity barrier equation:\n",
    "\n",
    " \\begin{equation}\n",
    " \\mathbf{x}'=\\nu \\rho \\mathbf{J} \\nabla \\dfrac{D}{Dt}\\mathbf{\\omega (\\mathbf{x}, t)},\n",
    " \\label{eq: vorticity} \\tag{1}\n",
    " \\end{equation}\n",
    " \n",
    " where $ \\nu $ is the viscosity, $ \\rho $ the density of the fluid, $ \\mathbf{J} = \\begin{pmatrix} 0 && 1 \\\\ -1 && 0 \\end{pmatrix} $ and $ \\mathbf{\\omega} $ is the vorticity.\n",
    " \n",
    " For simplicity we can normalize equation $ \\ref{eq: vorticity} $ by $ \\nu $ and $ \\rho $ and thus simply omit them as they play no role when exploring the structures of the field $ \\mathbf{x'} $.\n",
    " \n",
    " We compute $ \\mathbf{\\nabla}\\dfrac{D}{Dt}\\mathbf{\\omega}(\\mathbf{x},t) $ by advecting the trajectory starting at $ \\mathbf{x} $ over a very short segment in order to compute the acceleration of the particle at time 't'. From there we can then evalute the right hand side of equation \\ref{eq: vorticity} according to:\n",
    " \n",
    " \\begin{equation}\n",
    " \\nabla \\dfrac{D}{Dt}\\mathbf{\\omega}(\\mathbf{x},t) = \\nabla \\dfrac{D}{Dt} (\\nabla \\times \\mathbf{u}) = \\nabla (\\nabla \\times \\dfrac{D}{Dt} \\mathbf{u}) = \\nabla (\\nabla \\times \\mathbf{a}) \\tag{2},\n",
    " \\end{equation} where $ \\mathbf{a} $ is the acceleration and $ \\mathbf{u} $ is the velocity."
   ]
  },
  {
   "cell_type": "markdown",
   "id": "bba91aa4",
   "metadata": {},
   "source": [
    "| Name | Type (Shape) | Description |\n",
    "| --- | --- | --- |\n",
    "| t0 | float | time at which to evaluate instantaneous vorticity barrier equation|\n",
    "| X | array (Ny, Nx)| X-meshgrid with Ny=Nx=1024 |\n",
    "| Y | array (Ny, Nx)| Y-meshgrid with Ny=Nx=1024 |\n",
    "| Interpolant_u | RectangularBivariateSpline object | Interpolant for x-component of velocity field |\n",
    "| Interpolant_v | RectangularBivariateSpline object | Interpolant for y-component of velocity field |\n",
    "| periodic | list (3,) | periodic[0]: periodicity in x <br /> periodic[1]: periodicity in y <br /> periodic[2]: periodicity in time <br />|\n",
    "| defined_domain | array (Nx, Ny) | points on the meshgrid where velocity field is defined |\n",
    "| bool_unsteady | bool | specifies if velocity field is unsteady/steady |\n",
    "| dt_data | float | time spacing of the velocity data |\n",
    "| aux_grid | list (2,) | aux_grid[0]: dx_auxiliary spacing <br /> aux_grid[1]: dy_auxiliary spacing |\n",
    "| Interpolant_Jgrad_curl_acc | list (2,) | Interpolant[0]: Interpolant for x-component of $ \\mathbf{x}' $ <br /> Interpolant[1]: Interpolant for y-component of $ \\mathbf{x}' $ |"
   ]
  },
  {
   "cell_type": "code",
   "execution_count": 10,
   "id": "65707c3c",
   "metadata": {
    "ExecuteTime": {
     "end_time": "2021-12-15T14:28:16.956886Z",
     "start_time": "2021-12-15T14:28:16.950730Z"
    }
   },
   "outputs": [
    {
     "name": "stdout",
     "output_type": "stream",
     "text": [
      "/Users/enalex/OneDrive/TBarrier/TBarrier\n"
     ]
    }
   ],
   "source": [
    "import sys, os\n",
    "\n",
    "# get current directory\n",
    "path = os.getcwd()\n",
    "\n",
    "# get parent directory\n",
    "parent_directory = os.path.sep.join(path.split(os.path.sep)[:-3])\n",
    "\n",
    "# add utils folder to current working path\n",
    "sys.path.append(parent_directory+\"/subfunctions/utils\")"
   ]
  },
  {
   "cell_type": "code",
   "execution_count": 12,
   "id": "216a731b",
   "metadata": {
    "ExecuteTime": {
     "end_time": "2021-12-15T14:28:38.723655Z",
     "start_time": "2021-12-15T14:28:38.719756Z"
    }
   },
   "outputs": [],
   "source": [
    "# Import package for parallel computing\n",
    "from joblib import Parallel, delayed\n",
    "\n",
    "# Import package for progress bar\n",
    "from tqdm.notebook import tqdm\n",
    "\n",
    "# import Rectangular bivariate spline from scipy\n",
    "from scipy.interpolate import RectBivariateSpline as RBS\n",
    "\n",
    "# Import package for computing trajectories/velocity along trajectories\n",
    "from ipynb.fs.defs.integration_dFdt import integration_dFdt\n",
    "\n",
    "# Import numpy \n",
    "import numpy as np\n",
    "\n",
    "# Import math tools\n",
    "from math import pi"
   ]
  },
  {
   "cell_type": "code",
   "execution_count": 1,
   "id": "ef4e286a",
   "metadata": {
    "ExecuteTime": {
     "end_time": "2022-06-10T15:19:34.641752Z",
     "start_time": "2022-06-10T15:19:34.615831Z"
    },
    "code_folding": []
   },
   "outputs": [],
   "source": [
    "def InstantaneousActiveVorticity(t0, X, Y, Interpolant_u, Interpolant_v, periodic, defined_domain, bool_unsteady, time_data, aux_grid, Ncores, verbose=False):\n",
    "    '''\n",
    "    Compute interpolant of right-hand-side of Eulerian vorticity barrier equation.\n",
    "    \n",
    "    Parameters:\n",
    "        t:              float,  time instant  \n",
    "        x:              array (2,Npoints),  array of ICs\n",
    "        X:              array (NY, NX)  X-meshgrid of data domain\n",
    "        Y:              array (NY, NX)  Y-meshgrid of data domain\n",
    "        Interpolant_u:  Interpolant object for u(x, t)\n",
    "        Interpolant_v:  Interpolant object for v(x, t)\n",
    "        periodic:       list of 3 bools, periodic[i] is True if the flow is periodic in the ith coordinate. Time is i=3.\n",
    "        defined_domain: array(NY, NX), meshgrid defining domain where velocity field is defined. If 1 --> velocity field is defined elseif 0 --> velocity field is not defined.\n",
    "        bool_unsteady:  bool, specifies if velocity field is unsteady/steady\n",
    "        time_data:      array(1,NT), time data        \n",
    "        aux_grid:       list(2,), specifies spacing of x/y auxiliary grid components\n",
    "        Ncores:         int, Number of cores used for parallel computing\n",
    "        verbose:        bool, if True, function reports progress at every 100th iteration\n",
    "        \n",
    "    Returns:\n",
    "        Interpolant_Jgrad_curl_acc: list(2,) of Interpolant-objects for right-hand-side of Eulerian vorticity barrier equation.\n",
    "        Interpolant_Jgrad_curl_acc[0] --> Interpolant for x-component\n",
    "        Interpolant_Jgrad_curl_acc[1] --> Interpolant for y-component\n",
    "    '''\n",
    "    \n",
    "    # auxiliary grid\n",
    "    rho_x = aux_grid[0]\n",
    "    rho_y = aux_grid[1]\n",
    "    \n",
    "    # compute D/DT \\omega by advecting the particles over a short period of time starting at 't' and \n",
    "    # then calculate D/DT \\omega along the (ideally infinitesimally) short segment of the trajectory from the acceleration of the particle\n",
    "    \n",
    "    # This value can be even smaller. It just takes more time but computation becomes more accurate\n",
    "    dt = 0.1\n",
    "    \n",
    "    # Compute (ideally infinitesimally) short trajectories starting at $ t0 $\n",
    "    tspan = np.arange(t0, t0+2.1*dt, dt)\n",
    "    \n",
    "    Fmap = np.zeros((2, 3, X.shape[0]*Y.shape[1]))\n",
    "    \n",
    "    x0 = np.array([X.ravel(), Y.ravel()]).reshape(2,-1)\n",
    "    \n",
    "    dFdt = integration_dFdt(tspan, x0, X, Y, Interpolant_u, Interpolant_v, periodic, bool_unsteady, time_data, verbose=False)[1]\n",
    "    \n",
    "    acc_x = ((dFdt[1,0,:]-dFdt[0,0,:])/dt).reshape(X.shape[0], X.shape[1])\n",
    "    acc_y = ((dFdt[1,1,:]-dFdt[0,1,:])/dt).reshape(X.shape[0], X.shape[1])\n",
    "    \n",
    "    # compute interpolant for acc_x, acc_y over meshgrid X, Y    \n",
    "    Interpolant_acc_x = RBS(Y[:,0], X[0,:], acc_x, kx = 1, ky = 1)\n",
    "    Interpolant_acc_y = RBS(Y[:,0], X[0,:], acc_y, kx = 1, ky = 1)\n",
    "    \n",
    "    # Compute curl of instantaneous acceleration (acc_x, acc_y)\n",
    "    curl_acc = acc_x.copy()*0\n",
    "    for i in range(X.shape[0]):\n",
    "        for j in range(Y.shape[0]):\n",
    "            curl_acc[i, j] = (Interpolant_acc_y(Y[i, j], X[i, j]+rho_x)- Interpolant_acc_y(Y[i, j], X[i, j]-rho_x))/(2*rho_x)\n",
    "            curl_acc[i, j] -= (Interpolant_acc_x(Y[i, j]+rho_y, X[i, j])- Interpolant_acc_x(Y[i, j]-rho_y, X[i, j]))/(2*rho_y)\n",
    "\n",
    "    # Compute interpolants for curl_acc\n",
    "    Interpolant_curl_acc = RBS(Y[:,0], X[0,:], curl_acc, kx = 1, ky = 1)\n",
    "    \n",
    "    Jgrad_curl_acc = np.zeros((X.shape[0], X.shape[1], 2))\n",
    "    \n",
    "    # compute x'=J grad(curl_acc), with J = [[0, 1], [-1, 0]]\n",
    "    for i in range(X.shape[0]):\n",
    "        \n",
    "        if verbose and i%100==0:\n",
    "            print(\"Percentage completed: \", np.around(np.around(i/X.shape[0], 4)*100, 2))\n",
    "\n",
    "        for j in range(Y.shape[1]):\n",
    "            \n",
    "            # apply periodic boundary conditions to point 'x'\n",
    "            x = np.array([X[i, j], Y[i, j]])\n",
    "            \n",
    "            # evaluate grad(omega) at 'x' using auxiliary grid\n",
    "            xR = x[0] + rho_x\n",
    "            curl_accR = Interpolant_curl_acc(x[1], xR)[0][0]\n",
    "            \n",
    "            xL = x[0] - rho_x\n",
    "            curl_accL = Interpolant_curl_acc(x[1], xL)[0][0]\n",
    "            \n",
    "            xU = x[1] + rho_y\n",
    "            curl_accU = Interpolant_curl_acc(xU, x[0])[0][0]\n",
    "            \n",
    "            xD = x[1] - rho_y\n",
    "            curl_accD = Interpolant_curl_acc(xD, x[0])[0][0]\n",
    "            \n",
    "            Jgrad_curl_acc[i, j, 0] = -(curl_accU - curl_accD)/(2*rho_y)\n",
    "            Jgrad_curl_acc[i, j, 1] = (curl_accR - curl_accL)/(2*rho_x)\n",
    "\n",
    "    Interpolant_Jgrad_curl_acc = []\n",
    "    Interpolant_Jgrad_curl_acc.append(RBS(Y[:,0], X[0,:], Jgrad_curl_acc[:,:,0]))\n",
    "    Interpolant_Jgrad_curl_acc.append(RBS(Y[:,0], X[0,:], Jgrad_curl_acc[:,:,1]))\n",
    "    \n",
    "    return Interpolant_Jgrad_curl_acc"
   ]
  }
 ],
 "metadata": {
  "kernelspec": {
   "display_name": "Python 3",
   "language": "python",
   "name": "python3"
  },
  "language_info": {
   "codemirror_mode": {
    "name": "ipython",
    "version": 3
   },
   "file_extension": ".py",
   "mimetype": "text/x-python",
   "name": "python",
   "nbconvert_exporter": "python",
   "pygments_lexer": "ipython3",
   "version": "3.7.12"
  },
  "toc": {
   "base_numbering": 1,
   "nav_menu": {},
   "number_sections": true,
   "sideBar": true,
   "skip_h1_title": false,
   "title_cell": "Table of Contents",
   "title_sidebar": "Contents",
   "toc_cell": false,
   "toc_position": {},
   "toc_section_display": true,
   "toc_window_display": true
  }
 },
 "nbformat": 4,
 "nbformat_minor": 5
}
