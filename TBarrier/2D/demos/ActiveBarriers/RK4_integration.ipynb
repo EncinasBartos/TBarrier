{
 "cells": [
  {
   "cell_type": "code",
   "execution_count": 1,
   "metadata": {
    "ExecuteTime": {
     "end_time": "2021-12-17T15:24:57.373005Z",
     "start_time": "2021-12-17T15:24:57.237010Z"
    }
   },
   "outputs": [],
   "source": [
    "# Import math tools\n",
    "from math import pi\n",
    "\n",
    "# Import numpy\n",
    "import numpy as np"
   ]
  },
  {
   "cell_type": "code",
   "execution_count": 2,
   "metadata": {
    "ExecuteTime": {
     "end_time": "2021-12-17T15:24:58.249284Z",
     "start_time": "2021-12-17T15:24:58.245390Z"
    }
   },
   "outputs": [],
   "source": [
    "def RK4_integration(x1, ds, interpolant_x, interpolant_y):\n",
    "    \n",
    "    # Compute x_prime at the beginning of the time-step by re-orienting and rescaling the vector field\n",
    "    x_prime = _diff_equation(x1, interpolant_x, interpolant_y)\n",
    "    \n",
    "    # compute derivative\n",
    "    k1 = ds * x_prime\n",
    "\n",
    "    #  position and time at the first midpoint.\n",
    "    x2 = x1 + .5 * k1\n",
    "        \n",
    "    # Compute x_prime at the first midpoint.\n",
    "    x_prime = _diff_equation(x2, interpolant_x, interpolant_y)\n",
    "    \n",
    "    # compute derivative\n",
    "    k2 = ds * x_prime\n",
    "\n",
    "    # Update position at the second midpoint.\n",
    "    x3 = x1 + .5 * k2\n",
    "    \n",
    "    # Compute x_prime at the second midpoint.\n",
    "    x_prime = _diff_equation(x3, interpolant_x, interpolant_y)\n",
    "    \n",
    "    # compute derivative\n",
    "    k3 = ds * x_prime\n",
    "    \n",
    "    # Update position at the endpoint.\n",
    "    x4 = x1 + k3\n",
    "    \n",
    "    # Compute derivative at the end of the time-step.\n",
    "    x_prime = _diff_equation(x4, interpolant_x, interpolant_y) \n",
    "    \n",
    "    # compute derivative\n",
    "    k4 = ds * x_prime\n",
    "    \n",
    "    # Compute RK4 derivative\n",
    "    y_prime_update = 1.0 / 6.0*(k1 + 2 * k2 + 2 * k3 + k4)\n",
    "    \n",
    "    # Integration y <-- y + y_prime*ds\n",
    "    y_update = x1 + y_prime_update\n",
    "\n",
    "    return y_update, y_prime_update/ds"
   ]
  },
  {
   "cell_type": "code",
   "execution_count": 3,
   "metadata": {
    "ExecuteTime": {
     "end_time": "2021-12-17T15:24:59.429680Z",
     "start_time": "2021-12-17T15:24:59.426784Z"
    }
   },
   "outputs": [],
   "source": [
    "def _diff_equation(r, interpolant_x, interpolant_y):   \n",
    "    \n",
    "    # Position of particle (x, y)\n",
    "    x, y = r[0,:].ravel()%(2*pi), r[1,:].ravel()%(2*pi)   \n",
    "    \n",
    "    # Compute x' \n",
    "    x_dot = interpolant_x(y, x, grid=False)\n",
    "    y_dot = interpolant_y(y, x, grid=False)\n",
    "    \n",
    "    return np.array([x_dot, y_dot])"
   ]
  }
 ],
 "metadata": {
  "kernelspec": {
   "display_name": "Python 3",
   "language": "python",
   "name": "python3"
  },
  "language_info": {
   "codemirror_mode": {
    "name": "ipython",
    "version": 3
   },
   "file_extension": ".py",
   "mimetype": "text/x-python",
   "name": "python",
   "nbconvert_exporter": "python",
   "pygments_lexer": "ipython3",
   "version": "3.7.12"
  },
  "toc": {
   "base_numbering": 1,
   "nav_menu": {},
   "number_sections": true,
   "sideBar": true,
   "skip_h1_title": false,
   "title_cell": "Table of Contents",
   "title_sidebar": "Contents",
   "toc_cell": false,
   "toc_position": {},
   "toc_section_display": true,
   "toc_window_display": false
  }
 },
 "nbformat": 4,
 "nbformat_minor": 4
}
