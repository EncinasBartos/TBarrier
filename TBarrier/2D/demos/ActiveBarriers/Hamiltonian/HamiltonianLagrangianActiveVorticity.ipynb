{
 "cells": [
  {
   "cell_type": "markdown",
   "id": "9ea02c5f",
   "metadata": {},
   "source": [
    "This function computes the interpolant for the hamiltonian of the Lagrangian vorticity barrier equation:\n",
    "\n",
    " \\begin{equation}\n",
    " \\mathrm{H}_{t_0}^{t_N}(\\mathbf{x}_0) = \\dfrac{\\nu}{t_N-t_0} \\delta \\mathbf{\\omega (\\mathbf{x}_0, t_0,t_N)},\n",
    " \\label{eq: vorticity},\n",
    " \\end{equation}\n",
    " where $ \\nu $ is the viscosity and $ \\delta \\mathbf{\\omega (\\mathbf{x}_0, t_0,t_N)} = \\mathbf{\\omega} (\\mathbf{F}_{t_0}^{t_N}(\\mathbf{x}_0), t_1) - \\mathbf{\\omega}(\\mathbf{x}_0, t_0) $.\n",
    " \n",
    " For simplicity we can normalize equation $ \\ref{eq: vorticity} $ by $ \\nu $ and thus simply omit them."
   ]
  },
  {
   "cell_type": "markdown",
   "id": "0f341ce8",
   "metadata": {},
   "source": [
    "| Name | Type (Shape) | Description |\n",
    "| --- | --- | --- |\n",
    "| X | array (Ny, Nx)| X-meshgrid with Ny=Nx=1024 |\n",
    "| Y | array (Ny, Nx)| Y-meshgrid with Ny=Nx=1024 |\n",
    "| Interpolant_u | list (2,) | Interpolant_u[0]: Interpolant for x-component of velocity field <br /> Interpolant[1]: Interpolant for y-component of velocity field  |\n",
    "| t0 | float | time at which to evaluate instantaneous vorticity barrier equation|\n",
    "| periodic | list (2,) | periodic[0]: periodicity in x <br /> periodic[1]: periodicity in y <br />|\n",
    "| defined_domain | array (Nx, Ny) | points on the meshgrid where velocity field is defined |\n",
    "| bool_unsteady | bool | specifies if velocity field is unsteady/steady |\n",
    "| dt_data | float | time spacing of the velocity data |\n",
    "| delta | list (2,) | delta[0]: x-grid spacing of the velocity data <br /> delta[1]: y-grid spacing of the velocity data|\n",
    "| Interpolant_Jgrad_delta_omega | list (2,) | Interpolant[0]: Interpolant for x-component of $ \\mathbf{x}' $ <br /> Interpolant[1]: Interpolant for y-component of $ \\mathbf{x}' $ |"
   ]
  },
  {
   "cell_type": "code",
   "execution_count": null,
   "id": "48f898a1",
   "metadata": {},
   "outputs": [],
   "source": [
    "import sys, os\n",
    "\n",
    "# get current directory\n",
    "path = os.getcwd()\n",
    "\n",
    "# get parent directory\n",
    "parent_directory = os.path.sep.join(path.split(os.path.sep)[:-4])\n",
    "\n",
    "# add utils folder to current working path\n",
    "sys.path.append(parent_directory+\"/subfunctions/utils\")\n",
    "\n",
    "# add integration folder to current working path\n",
    "sys.path.append(parent_directory+\"/subfunctions/integration\")"
   ]
  },
  {
   "cell_type": "code",
   "execution_count": null,
   "id": "0e3a5f77",
   "metadata": {},
   "outputs": [],
   "source": [
    "# Import package for parallel computing\n",
    "from joblib import Parallel, delayed\n",
    "\n",
    "# Import package for progress bar\n",
    "from tqdm.notebook import tqdm\n",
    "\n",
    "# import Rectangular bivariate spline from scipy\n",
    "from scipy.interpolate import RectBivariateSpline as RBS\n",
    "\n",
    "# Import package for computing trajectories/velocity along trajectories\n",
    "from ipynb.fs.defs.integration_dFdt import integration_dFdt\n",
    "\n",
    "# Import numpy \n",
    "import numpy as np"
   ]
  },
  {
   "cell_type": "code",
   "execution_count": 3,
   "id": "92c95336",
   "metadata": {
    "ExecuteTime": {
     "end_time": "2021-12-13T21:16:21.911824Z",
     "start_time": "2021-12-13T21:16:21.902824Z"
    }
   },
   "outputs": [],
   "source": [
    "def HamiltonianLagrangianActiveVorticity(X_domain, Y_domain, X, Y, omega, Fmap, time, dt_data):\n",
    "    \n",
    "    # iterate over all trajectories and compute omega along them\n",
    "    \n",
    "    # compute interpolant for omega over meshgrid X, Y over time\n",
    "    Interpolant_omega = []\n",
    "    # vorticity at t_0\n",
    "    Interpolant_omega.append(RBS(Y[:,0], X[0,:], omega[:,:,0]))\n",
    "    \n",
    "    k = int(time[-1]/dt_data)\n",
    "    \n",
    "    if k >= Fmap.shape[0]-1:\n",
    "        Omega = omega[:,:,-1]\n",
    "        \n",
    "    elif k <= Fmap.shape[0]:\n",
    "        Omega = omega[:,:,0]\n",
    "        \n",
    "    else:\n",
    "        Omegai = Omega[:,:,k]\n",
    "        Omegaf = Omega[:,:,k+1]\n",
    "        Omega = ((k+1)*dt_data-time[-1])/dt_data*Omegai + (time[-1]-k*dt_data)/dt_data*Omegaf\n",
    "    \n",
    "    # vorticity at t = t1 (=time[-1])\n",
    "    Interpolant_omega.append(RBS(Y[:,0], X[0,:], Omega))\n",
    "    \n",
    "    # evaluate delta_omega at at time 't_1' \n",
    "    delta_omega = Interpolant_omega[-1](Fmap[-1,1,:].ravel(), Fmap[-1,0,:].ravel(), grid = False)-Interpolant_omega[0](Fmap[0,1,:].ravel(), Fmap[0,0,:].ravel(), grid = False)\n",
    "    \n",
    "    # Interpolant for delta_omega\n",
    "    Interpolant_delta_omega = RBS(Y_domain[:,0], X_domain[0,:], delta_omega.reshape((X_domain.shape[0], Y_domain.shape[1])))\n",
    "    \n",
    "    return Interpolant_delta_omega"
   ]
  }
 ],
 "metadata": {
  "kernelspec": {
   "display_name": "Python 3",
   "language": "python",
   "name": "python3"
  },
  "language_info": {
   "codemirror_mode": {
    "name": "ipython",
    "version": 3
   },
   "file_extension": ".py",
   "mimetype": "text/x-python",
   "name": "python",
   "nbconvert_exporter": "python",
   "pygments_lexer": "ipython3",
   "version": "3.7.12"
  },
  "toc": {
   "base_numbering": 1,
   "nav_menu": {},
   "number_sections": true,
   "sideBar": true,
   "skip_h1_title": false,
   "title_cell": "Table of Contents",
   "title_sidebar": "Contents",
   "toc_cell": false,
   "toc_position": {},
   "toc_section_display": true,
   "toc_window_display": false
  }
 },
 "nbformat": 4,
 "nbformat_minor": 5
}
