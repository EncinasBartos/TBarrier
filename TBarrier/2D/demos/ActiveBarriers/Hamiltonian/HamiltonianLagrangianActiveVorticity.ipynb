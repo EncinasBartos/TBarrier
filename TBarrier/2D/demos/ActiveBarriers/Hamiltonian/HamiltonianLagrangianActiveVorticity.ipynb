{
 "cells": [
  {
   "cell_type": "markdown",
   "id": "9ea02c5f",
   "metadata": {},
   "source": [
    "This function computes the interpolant for the hamiltonian of the Lagrangian vorticity barrier equation:\n",
    "\n",
    "\\begin{equation}\n",
    "\\mathrm{H}_{t_0}^{t_N}(\\mathbf{x}_0) = \\dfrac{\\nu}{t_N-t_0} \\delta \\mathbf{\\omega (\\mathbf{x}_0, t_0,t_N)} \\label{eq: vorticity} \\tag{1},\n",
    "\\end{equation}\n",
    "\n",
    "where $ \\nu $ is the viscosity and $ \\delta \\hat{\\omega} (\\mathbf{x}_0, t_0,t_N) = \\hat{\\omega} (\\mathbf{F}_{t_0}^{t_N}(\\mathbf{x}_0), t_1) - \\hat{\\omega}(\\mathbf{x}_0, t_0) $.\n",
    " \n",
    "For simplicity we can normalize equation $ \\ref{eq: vorticity} $ by $ \\nu $ and thus simply omit them."
   ]
  },
  {
   "cell_type": "markdown",
   "id": "0f341ce8",
   "metadata": {},
   "source": [
    "| Name | Type (Shape) | Description |\n",
    "| --- | --- | --- |\n",
    "| X_domain | array (Ny, Nx)| X-meshgrid of initial conditions |\n",
    "| Y_domain | array (Ny, Nx)| Y-meshgrid with Ny=Nx=1024 over which $ \\hat{\\omega}(\\mathbf{x}, t) $ is defined |\n",
    "| X | array (Ny, Nx)| X-meshgrid with Ny=Nx=1024 |\n",
    "| Y | array (Ny, Nx)| Y-meshgrid with Ny=Nx=1024 |\n",
    "| omega | array (1024, 1025, 251) | $ \\hat{\\omega}(\\mathbf{x}, t) $ |\n",
    "| Fmap | array (Ny, Nx, N) | $ \\mathbf{F}_{t_0}^{t}(\\mathbf{x}_0) $, with $ t \\in [t_0, t_1] $  |\n",
    "| time | array (N, ) | $ t \\in [t_0, t_1] $ |\n",
    "| time_data | array | time of the velocity data |\n",
    "| Interpolant_delta_omega |  RectBivariateSpline object | Interpolant for $ \\mathrm{H}_{t_0}^{t_N} $|"
   ]
  },
  {
   "cell_type": "code",
   "execution_count": null,
   "id": "48f898a1",
   "metadata": {},
   "outputs": [],
   "source": [
    "import sys, os\n",
    "\n",
    "# get current directory\n",
    "path = os.getcwd()\n",
    "\n",
    "# get parent directory\n",
    "parent_directory = os.path.sep.join(path.split(os.path.sep)[:-4])\n",
    "\n",
    "# add utils folder to current working path\n",
    "sys.path.append(parent_directory+\"/subfunctions/utils\")\n",
    "\n",
    "# add integration folder to current working path\n",
    "sys.path.append(parent_directory+\"/subfunctions/integration\")"
   ]
  },
  {
   "cell_type": "code",
   "execution_count": null,
   "id": "0e3a5f77",
   "metadata": {
    "code_folding": [
     0
    ],
    "run_control": {
     "marked": true
    }
   },
   "outputs": [],
   "source": [
    "# Import package for parallel computing\n",
    "from joblib import Parallel, delayed\n",
    "\n",
    "# Import package for progress bar\n",
    "from tqdm.notebook import tqdm\n",
    "\n",
    "# import Rectangular bivariate spline from scipy\n",
    "from scipy.interpolate import RectBivariateSpline as RBS\n",
    "\n",
    "# Import package for computing trajectories/velocity along trajectories\n",
    "from ipynb.fs.defs.integration_dFdt import integration_dFdt\n",
    "\n",
    "# Import numpy \n",
    "import numpy as np"
   ]
  },
  {
   "cell_type": "code",
   "execution_count": 3,
   "id": "92c95336",
   "metadata": {
    "ExecuteTime": {
     "end_time": "2021-12-13T21:16:21.911824Z",
     "start_time": "2021-12-13T21:16:21.902824Z"
    },
    "code_folding": []
   },
   "outputs": [],
   "source": [
    "def HamiltonianLagrangianActiveVorticity(X_domain, Y_domain, X, Y, omega, Fmap, time, time_data):\n",
    "    '''\n",
    "    Compute interpolant of right-hand-side of Lagrangian vorticity barrier equation.\n",
    "    \n",
    "    Parameters:\n",
    "        X_domain:  array(Ny, Nx), X-meshgrid of domain\n",
    "        Y_domain:  array(Ny, Nx), Y-meshgrid of domain\n",
    "        X:         array(NY, NX), X-meshgrid of data domain\n",
    "        Y:         array(NY, NX), Y-meshgrid of data domain\n",
    "        omega:     array(NY, NX, NT), 3D meshgrid of vorticity over spatial and temporal data domain\n",
    "        Fmap:      array(Nt, 2, Ny*Nx), Flow map of trajectories\n",
    "        time:      array(Nt, ), time\n",
    "        time_data: array(1,NT), time data\n",
    "        \n",
    "    Returns:\n",
    "        Interpolant_delta_omega: Interpolant for Hamiltonian\n",
    "    '''\n",
    "    \n",
    "    # iterate over all trajectories and compute omega along them\n",
    "    \n",
    "    # compute interpolant for omega over meshgrid X, Y over time\n",
    "    Interpolant_omega = []\n",
    "    # vorticity at t_0\n",
    "    Interpolant_omega.append(RBS(Y[:,0], X[0,:], omega[:,:,0]))\n",
    "    \n",
    "    dt_data = time_data[0,1]-time_data[0,0]\n",
    "    k = np.searchsorted(time_data[0,:], time[-1])\n",
    "    \n",
    "    if k >= time_data.shape[1]:\n",
    "    \n",
    "        Omega = (time_data[0,k+1]-time[-1])/dt_data*omega[:,:,k] + (time[-1]-time_data[0,k])/dt_data*omega[:,:,k+1]\n",
    "        \n",
    "    else:\n",
    "        \n",
    "        Omega = (time_data[0,k+1]-time[-1])/dt_data*omega[:,:,k] + (time[-1]-time_data[0,k])/dt_data*omega[:,:,k+1]\n",
    "    \n",
    "    # vorticity at t = tN (=time[-1])\n",
    "    Interpolant_omega.append(RBS(Y[:,0], X[0,:], Omega))\n",
    "    \n",
    "    # evaluate delta_omega at at time tN \n",
    "    delta_omega = Interpolant_omega[-1](Fmap[-1,1,:].ravel(), Fmap[-1,0,:].ravel(), grid = False)-Interpolant_omega[0](Fmap[0,1,:].ravel(), Fmap[0,0,:].ravel(), grid = False)\n",
    "    \n",
    "    # Interpolant for delta_omega\n",
    "    Interpolant_delta_omega = RBS(Y_domain[:,0], X_domain[0,:], delta_omega.reshape((X_domain.shape[0], Y_domain.shape[1])))\n",
    "    \n",
    "    return Interpolant_delta_omega"
   ]
  }
 ],
 "metadata": {
  "kernelspec": {
   "display_name": "Python 3",
   "language": "python",
   "name": "python3"
  },
  "language_info": {
   "codemirror_mode": {
    "name": "ipython",
    "version": 3
   },
   "file_extension": ".py",
   "mimetype": "text/x-python",
   "name": "python",
   "nbconvert_exporter": "python",
   "pygments_lexer": "ipython3",
   "version": "3.7.12"
  },
  "toc": {
   "base_numbering": 1,
   "nav_menu": {},
   "number_sections": true,
   "sideBar": true,
   "skip_h1_title": false,
   "title_cell": "Table of Contents",
   "title_sidebar": "Contents",
   "toc_cell": false,
   "toc_position": {},
   "toc_section_display": true,
   "toc_window_display": false
  }
 },
 "nbformat": 4,
 "nbformat_minor": 5
}
