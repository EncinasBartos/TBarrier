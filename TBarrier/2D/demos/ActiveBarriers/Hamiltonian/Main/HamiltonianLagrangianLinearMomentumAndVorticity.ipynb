{
 "cells": [
  {
   "cell_type": "markdown",
   "metadata": {},
   "source": [
    "We start by adding the necessary folders to the current working path."
   ]
  },
  {
   "cell_type": "code",
   "execution_count": 1,
   "metadata": {
    "ExecuteTime": {
     "end_time": "2022-02-12T15:35:16.098314Z",
     "start_time": "2022-02-12T15:35:16.085349Z"
    },
    "code_folding": [
     0
    ]
   },
   "outputs": [],
   "source": [
    "# import sys/os\n",
    "import sys, os\n",
    "\n",
    "# get current directory\n",
    "path = os.getcwd()\n",
    "\n",
    "# get parent directory\n",
    "parent_directory = os.path.sep.join(path.split(os.path.sep)[:-4])\n",
    "\n",
    "# add utils folder to current working path\n",
    "sys.path.append(parent_directory+\"/subfunctions/utils\")\n",
    "\n",
    "# add integration folder to current working path\n",
    "sys.path.append(parent_directory+\"/subfunctions/integration\")\n",
    "\n",
    "# add Hamiltonian folder to current working path\n",
    "sys.path.append(parent_directory+\"/demos/ActiveBarriers/Hamiltonian\")"
   ]
  },
  {
   "cell_type": "markdown",
   "metadata": {},
   "source": [
    "# Overview\n",
    "We illustrate the extraction of active barriers to the transport of momentum and vorticity as level sets of the Hamiltonian on 2-D homogeneous, isotropic turbulence. In 2D incompressible flows the Lagrangian (and also instantaneous) active barrier equations are Hamiltonians. Convex level sets surrounding local extrema of the appropriate Hamiltonian block the transport of linear momentum and vorticity. In order to extract closed convex level sets of the Hamiltonian we emply the contour-finding algorithm used in the [LAVD](../../../AdvectiveBarriers/LAVD2D/find_outermost_contour.ipynb)-computation. The notebook is structured as follows:\n",
    "\n",
    "1. Import vorticity and velocity data stored in the folder 'data/Turbulence'. Make sure that all the necessary files are stored in the folder 'data/Turbulence'.\n",
    "<br />\n",
    "2. Define computational parameters (such as the number of cores) and data.\n",
    " <br />\n",
    "3. Define spatio-temporal domain.\n",
    " <br />\n",
    "4. Interpolate velocity from (discrete) gridded data.\n",
    " <br />\n",
    "5. Compute Lagrangian particle trajectories over the specified time-interval.\n",
    "6. Compute Hamiltonian of Lagrangian linear momentum barrier equation:\n",
    "\n",
    "   <br />\n",
    "   \n",
    "   * For 2D incompressible, uniform-density Navier–Stokes flows, the Lagrangian barrier equation for linear momentum is an autonomous Hamiltonian system of the form:\n",
    "    \n",
    "     \\begin{equation}\n",
    "     \\mathbf{x}_0'=\\nu \\rho \\mathbf{J} \\mathbf{\\nabla_0 \\overline{\\omega (\\mathbf{F_{t_0}^{t}(\\mathbf{x}_0)}, t)}},\n",
    "     \\label{eq: linearmomentum} \n",
    "     \\end{equation}\n",
    "    \n",
    "    Time 't' is just a fixed parameter and hence the system is autonomous and the integration is done with respect to a dummy time variable 's'. 's' can be arbitrarily large.\n",
    "    \n",
    "    The Hamiltonian $ \\mathrm{H_m}_{t_0}^{t_N}(\\mathbf{x}_0) $ is given by:\n",
    "    \n",
    "    \\begin{equation}\n",
    "    \\mathrm{H_m}_{t_0}^{t_N}(\\mathbf{x}_0) = \\nu \\rho \\overline{\\omega (\\mathbf{F_{t_0}^t}(\\mathbf{x}_0), t)}, \\quad t \\in [t_0, t_N]\n",
    "    \\label{eq: HamiltonianLinearMomentum}\n",
    "    \\end{equation}\n",
    "    \n",
    "    <br />\n",
    "    \n",
    "   * We start by evaluating the right-hand-side of equation \\ref{eq: HamiltonianLinearMomentum} by interpolating $ \\overline{\\omega (\\mathbf{F_{t_0}^t}(\\mathbf{x}_0),t)} $ over the spatial meshgrid.\n",
    "   \n",
    "   <br />\n",
    "   \n",
    "   * We then find almost convex structurally stable level sets of $ \\mathrm{H_m}_{t_0}^{t_N}(\\mathbf{x}_0) $\n",
    "   \n",
    "   <br />\n",
    "   \n",
    "7. Compute Hamiltonian of Lagrangian vorticity barrier equation:\n",
    "\n",
    "   <br />\n",
    "   \n",
    "   * For 2D incompressible, uniform-density Navier–Stokes flows, the Lagrangian barrier equation for linear momentum is an autonomous Hamiltonian system of the form:\n",
    "   \n",
    "       \\begin{equation}\n",
    "       \\mathbf{x}_0' = \\dfrac{\\nu}{t_N-t_0} \\mathbf{J} \\nabla_0 \\delta \\mathbf{\\omega (\\mathbf{x}_0, t_0,t_N)}\n",
    "       \\label{eq: vorticity},\n",
    "       \\end{equation}\n",
    "   \n",
    "        where $ \\nu $ is the viscosity, $ \\mathbf{J} = \\begin{pmatrix} 0 && 1 \\\\ -1 && 0 \\end{pmatrix} $ and $ \\delta \\mathbf{\\omega (\\mathbf{x}_0, t_0,t_N)} = \\mathbf{\\omega} (\\mathbf{F}_{t_0}^{t_N}(\\mathbf{x}_0), t_N) - \\mathbf{\\omega}(\\mathbf{x}_0, t_0) $.\n",
    "    \n",
    "    Time 't' is just a fixed parameter and hence the system is autonomous and the integration is done with respect to a dummy time variable 's'. 's' can be arbitrarily large.\n",
    "    \n",
    "    The Hamiltonian $ \\mathrm{H_v}_{t_0}^{t_N}(\\mathbf{x}_0) $ of equation \\ref{eq: vorticity} is given by:\n",
    "    \n",
    "    \\begin{equation}\n",
    "    \\mathrm{H_v}_{t_0}^{t_N}(\\mathbf{x}_0) = \\dfrac{\\nu}{t_N-t_0} \\delta \\mathbf{\\omega (\\mathbf{x}_0, t_0,t_N)},\n",
    "    \\label{eq: HamiltonianVorticity}\n",
    "    \\end{equation}\n",
    "    \n",
    "    <br />\n",
    "    \n",
    "   * We start by evaluating the right-hand-side of equation \\ref{eq: HamiltonianVorticity} by interpolating $ \\delta \\mathbf{\\omega (\\mathbf{x}_0, t_0,t_N)} $ over the spatial meshgrid.\n",
    "   \n",
    "   <br />\n",
    "   \n",
    "   * We then find almost convex structurally stable level sets of $ \\mathrm{H_v}_{t_0}^{t_N}(\\mathbf{x}_0) $\n",
    " <br />\n",
    "8. References"
   ]
  },
  {
   "cell_type": "markdown",
   "metadata": {},
   "source": [
    "# Import data\n",
    "\n",
    "We start by importing the turbulence-data from the files located in the folder 'data/Turbulence'."
   ]
  },
  {
   "cell_type": "code",
   "execution_count": 2,
   "metadata": {
    "ExecuteTime": {
     "end_time": "2022-02-12T15:35:51.310527Z",
     "start_time": "2022-02-12T15:35:16.110282Z"
    },
    "code_folding": [
     0
    ]
   },
   "outputs": [],
   "source": [
    "# import scipy\n",
    "import scipy.io\n",
    "\n",
    "# import numpy\n",
    "import numpy as np\n",
    "\n",
    "# load vorticity data\n",
    "turb_w = parent_directory + r'/data/Turbulence/turb_w'\n",
    "\n",
    "omega = np.zeros((1024, 1024, 251))\n",
    "\n",
    "# iterate over all files in folder 'turb_w' and load vorticity data\n",
    "i = 0\n",
    "for filename in sorted(os.listdir(turb_w)):\n",
    "    if filename.endswith(\".mat\"):\n",
    "        file_w = os.path.join(turb_w, filename)\n",
    "        mat_turb_w = scipy.io.loadmat(file_w)\n",
    "        omega[:,:,i] = mat_turb_w['w']\n",
    "        i+=1\n",
    "\n",
    "# load velocity data\n",
    "turb_u = parent_directory + r'/data/Turbulence/turb_u'\n",
    "      \n",
    "# iterate over all files in folder 'turb_u' and load velocity data\n",
    "i = 0\n",
    "U = np.zeros((1024, 1024, 251))\n",
    "V = np.zeros((1024, 1024, 251))\n",
    "for filename in sorted(os.listdir(turb_u)):\n",
    "    if filename.endswith(\".mat\"):\n",
    "        file_u = os.path.join(turb_u, filename)\n",
    "        mat_turb_u = scipy.io.loadmat(file_u)\n",
    "        U[:,:,i] = mat_turb_u['u1']\n",
    "        V[:,:,i] = mat_turb_u['u2']\n",
    "        i+=1\n",
    "\n",
    "# load x/y grid\n",
    "X = scipy.io.loadmat(parent_directory + r'/data/Turbulence/grid.mat')['x']\n",
    "Y = X.copy().transpose()"
   ]
  },
  {
   "cell_type": "markdown",
   "metadata": {},
   "source": [
    "# Computational parameters and data\n",
    "\n",
    "Here we define the computational parameters and the data."
   ]
  },
  {
   "cell_type": "code",
   "execution_count": 3,
   "metadata": {
    "ExecuteTime": {
     "end_time": "2022-02-12T15:35:51.341446Z",
     "start_time": "2022-02-12T15:35:51.311497Z"
    },
    "code_folding": [
     0
    ]
   },
   "outputs": [],
   "source": [
    "# Number of cores for parallel computing\n",
    "Ncores = 7\n",
    "\n",
    "# time-interval over which data is defined\n",
    "time_data = np.linspace(0, 25, 251, endpoint = True).reshape(1, -1)\n",
    "\n",
    "# time resolution of data\n",
    "dt_data = time_data[0,1]-time_data[0,0]\n",
    "\n",
    "# periodic boundary conditions\n",
    "periodic_x = True\n",
    "periodic_y = True\n",
    "periodic_t = False\n",
    "periodic = [periodic_x, periodic_y, periodic_t]\n",
    "\n",
    "# unsteady velocity field\n",
    "bool_unsteady = True\n",
    "\n",
    "# defined domain\n",
    "# This array denotes where the velocity field is defined (=1) and where it is not defined (=0)\n",
    "defined_domain = np.isfinite(U[:,:,0]).astype(int)\n",
    "\n",
    "## resolution of meshgrid\n",
    "dx_data = X[0,1]-X[0,0]\n",
    "dy_data = Y[1,0]-Y[0,0]\n",
    "\n",
    "delta = [dx_data, dy_data]"
   ]
  },
  {
   "cell_type": "markdown",
   "metadata": {},
   "source": [
    "# Spatio-temporal domain\n",
    "\n",
    "Here we define the spatio-temporal domain over which to consider the dynamical system."
   ]
  },
  {
   "cell_type": "code",
   "execution_count": 4,
   "metadata": {
    "ExecuteTime": {
     "end_time": "2022-02-12T15:35:51.356405Z",
     "start_time": "2022-02-12T15:35:51.342414Z"
    },
    "code_folding": [
     0
    ]
   },
   "outputs": [],
   "source": [
    "# Initial time\n",
    "t0 = 0 # int\n",
    "\n",
    "# Final time\n",
    "tN = 25 # int\n",
    "\n",
    "# time step-size\n",
    "dt = .2 # float\n",
    "\n",
    "# Time array\n",
    "time = np.arange(t0, tN+dt, dt) # array (Nt, )\n",
    "\n",
    "# length of time interval (in days)\n",
    "lenT = tN-t0\n",
    "\n",
    "# domain boundary (in degrees)\n",
    "xmin = 3 # float [0, 2pi]\n",
    "xmax = 5 # float [0, 2pi]\n",
    "ymin = 1 # float [0, 2pi]\n",
    "ymax = 3 # float [0, 2pi]\n",
    "\n",
    "# make sure that the spatio-temporal you defined are within the domain of the data\n",
    "assert (xmax <= np.max(X) and xmin >= np.min(X) and ymin >= np.min(Y) and ymax <= np.max(Y) and t0 >= np.min(time_data) and tN <= np.max(time_data)),\"The domains you are chooising are outside the domain of the data!!!!! --> redefine spatial/temporal domain\"\n",
    "\n",
    "# resolution of meshgrid (in degrees)\n",
    "Nx = 300 # int\n",
    "Ny = 300 # int\n",
    "\n",
    "# NOTE: As we are computing spatial derivatives of the CG-tensor, the spacing of the meshgrid has to be sufficiently small.\n",
    "# However, choosing dx to be too small leads to (unnecessary) long computation times.\n",
    "\n",
    "x_domain = np.linspace(xmin, xmax, Nx) # array (Nx,)\n",
    "y_domain = np.linspace(ymin, ymax, Ny) # array (Ny,)\n",
    "\n",
    "# grid spacing\n",
    "dx = x_domain[1]-x_domain[0]\n",
    "dy = y_domain[1]-y_domain[0]\n",
    "\n",
    "X_domain, Y_domain = np.meshgrid(x_domain, y_domain)"
   ]
  },
  {
   "cell_type": "markdown",
   "metadata": {},
   "source": [
    "# Interpolate Velocity\n",
    "\n",
    "In order to evaluate the velocity field at arbitrary locations and times, we interpolate the discrete velocity data. The interpolation with respect to time is always linear. The interpolation with respect to space can be chosen to be \"cubic\" or \"linear\". Default value is \"cubic\"."
   ]
  },
  {
   "cell_type": "code",
   "execution_count": null,
   "metadata": {
    "ExecuteTime": {
     "start_time": "2022-02-12T15:35:16.147Z"
    },
    "code_folding": [
     0
    ],
    "run_control": {
     "marked": true
    }
   },
   "outputs": [],
   "source": [
    "# Import interpolation function for unsteady flow field\n",
    "from ipynb.fs.defs.Interpolant import interpolant_unsteady\n",
    "\n",
    "# set nan values to zero so that we can apply interpolant. Interpolant does not work if the array contains nan values\n",
    "U[np.isnan(U)] = 0\n",
    "V[np.isnan(V)] = 0\n",
    "\n",
    "# Interpolate velocity data using cubic spatial interpolation\n",
    "Interpolant = interpolant_unsteady(X, Y, U, V, method = \"cubic\")\n",
    "\n",
    "Interpolant_u = Interpolant[0] # RectangularBivariateSpline object\n",
    "Interpolant_v = Interpolant[1] # RectangularBivariateSpline object"
   ]
  },
  {
   "cell_type": "markdown",
   "metadata": {},
   "source": [
    "# Compute trajectories"
   ]
  },
  {
   "cell_type": "code",
   "execution_count": null,
   "metadata": {
    "ExecuteTime": {
     "start_time": "2022-02-12T15:35:16.160Z"
    },
    "code_folding": [
     0
    ]
   },
   "outputs": [],
   "source": [
    "# Import function to compute trajectories (=flow map)\n",
    "from ipynb.fs.defs.integration_dFdt import integration_dFdt\n",
    "\n",
    "# Import package for parallel computing\n",
    "from joblib import Parallel, delayed\n",
    "\n",
    "# vectorize initial conditions\n",
    "x0 = X_domain.ravel() # array (Nx*Ny, )\n",
    "y0 = Y_domain.ravel() # array (Nx*Ny, )\n",
    "\n",
    "# split x0, y0 into 'Ncores' (equal) batches for parallel computing\n",
    "def split(a, n):\n",
    "    k, m = divmod(len(a), n)\n",
    "    return (a[i*k+min(i, m):(i+1)*k+min(i+1, m)] for i in range(n))\n",
    "\n",
    "x0_batch = list(split(x0, Ncores)) # list (Nx*Ny,)\n",
    "y0_batch = list(split(y0, Ncores)) # list (Nx*Ny,)\n",
    "\n",
    "def parallel_Fmap(x0_batch, y0_batch):\n",
    "    \n",
    "    # Initial conditions\n",
    "    X0 = np.array([x0_batch, y0_batch]) # array (2, Nx*Ny)\n",
    "    \n",
    "    Fmap = integration_dFdt(time, X0, X, Y, Interpolant_u, Interpolant_v, periodic, bool_unsteady, time_data)[0] # array (Nt, 2, Nx*Ny)\n",
    "    \n",
    "    return Fmap\n",
    "\n",
    "results = Parallel(n_jobs=Ncores, verbose = 50)(delayed(parallel_Fmap)(x0_batch[i], y0_batch[i]) for i in range(len(x0_batch)))\n",
    "\n",
    "# extract trajectories from results of parallel computing\n",
    "Fmap = results[0]\n",
    "\n",
    "for res in results[1:]:\n",
    "    Fmap = np.append(Fmap, res, axis = 2)\n",
    "    \n",
    "# reshape array from vectorized form to structured meshgrid\n",
    "X0_gridded = x0.reshape((X_domain.shape[0], X_domain.shape[1])) # array (Ny, Nx)\n",
    "Y0_gridded = y0.reshape((X_domain.shape[0], X_domain.shape[1])) # array (Ny, Nx)"
   ]
  },
  {
   "cell_type": "markdown",
   "metadata": {},
   "source": [
    "# Lagrangian linear momentum barriers\n",
    "\n",
    "We visualize active barriers to linear momentum by plotting the level sets of the Hamiltonian for the Lagrangian linear momentum barrier equations \\ref{eq: HamiltonianLinearMomentum}."
   ]
  },
  {
   "cell_type": "markdown",
   "metadata": {},
   "source": [
    "## Interpolate Hamiltonian\n",
    "\n",
    "We start by computing the interpolant for the instantaneous momentum barrier field. The interpolant is given by the right-hand-side of equation \\ref{eq: HamiltonianLinearMomentum}."
   ]
  },
  {
   "cell_type": "code",
   "execution_count": null,
   "metadata": {
    "ExecuteTime": {
     "start_time": "2022-02-12T15:35:16.185Z"
    },
    "code_folding": [
     0
    ]
   },
   "outputs": [],
   "source": [
    "# Import function to interpolate the Hamiltonian for Lagrangian active momentum barrier equation\n",
    "from ipynb.fs.defs.HamiltonianLagrangianActiveMomentum import HamiltonianLagrangianActiveMomentum\n",
    "\n",
    "# Interpolate Hamiltonian of linear momentum barrier equation using cubic spatial interpolation\n",
    "Interpolant_Hamiltonian_momentum = HamiltonianLagrangianActiveMomentum(X_domain, Y_domain, X, Y, omega, Fmap, time, dt_data)"
   ]
  },
  {
   "cell_type": "markdown",
   "metadata": {},
   "source": [
    "## Compute level sets of Hamiltonian\n",
    "\n",
    "Next, we compute the outermost (almost) convex level sets surrounding a local maximum of the Hamiltonian defined in equation \\ref{eq: HamiltonianLinearMomentum}."
   ]
  },
  {
   "cell_type": "code",
   "execution_count": null,
   "metadata": {
    "ExecuteTime": {
     "start_time": "2022-02-12T15:35:16.201Z"
    },
    "code_folding": [
     0
    ],
    "run_control": {
     "marked": true
    }
   },
   "outputs": [],
   "source": [
    "# import function to find outermoust (almost) convex contour surrounding a local maximum\n",
    "from ipynb.fs.defs.find_outermost_contour import find_outermost_contour\n",
    "\n",
    "# Compute Hamiltonian over meshgrid\n",
    "H_Lagrangian_momentum = np.abs(Interpolant_Hamiltonian_momentum(Y_domain.ravel(), X_domain.ravel(), grid = False).reshape(Ny, Nx))\n",
    "\n",
    "# Minimum distance between local maxima in the H_LagrangianMomentum field\n",
    "distance = 0.5 # float >=0\n",
    "\n",
    "# Resolution of H_LagrangianMomentum field when extracting contours\n",
    "n = 250 # int\n",
    "\n",
    "# Convexity deficiency\n",
    "c_d = 10**(-2) # float > 0\n",
    "\n",
    "# Reject local maxima below this threshold\n",
    "loc_threshold = 0.2 # float >= 0\n",
    "\n",
    "# Minimum length of outermost (almost) convex level sets\n",
    "l_min = 0.4 # float >= 0\n",
    "\n",
    "# Compute outermost (almost) convex level sets\n",
    "level_sets_Hamiltonian_momentum = find_outermost_contour(X_domain, Y_domain, H_Lagrangian_momentum, distance, n, c_d, l_min, loc_threshold, Ncores)"
   ]
  },
  {
   "cell_type": "markdown",
   "metadata": {},
   "source": [
    "# Lagrangian vorticity barriers\n",
    "\n",
    "We visualize active barriers to linear momentum by plotting the level sets of the Hamiltonian for the Lagrangian vorticity barrier equations \\ref{eq: HamiltonianVorticity}."
   ]
  },
  {
   "cell_type": "markdown",
   "metadata": {},
   "source": [
    "## Interpolate Hamiltonian\n",
    "\n",
    "We start by computing the interpolant of the Hamiltonian for the Lagrangian vorticity barrier field. The interpolant is given by the right-hand-side of equation \\ref{eq: HamiltonianVorticity}."
   ]
  },
  {
   "cell_type": "code",
   "execution_count": null,
   "metadata": {
    "ExecuteTime": {
     "start_time": "2022-02-12T15:35:16.222Z"
    },
    "code_folding": [
     0
    ]
   },
   "outputs": [],
   "source": [
    "# Import function to interpolate the Hamiltonian for Lagrangian vorticity barrier equation\n",
    "from ipynb.fs.defs.HamiltonianLagrangianActiveVorticity import HamiltonianLagrangianActiveVorticity\n",
    "\n",
    "# Interpolate Lagrangian vorticity barrier equation using cubic spatial interpolation\n",
    "Interpolant_Hamiltonian_vorticity = HamiltonianLagrangianActiveVorticity(X_domain, Y_domain, X, Y, omega, Fmap, time, dt_data)"
   ]
  },
  {
   "cell_type": "markdown",
   "metadata": {},
   "source": [
    "## Compute level sets of Hamiltonian\n",
    "\n",
    "Next, we compute the outermost (almost) convex level sets surrounding a local maximum of the Hamiltonian defined in equation \\ref{eq: HamiltonianVorticity}."
   ]
  },
  {
   "cell_type": "code",
   "execution_count": null,
   "metadata": {
    "ExecuteTime": {
     "start_time": "2022-02-12T15:35:16.233Z"
    },
    "code_folding": [
     0
    ]
   },
   "outputs": [],
   "source": [
    "# Compute Hamiltonian over meshgrid\n",
    "H_Lagrangian_vorticity = np.abs(Interpolant_Hamiltonian_vorticity(Y_domain.ravel(), X_domain.ravel(), grid = False).reshape(Ny, Nx))\n",
    "\n",
    "# Minimum distance between local maxima in the H_LagrangianMomentum field\n",
    "distance = 0.5 # float >=0\n",
    "\n",
    "# Resolution of H_LagrangianMomentum field when extracting contours\n",
    "n = 250 # int\n",
    "\n",
    "# Convexity deficiency\n",
    "c_d = 10**(-2) # float > 0\n",
    "\n",
    "# Reject local maxima below this threshold\n",
    "loc_threshold = 0.2 # float >= 0\n",
    "\n",
    "# Minimum length of outermost (almost) convex level sets\n",
    "l_min = 0.4 # float >= 0\n",
    "\n",
    "# Compute outermost (almost) convex level sets\n",
    "level_sets_Hamiltonian_vorticity = find_outermost_contour(X_domain, Y_domain, H_Lagrangian_vorticity, distance, n, c_d, l_min, loc_threshold, Ncores)"
   ]
  },
  {
   "cell_type": "code",
   "execution_count": null,
   "metadata": {
    "ExecuteTime": {
     "start_time": "2022-02-12T15:35:16.234Z"
    },
    "code_folding": [],
    "scrolled": false
   },
   "outputs": [],
   "source": [
    "################################################ PLOT RESULTS ################################################\n",
    "\n",
    "# Import plotting library\n",
    "import matplotlib.pyplot as plt\n",
    "\n",
    "# Figure/Axis\n",
    "fig, (ax0, ax1) = plt.subplots(nrows=1, ncols=2, dpi = 600, figsize=(8, 3))\n",
    "\n",
    "# Contourplot of Hamiltonian for Lagrangian linear momentum\n",
    "cax = ax0.contourf(X_domain, Y_domain, H_Lagrangian_momentum, cmap = \"winter\", levels = 600)\n",
    "# level sets of Hamiltonian for Lagrangian linear momentum\n",
    "for v in level_sets_Hamiltonian_momentum:\n",
    "    ax0.plot(v[0], v[1], linewidth = 1, c = \"w\")\n",
    "# Colorbar\n",
    "cbar = fig.colorbar(cax, ax = ax0, ticks = np.arange(0, 1, .15))\n",
    "\n",
    "# Contourplot of Hamiltonian for Lagrangian vorticity\n",
    "cax = ax1.contourf(X_domain, Y_domain, H_Lagrangian_vorticity, cmap = \"winter\", levels = 600)\n",
    "# level sets of Hamiltonian for Lagrangian vorticity\n",
    "for v in level_sets_Hamiltonian_vorticity:\n",
    "    ax1.plot(v[0], v[1], linewidth = 1, c = \"w\")\n",
    "# Colorbar\n",
    "cbar = fig.colorbar(cax, ax = ax1, ticks = np.arange(0, 1.2, .2))\n",
    "\n",
    "# Axis Labels\n",
    "ax0.set_ylabel(\"y\", fontsize = 10)\n",
    "ax0.set_xlabel(\"x\", fontsize = 10)\n",
    "ax1.set_xlabel(\"x\", fontsize = 10)\n",
    "\n",
    "ax0.set_title(r'$\\mathrm{|H_m|}$'+f'$_{{{np.around(time[0], 1)}}}^{{{np.around(time[-1], 1)}}}$'+r'($ \\mathbf{x}_0; \\rho \\mathbf{u}$)', fontsize = 10)\n",
    "ax1.set_title(r'$\\mathrm{|H_v|}$'+f'$_{{{np.around(time[0], 1)}}}^{{{np.around(time[-1], 1)}}}$'+r'($ \\mathbf{x}_0;  \\mathbf{\\omega}$)', fontsize = 10)\n",
    "              \n",
    "plt.show()"
   ]
  },
  {
   "cell_type": "markdown",
   "metadata": {},
   "source": [
    "The figures focus on momentum and vorticity-based active barriers of the two-dimensional turbulence model.\n",
    "Almost convex level sets surrounding local maxima of the appropriate Hamiltonian respectively inhibit the transport of linear momentum/vorticity.\n",
    "Compared to the active coherent structure diagnostics ($ \\mathrm{aFTLE} $, $ \\mathrm{aPRA} $, $ \\mathrm{aTSE} $, $ \\mathrm{aTRA} $), the structures of the Hamiltonian do not depend on the parameter 's' (=dummy time)."
   ]
  },
  {
   "cell_type": "markdown",
   "metadata": {},
   "source": [
    "# References\n",
    "\n",
    "[1] Haller, G., Katsanoulis, S., Holzner, M., Frohnapfel, B., & Gatti, D. (2020). Objective barriers to the transport of dynamically active vector fields. Journal of Fluid Mechanics, 905.\n",
    "\n",
    "[2] Notebook 9.6.3. in \"Transport Barriers and Coherent Structures in Flow Data\" by Prof. George Haller."
   ]
  }
 ],
 "metadata": {
  "kernelspec": {
   "display_name": "Python 3",
   "language": "python",
   "name": "python3"
  },
  "language_info": {
   "codemirror_mode": {
    "name": "ipython",
    "version": 3
   },
   "file_extension": ".py",
   "mimetype": "text/x-python",
   "name": "python",
   "nbconvert_exporter": "python",
   "pygments_lexer": "ipython3",
   "version": "3.7.12"
  },
  "toc": {
   "base_numbering": "0",
   "nav_menu": {},
   "number_sections": true,
   "sideBar": true,
   "skip_h1_title": false,
   "title_cell": "Table of Contents",
   "title_sidebar": "Contents",
   "toc_cell": false,
   "toc_position": {},
   "toc_section_display": true,
   "toc_window_display": true
  }
 },
 "nbformat": 4,
 "nbformat_minor": 4
}
