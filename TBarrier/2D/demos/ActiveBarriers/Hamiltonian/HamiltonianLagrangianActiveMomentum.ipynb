{
 "cells": [
  {
   "cell_type": "markdown",
   "id": "d879e264",
   "metadata": {},
   "source": [
    "This function computes the interpolant for the hamiltonian of the Lagrangian linear momentum barrier equation:\n",
    "\n",
    " \\begin{equation}\n",
    " \\mathrm{H}_{t_0}^{t_N}(\\mathbf{x}_0)=\\nu \\rho \\overline{\\omega (\\mathbf{F_{t_0}^{t}(x_0)}, t)},\n",
    " \\label{eq: linearmomentum} \n",
    " \\end{equation}\n",
    " \n",
    " where $ \\nu $ is the viscosity, $ \\rho $ the density of the fluid and $ \\mathbf{\\omega} $ is the vorticity. $ \\overline{(\\ldots)} $ denotes a temporal average over the time-interval $ t \\in [t_0, t_N] $.\n",
    " \n",
    " For simplicity we can normalize equation $ \\ref{eq: linearmomentum} $ by $ \\nu $ and $ \\rho $ and thus simply omit them as they play no role when exploring the structures of the field $ \\mathbf{x'} $."
   ]
  },
  {
   "cell_type": "markdown",
   "id": "f19ca176",
   "metadata": {},
   "source": [
    "| Name | Type (Shape) | Description |\n",
    "| --- | --- | --- |\n",
    "| X_domain | array (Ny, Nx)| X-meshgrid of initial conditions |\n",
    "| Y_domain | array (Ny, Nx)| Y-meshgrid with Ny=Nx=1024 over which $ \\omega(\\mathbf{x}, t) $ is defined |\n",
    "| X | array (1024, 1024)| X-meshgrid over which $ \\omega(\\mathbf{x}, t) $ is defined |\n",
    "| Y | array (1024, 1024)| Y-meshgrid over which $ \\omega(\\mathbf{x}, t) $ is defined |\n",
    "| omega | array (1024, 1025, 251) | $ \\omega(\\mathbf{x}, t) $ |\n",
    "| Fmap | array (Ny, Nx, N) | $ \\mathbf{F}_{t_0}^{t}(\\mathbf{x}_0) $, with $ t \\in [t_0, t_1] $  |\n",
    "| time | array (N, ) | $ t \\in [t_0, t_1] $ |\n",
    "| time_data | array | time of the velocity data |\n",
    "| Interpolant | list (2,) | Interpolant[0]: Interpolant for $ \\mathrm{H}_{t_0}^{t_N} $ |"
   ]
  },
  {
   "cell_type": "code",
   "execution_count": 1,
   "id": "f8599d16",
   "metadata": {
    "ExecuteTime": {
     "end_time": "2021-12-25T11:58:12.803632Z",
     "start_time": "2021-12-25T11:58:12.598263Z"
    }
   },
   "outputs": [],
   "source": [
    "# import Rectangular bivariate spline from scipy\n",
    "from scipy.interpolate import RectBivariateSpline as RBS\n",
    "\n",
    "# import package for progress bar\n",
    "from tqdm.notebook import tqdm\n",
    "\n",
    "# Import numpy \n",
    "import numpy as np"
   ]
  },
  {
   "cell_type": "code",
   "execution_count": 2,
   "id": "60329d61",
   "metadata": {
    "ExecuteTime": {
     "end_time": "2021-12-25T11:58:12.824275Z",
     "start_time": "2021-12-25T11:58:12.803632Z"
    },
    "code_folding": []
   },
   "outputs": [],
   "source": [
    "def HamiltonianLagrangianActiveMomentum(X_domain, Y_domain, X, Y, omega, Fmap, time, time_data):\n",
    "    '''\n",
    "    Compute interpolant of right-hand-side of Lagrangian momentum barrier equation.\n",
    "    \n",
    "    Parameters:\n",
    "        X_domain: array(Ny, Nx), X-meshgrid of domain\n",
    "        Y_domain: array(Ny, Nx), Y-meshgrid of domain\n",
    "        X:        array(NY, NX), X-meshgrid of data domain\n",
    "        Y:        array(NY, NX), Y-meshgrid of data domain\n",
    "        omega:    array(NY, NX, NT), 3D meshgrid of vorticity over spatial and temporal data domain\n",
    "        Fmap:     array(N, 2, Ny*Nx), Flow map of trajectories\n",
    "        time:     array(N, ), time\n",
    "        time_data: array(1,NT), time data\n",
    "        aux_grid: list(2,), specifies spacing of x/y auxiliary grid components\n",
    "        \n",
    "    Returns:\n",
    "        Interpolant_omega_avg: list(2,) of Interpolant-objects for right-hand-side of Lagrangian averaged vorticity.\n",
    "        Interpolant_omega_avg[0] --> Interpolant for x-component\n",
    "        Interpolant_omega_avg[1] --> Interpolant for y-component\n",
    "    '''\n",
    "    \n",
    "    # iterate over all trajectories and compute omega along them\n",
    "    \n",
    "    # compute interpolant for omega over meshgrid X, Y over time\n",
    "    Interpolant_omega = []\n",
    "    for i in tqdm(range(omega.shape[2])):\n",
    "        Interpolant_omega.append(RBS(Y[:,0], X[0,:], omega[:,:,i]))\n",
    "\n",
    "    Omega = np.zeros((Fmap.shape[0], Fmap.shape[2]))\n",
    "    \n",
    "    # evaluate omega at 'x' at time 't' \n",
    "    # iterate over time:\n",
    "    for c, i in enumerate(time[:-1]):\n",
    "        \n",
    "        dt_data = time_data[0,1]-time_data[0,0]\n",
    "        k = np.searchsorted(time_data[0,:], i)\n",
    "            \n",
    "        Omegai = Interpolant_omega[k](Fmap[c,1,:].ravel(), Fmap[c,0,:].ravel(), grid = False)\n",
    "        Omegaf = Interpolant_omega[k+1](Fmap[c,1,:].ravel(), Fmap[c,0,:].ravel(), grid = False)\n",
    "        Omega[c,:] = (time_data[0,k+1]-i)/dt_data*Omegai + (i-time_data[0,k])/dt_data*Omegaf\n",
    "        \n",
    "    Omega_avg = np.mean(Omega, axis = 0)\n",
    "    Omega_avg = Omega_avg.reshape((X_domain.shape[0], Y_domain.shape[1]))\n",
    "    \n",
    "    # Interpolant for average of omega\n",
    "    Interpolant_omega_avg = RBS(Y_domain[:,0], X_domain[0,:], Omega_avg)\n",
    "    \n",
    "    return Interpolant_omega_avg"
   ]
  }
 ],
 "metadata": {
  "kernelspec": {
   "display_name": "Python 3",
   "language": "python",
   "name": "python3"
  },
  "language_info": {
   "codemirror_mode": {
    "name": "ipython",
    "version": 3
   },
   "file_extension": ".py",
   "mimetype": "text/x-python",
   "name": "python",
   "nbconvert_exporter": "python",
   "pygments_lexer": "ipython3",
   "version": "3.7.12"
  },
  "toc": {
   "base_numbering": 1,
   "nav_menu": {},
   "number_sections": true,
   "sideBar": true,
   "skip_h1_title": false,
   "title_cell": "Table of Contents",
   "title_sidebar": "Contents",
   "toc_cell": false,
   "toc_position": {},
   "toc_section_display": true,
   "toc_window_display": false
  }
 },
 "nbformat": 4,
 "nbformat_minor": 5
}
