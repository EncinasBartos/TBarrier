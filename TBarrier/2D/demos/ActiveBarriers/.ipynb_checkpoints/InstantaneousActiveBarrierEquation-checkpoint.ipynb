{
 "cells": [
  {
   "cell_type": "markdown",
   "id": "9d2c72f8",
   "metadata": {},
   "source": [
    "This function computes the trajectories of the autonomous linear momentum barrier equation:\n",
    "\n",
    " \\begin{equation}\n",
    " \\mathbf{x}'= \\mathbf{J} \\mathbf{\\nabla \\omega (\\mathbf{x}, t)},\n",
    " \\label{eq: linearmomentum} \n",
    " \\end{equation}\n",
    " \n",
    " starting at $ \\mathbf{x}_0 $.\n",
    " \n",
    " where $ \\mathbf{J} = \\begin{pmatrix} 0 && 1 \\\\ -1 && 0 \\end{pmatrix} $ and $ \\mathbf{\\omega} $ is the vorticity."
   ]
  },
  {
   "cell_type": "markdown",
   "id": "11b92422",
   "metadata": {},
   "source": [
    "| Name | Type (Shape) | Description |\n",
    "| --- | --- | --- |\n",
    "| s_dummy | array (Ns, ) | dummy time-interval of length $ Ns $ |\n",
    "| x | array (2, ) | $ \\mathbf{x}_0 $ |\n",
    "| Interpolant | list (2,) | Interpolant[0]: Interpolant for x-component of $ \\mathbf{x}' $ <br /> Interpolant[1]: Interpolant for y-component of $ \\mathbf{x}' $ |"
   ]
  },
  {
   "cell_type": "code",
   "execution_count": 1,
   "id": "d3993718",
   "metadata": {
    "ExecuteTime": {
     "end_time": "2021-12-13T21:03:19.813577Z",
     "start_time": "2021-12-13T21:03:19.657229Z"
    }
   },
   "outputs": [],
   "source": [
    "# import Rectangular bivariate spline from scipy\n",
    "from scipy.interpolate import RectBivariateSpline as RBS\n",
    "\n",
    "# Import numpy \n",
    "import numpy as np\n",
    "\n",
    "# Import pi from math tools\n",
    "from math import pi"
   ]
  },
  {
   "cell_type": "code",
   "execution_count": null,
   "id": "8dd66257",
   "metadata": {},
   "outputs": [],
   "source": [
    "def InstantaneousActiveBarrierTrajectory(s_dummy, x0, Interpolant):\n",
    "    \n",
    "    ds = s_dummy[1] - s_dummy[0]\n",
    "    \n",
    "    for i in range(len(s_dummy)):\n",
    "        x[:, i] = x0\n",
    "        x0 = RK4_integration(x0, ds, Interpolant)\n",
    "    \n",
    "    return x"
   ]
  },
  {
   "cell_type": "code",
   "execution_count": null,
   "id": "83e58e2d",
   "metadata": {},
   "outputs": [],
   "source": [
    "def RK4_integration(x0, ds, Interpolant):\n",
    "    \n",
    "    # Define starting point.\n",
    "    x1 = x0\n",
    "        \n",
    "    # Compute x_prime at the beginning of the time-step by re-orienting and rescaling the vector field\n",
    "    x_prime = np.array([Interpolant[0](x1[1], x1[0])[0][0], Interpolant[1](x1[1], x1[0])[0][0]])\n",
    "    \n",
    "    # compute derivative\n",
    "    k1 = ds * x_prime\n",
    "\n",
    "    #  position and time at the first midpoint.\n",
    "    x2 = x1 + .5 * k1\n",
    "        \n",
    "    # Compute x_prime at the first midpoint.\n",
    "    x_prime = np.array([Interpolant[0](x2[1], x2[0])[0][0], Interpolant[1](x2[1], x2[0])[0][0]])%(2*pi)\n",
    "    \n",
    "    # compute derivative\n",
    "    k2 = ds * x_prime\n",
    "\n",
    "    # Update position at the second midpoint.\n",
    "    x3 = x1 + .5 * k2\n",
    "    \n",
    "    # Compute x_prime at the second midpoint.\n",
    "    x_prime = np.array([Interpolant[0](x3[1], x3[0])[0][0], Interpolant[1](x3[1], x3[0])[0][0]])%(2*pi)\n",
    "    \n",
    "    # compute derivative\n",
    "    k3 = ds * x_prime\n",
    "    \n",
    "    # Update position at the endpoint.\n",
    "    x4 = x1 + k3\n",
    "    \n",
    "    # Compute derivative at the end of the time-step.\n",
    "    x_prime = np.array([Interpolant[0](x4[1], x4[0])[0][0], Interpolant[1](x4[1], x4[0])[0][0]])%(2*pi)\n",
    "    \n",
    "    # compute derivative\n",
    "    k4 = ds * x_prime\n",
    "    \n",
    "    # define list for derivatives and positions of particle\n",
    "    y_prime_update = []\n",
    "    y_update = []\n",
    "        \n",
    "    # Compute RK4-derivative\n",
    "    for j in range(2):\n",
    "        y_prime_update.append(1.0 / 6.0*(k1[j] + 2 * k2[j] + 2 * k3[j] + k4[j])/ds)\n",
    "    \n",
    "    # Integration y <-- y + y_prime*ds\n",
    "    for j in range(2):\n",
    "        # Update position of particles\n",
    "        y_update.append(y0[j] + y_prime_update[j]*ds)\n",
    "\n",
    "    # transform list to arrays\n",
    "    y_update = np.array(y_update)%(2*pi)\n",
    "    y_prime_update = np.array(y_prime_update)\n",
    "    \n",
    "    return y_update, y_prime_update"
   ]
  },
  {
   "cell_type": "code",
   "execution_count": 3,
   "id": "d08e5e45",
   "metadata": {
    "ExecuteTime": {
     "end_time": "2021-12-13T21:03:39.756772Z",
     "start_time": "2021-12-13T21:03:39.741843Z"
    }
   },
   "outputs": [
    {
     "name": "stdout",
     "output_type": "stream",
     "text": [
      "[3.         3.71681469]\n"
     ]
    }
   ],
   "source": [
    "x = np.array([3, 10])%(2*pi)\n",
    "print(x)"
   ]
  },
  {
   "cell_type": "code",
   "execution_count": null,
   "id": "3b48e41d",
   "metadata": {},
   "outputs": [],
   "source": []
  }
 ],
 "metadata": {
  "kernelspec": {
   "display_name": "Python 3 (ipykernel)",
   "language": "python",
   "name": "python3"
  },
  "language_info": {
   "codemirror_mode": {
    "name": "ipython",
    "version": 3
   },
   "file_extension": ".py",
   "mimetype": "text/x-python",
   "name": "python",
   "nbconvert_exporter": "python",
   "pygments_lexer": "ipython3",
   "version": "3.7.11"
  },
  "toc": {
   "base_numbering": 1,
   "nav_menu": {},
   "number_sections": true,
   "sideBar": true,
   "skip_h1_title": false,
   "title_cell": "Table of Contents",
   "title_sidebar": "Contents",
   "toc_cell": false,
   "toc_position": {},
   "toc_section_display": true,
   "toc_window_display": false
  }
 },
 "nbformat": 4,
 "nbformat_minor": 5
}
