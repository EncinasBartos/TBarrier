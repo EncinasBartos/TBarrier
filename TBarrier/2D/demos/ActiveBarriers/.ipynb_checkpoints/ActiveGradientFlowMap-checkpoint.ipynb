{
 "cells": [
  {
   "cell_type": "markdown",
   "id": "aae04b63",
   "metadata": {},
   "source": [
    "This function computes the active gradient of the flow map $ \\mathbf{\\mathcal{F}} $ of an autonomous two dimensional ODE $ \\mathbf{x'} $ such as the Lagrangian and Eulerian barrier field equations for linear momentum and vorticity starting at $ \\mathbf{x}_0 $."
   ]
  },
  {
   "cell_type": "markdown",
   "id": "59832a0f",
   "metadata": {
    "ExecuteTime": {
     "end_time": "2021-12-14T08:27:14.904537Z",
     "start_time": "2021-12-14T08:27:14.889577Z"
    }
   },
   "source": [
    "| Name | Type (Shape) | Description |\n",
    "| --- | --- | --- |\n",
    "| s_dummy | array (N,) | dummy time-interval with length $ N $ |\n",
    "| x | array (2,) | \\mathbf{x}_0 |\n",
    "| aux_grid | list (2,) | aux_grid[0]: dx_auxiliary spacing <br /> aux_grid[1]: dy_auxiliary spacing |\n",
    "| Interpolant | list (2,) | Interpolant[0]: Interpolant for x-component of autonomous ODE $ \\mathbf{x}' $ <br /> Interpolant[1]: Interpolant for y-component of autonomous ODE $ \\mathbf{x}' $ |"
   ]
  },
  {
   "cell_type": "code",
   "execution_count": null,
   "id": "2adf0833",
   "metadata": {},
   "outputs": [],
   "source": [
    "def ActiveGradientFlowMap(s_dummy, x, aux_grid, Interpolant):\n",
    "    \n",
    "    x = np.array([X[i, j], Y[i, j]])\n",
    "            \n",
    "    # define auxiliary grid spacing\n",
    "    rho_x = aux_grid[0]\n",
    "    rho_y = aux_grid[1]\n",
    "\n",
    "    # launch trajectories from auxiliary grid\n",
    "    xL = x-np.array([1, 0])*rho_x\n",
    "    xLend = AutonomousODE(s_dummy, xL, Interpolant)[0]\n",
    "    \n",
    "    xR = x+np.array([1, 0])*rho_x\n",
    "    xRend = AutonomousODE(s_dummy, xR, Interpolant)[0]\n",
    "\n",
    "    xD = x-np.array([0, 1])*rho_y\n",
    "    xDend = AutonomousODE(s_dummy, xD, Interpolant)[0]\n",
    "        \n",
    "    xU = x+np.array([0, 1])*rho_y\n",
    "    xUend = AutonomousODE(s_dummy, xU, Interpolant)[0]\n",
    "    \n",
    "    gradFmap = np.zeros((2, 2, len(s_dummy)))\n",
    "    \n",
    "    # compute gradient of flow map over time interval\n",
    "    for i in range(len(s_dummy)):\n",
    "        \n",
    "        gradFmap[0, 0, i] = (xRend[0, i]-xLend[0, i])/(2*rho_x)\n",
    "        gradFmap[1, 0, i] = (xRend[1, i]-xLend[1, i])/(2*rho_x)\n",
    "        \n",
    "        gradFmap[0, 1, i] = (xUend[0, i]-xDend[0, i])/(2*rho_y)\n",
    "        gradFmap[1, 1, i] = (xUend[1, i]-xDend[1, i])/(2*rho_y)\n",
    "        \n",
    "    return gradFmap"
   ]
  }
 ],
 "metadata": {
  "kernelspec": {
   "display_name": "Python 3 (ipykernel)",
   "language": "python",
   "name": "python3"
  },
  "language_info": {
   "codemirror_mode": {
    "name": "ipython",
    "version": 3
   },
   "file_extension": ".py",
   "mimetype": "text/x-python",
   "name": "python",
   "nbconvert_exporter": "python",
   "pygments_lexer": "ipython3",
   "version": "3.7.11"
  },
  "toc": {
   "base_numbering": 1,
   "nav_menu": {},
   "number_sections": true,
   "sideBar": true,
   "skip_h1_title": false,
   "title_cell": "Table of Contents",
   "title_sidebar": "Contents",
   "toc_cell": false,
   "toc_position": {},
   "toc_section_display": true,
   "toc_window_display": false
  }
 },
 "nbformat": 4,
 "nbformat_minor": 5
}
