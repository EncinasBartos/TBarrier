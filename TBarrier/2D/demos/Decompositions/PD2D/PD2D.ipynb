{
 "cells": [
  {
   "cell_type": "code",
   "execution_count": 1,
   "metadata": {
    "ExecuteTime": {
     "end_time": "2022-02-17T20:35:19.537046Z",
     "start_time": "2022-02-17T20:35:19.522086Z"
    },
    "code_folding": [
     0
    ]
   },
   "outputs": [
    {
     "name": "stdout",
     "output_type": "stream",
     "text": [
      "C:\\Users\\encin\\OneDrive\\TBarrier\\TBarrier\\2D\n"
     ]
    }
   ],
   "source": [
    "# import sys/os\n",
    "import sys, os\n",
    "\n",
    "# get current directory\n",
    "path = os.getcwd()\n",
    "\n",
    "# get parent directory\n",
    "parent_directory = os.path.sep.join(path.split(os.path.sep)[:-3])\n",
    "\n",
    "print(parent_directory)\n",
    "\n",
    "# add utils folder to current working path\n",
    "sys.path.append(parent_directory+\"/subfunctions/utils\")\n",
    "\n",
    "# add integration folder to current working path\n",
    "sys.path.append(parent_directory+\"/subfunctions/integration\")"
   ]
  },
  {
   "cell_type": "markdown",
   "metadata": {},
   "source": [
    "# Overview\n",
    "\n",
    "In the following demos we illustrate how to compute the Polar Decomposition (PD) of the gradient of the flow map $ \\nabla F_{t_0}^t(\\mathbf{x}_0) $ on a general two dimensional unsteady velocity dataset. In our case we chose the AVISO dataset which is used throughout the demos on advective barriers in 2D. The notebook is structured as follows:\n",
    "\n",
    "1. Import data from the file 'AVISO.mat' stored in the folder 'data/AVISO'.\n",
    "<br />\n",
    "2. Define computational parameters (such as the number of cores) and variables.\n",
    " <br />\n",
    "3. Interpolate velocity from the (discrete) gridded data.\n",
    " <br />\n",
    "4. Compute gradient of flow map $ \\mathbf{\\nabla F}_{t_0}^{t_N}(\\mathbf{x}_0) $.\n",
    "5. PD on $ \\mathbf{\\nabla F}_{t_0}^{t_N}(\\mathbf{x}_0) $"
   ]
  },
  {
   "cell_type": "markdown",
   "metadata": {},
   "source": [
    "# Import data"
   ]
  },
  {
   "cell_type": "code",
   "execution_count": 2,
   "metadata": {
    "ExecuteTime": {
     "end_time": "2022-02-17T20:35:19.676671Z",
     "start_time": "2022-02-17T20:35:19.539041Z"
    },
    "code_folding": []
   },
   "outputs": [],
   "source": [
    "# import scipy\n",
    "import scipy.io as sio\n",
    "\n",
    "#Import velocity data from file in data-folder\n",
    "mat_file = sio.loadmat('../../../data/Aviso/AVISO.mat')\n",
    "\n",
    "U = mat_file['u']\n",
    "V = mat_file['v']\n",
    "x = mat_file['x']\n",
    "y = mat_file['y']\n",
    "time_data = mat_file['t']"
   ]
  },
  {
   "cell_type": "markdown",
   "metadata": {},
   "source": [
    "# Computational parameters and data\n",
    "\n",
    "Here we define the computational parameters and the data."
   ]
  },
  {
   "cell_type": "code",
   "execution_count": 3,
   "metadata": {
    "ExecuteTime": {
     "end_time": "2022-02-17T20:35:19.692672Z",
     "start_time": "2022-02-17T20:35:19.677687Z"
    },
    "code_folding": [
     0
    ]
   },
   "outputs": [],
   "source": [
    "# import numpy\n",
    "import numpy as np\n",
    "\n",
    "# Number of cores for parallel computing\n",
    "Ncores = 6\n",
    "\n",
    "# Time resolution of data\n",
    "dt_data = time_data[0, 1]-time_data[0,0]\n",
    "\n",
    "# Periodic boundary conditions\n",
    "periodic_x = False\n",
    "periodic_y = False\n",
    "periodic_t = False\n",
    "periodic = [periodic_x, periodic_y, periodic_t]\n",
    "\n",
    "# Unsteady velocity field\n",
    "bool_unsteady = True\n",
    "\n",
    "# Defined domain\n",
    "defined_domain = np.isfinite(U[:,:,0]).astype(int)\n",
    "\n",
    "## Compute meshgrid of dataset\n",
    "X, Y = np.meshgrid(x, y)\n",
    "\n",
    "## Resolution of meshgrid\n",
    "dx_data = X[0,1]-X[0,0]\n",
    "dy_data = Y[1,0]-Y[0,0]\n",
    "\n",
    "delta = [dx_data, dy_data]"
   ]
  },
  {
   "cell_type": "markdown",
   "metadata": {},
   "source": [
    "# Velocity Interpolation\n",
    "\n",
    "In order to evaluate the velocity field at arbitrary locations and times, we interpolate the discrete velocity data. The interpolation with respect to time is always linear. The interpolation with respect to space can be chosen to be \"cubic\" or \"linear\". Default value is \"cubic\"."
   ]
  },
  {
   "cell_type": "code",
   "execution_count": 4,
   "metadata": {
    "ExecuteTime": {
     "end_time": "2022-02-17T20:35:19.897948Z",
     "start_time": "2022-02-17T20:35:19.693643Z"
    },
    "code_folding": [
     0
    ]
   },
   "outputs": [],
   "source": [
    "# Import interpolation function for unsteady flow field\n",
    "from ipynb.fs.defs.Interpolant import interpolant_unsteady\n",
    "\n",
    "# Set nan values to zero (in case there are any) so that we can apply interpolant. \n",
    "# Interpolant does not work if the array contains nan values. \n",
    "U[np.isnan(U)] = 0\n",
    "V[np.isnan(V)] = 0\n",
    "\n",
    "# Interpolate velocity data using cubic spatial interpolation\n",
    "Interpolant = interpolant_unsteady(X, Y, U, V, method = \"cubic\")\n",
    "\n",
    "Interpolant_u = Interpolant[0]\n",
    "Interpolant_v = Interpolant[1]"
   ]
  },
  {
   "cell_type": "markdown",
   "metadata": {},
   "source": [
    "# Compute gradient of the flow map $ \\nabla F_{t_0}^t(\\mathbf{x}_0) $"
   ]
  },
  {
   "cell_type": "code",
   "execution_count": 5,
   "metadata": {
    "ExecuteTime": {
     "end_time": "2022-02-17T20:35:22.194198Z",
     "start_time": "2022-02-17T20:35:19.901925Z"
    },
    "code_folding": [
     0
    ]
   },
   "outputs": [],
   "source": [
    "# Import function to compute gradient of flow map\n",
    "from ipynb.fs.defs.gradient_flowmap import gradient_flowmap\n",
    "\n",
    "# import package used to suppress output of integration of flow map. \n",
    "from IPython.utils import io\n",
    "\n",
    "# Initial time (in days)\n",
    "t0 = 0\n",
    "\n",
    "# Final time (in days)\n",
    "tN = 25\n",
    "\n",
    "# Time step-size (in days)\n",
    "dt = .1\n",
    "\n",
    "# NOTE: For computing the backward trajectories set: tN < t0 and dt < 0.\n",
    "\n",
    "time = np.arange(t0, tN+dt, dt) # len(time) = N\n",
    "\n",
    "# auxiliary grid\n",
    "aux_grid = [0.01, 0.01]\n",
    "\n",
    "# initial x/y-coordinate\n",
    "x0 = 3\n",
    "y0 = -30\n",
    "\n",
    "#Initial conditions\n",
    "X0 = np.array([x0, y0])\n",
    "\n",
    "# Compute gradient of flow map\n",
    "with io.capture_output() as captured:\n",
    "    gradFmap = gradient_flowmap(time, X0, X, Y, Interpolant_u, Interpolant_v, periodic, defined_domain, bool_unsteady, time_data, aux_grid)\n",
    "\n",
    "# gradFmap stores the gradient of the flow map for all t in [t0,tN] \n",
    "# for the trajectory starting at the initial condition defined above.\n",
    "# We extract gradient of flow map over the time-interval [t0,tN]\n",
    "gradFmap_t0_tN = gradFmap[-1,:,:,0]"
   ]
  },
  {
   "cell_type": "markdown",
   "metadata": {},
   "source": [
    "# Polar Decomposition of $ \\nabla F_{t_0}^t(\\mathbf{x}_0) $"
   ]
  },
  {
   "cell_type": "code",
   "execution_count": 6,
   "metadata": {
    "ExecuteTime": {
     "end_time": "2022-02-17T20:35:22.226113Z",
     "start_time": "2022-02-17T20:35:22.195196Z"
    },
    "code_folding": [
     8
    ]
   },
   "outputs": [
    {
     "data": {
      "text/markdown": [
       "\n",
       "   \n",
       "   $\\nabla \\mathbf{F}_{t_0}^{t_N}(\\mathbf{x}_0)$: $\\begin{pmatrix} -0.1763499 & 0.5995241 \\\\ -2.433198 & 2.421512 \\end{pmatrix} $\n",
       "   \n",
       "   $\\mathbf{R}_{t_0}^{t_N}(\\mathbf{x}_0)$: $\\begin{pmatrix} 0.5950052 & 0.8037218 \\\\ -0.8037218 & 0.5950052 \\end{pmatrix} $\n",
       "   \n",
       "   $\\mathbf{U}_{t_0}^{t_N}(\\mathbf{x}_0)$: $\\begin{pmatrix} 1.850685 & -1.589502 \\\\ -1.589502 & 1.922663 \\end{pmatrix} $\n",
       "   \n",
       "   $\\mathbf{V}_{t_0}^{t_N}(\\mathbf{x}_0)$: $\\begin{pmatrix} 0.3769215 & 0.4984563 \\\\ 0.4984563 & 3.396427 \\end{pmatrix} $\n",
       "   \n",
       "   "
      ],
      "text/plain": [
       "<IPython.core.display.Markdown object>"
      ]
     },
     "metadata": {},
     "output_type": "display_data"
    }
   ],
   "source": [
    "# import function to compute PD\n",
    "from ipynb.fs.defs.PD import PD\n",
    "\n",
    "# import package to print latex statement\n",
    "from IPython.display import display, Markdown\n",
    "\n",
    "R, U, V = PD(gradFmap_t0_tN)\n",
    "\n",
    "display(Markdown(\n",
    "   rf\"\"\"\n",
    "   \n",
    "   $\\nabla \\mathbf{{F}}_{{t_0}}^{{t_N}}(\\mathbf{{x}}_0)$: $\\begin{{pmatrix}} {gradFmap_t0_tN[0,0]:5.7} & {gradFmap_t0_tN[0,1]:5.7} \\\\ {gradFmap_t0_tN[1,0]:5.7} & {gradFmap_t0_tN[1,1]:5.7} \\end{{pmatrix}} $\n",
    "   \n",
    "   $\\mathbf{{R}}_{{t_0}}^{{t_N}}(\\mathbf{{x}}_0)$: $\\begin{{pmatrix}} {R[0,0]:5.7} & {R[0,1]:5.7} \\\\ {R[1,0]:5.7} & {R[1,1]:5.7} \\end{{pmatrix}} $\n",
    "   \n",
    "   $\\mathbf{{U}}_{{t_0}}^{{t_N}}(\\mathbf{{x}}_0)$: $\\begin{{pmatrix}} {U[0,0]:5.7} & {U[0,1]:5.7} \\\\ {U[1,0]:5.7} & {U[1,1]:5.7} \\end{{pmatrix}} $\n",
    "   \n",
    "   $\\mathbf{{V}}_{{t_0}}^{{t_N}}(\\mathbf{{x}}_0)$: $\\begin{{pmatrix}} {V[0,0]:5.7} & {V[0,1]:5.7} \\\\ {V[1,0]:5.7} & {V[1,1]:5.7} \\end{{pmatrix}} $\n",
    "   \n",
    "   \"\"\"))"
   ]
  },
  {
   "cell_type": "markdown",
   "metadata": {},
   "source": [
    "# References\n",
    "\n",
    "[1] Notebook 2.3.2. in \"Transport Barriers and Coherent Structures in Flow Data\" by Prof. George Haller."
   ]
  }
 ],
 "metadata": {
  "kernelspec": {
   "display_name": "Python 3",
   "language": "python",
   "name": "python3"
  },
  "language_info": {
   "codemirror_mode": {
    "name": "ipython",
    "version": 3
   },
   "file_extension": ".py",
   "mimetype": "text/x-python",
   "name": "python",
   "nbconvert_exporter": "python",
   "pygments_lexer": "ipython3",
   "version": "3.7.12"
  },
  "latex_envs": {
   "LaTeX_envs_menu_present": true,
   "autoclose": false,
   "autocomplete": true,
   "bibliofile": "biblio.bib",
   "cite_by": "apalike",
   "current_citInitial": 1,
   "eqLabelWithNumbers": true,
   "eqNumInitial": 1,
   "hotkeys": {
    "equation": "Ctrl-E",
    "itemize": "Ctrl-I"
   },
   "labels_anchors": false,
   "latex_user_defs": false,
   "report_style_numbering": false,
   "user_envs_cfg": false
  },
  "toc": {
   "base_numbering": "0",
   "nav_menu": {},
   "number_sections": true,
   "sideBar": true,
   "skip_h1_title": false,
   "title_cell": "Table of Contents",
   "title_sidebar": "Contents",
   "toc_cell": false,
   "toc_position": {},
   "toc_section_display": true,
   "toc_window_display": true
  }
 },
 "nbformat": 4,
 "nbformat_minor": 4
}
