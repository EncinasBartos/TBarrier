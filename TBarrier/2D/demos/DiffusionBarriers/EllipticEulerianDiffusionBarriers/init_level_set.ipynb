{
 "cells": [
  {
   "cell_type": "markdown",
   "metadata": {},
   "source": [
    "This function computes the set of admissible initial conditions such that:\n",
    "    \n",
    "\\begin{equation}\n",
    "S^{11}(\\mathbf{x}) \\cos^2(\\phi)+S^{12}\\sin(2\\phi)+S^{22}(\\mathbf{x})\\sin^2(\\phi) - \\mathcal{T}_0 = 0\n",
    "\\label{eq: IC}\n",
    "\\end{equation}\n",
    "\n",
    "By selecting $ \\phi_0 = 0 $, the set of initial conditions is given by:\n",
    "\n",
    "\\begin{equation}\n",
    "(\\mathbf{x}_0, \\phi_0)_{\\mu} = \\lbrace (\\mathbf{x}_0, 0):2S^{11}(\\mathbf{x}_0) - \\mathcal{T}_0 = 0 \\rbrace,\n",
    "\\end{equation} with $ \\mathbf{x}_0 = \\begin{pmatrix} x_0 \\\\ y_0 \\end{pmatrix} $\n",
    "\n",
    "| Name | Type (Shape) | Description |\n",
    "| --- | --- | --- |\n",
    "| X | array (Ny, Nx) | X-meshgrid|\n",
    "| Y | array (Ny, Nx) | Y-meshgrid|\n",
    "| S11 | array (Ny, Nx) | $ S^{11}(\\mathbf{x}) $|\n",
    "| T0 | float | $ \\mathcal{T}_0 $|\n",
    "|x0T0 | list | $ x_0(T_0) $ |\n",
    "|y0T0 | list | $ y_0(T_0) $ |\n",
    "|phi0T0 | list | $ \\phi_0(T_0) $ |"
   ]
  },
  {
   "cell_type": "code",
   "execution_count": null,
   "metadata": {},
   "outputs": [],
   "source": [
    "# import numpy\n",
    "import numpy as np\n",
    "\n",
    "# Import package to compute level set\n",
    "from skimage import measure"
   ]
  },
  {
   "cell_type": "code",
   "execution_count": null,
   "metadata": {},
   "outputs": [],
   "source": [
    "# compute initial level set\n",
    "def _init_level_set(X, Y, S11, T0):\n",
    "    '''\n",
    "    Compute set of admissible ICs based on the stretching rate parameter 'mu'\n",
    "    \n",
    "    Parameters:\n",
    "        X:       array(Ny, Nx), X-meshgrid.\n",
    "        Y:       array(Ny, Nx), Y-meshgrid.\n",
    "        S11:     array(Ny, Nx), S_{11}-element in rate of strain tensor.\n",
    "        T0:      float, transport density parameter.\n",
    "        \n",
    "    Returns:\n",
    "        x0T0:   list, x-coordinates of ICs.\n",
    "        y0T0:   list, y-coordinates of ICs.\n",
    "        phi0T0: list, angle of tangent of ICs. \n",
    "    '''\n",
    "\n",
    "    # Initialize the output variables \n",
    "    x0T0 = [];\n",
    "    y0T0 = [];\n",
    "\n",
    "    # Compute the initial conditions g_0 given \\mu\n",
    "    ZeroSet = 2*S11-T0;\n",
    "    \n",
    "    # Extract the x_0(\\lambda,\\phi_0)\n",
    "    contour = measure.find_contours(ZeroSet, 0)\n",
    "    \n",
    "    # Iterate over all points in the ZeroSet\n",
    "    for c in contour:\n",
    "        \n",
    "        # compute contours\n",
    "        x_contour = np.min(X)+(np.max(X)-np.min(X))/(X.shape[1])*c[:, 1]\n",
    "        y_contour = np.min(Y)+(np.max(Y)-np.min(Y))/(Y.shape[0])*c[:, 0]\n",
    "        \n",
    "        # append contours\n",
    "        for idx in range(0, len(x_contour)):\n",
    "    \n",
    "            x0T0.append(x_contour[idx])\n",
    "            y0T0.append(y_contour[idx])\n",
    "    \n",
    "    # Set all phi_0 = 0\n",
    "    phi0T0 = [0]*len(x0T0)\n",
    "    \n",
    "    return x0T0, y0T0, phi0T0"
   ]
  }
 ],
 "metadata": {
  "kernelspec": {
   "display_name": "Python 3",
   "language": "python",
   "name": "python3"
  },
  "language_info": {
   "codemirror_mode": {
    "name": "ipython",
    "version": 3
   },
   "file_extension": ".py",
   "mimetype": "text/x-python",
   "name": "python",
   "nbconvert_exporter": "python",
   "pygments_lexer": "ipython3",
   "version": "3.7.12"
  },
  "toc": {
   "base_numbering": 1,
   "nav_menu": {},
   "number_sections": true,
   "sideBar": true,
   "skip_h1_title": false,
   "title_cell": "Table of Contents",
   "title_sidebar": "Contents",
   "toc_cell": false,
   "toc_position": {},
   "toc_section_display": true,
   "toc_window_display": false
  }
 },
 "nbformat": 4,
 "nbformat_minor": 4
}
