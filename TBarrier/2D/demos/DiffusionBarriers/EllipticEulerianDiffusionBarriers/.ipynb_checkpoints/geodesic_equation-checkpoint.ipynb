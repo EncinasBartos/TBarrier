{
 "cells": [
  {
   "cell_type": "markdown",
   "metadata": {},
   "source": [
    "This function evaluates the differential equation\n",
    "\n",
    "\\begin{align*}\n",
    "\\mathbf{x}' &= \\mathbf{e}_{\\phi} = \\begin{pmatrix} \\cos(\\phi) \\\\ \\sin(\\phi) \\end{pmatrix} \\\\\n",
    "\\phi' &= - \\dfrac{\\cos^2(\\phi)[{S_D}_x^{11}(\\mathbf{x})\\cos(\\phi)+{S_D}_y^{11}(\\mathbf{x})\\sin(\\phi)]+[{S_D}_x^{12}(\\mathbf{x})\\cos(\\phi)+{S_D}_y^{11}(\\mathbf{x})\\sin(\\phi)]\\sin(2\\phi)+\\sin^2(\\phi)[{S_D}_x^{22}(\\mathbf{x})\\cos(\\phi)+{S_D}_y^{22}(\\mathbf{x})\\sin(\\phi)]}{\\sin(2\\phi)[{S_D}^{22}(\\mathbf{x})-{S_D}^{11}(\\mathbf{x})]+2\\cos(2\\phi){S_D}^{12}(\\mathbf{x})}\n",
    "\\end{align*}\n",
    "\n"
   ]
  },
  {
   "cell_type": "code",
   "execution_count": 1,
   "metadata": {
    "ExecuteTime": {
     "end_time": "2021-12-10T10:29:24.643816Z",
     "start_time": "2021-12-10T10:29:24.628806Z"
    }
   },
   "outputs": [],
   "source": [
    "import sys, os\n",
    "\n",
    "# get current directory\n",
    "path = os.getcwd()\n",
    "\n",
    "# get parent directory\n",
    "parent_directory = os.path.sep.join(path.split(os.path.sep)[:-3])\n",
    "\n",
    "# add utils folder to current working path\n",
    "sys.path.append(parent_directory+\"/subfunctions/utils\")"
   ]
  },
  {
   "cell_type": "code",
   "execution_count": 2,
   "metadata": {
    "ExecuteTime": {
     "end_time": "2021-12-02T17:36:08.460265Z",
     "start_time": "2021-12-02T17:36:08.227021Z"
    }
   },
   "outputs": [],
   "source": [
    "# Import numpy\n",
    "import numpy as np\n",
    "\n",
    "# Import symbols from math\n",
    "from math import cos, sin, sqrt, pi\n",
    "\n",
    "# Function which checks if particle is in defined domain\n",
    "from ipynb.fs.defs.check_location import check_location"
   ]
  },
  {
   "cell_type": "code",
   "execution_count": 3,
   "metadata": {
    "ExecuteTime": {
     "end_time": "2021-12-02T17:36:08.462068Z",
     "start_time": "2021-12-02T17:36:08.222Z"
    },
    "hide_input": false
   },
   "outputs": [],
   "source": [
    "def _geodesic_equation(t, x_phi, interp_phi_prime, X, Y, defined_domain, interp_DOE):\n",
    "    \n",
    "    # Check if particle is in a domain where velocity field is defined\n",
    "    if check_location(X, Y, defined_domain, x_phi[:2], True)[0] == \"IN\":\n",
    "        \n",
    "        if x_phi[2] > 1.25*2*pi:\n",
    "            return np.array([0, 0, 0])\n",
    "        \n",
    "        # Position of particle in the extended phase space of (long, lat, phi)\n",
    "        x, y, phi = x_phi[0], x_phi[1], x_phi[2]%(2*pi)\n",
    "        \n",
    "        # Check if trajectory is in domain of existence (= sufficiently far away from singularity)\n",
    "        if abs(interp_DOE([y, x, phi])[0])>10**(-2):\n",
    "        \n",
    "            # Compute phi_prime @ (x, y, phi)\n",
    "            phi_dot = interp_phi_prime([y, x, phi])[0]\n",
    "        \n",
    "            # x' = (cos(phi), sin(phi))\n",
    "            x_dot = cos(phi)\n",
    "            y_dot = sin(phi)\n",
    "    \n",
    "            # normalize the RHS of the differential equation for numerical stability of RK45\n",
    "            norm = sqrt(1+phi_dot**2)\n",
    "    \n",
    "            return np.array([x_dot/norm, y_dot/norm, phi_dot/norm])\n",
    "\n",
    "        # Stop integration if trajectory is closed to singularity\n",
    "        else:\n",
    "            \n",
    "            return np.array([0, 0, 0])\n",
    "        \n",
    "    # Stop integration if trajectory is outside domain\n",
    "    else:\n",
    "        \n",
    "        return np.array([0, 0, 0])"
   ]
  }
 ],
 "metadata": {
  "kernelspec": {
   "display_name": "Python 3",
   "language": "python",
   "name": "python3"
  },
  "language_info": {
   "codemirror_mode": {
    "name": "ipython",
    "version": 3
   },
   "file_extension": ".py",
   "mimetype": "text/x-python",
   "name": "python",
   "nbconvert_exporter": "python",
   "pygments_lexer": "ipython3",
   "version": "3.7.11"
  },
  "toc": {
   "base_numbering": 1,
   "nav_menu": {},
   "number_sections": true,
   "sideBar": true,
   "skip_h1_title": false,
   "title_cell": "Table of Contents",
   "title_sidebar": "Contents",
   "toc_cell": false,
   "toc_position": {},
   "toc_section_display": true,
   "toc_window_display": true
  }
 },
 "nbformat": 4,
 "nbformat_minor": 5
}
