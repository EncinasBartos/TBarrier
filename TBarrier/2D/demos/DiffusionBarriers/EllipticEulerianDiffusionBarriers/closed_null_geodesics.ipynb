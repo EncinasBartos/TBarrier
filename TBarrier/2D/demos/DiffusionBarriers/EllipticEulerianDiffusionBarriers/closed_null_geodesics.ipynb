{
 "cells": [
  {
   "cell_type": "code",
   "execution_count": 1,
   "metadata": {
    "ExecuteTime": {
     "end_time": "2021-11-16T14:17:11.859408Z",
     "start_time": "2021-11-16T14:17:11.845418Z"
    }
   },
   "outputs": [],
   "source": [
    "import sys, os\n",
    "\n",
    "# get current directory\n",
    "path = os.getcwd()\n",
    "\n",
    "# get parent directory\n",
    "parent_directory = os.path.sep.join(path.split(os.path.sep)[:-2])\n",
    "\n",
    "# add utils folder to current working path\n",
    "sys.path.append(parent_directory+\"/Src/utils\")"
   ]
  },
  {
   "cell_type": "code",
   "execution_count": 2,
   "metadata": {
    "ExecuteTime": {
     "end_time": "2021-11-16T14:17:12.557481Z",
     "start_time": "2021-11-16T14:17:11.860379Z"
    },
    "hide_input": false
   },
   "outputs": [],
   "source": [
    "# Import numpy\n",
    "import numpy as np\n",
    "\n",
    "# Import math symbols\n",
    "from math import sqrt, pi\n",
    "\n",
    "# function computing initial conditions (depending on \\mu)\n",
    "from ipynb.fs.defs.init_level_set import _init_level_set\n",
    "\n",
    "# geodesics differential equation\n",
    "from ipynb.fs.defs.geodesic_equation import _geodesic_equation\n",
    "\n",
    "# find closed curve\n",
    "from ipynb.fs.defs.closed_curve import _closed_curve\n",
    "\n",
    "# solve_ivp is used for integration\n",
    "from scipy.integrate import solve_ivp\n",
    "\n",
    "# tqdm shows progress bar\n",
    "from tqdm.notebook import tqdm\n",
    "\n",
    "# library for parallel computing\n",
    "from joblib import Parallel, delayed\n",
    "\n",
    "# library for Polygon, Point objects\n",
    "from shapely.geometry import Polygon, Point\n",
    "\n",
    "# Import (cubic) RectBivariateSpline from scipy\n",
    "from scipy.interpolate import RectBivariateSpline as RBS"
   ]
  },
  {
   "cell_type": "code",
   "execution_count": 3,
   "metadata": {
    "ExecuteTime": {
     "end_time": "2021-11-16T14:17:12.573439Z",
     "start_time": "2021-11-16T14:17:12.561464Z"
    }
   },
   "outputs": [],
   "source": [
    "def _closed_null_geodesics(X, Y, mu, interp_phi_prime, d_threshold, S11, interp_DOE, density_ic, Ncores):\n",
    "    \n",
    "    defined_domain = np.isfinite(S11).astype(int)\n",
    "    \n",
    "    # compute initial conditions\n",
    "    x0mu, y0mu, phi0mu = _init_level_set(X, Y, S11, mu, density_ic)\n",
    "    \n",
    "    # define integration domain of dummy variable\n",
    "    t = [0, 10]\n",
    "    \n",
    "    # define resolution of trajectories\n",
    "    t_eval = np.linspace(t[0], t[1], 10000)\n",
    "    \n",
    "    # function which launches geodesic trajectories from initial condition y0 = [x0lam[j], y0lam[j], phi0lam[j]] (with parallel computing)\n",
    "    def launch_trajectories(j):\n",
    "        \n",
    "        # initial condition\n",
    "        y0 = [x0mu[j], y0mu[j], phi0mu[j]]\n",
    "        \n",
    "        # integrate trajectory from initial condition\n",
    "        sol = solve_ivp(_geodesic_equation, t, y0, 'RK45', t_eval, rtol=1e-05, atol=1e-05, first_step = 0.01, args=(interp_phi_prime, X, Y, defined_domain, interp_DOE))\n",
    "    \n",
    "        # store x, y, phi \n",
    "        x = sol.y[0,:]\n",
    "        y = sol.y[1,:]\n",
    "        phi = sol.y[2,:]\n",
    "        \n",
    "        # Check if curve is closed after completing one full cycle and find curve with minimum re-intersection distance\n",
    "        x_closed_geodesic, y_closed_geodesic, phi_closed_geodesic = _closed_curve(x, y, phi, np.array(y0), d_threshold)\n",
    "        \n",
    "        return x_closed_geodesic, y_closed_geodesic, phi_closed_geodesic\n",
    "    \n",
    "    # compute closed null-geodesics\n",
    "    solODE_closed_curves = Parallel(n_jobs=Ncores, verbose = 0)(delayed(launch_trajectories)(j) for j in tqdm(range(len(x0mu))))\n",
    "    \n",
    "    print(\"Finished integration of closed null geodesics\")\n",
    "    \n",
    "    return solODE_closed_curves, [x0mu, y0mu]"
   ]
  }
 ],
 "metadata": {
  "kernelspec": {
   "display_name": "Python 3 (ipykernel)",
   "language": "python",
   "name": "python3"
  },
  "language_info": {
   "codemirror_mode": {
    "name": "ipython",
    "version": 3
   },
   "file_extension": ".py",
   "mimetype": "text/x-python",
   "name": "python",
   "nbconvert_exporter": "python",
   "pygments_lexer": "ipython3",
   "version": "3.7.11"
  },
  "toc": {
   "base_numbering": 1,
   "nav_menu": {},
   "number_sections": true,
   "sideBar": true,
   "skip_h1_title": false,
   "title_cell": "Table of Contents",
   "title_sidebar": "Contents",
   "toc_cell": false,
   "toc_position": {},
   "toc_section_display": true,
   "toc_window_display": false
  }
 },
 "nbformat": 4,
 "nbformat_minor": 4
}
