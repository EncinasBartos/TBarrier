{
 "cells": [
  {
   "cell_type": "code",
   "execution_count": null,
   "metadata": {},
   "outputs": [],
   "source": [
    "# Import numpy \n",
    "import numpy as np\n",
    "\n",
    "# geodesics differential equation\n",
    "from ipynb.fs.defs.geodesic_equation import _geodesic_equation"
   ]
  },
  {
   "cell_type": "code",
   "execution_count": null,
   "metadata": {},
   "outputs": [],
   "source": [
    "def RK4_integration(s, y0, ds, interp_phi_prime, X, Y, defined_domain, interp_DOE):\n",
    "    \n",
    "    # Define starting point.\n",
    "    x1 = y0\n",
    "        \n",
    "    # Compute x_prime at the beginning of the time-step by re-orienting and rescaling the vector field\n",
    "    x_prime = _geodesic_equation(s, x1, interp_phi_prime, X, Y, defined_domain, interp_DOE)\n",
    "    \n",
    "    # compute derivative\n",
    "    k1 = ds * x_prime\n",
    "\n",
    "    #  position and time at the first midpoint.\n",
    "    x2 = x1 + .5 * k1\n",
    "        \n",
    "    # Compute x_prime at the first midpoint.\n",
    "    x_prime = _geodesic_equation(s, x2, interp_phi_prime, X, Y, defined_domain, interp_DOE)\n",
    "    \n",
    "    # compute derivative\n",
    "    k2 = ds * x_prime\n",
    "\n",
    "    # Update position at the second midpoint.\n",
    "    x3 = x1 + .5 * k2\n",
    "    \n",
    "    # Compute x_prime at the second midpoint.\n",
    "    x_prime = _geodesic_equation(s, x3, interp_phi_prime, X, Y, defined_domain, interp_DOE)\n",
    "    \n",
    "    # compute derivative\n",
    "    k3 = ds * x_prime\n",
    "    \n",
    "    # Update position at the endpoint.\n",
    "    x4 = x1 + k3\n",
    "    \n",
    "    # Compute derivative at the end of the time-step.\n",
    "    x_prime = _geodesic_equation(s, x4, interp_phi_prime, X, Y, defined_domain, interp_DOE) \n",
    "    \n",
    "    # compute derivative\n",
    "    k4 = ds * x_prime\n",
    "    \n",
    "    # define list for derivatives and positions of particle\n",
    "    y_prime_update = []\n",
    "    y_update = []\n",
    "        \n",
    "    # Compute RK4-derivative\n",
    "    for j in range(3):\n",
    "        y_prime_update.append(1.0 / 6.0*(k1[j] + 2 * k2[j] + 2 * k3[j] + k4[j])/ds)\n",
    "    \n",
    "    # Integration y <-- y + y_prime*ds\n",
    "    for j in range(3):\n",
    "        # Update position of particles\n",
    "        y_update.append(y0[j] + y_prime_update[j]*ds)\n",
    "\n",
    "    # transform list to arrays\n",
    "    y_update = np.array(y_update)\n",
    "\n",
    "    return y_update"
   ]
  }
 ],
 "metadata": {
  "kernelspec": {
   "display_name": "Python 3",
   "language": "python",
   "name": "python3"
  },
  "language_info": {
   "codemirror_mode": {
    "name": "ipython",
    "version": 3
   },
   "file_extension": ".py",
   "mimetype": "text/x-python",
   "name": "python",
   "nbconvert_exporter": "python",
   "pygments_lexer": "ipython3",
   "version": "3.7.11"
  },
  "toc": {
   "base_numbering": 1,
   "nav_menu": {},
   "number_sections": true,
   "sideBar": true,
   "skip_h1_title": false,
   "title_cell": "Table of Contents",
   "title_sidebar": "Contents",
   "toc_cell": false,
   "toc_position": {},
   "toc_section_display": true,
   "toc_window_display": false
  }
 },
 "nbformat": 4,
 "nbformat_minor": 4
}
