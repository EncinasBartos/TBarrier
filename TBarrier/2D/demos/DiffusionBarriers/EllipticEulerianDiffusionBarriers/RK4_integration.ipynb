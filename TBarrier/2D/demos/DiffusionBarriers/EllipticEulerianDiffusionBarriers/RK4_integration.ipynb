{
 "cells": [
  {
   "cell_type": "code",
   "execution_count": 2,
   "metadata": {
    "ExecuteTime": {
     "end_time": "2021-12-16T14:08:31.401837Z",
     "start_time": "2021-12-16T14:08:31.399970Z"
    }
   },
   "outputs": [],
   "source": [
    "# Import numpy \n",
    "import numpy as np"
   ]
  },
  {
   "cell_type": "code",
   "execution_count": 4,
   "metadata": {
    "ExecuteTime": {
     "end_time": "2021-12-16T14:08:32.173994Z",
     "start_time": "2021-12-16T14:08:32.169465Z"
    }
   },
   "outputs": [],
   "source": [
    "def RK4_integration(x1, step_size, interp_phi_prime):\n",
    "    \n",
    "    '''\n",
    "    Defines RK4-integration scheme for computing null-geodesics.\n",
    "    \n",
    "    Parameters:\n",
    "        x1:               array(3, Npoints), position and angles (#Npoints = Number of initial conditions).\n",
    "                          x1[0,:] contains x-positions\n",
    "                          x1[1,:] contains y-positions\n",
    "                          x1[2,:] contains angle phi\n",
    "        step_size:        float, step size used for integration. This value is kept constant.\n",
    "        interp_phi_prime: Interpolant-object for phi_prime\n",
    "        \n",
    "    Returns:\n",
    "        x_update:         array(3, Npoints), updated position (#Npoints = Number of initial conditions)\n",
    "    '''\n",
    "    \n",
    "    # Compute x_prime at the beginning of the time-step by re-orienting and rescaling the vector field\n",
    "    x_prime = _diff_equation(x1, interp_phi_prime)\n",
    "    \n",
    "    # compute derivative\n",
    "    k1 = step_size * x_prime\n",
    "\n",
    "    #  position and time at the first midpoint.\n",
    "    x2 = x1 + .5 * k1\n",
    "        \n",
    "    # Compute x_prime at the first midpoint.\n",
    "    x_prime = _diff_equation(x2, interp_phi_prime)\n",
    "    \n",
    "    # compute derivative\n",
    "    k2 = step_size * x_prime\n",
    "\n",
    "    # Update position at the second midpoint.\n",
    "    x3 = x1 + .5 * k2\n",
    "    \n",
    "    # Compute x_prime at the second midpoint.\n",
    "    x_prime = _diff_equation(x3, interp_phi_prime)\n",
    "    \n",
    "    # compute derivative\n",
    "    k3 = step_size * x_prime\n",
    "    \n",
    "    # Update position at the endpoint.\n",
    "    x4 = x1 + k3\n",
    "    \n",
    "    # Compute derivative at the end of the time-step.\n",
    "    x_prime = _diff_equation(x4, interp_phi_prime) \n",
    "    \n",
    "    # compute derivative\n",
    "    k4 = step_size * x_prime\n",
    "    \n",
    "    # Compute RK4 derivative\n",
    "    x_prime_update = 1.0 / 6.0*(k1 + 2 * k2 + 2 * k3 + k4)\n",
    "    \n",
    "    # Integration x <-- x + x_prime*ds\n",
    "    x_update = x1 + x_prime_update\n",
    "\n",
    "    return x_update"
   ]
  },
  {
   "cell_type": "code",
   "execution_count": 5,
   "metadata": {
    "ExecuteTime": {
     "end_time": "2021-12-16T14:08:33.701334Z",
     "start_time": "2021-12-16T14:08:33.697733Z"
    }
   },
   "outputs": [],
   "source": [
    "def _diff_equation(x_phi, interp_phi_prime):\n",
    "    '''\n",
    "    Defines differential equation for computing null-geodesics.\n",
    "    \n",
    "    Parameters:\n",
    "        x_phi:            array(3, Npoints), position and angles (#Npoints = Number of initial conditions).\n",
    "                          x_phi[0,:] x-positions\n",
    "                          x_phi[1,:] y-positions\n",
    "                          x_phi[2,:] angle phi\n",
    "        interp_phi_prime: Interpolant-object for phi_prime \n",
    "        \n",
    "    Returns:\n",
    "        RHS:              array(3, Npoints), x_phi_prime (#Npoints = Number of initial conditions). \n",
    "                          This is the (normalized) right-hand-side of the differential equation.\n",
    "    '''\n",
    "    \n",
    "    # Position of particle in the extended phase space of (x, y, phi)\n",
    "    x, y, phi = x_phi[0,:].ravel(), x_phi[1,:].ravel(), x_phi[2,:].ravel()%(2*np.pi)   \n",
    "    \n",
    "    # Compute phi_prime @ (x, y, phi)\n",
    "    phi_dot = interp_phi_prime(np.array([y, x, phi]).transpose())\n",
    "    \n",
    "    # x' = (cos(phi), sin(phi))\n",
    "    x_dot = np.cos(phi)\n",
    "    y_dot = np.sin(phi)\n",
    "    \n",
    "    # normalize the RHS of the differential equation for numerical stability of RK45\n",
    "    norm = np.sqrt(1+phi_dot**2)\n",
    "    \n",
    "    RHS = np.array([x_dot/norm, y_dot/norm, phi_dot/norm])\n",
    "    \n",
    "    return RHS"
   ]
  }
 ],
 "metadata": {
  "kernelspec": {
   "display_name": "Python 3",
   "language": "python",
   "name": "python3"
  },
  "language_info": {
   "codemirror_mode": {
    "name": "ipython",
    "version": 3
   },
   "file_extension": ".py",
   "mimetype": "text/x-python",
   "name": "python",
   "nbconvert_exporter": "python",
   "pygments_lexer": "ipython3",
   "version": "3.7.12"
  },
  "toc": {
   "base_numbering": 1,
   "nav_menu": {},
   "number_sections": true,
   "sideBar": true,
   "skip_h1_title": false,
   "title_cell": "Table of Contents",
   "title_sidebar": "Contents",
   "toc_cell": false,
   "toc_position": {},
   "toc_section_display": true,
   "toc_window_display": false
  }
 },
 "nbformat": 4,
 "nbformat_minor": 4
}
