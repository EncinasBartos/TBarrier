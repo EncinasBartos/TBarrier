{
 "cells": [
  {
   "cell_type": "markdown",
   "metadata": {},
   "source": [
    "This function checks checks whether the curve is closed.\n",
    "\n",
    "| Name | Type (Shape) | Description |\n",
    "| --- | --- | --- |\n",
    "| x | list | list containing x-coordinates of curve\n",
    "| y | list | list containing y-coordinates of curve\n",
    "| phi | list | list containing angle $ \\phi $ of the tangent of the curve\n",
    "| d_threshold | float | threshold distance between starting and re-intersection of the closed curve."
   ]
  },
  {
   "cell_type": "code",
   "execution_count": null,
   "metadata": {},
   "outputs": [],
   "source": [
    "import sys, os\n",
    "\n",
    "# get current directory\n",
    "path = os.getcwd()\n",
    "\n",
    "# get parent directory\n",
    "parent_directory = os.path.sep.join(path.split(os.path.sep)[:-3])\n",
    "\n",
    "# add utils folder to current working path\n",
    "sys.path.append(parent_directory+\"/subfunctions/utils\")"
   ]
  },
  {
   "cell_type": "code",
   "execution_count": 1,
   "metadata": {
    "ExecuteTime": {
     "end_time": "2021-12-10T00:15:06.035332Z",
     "start_time": "2021-12-10T00:15:05.950007Z"
    },
    "hide_input": false
   },
   "outputs": [],
   "source": [
    "# Import numpy\n",
    "import numpy as np\n",
    "\n",
    "# Import math symbols\n",
    "from math import sqrt, pi\n",
    "\n",
    "# Function which checks if particle is in defined domain\n",
    "from ipynb.fs.defs.check_location import check_location"
   ]
  },
  {
   "cell_type": "code",
   "execution_count": 1,
   "metadata": {
    "ExecuteTime": {
     "end_time": "2022-06-10T12:38:07.393221Z",
     "start_time": "2022-06-10T12:38:07.377237Z"
    }
   },
   "outputs": [],
   "source": [
    "# Check if curve is closed after completing one full cycle\n",
    "def closed_curve(x, y, phi, d_threshold, X, Y, defined_domain):\n",
    "    '''\n",
    "    Checks if function is a closed, smooth curve. If this is the case, then extract the closed and smooth segment of the curve.\n",
    "    \n",
    "    Parameters:\n",
    "        x:              list, x-coordinate of curve\n",
    "        y:              list, y-coordinate of curve\n",
    "        phi:            list, angle of tangent of curve\n",
    "        d_threshold:    float, threshold distance between starting and re-intersection of the closed curve.\n",
    "        X:              array(Ny, Nx), X-meshgrid\n",
    "        Y:              array(Ny, Nx), Y-meshgrid\n",
    "        defined_domain: array(Ny, Nx), meshgrid which denotes the domain where the velocity field is defined, 1 if velocity field is defined, 0 otherwise\n",
    "        \n",
    "    Returns:\n",
    "        closed_x:       list, x-coordinate of closed curve\n",
    "        closed_y:       list, y-coordinate of closed curve\n",
    "        closed_phi:     list, angle of tangent of closed curve\n",
    "    '''\n",
    "    \n",
    "    # Discard trajectories whose maximum value was not close to 2*pi as they do not re-intersect.\n",
    "    if max(np.abs(phi)) < 0.95*2*pi:\n",
    "        return None, None, None\n",
    "    \n",
    "    # compute normal of initial curve\n",
    "    k = -(x[1]-x[0])/(y[1]-y[0])\n",
    "    \n",
    "    # define endpoints of intersection plane\n",
    "    x0 = x[0]\n",
    "    y0 = y[0]\n",
    "    x_end1 = sqrt(d_threshold**2/(k**2+1))+x0\n",
    "    y_end1 = k*(x_end1-x0)+y0\n",
    "    x_end2 = -sqrt(d_threshold**2/(k**2+1))+x0\n",
    "    y_end2 = k*(x_end2-x0)+y0\n",
    "    \n",
    "    # compute tangent vector\n",
    "    t_vector = [x[1]-x[0], y[1]-y[0]]\n",
    "    \n",
    "    # define line\n",
    "    line0 = [(x_end1, y_end1), (x_end2, y_end2)]\n",
    "    \n",
    "    # iterate over curve\n",
    "    for i in range(1, x.shape[0]-1):\n",
    "        \n",
    "        # Check if particle is in a domain where velocity field is defined\n",
    "        # If outside domain then None, None, None is returned and integration will stop.\n",
    "        if check_location(X, Y, defined_domain, np.array([x[i], y[i]]), True)[0] != \"IN\":\n",
    "            return None, None, None\n",
    "        \n",
    "        # check if vector is aligned with initial tangent vector\n",
    "        if np.sign((x[i+1]-x[i])*t_vector[0]+(y[i+1]-y[i])*t_vector[1]) >= 0:\n",
    "            \n",
    "            # check if curve re-intersects and if angle close to 2*pi (this guarantees that curve is smooth)\n",
    "            line1 = [(x[i], y[i]), (x[i+1], y[i+1])]\n",
    "            if intersects(line0, line1) and abs((abs(phi[i])-2*pi)%(2*pi))<=0.025:\n",
    "                closed_x = x[:i+1]\n",
    "                closed_y = y[:i+1]\n",
    "                closed_phi = phi[:i+1]\n",
    "                return closed_x, closed_y, closed_phi\n",
    "        \n",
    "    return None, None, None"
   ]
  },
  {
   "cell_type": "code",
   "execution_count": 3,
   "metadata": {
    "ExecuteTime": {
     "end_time": "2021-12-10T00:15:11.415944Z",
     "start_time": "2021-12-10T00:15:11.410914Z"
    }
   },
   "outputs": [],
   "source": [
    "# assumes line segments are stored in the format [(x0,y0),(x1,y1)]\n",
    "# check if two curves intersect\n",
    "def intersects(s0,s1):\n",
    "    '''\n",
    "    Checks if two curves intersect\n",
    "    '''\n",
    "    \n",
    "    dx0 = s0[1][0]-s0[0][0]\n",
    "    dx1 = s1[1][0]-s1[0][0]\n",
    "    dy0 = s0[1][1]-s0[0][1]\n",
    "    dy1 = s1[1][1]-s1[0][1]\n",
    "    p0 = dy1*(s1[1][0]-s0[0][0]) - dx1*(s1[1][1]-s0[0][1])\n",
    "    p1 = dy1*(s1[1][0]-s0[1][0]) - dx1*(s1[1][1]-s0[1][1])\n",
    "    p2 = dy0*(s0[1][0]-s1[0][0]) - dx0*(s0[1][1]-s1[0][1])\n",
    "    p3 = dy0*(s0[1][0]-s1[1][0]) - dx0*(s0[1][1]-s1[1][1])\n",
    "    return (p0*p1<=0) & (p2*p3<=0)"
   ]
  }
 ],
 "metadata": {
  "kernelspec": {
   "display_name": "Python 3",
   "language": "python",
   "name": "python3"
  },
  "language_info": {
   "codemirror_mode": {
    "name": "ipython",
    "version": 3
   },
   "file_extension": ".py",
   "mimetype": "text/x-python",
   "name": "python",
   "nbconvert_exporter": "python",
   "pygments_lexer": "ipython3",
   "version": "3.7.12"
  },
  "toc": {
   "base_numbering": 1,
   "nav_menu": {},
   "number_sections": true,
   "sideBar": true,
   "skip_h1_title": false,
   "title_cell": "Table of Contents",
   "title_sidebar": "Contents",
   "toc_cell": false,
   "toc_position": {},
   "toc_section_display": true,
   "toc_window_display": false
  }
 },
 "nbformat": 4,
 "nbformat_minor": 4
}
