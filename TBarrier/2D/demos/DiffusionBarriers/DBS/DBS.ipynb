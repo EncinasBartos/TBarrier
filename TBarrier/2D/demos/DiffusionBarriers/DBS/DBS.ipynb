{
 "cells": [
  {
   "cell_type": "markdown",
   "metadata": {},
   "source": [
    "The Diffusion Barrier Sensitivity ($\\mathrm{DBS}$) is computed from the trace of the time-averaged, diffusive structure-weighted version of the classic right Cauchy–Green strain tensor $ \\mathbf{\\overline{C}_D}_{t_0}^{t_N}(\\mathbf{x}_0) $:\n",
    "\n",
    "\\begin{equation}\n",
    "\\mathrm{DBS}_{t_0}^{t_N}(\\mathbf{x}_0)) = \\mathrm{trace}(\\mathbf{\\overline{C}_D}_{t_0}^{t_N}(\\mathbf{x}_0)) \n",
    "\\end{equation}"
   ]
  },
  {
   "cell_type": "markdown",
   "metadata": {},
   "source": [
    "| Name | Type (Shape) | Description |\n",
    "| --- | --- | --- |\n",
    "| Cd | array(Ny, Nx, 2, 2) | time-averaged, diffusive structure-weighted Cauchy–Green strain tensor $ \\mathbf{\\overline{C}_D}_{t_0}^{t_N}(\\mathbf{x}_0) $|\n",
    "| DBS | array (Ny, Nx) | Diffusion Barrier Sensitivity $ \\mathrm{DBS}_{t_0}^{t_N}(\\mathbf{x}_0)) $|"
   ]
  },
  {
   "cell_type": "code",
   "execution_count": 1,
   "metadata": {
    "ExecuteTime": {
     "end_time": "2021-11-29T15:07:56.133225Z",
     "start_time": "2021-11-29T15:07:56.125053Z"
    }
   },
   "outputs": [],
   "source": [
    "import sys, os\n",
    "\n",
    "# get current directory\n",
    "path = os.getcwd()\n",
    "\n",
    "# get parent directory\n",
    "parent_directory = os.path.sep.join(path.split(os.path.sep)[:-3])\n",
    "\n",
    "# add utils folder to current working path\n",
    "sys.path.append(parent_directory+\"/subfunctions/utils\")"
   ]
  },
  {
   "cell_type": "code",
   "execution_count": 3,
   "metadata": {
    "ExecuteTime": {
     "end_time": "2021-11-29T15:07:56.424237Z",
     "start_time": "2021-11-29T15:07:56.420188Z"
    }
   },
   "outputs": [],
   "source": [
    "def _DBS(Cd):\n",
    "                \n",
    "    # compute DBS from average Transport tensor\n",
    "    DBS = Cd[0,0]+Cd[1,1]\n",
    "                        \n",
    "    return DBS"
   ]
  }
 ],
 "metadata": {
  "kernelspec": {
   "display_name": "Python 3",
   "language": "python",
   "name": "python3"
  },
  "language_info": {
   "codemirror_mode": {
    "name": "ipython",
    "version": 3
   },
   "file_extension": ".py",
   "mimetype": "text/x-python",
   "name": "python",
   "nbconvert_exporter": "python",
   "pygments_lexer": "ipython3",
   "version": "3.7.12"
  },
  "toc": {
   "base_numbering": 1,
   "nav_menu": {},
   "number_sections": true,
   "sideBar": true,
   "skip_h1_title": false,
   "title_cell": "Table of Contents",
   "title_sidebar": "Contents",
   "toc_cell": false,
   "toc_position": {},
   "toc_section_display": true,
   "toc_window_display": false
  }
 },
 "nbformat": 4,
 "nbformat_minor": 4
}
