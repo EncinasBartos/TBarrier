{
 "cells": [
  {
   "cell_type": "markdown",
   "metadata": {},
   "source": [
    "# Add Folders to Path"
   ]
  },
  {
   "cell_type": "code",
   "execution_count": 1,
   "metadata": {
    "ExecuteTime": {
     "end_time": "2021-11-30T15:28:26.852229Z",
     "start_time": "2021-11-30T15:28:26.847876Z"
    }
   },
   "outputs": [
    {
     "name": "stdout",
     "output_type": "stream",
     "text": [
      "CPU times: user 125 µs, sys: 97 µs, total: 222 µs\n",
      "Wall time: 147 µs\n"
     ]
    }
   ],
   "source": [
    "%%time\n",
    "import sys, os\n",
    "\n",
    "# get current directory\n",
    "path = os.getcwd()\n",
    "\n",
    "# get parent directory\n",
    "parent_directory = os.path.sep.join(path.split(os.path.sep)[:-3])\n",
    "\n",
    "# add integration folder to current working path\n",
    "sys.path.append(parent_directory+\"/Src/integration\")\n",
    "\n",
    "# add utils folder to current working path\n",
    "sys.path.append(parent_directory+\"/Src/utils\")\n",
    "\n",
    "# add EllipticLCS folder to current working path\n",
    "sys.path.append(parent_directory+\"/Demos/EllipticLCS\")"
   ]
  },
  {
   "cell_type": "code",
   "execution_count": 2,
   "metadata": {
    "ExecuteTime": {
     "end_time": "2021-11-30T15:28:27.306102Z",
     "start_time": "2021-11-30T15:28:26.854330Z"
    }
   },
   "outputs": [],
   "source": [
    "# Suppress numba warnings arising from computation falling back into object mode.\n",
    "from numba.core.errors import NumbaDeprecationWarning\n",
    "import warnings\n",
    "\n",
    "warnings.simplefilter('ignore', category=NumbaDeprecationWarning)"
   ]
  },
  {
   "cell_type": "markdown",
   "metadata": {},
   "source": [
    "# Overview\n",
    "\n",
    "In the following notebok we extract elliptic LCS in the Agulhas region from the AVISO dataset. The notebook is structured as follows:\n",
    "\n",
    "* Import data from the file 'Agulhas_AVISO.mat' stored in the folder 'Data'\n",
    "<br />\n",
    "* Define computational parameters (such as the number of cores) and variables\n",
    " <br />\n",
    "* Define spatio-temporal domain over which to compute the elliptic LCS.\n",
    " <br />\n",
    "* Interpolate velocity from the (discrete) gridded data using a cubic spline interpolation <br />\n",
    "* Compute rate of strain tensor $ \\mathbf{S}(\\mathbf{x}, t) $ over meshgrid of initial conditions '$ \\mathbf{x} $' at time '$t$' <br />\n",
    "* Compute elliptic LCS as closed null geodesics of $ \\mathbf{C}_{t_0}^t(\\mathbf{x}, t)-\\mu I $."
   ]
  },
  {
   "cell_type": "markdown",
   "metadata": {},
   "source": [
    "# Import Data\n",
    "\n",
    "We start by import the AVISO-data from the file 'Agulhas_AVISO.mat' stored in the folder 'Data'."
   ]
  },
  {
   "cell_type": "code",
   "execution_count": 3,
   "metadata": {
    "ExecuteTime": {
     "end_time": "2021-11-30T15:28:27.343062Z",
     "start_time": "2021-11-30T15:28:27.310505Z"
    }
   },
   "outputs": [
    {
     "name": "stdout",
     "output_type": "stream",
     "text": [
      "CPU times: user 18 ms, sys: 12.6 ms, total: 30.6 ms\n",
      "Wall time: 29.5 ms\n"
     ]
    }
   ],
   "source": [
    "%%time\n",
    "import scipy.io as sio\n",
    "\n",
    "#Import velocity data from file in data-folder\n",
    "mat_file = sio.loadmat('../../../Data/Aviso/processed_data/Agulhas_AVISO.mat')\n",
    "\n",
    "U = mat_file['u'][:,:,:]\n",
    "V = mat_file['v'][:,:,:]\n",
    "x = mat_file['x']\n",
    "y = mat_file['y']\n",
    "time_data = mat_file['t'][:,:]"
   ]
  },
  {
   "cell_type": "markdown",
   "metadata": {},
   "source": [
    "# Data/Parameters for Dynamical System"
   ]
  },
  {
   "cell_type": "code",
   "execution_count": 4,
   "metadata": {
    "ExecuteTime": {
     "end_time": "2021-11-30T15:28:27.349270Z",
     "start_time": "2021-11-30T15:28:27.344469Z"
    }
   },
   "outputs": [],
   "source": [
    "import numpy as np\n",
    "\n",
    "# number of cores to be used for parallel computing\n",
    "Ncores = 25\n",
    "\n",
    "# time resolution of data\n",
    "dt_data = time_data[0, 1]-time_data[0,0]\n",
    "\n",
    "# periodic boundary conditions\n",
    "periodic_x = False\n",
    "periodic_y = False\n",
    "periodic = [periodic_x, periodic_y]\n",
    "\n",
    "# unsteady velocity field\n",
    "bool_unsteady = True\n",
    "\n",
    "# defined domain\n",
    "defined_domain = np.isfinite(U[:,:,0]).astype(int)\n",
    "\n",
    "## compute meshgrid of dataset\n",
    "X, Y = np.meshgrid(x, y)\n",
    "\n",
    "## resolution of meshgrid\n",
    "dx_data = X[0,1]-X[0,0]\n",
    "dy_data = Y[1,0]-Y[0,0]\n",
    "\n",
    "delta = [dx_data, dy_data]"
   ]
  },
  {
   "cell_type": "markdown",
   "metadata": {},
   "source": [
    "# Spatio-Temporal Domain of Dynamical System"
   ]
  },
  {
   "cell_type": "code",
   "execution_count": 5,
   "metadata": {
    "ExecuteTime": {
     "end_time": "2021-11-30T15:28:27.354550Z",
     "start_time": "2021-11-30T15:28:27.350690Z"
    }
   },
   "outputs": [
    {
     "name": "stdout",
     "output_type": "stream",
     "text": [
      "CPU times: user 650 µs, sys: 818 µs, total: 1.47 ms\n",
      "Wall time: 751 µs\n"
     ]
    }
   ],
   "source": [
    "%%time\n",
    "# Initial time (in days)\n",
    "t0 = 0\n",
    "\n",
    "# Final time (in days)\n",
    "tN = 25\n",
    "\n",
    "# time step-size\n",
    "dt = .1\n",
    "\n",
    "time = np.arange(t0, tN+dt, dt)\n",
    "\n",
    "# domain boundary (in degrees)\n",
    "xmin = -3\n",
    "xmax = 1\n",
    "ymin = -32\n",
    "ymax = -24\n",
    "\n",
    "# spacing of meshgrid (in degrees)\n",
    "dx = 0.02\n",
    "dy = 0.02\n",
    "\n",
    "x_domain = np.arange(xmin, xmax + dx, dx)\n",
    "y_domain = np.arange(ymin, ymax + dy, dy)\n",
    "\n",
    "X_domain, Y_domain = np.meshgrid(x_domain, y_domain)"
   ]
  },
  {
   "cell_type": "markdown",
   "metadata": {},
   "source": [
    "# Interpolate Velocity\n",
    "\n",
    "In order to evaluate the velocity field at arbitrary locations and times, we must interpolate the discrete velocity data. The interpolation with respect to time is always linear. The interpolation with respect to space can be chosen to be \"cubic\" or \"linear\". In order to favour a smooth velocity field, we interpolate the velocity field in space using a cubic interpolant. "
   ]
  },
  {
   "cell_type": "code",
   "execution_count": 6,
   "metadata": {
    "ExecuteTime": {
     "end_time": "2021-11-30T15:28:27.501935Z",
     "start_time": "2021-11-30T15:28:27.357002Z"
    }
   },
   "outputs": [
    {
     "name": "stdout",
     "output_type": "stream",
     "text": [
      "CPU times: user 123 ms, sys: 19.5 ms, total: 143 ms\n",
      "Wall time: 142 ms\n"
     ]
    }
   ],
   "source": [
    "%%time\n",
    "# Import interpolation function for unsteady flow field\n",
    "from ipynb.fs.defs.Interpolant import interpolant_unsteady\n",
    "\n",
    "# Interpolate velocity data using cubic spatial interpolation\n",
    "Interpolant = interpolant_unsteady(X, Y, U, V, time_data, method = \"cubic\")"
   ]
  },
  {
   "cell_type": "markdown",
   "metadata": {},
   "source": [
    "# Cauchy Green (CG) strain tensor over meshgrid of initial conditions\n",
    "\n",
    "The rate of strain tensor $ S(\\mathbf{x}, t) $ at time $ t $ is computed by iterating over meshgrid. The method *DS._spin_tensor(x, t)* computes the rate of strain tensor at point $ \\mathbf{x} $  at time $ t $ by using an auxiliary meshgrid. 'aux_grid' specifies the ratio between the auxiliary grid and the original meshgrid. This parameter is generally chosen to be between $ [\\dfrac{1}{10}, \\dfrac{1}{100}] $. The computations are parallelized."
   ]
  },
  {
   "cell_type": "code",
   "execution_count": null,
   "metadata": {
    "ExecuteTime": {
     "start_time": "2021-11-30T15:28:26.939Z"
    }
   },
   "outputs": [
    {
     "data": {
      "application/vnd.jupyter.widget-view+json": {
       "model_id": "1863e95715c846b09c92d1e8cf4aca15",
       "version_major": 2,
       "version_minor": 0
      },
      "text/plain": [
       "  0%|          | 0/401 [00:00<?, ?it/s]"
      ]
     },
     "metadata": {},
     "output_type": "display_data"
    }
   ],
   "source": [
    "%%time\n",
    "# Import package for progress bar\n",
    "from tqdm.notebook import tqdm\n",
    "\n",
    "# Import package for parallel computing\n",
    "from joblib import Parallel, delayed\n",
    "\n",
    "# Import gradient of velocity function\n",
    "from ipynb.fs.defs.gradient_flowmap import gradient_flowmap\n",
    "\n",
    "# Import Rate of Strain function\n",
    "from ipynb.fs.defs.CauchyGreen import CauchyGreen\n",
    "\n",
    "# Define ratio of auxiliary grid spacing vs original grid_spacing\n",
    "aux_grid_ratio = .1 # [1/10, 1/100]\n",
    "aux_grid = [np.around(aux_grid_ratio*(X_domain[0, 1]-X_domain[0, 0]), 5), np.around(aux_grid_ratio*(Y_domain[1, 0]-Y_domain[0, 0]), 5)]\n",
    "\n",
    "def parallel_C(i):\n",
    "    \n",
    "    C_parallel = np.zeros((X_domain.shape[1], 2, 2))\n",
    "    \n",
    "    for j in range(C_parallel.shape[0]):\n",
    "        \n",
    "        x = np.array([X_domain[i,j], Y_domain[i,j]])\n",
    "        \n",
    "        # Compute gradient of flowmap\n",
    "        gradFmap = gradient_flowmap(time, x, X, Y, Interpolant, periodic, defined_domain, bool_unsteady, dt_data, delta, aux_grid)\n",
    "        \n",
    "        # gradFmap has shape (2, 2, len(time)) --> we need gradient of flow map from t0 to tN\n",
    "        gradFmap_t0_tN = gradFmap[:,:,-1]\n",
    "        \n",
    "        # Compute CG tensor\n",
    "        C_parallel[j, :, :] = CauchyGreen(gradFmap_t0_tN)\n",
    "    \n",
    "    return C_parallel\n",
    "\n",
    "C = np.array(Parallel(n_jobs=Ncores, verbose = 0)(delayed(parallel_C)(i) for i in tqdm(range(X_domain.shape[0]))))"
   ]
  },
  {
   "cell_type": "markdown",
   "metadata": {},
   "source": [
    "# Compute Tensorfield Properties"
   ]
  },
  {
   "cell_type": "markdown",
   "metadata": {},
   "source": [
    "We now compute the properties of the rate of strain tensor 'S' such as the eigenvalues 's1', 's2' and eigenvectors 'eigenv1', 'eigenv2'. Furthermore, we also need the spatial derivatives of the elements of 'S'."
   ]
  },
  {
   "cell_type": "code",
   "execution_count": null,
   "metadata": {
    "ExecuteTime": {
     "start_time": "2021-11-30T15:28:26.964Z"
    }
   },
   "outputs": [],
   "source": [
    "# Import (cubic) RectBivariateSpline from scipy\n",
    "from scipy.interpolate import RectBivariateSpline as RBS\n",
    "        \n",
    "# Compute gradients of elements of rate of strain tensor\n",
    "C11 = np.nan_to_num(C[:,:,0,0], nan=0.0)\n",
    "C12 = np.nan_to_num(C[:,:,0,1], nan=0.0)\n",
    "C22 = np.nan_to_num(C[:,:,1,1], nan=0.0)\n",
    "    \n",
    "# Interpolate elements of rate of strain tensor (per default: cubic)\n",
    "interp_C11 = RBS(Y_domain[:,0], X_domain[0,:], C11)\n",
    "interp_C12 = RBS(Y_domain[:,0], X_domain[0,:], C12)\n",
    "interp_C22 = RBS(Y_domain[:,0], X_domain[0,:], C22)\n",
    "\n",
    "# Initialize arrays\n",
    "C11x = np.zeros((C.shape[0], C.shape[1]))*np.nan\n",
    "C11y = np.zeros((C.shape[0], C.shape[1]))*np.nan\n",
    "C12x = np.zeros((C.shape[0], C.shape[1]))*np.nan\n",
    "C12y = np.zeros((C.shape[0], C.shape[1]))*np.nan\n",
    "C22x = np.zeros((C.shape[0], C.shape[1]))*np.nan\n",
    "C22y = np.zeros((C.shape[0], C.shape[1]))*np.nan\n",
    "    \n",
    "# Define auxilary meshgrid\n",
    "rho_x = aux_grid[0]\n",
    "rho_y = aux_grid[1]\n",
    "        \n",
    "#iterate over meshgrid\n",
    "for i in range(X_domain.shape[0]):\n",
    "        \n",
    "    for j in range(Y_domain.shape[1]):\n",
    "            \n",
    "        x = [X_domain[i,j], Y_domain[i, j]]\n",
    "        \n",
    "        # compute derivatives using auxiliary grid and finite-differencing\n",
    "        C11x[i, j] = (interp_C11(x[1], x[0]+rho_x)[0][0]-interp_C11(x[1], x[0]-rho_x)[0][0])/(2*rho_x)\n",
    "        C11y[i, j] = (interp_C11(x[1]+rho_y, x[0])[0][0]-interp_C11(x[1]-rho_y, x[0])[0][0])/(2*rho_y)\n",
    "        \n",
    "        C12x[i, j] = (interp_C12(x[1], x[0]+rho_x)[0][0]-interp_C12(x[1], x[0]-rho_x)[0][0])/(2*rho_x)\n",
    "        C12y[i, j] = (interp_C12(x[1]+rho_y, x[0])[0][0]-interp_C12(x[1]-rho_y, x[0])[0][0])/(2*rho_y)\n",
    "            \n",
    "        C22x[i, j] = (interp_C22(x[1], x[0]+rho_x)[0][0]-interp_C22(x[1], x[0]-rho_x)[0][0])/(2*rho_x)\n",
    "        C22y[i, j] = (interp_C22(x[1]+rho_y, x[0])[0][0]-interp_C22(x[1]-rho_y, x[0])[0][0])/(2*rho_y)"
   ]
  },
  {
   "cell_type": "markdown",
   "metadata": {},
   "source": [
    "# Interpolate $ \\dot{\\phi}(x, y, \\phi)$ "
   ]
  },
  {
   "cell_type": "code",
   "execution_count": null,
   "metadata": {
    "ExecuteTime": {
     "start_time": "2021-11-30T15:28:26.983Z"
    }
   },
   "outputs": [],
   "source": [
    "%%time\n",
    "from ipynb.fs.defs.phi_prime import _phi_prime\n",
    "\n",
    "# Interpolant phi_phrime, interpolant indicating domain of existence (= denominator of phi_prime)\n",
    "interp_phi_prime, interp_DOE = _phi_prime(X_domain, Y_domain, C11, C12, C22, C11x, C11y, C12x, C12y, C22x, C22y)"
   ]
  },
  {
   "cell_type": "markdown",
   "metadata": {},
   "source": [
    "# Find closed null-geodesics of $ C − \\mu I $\n",
    "\n",
    "Elliptic LCSs are closed null geodesics of the one-parameter family of Lorentzian metrics $ C_{t_0}^{t_N}(\\mathbf{x}_0) − \\lambda $. $ \\lambda ∈ \\mathbb{R} $ denotes the tangential stretch rate along an elliptic LCS. For perfectly coherent elliptic LCS with no tangential stretching (=filamentation) it holds that $ \\mu = 0 $.  "
   ]
  },
  {
   "cell_type": "code",
   "execution_count": null,
   "metadata": {
    "ExecuteTime": {
     "start_time": "2021-11-30T15:28:27.004Z"
    }
   },
   "outputs": [],
   "source": [
    "%%time\n",
    "# Import function to extract closed null geodesics\n",
    "from ipynb.fs.defs.closed_null_geodesics import _closed_null_geodesics\n",
    "\n",
    "# extract elliptic LCS from closed null geodesics\n",
    "from ipynb.fs.defs.elliptic_LCS import _elliptic_LCS\n",
    "\n",
    "# define lambda range\n",
    "lam_min = 0.9\n",
    "lam_max = 1.1\n",
    "n_lam = 5\n",
    "lam_range = np.linspace(lam_min, lam_max, n_lam)\n",
    "\n",
    "# parameter specifying sparsity of initial conditions. \n",
    "# Increasing this parameter reduces the number of initial conditions and thereby reduces the computational time involved.\n",
    "# For maximal accuracy set sparse_ic = 1. This implies that we use the resolution of the meshgrid. \n",
    "# This value should always be at least 1.\n",
    "sparse_ic = 1\n",
    "\n",
    "# threshold distance for periodicity of trajectory\n",
    "d_threshold = dx\n",
    "\n",
    "# compute Elliptic LCS\n",
    "elliptic_LCS = []\n",
    "\n",
    "# Initial conditions of mu\n",
    "init_lam_range = []\n",
    "\n",
    "for lam in lam_range:\n",
    "    \n",
    "    print(\"Compute elliptic LCS for lambda =\", np.around(lam, 3))\n",
    "    \n",
    "    # Define list storing x, y coordinates of elliptic LCS\n",
    "    x_elliptic, y_elliptic = [], []\n",
    "    \n",
    "    # Find all closed null geodesics\n",
    "    closed_null_geodesics, init_lam = _closed_null_geodesics(X_domain, Y_domain, lam, interp_phi_prime, d_threshold, C11, interp_DOE, sparse_ic, Ncores)\n",
    "    \n",
    "    # Append initial conditions to list \n",
    "    init_lam_range.append(init_lam)\n",
    "        \n",
    "    # Extract elliptic LCS\n",
    "    x_elliptic, y_elliptic = _elliptic_LCS(closed_null_geodesics)\n",
    "           \n",
    "    elliptic_LCS.append([x_elliptic, y_elliptic])"
   ]
  },
  {
   "cell_type": "code",
   "execution_count": null,
   "metadata": {
    "ExecuteTime": {
     "start_time": "2021-11-30T15:28:27.005Z"
    }
   },
   "outputs": [],
   "source": [
    "######################################## Plot elliptic LCS ########################################\n",
    "\n",
    "# import plotting library\n",
    "import matplotlib.pyplot as plt\n",
    "import matplotlib as mpl\n",
    "\n",
    "# Define figure/axes\n",
    "fig = plt.figure(figsize = (16, 10), dpi = 300)\n",
    "ax = plt.axes()\n",
    "\n",
    "# Define norm/cmap\n",
    "norm = mpl.colors.Normalize(vmin=lam_range.min(), vmax=lam_range.max())\n",
    "cmap = mpl.cm.ScalarMappable(norm=norm, cmap='gist_rainbow_r')\n",
    "\n",
    "# Iterate over all elliptic LCS and plot\n",
    "for i in range(len(elliptic_LCS)):\n",
    "    \n",
    "    ax.scatter(init_lam_range[i][0], init_lam_range[i][1], s = 1, color=cmap.to_rgba(lam_range[i]))\n",
    "    \n",
    "    if elliptic_LCS[i][0] is not None:\n",
    "    \n",
    "        for j in range(len(elliptic_LCS[i][0])):\n",
    "        \n",
    "            if elliptic_LCS[i][0][j] is not None:\n",
    "        \n",
    "                ax.plot(elliptic_LCS[i][0][j], elliptic_LCS[i][1][j], c=cmap.to_rgba(lam_range[i]), linewidth = 2)\n",
    "\n",
    "# Set axis limits\n",
    "ax.set_xlim([xmin, xmax])\n",
    "ax.set_ylim([ymin, ymax])\n",
    "\n",
    "# Set axis labels\n",
    "ax.set_xlabel(\"long (deg)\", fontsize = 16)\n",
    "ax.set_ylabel(\"lat (deg)\", fontsize = 16)\n",
    "\n",
    "# Colorbar\n",
    "cbar = fig.colorbar(cmap, ticks=[mu_range.min(), 0, mu_range.max()])\n",
    "cbar.ax.set_ylabel(r'$ \\lambda $', rotation = 0, fontsize = 16)\n",
    "\n",
    "# Title\n",
    "ax.set_title(\"Elliptic LCS\", fontsize = 20)\n",
    "plt.show();"
   ]
  }
 ],
 "metadata": {
  "kernelspec": {
   "display_name": "Python 3",
   "language": "python",
   "name": "python3"
  },
  "language_info": {
   "codemirror_mode": {
    "name": "ipython",
    "version": 3
   },
   "file_extension": ".py",
   "mimetype": "text/x-python",
   "name": "python",
   "nbconvert_exporter": "python",
   "pygments_lexer": "ipython3",
   "version": "3.7.11"
  },
  "toc": {
   "base_numbering": 1,
   "nav_menu": {},
   "number_sections": true,
   "sideBar": true,
   "skip_h1_title": false,
   "title_cell": "Table of Contents",
   "title_sidebar": "Contents",
   "toc_cell": false,
   "toc_position": {},
   "toc_section_display": true,
   "toc_window_display": false
  }
 },
 "nbformat": 4,
 "nbformat_minor": 4
}
