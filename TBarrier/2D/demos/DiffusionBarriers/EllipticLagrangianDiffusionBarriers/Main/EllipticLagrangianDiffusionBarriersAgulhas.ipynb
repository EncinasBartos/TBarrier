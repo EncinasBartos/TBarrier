{
 "cells": [
  {
   "cell_type": "markdown",
   "metadata": {},
   "source": [
    "# Add Folders to Path"
   ]
  },
  {
   "cell_type": "code",
   "execution_count": 1,
   "metadata": {
    "ExecuteTime": {
     "end_time": "2021-12-16T23:16:49.419611Z",
     "start_time": "2021-12-16T23:16:49.414010Z"
    }
   },
   "outputs": [
    {
     "name": "stdout",
     "output_type": "stream",
     "text": [
      "CPU times: user 170 µs, sys: 123 µs, total: 293 µs\n",
      "Wall time: 206 µs\n"
     ]
    }
   ],
   "source": [
    "%%time\n",
    "import sys, os\n",
    "\n",
    "# get current directory\n",
    "path = os.getcwd()\n",
    "\n",
    "# get parent directory\n",
    "parent_directory = os.path.sep.join(path.split(os.path.sep)[:-4])\n",
    "\n",
    "# add utils folder to current working path\n",
    "sys.path.append(parent_directory+\"/subfunctions/utils\")\n",
    "\n",
    "# add integration folder to current working path\n",
    "sys.path.append(parent_directory+\"/subfunctions/integration\")\n",
    "\n",
    "# add EllipticLagrangianDiffusionBarriers folder to current working path\n",
    "sys.path.append(parent_directory+\"/demos/DiffusionBarriers/EllipticLagrangianDiffusionBarriers\")"
   ]
  },
  {
   "cell_type": "markdown",
   "metadata": {},
   "source": [
    "# Overview\n",
    "\n",
    "In the following notebok we extract elliptic Lagrangian diffusion barriers in the Agulhas region from the AVISO dataset using the null geodesic identification scheme. The notebook is structured as follows:\n",
    "\n",
    "1. Import data from the file 'AVISO.mat' stored in the folder 'data'\n",
    "<br />\n",
    "2. Define computational parameters (such as the number of cores) and variables\n",
    " <br />\n",
    "3. Define spatio-temporal domain.\n",
    " <br />\n",
    "4. Interpolate velocity from the (discrete) gridded data using a cubic spline interpolation\n",
    " <br />\n",
    "5. Elliptic Lagrangian diffusion barriers (LDB):\n",
    "\n",
    "    * Compute gradient of flow map $ \\mathbf{\\nabla F}_{t_0}^{t_N}(\\mathbf{x}_0) $ over meshgrid using an auxiliary meshgrid. \n",
    "    <br />\n",
    "    * Compute time-averaged diffusion Cauchy Green strain tensor as: \n",
    "    \n",
    "    \\begin{equation} \\mathbf{\\overline{C}_D}_{t_0}^{t_N}(\\mathbf{x}_0) = \\dfrac{1}{t_N-t_0} \\int_{t_0}^{t_N}[\\mathbf{C}_D]_{t_0}^{t_N} dt = \\dfrac{1}{t_N-t_0} \\int_{t_0}^{t_N} det[\\mathbf{D}(\\mathbf{F}_{t_0}^t(\\mathbf{x}_0), t)][\\mathbf{T}_{t_0}^t(\\mathbf{x}_0)]^{-1} dt, \\end{equation} where $ \\mathbf{T}_{t_0}^t(\\mathbf{x}_0) = [\\mathbf{\\nabla_0 F_{t_0}^t}(\\mathbf{x}_0)]^{-1}\\mathbf{D}(\\mathbf{F}_{t_0}^t(\\mathbf{x}_0), t)\\mathbf{\\nabla_0 F_{t_0}^t}(\\mathbf{x}_0)]^{-T} $ \n",
    "    <br />\n",
    "    * Compute eigenvectors $ \\xi_{1,2}(\\mathbf{x}_0) $ of the Cauchy Green strain tensor $ \\mathbf{C}_{t_0}^{t_N}(\\mathbf{x}_0) $.\n",
    "    <br />\n",
    "    * Uniform transport barriers and enhancers satisfy\n",
    "    \n",
    "    \\begin{equation}\n",
    "    \\langle \\mathbf{x}_0', (\\mathbf{\\overline{C}_D}_{t_0}^{t_N}(\\mathbf{x}_0)- \\mathcal{T}_0 \\mathbf{I})\n",
    "    \\mathbf{x}_0') = 0\n",
    "    \\end{equation}\n",
    "    \n",
    "    These are precisely null-geodesics of:\n",
    "    \n",
    "    \\begin{equation}\n",
    "    \\mathbf{\\hat{E}}_{\\mathcal{T}_0}(\\mathbf{x}_0) = \\mathbf{\\overline{C}}_d(\\mathbf{x}_0)-\n",
    "    \\mathcal{T}_0\\mathbf{I},\n",
    "    \\end{equation} on the spatial domain satisfying $ \\overline{\\lambda}_1 \\leq \\mathcal{T}_0 \\leq\n",
    "    \\overline{\\lambda}_2 $\n",
    "    \n",
    "    Elliptic Lagrangian diffusion barriers are closed null geodesics of the one-parameter family of Lorentzian\n",
    "    metrics $ \\mathrm{\\overline{C}_{D}}_{t_0}^{t_N}(\\mathbf{x}_0) − \\mathcal{T}_0 I $. $ \\mathcal{T}_0 $ equals to the uniform diffusive transport density across any material surface over the time-interval $\n",
    "    [t_0, t_N] $.\n",
    "    \n",
    "    Elliptic Lagrangian diffusion barrierss are closed null geodesics of the one-parameter family of Lorentzian\n",
    "    metrics:\n",
    "    \n",
    "    \\begin{equation}\n",
    "    \\mathrm{A_{\\mathcal{T}_0}(\\mathbf{x}_0,t)} = \\mathbf{\\overline{C}_D}_{t_0}^{t_N}(\\mathbf{x}_0) - \\mathcal{T}_0\\mathbf{I}\n",
    "    \\end{equation}\n",
    "    \n",
    "    We denote:\n",
    "    \\begin{equation}\n",
    "    \\mathbf{\\overline{C}_D}_{t_0}^{t_N}(\\mathbf{x}_0) = \\begin{pmatrix} C_D^{11} && C_D^{12} \\\\ C_D^{12} && C_D^{22}\\end{pmatrix}\n",
    "    \\end{equation}\n",
    "    \n",
    "    Closed null geodesics are closed curves of the system of ODE:\n",
    "    \n",
    "    \\begin{align*}\n",
    "    \\dfrac{d \\mathbf{x}}{ds} &= \\mathbf{e}_{\\phi}(s) = \\begin{pmatrix} \\cos(\\phi(s)) \\\\ \\sin(\\phi(s)) \\end{pmatrix} \\\\\n",
    "    \\dfrac{d \\phi}{ds} &= - \\dfrac{\\langle \\mathbf{e}_{\\phi}(s), (\\nabla_x A(\\mathbf{x}) \\mathbf{e}_{\\phi}(s)) \\mathbf{e}_{\\phi}(s) \\rangle}{2 \\langle \\mathbf{e}_{\\phi}, R^T A(\\mathbf{x}) \\mathbf{e}_{\\phi}(s)}, \n",
    "    \\end{align*} where $ R = \\begin{pmatrix} 0 && -1 \\\\ 1 && 0\\end{pmatrix} $.\n",
    "    \n",
    "    $  \\dfrac{d \\phi}{ds} $ depends both on $ \\mathbf{x} $ and on $ \\phi $ and can be evaluated through interpolation by first computing $ \\nabla_x \\mathbf{A}(\\mathbf{x}) = \\nabla_x \\mathbf{\\overline{C}_D}_{t_0}^{t_N}(\\mathbf{x}) $ over the meshgrid. \n",
    "    \n",
    "    It holds:\n",
    "    \\begin{equation}\n",
    "    \\dfrac{d \\phi}{ds} = - \\dfrac{\\cos^2(\\phi)[{C_D}_x^{11}(\\mathbf{x})\\cos(\\phi)+{C_D}_y^{11}(\\mathbf{x})\\sin(\\phi)]+[{C_D}_x^{12}(\\mathbf{x})\\cos(\\phi)+{C_D}_y^{11}(\\mathbf{x})\\sin(\\phi)]\\sin(2\\phi)+\\sin^2(\\phi)[{C_D}_x^{22}(\\mathbf{x})\\cos(\\phi)+{C_D}_y^{22}(\\mathbf{x})\\sin(\\phi)}{\\sin(2\\phi)[C_D^{22}(\\mathbf{x})-C_D^{11}(\\mathbf{x})]+2\\cos(2\\phi)C_D^{12}(\\mathbf{x})}\n",
    "    \\end{equation}\n",
    "    \n",
    "    The set of initial conditions is given by:\n",
    "    \\begin{equation}\n",
    "    (\\mathbf{x}_0, \\phi_0)_{\\mathcal{T}_0} = \\lbrace (\\mathbf{x}_0(\\mathcal{T}_0, \\phi = 0), 0) \\in V: C_D^{11}(\\mathbf{x}, t)- \\mathcal{T}_0 = 0 \\rbrace\n",
    "    \\end{equation}\n",
    "    \n",
    "    Furthermore the domain of existence of the ODE is restricted to points $ \\mathbf{x}, \\phi $ where:\n",
    "    \n",
    "    \\begin{equation}\n",
    "    \\sin(2\\phi)[C_D^{22}(\\mathbf{x})-C_D^{11}(\\mathbf{x})]+2\\cos(2\\phi)C_D^{12}(\\mathbf{x}) \\neq 0\n",
    "    \\end{equation}"
   ]
  },
  {
   "cell_type": "markdown",
   "metadata": {},
   "source": [
    "# Import Data\n",
    "\n",
    "We start by import the AVISO-data from the file 'Agulhas_AVISO.mat' stored in the folder 'Data'."
   ]
  },
  {
   "cell_type": "code",
   "execution_count": 2,
   "metadata": {
    "ExecuteTime": {
     "end_time": "2021-12-16T23:16:49.647487Z",
     "start_time": "2021-12-16T23:16:49.473664Z"
    }
   },
   "outputs": [
    {
     "name": "stdout",
     "output_type": "stream",
     "text": [
      "CPU times: user 139 ms, sys: 31.8 ms, total: 171 ms\n",
      "Wall time: 171 ms\n"
     ]
    }
   ],
   "source": [
    "%%time\n",
    "import scipy.io as sio\n",
    "\n",
    "#Import velocity data from file in data-folder\n",
    "mat_file = sio.loadmat('../../../../data/Aviso/AVISO.mat')\n",
    "\n",
    "U = mat_file['u']\n",
    "V = mat_file['v']\n",
    "x = mat_file['x']\n",
    "y = mat_file['y']\n",
    "time_data = mat_file['t']"
   ]
  },
  {
   "cell_type": "markdown",
   "metadata": {},
   "source": [
    "# Computational parameters and data\n",
    "\n",
    "Here we define the computational parameters and the data."
   ]
  },
  {
   "cell_type": "code",
   "execution_count": 3,
   "metadata": {
    "ExecuteTime": {
     "end_time": "2021-12-16T23:16:49.653266Z",
     "start_time": "2021-12-16T23:16:49.649281Z"
    }
   },
   "outputs": [],
   "source": [
    "import numpy as np\n",
    "\n",
    "# number of cores to be used for parallel computing\n",
    "Ncores = 18\n",
    "\n",
    "# time resolution of data\n",
    "dt_data = time_data[0,1]-time_data[0,0]\n",
    "\n",
    "# periodic boundary conditions\n",
    "periodic_x = False\n",
    "periodic_y = False\n",
    "periodic = [periodic_x, periodic_y]\n",
    "\n",
    "# unsteady velocity field\n",
    "bool_unsteady = True\n",
    "\n",
    "# defined domain\n",
    "# This array denotes where the velocity field is defined (=1) and where it is not defined (=0)\n",
    "defined_domain = np.isfinite(U[:,:,0]).astype(int)\n",
    "\n",
    "## meshgrid\n",
    "X, Y = np.meshgrid(x, y)\n",
    "\n",
    "## resolution of meshgrid\n",
    "dx_data = X[0,1]-X[0,0]\n",
    "dy_data = Y[1,0]-Y[0,0]\n",
    "\n",
    "delta = [dx_data, dy_data]"
   ]
  },
  {
   "cell_type": "markdown",
   "metadata": {},
   "source": [
    "# Spatio-temporal domain\n",
    "\n",
    "Here we define the spatio-temporal domain over which to consider the dynamical system."
   ]
  },
  {
   "cell_type": "code",
   "execution_count": 4,
   "metadata": {
    "ExecuteTime": {
     "end_time": "2021-12-16T23:16:49.660515Z",
     "start_time": "2021-12-16T23:16:49.655093Z"
    }
   },
   "outputs": [
    {
     "name": "stdout",
     "output_type": "stream",
     "text": [
      "CPU times: user 1.43 ms, sys: 1.56 ms, total: 2.99 ms\n",
      "Wall time: 2.11 ms\n"
     ]
    }
   ],
   "source": [
    "%%time\n",
    "# Initial time (in days)\n",
    "t0 = 0\n",
    "\n",
    "# Final time (in days)\n",
    "tN = 30\n",
    "\n",
    "# time step-size\n",
    "dt = .1\n",
    "\n",
    "# Time resolution: N = len(time)\n",
    "time = np.arange(t0, tN+dt, dt)\n",
    "\n",
    "# length of time interval (in days)\n",
    "lenT = tN-t0\n",
    "\n",
    "# domain boundary (in degrees)\n",
    "xmin = -3\n",
    "xmax = 1\n",
    "ymin = -32\n",
    "ymax = -24\n",
    "\n",
    "# make sure that the spatio-temporal you defined are within the domain of the data\n",
    "assert (xmax <= np.max(X) and xmin >= np.min(X) and ymin >= np.min(Y) and ymax <= np.max(Y) and t0 >= np.min(time_data) and tN <= np.max(time_data)),\"The domains you are chooising are outside the domain of the data!!!!! --> redefine spatial/temporal domain\"\n",
    "\n",
    "# spacing of meshgrid (in degrees)\n",
    "dx = 0.01\n",
    "dy = 0.01\n",
    "\n",
    "# NOTE: As we are computing spatial derivatives of the CG-tensor, the spacing of the meshgrid has to be sufficiently small.\n",
    "# However, choosing dx to be too small leads to (unnecessary) long computation times.\n",
    "\n",
    "x_domain = np.arange(xmin, xmax + dx, dx)\n",
    "y_domain = np.arange(ymin, ymax + dy, dy)\n",
    "\n",
    "X_domain, Y_domain = np.meshgrid(x_domain, y_domain)"
   ]
  },
  {
   "cell_type": "markdown",
   "metadata": {},
   "source": [
    "# Interpolate Velocity\n",
    "\n",
    "In order to evaluate the velocity field at arbitrary locations and times, we interpolate the discrete velocity data. The interpolation with respect to time is always linear. The interpolation with respect to space can be chosen to be \"cubic\" or \"linear\"."
   ]
  },
  {
   "cell_type": "code",
   "execution_count": 5,
   "metadata": {
    "ExecuteTime": {
     "end_time": "2021-12-16T23:16:49.742480Z",
     "start_time": "2021-12-16T23:16:49.662176Z"
    }
   },
   "outputs": [
    {
     "name": "stdout",
     "output_type": "stream",
     "text": [
      "CPU times: user 62.9 ms, sys: 14.8 ms, total: 77.8 ms\n",
      "Wall time: 77.4 ms\n"
     ]
    }
   ],
   "source": [
    "%%time\n",
    "# Import interpolation function for unsteady flow field\n",
    "from ipynb.fs.defs.Interpolant import interpolant_unsteady\n",
    "\n",
    "# set nan values to zero so that we can apply interpolant. Interpolant does not work if the array contains nan values\n",
    "U[np.isnan(U)] = 0\n",
    "V[np.isnan(V)] = 0\n",
    "\n",
    "# Interpolate velocity data using cubic spatial interpolation\n",
    "Interpolant = interpolant_unsteady(X, Y, U, V, time_data, method = \"cubic\")"
   ]
  },
  {
   "cell_type": "markdown",
   "metadata": {},
   "source": [
    "#  Time averaged diffusion Cauchy Green (CG) strain tensor\n",
    "\n",
    "Next, we compute the time-averaged diffusion Cauchy Green strain tensor $ \\mathrm{\\overline{C}_{D}}_{t_0}^{t_N}(\\mathbf{x}_0) $ over the time-interval $ [t_0, t_N] $ by iterating over a meshgrid (parallelized). 'aux_grid' specifies the ratio between the auxiliary grid and the original meshgrid when computing spatial derivatives. This parameter is generally chosen to be between $ [\\dfrac{1}{5}, \\dfrac{1}{10}] $."
   ]
  },
  {
   "cell_type": "code",
   "execution_count": null,
   "metadata": {
    "ExecuteTime": {
     "start_time": "2021-12-16T23:16:49.557Z"
    }
   },
   "outputs": [
    {
     "data": {
      "application/vnd.jupyter.widget-view+json": {
       "model_id": "f98151b977964703bb6a0a7279c85ef8",
       "version_major": 2,
       "version_minor": 0
      },
      "text/plain": [
       "  0%|          | 0/802 [00:00<?, ?it/s]"
      ]
     },
     "metadata": {},
     "output_type": "display_data"
    }
   ],
   "source": [
    "%%time\n",
    "# Import package for progress bar\n",
    "from tqdm.notebook import tqdm\n",
    "\n",
    "# Import package for parallel computing\n",
    "from joblib import Parallel, delayed\n",
    "\n",
    "# Import gradient of velocity function\n",
    "from ipynb.fs.defs.gradient_flowmap import gradient_flowmap\n",
    "\n",
    "# Import package for computing trajectories/velocity\n",
    "from ipynb.fs.defs.integration_dFdt import integration_dFdt\n",
    "\n",
    "# Import Rate of Strain function\n",
    "from ipynb.fs.defs.DiffusionCauchyGreen import DiffusionCauchyGreen\n",
    "\n",
    "# Import package which checks particle location\n",
    "from ipynb.fs.defs.check_location import check_location\n",
    "\n",
    "# Import RegularGridInterpolator\n",
    "from scipy.interpolate import RegularGridInterpolator\n",
    "\n",
    "# Define ratio of auxiliary grid spacing vs original grid_spacing\n",
    "aux_grid_ratio = .1 # [1/5, 1/10]\n",
    "aux_grid = [aux_grid_ratio*(X_domain[0, 1]-X_domain[0, 0]), aux_grid_ratio*(Y_domain[1, 0]-Y_domain[0, 0])]\n",
    "\n",
    "# number of diffusive Cauchy Green strain tensor\n",
    "n_averaging = 10\n",
    "\n",
    "# Components of diffusivity tensor D11, D12, D22 over spatial meshgrid and time have shape (Ny, Nx, N)\n",
    "# , where Ny/Nx are the spatial resolution in the lat/long coordinates\n",
    "# and N the time-resolution of the data\n",
    "D11_field = np.zeros((X.shape[0], Y.shape[1], time_data.shape[1]))\n",
    "D12_field = np.zeros((X.shape[0], Y.shape[1], time_data.shape[1]))\n",
    "D22_field = np.zeros((X.shape[0], Y.shape[1], time_data.shape[1]))\n",
    "\n",
    "# Diffusivity Tensor (we set it to be constant in space and time \n",
    "# but it can generally be spatially and temporally varying)\n",
    "D11 = 1\n",
    "D12 = 0\n",
    "D22 = 1\n",
    "D11_field[:,:,:] = D11\n",
    "D12_field[:,:,:] = D12\n",
    "D22_field[:,:,:] = D22\n",
    "\n",
    "# Interpolate D11_field/D12_field/D22_field over spatial and temporal domain\n",
    "Interpolant_D11 = RegularGridInterpolator((Y[:,0], X[0,:], time_data[0,:]), D11_field)\n",
    "Interpolant_D12 = RegularGridInterpolator((Y[:,0], X[0,:], time_data[0,:]), D12_field)\n",
    "Interpolant_D22 = RegularGridInterpolator((Y[:,0], X[0,:], time_data[0,:]), D22_field)\n",
    "\n",
    "def parallel_CD(i):\n",
    "    \n",
    "    CD_parallel = np.zeros((X_domain.shape[1], 2, 2))*np.nan\n",
    "    \n",
    "    for j in range(CD_parallel.shape[0]):\n",
    "        \n",
    "        x = np.array([X_domain[i,j], Y_domain[i,j]])\n",
    "        \n",
    "        # only compute CG tensor for particles in region where velocity field is defined\n",
    "        if check_location(X, Y, defined_domain, x)[0] == \"IN\":\n",
    "        \n",
    "            # compute trajectory\n",
    "            Fmap = integration_dFdt(time, x, X, Y, Interpolant, periodic, defined_domain, bool_unsteady, dt_data, delta)[0]\n",
    "        \n",
    "            # Compute gradient of flowmap\n",
    "            gradFmap = gradient_flowmap(time, x, X, Y, Interpolant, periodic, defined_domain, bool_unsteady, dt_data, delta, aux_grid)\n",
    "        \n",
    "            # Compute diffusion averaged CG tensor\n",
    "            CD_parallel[j, :, :] = DiffusionCauchyGreen(Interpolant_D11, Interpolant_D12, Interpolant_D22, time, Fmap, gradFmap, lenT, n_averaging)\n",
    "    \n",
    "    return CD_parallel\n",
    "\n",
    "CD = np.array(Parallel(n_jobs=Ncores, verbose = 0)(delayed(parallel_CD)(i) for i in tqdm(range(X_domain.shape[0]))))"
   ]
  },
  {
   "cell_type": "markdown",
   "metadata": {},
   "source": [
    "# Compute tensorfield"
   ]
  },
  {
   "cell_type": "code",
   "execution_count": null,
   "metadata": {
    "ExecuteTime": {
     "start_time": "2021-12-16T23:16:49.575Z"
    }
   },
   "outputs": [],
   "source": [
    "# Import (cubic) RectBivariateSpline from scipy\n",
    "from scipy.interpolate import RectBivariateSpline as RBS\n",
    "        \n",
    "# Compute gradients of elements of rate of strain tensor\n",
    "\n",
    "# Initialize array\n",
    "CD11 = np.nan_to_num(CD[:,:,0,0], nan=0.0)\n",
    "CD12 = np.nan_to_num(CD[:,:,0,1], nan=0.0)\n",
    "CD22 = np.nan_to_num(CD[:,:,1,1], nan=0.0)\n",
    "    \n",
    "# Interpolate elements of rate of strain tensor (per default: cubic)\n",
    "interp_CD11 = RBS(Y_domain[:,0], X_domain[0,:], CD11)\n",
    "interp_CD12 = RBS(Y_domain[:,0], X_domain[0,:], CD12)\n",
    "interp_CD22 = RBS(Y_domain[:,0], X_domain[0,:], CD22)\n",
    "\n",
    "# Compute elements of CG tensor\n",
    "CD11 = CD[:,:,0,0].copy()\n",
    "CD12 = CD[:,:,0,1].copy()\n",
    "CD22 = CD[:,:,1,1].copy()\n",
    "    \n",
    "# Interpolate elements of CG tensor (per default: linear)\n",
    "interp_CD11 = RBS(Y_domain[:,0], X_domain[0,:], np.nan_to_num(CD11, nan=0.0), kx = 3, ky = 3)\n",
    "interp_CD12 = RBS(Y_domain[:,0], X_domain[0,:], np.nan_to_num(CD12, nan=0.0), kx = 3, ky = 3)\n",
    "interp_CD22 = RBS(Y_domain[:,0], X_domain[0,:], np.nan_to_num(CD22, nan=0.0), kx = 3, ky = 3)\n",
    "\n",
    "# Initialize arrays\n",
    "CD11x = np.zeros((CD.shape[0], CD.shape[1]))*np.nan\n",
    "CD11y = np.zeros((CD.shape[0], CD.shape[1]))*np.nan\n",
    "CD12x = np.zeros((CD.shape[0], CD.shape[1]))*np.nan\n",
    "CD12y = np.zeros((CD.shape[0], CD.shape[1]))*np.nan\n",
    "CD22x = np.zeros((CD.shape[0], CD.shape[1]))*np.nan\n",
    "CD22y = np.zeros((CD.shape[0], CD.shape[1]))*np.nan\n",
    "    \n",
    "# Define auxilary meshgrid\n",
    "rho_x = aux_grid[0]\n",
    "rho_y = aux_grid[1]\n",
    "        \n",
    "#iterate over meshgrid\n",
    "for i in range(X_domain.shape[0]):\n",
    "        \n",
    "    for j in range(Y_domain.shape[1]):\n",
    "            \n",
    "        x = [X_domain[i,j], Y_domain[i, j]]\n",
    "        \n",
    "        # compute derivatives using auxiliary grid and finite-differencing\n",
    "        CD11x[i, j] = (interp_CD11(x[1], x[0]+rho_x)[0][0]-interp_CD11(x[1], x[0]-rho_x)[0][0])/(2*rho_x)\n",
    "        CD11y[i, j] = (interp_CD11(x[1]+rho_y, x[0])[0][0]-interp_CD11(x[1]-rho_y, x[0])[0][0])/(2*rho_y)\n",
    "        \n",
    "        CD12x[i, j] = (interp_CD12(x[1], x[0]+rho_x)[0][0]-interp_CD12(x[1], x[0]-rho_x)[0][0])/(2*rho_x)\n",
    "        CD12y[i, j] = (interp_CD12(x[1]+rho_y, x[0])[0][0]-interp_CD12(x[1]-rho_y, x[0])[0][0])/(2*rho_y)\n",
    "            \n",
    "        CD22x[i, j] = (interp_CD22(x[1], x[0]+rho_x)[0][0]-interp_CD22(x[1], x[0]-rho_x)[0][0])/(2*rho_x)\n",
    "        CD22y[i, j] = (interp_CD22(x[1]+rho_y, x[0])[0][0]-interp_CD22(x[1]-rho_y, x[0])[0][0])/(2*rho_y)"
   ]
  },
  {
   "cell_type": "markdown",
   "metadata": {},
   "source": [
    "# Interpolate $ \\dot{\\phi}(x, y, \\phi)$ "
   ]
  },
  {
   "cell_type": "code",
   "execution_count": null,
   "metadata": {
    "ExecuteTime": {
     "start_time": "2021-12-16T23:16:49.592Z"
    }
   },
   "outputs": [],
   "source": [
    "%%time\n",
    "from ipynb.fs.defs.phi_prime import _phi_prime\n",
    "\n",
    "# Interpolant phi_phrime, interpolant indicating domain of existence (= denominator of phi_prime)\n",
    "interp_phi_prime, interp_DOE = _phi_prime(X_domain, Y_domain, CD11, CD12, CD22, CD11x, CD11y, CD12x, CD12y, CD22x, CD22y)"
   ]
  },
  {
   "cell_type": "markdown",
   "metadata": {},
   "source": [
    "# Elliptic Lagrangian diffusion barriers"
   ]
  },
  {
   "cell_type": "code",
   "execution_count": null,
   "metadata": {
    "ExecuteTime": {
     "start_time": "2021-12-16T23:16:49.619Z"
    }
   },
   "outputs": [],
   "source": [
    "%%time\n",
    "# import plotting library\n",
    "import matplotlib.pyplot as plt\n",
    "import matplotlib as mpl\n",
    "\n",
    "# Import function to extract closed null geodesics\n",
    "from ipynb.fs.defs.closed_null_geodesics import closed_null_geodesics\n",
    "\n",
    "# extract elliptic LDB from closed null geodesics\n",
    "from ipynb.fs.defs.elliptic_DB import elliptic_DB\n",
    "\n",
    "# define T0 range\n",
    "T0_min = .5\n",
    "T0_max = 1.5\n",
    "n_T0 = Ncores\n",
    "T0_range = np.linspace(T0_min, T0_max, n_T0)\n",
    "\n",
    "# threshold distance between starting and return point of trajectory\n",
    "d_threshold = 0.02\n",
    "\n",
    "# compute elliptic LDB\n",
    "def compute_elliptic_LDB(T0):\n",
    "    \n",
    "    # Define list storing x, y coordinates of elliptic LCS\n",
    "    x_elliptic, y_elliptic = [], []\n",
    "    \n",
    "    # Find all closed null geodesics\n",
    "    closed_NG, init_T0 = closed_null_geodesics(X_domain, Y_domain, T0, interp_phi_prime, d_threshold, CD11, defined_domain, interp_DOE)\n",
    "    \n",
    "    # Extract elliptic LCS\n",
    "    x_elliptic, y_elliptic = elliptic_DB(closed_NG)\n",
    "        \n",
    "    return [x_elliptic, y_elliptic, init_T0]\n",
    "        \n",
    "# compute elliptic LDB with parallel computing\n",
    "Elliptic_LDB = Parallel(n_jobs=Ncores, verbose = 50)(delayed(compute_elliptic_LDB)(T0) for T0 in T0_range)"
   ]
  },
  {
   "cell_type": "code",
   "execution_count": null,
   "metadata": {
    "ExecuteTime": {
     "start_time": "2021-12-16T23:16:49.620Z"
    },
    "scrolled": false
   },
   "outputs": [],
   "source": [
    "%%time\n",
    "######################################## Plot elliptic LDB ########################################\n",
    "\n",
    "# import plotting library\n",
    "import matplotlib.pyplot as plt\n",
    "import matplotlib as mpl\n",
    "\n",
    "# Define figure/axes\n",
    "fig = plt.figure(figsize = (8, 4), dpi = 600)\n",
    "ax = plt.axes()\n",
    "\n",
    "# Define norm/cmap\n",
    "norm = mpl.colors.Normalize(vmin=T0_range.min(), vmax=T0_range.max())\n",
    "cmap = mpl.cm.ScalarMappable(norm=norm, cmap='gist_rainbow_r')\n",
    "\n",
    "# Iterate over all elliptic LDB and plot\n",
    "for i in range(len(Elliptic_LDB)):\n",
    "    \n",
    "    # Plot initial conditions\n",
    "    ax.scatter(Elliptic_LDB[i][2][0], Elliptic_LDB[i][2][1], color=cmap.to_rgba(T0_range[i]), s = 0.1)\n",
    "    \n",
    "    # Plot elliptic LDB\n",
    "    if Elliptic_LDB[i][0] is not None:\n",
    "        for j in range(len(Elliptic_LDB[i][0])):\n",
    "            if Elliptic_LDB[i][0][j] is not None:\n",
    "                ax.plot(Elliptic_LDB[i][0][j], Elliptic_LDB[i][1][j], c=cmap.to_rgba(T0_range[i]), linewidth = 1)\n",
    "\n",
    "# Set axis limits\n",
    "ax.set_xlim([xmin, xmax])\n",
    "ax.set_ylim([ymin, ymax])\n",
    "\n",
    "# Set axis labels\n",
    "ax.set_xlabel(\"long (°)\", fontsize = 10)\n",
    "ax.set_ylabel(\"lat (°)\", fontsize = 10)\n",
    "\n",
    "# Colorbar\n",
    "cbar = fig.colorbar(cmap, ticks=[T0_range.min(), 1, T0_range.max()])\n",
    "cbar.ax.set_ylabel(r'$ \\mathcal{T}_0 $', rotation = 0, fontsize = 10)\n",
    "\n",
    "# Title\n",
    "ax.set_title(\"Elliptic Lagrangian diffusion barriers\", fontsize = 10)\n",
    "plt.show();"
   ]
  },
  {
   "cell_type": "markdown",
   "metadata": {},
   "source": [
    "The colored (closed) curves indicate elliptic Lagrangian diffusion barriers with constant transport density $ \\mathcal{T}_0 $. The colored dots indicate the initial conditions depending on $ \\mathcal{T}_0 $."
   ]
  },
  {
   "cell_type": "markdown",
   "metadata": {},
   "source": [
    "# Find outermost closed curve for each family of elliptic Lagrangian diffusion barriers\n",
    "\n",
    "We now seek to find the outermost elliptic LDB within each family of LDBs. The extracted (outermost) elliptic diffusion barriers are plotted together with Diffusion Barrier Sensitivity (DBS)."
   ]
  },
  {
   "cell_type": "code",
   "execution_count": null,
   "metadata": {
    "ExecuteTime": {
     "start_time": "2021-12-16T23:16:49.662Z"
    }
   },
   "outputs": [],
   "source": [
    "# add DBS folder to current working path in order to access the functions\n",
    "sys.path.append(parent_directory+\"/demos/DiffusionBarriers/DBS\")\n",
    "\n",
    "# Import function for computing Diffusion Barrier Sensitivity\n",
    "from ipynb.fs.defs.DBS import _DBS\n",
    "\n",
    "# import function which extracts outermost elliptic LDB for each family of elliptic LDB\n",
    "from ipynb.fs.defs.find_outermost_closed_curve import find_outermost_closed_curve\n",
    "\n",
    "# find outermost elliptic LDB in each family of elliptic LDB\n",
    "x_outermost_elliptic_LDB, y_outermost_elliptic_LDB, T0_outermost_elliptic_LDB = find_outermost_closed_curve(Elliptic_LDB, T0_range)\n",
    "\n",
    "# initialize DBS\n",
    "log_DBS = CD[:,:,0,0].copy()*np.nan\n",
    "\n",
    "# compute DBS field\n",
    "for i in range(CD.shape[0]):\n",
    "    for j in range(CD.shape[1]):\n",
    "        log_DBS[i, j] = np.log(_DBS(CD[i, j, :, :]))"
   ]
  },
  {
   "cell_type": "code",
   "execution_count": null,
   "metadata": {
    "ExecuteTime": {
     "start_time": "2021-12-16T23:16:49.663Z"
    }
   },
   "outputs": [],
   "source": [
    "%%time\n",
    "######################################## Plot outermost elliptic Lagrangian diffusion barriers on top of DBS ########################################\n",
    "\n",
    "# import plotting library\n",
    "import matplotlib.pyplot as plt\n",
    "import matplotlib as mpl\n",
    "\n",
    "# Define figure/axes\n",
    "fig = plt.figure(figsize = (8, 4), dpi = 600)\n",
    "ax = plt.axes()\n",
    "\n",
    "# Iterate over all outermost elliptic LDB and plot\n",
    "for i in range(len(x_outermost_elliptic_LDB)):\n",
    "    \n",
    "    ax.plot(x_outermost_elliptic_LDB[i], y_outermost_elliptic_LDB[i], label = r'$ \\mathcal{T}_0 = $' + str(np.around(T0_outermost_elliptic_LDB[i], 2)))\n",
    "    \n",
    "# Set axis limits\n",
    "ax.set_xlim([xmin, xmax])\n",
    "ax.set_ylim([ymin, ymax])\n",
    "\n",
    "# Set axis labels\n",
    "ax.set_xlabel(\"long (°)\", fontsize = 10)\n",
    "ax.set_ylabel(\"lat (°)\", fontsize = 10)\n",
    "\n",
    "cax = ax.contourf(X_domain, Y_domain, log_DBS, cmap = \"gist_gray\", levels = 600)\n",
    "\n",
    "# Colorbar of log(DBS)\n",
    "cbar = fig.colorbar(cax, ticks = np.arange(0, 16, 2))\n",
    "cbar.ax.set_ylabel(r'$ log(DBS) $', rotation = 90, fontsize = 10)\n",
    "\n",
    "# Title\n",
    "ax.set_title(\"Elliptic Lagrangian diffusion barriers on DBS\", fontsize = 10)\n",
    "\n",
    "plt.legend(loc = \"upper right\")\n",
    "plt.show();"
   ]
  },
  {
   "cell_type": "markdown",
   "metadata": {},
   "source": [
    "# References\n",
    "\n",
    "[1] Haller, G., Karrasch, D., & Kogelbauer, F. (2018). Material barriers to diffusive and stochastic transport. Proceedings of the National Academy of Sciences, 115(37), 9074-9079."
   ]
  }
 ],
 "metadata": {
  "kernelspec": {
   "display_name": "Python 3",
   "language": "python",
   "name": "python3"
  },
  "language_info": {
   "codemirror_mode": {
    "name": "ipython",
    "version": 3
   },
   "file_extension": ".py",
   "mimetype": "text/x-python",
   "name": "python",
   "nbconvert_exporter": "python",
   "pygments_lexer": "ipython3",
   "version": "3.7.11"
  },
  "toc": {
   "base_numbering": 1,
   "nav_menu": {},
   "number_sections": true,
   "sideBar": true,
   "skip_h1_title": false,
   "title_cell": "Table of Contents",
   "title_sidebar": "Contents",
   "toc_cell": false,
   "toc_position": {},
   "toc_section_display": true,
   "toc_window_display": false
  }
 },
 "nbformat": 4,
 "nbformat_minor": 4
}
