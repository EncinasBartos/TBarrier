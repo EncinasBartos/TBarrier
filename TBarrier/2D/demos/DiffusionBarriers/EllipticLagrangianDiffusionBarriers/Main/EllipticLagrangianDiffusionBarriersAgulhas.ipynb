{
 "cells": [
  {
   "cell_type": "markdown",
   "metadata": {},
   "source": [
    "# Add Folders to Path"
   ]
  },
  {
   "cell_type": "code",
   "execution_count": 1,
   "metadata": {
    "ExecuteTime": {
     "end_time": "2021-12-07T23:14:02.614459Z",
     "start_time": "2021-12-07T23:14:02.603488Z"
    }
   },
   "outputs": [
    {
     "name": "stdout",
     "output_type": "stream",
     "text": [
      "Wall time: 0 ns\n"
     ]
    }
   ],
   "source": [
    "%%time\n",
    "import sys, os\n",
    "\n",
    "# get current directory\n",
    "path = os.getcwd()\n",
    "\n",
    "# get parent directory\n",
    "parent_directory = os.path.sep.join(path.split(os.path.sep)[:-4])\n",
    "\n",
    "# add utils folder to current working path\n",
    "sys.path.append(parent_directory+\"/subfunctions/utils\")\n",
    "\n",
    "# add integration folder to current working path\n",
    "sys.path.append(parent_directory+\"/subfunctions/integration\")\n",
    "\n",
    "# add HyperbolicsLCS folder to current working path\n",
    "sys.path.append(parent_directory+\"/demos/DiffusionBarriers/EllipticLagrangianDiffusionBarriers\")"
   ]
  },
  {
   "cell_type": "code",
   "execution_count": 2,
   "metadata": {
    "ExecuteTime": {
     "end_time": "2021-12-07T23:14:02.865815Z",
     "start_time": "2021-12-07T23:14:02.615456Z"
    }
   },
   "outputs": [],
   "source": [
    "# Suppress numba warnings arising from computation falling back into object mode.\n",
    "from numba.core.errors import NumbaDeprecationWarning\n",
    "import warnings\n",
    "\n",
    "warnings.simplefilter('ignore', category=NumbaDeprecationWarning)"
   ]
  },
  {
   "cell_type": "markdown",
   "metadata": {},
   "source": [
    "# Overview\n",
    "\n",
    "In the following notebok we extract elliptic LCS in the Agulhas region from the AVISO dataset. The notebook is structured as follows:\n",
    "\n",
    "* Import data from the file 'Agulhas_AVISO.mat' stored in the folder 'Data'\n",
    "<br />\n",
    "* Define computational parameters (such as the number of cores) and variables\n",
    " <br />\n",
    "* Define spatio-temporal domain over which to compute the elliptic LCS.\n",
    " <br />\n",
    "* Interpolate velocity from the (discrete) gridded data using a cubic spline interpolation <br />\n",
    "* Compute rate of strain tensor $ \\mathbf{S}(\\mathbf{x}, t) $ over meshgrid of initial conditions '$ \\mathbf{x} $' at time '$t$' <br />\n",
    "* Compute elliptic LCS as closed null geodesics of $ \\mathbf{C}_{t_0}^t(\\mathbf{x}, t)-\\mu I $."
   ]
  },
  {
   "cell_type": "markdown",
   "metadata": {},
   "source": [
    "# Import Data\n",
    "\n",
    "We start by import the AVISO-data from the file 'Agulhas_AVISO.mat' stored in the folder 'Data'."
   ]
  },
  {
   "cell_type": "code",
   "execution_count": 3,
   "metadata": {
    "ExecuteTime": {
     "end_time": "2021-12-07T23:14:02.912690Z",
     "start_time": "2021-12-07T23:14:02.866813Z"
    }
   },
   "outputs": [
    {
     "name": "stdout",
     "output_type": "stream",
     "text": [
      "Wall time: 37.9 ms\n"
     ]
    }
   ],
   "source": [
    "%%time\n",
    "import scipy.io as sio\n",
    "\n",
    "#Import velocity data from file in data-folder\n",
    "mat_file = sio.loadmat('../../../../data/Aviso/processed_data/AVISO.mat')\n",
    "\n",
    "U = mat_file['vx'].transpose()\n",
    "V = mat_file['vy'].transpose()\n",
    "x = mat_file['xc'].transpose()\n",
    "y = mat_file['yc'].transpose()\n",
    "time_data = mat_file['time'].reshape(1,-1)"
   ]
  },
  {
   "cell_type": "markdown",
   "metadata": {},
   "source": [
    "# Data/Parameters for Dynamical System"
   ]
  },
  {
   "cell_type": "code",
   "execution_count": 4,
   "metadata": {
    "ExecuteTime": {
     "end_time": "2021-12-07T23:14:02.928647Z",
     "start_time": "2021-12-07T23:14:02.913660Z"
    }
   },
   "outputs": [],
   "source": [
    "import numpy as np\n",
    "\n",
    "# number of cores to be used for parallel computing\n",
    "Ncores = 8\n",
    "\n",
    "# time resolution of data\n",
    "dt_data = time_data[0, 1]-time_data[0,0]\n",
    "\n",
    "# periodic boundary conditions\n",
    "periodic_x = False\n",
    "periodic_y = False\n",
    "periodic = [periodic_x, periodic_y]\n",
    "\n",
    "# unsteady velocity field\n",
    "bool_unsteady = True\n",
    "\n",
    "# defined domain\n",
    "defined_domain = np.isfinite(U[:,:,0]).astype(int)\n",
    "\n",
    "## compute meshgrid of dataset\n",
    "X, Y = np.meshgrid(x, y)\n",
    "\n",
    "## resolution of meshgrid\n",
    "dx_data = X[0,1]-X[0,0]\n",
    "dy_data = Y[1,0]-Y[0,0]\n",
    "\n",
    "delta = [dx_data, dy_data]"
   ]
  },
  {
   "cell_type": "markdown",
   "metadata": {},
   "source": [
    "# Spatio-Temporal Domain of Dynamical System"
   ]
  },
  {
   "cell_type": "code",
   "execution_count": 5,
   "metadata": {
    "ExecuteTime": {
     "end_time": "2021-12-07T23:14:02.944604Z",
     "start_time": "2021-12-07T23:14:02.929617Z"
    }
   },
   "outputs": [
    {
     "name": "stdout",
     "output_type": "stream",
     "text": [
      "Wall time: 0 ns\n"
     ]
    }
   ],
   "source": [
    "%%time\n",
    "# Initial time (in days)\n",
    "t0 = 0\n",
    "\n",
    "# Final time (in days)\n",
    "tN = 20\n",
    "\n",
    "# time step-size\n",
    "dt = .1\n",
    "\n",
    "# tN-t0\n",
    "lenT = tN-t0\n",
    "\n",
    "time = np.arange(t0, tN+dt, dt)\n",
    "\n",
    "# domain boundary (in degrees)\n",
    "xmin = -3\n",
    "xmax = 1\n",
    "ymin = -32\n",
    "ymax = -28\n",
    "\n",
    "# spacing of meshgrid (in degrees)\n",
    "dx = 0.02\n",
    "dy = 0.02\n",
    "\n",
    "x_domain = np.arange(xmin, xmax + dx, dx)\n",
    "y_domain = np.arange(ymin, ymax + dy, dy)\n",
    "\n",
    "X_domain, Y_domain = np.meshgrid(x_domain, y_domain)"
   ]
  },
  {
   "cell_type": "markdown",
   "metadata": {},
   "source": [
    "# Interpolate Velocity\n",
    "\n",
    "In order to evaluate the velocity field at arbitrary locations and times, we must interpolate the discrete velocity data. The interpolation with respect to time is always linear. The interpolation with respect to space can be chosen to be \"cubic\" or \"linear\". In order to favour a smooth velocity field, we interpolate the velocity field in space using a cubic interpolant."
   ]
  },
  {
   "cell_type": "code",
   "execution_count": 6,
   "metadata": {
    "ExecuteTime": {
     "end_time": "2021-12-07T23:14:03.022396Z",
     "start_time": "2021-12-07T23:14:02.945573Z"
    }
   },
   "outputs": [
    {
     "name": "stdout",
     "output_type": "stream",
     "text": [
      "Wall time: 67.8 ms\n"
     ]
    }
   ],
   "source": [
    "%%time\n",
    "# Import interpolation function for unsteady flow field\n",
    "from ipynb.fs.defs.Interpolant import interpolant_unsteady\n",
    "\n",
    "# Interpolate velocity data using cubic spatial interpolation\n",
    "Interpolant = interpolant_unsteady(X, Y, U, V, time_data, method = \"cubic\")"
   ]
  },
  {
   "cell_type": "markdown",
   "metadata": {},
   "source": [
    "#  Diffusion averaged Cauchy Green (CG) strain tensor\n",
    "\n",
    "Next, we compute the diffusion averaged Cauchy Green strain tensor $ \\mathrm{\\overline{C}_{D}}_{t_0}^{t_N}(\\mathbf{x}_0) $ over the time-interval $ [t_0, t_N] $ by iterating over a meshgrid (parallelized). 'aux_grid' specifies the ratio between the auxiliary grid and the original meshgrid when computing spatial derivatives. This parameter is generally chosen to be between $ [\\dfrac{1}{10}, \\dfrac{1}{100}] $."
   ]
  },
  {
   "cell_type": "code",
   "execution_count": 7,
   "metadata": {
    "ExecuteTime": {
     "end_time": "2021-12-07T23:20:02.153141Z",
     "start_time": "2021-12-07T23:14:03.023366Z"
    }
   },
   "outputs": [
    {
     "data": {
      "application/vnd.jupyter.widget-view+json": {
       "model_id": "9bedc041e39d47c1aab832e8f49b697d",
       "version_major": 2,
       "version_minor": 0
      },
      "text/plain": [
       "  0%|          | 0/201 [00:00<?, ?it/s]"
      ]
     },
     "metadata": {},
     "output_type": "display_data"
    },
    {
     "name": "stdout",
     "output_type": "stream",
     "text": [
      "Wall time: 5min 59s\n"
     ]
    }
   ],
   "source": [
    "%%time\n",
    "# Import package for progress bar\n",
    "from tqdm.notebook import tqdm\n",
    "\n",
    "# Import package for parallel computing\n",
    "from joblib import Parallel, delayed\n",
    "\n",
    "# Import gradient of velocity function\n",
    "from ipynb.fs.defs.gradient_flowmap import gradient_flowmap\n",
    "\n",
    "# Import package for computing trajectories/velocity\n",
    "from ipynb.fs.defs.integration_dFdt import integration_dFdt\n",
    "\n",
    "# Import Rate of Strain function\n",
    "from ipynb.fs.defs.DiffusionCauchyGreen import DiffusionCauchyGreen\n",
    "\n",
    "# Import RegularGridInterpolator\n",
    "from scipy.interpolate import RegularGridInterpolator\n",
    "\n",
    "# Define ratio of auxiliary grid spacing vs original grid_spacing\n",
    "aux_grid_ratio = .1 # [1/10, 1/100]\n",
    "aux_grid = [np.around(aux_grid_ratio*(X_domain[0, 1]-X_domain[0, 0]), 5), np.around(aux_grid_ratio*(Y_domain[1, 0]-Y_domain[0, 0]), 5)]\n",
    "\n",
    "# number of diffusive Cauchy Green strain tensor\n",
    "n_averaging = 10\n",
    "\n",
    "# Components of diffusivity tensor D11, D12, D22 over spatial meshgrid and time have shape (Ny, Nx, N)\n",
    "# , where Ny/Nx are the spatial resolution in the lat/long coordinates\n",
    "# and N the time-resolution of the data\n",
    "D11_field = np.zeros((X.shape[0], Y.shape[1], time_data.shape[1]))\n",
    "D12_field = np.zeros((X.shape[0], Y.shape[1], time_data.shape[1]))\n",
    "D22_field = np.zeros((X.shape[0], Y.shape[1], time_data.shape[1]))\n",
    "\n",
    "# Diffusivity Tensor (we set it to be constant in space and time \n",
    "# but it can generally be anisotropic and temporally varying)\n",
    "D11 = 2\n",
    "D12 = 0\n",
    "D22 = 0.5\n",
    "D11_field[:,:,:] = D11\n",
    "D12_field[:,:,:] = D12\n",
    "D22_field[:,:,:] = D22\n",
    "\n",
    "# Interpolate D11_field/D12_field/D22_field over spatial and temporal domain\n",
    "Interpolant_D11 = RegularGridInterpolator((Y[:,0], X[0,:], time_data[0,:]), D11_field)\n",
    "Interpolant_D12 = RegularGridInterpolator((Y[:,0], X[0,:], time_data[0,:]), D12_field)\n",
    "Interpolant_D22 = RegularGridInterpolator((Y[:,0], X[0,:], time_data[0,:]), D22_field)\n",
    "\n",
    "def parallel_Cd(i):\n",
    "    \n",
    "    Cd_parallel = np.zeros((X_domain.shape[1], 2, 2))\n",
    "    \n",
    "    for j in range(Cd_parallel.shape[0]):\n",
    "        \n",
    "        x = np.array([X_domain[i,j], Y_domain[i,j]])\n",
    "        \n",
    "        # compute trajectory\n",
    "        Fmap = integration_dFdt(time, x, X, Y, Interpolant, periodic, defined_domain, bool_unsteady, dt_data, delta)[0]\n",
    "        \n",
    "        # Compute gradient of flowmap\n",
    "        gradFmap = gradient_flowmap(time, x, X, Y, Interpolant, periodic, defined_domain, bool_unsteady, dt_data, delta, aux_grid)\n",
    "        \n",
    "        # Compute diffusion averaged CG tensor\n",
    "        Cd_parallel[j, :, :] = DiffusionCauchyGreen(Interpolant_D11, Interpolant_D12, Interpolant_D22, time, Fmap, gradFmap, lenT, n_averaging)\n",
    "    \n",
    "    return Cd_parallel\n",
    "\n",
    "Cd = np.array(Parallel(n_jobs=Ncores, verbose = 0)(delayed(parallel_Cd)(i) for i in tqdm(range(X_domain.shape[0]))))"
   ]
  },
  {
   "cell_type": "markdown",
   "metadata": {},
   "source": [
    "# Compute Tensorfield properties"
   ]
  },
  {
   "cell_type": "markdown",
   "metadata": {},
   "source": [
    "We now compute the properties of the rate of strain tensor 'S' such as the eigenvalues 's1', 's2' and eigenvectors 'eigenv1', 'eigenv2'. Furthermore, we also need the spatial derivatives of the elements of 'S'."
   ]
  },
  {
   "cell_type": "code",
   "execution_count": 8,
   "metadata": {
    "ExecuteTime": {
     "end_time": "2021-12-07T23:20:03.696126Z",
     "start_time": "2021-12-07T23:20:02.154858Z"
    }
   },
   "outputs": [],
   "source": [
    "# Import (cubic) RectBivariateSpline from scipy\n",
    "from scipy.interpolate import RectBivariateSpline as RBS\n",
    "        \n",
    "# Compute gradients of elements of rate of strain tensor\n",
    "\n",
    "# Initialize array\n",
    "Cd11 = np.nan_to_num(Cd[:,:,0,0], nan=0.0)\n",
    "Cd12 = np.nan_to_num(Cd[:,:,0,1], nan=0.0)\n",
    "Cd22 = np.nan_to_num(Cd[:,:,1,1], nan=0.0)\n",
    "    \n",
    "# Interpolate elements of rate of strain tensor (per default: cubic)\n",
    "interp_Cd11 = RBS(Y_domain[:,0], X_domain[0,:], Cd11)\n",
    "interp_Cd12 = RBS(Y_domain[:,0], X_domain[0,:], Cd12)\n",
    "interp_Cd22 = RBS(Y_domain[:,0], X_domain[0,:], Cd22)\n",
    "\n",
    "# Initialize arrays\n",
    "Cd11x = np.zeros((Cd.shape[0], Cd.shape[1]))*np.nan\n",
    "Cd11y = np.zeros((Cd.shape[0], Cd.shape[1]))*np.nan\n",
    "Cd12x = np.zeros((Cd.shape[0], Cd.shape[1]))*np.nan\n",
    "Cd12y = np.zeros((Cd.shape[0], Cd.shape[1]))*np.nan\n",
    "Cd22x = np.zeros((Cd.shape[0], Cd.shape[1]))*np.nan\n",
    "Cd22y = np.zeros((Cd.shape[0], Cd.shape[1]))*np.nan\n",
    "    \n",
    "# Define auxilary meshgrid\n",
    "rho_x = aux_grid[0]\n",
    "rho_y = aux_grid[1]\n",
    "        \n",
    "#iterate over meshgrid\n",
    "for i in range(X_domain.shape[0]):\n",
    "        \n",
    "    for j in range(Y_domain.shape[1]):\n",
    "            \n",
    "        x = [X_domain[i,j], Y_domain[i, j]]\n",
    "        \n",
    "        # compute derivatives using auxiliary grid and finite-differencing\n",
    "        Cd11x[i, j] = (interp_Cd11(x[1], x[0]+rho_x)[0][0]-interp_Cd11(x[1], x[0]-rho_x)[0][0])/(2*rho_x)\n",
    "        Cd11y[i, j] = (interp_Cd11(x[1]+rho_y, x[0])[0][0]-interp_Cd11(x[1]-rho_y, x[0])[0][0])/(2*rho_y)\n",
    "        \n",
    "        Cd12x[i, j] = (interp_Cd12(x[1], x[0]+rho_x)[0][0]-interp_Cd12(x[1], x[0]-rho_x)[0][0])/(2*rho_x)\n",
    "        Cd12y[i, j] = (interp_Cd12(x[1]+rho_y, x[0])[0][0]-interp_Cd12(x[1]-rho_y, x[0])[0][0])/(2*rho_y)\n",
    "            \n",
    "        Cd22x[i, j] = (interp_Cd22(x[1], x[0]+rho_x)[0][0]-interp_Cd22(x[1], x[0]-rho_x)[0][0])/(2*rho_x)\n",
    "        Cd22y[i, j] = (interp_Cd22(x[1]+rho_y, x[0])[0][0]-interp_Cd22(x[1]-rho_y, x[0])[0][0])/(2*rho_y)"
   ]
  },
  {
   "cell_type": "markdown",
   "metadata": {},
   "source": [
    "# Interpolate $ \\dot{\\phi}(x, y, \\phi)$ "
   ]
  },
  {
   "cell_type": "code",
   "execution_count": 9,
   "metadata": {
    "ExecuteTime": {
     "end_time": "2021-12-07T23:20:05.009708Z",
     "start_time": "2021-12-07T23:20:03.697126Z"
    }
   },
   "outputs": [
    {
     "name": "stdout",
     "output_type": "stream",
     "text": [
      "Wall time: 1.3 s\n"
     ]
    }
   ],
   "source": [
    "%%time\n",
    "from ipynb.fs.defs.phi_prime import _phi_prime\n",
    "\n",
    "# Interpolant phi_phrime, interpolant indicating domain of existence (= denominator of phi_prime)\n",
    "interp_phi_prime, interp_DOE = _phi_prime(X_domain, Y_domain, Cd11, Cd12, Cd22, Cd11x, Cd11y, Cd12x, Cd12y, Cd22x, Cd22y)"
   ]
  },
  {
   "cell_type": "markdown",
   "metadata": {},
   "source": [
    "# Find closed null-geodesics of $ \\mathrm{\\overline{C}_{D}}_{t_0}^{t_N}(\\mathbf{x}_0) − \\mathcal{T}_0 I $\n",
    "\n",
    "Elliptic Lagrangian diffusion barriers are closed null geodesics of the one-parameter family of Lorentzian metrics $ \\mathrm{\\overline{C}_{D}}_{t_0}^{t_N}(\\mathbf{x}_0) − \\mathcal{T}_0 I $. $ \\mathcal{T}_0 ∈ \\mathbb{R} $ denotes the tangential stretching rate along an elliptic Lagrangian diffusion barrier. "
   ]
  },
  {
   "cell_type": "code",
   "execution_count": 10,
   "metadata": {
    "ExecuteTime": {
     "end_time": "2021-12-07T23:20:05.301700Z",
     "start_time": "2021-12-07T23:20:05.010706Z"
    }
   },
   "outputs": [
    {
     "ename": "ImportError",
     "evalue": "cannot import name '_elliptic_LDB' from 'ipynb.fs.defs.elliptic_LDB' (unknown location)",
     "output_type": "error",
     "traceback": [
      "\u001b[1;31m---------------------------------------------------------------------------\u001b[0m",
      "\u001b[1;31mImportError\u001b[0m                               Traceback (most recent call last)",
      "\u001b[1;32m<timed exec>\u001b[0m in \u001b[0;36m<module>\u001b[1;34m\u001b[0m\n",
      "\u001b[1;31mImportError\u001b[0m: cannot import name '_elliptic_LDB' from 'ipynb.fs.defs.elliptic_LDB' (unknown location)"
     ]
    }
   ],
   "source": [
    "%%time\n",
    "# Import function to compute closed null geodesics\n",
    "from ipynb.fs.defs.closed_null_geodesics import _closed_null_geodesics\n",
    "\n",
    "# extract elliptic LDB as closed null geodesics\n",
    "from ipynb.fs.defs.elliptic_LDB import _elliptic_LDB\n",
    "\n",
    "# define T0 range\n",
    "T_min = 0.5\n",
    "T_max = 2\n",
    "n_T = Ncores\n",
    "T_range = np.linspace(T_min, T_max, n_T)\n",
    "\n",
    "# parameter specifying sparsity of initial conditions. \n",
    "# Increasing this parameter reduces the number of initial conditions and thereby reduces the computational time involved.\n",
    "# For maximal accuracy set sparse_ic = 1. This implies that we use the resolution of the meshgrid. \n",
    "# This value should always be at least 1.\n",
    "sparse_ic = 1\n",
    "\n",
    "# threshold distance for periodicity of trajectory\n",
    "d_threshold = dx\n",
    "\n",
    "# compute Elliptic Lagrangian diffusion barrier (LDB)\n",
    "elliptic_LDB = []\n",
    "\n",
    "# Initial conditions of T\n",
    "init_T_range = []\n",
    "\n",
    "for T in T_range:\n",
    "    \n",
    "    print(\"Compute elliptic LDB for T =\", np.around(T, 3))\n",
    "    \n",
    "    # Define list storing x, y coordinates of elliptic LDB\n",
    "    x_elliptic, y_elliptic = [], []\n",
    "    \n",
    "    # Find all closed null geodesics\n",
    "    closed_null_geodesics, init_T = _closed_null_geodesics(X_domain, Y_domain, T, interp_phi_prime, d_threshold, Cd11, interp_DOE, sparse_ic)\n",
    "    \n",
    "    # Append initial conditions to list \n",
    "    init_T_range.append(init_T)\n",
    "        \n",
    "    # Extract elliptic LDB\n",
    "    x_elliptic, y_elliptic = _elliptic_LDB(closed_null_geodesics)\n",
    "           \n",
    "    elliptic_LDB.append([x_elliptic, y_elliptic])"
   ]
  },
  {
   "cell_type": "code",
   "execution_count": 11,
   "metadata": {
    "ExecuteTime": {
     "end_time": "2021-12-07T23:20:05.797909Z",
     "start_time": "2021-12-07T23:20:05.302729Z"
    },
    "scrolled": false
   },
   "outputs": [
    {
     "ename": "NameError",
     "evalue": "name 'T_range' is not defined",
     "output_type": "error",
     "traceback": [
      "\u001b[1;31m---------------------------------------------------------------------------\u001b[0m",
      "\u001b[1;31mNameError\u001b[0m                                 Traceback (most recent call last)",
      "\u001b[1;32m~\\AppData\\Local\\Temp/ipykernel_20092/3653148683.py\u001b[0m in \u001b[0;36m<module>\u001b[1;34m\u001b[0m\n\u001b[0;32m     10\u001b[0m \u001b[1;33m\u001b[0m\u001b[0m\n\u001b[0;32m     11\u001b[0m \u001b[1;31m# Define norm/cmap\u001b[0m\u001b[1;33m\u001b[0m\u001b[1;33m\u001b[0m\u001b[1;33m\u001b[0m\u001b[0m\n\u001b[1;32m---> 12\u001b[1;33m \u001b[0mnorm\u001b[0m \u001b[1;33m=\u001b[0m \u001b[0mmpl\u001b[0m\u001b[1;33m.\u001b[0m\u001b[0mcolors\u001b[0m\u001b[1;33m.\u001b[0m\u001b[0mNormalize\u001b[0m\u001b[1;33m(\u001b[0m\u001b[0mvmin\u001b[0m\u001b[1;33m=\u001b[0m\u001b[0mT_range\u001b[0m\u001b[1;33m.\u001b[0m\u001b[0mmin\u001b[0m\u001b[1;33m(\u001b[0m\u001b[1;33m)\u001b[0m\u001b[1;33m,\u001b[0m \u001b[0mvmax\u001b[0m\u001b[1;33m=\u001b[0m\u001b[0mT_range\u001b[0m\u001b[1;33m.\u001b[0m\u001b[0mmax\u001b[0m\u001b[1;33m(\u001b[0m\u001b[1;33m)\u001b[0m\u001b[1;33m)\u001b[0m\u001b[1;33m\u001b[0m\u001b[1;33m\u001b[0m\u001b[0m\n\u001b[0m\u001b[0;32m     13\u001b[0m \u001b[0mcmap\u001b[0m \u001b[1;33m=\u001b[0m \u001b[0mmpl\u001b[0m\u001b[1;33m.\u001b[0m\u001b[0mcm\u001b[0m\u001b[1;33m.\u001b[0m\u001b[0mScalarMappable\u001b[0m\u001b[1;33m(\u001b[0m\u001b[0mnorm\u001b[0m\u001b[1;33m=\u001b[0m\u001b[0mnorm\u001b[0m\u001b[1;33m,\u001b[0m \u001b[0mcmap\u001b[0m\u001b[1;33m=\u001b[0m\u001b[1;34m'gist_rainbow_r'\u001b[0m\u001b[1;33m)\u001b[0m\u001b[1;33m\u001b[0m\u001b[1;33m\u001b[0m\u001b[0m\n\u001b[0;32m     14\u001b[0m \u001b[1;33m\u001b[0m\u001b[0m\n",
      "\u001b[1;31mNameError\u001b[0m: name 'T_range' is not defined"
     ]
    },
    {
     "data": {
      "image/png": "[encoded data removed]",
      "text/plain": [
       "<Figure size 4800x3000 with 1 Axes>"
      ]
     },
     "metadata": {
      "needs_background": "light"
     },
     "output_type": "display_data"
    }
   ],
   "source": [
    "######################################## Plot elliptic LDB ########################################\n",
    "\n",
    "# import plotting library\n",
    "import matplotlib.pyplot as plt\n",
    "import matplotlib as mpl\n",
    "\n",
    "# Define figure/axes\n",
    "fig = plt.figure(figsize = (16, 10), dpi = 300)\n",
    "ax = plt.axes()\n",
    "\n",
    "# Define norm/cmap\n",
    "norm = mpl.colors.Normalize(vmin=T_range.min(), vmax=T_range.max())\n",
    "cmap = mpl.cm.ScalarMappable(norm=norm, cmap='gist_rainbow_r')\n",
    "\n",
    "# Iterate over all elliptic LDB and plot\n",
    "for i in range(len(elliptic_LDB)):\n",
    "    \n",
    "    ax.scatter(init_T_range[i][0], init_T_range[i][1], s = 1, color=cmap.to_rgba(T_range[i]))\n",
    "    \n",
    "    if elliptic_LDB[i][0] is not None:\n",
    "    \n",
    "        for j in range(len(elliptic_LDB[i][0])):\n",
    "        \n",
    "            if elliptic_LDB[i][0][j] is not None:\n",
    "        \n",
    "                ax.plot(elliptic_LDB[i][0][j], elliptic_LDB[i][1][j], c=cmap.to_rgba(T_range[i]), linewidth = 2)\n",
    "\n",
    "# Set axis limits\n",
    "ax.set_xlim([xmin, xmax])\n",
    "ax.set_ylim([ymin, ymax])\n",
    "\n",
    "# Set axis labels\n",
    "ax.set_xlabel(\"long (deg)\", fontsize = 16)\n",
    "ax.set_ylabel(\"lat (deg)\", fontsize = 16)\n",
    "\n",
    "# Colorbar\n",
    "cbar = fig.colorbar(cmap, ticks=[T_range.min(), 1, T_range.max()])\n",
    "cbar.ax.set_ylabel(r'$ \\mathcal{T}_0 $', rotation = 0, fontsize = 16)\n",
    "\n",
    "# Title\n",
    "ax.set_title(\"Elliptic LDB\", fontsize = 20)\n",
    "plt.show();"
   ]
  },
  {
   "cell_type": "markdown",
   "metadata": {},
   "source": [
    "The colored dashed lines indicate the location of the initial conditions satisfying:\n",
    "\n",
    "\\begin{equation}\n",
    "\\mathrm{\\overline{C}_{D}^{11}}_{t_0}^{t_N}(\\mathbf{x}_0) - \\mathcal{T}_0^2 = 0\n",
    "\\end{equation}"
   ]
  },
  {
   "cell_type": "code",
   "execution_count": null,
   "metadata": {},
   "outputs": [],
   "source": []
  }
 ],
 "metadata": {
  "kernelspec": {
   "display_name": "Python 3 (ipykernel)",
   "language": "python",
   "name": "python3"
  },
  "language_info": {
   "codemirror_mode": {
    "name": "ipython",
    "version": 3
   },
   "file_extension": ".py",
   "mimetype": "text/x-python",
   "name": "python",
   "nbconvert_exporter": "python",
   "pygments_lexer": "ipython3",
   "version": "3.7.11"
  },
  "toc": {
   "base_numbering": 1,
   "nav_menu": {},
   "number_sections": true,
   "sideBar": true,
   "skip_h1_title": false,
   "title_cell": "Table of Contents",
   "title_sidebar": "Contents",
   "toc_cell": false,
   "toc_position": {},
   "toc_section_display": true,
   "toc_window_display": false
  }
 },
 "nbformat": 4,
 "nbformat_minor": 4
}
