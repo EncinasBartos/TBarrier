{
 "cells": [
  {
   "cell_type": "code",
   "execution_count": null,
   "metadata": {},
   "outputs": [],
   "source": [
    "# import numpy\n",
    "import numpy as np\n",
    "\n",
    "# Import package to compute level set\n",
    "from skimage import measure"
   ]
  },
  {
   "cell_type": "code",
   "execution_count": null,
   "metadata": {},
   "outputs": [],
   "source": [
    "# compute initial level set\n",
    "def _init_level_set(X, Y, C11, lam, sparse_ic):\n",
    "    \n",
    "    X = X[::sparse_ic, ::sparse_ic]\n",
    "    Y = Y[::sparse_ic, ::sparse_ic]\n",
    "    C11 = C11[::sparse_ic, ::sparse_ic]\n",
    "\n",
    "    # Initialize the output variables \n",
    "    x0mu = [];\n",
    "    y0mu = [];\n",
    "\n",
    "    # Compute the initial conditions g_0 given \\mu\n",
    "    ZeroSet = C11-lam**2\n",
    "    \n",
    "    # Extract the x_0(\\lambda,\\phi_0)\n",
    "    contour = measure.find_contours(ZeroSet, 0)\n",
    "    \n",
    "    # Iterate over all points in the ZeroSet\n",
    "    for c in contour:\n",
    "        \n",
    "        # compute contours\n",
    "        x_contour = np.min(X)+(np.max(X)-np.min(X))/(X.shape[1])*c[:, 1]\n",
    "        y_contour = np.min(Y)+(np.max(Y)-np.min(Y))/(Y.shape[0])*c[:, 0]\n",
    "        \n",
    "        for idx in range(0, len(x_contour)):\n",
    "        \n",
    "            x0mu.append(x_contour[idx])\n",
    "            y0mu.append(y_contour[idx])\n",
    "    \n",
    "    # Set all phi_0 = 0\n",
    "    phi0mu = [0]*len(x0mu)\n",
    "    \n",
    "    return x0mu, y0mu, phi0mu"
   ]
  }
 ],
 "metadata": {
  "kernelspec": {
   "display_name": "Python 3",
   "language": "python",
   "name": "python3"
  },
  "language_info": {
   "codemirror_mode": {
    "name": "ipython",
    "version": 3
   },
   "file_extension": ".py",
   "mimetype": "text/x-python",
   "name": "python",
   "nbconvert_exporter": "python",
   "pygments_lexer": "ipython3",
   "version": "3.7.11"
  },
  "toc": {
   "base_numbering": 1,
   "nav_menu": {},
   "number_sections": true,
   "sideBar": true,
   "skip_h1_title": false,
   "title_cell": "Table of Contents",
   "title_sidebar": "Contents",
   "toc_cell": false,
   "toc_position": {},
   "toc_section_display": true,
   "toc_window_display": false
  }
 },
 "nbformat": 4,
 "nbformat_minor": 4
}
