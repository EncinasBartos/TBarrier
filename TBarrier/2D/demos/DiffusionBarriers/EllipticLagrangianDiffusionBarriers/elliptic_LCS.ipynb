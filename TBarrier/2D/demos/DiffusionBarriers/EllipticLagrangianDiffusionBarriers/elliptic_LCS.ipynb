{
 "cells": [
  {
   "cell_type": "markdown",
   "metadata": {},
   "source": [
    "| Name | Type (Shape) | Description |\n",
    "| --- | --- | --- |\n",
    "| closed_null_geodesics | list (N,) | list containing $ N $ closed null geodesics\n",
    "| vortex | list | list containing extracted vortices"
   ]
  },
  {
   "cell_type": "code",
   "execution_count": 1,
   "metadata": {
    "ExecuteTime": {
     "end_time": "2021-11-26T12:02:40.998213Z",
     "start_time": "2021-11-26T12:02:40.908453Z"
    }
   },
   "outputs": [],
   "source": [
    "# Import numpy\n",
    "import numpy as np\n",
    "\n",
    "# Import shapely library to create polygons and points\n",
    "from shapely.geometry import Polygon, Point\n",
    "\n",
    "# Import math tools\n",
    "from math import sqrt"
   ]
  },
  {
   "cell_type": "code",
   "execution_count": 2,
   "metadata": {
    "ExecuteTime": {
     "end_time": "2021-11-26T12:02:41.013173Z",
     "start_time": "2021-11-26T12:02:40.999244Z"
    }
   },
   "outputs": [],
   "source": [
    "def _elliptic_LCS(closed_null_geodesics):\n",
    "    \n",
    "    Area = []\n",
    "    Poly = []\n",
    "    return_distance = []\n",
    "    \n",
    "    for geodesics in closed_null_geodesics:\n",
    "        \n",
    "        if np.sum(geodesics[0]) is not None:\n",
    "            \n",
    "            x = geodesics[0]\n",
    "            y = geodesics[1]\n",
    "        \n",
    "            # compute Polygon object from boundary of closed null geodesics\n",
    "            Poly.append(Polygon(zip(x, y)))\n",
    "            \n",
    "            # compute area of closed null geodesics\n",
    "            # Area.append(Poly[-1].area)\n",
    "            # compute re-intersection distance of closed null geodesics\n",
    "            return_distance.append(sqrt((x[-1]-x[0])**2+(y[-1]-y[0])**2))\n",
    "\n",
    "    # if no vortex is found then return 'nan'\n",
    "    if len(return_distance) == 0:\n",
    "        return None, None\n",
    "    \n",
    "    if len(return_distance) == 1:\n",
    "        return x, y\n",
    "    \n",
    "    # sort geodesic curves from maximum re-intersection distance to lowest re-intersection distance:\n",
    "    return_distance_sorted, closed_null_geodesics_sorted = zip(*sorted(zip(return_distance, closed_null_geodesics), reverse = True))\n",
    "    return_distance_sorted, Poly_sorted = zip(*sorted(zip(return_distance, Poly), reverse = True))\n",
    "    \n",
    "    closed_elliptic_OECS = []\n",
    "    \n",
    "    for idx, Poly_geodesics in enumerate(Poly_sorted):\n",
    "        \n",
    "        coords = np.array(Poly_sorted[idx].exterior.coords)\n",
    "        \n",
    "        x = coords[:, 0]\n",
    "        y = coords[:, 1]\n",
    "        \n",
    "        # compute centroid of polygon\n",
    "        x_c = np.mean(x)\n",
    "        y_c = np.mean(y)\n",
    "        \n",
    "        # If first closed elliptic LCS, then set the center as a reference\n",
    "        if idx == 0:\n",
    "            \n",
    "            closed_elliptic_OECS.append([x_c, y_c, Poly_geodesics])\n",
    "        \n",
    "        # Set boolean to create new vortex\n",
    "        Bool_create_new_closed_elliptic_OECS = True\n",
    "        \n",
    "        # iterate over all elliptic OECS\n",
    "        for v in range(len(closed_elliptic_OECS)):\n",
    "        \n",
    "            # If vortex center is contained inside the closed null geodesics --> Bool_create_new_vortex = False\n",
    "            # --> no new vortex is create\n",
    "            if Poly_geodesics.contains(Point(closed_elliptic_OECS[v][0], closed_elliptic_OECS[v][1])):\n",
    "                \n",
    "                closed_elliptic_OECS[v] = [x_c, y_c, Poly_geodesics]\n",
    "                \n",
    "                Bool_create_new_closed_elliptic_OECS = False\n",
    "                \n",
    "        # If vortex center is not contained inside the closed null geodesics, then a new vortex is create    \n",
    "        if Bool_create_new_closed_elliptic_OECS:\n",
    "            \n",
    "            closed_elliptic_OECS.append([x_c, y_c, Poly_geodesics])        \n",
    "    \n",
    "    # Create list storing closed elliptic OECS with minimal return distance\n",
    "    min_return_elliptic_OECS = []\n",
    "    \n",
    "    # Iteratere over all closed elliptic OECS and append them to 'closed_elliptic_OECS'\n",
    "    for v in closed_elliptic_OECS:\n",
    "        \n",
    "        coords = np.array(v[2].exterior.coords)\n",
    "        \n",
    "        x = coords[:, 0]\n",
    "        y = coords[:, 1]\n",
    "        \n",
    "        min_return_elliptic_OECS.append([x, y])\n",
    "    \n",
    "    x_elliptic, y_elliptic = [], []\n",
    "    \n",
    "    # Store elliptic OECSs with minimum return distance in list\n",
    "    if min_return_elliptic_OECS:\n",
    "        \n",
    "        for elliptic in min_return_elliptic_OECS:\n",
    "            \n",
    "            x_elliptic.append(elliptic[0])\n",
    "            y_elliptic.append(elliptic[1])\n",
    "    \n",
    "    return x_elliptic, y_elliptic"
   ]
  }
 ],
 "metadata": {
  "kernelspec": {
   "display_name": "Python 3",
   "language": "python",
   "name": "python3"
  },
  "language_info": {
   "codemirror_mode": {
    "name": "ipython",
    "version": 3
   },
   "file_extension": ".py",
   "mimetype": "text/x-python",
   "name": "python",
   "nbconvert_exporter": "python",
   "pygments_lexer": "ipython3",
   "version": "3.7.11"
  },
  "toc": {
   "base_numbering": 1,
   "nav_menu": {},
   "number_sections": true,
   "sideBar": true,
   "skip_h1_title": false,
   "title_cell": "Table of Contents",
   "title_sidebar": "Contents",
   "toc_cell": false,
   "toc_position": {},
   "toc_section_display": true,
   "toc_window_display": false
  }
 },
 "nbformat": 4,
 "nbformat_minor": 4
}
