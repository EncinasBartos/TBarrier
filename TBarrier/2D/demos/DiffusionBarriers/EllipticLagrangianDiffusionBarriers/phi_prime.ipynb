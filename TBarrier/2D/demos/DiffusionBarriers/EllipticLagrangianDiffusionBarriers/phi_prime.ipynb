{
 "cells": [
  {
   "cell_type": "markdown",
   "metadata": {
    "ExecuteTime": {
     "end_time": "2021-11-16T10:45:35.912297Z",
     "start_time": "2021-11-16T10:45:35.892350Z"
    }
   },
   "source": [
    "This function computes the (linear) interpolant for evaluating the differential equation:\n",
    "\n",
    "\\begin{equation}\n",
    "\\phi' = - \\dfrac{\\cos^2(\\phi)[{C_D}_x^{11}(\\mathbf{x})\\cos(\\phi)+{C_D}_y^{11}(\\mathbf{x})\\sin(\\phi)]+[{C_D}_x^{12}(\\mathbf{x})\\cos(\\phi)+{C_D}_y^{11}(\\mathbf{x})\\sin(\\phi)]\\sin(2\\phi)+\\sin^2(\\phi)[{C_D}_x^{22}(\\mathbf{x})\\cos(\\phi)+{C_D}_y^{22}(\\mathbf{x})\\sin(\\phi)}{\\sin(2\\phi)[C_D^{22}(\\mathbf{x})-C_D^{11}(\\mathbf{x})]+2\\cos(2\\phi)C_D^{12}(\\mathbf{x})}\n",
    "\\label{eq: phi_prime} \\tag{1}\n",
    "\\end{equation}\n",
    "\n",
    "at every point $ (\\mathbf{x}, \\phi) $. \n",
    "\n",
    "To do so, we first need to evaluate the right-hand-side of eq. \\ref{eq: phi_prime} over a rectangular meshgrid $ X, Y, \\phi $ (see *__phi_prime*) before computing the interpolant of $ \\dot{\\phi} $ (see *_phi_prime*).\n",
    "\n",
    "The domain of existence is given:\n",
    "\n",
    "\\begin{equation}\n",
    "DOE = \\lbrace (\\mathbf{x}, \\phi): \\sin(2\\phi)[C_D^{22}(\\mathbf{x})-C_D^{11}(\\mathbf{x})]+2\\cos(2\\phi)C_D^{12}(\\mathbf{x}) \\neq 0 \\rbrace \\tag{2}\n",
    "\\end{equation}\n",
    "\n",
    "| Name | Type (Shape) | Description |\n",
    "| --- | --- | --- |\n",
    "| X | array (Ny, Nx) | X-meshgrid |\n",
    "| Y | array (Ny, Nx) | Y-meshgrid |\n",
    "| CDij | float | $ \\mathbf{\\overline{C}_D}(\\mathbf{x}_0) = \\begin{pmatrix} C_D^{11} && C_D^{12} \\\\ C_D^{12} && C_D^{22} \\end{pmatrix} $|\n",
    "| CDij_x | float | spatial derivative of $ \\mathbf{\\overline{C}_D}(\\mathbf{x}_0) = \\begin{pmatrix} C_D^{11} && C_D^{12} \\\\ C_D^{12} && C_D^{22} \\end{pmatrix} $ in x-direction|\n",
    "| CDij_y | float | spatial derivative of $ \\mathbf{\\overline{C}_D}(\\mathbf{x}_0) = \\begin{pmatrix} C_D^{11} && C_D^{12} \\\\ C_D^{12} && C_D^{22} \\end{pmatrix} $ in y-direction|\n",
    "| interp_phi_prime | interpolant | $ \\dot{\\phi} $ |\n",
    "| interp_DOE | interpolant |$ \\sin(2\\phi)[C_D^{22}(\\mathbf{x})- C_D^{11}(\\mathbf{x})]+ 2\\cos(2\\phi) C_D^{12}(\\mathbf{x}) $ |"
   ]
  },
  {
   "cell_type": "code",
   "execution_count": 1,
   "metadata": {
    "ExecuteTime": {
     "end_time": "2021-12-10T00:35:55.292736Z",
     "start_time": "2021-12-10T00:35:54.999282Z"
    }
   },
   "outputs": [],
   "source": [
    "# Import numpy\n",
    "import numpy as np\n",
    "\n",
    "# Import math symbols\n",
    "from math import cos, sin, pi\n",
    "\n",
    "# Import numba (used for high performance scientific computing)\n",
    "from numba import jit, prange"
   ]
  },
  {
   "cell_type": "code",
   "execution_count": 1,
   "metadata": {
    "ExecuteTime": {
     "end_time": "2021-10-31T16:59:15.942099Z",
     "start_time": "2021-10-31T16:59:15.688427Z"
    }
   },
   "outputs": [],
   "source": [
    "@jit(parallel=True)\n",
    "def __phi_prime(CD11, CD12, CD22, CD11_x, CD11_y, CD12_x, CD12_y, CD22_x, CD22_y):\n",
    "    '''\n",
    "    Computes phi_prime and phi_prime_denom (denominator of phi prime) over gridded domain\n",
    "    based on the elements of the Cauchy Green strain tensor\n",
    "    \n",
    "    Parameters:\n",
    "        CDij:             array(Ny, Nx), ij-element of the averaged Cauchy-Green strain tensor over the gridded domain \n",
    "        CDij_x:           array(Ny, Nx), derivative with respect to x-th coordinate of the ij-element of the averaged Cauchy-Green strain tensor over the gridded domain \n",
    "        CDij_y:           array(Ny, Nx), derivative with respect to y-th coordinate of the ij-element of the averaged Cauchy-Green strain tensor over the gridded domain \n",
    "    \n",
    "    Returns:\n",
    "        phi:             array(360, ), angles\n",
    "        phi_prime:       array(Ny, Nx, 360), contains phi_prime over gridded domain and angles\n",
    "        phi_prime_denom: array(Ny, Nx, 360), contains denominator of phi_prime over gridded domain and angles. This specifies the domain of existence.\n",
    "    '''\n",
    "    \n",
    "    # angles\n",
    "    phi = np.linspace(0, 2*pi, 360)\n",
    "    \n",
    "    # define arrays\n",
    "    phi_prime = np.zeros((CD11.shape[0], CD11.shape[1], phi.shape[0]))\n",
    "    phi_prime_denom = phi_prime.copy()\n",
    "    \n",
    "    # iterate over meshgrid in y-direction\n",
    "    for i in prange(CD11.shape[0]):\n",
    "        \n",
    "        # iterate over meshgrid in x-direction\n",
    "        for j in prange(CD11.shape[1]):\n",
    "            \n",
    "            # elements of rate of strain\n",
    "            CD11_ = CD11[i, j]\n",
    "            CD12_ = CD12[i, j]\n",
    "            CD22_ = CD22[i, j]\n",
    "            \n",
    "            # spatial derivative of elements of rate of strain\n",
    "            CD11_x_ = CD11_x[i, j]\n",
    "            CD11_y_ = CD11_y[i, j]\n",
    "            \n",
    "            CD12_x_ = CD12_x[i, j]\n",
    "            CD12_y_ = CD12_y[i, j]\n",
    "            \n",
    "            CD22_x_ = CD22_x[i, j]\n",
    "            CD22_y_ = CD22_y[i, j]\n",
    "\n",
    "            # iterate over phi\n",
    "            for p in prange(phi.shape[0]):\n",
    "                \n",
    "                phi_ = phi[p]\n",
    "                \n",
    "                # [CD11_x*cos(phi_)+CD11_y*sin(phi)]*cos^2(phi)\n",
    "                phi_prime_num = (CD11_x_*cos(phi_)+CD11_y_*sin(phi_))*cos(phi_)**2\n",
    "                \n",
    "                # [CD12_x*cos(phi_)+CD12_y*sin(phi)]*sin(2*phi)\n",
    "                phi_prime_num += (CD12_x_*cos(phi_)+CD12_y_*sin(phi_))*sin(2*phi_)\n",
    "                \n",
    "                # [CD11_x*cos(phi_)+CD11_y*sin(phi)]*sin^2(phi)\n",
    "                phi_prime_num += (CD22_x_*cos(phi_)+CD22_y_*sin(phi_))*sin(phi_)**2\n",
    "    \n",
    "                # sin(2*phi)*(CD22-CD11)+2*cos(2*phi)*CD12\n",
    "                phi_prime_denom[i, j, p] = sin(2*phi_)*(CD22_-CD11_)+2*cos(2*phi_)*CD12_\n",
    "            \n",
    "                phi_prime[i, j, p] = -phi_prime_num/phi_prime_denom[i, j, p]\n",
    "\n",
    "    return phi_prime, phi_prime_denom, phi"
   ]
  },
  {
   "cell_type": "code",
   "execution_count": 2,
   "metadata": {
    "ExecuteTime": {
     "end_time": "2021-10-31T16:59:15.957455Z",
     "start_time": "2021-10-31T16:59:15.943492Z"
    }
   },
   "outputs": [],
   "source": [
    "def _phi_prime(X, Y, CD11, CD12, CD22, CD11_x, CD11_y, CD12_x, CD12_y, CD22_x, CD22_y):\n",
    "    '''\n",
    "    Computes the linear interpolant of phi_prime and phi_prime_denom (denominator of phi prime) \n",
    "    based on the elements of the rate of strain tensor\n",
    "    \n",
    "    Parameters:\n",
    "        X:                           array(Ny, Nx), X-meshgrid\n",
    "        Y:                           array(Ny, Nx), Y-meshgrid\n",
    "        CDij:                        array(Ny, Nx), ij-element of the averaged Cauchy Green strain tensor over the gridded domain \n",
    "        CDij_x:                      array(Ny, Nx), derivative with respect to x-th coordinate of the ij-element of the averaged Cauchy Green strain tensor over the gridded domain \n",
    "        CDij_y:                      array(Ny, Nx), derivative with respect to y-th coordinate of the ij-element of the averaged Cauchy Green strain tensor over the gridded domain \n",
    "    \n",
    "    Returns:\n",
    "        Interpolant_phi_prime:       Interpolant-object for phi_prime over gridded domain and angles.\n",
    "        Interpolant_phi_prime_denom: Interpolant-object for phi_prime_denom over gridded domain and angles.\n",
    "    '''\n",
    "    \n",
    "    # Import interpolator from scipy\n",
    "    from scipy.interpolate import RegularGridInterpolator\n",
    "    \n",
    "    # phi_prime and phi_prime_denom (=DOE) are arrays three dimensional arrays\n",
    "    phi_prime, phi_prime_denom, phi = __phi_prime(CD11, CD12, CD22, CD11_x, CD11_y, CD12_x, CD12_y, CD22_x, CD22_y)\n",
    "    \n",
    "    # Interpolant objects\n",
    "    Interpolant_phi_prime = RegularGridInterpolator((Y[:,0], X[0,:], phi), phi_prime, bounds_error = False, fill_value = 0)\n",
    "    Interpolant_phi_prime_denom = RegularGridInterpolator((Y[:,0], X[0,:], phi), phi_prime_denom)\n",
    "    \n",
    "    # return interpolant for phi_prime and for the denominator of phi_prime (=DOE)\n",
    "    return Interpolant_phi_prime, Interpolant_phi_prime_denom"
   ]
  }
 ],
 "metadata": {
  "kernelspec": {
   "display_name": "Python 3",
   "language": "python",
   "name": "python3"
  },
  "language_info": {
   "codemirror_mode": {
    "name": "ipython",
    "version": 3
   },
   "file_extension": ".py",
   "mimetype": "text/x-python",
   "name": "python",
   "nbconvert_exporter": "python",
   "pygments_lexer": "ipython3",
   "version": "3.7.12"
  },
  "toc": {
   "base_numbering": 1,
   "nav_menu": {},
   "number_sections": true,
   "sideBar": true,
   "skip_h1_title": false,
   "title_cell": "Table of Contents",
   "title_sidebar": "Contents",
   "toc_cell": false,
   "toc_position": {},
   "toc_section_display": true,
   "toc_window_display": false
  }
 },
 "nbformat": 4,
 "nbformat_minor": 4
}
