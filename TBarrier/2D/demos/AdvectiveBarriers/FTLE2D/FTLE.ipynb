{
 "cells": [
  {
   "cell_type": "markdown",
   "metadata": {},
   "source": [
    "The finite time Lyapunov exponent ($\\mathrm{FTLE}$) is computed from the maximum eigenvalue $ \\lambda_2 $ of the Cauchy-Green strain tensor $ C_{t_0}^{t_N}(\\mathbf{x}_0) $:\n",
    "\n",
    "\\begin{equation}\n",
    "\\mathrm{FTLE}_{t_0}^{t_N}(\\mathbf{x}_0) = \\dfrac{1}{2(t_N-t_0)}\\log(\\lambda_2(\\mathbf{x}_0))\n",
    "\\end{equation}\n",
    "\n",
    "where $ \\lambda_2 (\\mathbf{x}_0)$ denotes the maximum eigenvalue associated to the eigenvector $ \\mathbf{\\xi}_i(\\mathbf{x}_0; t_0, t_N) $ of $ C_{t_0}^{t_N}(\\mathbf{x}_0) $.\n",
    "\n",
    "Alternatively, the $ \\mathrm{FTLE}_{t_0}^{t_N}(\\mathbf{x}_0) $ can be computed from the maximum singular value $ \\sigma_{max} $ of the deformation gradient $  \\mathbf{\\nabla F}_{t_0}^{t_N}(\\mathbf{x}_0)$. As the computation of the singular value of the deformation gradient is numerically more stable than the eigenvalue of Cauchy-Green strain tensor $ \\mathbf{C}_{t_0}^{t_N}(\\mathbf{x}_0) $, we compute $ \\mathrm{FTLE}_{t_0}^{t_N}(\\mathbf{x}_0) $ according to:\n",
    "\n",
    "\\begin{equation}\n",
    "\\mathrm{FTLE}_{t_0}^{t_N}(\\mathbf{x}_0) = \\dfrac{1}{t_N-t_0}\\log(\\sigma_{max}(\\mathbf{x}_0))\n",
    "\\end{equation}"
   ]
  },
  {
   "cell_type": "markdown",
   "metadata": {},
   "source": [
    "| Name | Type (Shape) | Description |\n",
    "| --- | --- | --- |\n",
    "| gradFmap | array $ (2, 2) $ | $ \\mathbf{\\nabla F}_{t_0}^{t_N}(\\mathbf{x}_0) $|\n",
    "| lenT | float | $ t_N-t_0 $ |\n",
    "| FTLE | float | $ \\mathrm{FTLE}_{t_0}^{t_N}(\\mathbf{x}_0) $ |"
   ]
  },
  {
   "cell_type": "code",
   "execution_count": 1,
   "metadata": {
    "ExecuteTime": {
     "end_time": "2021-12-29T14:50:23.838163Z",
     "start_time": "2021-12-29T14:50:23.823203Z"
    }
   },
   "outputs": [],
   "source": [
    "# Here we just add necessary folders to the path\n",
    "import sys, os\n",
    "\n",
    "# get current directory\n",
    "path = os.getcwd()\n",
    "\n",
    "# get parent directory\n",
    "parent_directory = os.path.sep.join(path.split(os.path.sep)[:-3])\n",
    "\n",
    "# add utils folder to current working path\n",
    "sys.path.append(parent_directory+\"/subfunctions/utils\")"
   ]
  },
  {
   "cell_type": "code",
   "execution_count": 2,
   "metadata": {
    "ExecuteTime": {
     "end_time": "2021-12-29T14:50:23.932909Z",
     "start_time": "2021-12-29T14:50:23.839159Z"
    }
   },
   "outputs": [],
   "source": [
    "# Import numpy\n",
    "import numpy as np\n",
    "\n",
    "# Import function to compute singular values/vectors of two-dimensional matrix\n",
    "from ipynb.fs.defs.SVD import SVD"
   ]
  },
  {
   "cell_type": "code",
   "execution_count": 1,
   "metadata": {
    "ExecuteTime": {
     "end_time": "2021-12-30T01:03:41.150766Z",
     "start_time": "2021-12-30T01:03:41.141791Z"
    }
   },
   "outputs": [],
   "source": [
    "def _FTLE(gradFmap, lenT):\n",
    "    '''\n",
    "    Computes FTLE from gradient of the flow map using singular value decomposition.\n",
    "    \n",
    "    Parameters: \n",
    "        gradFmap: array(2,2), gradient of the flow map\n",
    "        lenT:     float, length of time-interval (tN-t0)\n",
    "        \n",
    "    Returns:\n",
    "        FTLE: Finite time Lyapunov exponent\n",
    "    '''\n",
    "        \n",
    "    # compute maximum singular value of deformation gradient\n",
    "    sigma_max = SVD(gradFmap)[1][0,0] # float\n",
    "    \n",
    "    # If sigma_max < 1, then set to 1. This happens due to numerical inaccuracies or when the flow is compressible.\n",
    "    # Since we inherently assumed that the flow is incompressible we set sigma_max = 1 if condition is violated.\n",
    "    if sigma_max < 1:\n",
    "        return 0\n",
    "    \n",
    "    FTLE = 1/(lenT)*np.log(sigma_max) # float\n",
    "                        \n",
    "    return FTLE # float"
   ]
  },
  {
   "cell_type": "markdown",
   "metadata": {
    "ExecuteTime": {
     "end_time": "2021-12-26T20:43:20.903181Z",
     "start_time": "2021-12-26T20:43:20.868274Z"
    }
   },
   "source": [
    "| Name | Type (Shape) | Description |\n",
    "| --- | --- | --- |\n",
    "| C | array (2, 2) | $ \\mathbf{C}_{t_0}^{t_N}(\\mathbf{x}_0) $|\n",
    "| lenT | float | $ t_N-t_0 $ |\n",
    "| FTLE | float | $ \\mathrm{FTLE}_{t_0}^{t_N}(\\mathbf{x}_0) $|"
   ]
  },
  {
   "cell_type": "code",
   "execution_count": 4,
   "metadata": {
    "ExecuteTime": {
     "end_time": "2021-12-29T14:50:23.963852Z",
     "start_time": "2021-12-29T14:50:23.948866Z"
    }
   },
   "outputs": [],
   "source": [
    "# Import function to compute eigenvalue/eigenvector\n",
    "from ipynb.fs.defs.eigen import eigen\n",
    "\n",
    "def _FTLE_C(C, lenT):\n",
    "    \n",
    "    '''\n",
    "    Computes FTLE from Cauchy Green strain tensor by solving the eigenvalue problem.\n",
    "    \n",
    "    Parameters: \n",
    "        C:    array(2,2), Cauchy Green strain tensor\n",
    "        lenT: float, length of time-interval (tN-t0)\n",
    "        \n",
    "    Returns:\n",
    "        FTLE: Finite time Lyapunov exponent\n",
    "    '''\n",
    "    \n",
    "    # compute maximum eigenvalue of CG strain tensor\n",
    "    lambda_max = eigen(C)[1] # float\n",
    "    \n",
    "    # If lambda_max < 1, then set to 1. This happens due to numerical inaccuracies or when the flow is compressible.\n",
    "    # Since we inherently assumed that the flow is incompressible we set sigma_max = 1 if condition is violated.\n",
    "    if lambda_max < 1:\n",
    "        return 0\n",
    "    \n",
    "    FTLE = 1/(2*lenT)*np.log(lambda_max) # float\n",
    "    \n",
    "    return FTLE # float"
   ]
  }
 ],
 "metadata": {
  "kernelspec": {
   "display_name": "Python 3",
   "language": "python",
   "name": "python3"
  },
  "language_info": {
   "codemirror_mode": {
    "name": "ipython",
    "version": 3
   },
   "file_extension": ".py",
   "mimetype": "text/x-python",
   "name": "python",
   "nbconvert_exporter": "python",
   "pygments_lexer": "ipython3",
   "version": "3.7.12"
  },
  "toc": {
   "base_numbering": 1,
   "nav_menu": {},
   "number_sections": true,
   "sideBar": true,
   "skip_h1_title": false,
   "title_cell": "Table of Contents",
   "title_sidebar": "Contents",
   "toc_cell": false,
   "toc_position": {},
   "toc_section_display": true,
   "toc_window_display": false
  }
 },
 "nbformat": 4,
 "nbformat_minor": 4
}
