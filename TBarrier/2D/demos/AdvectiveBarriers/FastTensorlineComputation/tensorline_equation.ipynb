{
 "cells": [
  {
   "cell_type": "markdown",
   "id": "2e8b1b8d",
   "metadata": {},
   "source": [
    "This function computes the right hand side of the system of ODEs:\n",
    "\n",
    "\\begin{align}\n",
    "\\dfrac{d}{ds}\\mathbf{x}(s) &= \\mathbf{e}_i = \\begin{pmatrix} \\cos(\\phi(s)) \\\\ \\sin(\\phi(s)) \\end{pmatrix} \\\\\n",
    "\\dfrac{d}{ds}\\phi(s) &= -\\dfrac{1}{2s_k}\\mathbf{e}_k^T(\\nabla_x S \\mathbf{e}_i) \\mathbf{e}_i\n",
    "\\end{align}, where $ \\mathbf{e}_k = \\dfrac{d}{ds} \\mathbf{e}_i = \\begin{pmatrix} -\\sin(\\phi(s)) \\\\ \\cos(\\phi(s)) \\end{pmatrix} $.\n",
    "\n",
    "$ \\dfrac{d}{ds}\\phi(s) $ depends on both the spatial coordinates $ \\mathbf{x} = (x, y) $ but also on the angle $ \\phi $."
   ]
  },
  {
   "cell_type": "code",
   "execution_count": 1,
   "id": "7b475f90",
   "metadata": {
    "ExecuteTime": {
     "end_time": "2021-11-09T08:51:22.176147Z",
     "start_time": "2021-11-09T08:51:22.172734Z"
    }
   },
   "outputs": [],
   "source": [
    "import sys, os\n",
    "\n",
    "# get current directory\n",
    "path = os.getcwd()\n",
    "\n",
    "# get parent directory\n",
    "parent_directory = os.path.sep.join(path.split(os.path.sep)[:-2])\n",
    "\n",
    "# add utils folder to current working path\n",
    "sys.path.append(parent_directory+\"/subfunctions\")"
   ]
  },
  {
   "cell_type": "code",
   "execution_count": null,
   "id": "8b0b0e8e",
   "metadata": {},
   "outputs": [],
   "source": [
    "# Import math tools\n",
    "from math import cos, sin, sqrt, pi\n",
    "\n",
    "# Import function which checks if trajectory is in a domain where the velocity field is still defined\n",
    "from ipynb.fs.defs.check_location import check_location"
   ]
  },
  {
   "cell_type": "code",
   "execution_count": null,
   "id": "5b9e1bf4",
   "metadata": {
    "ExecuteTime": {
     "end_time": "2021-11-09T08:51:22.244316Z",
     "start_time": "2021-11-09T08:51:22.177823Z"
    },
    "hide_input": false
   },
   "outputs": [],
   "source": [
    "def _tensorline_equation(t, x_phi, interp_phi_prime, s_threshold, interp_s, X, Y, defined_domain):\n",
    "    \n",
    "    '''\n",
    "    \n",
    "    Computes tensorlines based on the Fast Tensorline Computation (FTC) algorithm.\n",
    "    \n",
    "    Parameters:\n",
    "        t:                dummy time-variable (not used in this function but required for ODE-solver)\n",
    "        x_phi:            list, \n",
    "                          x_phi[0] contains x-position\n",
    "                          x_phi[1] contains y-position\n",
    "                          x_phi[2] contains angles\n",
    "        interp_phi_prime: Interpolant-object for phi_prime\n",
    "        s_threshold:      float, threshold that guarantees that trajectory is sufficiently far away from singularity\n",
    "        interp_s:         Interpolant-object for evaluating attraction/repulsion rate\n",
    "        X:                array(Ny, Nx): X-meshgrid\n",
    "        Y:                array(Ny, Nx): Y-meshgrid\n",
    "        defined_domain:   array(Ny, Nx): meshgrid defining domain where velocity field is defined, if 1 -->velocity field is defined, if 0 --> velocity field is not defined (e.g. land, walls, etc...)\n",
    "    \n",
    "    Returns:\n",
    "    \n",
    "        RHS:              list, Normalized right-hand-side of differential equation. If point is close to singularity, then [0,0,0] is returned and integration will stop.\n",
    "    '''\n",
    "    \n",
    "    # extract x, y, phi\n",
    "    x, y, phi = x_phi[0], x_phi[1], x_phi[2]%(2*pi)\n",
    "    \n",
    "    # check particle location\n",
    "    if check_location(X, Y, defined_domain, x_phi[:2], True)[0] == \"IN\":\n",
    "        \n",
    "        # make sure that trajectory is sufficiently far away from singularity (=rate of attraction\\repulsion is sufficiently high)\n",
    "        if abs(interp_s(y, x)[0][0]) > s_threshold:  \n",
    "        \n",
    "            # evaluate phi_dot from interpolant\n",
    "            phi_dot = interp_phi_prime([y, x, phi])[0]\n",
    "        \n",
    "            # compute (x', y') = (cos(phi), sin(phi)) \n",
    "            x_dot = cos(phi)\n",
    "            y_dot = sin(phi)\n",
    "    \n",
    "            # normalize ODE\n",
    "            norm = sqrt(1+phi_dot**2)\n",
    "            \n",
    "            RHS = [x_dot/norm, y_dot/norm, phi_dot/norm]\n",
    "    \n",
    "            return RHS\n",
    "\n",
    "        # if trajectory close to singularity --> stop integration\n",
    "        else:\n",
    "            return [0, 0, 0]\n",
    "   \n",
    "    # if trajectory outside domain --> stop integration\n",
    "    else:\n",
    "        \n",
    "        return [0, 0, 0]"
   ]
  }
 ],
 "metadata": {
  "kernelspec": {
   "display_name": "Python 3",
   "language": "python",
   "name": "python3"
  },
  "language_info": {
   "codemirror_mode": {
    "name": "ipython",
    "version": 3
   },
   "file_extension": ".py",
   "mimetype": "text/x-python",
   "name": "python",
   "nbconvert_exporter": "python",
   "pygments_lexer": "ipython3",
   "version": "3.7.12"
  },
  "toc": {
   "base_numbering": 1,
   "nav_menu": {},
   "number_sections": true,
   "sideBar": true,
   "skip_h1_title": false,
   "title_cell": "Table of Contents",
   "title_sidebar": "Contents",
   "toc_cell": false,
   "toc_position": {
    "height": "calc(100% - 180px)",
    "left": "10px",
    "top": "150px",
    "width": "165px"
   },
   "toc_section_display": true,
   "toc_window_display": false
  }
 },
 "nbformat": 4,
 "nbformat_minor": 5
}
