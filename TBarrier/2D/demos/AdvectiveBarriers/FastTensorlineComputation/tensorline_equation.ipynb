{
 "cells": [
  {
   "cell_type": "code",
   "execution_count": 1,
   "id": "7b475f90",
   "metadata": {
    "ExecuteTime": {
     "end_time": "2021-11-09T08:51:22.176147Z",
     "start_time": "2021-11-09T08:51:22.172734Z"
    }
   },
   "outputs": [],
   "source": [
    "import sys, os\n",
    "\n",
    "# get current directory\n",
    "path = os.getcwd()\n",
    "\n",
    "# get parent directory\n",
    "parent_directory = os.path.sep.join(path.split(os.path.sep)[:-2])\n",
    "\n",
    "# add utils folder to current working path\n",
    "sys.path.append(parent_directory+\"/subfunctions\")"
   ]
  },
  {
   "cell_type": "code",
   "execution_count": null,
   "id": "8b0b0e8e",
   "metadata": {},
   "outputs": [],
   "source": [
    "# Import math tools\n",
    "from math import cos, sin, sqrt, pi\n",
    "\n",
    "# Import function which checks if trajectory is in a domain where the velocity field is still defined\n",
    "from ipynb.fs.defs.check_location import check_location"
   ]
  },
  {
   "cell_type": "code",
   "execution_count": null,
   "id": "5b9e1bf4",
   "metadata": {
    "ExecuteTime": {
     "end_time": "2021-11-09T08:51:22.244316Z",
     "start_time": "2021-11-09T08:51:22.177823Z"
    },
    "hide_input": false
   },
   "outputs": [],
   "source": [
    "def _tensorline_equation(t, x_phi, interp_phi_prime, s_threshold, interp_s, X, Y, defined_domain):\n",
    "    \n",
    "    # extract x, y, phi\n",
    "    x, y, phi = x_phi[0], x_phi[1], x_phi[2]%(2*pi)\n",
    "    \n",
    "    # check particle location\n",
    "    if check_location(X, Y, defined_domain, x_phi[:2], True)[0] == \"IN\":\n",
    "        \n",
    "        # make sure that trajectory is sufficiently far away from singularity (=rate of attraction\\repulsion is sufficiently high)\n",
    "        if abs(interp_s(y, x)[0][0]) > s_threshold:  \n",
    "        \n",
    "            # evaluate phi_dot from interpolant\n",
    "            phi_dot = interp_phi_prime([y, x, phi])[0]\n",
    "        \n",
    "            # compute (x', y') = (cos(phi), sin(phi)) \n",
    "            x_dot = cos(phi)\n",
    "            y_dot = sin(phi)\n",
    "    \n",
    "            # normalize ODE\n",
    "            norm = sqrt(1+phi_dot**2)\n",
    "    \n",
    "            return [x_dot/norm, y_dot/norm, phi_dot/norm]\n",
    "\n",
    "        # if trajectory close to singularity --> stop integration\n",
    "        else:\n",
    "            return [0, 0, 0]\n",
    "   \n",
    "    # if trajectory outside domain --> stop integration\n",
    "    else:\n",
    "        \n",
    "        return [0, 0, 0]"
   ]
  }
 ],
 "metadata": {
  "kernelspec": {
   "display_name": "Python 3 (ipykernel)",
   "language": "python",
   "name": "python3"
  },
  "language_info": {
   "codemirror_mode": {
    "name": "ipython",
    "version": 3
   },
   "file_extension": ".py",
   "mimetype": "text/x-python",
   "name": "python",
   "nbconvert_exporter": "python",
   "pygments_lexer": "ipython3",
   "version": "3.7.11"
  },
  "toc": {
   "base_numbering": 1,
   "nav_menu": {},
   "number_sections": true,
   "sideBar": true,
   "skip_h1_title": false,
   "title_cell": "Table of Contents",
   "title_sidebar": "Contents",
   "toc_cell": false,
   "toc_position": {
    "height": "calc(100% - 180px)",
    "left": "10px",
    "top": "150px",
    "width": "165px"
   },
   "toc_section_display": true,
   "toc_window_display": false
  }
 },
 "nbformat": 4,
 "nbformat_minor": 5
}
