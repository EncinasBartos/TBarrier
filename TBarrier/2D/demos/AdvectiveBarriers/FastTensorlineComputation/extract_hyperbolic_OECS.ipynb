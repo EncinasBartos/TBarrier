{
 "cells": [
  {
   "cell_type": "markdown",
   "metadata": {},
   "source": [
    "Along an attracting segment of an objective saddle-point, $ s_1 <0 $ must be monotonically increasing (= $ s_2 $ must be monotonically decreasing) as the rate of attraction $ |s_1| = |s_2| $ decreases as one moves away from the saddle-point. An analogous statement holds for repelling segments of an objective saddle-point."
   ]
  },
  {
   "cell_type": "code",
   "execution_count": null,
   "metadata": {},
   "outputs": [],
   "source": [
    "# Import numpy\n",
    "import numpy as np"
   ]
  },
  {
   "cell_type": "code",
   "execution_count": null,
   "metadata": {},
   "outputs": [],
   "source": [
    "def _extract_hyperbolic_OECS(x, y, interp_s):\n",
    "    \n",
    "    s_list = []\n",
    "    \n",
    "    s0 = interp_s(y[0], x[0])[0][0]\n",
    "            \n",
    "    s_list.append(s0)\n",
    "    \n",
    "    for i in range(1, x.shape[0]):\n",
    "        \n",
    "        s_list.append(s0)\n",
    "        \n",
    "        s1 = interp_s(y[i], x[i])[0][0]\n",
    "        \n",
    "        if np.abs(s1) - np.abs(s0) > 0:\n",
    "            \n",
    "            return x[:i+1], y[:i+1], s_list\n",
    "        \n",
    "        else:\n",
    "            \n",
    "            s0 = s1\n",
    "    \n",
    "    return x, y, s_list"
   ]
  }
 ],
 "metadata": {
  "kernelspec": {
   "display_name": "Python 3 (ipykernel)",
   "language": "python",
   "name": "python3"
  },
  "language_info": {
   "codemirror_mode": {
    "name": "ipython",
    "version": 3
   },
   "file_extension": ".py",
   "mimetype": "text/x-python",
   "name": "python",
   "nbconvert_exporter": "python",
   "pygments_lexer": "ipython3",
   "version": "3.7.11"
  },
  "toc": {
   "base_numbering": 1,
   "nav_menu": {},
   "number_sections": true,
   "sideBar": true,
   "skip_h1_title": false,
   "title_cell": "Table of Contents",
   "title_sidebar": "Contents",
   "toc_cell": false,
   "toc_position": {},
   "toc_section_display": true,
   "toc_window_display": false
  }
 },
 "nbformat": 4,
 "nbformat_minor": 4
}
