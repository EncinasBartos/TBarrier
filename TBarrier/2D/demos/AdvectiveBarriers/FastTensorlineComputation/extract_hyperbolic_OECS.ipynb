{
 "cells": [
  {
   "cell_type": "markdown",
   "metadata": {},
   "source": [
    "Along an attracting segment of an objective saddle-point, $ s_1 <0 $ must be monotonically increasing (= $ s_2 $ must be monotonically decreasing) as the rate of attraction $ |s_1| = |s_2| $ decreases as one moves away from the saddle-point. An analogous statement holds for repelling segments of an objective saddle-point.\n",
    "\n",
    "| Name | Type (Shape) | Description |\n",
    "| --- | --- | --- |\n",
    "| x | list | x-coordinate of hyperbolic tensorline |\n",
    "| y | list | y coordinate of hyperbolic tensorline |\n",
    "| interp_s | Interpolant | Interpolant for maximum eigenvalue of rate of strain $ S $|"
   ]
  },
  {
   "cell_type": "code",
   "execution_count": null,
   "metadata": {},
   "outputs": [],
   "source": [
    "def _extract_hyperbolic_OECS(x, y, interp_s):\n",
    "    \n",
    "    '''\n",
    "    Along an attracting segment of an objective saddle-point, $ s_1 <0 $ must be monotonically increasing \n",
    "    (= $ s_2 $ must be monotonically decreasing) as the rate of attraction $ |s_1| = |s_2| $ decreases as one \n",
    "    moves away from the saddle-point. An analogous statement holds for repelling segments of an objective saddle-point.\n",
    "    We refer to this subset of tensorlines as reduced hyperbolic tensorlines as they satisfy the monotonicity and hyperbolicity condition.\n",
    "    \n",
    "    Parameters:\n",
    "        x:        list, x-coordinate of hyperbolic tensorline\n",
    "        y:        list, y-coordinate of hyperbolic tensorline\n",
    "        interp_s: Interpolant for rate of attraction/repulsion of rate of strain\n",
    "        \n",
    "    Returns:\n",
    "        x_reduced:        list, x-coordinate of reduced hyperbolic tensorlines\n",
    "        y_reduced:        list, y-coordinate of redued hyperbolic tensorlines\n",
    "        s_reduced:        list, rate of attraction/repulsion along reduced hyperbolic tensorlines\n",
    "    '''\n",
    "    \n",
    "    s_list = []\n",
    "    \n",
    "    s0 = interp_s(y[0], x[0])[0][0]\n",
    "            \n",
    "    s_list.append(s0)\n",
    "    \n",
    "    for i in range(1, x.shape[0]):\n",
    "        \n",
    "        s_list.append(s0)\n",
    "        \n",
    "        s1 = interp_s(y[i], x[i])[0][0]\n",
    "        \n",
    "        if abs(s1) - abs(s0) > 0:\n",
    "            \n",
    "            x_reduced = x[:i+1]\n",
    "            y_reduced = y[:i+1]\n",
    "            s_reduced = s_list.copy()\n",
    "            \n",
    "            return x_reduced, y_reduced, s_reduced\n",
    "        \n",
    "        else:\n",
    "            \n",
    "            s0 = s1\n",
    "    \n",
    "    x_reduced = x.copy()\n",
    "    y_reduced = y.copy()\n",
    "    s_reduced = s_list.copy()\n",
    "    \n",
    "    return x_reduced, y_reduced, s_reduced"
   ]
  }
 ],
 "metadata": {
  "kernelspec": {
   "display_name": "Python 3",
   "language": "python",
   "name": "python3"
  },
  "language_info": {
   "codemirror_mode": {
    "name": "ipython",
    "version": 3
   },
   "file_extension": ".py",
   "mimetype": "text/x-python",
   "name": "python",
   "nbconvert_exporter": "python",
   "pygments_lexer": "ipython3",
   "version": "3.7.12"
  },
  "toc": {
   "base_numbering": 1,
   "nav_menu": {},
   "number_sections": true,
   "sideBar": true,
   "skip_h1_title": false,
   "title_cell": "Table of Contents",
   "title_sidebar": "Contents",
   "toc_cell": false,
   "toc_position": {},
   "toc_section_display": true,
   "toc_window_display": false
  }
 },
 "nbformat": 4,
 "nbformat_minor": 4
}
