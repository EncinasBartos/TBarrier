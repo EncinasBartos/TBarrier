{
 "cells": [
  {
   "cell_type": "code",
   "execution_count": 1,
   "metadata": {
    "ExecuteTime": {
     "end_time": "2021-11-27T16:43:45.621025Z",
     "start_time": "2021-11-27T16:43:45.606065Z"
    }
   },
   "outputs": [
    {
     "name": "stdout",
     "output_type": "stream",
     "text": [
      "Wall time: 0 ns\n"
     ]
    }
   ],
   "source": [
    "%%time\n",
    "import sys, os\n",
    "\n",
    "# get current directory\n",
    "path = os.getcwd()\n",
    "\n",
    "# get parent directory\n",
    "parent_directory = os.path.sep.join(path.split(os.path.sep)[:-3])\n",
    "\n",
    "# add integration folder to current working path\n",
    "sys.path.append(parent_directory+\"/Src/integration\")\n",
    "\n",
    "# add utils folder to current working path\n",
    "sys.path.append(parent_directory+\"/Src/utils\")\n",
    "\n",
    "# add FTC folder to current working path\n",
    "sys.path.append(parent_directory+\"/Demos/FastTensorlineComputation\")"
   ]
  },
  {
   "cell_type": "markdown",
   "metadata": {},
   "source": [
    "# Import Agulhas Data"
   ]
  },
  {
   "cell_type": "code",
   "execution_count": 2,
   "metadata": {
    "ExecuteTime": {
     "end_time": "2021-11-27T16:43:45.744722Z",
     "start_time": "2021-11-27T16:43:45.622022Z"
    }
   },
   "outputs": [
    {
     "name": "stdout",
     "output_type": "stream",
     "text": [
      "Wall time: 107 ms\n"
     ]
    }
   ],
   "source": [
    "%%time\n",
    "import scipy.io as sio\n",
    "\n",
    "#Import velocity data from file in data-folder\n",
    "mat_file = sio.loadmat('../../../Data/AVISO/Agulhas_AVISO.mat')\n",
    "\n",
    "U = mat_file['u'] #u\n",
    "V = mat_file['v'] #v\n",
    "x = mat_file['x'] #x\n",
    "y = mat_file['y'] #y\n",
    "time_data = mat_file['t']"
   ]
  },
  {
   "cell_type": "markdown",
   "metadata": {},
   "source": [
    "# Data/Parameters for Dynamical System"
   ]
  },
  {
   "cell_type": "code",
   "execution_count": 3,
   "metadata": {
    "ExecuteTime": {
     "end_time": "2021-11-27T16:43:45.760679Z",
     "start_time": "2021-11-27T16:43:45.745693Z"
    }
   },
   "outputs": [],
   "source": [
    "import numpy as np\n",
    "\n",
    "# number of cores to be used for parallel computing\n",
    "Ncores = 8\n",
    "\n",
    "# time resolution of data\n",
    "dt_data = time_data[0, 1]-time_data[0,0]\n",
    "\n",
    "# periodic boundary conditions\n",
    "periodic_x = False\n",
    "periodic_y = False\n",
    "periodic = [periodic_x, periodic_y]\n",
    "\n",
    "# unsteady velocity field\n",
    "bool_unsteady = True\n",
    "\n",
    "# defined domain\n",
    "defined_domain = np.isfinite(U[:,:,0]).astype(int)\n",
    "\n",
    "## compute meshgrid of dataset\n",
    "X, Y = np.meshgrid(x, y)\n",
    "\n",
    "## resolution of meshgrid\n",
    "dx_data = X[0,1]-X[0,0]\n",
    "dy_data = Y[1,0]-Y[0,0]\n",
    "\n",
    "delta = [dx_data, dy_data]"
   ]
  },
  {
   "cell_type": "markdown",
   "metadata": {},
   "source": [
    "# Spatio-Temporal Domain of Dynamical System"
   ]
  },
  {
   "cell_type": "code",
   "execution_count": 4,
   "metadata": {
    "ExecuteTime": {
     "end_time": "2021-11-27T16:43:45.776609Z",
     "start_time": "2021-11-27T16:43:45.761649Z"
    }
   },
   "outputs": [
    {
     "name": "stdout",
     "output_type": "stream",
     "text": [
      "Wall time: 998 µs\n"
     ]
    }
   ],
   "source": [
    "%%time\n",
    "# Time\n",
    "t_OECS = 0\n",
    "\n",
    "# store time in array\n",
    "time = np.array([t_OECS])\n",
    "\n",
    "# domain boundary (in degrees)\n",
    "xmin = -3\n",
    "xmax = 1\n",
    "ymin = -32\n",
    "ymax = -24\n",
    "\n",
    "# spacing of meshgrid (in degrees)\n",
    "dx = 0.01\n",
    "dy = 0.01\n",
    "\n",
    "x_domain = np.arange(xmin, xmax + dx, dx)\n",
    "y_domain = np.arange(ymin, ymax + dy, dy)\n",
    "\n",
    "X_domain, Y_domain = np.meshgrid(x_domain, y_domain)"
   ]
  },
  {
   "cell_type": "markdown",
   "metadata": {},
   "source": [
    "# Interpolate Velocity\n",
    "\n",
    "In order to evaluate the velocity field at arbitrary locations and times, we must interpolate the discrete velocity data. The interpolation with respect to time is always linear. The interpolation with respect to space can be chosen to be \"cubic\" or \"linear\". In order to favour a smooth velocity field, we interpolate the velocity field in space using a cubic interpolant."
   ]
  },
  {
   "cell_type": "code",
   "execution_count": 5,
   "metadata": {
    "ExecuteTime": {
     "end_time": "2021-11-27T16:43:46.028226Z",
     "start_time": "2021-11-27T16:43:45.777606Z"
    }
   },
   "outputs": [
    {
     "name": "stdout",
     "output_type": "stream",
     "text": [
      "Wall time: 239 ms\n"
     ]
    }
   ],
   "source": [
    "%%time\n",
    "# Import interpolation function for unsteady flow field\n",
    "from ipynb.fs.defs.Interpolant import interpolant_unsteady\n",
    "\n",
    "# Interpolate velocity data using cubic spatial interpolation\n",
    "Interpolant = interpolant_unsteady(X, Y, U, V, time_data, method = \"cubic\")"
   ]
  },
  {
   "cell_type": "markdown",
   "metadata": {},
   "source": [
    "# Rate of strain tensor over meshgrid of initial conditions\n",
    "\n",
    "The rate of strain tensor $ S(\\mathbf{x}, t) $ at time $ t $ is computed by iterating over meshgrid. The method *DS._spin_tensor(x, t)* computes the rate of strain tensor at point $ \\mathbf{x} $  at time $ t $ by using an auxiliary meshgrid. 'aux_grid' specifies the ratio between the auxiliary grid and the original meshgrid. This parameter is generally chosen to be between $ [\\dfrac{1}{10}, \\dfrac{1}{100}] $. The computations are parallelized."
   ]
  },
  {
   "cell_type": "code",
   "execution_count": 6,
   "metadata": {
    "ExecuteTime": {
     "end_time": "2021-11-27T16:44:29.105052Z",
     "start_time": "2021-11-27T16:43:46.029228Z"
    }
   },
   "outputs": [
    {
     "data": {
      "application/vnd.jupyter.widget-view+json": {
       "model_id": "a5a5327104b1469fa27b289db8050152",
       "version_major": 2,
       "version_minor": 0
      },
      "text/plain": [
       "  0%|          | 0/802 [00:00<?, ?it/s]"
      ]
     },
     "metadata": {},
     "output_type": "display_data"
    },
    {
     "name": "stdout",
     "output_type": "stream",
     "text": [
      "Wall time: 43.1 s\n"
     ]
    }
   ],
   "source": [
    "%%time\n",
    "# Import package for progress bar\n",
    "from tqdm.notebook import tqdm\n",
    "\n",
    "# Import package for parallel computing\n",
    "from joblib import Parallel, delayed\n",
    "\n",
    "# Import gradient of velocity function\n",
    "from ipynb.fs.defs.gradient_velocity import gradient_velocity\n",
    "\n",
    "# Import Rate of Strain function\n",
    "from ipynb.fs.defs.RateStrain import RateStrain\n",
    "\n",
    "# Import eigenvalue/eigenvector calculator\n",
    "from ipynb.fs.defs.eigen import eigen\n",
    "\n",
    "# Define ratio of auxiliary grid spacing vs original grid_spacing\n",
    "aux_grid_ratio = .1 # [1/10, 1/100]\n",
    "aux_grid = [aux_grid_ratio*(X_domain[0, 1]-X_domain[0, 0]), aux_grid_ratio*(Y_domain[1, 0]-Y_domain[0, 0])]\n",
    "\n",
    "def parallel_S(i):\n",
    "    \n",
    "    S_parallel = np.zeros((X_domain.shape[1], 2, 2))\n",
    "    \n",
    "    for j in range(S_parallel.shape[0]):\n",
    "        \n",
    "        x = np.array([X_domain[i,j], Y_domain[i,j]])\n",
    "        \n",
    "        # Compute gradient of velocity\n",
    "        grad_vel = gradient_velocity(t_OECS, x, X, Y, Interpolant, periodic, defined_domain, bool_unsteady, dt_data, delta, aux_grid)\n",
    "        \n",
    "        # Compute rate of strain at 'x'\n",
    "        S_parallel[j, :, :] = RateStrain(grad_vel)\n",
    "    \n",
    "    return S_parallel\n",
    "\n",
    "S = np.array(Parallel(n_jobs=Ncores, verbose = 0)(delayed(parallel_S)(i) for i in tqdm(range(X_domain.shape[0]))))"
   ]
  },
  {
   "cell_type": "markdown",
   "metadata": {},
   "source": [
    "## Compute Tensorfield properties\n",
    "\n",
    "We now compute the properties of the rate of strain tensor 'S' such as the eigenvalues 's1', 's2' and eigenvectors 'eigenv1', 'eigenv2'. Furthermore, we also need the spatial derivatives of the elements of 'S'."
   ]
  },
  {
   "cell_type": "code",
   "execution_count": 7,
   "metadata": {
    "ExecuteTime": {
     "end_time": "2021-11-27T16:44:42.058217Z",
     "start_time": "2021-11-27T16:44:29.106088Z"
    }
   },
   "outputs": [],
   "source": [
    "# Import (cubic) RectBivariateSpline from scipy\n",
    "from scipy.interpolate import RectBivariateSpline as RBS\n",
    "        \n",
    "# Compute gradients of elements of rate of strain tensor\n",
    "\n",
    "S11 = np.nan_to_num(S[:,:,0,0], nan=0.0)\n",
    "S12 = np.nan_to_num(S[:,:,0,1], nan=0.0)\n",
    "S22 = np.nan_to_num(S[:,:,1,1], nan=0.0)\n",
    "\n",
    "# eigenvalue of S\n",
    "s = np.zeros((S.shape[0], S.shape[1]))*np.nan\n",
    "\n",
    "# Interpolate elements of rate of strain tensor (per default: cubic)\n",
    "interp_S11 = RBS(Y_domain[:,0], X_domain[0,:], S11)\n",
    "interp_S12 = RBS(Y_domain[:,0], X_domain[0,:], S12)\n",
    "interp_S22 = RBS(Y_domain[:,0], X_domain[0,:], S22)\n",
    "\n",
    "# Initialize arrays\n",
    "S11x = np.zeros((S.shape[0], S.shape[1]))*np.nan\n",
    "S11y = np.zeros((S.shape[0], S.shape[1]))*np.nan\n",
    "S12x = np.zeros((S.shape[0], S.shape[1]))*np.nan\n",
    "S12y = np.zeros((S.shape[0], S.shape[1]))*np.nan\n",
    "S22x = np.zeros((S.shape[0], S.shape[1]))*np.nan\n",
    "S22y = np.zeros((S.shape[0], S.shape[1]))*np.nan\n",
    "    \n",
    "# Define auxilary meshgrid\n",
    "rho_x = aux_grid[0]\n",
    "rho_y = aux_grid[1]\n",
    "    \n",
    "#iterate over meshgrid\n",
    "for i in range(X_domain.shape[0]):\n",
    "        \n",
    "    for j in range(Y_domain.shape[1]):\n",
    "            \n",
    "        x = [X_domain[i,j], Y_domain[i, j]]\n",
    "        \n",
    "        # compute derivatives using auxiliary grid and finite-differencing\n",
    "        S11x[i, j] = (interp_S11(x[1], x[0]+rho_x)[0][0]-interp_S11(x[1], x[0]-rho_x)[0][0])/(2*rho_x)\n",
    "        S11y[i, j] = (interp_S11(x[1]+rho_y, x[0])[0][0]-interp_S11(x[1]-rho_y, x[0])[0][0])/(2*rho_y)\n",
    "        \n",
    "        S12x[i, j] = (interp_S12(x[1], x[0]+rho_x)[0][0]-interp_S12(x[1], x[0]-rho_x)[0][0])/(2*rho_x)\n",
    "        S12y[i, j] = (interp_S12(x[1]+rho_y, x[0])[0][0]-interp_S12(x[1]-rho_y, x[0])[0][0])/(2*rho_y)\n",
    "            \n",
    "        S22x[i, j] = (interp_S22(x[1], x[0]+rho_x)[0][0]-interp_S22(x[1], x[0]-rho_x)[0][0])/(2*rho_x)\n",
    "        S22y[i, j] = (interp_S22(x[1]+rho_y, x[0])[0][0]-interp_S22(x[1]-rho_y, x[0])[0][0])/(2*rho_y)\n",
    "        \n",
    "        # compute maximum eigenvalue\n",
    "        s = eig"
   ]
  },
  {
   "cell_type": "markdown",
   "metadata": {},
   "source": [
    "## Interpolate $ \\dot{\\phi}(x, y, \\phi), s(x, y) $ "
   ]
  },
  {
   "cell_type": "code",
   "execution_count": 11,
   "metadata": {
    "ExecuteTime": {
     "end_time": "2021-11-27T16:50:33.593509Z",
     "start_time": "2021-11-27T16:50:33.580543Z"
    }
   },
   "outputs": [
    {
     "ename": "NameError",
     "evalue": "name 's2' is not defined",
     "output_type": "error",
     "traceback": [
      "\u001b[1;31m---------------------------------------------------------------------------\u001b[0m",
      "\u001b[1;31mNameError\u001b[0m                                 Traceback (most recent call last)",
      "\u001b[1;32m<timed exec>\u001b[0m in \u001b[0;36m<module>\u001b[1;34m\u001b[0m\n",
      "\u001b[1;31mNameError\u001b[0m: name 's2' is not defined"
     ]
    }
   ],
   "source": [
    "%%time\n",
    "# Import phi_prime\n",
    "from ipynb.fs.defs.phi_prime_OECS import _phi_prime_OECS\n",
    "\n",
    "# Interpolant phi_phrime\n",
    "interp_phi_prime_attracting = _phi_prime_OECS(X_domain, Y_domain, -s, S11x, S11y, S12x, S12y, S22x, S22y, Ncores)\n",
    "\n",
    "# Interpolant phi_phrime\n",
    "interp_phi_prime_repelling = _phi_prime_OECS(X_domain, Y_domain, s, S11x, S11y, S12x, S12y, S22x, S22y, Ncores)\n",
    "\n",
    "# Interpolant s\n",
    "from scipy.interpolate import RectBivariateSpline as RBS\n",
    "\n",
    "interp_s = RBS(Y_domain[:,0], X_domain[0,:], np.nan_to_num(s, nan = 0), kx=1, ky=1)"
   ]
  },
  {
   "cell_type": "markdown",
   "metadata": {},
   "source": [
    "# Find objective Saddle-points"
   ]
  },
  {
   "cell_type": "code",
   "execution_count": 10,
   "metadata": {
    "ExecuteTime": {
     "end_time": "2021-11-27T16:50:31.895936Z",
     "start_time": "2021-11-27T16:50:31.884968Z"
    }
   },
   "outputs": [
    {
     "ename": "NameError",
     "evalue": "name 's' is not defined",
     "output_type": "error",
     "traceback": [
      "\u001b[1;31m---------------------------------------------------------------------------\u001b[0m",
      "\u001b[1;31mNameError\u001b[0m                                 Traceback (most recent call last)",
      "\u001b[1;32m~\\AppData\\Local\\Temp/ipykernel_5980/637642584.py\u001b[0m in \u001b[0;36m<module>\u001b[1;34m\u001b[0m\n\u001b[0;32m      5\u001b[0m \u001b[1;33m\u001b[0m\u001b[0m\n\u001b[0;32m      6\u001b[0m \u001b[1;31m# indices, positions and value (of s2-field) of the objective saddles\u001b[0m\u001b[1;33m\u001b[0m\u001b[1;33m\u001b[0m\u001b[1;33m\u001b[0m\u001b[0m\n\u001b[1;32m----> 7\u001b[1;33m \u001b[0mloc_idx_x\u001b[0m\u001b[1;33m,\u001b[0m \u001b[0mloc_idx_y\u001b[0m\u001b[1;33m,\u001b[0m \u001b[0mloc_max_x\u001b[0m\u001b[1;33m,\u001b[0m \u001b[0mloc_max_y\u001b[0m\u001b[1;33m,\u001b[0m \u001b[0mloc_max_field\u001b[0m \u001b[1;33m=\u001b[0m \u001b[0m_loc_max\u001b[0m\u001b[1;33m(\u001b[0m\u001b[0mmin_distance\u001b[0m\u001b[1;33m,\u001b[0m \u001b[0mX_domain\u001b[0m\u001b[1;33m,\u001b[0m \u001b[0mY_domain\u001b[0m\u001b[1;33m,\u001b[0m \u001b[0ms\u001b[0m\u001b[1;33m)\u001b[0m\u001b[1;33m\u001b[0m\u001b[1;33m\u001b[0m\u001b[0m\n\u001b[0m",
      "\u001b[1;31mNameError\u001b[0m: name 's' is not defined"
     ]
    }
   ],
   "source": [
    "from ipynb.fs.defs.loc_max import _loc_max\n",
    "\n",
    "# minimum distance between objective saddles (=local maxima in the s2-field)\n",
    "min_distance = .1\n",
    "\n",
    "# indices, positions and value (of s2-field) of the objective saddles\n",
    "loc_idx_x, loc_idx_y, loc_max_x, loc_max_y, loc_max_field = _loc_max(min_distance, X_domain, Y_domain, s)"
   ]
  },
  {
   "cell_type": "code",
   "execution_count": null,
   "metadata": {
    "ExecuteTime": {
     "end_time": "2021-11-27T16:44:42.166075Z",
     "start_time": "2021-11-27T16:44:42.166075Z"
    }
   },
   "outputs": [],
   "source": [
    "###################################### PLOT OBJECTIVE SADDLES ######################################\n",
    "import matplotlib.pyplot as plt\n",
    "\n",
    "fig = plt.figure(figsize = (16, 10))\n",
    "ax = plt.axes()\n",
    "\n",
    "cax = ax.contourf(X_domain, Y_domain, s2, levels = 400, cmap = \"Blues\")\n",
    "\n",
    "ax.scatter(loc_max_x, loc_max_y, c = 'y', marker = \"X\", s = 100)\n",
    "    \n",
    "ax.set_xlabel('long', fontsize = 16)\n",
    "ax.set_ylabel('lat', fontsize = 16)\n",
    "\n",
    "ax.set_xticks(np.arange(np.min(X_domain), np.max(X_domain), .5))\n",
    "ax.set_yticks(np.arange(np.min(Y_domain), np.max(Y_domain), .5))\n",
    "\n",
    "ax.set_title('Objective Saddles', fontsize = 20)\n",
    "\n",
    "cbar = plt.colorbar(cax)\n",
    "cbar.set_ticks(np.arange(0, 1.5, 0.25))\n",
    "cbar.set_label(r'$ |s_1| $', rotation = 0, labelpad = 20, fontsize = 16)\n",
    "\n",
    "plt.show()"
   ]
  },
  {
   "cell_type": "markdown",
   "metadata": {},
   "source": [
    "# Compute Initial Conditions ($ x_0, y_0, \\phi_0 $) for Hyperbolic OECS"
   ]
  },
  {
   "cell_type": "code",
   "execution_count": null,
   "metadata": {
    "ExecuteTime": {
     "end_time": "2021-11-27T16:44:42.166075Z",
     "start_time": "2021-11-27T16:44:42.166075Z"
    }
   },
   "outputs": [],
   "source": [
    "from math import atan, cos, sin\n",
    "\n",
    "# initial positions from where to start integration of hyperbolic OECS\n",
    "x0s1 = loc_max_x\n",
    "y0s1 = loc_max_y\n",
    "\n",
    "# Choose vector-field\n",
    "v = v2.copy()\n",
    "phi0s1_repelling, phi0s1_attracting = [], []\n",
    "\n",
    "for i in range(len(loc_idx_x)):\n",
    "    eigenvector = v[loc_idx_y[i], loc_idx_x[i], :]\n",
    "    angle = atan(eigenvector[1]/eigenvector[0])%(2*np.pi)\n",
    "    phi0s1_repelling.append(angle - np.pi/2)\n",
    "    phi0s1_attracting.append(angle)"
   ]
  },
  {
   "cell_type": "markdown",
   "metadata": {},
   "source": [
    "# Compute Attracting/Repelling OECS"
   ]
  },
  {
   "cell_type": "code",
   "execution_count": null,
   "metadata": {
    "ExecuteTime": {
     "end_time": "2021-11-27T16:44:42.167072Z",
     "start_time": "2021-11-27T16:44:42.167072Z"
    }
   },
   "outputs": [],
   "source": [
    "from scipy.integrate import solve_ivp\n",
    "from ipynb.fs.defs.tensorline_equation import _tensorline_equation\n",
    "from ipynb.fs.defs.extract_hyperbolic_OECS import _extract_hyperbolic_OECS\n",
    "\n",
    "# define domain where velocity field is defined\n",
    "defined_domain = np.isfinite(s2).astype(int)\n",
    "\n",
    "# If tensorline is close to singularity \n",
    "# --> integration stops as eigenvector are no longer well defined.\n",
    "# set threshold on rate of attraction which controls stopping criterion of integration.\n",
    "s_threshold = 0.001\n",
    "\n",
    "# define lists containing the position and the rate of attracion/repulsion along \n",
    "# unstable/stable segments of the hyperbolic OECS\n",
    "x_attracting, y_attracting, s_attracting = [], [], []\n",
    "x_repelling, y_repelling, s_repelling = [], [], []\n",
    "\n",
    "# objective saddle location\n",
    "objective_saddle = []\n",
    "\n",
    "# Iterate over objective saddle-points (hyperbolic OECS)\n",
    "for i in tqdm(range(len(x0s1))):\n",
    "    \n",
    "    # backward (-1) and forward (+1) integration\n",
    "    for sign in [-1, 1]:\n",
    "        \n",
    "        # Append objective saddle\n",
    "        objective_saddle.append([x0s1[i], y0s1[i]])\n",
    "        \n",
    "        # define integration interval of dummy variable 's'\n",
    "        t = [0, sign*5]\n",
    "        \n",
    "        # define resolution of stable/unstable segments of hyperbolic OECS\n",
    "        t_eval = np.linspace(t[0], t[1], 1000)\n",
    "\n",
    "        # IC repelling OECS\n",
    "        x0_repelling = [x0s1[i], y0s1[i], phi0s1_repelling[i]]\n",
    "        \n",
    "        # IC repelling OECS\n",
    "        x0_attracting = [x0s1[i], y0s1[i], phi0s1_attracting[i]]\n",
    "        \n",
    "        # solve ODE for repelling OECS\n",
    "        solREP = solve_ivp(_tensorline_equation, t, x0_repelling, 'BDF', t_eval, rtol=1e-8, atol=1e-8, args=(interp_phi_prime_repelling, s_threshold, interp_s1, X_domain, Y_domain, defined_domain))         \n",
    "        \n",
    "        # solve ODE for attracting OECS\n",
    "        solATTR = solve_ivp(_tensorline_equation, t, x0_attracting, 'BDF', t_eval, rtol=1e-8, atol=1e-8, args=(interp_phi_prime_attracting, s_threshold, interp_s2, X_domain, Y_domain, defined_domain))   \n",
    "        \n",
    "        # extract attracting/repelling segments from the solution of the ODE as those segments\n",
    "        # where the rate of attraction/repulsion |s1|=|s2| is monotonically decreasing\n",
    "        x_repelling_OECS, y_repelling_OECS, s_repelling_OECS = _extract_hyperbolic_OECS(solREP.y[0,:], solREP.y[1,:], interp_s1) \n",
    "        x_attracting_OECS, y_attracting_OECS, s_attracting_OECS = _extract_hyperbolic_OECS(solATTR.y[0,:], solATTR.y[1,:], interp_s1) \n",
    "        \n",
    "        x_attracting.append(x_attracting_OECS)\n",
    "        y_attracting.append(y_attracting_OECS)\n",
    "        s_attracting.append(s_attracting_OECS)\n",
    "        \n",
    "        x_repelling.append(x_repelling_OECS)\n",
    "        y_repelling.append(y_repelling_OECS)\n",
    "        s_repelling.append(s_repelling_OECS)"
   ]
  },
  {
   "cell_type": "code",
   "execution_count": null,
   "metadata": {
    "ExecuteTime": {
     "end_time": "2021-11-27T16:44:42.168070Z",
     "start_time": "2021-11-27T16:44:42.168070Z"
    }
   },
   "outputs": [],
   "source": [
    "################################ PLOT HYPERBOLIC OECS ################################\n",
    "\n",
    "import matplotlib.pyplot as plt\n",
    "\n",
    "# generate figure and axis object\n",
    "fig = plt.figure(figsize = (16, 12))\n",
    "ax = plt.axes()\n",
    "\n",
    "# Plot s2-field\n",
    "cax = ax.contourf(X_domain, Y_domain, s2, levels = 600, cmap = \"gist_rainbow_r\")\n",
    "\n",
    "cbar = plt.colorbar(cax)\n",
    "cbar.set_ticks(np.arange(0, 1.5, 0.25))\n",
    "cbar.set_label(r'$ |s_1| $', rotation = 0, labelpad = 20, fontsize = 16)\n",
    "\n",
    "# Plot attracting OECS\n",
    "for i in range(len(x_attracting)):\n",
    "    ax_attracting = ax.plot(x_attracting[i], y_attracting[i], c = \"k\", linewidth = 2.5)\n",
    "\n",
    "# Plot repelling OECS\n",
    "for j in range(len(x_repelling)):\n",
    "    ax_repelling = ax.plot(x_repelling[j], y_repelling[j], c = \"w\", linewidth = 2.5)\n",
    "\n",
    "# set limits\n",
    "ax.set_xlim(np.min(X_domain), np.max(X_domain))\n",
    "ax.set_ylim(np.min(Y_domain), np.max(Y_domain))\n",
    "\n",
    "# plot e2 vector-field\n",
    "ax.quiver(X_domain[::4,::4], Y_domain[::4,::4], v2[::4,::4,0], v2[::4,::4,1])\n",
    "\n",
    "# Set title\n",
    "ax.set_title('Repelling/Attracting OECSs from Fast Computation of Tensorlines (FCOT)', fontsize = 20)\n",
    "\n",
    "# Plot legend\n",
    "import matplotlib.patches as mpatches\n",
    "attracting = mpatches.Patch(color='k', label='attracting OECS')\n",
    "repelling = mpatches.Patch(color='w', label='repelling OECS')\n",
    "plt.legend(handles=[attracting, repelling], fontsize = 16)\n",
    " \n",
    "# Show plot\n",
    "plt.show()"
   ]
  },
  {
   "cell_type": "markdown",
   "metadata": {},
   "source": [
    "# Validation of Tensorline-calculation"
   ]
  },
  {
   "cell_type": "code",
   "execution_count": null,
   "metadata": {
    "ExecuteTime": {
     "end_time": "2021-11-27T16:44:42.169067Z",
     "start_time": "2021-11-27T16:44:42.169067Z"
    }
   },
   "outputs": [],
   "source": [
    "## This function evaluates the oriented vector-field at point x\n",
    "\n",
    "def _orient_vector_field(X, Y, x, vector_field):\n",
    "    \n",
    "        # import Rectangular bivariate spline from scipy\n",
    "        from scipy.interpolate import RectBivariateSpline as RBS\n",
    "            \n",
    "        # Check for orientational discontinuity by introducing appropriate scaling\n",
    "        idx_x = np.searchsorted(X[0,:], x[0])\n",
    "        idx_y = np.searchsorted(Y[:,0], x[1])\n",
    "        \n",
    "        if 0 < idx_x < X.shape[1] and 0 < idx_y < Y.shape[0]:\n",
    "    \n",
    "            X_reduced, Y_reduced = X[idx_y-1:idx_y+1, idx_x-1:idx_x+1], Y[idx_y-1:idx_y+1, idx_x-1:idx_x+1]\n",
    "    \n",
    "            vx_grid = np.array([[vector_field[idx_y-1,idx_x-1, 0], vector_field[idx_y, idx_x-1, 0]],\n",
    "                      [vector_field[idx_y-1,idx_x, 0], vector_field[idx_y, idx_x, 0]]])\n",
    "            vy_grid = np.array([[vector_field[idx_y-1,idx_x-1, 1], vector_field[idx_y, idx_x-1, 1]],\n",
    "                      [vector_field[idx_y-1,idx_x, 1], vector_field[idx_y, idx_x, 1]]])\n",
    "        \n",
    "            for i in range(2):\n",
    "                for j in range(2):\n",
    "                    if vx_grid[0, 0]*vx_grid[i, j]+vy_grid[0, 0]*vy_grid[i, j] < 0:\n",
    "                        vx_grid[i, j] = -vx_grid[i, j]\n",
    "                        vy_grid[i, j] = -vy_grid[i, j]\n",
    "    \n",
    "            vx_Interp = RBS(Y_reduced[:,0], X_reduced[0,:], vx_grid, kx = 1, ky = 1)\n",
    "            vy_Interp = RBS(Y_reduced[:,0], X_reduced[0,:], vy_grid, kx = 1, ky = 1)\n",
    "        \n",
    "            return vx_Interp(x[1], x[0])[0][0], vy_Interp(x[1], x[0])[0][0]\n",
    "        \n",
    "        else:\n",
    "            \n",
    "            return None, None"
   ]
  },
  {
   "cell_type": "markdown",
   "metadata": {},
   "source": [
    "## Validation of attracting OECS"
   ]
  },
  {
   "cell_type": "code",
   "execution_count": null,
   "metadata": {
    "ExecuteTime": {
     "end_time": "2021-11-27T16:44:42.170064Z",
     "start_time": "2021-11-27T16:44:42.170064Z"
    }
   },
   "outputs": [],
   "source": [
    "distance = []\n",
    "diff_phi = []\n",
    "\n",
    "for i in range(len(x_attracting)):\n",
    "    for j in range(1, len(x_attracting[i])-1):\n",
    "        \n",
    "        dy = y_attracting[i][j+1]-y_attracting[i][j-1]\n",
    "        dx = x_attracting[i][j+1]-x_attracting[i][j-1]\n",
    "        \n",
    "        phi = atan(dy/dx)\n",
    "        \n",
    "        x = [x_attracting[i][j], y_attracting[i][j]]\n",
    "        \n",
    "        # evaluate oriented vector field v2 at x\n",
    "        vector = _orient_vector_field(X_domain, Y_domain, x, v2)\n",
    "        \n",
    "        if vector[0] is not None:\n",
    "            dy_oriented = vector[1]\n",
    "            dx_oriented = vector[0]\n",
    "        \n",
    "            phi_True = atan(dy_oriented/dx_oriented)\n",
    "            \n",
    "            diff_phi.append(min(np.abs(-phi-phi_True), np.abs(phi-phi_True))/(np.pi/2))\n",
    "            \n",
    "            distance.append(sqrt((x[0]-objective_saddle[i][0])**2+(x[1]-objective_saddle[i][1])**2))\n",
    "           "
   ]
  },
  {
   "cell_type": "code",
   "execution_count": null,
   "metadata": {
    "ExecuteTime": {
     "end_time": "2021-11-27T16:44:42.171062Z",
     "start_time": "2021-11-27T16:44:42.171062Z"
    }
   },
   "outputs": [],
   "source": [
    "fig = plt.figure(figsize=(16, 10))\n",
    "ax = plt.axes()\n",
    "\n",
    "ax.set_title(r'Error of $ \\phi $ vs distance from core of saddle for attracting OECS', fontsize = 16)\n",
    "\n",
    "ax.scatter(distance, diff_phi, marker = \"^\", s = 10)\n",
    "\n",
    "ax.set_ylabel(r'$ \\dfrac{|\\phi-\\phi_{oriented}|}{\\pi/2} $', fontsize = 16)\n",
    "ax.set_xlabel(\"distance from core of saddle (deg)\", fontsize = 16)\n",
    "\n",
    "ax.text(0, 0.7, r'$ \\dfrac{|\\phi-\\phi_{oriented}|}{\\pi/2} < .1$: '+str(np.around(len([i for i in diff_phi if i < .1])/len(diff_phi),2)*100)+r'%', fontsize = 16)\n",
    "ax.text(0, 0.6, r'$ \\dfrac{|\\phi-\\phi_{oriented}|}{\\pi/2} < .05$: '+str(np.around(len([i for i in diff_phi if i < .05])/len(diff_phi),2)*100)+r'%', fontsize = 16)\n",
    "ax.text(0, 0.5, r'$ \\dfrac{|\\phi-\\phi_{oriented}|}{\\pi/2} < .01$: '+str(np.around(len([i for i in diff_phi if i < .01])/len(diff_phi),2)*100)+r'%', fontsize = 16)\n",
    "plt.show()"
   ]
  },
  {
   "cell_type": "markdown",
   "metadata": {},
   "source": [
    "## Validation of repelling OECS"
   ]
  },
  {
   "cell_type": "code",
   "execution_count": null,
   "metadata": {
    "ExecuteTime": {
     "end_time": "2021-11-27T16:44:42.173057Z",
     "start_time": "2021-11-27T16:44:42.172059Z"
    }
   },
   "outputs": [],
   "source": [
    "distance = []\n",
    "diff_phi = []\n",
    "\n",
    "for i in range(len(x_repelling)):\n",
    "    for j in range(1, len(x_repelling[i])-1):\n",
    "        \n",
    "        dy = y_repelling[i][j+1]-y_repelling[i][j-1]\n",
    "        dx = x_repelling[i][j+1]-x_repelling[i][j-1]\n",
    "        \n",
    "        phi = atan(dy/dx)\n",
    "        \n",
    "        x = [x_repelling[i][j], y_repelling[i][j]]\n",
    "        \n",
    "        # evaluate oriented vector field v2 at x\n",
    "        vector = _orient_vector_field(X_domain, Y_domain, x, v1)\n",
    "        \n",
    "        if vector[0] is not None:\n",
    "            dy_oriented = vector[1]\n",
    "            dx_oriented = vector[0]\n",
    "        \n",
    "            phi_True = atan(dy_oriented/dx_oriented)\n",
    "            \n",
    "            diff_phi.append(min(np.abs(-phi-phi_True), np.abs(phi-phi_True))/(np.pi/2))\n",
    "            \n",
    "            distance.append(sqrt((x[0]-objective_saddle[i][0])**2+(x[1]-objective_saddle[i][1])**2))\n",
    "           "
   ]
  },
  {
   "cell_type": "code",
   "execution_count": null,
   "metadata": {
    "ExecuteTime": {
     "end_time": "2021-11-27T16:44:42.174054Z",
     "start_time": "2021-11-27T16:44:42.174054Z"
    }
   },
   "outputs": [],
   "source": [
    "fig = plt.figure(figsize=(16, 10))\n",
    "ax = plt.axes()\n",
    "\n",
    "ax.set_title(r'Error of $ \\phi $ vs distance from core of saddle for repelling OECS', fontsize = 16)\n",
    "\n",
    "ax.scatter(distance, diff_phi, marker = \"^\", s = 10)\n",
    "\n",
    "ax.set_ylabel(r'$ \\dfrac{|\\phi-\\phi_{oriented}|}{\\pi/2} $', fontsize = 16)\n",
    "ax.set_xlabel(\"distance from core of saddle (deg)\", fontsize = 16)\n",
    "\n",
    "ax.text(0, 0.7, r'$ \\dfrac{|\\phi-\\phi_{oriented}|}{\\pi/2} < .1$: '+str(np.around(len([i for i in diff_phi if i < .1])/len(diff_phi),2)*100)+r'%', fontsize = 16)\n",
    "ax.text(0, 0.6, r'$ \\dfrac{|\\phi-\\phi_{oriented}|}{\\pi/2} < .05$: '+str(np.around(len([i for i in diff_phi if i < .05])/len(diff_phi),2)*100)+r'%', fontsize = 16)\n",
    "ax.text(0, 0.5, r'$ \\dfrac{|\\phi-\\phi_{oriented}|}{\\pi/2} < .01$: '+str(np.around(len([i for i in diff_phi if i < .01])/len(diff_phi),2)*100)+r'%', fontsize = 16)\n",
    "plt.show()"
   ]
  },
  {
   "cell_type": "code",
   "execution_count": null,
   "metadata": {},
   "outputs": [],
   "source": []
  }
 ],
 "metadata": {
  "kernelspec": {
   "display_name": "Python 3 (ipykernel)",
   "language": "python",
   "name": "python3"
  },
  "language_info": {
   "codemirror_mode": {
    "name": "ipython",
    "version": 3
   },
   "file_extension": ".py",
   "mimetype": "text/x-python",
   "name": "python",
   "nbconvert_exporter": "python",
   "pygments_lexer": "ipython3",
   "version": "3.7.11"
  },
  "toc": {
   "base_numbering": 1,
   "nav_menu": {},
   "number_sections": true,
   "sideBar": true,
   "skip_h1_title": false,
   "title_cell": "Table of Contents",
   "title_sidebar": "Contents",
   "toc_cell": false,
   "toc_position": {},
   "toc_section_display": true,
   "toc_window_display": false
  }
 },
 "nbformat": 4,
 "nbformat_minor": 4
}
