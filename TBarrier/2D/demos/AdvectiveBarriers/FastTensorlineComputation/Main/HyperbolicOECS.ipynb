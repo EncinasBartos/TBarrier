{
 "cells": [
  {
   "cell_type": "markdown",
   "metadata": {},
   "source": [
    "# Add Folders to Path"
   ]
  },
  {
   "cell_type": "code",
   "execution_count": 1,
   "metadata": {
    "ExecuteTime": {
     "end_time": "2021-12-15T23:46:51.224450Z",
     "start_time": "2021-12-15T23:46:51.216486Z"
    }
   },
   "outputs": [
    {
     "name": "stdout",
     "output_type": "stream",
     "text": [
      "Wall time: 0 ns\n"
     ]
    }
   ],
   "source": [
    "%%time\n",
    "import sys, os\n",
    "\n",
    "# get current directory\n",
    "path = os.getcwd()\n",
    "\n",
    "# get parent directory\n",
    "parent_directory = os.path.sep.join(path.split(os.path.sep)[:-4])\n",
    "\n",
    "# add utils folder to current working path\n",
    "sys.path.append(parent_directory+\"/subfunctions/utils\")\n",
    "\n",
    "# add integration folder to current working path\n",
    "sys.path.append(parent_directory+\"/subfunctions/integration\")\n",
    "\n",
    "# add FastTensorlineComputation folder to current working path\n",
    "sys.path.append(parent_directory+\"/demos/AdvectiveBarriers/FastTensorlineComputation\")"
   ]
  },
  {
   "cell_type": "markdown",
   "metadata": {
    "ExecuteTime": {
     "end_time": "2021-12-08T08:10:18.307695Z",
     "start_time": "2021-12-08T08:10:18.276778Z"
    }
   },
   "source": [
    "# Overview\n",
    "\n",
    "In the following notebok we visualize hyperbolic OECS in the Agulhas region from the AVISO dataset using Fast Tensorline Computation. The notebook is structured as follows:\n",
    "\n",
    "1. Import data from the file 'AVISO.mat' stored in the folder 'data'\n",
    "<br />\n",
    "2. Define computational parameters (such as the number of cores) and data\n",
    " <br />\n",
    "3. Define spatio-temporal domain.\n",
    " <br />\n",
    "4. Interpolate velocity from the (discrete) gridded data\n",
    " <br />\n",
    "5. Hyperbolic OECS:\n",
    "\n",
    "    * Compute rate of strain tensor $ \\mathbf{S}(\\mathbf{x}, t) $ using an auxiliary meshgrid. \n",
    "   \n",
    "    * Compute eigenvectors $ \\mathbf{e}_i $ of the rate of strain tensor $ \\mathbf{S}(\\mathbf{x}, t) $.\n",
    "    \n",
    "    * Hyperbolic OECS at time $ t $ are given by tensorlines starting from local maxima of $ s_2(x, y) $ which satisfy:\n",
    "    \n",
    "    \\begin{equation}\n",
    "    S \\mathbf{e}_i = s_i \\mathbf{e}_i\n",
    "    \\label{eq: tensorlines}\n",
    "    \\end{equation}\n",
    "    \n",
    "    $ \\mathbf{e}_i $ denotes the eigenvector associated to the eigenvalue $ s_i $ of the rate of strain tensor $ S = S(\\mathbf{x},t) $.\n",
    "    The vector orthogonal to $ \\mathbf{e}_i $ is denoted as $ \\mathbf{e}_k $ and corresponds to the eigenvector associated to\n",
    "    the eigenvalue $ s_k $ of $ S = S(\\mathbf{x},t) $. The eigenvector field is a non-orientable vector field. Hence, computation of the tensorlines require constant checking of the orientation of the eigenvector before performing the integration step. The integration has thus to be done manually and one cannot rely on an automatic ODE solver. The following method highlights a way to compute the tensorlines of $ \\mathbf{S} $ without having the deal with the orientational discontinuities of the eigenvector field.\n",
    "    \n",
    "   Tensorlines are parametrized curves $ \\mathbf{x}(s) $ such that: \n",
    "    \n",
    "   \\begin{equation}\n",
    "   \\dfrac{d}{ds}\\mathbf{x} = \\mathbf{e}_i(\\phi(s))\n",
    "   =\\begin{pmatrix} \\cos(\\phi(s)) \\\\ \\sin(\\phi(s)) \\end{pmatrix}.\n",
    "   \\end{equation}\n",
    "   Taking the derivative of \\ref{eq: tensorlines} with\n",
    "   respect to $ s $ leads to:\n",
    "    \n",
    "   \\begin{align}\n",
    "   (\\nabla_x S \\mathbf{e}_i)\\mathbf{e}_i + S\\mathbf{e}_k\\phi' &= \\langle \\nabla_x s_i, \\mathbf{e}_i \\rangle I \\mathbf{e}_i +\n",
    "   s_i\\mathbf{e}_k\\phi' \\\\\n",
    "   (S\\mathbf{e}_k-s_i\\mathbf{e}_k)\\phi' &= (\\langle \\nabla_x s_i, \\mathbf{e}_i \\rangle I - (\\nabla_x S \\mathbf{e}_i))\n",
    "   \\mathbf{e}_i\n",
    "   \\end{align}\n",
    "\n",
    "   Multiplying the above equation from the left with $ \\mathbf{e}_k^T $ leads to:\n",
    "\n",
    "   \\begin{align}\n",
    "            \\mathbf{e}_k^T (S\\mathbf{e}_k-s_i\\mathbf{e}_k) \\phi' &= \\mathbf{e}_k^T(\\langle \\nabla_x s_i, \\mathbf{e}_i \\rangle I - (\\nabla_x S \\mathbf{e}_i)) \\mathbf{e}_i \\\\\n",
    "    (s_k-s_i) \\phi' &= -\\mathbf{e}_k^T(\\nabla_x S \\mathbf{e}_i) \\mathbf{e}_i\n",
    "    \\end{align}\n",
    "    \n",
    "   where we used the property $ S\\mathbf{e}_k = \\lambda_k \\mathbf{e}_k $ and $ \\langle \\mathbf{e}_i, \\dfrac{d}{ds}\\mathbf{e}_i\n",
    "    \\rangle = \\langle \\mathbf{e}_i, \\mathbf{e}_k \\rangle = 0 $ for an incompressible flow. Assuming again incompressibility $\n",
    "    s_i = -s_k $ it eventually holds:\n",
    "\n",
    "   \\begin{equation}\n",
    "    \\phi' = -\\dfrac{1}{2s_k}\\mathbf{e}_k^T(\\nabla_x S \\mathbf{e}_i) \\mathbf{e}_i\n",
    "    \\end{equation}\n",
    "\n",
    "   For repelling OECS, the tensorlines satisfy the ODEs:\n",
    "\n",
    "   \\begin{align}\n",
    "    x'(s) &= \\cos(\\phi(s)) \\\\\n",
    "    y'(s) &= \\sin(\\phi(s)) \\\\\n",
    "    \\phi'(s) &= -\\dfrac{1}{2s_2}\\mathbf{e}_2^T(\\nabla_x S \\mathbf{e}_1) \\mathbf{e}_1\n",
    "    \\end{align}\n",
    "\n",
    "   For attracting OECS, the tensorlines satisfy the ODEs:\n",
    "\n",
    "   \\begin{align}\n",
    "    x'(s) &= \\cos(\\phi(s)) \\\\\n",
    "    y'(s) &= \\sin(\\phi(s)) \\\\\n",
    "    \\phi'(s) &= -\\dfrac{1}{2s_1}\\mathbf{e}_1^T(\\nabla_x S \\mathbf{e}_2) \\mathbf{e}_2\n",
    "    \\end{align}    "
   ]
  },
  {
   "cell_type": "markdown",
   "metadata": {},
   "source": [
    "# Import Data"
   ]
  },
  {
   "cell_type": "code",
   "execution_count": 2,
   "metadata": {
    "ExecuteTime": {
     "end_time": "2021-12-15T23:46:51.380006Z",
     "start_time": "2021-12-15T23:46:51.254343Z"
    }
   },
   "outputs": [
    {
     "name": "stdout",
     "output_type": "stream",
     "text": [
      "Wall time: 109 ms\n"
     ]
    }
   ],
   "source": [
    "%%time\n",
    "import scipy.io as sio\n",
    "\n",
    "#Import velocity data from file in data-folder\n",
    "mat_file = sio.loadmat('../../../../data/Aviso/AVISO.mat')\n",
    "\n",
    "U = mat_file['u']\n",
    "V = mat_file['v']\n",
    "x = mat_file['x']\n",
    "y = mat_file['y']\n",
    "time_data = mat_file['t']"
   ]
  },
  {
   "cell_type": "markdown",
   "metadata": {},
   "source": [
    "# Computational parameters and data\n",
    "\n",
    "Here we define the computational parameters and the data."
   ]
  },
  {
   "cell_type": "code",
   "execution_count": 3,
   "metadata": {
    "ExecuteTime": {
     "end_time": "2021-12-15T23:46:51.395991Z",
     "start_time": "2021-12-15T23:46:51.381005Z"
    }
   },
   "outputs": [],
   "source": [
    "import numpy as np\n",
    "\n",
    "# number of cores to be used for parallel computing\n",
    "Ncores = 18\n",
    "\n",
    "# time resolution of data\n",
    "dt_data = time_data[0, 1]-time_data[0,0]\n",
    "\n",
    "# periodic boundary conditions\n",
    "periodic_x = False\n",
    "periodic_y = False\n",
    "periodic = [periodic_x, periodic_y]\n",
    "\n",
    "# unsteady velocity field\n",
    "bool_unsteady = True\n",
    "\n",
    "# defined domain\n",
    "# This array denotes where the velocity field is defined (=1) and where it is not defined (=0)\n",
    "defined_domain = np.isfinite(U[:,:,0]).astype(int)\n",
    "\n",
    "## meshgrid\n",
    "X, Y = np.meshgrid(x, y)\n",
    "\n",
    "## resolution of meshgrid\n",
    "dx_data = X[0,1]-X[0,0]\n",
    "dy_data = Y[1,0]-Y[0,0]\n",
    "\n",
    "delta = [dx_data, dy_data]"
   ]
  },
  {
   "cell_type": "markdown",
   "metadata": {},
   "source": [
    "# Spatio-temporal domain\n",
    "\n",
    "Here we define the spatio-temporal domain over which to consider the dynamical system."
   ]
  },
  {
   "cell_type": "code",
   "execution_count": 4,
   "metadata": {
    "ExecuteTime": {
     "end_time": "2021-12-15T23:46:51.411948Z",
     "start_time": "2021-12-15T23:46:51.396962Z"
    }
   },
   "outputs": [
    {
     "name": "stdout",
     "output_type": "stream",
     "text": [
      "Wall time: 0 ns\n"
     ]
    }
   ],
   "source": [
    "%%time\n",
    "# Time\n",
    "t_OECS = 0\n",
    "\n",
    "# store time in array\n",
    "time = np.array([t_OECS])\n",
    "\n",
    "# longitudinal and latitudinal boundaries (in degrees)\n",
    "xmin = 2.75\n",
    "xmax = 5.5\n",
    "ymin = -38.25\n",
    "ymax = -36.4\n",
    "\n",
    "# make sure that domain is in the data\n",
    "assert (xmax <= np.max(X) and xmin >= np.min(X) and ymin >= np.min(Y) and ymax <= np.max(Y) and np.min(time_data) <= t_OECS <= np.max(time_data)),\"The domains you are chooising are outside the domain of the data!!!!! --> redefine spatial/temporal domain\"\n",
    "# spacing of meshgrid (in degrees)\n",
    "dx = 0.01\n",
    "dy = 0.01\n",
    "\n",
    "x_domain = np.arange(xmin, xmax + dx, dx)\n",
    "y_domain = np.arange(ymin, ymax + dy, dy)\n",
    "\n",
    "X_domain, Y_domain = np.meshgrid(x_domain, y_domain)"
   ]
  },
  {
   "cell_type": "markdown",
   "metadata": {},
   "source": [
    "# Interpolate Velocity\n",
    "\n",
    "In order to evaluate the velocity field at arbitrary locations and times, we must interpolate the discrete velocity data. The interpolation with respect to time is always linear. The interpolation with respect to space can be chosen to be \"cubic\" or \"linear\". In order to favour a smooth velocity field, we interpolate the velocity field in space using a cubic interpolant."
   ]
  },
  {
   "cell_type": "code",
   "execution_count": 5,
   "metadata": {
    "ExecuteTime": {
     "end_time": "2021-12-15T23:46:51.507665Z",
     "start_time": "2021-12-15T23:46:51.412918Z"
    }
   },
   "outputs": [
    {
     "name": "stdout",
     "output_type": "stream",
     "text": [
      "Wall time: 82.8 ms\n"
     ]
    }
   ],
   "source": [
    "%%time\n",
    "# Import interpolation function for unsteady flow field\n",
    "from ipynb.fs.defs.Interpolant import interpolant_unsteady\n",
    "\n",
    "# set nan values to zero so that we can apply interpolant. Interpolant does not work if the array contains nan values\n",
    "U[np.isnan(U)] = 0\n",
    "V[np.isnan(V)] = 0\n",
    "\n",
    "# Interpolate velocity data using cubic spatial interpolation\n",
    "Interpolant = interpolant_unsteady(X, Y, U, V, time_data, method = \"cubic\")"
   ]
  },
  {
   "cell_type": "markdown",
   "metadata": {},
   "source": [
    "# Rate of strain tensor over meshgrid of initial conditions\n",
    "\n",
    "The rate of strain tensor $ S(\\mathbf{x}, t) $ at time $ t $ is computed by iterating over meshgrid. The rate of strain tensor at point $ \\mathbf{x} $ at time $ t $ is computed from the gradient of the velocity field by using an auxiliary meshgrid. 'aux_grid' specifies the ratio between the auxiliary grid and the original meshgrid. This parameter is generally chosen to be between $ [\\dfrac{1}{5}, \\dfrac{1}{10}] $."
   ]
  },
  {
   "cell_type": "code",
   "execution_count": null,
   "metadata": {
    "ExecuteTime": {
     "start_time": "2021-12-15T23:46:51.321Z"
    }
   },
   "outputs": [
    {
     "data": {
      "application/vnd.jupyter.widget-view+json": {
       "model_id": "fab709f057d840d4a47412b6054289a6",
       "version_major": 2,
       "version_minor": 0
      },
      "text/plain": [
       "  0%|          | 0/186 [00:00<?, ?it/s]"
      ]
     },
     "metadata": {},
     "output_type": "display_data"
    }
   ],
   "source": [
    "%%time\n",
    "# Import package for progress bar\n",
    "from tqdm.notebook import tqdm\n",
    "\n",
    "# Import package for parallel computing\n",
    "from multiprocessing import Pool\n",
    "\n",
    "# Import gradient of velocity function\n",
    "from ipynb.fs.defs.gradient_velocity import gradient_velocity\n",
    "\n",
    "# Import package which checks particle location\n",
    "from ipynb.fs.defs.check_location import check_location\n",
    "\n",
    "# Import Rate of Strain function\n",
    "from ipynb.fs.defs.RateStrain import RateStrain\n",
    "\n",
    "# Import eigenvalue/eigenvector calculator\n",
    "from ipynb.fs.defs.eigen import eigen\n",
    "\n",
    "# Define ratio of auxiliary grid spacing vs original grid_spacing\n",
    "aux_grid_ratio = .2 # [1/5, 1/10]\n",
    "aux_grid = [aux_grid_ratio*(X_domain[0, 1]-X_domain[0, 0]), aux_grid_ratio*(Y_domain[1, 0]-Y_domain[0, 0])]\n",
    "\n",
    "def parallel_S(i):\n",
    "    \n",
    "    S_parallel = np.zeros((X_domain.shape[1], 2, 2))*np.nan\n",
    "    \n",
    "    for j in range(S_parallel.shape[0]):\n",
    "        \n",
    "        x = np.array([X_domain[i,j], Y_domain[i,j]])\n",
    "        \n",
    "        # only compute rate of Strain for trajectories starting region where velocity field is defined\n",
    "        if check_location(X, Y, defined_domain, x)[0] == \"IN\":\n",
    "        \n",
    "            # Compute gradient of velocity\n",
    "            grad_vel = gradient_velocity(t_OECS, x, X, Y, Interpolant, periodic, defined_domain, bool_unsteady, dt_data, delta, aux_grid)\n",
    "        \n",
    "            # Compute rate of strain at 'x'\n",
    "            S_parallel[j, :, :] = RateStrain(grad_vel)\n",
    "    \n",
    "    return S_parallel\n",
    "\n",
    "with Pool(Ncores) as p:\n",
    "    S = list(tqdm(p.imap(parallel_S, range(X_domain.shape[0])), total = X_domain.shape[0]))\n",
    "    \n",
    "S = np.array(S)"
   ]
  },
  {
   "cell_type": "markdown",
   "metadata": {},
   "source": [
    "# Compute tensorfield"
   ]
  },
  {
   "cell_type": "code",
   "execution_count": null,
   "metadata": {
    "ExecuteTime": {
     "start_time": "2021-12-15T23:46:51.343Z"
    }
   },
   "outputs": [],
   "source": [
    "# Import (cubic) RectBivariateSpline from scipy\n",
    "from scipy.interpolate import RectBivariateSpline as RBS\n",
    "        \n",
    "# Elements of rate of strain tensor and its gradients\n",
    "\n",
    "S11 = np.nan_to_num(S[:,:,0,0], nan=0.0)\n",
    "S12 = np.nan_to_num(S[:,:,0,1], nan=0.0)\n",
    "S22 = np.nan_to_num(S[:,:,1,1], nan=0.0)\n",
    "\n",
    "# Interpolate elements of rate of strain tensor (per default: cubic)\n",
    "interp_S11 = RBS(Y_domain[:,0], X_domain[0,:], S11)\n",
    "interp_S12 = RBS(Y_domain[:,0], X_domain[0,:], S12)\n",
    "interp_S22 = RBS(Y_domain[:,0], X_domain[0,:], S22)\n",
    "\n",
    "# Initialize arrays\n",
    "S11x = np.zeros((S.shape[0], S.shape[1]))*np.nan\n",
    "S11y = np.zeros((S.shape[0], S.shape[1]))*np.nan\n",
    "S12x = np.zeros((S.shape[0], S.shape[1]))*np.nan\n",
    "S12y = np.zeros((S.shape[0], S.shape[1]))*np.nan\n",
    "S22x = np.zeros((S.shape[0], S.shape[1]))*np.nan\n",
    "S22y = np.zeros((S.shape[0], S.shape[1]))*np.nan\n",
    "s = np.zeros((S.shape[0], S.shape[1]))*np.nan\n",
    "e = np.zeros((S.shape[0], S.shape[1], 2))*np.nan\n",
    "\n",
    "# Define auxilary meshgrid\n",
    "rho_x = aux_grid[0]\n",
    "rho_y = aux_grid[1]\n",
    "    \n",
    "#iterate over meshgrid\n",
    "for i in range(X_domain.shape[0]):\n",
    "        \n",
    "    for j in range(Y_domain.shape[1]):\n",
    "            \n",
    "        x = [X_domain[i,j], Y_domain[i, j]]\n",
    "        \n",
    "        # compute derivatives using auxiliary grid and finite-differencing\n",
    "        S11x[i, j] = (interp_S11(x[1], x[0]+rho_x)[0][0]-interp_S11(x[1], x[0]-rho_x)[0][0])/(2*rho_x)\n",
    "        S11y[i, j] = (interp_S11(x[1]+rho_y, x[0])[0][0]-interp_S11(x[1]-rho_y, x[0])[0][0])/(2*rho_y)\n",
    "        \n",
    "        S12x[i, j] = (interp_S12(x[1], x[0]+rho_x)[0][0]-interp_S12(x[1], x[0]-rho_x)[0][0])/(2*rho_x)\n",
    "        S12y[i, j] = (interp_S12(x[1]+rho_y, x[0])[0][0]-interp_S12(x[1]-rho_y, x[0])[0][0])/(2*rho_y)\n",
    "            \n",
    "        S22x[i, j] = (interp_S22(x[1], x[0]+rho_x)[0][0]-interp_S22(x[1], x[0]-rho_x)[0][0])/(2*rho_x)\n",
    "        S22y[i, j] = (interp_S22(x[1]+rho_y, x[0])[0][0]-interp_S22(x[1]-rho_y, x[0])[0][0])/(2*rho_y)\n",
    "        \n",
    "        # compute maximum eigenvalue and maximum eigenvector of S\n",
    "        s[i, j] = eigen(S[i, j, :, :])[1]\n",
    "        e[i, j,:] =  eigen(S[i, j, :, :])[3]"
   ]
  },
  {
   "cell_type": "markdown",
   "metadata": {},
   "source": [
    "# Interpolate $ \\dot{\\phi}(x, y, \\phi), s_1(x, y), s_2(x, y) $ "
   ]
  },
  {
   "cell_type": "code",
   "execution_count": null,
   "metadata": {
    "ExecuteTime": {
     "start_time": "2021-12-15T23:46:51.362Z"
    }
   },
   "outputs": [],
   "source": [
    "%%time\n",
    "# Import phi_prime\n",
    "from ipynb.fs.defs.phi_prime_OECS import _phi_prime_OECS\n",
    "\n",
    "# Interpolant phi_phrime for attracting OECS\n",
    "interp_phi_prime_attracting = _phi_prime_OECS(X_domain, Y_domain, -s, S11x, S11y, S12x, S12y, S22x, S22y)\n",
    "\n",
    "# Interpolant phi_phrime for repelling OECS\n",
    "interp_phi_prime_repelling = _phi_prime_OECS(X_domain, Y_domain, s, S11x, S11y, S12x, S12y, S22x, S22y)\n",
    "\n",
    "# Import pacakge for interpolation\n",
    "from scipy.interpolate import RectBivariateSpline as RBS\n",
    "\n",
    "# Interpolant s (linear)\n",
    "# minimum eigenvalue (s1) = -maximum eigenvalue(s2) since the flow is assumed to be compressible\n",
    "\n",
    "# interpolant for minimum eigenvalue\n",
    "interp_s1 = RBS(Y_domain[:,0], X_domain[0,:], np.nan_to_num(-s, nan = 0), kx=1, ky=1)\n",
    "\n",
    "# interpolant for maximum eigenvalue\n",
    "interp_s2 = RBS(Y_domain[:,0], X_domain[0,:], np.nan_to_num(s, nan = 0), kx=1, ky=1)"
   ]
  },
  {
   "cell_type": "markdown",
   "metadata": {},
   "source": [
    "# Find objective Saddle-points\n",
    "\n",
    "Objective saddles coincide with local maxima in the maximum eigenvalue field $ s $ of the rate of strain tensor."
   ]
  },
  {
   "cell_type": "code",
   "execution_count": null,
   "metadata": {
    "ExecuteTime": {
     "start_time": "2021-12-15T23:46:51.381Z"
    }
   },
   "outputs": [],
   "source": [
    "from ipynb.fs.defs.loc_max import _loc_max\n",
    "\n",
    "# minimum distance between objective saddles (=local maxima in the s-field)\n",
    "min_distance = .75\n",
    "\n",
    "# If tensorline is close to singularity \n",
    "# --> integration stops as eigenvector are no longer well defined.\n",
    "# set threshold on rate of attraction which controls stopping criterion of integration.\n",
    "# As a consequence, local maxima of the s-field which are below 'hyperbolicity' will be neglected\n",
    "hyperbolicity = 0.15\n",
    "\n",
    "# indices, positions and value (of s-field) of the objective saddles\n",
    "loc_idx_x, loc_idx_y, loc_max_x, loc_max_y, loc_max_field = _loc_max(min_distance, X_domain, Y_domain, s, hyperbolicity)"
   ]
  },
  {
   "cell_type": "markdown",
   "metadata": {},
   "source": [
    "# Compute Initial Conditions ($ x_0, y_0, \\phi_0 $) for Hyperbolic OECS\n",
    "\n",
    "For the spatial coordinates $ (x,y) $ the initial conditions $  x_0, y_0 $ coincide with the objective saddles (=local maxima in the s-field). The inital angle $ \\phi_0 $ depends on the orientation of the eigenvector at $ (x_0,y_0) $. As the rate of strain tensor is symmetric, the eigenvectors are mutually orthogonal. As a consequence the angle between the repelling and attracting OECS must necessarily always be 90 degrees."
   ]
  },
  {
   "cell_type": "code",
   "execution_count": null,
   "metadata": {
    "ExecuteTime": {
     "start_time": "2021-12-15T23:46:51.398Z"
    }
   },
   "outputs": [],
   "source": [
    "%%time\n",
    "# Import math tools\n",
    "from math import atan, cos, sin\n",
    "\n",
    "# initial positions from where to start integration of hyperbolic OECS\n",
    "x0s1 = loc_max_x\n",
    "y0s1 = loc_max_y\n",
    "\n",
    "# Lists\n",
    "phi0s1_repelling, phi0s1_attracting = [], []\n",
    "\n",
    "# iterate over all local maxima\n",
    "for i in range(len(loc_idx_x)):\n",
    "    \n",
    "    # initial eigenvector\n",
    "    eigenvector = e[loc_idx_y[i], loc_idx_x[i], :]\n",
    "    \n",
    "    # initial angle of eigenvector\n",
    "    angle = atan(eigenvector[1]/eigenvector[0])%(2*np.pi)\n",
    "    \n",
    "    # tensorlines of repelling and attracting OECS must be orthogonal\n",
    "    phi0s1_repelling.append(angle - np.pi/2)\n",
    "    phi0s1_attracting.append(angle)"
   ]
  },
  {
   "cell_type": "markdown",
   "metadata": {},
   "source": [
    "# Compute Attracting/Repelling OECS"
   ]
  },
  {
   "cell_type": "code",
   "execution_count": null,
   "metadata": {
    "ExecuteTime": {
     "start_time": "2021-12-15T23:46:51.418Z"
    }
   },
   "outputs": [],
   "source": [
    "# import ODEsolver\n",
    "from scipy.integrate import solve_ivp\n",
    "\n",
    "# import function to calculate tensorline using the Fast Tensorline Computation algorithm\n",
    "from ipynb.fs.defs.tensorline_equation import _tensorline_equation\n",
    "\n",
    "# import function to extract hyperbolic OECS from tensorline\n",
    "from ipynb.fs.defs.extract_hyperbolic_OECS import _extract_hyperbolic_OECS\n",
    "\n",
    "# define domain where velocity field is defined\n",
    "defined_domain = np.isfinite(s).astype(int)\n",
    "\n",
    "# define lists containing the position and the rate of attracion/repulsion along \n",
    "# unstable/stable segments of the hyperbolic OECS\n",
    "x_attracting, y_attracting, s_attracting = [], [], []\n",
    "x_repelling, y_repelling, s_repelling = [], [], []\n",
    "\n",
    "# objective saddle location\n",
    "objective_saddle = []\n",
    "\n",
    "# Iterate over objective saddle-points (hyperbolic OECS)\n",
    "for i in tqdm(range(len(x0s1))):\n",
    "    \n",
    "    # backward (-1) and forward (+1) integration\n",
    "    for sign in [-1, 1]:\n",
    "        \n",
    "        # define integration interval of dummy variable 's'\n",
    "        t = [0, sign*5]\n",
    "        \n",
    "        # define resolution of stable/unstable (repelling/attracting) segments of hyperbolic OECS\n",
    "        t_eval = np.linspace(t[0], t[1], 1000)\n",
    "\n",
    "        # Append objective saddle\n",
    "        objective_saddle.append([x0s1[i], y0s1[i]])\n",
    "        \n",
    "        # IC repelling OECS\n",
    "        x0_repelling = [x0s1[i], y0s1[i], phi0s1_repelling[i]]\n",
    "        \n",
    "        # IC repelling OECS\n",
    "        x0_attracting = [x0s1[i], y0s1[i], phi0s1_attracting[i]]\n",
    "        \n",
    "        # solve ODE for repelling OECS\n",
    "        solREP = solve_ivp(_tensorline_equation, t, x0_repelling, 'RK45', t_eval, rtol=1e-8, atol=1e-8, args=(interp_phi_prime_repelling, hyperbolicity, interp_s1, X_domain, Y_domain, defined_domain))         \n",
    "        \n",
    "        # solve ODE for attracting OECS\n",
    "        solATTR = solve_ivp(_tensorline_equation, t, x0_attracting, 'RK45', t_eval, rtol=1e-8, atol=1e-8, args=(interp_phi_prime_attracting, hyperbolicity, interp_s2, X_domain, Y_domain, defined_domain))   \n",
    "        \n",
    "        # extract attracting/repelling segments from the solution of the ODE as those segments\n",
    "        # where the rate of attraction/repulsion |s1|=|s2| is monotonically decreasing\n",
    "        x_repelling_OECS, y_repelling_OECS, s_repelling_OECS = _extract_hyperbolic_OECS(solREP.y[0,:], solREP.y[1,:], interp_s1) \n",
    "        x_attracting_OECS, y_attracting_OECS, s_attracting_OECS = _extract_hyperbolic_OECS(solATTR.y[0,:], solATTR.y[1,:], interp_s1) \n",
    "        \n",
    "        # append repelling/attracting OECS to list if it is not None\n",
    "        if x_repelling_OECS is not None and x_attracting_OECS is not None:\n",
    "        \n",
    "            x_attracting.append(x_attracting_OECS)\n",
    "            y_attracting.append(y_attracting_OECS)\n",
    "            s_attracting.append(s_attracting_OECS)\n",
    "        \n",
    "            x_repelling.append(x_repelling_OECS)\n",
    "            y_repelling.append(y_repelling_OECS)\n",
    "            s_repelling.append(s_repelling_OECS)"
   ]
  },
  {
   "cell_type": "code",
   "execution_count": null,
   "metadata": {
    "ExecuteTime": {
     "start_time": "2021-12-15T23:46:51.419Z"
    },
    "scrolled": false
   },
   "outputs": [],
   "source": [
    "################################ PLOT HYPERBOLIC OECS ################################\n",
    "import matplotlib.pyplot as plt\n",
    "\n",
    "# generate figure and axis object\n",
    "fig = plt.figure(figsize = (8, 4), dpi = 600)\n",
    "ax = plt.axes()\n",
    "\n",
    "# Plot |s|-field\n",
    "cax = ax.contourf(X_domain, Y_domain, np.abs(s), levels = 600, cmap = \"winter\")\n",
    "\n",
    "cbar = plt.colorbar(cax)\n",
    "cbar.set_ticks(np.arange(0, 1.5, 0.1))\n",
    "cbar.set_label(r'$ |s| $', rotation = 0, labelpad = 20, fontsize = 16)\n",
    "\n",
    "# Plot attracting OECS\n",
    "for i in range(len(x_attracting)):\n",
    "    ax_attracting = ax.plot(x_attracting[i], y_attracting[i], c = \"k\", linewidth = 1.5)\n",
    "\n",
    "# Plot repelling OECS\n",
    "for j in range(len(x_repelling)):\n",
    "    ax_repelling = ax.plot(x_repelling[j], y_repelling[j], c = \"w\", linewidth = 1.5)\n",
    "\n",
    "# set limits\n",
    "ax.set_xlim(np.min(X_domain), np.max(X_domain))\n",
    "ax.set_ylim(np.min(Y_domain), np.max(Y_domain))\n",
    "\n",
    "# Set title\n",
    "ax.set_title('Repelling/Attracting OECSs from Fast Tensorline Computation (FTC)', fontsize = 10)\n",
    "\n",
    "# Plot legend\n",
    "import matplotlib.patches as mpatches\n",
    "attracting = mpatches.Patch(color='k', label='attracting OECS')\n",
    "repelling = mpatches.Patch(color='w', label='repelling OECS')\n",
    "plt.legend(handles=[attracting, repelling], fontsize = 10, loc = \"lower left\")\n",
    " \n",
    "# Show plot\n",
    "plt.show()"
   ]
  },
  {
   "cell_type": "markdown",
   "metadata": {},
   "source": [
    "It can be verified that the attracting/repelling OECS computed using the *Fast Tensorline Computation* coincide with those computed in [HyperbolicOECS](http://localhost:8888/notebooks/TBarrier/2D/demos/AdvectiveBarriers/HyperbolicOECS/Main/HyperbolicOECS.ipynb). We note that this procedure is conceptually much easier as it does not require constantly checking the orientation of the eigenvector field and hence can be solved via an ODEsolver."
   ]
  },
  {
   "cell_type": "markdown",
   "metadata": {},
   "source": [
    "# Advect attracting OECS\n",
    "\n",
    "Attracting/repelling OECS represent short term attractor/repellors of particles in the flow field. They act as the eulerian counterpart to hyperbolic LCS. Hyperbolic OECS act as a short-term unstable/stable manifold of a saddle point.\n",
    "In order to highlight the validity of the extracted hyperbolic OECS and highlight the predictive power of attracting OECS for short time-intervals, we advect attracting OECSs up to 3 days and study their effect on nearby particles. We seed around every objective saddle a circular blob of particle which also gets advected by the flow. As shown in the below figure, the attracting OECS play a crucial role in shaping the deformation of the blobs. As shown in the below figure, the attracting OECS play a crucial role in shaping the deformation of the blobs as they stretch and attract the blob originally centered around the objective saddle."
   ]
  },
  {
   "cell_type": "code",
   "execution_count": null,
   "metadata": {
    "ExecuteTime": {
     "start_time": "2021-12-15T23:46:51.449Z"
    }
   },
   "outputs": [],
   "source": [
    "# Import package for computing trajectories\n",
    "from ipynb.fs.defs.integration_dFdt import integration_dFdt\n",
    "\n",
    "# efine time-horizon over which to advect\n",
    "time_advect = np.linspace(t_OECS, t_OECS+1.5, 151, endpoint = True)\n",
    "\n",
    "t0 = 0\n",
    "t1 = int(len(time_advect)/3)\n",
    "t2 = int(2*len(time_advect)/3)\n",
    "t3 = int(len(time_advect))-1\n",
    "\n",
    "# Define figure/axes\n",
    "# Figure/Axis\n",
    "fig, ((ax0, ax1), (ax2, ax3)) = plt.subplots(nrows=2, ncols=2, dpi = 600, figsize=(9, 6))\n",
    "\n",
    "# Iterate over all attracting OECS and plot\n",
    "for i in tqdm(range(len(objective_saddle))):\n",
    "    \n",
    "    x_advected, y_advected = [], []\n",
    "                    \n",
    "    for j in range(len(x_attracting[i])):\n",
    "        \n",
    "        x = np.array([x_attracting[i][j], y_attracting[i][j]])\n",
    "                    \n",
    "        # Advect OECS over 1.5 days\n",
    "        Fmap = integration_dFdt(time_advect, x, X, Y, Interpolant, periodic, defined_domain, bool_unsteady, dt_data, delta)[0]\n",
    "\n",
    "        # extract end-point of advection\n",
    "        x_end = Fmap[:,-1]\n",
    "                    \n",
    "        x_advected.append(Fmap[0,:])\n",
    "        y_advected.append(Fmap[1,:])\n",
    "    \n",
    "    x_advected = np.array(x_advected)\n",
    "    y_advected = np.array(y_advected)\n",
    "    \n",
    "    # create inner circle around objective saddle and seed it with particle\n",
    "    r = 0.1\n",
    "    x_inner_circle, y_inner_circle = [], []\n",
    "    for phi in np.linspace(0, 2*np.pi, 100):\n",
    "        x_inner_circle.append(objective_saddle[i][0]+r*np.cos(phi))\n",
    "        y_inner_circle.append(objective_saddle[i][1]+r*np.sin(phi))\n",
    "        \n",
    "    # create outer circle around objective saddle and seed it with particle\n",
    "    r = 0.25\n",
    "    x_outer_circle, y_outer_circle = [], []\n",
    "    for phi in np.linspace(0, 2*np.pi, 100):\n",
    "        x_outer_circle.append(objective_saddle[i][0]+r*np.cos(phi))\n",
    "        y_outer_circle.append(objective_saddle[i][1]+r*np.sin(phi))\n",
    "    \n",
    "    x_outer_circle_advected, y_outer_circle_advected = [], []\n",
    "    x_inner_circle_advected, y_inner_circle_advected = [], []\n",
    "    \n",
    "    # advect particles from inner circle around objective saddle over 1.5 days\n",
    "    for t in range(len(x_inner_circle)):\n",
    "        \n",
    "        x = np.array([x_inner_circle[t], y_inner_circle[t]])\n",
    "                    \n",
    "        # Advect OECS over 3 days\n",
    "        Fmap = integration_dFdt(time_advect, x, X, Y, Interpolant, periodic, defined_domain, bool_unsteady, dt_data, delta)[0]\n",
    "                    \n",
    "        x_inner_circle_advected.append(Fmap[0,:])\n",
    "        y_inner_circle_advected.append(Fmap[1,:])\n",
    "    \n",
    "    x_inner_circle_advected = np.array(x_inner_circle_advected)\n",
    "    y_inner_circle_advected = np.array(y_inner_circle_advected)\n",
    "    \n",
    "    # advect particles around objective saddle over 1.5 days\n",
    "    for t in range(len(x_outer_circle)):\n",
    "        \n",
    "        x = np.array([x_outer_circle[t], y_outer_circle[t]])\n",
    "                    \n",
    "        # Advect OECS over 3 days\n",
    "        Fmap = integration_dFdt(time_advect, x, X, Y, Interpolant, periodic, defined_domain, bool_unsteady, dt_data, delta)[0]\n",
    "                    \n",
    "        x_outer_circle_advected.append(Fmap[0,:])\n",
    "        y_outer_circle_advected.append(Fmap[1,:])\n",
    "    \n",
    "    x_outer_circle_advected = np.array(x_outer_circle_advected)\n",
    "    y_outer_circle_advected = np.array(y_outer_circle_advected)\n",
    "    \n",
    "    x_inner_circle_advected = np.array(x_inner_circle_advected)\n",
    "    y_inner_circle_advected = np.array(y_inner_circle_advected)\n",
    "    \n",
    "    ax0.plot(x_advected[:,t0], y_advected[:,t0], linewidth = 1.5, c = \"k\")\n",
    "    ax0.fill(x_outer_circle_advected[:,t0], y_outer_circle_advected[:,t0], c = \"b\", alpha = .5)\n",
    "    ax0.fill(x_inner_circle_advected[:,t0], y_inner_circle_advected[:,t0], c = \"r\")\n",
    "    \n",
    "    ax1.plot(x_advected[:,t1], y_advected[:,t1], linewidth = 1.5, c = \"k\")\n",
    "    ax1.fill(x_outer_circle_advected[:,t1], y_outer_circle_advected[:,t1], c = \"b\", alpha = .5)\n",
    "    ax1.fill(x_inner_circle_advected[:,t1], y_inner_circle_advected[:,t1], c = \"r\")\n",
    "    \n",
    "    ax2.plot(x_advected[:,t2], y_advected[:,t2], linewidth = 1.5, c = \"k\")\n",
    "    ax2.fill(x_outer_circle_advected[:,t2], y_outer_circle_advected[:,t2], c = \"b\", alpha = .5)\n",
    "    ax2.fill(x_inner_circle_advected[:,t2], y_inner_circle_advected[:,t2], c = \"r\")\n",
    "    \n",
    "    ax3.plot(x_advected[:,t3], y_advected[:,t3], linewidth = 1.5, c = \"k\")\n",
    "    ax3.fill(x_outer_circle_advected[:,t3], y_outer_circle_advected[:,t3], c = \"b\", alpha = .5)\n",
    "    ax3.fill(x_inner_circle_advected[:,t3], y_inner_circle_advected[:,t3], c = \"r\")\n",
    "\n",
    "# Set axis labels\n",
    "ax2.set_xlabel(\"long (°)\", fontsize = 10)\n",
    "ax3.set_xlabel(\"long (°)\", fontsize = 10)\n",
    "ax0.set_ylabel(\"lat (°)\", fontsize = 10)\n",
    "ax2.set_ylabel(\"lat (°)\", fontsize = 10)\n",
    "\n",
    "# Title\n",
    "ax0.set_title(r'$t_0+$'+str(np.around(time_advect[t0], 2))+\"d\", fontsize = 10)\n",
    "ax1.set_title(r'$t_0+$'+str(np.around(time_advect[t1], 2))+\"d\", fontsize = 10)\n",
    "ax2.set_title(r'$t_0+$'+str(np.around(time_advect[t2], 2))+\"d\", fontsize = 10)\n",
    "ax3.set_title(r'$t_0+$'+str(np.around(time_advect[t3], 2))+\"d\", fontsize = 10)\n",
    "plt.show();\n"
   ]
  },
  {
   "cell_type": "code",
   "execution_count": null,
   "metadata": {},
   "outputs": [],
   "source": []
  }
 ],
 "metadata": {
  "kernelspec": {
   "display_name": "Python 3 (ipykernel)",
   "language": "python",
   "name": "python3"
  },
  "language_info": {
   "codemirror_mode": {
    "name": "ipython",
    "version": 3
   },
   "file_extension": ".py",
   "mimetype": "text/x-python",
   "name": "python",
   "nbconvert_exporter": "python",
   "pygments_lexer": "ipython3",
   "version": "3.7.11"
  },
  "toc": {
   "base_numbering": 1,
   "nav_menu": {},
   "number_sections": true,
   "sideBar": true,
   "skip_h1_title": false,
   "title_cell": "Table of Contents",
   "title_sidebar": "Contents",
   "toc_cell": false,
   "toc_position": {},
   "toc_section_display": true,
   "toc_window_display": false
  }
 },
 "nbformat": 4,
 "nbformat_minor": 4
}
