{
 "cells": [
  {
   "cell_type": "markdown",
   "metadata": {},
   "source": [
    "This function computes the interpolant for \n",
    "\n",
    "\\begin{equation}\n",
    "\\phi' = -\\dfrac{1}{2s_k}\\mathbf{e}_k^T(\\nabla_x S \\mathbf{e}_i) \\mathbf{e}_i\n",
    "\\end{equation}\n",
    "\n",
    "where $ \\mathbf{e}_i $ and $ \\mathbf{e}_k $ respectively indicate the two (orthogonal) eigenvectors associated to $ S $ and $ s_k $ the eigenvalue corresponding to the eigenvector $ k $.\n",
    "As a consequence, if we rewrite $ \\mathbf{e}_i $ in polar coordinates with angle $ \\phi \\in \\mathbb{S}^1 $ we get:\n",
    "\n",
    "\\begin{align*}\n",
    "\\mathbf{e}_i = \\begin{pmatrix} \\cos(\\phi) \\\\ \\sin(\\phi) \\end{pmatrix}, \\quad \\mathbf{e}_k = \\begin{pmatrix} -\\sin(\\phi) \\\\ \\cos(\\phi) \\end{pmatrix}\n",
    "\\end{align*}\n",
    "\n",
    "| Name | Type (Shape) | Description |\n",
    "| --- | --- | --- |\n",
    "| X | array (Ny, Nx) | X-meshgrid|\n",
    "| Y | array (Ny, Nx) | Y-meshgrid|\n",
    "| s | float | eigenvalue $ s_k $ of rate of strain $ S $|\n",
    "| Sij_x| float | spatial derivative of $ S = \\begin{pmatrix} S11 && S12 \\\\ S12 && S22 \\end{pmatrix} $ in x-direction|\n",
    "| Sij_y| float | spatial derivative of $ S = \\begin{pmatrix} S11 && S12 \\\\ S12 && S22 \\end{pmatrix} $ in y-direction|  \n",
    "\n",
    "\n",
    "*__phi_prime_OECS* computes $ \\dot{\\phi} $ over a three-dimensional meshgrid given by the two spatial components $ X, Y $ and the angle $ \\phi $. \n",
    "\n",
    "*_phi_prime_OECS* computes the interpolant for $ \\dot{\\phi} $."
   ]
  },
  {
   "cell_type": "code",
   "execution_count": null,
   "metadata": {},
   "outputs": [],
   "source": [
    "# Import numpy\n",
    "import numpy as np\n",
    "\n",
    "# Import numba (for fast computing)\n",
    "from numba import njit, prange\n",
    "\n",
    "# Import math tools\n",
    "from math import cos, sin"
   ]
  },
  {
   "cell_type": "code",
   "execution_count": 1,
   "metadata": {
    "ExecuteTime": {
     "end_time": "2021-11-02T21:28:07.752563Z",
     "start_time": "2021-11-02T21:28:07.518896Z"
    }
   },
   "outputs": [],
   "source": [
    "@njit(parallel=True)\n",
    "def __phi_prime_OECS(X, Y, phi, s, S11_x, S11_y, S12_x, S12_y, S22_x, S22_y):\n",
    "    \n",
    "    # initialize array\n",
    "    phi_prime = np.zeros((Y.shape[0], X.shape[1], phi.shape[0]))\n",
    "    \n",
    "    # iterate in y-direction\n",
    "    for i in prange(Y.shape[0]):\n",
    "        \n",
    "        # iterate in x-direction\n",
    "        for j in prange(X.shape[1]):\n",
    "            \n",
    "            # eigenvalue at (i,j)\n",
    "            s_ = s[i, j]\n",
    "            \n",
    "            # check if eigenvalue is finite (and not nan as this would mean that we are outside the domain)\n",
    "            if abs(s_) > 0 and np.isfinite(s_+S11_x[i, j]+S11_y[i, j]+S12_x[i, j]+S12_y[i, j]+S22_x[i, j]+S22_y[i, j]):\n",
    "                \n",
    "                s_matrix = s_*np.eye(2, 2)\n",
    "            \n",
    "                S11_x_ = S11_x[i, j]\n",
    "                S11_y_ = S11_y[i, j]\n",
    "            \n",
    "                S12_x_ = S12_x[i, j]\n",
    "                S12_y_ = S12_y[i, j]\n",
    "            \n",
    "                S22_x_ = S22_x[i, j]\n",
    "                S22_y_ = S22_y[i, j]\n",
    "            \n",
    "                # iterate over phi\n",
    "                for p in prange(phi.shape[0]):\n",
    "                \n",
    "                    phi_ = phi[p]\n",
    "                \n",
    "                    e = np.array([cos(phi_), sin(phi_)])\n",
    "                    v = np.array([-sin(phi_), cos(phi_)])\n",
    "                \n",
    "                    grad_S_e = np.array([[S11_x_*cos(phi_)+S11_y_*sin(phi_), S12_x_*cos(phi_)+S12_y_*sin(phi_)], [S12_x_*cos(phi_)+S12_y_*sin(phi_), S22_x_*cos(phi_)+S22_y_*sin(phi_)]])\n",
    "        \n",
    "                    phi_prime[i, j, p] = -1/(2*s_)*v.T@(grad_S_e@e)\n",
    "                    \n",
    "            else:\n",
    "                \n",
    "                phi_prime[i, j, :] = 0\n",
    "      \n",
    "    return phi_prime"
   ]
  },
  {
   "cell_type": "code",
   "execution_count": 2,
   "metadata": {
    "ExecuteTime": {
     "end_time": "2021-11-02T21:28:07.768554Z",
     "start_time": "2021-11-02T21:28:07.754567Z"
    }
   },
   "outputs": [],
   "source": [
    "def _phi_prime_OECS(X, Y, s, S11_x, S11_y, S12_x, S12_y, S22_x, S22_y):\n",
    "    \n",
    "    phi = np.linspace(0, 2*np.pi, 360)\n",
    "    \n",
    "    from scipy.interpolate import RegularGridInterpolator\n",
    "    \n",
    "    phi_prime = __phi_prime_OECS(X, Y, phi, s, S11_x, S11_y, S12_x, S12_y, S22_x, S22_y)\n",
    "    \n",
    "    return RegularGridInterpolator((Y[:,0], X[0,:], phi), phi_prime)"
   ]
  }
 ],
 "metadata": {
  "kernelspec": {
   "display_name": "Python 3 (ipykernel)",
   "language": "python",
   "name": "python3"
  },
  "language_info": {
   "codemirror_mode": {
    "name": "ipython",
    "version": 3
   },
   "file_extension": ".py",
   "mimetype": "text/x-python",
   "name": "python",
   "nbconvert_exporter": "python",
   "pygments_lexer": "ipython3",
   "version": "3.7.11"
  },
  "toc": {
   "base_numbering": 1,
   "nav_menu": {},
   "number_sections": true,
   "sideBar": true,
   "skip_h1_title": false,
   "title_cell": "Table of Contents",
   "title_sidebar": "Contents",
   "toc_cell": false,
   "toc_position": {},
   "toc_section_display": true,
   "toc_window_display": false
  }
 },
 "nbformat": 4,
 "nbformat_minor": 4
}
