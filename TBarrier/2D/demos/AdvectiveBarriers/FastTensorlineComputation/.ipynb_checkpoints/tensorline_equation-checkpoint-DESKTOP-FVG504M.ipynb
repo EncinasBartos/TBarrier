{
 "cells": [
  {
   "cell_type": "markdown",
   "id": "5ceb05c9",
   "metadata": {},
   "source": [
    "# Hyperbolic OECS (2D-incompressible flow)"
   ]
  },
  {
   "cell_type": "markdown",
   "id": "1a452fbb",
   "metadata": {
    "ExecuteTime": {
     "end_time": "2021-11-01T22:06:39.218091Z",
     "start_time": "2021-11-01T22:06:39.210113Z"
    }
   },
   "source": [
    "Hyperbolic OECS at time $ t $ are given by tensorlines starting from local maxima of $ s_2(x, y) $ which satisfy:\n",
    "\n",
    "\\begin{equation}\n",
    "S \\mathbf{e}_i = s_i \\mathbf{e}_i\n",
    "\\label{eq: tensorlines}\n",
    "\\end{equation}\n",
    "\n",
    "$ \\mathbf{e}_i $ denotes the eigenvector associated to the eigenvalue $ s_i $ of the rate of strain tensor $ S = S(x,y,t) $. The vector orthogonal to $ \\mathbf{e}_i $ is denoted as $ \\mathbf{e}_k $ and corresponds to the eigenvector associated to the eigenvalue $ s_k $ of $ S = S(x,y,t) $.\n",
    "\n",
    "Tensorlines are parametrized curves $ \\mathbf{x}(s) $ such that: $$ \\dfrac{d}{ds}\\mathbf{x} = \\mathbf{e}_i(\\phi(s)) = \\begin{pmatrix} \\cos(\\phi(s)) \\\\ \\sin(\\phi(s)) \\end{pmatrix} $$. Taking the derivative of \\ref{eq: tensorlines} with respect to $ s $ leads to:\n",
    "\n",
    "\\begin{align*}\n",
    "(\\nabla_x S \\mathbf{e}_i)\\mathbf{e}_i + S\\mathbf{e}_k\\phi' &= \\langle \\nabla_x s_i, \\mathbf{e}_i \\rangle I \\mathbf{e}_i + s_i\\mathbf{e}_k\\phi' \\\\\n",
    "(S\\mathbf{e}_k-s_i\\mathbf{e}_k)\\phi' &= (\\langle \\nabla_x s_i, \\mathbf{e}_i \\rangle I - (\\nabla_x S \\mathbf{e}_i)) \\mathbf{e}_i\n",
    "\\end{align*}\n",
    "\n",
    "Multiplying the above equation from the left with $ \\mathbf{e}_k^T $ leads to:\n",
    "\n",
    "\\begin{align*}\n",
    "\\mathbf{e}_k^T (S\\mathbf{e}_k-s_i\\mathbf{e}_k) \\phi' &= \\mathbf{e}_k^T(\\langle \\nabla_x s_i, \\mathbf{e}_i \\rangle I - (\\nabla_x S \\mathbf{e}_i)) \\mathbf{e}_i \\\\\n",
    "(s_k-s_i) \\phi' &= -\\mathbf{e}_k^T(\\nabla_x S \\mathbf{e}_i) \\mathbf{e}_i\n",
    "\\end{align*}\n",
    "\n",
    "where we used the property $ S\\mathbf{e}_k = \\lambda_k \\mathbf{e}_k $ and $ \\langle \\mathbf{e}_i, \\dfrac{d}{ds}\\mathbf{e}_i \\rangle = \\langle \\mathbf{e}_i, \\mathbf{e}_k \\rangle = 0 $ for an incompressible flow. Assuming again incompressibility $ s_i = -s_k $ it eventually holds:\n",
    "\n",
    "\\begin{equation}\n",
    "\\phi' = -\\dfrac{1}{2s_k}\\mathbf{e}_k^T(\\nabla_x S \\mathbf{e}_i) \\mathbf{e}_i\n",
    "\\end{equation}\n",
    "\n",
    "For repelling OECS, the tensorlines satisfy the ODEs:\n",
    "\n",
    "\\begin{align*}\n",
    "x'(s) &= \\cos(\\phi(s)) \\\\\n",
    "y'(s) &= \\sin(\\phi(s)) \\\\\n",
    "\\phi'(s) &= -\\dfrac{1}{2s_2}\\mathbf{e}_2^T(\\nabla_x S \\mathbf{e}_1) \\mathbf{e}_1\n",
    "\\end{align*}\n",
    "\n",
    "\n",
    "For attracting OECS, the tensorlines satisfy the ODEs:\n",
    "\n",
    "\\begin{align*}\n",
    "x'(s) &= \\cos(\\phi(s)) \\\\\n",
    "y'(s) &= \\sin(\\phi(s)) \\\\\n",
    "\\phi'(s) &= -\\dfrac{1}{2s_1}\\mathbf{e}_1^T(\\nabla_x S \\mathbf{e}_2) \\mathbf{e}_2\n",
    "\\end{align*}"
   ]
  },
  {
   "cell_type": "code",
   "execution_count": 1,
   "id": "ac1b7ace",
   "metadata": {
    "ExecuteTime": {
     "end_time": "2021-11-09T08:51:22.176147Z",
     "start_time": "2021-11-09T08:51:22.172734Z"
    }
   },
   "outputs": [],
   "source": [
    "import sys, os\n",
    "\n",
    "# get current directory\n",
    "path = os.getcwd()\n",
    "\n",
    "# get parent directory\n",
    "parent_directory = os.path.sep.join(path.split(os.path.sep)[:-2])\n",
    "\n",
    "# add Algorithm folder to current working path\n",
    "sys.path.append(parent_directory+\"/GeneralFunctions\")"
   ]
  },
  {
   "cell_type": "code",
   "execution_count": null,
   "id": "3064a981",
   "metadata": {
    "ExecuteTime": {
     "end_time": "2021-11-09T08:51:22.244316Z",
     "start_time": "2021-11-09T08:51:22.177823Z"
    },
    "hide_input": false
   },
   "outputs": [],
   "source": [
    "from math import cos, sin, sqrt, pi\n",
    "from ipynb.fs.defs.check_location import check_location\n",
    "\n",
    "def _tensorline_equation(t, x_phi, interp_phi_prime, s_threshold, interp_s, X, Y, defined_domain):\n",
    "    \n",
    "    x, y, phi = x_phi[0], x_phi[1], x_phi[2]%(2*pi)\n",
    "    \n",
    "    if check_location(X, Y, defined_domain, x_phi[:2], True)[0] == \"IN\":\n",
    "        \n",
    "        if abs(abs(interp_s(y, x)[0][0])) > s_threshold:  \n",
    "        \n",
    "            phi_dot = interp_phi_prime([y, x, phi])[0]\n",
    "        \n",
    "            s_dot = phi_dot\n",
    "        \n",
    "            x_dot = cos(phi)\n",
    "            y_dot = sin(phi)\n",
    "    \n",
    "            norm = sqrt(1+phi_dot**2)\n",
    "    \n",
    "            return [x_dot/norm, y_dot/norm, phi_dot/norm]\n",
    "\n",
    "        else:\n",
    "            return [0, 0, 0]\n",
    "   \n",
    "    else:\n",
    "        \n",
    "        return [0, 0, 0]"
   ]
  },
  {
   "cell_type": "code",
   "execution_count": null,
   "id": "62597388",
   "metadata": {},
   "outputs": [],
   "source": []
  }
 ],
 "metadata": {
  "kernelspec": {
   "display_name": "Python 3 (ipykernel)",
   "language": "python",
   "name": "python3"
  },
  "language_info": {
   "codemirror_mode": {
    "name": "ipython",
    "version": 3
   },
   "file_extension": ".py",
   "mimetype": "text/x-python",
   "name": "python",
   "nbconvert_exporter": "python",
   "pygments_lexer": "ipython3",
   "version": "3.7.11"
  },
  "toc": {
   "base_numbering": 1,
   "nav_menu": {},
   "number_sections": true,
   "sideBar": true,
   "skip_h1_title": false,
   "title_cell": "Table of Contents",
   "title_sidebar": "Contents",
   "toc_cell": false,
   "toc_position": {
    "height": "calc(100% - 180px)",
    "left": "10px",
    "top": "150px",
    "width": "165px"
   },
   "toc_section_display": true,
   "toc_window_display": false
  }
 },
 "nbformat": 4,
 "nbformat_minor": 5
}
