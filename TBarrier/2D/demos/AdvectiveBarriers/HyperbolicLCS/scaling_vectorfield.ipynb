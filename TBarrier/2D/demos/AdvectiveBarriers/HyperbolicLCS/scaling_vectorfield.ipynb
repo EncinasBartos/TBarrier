{
 "cells": [
  {
   "cell_type": "markdown",
   "metadata": {},
   "source": [
    "As the eigenvector-field is characterized by inherent orientational discontinuities, we need to account for them at each integration step. We do so by introducing an appropriate rescaling that alters the tensorline ODE in a fashion so that its numerical solution yields a globally smooth set of tensorlines. This type of rescaling was first proposed by [1].\n",
    "\n",
    "The original ODE for a tensorline $ \\mathbf{x}(s) $ associated to the eigenvector field $ \\mathbf{\\xi}_i $ is given by:\n",
    "\n",
    "\\begin{equation}\n",
    "\\dfrac{d}{ds}\\mathbf{x}(s) = \\xi_{i}(s)\n",
    "\\label{eq: ODE_1}\n",
    "\\tag{1}\n",
    "\\end{equation}\n",
    "\n",
    "\n",
    "[2] proposed rewriting the ODE \\ref{eq: ODE_1} as:\n",
    "\n",
    "\\begin{equation}\n",
    "\\dfrac{d}{ds}\\mathbf{x}(s) = \\mathrm{sign}(\\langle \\xi_i(s), \\xi_i(s-\\Delta s)\\rangle) \\alpha(\\mathbf{x}(s)) \\xi_i(s),\n",
    "\\label{eq: ODE_2}\n",
    "\\tag{2}\n",
    "\\end{equation} where $ \\alpha(\\mathbf{x}(s)) = \\dfrac{(\\lambda_2(\\mathbf{x}(s))-\\lambda_1(\\mathbf{x}(s))^2}{(\\lambda_2(\\mathbf{x}(s))+\\lambda_1(\\mathbf{x}(s))^2}$. Tensorline singularities are thus rescaled to fixed points of eq. \\ref{eq: ODE_2} as $ \\lambda_2(\\mathbf{x}(s)) = \\lambda_1(\\mathbf{x}(s)) $ holds at such points.\n",
    "For incompressible velocity fields it holds $ \\lambda_2 = \\dfrac{1}{\\lambda_1} $."
   ]
  },
  {
   "cell_type": "code",
   "execution_count": 1,
   "metadata": {
    "ExecuteTime": {
     "end_time": "2021-12-10T11:22:12.769346Z",
     "start_time": "2021-12-10T11:22:12.542354Z"
    }
   },
   "outputs": [],
   "source": [
    "# Import numpy\n",
    "import numpy as np\n",
    "\n",
    "# Import function which re-orients the vector field\n",
    "from ipynb.fs.defs.orient_vectorfield import _orient_vectorfield"
   ]
  },
  {
   "cell_type": "code",
   "execution_count": 2,
   "metadata": {
    "ExecuteTime": {
     "end_time": "2021-12-10T11:22:13.051217Z",
     "start_time": "2021-12-10T11:22:13.041227Z"
    }
   },
   "outputs": [],
   "source": [
    "def _scaling_vectorfield_incompressible(X, Y, x, x_prime, vector_field, Interp_eig):\n",
    "    '''\n",
    "    Scaling of vectorfield turns tensorlines singularities into fixed points for incompressible vector fields.\n",
    "    \n",
    "    Parameters:\n",
    "        X:               array (Ny, Nx), X-meshgrid\n",
    "        Y:               array (Ny, Nx), Y-meshgrid \n",
    "        x:               array (2, Npoints), position (#Npoints = Number of initial conditions)\n",
    "        x_prime:         array (2, Npoints), eigenvector at 'x'\n",
    "        vector_field:    array (Ny, Nx, 2), eigenvector field over domain domain.\n",
    "        interp_eig:      Interpolant-object for eigenvalue field\n",
    "    \n",
    "    Returns:\n",
    "        rescaled_vector: array (2, Npoints), rescaled version of eigenvector. \n",
    "                         If the point is outside of the defined domain, then 'None' is returned\n",
    "    '''\n",
    "    \n",
    "    vx, vy = _orient_vectorfield(X, Y, x, vector_field)\n",
    "        \n",
    "    if vx is not None:\n",
    "        \n",
    "        # compute lambda_2\n",
    "        lambda_max = Interp_eig(x[1], x[0])[0][0]\n",
    "        \n",
    "        # if lambda_2 == 0 --> stop integration. \n",
    "        # This happens in regions close to the boundary, where the incompressibility condition is not satisfied anymore.\n",
    "        if lambda_max == 0:\n",
    "            return None\n",
    "        \n",
    "        # assuming incompressibility \n",
    "        lambda_min = 1/lambda_max\n",
    "        \n",
    "        # transform singularities to fixed points\n",
    "        alpha = ((lambda_max-lambda_min)/(lambda_max+lambda_min))**2\n",
    "        \n",
    "        # rescalin\n",
    "        scaling = np.sign(vx*x_prime[0]+vy*x_prime[1])*alpha\n",
    "            \n",
    "        rescaled_vector = scaling*np.array([vx, vy]) # array\n",
    "    \n",
    "        return rescaled_vector # array\n",
    "        \n",
    "    else:\n",
    "        return None"
   ]
  },
  {
   "cell_type": "code",
   "execution_count": null,
   "metadata": {},
   "outputs": [],
   "source": [
    "def _scaling_vectorfield_compressible(X, Y, x, x_prime, vector_field, Interp_eig, Interp_eig_opposite):\n",
    "    '''\n",
    "    Scaling of vectorfield turns tensorlines singularities into fixed points for compressible vector fields.\n",
    "    \n",
    "    Parameters:\n",
    "        X:                   array (Ny, Nx), X-meshgrid\n",
    "        Y:                   array (Ny, Nx), Y-meshgrid \n",
    "        x:                   array (2, Npoints), position (#Npoints = Number of initial conditions)\n",
    "        x_prime:             array (2, Npoints), eigenvector at 'x'\n",
    "        vector_field:        array (Ny, Nx, 2), eigenvector field over domain domain.\n",
    "        interp_eig:          Interpolant-object for eigenvalue field\n",
    "        interp_eig_opposite: Interpolant-object for opposite eigenvalue field\n",
    "    \n",
    "    Returns:\n",
    "        rescaled_vector: array (2, Npoints), rescaled version of eigenvector. \n",
    "                         If the point is outside of the defined domain, then 'None' is returned\n",
    "    '''\n",
    "    \n",
    "    vx, vy = _orient_vectorfield(X, Y, x, vector_field)\n",
    "    \n",
    "    if vx is not None:\n",
    "        \n",
    "        # compute lambda max\n",
    "        lambda_max = Interp_eig(x[1], x[0])[0][0]\n",
    "        \n",
    "        # compute lambda min\n",
    "        lambda_min = Interp_eig_opposite(x[1], x[0])[0][0]\n",
    "        \n",
    "        # Stop integration if there is no longer attraction/repulsion\n",
    "        if (lambda_max-np.sign(lambda_max)<= 0):\n",
    "            return None\n",
    "        \n",
    "        # transform singularities to fixed points\n",
    "        alpha = (abs(lambda_max-lambda_min)/(lambda_max+lambda_min))**2\n",
    "        \n",
    "        # rescaling\n",
    "        scaling = np.sign(vx*x_prime[0]+vy*x_prime[1])*alpha\n",
    "            \n",
    "        rescaled_vector = scaling*np.array([vx, vy]) # array\n",
    "    \n",
    "        return rescaled_vector # array\n",
    "        \n",
    "    else:\n",
    "        return None"
   ]
  },
  {
   "cell_type": "markdown",
   "metadata": {},
   "source": [
    "# References\n",
    "\n",
    "[1] Tchon, K. F., Dompierre, J., Vallet, M. G., Guibault, F., & Camarero, R. (2006). Two-dimensional metric tensor visualization using pseudo-meshes. Engineering with Computers, 22(2), 121-131.\n",
    "\n",
    "[2] Farazmand, M., & Haller, G. (2012). Computing Lagrangian coherent structures from their variational theory. Chaos: An Interdisciplinary Journal of Nonlinear Science, 22(1), 013128."
   ]
  }
 ],
 "metadata": {
  "hide_input": false,
  "kernelspec": {
   "display_name": "Python 3",
   "language": "python",
   "name": "python3"
  },
  "language_info": {
   "codemirror_mode": {
    "name": "ipython",
    "version": 3
   },
   "file_extension": ".py",
   "mimetype": "text/x-python",
   "name": "python",
   "nbconvert_exporter": "python",
   "pygments_lexer": "ipython3",
   "version": "3.7.12"
  },
  "toc": {
   "base_numbering": 1,
   "nav_menu": {},
   "number_sections": true,
   "sideBar": true,
   "skip_h1_title": false,
   "title_cell": "Table of Contents",
   "title_sidebar": "Contents",
   "toc_cell": false,
   "toc_position": {},
   "toc_section_display": true,
   "toc_window_display": false
  }
 },
 "nbformat": 4,
 "nbformat_minor": 4
}
