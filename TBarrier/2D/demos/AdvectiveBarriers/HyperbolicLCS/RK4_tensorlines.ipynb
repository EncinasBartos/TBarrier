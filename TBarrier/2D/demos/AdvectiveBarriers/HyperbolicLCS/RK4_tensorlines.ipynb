{
 "cells": [
  {
   "cell_type": "markdown",
   "metadata": {
    "ExecuteTime": {
     "end_time": "2021-12-10T18:07:44.636994Z",
     "start_time": "2021-12-10T18:07:44.629043Z"
    }
   },
   "source": [
    "This function performs one integration step, when calculating the tensorlines (stretchlines/shrinklines) of an eigenvector field. The integration scheme is RK4."
   ]
  },
  {
   "cell_type": "markdown",
   "metadata": {},
   "source": [
    "| Name | Type (Shape) | Description |\n",
    "| --- | --- | --- |\n",
    "| X | array (Ny, Nx) | X-meshgrid |\n",
    "| Y | array (Ny, Nx) | Y-meshgrid |\n",
    "| defined domain | boolean array (Ny, Nx) | meshgrid which denotes the domain where the velocity field is defined.|\n",
    "| x | array (2,) | tensorline position |\n",
    "| x_prime | array (2,) | eigenvector at point 'x' (=tangent to tensorline)|\n",
    "| ds | float | fixed step-size for integration of tensorlines|\n",
    "| vector_field | array(Ny, Nx) | eigenvector field (not oriented)|\n",
    "| Interp_lambda | object | Interpolant of lambda|\n",
    "| x_update | array (2,) | updated tensorline posiion |\n",
    "| x_prime_update | array (2,) | updated eigenvector at point 'x_update' with the same orientation as 'x_prime'|"
   ]
  },
  {
   "cell_type": "code",
   "execution_count": 3,
   "metadata": {},
   "outputs": [],
   "source": [
    "import sys, os\n",
    "\n",
    "# get current directory\n",
    "path = os.getcwd()\n",
    "\n",
    "# get parent directory\n",
    "parent_directory = os.path.sep.join(path.split(os.path.sep)[:-2])\n",
    "\n",
    "# add 'utils' folder to current working path\n",
    "sys.path.append(parent_directory+\"/Src/utils\")"
   ]
  },
  {
   "cell_type": "code",
   "execution_count": null,
   "metadata": {},
   "outputs": [],
   "source": [
    "# Import numpy\n",
    "import numpy as np\n",
    "\n",
    "# Import function which checks if particle is still in defined domain\n",
    "from ipynb.fs.defs.check_location import check_location\n",
    "\n",
    "# Import function which computes the scaled (and oriented) eigenvector\n",
    "from ipynb.fs.defs.scaling_vectorfield import _scaling_vectorfield"
   ]
  },
  {
   "cell_type": "code",
   "execution_count": 2,
   "metadata": {},
   "outputs": [],
   "source": [
    "def _RK4_tensorlines(X, Y, defined_domain, x, x_prime, ds, vector_field, Interp_eig):\n",
    "        \n",
    "    # Define starting point.\n",
    "    x1 = x\n",
    "        \n",
    "    # check if point is in defined domain (given by initial meshgrid)\n",
    "    loc = check_location(X, Y, defined_domain, x1)[0]\n",
    "    \n",
    "    # if point is not \"IN\" defined domain --> stop integration\n",
    "    if loc != \"IN\":\n",
    "        return None, None\n",
    "        \n",
    "    # Compute x_prime at the beginning of the time-step\n",
    "    x_prime = _scaling_vectorfield(X, Y, x1, x_prime, vector_field, Interp_eig)\n",
    "    if x_prime is None:\n",
    "        return None, None\n",
    "    k1 = ds * x_prime\n",
    "\n",
    "    # Update position at the first point.\n",
    "    x2 = x1 + .5 * k1\n",
    "    \n",
    "    # check if point is in defined domain (given by initial meshgrid)\n",
    "    loc = check_location(X, Y, defined_domain, x2)[0]\n",
    "    \n",
    "    # if point is not \"IN\" defined domain --> stop integration\n",
    "    if loc != \"IN\":\n",
    "        return None, None\n",
    "        \n",
    "    # Compute x_prime at the first midpoint.\n",
    "    x_prime = _scaling_vectorfield(X, Y, x2, x_prime, vector_field, Interp_eig)\n",
    "    if x_prime is None:\n",
    "        return None, None\n",
    "    k2 = ds * x_prime\n",
    "\n",
    "    # Update position at the first midpoint midpoint.\n",
    "    x3 = x1 + .5 * k2\n",
    "    \n",
    "    # check if point is in defined domain (given by initial meshgrid)\n",
    "    loc = check_location(X, Y, defined_domain, x3)[0]\n",
    "    \n",
    "    # if point is not \"IN\" defined domain --> stop integration\n",
    "    if loc != \"IN\": \n",
    "        return None, None\n",
    "    \n",
    "    # Compute velocity at the second midpoint.\n",
    "    x_prime = _scaling_vectorfield(X, Y, x3, x_prime, vector_field, Interp_eig)\n",
    "    if x_prime is None:\n",
    "        return None, None\n",
    "    k3 = ds * x_prime\n",
    "    \n",
    "    # Update position at the second midpoint.\n",
    "    x4 = x1 + k3\n",
    "    \n",
    "    # check if point is in defined domain (given by initial meshgrid)\n",
    "    loc = check_location(X, Y, defined_domain, x4)[0]\n",
    "    \n",
    "    # if point is not \"IN\" defined domain --> stop integration\n",
    "    if loc != \"IN\":\n",
    "        return None, None\n",
    "    \n",
    "    # Compute velocity at the end of the time-step.\n",
    "    x_prime = _scaling_vectorfield(X, Y, x4, x_prime, vector_field, Interp_eig) \n",
    "    if x_prime is None:\n",
    "        return None, None\n",
    "    k4 = ds * x_prime\n",
    "    \n",
    "    # define list for velocity and positions of particle\n",
    "    x_prime_update = []\n",
    "    x_update = []\n",
    "        \n",
    "    # Compute velocity\n",
    "    for j in range(2):\n",
    "        # Update velocity of particles\n",
    "        x_prime_update.append(1.0 / 6.0*(k1[j] + 2 * k2[j] + 2 * k3[j] + k4[j])/ds)\n",
    "    \n",
    "    # Integration x <-- x + x_prime*ds\n",
    "    for j in range(2):\n",
    "        # Update position of particles\n",
    "        x_update.append(x[j] + x_prime_update[j]*ds)\n",
    "\n",
    "    x_update = np.array(x_update)\n",
    "    x_prime_update = np.array(x_prime_update)\n",
    "    \n",
    "    # Update position\n",
    "    if check_location(X, Y, defined_domain, x_update)[0] != \"IN\": \n",
    "        return None, None\n",
    "    \n",
    "    return x_update, x_prime_update"
   ]
  }
 ],
 "metadata": {
  "kernelspec": {
   "display_name": "Python 3 (ipykernel)",
   "language": "python",
   "name": "python3"
  },
  "language_info": {
   "codemirror_mode": {
    "name": "ipython",
    "version": 3
   },
   "file_extension": ".py",
   "mimetype": "text/x-python",
   "name": "python",
   "nbconvert_exporter": "python",
   "pygments_lexer": "ipython3",
   "version": "3.7.11"
  },
  "toc": {
   "base_numbering": 1,
   "nav_menu": {},
   "number_sections": true,
   "sideBar": true,
   "skip_h1_title": false,
   "title_cell": "Table of Contents",
   "title_sidebar": "Contents",
   "toc_cell": false,
   "toc_position": {},
   "toc_section_display": true,
   "toc_window_display": false
  }
 },
 "nbformat": 4,
 "nbformat_minor": 4
}
