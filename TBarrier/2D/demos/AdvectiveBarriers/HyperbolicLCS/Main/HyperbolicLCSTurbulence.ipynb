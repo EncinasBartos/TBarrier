{
 "cells": [
  {
   "cell_type": "markdown",
   "metadata": {
    "ExecuteTime": {
     "end_time": "2022-02-12T10:05:57.140774Z",
     "start_time": "2022-02-12T10:05:57.126813Z"
    }
   },
   "source": [
    "We start by adding the necessary folders to the current working path."
   ]
  },
  {
   "cell_type": "code",
   "execution_count": null,
   "metadata": {
    "ExecuteTime": {
     "end_time": "2022-06-09T15:07:16.331604Z",
     "start_time": "2022-06-09T15:07:16.317642Z"
    },
    "code_folding": [
     0
    ],
    "run_control": {
     "marked": true
    }
   },
   "outputs": [],
   "source": [
    "# import sys/os\n",
    "import sys, os\n",
    "\n",
    "# get current directory\n",
    "path = os.getcwd()\n",
    "\n",
    "# get parent directory\n",
    "parent_directory = os.path.sep.join(path.split(os.path.sep)[:-4])\n",
    "\n",
    "# add utils folder to current working path\n",
    "sys.path.append(parent_directory+\"/subfunctions/utils\")\n",
    "\n",
    "# add integration folder to current working path\n",
    "sys.path.append(parent_directory+\"/subfunctions/integration\")\n",
    "\n",
    "# add HyperbolicsLCS folder to current working path\n",
    "sys.path.append(parent_directory+\"/demos/AdvectiveBarriers/HyperbolicLCS\")"
   ]
  },
  {
   "cell_type": "markdown",
   "metadata": {},
   "source": [
    "# Overview\n",
    "\n",
    "In the following notebook we extract hyperbolic LCS from tensorlines of the eigenvector field associated to the minimum/maximum eigenvalue of the Cauchy Green strain tensor a 2-D homogeneous, isotropic turbulence. The notebook is structured as follows:\n",
    "\n",
    "1. Import velocity data stored in the folder 'data/Turbulence'. Make sure that all the necessary files are stored in the folder 'data/Turbulence'.\n",
    "<br />\n",
    "2. Define computational parameters (such as the number of cores) and data.\n",
    " <br />\n",
    "3. Define spatio-temporal domain.\n",
    " <br />\n",
    "4. Interpolate velocity from (discrete) gridded data.\n",
    " <br />\n",
    "5. Hyperbolic LCS from forward computation:\n",
    "\n",
    "    * Compute gradient of flow map $ \\mathbf{\\nabla F}_{t_0}^{t_N}(\\mathbf{x}_0) $ over meshgrid using an auxiliary grid. \n",
    "    <br />\n",
    "    \n",
    "    * Compute Cauchy Green (CG) strain tensor as: \n",
    "    <br />\n",
    "    \n",
    "    \\begin{equation} \\mathbf{C}_{t_0}^{t_N}(\\mathbf{x}_0) = \\mathbf{\\nabla F}_{t_0}^{t_N}(\\mathbf{x}_0)^T\\mathbf{\\nabla F}_{t_0}^{t_N}(\\mathbf{x}_0). \\end{equation}\n",
    "   <br />\n",
    "   \n",
    "    * Compute maximum eigenvalues $ \\lambda_2(\\mathbf{x}_0) $ of $ \\mathbf{C}_{t_0}^{t_N}(\\mathbf{x}_0) $.\n",
    "    <br />\n",
    "    \n",
    "    * Compute repelling LCS (extracted over the time-interval $ [t_0, t_N] $) at time $ t_0 $ as tensorlines tangent to the eigenvector field $ \\mathbf{\\xi_1(\\mathbf{x})} $ associated to the minimum eigenvalue $ \\lambda_1(\\mathbf{x}) $ of $ \\mathbf{C}_{t_0}^{t_N}(\\mathbf{x}_0) $:\n",
    "    <br />\n",
    "    \n",
    "    \\begin{equation}\n",
    "    \\dfrac{d}{ds} \\mathbf{x}(s) =  \\mathbf{\\xi_1(\\mathbf{x})}\n",
    "    \\end{equation}\n",
    "    <br />\n",
    "    \n",
    "    For repelling LCS, the tensorlines are launched from local maxima of the $ \\lambda_2(\\mathbf{x}) $-field.\n",
    "    <br />\n",
    "    \n",
    "    * Compute attracting LCS (extracted over the time-interval $ [t_0, t_N] $) at time $ t_0 $ as tensorlines tangent to the eigenvector field $ \\mathbf{\\xi_2(\\mathbf{x})} $ associated to the maximum eigenvalue $ \\lambda_2(\\mathbf{x}) $ of $ \\mathbf{C}_{t_0}^{t_N}(\\mathbf{x}_0) $:\n",
    "    <br />\n",
    "    \n",
    "    \\begin{equation}\n",
    "    \\dfrac{d}{ds} \\mathbf{x}(s) =  \\mathbf{\\xi_2(\\mathbf{x})}\n",
    "    \\end{equation}\n",
    "    <br />\n",
    "    \n",
    "    For attracting LCS, the tensorlines are launched from local minima of the $ \\lambda_1(\\mathbf{x}) $-field.\n",
    "    <br />\n",
    "    \n",
    "    In case of an incompressible flow (as here) local maxima of the $ \\lambda_2(\\mathbf{x}) $-field coincide with local minima of the $ \\lambda_1({\\mathbf{x}}) $-field as $ \\lambda_2(\\mathbf{x}) = \\dfrac{1}{\\lambda_1(\\mathbf{x})} $. \n",
    "    <br />\n",
    "    \n",
    "    Note that we compute repelling and attracting LCS from a single forward computation. Similarly repelling and attracting LCS can be computed from a single backward computation. Due to the unavoidable orientational discontinuities of the eigenvector-field, the integration has to be performed manually by checking the orientation of the eigenvector at every integration-step. If the orientation is not equivalent to the orientation of the eigenvector at the previous integration step, then the eigenvector has to be flipped before integrating.\n",
    " <br />\n",
    "7. References"
   ]
  },
  {
   "cell_type": "markdown",
   "metadata": {},
   "source": [
    "# Import data"
   ]
  },
  {
   "cell_type": "code",
   "execution_count": null,
   "metadata": {
    "ExecuteTime": {
     "end_time": "2022-06-09T15:07:16.551853Z",
     "start_time": "2022-06-09T15:07:16.359530Z"
    },
    "code_folding": [
     0
    ]
   },
   "outputs": [],
   "source": [
    "# import scipy\n",
    "import scipy.io\n",
    "\n",
    "# import numpy\n",
    "import numpy as np\n",
    "\n",
    "# load velocity data\n",
    "turb_u = parent_directory + r'/data/Turbulence/turb_u'\n",
    "      \n",
    "# iterate over all files in folder 'turb_u' and load velocity data\n",
    "i = 0\n",
    "U = np.zeros((1024, 1024, 251)) \n",
    "V = np.zeros((1024, 1024, 251))\n",
    "for filename in sorted(os.listdir(turb_u)):\n",
    "    if filename.endswith(\".mat\"):\n",
    "        file_u = os.path.join(turb_u, filename)\n",
    "        mat_turb_u = scipy.io.loadmat(file_u)\n",
    "        U[:,:,i] = mat_turb_u['u1']\n",
    "        V[:,:,i] = mat_turb_u['u2']\n",
    "        i+=1\n",
    "\n",
    "# load x/y grid\n",
    "X = scipy.io.loadmat(parent_directory + r'/data/Turbulence/grid.mat')['x']\n",
    "Y = X.copy().transpose()"
   ]
  },
  {
   "cell_type": "markdown",
   "metadata": {},
   "source": [
    "# Computational parameters and data\n",
    "\n",
    "Here we define the computational parameters and the data."
   ]
  },
  {
   "cell_type": "code",
   "execution_count": null,
   "metadata": {
    "ExecuteTime": {
     "end_time": "2022-06-09T15:07:16.552825Z",
     "start_time": "2022-06-09T15:07:16.372Z"
    },
    "code_folding": [
     0
    ]
   },
   "outputs": [],
   "source": [
    "# Number of cores for parallel computing\n",
    "Ncores = 16\n",
    "\n",
    "# time-interval over which data is defined\n",
    "time_data = np.linspace(0, 25, 251, endpoint = True).reshape(1, -1)\n",
    "\n",
    "# time resolution of data\n",
    "dt_data = time_data[0,1]-time_data[0,0]\n",
    "\n",
    "# periodic boundary conditions\n",
    "periodic_x = True\n",
    "periodic_y = True\n",
    "periodic_t = False\n",
    "periodic = [periodic_x, periodic_y, periodic_t]\n",
    "\n",
    "# unsteady velocity field\n",
    "bool_unsteady = True\n",
    "\n",
    "# defined domain\n",
    "# This array denotes where the velocity field is defined (=1) and where it is not defined (=0)\n",
    "defined_domain = np.isfinite(U[:,:,0]).astype(int)\n",
    "\n",
    "## resolution of meshgrid\n",
    "dx_data = X[0,1]-X[0,0]\n",
    "dy_data = Y[1,0]-Y[0,0]\n",
    "\n",
    "delta = [dx_data, dy_data]"
   ]
  },
  {
   "cell_type": "markdown",
   "metadata": {},
   "source": [
    "# Spatio-temporal domain\n",
    "\n",
    "Here we define the spatio-temporal domain over which to consider the dynamical system."
   ]
  },
  {
   "cell_type": "code",
   "execution_count": null,
   "metadata": {
    "ExecuteTime": {
     "end_time": "2022-06-09T15:07:16.553820Z",
     "start_time": "2022-06-09T15:07:16.386Z"
    },
    "code_folding": [
     0
    ],
    "run_control": {
     "marked": true
    }
   },
   "outputs": [],
   "source": [
    "# Initial time\n",
    "t0 = 0 # float\n",
    "\n",
    "# Final time\n",
    "tN = 20 # float\n",
    "\n",
    "# Time step-size\n",
    "dt = 0.1 # float\n",
    "\n",
    "# NOTE: For computing the backward trajectories set: tN < t0 and dt < 0.\n",
    "\n",
    "time = np.arange(t0, tN+dt, dt) # shape (Nt,)\n",
    "\n",
    "# Length of time interval\n",
    "lenT = abs(tN-t0) # float\n",
    "\n",
    "# resolution\n",
    "Nx = 400\n",
    "Ny = 400\n",
    "\n",
    "# set x-limits\n",
    "xmin = 3\n",
    "xmax = 5\n",
    "\n",
    "# set x-limits\n",
    "ymin = 1\n",
    "ymax = 3\n",
    "\n",
    "# specify domain over which to compute LCS\n",
    "x_domain = np.linspace(xmin, xmax, Nx)\n",
    "y_domain = np.linspace(ymin, ymax, Ny)\n",
    "\n",
    "# make sure that domain is part of the data domain.\n",
    "assert np.min(X) <= xmin <= np.max(X), \" xmin must be between \"+f'{np.min(X)} and {np.max(X)}'\n",
    "assert np.min(X) <= xmax <= np.max(X), \" xmax must be between \"+f'{np.min(X)} and {np.max(X)}'\n",
    "assert np.min(Y) <= ymin <= np.max(Y), \" ymin must be between \"+f'{np.min(Y)} and {np.max(Y)}'\n",
    "assert np.min(Y) <= ymax <= np.max(Y), \" ymax must be between \"+f'{np.min(Y)} and {np.max(Y)}'\n",
    "assert np.min(time_data) <= t0 <= np.max(time_data), \" t0 must be between \"+f'{np.min(time_data)} and {np.max(time_data)}'\n",
    "assert np.min(time_data) <= tN <= np.max(time_data), \" tN must be between \"+f'{np.min(time_data)} and {np.max(time_data)}'\n",
    "\n",
    "# grid-spacing\n",
    "dx = x_domain[1]-x_domain[0]\n",
    "dy = y_domain[1]-y_domain[0]\n",
    "\n",
    "#compute meshgrid\n",
    "X_domain, Y_domain = np.meshgrid(x_domain, y_domain)\n",
    "\n",
    "# Define ratio of auxiliary grid spacing vs original grid_spacing\n",
    "aux_grid_ratio = .1 # float between [1/100, 1/5]\n",
    "aux_grid = [aux_grid_ratio*dx, aux_grid_ratio*dy] # list (2, )"
   ]
  },
  {
   "cell_type": "markdown",
   "metadata": {},
   "source": [
    "# Interpolate velocity\n",
    "\n",
    "In order to evaluate the velocity field at arbitrary locations and times, we interpolate the discrete velocity data. The interpolation with respect to time is always linear. The interpolation with respect to space can be chosen to be \"cubic\" or \"linear\". Default value is \"cubic\"."
   ]
  },
  {
   "cell_type": "code",
   "execution_count": null,
   "metadata": {
    "ExecuteTime": {
     "end_time": "2022-06-09T15:07:16.554818Z",
     "start_time": "2022-06-09T15:07:16.401Z"
    },
    "code_folding": [
     0
    ]
   },
   "outputs": [],
   "source": [
    "# Import interpolation function for unsteady flow field\n",
    "from ipynb.fs.defs.Interpolant import interpolant_unsteady\n",
    "\n",
    "# Set nan values to zero (in case there are any) so that we can apply interpolant. \n",
    "# Interpolant does not work if the array contains nan values. \n",
    "U[np.isnan(U)] = 0\n",
    "V[np.isnan(V)] = 0\n",
    "\n",
    "# Interpolate velocity data using cubic spatial interpolation\n",
    "Interpolant = interpolant_unsteady(X, Y, U, V, method = \"cubic\")\n",
    "\n",
    "Interpolant_u = Interpolant[0] # RectangularBivariateSpline-object\n",
    "Interpolant_v = Interpolant[1] # RectangularBivariateSpline-object"
   ]
  },
  {
   "cell_type": "markdown",
   "metadata": {},
   "source": [
    "# Hyperbolic LCS from forward computation"
   ]
  },
  {
   "cell_type": "markdown",
   "metadata": {},
   "source": [
    "## Cauchy Green (CG) strain tensor\n",
    "\n",
    "The Cauchy Green strain tensor $ C_{t_0}^t(\\mathbf{x}) $ is computed by using an auxiliary meshgrid."
   ]
  },
  {
   "cell_type": "code",
   "execution_count": null,
   "metadata": {
    "ExecuteTime": {
     "end_time": "2022-06-09T15:07:16.555816Z",
     "start_time": "2022-06-09T15:07:16.437Z"
    },
    "code_folding": [
     0,
     10,
     14
    ],
    "run_control": {
     "marked": true
    }
   },
   "outputs": [],
   "source": [
    "# Import function to compute gradient of flow map\n",
    "from ipynb.fs.defs.gradient_flowmap import gradient_flowmap\n",
    "\n",
    "# Import function to compute Cauchy-Green strain tensor\n",
    "from ipynb.fs.defs.CauchyGreen import CauchyGreen\n",
    "\n",
    "# Import package for parallel computing\n",
    "from joblib import Parallel, delayed\n",
    "\n",
    "# Split x0, y0 into 'Ncores' equal batches for parallel computing\n",
    "def split(a, n):\n",
    "    k, m = divmod(len(a), n)\n",
    "    return (a[i*k+min(i, m):(i+1)*k+min(i+1, m)] for i in range(n))\n",
    "\n",
    "def parallel_C(x0_batch, y0_batch):\n",
    "    \n",
    "    # Initial conditions\n",
    "    X0 = np.array([x0_batch, y0_batch]) # array (2, Nx*Ny)\n",
    "\n",
    "    # Compute gradient of flow map\n",
    "    gradFmap = gradient_flowmap(time, X0, X, Y, Interpolant_u, Interpolant_v, periodic, defined_domain, bool_unsteady, time_data, aux_grid) # shape (N, Nx*Ny, 2, 2)\n",
    "\n",
    "    # extract gradient from t0 to tN\n",
    "    gradFmap_t0_tN = gradFmap[-1,:, :, :] # array (N, 2, 2, Nx*Ny)\n",
    "\n",
    "    # compute CG\n",
    "    C = gradFmap_t0_tN.copy()*np.nan\n",
    "    for i in range(gradFmap_t0_tN.shape[2]):\n",
    "        C[:,:,i] = CauchyGreen(gradFmap_t0_tN[:,:,i]) # array (2, 2, Nx*Ny)\n",
    "    \n",
    "    return C"
   ]
  },
  {
   "cell_type": "code",
   "execution_count": null,
   "metadata": {
    "ExecuteTime": {
     "end_time": "2022-06-09T15:07:16.555816Z",
     "start_time": "2022-06-09T15:07:16.438Z"
    },
    "code_folding": [
     0
    ]
   },
   "outputs": [],
   "source": [
    "# Vectorize initial conditions by arranging them to a vector of size (Nx*Ny, )\n",
    "x0 = X_domain.ravel() # array (Nx*Ny,)\n",
    "y0 = Y_domain.ravel() # array (Nx*Ny,)\n",
    "\n",
    "x0_batch = list(split(x0, Ncores)) # list (Nx*Ny,)\n",
    "y0_batch = list(split(y0, Ncores)) # list (Nx*Ny,)\n",
    "\n",
    "results = Parallel(n_jobs=Ncores, verbose = 1)(delayed(parallel_C)(x0_batch[i], y0_batch[i]) for i in range(len(x0_batch)))\n",
    "\n",
    "# extract CG tensorfield from results of parallel computing\n",
    "C = results[0]\n",
    "\n",
    "for res in results[1:]:\n",
    "    C = np.append(C, res, axis = 2)\n",
    "    \n",
    "# reshape array from vectorized form to structured meshgrid\n",
    "C = C.reshape((2, 2, X_domain.shape[0], X_domain.shape[1])) # array (2, 2, Ny, Nx)"
   ]
  },
  {
   "cell_type": "markdown",
   "metadata": {},
   "source": [
    "## Eigenvalues/Eigenvectors of Cauchy Green strain tensor\n",
    "\n",
    "We now compute the eigenvalues and eigenvectors of Cauchy Green strain tensor. We additionally also compute the $ \\mathrm{FTLE}_{t_0}^{t_N} $ as we seek to later compare the repelling LCS with features of the $ \\mathrm{FTLE} $-field."
   ]
  },
  {
   "cell_type": "code",
   "execution_count": null,
   "metadata": {
    "ExecuteTime": {
     "end_time": "2022-06-09T15:07:16.556814Z",
     "start_time": "2022-06-09T15:07:16.453Z"
    },
    "code_folding": [
     0,
     24,
     26,
     31
    ]
   },
   "outputs": [],
   "source": [
    "# Import function to compute eigenvalues/eigenvectors\n",
    "from ipynb.fs.defs.eigen import eigen\n",
    "\n",
    "# Import function to check location of particle\n",
    "from ipynb.fs.defs.check_location import check_location\n",
    "\n",
    "# add FTLE folder to current working path\n",
    "sys.path.append(parent_directory+\"/demos/AdvectiveBarriers/FTLE2D\")\n",
    "\n",
    "# Import function to calculate FTLE from Cauchy-Green strain tensor\n",
    "from ipynb.fs.defs.FTLE import _FTLE_C\n",
    "\n",
    "# maximum eigenvalues of CG-tensor\n",
    "eig1 = C[0,0,:,:].copy()*np.nan # array (Ny, Nx)\n",
    "# minimum eigenvalues of CG-tensor\n",
    "eig2 = C[0,0,:,:].copy()*np.nan # array (Ny, Nx)\n",
    "# eigenvectors associated to maximum eigenvalues of CG-tensor\n",
    "e1 = np.zeros((eig1.shape[0], eig1.shape[1], 2))*np.nan # array (Ny, Nx, 2)\n",
    "# eigenvectors associated to minimum eigenvalues of CG-tensor\n",
    "e2 = np.zeros((eig2.shape[0], eig2.shape[1], 2))*np.nan # array (Ny, Nx, 2)\n",
    "# FTLE-field\n",
    "FTLE = C[0,0,:,:].copy()*np.nan # array (Ny, Nx)\n",
    "\n",
    "#iterate over meshgrid\n",
    "for i in range(X_domain.shape[0]):\n",
    "    \n",
    "    for j in range(Y_domain.shape[1]):\n",
    "            \n",
    "        x = [X_domain[i,j], Y_domain[i, j]]\n",
    "        \n",
    "        # only compute CG tensor for trajectories starting region where velocity field is defined\n",
    "        if check_location(X, Y, defined_domain, np.array(x))[0] == \"IN\":\n",
    "        \n",
    "            # compute eigenvalues of CG tensor\n",
    "            eig1[i,j], eig2[i,j], e1[i,j,:], e2[i,j,:] = eigen(C[:,:,i,j])\n",
    "            \n",
    "            # compute FTLE-field from CG tensor\n",
    "            FTLE[i, j] = _FTLE_C(C[:,:,i,j], lenT)"
   ]
  },
  {
   "cell_type": "markdown",
   "metadata": {},
   "source": [
    "## Shrinklines (Repelling LCS)"
   ]
  },
  {
   "cell_type": "markdown",
   "metadata": {},
   "source": [
    "Repelling LCS can be sought among trajectories of the differential equation:\n",
    "\n",
    "\\begin{equation}\n",
    "\\mathbf{x}'_0(s) = \\xi_1(\\mathbf{x}_0;t_0, t_N),\n",
    "\\label{eq: shrinklines}\n",
    "\\end{equation}\n",
    "\n",
    "with $ \\xi_1 $ denoting the eigenvector associated to the weakest eigenvalue $ \\lambda_1 $ of $ C_{t_0}^{t_N}(\\mathbf{x}_0) $. The non-orientable vector field is well defiend away from tensorline singularites (points where $ \\lambda_1 = \\lambda_2 $).\n",
    "The most repelling shrinklines mark initial positions of repelling LCSs. Repelling LCSs can therefore be located as trajectories of eq. \\ref{eq: shrinklines} that have locally the largest averaged $ \\lambda_2(\\mathbf{x}_0;t_0, t_N) $ among all neighbouring shrinklines."
   ]
  },
  {
   "cell_type": "code",
   "execution_count": null,
   "metadata": {
    "ExecuteTime": {
     "end_time": "2022-06-09T15:07:16.558047Z",
     "start_time": "2022-06-09T15:07:16.484Z"
    },
    "code_folding": [
     0
    ]
   },
   "outputs": [],
   "source": [
    "# import function to compute tensorlines\n",
    "from ipynb.fs.defs.tensorlines import _tensorlines_incompressible\n",
    "\n",
    "# Step-size used for integration\n",
    "step_size = 0.05 # float\n",
    "\n",
    "# threshold distance to locate local maxima in the 'eig2'\n",
    "min_distance = 0.05 # float\n",
    "\n",
    "# Maximum length of stretchline\n",
    "max_length = 5 # float\n",
    "\n",
    "# Number of most relevant tensorlines. If you want all possible tensorlines, then set n_tensorlines = -1\n",
    "n_tensorlines = 10 # int\n",
    "\n",
    "# Minimum threshold on rate of attraction of stretchline \n",
    "hyperbolicity = 0\n",
    "\n",
    "# Maximum threshold on number of iterations\n",
    "n_iterations = 10**3\n",
    "\n",
    "# Compute shrinklines\n",
    "shrinklines = _tensorlines_incompressible(X_domain, Y_domain, eig2, e2, min_distance, max_length, step_size, n_tensorlines, hyperbolicity, n_iterations, verbose = False) # list containing stretchlines\n",
    "\n",
    "# NOTE: \n",
    "# If we set verbose = True in _tensorlines_incompressible(), then progress bar is printed.\n",
    "# Each progress bar represents the computation of a single stretchline starting from a local maximum of lambda_2. \n",
    "# If the progress bar does not complete this means that the algorithm converged before reaching its limit on the iterations.\n",
    "# The algorithm is guaranteed to converge, however, in order to avoid long waiting times we employ a threshold on the number of iterations."
   ]
  },
  {
   "cell_type": "markdown",
   "metadata": {},
   "source": [
    "## Stretchlines (Attracting LCS)"
   ]
  },
  {
   "cell_type": "markdown",
   "metadata": {
    "ExecuteTime": {
     "end_time": "2021-10-24T15:02:24.962008Z",
     "start_time": "2021-10-24T15:02:24.947021Z"
    }
   },
   "source": [
    "Attracting LCS can be sought among trajectories of the differential equation:\n",
    "\n",
    "\\begin{equation}\n",
    "\\mathbf{x}'_0 = \\xi_2(\\mathbf{x}_0;t_0, t_N),\n",
    "\\label{eq: stretchlines}\n",
    "\\end{equation}\n",
    "\n",
    "with $ \\xi_2 $ denoting the eigenvector associated to the strongest eigenvalue $ \\lambda_2 $ of $ C_{t_0}^{t_N}(\\mathbf{x}_0) $. The non-orientable vector field is well defiend away from tensorline singularites (points where $ \\lambda_1 = \\lambda_2 $).\n",
    "The most attracting stretchlines mark initial positions of attracting LCSs. Attracting LCSs can therefore be located as trajectories of eq. \\ref{eq: stretchlines} that have locally the smallest averaged $ \\lambda_1(\\mathbf{x}_0;t_0, t_N) $ among all neighbouring stretchlines."
   ]
  },
  {
   "cell_type": "code",
   "execution_count": null,
   "metadata": {
    "ExecuteTime": {
     "end_time": "2022-06-09T15:07:16.558047Z",
     "start_time": "2022-06-09T15:07:16.511Z"
    },
    "code_folding": []
   },
   "outputs": [],
   "source": [
    "# Step-size used for integration\n",
    "step_size = 0.05 # float\n",
    "\n",
    "# threshold distance to locate local maxima in the 'eig2'\n",
    "min_distance = 0.05 # float\n",
    "\n",
    "# Maximum length of stretchline\n",
    "max_length = 5 # float\n",
    "\n",
    "# Number of most relevant tensorlines. If you want all possible tensorlines, then set n_tensorlines = -1\n",
    "n_tensorlines = 10 # int\n",
    "\n",
    "# Minimum threshold on rate of attraction of stretchline \n",
    "hyperbolicity = 0\n",
    "# Maximum threshold on number of iterations\n",
    "n_iterations = 10**3\n",
    "\n",
    "# Compute stretchlines\n",
    "stretchlines = _tensorlines_incompressible(X_domain, Y_domain, eig2, e2, min_distance, max_length, step_size, n_tensorlines, hyperbolicity, n_iterations, verbose = False) # list containing stretchlines\n",
    "\n",
    "# NOTE: \n",
    "# If we set verbose = True in _tensorlines_incompressible(), then progress bar is printed.\n",
    "# Each progress bar represents the computation of a single stretchline starting from a local maximum of lambda_2. \n",
    "# If the progress bar does not complete this means that the algorithm converged before reaching its limit on the iterations.\n",
    "# The algorithm is guaranteed to converge, however, in order to avoid long waiting times we employ a threshold on the number of iterations."
   ]
  },
  {
   "cell_type": "code",
   "execution_count": null,
   "metadata": {
    "ExecuteTime": {
     "end_time": "2022-06-09T15:07:16.558047Z",
     "start_time": "2022-06-09T15:07:16.512Z"
    },
    "code_folding": [
     0
    ]
   },
   "outputs": [],
   "source": [
    "############################################ PLOT RESULTS ############################################\n",
    "import matplotlib.pyplot as plt\n",
    "\n",
    "# Define figure/axes\n",
    "fig = plt.figure(figsize = (8, 4), dpi = 600)\n",
    "ax = plt.axes()\n",
    "\n",
    "for i in range(len(stretchlines[0])):\n",
    "    ax.plot(stretchlines[0][i], stretchlines[1][i], c = 'b', linewidth = 1, linestyle = \"dashed\")\n",
    "    \n",
    "for i in range(len(shrinklines[0])):\n",
    "    ax.plot(shrinklines[0][i], shrinklines[1][i], c = 'r', linewidth = 1, linestyle = \"dashed\")\n",
    "    \n",
    "# add FTLE field to plot\n",
    "cax = ax.contourf(X_domain, Y_domain, np.ma.masked_invalid(FTLE), levels = 400, cmap = \"gist_gray\")    \n",
    "\n",
    "# Set axis limits\n",
    "ax.set_xlim([xmin, xmax])\n",
    "ax.set_ylim([ymin, ymax])\n",
    "\n",
    "# Set axis ticks\n",
    "ax.set_xticks(np.arange(xmin, xmax+0.1, .5))\n",
    "ax.set_yticks(np.arange(ymin, ymax+0.1, .5))\n",
    "\n",
    "# Set axis labels\n",
    "ax.set_xlabel(\"x\", fontsize = 10)\n",
    "ax.set_ylabel(\"y\", fontsize = 10)\n",
    "\n",
    "# Colorbar\n",
    "cbar = fig.colorbar(cax, ticks = np.arange(0, 1, 0.05))\n",
    "\n",
    "# Plot legend\n",
    "import matplotlib.patches as mpatches\n",
    "attracting = mpatches.Patch(color='b', label='attracting LCS')\n",
    "repelling = mpatches.Patch(color='r', label='repelling LCS')\n",
    "plt.legend(handles=[attracting, repelling], fontsize = 5,  loc = \"lower left\")\n",
    "\n",
    "# Title\n",
    "ax.set_title(\"ATTRACTING/REPELLING LCS over forward FTLE\", fontsize = 10)\n",
    "plt.show();"
   ]
  },
  {
   "cell_type": "markdown",
   "metadata": {},
   "source": [
    "Similarly, we can obtain both repelling and attracting LCS at time $ t_N $ from a single backward computation of the backward flow map $ \\mathbf{F}_{t_N}^{t_0}(\\mathbf{x}_0) $. Obtaining positions of repelling LCSs at time $ t \\in [t_0, t_N] $ from the forward forward computation remains problematic as it requires the forward advection of a discrete approximation of the repelling LCSs under the flow map $ \\mathbf{F}_{t_0}^{t}(\\mathbf{x}_0) $, generating exponentially growing errors. An analogous statement holds for attracting LCSs at time $ t_N $ by using backward advection under the backward flow map $ \\mathbf{F}_{t_N}^{t}(\\mathbf{x}_0) $.\n",
    "\n",
    "Compared to the [$ \\mathrm{FTLE} $](../../FTLE2D/Main/FTLETurbulence.ipynb), which is only a diagnostic quantity used for visualizing possible hyperbolic LCSs, the repelling/attracting LCSs derived from the tensorline computation are precise indicators of hyperbolic LCSs. As expected repelling LCS (red solid lines) match well with ridges of the $ \\mathrm{FTLE} $ field. Furthermore, due to the orthogonality of the two eigenvector fields $ \\mathbf{\\xi}_1 $ and $ \\mathbf{\\xi}_2 $, repelling LCS need always be orthogonal to attracting LCS. Intersections of repelling and attracting LCSs are referred to as generalized finite-time saddles[1, 2, 3]."
   ]
  },
  {
   "cell_type": "markdown",
   "metadata": {},
   "source": [
    "# References\n",
    "\n",
    "[1] Farazmand, M., & Haller, G. (2012). Computing Lagrangian coherent structures from their variational theory. Chaos: An Interdisciplinary Journal of Nonlinear Science, 22(1), 013128.\n",
    "\n",
    "[2] Farazmand, M., & Haller, G. (2013). Attracting and repelling Lagrangian coherent structures from a single computation. Chaos: An Interdisciplinary Journal of Nonlinear Science, 23(2), 023101.\n",
    "\n",
    "[3] Onu, K., Huhn, F., & Haller, G. (2015). LCS Tool: A computational platform for Lagrangian coherent structures. Journal of Computational Science, 7, 26-36.\n",
    "\n",
    "[4] Notebook 5.3.2 in \"Transport Barriers and Coherent Structures in Flow Data\" by Prof. George Haller."
   ]
  }
 ],
 "metadata": {
  "hide_input": false,
  "kernelspec": {
   "display_name": "Python 3",
   "language": "python",
   "name": "python3"
  },
  "language_info": {
   "codemirror_mode": {
    "name": "ipython",
    "version": 3
   },
   "file_extension": ".py",
   "mimetype": "text/x-python",
   "name": "python",
   "nbconvert_exporter": "python",
   "pygments_lexer": "ipython3",
   "version": "3.7.12"
  },
  "latex_envs": {
   "LaTeX_envs_menu_present": true,
   "autoclose": false,
   "autocomplete": true,
   "bibliofile": "biblio.bib",
   "cite_by": "apalike",
   "current_citInitial": 1,
   "eqLabelWithNumbers": true,
   "eqNumInitial": 1,
   "hotkeys": {
    "equation": "Ctrl-E",
    "itemize": "Ctrl-I"
   },
   "labels_anchors": false,
   "latex_user_defs": false,
   "report_style_numbering": false,
   "user_envs_cfg": false
  },
  "toc": {
   "base_numbering": "0",
   "nav_menu": {},
   "number_sections": true,
   "sideBar": true,
   "skip_h1_title": false,
   "title_cell": "Table of Contents",
   "title_sidebar": "Contents",
   "toc_cell": false,
   "toc_position": {
    "height": "calc(100% - 180px)",
    "left": "10px",
    "top": "150px",
    "width": "195.594px"
   },
   "toc_section_display": true,
   "toc_window_display": true
  }
 },
 "nbformat": 4,
 "nbformat_minor": 4
}
