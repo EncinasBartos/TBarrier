{
 "cells": [
  {
   "cell_type": "markdown",
   "metadata": {},
   "source": [
    "This function checks the orientation of the vector field and computes the local (linear) interpolant of the vector-field.\n",
    "\n",
    "| Name | Type (Shape) | Description |\n",
    "| --- | --- | --- |\n",
    "| X | array (Ny, Nx) | X-meshgrid |\n",
    "| Y | array (Ny, Nx) | Y-meshgrid |\n",
    "| x | array (2,) | tensorline position $ \\mathbf{x} $ |\n",
    "| x_prime | array (2,) | eigenvector at point $ \\mathbf{x} $ (=tangent to tensorline)|\n",
    "| vector_field | array(Ny, Nx) | eigenvector field (not oriented)|"
   ]
  },
  {
   "cell_type": "code",
   "execution_count": null,
   "metadata": {},
   "outputs": [],
   "source": [
    "# Import numpy\n",
    "import numpy as np\n",
    "\n",
    "# import Rectangular bivariate spline from scipy\n",
    "from scipy.interpolate import RectBivariateSpline as RBS"
   ]
  },
  {
   "cell_type": "code",
   "execution_count": null,
   "metadata": {},
   "outputs": [],
   "source": [
    "def _orient_vectorfield(X, Y, x, vector_field):\n",
    "            \n",
    "        # Check location of particles with respect to the indices of the meshgrid\n",
    "        idx_x = np.searchsorted(X[0,:], x[0])\n",
    "        idx_y = np.searchsorted(Y[:,0], x[1])\n",
    "        \n",
    "        # If idx_x, idx_y is within indices of meshgrid\n",
    "        if 0 < idx_x < X.shape[1] and 0 < idx_y < Y.shape[0]:\n",
    "    \n",
    "            # compute reduced meshgrid around point\n",
    "            X_reduced, Y_reduced = X[idx_y-1:idx_y+1, idx_x-1:idx_x+1], Y[idx_y-1:idx_y+1, idx_x-1:idx_x+1]\n",
    "            vx_grid = np.array([[vector_field[idx_y-1,idx_x-1, 0], vector_field[idx_y, idx_x-1, 0]],\n",
    "                      [vector_field[idx_y-1,idx_x, 0], vector_field[idx_y, idx_x, 0]]])\n",
    "            vy_grid = np.array([[vector_field[idx_y-1,idx_x-1, 1], vector_field[idx_y, idx_x-1, 1]],\n",
    "                      [vector_field[idx_y-1,idx_x, 1], vector_field[idx_y, idx_x, 1]]])\n",
    "        \n",
    "            # re-orient velocities in the reduced meshgrid\n",
    "            for i in range(2):\n",
    "                for j in range(2):\n",
    "                    if vx_grid[0, 0]*vx_grid[i, j]+vy_grid[0, 0]*vy_grid[i, j] < 0:\n",
    "                        vx_grid[i, j] = -vx_grid[i, j]\n",
    "                        vy_grid[i, j] = -vy_grid[i, j]\n",
    "    \n",
    "            # linearly interpolate the (re-oriented) velocity within the reduced meshgrid\n",
    "            vx_Interp = RBS(Y_reduced[:,0], X_reduced[0,:], vx_grid, kx = 1, ky = 1)\n",
    "            vy_Interp = RBS(Y_reduced[:,0], X_reduced[0,:], vy_grid, kx = 1, ky = 1)\n",
    "        \n",
    "            # evalute interpolated (re-oriented) velocity\n",
    "            return vx_Interp(x[1], x[0])[0][0], vy_Interp(x[1], x[0])[0][0]\n",
    "        \n",
    "        else:\n",
    "            \n",
    "            return None, None"
   ]
  }
 ],
 "metadata": {
  "kernelspec": {
   "display_name": "Python 3 (ipykernel)",
   "language": "python",
   "name": "python3"
  },
  "language_info": {
   "codemirror_mode": {
    "name": "ipython",
    "version": 3
   },
   "file_extension": ".py",
   "mimetype": "text/x-python",
   "name": "python",
   "nbconvert_exporter": "python",
   "pygments_lexer": "ipython3",
   "version": "3.7.11"
  },
  "toc": {
   "base_numbering": 1,
   "nav_menu": {},
   "number_sections": true,
   "sideBar": true,
   "skip_h1_title": false,
   "title_cell": "Table of Contents",
   "title_sidebar": "Contents",
   "toc_cell": false,
   "toc_position": {},
   "toc_section_display": true,
   "toc_window_display": false
  }
 },
 "nbformat": 4,
 "nbformat_minor": 4
}
