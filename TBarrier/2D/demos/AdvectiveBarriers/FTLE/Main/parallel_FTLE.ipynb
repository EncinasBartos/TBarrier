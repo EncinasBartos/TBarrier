{
 "cells": [
  {
   "cell_type": "code",
   "execution_count": 5,
   "id": "8c618d44",
   "metadata": {
    "ExecuteTime": {
     "end_time": "2021-12-21T16:02:41.597327Z",
     "start_time": "2021-12-21T16:02:41.579376Z"
    }
   },
   "outputs": [],
   "source": [
    "# Import package which checks particle location\n",
    "from ipynb.fs.defs.check_location import check_location\n",
    "\n",
    "# Import gradient of flow map\n",
    "from ipynb.fs.defs.gradient_flowmap import gradient_flowmap\n",
    "\n",
    "# Import package for computing CauchyGreen (CG) strain tensor\n",
    "from ipynb.fs.defs.CauchyGreen import CauchyGreen\n",
    "\n",
    "# Import package for computing Finite-Time Lyapunov Exponent (FTLE)\n",
    "from ipynb.fs.defs.FTLE import _FTLE\n",
    "\n",
    "# import numpy\n",
    "import numpy as np"
   ]
  },
  {
   "cell_type": "code",
   "execution_count": 6,
   "id": "1f6b24e5",
   "metadata": {
    "ExecuteTime": {
     "end_time": "2021-12-21T16:02:42.047259Z",
     "start_time": "2021-12-21T16:02:42.027618Z"
    }
   },
   "outputs": [],
   "source": [
    "# parallel computation of FTLE over meshgrid.\n",
    "def parallel_FTLE(time, X_domain, Y_domain, X, Y, time_data, Interpolant, periodic, defined_domain, bool_unsteady, dt_data, delta, aux_grid, i):\n",
    "    \n",
    "    FTLE_parallel = X_domain[0,:].copy()*np.nan\n",
    "    \n",
    "    for j in range(X_domain.shape[1]):\n",
    "        \n",
    "        print(\"i:\", i)\n",
    "        print(\"j:\", j)\n",
    "        \n",
    "        # set initial condition\n",
    "        x = np.array([X_domain[i, j], Y_domain[i, j]])\n",
    "        \n",
    "        print(x)\n",
    "        \n",
    "        # only compute FTLE for trajectories starting region where velocity field is defined\n",
    "        if check_location(X, Y, defined_domain, x)[0] == \"IN\":\n",
    "    \n",
    "            # compute gradient of flow map from finite differencing \n",
    "            gradFmap = gradient_flowmap(time, x, X, Y, time_data, Interpolant, periodic, defined_domain, bool_unsteady, dt_data, delta, aux_grid)\n",
    "        \n",
    "            # gradFmap has shape (2, 2, len(time)) --> we need gradient of flow map from t0 to tN\n",
    "            gradFmap_t0_tN = gradFmap[:,:,-1]\n",
    "        \n",
    "            # compute CG\n",
    "            C = CauchyGreen(gradFmap_t0_tN)\n",
    "            \n",
    "            # compute FTLE from CG\n",
    "            FTLE_parallel[j] = _FTLE(C, lenT)\n",
    "        \n",
    "    return FTLE_parallel"
   ]
  },
  {
   "cell_type": "code",
   "execution_count": null,
   "id": "7b007a03",
   "metadata": {},
   "outputs": [],
   "source": []
  }
 ],
 "metadata": {
  "kernelspec": {
   "display_name": "Python 3",
   "language": "python",
   "name": "python3"
  },
  "language_info": {
   "codemirror_mode": {
    "name": "ipython",
    "version": 3
   },
   "file_extension": ".py",
   "mimetype": "text/x-python",
   "name": "python",
   "nbconvert_exporter": "python",
   "pygments_lexer": "ipython3",
   "version": "3.7.12"
  },
  "toc": {
   "base_numbering": 1,
   "nav_menu": {},
   "number_sections": true,
   "sideBar": true,
   "skip_h1_title": false,
   "title_cell": "Table of Contents",
   "title_sidebar": "Contents",
   "toc_cell": false,
   "toc_position": {},
   "toc_section_display": true,
   "toc_window_display": false
  }
 },
 "nbformat": 4,
 "nbformat_minor": 5
}
