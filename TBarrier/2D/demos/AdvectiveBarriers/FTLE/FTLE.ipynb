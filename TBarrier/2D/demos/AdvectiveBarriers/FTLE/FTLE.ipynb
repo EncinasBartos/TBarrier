{
 "cells": [
  {
   "cell_type": "markdown",
   "metadata": {},
   "source": [
    "The Finite Time Lyapunov Exponent ($\\mathrm{FTLE}$) is computed from the maximum eigenvalue $ \\lambda_2 $ of the Cauchy-Green strain tensor $ C_{t_0}^{t_N}(\\mathbf{x}_0) $:\n",
    "\n",
    "\\begin{equation}\n",
    "\\mathrm{FTLE}_{t_0}^{t_N} = \\dfrac{1}{2(t_N-t_0)}\\log(\\lambda_2)\n",
    "\\end{equation}\n",
    "\n",
    "where $ \\lambda_2 $ denotes the maximum eigenvalue associated to the eigenvector $ \\mathbf{\\xi}_i(\\mathbf{x}_0; t_0, t_N) $ of $ C_{t_0}^{t_N}(\\mathbf{x}_0) $."
   ]
  },
  {
   "cell_type": "markdown",
   "metadata": {},
   "source": [
    "| Name | Type (Shape) | Description |\n",
    "| --- | --- | --- |\n",
    "| C | array (2, 2) | $ C_{t_0}^{t_N} $|\n",
    "| lenT | float | $ t_N-t_0 $ |\n",
    "| FTLE | float | maximum $ \\mathrm{\\overline{FTLE}}_{t_0}^{t_N} $|"
   ]
  },
  {
   "cell_type": "code",
   "execution_count": 1,
   "metadata": {},
   "outputs": [],
   "source": [
    "# Here we just add necessary folders to the path\n",
    "import sys, os\n",
    "\n",
    "# get current directory\n",
    "path = os.getcwd()\n",
    "\n",
    "# get parent directory\n",
    "parent_directory = os.path.sep.join(path.split(os.path.sep)[:-3])\n",
    "\n",
    "# add utils folder to current working path\n",
    "sys.path.append(parent_directory+\"/subfunctions/utils\")"
   ]
  },
  {
   "cell_type": "code",
   "execution_count": null,
   "metadata": {},
   "outputs": [],
   "source": [
    "# Import numpy\n",
    "import numpy as np\n",
    "\n",
    "# Import function which calculates eigenvalues/eigenvectors in 2D\n",
    "from ipynb.fs.defs.eigen import eigen"
   ]
  },
  {
   "cell_type": "code",
   "execution_count": 2,
   "metadata": {},
   "outputs": [],
   "source": [
    "def _FTLE(C, lenT):\n",
    "        \n",
    "    # compute maximum eigenvalue of CG strain tensor\n",
    "    lambda_max = eigen(C)[1]\n",
    "    \n",
    "    # If lambda_max < 1, then set to 1. This happens due to numerical inaccuracies\n",
    "    if lambda_max < 1:\n",
    "        return 0\n",
    "                        \n",
    "    return 1/(2*lenT)*np.log(lambda_max)"
   ]
  }
 ],
 "metadata": {
  "kernelspec": {
   "display_name": "Python 3",
   "language": "python",
   "name": "python3"
  },
  "language_info": {
   "codemirror_mode": {
    "name": "ipython",
    "version": 3
   },
   "file_extension": ".py",
   "mimetype": "text/x-python",
   "name": "python",
   "nbconvert_exporter": "python",
   "pygments_lexer": "ipython3",
   "version": "3.7.11"
  },
  "toc": {
   "base_numbering": 1,
   "nav_menu": {},
   "number_sections": true,
   "sideBar": true,
   "skip_h1_title": false,
   "title_cell": "Table of Contents",
   "title_sidebar": "Contents",
   "toc_cell": false,
   "toc_position": {},
   "toc_section_display": true,
   "toc_window_display": false
  }
 },
 "nbformat": 4,
 "nbformat_minor": 4
}
