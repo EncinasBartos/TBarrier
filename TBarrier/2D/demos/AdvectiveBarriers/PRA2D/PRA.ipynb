{
 "cells": [
  {
   "cell_type": "markdown",
   "metadata": {},
   "source": [
    "The Polar Rotation Angle (PRA) is computed from the left and right singular vectors of $ \\xi_i, \\eta_i $ (with i = 1, 2) of the gradient of the flow map $ \\mathbf{\\nabla F}_{t_0}^{t_N}(\\mathbf{x}_0) $:\n",
    "\n",
    "\\begin{equation}\n",
    "\\mathrm{PRA}_{t_0}^{t_N}(\\mathbf{x}_0) = \\langle \\xi_1(\\mathbf{x}_0;t_0, t_N), \\eta_1(\\mathbf{x}_0;t_0, t_N) \\rangle = \\langle \\xi_2(\\mathbf{x}_0;t_0, t_N), \\eta_2(\\mathbf{x}_0;t_0, t_N) \\rangle\n",
    "\\end{equation}\n",
    "\n",
    "As the maximum eigenvalue is less sensitive with respect to numerical errors, it is recommended to use the dominant eigenvectors $ \\xi_2, \\eta_2 $ in order to compute $ \\mathrm{PRA}_{t_0}^{t_N}(\\mathbf{x}_0) $."
   ]
  },
  {
   "cell_type": "markdown",
   "metadata": {
    "ExecuteTime": {
     "end_time": "2021-10-25T07:40:09.687566Z",
     "start_time": "2021-10-25T07:40:09.684107Z"
    }
   },
   "source": [
    "| Name | Type (Shape) | Description |\n",
    "| --- | --- | --- |\n",
    "| grad_Fmap | array (2, 2) | $ \\mathbf{\\nabla F}_{t_0}^{t_N}(\\mathbf{x}_0) $|\n",
    "| PRA | float | $ \\mathrm{PRA}_{t_0}^{t_N}(\\mathbf{x}_0) $|"
   ]
  },
  {
   "cell_type": "code",
   "execution_count": 1,
   "metadata": {},
   "outputs": [],
   "source": [
    "# Import numpy\n",
    "import numpy as np\n",
    "\n",
    "# Import arccos from math\n",
    "from math import acos\n",
    "\n",
    "# Import function to compute singular values/vectors of two-dimensional matrix\n",
    "from ipynb.fs.defs.SVD import SVD"
   ]
  },
  {
   "cell_type": "code",
   "execution_count": 2,
   "metadata": {},
   "outputs": [],
   "source": [
    "def _PRA(grad_Fmap):\n",
    "                \n",
    "    P, SIG, Q = SVD(grad_Fmap)\n",
    "            \n",
    "    if P[1, 0]*Q[1, 0]+P[1, 1]*Q[1, 1] > 1 or P[1, 0]*Q[1, 0]+P[1, 1]*Q[1, 1] < -1:\n",
    "                \n",
    "        PRA = 0\n",
    "                \n",
    "    else:\n",
    "            \n",
    "        PRA = acos(P[1, 0]*Q[1, 0]+P[1, 1]*Q[1, 1])\n",
    "        \n",
    "    return PRA"
   ]
  }
 ],
 "metadata": {
  "kernelspec": {
   "display_name": "Python 3",
   "language": "python",
   "name": "python3"
  },
  "language_info": {
   "codemirror_mode": {
    "name": "ipython",
    "version": 3
   },
   "file_extension": ".py",
   "mimetype": "text/x-python",
   "name": "python",
   "nbconvert_exporter": "python",
   "pygments_lexer": "ipython3",
   "version": "3.7.12"
  },
  "toc": {
   "base_numbering": 1,
   "nav_menu": {},
   "number_sections": true,
   "sideBar": true,
   "skip_h1_title": false,
   "title_cell": "Table of Contents",
   "title_sidebar": "Contents",
   "toc_cell": false,
   "toc_position": {},
   "toc_section_display": true,
   "toc_window_display": false
  }
 },
 "nbformat": 4,
 "nbformat_minor": 4
}
