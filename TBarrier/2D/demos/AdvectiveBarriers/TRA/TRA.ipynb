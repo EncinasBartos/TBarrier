{
 "cells": [
  {
   "cell_type": "markdown",
   "metadata": {},
   "source": [
    "The Trajectory Rotation Average $ (\\mathrm{\\overline{TRA}}_{t_0}^{t_N}) $ is computed from the velocity along the particle trajectories. The time-interval $ [t_0, t_N] $ is discretized with a resolution of N."
   ]
  },
  {
   "cell_type": "markdown",
   "metadata": {},
   "source": [
    "\\begin{equation}\n",
    "\\mathrm{\\overline{TRA}}_{t_0}^{t_N} = \\dfrac{1}{t_N-t_0} \\sum_{i = 0}^{N-1} \\cos^{-1}\\dfrac{\\langle \\mathbf{\\dot{x}}(t_i), \\mathbf{\\dot{x}}(t_{i+1}) \\rangle+\\mathrm{v}_0^2}{\\sqrt{|\\mathbf{\\dot{x}}(t_i)|^2+\\mathrm{v}_0^2}\\sqrt{|\\mathbf{\\dot{x}}(t_{i+1})|^2+\\mathrm{v}_0^2}}\n",
    "\\end{equation}"
   ]
  },
  {
   "cell_type": "markdown",
   "metadata": {},
   "source": [
    "| Name | Type (Shape) | Description |\n",
    "| --- | --- | --- |\n",
    "| lenT | float | $ t_N-t_0 $ |\n",
    "| v0 | float | $ \\mathrm{v}_0 $|\n",
    "| velocity | array (2, N) | velocity along trajectories over the <br /> discretized time-interval with resolution N|\n",
    "| TRA | float | $ \\mathrm{\\overline{TRA}}_{t_0}^{t_N} $|"
   ]
  },
  {
   "cell_type": "code",
   "execution_count": null,
   "metadata": {},
   "outputs": [],
   "source": [
    "# Import numpy\n",
    "import numpy as np\n",
    "\n",
    "# Import symbols from math\n",
    "from math import sqrt, acos"
   ]
  },
  {
   "cell_type": "code",
   "execution_count": 1,
   "metadata": {},
   "outputs": [],
   "source": [
    "def _TRA(lenT, velocity, v0 = 0):\n",
    "    \n",
    "    TRA = []\n",
    "        \n",
    "    # Iterate over trajectory\n",
    "    for k in range(velocity.shape[1]-1):\n",
    "                \n",
    "        # velocity at time 'k'\n",
    "        velx0 = velocity[0, k]\n",
    "        vely0 = velocity[1, k]\n",
    "            \n",
    "        vel0 = sqrt(velx0**2+vely0**2+v0**2)\n",
    "                \n",
    "        # velocity at time 'k+1'\n",
    "        velx1 = velocity[0, k+1]\n",
    "        vely1 = velocity[1, k+1]\n",
    "                \n",
    "        vel1 = sqrt(velx1**2+vely1**2+v0**2)\n",
    "        \n",
    "        # if velocity is identical to zero then return nan\n",
    "        if vel1 == 0 and vel0 == 0:\n",
    "            return np.nan\n",
    "        \n",
    "        argcos = (velx0*velx1+vely0*vely1+v0**2)/(vel0*vel1)\n",
    "        \n",
    "        if argcos > 1:\n",
    "            argcos = 1\n",
    "        elif argcos < -1:\n",
    "            argcos = -1\n",
    "                \n",
    "        TRA.append(abs(acos(argcos)))\n",
    "    \n",
    "    # Compute sum and then normalize by length of time        \n",
    "    return np.sum(TRA)/lenT"
   ]
  }
 ],
 "metadata": {
  "kernelspec": {
   "display_name": "Python 3 (ipykernel)",
   "language": "python",
   "name": "python3"
  },
  "language_info": {
   "codemirror_mode": {
    "name": "ipython",
    "version": 3
   },
   "file_extension": ".py",
   "mimetype": "text/x-python",
   "name": "python",
   "nbconvert_exporter": "python",
   "pygments_lexer": "ipython3",
   "version": "3.7.11"
  },
  "toc": {
   "base_numbering": 1,
   "nav_menu": {},
   "number_sections": true,
   "sideBar": true,
   "skip_h1_title": false,
   "title_cell": "Table of Contents",
   "title_sidebar": "Contents",
   "toc_cell": false,
   "toc_position": {},
   "toc_section_display": true,
   "toc_window_display": false
  }
 },
 "nbformat": 4,
 "nbformat_minor": 4
}
