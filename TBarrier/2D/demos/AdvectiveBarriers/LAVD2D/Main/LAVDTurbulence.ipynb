{
 "cells": [
  {
   "cell_type": "markdown",
   "metadata": {
    "ExecuteTime": {
     "end_time": "2022-01-14T11:24:14.983816Z",
     "start_time": "2022-01-14T11:24:14.969827Z"
    }
   },
   "source": [
    "We start by adding the necessary folders to the current working path."
   ]
  },
  {
   "cell_type": "code",
   "execution_count": null,
   "metadata": {
    "ExecuteTime": {
     "end_time": "2022-06-07T14:46:41.430246Z",
     "start_time": "2022-06-07T14:46:41.426618Z"
    },
    "code_folding": [
     0
    ]
   },
   "outputs": [],
   "source": [
    "# import sys/os\n",
    "import sys, os\n",
    "\n",
    "# get current directory\n",
    "path = os.getcwd()\n",
    "\n",
    "# get parent directory\n",
    "parent_directory = os.path.sep.join(path.split(os.path.sep)[:-4])\n",
    "\n",
    "# add utils folder to current working path\n",
    "sys.path.append(parent_directory+\"/subfunctions/utils\")\n",
    "\n",
    "# add integration folder to current working path\n",
    "sys.path.append(parent_directory+\"/subfunctions/integration\")\n",
    "\n",
    "# add LAVD folder to current working path\n",
    "sys.path.append(parent_directory+\"/demos/AdvectiveBarriers/LAVD2D\")"
   ]
  },
  {
   "cell_type": "markdown",
   "metadata": {},
   "source": [
    "# Overview\n",
    "\n",
    "In the following notebook we evaluate the Lagrangian Averaged Vorticity Deviation (LAVD) on a 2-D homogeneous, isotropic turbulence. The notebook is structured as follows:\n",
    "\n",
    "1. Import velocity data stored in the folder 'data/Turbulence'. Make sure that all the necessary files are stored in the folder 'data/Turbulence'.\n",
    "2. Define computational parameters (such as the number of cores) and data.\n",
    "3. Define spatio-temporal domain.\n",
    "4. Interpolate velocity from (discrete) gridded data.\n",
    "5. Lagrangian Averaged Vorticity Deviation (LAVD):\n",
    "\n",
    "    Compute trajectories launched from a regular meshgrid.\n",
    "    \n",
    "    Compute the vorticity along particle trajectories \n",
    "    \n",
    "    \\begin{equation}\n",
    "        \\mathbf{\\omega}(\\mathbf{x},t) = \\nabla \\times \\mathbf{v}(\\mathbf{x},t) \\tag{1}\n",
    "    \\end{equation}\n",
    "        \n",
    "    Compute LAVD as:\n",
    "    \n",
    "    \\begin{equation}\n",
    "        \\mathrm{LAVD}_{t_0}^{t_N}(\\mathbf{x}_0) = \\dfrac{1}{t_N-t_0} \\int_{t_0}^{t_N}| \\omega(\\mathbf{F}_{t_0}^{t}(\\mathbf{x}_0)) - \\overline{\\omega}(t) |dt, \\tag{2}\n",
    "    \\end{equation} \n",
    "        \n",
    "    where $ \\overline{\\mathbf{\\omega}(t)} $ is the spatially averaged vorticity. \n",
    " \n",
    "6. Extract vortex boundaries from LAVD using the algorithm proposed in [1]\n",
    "\n",
    " <br />\n",
    "7. References"
   ]
  },
  {
   "cell_type": "markdown",
   "metadata": {},
   "source": [
    "# Import data"
   ]
  },
  {
   "cell_type": "code",
   "execution_count": null,
   "metadata": {
    "ExecuteTime": {
     "end_time": "2022-06-07T14:46:41.755933Z",
     "start_time": "2022-06-07T14:46:41.441678Z"
    },
    "code_folding": [
     0
    ]
   },
   "outputs": [],
   "source": [
    "# import scipy\n",
    "import scipy.io\n",
    "\n",
    "# import numpy\n",
    "import numpy as np\n",
    "\n",
    "# load velocity data\n",
    "turb_u = parent_directory + r'/data/Turbulence/turb_u'\n",
    "      \n",
    "# iterate over all files in folder 'turb_u' and load velocity data\n",
    "i = 0\n",
    "U = np.zeros((1024, 1024, 251))\n",
    "V = np.zeros((1024, 1024, 251))\n",
    "for filename in sorted(os.listdir(turb_u)):\n",
    "    if filename.endswith(\".mat\"):\n",
    "        file_u = os.path.join(turb_u, filename)\n",
    "        mat_turb_u = scipy.io.loadmat(file_u)\n",
    "        U[:,:,i] = mat_turb_u['u1']\n",
    "        V[:,:,i] = mat_turb_u['u2']\n",
    "        i+=1\n",
    "\n",
    "# load x/y grid\n",
    "X = scipy.io.loadmat(parent_directory + r'/data/Turbulence/grid.mat')['x']\n",
    "Y = X.copy().transpose()"
   ]
  },
  {
   "cell_type": "markdown",
   "metadata": {},
   "source": [
    "# Computational parameters and data\n",
    "\n",
    "Here we define the computational parameters and the data."
   ]
  },
  {
   "cell_type": "code",
   "execution_count": null,
   "metadata": {
    "ExecuteTime": {
     "end_time": "2022-06-07T14:46:41.757967Z",
     "start_time": "2022-06-07T14:46:41.447Z"
    },
    "code_folding": [
     0
    ]
   },
   "outputs": [],
   "source": [
    "# Number of cores for parallel computing\n",
    "Ncores = 16\n",
    "\n",
    "# time-interval over which data is defined\n",
    "time_data = np.linspace(0, 25, 251, endpoint = True).reshape(1, -1)\n",
    "\n",
    "# time resolution of data\n",
    "dt_data = time_data[0,1]-time_data[0,0]\n",
    "\n",
    "# periodic boundary conditions\n",
    "periodic_x = True\n",
    "periodic_y = True\n",
    "periodic_t = False\n",
    "periodic = [periodic_x, periodic_y, periodic_t]\n",
    "\n",
    "# unsteady velocity field\n",
    "bool_unsteady = True\n",
    "\n",
    "# defined domain\n",
    "# This array denotes where the velocity field is defined (=1) and where it is not defined (=0)\n",
    "defined_domain = np.isfinite(U[:,:,0]).astype(int)\n",
    "\n",
    "## resolution of meshgrid\n",
    "dx_data = X[0,1]-X[0,0]\n",
    "dy_data = Y[1,0]-Y[0,0]\n",
    "\n",
    "delta = [dx_data, dy_data]"
   ]
  },
  {
   "cell_type": "markdown",
   "metadata": {},
   "source": [
    "# Spatio-temporal domain\n",
    "\n",
    "Here we define the spatio-temporal domain over which to consider the dynamical system."
   ]
  },
  {
   "cell_type": "code",
   "execution_count": null,
   "metadata": {
    "ExecuteTime": {
     "end_time": "2022-06-07T14:46:41.759559Z",
     "start_time": "2022-06-07T14:46:41.453Z"
    },
    "code_folding": [
     0
    ]
   },
   "outputs": [],
   "source": [
    "# Initial time\n",
    "t0 = 0 # float\n",
    "\n",
    "# Final time\n",
    "tN = 20 # float\n",
    "\n",
    "# Time step-size\n",
    "dt = 0.1 # float\n",
    "\n",
    "# NOTE: For computing the backward trajectories set: tN < t0 and dt < 0.\n",
    "\n",
    "time = np.arange(t0, tN+dt, dt) # shape (Nt,)\n",
    "\n",
    "# Length of time interval\n",
    "lenT = abs(tN-t0) # float\n",
    "\n",
    "# resolution\n",
    "Nx = 400\n",
    "Ny = 400\n",
    "\n",
    "# set x-limits\n",
    "xmin = 3\n",
    "xmax = 5\n",
    "\n",
    "# set x-limits\n",
    "ymin = 1\n",
    "ymax = 3\n",
    "\n",
    "# specify domain over which to compute LCS\n",
    "x_domain = np.linspace(xmin, xmax, Nx)\n",
    "y_domain = np.linspace(ymin, ymax, Ny)\n",
    "\n",
    "# make sure that domain is part of the data domain.\n",
    "assert np.min(X) <= xmin <= np.max(X), \" xmin must be between \"+f'{np.min(X)} and {np.max(X)}'\n",
    "assert np.min(X) <= xmax <= np.max(X), \" xmax must be between \"+f'{np.min(X)} and {np.max(X)}'\n",
    "assert np.min(Y) <= ymin <= np.max(Y), \" ymin must be between \"+f'{np.min(Y)} and {np.max(Y)}'\n",
    "assert np.min(Y) <= ymax <= np.max(Y), \" ymax must be between \"+f'{np.min(Y)} and {np.max(Y)}'\n",
    "assert np.min(time_data) <= t0 <= np.max(time_data), \" t0 must be between \"+f'{np.min(time_data)} and {np.max(time_data)}'\n",
    "assert np.min(time_data) <= tN <= np.max(time_data), \" tN must be between \"+f'{np.min(time_data)} and {np.max(time_data)}'\n",
    "\n",
    "# grid-spacing\n",
    "dx = x_domain[1]-x_domain[0]\n",
    "dy = y_domain[1]-y_domain[0]\n",
    "\n",
    "#compute meshgrid\n",
    "X_domain, Y_domain = np.meshgrid(x_domain, y_domain)\n",
    "\n",
    "# Define ratio of auxiliary grid spacing vs original grid_spacing\n",
    "aux_grid_ratio = .1 # float between [1/100, 1/5]\n",
    "aux_grid = [aux_grid_ratio*dx, aux_grid_ratio*dy] # list (2, )"
   ]
  },
  {
   "cell_type": "markdown",
   "metadata": {},
   "source": [
    "# Interpolate velocity\n",
    "\n",
    "In order to evaluate the velocity field at arbitrary locations and times, we interpolate the discrete velocity data. The interpolation with respect to time is always linear. The interpolation with respect to space can be chosen to be \"cubic\" or \"linear\". Default is \"cubic\". "
   ]
  },
  {
   "cell_type": "code",
   "execution_count": null,
   "metadata": {
    "ExecuteTime": {
     "end_time": "2022-06-07T14:46:41.760712Z",
     "start_time": "2022-06-07T14:46:41.460Z"
    },
    "code_folding": [
     0
    ]
   },
   "outputs": [],
   "source": [
    "# Import interpolation function for unsteady flow field\n",
    "from ipynb.fs.defs.Interpolant import interpolant_unsteady\n",
    "\n",
    "# Set nan values to zero (in case there are any) so that we can apply interpolant. \n",
    "# Interpolant does not work if the array contains nan values. \n",
    "U[np.isnan(U)] = 0\n",
    "V[np.isnan(V)] = 0\n",
    "\n",
    "# Interpolate velocity data using cubic spatial interpolation\n",
    "Interpolant = interpolant_unsteady(X, Y, U, V, method = \"cubic\")\n",
    "\n",
    "Interpolant_u = Interpolant[0] # RectangularBivariateSpline-object\n",
    "Interpolant_v = Interpolant[1] # RectangularBivariateSpline-object"
   ]
  },
  {
   "cell_type": "markdown",
   "metadata": {},
   "source": [
    "# Lagrangian Averaged Vorticity Deviation (LAVD)"
   ]
  },
  {
   "cell_type": "code",
   "execution_count": null,
   "metadata": {
    "ExecuteTime": {
     "end_time": "2022-06-07T14:46:41.762045Z",
     "start_time": "2022-06-07T14:46:41.466Z"
    },
    "code_folding": [
     0,
     16,
     20
    ]
   },
   "outputs": [],
   "source": [
    "# Import function to compute trajectories/velocity along trajectories\n",
    "from ipynb.fs.defs.integration_dFdt import integration_dFdt\n",
    "\n",
    "# Import function to compute gradient of velocity\n",
    "from ipynb.fs.defs.gradient_velocity import gradient_velocity\n",
    "\n",
    "# Import function to compute LAVD\n",
    "from ipynb.fs.defs.LAVD import _LAVD\n",
    "\n",
    "# Import function to check particle location\n",
    "from ipynb.fs.defs.check_location import check_location\n",
    "\n",
    "# Import package for parallel computing\n",
    "from joblib import Parallel, delayed\n",
    "\n",
    "# Split x0, y0 into N (equal) batches for parallel computing\n",
    "def split(a, n):\n",
    "    k, m = divmod(len(a), n)\n",
    "    return (a[i*k+min(i, m):(i+1)*k+min(i+1, m)] for i in range(n))\n",
    "\n",
    "def parallel_Omega(x0_batch, y0_batch):\n",
    "    \n",
    "    # Define array containing vorticity along a trajectory\n",
    "    omega = np.zeros((X_domain.shape[0]*X_domain.shape[1], len(time))) # array (Ny*Nx, Nt)\n",
    "    \n",
    "    # Initial conditions\n",
    "    X0 = np.array([x0_batch, y0_batch]) # array (2, Nx*Ny)\n",
    "    \n",
    "    # Compute trajectories\n",
    "    Fmap = integration_dFdt(time, X0, X, Y, Interpolant_u, Interpolant_v, periodic, bool_unsteady, time_data)[0] # array (Nt, 2, Nx*Ny)\n",
    "    \n",
    "    # Check if initial position is inside out outside flow domain.\n",
    "    for i in range(Fmap.shape[2]):\n",
    "        \n",
    "        if check_location(X, Y, defined_domain, np.array([Fmap[0,0,i], Fmap[0,1,i]]))[0] != \"IN\": # bool\n",
    "            \n",
    "            Fmap[:,:,i] = np.nan\n",
    "    \n",
    "    omega = np.zeros((Fmap.shape[0], Fmap.shape[2])) # array (Nt, Ny*Nx)\n",
    "    \n",
    "    # Iterate over time\n",
    "    for t in range(Fmap.shape[0]):\n",
    "        \n",
    "        # Compute gradient of velocity field\n",
    "        grad_vel = gradient_velocity(time[t], Fmap[t,:,:], X, Y, Interpolant_u, Interpolant_v, periodic, defined_domain, bool_unsteady, time_data, delta, aux_grid) # (2,2,Nx*Ny)\n",
    "    \n",
    "        # Compute spin tensor\n",
    "        W = .5*(grad_vel-grad_vel.transpose(1,0,2))  # array (2, 2, Ny*Nx)\n",
    "                \n",
    "        omega[t,:] = 2*W[0,1,:]\n",
    "\n",
    "        return omega"
   ]
  },
  {
   "cell_type": "code",
   "execution_count": null,
   "metadata": {
    "ExecuteTime": {
     "end_time": "2022-06-07T14:46:41.763144Z",
     "start_time": "2022-06-07T14:46:41.467Z"
    },
    "code_folding": [
     0
    ]
   },
   "outputs": [],
   "source": [
    "# Vectorize initial conditions\n",
    "x0 = X_domain.ravel() # array (Ny*Nx, )\n",
    "y0 = Y_domain.ravel() # array (Ny*Nx, )\n",
    "\n",
    "x0_batch = list(split(x0, Ncores)) # array (Ny*Nx, )\n",
    "y0_batch = list(split(y0, Ncores)) # array (Ny*Nx, )\n",
    "\n",
    "# compute parallel results\n",
    "results = Parallel(n_jobs=Ncores, verbose = 0)(delayed(parallel_Omega)(x0_batch[i], y0_batch[i]) for i in range(len(x0_batch)))\n",
    "\n",
    "# Extract Omega from results of parallel computing\n",
    "Omega = results[0]\n",
    "\n",
    "for res in results[1:]:\n",
    "    Omega = np.append(Omega, res, axis = 1)\n",
    "\n",
    "# Reshape array from vectorized form to structured meshgrid\n",
    "Omega = Omega.reshape((Omega.shape[0], X_domain.shape[0], X_domain.shape[1])) # array (Nt, Ny, Nx)\n",
    "\n",
    "# Compute LAVD from vorticity along trajectories\n",
    "LAVD = _LAVD(Omega, time)  # array (Ny, Nx)"
   ]
  },
  {
   "cell_type": "markdown",
   "metadata": {},
   "source": [
    "# Vortex boundaries from LAVD\n",
    "\n",
    "The vortex boundaries are extracted following the algorithm proposed in [1]."
   ]
  },
  {
   "cell_type": "code",
   "execution_count": null,
   "metadata": {
    "ExecuteTime": {
     "end_time": "2022-06-07T14:46:41.764194Z",
     "start_time": "2022-06-07T14:46:41.474Z"
    },
    "code_folding": [
     0
    ]
   },
   "outputs": [],
   "source": [
    "# Import function to compute outermost vortex boundary according to [1]\n",
    "from ipynb.fs.defs.find_outermost_contour import find_outermost_contour\n",
    "\n",
    "# Minimum distance between local maxima in the LAVD field\n",
    "distance = 0.2 # float >=0\n",
    "\n",
    "# Resolution of LAVD field when extracting contours\n",
    "n = 200 # int\n",
    "\n",
    "# Convexity deficiency\n",
    "c_d = 10**(-5) # float > 0\n",
    "\n",
    "# Reject local maxima below this threshold\n",
    "loc_threshold = 0.65*np.max(LAVD) # float >= 0\n",
    "\n",
    "# Minimum length of vortex boundary\n",
    "l_min = 0.1 # float >= 0\n",
    "\n",
    "# find outermost contour satisfying the specifi conditions = estimated vortex boundary.\n",
    "vortex = find_outermost_contour(X_domain, Y_domain, LAVD, distance, n, c_d, l_min, loc_threshold, Ncores) # list containing vortex boundaries"
   ]
  },
  {
   "cell_type": "code",
   "execution_count": null,
   "metadata": {
    "ExecuteTime": {
     "end_time": "2022-06-07T14:46:41.765363Z",
     "start_time": "2022-06-07T14:46:41.475Z"
    },
    "code_folding": [
     0
    ]
   },
   "outputs": [],
   "source": [
    "############################################ PLOT RESULTS ############################################\n",
    "import matplotlib.pyplot as plt\n",
    "\n",
    "# Figure/Axis\n",
    "fig = plt.figure(figsize=(8, 4), dpi = 600)\n",
    "ax = plt.axes()\n",
    "\n",
    "# Contourplot of LAVD over meshgrid of initial conditions\n",
    "cax = ax.contourf(X_domain, Y_domain, LAVD, cmap = \"rainbow\", levels = 600)\n",
    "\n",
    "# Axis Labels\n",
    "ax.set_xlabel(\"x\", fontsize = 10)\n",
    "ax.set_ylabel(\"y\", fontsize = 10)\n",
    "\n",
    "# plot vortex boundaries\n",
    "for v in vortex:\n",
    "    ax.plot(v[0], v[1], c = \"k\", linestyle = \"solid\", linewidth = 1)\n",
    "\n",
    "# Set axis ticks\n",
    "ax.set_xticks(np.arange(xmin, xmax+0.1, .5))\n",
    "ax.set_yticks(np.arange(ymin, ymax+0.1, .5))\n",
    "\n",
    "# Colorbar\n",
    "cbar = fig.colorbar(cax, ticks = np.arange(0, .1, .01))\n",
    "\n",
    "# Title\n",
    "ax.set_title(r'$ \\mathrm{LAVD}$'+f'$_{{{int(time[0])}}}^{{{int(time[-1])}}}$', fontsize = 10)\n",
    "\n",
    "plt.show()"
   ]
  },
  {
   "cell_type": "markdown",
   "metadata": {},
   "source": [
    "Vortical flow regions are identified as closed level curves around local extrema of the $ \\mathrm{LAVD} $ satisfying specific conditions. The closed black lines indicate the identified vortex boundaries. The elliptic LCSs are clearly visible as concentric closed contours of the $ \\mathrm{LAVD} $ at time $ t_0 $. These elliptic islands clearly distinguish vortical regions from the remaining flow. Note that the $ \\mathrm{LAVD} $ highlights more vortical flow structures than other commonly and more reliably used rotation diagnostics such as the [EllipticLCS](../../EllipticLCS/Main/EllipticLCSTurbulence.ipynb) or the [PRA](../../PRA2D/Main/PRATurbulence.ipynb)."
   ]
  },
  {
   "cell_type": "markdown",
   "metadata": {},
   "source": [
    "# References\n",
    "\n",
    "[1] Haller, G., Hadjighasem, A., Farazmand, M., & Huhn, F. (2016). Defining coherent vortices objectively from the vorticity. Journal of Fluid Mechanics, 795, 136-173.\n",
    "\n",
    "[2] Notebook 5.4. in \"Transport Barriers and Coherent Structures in Flow Data\" by Prof. George Haller."
   ]
  }
 ],
 "metadata": {
  "hide_input": false,
  "kernelspec": {
   "display_name": "Python 3",
   "language": "python",
   "name": "python3"
  },
  "language_info": {
   "codemirror_mode": {
    "name": "ipython",
    "version": 3
   },
   "file_extension": ".py",
   "mimetype": "text/x-python",
   "name": "python",
   "nbconvert_exporter": "python",
   "pygments_lexer": "ipython3",
   "version": "3.7.12"
  },
  "latex_envs": {
   "LaTeX_envs_menu_present": true,
   "autoclose": false,
   "autocomplete": true,
   "bibliofile": "biblio.bib",
   "cite_by": "apalike",
   "current_citInitial": 1,
   "eqLabelWithNumbers": true,
   "eqNumInitial": 1,
   "hotkeys": {
    "equation": "Ctrl-E",
    "itemize": "Ctrl-I"
   },
   "labels_anchors": false,
   "latex_user_defs": false,
   "report_style_numbering": false,
   "user_envs_cfg": false
  },
  "toc": {
   "base_numbering": "0",
   "nav_menu": {},
   "number_sections": true,
   "sideBar": true,
   "skip_h1_title": false,
   "title_cell": "Table of Contents",
   "title_sidebar": "Contents",
   "toc_cell": false,
   "toc_position": {},
   "toc_section_display": true,
   "toc_window_display": true
  }
 },
 "nbformat": 4,
 "nbformat_minor": 4
}
