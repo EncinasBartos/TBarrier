{
 "cells": [
  {
   "cell_type": "markdown",
   "metadata": {},
   "source": [
    "This function computes the outermost vortex boundary $ \\mathcal{B}(t_0) $ encircling vortex center $ \\mathcal{C}({t_0}) $ derived from the LAVD-field.\n",
    "\n",
    "The algorithm proceeds as follows:\n",
    "\n",
    "* Detect initial positions $ \\mathcal{C}(t_0) $ of vortex centres as local maxima of $ \\mathrm{LAVD}_{t_0}^{t_N} $.\n",
    "* Seek initial vortex boundaries $ \\mathcal{B}(t_0) $ as outermost closed contours of $ \\mathrm{LAVD}_{t_0}^{t_N}(\\mathbf{x}_0) $ satisfying all of the following condtions:\n",
    "    \n",
    "    1. $ \\mathcal{B}(t_0) $ encircles a vortex center $ \\mathcal{C}(t_0) $\n",
    "    2. $ \\mathcal{B}(t_0) $ has arclength exceeding a threshold $ l_{min} $\n",
    "    3. $ \\mathcal{B}(t_0) $ has convexity deficiency $ c_d $ below $ d_{max} $"
   ]
  },
  {
   "cell_type": "markdown",
   "metadata": {
    "ExecuteTime": {
     "end_time": "2021-12-08T11:04:14.968282Z",
     "start_time": "2021-12-08T11:04:14.963296Z"
    }
   },
   "source": [
    "| Name | Type (Shape) | Description |\n",
    "| --- | --- | --- |\n",
    "| X | array (Ny, Nx) | $ X $ | \n",
    "| Y | array (Ny, Nx) | $ Y $|\n",
    "| LAVD | array (Ny, Nx) | $ \\mathrm{LAVD}_{t_0}^{t_N} $|\n",
    "| distance | float | minimum distance between local maxima |\n",
    "| n | float | resolution of contours |\n",
    "| $ d_{max} $ | float | $ d_{max} $ |\n",
    "| l_min | float | $ l_{min} $ |\n",
    "| loc_threshold | float | threshold on local maxima |\n",
    "| Ncores | float | Number of cores used for parallel computing |\n",
    "| vortex | list | list containing vortex boundaries |"
   ]
  },
  {
   "cell_type": "code",
   "execution_count": 1,
   "metadata": {
    "ExecuteTime": {
     "end_time": "2021-12-23T23:26:54.755954Z",
     "start_time": "2021-12-23T23:26:54.752852Z"
    },
    "code_folding": [
     0
    ]
   },
   "outputs": [],
   "source": [
    "# import sys/os\n",
    "import sys, os\n",
    "\n",
    "# get current directory\n",
    "path = os.getcwd()\n",
    "\n",
    "# get parent directory\n",
    "parent_directory = os.path.sep.join(path.split(os.path.sep)[:-3])\n",
    "\n",
    "# add utils folder to current working path in order to access the functions\n",
    "sys.path.append(parent_directory+\"/subfunctions/utils\")"
   ]
  },
  {
   "cell_type": "code",
   "execution_count": 2,
   "metadata": {
    "ExecuteTime": {
     "end_time": "2021-12-23T23:26:55.527116Z",
     "start_time": "2021-12-23T23:26:54.757358Z"
    },
    "code_folding": [
     0
    ],
    "run_control": {
     "marked": true
    }
   },
   "outputs": [],
   "source": [
    "# import numpy\n",
    "import numpy as np\n",
    "\n",
    "# Import package to compute level set\n",
    "from skimage import measure\n",
    "\n",
    "# function which computes local maxima\n",
    "from ipynb.fs.defs.loc_max import _loc_max\n",
    "\n",
    "# import function to calculate area of closed curve\n",
    "from shapely.geometry import Polygon, Point\n",
    "\n",
    "# import function to compute convex hull of polygon\n",
    "from scipy.spatial import ConvexHull\n",
    "\n",
    "# Import package for progress bar\n",
    "from tqdm.notebook import tqdm\n",
    "\n",
    "# import library for parallel computing\n",
    "from joblib import Parallel, delayed"
   ]
  },
  {
   "cell_type": "code",
   "execution_count": 3,
   "metadata": {
    "ExecuteTime": {
     "end_time": "2021-12-23T23:26:55.537768Z",
     "start_time": "2021-12-23T23:26:55.528924Z"
    },
    "code_folding": [
     0
    ]
   },
   "outputs": [],
   "source": [
    "def find_outermost_contour(X, Y, LAVD, distance, n, c_d, l_min, loc_threshold, Ncores):\n",
    "    \n",
    "    min_LAVD = np.nanmin(LAVD) # float\n",
    "    \n",
    "    # Find local maxima in LAVD\n",
    "    idx_x, idx_y, loc_max_x, loc_max_y, loc_max_field = _loc_max(distance, X, Y, LAVD, loc_threshold)\n",
    "    \n",
    "    dx = X[0,1]-X[0,0] # float\n",
    "    dy = Y[1,0]-Y[0,0] # float\n",
    "    \n",
    "    # Iterate over all local maxima and find outermost level set of LAVD satisfying certain conditions   \n",
    "    def parallel_iteration(i):\n",
    "        \n",
    "        # initialize vortex to np.nan\n",
    "        B = [np.nan, np.nan] # list (2, )\n",
    "        \n",
    "        # Break statement for loops\n",
    "        BREAK = False\n",
    "        \n",
    "        C = Point(X[idx_y[i], idx_x[i]], Y[idx_y[i], idx_x[i]]) # Point object\n",
    "        \n",
    "        # iterate over level sets\n",
    "        for j in np.linspace(min_LAVD, loc_max_field[i], n):\n",
    "            \n",
    "            # Extract the x_0(\\lambda,\\phi_0)\n",
    "            contour = measure.find_contours(LAVD, j) # list\n",
    "            \n",
    "            # iterate over contours associated to level set j\n",
    "            for c in contour:\n",
    "                \n",
    "                if c.shape[0] <= 4:\n",
    "                    break\n",
    "                \n",
    "                # coordinates of contour\n",
    "                x_polygon = np.min(X) + c[:, 1]*dx # array\n",
    "                y_polygon = np.min(Y) + c[:, 0]*dy # array\n",
    "                \n",
    "                # create polygon object\n",
    "                polygon = Polygon(np.array([x_polygon,y_polygon]).T) # Polygon object\n",
    "            \n",
    "                # check if local maximum is inside contour and if trajectory is closed\n",
    "                if polygon.contains(C) and c[0,1] == c[-1,1] and c[0,0]==c[-1,0]:\n",
    "                \n",
    "                    # create convex hull\n",
    "                    convex = ConvexHull(np.array([x_polygon,y_polygon]).T)\n",
    "\n",
    "                    # Area of convex polygon (convex.volume returns the area, whereas convex.area returns the length of the perimeter in the two dimensional case)\n",
    "                    A_convex = convex.volume # float\n",
    "            \n",
    "                    # Area of polygon\n",
    "                    A = polygon.area # float\n",
    "            \n",
    "                    # Length of polygon\n",
    "                    L = polygon.length # float\n",
    "            \n",
    "                    # calculate convexity deficiency:\n",
    "                    convexity_deficiency = abs((A_convex-A)/A) # float\n",
    "            \n",
    "                    # if condition is satisfied --> break inner for loop as the vortex boundary associated to the local maximum has been found.\n",
    "                    if L > l_min and convexity_deficiency < c_d:\n",
    "                        B = [x_polygon, y_polygon]\n",
    "                        BREAK = True\n",
    "                        break\n",
    "                        \n",
    "            # Break out of second inner loop\n",
    "            if BREAK:\n",
    "                break\n",
    "        \n",
    "        return B\n",
    "    \n",
    "    # compute elliptic OECS with parallel computing\n",
    "    vortex = Parallel(n_jobs=Ncores, verbose = 50)(delayed(parallel_iteration)(i) for i in tqdm(range(len(loc_max_field))))\n",
    "    \n",
    "    return vortex"
   ]
  }
 ],
 "metadata": {
  "kernelspec": {
   "display_name": "Python 3",
   "language": "python",
   "name": "python3"
  },
  "language_info": {
   "codemirror_mode": {
    "name": "ipython",
    "version": 3
   },
   "file_extension": ".py",
   "mimetype": "text/x-python",
   "name": "python",
   "nbconvert_exporter": "python",
   "pygments_lexer": "ipython3",
   "version": "3.7.11"
  },
  "latex_envs": {
   "LaTeX_envs_menu_present": true,
   "autoclose": false,
   "autocomplete": true,
   "bibliofile": "biblio.bib",
   "cite_by": "apalike",
   "current_citInitial": 1,
   "eqLabelWithNumbers": true,
   "eqNumInitial": 1,
   "hotkeys": {
    "equation": "Ctrl-E",
    "itemize": "Ctrl-I"
   },
   "labels_anchors": false,
   "latex_user_defs": false,
   "report_style_numbering": false,
   "user_envs_cfg": false
  },
  "toc": {
   "base_numbering": 1,
   "nav_menu": {},
   "number_sections": true,
   "sideBar": true,
   "skip_h1_title": false,
   "title_cell": "Table of Contents",
   "title_sidebar": "Contents",
   "toc_cell": false,
   "toc_position": {},
   "toc_section_display": true,
   "toc_window_display": false
  }
 },
 "nbformat": 4,
 "nbformat_minor": 5
}
