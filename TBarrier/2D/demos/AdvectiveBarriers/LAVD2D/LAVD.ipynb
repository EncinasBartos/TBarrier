{
 "cells": [
  {
   "cell_type": "markdown",
   "metadata": {},
   "source": [
    "The Lagrangian Averaged Vorticity Deviation (LAVD) is computed from the vorticity $ \\omega $ as:\n",
    "\n",
    "\\begin{equation}\n",
    "    \\mathrm{LAVD}_{t_0}^{t_N}(\\mathbf{x}_0) = \\dfrac{1}{t_N-t_0} \\int_{t_0}^{t_N}| \\omega(\\mathbf{x}(t)) - \\overline{\\omega}(t) |dt \\approx \n",
    "\\dfrac{1}{t_N-t_0} \\left [\\dfrac{|\\omega(\\mathbf{x}(t_0)) - \\overline{\\omega}(t_0) | \\Delta t }{2} + \\dfrac{|\\omega(\\mathbf{x}(t_N)) - \\overline{\\omega}(t_N) | \\Delta t }{2} + \\sum_{i = 1}^{N-1}| \\omega(\\mathbf{x}(t_i)) - \\overline{\\omega}(t_i) | \\Delta t \\right]\n",
    "\\end{equation}\n",
    "\n",
    "where $ \\omega(\\mathbf{x}(t_i)) $ indicates the vorticity at $ \\mathbf{x}(t_i) $. $ \\overline{\\omega}(t) $ is the spatial average of the vorticity at time $ t $."
   ]
  },
  {
   "cell_type": "markdown",
   "metadata": {
    "ExecuteTime": {
     "end_time": "2023-01-11T21:33:05.546885Z",
     "start_time": "2023-01-11T21:33:05.535600Z"
    }
   },
   "source": [
    "\\begin{equation}\n",
    "    \\mathbf{\\omega}(\\mathbf{x},t) = \\nabla \\times \\mathbf{v}(\\mathbf{x},t) \\tag{1}\n",
    "\\end{equation}"
   ]
  },
  {
   "cell_type": "markdown",
   "metadata": {},
   "source": [
    "| Name | Type (Shape) | Description |\n",
    "| --- | --- | --- |\n",
    "| omega | array (Nt, Ny, Nx) | vorticity $ \\omega $ along trajectories|\n",
    "| times | array (Nt, )| time array, equispaced array is assumed|\n",
    "| LAVD | array (Ny, Nx) | $ \\mathrm{LAVD}_{t_0}^{t_N}(\\mathbf{x}_0) $|"
   ]
  },
  {
   "cell_type": "code",
   "execution_count": 1,
   "metadata": {
    "ExecuteTime": {
     "end_time": "2021-12-07T14:22:23.208938Z",
     "start_time": "2021-12-07T14:22:23.202678Z"
    }
   },
   "outputs": [],
   "source": [
    "import sys, os\n",
    "\n",
    "# get current directory\n",
    "path = os.getcwd()\n",
    "\n",
    "# get parent directory\n",
    "parent_directory = os.path.sep.join(path.split(os.path.sep)[:-3])\n",
    "\n",
    "# add utils folder to current working path\n",
    "sys.path.append(parent_directory+\"/subfunctions/utils\")"
   ]
  },
  {
   "cell_type": "code",
   "execution_count": null,
   "metadata": {},
   "outputs": [],
   "source": [
    "# Import numpy\n",
    "import numpy as np\n",
    "\n",
    "# Import function which calculates gradient of velocity\n",
    "from ipynb.fs.defs.gradient_velocity import gradient_velocity\n",
    "\n",
    "# Import fast scientific computing library\n",
    "from numba import njit, prange"
   ]
  },
  {
   "cell_type": "code",
   "execution_count": 2,
   "metadata": {},
   "outputs": [],
   "source": [
    "@njit(parallel=True)\n",
    "def _LAVD(omega, times):\n",
    "    \n",
    "    ''' \n",
    "    The Lagrangian Averaged Vorticity Deviation (LAVD) is computed from the vorticity with the trapezoid rule.\n",
    "    Integrate the absolute deviation of the vorticity from its spatial mean along trajectories\n",
    "    and divide by the length of the time interval.\n",
    "    \n",
    "    Parameters:\n",
    "        omega: array(Ny, Nx, Nt), the vorticity vector computed along trajectories\n",
    "        times: array(Nt, ), time array. Uniform spacing is assumed\n",
    "        \n",
    "    Returns:\n",
    "        LAVD: array(Ny,Nx), integrated |\\omega - average(\\omega)| / t_N - t_0, the LAVD field\n",
    "    '''\n",
    "    \n",
    "    # Initiliaze arrays and define some variables\n",
    "    LAVD = np.zeros((omega.shape[1], omega.shape[2])) # array (Ny, Nx)\n",
    "    lenT = times[-1] - times[0] # calculate length of time interval\n",
    "    dt = times[1] - times[0] # assume uniform dt\n",
    "    \n",
    "    # Compute spatial average of the vorticity\n",
    "    omega_avg = [] # list (Nt,)\n",
    "    for t in range(omega.shape[0]):\n",
    "        omega_avg.append(np.nanmean(omega[t,:,:].ravel())) \n",
    "    \n",
    "    # Compute LAVD through the above integration formula\n",
    "    for i in prange(omega.shape[1]):\n",
    "        for j in prange(omega.shape[2]):\n",
    "            for t in prange(omega.shape[0]):\n",
    "                \n",
    "                if t == 0 or t == omega.shape[0]-1:\n",
    "                    \n",
    "                    scaling = 1/2\n",
    "                    \n",
    "                else: \n",
    "                    \n",
    "                    scaling = 1\n",
    "                    \n",
    "                LAVD[i,j] += scaling*abs(omega[t,i,j]-omega_avg[t]) * dt\n",
    "    \n",
    "    return LAVD/lenT"
   ]
  }
 ],
 "metadata": {
  "hide_input": false,
  "kernelspec": {
   "display_name": "Python 3",
   "language": "python",
   "name": "python3"
  },
  "language_info": {
   "codemirror_mode": {
    "name": "ipython",
    "version": 3
   },
   "file_extension": ".py",
   "mimetype": "text/x-python",
   "name": "python",
   "nbconvert_exporter": "python",
   "pygments_lexer": "ipython3",
   "version": "3.7.12"
  },
  "latex_envs": {
   "LaTeX_envs_menu_present": true,
   "autoclose": false,
   "autocomplete": true,
   "bibliofile": "biblio.bib",
   "cite_by": "apalike",
   "current_citInitial": 1,
   "eqLabelWithNumbers": true,
   "eqNumInitial": 1,
   "hotkeys": {
    "equation": "Ctrl-E",
    "itemize": "Ctrl-I"
   },
   "labels_anchors": false,
   "latex_user_defs": false,
   "report_style_numbering": false,
   "user_envs_cfg": false
  },
  "toc": {
   "base_numbering": 1,
   "nav_menu": {},
   "number_sections": true,
   "sideBar": true,
   "skip_h1_title": false,
   "title_cell": "Table of Contents",
   "title_sidebar": "Contents",
   "toc_cell": false,
   "toc_position": {},
   "toc_section_display": true,
   "toc_window_display": false
  }
 },
 "nbformat": 4,
 "nbformat_minor": 4
}
