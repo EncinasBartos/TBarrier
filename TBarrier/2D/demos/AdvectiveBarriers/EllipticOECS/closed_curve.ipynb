{
 "cells": [
  {
   "cell_type": "markdown",
   "metadata": {},
   "source": [
    "This function checks checks whether the curve is closed.\n",
    "\n",
    "| Name | Type (Shape) | Description |\n",
    "| --- | --- | --- |\n",
    "| x | list | list containing x-coordinates of curve\n",
    "| y | list | list containing y-coordinates of curve\n",
    "| phi | list | list containing angle $ \\phi $ of the tangent of the curve\n",
    "| d_threshold | float | threshold distance between start and re-intersection of the closed curve."
   ]
  },
  {
   "cell_type": "code",
   "execution_count": 1,
   "metadata": {
    "ExecuteTime": {
     "end_time": "2021-12-10T00:15:06.035332Z",
     "start_time": "2021-12-10T00:15:05.950007Z"
    },
    "hide_input": false
   },
   "outputs": [],
   "source": [
    "# Import numpy\n",
    "import numpy as np\n",
    "\n",
    "# Import math symbols\n",
    "from math import sqrt, pi"
   ]
  },
  {
   "cell_type": "code",
   "execution_count": 2,
   "metadata": {
    "ExecuteTime": {
     "end_time": "2021-12-10T00:15:07.487976Z",
     "start_time": "2021-12-10T00:15:07.474954Z"
    }
   },
   "outputs": [],
   "source": [
    "# Check if curve is closed after completing one full cycle\n",
    "def _closed_curve(x, y, phi, y0, d_threshold):\n",
    "    \n",
    "    # Discard trajectories whose maximum value was not close to 2*pi\n",
    "    if max(np.abs(phi)) < 0.95*2*pi or max(np.abs(phi)) > 2*2*pi :\n",
    "        return None, None, None\n",
    "    \n",
    "    # compute normal of initial curve\n",
    "    k = -(x[1]-x[0])/(y[1]-y[0])\n",
    "    \n",
    "    # define endpoints of intersection plane\n",
    "    x0 = x[0]\n",
    "    y0 = y[0]\n",
    "    x_end1 = sqrt(d_threshold**2/(k**2+1))+x0\n",
    "    y_end1 = k*(x_end1-x0)+y0\n",
    "    x_end2 = -sqrt(d_threshold**2/(k**2+1))+x0\n",
    "    y_end2 = k*(x_end2-x0)+y0\n",
    "    \n",
    "    # compute tangent vector\n",
    "    t_vector = [x[1]-x[0], y[1]-y[0]]\n",
    "    \n",
    "    line0 = [(x_end1, y_end1), (x_end2, y_end2)]\n",
    "    \n",
    "    # iterate over curve\n",
    "    for i in range(1, x.shape[0]-1):\n",
    "        \n",
    "        # check if vector is aligned with initial tangent vector\n",
    "        if np.sign((x[i+1]-x[i])*(x[1]-x[0])+(y[i+1]-y[i])*(y[1]-y[0])) >= 0:\n",
    "            \n",
    "            # check if curve re-intersects\n",
    "            line1 = [(x[i], y[i]), (x[i+1], y[i+1])]\n",
    "            if intersects(line0, line1):\n",
    "                return x[:i+1], y[:i+1], phi[:i+1]\n",
    "        \n",
    "    return None, None, None"
   ]
  },
  {
   "cell_type": "code",
   "execution_count": 3,
   "metadata": {
    "ExecuteTime": {
     "end_time": "2021-12-10T00:15:11.415944Z",
     "start_time": "2021-12-10T00:15:11.410914Z"
    }
   },
   "outputs": [],
   "source": [
    "# assumes line segments are stored in the format [(x0,y0),(x1,y1)]\n",
    "# check if two curves intersect\n",
    "def intersects(s0,s1):\n",
    "    dx0 = s0[1][0]-s0[0][0]\n",
    "    dx1 = s1[1][0]-s1[0][0]\n",
    "    dy0 = s0[1][1]-s0[0][1]\n",
    "    dy1 = s1[1][1]-s1[0][1]\n",
    "    p0 = dy1*(s1[1][0]-s0[0][0]) - dx1*(s1[1][1]-s0[0][1])\n",
    "    p1 = dy1*(s1[1][0]-s0[1][0]) - dx1*(s1[1][1]-s0[1][1])\n",
    "    p2 = dy0*(s0[1][0]-s1[0][0]) - dx0*(s0[1][1]-s1[0][1])\n",
    "    p3 = dy0*(s0[1][0]-s1[1][0]) - dx0*(s0[1][1]-s1[1][1])\n",
    "    return (p0*p1<=0) & (p2*p3<=0)"
   ]
  }
 ],
 "metadata": {
  "kernelspec": {
   "display_name": "Python 3",
   "language": "python",
   "name": "python3"
  },
  "language_info": {
   "codemirror_mode": {
    "name": "ipython",
    "version": 3
   },
   "file_extension": ".py",
   "mimetype": "text/x-python",
   "name": "python",
   "nbconvert_exporter": "python",
   "pygments_lexer": "ipython3",
   "version": "3.7.11"
  },
  "toc": {
   "base_numbering": 1,
   "nav_menu": {},
   "number_sections": true,
   "sideBar": true,
   "skip_h1_title": false,
   "title_cell": "Table of Contents",
   "title_sidebar": "Contents",
   "toc_cell": false,
   "toc_position": {},
   "toc_section_display": true,
   "toc_window_display": false
  }
 },
 "nbformat": 4,
 "nbformat_minor": 4
}
