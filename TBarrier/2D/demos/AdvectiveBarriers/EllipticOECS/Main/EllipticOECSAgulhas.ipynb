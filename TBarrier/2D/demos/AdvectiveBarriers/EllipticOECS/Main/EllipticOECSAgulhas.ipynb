{
 "cells": [
  {
   "cell_type": "markdown",
   "metadata": {},
   "source": [
    "# Add Folders to Path"
   ]
  },
  {
   "cell_type": "code",
   "execution_count": 1,
   "metadata": {
    "ExecuteTime": {
     "end_time": "2021-12-15T01:21:23.697489Z",
     "start_time": "2021-12-15T01:21:23.682503Z"
    }
   },
   "outputs": [
    {
     "name": "stdout",
     "output_type": "stream",
     "text": [
      "Wall time: 0 ns\n"
     ]
    }
   ],
   "source": [
    "%%time\n",
    "import sys, os\n",
    "\n",
    "# get current directory\n",
    "path = os.getcwd()\n",
    "\n",
    "# get parent directory\n",
    "parent_directory = os.path.sep.join(path.split(os.path.sep)[:-4])\n",
    "\n",
    "# add utils folder to current working path\n",
    "sys.path.append(parent_directory+\"/subfunctions/utils\")\n",
    "\n",
    "# add integration folder to current working path\n",
    "sys.path.append(parent_directory+\"/subfunctions/integration\")\n",
    "\n",
    "# add EllipticOECS folder to current working path in order to access the functions\n",
    "sys.path.append(parent_directory+\"/demos/AdvectiveBarriers/EllipticOECS\")"
   ]
  },
  {
   "cell_type": "markdown",
   "metadata": {},
   "source": [
    "# Overview\n",
    "\n",
    "In the following notebok we visualize elliptic LCS in the Agulhas region from the AVISO dataset using the Polar Rotation Angle. The notebook is structured as follows:\n",
    "\n",
    "1. Import data from the file 'AVISO.mat' stored in the folder 'data'\n",
    "<br />\n",
    "2. Define computational parameters (such as the number of cores) and data\n",
    " <br />\n",
    "3. Define spatio-temporal domain.\n",
    " <br />\n",
    "4. Interpolate velocity from the (discrete) gridded data\n",
    " <br />\n",
    "5. Elliptic OECS:\n",
    "\n",
    "    * Compute gradient of velocity field $ \\mathbf{\\nabla v}(\\mathbf{x}. t) $ over meshgrid using an auxiliary meshgrid. \n",
    "   \n",
    "    * Compute rate of strain: \n",
    "    \n",
    "    \\begin{equation} \\mathbf{S}(\\mathbf{x}, t) = \\begin{pmatrix} S_{11} & S_{12} \\\\ S_{11} & S_{12} \\end{pmatrix} = \\dfrac{1}{2}(\\mathbf{\\nabla v}(\\mathbf{x}, t)+\\mathbf{\\nabla v}(\\mathbf{x}, t)^T)  \\end{equation}\n",
    "    \n",
    "    * Elliptic OECSs are closed null geodesics of the one-parameter family of Lorentzian metrics:\n",
    "    \n",
    "    \\begin{equation}\n",
    "    \\mathrm{A_{\\mu}(\\mathbf{x},t)} = S(\\mathbf{x}, t) - \\mu\\mathbf{I}, \n",
    "    \\end{equation} with $ \\mu \\in \\mathbb{R}$\n",
    "    \n",
    "    Closed null geodesics are closed curves of the system of ODE:\n",
    "    \n",
    "    \\begin{align*}\n",
    "    \\dfrac{d \\mathbf{x}}{ds} &= \\mathbf{e}_{\\phi}(s) = \\begin{pmatrix} \\cos(\\phi(s)) \\\\ \\sin(\\phi(s)) \\end{pmatrix} \\\\\n",
    "    \\dfrac{d \\phi}{ds} &= - \\dfrac{\\langle \\mathbf{e}_{\\phi}(s), (\\nabla_x A(\\mathbf{x}) \\mathbf{e}_{\\phi}(s)) \\mathbf{e}_{\\phi}(s) \\rangle}{2 \\langle \\mathbf{e}_{\\phi}, R^T A(\\mathbf{x}) \\mathbf{e}_{\\phi}(s)}, \n",
    "    \\end{align*} where $ R = \\begin{pmatrix} 0 && -1 \\\\ 1 && 0\\end{pmatrix} $. \n",
    "    \n",
    "  $ \\dfrac{d \\phi}{ds} $ depends both on $ \\mathbf{x} $ and on $ \\phi $ and can be evaluated through interpolation by first computing $ \\dfrac{\\langle \\mathbf{e}_{\\phi}(s), (\\nabla_x A(\\mathbf{x}) \\mathbf{e}_{\\phi}(s)) \\mathbf{e}_{\\phi}(s) \\rangle}{2 \\langle \\mathbf{e}_{\\phi}, R^T A(\\mathbf{x}) \\mathbf{e}_{\\phi}(s)} $ over the spatial meshgrid (X, Y) as well as over $ \\phi \\in [0, 2\\pi] $. \n",
    "    \n",
    "  It holds:\n",
    "  \\begin{equation}\n",
    "  \\dfrac{d \\phi}{ds} = -\\dfrac{\\cos^2(\\phi)[S_x^{11}(\\mathbf{x})(\\mathbf{x})\\cos(\\phi)+S_y^{11}(\\mathbf{x})\\sin(\\phi)]+[S_x^{12}(\\mathbf{x})\\cos(\\phi)+S_y^{11}(\\mathbf{x})(\\mathbf{x})\\sin(\\phi)]\\sin(2\\phi)+\\sin^2(\\phi)[S_x^{22}(\\mathbf{x})\\cos(\\phi)+S_y^{22}(\\mathbf{x})\\sin(\\phi)]}{\\sin(2\\phi)[S^{22}(\\mathbf{x})-S^{11}(\\mathbf{x})]+2\\cos(2\\phi)S^{12}(\\mathbf{x})}\n",
    "  \\end{equation}\n",
    "    \n",
    "  The set of initial conditions is given by:\n",
    "    \\begin{equation}\n",
    "    (\\mathbf{x}_0, \\phi_0)_{\\mu} = \\lbrace (\\mathbf{x}_0(\\mu, \\phi = 0), 0) \\in V: S^{11}(\\mathbf{x})- \\mu = 0 \\rbrace\n",
    "    \\end{equation}\n",
    "    \n",
    "  Furthermore the system of ODE is only well defined for\n",
    "    \n",
    "  \\begin{equation}\n",
    "    \\sin(2\\phi)[S^{22}(\\mathbf{x})-S^{11}(\\mathbf{x})]+2\\cos(2\\phi)S^{12}(\\mathbf{x}) \\neq 0\n",
    "  \\label{eq: DOE}\n",
    "  \\end{equation}\n",
    "  \n",
    "  If the trajectory violates condition $ \\ref{eq: DOE} $, then the integration is stopped. "
   ]
  },
  {
   "cell_type": "markdown",
   "metadata": {},
   "source": [
    "# Import Data"
   ]
  },
  {
   "cell_type": "code",
   "execution_count": 2,
   "metadata": {
    "ExecuteTime": {
     "end_time": "2021-12-15T01:21:23.868066Z",
     "start_time": "2021-12-15T01:21:23.747352Z"
    }
   },
   "outputs": [
    {
     "name": "stdout",
     "output_type": "stream",
     "text": [
      "Wall time: 114 ms\n"
     ]
    }
   ],
   "source": [
    "%%time\n",
    "import scipy.io as sio\n",
    "\n",
    "#Import velocity data from file in data-folder\n",
    "mat_file = sio.loadmat('../../../../data/Aviso/AVISO.mat')\n",
    "\n",
    "U = mat_file['u']\n",
    "V = mat_file['v']\n",
    "x = mat_file['x']\n",
    "y = mat_file['y']\n",
    "time_data = mat_file['t']"
   ]
  },
  {
   "cell_type": "markdown",
   "metadata": {},
   "source": [
    "# Computational parameters and data\n",
    "\n",
    "Here we define the computational parameters and the data."
   ]
  },
  {
   "cell_type": "code",
   "execution_count": 3,
   "metadata": {
    "ExecuteTime": {
     "end_time": "2021-12-15T01:21:23.883571Z",
     "start_time": "2021-12-15T01:21:23.869038Z"
    }
   },
   "outputs": [],
   "source": [
    "import numpy as np\n",
    "\n",
    "# number of cores to be used for parallel computing\n",
    "Ncores = 8\n",
    "\n",
    "# time resolution of data\n",
    "dt_data = time_data[0, 1]-time_data[0,0]\n",
    "\n",
    "# periodic boundary conditions\n",
    "periodic_x = False\n",
    "periodic_y = False\n",
    "periodic = [periodic_x, periodic_y]\n",
    "\n",
    "# unsteady velocity field\n",
    "bool_unsteady = True\n",
    "\n",
    "# defined domain\n",
    "# This array denotes where the velocity field is defined (=1) and where it is not defined (=0)\n",
    "defined_domain = np.isfinite(U[:,:,0]).astype(int)\n",
    "\n",
    "## meshgrid\n",
    "X, Y = np.meshgrid(x, y)\n",
    "\n",
    "## resolution of meshgrid\n",
    "dx_data = X[0,1]-X[0,0]\n",
    "dy_data = Y[1,0]-Y[0,0]\n",
    "\n",
    "delta = [dx_data, dy_data]"
   ]
  },
  {
   "cell_type": "markdown",
   "metadata": {},
   "source": [
    "# Spatio-temporal domain\n",
    "\n",
    "Here we define the spatio-temporal domain over which to consider the dynamical system."
   ]
  },
  {
   "cell_type": "code",
   "execution_count": 4,
   "metadata": {
    "ExecuteTime": {
     "end_time": "2021-12-15T01:21:23.898531Z",
     "start_time": "2021-12-15T01:21:23.884568Z"
    }
   },
   "outputs": [
    {
     "name": "stdout",
     "output_type": "stream",
     "text": [
      "Wall time: 973 µs\n"
     ]
    }
   ],
   "source": [
    "%%time\n",
    "# Time\n",
    "t_OECS = 0\n",
    "\n",
    "# store time in array\n",
    "time = np.array([t_OECS])\n",
    "\n",
    "# domain boundary (in degrees)\n",
    "xmin = -3\n",
    "xmax = 1\n",
    "ymin = -32\n",
    "ymax = -24\n",
    "\n",
    "# make sure that the spatio-temporal you defined are within the domain of the data\n",
    "assert (xmax <= np.max(X) and xmin >= np.min(X) and ymin >= np.min(Y) and ymax <= np.max(Y) and t_OECS >= np.min(time_data) and t_OECS <= np.max(time_data)),\"The domains you are chooising are outside the domain of the data!!!!! --> redefine spatial/temporal domain\"\n",
    "\n",
    "# spacing of meshgrid (in degrees)\n",
    "dx = 0.015\n",
    "dy = 0.015\n",
    "\n",
    "x_domain = np.arange(xmin, xmax + dx, dx)\n",
    "y_domain = np.arange(ymin, ymax + dy, dy)\n",
    "\n",
    "X_domain, Y_domain = np.meshgrid(x_domain, y_domain)"
   ]
  },
  {
   "cell_type": "markdown",
   "metadata": {},
   "source": [
    "# Interpolate Velocity\n",
    "\n",
    "In order to evaluate the velocity field at arbitrary locations and times, we must interpolate the discrete velocity data. The interpolation with respect to time is always linear. The interpolation with respect to space can be chosen to be \"cubic\" or \"linear\"."
   ]
  },
  {
   "cell_type": "code",
   "execution_count": 5,
   "metadata": {
    "ExecuteTime": {
     "end_time": "2021-12-15T01:21:23.993282Z",
     "start_time": "2021-12-15T01:21:23.899529Z"
    }
   },
   "outputs": [
    {
     "name": "stdout",
     "output_type": "stream",
     "text": [
      "Wall time: 85.8 ms\n"
     ]
    }
   ],
   "source": [
    "%%time\n",
    "# Import interpolation function for unsteady flow field\n",
    "from ipynb.fs.defs.Interpolant import interpolant_unsteady\n",
    "\n",
    "# set nan values to zero so that we can apply interpolant. Interpolant does not work if the array contains nan values\n",
    "U[np.isnan(U)] = 0\n",
    "V[np.isnan(V)] = 0\n",
    "\n",
    "# Interpolate velocity data using cubic spatial interpolation\n",
    "Interpolant = interpolant_unsteady(X, Y, U, V, time_data, method = \"cubic\")"
   ]
  },
  {
   "cell_type": "markdown",
   "metadata": {},
   "source": [
    "# Rate of strain tensor over meshgrid of initial conditions\n",
    "\n",
    "The rate of strain tensor $ S(\\mathbf{x}, t) $ at time $ t $ is computed by iterating over meshgrid. The rate of strain tensor at point $ \\mathbf{x} $ at time $ t $ is computed from the gradient of the velocity field by using an auxiliary meshgrid. 'aux_grid' specifies the ratio between the auxiliary grid and the original meshgrid. This parameter is generally chosen to be between $ [\\dfrac{1}{5}, \\dfrac{1}{10}] $. The computations are parallelized."
   ]
  },
  {
   "cell_type": "code",
   "execution_count": 6,
   "metadata": {
    "ExecuteTime": {
     "end_time": "2021-12-15T01:22:37.856400Z",
     "start_time": "2021-12-15T01:21:23.994279Z"
    }
   },
   "outputs": [
    {
     "data": {
      "application/vnd.jupyter.widget-view+json": {
       "model_id": "68c118af74884b3f981d684ce10dd1b0",
       "version_major": 2,
       "version_minor": 0
      },
      "text/plain": [
       "  0%|          | 0/535 [00:00<?, ?it/s]"
      ]
     },
     "metadata": {},
     "output_type": "display_data"
    },
    {
     "name": "stdout",
     "output_type": "stream",
     "text": [
      "Wall time: 1min 13s\n"
     ]
    }
   ],
   "source": [
    "%%time\n",
    "# Import package for progress bar\n",
    "from tqdm.notebook import tqdm\n",
    "\n",
    "# Import package for parallel computing\n",
    "from joblib import Parallel, delayed\n",
    "\n",
    "# Import gradient of velocity function\n",
    "from ipynb.fs.defs.gradient_velocity import gradient_velocity\n",
    "\n",
    "# Import Rate of Strain function\n",
    "from ipynb.fs.defs.RateStrain import RateStrain\n",
    "\n",
    "# Import package which checks particle location\n",
    "from ipynb.fs.defs.check_location import check_location\n",
    "\n",
    "# Define ratio of auxiliary grid spacing vs original grid_spacing\n",
    "aux_grid_ratio = .2 # [1/5, 1/10]\n",
    "aux_grid = [aux_grid_ratio*(X_domain[0, 1]-X_domain[0, 0]), aux_grid_ratio*(Y_domain[1, 0]-Y_domain[0, 0])]\n",
    "\n",
    "def parallel_S(i):\n",
    "    \n",
    "    S_parallel = np.zeros((X_domain.shape[1], 2, 2))*np.nan\n",
    "    \n",
    "    for j in range(S_parallel.shape[0]):\n",
    "        \n",
    "        x = np.array([X_domain[i,j], Y_domain[i,j]])\n",
    "  \n",
    "        # only compute rate of strain for particles in region where velocity field is defined\n",
    "        if check_location(X, Y, defined_domain, x)[0] == \"IN\":\n",
    "        \n",
    "            # Compute gradient of velocity\n",
    "            grad_vel = gradient_velocity(t_OECS, x, X, Y, Interpolant, periodic, defined_domain, bool_unsteady, dt_data, delta, aux_grid)\n",
    "            \n",
    "            # Compute rate of strain at 'x'\n",
    "            S_parallel[j, :, :] = RateStrain(grad_vel)\n",
    "    \n",
    "    return S_parallel\n",
    "\n",
    "S = np.array(Parallel(n_jobs=Ncores, verbose = 0, require = \"sharedmem\")(delayed(parallel_S)(i) for i in tqdm(range(X_domain.shape[0]))))"
   ]
  },
  {
   "cell_type": "markdown",
   "metadata": {},
   "source": [
    "# Compute tensorfield"
   ]
  },
  {
   "cell_type": "code",
   "execution_count": 7,
   "metadata": {
    "ExecuteTime": {
     "end_time": "2021-12-15T01:22:59.510346Z",
     "start_time": "2021-12-15T01:22:37.857398Z"
    }
   },
   "outputs": [],
   "source": [
    "# Import (cubic) RectBivariateSpline from scipy\n",
    "from scipy.interpolate import RectBivariateSpline as RBS\n",
    "        \n",
    "# Compute gradients of elements of rate of strain tensor\n",
    "S11 = S[:,:,0,0].copy()\n",
    "S12 = S[:,:,0,1].copy()\n",
    "S22 = S[:,:,1,1].copy()\n",
    "    \n",
    "# Interpolate elements of rate of strain tensor (per default: linear)\n",
    "interp_S11 = RBS(Y_domain[:,0], X_domain[0,:], np.nan_to_num(S11, nan = 0.0), kx = 1, ky = 1)\n",
    "interp_S12 = RBS(Y_domain[:,0], X_domain[0,:], np.nan_to_num(S12, nan = 0.0), kx = 1, ky = 1)\n",
    "interp_S22 = RBS(Y_domain[:,0], X_domain[0,:], np.nan_to_num(S22, nan = 0.0), kx = 1, ky = 1)\n",
    "\n",
    "# Initialize arrays\n",
    "S11x = np.zeros((S.shape[0], S.shape[1]))*np.nan\n",
    "S11y = np.zeros((S.shape[0], S.shape[1]))*np.nan\n",
    "S12x = np.zeros((S.shape[0], S.shape[1]))*np.nan\n",
    "S12y = np.zeros((S.shape[0], S.shape[1]))*np.nan\n",
    "S22x = np.zeros((S.shape[0], S.shape[1]))*np.nan\n",
    "S22y = np.zeros((S.shape[0], S.shape[1]))*np.nan\n",
    "    \n",
    "# Define auxilary meshgrid\n",
    "rho_x = aux_grid[0]/2\n",
    "rho_y = aux_grid[1]/2\n",
    "        \n",
    "#iterate over meshgrid\n",
    "for i in range(X_domain.shape[0]):\n",
    "        \n",
    "    for j in range(Y_domain.shape[1]):\n",
    "            \n",
    "        x = [X_domain[i,j], Y_domain[i, j]]\n",
    "        \n",
    "        # compute derivatives using auxiliary grid and finite-differencing\n",
    "        S11x[i, j] = (interp_S11(x[1], x[0]+rho_x)[0][0]-interp_S11(x[1], x[0]-rho_x)[0][0])/(2*rho_x)\n",
    "        S11y[i, j] = (interp_S11(x[1]+rho_y, x[0])[0][0]-interp_S11(x[1]-rho_y, x[0])[0][0])/(2*rho_y)\n",
    "        \n",
    "        S12x[i, j] = (interp_S12(x[1], x[0]+rho_x)[0][0]-interp_S12(x[1], x[0]-rho_x)[0][0])/(2*rho_x)\n",
    "        S12y[i, j] = (interp_S12(x[1]+rho_y, x[0])[0][0]-interp_S12(x[1]-rho_y, x[0])[0][0])/(2*rho_y)\n",
    "            \n",
    "        S22x[i, j] = (interp_S22(x[1], x[0]+rho_x)[0][0]-interp_S22(x[1], x[0]-rho_x)[0][0])/(2*rho_x)\n",
    "        S22y[i, j] = (interp_S22(x[1]+rho_y, x[0])[0][0]-interp_S22(x[1]-rho_y, x[0])[0][0])/(2*rho_y)"
   ]
  },
  {
   "cell_type": "markdown",
   "metadata": {},
   "source": [
    "# Interpolate $ \\dot{\\phi}(x, y, \\phi)$ "
   ]
  },
  {
   "cell_type": "code",
   "execution_count": 8,
   "metadata": {
    "ExecuteTime": {
     "end_time": "2021-12-15T01:23:57.754602Z",
     "start_time": "2021-12-15T01:22:59.511343Z"
    }
   },
   "outputs": [
    {
     "name": "stdout",
     "output_type": "stream",
     "text": [
      "Wall time: 58.2 s\n"
     ]
    }
   ],
   "source": [
    "%%time\n",
    "import time\n",
    "# Import package for computing interpolant of phi_prime and the domain of existence\n",
    "from ipynb.fs.defs.phi_prime import _phi_prime\n",
    "\n",
    "# Interpolant phi_phrime, interpolant indicating domain of existence (= denominator of phi_prime)\n",
    "interp_phi_prime, interp_DOE = _phi_prime(X_domain, Y_domain, S11, S12, S22, S11x, S11y, S12x, S12y, S22x, S22y)"
   ]
  },
  {
   "cell_type": "markdown",
   "metadata": {},
   "source": [
    "# Elliptic OECSs\n",
    "\n",
    "Elliptic OECSs are closed null geodesics of the one-parameter family of Lorentzian metrics $ S(\\mathbf{x}, t) − \\mu $. $ \\mu ∈ \\mathbb{R} $ denotes the tangential stretch rate along an elliptic OECS. For perfectly coherent elliptic OECS with no tangential stretching (=filamentation) it holds that $ \\mu = 0 $.  "
   ]
  },
  {
   "cell_type": "code",
   "execution_count": null,
   "metadata": {
    "ExecuteTime": {
     "start_time": "2021-12-15T01:21:23.896Z"
    }
   },
   "outputs": [
    {
     "name": "stdout",
     "output_type": "stream",
     "text": [
      "[Parallel(n_jobs=8)]: Using backend LokyBackend with 8 concurrent workers.\n"
     ]
    }
   ],
   "source": [
    "%%time\n",
    "# import plotting library\n",
    "import matplotlib.pyplot as plt\n",
    "import matplotlib as mpl\n",
    "\n",
    "# Import function to extract closed null geodesics\n",
    "from ipynb.fs.defs.closed_null_geodesics import _closed_null_geodesics\n",
    "\n",
    "# extract elliptic OECS from closed null geodesics\n",
    "from ipynb.fs.defs.elliptic_OECS import _elliptic_OECS\n",
    "\n",
    "# define mu range\n",
    "mu_min = -0.01\n",
    "mu_max = 0.01\n",
    "n_mu = Ncores\n",
    "mu_range = np.linspace(mu_min, mu_max, n_mu)\n",
    "\n",
    "# threshold distance between starting and return point of trajectory\n",
    "d_threshold = 0.01\n",
    "\n",
    "# compute elliptic OECS\n",
    "def compute_ellipitic_OECS(mu):\n",
    "    \n",
    "    # Define list storing x, y coordinates of elliptic OECS\n",
    "    x_elliptic, y_elliptic = [], []\n",
    "    \n",
    "    # Find all closed null geodesics\n",
    "    closed_null_geodesics, init_mu = _closed_null_geodesics(X_domain, Y_domain, mu, interp_phi_prime, d_threshold, S11, interp_DOE)\n",
    "    \n",
    "    # Extract elliptic OECS\n",
    "    x_elliptic, y_elliptic = _elliptic_OECS(closed_null_geodesics)\n",
    "        \n",
    "    return [x_elliptic, y_elliptic, init_mu]\n",
    "\n",
    "# compute elliptic OECS with parallel computing\n",
    "Elliptic_OECS = Parallel(n_jobs=Ncores, verbose = 50)(delayed(compute_ellipitic_OECS)(mu) for mu in mu_range)"
   ]
  },
  {
   "cell_type": "code",
   "execution_count": null,
   "metadata": {
    "ExecuteTime": {
     "start_time": "2021-12-15T01:21:23.898Z"
    }
   },
   "outputs": [],
   "source": [
    "%%time\n",
    "######################################## Plot elliptic OECS ########################################\n",
    "\n",
    "# import plotting library\n",
    "import matplotlib.pyplot as plt\n",
    "import matplotlib as mpl\n",
    "\n",
    "# Define figure/axes\n",
    "fig = plt.figure(figsize = (9, 6), dpi = 600)\n",
    "ax = plt.axes()\n",
    "\n",
    "# Define norm/cmap\n",
    "norm = mpl.colors.Normalize(vmin=mu_range.min(), vmax=mu_range.max())\n",
    "cmap = mpl.cm.ScalarMappable(norm=norm, cmap='gist_rainbow_r')\n",
    "\n",
    "# Iterate over all elliptic OECS and plot\n",
    "for i in range(len(Elliptic_OECS)):\n",
    "    \n",
    "    # Plot initial conditions\n",
    "    ax.scatter(Elliptic_OECS[i][2][0], Elliptic_OECS[i][2][1], color=cmap.to_rgba(mu_range[i]), s = 0.1)\n",
    "    \n",
    "    # Plot elliptic OECS\n",
    "    if Elliptic_OECS[i][0] is not None:\n",
    "        for j in range(len(Elliptic_OECS[i][0])):\n",
    "            if Elliptic_OECS[i][0][j] is not None:\n",
    "                ax.plot(Elliptic_OECS[i][0][j], Elliptic_OECS[i][1][j], c=cmap.to_rgba(mu_range[i]), linewidth = 1)\n",
    "\n",
    "# Set axis labels\n",
    "ax.set_xlabel(\"long (°)\", fontsize = 16)\n",
    "ax.set_ylabel(\"lat (°)\", fontsize = 16)\n",
    "\n",
    "# Colorbar\n",
    "cbar = fig.colorbar(cmap, ticks=[mu_range.min(), 0, mu_range.max()])\n",
    "cbar.ax.set_ylabel(r'$ \\mu $', rotation = 0, fontsize = 10)\n",
    "\n",
    "# Title\n",
    "ax.set_title(\"Elliptic OECS\", fontsize = 20)\n",
    "plt.show();"
   ]
  },
  {
   "cell_type": "markdown",
   "metadata": {},
   "source": [
    "We obtain three objectively detected elliptic OECS families. The (colored) closed curves indicate elliptic OECS for different values of $ \\mu $. Furthermore, the initial conditions $ \\mathbf{x}_0(\\mu, \\phi_0 = 0) $ are also plotted as a function of $ \\mu $ (see colormap)."
   ]
  },
  {
   "cell_type": "markdown",
   "metadata": {},
   "source": [
    "# Advect Elliptic OECS\n",
    "\n",
    "We now advect the computed elliptic OECS over a period of 3 days. The colored dashed lines denote the elliptic OECS computed at $ t_0 = 0$, whereas the colored solid lined indicate the same elliptic OECS advected after 3 days. Remarkably, the detected elliptic OECS show coherent behaviour even after advection and barely deform."
   ]
  },
  {
   "cell_type": "code",
   "execution_count": null,
   "metadata": {
    "ExecuteTime": {
     "start_time": "2021-12-15T01:21:23.938Z"
    }
   },
   "outputs": [],
   "source": [
    "# Import package for computing trajectories\n",
    "from ipynb.fs.defs.integration_dFdt import integration_dFdt\n",
    "\n",
    "# efine time-horizon over which to advect\n",
    "time_advect = np.linspace(t_OECS, t_OECS+3, 100, endpoint = True)\n",
    "\n",
    "# Define figure/axes\n",
    "fig = plt.figure(figsize = (9, 6), dpi = 600)\n",
    "ax = plt.axes()\n",
    "\n",
    "# Define norm/cmap\n",
    "norm = mpl.colors.Normalize(vmin=mu_range.min(), vmax=mu_range.max())\n",
    "cmap = mpl.cm.ScalarMappable(norm=norm, cmap='gist_rainbow_r')#mpl.cm.jet)\n",
    "\n",
    "# Iterate over all elliptic OECS and plot\n",
    "for i in range(len(Elliptic_OECS)):\n",
    "    # dummy plot\n",
    "    ax.scatter(np.nan, np.nan, s = 1, color=cmap.to_rgba(mu_range[i]))\n",
    "    if Elliptic_OECS[i][0] is not None:\n",
    "        for j in range(len(Elliptic_OECS[i][0])):\n",
    "            if Elliptic_OECS[i][0][j] is not None:\n",
    "                ax.plot(Elliptic_OECS[i][0][j], Elliptic_OECS[i][1][j], c=cmap.to_rgba(mu_range[i]), linewidth = 1, linestyle = \"dashed\")\n",
    "                x_advected, y_advected = [], []\n",
    "                \n",
    "                # advecte Elliptic OECS\n",
    "                for t in range(len(Elliptic_OECS[i][0][j])):\n",
    "                    \n",
    "                    x = np.array([Elliptic_OECS[i][0][j][t], Elliptic_OECS[i][1][j][t]])\n",
    "                    \n",
    "                    # Advect OECS over 3 days\n",
    "                    Fmap = integration_dFdt(time_advect, x, X, Y, Interpolant, periodic, defined_domain, bool_unsteady, dt_data, delta)[0]\n",
    "\n",
    "                    # extract end-point of advection\n",
    "                    x_end = Fmap[:,-1]\n",
    "                    \n",
    "                    x_advected.append(x_end[0])\n",
    "                    y_advected.append(x_end[1])\n",
    "                ax.plot(x_advected, y_advected, c=cmap.to_rgba(mu_range[i]), linewidth = 1)\n",
    "\n",
    "# Set axis limits\n",
    "ax.set_xlim([-3.5, 0.5])\n",
    "ax.set_ylim([-32, -24])\n",
    "                \n",
    "# Set axis labels\n",
    "ax.set_xlabel(\"long (°)\", fontsize = 16)\n",
    "ax.set_ylabel(\"lat (°)\", fontsize = 16)\n",
    "\n",
    "# Colorbar\n",
    "cbar = fig.colorbar(cmap, ticks=[mu_range.min(), 0, mu_range.max()])\n",
    "cbar.ax.set_ylabel(r'$ \\mu $', rotation = 0, fontsize = 10)\n",
    "\n",
    "# Title\n",
    "ax.set_title(\"Advected OECSs vs initial OECSs\", fontsize = 20)\n",
    "plt.show();"
   ]
  },
  {
   "cell_type": "markdown",
   "metadata": {},
   "source": [
    "# References\n",
    "\n",
    "[1] Serra, M., & Haller, G. (2017). Efficient computation of null geodesics with applications to coherent vortex detection. Proceedings of the Royal Society A: Mathematical, Physical and Engineering Sciences, 473(2199)."
   ]
  }
 ],
 "metadata": {
  "kernelspec": {
   "display_name": "Python 3 (ipykernel)",
   "language": "python",
   "name": "python3"
  },
  "language_info": {
   "codemirror_mode": {
    "name": "ipython",
    "version": 3
   },
   "file_extension": ".py",
   "mimetype": "text/x-python",
   "name": "python",
   "nbconvert_exporter": "python",
   "pygments_lexer": "ipython3",
   "version": "3.7.11"
  },
  "toc": {
   "base_numbering": 1,
   "nav_menu": {},
   "number_sections": true,
   "sideBar": true,
   "skip_h1_title": false,
   "title_cell": "Table of Contents",
   "title_sidebar": "Contents",
   "toc_cell": false,
   "toc_position": {},
   "toc_section_display": true,
   "toc_window_display": false
  }
 },
 "nbformat": 4,
 "nbformat_minor": 4
}
