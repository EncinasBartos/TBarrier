{
 "cells": [
  {
   "cell_type": "markdown",
   "metadata": {
    "ExecuteTime": {
     "end_time": "2021-11-16T10:45:35.912297Z",
     "start_time": "2021-11-16T10:45:35.892350Z"
    }
   },
   "source": [
    "This function computes the (linear) interpolant for evaluating the differential equation:\n",
    "\n",
    "\\begin{equation}\n",
    "\\dfrac{d \\phi}{ds} = -\\dfrac{\\cos^2(\\phi)[S_x^{11}(\\mathbf{x}_0)\\cos(\\phi)+S_y^{11}(\\mathbf{x}_0)\\sin(\\phi)]+[S_x^{12}(\\mathbf{x}_0)\\cos(\\phi)+S_y^{11}(\\mathbf{x}_0)\\sin(\\phi)]\\sin(2\\phi)+\\sin^2(\\phi)[S_x^{22}(\\mathbf{x}_0)\\cos(\\phi)+S_y^{22}(\\mathbf{x}_0)\\sin(\\phi)]}{\\sin(2\\phi)[S^{22}(\\mathbf{x}_0)-S^{11}(\\mathbf{x}_0)]+2\\cos(2\\phi)S^{12}(\\mathbf{x}_0)} \\label{eq: phi_prime} \\tag{1}\n",
    "\\end{equation}\n",
    "\n",
    "at every point $ (\\mathbf{x}, \\phi) $.\n",
    "\n",
    "To do so, we first need to evaluate the right-hand-side of eq. \\ref{eq: phi_prime} over a rectangular meshgrid $ X, Y, \\phi $ (see *__phi_prime*) before computing the interpolant of $ \\dot{\\phi} $ (see *_phi_prime*)."
   ]
  },
  {
   "cell_type": "code",
   "execution_count": 1,
   "metadata": {
    "ExecuteTime": {
     "end_time": "2021-12-10T00:35:55.292736Z",
     "start_time": "2021-12-10T00:35:54.999282Z"
    }
   },
   "outputs": [],
   "source": [
    "# Import numpy\n",
    "import numpy as np\n",
    "\n",
    "# Import math symbols\n",
    "from math import cos, sin, pi\n",
    "\n",
    "# Import numba (used for high performance scientific computing)\n",
    "from numba import jit, prange"
   ]
  },
  {
   "cell_type": "code",
   "execution_count": 1,
   "metadata": {
    "ExecuteTime": {
     "end_time": "2021-10-31T16:59:15.942099Z",
     "start_time": "2021-10-31T16:59:15.688427Z"
    }
   },
   "outputs": [],
   "source": [
    "@jit(parallel=True)\n",
    "def __phi_prime(S11, S12, S22, S11_x, S11_y, S12_x, S12_y, S22_x, S22_y):\n",
    "    '''\n",
    "    Computes phi_prime and phi_prime_denom (denominator of phi prime) over gridded domain\n",
    "    based on the elements of the rate of strain tensor\n",
    "    \n",
    "    Parameters:\n",
    "        Sij:             array(Ny, Nx), ij-element of the rate of strain tensor over the gridded domain \n",
    "        Sij_x:           array(Ny, Nx), derivative with respect to x-th coordinate of the ij-element of the rate of strain tensor over the gridded domain \n",
    "        Sij_y:           array(Ny, Nx), derivative with respect to y-th coordinate of the ij-element of the rate of strain tensor over the gridded domain \n",
    "    \n",
    "    Returns:\n",
    "        phi:             array(360, ), angles\n",
    "        phi_prime:       array(Ny, Nx, 360), contains phi_prime over gridded domain and angles\n",
    "        phi_prime_denom: array(Ny, Nx, 360), contains denominator of phi_prime over gridded domain and angles. This specifies the domain of existence.\n",
    "    '''\n",
    "    \n",
    "    # angles\n",
    "    phi = np.linspace(0, 2*pi, 360)\n",
    "    \n",
    "    # define arrays\n",
    "    phi_prime = np.zeros((S11.shape[0], S11.shape[1], phi.shape[0]))\n",
    "    phi_prime_denom = phi_prime.copy()\n",
    "    \n",
    "    # iterate over meshgrid in y-direction\n",
    "    for i in prange(S11.shape[0]):\n",
    "        \n",
    "        # iterate over meshgrid in x-direction\n",
    "        for j in prange(S11.shape[1]):\n",
    "            \n",
    "            # elements of rate of strain\n",
    "            S11_ = S11[i, j]\n",
    "            S12_ = S12[i, j]\n",
    "            S22_ = S22[i, j]\n",
    "            \n",
    "            # spatial derivative of elements of rate of strain\n",
    "            S11_x_ = S11_x[i, j]\n",
    "            S11_y_ = S11_y[i, j]\n",
    "            \n",
    "            S12_x_ = S12_x[i, j]\n",
    "            S12_y_ = S12_y[i, j]\n",
    "            \n",
    "            S22_x_ = S22_x[i, j]\n",
    "            S22_y_ = S22_y[i, j]\n",
    "\n",
    "            # iterate over phi\n",
    "            for p in prange(phi.shape[0]):\n",
    "                \n",
    "                phi_ = phi[p]\n",
    "                \n",
    "                # [S11_x*cos(phi_)+S11_y*sin(phi)]*cos^2(phi)\n",
    "                phi_prime_num = (S11_x_*cos(phi_)+S11_y_*sin(phi_))*cos(phi_)**2\n",
    "                \n",
    "                # [S12_x*cos(phi_)+S12_y*sin(phi)]*sin(2*phi)\n",
    "                phi_prime_num += (S12_x_*cos(phi_)+S12_y_*sin(phi_))*sin(2*phi_)\n",
    "                \n",
    "                # [S11_x*cos(phi_)+S11_y*sin(phi)]*sin^2(phi)\n",
    "                phi_prime_num += (S22_x_*cos(phi_)+S22_y_*sin(phi_))*sin(phi_)**2\n",
    "    \n",
    "                # sin(2*phi)*(S22-S11)+2*cos(2*phi)*S12\n",
    "                phi_prime_denom[i, j, p] = sin(2*phi_)*(S22_-S11_)+2*cos(2*phi_)*S12_\n",
    "            \n",
    "                phi_prime[i, j, p] = -phi_prime_num/phi_prime_denom[i, j, p]\n",
    "\n",
    "    return phi_prime, phi_prime_denom, phi"
   ]
  },
  {
   "cell_type": "code",
   "execution_count": 2,
   "metadata": {
    "ExecuteTime": {
     "end_time": "2021-10-31T16:59:15.957455Z",
     "start_time": "2021-10-31T16:59:15.943492Z"
    }
   },
   "outputs": [],
   "source": [
    "def _phi_prime(X, Y, S11, S12, S22, S11_x, S11_y, S12_x, S12_y, S22_x, S22_y):\n",
    "    \n",
    "    '''\n",
    "    Computes the linear interpolant of phi_prime and phi_prime_denom (denominator of phi prime) \n",
    "    based on the elements of the rate of strain tensor\n",
    "    \n",
    "    Parameters:\n",
    "        X:                           array(Ny, Nx), X-meshgrid\n",
    "        Y:                           array(Ny, Nx), Y-meshgrid\n",
    "        Sij:                         array(Ny, Nx), ij-element of the rate of strain tensor over the gridded domain \n",
    "        Sij_x:                       array(Ny, Nx), derivative with respect to x-th coordinate of the ij-element of the rate of strain tensor over the gridded domain \n",
    "        Sij_y:                       array(Ny, Nx), derivative with respect to y-th coordinate of the ij-element of the rate of strain tensor over the gridded domain \n",
    "    \n",
    "    Returns:\n",
    "        Interpolant_phi_prime:       Interpolant-object for phi_prime over gridded domain and angles.\n",
    "        Interpolant_phi_prime_denom: Interpolant-object for phi_prime_denom over gridded domain and angles.\n",
    "    '''\n",
    "    \n",
    "    # Import interpolator from scipy\n",
    "    from scipy.interpolate import RegularGridInterpolator\n",
    "    \n",
    "    # phi_prime and phi_prime_denom (=DOE) are arrays three dimensional arrays\n",
    "    phi_prime, phi_prime_denom, phi = __phi_prime(S11, S12, S22, S11_x, S11_y, S12_x, S12_y, S22_x, S22_y)\n",
    "    \n",
    "    # Interpolant objects\n",
    "    Interpolant_phi_prime = RegularGridInterpolator((Y[:,0], X[0,:], phi), phi_prime, method = \"linear\", bounds_error = False, fill_value = 0)\n",
    "    Interpolant_phi_prime_denom = RegularGridInterpolator((Y[:,0], X[0,:], phi), phi_prime_denom, method = \"linear\")\n",
    "    \n",
    "    # return interpolant for phi_prime and for the denominator of phi_prime (=DOE)\n",
    "    return Interpolant_phi_prime, Interpolant_phi_prime_denom"
   ]
  }
 ],
 "metadata": {
  "kernelspec": {
   "display_name": "Python 3",
   "language": "python",
   "name": "python3"
  },
  "language_info": {
   "codemirror_mode": {
    "name": "ipython",
    "version": 3
   },
   "file_extension": ".py",
   "mimetype": "text/x-python",
   "name": "python",
   "nbconvert_exporter": "python",
   "pygments_lexer": "ipython3",
   "version": "3.8.15"
  },
  "toc": {
   "base_numbering": 1,
   "nav_menu": {},
   "number_sections": true,
   "sideBar": true,
   "skip_h1_title": false,
   "title_cell": "Table of Contents",
   "title_sidebar": "Contents",
   "toc_cell": false,
   "toc_position": {},
   "toc_section_display": true,
   "toc_window_display": false
  }
 },
 "nbformat": 4,
 "nbformat_minor": 4
}
