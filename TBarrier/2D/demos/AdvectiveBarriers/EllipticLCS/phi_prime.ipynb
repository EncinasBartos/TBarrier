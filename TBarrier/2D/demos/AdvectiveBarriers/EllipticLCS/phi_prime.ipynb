{
 "cells": [
  {
   "cell_type": "markdown",
   "metadata": {
    "ExecuteTime": {
     "end_time": "2021-11-16T10:45:35.912297Z",
     "start_time": "2021-11-16T10:45:35.892350Z"
    }
   },
   "source": [
    "This function computes the (linear) interpolant for evaluating the differential equation:\n",
    "\n",
    "\\begin{equation}\n",
    "\\phi' = - \\dfrac{\\cos^2(\\phi)[C_x^{11}(\\mathbf{x})\\cos(\\phi)+C_y^{11}(\\mathbf{x})\\sin(\\phi)]+[C_x^{12}(\\mathbf{x})\\cos(\\phi)+C_y^{11}(\\mathbf{x})\\sin(\\phi)]\\sin(2\\phi)+\\sin^2(\\phi)[C_x^{22}(\\mathbf{x})\\cos(\\phi)+C_y^{22}(\\mathbf{x})\\sin(\\phi)}{\\sin(2\\phi)[C^{22}(\\mathbf{x})-C^{11}(\\mathbf{x})]+2\\cos(2\\phi)C^{12}(\\mathbf{x})}\n",
    "\\label{eq: phi_prime}\n",
    "\\end{equation}\n",
    "\n",
    "at every point $ (\\mathbf{x}, \\phi) $. \n",
    "\n",
    "To do so, we first need to evaluate the right-hand-side of eq. \\ref{eq: phi_prime} over a rectangular meshgrid $ X, Y, \\phi $ (see *__phi_prime*) before computing the interpolant of $ \\dot{\\phi} $ (see *_phi_prime*).\n",
    "\n",
    "| Name | Type (Shape) | Description |\n",
    "| --- | --- | --- |\n",
    "| closed_null_geodesics | list (N,) | list containing $ N $ closed null geodesics\n",
    "| x_elliptic | list | list containing x-coordinates of elliptic OECS\n",
    "| y_elliptic | list | list containing y-coordinates of elliptic OECS"
   ]
  },
  {
   "cell_type": "code",
   "execution_count": 1,
   "metadata": {
    "ExecuteTime": {
     "end_time": "2021-12-10T00:35:55.292736Z",
     "start_time": "2021-12-10T00:35:54.999282Z"
    }
   },
   "outputs": [],
   "source": [
    "# Import numpy\n",
    "import numpy as np\n",
    "\n",
    "# Import math symbols\n",
    "from math import cos, sin, pi\n",
    "\n",
    "# Import numba (used for high performance scientific computing)\n",
    "from numba import jit, prange"
   ]
  },
  {
   "cell_type": "code",
   "execution_count": 1,
   "metadata": {
    "ExecuteTime": {
     "end_time": "2021-10-31T16:59:15.942099Z",
     "start_time": "2021-10-31T16:59:15.688427Z"
    }
   },
   "outputs": [],
   "source": [
    "@jit(parallel=True)\n",
    "def __phi_prime(X, Y, phi, C11, C12, C22, C11_x, C11_y, C12_x, C12_y, C22_x, C22_y):\n",
    "    \n",
    "    phi_prime = np.zeros((Y.shape[0], X.shape[1], phi.shape[0]))\n",
    "    phi_prime_denom = phi_prime.copy()\n",
    "    \n",
    "    for i in prange(Y.shape[0]):\n",
    "        \n",
    "        for j in prange(X.shape[1]):\n",
    "            \n",
    "            C11_ = C11[i, j]\n",
    "            C12_ = C12[i, j]\n",
    "            C22_ = C22[i, j]\n",
    "            \n",
    "            C11_x_ = C11_x[i, j]\n",
    "            C11_y_ = C11_y[i, j]\n",
    "            \n",
    "            C12_x_ = C12_x[i, j]\n",
    "            C12_y_ = C12_y[i, j]\n",
    "            \n",
    "            C22_x_ = C22_x[i, j]\n",
    "            C22_y_ = C22_y[i, j]\n",
    "\n",
    "            for p in prange(phi.shape[0]):\n",
    "                \n",
    "                phi_ = phi[p]\n",
    "    \n",
    "                phi_prime_num = (cos(phi_)*C11_x_+C11_y_*sin(phi_))*cos(phi_)**2\n",
    "                phi_prime_num += (cos(phi_)*C12_x_+C12_y_*sin(phi_))*sin(2*phi_)\n",
    "                phi_prime_num += (cos(phi_)*C22_x_+C22_y_*sin(phi_))*sin(phi_)**2\n",
    "    \n",
    "                phi_prime_denom[i, j, p] = sin(2*phi_)*(C22_-C11_)+2*cos(2*phi_)*C12_\n",
    "            \n",
    "                phi_prime[i, j, p] = -phi_prime_num/phi_prime_denom[i, j, p]\n",
    "\n",
    "    return phi_prime, phi_prime_denom"
   ]
  },
  {
   "cell_type": "code",
   "execution_count": 2,
   "metadata": {
    "ExecuteTime": {
     "end_time": "2021-10-31T16:59:15.957455Z",
     "start_time": "2021-10-31T16:59:15.943492Z"
    }
   },
   "outputs": [],
   "source": [
    "def _phi_prime(X, Y, C11, C12, C22, C11_x, C11_y, C12_x, C12_y, C22_x, C22_y):\n",
    "    \n",
    "    phi = np.linspace(0, 2*pi, 360)\n",
    "    \n",
    "    # Import interpolator from scipy\n",
    "    from scipy.interpolate import RegularGridInterpolator\n",
    "    \n",
    "    phi_prime, DOE = __phi_prime(X, Y, phi, C11, C12, C22, C11_x, C11_y, C12_x, C12_y, C22_x, C22_y)\n",
    "    \n",
    "    return RegularGridInterpolator((Y[:,0], X[0,:], phi), phi_prime), RegularGridInterpolator((Y[:,0], X[0,:], phi), DOE)"
   ]
  }
 ],
 "metadata": {
  "kernelspec": {
   "display_name": "Python 3",
   "language": "python",
   "name": "python3"
  },
  "language_info": {
   "codemirror_mode": {
    "name": "ipython",
    "version": 3
   },
   "file_extension": ".py",
   "mimetype": "text/x-python",
   "name": "python",
   "nbconvert_exporter": "python",
   "pygments_lexer": "ipython3",
   "version": "3.7.11"
  },
  "toc": {
   "base_numbering": 1,
   "nav_menu": {},
   "number_sections": true,
   "sideBar": true,
   "skip_h1_title": false,
   "title_cell": "Table of Contents",
   "title_sidebar": "Contents",
   "toc_cell": false,
   "toc_position": {},
   "toc_section_display": true,
   "toc_window_display": false
  }
 },
 "nbformat": 4,
 "nbformat_minor": 4
}
