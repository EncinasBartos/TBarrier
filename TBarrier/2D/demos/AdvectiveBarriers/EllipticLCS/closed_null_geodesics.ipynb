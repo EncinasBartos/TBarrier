{
 "cells": [
  {
   "cell_type": "markdown",
   "metadata": {},
   "source": [
    "This function computes closed null geodesics of $ C_{t_0}^{t_N}(\\mathbf{x})-\\lambda^2 \\mathbf{I} $, where $ C_{t_0}^{t_N}(\\mathbf{x}) = \\begin{pmatrix} C^{11} && C^{12} \\\\ C^{12} && C^{22} \\end{pmatrix} $ is the (symmetric) Cauchy Green strain tensor.\n",
    "\n",
    "| Name | Type (Shape) | Description |\n",
    "| --- | --- | --- |\n",
    "| X | array (Ny, Nx) | X-meshgrid|\n",
    "| Y | array (Ny, Nx) | Y-meshgrid|\n",
    "| mu | float | $ \\mu $|\n",
    "| interp_phi_prime | interpolant | $ \\dot{\\phi} $|\n",
    "| d_threshold | float | threshold distance between start of closed null-geodesic and maximum allowed first return distance to starting point |\n",
    "| interp_DOE | interpolant | $ \\sin(2\\phi)[C^{22}(\\mathbf{x})-C^{11}(\\mathbf{x})]+2\\cos(2\\phi)C^{12}(\\mathbf{x}) $ |\n",
    "| solODE_closed_curve | list | list containing the closed solution curves ($ \\mathbf{x}, \\phi $) |\n",
    "| x0lam | list | list containing x-coordinates of initial conditions $ x_0(\\lambda) $ |\n",
    "| y0lam | list | list containing y-coordinates of initial conditions $ x_0(\\lambda) $ |"
   ]
  },
  {
   "cell_type": "code",
   "execution_count": 1,
   "metadata": {
    "ExecuteTime": {
     "end_time": "2021-12-02T17:36:41.085739Z",
     "start_time": "2021-12-02T17:36:41.082329Z"
    }
   },
   "outputs": [],
   "source": [
    "import sys, os\n",
    "\n",
    "# get current directory\n",
    "path = os.getcwd()\n",
    "\n",
    "# get parent directory\n",
    "parent_directory = os.path.sep.join(path.split(os.path.sep)[:-3])\n",
    "\n",
    "# add utils folder to current working path\n",
    "sys.path.append(parent_directory+\"/subfunctions/utils\")"
   ]
  },
  {
   "cell_type": "code",
   "execution_count": 2,
   "metadata": {
    "ExecuteTime": {
     "end_time": "2021-12-02T17:36:41.969307Z",
     "start_time": "2021-12-02T17:36:41.087722Z"
    },
    "hide_input": false
   },
   "outputs": [],
   "source": [
    "# Import numpy\n",
    "import numpy as np\n",
    "\n",
    "# Import math symbols\n",
    "from math import sqrt, pi\n",
    "\n",
    "# function computing initial conditions (depending on \\mu)\n",
    "from ipynb.fs.defs.init_level_set import _init_level_set\n",
    "\n",
    "# geodesics differential equation\n",
    "from ipynb.fs.defs.geodesic_equation import _geodesic_equation\n",
    "\n",
    "# find closed curve\n",
    "from ipynb.fs.defs.closed_curve import _closed_curve\n",
    "\n",
    "# RK4 integrator\n",
    "from ipynb.fs.defs.RK4_integration import RK4_integration\n",
    "\n",
    "# tqdm shows progress bar\n",
    "from tqdm.notebook import tqdm\n",
    "\n",
    "# library for Polygon, Point objects\n",
    "from shapely.geometry import Polygon, Point\n",
    "\n",
    "# Import (cubic) RectBivariateSpline from scipy\n",
    "from scipy.interpolate import RectBivariateSpline as RBS"
   ]
  },
  {
   "cell_type": "code",
   "execution_count": 3,
   "metadata": {
    "ExecuteTime": {
     "end_time": "2021-12-02T17:36:41.976967Z",
     "start_time": "2021-12-02T17:36:41.971526Z"
    }
   },
   "outputs": [],
   "source": [
    "def _closed_null_geodesics(X, Y, lam, interp_phi_prime, d_threshold, C11, interp_DOE):\n",
    "    \n",
    "    # domain where the rate of strain field is defined\n",
    "    defined_domain = np.isfinite(C11).astype(int)\n",
    "    \n",
    "    # compute initial conditions\n",
    "    x0lam, y0lam, phi0lam = _init_level_set(X, Y, C11, lam)\n",
    "    \n",
    "    # define integration domain of dummy variable\n",
    "    s = [0, 10]\n",
    "    \n",
    "    # define resolution of trajectories\n",
    "    s_eval = np.linspace(s[0], s[1], 150)\n",
    "    \n",
    "    ds = s_eval[1]-s_eval[0]\n",
    "\n",
    "    # store solutions in this list\n",
    "    solODE_closed_curves = []\n",
    "    \n",
    "    # number of initial conditions\n",
    "    len_x0lam = len(x0lam)\n",
    "    \n",
    "    # line needed to print tqdm\n",
    "    print(' ', end='', flush=True)\n",
    "    \n",
    "    # iterate over all initial conditions [x0mu, y0mu, phi0mu]\n",
    "    for j in tqdm(range(len_x0lam)):\n",
    "        \n",
    "        # initial condition\n",
    "        y0 = np.array([x0lam[j], y0lam[j], phi0lam[j]])\n",
    "        \n",
    "        sol = np.zeros((len(s_eval), 3))\n",
    "        \n",
    "        # Integrate trajectory using RK4 with fixed step size\n",
    "        for s in range(len(s_eval)):\n",
    "            sol[s, :] = y0\n",
    "            y0 = RK4_integration(s, y0, ds, interp_phi_prime, X, Y, defined_domain, interp_DOE)\n",
    "        \n",
    "        # store x, y, phi\n",
    "        x = sol[:,0]\n",
    "        y = sol[:,1]\n",
    "        phi = sol[:,2]\n",
    "        \n",
    "        # Check if curve is closed after completing one full cycle and find curve with minimum re-intersection distance.\n",
    "        x_closed_geodesic, y_closed_geodesic, phi_closed_geodesic = _closed_curve(x, y, phi, np.array(y0), d_threshold)\n",
    "        \n",
    "        # store solutions\n",
    "        solODE_closed_curves.append([x_closed_geodesic, y_closed_geodesic, phi_closed_geodesic])\n",
    "    \n",
    "    return solODE_closed_curves, [x0lam, y0lam]"
   ]
  }
 ],
 "metadata": {
  "kernelspec": {
   "display_name": "Python 3",
   "language": "python",
   "name": "python3"
  },
  "language_info": {
   "codemirror_mode": {
    "name": "ipython",
    "version": 3
   },
   "file_extension": ".py",
   "mimetype": "text/x-python",
   "name": "python",
   "nbconvert_exporter": "python",
   "pygments_lexer": "ipython3",
   "version": "3.7.11"
  },
  "toc": {
   "base_numbering": 1,
   "nav_menu": {},
   "number_sections": true,
   "sideBar": true,
   "skip_h1_title": false,
   "title_cell": "Table of Contents",
   "title_sidebar": "Contents",
   "toc_cell": false,
   "toc_position": {},
   "toc_section_display": true,
   "toc_window_display": false
  }
 },
 "nbformat": 4,
 "nbformat_minor": 4
}
