{
 "cells": [
  {
   "cell_type": "markdown",
   "metadata": {},
   "source": [
    "This function computes closed null geodesics of $ C_{t_0}^{t_N}(\\mathbf{x})-\\lambda^2 \\mathbf{I} $, where $ C_{t_0}^{t_N}(\\mathbf{x}, t) = \\begin{pmatrix} C^{11} && C^{12} \\\\ C^{12} && C^{22} \\end{pmatrix} $ is the (symmetric) Cauchy Green strain tensor.\n",
    "\n",
    "| Name | Type (Shape) | Description |\n",
    "| --- | --- | --- |\n",
    "| X | array (Ny, Nx) | X-meshgrid|\n",
    "| Y | array (Ny, Nx) | Y-meshgrid|\n",
    "| lam | float | $ \\lambda = $ stretching|\n",
    "| interp_phi_prime | interpolant | $ \\dot{\\phi} $|\n",
    "| d_threshold | float | threshold distance between start point and return point of the closed curve |\n",
    "| C11 | array (Ny,Nx) | array containing the C11-element of the Cauchy Green strain tensor |\n",
    "| iteration_length | float | length of dummy time interval used for computation of elliptic LCSs |\n",
    "| n_iterations | int | resolution of dummy time interval |\n",
    "| verbose | bool | if verbose=True --> function reports progress at every 100th iteration. |\n",
    "| solODE_closed_curve | list | list containing the closed solution curves ($ \\mathbf{x}, \\phi $) |\n",
    "| x0lam | list | list containing x-coordinates of initial conditions $ x_0(\\lambda) $ |\n",
    "| y0lam | list | list containing y-coordinates of initial conditions $ y_0(\\lambda) $ |"
   ]
  },
  {
   "cell_type": "code",
   "execution_count": 1,
   "metadata": {
    "ExecuteTime": {
     "end_time": "2022-01-12T08:32:41.775643Z",
     "start_time": "2022-01-12T08:32:41.761651Z"
    }
   },
   "outputs": [],
   "source": [
    "import sys, os\n",
    "\n",
    "# get current directory\n",
    "path = os.getcwd()\n",
    "\n",
    "# get parent directory\n",
    "parent_directory = os.path.sep.join(path.split(os.path.sep)[:-3])\n",
    "\n",
    "# add utils folder to current working path\n",
    "sys.path.append(parent_directory+\"/subfunctions/utils\")"
   ]
  },
  {
   "cell_type": "code",
   "execution_count": 2,
   "metadata": {
    "ExecuteTime": {
     "end_time": "2022-01-12T08:32:42.600863Z",
     "start_time": "2022-01-12T08:32:41.776611Z"
    },
    "hide_input": false
   },
   "outputs": [],
   "source": [
    "# Import numpy\n",
    "import numpy as np\n",
    "\n",
    "# function computing initial conditions (depending on \\lambda)\n",
    "from ipynb.fs.defs.init_level_set import _init_level_set\n",
    "\n",
    "# find closed curve\n",
    "from ipynb.fs.defs.closed_curve import closed_curve\n",
    "\n",
    "# RK4 integrator\n",
    "from ipynb.fs.defs.RK4_integration import RK4_integration"
   ]
  },
  {
   "cell_type": "code",
   "execution_count": 3,
   "metadata": {
    "ExecuteTime": {
     "end_time": "2022-01-12T08:32:42.616148Z",
     "start_time": "2022-01-12T08:32:42.601895Z"
    },
    "code_folding": [
     14,
     46,
     55
    ]
   },
   "outputs": [],
   "source": [
    "def closed_null_geodesics(X, Y, lam, interp_phi_prime, d_threshold, C11, iteration_length = 12, n_iterations = 4000, verbose = False):\n",
    "    '''\n",
    "    Compute closed null geodesics. The algorithm returns closed null geodesics coinciding with elliptic LCS.\n",
    "    \n",
    "    Parameters:\n",
    "        X:                      array (Ny, Nx),  X-meshgrid.\n",
    "        Y:                      array (Ny, Nx),  Y-meshgrid.\n",
    "        lam:                    float, lambda --> stretching used to compute ICs of null geodesics.\n",
    "        interp_phi_prime:       Inteprolant for phi_prime.\n",
    "        d_threshold:            float, threshold value for re-intersection of closed curve\n",
    "        C11:                    array (Ny, Nx), array of C_{11}.\n",
    "        iteration_length:       float, length of dummy time interval used for computation of elliptic LCSs\n",
    "        n_iterations:           int, resolution of dummy time interval\n",
    "        verbose:                bool, if True, function reports progress at every 100th iteration.          \n",
    "        \n",
    "    Returns:\n",
    "        solODEcurves:           list, contains solutions of ODE = set of closed null geodesics.\n",
    "        x0lam:                  list, contains x-coordinates of ICs.\n",
    "        y0lam:                  list, contains y-coordinates of ICs.\n",
    "    '''\n",
    "    \n",
    "    # domain where the rate of strain field is defined\n",
    "    defined_domain = np.isfinite(C11).astype(int)\n",
    "    \n",
    "    # compute initial conditions\n",
    "    x0lam, y0lam, phi0lam = _init_level_set(X, Y, C11, lam)\n",
    "    \n",
    "    # define integration domain of dummy variable.\n",
    "    # Note if you do not find any structures, then I recommend increasing this value. \n",
    "    # For the majority of examples the algorithm converges much sooner. \n",
    "    # An upper bound on the dummy time-interval is included in order to avoid long computation times.\n",
    "    s = [0, iteration_length]\n",
    "    \n",
    "    # define resolution of trajectories\n",
    "    # This resolution can also be refined.\n",
    "    s_eval = np.linspace(s[0], s[-1], n_iterations)\n",
    "    \n",
    "    ds = s_eval[1]-s_eval[0]\n",
    "    \n",
    "    # number of initial conditions\n",
    "    len_x0lam = len(x0lam)\n",
    "    \n",
    "    solODE = np.zeros((len(s_eval), 3, len_x0lam))\n",
    "    \n",
    "    # initial conditions\n",
    "    solODE[0, :, :] = np.array([x0lam, y0lam, phi0lam])\n",
    "    \n",
    "    for i in range(len(s_eval)-1):\n",
    "        \n",
    "        solODE[i+1, :, :] = RK4_integration(solODE[i, :, :], ds, interp_phi_prime)\n",
    "    \n",
    "    solODE_closed_curves = []\n",
    "    \n",
    "    print(\"Computation of closed null geodesics: Started...\")\n",
    "    \n",
    "    # iterate over all initial conditions [x0lam, y0lam, phi0lam]\n",
    "    for j in range(len_x0lam):\n",
    "        \n",
    "        # store x, y, phi\n",
    "        # we do not solve the ODE for all ICs as this would require long computation times.\n",
    "        # for higher accuracy just replace the subsequente three lines of codes with the commented version\n",
    "        x = solODE[::2,0, j] #solODE[:,0,j]\n",
    "        y = solODE[::2,1, j] #solODE[:,1,j]\n",
    "        phi = solODE[::2,2, j] #solODE[:,2,j]\n",
    "    \n",
    "        if verbose:\n",
    "            if j%100==0:\n",
    "                print(\"Percentage completed: \", np.around(np.around(j/len_x0lam, 4)*100,2))\n",
    "    \n",
    "        # Check if curve is closed after completing one full cycle and find curve with minimum re-intersection distance.\n",
    "        x_closed, y_closed, phi_closed = closed_curve(x, y, phi, d_threshold, X, Y, defined_domain)\n",
    "        \n",
    "        # store solutions\n",
    "        solODE_closed_curves.append([x_closed, y_closed, phi_closed])\n",
    "    \n",
    "    print(\"Computation of closed null geodesics: Done!\")\n",
    "    \n",
    "    return solODE_closed_curves, [x0lam, y0lam]"
   ]
  }
 ],
 "metadata": {
  "kernelspec": {
   "display_name": "Python 3",
   "language": "python",
   "name": "python3"
  },
  "language_info": {
   "codemirror_mode": {
    "name": "ipython",
    "version": 3
   },
   "file_extension": ".py",
   "mimetype": "text/x-python",
   "name": "python",
   "nbconvert_exporter": "python",
   "pygments_lexer": "ipython3",
   "version": "3.7.12"
  },
  "latex_envs": {
   "LaTeX_envs_menu_present": true,
   "autoclose": false,
   "autocomplete": true,
   "bibliofile": "biblio.bib",
   "cite_by": "apalike",
   "current_citInitial": 1,
   "eqLabelWithNumbers": true,
   "eqNumInitial": 1,
   "hotkeys": {
    "equation": "Ctrl-E",
    "itemize": "Ctrl-I"
   },
   "labels_anchors": false,
   "latex_user_defs": false,
   "report_style_numbering": false,
   "user_envs_cfg": false
  },
  "toc": {
   "base_numbering": 1,
   "nav_menu": {},
   "number_sections": true,
   "sideBar": true,
   "skip_h1_title": false,
   "title_cell": "Table of Contents",
   "title_sidebar": "Contents",
   "toc_cell": false,
   "toc_position": {},
   "toc_section_display": true,
   "toc_window_display": false
  }
 },
 "nbformat": 4,
 "nbformat_minor": 4
}
