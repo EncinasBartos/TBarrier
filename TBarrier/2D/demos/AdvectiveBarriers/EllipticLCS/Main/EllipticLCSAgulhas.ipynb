{
 "cells": [
  {
   "cell_type": "markdown",
   "metadata": {},
   "source": [
    "# Add Folders to Path"
   ]
  },
  {
   "cell_type": "code",
   "execution_count": 1,
   "metadata": {
    "ExecuteTime": {
     "end_time": "2021-12-13T12:49:54.030658Z",
     "start_time": "2021-12-13T12:49:54.026760Z"
    }
   },
   "outputs": [
    {
     "name": "stdout",
     "output_type": "stream",
     "text": [
      "CPU times: user 111 µs, sys: 100 µs, total: 211 µs\n",
      "Wall time: 131 µs\n"
     ]
    }
   ],
   "source": [
    "%%time\n",
    "import sys, os\n",
    "\n",
    "# get current directory\n",
    "path = os.getcwd()\n",
    "\n",
    "# get parent directory\n",
    "parent_directory = os.path.sep.join(path.split(os.path.sep)[:-4])\n",
    "\n",
    "# add utils folder to current working path\n",
    "sys.path.append(parent_directory+\"/subfunctions/utils\")\n",
    "\n",
    "# add integration folder to current working path\n",
    "sys.path.append(parent_directory+\"/subfunctions/integration\")\n",
    "\n",
    "# add EllipticLCS folder to current working path\n",
    "sys.path.append(parent_directory+\"/demos/AdvectiveBarriers/EllipticLCS\")"
   ]
  },
  {
   "cell_type": "markdown",
   "metadata": {},
   "source": [
    "# Overview\n",
    "\n",
    "In the following notebok we extract elliptic LCS in the Agulhas region from the AVISO dataset using a null geodesic identification scheme. The notebook is structured as follows:\n",
    "\n",
    "1. Import data from the file 'AVISO.mat' stored in the folder 'data'.\n",
    "<br />\n",
    "2. Define computational parameters (such as the number of cores) and variables.\n",
    " <br />\n",
    "3. Define spatio-temporal domain.\n",
    " <br />\n",
    "4. Interpolate velocity from the (discrete) gridded data.\n",
    " <br />\n",
    "5. Elliptic LCS:\n",
    "\n",
    "    * Compute gradient of flow map $ \\mathbf{\\nabla F}_{t_0}^{t_N}(\\mathbf{x}_0) $ over meshgrid using an auxiliary meshgrid. \n",
    "   \n",
    "    * Compute Cauchy Green (CG) strain tensor as: \n",
    "    \n",
    "    \\begin{equation} \\mathbf{C}_{t_0}^{t_N}(\\mathbf{x}_0) = \\mathbf{\\nabla F}_{t_0}^{t_N}(\\mathbf{x}_0)^T\\mathbf{\\nabla F}_{t_0}^{t_N}(\\mathbf{x}_0). \\end{equation}\n",
    "    \n",
    "    * Elliptic LCSs are closed null geodesics of the one-parameter family of Lorentzian metrics:\n",
    "    \n",
    "    \\begin{equation}\n",
    "    \\mathrm{A_{\\lambda}(\\mathbf{x},t)} = \\mathbf{C}_{t_0}^{t_N}(\\mathbf{x}) - \\lambda^2\\mathbf{I}\n",
    "    \\end{equation}\n",
    "    \n",
    "    We denote:\n",
    "    \\begin{equation}\n",
    "    \\mathbf{C}_{t_0}^{t_N}(\\mathbf{x}) = \\begin{pmatrix} C^{11} && C^{12} \\\\ C^{12} && C^{22}\\end{pmatrix}\n",
    "    \\end{equation}\n",
    "    \n",
    "    Closed null geodesics are closed curves of the system of ODE:\n",
    "    \n",
    "    \\begin{align*}\n",
    "    \\dfrac{d \\mathbf{x}}{ds} &= \\mathbf{e}_{\\phi}(s) = \\begin{pmatrix} \\cos(\\phi(s)) \\\\ \\sin(\\phi(s)) \\end{pmatrix} \\\\\n",
    "    \\dfrac{d \\phi}{ds} &= - \\dfrac{\\langle \\mathbf{e}_{\\phi}(s), (\\nabla_x A_{\\lambda}(\\mathbf{x}) \\mathbf{e}_{\\phi}(s)) \\mathbf{e}_{\\phi}(s) \\rangle}{2 \\langle \\mathbf{e}_{\\phi}, R^T A_{\\lambda}(\\mathbf{x}) \\mathbf{e}_{\\phi}(s)}, \n",
    "    \\end{align*} where $ R = \\begin{pmatrix} 0 && -1 \\\\ 1 && 0\\end{pmatrix} $\n",
    "    \n",
    "    $  \\dfrac{d \\phi}{ds} $ depends both on $ \\mathbf{x} $ and on $ \\phi $ and can be evualated through interpolation by first computing $ \\nabla_x A_{\\lambda}(\\mathbf{x}) = \\nabla_x C_{t_0}^{t_N}(\\mathbf{x}) $ over the meshgrid. \n",
    "    \n",
    "    It holds:\n",
    "    \\begin{equation}\n",
    "    \\dfrac{d \\phi}{ds} = - \\dfrac{\\cos^2(\\phi)[C_x^{11}(\\mathbf{x})\\cos(\\phi)+C_y^{11}(\\mathbf{x})\\sin(\\phi)]+[C_x^{12}(\\mathbf{x})\\cos(\\phi)+C_y^{11}(\\mathbf{x})\\sin(\\phi)]\\sin(2\\phi)+\\sin^2(\\phi)[C_x^{22}(\\mathbf{x})\\cos(\\phi)+C_y^{22}(\\mathbf{x})\\sin(\\phi)]}{\\sin(2\\phi)[C^{22}(\\mathbf{x})-C^{11}(\\mathbf{x})]+2\\cos(2\\phi)C^{12}(\\mathbf{x})}\n",
    "    \\end{equation}\n",
    "    \n",
    "    The set of initial conditions is given by:\n",
    "    \\begin{equation}\n",
    "    (\\mathbf{x}_0, \\phi_0)_{\\mu} = \\lbrace (\\mathbf{x}_0(\\lambda, \\phi = 0), 0) \\in V: C^{11}(\\mathbf{x}_0, t)- \\lambda^2 = 0 \\rbrace\n",
    "    \\end{equation}\n",
    "    \n",
    "    Furthermore the domain of existence of the ODE is restricted to points $ \\mathbf{x}, \\phi $ where:\n",
    "    \n",
    "   \\begin{equation}\n",
    "   \\sin(2\\phi)[C^{22}(\\mathbf{x})-C^{11}(\\mathbf{x})]+2\\cos(2\\phi)C^{12}(\\mathbf{x}) \\neq 0\n",
    "   \\label{eq: DOE}\n",
    "   \\end{equation}\n",
    "   \n",
    "   If the trajectory violates condition $ \\ref{eq: DOE} $, then the integration is stopped. "
   ]
  },
  {
   "cell_type": "markdown",
   "metadata": {},
   "source": [
    "# Import Data"
   ]
  },
  {
   "cell_type": "code",
   "execution_count": 2,
   "metadata": {
    "ExecuteTime": {
     "end_time": "2021-12-13T12:49:54.248228Z",
     "start_time": "2021-12-13T12:49:54.077036Z"
    }
   },
   "outputs": [
    {
     "name": "stdout",
     "output_type": "stream",
     "text": [
      "CPU times: user 126 ms, sys: 31.2 ms, total: 158 ms\n",
      "Wall time: 168 ms\n"
     ]
    }
   ],
   "source": [
    "%%time\n",
    "import scipy.io as sio\n",
    "\n",
    "#Import velocity data from file in data-folder\n",
    "mat_file = sio.loadmat('../../../../data/Aviso/AVISO.mat')\n",
    "\n",
    "U = mat_file['u']\n",
    "V = mat_file['v']\n",
    "x = mat_file['x']\n",
    "y = mat_file['y']\n",
    "time_data = mat_file['t']"
   ]
  },
  {
   "cell_type": "markdown",
   "metadata": {},
   "source": [
    "# Computational parameters and data\n",
    "\n",
    "Here we define the computational parameters and the data."
   ]
  },
  {
   "cell_type": "code",
   "execution_count": 3,
   "metadata": {
    "ExecuteTime": {
     "end_time": "2021-12-13T12:49:54.253764Z",
     "start_time": "2021-12-13T12:49:54.249936Z"
    }
   },
   "outputs": [],
   "source": [
    "import numpy as np\n",
    "\n",
    "# number of cores to be used for parallel computing\n",
    "Ncores = 18\n",
    "\n",
    "# time resolution of data\n",
    "dt_data = time_data[0,1]-time_data[0,0]\n",
    "\n",
    "# periodic boundary conditions\n",
    "periodic_x = False\n",
    "periodic_y = False\n",
    "periodic = [periodic_x, periodic_y]\n",
    "\n",
    "# unsteady velocity field\n",
    "bool_unsteady = True\n",
    "\n",
    "# defined domain\n",
    "# This array denotes where the velocity field is defined (=1) and where it is not defined (=0)\n",
    "defined_domain = np.isfinite(U[:,:,0]).astype(int)\n",
    "\n",
    "## meshgrid\n",
    "X, Y = np.meshgrid(x, y)\n",
    "\n",
    "## resolution of meshgrid\n",
    "dx_data = X[0,1]-X[0,0]\n",
    "dy_data = Y[1,0]-Y[0,0]\n",
    "\n",
    "delta = [dx_data, dy_data]"
   ]
  },
  {
   "cell_type": "markdown",
   "metadata": {},
   "source": [
    "# Spatio-temporal domain\n",
    "\n",
    "Here we define the spatio-temporal domain over which to consider the dynamical system."
   ]
  },
  {
   "cell_type": "code",
   "execution_count": 4,
   "metadata": {
    "ExecuteTime": {
     "end_time": "2021-12-13T12:49:54.259860Z",
     "start_time": "2021-12-13T12:49:54.255530Z"
    }
   },
   "outputs": [
    {
     "name": "stdout",
     "output_type": "stream",
     "text": [
      "CPU times: user 917 µs, sys: 992 µs, total: 1.91 ms\n",
      "Wall time: 1.01 ms\n"
     ]
    }
   ],
   "source": [
    "%%time\n",
    "# Initial time (in days)\n",
    "t0 = 0\n",
    "\n",
    "# Final time (in days)\n",
    "tN = 25\n",
    "\n",
    "# time step-size\n",
    "dt = .1\n",
    "\n",
    "lenT = tN-t0\n",
    "\n",
    "time = np.arange(t0, tN+dt, dt)\n",
    "\n",
    "# domain boundary (in degrees)\n",
    "xmin = -3\n",
    "xmax = 1\n",
    "ymin = -32\n",
    "ymax = -24\n",
    "\n",
    "# make sure that the spatio-temporal you defined are within the domain of the data\n",
    "assert (xmax <= np.max(X) and xmin >= np.min(X) and ymin >= np.min(Y) and ymax <= np.max(Y) and t0 >= np.min(time_data) and tN <= np.max(time_data)),\"The domains you are chooising are outside the domain of the data!!!!! --> redefine spatial/temporal domain\"\n",
    "\n",
    "# spacing of meshgrid (in degrees)\n",
    "dx = 0.02\n",
    "dy = 0.02\n",
    "\n",
    "# NOTE: As we are computing spatial derivatives of the CG-tensor, the spacing of the meshgrid has to be sufficiently small.\n",
    "# However, choosing dx to be too small leads to (unnecessary) long computation times.\n",
    "\n",
    "x_domain = np.arange(xmin, xmax + dx, dx)\n",
    "y_domain = np.arange(ymin, ymax + dy, dy)\n",
    "\n",
    "X_domain, Y_domain = np.meshgrid(x_domain, y_domain)"
   ]
  },
  {
   "cell_type": "markdown",
   "metadata": {},
   "source": [
    "# Interpolate Velocity\n",
    "\n",
    "In order to evaluate the velocity field at arbitrary locations and times, we interpolate the discrete velocity data. The interpolation with respect to time is always linear. The interpolation with respect to space can be chosen to be \"cubic\" or \"linear\"."
   ]
  },
  {
   "cell_type": "code",
   "execution_count": 5,
   "metadata": {
    "ExecuteTime": {
     "end_time": "2021-12-13T12:49:54.346133Z",
     "start_time": "2021-12-13T12:49:54.261559Z"
    }
   },
   "outputs": [
    {
     "name": "stdout",
     "output_type": "stream",
     "text": [
      "CPU times: user 62.6 ms, sys: 16.1 ms, total: 78.8 ms\n",
      "Wall time: 81.6 ms\n"
     ]
    }
   ],
   "source": [
    "%%time\n",
    "# Import interpolation function for unsteady flow field\n",
    "from ipynb.fs.defs.Interpolant import interpolant_unsteady\n",
    "\n",
    "# set nan values to zero so that we can apply interpolant. Interpolant does not work if the array contains nan values\n",
    "U[np.isnan(U)] = 0\n",
    "V[np.isnan(V)] = 0\n",
    "\n",
    "# Interpolate velocity data using cubic spatial interpolation\n",
    "Interpolant = interpolant_unsteady(X, Y, U, V, time_data, method = \"cubic\")"
   ]
  },
  {
   "cell_type": "markdown",
   "metadata": {},
   "source": [
    "# Cauchy Green (CG) strain tensor\n",
    "\n",
    "The Cauchy Green strain tensor $ C_{t_0}^t(\\mathbf{x}) $ is computing by using an auxiliary meshgrid. 'aux_grid' specifies the ratio between the auxiliary grid and the original meshgrid. This parameter is generally chosen to be between $ [\\dfrac{1}{5}, \\dfrac{1}{10}] $. The computations are parallelized."
   ]
  },
  {
   "cell_type": "code",
   "execution_count": 6,
   "metadata": {
    "ExecuteTime": {
     "end_time": "2021-12-13T12:53:24.044538Z",
     "start_time": "2021-12-13T12:49:54.348007Z"
    }
   },
   "outputs": [
    {
     "data": {
      "application/vnd.jupyter.widget-view+json": {
       "model_id": "f75251a04a7b40cf8f7734cfd917003c",
       "version_major": 2,
       "version_minor": 0
      },
      "text/plain": [
       "  0%|          | 0/401 [00:00<?, ?it/s]"
      ]
     },
     "metadata": {},
     "output_type": "display_data"
    },
    {
     "name": "stdout",
     "output_type": "stream",
     "text": [
      "CPU times: user 7.23 s, sys: 3.13 s, total: 10.4 s\n",
      "Wall time: 3min 29s\n"
     ]
    }
   ],
   "source": [
    "%%time\n",
    "# Import package for progress bar\n",
    "from tqdm.notebook import tqdm\n",
    "\n",
    "# Import package for parallel computing\n",
    "from joblib import Parallel, delayed\n",
    "\n",
    "# Import gradient of velocity function\n",
    "from ipynb.fs.defs.gradient_flowmap import gradient_flowmap\n",
    "\n",
    "# Import Rate of Strain function\n",
    "from ipynb.fs.defs.CauchyGreen import CauchyGreen\n",
    "\n",
    "# Import package which checks particle location\n",
    "from ipynb.fs.defs.check_location import check_location\n",
    "\n",
    "# Define ratio of auxiliary grid spacing vs original grid_spacing\n",
    "aux_grid_ratio = .2 # [1/5, 1/10]\n",
    "aux_grid = [np.around(aux_grid_ratio*(X_domain[0, 1]-X_domain[0, 0]), 5), np.around(aux_grid_ratio*(Y_domain[1, 0]-Y_domain[0, 0]), 5)]\n",
    "\n",
    "def parallel_C(i):\n",
    "    \n",
    "    C_parallel = np.zeros((X_domain.shape[1], 2, 2))*np.nan\n",
    "    \n",
    "    for j in range(C_parallel.shape[0]):\n",
    "        \n",
    "        x = np.array([X_domain[i,j], Y_domain[i,j]])\n",
    "        \n",
    "        # only compute CG tensor for particles in region where velocity field is defined\n",
    "        if check_location(X, Y, defined_domain, x)[0] == \"IN\":\n",
    "        \n",
    "            # Compute gradient of flowmap\n",
    "            gradFmap = gradient_flowmap(time, x, X, Y, Interpolant, periodic, defined_domain, bool_unsteady, dt_data, delta, aux_grid)\n",
    "        \n",
    "            # gradFmap has shape (2, 2, len(time)) --> we need gradient of flow map from t0 to tN\n",
    "            gradFmap_t0_tN = gradFmap[:,:,-1]\n",
    "        \n",
    "            # Compute CG tensor\n",
    "            C_parallel[j, :, :] = CauchyGreen(gradFmap_t0_tN)\n",
    "    \n",
    "    return C_parallel\n",
    "\n",
    "C = np.array(Parallel(n_jobs=Ncores, verbose = 0)(delayed(parallel_C)(i) for i in tqdm(range(X_domain.shape[0]))))"
   ]
  },
  {
   "cell_type": "markdown",
   "metadata": {},
   "source": [
    "# Compute Tensorfield"
   ]
  },
  {
   "cell_type": "code",
   "execution_count": 7,
   "metadata": {
    "ExecuteTime": {
     "end_time": "2021-12-13T12:53:27.689939Z",
     "start_time": "2021-12-13T12:53:24.046293Z"
    }
   },
   "outputs": [],
   "source": [
    "# Import (cubic) RectBivariateSpline from scipy\n",
    "from scipy.interpolate import RectBivariateSpline as RBS\n",
    "        \n",
    "# Compute elements of CG tensor\n",
    "C11 = C[:,:,0,0].copy()\n",
    "C12 = C[:,:,0,1].copy()\n",
    "C22 = C[:,:,1,1].copy()\n",
    "    \n",
    "# Interpolate elements of CG tensor (per default: linear)\n",
    "interp_C11 = RBS(Y_domain[:,0], X_domain[0,:], np.nan_to_num(C11, nan=0.0), kx = 1, ky = 1)\n",
    "interp_C12 = RBS(Y_domain[:,0], X_domain[0,:], np.nan_to_num(C12, nan=0.0), kx = 1, ky = 1)\n",
    "interp_C22 = RBS(Y_domain[:,0], X_domain[0,:], np.nan_to_num(C22, nan=0.0), kx = 1, ky = 1)\n",
    "\n",
    "# Initialize gradients of CG tensor\n",
    "C11x = np.zeros((C.shape[0], C.shape[1]))*np.nan\n",
    "C11y = np.zeros((C.shape[0], C.shape[1]))*np.nan\n",
    "C12x = np.zeros((C.shape[0], C.shape[1]))*np.nan\n",
    "C12y = np.zeros((C.shape[0], C.shape[1]))*np.nan\n",
    "C22x = np.zeros((C.shape[0], C.shape[1]))*np.nan\n",
    "C22y = np.zeros((C.shape[0], C.shape[1]))*np.nan\n",
    "    \n",
    "# Define auxilary meshgrid\n",
    "rho_x = aux_grid[0]/2\n",
    "rho_y = aux_grid[1]/2\n",
    "        \n",
    "#iterate over meshgrid to compute gradients of CG tensor\n",
    "for i in range(X_domain.shape[0]):\n",
    "        \n",
    "    for j in range(Y_domain.shape[1]):\n",
    "            \n",
    "        x = [X_domain[i,j], Y_domain[i, j]]\n",
    "        \n",
    "        # compute derivatives using auxiliary grid and finite-differencing\n",
    "        C11x[i, j] = (interp_C11(x[1], x[0]+rho_x)[0][0]-interp_C11(x[1], x[0]-rho_x)[0][0])/(2*rho_x)\n",
    "        C11y[i, j] = (interp_C11(x[1]+rho_y, x[0])[0][0]-interp_C11(x[1]-rho_y, x[0])[0][0])/(2*rho_y)\n",
    "        \n",
    "        C12x[i, j] = (interp_C12(x[1], x[0]+rho_x)[0][0]-interp_C12(x[1], x[0]-rho_x)[0][0])/(2*rho_x)\n",
    "        C12y[i, j] = (interp_C12(x[1]+rho_y, x[0])[0][0]-interp_C12(x[1]-rho_y, x[0])[0][0])/(2*rho_y)\n",
    "            \n",
    "        C22x[i, j] = (interp_C22(x[1], x[0]+rho_x)[0][0]-interp_C22(x[1], x[0]-rho_x)[0][0])/(2*rho_x)\n",
    "        C22y[i, j] = (interp_C22(x[1]+rho_y, x[0])[0][0]-interp_C22(x[1]-rho_y, x[0])[0][0])/(2*rho_y)"
   ]
  },
  {
   "cell_type": "markdown",
   "metadata": {},
   "source": [
    "# Interpolate $ \\dot{\\phi}(x, y, \\phi)$ "
   ]
  },
  {
   "cell_type": "code",
   "execution_count": 8,
   "metadata": {
    "ExecuteTime": {
     "end_time": "2021-12-13T12:53:29.202394Z",
     "start_time": "2021-12-13T12:53:27.691428Z"
    }
   },
   "outputs": [
    {
     "name": "stdout",
     "output_type": "stream",
     "text": [
      "CPU times: user 2.14 s, sys: 4.02 s, total: 6.15 s\n",
      "Wall time: 1.51 s\n"
     ]
    }
   ],
   "source": [
    "%%time\n",
    "from ipynb.fs.defs.phi_prime import _phi_prime\n",
    "\n",
    "# Interpolant of phi_phrime (interp_phi_prime) \n",
    "# Interpolant indicating domain of existence (= denominator of phi_prime) (interp_DOE)\n",
    "interp_phi_prime, interp_DOE = _phi_prime(X_domain, Y_domain, C11, C12, C22, C11x, C11y, C12x, C12y, C22x, C22y)"
   ]
  },
  {
   "cell_type": "markdown",
   "metadata": {},
   "source": [
    "# Elliptic LCSs\n",
    "\n",
    "Elliptic LCSs are closed null geodesics of the one-parameter family of Lorentzian metrics $ C_{t_0}^{t_N}(\\mathbf{x}_0) − \\lambda^2 \\mathbf{I} $. $ \\lambda ∈ \\mathbb{R} $ denotes the averaged tangential stretching over the time-interval $ [t_0, t_N] $ along an elliptic LCS. For perfectly coherent elliptic LCS it holds $ \\lambda = 0 $.  "
   ]
  },
  {
   "cell_type": "code",
   "execution_count": null,
   "metadata": {
    "ExecuteTime": {
     "start_time": "2021-12-13T12:49:54.213Z"
    }
   },
   "outputs": [
    {
     "name": "stdout",
     "output_type": "stream",
     "text": [
      "[Parallel(n_jobs=18)]: Using backend LokyBackend with 18 concurrent workers.\n"
     ]
    }
   ],
   "source": [
    "%%time\n",
    "# import plotting library\n",
    "import matplotlib.pyplot as plt\n",
    "import matplotlib as mpl\n",
    "\n",
    "# Import function to extract closed null geodesics\n",
    "from ipynb.fs.defs.closed_null_geodesics import _closed_null_geodesics\n",
    "\n",
    "# extract elliptic LCS from closed null geodesics\n",
    "from ipynb.fs.defs.elliptic_LCS import _elliptic_LCS\n",
    "\n",
    "# define lambda range\n",
    "lam_min = .9\n",
    "lam_max = 1.1\n",
    "n_lam = Ncores\n",
    "lam_range = np.linspace(lam_min, lam_max, n_lam)\n",
    "\n",
    "# threshold distance between starting and return point of trajectory\n",
    "d_threshold = 0.02\n",
    "\n",
    "# compute elliptic LCS\n",
    "def compute_elliptic_LCS(lam):\n",
    "    \n",
    "    # Define list storing x, y coordinates of elliptic LCS\n",
    "    x_elliptic, y_elliptic = [], []\n",
    "    \n",
    "    # Find all closed null geodesics\n",
    "    closed_null_geodesics, init_lam = _closed_null_geodesics(X_domain, Y_domain, lam, interp_phi_prime, d_threshold, C11, interp_DOE)\n",
    "    \n",
    "    # Extract elliptic LCS\n",
    "    x_elliptic, y_elliptic = _elliptic_LCS(closed_null_geodesics)\n",
    "        \n",
    "    return [x_elliptic, y_elliptic, init_lam]\n",
    "        \n",
    "# conmpute elliptic LCS with parallel computing\n",
    "Elliptic_LCS = Parallel(n_jobs=Ncores, verbose = 50)(delayed(compute_elliptic_LCS)(lam) for lam in lam_range)"
   ]
  },
  {
   "cell_type": "code",
   "execution_count": null,
   "metadata": {
    "ExecuteTime": {
     "start_time": "2021-12-13T12:49:54.214Z"
    }
   },
   "outputs": [],
   "source": [
    "%%time\n",
    "######################################## Plot elliptic LCS ########################################\n",
    "\n",
    "# import plotting library\n",
    "import matplotlib.pyplot as plt\n",
    "import matplotlib as mpl\n",
    "\n",
    "# Define figure/axes\n",
    "fig = plt.figure(figsize = (9, 6), dpi = 600)\n",
    "ax = plt.axes()\n",
    "\n",
    "# Define norm/cmap\n",
    "norm = mpl.colors.Normalize(vmin=lam_range.min(), vmax=lam_range.max())\n",
    "cmap = mpl.cm.ScalarMappable(norm=norm, cmap='gist_rainbow_r')\n",
    "\n",
    "# Iterate over all elliptic LCS and plot\n",
    "for i in range(len(Elliptic_LCS)):\n",
    "    \n",
    "    # Plot initial conditions\n",
    "    ax.scatter(Elliptic_LCS[i][2][0], Elliptic_LCS[i][2][1], color=cmap.to_rgba(lam_range[i]), s = 0.1)\n",
    "    \n",
    "    # Plot elliptic LCS\n",
    "    if Elliptic_LCS[i][0] is not None:\n",
    "        for j in range(len(Elliptic_LCS[i][0])):\n",
    "            if Elliptic_LCS[i][0][j] is not None:\n",
    "                ax.plot(Elliptic_LCS[i][0][j], Elliptic_LCS[i][1][j], c=cmap.to_rgba(lam_range[i]), linewidth = 1)\n",
    "\n",
    "# Set axis limits\n",
    "ax.set_xlim([xmin, xmax])\n",
    "ax.set_ylim([ymin, ymax])\n",
    "\n",
    "# Set axis labels\n",
    "ax.set_xlabel(\"long (°)\", fontsize = 16)\n",
    "ax.set_ylabel(\"lat (°)\", fontsize = 16)\n",
    "\n",
    "# Colorbar\n",
    "cbar = fig.colorbar(cmap, ticks=[lam_range.min(), 1, lam_range.max()])\n",
    "cbar.ax.set_ylabel(r'$ \\lambda $', rotation = 0, fontsize = 10)\n",
    "\n",
    "# Title\n",
    "ax.set_title(\"Elliptic LCS\", fontsize = 20)\n",
    "plt.show();"
   ]
  },
  {
   "cell_type": "markdown",
   "metadata": {},
   "source": [
    "We obtain three objectively detected elliptic LCS families. The (colored) closed curves indicate elliptic LCS for different values of $ \\lambda $. Furthermore, the initial conditions $ \\mathbf{x}_0(\\lambda, \\phi_0 = 0) $ are also plotted as a function of $ \\lambda $ (see colormap)."
   ]
  },
  {
   "cell_type": "markdown",
   "metadata": {},
   "source": [
    "# Advect Elliptic LCS\n",
    "\n",
    "We now advect the computed elliptic LCS over a period of 25 days. The colored dashed lines denote the elliptic OECS computed at $ t_0 = 0$, whereas the colored solid lined indicate the same elliptic LCS advected after 25 days. As expected the detected elliptic LCS show coherent behaviour even after advection and barely deform."
   ]
  },
  {
   "cell_type": "code",
   "execution_count": null,
   "metadata": {
    "ExecuteTime": {
     "start_time": "2021-12-13T12:49:54.250Z"
    }
   },
   "outputs": [],
   "source": [
    "# Import package for computing trajectories\n",
    "from ipynb.fs.defs.integration_dFdt import integration_dFdt\n",
    "\n",
    "# define time-horizon over which to advect\n",
    "time_advect = time.copy()\n",
    "\n",
    "# Define figure/axes\n",
    "fig = plt.figure(figsize = (9, 6), dpi = 600)\n",
    "ax = plt.axes()\n",
    "\n",
    "# Define norm/cmap\n",
    "norm = mpl.colors.Normalize(vmin=lam_range.min(), vmax=lam_range.max())\n",
    "cmap = mpl.cm.ScalarMappable(norm=norm, cmap='gist_rainbow_r')\n",
    "\n",
    "# Iterate over all elliptic LCS and plot\n",
    "for i in range(len(Elliptic_LCS)):\n",
    "    # dummy plot\n",
    "    ax.scatter(np.nan, np.nan, s = 1, color=cmap.to_rgba(lam_range[i]))\n",
    "    if Elliptic_LCS[i][0] is not None:\n",
    "        for j in range(len(Elliptic_LCS[i][0])):\n",
    "            if Elliptic_LCS[i][0][j] is not None:\n",
    "                ax.plot(Elliptic_LCS[i][0][j], Elliptic_LCS[i][1][j], c=cmap.to_rgba(lam_range[i]), linewidth = 1, linestyle = \"dashed\")\n",
    "                \n",
    "                x_advected, y_advected = [], []\n",
    "                \n",
    "                # advect Elliptic LCS\n",
    "                for t in range(len(Elliptic_LCS[i][0][j])):\n",
    "                    \n",
    "                    x = np.array([Elliptic_LCS[i][0][j][t], Elliptic_LCS[i][1][j][t]])\n",
    "                    \n",
    "                    # Advect LCS over 25 days\n",
    "                    Fmap = integration_dFdt(time_advect, x, X, Y, Interpolant, periodic, defined_domain, bool_unsteady, dt_data, delta)[0]\n",
    "\n",
    "                    # extract end-point of advection\n",
    "                    x_end = Fmap[:,-1]\n",
    "                    \n",
    "                    x_advected.append(x_end[0])\n",
    "                    y_advected.append(x_end[1])\n",
    "                    \n",
    "                ax.plot(x_advected, y_advected, c=cmap.to_rgba(lam_range[i]), linewidth = 1)\n",
    "                \n",
    "# Set axis labels\n",
    "ax.set_xlabel(\"long (°)\", fontsize = 16)\n",
    "ax.set_ylabel(\"lat (°)\", fontsize = 16)\n",
    "\n",
    "# Colorbar\n",
    "cbar = fig.colorbar(cmap, ticks=[lam_range.min(), 1, lam_range.max()])\n",
    "cbar.ax.set_ylabel(r'$ \\lambda $', rotation = 0, fontsize = 10)\n",
    "\n",
    "# Title\n",
    "ax.set_title(\"Advected LCSs vs initial LCSs\", fontsize = 20)\n",
    "plt.show();"
   ]
  },
  {
   "cell_type": "markdown",
   "metadata": {},
   "source": [
    "# Find outermost closed curve for each family of elliptic LCS\n",
    "\n",
    "We now seek to find the outermost elliptic LCS within each family of elliptic LCSs. The extracted (outermost) elliptic LCSs are plotted together with the FTLE."
   ]
  },
  {
   "cell_type": "code",
   "execution_count": null,
   "metadata": {
    "ExecuteTime": {
     "start_time": "2021-12-13T12:49:54.270Z"
    }
   },
   "outputs": [],
   "source": [
    "# add FTLE folder to current working path in order to access the functions\n",
    "sys.path.append(parent_directory+\"/demos/AdvectiveBarriers/FTLE\")\n",
    "\n",
    "# Import function for computing FTLE\n",
    "from ipynb.fs.defs.FTLE import _FTLE\n",
    "\n",
    "# import function which extracts outermost elliptic LCS for each family of elliptic LDB\n",
    "from ipynb.fs.defs.find_outermost_closed_curve import find_outermost_closed_curve\n",
    "\n",
    "# find outermost elliptic LCS in each family of elliptic LCS\n",
    "x_outermost_elliptic_LCS, y_outermost_elliptic_LCS, lambda_outermost_elliptic_LCS = find_outermost_closed_curve(Elliptic_LCS, lam_range)\n",
    "\n",
    "# initialize FTLE\n",
    "FTLE = C[:,:,0,0].copy()*np.nan\n",
    "\n",
    "# compute FTLE field\n",
    "for i in range(C.shape[0]):\n",
    "    for j in range(C.shape[1]):\n",
    "        FTLE[i, j] = _FTLE(C[i, j, :, :], lenT)"
   ]
  },
  {
   "cell_type": "code",
   "execution_count": null,
   "metadata": {
    "ExecuteTime": {
     "start_time": "2021-12-13T12:49:54.271Z"
    }
   },
   "outputs": [],
   "source": [
    "%%time\n",
    "######################################## Plot outermost elliptic LCS on top of FTLE ########################################\n",
    "\n",
    "# import plotting library\n",
    "import matplotlib.pyplot as plt\n",
    "import matplotlib as mpl\n",
    "\n",
    "# Define figure/axes\n",
    "fig = plt.figure(figsize = (9, 6), dpi = 600)\n",
    "ax = plt.axes()\n",
    "\n",
    "# Iterate over all outermost elliptic LCS and plot\n",
    "for i in range(len(x_outermost_elliptic_LCS)):\n",
    "    \n",
    "    ax.plot(x_outermost_elliptic_LCS[i], y_outermost_elliptic_LCS[i], label = r'$ \\lambda = $' + str(np.around(lambda_outermost_elliptic_LCS[i], 2)))\n",
    "    \n",
    "# Set axis limits\n",
    "ax.set_xlim([xmin, xmax])\n",
    "ax.set_ylim([ymin, ymax])\n",
    "\n",
    "# Set axis labels\n",
    "ax.set_xlabel(\"long (°)\", fontsize = 16)\n",
    "ax.set_ylabel(\"lat (°)\", fontsize = 16)\n",
    "\n",
    "cax = ax.contourf(X_domain, Y_domain, FTLE, cmap = \"gist_gray\", levels = 600)\n",
    "\n",
    "# Colorbar of FTLE\n",
    "cbar = fig.colorbar(cax, ticks = np.arange(0, 0.4, 0.05))\n",
    "cbar.ax.set_ylabel(r'$ FTLE $', rotation = 90, fontsize = 10)\n",
    "\n",
    "# Title\n",
    "ax.set_title(\"Elliptic LCS on FTLE\", fontsize = 20)\n",
    "\n",
    "plt.legend(loc = \"upper right\")\n",
    "plt.show();"
   ]
  },
  {
   "cell_type": "markdown",
   "metadata": {},
   "source": [
    "# References\n",
    "\n",
    "[1] Serra, M., & Haller, G. (2017). Efficient computation of null geodesics with applications to coherent vortex detection. Proceedings of the Royal Society A: Mathematical, Physical and Engineering Sciences, 473(2199)."
   ]
  }
 ],
 "metadata": {
  "kernelspec": {
   "display_name": "Python 3",
   "language": "python",
   "name": "python3"
  },
  "language_info": {
   "codemirror_mode": {
    "name": "ipython",
    "version": 3
   },
   "file_extension": ".py",
   "mimetype": "text/x-python",
   "name": "python",
   "nbconvert_exporter": "python",
   "pygments_lexer": "ipython3",
   "version": "3.7.11"
  },
  "toc": {
   "base_numbering": 1,
   "nav_menu": {},
   "number_sections": true,
   "sideBar": true,
   "skip_h1_title": false,
   "title_cell": "Table of Contents",
   "title_sidebar": "Contents",
   "toc_cell": false,
   "toc_position": {},
   "toc_section_display": true,
   "toc_window_display": false
  }
 },
 "nbformat": 4,
 "nbformat_minor": 4
}
