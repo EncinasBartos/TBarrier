{
 "cells": [
  {
   "cell_type": "markdown",
   "metadata": {},
   "source": [
    "This function computes the set of admissible initial conditions such that:\n",
    "    \n",
    "\\begin{equation}\n",
    "C^{11}(\\mathbf{x}) \\cos^2(\\phi)+C^{12}\\sin(2\\phi)+C^{22}(\\mathbf{x})\\sin^2(\\phi) - \\lambda^2 = 0\n",
    "\\label{eq: IC}\n",
    "\\end{equation}\n",
    "\n",
    "By selecting $ \\phi_0 = 0 $, the set of initial conditions is given by:\n",
    "\n",
    "\\begin{equation}\n",
    "(\\mathbf{x}_0, \\phi_0)_{\\mu} = \\lbrace (\\mathbf{x}_0, 0):C^{11}(\\mathbf{x}_0) - \\lambda^2 = 0 \\rbrace,\n",
    "\\end{equation} with $ \\mathbf{x}_0 = \\begin{pmatrix} x_0 \\\\ y_0 \\end{pmatrix} $\n",
    "\n",
    "| Name | Type (Shape) | Description |\n",
    "| --- | --- | --- |\n",
    "| X | array (Ny, Nx) | X-meshgrid|\n",
    "| Y | array (Ny, Nx) | Y-meshgrid|\n",
    "| C11 | array (Ny, Nx) | $ {C^{11}}(\\mathbf{x}_0) $|\n",
    "| lam | float | $ \\lambda $|\n",
    "|x0lam | list | $ x_0(\\lambda) $ |\n",
    "|y0lam | list | $ y_0(\\lambda) $ |\n",
    "|phi0lam | list | $ \\phi_0(\\lambda) $ |"
   ]
  },
  {
   "cell_type": "code",
   "execution_count": null,
   "metadata": {},
   "outputs": [],
   "source": [
    "# import numpy\n",
    "import numpy as np\n",
    "\n",
    "# Import package to compute level set\n",
    "from skimage import measure"
   ]
  },
  {
   "cell_type": "code",
   "execution_count": 1,
   "metadata": {
    "ExecuteTime": {
     "end_time": "2021-12-16T15:39:54.867996Z",
     "start_time": "2021-12-16T15:39:54.863277Z"
    }
   },
   "outputs": [],
   "source": [
    "# compute initial level set\n",
    "def _init_level_set(X, Y, C11, lam):\n",
    "\n",
    "    # Initialize the output variables \n",
    "    x0lam = [];\n",
    "    y0lam = [];\n",
    "\n",
    "    # Compute the initial conditions g_0 given \\mu\n",
    "    ZeroSet = C11-lam**2;\n",
    "    \n",
    "    # Extract the x_0(\\lambda,\\phi_0)\n",
    "    contour = measure.find_contours(ZeroSet, 0)\n",
    "    \n",
    "    # Iterate over all points in the ZeroSet\n",
    "    for c in contour:\n",
    "        \n",
    "        # compute contours\n",
    "        x_contour = np.min(X)+(np.max(X)-np.min(X))/(X.shape[1])*c[:, 1]\n",
    "        y_contour = np.min(Y)+(np.max(Y)-np.min(Y))/(Y.shape[0])*c[:, 0]\n",
    "        \n",
    "        # append contours\n",
    "        for idx in range(0, len(x_contour)):\n",
    "    \n",
    "            x0lam.append(x_contour[idx])\n",
    "            y0lam.append(y_contour[idx])\n",
    "    \n",
    "    # Set all phi_0 = 0\n",
    "    phi0lam = [0]*len(x0lam)\n",
    "    \n",
    "    return x0lam, y0lam, phi0lam"
   ]
  }
 ],
 "metadata": {
  "kernelspec": {
   "display_name": "Python 3",
   "language": "python",
   "name": "python3"
  },
  "language_info": {
   "codemirror_mode": {
    "name": "ipython",
    "version": 3
   },
   "file_extension": ".py",
   "mimetype": "text/x-python",
   "name": "python",
   "nbconvert_exporter": "python",
   "pygments_lexer": "ipython3",
   "version": "3.7.11"
  },
  "toc": {
   "base_numbering": 1,
   "nav_menu": {},
   "number_sections": true,
   "sideBar": true,
   "skip_h1_title": false,
   "title_cell": "Table of Contents",
   "title_sidebar": "Contents",
   "toc_cell": false,
   "toc_position": {},
   "toc_section_display": true,
   "toc_window_display": false
  }
 },
 "nbformat": 4,
 "nbformat_minor": 4
}
