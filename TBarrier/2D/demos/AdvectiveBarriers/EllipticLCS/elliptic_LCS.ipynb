{
 "cells": [
  {
   "cell_type": "markdown",
   "metadata": {},
   "source": [
    "Given a set of elliptic LCS candidates, we seek to extract the closed null geodesic curve corresponding which has the minimum re-intersection distance."
   ]
  },
  {
   "cell_type": "markdown",
   "metadata": {},
   "source": [
    "| Name | Type (Shape) | Description |\n",
    "| --- | --- | --- |\n",
    "| closed_null_geodesics | list (N,) | list containing $ N $ closed null geodesics\n",
    "| x_elliptic | list | list containing x-coordinates of elliptic LCS\n",
    "| y_elliptic | list | list containing y-coordinates of elliptic LCS"
   ]
  },
  {
   "cell_type": "code",
   "execution_count": 3,
   "metadata": {
    "ExecuteTime": {
     "end_time": "2021-11-26T12:02:40.998213Z",
     "start_time": "2021-11-26T12:02:40.908453Z"
    }
   },
   "outputs": [],
   "source": [
    "# Import numpy\n",
    "import numpy as np\n",
    "\n",
    "# Import shapely library to create polygons and points\n",
    "from shapely.geometry import Polygon, Point\n",
    "\n",
    "# Import math tools\n",
    "from math import sqrt"
   ]
  },
  {
   "cell_type": "code",
   "execution_count": 4,
   "metadata": {
    "ExecuteTime": {
     "end_time": "2021-11-26T12:02:41.013173Z",
     "start_time": "2021-11-26T12:02:40.999244Z"
    }
   },
   "outputs": [],
   "source": [
    "def _elliptic_LCS(closed_null_geodesics):\n",
    "    \n",
    "    Poly = []\n",
    "    return_distance = []\n",
    "    \n",
    "    for geodesics in closed_null_geodesics:\n",
    "        \n",
    "        if np.sum(geodesics[0]) is not None:\n",
    "            \n",
    "            x = geodesics[0]\n",
    "            y = geodesics[1]\n",
    "        \n",
    "            # compute Polygon object of closed null geodesics\n",
    "            Poly.append(Polygon(zip(x, y)))\n",
    "            \n",
    "            # compute re-intersection distance of closed null geodesics\n",
    "            return_distance.append(sqrt((x[-1]-x[0])**2+(y[-1]-y[0])**2))\n",
    "\n",
    "    # if no closed null geodesic is found then return 'nan'\n",
    "    if len(return_distance) == 0:\n",
    "        return None, None\n",
    "    \n",
    "    x_elliptic, y_elliptic = [], []\n",
    "    \n",
    "    # if only one closed null geodesic is found --> return it to main function as this is an elliptic OECS.\n",
    "    if len(return_distance) == 1:\n",
    "        return x_elliptic.append(x), y_elliptic.append(y)\n",
    "    \n",
    "    # sort geodesic curves from minimum re-intersection distance to maximum re-intersection distance:\n",
    "    return_distance_sorted, closed_null_geodesics_sorted = zip(*sorted(zip(return_distance, closed_null_geodesics)))\n",
    "    return_distance_sorted, Poly_sorted = zip(*sorted(zip(return_distance, Poly)))\n",
    "\n",
    "    closed_elliptic_LCS = []\n",
    "    \n",
    "    # iterate over all closed curves\n",
    "    for idx, Poly_geodesics in enumerate(Poly_sorted):\n",
    "        \n",
    "        # If first closed elliptic LCS, then set the center as a reference\n",
    "        if idx == 0:\n",
    "            \n",
    "            # coordinates of closed curve\n",
    "            coords = np.array(Poly_geodesics.exterior.coords)\n",
    "        \n",
    "            x = coords[:, 0]\n",
    "            y = coords[:, 1]\n",
    "        \n",
    "            # compute centroid of closed curve\n",
    "            x_c = np.mean(x)\n",
    "            y_c = np.mean(y)\n",
    "            \n",
    "            closed_elliptic_LCS.append([x_c, y_c, Poly_geodesics])\n",
    "           \n",
    "        else:\n",
    "            \n",
    "            # assume that closed curve is a new vortex\n",
    "            bool_create_vortex = True\n",
    "            \n",
    "            # iterate over all closed null geodesics\n",
    "            for v in range(len(closed_elliptic_LCS)):\n",
    "                \n",
    "                # If center of elliptic LCS is contained inside the closed curve\n",
    "                # --> no new elliptic LCS is create.\n",
    "                if Poly_geodesics.contains(Point(closed_elliptic_LCS[v][0], closed_elliptic_LCS[v][1])):\n",
    "                    bool_create_vortex = False\n",
    "                    break\n",
    "            \n",
    "            if bool_create_vortex:\n",
    "                # create new elliptic LCS\n",
    "                x_c = np.mean(np.array(Poly_geodesics.exterior.coords)[:,0])\n",
    "                y_c = np.mean(np.array(Poly_geodesics.exterior.coords)[:,1])\n",
    "                closed_elliptic_LCS.append([x_c, y_c, Poly_geodesics])\n",
    "    \n",
    "    # Iterate over all elliptic LCS and store the x/y coordinates.\n",
    "    for v in closed_elliptic_LCS:\n",
    "        \n",
    "        coords = np.array(v[2].exterior.coords)\n",
    "        \n",
    "        x = coords[:, 0]\n",
    "        y = coords[:, 1]\n",
    "        \n",
    "        x_elliptic.append(x)\n",
    "        y_elliptic.append(y)\n",
    "\n",
    "    return x_elliptic, y_elliptic"
   ]
  }
 ],
 "metadata": {
  "kernelspec": {
   "display_name": "Python 3",
   "language": "python",
   "name": "python3"
  },
  "language_info": {
   "codemirror_mode": {
    "name": "ipython",
    "version": 3
   },
   "file_extension": ".py",
   "mimetype": "text/x-python",
   "name": "python",
   "nbconvert_exporter": "python",
   "pygments_lexer": "ipython3",
   "version": "3.7.11"
  },
  "toc": {
   "base_numbering": 1,
   "nav_menu": {},
   "number_sections": true,
   "sideBar": true,
   "skip_h1_title": false,
   "title_cell": "Table of Contents",
   "title_sidebar": "Contents",
   "toc_cell": false,
   "toc_position": {},
   "toc_section_display": true,
   "toc_window_display": false
  }
 },
 "nbformat": 4,
 "nbformat_minor": 4
}
