{
 "cells": [
  {
   "cell_type": "markdown",
   "metadata": {
    "ExecuteTime": {
     "end_time": "2021-12-07T22:53:12.570684Z",
     "start_time": "2021-12-07T22:53:12.561736Z"
    }
   },
   "source": [
    "| Name | Type (Shape) | Description |\n",
    "| --- | --- | --- |\n",
    "| X | array (Ny, Nx) | X-meshgrid |\n",
    "| Y | array (Ny, Nx) | Y-meshgrid |\n",
    "| x | array (2,) | location |\n",
    "| vector_field | array (Ny, Nx, 2) | eigenvector field |"
   ]
  },
  {
   "cell_type": "code",
   "execution_count": null,
   "metadata": {},
   "outputs": [],
   "source": [
    "# Import numpy\n",
    "import numpy as np"
   ]
  },
  {
   "cell_type": "code",
   "execution_count": null,
   "metadata": {},
   "outputs": [],
   "source": [
    "def _orient_vectorfield(X, Y, x, vector_field):\n",
    "    \n",
    "    # import Rectangular bivariate spline from scipy\n",
    "    from scipy.interpolate import RectBivariateSpline as RBS\n",
    "            \n",
    "    # Check for orientational discontinuity by introducing appropriate scaling\n",
    "    idx_x = np.searchsorted(X[0,:], x[0]) # float\n",
    "    idx_y = np.searchsorted(Y[:,0], x[1]) # float\n",
    "    \n",
    "    # If not on the boundary of the domain of the data.\n",
    "    if 0 < idx_x < X.shape[1] and 0 < idx_y < Y.shape[0]:\n",
    "        \n",
    "        # extract meshgrid in proximity of particle location (=local meshgrid)\n",
    "        X_reduced, Y_reduced = X[idx_y-1:idx_y+1, idx_x-1:idx_x+1], Y[idx_y-1:idx_y+1, idx_x-1:idx_x+1] # array (2,2)\n",
    "    \n",
    "        # extract vector field in proximity of particle location (=local vector field)\n",
    "        vx_grid = np.array([[vector_field[idx_y-1,idx_x-1, 0], vector_field[idx_y, idx_x-1, 0]],\n",
    "                      [vector_field[idx_y-1,idx_x, 0], vector_field[idx_y, idx_x, 0]]]) # array (2,2)\n",
    "        vy_grid = np.array([[vector_field[idx_y-1,idx_x-1, 1], vector_field[idx_y, idx_x-1, 1]],\n",
    "                      [vector_field[idx_y-1,idx_x, 1], vector_field[idx_y, idx_x, 1]]]) # array (2,2)\n",
    "        \n",
    "        # re-orient the local vector field so that all 4 vectors at the grid-points around x point in the same direction\n",
    "        for i in range(2):\n",
    "            for j in range(2):\n",
    "                if vx_grid[0, 0]*vx_grid[i, j]+vy_grid[0, 0]*vy_grid[i, j] < 0:\n",
    "                    vx_grid[i, j] = -vx_grid[i, j] # float\n",
    "                    vy_grid[i, j] = -vy_grid[i, j] # float\n",
    "    \n",
    "        # Linearly interpolate vector-field.\n",
    "        vx_Interp = RBS(Y_reduced[:,0], X_reduced[0,:], vx_grid, kx = 1, ky = 1) # RectangularBivariateSpline object\n",
    "        vy_Interp = RBS(Y_reduced[:,0], X_reduced[0,:], vy_grid, kx = 1, ky = 1) # RectangularBivariateSpline object\n",
    "        \n",
    "        return vx_Interp(x[1], x[0])[0][0], vy_Interp(x[1], x[0])[0][0]\n",
    "    \n",
    "    # If particle outside of domain of the data --> return None, None\n",
    "    else:\n",
    "            \n",
    "        return None, None"
   ]
  }
 ],
 "metadata": {
  "kernelspec": {
   "display_name": "Python 3",
   "language": "python",
   "name": "python3"
  },
  "language_info": {
   "codemirror_mode": {
    "name": "ipython",
    "version": 3
   },
   "file_extension": ".py",
   "mimetype": "text/x-python",
   "name": "python",
   "nbconvert_exporter": "python",
   "pygments_lexer": "ipython3",
   "version": "3.7.12"
  },
  "toc": {
   "base_numbering": 1,
   "nav_menu": {},
   "number_sections": true,
   "sideBar": true,
   "skip_h1_title": false,
   "title_cell": "Table of Contents",
   "title_sidebar": "Contents",
   "toc_cell": false,
   "toc_position": {},
   "toc_section_display": true,
   "toc_window_display": false
  }
 },
 "nbformat": 4,
 "nbformat_minor": 4
}
