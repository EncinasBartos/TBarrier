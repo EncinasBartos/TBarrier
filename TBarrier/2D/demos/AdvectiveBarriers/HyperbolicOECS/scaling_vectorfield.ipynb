{
 "cells": [
  {
   "cell_type": "markdown",
   "metadata": {},
   "source": [
    "As the eigenvector-field is characterized by inherent orientational discontinuities, we need to account for them at each integration step. We do so by introducing an appropriate rescaling that alters the tensorline ODE in a fashion so that its numerical solution yields a globally smooth set of tensorlines. This type of rescaling was first proposed by [1].\n",
    "\n",
    "The original ODE for a tensorline $ \\mathbf{x}(s) $ associated to the eigenvector field $ \\mathbf{e}_i $ is given by:\n",
    "\n",
    "\\begin{equation}\n",
    "\\dfrac{d}{ds}\\mathbf{x}(s) = \\mathbf{e}_{i}(s)\n",
    "\\label{eq: ODE_1}\n",
    "\\end{equation}\n",
    "\n",
    "[1] proposed rewriting the ODE \\ref{eq: ODE_1} as:\n",
    "\n",
    "\\begin{equation}\n",
    "\\dfrac{d}{ds}\\mathbf{x}(s) = \\mathrm{sign}(\\langle \\mathbf{e}_i(s), \\mathbf{e}_i(s-\\Delta s)\\rangle) \\alpha(\\mathbf{x}(s)) \\xi_i(s),\n",
    "\\label{eq: ODE_2}\n",
    "\\end{equation} where $ \\alpha(\\mathbf{x}(s)) = s_i$ and $ s_i $ being the eigenvalue associated to the eigenvector $ \\mathbf{e}_i $. Tensorline singularities are thus rescaled to fixed points of eq. \\ref{eq: ODE_2} as $ s_1(\\mathbf{x}(s)) = s_2(\\mathbf{x}(s)) = 0 $ holds at such points. "
   ]
  },
  {
   "cell_type": "code",
   "execution_count": null,
   "metadata": {},
   "outputs": [],
   "source": [
    "# Import numpy\n",
    "import numpy as np\n",
    "\n",
    "# import function to orient vectorfield\n",
    "from ipynb.fs.defs.orient_vectorfield import _orient_vectorfield"
   ]
  },
  {
   "cell_type": "code",
   "execution_count": null,
   "metadata": {},
   "outputs": [],
   "source": [
    "def _scaling_vectorfield(X, Y, x, x_prime, vector_field, Interp_eig):\n",
    "    '''\n",
    "    Scaling of vectorfield turns tensorlines singularities into fixed points.\n",
    "    \n",
    "    Parameters:\n",
    "        X:               array (Ny, Nx), X-meshgrid\n",
    "        Y:               array (Ny, Nx), Y-meshgrid \n",
    "        x:               array (2, Npoints), position (#Npoints = Number of initial conditions)\n",
    "        x_prime:         array (2, Npoints), eigenvector at 'x'\n",
    "        vector_field:    array (Ny, Nx, 2), eigenvector field over domain domain.\n",
    "        interp_eig:      Interpolant-object for eigenvalue field\n",
    "    \n",
    "    Returns:\n",
    "        rescaled_vector: array (2, Npoints), rescaled version of eigenvector. \n",
    "                         If the point is outside of the defined domain, then 'None' is returned\n",
    "    '''\n",
    "    \n",
    "    vx, vy = _orient_vectorfield(X, Y, x, vector_field) # float, float\n",
    "        \n",
    "    if vx is not None:\n",
    "        \n",
    "        alpha = Interp_eig(x[1], x[0])[0][0]**2 # float\n",
    "            \n",
    "        scaling = np.sign(vx*x_prime[0]+vy*x_prime[1])*alpha # float\n",
    "        \n",
    "        rescaled_vector = scaling*np.array([vx, vy]) # array\n",
    "    \n",
    "        return rescaled_vector # array\n",
    "        \n",
    "    else:\n",
    "        \n",
    "        return None"
   ]
  },
  {
   "cell_type": "markdown",
   "metadata": {},
   "source": [
    "# References\n",
    "\n",
    "[1] Serra, M., & Haller, G. (2016). Objective Eulerian coherent structures. Chaos: An Interdisciplinary Journal of Nonlinear Science, 26(5), 053110."
   ]
  }
 ],
 "metadata": {
  "kernelspec": {
   "display_name": "Python 3",
   "language": "python",
   "name": "python3"
  },
  "language_info": {
   "codemirror_mode": {
    "name": "ipython",
    "version": 3
   },
   "file_extension": ".py",
   "mimetype": "text/x-python",
   "name": "python",
   "nbconvert_exporter": "python",
   "pygments_lexer": "ipython3",
   "version": "3.7.12"
  },
  "toc": {
   "base_numbering": 1,
   "nav_menu": {},
   "number_sections": true,
   "sideBar": true,
   "skip_h1_title": false,
   "title_cell": "Table of Contents",
   "title_sidebar": "Contents",
   "toc_cell": false,
   "toc_position": {},
   "toc_section_display": true,
   "toc_window_display": false
  }
 },
 "nbformat": 4,
 "nbformat_minor": 4
}
