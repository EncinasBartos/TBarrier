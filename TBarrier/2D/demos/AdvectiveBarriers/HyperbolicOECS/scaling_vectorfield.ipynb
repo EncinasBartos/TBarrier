{
 "cells": [
  {
   "cell_type": "code",
   "execution_count": null,
   "metadata": {},
   "outputs": [],
   "source": [
    "# Import numpy\n",
    "import numpy as np\n",
    "\n",
    "# import function to orient vectorfield\n",
    "from ipynb.fs.defs.orient_vectorfield import _orient_vectorfield"
   ]
  },
  {
   "cell_type": "code",
   "execution_count": null,
   "metadata": {},
   "outputs": [],
   "source": [
    "def _scaling_vectorfield(X, Y, x, x_prime, vector_field, Interp_s):\n",
    "    \n",
    "    vx, vy = _orient_vectorfield(X, Y, x, vector_field) # float, float\n",
    "        \n",
    "    if vx is not None:\n",
    "        \n",
    "        alpha = Interp_s(x[1], x[0])[0][0]**2 # float\n",
    "            \n",
    "        scaling = np.sign(vx*x_prime[0]+vy*x_prime[1])*alpha # float\n",
    "    \n",
    "        return scaling*np.array([vx, vy]) # float\n",
    "        \n",
    "    else:\n",
    "        \n",
    "        return None"
   ]
  }
 ],
 "metadata": {
  "kernelspec": {
   "display_name": "Python 3",
   "language": "python",
   "name": "python3"
  },
  "language_info": {
   "codemirror_mode": {
    "name": "ipython",
    "version": 3
   },
   "file_extension": ".py",
   "mimetype": "text/x-python",
   "name": "python",
   "nbconvert_exporter": "python",
   "pygments_lexer": "ipython3",
   "version": "3.7.12"
  },
  "toc": {
   "base_numbering": 1,
   "nav_menu": {},
   "number_sections": true,
   "sideBar": true,
   "skip_h1_title": false,
   "title_cell": "Table of Contents",
   "title_sidebar": "Contents",
   "toc_cell": false,
   "toc_position": {},
   "toc_section_display": true,
   "toc_window_display": false
  }
 },
 "nbformat": 4,
 "nbformat_minor": 4
}
