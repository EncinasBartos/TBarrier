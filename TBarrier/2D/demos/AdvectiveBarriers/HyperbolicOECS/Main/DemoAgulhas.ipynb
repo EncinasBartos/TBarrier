{
 "cells": [
  {
   "cell_type": "markdown",
   "metadata": {},
   "source": [
    "# Add Folders to Path"
   ]
  },
  {
   "cell_type": "code",
   "execution_count": 1,
   "metadata": {
    "ExecuteTime": {
     "end_time": "2021-11-28T13:31:03.353668Z",
     "start_time": "2021-11-28T13:31:03.338700Z"
    }
   },
   "outputs": [
    {
     "name": "stdout",
     "output_type": "stream",
     "text": [
      "CPU times: user 151 µs, sys: 137 µs, total: 288 µs\n",
      "Wall time: 194 µs\n"
     ]
    }
   ],
   "source": [
    "%%time\n",
    "import sys, os\n",
    "\n",
    "# get current directory\n",
    "path = os.getcwd()\n",
    "\n",
    "# get parent directory\n",
    "parent_directory = os.path.sep.join(path.split(os.path.sep)[:-3])\n",
    "\n",
    "# add integration folder to current working path\n",
    "sys.path.append(parent_directory+\"/Src/integration\")\n",
    "\n",
    "# add utils folder to current working path\n",
    "sys.path.append(parent_directory+\"/Src/utils\")\n",
    "\n",
    "# add Algorithm folder to current working path in order to access the functions\n",
    "sys.path.append(parent_directory+\"/Demos/HyperbolicOECS\")"
   ]
  },
  {
   "cell_type": "code",
   "execution_count": 2,
   "metadata": {
    "ExecuteTime": {
     "end_time": "2021-11-28T13:31:03.586261Z",
     "start_time": "2021-11-28T13:31:03.355656Z"
    }
   },
   "outputs": [],
   "source": [
    "# Suppress numba warnings arising from computation falling back into object mode.\n",
    "from numba.core.errors import NumbaDeprecationWarning\n",
    "import warnings\n",
    "\n",
    "warnings.simplefilter('ignore', category=NumbaDeprecationWarning)"
   ]
  },
  {
   "cell_type": "markdown",
   "metadata": {},
   "source": [
    "# Overview\n",
    "\n",
    "In the following notebok we extract elliptic OECS in the Agulhas region from the AVISO dataset. The notebook is structured as follows:\n",
    "\n",
    "* Import data from the file 'Agulhas_AVISO.mat' stored in the folder 'Data'\n",
    "<br />\n",
    "* Define computational parameters (such as the number of cores) and variables\n",
    " <br />\n",
    "* Define spatio-temporal domain over which to compute the elliptic OECS.\n",
    " <br />\n",
    "* Interpolate velocity from the (discrete) gridded data using a cubic spline interpolation <br />\n",
    "* Compute rate of strain tensor $ \\mathbf{S}(\\mathbf{x}, t) $ over meshgrid  <br />\n",
    "* Find objective saddle points\n",
    "* Compute hyperbolic OECS as tensorlines tangent to the eigenvectors $ \\mathbf{e_1}(\\mathbf{x}), \\mathbf{e_2}(\\mathbf{x}) $ of the rate of strain tensor."
   ]
  },
  {
   "cell_type": "markdown",
   "metadata": {},
   "source": [
    "# Import Agulhas data"
   ]
  },
  {
   "cell_type": "code",
   "execution_count": 3,
   "metadata": {
    "ExecuteTime": {
     "end_time": "2021-11-28T13:31:03.634137Z",
     "start_time": "2021-11-28T13:31:03.587319Z"
    }
   },
   "outputs": [
    {
     "name": "stdout",
     "output_type": "stream",
     "text": [
      "CPU times: user 35.1 ms, sys: 15.2 ms, total: 50.3 ms\n",
      "Wall time: 49.1 ms\n"
     ]
    }
   ],
   "source": [
    "%%time\n",
    "import scipy.io as sio\n",
    "\n",
    "#Import velocity data from file in data-folder\n",
    "mat_file = sio.loadmat('../../../Data/AVISO/Agulhas_AVISO.mat')\n",
    "\n",
    "#U = mat_file['u']\n",
    "#V = mat_file['v']\n",
    "#x = mat_file['x']\n",
    "#y = mat_file['y']\n",
    "#time = mat_file['t']\n",
    "\n",
    "mat_file = sio.loadmat('../../../Data/AVISO/ocean_velocity_example_diffusive.mat')\n",
    "\n",
    "U = mat_file['vx'].transpose()\n",
    "V = mat_file['vy'].transpose()\n",
    "x = mat_file['xc'].transpose()\n",
    "y = mat_file['yc'].transpose()\n",
    "time_data = mat_file['time'].transpose()"
   ]
  },
  {
   "cell_type": "markdown",
   "metadata": {},
   "source": [
    "# Data/Parameters for Dynamical System"
   ]
  },
  {
   "cell_type": "code",
   "execution_count": 4,
   "metadata": {
    "ExecuteTime": {
     "end_time": "2021-11-28T13:31:03.649124Z",
     "start_time": "2021-11-28T13:31:03.634137Z"
    }
   },
   "outputs": [],
   "source": [
    "import numpy as np\n",
    "\n",
    "# number of cores to be used for parallel computing\n",
    "Ncores = 8\n",
    "\n",
    "# time resolution of data\n",
    "dt_data = time_data[0, 1]-time_data[0,0]\n",
    "\n",
    "# periodic boundary conditions\n",
    "periodic_x = False\n",
    "periodic_y = False\n",
    "periodic = [periodic_x, periodic_y]\n",
    "\n",
    "# unsteady velocity field\n",
    "bool_unsteady = True\n",
    "\n",
    "# defined domain\n",
    "defined_domain = np.isfinite(U[:,:,0]).astype(int)\n",
    "\n",
    "## compute meshgrid of dataset\n",
    "X, Y = np.meshgrid(x, y)\n",
    "\n",
    "## resolution of meshgrid\n",
    "dx_data = X[0,1]-X[0,0]\n",
    "dy_data = Y[1,0]-Y[0,0]\n",
    "\n",
    "delta = [dx_data, dy_data]"
   ]
  },
  {
   "cell_type": "markdown",
   "metadata": {},
   "source": [
    "<a id='Spatio-Temporal-Domain-of-Dynamical-System'></a>\n",
    "# Spatio-temporal domain of dynamical system"
   ]
  },
  {
   "cell_type": "code",
   "execution_count": 6,
   "metadata": {
    "ExecuteTime": {
     "end_time": "2021-11-28T13:31:03.664085Z",
     "start_time": "2021-11-28T13:31:03.650094Z"
    }
   },
   "outputs": [
    {
     "name": "stdout",
     "output_type": "stream",
     "text": [
      "CPU times: user 3.23 ms, sys: 4.45 ms, total: 7.68 ms\n",
      "Wall time: 6.22 ms\n"
     ]
    }
   ],
   "source": [
    "%%time\n",
    "# Time\n",
    "t_OECS = 0 \n",
    "\n",
    "# store time in array\n",
    "time = np.array([t_OECS])\n",
    "\n",
    "# domain boundary (in degrees)\n",
    "xmin = -3\n",
    "xmax = 7\n",
    "ymin = -38\n",
    "ymax = -28\n",
    "\n",
    "# spacing of meshgrid (in degrees)\n",
    "dx = 0.01\n",
    "dy = 0.01\n",
    "\n",
    "x_domain = np.arange(xmin, xmax + dx, dx)\n",
    "y_domain = np.arange(ymin, ymax + dy, dy)\n",
    "\n",
    "X_domain, Y_domain = np.meshgrid(x_domain, y_domain)"
   ]
  },
  {
   "cell_type": "markdown",
   "metadata": {},
   "source": [
    "# Interpolate Velocity\n",
    "\n",
    "In order to evaluate the velocity field at arbitrary locations and times, we must interpolate the discrete velocity data. The interpolation with respect to time is always linear. The interpolation with respect to space can be chosen to be \"cubic\" or \"linear\". In order to favour a smooth velocity field, we interpolate the velocity field in space using a cubic interpolant. "
   ]
  },
  {
   "cell_type": "code",
   "execution_count": null,
   "metadata": {
    "ExecuteTime": {
     "end_time": "2021-11-28T13:31:03.742011Z",
     "start_time": "2021-11-28T13:31:03.665088Z"
    }
   },
   "outputs": [],
   "source": [
    "%%time\n",
    "# Import interpolation function for unsteady flow field\n",
    "from ipynb.fs.defs.Interpolant import interpolant_unsteady\n",
    "\n",
    "# Interpolate velocity data using cubic spatial interpolation\n",
    "Interpolant = interpolant_unsteady(X, Y, U, V, time_data, method = \"cubic\")"
   ]
  },
  {
   "cell_type": "markdown",
   "metadata": {},
   "source": [
    "# Rate of strain tensor over meshgrid of initial conditions\n",
    "\n",
    "The rate of strain tensor $ S(\\mathbf{x}, t) $ at time $ t $ is computed by iterating over meshgrid. The method *DS._spin_tensor(x, t)* computes the rate of strain tensor at point $ \\mathbf{x} $  at time $ t $ by using an auxiliary meshgrid. 'aux_grid' specifies the ratio between the auxiliary grid and the original meshgrid. This parameter is generally chosen to be between $ [\\dfrac{1}{10}, \\dfrac{1}{100}] $. The computations are parallelized."
   ]
  },
  {
   "cell_type": "code",
   "execution_count": null,
   "metadata": {
    "ExecuteTime": {
     "end_time": "2021-11-28T13:31:35.371439Z",
     "start_time": "2021-11-28T13:31:03.743012Z"
    }
   },
   "outputs": [],
   "source": [
    "%%time\n",
    "# Import package for progress bar\n",
    "from tqdm.notebook import tqdm\n",
    "\n",
    "# Import package for parallel computing\n",
    "from joblib import Parallel, delayed\n",
    "\n",
    "# Import gradient of velocity function\n",
    "from ipynb.fs.defs.gradient_velocity import gradient_velocity\n",
    "\n",
    "# Import Rate of Strain function\n",
    "from ipynb.fs.defs.CauchyGreen import CauchyGreen\n",
    "\n",
    "# Define ratio of auxiliary grid spacing vs original grid_spacing\n",
    "aux_grid_ratio = .1 # [1/10, 1/100]\n",
    "aux_grid = [aux_grid_ratio*(X_domain[0, 1]-X_domain[0, 0]), aux_grid_ratio*(Y_domain[1, 0]-Y_domain[0, 0])]\n",
    "\n",
    "def parallel_S(i):\n",
    "    \n",
    "    S_parallel = np.zeros((X_domain.shape[1], 2, 2))\n",
    "    \n",
    "    for j in range(S_parallel.shape[0]):\n",
    "        \n",
    "        x = np.array([X_domain[i,j], Y_domain[i,j]])\n",
    "        \n",
    "        # Compute gradient of velocity\n",
    "        grad_vel = gradient_flowmap(t_OECS, x, X, Y, Interpolant, periodic, defined_domain, bool_unsteady, dt_data, delta, aux_grid)\n",
    "        \n",
    "        # Compute rate of strain at 'x'\n",
    "        S_parallel[j, :, :] = RateStrain(grad_vel)\n",
    "    \n",
    "    return S_parallel\n",
    "\n",
    "S = np.array(Parallel(n_jobs=Ncores, verbose = 0)(delayed(parallel_S)(i) for i in tqdm(range(X_domain.shape[0]))))"
   ]
  },
  {
   "cell_type": "markdown",
   "metadata": {},
   "source": [
    "# Eigenvalues/Eigenvectors of rate of strain tensor\n",
    "\n",
    "We now compute the properties of the rate of strain tensor 'S' such as the eigenvalues 's1', 's2' and eigenvectors 'eigenv1', 'eigenv2'. Furthermore, we also need the spatial derivatives of the elements of 'S'."
   ]
  },
  {
   "cell_type": "code",
   "execution_count": null,
   "metadata": {
    "ExecuteTime": {
     "end_time": "2021-11-28T13:31:46.441241Z",
     "start_time": "2021-11-28T13:31:35.372436Z"
    }
   },
   "outputs": [],
   "source": [
    "# Import eigenvalues/eigenvectors calculator\n",
    "from ipynb.fs.defs.eigen import eigen\n",
    "\n",
    "eig1 = S[:,:,0,0].copy()*np.nan\n",
    "eig2 = S[:,:,0,0].copy()*np.nan\n",
    "e1 = np.zeros((S.shape[0], S.shape[1], 2))\n",
    "e2 = np.zeros((S.shape[0], S.shape[1], 2))\n",
    "\n",
    "#iterate over meshgrid\n",
    "for i in range(X_domain.shape[0]):\n",
    "    \n",
    "    for j in range(Y_domain.shape[1]):\n",
    "            \n",
    "        x = [X_domain[i,j], Y_domain[i, j]]\n",
    "        \n",
    "        # compute eigenvalues of rate of strain\n",
    "        eig1[i,j], eig2[i,j], e1[i,j,:], e2[i,j,:] = eigen(S[i,j,:,:])"
   ]
  },
  {
   "cell_type": "markdown",
   "metadata": {},
   "source": [
    "# Find objective Saddle-points"
   ]
  },
  {
   "cell_type": "code",
   "execution_count": null,
   "metadata": {
    "ExecuteTime": {
     "end_time": "2021-11-28T13:31:47.245534Z",
     "start_time": "2021-11-28T13:31:46.442268Z"
    }
   },
   "outputs": [],
   "source": [
    "# import function to compute local maxima\n",
    "from ipynb.fs.defs.loc_max import _loc_max\n",
    "\n",
    "# minimum distance between objective saddles (=local maxima in the s2-field)\n",
    "min_distance = .1\n",
    "\n",
    "# indices, positions and value (of s2-field) of the objective saddles\n",
    "loc_idx_x, loc_idx_y, loc_max_x, loc_max_y, loc_max_field = _loc_max(min_distance, X_domain, Y_domain, eig2)"
   ]
  },
  {
   "cell_type": "code",
   "execution_count": null,
   "metadata": {
    "ExecuteTime": {
     "end_time": "2021-11-28T13:31:51.113077Z",
     "start_time": "2021-11-28T13:31:47.247534Z"
    }
   },
   "outputs": [],
   "source": [
    "###################################### PLOT OBJECTIVE SADDLES ######################################\n",
    "import matplotlib.pyplot as plt\n",
    "\n",
    "fig = plt.figure(figsize = (16, 10))\n",
    "ax = plt.axes()\n",
    "\n",
    "cax = ax.contourf(X_domain, Y_domain, eig2, levels = 400, cmap = \"Blues\")\n",
    "\n",
    "ax.scatter(loc_max_x, loc_max_y, c = 'y', marker = \"X\", s = 100)\n",
    "    \n",
    "ax.set_xlabel('long', fontsize = 16)\n",
    "ax.set_ylabel('lat', fontsize = 16)\n",
    "\n",
    "ax.set_xticks(np.arange(np.min(X_domain), np.max(X_domain), 1))\n",
    "ax.set_yticks(np.arange(np.min(Y_domain), np.max(Y_domain), 2))\n",
    "\n",
    "ax.set_title('Objective Saddles', fontsize = 20)\n",
    "\n",
    "cbar = plt.colorbar(cax)\n",
    "cbar.set_ticks(np.arange(0, 1.5, 0.1))\n",
    "cbar.set_label(r'$ |s| $', rotation = 0, labelpad = 20, fontsize = 16)\n",
    "\n",
    "plt.show()"
   ]
  },
  {
   "cell_type": "markdown",
   "metadata": {},
   "source": [
    "## Shrinklines (Repelling OECS)"
   ]
  },
  {
   "cell_type": "markdown",
   "metadata": {},
   "source": [
    "Repelling LCS can be sought among trajectories of the differential equation:\n",
    "\n",
    "\\begin{equation}\n",
    "\\mathbf{x}'_0(s) = \\xi_1(\\mathbf{x}_0;t),\n",
    "\\label{eq: shrinklines}\n",
    "\\end{equation}\n",
    "\n",
    "with $ \\xi_1 $ denoting the eigenvector associated to the weakest eigenvalue $ s_1 $ of $ S(\\mathbf{x},t) $. The non-orientable vector field is well defiend away from tensorline singularites (points where $ s_1 = s_2 $).\n",
    "The most repelling shrinklines mark initial positions of repelling LCSs. Repelling LCSs can therefore be located as trajectories of eq. \\ref{eq: shrinklines} that have locally the largest averaged $ s_2(\\mathbf{x},t) $ among all neighbouring shrinklines."
   ]
  },
  {
   "cell_type": "code",
   "execution_count": null,
   "metadata": {
    "ExecuteTime": {
     "end_time": "2021-11-28T13:35:19.693056Z",
     "start_time": "2021-11-28T13:31:51.114043Z"
    },
    "run_control": {
     "marked": true
    }
   },
   "outputs": [],
   "source": [
    "from ipynb.fs.defs.tensorlines import _tensorlines\n",
    "\n",
    "# step-size used for integration with respect to parameter 's'\n",
    "step_size = 0.01\n",
    "\n",
    "# threshold distance to locate local maxima in the 'eig2'-field\n",
    "max_distance = 0.5\n",
    "\n",
    "# maximum length of shrinkline\n",
    "max_length = 3\n",
    "\n",
    "# Minimum threshold on rate of repulsion of shrinkline \n",
    "hyperbolicity = .2\n",
    "\n",
    "shrinklines = _tensorlines(X_domain, Y_domain, eig2, e1, max_distance, max_length, step_size, hyperbolicity)"
   ]
  },
  {
   "cell_type": "markdown",
   "metadata": {},
   "source": [
    "## Stretchlines (Attracting OECS)"
   ]
  },
  {
   "cell_type": "markdown",
   "metadata": {
    "ExecuteTime": {
     "end_time": "2021-10-24T15:02:24.962008Z",
     "start_time": "2021-10-24T15:02:24.947021Z"
    }
   },
   "source": [
    "Attracting LCS can be sought among trajectories of the differential equation:\n",
    "\n",
    "\\begin{equation}\n",
    "\\mathbf{x}'_0 = \\xi_2(\\mathbf{x}_0;t),\n",
    "\\label{eq: stretchlines}\n",
    "\\end{equation}\n",
    "\n",
    "with $ \\xi_2 $ denoting the eigenvector associated to the strongest eigenvalue $ s_2 $ of $ S(\\mathbf{x},t) $. The non-orientable vector field is well defiend away from tensorline singularites (points where $ s_1 = s_2 $).\n",
    "The most attracting stretchlines mark initial positions of attracting LCSs. Attracting OECSs can therefore be located as trajectories of eq. \\ref{eq: stretchlines} that have locally the smallest averaged $ s_1(\\mathbf{x},t) $ among all neighbouring stretchlines."
   ]
  },
  {
   "cell_type": "code",
   "execution_count": null,
   "metadata": {
    "ExecuteTime": {
     "end_time": "2021-11-28T13:38:50.338596Z",
     "start_time": "2021-11-28T13:35:19.694000Z"
    }
   },
   "outputs": [],
   "source": [
    "from ipynb.fs.defs.tensorlines import _tensorlines\n",
    "\n",
    "# step-size used for integration with respect to parameter 's'\n",
    "step_size = 0.01\n",
    "\n",
    "# threshold distance to locate local minima in the 's_1' field of 'S'\n",
    "max_distance = 0.5\n",
    "\n",
    "# maximum length of stretchline\n",
    "max_length = 3\n",
    "\n",
    "# Minimum threshold on rate of attraction of stretchline \n",
    "hyperbolicity = 0.2\n",
    "\n",
    "stretchlines = _tensorlines(X_domain, Y_domain, eig2, e2, max_distance, max_length, step_size, hyperbolicity)"
   ]
  },
  {
   "cell_type": "code",
   "execution_count": null,
   "metadata": {
    "ExecuteTime": {
     "end_time": "2021-11-28T13:38:55.869945Z",
     "start_time": "2021-11-28T13:38:50.339565Z"
    }
   },
   "outputs": [],
   "source": [
    "################################ PLOT HYPERBOLIC OECS ################################\n",
    "\n",
    "import matplotlib.pyplot as plt\n",
    "\n",
    "# generate figure and axis object\n",
    "fig = plt.figure(figsize = (16, 12))\n",
    "ax = plt.axes()\n",
    "\n",
    "# Plot eig2-field\n",
    "cax = ax.contourf(X_domain, Y_domain, eig2, levels = 600, cmap = \"gist_rainbow_r\")\n",
    "\n",
    "cbar = plt.colorbar(cax)\n",
    "cbar.set_ticks(np.arange(0, 1.5, 0.1))\n",
    "cbar.set_label(r'$ |s_1| $', rotation = 0, labelpad = 20, fontsize = 16)\n",
    "\n",
    "# Plot attracting OECS  \n",
    "for i in range(len(stretchlines[0])):\n",
    "    ax_attracting = ax.plot(stretchlines[0][i], stretchlines[1][i], c = 'k', linewidth = 5)\n",
    "\n",
    "# Plot repelling OECS\n",
    "for j in range(len(shrinklines[0])):\n",
    "    ax_repelling = ax.plot(shrinklines[0][j], shrinklines[1][j], c = \"w\", linewidth = 5)\n",
    "\n",
    "# set limits\n",
    "ax.set_xlim(np.min(X_domain), np.max(X_domain))\n",
    "ax.set_ylim(np.min(Y_domain), np.max(Y_domain))\n",
    "\n",
    "# Set title\n",
    "ax.set_title('Repelling/Attracting OECSs following Serra', fontsize = 20)\n",
    "\n",
    "# Plot legend\n",
    "import matplotlib.patches as mpatches\n",
    "attracting = mpatches.Patch(color='k', label='attracting OECS')\n",
    "repelling = mpatches.Patch(color='w', label='repelling OECS')\n",
    "plt.legend(handles=[attracting, repelling], fontsize = 16,  loc = \"lower left\")\n",
    " \n",
    "# Show plot\n",
    "plt.show()"
   ]
  },
  {
   "cell_type": "code",
   "execution_count": null,
   "metadata": {},
   "outputs": [],
   "source": []
  }
 ],
 "metadata": {
  "kernelspec": {
   "display_name": "Python 3",
   "language": "python",
   "name": "python3"
  },
  "language_info": {
   "codemirror_mode": {
    "name": "ipython",
    "version": 3
   },
   "file_extension": ".py",
   "mimetype": "text/x-python",
   "name": "python",
   "nbconvert_exporter": "python",
   "pygments_lexer": "ipython3",
   "version": "3.7.11"
  },
  "toc": {
   "base_numbering": 1,
   "nav_menu": {},
   "number_sections": true,
   "sideBar": true,
   "skip_h1_title": false,
   "title_cell": "Table of Contents",
   "title_sidebar": "Contents",
   "toc_cell": false,
   "toc_position": {
    "height": "calc(100% - 180px)",
    "left": "10px",
    "top": "150px",
    "width": "165px"
   },
   "toc_section_display": true,
   "toc_window_display": false
  }
 },
 "nbformat": 4,
 "nbformat_minor": 4
}
