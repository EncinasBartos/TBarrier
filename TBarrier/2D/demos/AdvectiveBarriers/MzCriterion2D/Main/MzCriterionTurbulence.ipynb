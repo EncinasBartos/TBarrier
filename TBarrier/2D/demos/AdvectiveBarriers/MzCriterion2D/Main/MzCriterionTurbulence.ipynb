{
 "cells": [
  {
   "cell_type": "markdown",
   "metadata": {},
   "source": [
    "We start by adding the necessary folders to the current working path."
   ]
  },
  {
   "cell_type": "code",
   "execution_count": 1,
   "metadata": {
    "ExecuteTime": {
     "end_time": "2022-03-02T17:53:00.238755Z",
     "start_time": "2022-03-02T17:53:00.235382Z"
    },
    "code_folding": [
     0
    ]
   },
   "outputs": [],
   "source": [
    "# import sys/os\n",
    "import sys, os\n",
    "\n",
    "# get current directory\n",
    "path = os.getcwd()\n",
    "\n",
    "# get parent directory\n",
    "parent_directory = os.path.sep.join(path.split(os.path.sep)[:-4])\n",
    "\n",
    "# add utils folder to current working path\n",
    "sys.path.append(parent_directory+\"/subfunctions/utils\")\n",
    "\n",
    "# add integration folder to current working path\n",
    "sys.path.append(parent_directory+\"/subfunctions/integration\")"
   ]
  },
  {
   "cell_type": "markdown",
   "metadata": {},
   "source": [
    "# Overview\n",
    "\n",
    "We illustrate the numerical implementation and the use of the Mz-criterion on 2-D homogeneous, isotropic turbulence. The LCS diagnostic is applied to the two-dimensional turbulence simulation. The notebook is structured as follows:\n",
    "\n",
    "1. Import velocity data stored in the folder 'data/Turbulence'. Make sure that all the necessary files are stored in the folder 'data/Turbulence'.\n",
    "<br />\n",
    "2. Define computational parameters and data.\n",
    " <br />\n",
    "3. Define spatio-temporal domain.\n",
    " <br />\n",
    "4. Interpolate velocity from (discrete) gridded data.\n",
    " <br />\n",
    "5. $ \\mathrm{Mz-criterion} $:\n",
    "\n",
    "    * Compute the strain acceleration tensor $ \\mathbf{M}(\\mathbf{x}, t) $ along every trajectory launched at $ \\mathbf{x}_0 $ over the time-interval $ t \\in [t_0, t_N] $.\n",
    "    \n",
    "    \\begin{equation}\n",
    "    \\mathbf{M}(\\mathbf{x}, t) = \\dfrac{D\\mathbf{S}(\\mathbf{x}, t)}{Dt} + \\mathbf{S}(\\mathbf{x}, t)\\mathbf{\\nabla v}(\\mathbf{x}, t)+(\\mathbf{\\nabla v}(\\mathbf{x}, t))^T\\mathbf{S}(\\mathbf{x}, t)\n",
    "    \\end{equation}\n",
    "    \n",
    "    <br />\n",
    "    \n",
    "    * If the trajectory $ \\mathbf{x}(t) $ at time $ t $ satisfies $ \\mathbf{M}(\\mathbf{x}, t) \\succ 0 $, then it is in a hyperbolic flow region. Otherwise, if $ \\mathbf{M}(\\mathbf{x}, t) $ is indefinite, then it is in an elliptic flow region.\n",
    "    \n",
    "    * Compute the total time spent in a hyperbolic flow region $ \\tau_H $ of the trajectory $ \\mathbf{x}(t) $ launched from $ \\mathbf{x}_0 $ over the time-interval $ [t_0, t_N] $.\n",
    "    \n",
    "    * Compute the total time spent in an elliptic flow region $ \\tau_E $ of the trajectory $ \\mathbf{x}(t) $ launched from $ \\mathbf{x}_0 $ over the time-interval $ [t_0, t_N] $.\n",
    "    \n",
    "    $ \\tau_H $ and $ \\tau_E $ are then plotted with respect to the initial position of the particles.\n",
    "    \n",
    " <br />    \n",
    "6. References"
   ]
  },
  {
   "cell_type": "markdown",
   "metadata": {},
   "source": [
    "# Import data"
   ]
  },
  {
   "cell_type": "code",
   "execution_count": 2,
   "metadata": {
    "ExecuteTime": {
     "end_time": "2022-03-02T17:53:28.147040Z",
     "start_time": "2022-03-02T17:53:00.254726Z"
    },
    "code_folding": [
     0
    ]
   },
   "outputs": [],
   "source": [
    "# import scipy\n",
    "import scipy.io\n",
    "\n",
    "# import numpy\n",
    "import numpy as np\n",
    "\n",
    "# load velocity data\n",
    "turb_u = parent_directory + r'/data/Turbulence/turb_u'\n",
    "      \n",
    "# iterate over all files in folder 'turb_u' and load velocity data\n",
    "i = 0\n",
    "U = np.zeros((1024, 1024, 251))\n",
    "V = np.zeros((1024, 1024, 251))\n",
    "for filename in sorted(os.listdir(turb_u)):\n",
    "    if filename.endswith(\".mat\"):\n",
    "        file_u = os.path.join(turb_u, filename)\n",
    "        mat_turb_u = scipy.io.loadmat(file_u)\n",
    "        U[:,:,i] = mat_turb_u['u1']\n",
    "        V[:,:,i] = mat_turb_u['u2']\n",
    "        i+=1\n",
    "        \n",
    "# load x/y grid\n",
    "X = scipy.io.loadmat(parent_directory + r'/data/Turbulence/grid.mat')['x']\n",
    "Y = X.copy().transpose()"
   ]
  },
  {
   "cell_type": "markdown",
   "metadata": {},
   "source": [
    "# Computational parameters and data\n",
    "\n",
    "Here we define the computational parameters and the data."
   ]
  },
  {
   "cell_type": "code",
   "execution_count": 3,
   "metadata": {
    "ExecuteTime": {
     "end_time": "2022-03-02T17:53:28.167034Z",
     "start_time": "2022-03-02T17:53:28.148783Z"
    },
    "code_folding": [
     0
    ],
    "run_control": {
     "marked": true
    }
   },
   "outputs": [],
   "source": [
    "# Number of cores for parallel computing\n",
    "Ncores = 4\n",
    "\n",
    "# time-interval over which data is defined\n",
    "time_data = np.linspace(0, 25, 251, endpoint = True).reshape(1, -1)\n",
    "\n",
    "# time resolution of data\n",
    "dt_data = time_data[0,1]-time_data[0,0]\n",
    "\n",
    "# periodic boundary conditions\n",
    "periodic_x = True\n",
    "periodic_y = True\n",
    "periodic_t = False\n",
    "periodic = [periodic_x, periodic_y, periodic_t]\n",
    "\n",
    "# unsteady velocity field\n",
    "bool_unsteady = True\n",
    "\n",
    "# defined domain\n",
    "# This array denotes where the velocity field is defined (=1) and where it is not defined (=0)\n",
    "defined_domain = np.isfinite(U[:,:,0]).astype(int)\n",
    "\n",
    "## resolution of meshgrid\n",
    "dx_data = X[0,1]-X[0,0]\n",
    "dy_data = Y[1,0]-Y[0,0]\n",
    "\n",
    "delta = [dx_data, dy_data]"
   ]
  },
  {
   "cell_type": "markdown",
   "metadata": {},
   "source": [
    "# Spatio-temporal domain\n",
    "\n",
    "Here we define the spatio-temporal domain over which to consider the dynamical system."
   ]
  },
  {
   "cell_type": "code",
   "execution_count": 4,
   "metadata": {
    "ExecuteTime": {
     "end_time": "2022-03-02T17:53:28.181617Z",
     "start_time": "2022-03-02T17:53:28.169320Z"
    },
    "code_folding": []
   },
   "outputs": [],
   "source": [
    "# Initial time\n",
    "t0 = 0 # float\n",
    "\n",
    "# Final time\n",
    "tN = 20 # float\n",
    "\n",
    "# Time step-size\n",
    "dt = 0.1 # float\n",
    "\n",
    "# NOTE: For computing the backward trajectories set: tN < t0 and dt < 0.\n",
    "\n",
    "time = np.arange(t0, tN+dt, dt) # shape (Nt,)\n",
    "\n",
    "# Length of time interval\n",
    "lenT = abs(tN-t0) # float\n",
    "\n",
    "# resolution\n",
    "Nx = 400\n",
    "Ny = 400\n",
    "\n",
    "# set x-limits\n",
    "xmin = 3\n",
    "xmax = 4\n",
    "\n",
    "# set x-limits\n",
    "ymin = 1\n",
    "ymax = 3\n",
    "\n",
    "# specify domain over which to compute LCS\n",
    "x_domain = np.linspace(xmin, xmax, Nx)\n",
    "y_domain = np.linspace(ymin, ymax, Ny)\n",
    "\n",
    "# make sure that domain is part of the data domain.\n",
    "assert np.min(X) <= xmin <= np.max(X), \" xmin must be between \"+f'{np.min(X)} and {np.max(X)}'\n",
    "assert np.min(X) <= xmax <= np.max(X), \" xmax must be between \"+f'{np.min(X)} and {np.max(X)}'\n",
    "assert np.min(Y) <= ymin <= np.max(Y), \" ymin must be between \"+f'{np.min(Y)} and {np.max(Y)}'\n",
    "assert np.min(Y) <= ymax <= np.max(Y), \" ymax must be between \"+f'{np.min(Y)} and {np.max(Y)}'\n",
    "assert np.min(time_data) <= t0 <= np.max(time_data), \" t0 must be between \"+f'{np.min(time_data)} and {np.max(time_data)}'\n",
    "assert np.min(time_data) <= tN <= np.max(time_data), \" tN must be between \"+f'{np.min(time_data)} and {np.max(time_data)}'\n",
    "\n",
    "# grid-spacing\n",
    "dx = x_domain[1]-x_domain[0]\n",
    "dy = y_domain[1]-y_domain[0]\n",
    "\n",
    "#compute meshgrid\n",
    "X_domain, Y_domain = np.meshgrid(x_domain, y_domain)\n",
    "\n",
    "# Define ratio of auxiliary grid spacing vs original grid_spacing\n",
    "aux_grid_ratio = .1 # float between [1/100, 1/5]\n",
    "aux_grid = [aux_grid_ratio*dx, aux_grid_ratio*dy] # list (2, )"
   ]
  },
  {
   "cell_type": "markdown",
   "metadata": {},
   "source": [
    "# Interpolate velocity"
   ]
  },
  {
   "cell_type": "markdown",
   "metadata": {},
   "source": [
    "In order to evaluate the velocity field at arbitrary locations and times, we interpolate the discrete velocity data. The interpolation with respect to time is always linear. The interpolation with respect to space can be chosen to be \"cubic\" or \"linear\". Default is \"cubic\"."
   ]
  },
  {
   "cell_type": "code",
   "execution_count": 5,
   "metadata": {
    "ExecuteTime": {
     "end_time": "2022-03-02T17:54:13.397942Z",
     "start_time": "2022-03-02T17:53:28.183660Z"
    },
    "code_folding": [
     0
    ]
   },
   "outputs": [],
   "source": [
    "# Import interpolation function for unsteady flow field\n",
    "from ipynb.fs.defs.Interpolant import interpolant_unsteady\n",
    "\n",
    "# Interpolate velocity data using cubic spatial interpolation\n",
    "Interpolant = interpolant_unsteady(X, Y, U, V, method = \"cubic\")\n",
    "\n",
    "Interpolant_u = Interpolant[0]\n",
    "Interpolant_v = Interpolant[1]"
   ]
  },
  {
   "cell_type": "markdown",
   "metadata": {},
   "source": [
    "# Hyperbolicity/Ellipticity time $ \\tau_{\\mathcal{H}}, \\tau_{\\mathcal{E}} $\n",
    "\n",
    "Next, we compute the time spent in hyperbolic and elliptic flow regions by particles launched from $ \\mathbf{x}_0 $ at time $ t_0 $."
   ]
  },
  {
   "cell_type": "code",
   "execution_count": 6,
   "metadata": {
    "ExecuteTime": {
     "end_time": "2022-03-02T17:54:13.859904Z",
     "start_time": "2022-03-02T17:54:13.399364Z"
    },
    "code_folding": [
     0
    ]
   },
   "outputs": [],
   "source": [
    "# Import function to compute trajectories/velocity along trajectories\n",
    "from ipynb.fs.defs.integration_dFdt import integration_dFdt\n",
    "\n",
    "# Import function to compute gradient of velocity\n",
    "from ipynb.fs.defs.gradient_velocity import gradient_velocity\n",
    "\n",
    "# Import function to compute eigenvalues\n",
    "from ipynb.fs.defs.eigen import eigen\n",
    "\n",
    "# Import package for parallel computing\n",
    "from joblib import Parallel, delayed\n",
    "\n",
    "# Split x0, y0 into 'Ncores' equal batches for parallel computing\n",
    "def split(a, n):\n",
    "    k, m = divmod(len(a), n)\n",
    "    return (a[i*k+min(i, m):(i+1)*k+min(i+1, m)] for i in range(n))\n",
    "\n",
    "# Compute hyperbolicity and ellipticity time\n",
    "def tau_Hyperbolicity_Ellipticity(x0_batch, y0_batch):\n",
    "    \n",
    "    # Initial conditions\n",
    "    X0 = np.array([x0_batch, y0_batch])  # array (2, Nx*Ny)\n",
    "    \n",
    "    # Compute velocity along trajectories\n",
    "    Fmap = integration_dFdt(time, X0, X, Y, Interpolant_u, Interpolant_v, periodic, bool_unsteady, time_data)[0] # shape (Nt, 2, Nx*Ny)\n",
    "    \n",
    "    M = np.zeros((Fmap.shape[0], 2, 2, Fmap.shape[-1]))\n",
    "    \n",
    "    Hyperbolicity = np.zeros((M.shape[0], M.shape[-1]))\n",
    "    Ellipticity = np.zeros((M.shape[0], M.shape[-1]))\n",
    "    \n",
    "    # compute strain acceleration tensor along trajectories and check if trajectory is in hyperbolic or elliptic flow region.\n",
    "    for i in range(Fmap.shape[0]-1):\n",
    "        \n",
    "        if np.around(i/(Fmap.shape[0]-1)*100, 2) % 2 == 0:\n",
    "            \n",
    "            print(\"Percentage completed: \", np.around(i/(Fmap.shape[0]-1)*100, 2))\n",
    "          \n",
    "        # Compute gradient of velocity field\n",
    "        grad_vel = gradient_velocity(time[i], Fmap[i,:,:], X, Y, Interpolant_u, Interpolant_v, periodic, defined_domain, bool_unsteady, time_data, delta, aux_grid) # (2,2,Nx*Ny)\n",
    "        \n",
    "        # Compute rate of strain tensor\n",
    "        S = .5*(grad_vel+grad_vel.transpose(1,0,2))\n",
    "        \n",
    "        # Compute gradient of velocity field at t+dt in order to evaluate partial derivative of S with respect to t\n",
    "        grad_vel_dt = gradient_velocity(time[i+1], Fmap[i+1,:,:], X, Y, Interpolant_u, Interpolant_v, periodic, defined_domain, bool_unsteady, time_data, delta, aux_grid) # (2,2,Nx*Ny)\n",
    "        \n",
    "        # Compute rate of strain tensor at t + dt\n",
    "        S_dt = .5*(grad_vel_dt+grad_vel_dt.transpose(1,0,2))\n",
    "        \n",
    "        for ii in range(Fmap.shape[-1]):\n",
    "        \n",
    "            M[i,:,:,ii] = (S_dt[:,:,ii]-S[:,:,ii])/(time[i+1]-time[i])+S[:,:,ii]@grad_vel[:,:,ii]+grad_vel[:,:,ii].transpose()@S[:,:,ii]\n",
    "            lambda_min, lambda_max = eigen(M[i,:,:,ii])[:2]\n",
    "            \n",
    "            # check if M is positive definite\n",
    "            if lambda_min > 0:\n",
    "                Hyperbolicity[i,ii] = 1\n",
    "            \n",
    "            # check if M is indefinite\n",
    "            elif lambda_max > 0 and lambda_min < 0:\n",
    "                Ellipticity[i,ii] = 1\n",
    "    \n",
    "    tau_Hyperbolicity = np.sum(Hyperbolicity, axis = 0)*dt\n",
    "    tau_Ellipticity = np.sum(Ellipticity, axis = 0)*dt\n",
    "    \n",
    "    return tau_Hyperbolicity, tau_Ellipticity"
   ]
  },
  {
   "cell_type": "code",
   "execution_count": null,
   "metadata": {
    "ExecuteTime": {
     "start_time": "2022-03-02T17:53:00.291Z"
    },
    "code_folding": [
     0
    ]
   },
   "outputs": [
    {
     "name": "stdout",
     "output_type": "stream",
     "text": [
      "[Parallel(n_jobs=4)]: Using backend LokyBackend with 4 concurrent workers.\n"
     ]
    }
   ],
   "source": [
    "# Vectorize initial conditions by arranging them to a vector of size (Nx*Ny, )\n",
    "x0 = X_domain.ravel() # array (Nx*Ny,)\n",
    "y0 = Y_domain.ravel() # array (Nx*Ny,)\n",
    "\n",
    "x0_batch = list(split(x0, Ncores)) # list (Nx*Ny)\n",
    "y0_batch = list(split(y0, Ncores)) # list (Nx*Ny)\n",
    "\n",
    "# compute Mz criterion\n",
    "results = Parallel(n_jobs=Ncores, verbose = 50)(delayed(tau_Hyperbolicity_Ellipticity)(x0_batch[i], y0_batch[i]) for i in range(len(x0_batch)))\n",
    "\n",
    "# Extract Hyperbolicity and Ellipticity times from results of parallel computing\n",
    "tau_Hyperbolicity = results[0][0]\n",
    "tau_Ellipticity = results[0][1]\n",
    "\n",
    "for res in results[1:]:\n",
    "    tau_Hyperbolicity = np.append(tau_Hyperbolicity, res[0], axis = -1)\n",
    "    tau_Ellipticity = np.append(tau_Ellipticity, res[1], axis = -1)\n",
    "    \n",
    "# Reshape array from vectorized form to structured meshgrid\n",
    "tau_Hyperbolicity = tau_Hyperbolicity.reshape((X_domain.shape[0], X_domain.shape[1])) # array (2, 2, Ny, Nx)\n",
    "tau_Ellipticity = tau_Ellipticity.reshape((X_domain.shape[0], X_domain.shape[1])) # array (2, 2, Ny, Nx)"
   ]
  },
  {
   "cell_type": "code",
   "execution_count": null,
   "metadata": {
    "ExecuteTime": {
     "start_time": "2022-03-02T17:53:00.292Z"
    },
    "code_folding": [
     0
    ],
    "run_control": {
     "marked": false
    }
   },
   "outputs": [],
   "source": [
    "############################################ PLOT RESULTS ############################################\n",
    "\n",
    "# Import plotting libraries\n",
    "import matplotlib.pyplot as plt\n",
    "\n",
    "# Figure/Axes\n",
    "fig = plt.figure(figsize=(8, 4), dpi = 600)\n",
    "ax = plt.axes()\n",
    "\n",
    "# Contourplot of hyperbolicity time over meshgrid of initial conditions\n",
    "cax = ax.contourf(X_domain, Y_domain, np.ma.masked_invalid(tau_Hyperbolicity), cmap = \"gist_gray\", levels = 600)\n",
    "\n",
    "# Axis Labels\n",
    "ax.set_xlabel(\"x\", fontsize = 10)\n",
    "ax.set_ylabel(\"y\", fontsize = 10)\n",
    "\n",
    "# Set axis ticks\n",
    "ax.set_xticks(np.arange(xmin, xmax+0.1, 0.5))\n",
    "ax.set_yticks(np.arange(ymin, ymax+0.1, 0.5))\n",
    "\n",
    "# Colorbar\n",
    "cbar = fig.colorbar(cax, ticks = np.arange(0, 20+.1, 2))\n",
    "\n",
    "# Title\n",
    "ax.set_title(r'$ \\tau_H $', fontsize = 10)\n",
    "\n",
    "plt.show()"
   ]
  },
  {
   "cell_type": "code",
   "execution_count": null,
   "metadata": {
    "ExecuteTime": {
     "start_time": "2022-03-02T17:53:00.293Z"
    },
    "code_folding": [
     0
    ]
   },
   "outputs": [],
   "source": [
    "############################################ PLOT RESULTS ############################################\n",
    "\n",
    "# Import plotting libraries\n",
    "import matplotlib.pyplot as plt\n",
    "\n",
    "# Figure/Axes\n",
    "fig = plt.figure(figsize=(8, 4), dpi = 600)\n",
    "ax = plt.axes()\n",
    "\n",
    "# Contourplot of tau ellipticity over meshgrid of initial conditions\n",
    "cax = ax.contourf(X_domain, Y_domain, np.ma.masked_invalid(tau_Ellipticity), cmap = \"gist_gray\", levels = 600)\n",
    "\n",
    "# Axis Labels\n",
    "ax.set_xlabel(\"x\", fontsize = 10)\n",
    "ax.set_ylabel(\"y\", fontsize = 10)\n",
    "\n",
    "# Set axis ticks\n",
    "ax.set_xticks(np.arange(xmin, xmax+0.1, 0.5))\n",
    "ax.set_yticks(np.arange(ymin, ymax+0.1, 0.5))\n",
    "\n",
    "# Colorbar\n",
    "cbar = fig.colorbar(cax, ticks = np.arange(0, 20+.1, 2))\n",
    "\n",
    "# Title\n",
    "ax.set_title(r'$ \\tau_E $', fontsize = 10)\n",
    "\n",
    "plt.show()"
   ]
  },
  {
   "cell_type": "markdown",
   "metadata": {},
   "source": []
  },
  {
   "cell_type": "markdown",
   "metadata": {},
   "source": [
    "# References\n",
    "\n",
    "[1] Haller, G. (2001). Lagrangian structures and the rate of strain in a partition of two-dimensional turbulence. Physics of Fluids, 13(11), 3365-3385.\n",
    "\n",
    "[2] Notebook 5.6.1 in \"Transport Barriers and Coherent Structures in Flow Data\" by Prof. George Haller."
   ]
  }
 ],
 "metadata": {
  "hide_input": false,
  "kernelspec": {
   "display_name": "Python 3",
   "language": "python",
   "name": "python3"
  },
  "language_info": {
   "codemirror_mode": {
    "name": "ipython",
    "version": 3
   },
   "file_extension": ".py",
   "mimetype": "text/x-python",
   "name": "python",
   "nbconvert_exporter": "python",
   "pygments_lexer": "ipython3",
   "version": "3.7.12"
  },
  "latex_envs": {
   "LaTeX_envs_menu_present": true,
   "autoclose": false,
   "autocomplete": true,
   "bibliofile": "biblio.bib",
   "cite_by": "apalike",
   "current_citInitial": 1,
   "eqLabelWithNumbers": true,
   "eqNumInitial": 1,
   "hotkeys": {
    "equation": "Ctrl-E",
    "itemize": "Ctrl-I"
   },
   "labels_anchors": false,
   "latex_user_defs": false,
   "report_style_numbering": false,
   "user_envs_cfg": false
  },
  "toc": {
   "base_numbering": "0",
   "nav_menu": {},
   "number_sections": true,
   "sideBar": true,
   "skip_h1_title": false,
   "title_cell": "Table of Contents",
   "title_sidebar": "Contents",
   "toc_cell": false,
   "toc_position": {
    "height": "calc(100% - 180px)",
    "left": "10px",
    "top": "150px",
    "width": "256px"
   },
   "toc_section_display": true,
   "toc_window_display": true
  }
 },
 "nbformat": 4,
 "nbformat_minor": 4
}
