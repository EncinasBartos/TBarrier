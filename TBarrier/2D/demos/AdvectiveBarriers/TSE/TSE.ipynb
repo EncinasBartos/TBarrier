{
 "cells": [
  {
   "cell_type": "markdown",
   "metadata": {},
   "source": [
    "The Trajectory Stretching Exponent $ (\\mathrm{TSE}_{t_0}^{t_N}) $ is computed from the velocity along a particle trajectory. The time-interval $ [t_0, t_N] $ is discretized with a resolution of N."
   ]
  },
  {
   "cell_type": "markdown",
   "metadata": {},
   "source": [
    "\\begin{equation}\n",
    "\\mathrm{TSE}_{t_0}^{t_N} = \\dfrac{1}{t_N-t_0} \\log{\\dfrac{\\sqrt{|\\mathbf{\\dot{x}}(t_N)|^2 +\\mathrm{v}_0^2}}{\\sqrt{|\\mathbf{\\dot{x}}(t_0)|^2 +\\mathrm{v}_0^2}}}\n",
    "\\end{equation}"
   ]
  },
  {
   "cell_type": "markdown",
   "metadata": {},
   "source": [
    "| Name | Type (Shape) | Description |\n",
    "| --- | --- | --- |\n",
    "| lenT | float | $ t_N-t_0 $ |\n",
    "| v0 | float | $ \\mathrm{v}_0 $|\n",
    "| velocity | array (2, N) | velocity along trajectories over the <br /> discretized time-interval with resolution N|\n",
    "| TSE | float | $ \\mathrm{\\overline{TSE}}_{t_0}^{t_N} $|"
   ]
  },
  {
   "cell_type": "code",
   "execution_count": 1,
   "metadata": {
    "ExecuteTime": {
     "end_time": "2021-12-09T00:54:21.636231Z",
     "start_time": "2021-12-09T00:54:21.558225Z"
    }
   },
   "outputs": [],
   "source": [
    "# Import numpy\n",
    "import numpy as np\n",
    "\n",
    "# Import symbols from math\n",
    "from math import sqrt, acos"
   ]
  },
  {
   "cell_type": "code",
   "execution_count": 2,
   "metadata": {
    "ExecuteTime": {
     "end_time": "2021-12-09T00:54:21.651883Z",
     "start_time": "2021-12-09T00:54:21.640284Z"
    }
   },
   "outputs": [],
   "source": [
    "def _TSE(lenT, velocity, v0 = 0):\n",
    "                \n",
    "    # velocity at time '0'\n",
    "    velx0 = velocity[0, 0]\n",
    "    vely0 = velocity[1, 0]\n",
    "            \n",
    "    vel0 = sqrt(velx0**2+vely0**2+v0**2)\n",
    "                \n",
    "    # velocity at time 'N'\n",
    "    velxN = velocity[0, -1]\n",
    "    velyN = velocity[1, -1]\n",
    "                \n",
    "    velN = sqrt(velxN**2+velyN**2+v0**2)\n",
    "                \n",
    "    TSE = np.log(velN/vel0)/lenT\n",
    "        \n",
    "    return TSE"
   ]
  },
  {
   "cell_type": "markdown",
   "metadata": {},
   "source": [
    "The average Trajectory Stretching Exponent $ (\\mathrm{\\overline{TSE}}_{t_0}^{t_N}) $ is computed from the velocity along the trajectories launched from initial conditions distributed over a regular meshgrid of size (Ny, Nx). The time-interval $ [t_0, t_N] $ is discretized with a resolution of N.\n",
    "\n",
    "\\begin{equation}\n",
    "\\mathrm{\\overline{TSE}}_{t_0}^{t_N} = \\dfrac{1}{t_N-t_0} \\sum_{i=0}^{N-1}|\\log{\\dfrac{\\sqrt{|\\mathbf{\\dot{x}}(t_{i+1})|^2 +\\mathrm{v}_0^2}}{\\sqrt{|\\mathbf{\\dot{x}}(t_i)|^2 +\\mathrm{v}_0^2}}}|\n",
    "\\end{equation}"
   ]
  },
  {
   "cell_type": "code",
   "execution_count": 3,
   "metadata": {
    "ExecuteTime": {
     "end_time": "2021-12-09T00:54:21.667248Z",
     "start_time": "2021-12-09T00:54:21.653286Z"
    }
   },
   "outputs": [],
   "source": [
    "def _TSE_bar(lenT, velocity, v0 = 0):\n",
    "        \n",
    "    TSE_bar = []\n",
    "        \n",
    "    # Iterate over trajectory\n",
    "    for k in range(velocity.shape[1]-1):\n",
    "            \n",
    "        velx0 = velocity[0, k]\n",
    "        vely0 = velocity[1, k]\n",
    "                    \n",
    "        vel0 = sqrt(velx0**2+vely0**2+v0**2)\n",
    "                    \n",
    "        velx1 = velocity[0, k+1]\n",
    "        vely1 = velocity[1, k+1]\n",
    "                \n",
    "        vel1 = sqrt(velx1**2+vely1**2+v0**2)\n",
    "                \n",
    "        TSE_bar.append(abs(np.log(vel1/vel0)))\n",
    "        \n",
    "    return np.sum(TSE_bar)/lenT"
   ]
  }
 ],
 "metadata": {
  "kernelspec": {
   "display_name": "Python 3 (ipykernel)",
   "language": "python",
   "name": "python3"
  },
  "language_info": {
   "codemirror_mode": {
    "name": "ipython",
    "version": 3
   },
   "file_extension": ".py",
   "mimetype": "text/x-python",
   "name": "python",
   "nbconvert_exporter": "python",
   "pygments_lexer": "ipython3",
   "version": "3.7.11"
  },
  "toc": {
   "base_numbering": 1,
   "nav_menu": {},
   "number_sections": true,
   "sideBar": true,
   "skip_h1_title": false,
   "title_cell": "Table of Contents",
   "title_sidebar": "Contents",
   "toc_cell": false,
   "toc_position": {},
   "toc_section_display": true,
   "toc_window_display": false
  }
 },
 "nbformat": 4,
 "nbformat_minor": 4
}
