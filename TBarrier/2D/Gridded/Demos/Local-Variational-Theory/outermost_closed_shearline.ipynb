{
 "cells": [
  {
   "cell_type": "code",
   "execution_count": 1,
   "metadata": {},
   "outputs": [],
   "source": [
    "import sys, os\n",
    "\n",
    "# get current directory\n",
    "path = os.getcwd()\n",
    "\n",
    "# get parent directory\n",
    "parent_directory = os.path.sep.join(path.split(os.path.sep)[:-2])\n",
    "\n",
    "# add Algorithm folder to current working path\n",
    "sys.path.append(parent_directory+\"/General_Functions\")"
   ]
  },
  {
   "cell_type": "code",
   "execution_count": 8,
   "metadata": {},
   "outputs": [],
   "source": [
    "from ipynb.fs.defs.shearlines import _shearlines\n",
    "import numpy as np\n",
    "\n",
    "def _outermost_closed_shearline(X, Y, C, lamda, sign_eta, shearline, distance_ps_s, x_vortex, y_vortex, length_threshold, step_size, incompressible):\n",
    "    \n",
    "    if len(distance_ps_s) > 2:\n",
    "        for idx_ in range(len(distance_ps_s)-1):\n",
    "    \n",
    "            idx_s = len(distance_ps_s)-2-idx_\n",
    "        \n",
    "            if np.sign(distance_ps_s[idx_s+1]) * np.sign(distance_ps_s[idx_s]) == -1:\n",
    "            \n",
    "                # check if closed shearline contains a local maximum of LAVD\n",
    "                if np.min(shearline[0][idx_s])< x_vortex < np.max(shearline[0][idx_s]) and np.min(shearline[1][idx_s])< y_vortex < np.max(shearline[1][idx_s]):\n",
    "                \n",
    "                    list_poincare_points = [shearline[0][idx_s][0], shearline[0][idx_s][-1], shearline[0][idx_s+1][0], shearline[0][idx_s+1][-1]]\n",
    "                \n",
    "                    len_poincare = np.max(list_poincare_points)-np.min(list_poincare_points)\n",
    "                \n",
    "                    # for j in range(len(shearlines[0])):\n",
    "                        # ax.plot(shearlines[0][j], shearlines[1][j])\n",
    "                    \n",
    "                    shearlines_refined, distance_refined_ps_s, _ = _shearlines(X, Y, C, lamda, np.min(list_poincare_points), y_vortex, len_poincare, length_threshold, step_size, incompressible, sign_eta)\n",
    "                \n",
    "                    for idx__ in range(2, len(distance_refined_ps_s)):\n",
    "                        idx_ss = len(distance_refined_ps_s)-2-idx__\n",
    "                    \n",
    "                        if np.sign(distance_refined_ps_s[idx_ss+1]) * np.sign(distance_refined_ps_s[idx_ss]) == -1:\n",
    "                        \n",
    "                            return shearlines_refined[0][idx_ss], shearlines_refined[1][idx_ss]\n",
    "    \n",
    "    \n",
    "        return None, None\n",
    "    else:\n",
    "        return None, None"
   ]
  },
  {
   "cell_type": "code",
   "execution_count": null,
   "metadata": {},
   "outputs": [],
   "source": []
  }
 ],
 "metadata": {
  "kernelspec": {
   "display_name": "Python 3",
   "language": "python",
   "name": "python3"
  },
  "language_info": {
   "codemirror_mode": {
    "name": "ipython",
    "version": 3
   },
   "file_extension": ".py",
   "mimetype": "text/x-python",
   "name": "python",
   "nbconvert_exporter": "python",
   "pygments_lexer": "ipython3",
   "version": "3.7.11"
  },
  "toc": {
   "base_numbering": 1,
   "nav_menu": {},
   "number_sections": true,
   "sideBar": true,
   "skip_h1_title": false,
   "title_cell": "Table of Contents",
   "title_sidebar": "Contents",
   "toc_cell": false,
   "toc_position": {},
   "toc_section_display": true,
   "toc_window_display": false
  }
 },
 "nbformat": 4,
 "nbformat_minor": 4
}
