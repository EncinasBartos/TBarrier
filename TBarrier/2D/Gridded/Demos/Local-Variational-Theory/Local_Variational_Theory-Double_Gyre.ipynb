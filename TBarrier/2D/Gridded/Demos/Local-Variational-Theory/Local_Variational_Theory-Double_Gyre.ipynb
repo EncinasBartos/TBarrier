{
 "cells": [
  {
   "cell_type": "markdown",
   "metadata": {},
   "source": [
    "# Add Folders to Path"
   ]
  },
  {
   "cell_type": "code",
   "execution_count": 1,
   "metadata": {},
   "outputs": [],
   "source": [
    "%%time\n",
    "import sys, os\n",
    "# get current directory\n",
    "path = os.getcwd()\n",
    "# get parent directory\n",
    "parent_directory = os.path.sep.join(path.split(os.path.sep)[:-2])\n",
    "# add Algorithm folder to current working path in order to access the functions inside the folder ´Algorithms´\n",
    "sys.path.append(parent_directory+\"/General_Functions\")"
   ]
  },
  {
   "cell_type": "markdown",
   "metadata": {},
   "source": [
    "# Double Gyre"
   ]
  },
  {
   "cell_type": "markdown",
   "metadata": {},
   "source": [
    "## Import Data"
   ]
  },
  {
   "cell_type": "code",
   "execution_count": 2,
   "metadata": {},
   "outputs": [
    {
     "name": "stdout",
     "output_type": "stream",
     "text": [
      "CPU times: user 205 ms, sys: 62.6 ms, total: 268 ms\n",
      "Wall time: 406 ms\n"
     ]
    }
   ],
   "source": [
    "%%time\n",
    "import scipy.io as sio\n",
    "\n",
    "#Import velocity data from file in data-folder\n",
    "mat_file = sio.loadmat('../../Data/double_gyre.mat')\n",
    "\n",
    "U = mat_file['u']\n",
    "V = mat_file['v']\n",
    "x = mat_file['x']\n",
    "y = mat_file['y']\n",
    "time = mat_file['t']"
   ]
  },
  {
   "cell_type": "markdown",
   "metadata": {},
   "source": [
    "## Data/Parameters for Dynamical System"
   ]
  },
  {
   "cell_type": "code",
   "execution_count": 3,
   "metadata": {},
   "outputs": [
    {
     "name": "stdout",
     "output_type": "stream",
     "text": [
      "CPU times: user 295 µs, sys: 153 µs, total: 448 µs\n",
      "Wall time: 313 µs\n"
     ]
    }
   ],
   "source": [
    "%%time\n",
    "import numpy as np\n",
    "\n",
    "# Number of cores to be used for parallel computing\n",
    "Ncores = 10\n",
    "\n",
    "# Incompressible/Compressible flow. {True, False}\n",
    "Incompressible = True\n",
    "\n",
    "# Periodic boundary conditions\n",
    "periodic_x = False\n",
    "periodic_y = False\n",
    "Periodic = [periodic_x, periodic_y]\n",
    "\n",
    "## Compute Meshgrid\n",
    "X, Y = np.meshgrid(x, y)\n",
    "\n",
    "# List of parameters of the flow.\n",
    "params_data = {\"X\": X, \"Y\": Y, \"Time\": time, \"U\": U, \"V\": V, \"Ncores\": Ncores, \n",
    "               \"Incompressible\": Incompressible, \"Periodic\": Periodic}"
   ]
  },
  {
   "cell_type": "markdown",
   "metadata": {},
   "source": [
    "<a id='Spatio-Temporal-Domain-of-Dynamical-System'></a>\n",
    "## Spatio-Temporal Domain of Dynamical System"
   ]
  },
  {
   "cell_type": "code",
   "execution_count": 4,
   "metadata": {},
   "outputs": [
    {
     "name": "stdout",
     "output_type": "stream",
     "text": [
      "CPU times: user 442 µs, sys: 398 µs, total: 840 µs\n",
      "Wall time: 438 µs\n"
     ]
    }
   ],
   "source": [
    "%%time\n",
    "# Initial time (in days)\n",
    "t0 = 0\n",
    "\n",
    "# Final time (in days)\n",
    "tN = 10\n",
    "\n",
    "# time step-size\n",
    "dt = .2\n",
    "\n",
    "time = np.arange(t0, tN+dt, dt)\n",
    "\n",
    "# longitudinal and latitudinal boundaries (in degrees)\n",
    "xmin = 0\n",
    "xmax = 2\n",
    "ymin = 0\n",
    "ymax = 1\n",
    "\n",
    "# spacing of meshgrid (in degrees)\n",
    "dx = .01\n",
    "dy = .01\n",
    "\n",
    "x_domain = np.arange(xmin, xmax + dx, dx)\n",
    "y_domain = np.arange(ymin, ymax + dy, dy)\n",
    "\n",
    "X_domain, Y_domain = np.meshgrid(x_domain, y_domain)\n",
    "\n",
    "params_DS = {\"time\": time, \"X_domain\": X_domain, \"Y_domain\": Y_domain}"
   ]
  },
  {
   "cell_type": "code",
   "execution_count": 5,
   "metadata": {},
   "outputs": [
    {
     "name": "stdout",
     "output_type": "stream",
     "text": [
      "CPU times: user 98.2 ms, sys: 19.6 ms, total: 118 ms\n",
      "Wall time: 121 ms\n"
     ]
    }
   ],
   "source": [
    "%%time\n",
    "# Initialize Dynamical System\n",
    "from ipynb.fs.defs.DynamicalSystem import *\n",
    "DS = Dynamical_System(params_data, params_DS)"
   ]
  },
  {
   "cell_type": "markdown",
   "metadata": {},
   "source": [
    "## Velocity Interpolation"
   ]
  },
  {
   "cell_type": "code",
   "execution_count": 6,
   "metadata": {},
   "outputs": [
    {
     "name": "stdout",
     "output_type": "stream",
     "text": [
      "CPU times: user 205 ms, sys: 29.4 ms, total: 234 ms\n",
      "Wall time: 238 ms\n"
     ]
    }
   ],
   "source": [
    "%%time\n",
    "# Interpolate velocity data using cubic spatial interpolation\n",
    "DS._Interpolation_velocity(\"cubic\")"
   ]
  },
  {
   "cell_type": "markdown",
   "metadata": {},
   "source": [
    "## Gradient of Flow map"
   ]
  },
  {
   "cell_type": "markdown",
   "metadata": {},
   "source": [
    "Trajectories are launched from the grid of initial conditions specified in [Section 2.3](#Spatio-Temporal-Domain-of-Dynamical-System) **(Line 14-17)**."
   ]
  },
  {
   "cell_type": "markdown",
   "metadata": {},
   "source": [
    "The temporal domain is specified in [Section 2.3](#Spatio-Temporal-Domain-of-Dynamical-System) **(Line 2-11)**."
   ]
  },
  {
   "cell_type": "code",
   "execution_count": 7,
   "metadata": {},
   "outputs": [
    {
     "data": {
      "application/vnd.jupyter.widget-view+json": {
       "model_id": "a874ec48ae7949a1bfe8ea86b4053275",
       "version_major": 2,
       "version_minor": 0
      },
      "text/plain": [
       "  0%|          | 0/101 [00:00<?, ?it/s]"
      ]
     },
     "metadata": {},
     "output_type": "display_data"
    },
    {
     "name": "stdout",
     "output_type": "stream",
     "text": [
      "CPU times: user 7.62 s, sys: 3.52 s, total: 11.1 s\n",
      "Wall time: 11min 43s\n"
     ]
    }
   ],
   "source": [
    "%%time\n",
    "# aux_grid = True --> Use auxiliary grid for numerical computation of gradient.\n",
    "# Otherwise aux_grid = False.\n",
    "aux_grid = True\n",
    "\n",
    "grad_Fmap_grid = DS._grad_Fmap_grid(aux_grid)"
   ]
  },
  {
   "cell_type": "markdown",
   "metadata": {},
   "source": [
    "## Cauchy-Green strain tensor over Meshgrid of Initial Conditions"
   ]
  },
  {
   "cell_type": "code",
   "execution_count": 8,
   "metadata": {},
   "outputs": [
    {
     "name": "stdout",
     "output_type": "stream",
     "text": [
      "CPU times: user 143 ms, sys: 2.53 ms, total: 145 ms\n",
      "Wall time: 145 ms\n"
     ]
    }
   ],
   "source": [
    "%%time\n",
    "B, C = DS._cauchy_green_strain(grad_Fmap_grid)"
   ]
  },
  {
   "cell_type": "markdown",
   "metadata": {},
   "source": [
    "## Identify Vortex centers from local maximum of LAVD"
   ]
  },
  {
   "cell_type": "markdown",
   "metadata": {},
   "source": [
    "In order to define a poincare section from where to start the integration of the shearlines, we need to locate the vortex centers. Here, we use the fact that vortex centers are objectively identified as local maxima in the LAVD (Lagrangian Averaged Vorticity Deviation) field."
   ]
  },
  {
   "cell_type": "markdown",
   "metadata": {},
   "source": [
    "### Trajectory  Computation\n",
    "\n",
    "Trajectories are launched from the grid of initial conditions specified in [Section 2.3](#Spatio-Temporal-Domain-of-Dynamical-System) **(Line 14-17)**.\n",
    "The temporal domain as well as the time resolution is also indicated in [Section 2.3](#Spatio-Temporal-Domain-of-Dynamical-System) **(Line 2-11)**."
   ]
  },
  {
   "cell_type": "code",
   "execution_count": 9,
   "metadata": {},
   "outputs": [],
   "source": [
    "#trajectory_grid = DS._trajectory_grid()[0]"
   ]
  },
  {
   "cell_type": "markdown",
   "metadata": {},
   "source": [
    "### LAVD-field"
   ]
  },
  {
   "cell_type": "code",
   "execution_count": 10,
   "metadata": {},
   "outputs": [
    {
     "name": "stdout",
     "output_type": "stream",
     "text": [
      "CPU times: user 2.4 ms, sys: 1.61 ms, total: 4.01 ms\n",
      "Wall time: 2.91 ms\n"
     ]
    }
   ],
   "source": [
    "%%time\n",
    "sys.path.append(parent_directory+\"/Demos/LAVD\")\n",
    "from ipynb.fs.defs.LAVD import _LAVD\n",
    "\n",
    "#LAVD = _LAVD(trajectory_grid, DS, time)"
   ]
  },
  {
   "cell_type": "code",
   "execution_count": 11,
   "metadata": {},
   "outputs": [
    {
     "name": "stdout",
     "output_type": "stream",
     "text": [
      "CPU times: user 1.72 ms, sys: 1.43 ms, total: 3.15 ms\n",
      "Wall time: 2.29 ms\n"
     ]
    }
   ],
   "source": [
    "%%time\n",
    "from ipynb.fs.defs.loc_max import _loc_max\n",
    "# distance between local maxima\n",
    "max_distance = .5\n",
    "\n",
    "#x_vortex, y_vortex, _ = _loc_max(max_distance, X_domain, Y_domain, LAVD)"
   ]
  },
  {
   "cell_type": "markdown",
   "metadata": {},
   "source": [
    "## Shearlines"
   ]
  },
  {
   "cell_type": "code",
   "execution_count": null,
   "metadata": {},
   "outputs": [
    {
     "name": "stdout",
     "output_type": "stream",
     "text": [
      "x_vortex:  0.55\n",
      "lambda:  0.94\n"
     ]
    },
    {
     "data": {
      "application/vnd.jupyter.widget-view+json": {
       "model_id": "4d4ef12ae17f4c3ab20a737b2d87dbfe",
       "version_major": 2,
       "version_minor": 0
      },
      "text/plain": [
       "  0%|          | 0/100 [00:00<?, ?it/s]"
      ]
     },
     "metadata": {},
     "output_type": "display_data"
    }
   ],
   "source": [
    "%%time\n",
    "from ipynb.fs.defs.shearlines import _shearlines\n",
    "from ipynb.fs.defs.outermost_closed_shearline import _outermost_closed_shearline\n",
    "import matplotlib.pyplot as plt\n",
    "\n",
    "x_vortex = [0.55, 1.5]\n",
    "y_vortex = [.6, .4]\n",
    "\n",
    "# Step \n",
    "step_size = 0.01\n",
    "\n",
    "# lambda_range\n",
    "lambda_range = np.arange(.94, 1.08+0.02, 0.02)\n",
    "\n",
    "# Length Poincare-section \n",
    "len_poincare = .6\n",
    "\n",
    "# Threshold length of vortex\n",
    "length_threshold = 2*np.pi*len_poincare*2\n",
    "\n",
    "elliptic_LCS = [[], []]\n",
    "lambda_elliptic_LCS = []\n",
    "\n",
    "for i in range(len(x_vortex)):\n",
    "    print(\"x_vortex: \", x_vortex[i])\n",
    "    \n",
    "    for lam in lambda_range:\n",
    "        print(\"lambda: \", lam)\n",
    "    \n",
    "        # integrate lambda line for eta_pos and eta_neg\n",
    "        for sign_eta in [-1, 1]:\n",
    "\n",
    "            shearlines, distance_ps_s, vector_field = _shearlines(X_domain, Y_domain, C, lam, x_vortex[i], y_vortex[i], len_poincare, length_threshold, step_size, Incompressible, sign_eta)\n",
    "            \n",
    "            elliptic_LCS_x, elliptic_LCS_y = _outermost_closed_shearline(X_domain, Y_domain, C, lam, sign_eta, shearlines, distance_ps_s, x_vortex[i], y_vortex[i], length_threshold, step_size, Incompressible)\n",
    "            \n",
    "            if elliptic_LCS_x is not None:\n",
    "                print(elliptic_LCS_x[0])\n",
    "                elliptic_LCS[0].append(elliptic_LCS_x)\n",
    "                elliptic_LCS[1].append(elliptic_LCS_y)\n",
    "                lambda_elliptic_LCS.append(lam)\n",
    "                fig = plt.figure(figsize = (10, 6))\n",
    "                ax = plt.axes()\n",
    "                ax.plot(elliptic_LCS_x, elliptic_LCS_y)\n",
    "                plt.show()"
   ]
  },
  {
   "cell_type": "code",
   "execution_count": null,
   "metadata": {},
   "outputs": [],
   "source": [
    "fig = plt.figure(figsize = (10, 6))\n",
    "ax = plt.axes()\n",
    "for i in range(len(lambda_elliptic_LCS)):\n",
    "    ax.plot(elliptic_LCS[0][i], elliptic_LCS[1][i], label = lambda_elliptic_LCS[i])\n",
    "plt.show()"
   ]
  },
  {
   "cell_type": "code",
   "execution_count": null,
   "metadata": {},
   "outputs": [],
   "source": [
    "def __outermost_closed_shearline(X, Y, C, lamda, sign_eta, shearline, distance_ps_s, x_vortex, y_vortex, length_threshold, step_size, incompressible):\n",
    "    \n",
    "    for idx_ in range(len(distance_ps_s)-1):\n",
    "        idx_s = len(distance_ps_s)-2-idx_\n",
    "        \n",
    "        if np.sign(distance_ps_s[idx_s+1]) * np.sign(distance_ps_s[idx_s]) == -1:\n",
    "            \n",
    "            # check if closed shearline contains a local maximum of LAVD\n",
    "            if np.min(shearline[0][idx_s])< x_vortex < np.max(shearline[0][idx_s]) and np.min(shearline[1][idx_s])< y_vortex < np.max(shearline[1][idx_s]):\n",
    "                \n",
    "                list_poincare_points = [shearline[0][idx_s][0], shearline[0][idx_s][-1], shearline[0][idx_s+1][0], shearline[0][idx_s+1][-1]]\n",
    "                \n",
    "                len_poincare = np.max(list_poincare_points)-np.min(list_poincare_points)\n",
    "                \n",
    "                fig = plt.figure(figsize = (10, 6))\n",
    "                ax = plt.axes()\n",
    "                ax.plot(shearline[0][idx_s+1], shearline[1][idx_s+1], c = \"k\")\n",
    "                ax.plot(shearline[0][idx_s], shearline[1][idx_s], c = \"r\")\n",
    "                plt.show()\n",
    "                # for j in range(len(shearlines[0])):\n",
    "                    # ax.plot(shearlines[0][j], shearlines[1][j])\n",
    "                    \n",
    "                shearlines_refined, distance_refined_ps_s, _ = _shearlines(X, Y, C, lamda, np.min(list_poincare_points), y_vortex, len_poincare, length_threshold, step_size, incompressible, sign_eta)\n",
    "                \n",
    "                fig = plt.figure(figsize = (10, 6))\n",
    "                ax = plt.axes()\n",
    "                ax.plot(distance_refined_ps_s)\n",
    "                plt.show()\n",
    "                \n",
    "                for idx__ in range(len(distance_refined_ps_s)):\n",
    "                    idx_ss = len(distance_refined_ps_s)-2-idx__\n",
    "                    \n",
    "                    if np.sign(distance_refined_ps_s[idx_ss+1]) * np.sign(distance_refined_ps_s[idx_ss]) == -1:\n",
    "                        \n",
    "                        return shearlines_refined[0][idx_s], shearlines_refined[1][idx_s]\n",
    "                    \n",
    "    return None"
   ]
  },
  {
   "cell_type": "code",
   "execution_count": null,
   "metadata": {},
   "outputs": [],
   "source": [
    "fig = plt.figure(figsize = (10, 6))\n",
    "ax = plt.axes()\n",
    "ax.quiver(X_domain[::2,::2], Y_domain[::2,::2], vector_field[::2,::2, 0], vector_field[::2,::2, 1])\n",
    "plt.show()"
   ]
  },
  {
   "cell_type": "markdown",
   "metadata": {},
   "source": [
    "## Shrinklines"
   ]
  },
  {
   "cell_type": "code",
   "execution_count": null,
   "metadata": {},
   "outputs": [],
   "source": [
    "from ipynb.fs.defs.shrinklines import _shrinklines\n",
    "\n",
    "step_size = 0.01\n",
    "max_distance = 0.02\n",
    "max_length = 20\n",
    "\n",
    "shrinklines = _shrinklines(X_domain, Y_domain, C, max_distance, max_length, step_size, Incompressible)"
   ]
  },
  {
   "cell_type": "markdown",
   "metadata": {},
   "source": [
    "## import matplotlib.pyplot as plt\n",
    "\n",
    "for i in range(len(shrinklines[0])):\n",
    "    plt.plot(shrinklines[0][i], shrinklines[1][i], c = \"k\")\n",
    "plt.show()"
   ]
  }
 ],
 "metadata": {
  "kernelspec": {
   "display_name": "Python 3",
   "language": "python",
   "name": "python3"
  },
  "language_info": {
   "codemirror_mode": {
    "name": "ipython",
    "version": 3
   },
   "file_extension": ".py",
   "mimetype": "text/x-python",
   "name": "python",
   "nbconvert_exporter": "python",
   "pygments_lexer": "ipython3",
   "version": "3.7.11"
  },
  "toc": {
   "base_numbering": 1,
   "nav_menu": {},
   "number_sections": true,
   "sideBar": true,
   "skip_h1_title": false,
   "title_cell": "Table of Contents",
   "title_sidebar": "Contents",
   "toc_cell": false,
   "toc_position": {},
   "toc_section_display": true,
   "toc_window_display": false
  }
 },
 "nbformat": 4,
 "nbformat_minor": 4
}
