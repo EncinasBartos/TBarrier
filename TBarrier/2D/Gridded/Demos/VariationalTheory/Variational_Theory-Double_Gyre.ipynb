{
 "cells": [
  {
   "cell_type": "markdown",
   "metadata": {},
   "source": [
    "# Add Folders to Path"
   ]
  },
  {
   "cell_type": "code",
   "execution_count": 1,
   "metadata": {
    "ExecuteTime": {
     "end_time": "2021-10-25T18:04:08.620410Z",
     "start_time": "2021-10-25T18:04:08.615626Z"
    }
   },
   "outputs": [
    {
     "name": "stdout",
     "output_type": "stream",
     "text": [
      "CPU times: user 161 µs, sys: 109 µs, total: 270 µs\n",
      "Wall time: 240 µs\n"
     ]
    }
   ],
   "source": [
    "%%time\n",
    "import sys, os\n",
    "# get current directory\n",
    "path = os.getcwd()\n",
    "# get parent directory\n",
    "parent_directory = os.path.sep.join(path.split(os.path.sep)[:-2])\n",
    "# add Algorithm folder to current working path in order to access the functions inside the folder ´Algorithms´\n",
    "sys.path.append(parent_directory+\"/General_Functions\")"
   ]
  },
  {
   "cell_type": "markdown",
   "metadata": {},
   "source": [
    "# Double Gyre"
   ]
  },
  {
   "cell_type": "markdown",
   "metadata": {},
   "source": [
    "## Import data"
   ]
  },
  {
   "cell_type": "code",
   "execution_count": 2,
   "metadata": {
    "ExecuteTime": {
     "end_time": "2021-10-25T18:04:08.893912Z",
     "start_time": "2021-10-25T18:04:08.653922Z"
    }
   },
   "outputs": [
    {
     "name": "stdout",
     "output_type": "stream",
     "text": [
      "CPU times: user 177 ms, sys: 60.3 ms, total: 237 ms\n",
      "Wall time: 237 ms\n"
     ]
    }
   ],
   "source": [
    "%%time\n",
    "import scipy.io as sio\n",
    "\n",
    "#Import velocity data from file in data-folder\n",
    "mat_file = sio.loadmat('../../Data/double_gyre.mat')\n",
    "\n",
    "U = mat_file['u']\n",
    "V = mat_file['v']\n",
    "x = mat_file['x']\n",
    "y = mat_file['y']\n",
    "time = mat_file['t']"
   ]
  },
  {
   "cell_type": "markdown",
   "metadata": {},
   "source": [
    "## Data/Parameters for dynamical system"
   ]
  },
  {
   "cell_type": "code",
   "execution_count": 3,
   "metadata": {
    "ExecuteTime": {
     "end_time": "2021-10-25T18:04:08.899929Z",
     "start_time": "2021-10-25T18:04:08.895820Z"
    }
   },
   "outputs": [
    {
     "name": "stdout",
     "output_type": "stream",
     "text": [
      "CPU times: user 747 µs, sys: 779 µs, total: 1.53 ms\n",
      "Wall time: 793 µs\n"
     ]
    }
   ],
   "source": [
    "%%time\n",
    "import numpy as np\n",
    "\n",
    "# Number of cores to be used for parallel computing\n",
    "Ncores = 20\n",
    "\n",
    "# Incompressible/Compressible flow. {True, False}\n",
    "Incompressible = True\n",
    "\n",
    "# Periodic boundary conditions\n",
    "periodic_x = False\n",
    "periodic_y = False\n",
    "Periodic = [periodic_x, periodic_y]\n",
    "\n",
    "## Compute Meshgrid\n",
    "X, Y = np.meshgrid(x, y)\n",
    "\n",
    "# List of parameters of the flow.\n",
    "params_data = {\"X\": X, \"Y\": Y, \"Time\": time, \"U\": U, \"V\": V, \"Ncores\": Ncores, \n",
    "               \"Incompressible\": Incompressible, \"Periodic\": Periodic}"
   ]
  },
  {
   "cell_type": "markdown",
   "metadata": {},
   "source": [
    "<a id='Spatio-Temporal-Domain-of-Dynamical-System'></a>\n",
    "## Spatio-temporal domain of dynamical system"
   ]
  },
  {
   "cell_type": "code",
   "execution_count": 4,
   "metadata": {
    "ExecuteTime": {
     "end_time": "2021-10-25T18:04:08.906054Z",
     "start_time": "2021-10-25T18:04:08.902028Z"
    }
   },
   "outputs": [
    {
     "name": "stdout",
     "output_type": "stream",
     "text": [
      "CPU times: user 329 µs, sys: 249 µs, total: 578 µs\n",
      "Wall time: 352 µs\n"
     ]
    }
   ],
   "source": [
    "%%time\n",
    "# Initial time (in days)\n",
    "t0 = 0\n",
    "\n",
    "# Final time (in days)\n",
    "tN = 10\n",
    "\n",
    "# time step-size\n",
    "dt = .1\n",
    "\n",
    "time = np.arange(t0, tN+dt, dt)\n",
    "\n",
    "# longitudinal and latitudinal boundaries (in degrees)\n",
    "xmin = 0\n",
    "xmax = 2\n",
    "ymin = 0\n",
    "ymax = 1\n",
    "\n",
    "# spacing of meshgrid (in degrees)\n",
    "dx = .01\n",
    "dy = .01\n",
    "\n",
    "x_domain = np.arange(xmin, xmax + dx, dx)\n",
    "y_domain = np.arange(ymin, ymax + dy, dy)\n",
    "\n",
    "X_domain, Y_domain = np.meshgrid(x_domain, y_domain)\n",
    "\n",
    "params_DS = {\"time\": time, \"X_domain\": X_domain, \"Y_domain\": Y_domain}"
   ]
  },
  {
   "cell_type": "code",
   "execution_count": 5,
   "metadata": {
    "ExecuteTime": {
     "end_time": "2021-10-25T18:04:08.998128Z",
     "start_time": "2021-10-25T18:04:08.908202Z"
    }
   },
   "outputs": [
    {
     "name": "stdout",
     "output_type": "stream",
     "text": [
      "CPU times: user 75.5 ms, sys: 12.5 ms, total: 88 ms\n",
      "Wall time: 87.1 ms\n"
     ]
    }
   ],
   "source": [
    "%%time\n",
    "# Initialize Dynamical System\n",
    "from ipynb.fs.defs.DynamicalSystem import *\n",
    "DS = Dynamical_System(params_data, params_DS)"
   ]
  },
  {
   "cell_type": "markdown",
   "metadata": {},
   "source": [
    "## Velocity interpolation"
   ]
  },
  {
   "cell_type": "code",
   "execution_count": 6,
   "metadata": {
    "ExecuteTime": {
     "end_time": "2021-10-25T18:04:09.635643Z",
     "start_time": "2021-10-25T18:04:08.999992Z"
    }
   },
   "outputs": [
    {
     "name": "stdout",
     "output_type": "stream",
     "text": [
      "CPU times: user 599 ms, sys: 35.3 ms, total: 634 ms\n",
      "Wall time: 633 ms\n"
     ]
    }
   ],
   "source": [
    "%%time\n",
    "# Interpolate velocity data using cubic spatial interpolation\n",
    "DS._Interpolation_velocity(\"cubic\")"
   ]
  },
  {
   "cell_type": "markdown",
   "metadata": {},
   "source": [
    "## Gradient of flow map"
   ]
  },
  {
   "cell_type": "markdown",
   "metadata": {},
   "source": [
    "Trajectories are launched from the grid of initial conditions specified in [Section 2.3](#Spatio-Temporal-Domain-of-Dynamical-System) **(Line 14-17)**."
   ]
  },
  {
   "cell_type": "markdown",
   "metadata": {},
   "source": [
    "The temporal domain is specified in [Section 2.3](#Spatio-Temporal-Domain-of-Dynamical-System) **(Line 2-11)**."
   ]
  },
  {
   "cell_type": "code",
   "execution_count": null,
   "metadata": {
    "ExecuteTime": {
     "start_time": "2021-10-25T18:04:08.778Z"
    }
   },
   "outputs": [
    {
     "data": {
      "application/vnd.jupyter.widget-view+json": {
       "model_id": "b15d68bf073a4f94a8f56f2220fad2da",
       "version_major": 2,
       "version_minor": 0
      },
      "text/plain": [
       "  0%|          | 0/101 [00:00<?, ?it/s]"
      ]
     },
     "metadata": {},
     "output_type": "display_data"
    }
   ],
   "source": [
    "%%time\n",
    "# aux_grid = True --> Use auxiliary grid for numerical computation of gradient.\n",
    "# Otherwise aux_grid = False.\n",
    "aux_grid = True\n",
    "\n",
    "grad_Fmap_grid = DS._grad_Fmap_grid(aux_grid)"
   ]
  },
  {
   "cell_type": "markdown",
   "metadata": {},
   "source": [
    "## Cauchy-Green strain tensor over meshgrid of initial conditions"
   ]
  },
  {
   "cell_type": "code",
   "execution_count": null,
   "metadata": {
    "ExecuteTime": {
     "start_time": "2021-10-25T18:04:08.797Z"
    }
   },
   "outputs": [],
   "source": [
    "%%time\n",
    "B, C = DS._cauchy_green_strain(grad_Fmap_grid)"
   ]
  },
  {
   "cell_type": "markdown",
   "metadata": {},
   "source": [
    "## Identify vortex centers from local maximum of LAVD"
   ]
  },
  {
   "cell_type": "markdown",
   "metadata": {},
   "source": [
    "In order to define a poincare section from where to start the integration of the shearlines, we need to locate the vortex centers. Here, we use the fact that vortex centers are objectively identified as local maxima in the LAVD (Lagrangian Averaged Vorticity Deviation) field."
   ]
  },
  {
   "cell_type": "markdown",
   "metadata": {},
   "source": [
    "### Trajectory  computation\n",
    "\n",
    "Trajectories are launched from the grid of initial conditions specified in [Section 2.3](#Spatio-Temporal-Domain-of-Dynamical-System) **(Line 14-17)**.\n",
    "The temporal domain as well as the time resolution is also indicated in [Section 2.3](#Spatio-Temporal-Domain-of-Dynamical-System) **(Line 2-11)**."
   ]
  },
  {
   "cell_type": "code",
   "execution_count": null,
   "metadata": {
    "ExecuteTime": {
     "start_time": "2021-10-25T18:04:08.855Z"
    }
   },
   "outputs": [],
   "source": [
    "trajectory_grid = DS._trajectory_grid()[0]"
   ]
  },
  {
   "cell_type": "markdown",
   "metadata": {},
   "source": [
    "### LAVD-field"
   ]
  },
  {
   "cell_type": "markdown",
   "metadata": {},
   "source": [
    "The LAVD-field is computed from the trajectories defined over a meshgrid of initial conditions."
   ]
  },
  {
   "cell_type": "code",
   "execution_count": null,
   "metadata": {
    "ExecuteTime": {
     "start_time": "2021-10-25T18:04:08.895Z"
    }
   },
   "outputs": [],
   "source": [
    "%%time\n",
    "sys.path.append(parent_directory+\"/Demos/LAVD\")\n",
    "from ipynb.fs.defs.LAVD import _LAVD\n",
    "\n",
    "LAVD = _LAVD(trajectory_grid, DS, time)"
   ]
  },
  {
   "cell_type": "markdown",
   "metadata": {},
   "source": [
    "Centers of elliptic LCS are given by local maxima in the LAVD-field."
   ]
  },
  {
   "cell_type": "code",
   "execution_count": null,
   "metadata": {
    "ExecuteTime": {
     "start_time": "2021-10-25T18:04:08.917Z"
    }
   },
   "outputs": [],
   "source": [
    "%%time\n",
    "from ipynb.fs.defs.loc_max import _loc_max\n",
    "\n",
    "# distance between local maxima\n",
    "max_distance = .5\n",
    "\n",
    "x_vortex, y_vortex, _ = _loc_max(max_distance, X_domain, Y_domain, LAVD)"
   ]
  },
  {
   "cell_type": "code",
   "execution_count": null,
   "metadata": {
    "ExecuteTime": {
     "start_time": "2021-10-25T18:04:08.918Z"
    }
   },
   "outputs": [],
   "source": [
    "###################################### PLOT VORTEX CENTERS FROM LAVD ######################################\n",
    "import matplotlib.pyplot as plt\n",
    "\n",
    "fig = plt.figure(figsize = (16, 10))\n",
    "ax = plt.axes()\n",
    "\n",
    "cax = ax.contourf(X_domain, Y_domain, LAVD, levels=600, cmap='gist_rainbow_r')\n",
    "ax.scatter(x_vortex, y_vortex, s = 50, c = 'k', label='Vortex center')\n",
    "\n",
    "ax.set_xlabel('long (deg)')\n",
    "ax.set_ylabel('lat (deg)')\n",
    "\n",
    "ax.set_xticks(np.arange(np.min(X_domain), np.max(X_domain), .1))\n",
    "ax.set_yticks(np.arange(np.min(Y_domain), np.max(Y_domain), .1))\n",
    "\n",
    "ax.set_title('Vortex centers plotted over LAVD')\n",
    "\n",
    "cbar = plt.colorbar(cax)\n",
    "plt.show()"
   ]
  },
  {
   "cell_type": "markdown",
   "metadata": {},
   "source": [
    "## Shearlines (Elliptic LCS)"
   ]
  },
  {
   "cell_type": "markdown",
   "metadata": {},
   "source": [
    "Elliptic LCS can be sought among trajectories of the differential equation:\n",
    "\n",
    "\\begin{equation}\n",
    "\\mathbf{x}'_0(s) = \\sqrt{\\dfrac{\\lambda_2-\\lambda^2}{\\lambda_2-\\lambda_1}}\\xi_2(\\mathbf{x}_0;t_0, t_1) \\pm\\sqrt{\\dfrac{\\lambda_1-\\lambda^2}{\\lambda_2-\\lambda_1}}\\xi_1(\\mathbf{x}_0;t_0, t_1),\n",
    "\\label{eq: shearlines}\n",
    "\\end{equation}\n",
    "\n",
    "with $ \\xi_1, \\xi_2 $ denoting the eigenvector associated to the weakest/strongest eigenvalue $ \\lambda_1/\\lambda_2 $ of $ C_{t_0}^{t_1}(\\mathbf{x}_0) $. The non-orientable vector field is well defiend away from tensorline singularites (points where $ \\lambda_1 = \\lambda_2 $).\n",
    "The outermost closed shearline mark initial positions of elliptic LCS at time $ t_0 $. The integration of the autonomous system in eq. \\ref{eq: shearlines} is done with respect to the non-dimensional parameter $ s $."
   ]
  },
  {
   "cell_type": "code",
   "execution_count": null,
   "metadata": {
    "ExecuteTime": {
     "start_time": "2021-10-25T18:04:08.960Z"
    }
   },
   "outputs": [],
   "source": [
    "%%time\n",
    "from ipynb.fs.defs.shearlines import _shearlines\n",
    "from ipynb.fs.defs.outermost_closed_shearline import _outermost_closed_shearline\n",
    "import matplotlib.pyplot as plt\n",
    "\n",
    "# step-size used for integration with respect to parameter 's'\n",
    "step_size = 0.02\n",
    "\n",
    "# range of lambda values\n",
    "lambda_range = np.arange(.95, 1.05, 0.05)\n",
    "\n",
    "# length Poincare-section \n",
    "len_poincare = .6\n",
    "\n",
    "# threshold distance for re-intersection of closed shearline with poincare section\n",
    "d_threshold = 0.0025\n",
    "\n",
    "# threshold length of vortex\n",
    "length_threshold = 2*np.pi*len_poincare*2\n",
    "\n",
    "# defined elliptic LCS\n",
    "elliptic_LCS = [[], []]\n",
    "lambda_elliptic_LCS = []\n",
    "\n",
    "for i in range(len(x_vortex)):\n",
    "    \n",
    "    for lam in lambda_range:\n",
    "        print(\"lambda: \", lam)\n",
    "    \n",
    "        # integrate lambda line for eta_pos and eta_neg\n",
    "        for sign_eta in [-1, 1]:\n",
    "\n",
    "            shearlines, distance_ps_s, vector_field = _shearlines(X_domain, Y_domain, C, lam, x_vortex[i], y_vortex[i], len_poincare, length_threshold, step_size, Incompressible, sign_eta)\n",
    "            \n",
    "            elliptic_LCS_x, elliptic_LCS_y = _outermost_closed_shearline(X_domain, Y_domain, C, lam, sign_eta, shearlines, distance_ps_s, x_vortex[i], y_vortex[i], d_threshold, length_threshold, step_size, Incompressible)\n",
    "            \n",
    "            if elliptic_LCS_x is not None:\n",
    "                elliptic_LCS[0].append(elliptic_LCS_x)\n",
    "                elliptic_LCS[1].append(elliptic_LCS_y)\n",
    "                lambda_elliptic_LCS.append(lam)"
   ]
  },
  {
   "cell_type": "code",
   "execution_count": null,
   "metadata": {
    "ExecuteTime": {
     "start_time": "2021-10-25T18:04:08.962Z"
    }
   },
   "outputs": [],
   "source": [
    "###################################### PLOT ELLIPTIC LCS ######################################\n",
    "\n",
    "fig = plt.figure(figsize = (16, 10))\n",
    "ax = plt.axes()\n",
    "\n",
    "for i in range(len(elliptic_LCS[0])):\n",
    "    \n",
    "    ax.plot(elliptic_LCS[0][i], elliptic_LCS[1][i], c = 'k')#label=lambda_elliptic_LCS[i])\n",
    "\n",
    "ax.set_xlabel('long (deg)')\n",
    "ax.set_ylabel('lat (deg)')\n",
    "\n",
    "ax.set_xticks(np.arange(np.min(X_domain), np.max(X_domain)+.1, .1))\n",
    "ax.set_yticks(np.arange(np.min(Y_domain), np.max(Y_domain)+.1, .1))\n",
    "\n",
    "ax.set_title('Elliptic LCSs from closed shearlines')\n",
    "\n",
    "#plt.legend(loc=\"upper right\")\n",
    "plt.show()"
   ]
  },
  {
   "cell_type": "markdown",
   "metadata": {},
   "source": [
    "## Shrinklines (Repelling LCS)"
   ]
  },
  {
   "cell_type": "markdown",
   "metadata": {},
   "source": [
    "Repelling LCS can be sought among trajectories of the differential equation:\n",
    "\n",
    "\\begin{equation}\n",
    "\\mathbf{x}'_0(s) = \\xi_1(\\mathbf{x}_0;t_0, t_N),\n",
    "\\label{eq: shrinklines}\n",
    "\\end{equation}\n",
    "\n",
    "with $ \\xi_1 $ denoting the eigenvector associated to the weakest eigenvalue $ \\lambda_1 $ of $ C_{t_0}^{t_N}(\\mathbf{x}_0) $. The non-orientable vector field is well defiend away from tensorline singularites (points where $ \\lambda_1 = \\lambda_2 $).\n",
    "The most repelling shrinklines mark initial positions of repelling LCSs. Repelling LCSs can therefore be located as trajectories of eq. \\ref{eq: shrinklines} that have locally the largest averaged $ \\lambda_2(\\mathbf{x}_0;t_0, t_N) $ among all neighbouring shrinklines."
   ]
  },
  {
   "cell_type": "code",
   "execution_count": null,
   "metadata": {
    "ExecuteTime": {
     "start_time": "2021-10-25T18:04:08.998Z"
    }
   },
   "outputs": [],
   "source": [
    "from ipynb.fs.defs.shrinklines import _shrinklines\n",
    "\n",
    "# step-size used for integration with respect to parameter 's'\n",
    "step_size = 0.02\n",
    "\n",
    "# threshold distance to locate local maxima in the 'lambda_2' field of 'C'\n",
    "max_distance = 0.02\n",
    "\n",
    "# maximum length of shrinkline\n",
    "max_length = 20\n",
    "\n",
    "shrinklines = _shrinklines(X_domain, Y_domain, C, max_distance, max_length, step_size, Incompressible)"
   ]
  },
  {
   "cell_type": "code",
   "execution_count": null,
   "metadata": {
    "ExecuteTime": {
     "start_time": "2021-10-25T18:04:09.000Z"
    }
   },
   "outputs": [],
   "source": [
    "###################################### PLOT REPELLING LCS ######################################\n",
    "\n",
    "fig = plt.figure(figsize = (16, 10))\n",
    "ax = plt.axes()\n",
    "for i in range(len(shrinklines[0])):\n",
    "    ax.plot(shrinklines[0][i], shrinklines[1][i], c = 'r')\n",
    "    \n",
    "ax.set_xlabel('x', fontsize = 16)\n",
    "ax.set_ylabel('y', fontsize = 16)\n",
    "\n",
    "ax.set_xticks(np.arange(np.min(X_domain), np.max(X_domain)+.1, .1))\n",
    "ax.set_yticks(np.arange(np.min(Y_domain), np.max(Y_domain)+.1, .1))\n",
    "\n",
    "ax.set_title('Repelling LCSs from shrinklines', fontsize = 20)\n",
    "\n",
    "plt.show()"
   ]
  },
  {
   "cell_type": "markdown",
   "metadata": {},
   "source": [
    "## Stretchlines (Attracting LCS)"
   ]
  },
  {
   "cell_type": "markdown",
   "metadata": {
    "ExecuteTime": {
     "end_time": "2021-10-24T15:02:24.962008Z",
     "start_time": "2021-10-24T15:02:24.947021Z"
    }
   },
   "source": [
    "Attracting LCS can be sought among trajectories of the differential equation:\n",
    "\n",
    "\\begin{equation}\n",
    "\\mathbf{x}'_0 = \\xi_2(\\mathbf{x}_0;t_0, t_N),\n",
    "\\label{eq: stretchlines}\n",
    "\\end{equation}\n",
    "\n",
    "with $ \\xi_2 $ denoting the eigenvector associated to the strongest eigenvalue $ \\lambda_2 $ of $ C_{t_0}^{t_N}(\\mathbf{x}_0) $. The non-orientable vector field is well defiend away from tensorline singularites (points where $ \\lambda_1 = \\lambda_2 $).\n",
    "The most attracting stretchlines mark initial positions of attracting LCSs. Attracting LCSs can therefore be located as trajectories of eq. \\ref{eq: stretchlines} that have locally the smallest averaged $ \\lambda_1(\\mathbf{x}_0;t_0, t_N) $ among all neighbouring stretchlines."
   ]
  },
  {
   "cell_type": "code",
   "execution_count": null,
   "metadata": {
    "ExecuteTime": {
     "start_time": "2021-10-25T18:04:09.033Z"
    }
   },
   "outputs": [],
   "source": [
    "from ipynb.fs.defs.stretchlines import _stretchlines\n",
    "\n",
    "# step-size used for integration with respect to parameter 's'\n",
    "step_size = 0.02\n",
    "\n",
    "# threshold distance to locate local minima in the 'lambda_1' field of 'C'\n",
    "max_distance = 0.02\n",
    "\n",
    "# maximum length of stretchline\n",
    "max_length = 20\n",
    "\n",
    "stretchlines = _stretchlines(X_domain, Y_domain, C, max_distance, max_length, step_size, Incompressible)"
   ]
  },
  {
   "cell_type": "code",
   "execution_count": null,
   "metadata": {
    "ExecuteTime": {
     "start_time": "2021-10-25T18:04:09.034Z"
    }
   },
   "outputs": [],
   "source": [
    "###################################### PLOT ATTRACTING LCS ######################################\n",
    "\n",
    "fig = plt.figure(figsize = (16, 10))\n",
    "ax = plt.axes()\n",
    "for i in range(len(stretchlines[0])):\n",
    "    ax.plot(stretchlines[0][i], stretchlines[1][i], c = 'g')\n",
    "    \n",
    "ax.set_xlabel('x', fontsize = 16)\n",
    "ax.set_ylabel('y', fontsize = 16)\n",
    "\n",
    "ax.set_xticks(np.arange(np.min(X_domain), np.max(X_domain)+.1, .1))\n",
    "ax.set_yticks(np.arange(np.min(Y_domain), np.max(Y_domain)+.1, .1))\n",
    "\n",
    "ax.set_title('Attracting LCSs from stretchlines', fontsize = 20)\n",
    "\n",
    "plt.show()"
   ]
  },
  {
   "cell_type": "code",
   "execution_count": null,
   "metadata": {},
   "outputs": [],
   "source": []
  }
 ],
 "metadata": {
  "kernelspec": {
   "display_name": "Python 3",
   "language": "python",
   "name": "python3"
  },
  "language_info": {
   "codemirror_mode": {
    "name": "ipython",
    "version": 3
   },
   "file_extension": ".py",
   "mimetype": "text/x-python",
   "name": "python",
   "nbconvert_exporter": "python",
   "pygments_lexer": "ipython3",
   "version": "3.7.11"
  },
  "toc": {
   "base_numbering": 1,
   "nav_menu": {},
   "number_sections": true,
   "sideBar": true,
   "skip_h1_title": false,
   "title_cell": "Table of Contents",
   "title_sidebar": "Contents",
   "toc_cell": false,
   "toc_position": {
    "height": "calc(100% - 180px)",
    "left": "10px",
    "top": "150px",
    "width": "409.6000061035156px"
   },
   "toc_section_display": true,
   "toc_window_display": true
  }
 },
 "nbformat": 4,
 "nbformat_minor": 4
}
