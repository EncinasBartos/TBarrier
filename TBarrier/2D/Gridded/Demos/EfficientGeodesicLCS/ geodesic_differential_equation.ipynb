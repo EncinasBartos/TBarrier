{
 "cells": [
  {
   "cell_type": "code",
   "execution_count": null,
   "metadata": {
    "hide_input": false
   },
   "outputs": [],
   "source": [
    "import numpy as np\n",
    "\n",
    "def _geodesic_differential_equation(x, phi, interp_C11, interp_C12, interp_C22, interp_grad_C11, interp_grad_C12, interp_grad_C22):\n",
    "    \n",
    "    C11 = interp_C11(x[1], x[0])[0][0]\n",
    "    C12 = interp_C12(x[1], x[0])[0][0]\n",
    "    C22 = interp_C22(x[1], x[0])[0][0]\n",
    "    \n",
    "    C11_x = interp_grad_C11[0](x[1], x[0])[0][0]\n",
    "    C12_x = interp_grad_C12[0](x[1], x[0])[0][0]\n",
    "    C22_x = interp_grad_C22[0](x[1], x[0])[0][0]\n",
    "    C11_y = interp_grad_C11[1](x[1], x[0])[0][0]\n",
    "    C12_y = interp_grad_C12[1](x[1], x[0])[0][0]\n",
    "    C22_y = interp_grad_C22[1](x[1], x[0])[0][0]\n",
    "    \n",
    "    inner_product_C11_x = C11_x*np.cos(phi)+C11_y*np.sin(phi)\n",
    "    inner_product_C12_x = C12_x*np.cos(phi)+C12_y*np.sin(phi)\n",
    "    inner_product_C22_x = C22_x*np.cos(phi)+C12_y*np.sin(phi)\n",
    "    \n",
    "    x_prime = np.cos(phi)\n",
    "    y_prime = np.sin(phi)\n",
    "    num_phi_prime = np.cos(phi)**2*inner_product_C11_x+np.sin(2*phi)*inner_product_C12_x+np.sin(phi)**2*inner_product_C22_x\n",
    "    denom_phi_prime = np.sin(2*phi)*[C22-C11]+2*np.cos(2*phi)*C12\n",
    "    phi_prime = -num_phi/denom_phi_prime\n",
    "    \n",
    "    return x_prime, y_prime, phi_prime"
   ]
  }
 ],
 "metadata": {
  "kernelspec": {
   "display_name": "Python 3",
   "language": "python",
   "name": "python3"
  },
  "language_info": {
   "codemirror_mode": {
    "name": "ipython",
    "version": 3
   },
   "file_extension": ".py",
   "mimetype": "text/x-python",
   "name": "python",
   "nbconvert_exporter": "python",
   "pygments_lexer": "ipython3",
   "version": "3.7.11"
  },
  "toc": {
   "base_numbering": 1,
   "nav_menu": {},
   "number_sections": true,
   "sideBar": true,
   "skip_h1_title": false,
   "title_cell": "Table of Contents",
   "title_sidebar": "Contents",
   "toc_cell": false,
   "toc_position": {},
   "toc_section_display": true,
   "toc_window_display": true
  }
 },
 "nbformat": 4,
 "nbformat_minor": 5
}
