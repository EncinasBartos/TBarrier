{
 "cells": [
  {
   "cell_type": "markdown",
   "metadata": {},
   "source": [
    "# Add Folders to Path"
   ]
  },
  {
   "cell_type": "code",
   "execution_count": 1,
   "metadata": {},
   "outputs": [
    {
     "name": "stdout",
     "output_type": "stream",
     "text": [
      "CPU times: user 261 µs, sys: 485 µs, total: 746 µs\n",
      "Wall time: 323 µs\n"
     ]
    }
   ],
   "source": [
    "%%time\n",
    "import sys, os\n",
    "# get current directory\n",
    "path = os.getcwd()\n",
    "# get parent directory\n",
    "parent_directory = os.path.sep.join(path.split(os.path.sep)[:-2])\n",
    "# add Algorithm folder to current working path in order to access the functions inside the folder ´Algorithms´\n",
    "sys.path.append(parent_directory+\"/General_Functions\")"
   ]
  },
  {
   "cell_type": "markdown",
   "metadata": {},
   "source": [
    "# Agulhas Region"
   ]
  },
  {
   "cell_type": "markdown",
   "metadata": {},
   "source": [
    "## AVISO Data from Agulhas Region"
   ]
  },
  {
   "cell_type": "code",
   "execution_count": 2,
   "metadata": {},
   "outputs": [
    {
     "name": "stdout",
     "output_type": "stream",
     "text": [
      "CPU times: user 324 ms, sys: 91.6 ms, total: 415 ms\n",
      "Wall time: 922 ms\n"
     ]
    }
   ],
   "source": [
    "%%time\n",
    "import scipy.io as sio\n",
    "\n",
    "#Import velocity data from file in data-folder\n",
    "mat_file = sio.loadmat('../../Data/Bickley.mat')\n",
    "\n",
    "U = mat_file['u']\n",
    "V = mat_file['v']\n",
    "x = mat_file['x']\n",
    "y = mat_file['y']\n",
    "time = mat_file['t']"
   ]
  },
  {
   "cell_type": "markdown",
   "metadata": {},
   "source": [
    "## Data/Parameters for Dynamical System"
   ]
  },
  {
   "cell_type": "code",
   "execution_count": 3,
   "metadata": {},
   "outputs": [],
   "source": [
    "import numpy as np\n",
    "\n",
    "# Number of cores to be used for parallel computing\n",
    "Ncores = 16\n",
    "\n",
    "# Incompressible/Compressible flow. {True, False}\n",
    "Incompressible = True\n",
    "\n",
    "# Periodic boundary conditions\n",
    "periodic_x = False\n",
    "periodic_y = False\n",
    "Periodic = [periodic_x, periodic_y]\n",
    "\n",
    "## Compute Meshgrid\n",
    "X, Y = np.meshgrid(x, y)\n",
    "\n",
    "# List of parameters of the flow.\n",
    "params_data = {\"X\": X, \"Y\": Y, \"Time\": time, \"U\": U, \"V\": V, \"Ncores\": Ncores, \n",
    "               \"Incompressible\": Incompressible, \"Periodic\": Periodic}"
   ]
  },
  {
   "cell_type": "markdown",
   "metadata": {},
   "source": [
    "<a id='Spatio-Temporal-Domain-of-Dynamical-System'></a>\n",
    "## Spatio-Temporal Domain of Dynamical System"
   ]
  },
  {
   "cell_type": "code",
   "execution_count": 4,
   "metadata": {},
   "outputs": [
    {
     "name": "stdout",
     "output_type": "stream",
     "text": [
      "CPU times: user 844 µs, sys: 766 µs, total: 1.61 ms\n",
      "Wall time: 898 µs\n"
     ]
    }
   ],
   "source": [
    "%%time\n",
    "# Initial time (in days)\n",
    "t0 = time[0]\n",
    "\n",
    "# Final time (in days)\n",
    "tN = time[-1]\n",
    "\n",
    "# time step-size\n",
    "dt = (time[-1] - time[0])/20\n",
    "\n",
    "time = np.arange(t0, tN+dt, dt)\n",
    "\n",
    "# longitudinal and latitudinal boundaries (in degrees)\n",
    "xmin = 0\n",
    "xmax = 2*10**7\n",
    "ymin = -2*10**6\n",
    "ymax = 2*10**6\n",
    "\n",
    "# spacing of meshgrid (in degrees)\n",
    "dx = (xmax-xmin)/500\n",
    "dy = (ymax-ymin)/250\n",
    "\n",
    "x_domain = np.arange(xmin, xmax + dx, dx)\n",
    "y_domain = np.arange(ymin, ymax + dy, dy)\n",
    "\n",
    "X_domain, Y_domain = np.meshgrid(x_domain, y_domain)\n",
    "\n",
    "params_DS = {\"time\": time, \"X_domain\": X_domain, \"Y_domain\": Y_domain}"
   ]
  },
  {
   "cell_type": "code",
   "execution_count": 5,
   "metadata": {},
   "outputs": [],
   "source": [
    "# Initialize Dynamical System\n",
    "from ipynb.fs.defs.DynamicalSystem import *\n",
    "\n",
    "DS = Dynamical_System(params_data, params_DS)"
   ]
  },
  {
   "cell_type": "markdown",
   "metadata": {},
   "source": [
    "## Velocity Interpolation"
   ]
  },
  {
   "cell_type": "code",
   "execution_count": 6,
   "metadata": {},
   "outputs": [
    {
     "name": "stdout",
     "output_type": "stream",
     "text": [
      "CPU times: user 121 ms, sys: 34.3 ms, total: 155 ms\n",
      "Wall time: 380 ms\n"
     ]
    }
   ],
   "source": [
    "%%time\n",
    "# Interpolate velocity data using cubic spatial interpolation\n",
    "DS._Interpolation_velocity(\"cubic\")"
   ]
  },
  {
   "cell_type": "markdown",
   "metadata": {},
   "source": [
    "## Trajectory/Velocity  Computation"
   ]
  },
  {
   "cell_type": "markdown",
   "metadata": {},
   "source": [
    "Trajectories are launched from the grid of initial conditions specified in [Section 2.3](#Spatio-Temporal-Domain-of-Dynamical-System) **(Line 14-17)**.\n",
    "The temporal domain as well as the time resolution is also indicated in [Section 2.3](#Spatio-Temporal-Domain-of-Dynamical-System) **(Line 2-11)**."
   ]
  },
  {
   "cell_type": "code",
   "execution_count": null,
   "metadata": {},
   "outputs": [
    {
     "data": {
      "application/vnd.jupyter.widget-view+json": {
       "model_id": "1c5d97ce00c04545bd62e975305a8c94",
       "version_major": 2,
       "version_minor": 0
      },
      "text/plain": [
       "  0%|          | 0/201 [00:00<?, ?it/s]"
      ]
     },
     "metadata": {},
     "output_type": "display_data"
    },
    {
     "name": "stderr",
     "output_type": "stream",
     "text": [
      "[Parallel(n_jobs=16)]: Using backend LokyBackend with 16 concurrent workers.\n",
      "[Parallel(n_jobs=16)]: Done  18 tasks      | elapsed:  8.3min\n"
     ]
    }
   ],
   "source": [
    "trajectory_grid, velocity_grid = DS._trajectory_grid();"
   ]
  },
  {
   "cell_type": "markdown",
   "metadata": {},
   "source": [
    "## Spatio-Temporal Average of Velocity"
   ]
  },
  {
   "cell_type": "code",
   "execution_count": null,
   "metadata": {},
   "outputs": [],
   "source": [
    "u_mean = np.nanmean(velocity_grid[:,:,0,:])\n",
    "v_mean = np.nanmean(velocity_grid[:,:,1,:])\n",
    "\n",
    "v0 = np.sqrt(u_mean**2+v_mean**2)"
   ]
  },
  {
   "cell_type": "markdown",
   "metadata": {},
   "source": [
    "## Trajectory Rotation Average ($ \\overline{TRA}$)"
   ]
  },
  {
   "cell_type": "code",
   "execution_count": null,
   "metadata": {},
   "outputs": [],
   "source": [
    "from ipynb.fs.defs.TRA import _TRA\n",
    "TRA = _TRA(tN-t0, velocity_grid, v0)"
   ]
  },
  {
   "cell_type": "code",
   "execution_count": null,
   "metadata": {},
   "outputs": [],
   "source": [
    "######################## PLOT RESULTS ########################\n",
    "import matplotlib.pyplot as plt\n",
    "\n",
    "# Figure/Axis\n",
    "fig = plt.figure(figsize=(10, 6))\n",
    "ax = plt.axes()\n",
    "\n",
    "# Contourplot of TSE over meshgrid of initial conditions\n",
    "cax = ax.contourf(X_domain, Y_domain, TRA, cmap = \"gist_rainbow_r\", levels = 600)\n",
    "\n",
    "# Axis Labels\n",
    "ax.set_xlabel(\"long (°)\", fontsize = 18)\n",
    "ax.set_ylabel(\"lat (°)\", fontsize = 18)\n",
    "\n",
    "# Ticks\n",
    "ax.set_xticks(np.arange(np.min(X_domain), np.max(X_domain), 1))\n",
    "ax.set_yticks(np.arange(np.min(Y_domain), np.max(Y_domain), 1))\n",
    "\n",
    "# Colorbar\n",
    "cbar = fig.colorbar(cax, ticks = np.linspace(0, .06, 7))\n",
    "cbar.ax.set_ylabel(r'$(\\dfrac{1}{d})$', rotation = 0, labelpad = 10)\n",
    "\n",
    "# Title\n",
    "ax.set_title(r'$ \\mathrm{\\overline{TRA}}$'+f'$_{{{int(time[0])}}}^{{{int(time[-1])}}}$', fontsize = 18)\n",
    "\n",
    "plt.show()"
   ]
  }
 ],
 "metadata": {
  "kernelspec": {
   "display_name": "Python 3",
   "language": "python",
   "name": "python3"
  },
  "language_info": {
   "codemirror_mode": {
    "name": "ipython",
    "version": 3
   },
   "file_extension": ".py",
   "mimetype": "text/x-python",
   "name": "python",
   "nbconvert_exporter": "python",
   "pygments_lexer": "ipython3",
   "version": "3.7.11"
  },
  "toc": {
   "base_numbering": 1,
   "nav_menu": {},
   "number_sections": true,
   "sideBar": true,
   "skip_h1_title": false,
   "title_cell": "Table of Contents",
   "title_sidebar": "Contents",
   "toc_cell": false,
   "toc_position": {},
   "toc_section_display": true,
   "toc_window_display": false
  }
 },
 "nbformat": 4,
 "nbformat_minor": 4
}
