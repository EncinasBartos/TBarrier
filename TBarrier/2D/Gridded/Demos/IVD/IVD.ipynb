{
 "cells": [
  {
   "cell_type": "markdown",
   "metadata": {},
   "source": [
    "The instantaneous Lagrangian Averaged Vorticity Deviation (IVD) at time $ t $ is computed from the vorticity $ \\omega(t) $ as:\n",
    "\n",
    "\\begin{equation}\n",
    "\\mathrm{IVD}(t) = | \\omega(\\mathbf{x}(t)) - \\overline{\\omega}(t) |\n",
    "\\end{equation}\n",
    "\n",
    "where $ \\omega(\\mathbf{x}(t)) $ indicates the vorticity at $ \\mathbf{x}(t) $. $ \\overline{\\omega}(t) $ is the spatial average of the vorticity at time $ t $."
   ]
  },
  {
   "cell_type": "markdown",
   "metadata": {},
   "source": [
    "| Name | Type (Shape) | Description |\n",
    "| --- | --- | --- |\n",
    "| X | array (Ny, Nx) | X-meshgrid|\n",
    "| Y | array (Ny, Nx) | Y-meshgrid|\n",
    "| DS | class-object | Object containing the method _vorticity_tensor, <br /> which computes the vorticity at   <br /> point x at time t|\n",
    "| time | float | time|\n",
    "| IVD | array (Ny, Nx) | $ \\mathrm{IVD}(t_0) $|"
   ]
  },
  {
   "cell_type": "code",
   "execution_count": 1,
   "metadata": {
    "ExecuteTime": {
     "end_time": "2021-10-25T10:34:38.137936Z",
     "start_time": "2021-10-25T10:34:38.130269Z"
    }
   },
   "outputs": [],
   "source": [
    "import sys, os\n",
    "\n",
    "# get current directory\n",
    "path = os.getcwd()\n",
    "# get parent directory\n",
    "parent_directory = os.path.sep.join(path.split(os.path.sep)[:-2])\n",
    "\n",
    "# add Algorithm folder to current working path\n",
    "sys.path.append(parent_directory+\"/General_Functions\")"
   ]
  },
  {
   "cell_type": "code",
   "execution_count": 2,
   "metadata": {},
   "outputs": [],
   "source": [
    "import numpy as np\n",
    "from tqdm.notebook import tqdm\n",
    "from joblib import Parallel, delayed\n",
    "\n",
    "def _IVD(X_grid, Y_grid, DS, time):\n",
    "                \n",
    "    IVD = np.zeros(X_grid.shape)\n",
    "            \n",
    "    for i in tqdm(range(IVD.shape[0])):\n",
    "            \n",
    "        for j in range(IVD.shape[1]):\n",
    "                \n",
    "            x = np.array([X_grid[i,j], Y_grid[i,j]])\n",
    "\n",
    "            if np.isfinite(x[0]) and np.isfinite(x[1]):\n",
    "                    \n",
    "                W = DS._vorticity_tensor(x, time)\n",
    "                    \n",
    "                omega = W[0, 1]-W[1, 0]\n",
    "                \n",
    "                IVD[i, j] = omega\n",
    "                    \n",
    "            else:\n",
    "                        \n",
    "                IVD[i, j] = np.nan\n",
    "    \n",
    "    import warnings\n",
    "        \n",
    "    # Suppress RunTimeWarning generated computing mean of empty slice\n",
    "    with warnings.catch_warnings():\n",
    "        warnings.simplefilter(\"ignore\", category=RuntimeWarning)\n",
    "    \n",
    "    IVD = np.abs(IVD-np.nanmean(IVD))\n",
    "        \n",
    "    return IVD"
   ]
  }
 ],
 "metadata": {
  "kernelspec": {
   "display_name": "Python 3",
   "language": "python",
   "name": "python3"
  },
  "language_info": {
   "codemirror_mode": {
    "name": "ipython",
    "version": 3
   },
   "file_extension": ".py",
   "mimetype": "text/x-python",
   "name": "python",
   "nbconvert_exporter": "python",
   "pygments_lexer": "ipython3",
   "version": "3.7.11"
  },
  "toc": {
   "base_numbering": 1,
   "nav_menu": {},
   "number_sections": true,
   "sideBar": true,
   "skip_h1_title": false,
   "title_cell": "Table of Contents",
   "title_sidebar": "Contents",
   "toc_cell": false,
   "toc_position": {},
   "toc_section_display": true,
   "toc_window_display": false
  }
 },
 "nbformat": 4,
 "nbformat_minor": 4
}
