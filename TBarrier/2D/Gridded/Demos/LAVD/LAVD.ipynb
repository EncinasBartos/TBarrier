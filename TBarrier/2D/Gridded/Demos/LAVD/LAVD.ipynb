{
 "cells": [
  {
   "cell_type": "markdown",
   "metadata": {},
   "source": [
    "The Lagrangian Averaged Vorticity Deviation (LAVD) is computed from the vorticity $ \\omega $ as:\n",
    "\n",
    "\\begin{equation}\n",
    "\\mathrm{LAVD}_{t_0}^{t_N} = \\dfrac{1}{t_N-t_0} \\sum_{i = 0}^{N}| \\omega(\\mathbf{x}(t_i)) - \\overline{\\omega}(t_i) |\n",
    "\\end{equation}\n",
    "\n",
    "where $ \\omega(\\mathbf{x}(t_i)) $ indicates the vorticity at $ \\mathbf{x}(t_i) $. $ \\overline{\\omega}(t_i) $ is the spatial average of the vorticity at time $ t_i $."
   ]
  },
  {
   "cell_type": "markdown",
   "metadata": {},
   "source": [
    "| Name | Type (Shape) | Description |\n",
    "| --- | --- | --- |\n",
    "| trajectory_grid | array (Ny, Nx, 2, N) | trajectories launched from <br /> meshgrid of size (Ny, Nx) over the <br /> discretized time-interval with resolution N|\n",
    "| DS | class-object | Object containing the method _vorticity_tensor, <br /> which computes the vorticity at   <br /> point x at time t|\n",
    "| time | array (N) | time-interval [t_0, t_N] with resolution N|\n",
    "| LAVD | array (Ny, Nx) | $ \\mathrm{LAVD}_{t_0}^{t_N} $|"
   ]
  },
  {
   "cell_type": "code",
   "execution_count": 1,
   "metadata": {},
   "outputs": [
    {
     "name": "stdout",
     "output_type": "stream",
     "text": [
      "/Users/Alex_encinas_11_/OneDrive/TBarrier/TBarrier/2D/Gridded/Demos/LAVD\n"
     ]
    }
   ],
   "source": [
    "import sys, os\n",
    "\n",
    "# get current directory\n",
    "path = os.getcwd()\n",
    "# get parent directory\n",
    "parent_directory = os.path.sep.join(path.split(os.path.sep)[:-2])\n",
    "\n",
    "# add Algorithm folder to current working path\n",
    "sys.path.append(parent_directory+\"/General_Functions\")"
   ]
  },
  {
   "cell_type": "code",
   "execution_count": 2,
   "metadata": {},
   "outputs": [],
   "source": [
    "import numpy as np\n",
    "from tqdm.notebook import tqdm\n",
    "from joblib import Parallel, delayed\n",
    "\n",
    "def _LAVD(trajectory_grid, DS, time):\n",
    "    \n",
    "    lenT = time[-1]-time[0]\n",
    "    \n",
    "    X_grid, Y_grid = trajectory_grid[:,:,0,0], trajectory_grid[:,:,1,0]\n",
    "    \n",
    "    def _spatially_averaged_vorticity(trajectory_grid, DS, t):\n",
    "        \n",
    "        print(t)\n",
    "            \n",
    "        X_grid, Y_grid = trajectory_grid[:,:,0,0], trajectory_grid[:,:,1,0]\n",
    "            \n",
    "        omega = np.zeros(X_grid.shape)\n",
    "            \n",
    "        for i in range(omega.shape[0]):\n",
    "            \n",
    "            for j in range(omega.shape[1]):\n",
    "            \n",
    "                x = np.array([X_grid[i, j], Y_grid[i, j]])\n",
    "    \n",
    "                W = DS._vorticity_tensor(x, t)\n",
    "                \n",
    "                omega[i, j] = W[0, 1] - W[1, 0]\n",
    "          \n",
    "        return np.nanmean(omega.ravel())\n",
    "                              \n",
    "    spatially_averaged_vorticity = np.array(Parallel(n_jobs=DS.Ncores, verbose = 0)(delayed(_spatially_averaged_vorticity)(trajectory_grid, DS, t) for t in time))\n",
    "    \n",
    "    def parallelization(spatially_averaged_vorticity, k, t): \n",
    "                \n",
    "        LVD = np.zeros((trajectory_grid.shape[0], trajectory_grid.shape[1]))\n",
    "            \n",
    "        for i in range(LVD.shape[0]):\n",
    "            \n",
    "            for j in range(LVD.shape[1]):\n",
    "                    \n",
    "                x = np.array([trajectory_grid[i, j, 0, k], trajectory_grid[i, j, 1, k]])\n",
    "\n",
    "                if np.isfinite(x[0]) and np.isfinite(x[1]):\n",
    "                    \n",
    "                    W = DS._vorticity_tensor(x, t)\n",
    "                    \n",
    "                    omega = W[0, 1]-W[1, 0]\n",
    "                \n",
    "                    LVD[i, j] = np.abs(omega-spatially_averaged_vorticity)\n",
    "                    \n",
    "                else:\n",
    "                        \n",
    "                    LVD[i, j] = np.nan\n",
    "                    \n",
    "        return LVD\n",
    "        \n",
    "    LVD = np.array(Parallel(n_jobs=DS.Ncores, verbose = 0)(delayed(parallelization)(spatially_averaged_vorticity[k], k, t) for k, t in tqdm(enumerate(DS.time), total=len(DS.time))))\n",
    "        \n",
    "    import warnings\n",
    "        \n",
    "    # Suppress RunTimeWarning generated computing mean of empty slice\n",
    "    with warnings.catch_warnings():\n",
    "        warnings.simplefilter(\"ignore\", category=RuntimeWarning)\n",
    "        \n",
    "        LAVD = np.nanmean(LVD, axis = 0)\n",
    "        \n",
    "    return LAVD/lenT"
   ]
  }
 ],
 "metadata": {
  "kernelspec": {
   "display_name": "Python 3",
   "language": "python",
   "name": "python3"
  },
  "language_info": {
   "codemirror_mode": {
    "name": "ipython",
    "version": 3
   },
   "file_extension": ".py",
   "mimetype": "text/x-python",
   "name": "python",
   "nbconvert_exporter": "python",
   "pygments_lexer": "ipython3",
   "version": "3.7.11"
  },
  "toc": {
   "base_numbering": 1,
   "nav_menu": {},
   "number_sections": true,
   "sideBar": true,
   "skip_h1_title": false,
   "title_cell": "Table of Contents",
   "title_sidebar": "Contents",
   "toc_cell": false,
   "toc_position": {},
   "toc_section_display": true,
   "toc_window_display": false
  }
 },
 "nbformat": 4,
 "nbformat_minor": 4
}
