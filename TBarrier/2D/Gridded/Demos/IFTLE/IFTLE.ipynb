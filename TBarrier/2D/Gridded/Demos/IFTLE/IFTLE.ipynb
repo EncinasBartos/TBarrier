{
 "cells": [
  {
   "cell_type": "markdown",
   "metadata": {},
   "source": [
    "The Finite Time Lyapunov Exponent (FTLE) is computed from the eigenvalues $ s_1, s_2 $ of the rate of strain tensor $ \\mathbf{S}(\\mathbf{x},t) $:\n",
    "\n",
    "\\begin{align*}\n",
    "\\mathrm{FTLE}_{t}^{t_{+}}(\\mathbf{x}) &= s_2, \\\\\n",
    "\\mathrm{FTLE}_{t}^{t_{-}}(\\mathbf{x}) &= -s_1,\n",
    "\\end{align*}\n",
    "\n",
    "where $ s_1, s_2 $ respectively denote the minimum and maximum eigenvalue of the rate of strain tensor $ \\mathbf{S}(\\mathbf{x},t) $. For 2D incompressible flows it holds $ s_1+s_2 = 0$, thereby implying $ \\mathrm{FTLE}_{t}^{t_{+}}(\\mathbf{x}) = \\mathrm{FTLE}_{t}^{t_{-}}(\\mathbf{x}) $"
   ]
  },
  {
   "cell_type": "markdown",
   "metadata": {},
   "source": [
    "| Name | Type (Shape) | Description |\n",
    "| --- | --- | --- |\n",
    "| S | array (Ny, Nx, 2, 2) | $ S(\\mathbf{x},t) $ over meshgrid (Ny, Nx)|\n",
    "| incompressible | bool | True for incompressible flow <br />  False for compressible flow|\n",
    "| FTLE_minus | array (Ny, Nx) | $ \\mathrm{FTLE}_{t}^{t_{+}}(\\mathbf{x}) $ over meshgrid|\n",
    "| FTLE_plus | array (Ny, Nx) | $ \\mathrm{FTLE}_{t}^{t_{-}}(\\mathbf{x}) $ over meshgrid|"
   ]
  },
  {
   "cell_type": "code",
   "execution_count": 1,
   "metadata": {},
   "outputs": [],
   "source": [
    "import sys, os\n",
    "\n",
    "# get current directory\n",
    "path = os.getcwd()\n",
    "\n",
    "# get parent directory\n",
    "parent_directory = os.path.sep.join(path.split(os.path.sep)[:-2])\n",
    "\n",
    "# add Algorithm folder to current working path\n",
    "sys.path.append(parent_directory+\"/General_Functions\")"
   ]
  },
  {
   "cell_type": "code",
   "execution_count": 2,
   "metadata": {},
   "outputs": [],
   "source": [
    "# Import function which calculates eigenvalues/eigenvectors in 2D\n",
    "from ipynb.fs.defs.eigen import *\n",
    "\n",
    "def _FTLE(S, incompressible):\n",
    "    \n",
    "    import numpy as np\n",
    "    \n",
    "    FTLE_minus = np.zeros((S.shape[0], S.shape[1]))*np.nan\n",
    "    FTLE_plus = np.zeros((S.shape[0], S.shape[1]))*np.nan\n",
    "        \n",
    "    for i in range(C.shape[0]):\n",
    "        \n",
    "        for j in range(C.shape[1]):\n",
    "                \n",
    "            s_1, s_2, _, _ = eigen(S[i, j, :, :], incompressible)\n",
    "                    \n",
    "            FTLE_minus[i, j] = 1/(2*lenT)*np.log(s_1)\n",
    "            FTLE_plus[i, j] = 1/(2*lenT)*np.log(s_2)\n",
    "                        \n",
    "    return FTLE_minus, FTLE_plus"
   ]
  }
 ],
 "metadata": {
  "kernelspec": {
   "display_name": "Python 3",
   "language": "python",
   "name": "python3"
  },
  "language_info": {
   "codemirror_mode": {
    "name": "ipython",
    "version": 3
   },
   "file_extension": ".py",
   "mimetype": "text/x-python",
   "name": "python",
   "nbconvert_exporter": "python",
   "pygments_lexer": "ipython3",
   "version": "3.7.11"
  },
  "toc": {
   "base_numbering": 1,
   "nav_menu": {},
   "number_sections": true,
   "sideBar": true,
   "skip_h1_title": false,
   "title_cell": "Table of Contents",
   "title_sidebar": "Contents",
   "toc_cell": false,
   "toc_position": {},
   "toc_section_display": true,
   "toc_window_display": false
  }
 },
 "nbformat": 4,
 "nbformat_minor": 4
}
