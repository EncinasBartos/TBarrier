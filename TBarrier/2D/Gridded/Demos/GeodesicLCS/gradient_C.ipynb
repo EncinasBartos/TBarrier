{
 "cells": [
  {
   "cell_type": "code",
   "execution_count": null,
   "metadata": {},
   "outputs": [],
   "source": [
    "import numpy as np\n",
    "\n",
    "def _gradient_C(X, Y, C):\n",
    "    \n",
    "    dx = X[0,1]-X[0,0]\n",
    "    dy = Y[1,0]-Y[0,0]\n",
    "    \n",
    "    grad_C11 = np.zeros((C.shape[0], C.shape[1], 2))*np.nan\n",
    "    grad_C12 = np.zeros((C.shape[0], C.shape[1], 2))*np.nan\n",
    "    grad_C22 = np.zeros((C.shape[0], C.shape[1], 2))*np.nan\n",
    "    \n",
    "    for i in range(1, C.shape[0]-1):\n",
    "        for j in range(1, C.shape[1]-1):\n",
    "            grad_C11[i, j, 0] = (C[i,j+1,0,0]-C[i,j-1,0,0])/(2*dx)\n",
    "            grad_C11[i, j, 1] = (C[i+1,j,0,0]-C[i-1,j,0,0])/(2*dy)\n",
    "            \n",
    "            grad_C12[i, j, 0] = (C[i,j+1,0,1]-C[i,j-1,0,1])/(2*dx)\n",
    "            grad_C12[i, j, 1] = (C[i+1,j,0,1]-C[i-1,j,0,1])/(2*dy)\n",
    "            \n",
    "            grad_C22[i, j, 0] = (C[i,j+1,1,1]-C[i,j-1,1,1])/(2*dx)\n",
    "            grad_C22[i, j, 1] = (C[i+1,j,1,1]-C[i-1,j,1,1])/(2*dy)\n",
    "            \n",
    "    return grad_C11, grad_C12, grad_C22"
   ]
  }
 ],
 "metadata": {
  "kernelspec": {
   "display_name": "Python 3",
   "language": "python",
   "name": "python3"
  },
  "language_info": {
   "codemirror_mode": {
    "name": "ipython",
    "version": 3
   },
   "file_extension": ".py",
   "mimetype": "text/x-python",
   "name": "python",
   "nbconvert_exporter": "python",
   "pygments_lexer": "ipython3",
   "version": "3.7.11"
  },
  "toc": {
   "base_numbering": 1,
   "nav_menu": {},
   "number_sections": true,
   "sideBar": true,
   "skip_h1_title": false,
   "title_cell": "Table of Contents",
   "title_sidebar": "Contents",
   "toc_cell": false,
   "toc_position": {},
   "toc_section_display": true,
   "toc_window_display": false
  }
 },
 "nbformat": 4,
 "nbformat_minor": 4
}
