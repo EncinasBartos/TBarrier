{
 "cells": [
  {
   "cell_type": "code",
   "execution_count": null,
   "metadata": {},
   "outputs": [],
   "source": [
    "from skimage import measure\n",
    "import numpy as np\n",
    "\n",
    "import matplotlib.pyplot as plt\n",
    "\n",
    "def _init_level_set(X, Y, C11, C12, lambda_range):\n",
    "    \n",
    "    # Import Rectangular bivariate spline from scipy\n",
    "    from scipy.interpolate import RectBivariateSpline as RBS\n",
    "    \n",
    "    interp_C12 = RBS(Y[:,0], X[0,:], np.nan_to_num(C12, 0))\n",
    "\n",
    "    # Initialize the output variables \n",
    "    x0lam = [];\n",
    "    y0lam = [];\n",
    "\n",
    "    # Compute the initial conditions g_0 for different values of lambda\n",
    "    for lam in lambda_range:\n",
    "        \n",
    "        ZeroSet = C11-lam**2;\n",
    "        # Extract the x_0(\\lambda,\\phi_0) (cf. Fig. 2b or eq.(39) of [1])\n",
    "        contour = measure.find_contours(ZeroSet, 0)\n",
    "        \n",
    "        for c in contour:\n",
    "            \n",
    "            x_contour = np.min(X)+(np.max(X)-np.min(X))/(X.shape[1])*c[:, 1]\n",
    "            y_contour = np.min(Y)+(np.max(Y)-np.min(Y))/(Y.shape[0])*c[:, 0]\n",
    "            \n",
    "            for idx in range(len(x_contour)):\n",
    "                if np.abs(interp_C12(y_contour[idx], x_contour[idx])[0][0]) > 10**(-2):\n",
    "                    x0lam.append(x_contour[idx])\n",
    "                    y0lam.append(y_contour[idx])\n",
    "    \n",
    "    phi0lam = [0]*len(x0lam)\n",
    "    \n",
    "    return x0lam, y0lam, phi0lam"
   ]
  }
 ],
 "metadata": {
  "kernelspec": {
   "display_name": "Python 3",
   "language": "python",
   "name": "python3"
  },
  "language_info": {
   "codemirror_mode": {
    "name": "ipython",
    "version": 3
   },
   "file_extension": ".py",
   "mimetype": "text/x-python",
   "name": "python",
   "nbconvert_exporter": "python",
   "pygments_lexer": "ipython3",
   "version": "3.7.11"
  },
  "toc": {
   "base_numbering": 1,
   "nav_menu": {},
   "number_sections": true,
   "sideBar": true,
   "skip_h1_title": false,
   "title_cell": "Table of Contents",
   "title_sidebar": "Contents",
   "toc_cell": false,
   "toc_position": {},
   "toc_section_display": true,
   "toc_window_display": false
  }
 },
 "nbformat": 4,
 "nbformat_minor": 4
}
