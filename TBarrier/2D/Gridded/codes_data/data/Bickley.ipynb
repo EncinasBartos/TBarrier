{
 "cells": [
  {
   "cell_type": "code",
   "execution_count": 1,
   "metadata": {},
   "outputs": [],
   "source": [
    "import scipy.io\n",
    "import numpy as np\n",
    "import matplotlib.pyplot as plt\n",
    "from tqdm.notebook import tqdm\n",
    "\n",
    "def k(n, Len_X):\n",
    "    \n",
    "    return 2*n*np.pi/Len_X\n",
    "\n",
    "def psi0(params, y):\n",
    "    \n",
    "    U = params[0]\n",
    "    Len_Y = params[3]\n",
    "    \n",
    "    return -U*Len_Y*np.tanh(y/Len_Y)\n",
    "\n",
    "def psi1(params, x, y, t):\n",
    "    \n",
    "    U = params[0]\n",
    "    R = params[1]\n",
    "    Len_X = params[2]\n",
    "    len_Y = params[3]\n",
    "    eps1 = params[4][0]\n",
    "    eps2 = params[4][1]\n",
    "    eps3 = params[4][2]\n",
    "    \n",
    "    c1 = 0.1446*U\n",
    "    c2 = 0.205*U\n",
    "    c3 = 0.461*U\n",
    "    \n",
    "    forcing3 = np.cos(k(3, Len_X)*(x-c3*t))\n",
    "    forcing2 = np.cos(k(2, Len_X)*(x-c2*t))\n",
    "    forcing1 = np.cos(k(1, Len_X)*(x-c1*t))\n",
    "    \n",
    "    return U*Len_Y*(sech(y/Len_Y)**2)*(eps1*forcing1+ eps2*forcing2 + eps3*forcing3)\n",
    "\n",
    "def sech(x):\n",
    "    \n",
    "    return 2*np.exp(x)/(np.exp(2*x)+1)\n",
    "\n",
    "def tanh(x):\n",
    "    \n",
    "    return (np.exp(2*x)-1)/(np.exp(2*x)+1)\n",
    "\n",
    "def psi(params, x, y, t):\n",
    "\n",
    "    return psi0(params, y)+psi1(params, x, y, t)\n",
    "\n",
    "def Bickley_jet(params, x, y, t, dx, dy):\n",
    "    \n",
    "    X, Y, time = np.meshgrid(x, y, t)\n",
    "    \n",
    "    u = np.zeros(X.shape)\n",
    "    v = np.zeros(Y.shape)\n",
    "    \n",
    "    for i in tqdm(range(X.shape[0])):\n",
    "        \n",
    "        for j in range(Y.shape[1]):\n",
    "            \n",
    "            for r in range(time.shape[2]):\n",
    "                \n",
    "                x_ = X[i, j, r]\n",
    "                y_ = Y[i, j, r]\n",
    "                t_ = time[i, j, r]\n",
    "                \n",
    "                #velx, vely = velocity(x_, y_, U, t_, eps, k, Len_X)\n",
    "                \n",
    "                u[i, j, r] = -(psi(params, x_, y_ + dy, t_)-psi(params, x_, y_- dy, t_))/(2*dy)\n",
    "                v[i, j, r] = (psi(params, x_ + dx, y_, t_)-psi(params, x_ - dx, y_, t_))/(2*dx)\n",
    "    \n",
    "    return u, v"
   ]
  },
  {
   "cell_type": "code",
   "execution_count": 2,
   "metadata": {
    "scrolled": false
   },
   "outputs": [
    {
     "data": {
      "application/vnd.jupyter.widget-view+json": {
       "model_id": "90c329a36f3e4bcab37953fec4f71237",
       "version_major": 2,
       "version_minor": 0
      },
      "text/plain": [
       "  0%|          | 0/20 [00:00<?, ?it/s]"
      ]
     },
     "metadata": {},
     "output_type": "display_data"
    }
   ],
   "source": [
    "U = 62.66*3600*24\n",
    "earthRadius = 6371*(10**3)\n",
    "Len_X = np.pi*earthRadius\n",
    "Len_Y = 1.77*(10**6)\n",
    "epsilon = [.0075, .04, .3]\n",
    "t = np.arange(0, 41, 1)\n",
    "x = np.linspace(0, 5*Len_X, 100)\n",
    "y = np.linspace(-2.25*Len_Y*1.25, 2.25*Len_Y*1.25, 20)\n",
    "\n",
    "params = [U, earthRadius, Len_X, Len_Y, epsilon]\n",
    "\n",
    "# Define grid size of mesh\n",
    "dx = Len_X/5000\n",
    "dy = Len_Y/5000\n",
    "\n",
    "u, v = Bickley_jet(params, x, y, t, dx, dy)\n",
    "            \n",
    "scipy.io.savemat('./Files/Bickley_jet.mat', {'u': u, 'v': v, 'x': x, 'y': y, 't': t})"
   ]
  },
  {
   "cell_type": "code",
   "execution_count": null,
   "metadata": {},
   "outputs": [],
   "source": []
  }
 ],
 "metadata": {
  "kernelspec": {
   "display_name": "Python 3",
   "language": "python",
   "name": "python3"
  },
  "language_info": {
   "codemirror_mode": {
    "name": "ipython",
    "version": 3
   },
   "file_extension": ".py",
   "mimetype": "text/x-python",
   "name": "python",
   "nbconvert_exporter": "python",
   "pygments_lexer": "ipython3",
   "version": "3.7.11"
  },
  "toc": {
   "base_numbering": 1,
   "nav_menu": {},
   "number_sections": true,
   "sideBar": true,
   "skip_h1_title": false,
   "title_cell": "Table of Contents",
   "title_sidebar": "Contents",
   "toc_cell": false,
   "toc_position": {},
   "toc_section_display": true,
   "toc_window_display": false
  }
 },
 "nbformat": 4,
 "nbformat_minor": 5
}
