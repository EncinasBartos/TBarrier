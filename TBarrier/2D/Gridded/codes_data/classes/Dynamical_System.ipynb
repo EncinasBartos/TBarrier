{
 "cells": [
  {
   "cell_type": "markdown",
   "metadata": {
    "toc": true
   },
   "source": [
    "<h1>Table of Contents<span class=\"tocSkip\"></span></h1>\n",
    "<div class=\"toc\"><ul class=\"toc-item\"><li><span><a href=\"#Dynamical-System\" data-toc-modified-id=\"Dynamical-System-1\"><span class=\"toc-item-num\">1&nbsp;&nbsp;</span>Dynamical System</a></span></li><li><span><a href=\"#Initialization\" data-toc-modified-id=\"Initialization-2\"><span class=\"toc-item-num\">2&nbsp;&nbsp;</span>Initialization</a></span><ul class=\"toc-item\"><li><span><a href=\"#Initialize-discrete-data-of-two-dimensional-dynamical-system\" data-toc-modified-id=\"Initialize-discrete-data-of-two-dimensional-dynamical-system-2.1\"><span class=\"toc-item-num\">2.1&nbsp;&nbsp;</span>Initialize discrete data of two dimensional dynamical system</a></span></li><li><span><a href=\"#Initialize-parameters-of-dynamical-system\" data-toc-modified-id=\"Initialize-parameters-of-dynamical-system-2.2\"><span class=\"toc-item-num\">2.2&nbsp;&nbsp;</span>Initialize parameters of dynamical system</a></span></li></ul></li><li><span><a href=\"#Fundamentals-of-a-dynamical-system\" data-toc-modified-id=\"Fundamentals-of-a-dynamical-system-3\"><span class=\"toc-item-num\">3&nbsp;&nbsp;</span>Fundamentals of a dynamical system</a></span><ul class=\"toc-item\"><li><span><a href=\"#Interpolation\" data-toc-modified-id=\"Interpolation-3.1\"><span class=\"toc-item-num\">3.1&nbsp;&nbsp;</span>Interpolation</a></span><ul class=\"toc-item\"><li><span><a href=\"#Gridded-Interpolation\" data-toc-modified-id=\"Gridded-Interpolation-3.1.1\"><span class=\"toc-item-num\">3.1.1&nbsp;&nbsp;</span>Gridded Interpolation</a></span></li><li><span><a href=\"#Interpolation-of-discrete-velocity-data\" data-toc-modified-id=\"Interpolation-of-discrete-velocity-data-3.1.2\"><span class=\"toc-item-num\">3.1.2&nbsp;&nbsp;</span>Interpolation of discrete velocity data</a></span></li></ul></li><li><span><a href=\"#Differential-equation\" data-toc-modified-id=\"Differential-equation-3.2\"><span class=\"toc-item-num\">3.2&nbsp;&nbsp;</span>Differential equation</a></span><ul class=\"toc-item\"><li><span><a href=\"#Velocity-in-defined-domain\" data-toc-modified-id=\"Velocity-in-defined-domain-3.2.1\"><span class=\"toc-item-num\">3.2.1&nbsp;&nbsp;</span>Velocity in defined domain</a></span></li><li><span><a href=\"#Velocity-near-boundary\" data-toc-modified-id=\"Velocity-near-boundary-3.2.2\"><span class=\"toc-item-num\">3.2.2&nbsp;&nbsp;</span>Velocity near boundary</a></span></li></ul></li><li><span><a href=\"#Lagrangian-particle-trajectories\" data-toc-modified-id=\"Lagrangian-particle-trajectories-3.3\"><span class=\"toc-item-num\">3.3&nbsp;&nbsp;</span>Lagrangian particle trajectories</a></span><ul class=\"toc-item\"><li><span><a href=\"#$4^{th}$-order-Runge-Kutta-integration\" data-toc-modified-id=\"$4^{th}$-order-Runge-Kutta-integration-3.3.1\"><span class=\"toc-item-num\">3.3.1&nbsp;&nbsp;</span>$4^{th}$-order Runge Kutta integration</a></span></li><li><span><a href=\"#Single-Lagrangian-particle-trajectory\" data-toc-modified-id=\"Single-Lagrangian-particle-trajectory-3.3.2\"><span class=\"toc-item-num\">3.3.2&nbsp;&nbsp;</span>Single Lagrangian particle trajectory</a></span></li><li><span><a href=\"#Lagrangian-particle-trajectories-on-a-grid\" data-toc-modified-id=\"Lagrangian-particle-trajectories-on-a-grid-3.3.3\"><span class=\"toc-item-num\">3.3.3&nbsp;&nbsp;</span>Lagrangian particle trajectories on a grid</a></span></li><li><span><a href=\"#Flow-map\" data-toc-modified-id=\"Flow-map-3.3.4\"><span class=\"toc-item-num\">3.3.4&nbsp;&nbsp;</span>Flow map</a></span></li></ul></li></ul></li><li><span><a href=\"#Tensors-and-gradients\" data-toc-modified-id=\"Tensors-and-gradients-4\"><span class=\"toc-item-num\">4&nbsp;&nbsp;</span>Tensors and gradients</a></span><ul class=\"toc-item\"><li><span><a href=\"#Gradient-of-the-flow-map\" data-toc-modified-id=\"Gradient-of-the-flow-map-4.1\"><span class=\"toc-item-num\">4.1&nbsp;&nbsp;</span>Gradient of the flow map</a></span><ul class=\"toc-item\"><li><span><a href=\"#Gradient-of-flow-map-for-a-lagrangian-particle-trajectory\" data-toc-modified-id=\"Gradient-of-flow-map-for-a-lagrangian-particle-trajectory-4.1.1\"><span class=\"toc-item-num\">4.1.1&nbsp;&nbsp;</span>Gradient of flow map for a lagrangian particle trajectory</a></span></li><li><span><a href=\"#Gradient-of-the-flow-map-using-auxiliary-grid\" data-toc-modified-id=\"Gradient-of-the-flow-map-using-auxiliary-grid-4.1.2\"><span class=\"toc-item-num\">4.1.2&nbsp;&nbsp;</span>Gradient of the flow map using auxiliary grid</a></span></li><li><span><a href=\"#Gradient-of-the-flow-map-over-a-meshgrid.\" data-toc-modified-id=\"Gradient-of-the-flow-map-over-a-meshgrid.-4.1.3\"><span class=\"toc-item-num\">4.1.3&nbsp;&nbsp;</span>Gradient of the flow map over a meshgrid.</a></span></li></ul></li><li><span><a href=\"#Cauchy-green-strain-tensor\" data-toc-modified-id=\"Cauchy-green-strain-tensor-4.2\"><span class=\"toc-item-num\">4.2&nbsp;&nbsp;</span>Cauchy-green-strain tensor</a></span></li><li><span><a href=\"#Gradient-of-velocity\" data-toc-modified-id=\"Gradient-of-velocity-4.3\"><span class=\"toc-item-num\">4.3&nbsp;&nbsp;</span>Gradient of velocity</a></span></li><li><span><a href=\"#Vorticity-tensor\" data-toc-modified-id=\"Vorticity-tensor-4.4\"><span class=\"toc-item-num\">4.4&nbsp;&nbsp;</span>Vorticity tensor</a></span></li><li><span><a href=\"#Spin-tensor\" data-toc-modified-id=\"Spin-tensor-4.5\"><span class=\"toc-item-num\">4.5&nbsp;&nbsp;</span>Spin tensor</a></span></li></ul></li><li><span><a href=\"#General-Functions\" data-toc-modified-id=\"General-Functions-5\"><span class=\"toc-item-num\">5&nbsp;&nbsp;</span>General Functions</a></span><ul class=\"toc-item\"><li><span><a href=\"#Check-position-of-particle\" data-toc-modified-id=\"Check-position-of-particle-5.1\"><span class=\"toc-item-num\">5.1&nbsp;&nbsp;</span>Check position of particle</a></span></li><li><span><a href=\"#Eigenvalues-and-Eigenvectors\" data-toc-modified-id=\"Eigenvalues-and-Eigenvectors-5.2\"><span class=\"toc-item-num\">5.2&nbsp;&nbsp;</span>Eigenvalues and Eigenvectors</a></span></li><li><span><a href=\"#Singular-value-decomposition\" data-toc-modified-id=\"Singular-value-decomposition-5.3\"><span class=\"toc-item-num\">5.3&nbsp;&nbsp;</span>Singular value decomposition</a></span></li></ul></li></ul></div>"
   ]
  },
  {
   "cell_type": "markdown",
   "metadata": {},
   "source": [
    "# Dynamical System\n",
    "\n",
    "The class *Dynamical\\_System* stores all the properties of a dynamical system and inherits all the methods and variables from its parent classes $ LCS $ and $ OECS $ which are defined in separate files. The methods and variables defined within *Dynamical\\_System* apply to general two dimensional dynamical systems. Furthermore we make use of core libraries of python such as [numpy](https://numpy.org/doc/), [tqdm](https://tqdm.github.io/) and [joblib](https://joblib.readthedocs.io/en/latest/) and [scipy](https://scipy.org/)."
   ]
  },
  {
   "cell_type": "code",
   "execution_count": 1,
   "metadata": {
    "ExecuteTime": {
     "end_time": "2021-10-01T11:10:45.744002Z",
     "start_time": "2021-10-01T11:10:45.589006Z"
    }
   },
   "outputs": [],
   "source": [
    "# Import parent classes LCS, OECS.\n",
    "from ipynb.fs.defs.LCS import LCS\n",
    "from ipynb.fs.defs.OECS import OECS"
   ]
  },
  {
   "cell_type": "code",
   "execution_count": 2,
   "metadata": {
    "ExecuteTime": {
     "end_time": "2021-10-01T11:10:45.758961Z",
     "start_time": "2021-10-01T11:10:45.746996Z"
    }
   },
   "outputs": [],
   "source": [
    "# Import standard python libraries\n",
    "import numpy as np\n",
    "from tqdm.notebook import tqdm\n",
    "from joblib import Parallel, delayed"
   ]
  },
  {
   "cell_type": "code",
   "execution_count": 3,
   "metadata": {
    "ExecuteTime": {
     "end_time": "2021-10-01T11:10:45.773945Z",
     "start_time": "2021-10-01T11:10:45.760954Z"
    }
   },
   "outputs": [],
   "source": [
    "class Dynamical_System(LCS, OECS):\n",
    "    \n",
    "    def __init__(self):\n",
    "        \n",
    "        super().__init__()"
   ]
  },
  {
   "cell_type": "markdown",
   "metadata": {},
   "source": [
    "# Initialization\n",
    "It is assumed that the velocity data is given over a gridded domain. The spacing of the meshgrid in the x-direction need not be equal the spacing of the meshgrid in the y-direction and it can deal with both steady and unsteady velocity fields."
   ]
  },
  {
   "cell_type": "markdown",
   "metadata": {},
   "source": [
    "## Initialize discrete data of two dimensional dynamical system"
   ]
  },
  {
   "cell_type": "markdown",
   "metadata": {},
   "source": [
    "The method $ \\_init\\_data $ initializes the data of the two dimensional dynamical system and additional computational parameters."
   ]
  },
  {
   "cell_type": "code",
   "execution_count": 4,
   "metadata": {
    "ExecuteTime": {
     "end_time": "2021-10-01T11:10:45.788905Z",
     "start_time": "2021-10-01T11:10:45.774917Z"
    }
   },
   "outputs": [],
   "source": [
    "    def _init_data(self, *args):\n",
    "    \n",
    "        # Meshgrid\n",
    "        self.X, self.Y = args[0][0], args[0][1]\n",
    "        \n",
    "        # Time\n",
    "        self.Time = args[0][2].reshape(1, -1)\n",
    "        \n",
    "        # Velocity field\n",
    "        self.U = args[0][3]\n",
    "        self.V = args[0][4]\n",
    "        \n",
    "        # Specify steady/unsteady flow field. {True, False}\n",
    "        self.boolean_unsteady = bool(int(self.U.ndim - self.X.ndim))\n",
    "        \n",
    "        # Define domain and time resolution\n",
    "        if self.boolean_unsteady:\n",
    "            \n",
    "            self.defined_domain = np.isfinite(np.sum(self.U, axis = -1)).astype(int)\n",
    "            self.dt_data = self.Time[0, 1]-self.Time[0, 0]\n",
    "        \n",
    "        else:\n",
    "            \n",
    "            self.defined_domain = np.isfinite(self.U).astype(int)\n",
    "            self.dt_data = 1\n",
    "        \n",
    "        # Global (gridded) interpolants cannot deal with nan-values \n",
    "        # --> set nan values to zero.\n",
    "        self.U[np.isnan(self.U)] = 0\n",
    "        self.V[np.isnan(self.V)] = 0\n",
    "        \n",
    "        self.dx_data = self.X[0, 1]-self.X[0, 0]\n",
    "        self.dy_data = self.Y[1, 0]-self.Y[0, 0]\n",
    "        \n",
    "        self.original_grid_spacing = [self.dx_data, self.dy_data]\n",
    "        \n",
    "        # Number of cores to be used for parallel computing whenever possible.\n",
    "        self.Ncores = args[0][5]\n",
    "        \n",
    "        # Phase space dimension\n",
    "        self.dim = self.X.ndim\n",
    "    \n",
    "        # Specify whether the flow is incompressible. {True, False}\n",
    "        self.incompressible = args[0][6]\n",
    "        \n",
    "        # Specify whether the flow has periodic boundary conditions. {True, False}\n",
    "        self.periodic = args[0][7]"
   ]
  },
  {
   "cell_type": "markdown",
   "metadata": {},
   "source": [
    "## Initialize parameters of dynamical system"
   ]
  },
  {
   "cell_type": "markdown",
   "metadata": {},
   "source": [
    "Lagrangian particle trajectories are time-parametrized curves $ \\mathbf{x}(t; t_0, \\mathbf{x}_0) $ starting at $ \\mathbf{x}_0 $ at time $ t_0 $ which are governed by the differential equation\n",
    "\n",
    "\\begin{equation} \\mathbf{\\dot{x}}(t)= \\mathbf{v}(\\mathbf{x}, t) = \\begin{pmatrix} u(x, y, t) \\\\ v(x, y, t) \\end{pmatrix} \\label{eq: dxdt}, \\end{equation}\n",
    "where $ \\mathbf{x}=\\begin{pmatrix} x \\\\ y \\end{pmatrix} \\in U $ and times $ t \\in [t_0, t_N] $.\n",
    "\n",
    "As suggested by [fig 2.2](#fig2.2), the particle trajectories generated by the velocity-field $ \\mathbf{v}(\\mathbf{x}, t) $ are defined over a domain $ U $ with boundary $ \\partial U $ over the finite time interval $ t \\in [t_0, t_N] $.\n",
    "\n",
    "The function $\\_init\\_ds$ specifies properties such as the domain $ U $ and the time interval $ [t_0, t_N] $ of the dynamical system from eq. \\ref{eq: dxdt}."
   ]
  },
  {
   "attachments": {
    "Differential.png": {
     "image/png": "[encoded data removed]"
    }
   },
   "cell_type": "markdown",
   "metadata": {},
   "source": [
    "<a id='fig2.2'></a>\n",
    "\n",
    "| <img src=\"attachment:Differential.png\" width=\"300\" /> |\n",
    "|:--:| \n",
    "| *fig 2.2* Lagrangian Particle Trajectories |"
   ]
  },
  {
   "cell_type": "code",
   "execution_count": 5,
   "metadata": {
    "ExecuteTime": {
     "end_time": "2021-10-01T11:10:45.803865Z",
     "start_time": "2021-10-01T11:10:45.789876Z"
    }
   },
   "outputs": [],
   "source": [
    "    def _init_ds(self, *args):\n",
    "\n",
    "        # time interval [t0, tN]\n",
    "        self.time = args[0][0]\n",
    "        \n",
    "        # Initial time\n",
    "        self.t0 = self.time[0]\n",
    "\n",
    "        # Final time\n",
    "        self.tN = self.time[-1]\n",
    "        \n",
    "        # Discrete length of time array\n",
    "        self.lenT = len(self.time)\n",
    "\n",
    "        # time step-size\n",
    "        self.dt = self.time[1]-self.time[0]\n",
    "        \n",
    "        # x, y/long, lat coordinates\n",
    "        self.x_domain = args[0][1]\n",
    "        self.y_domain = args[0][2]\n",
    "        \n",
    "        # define grid spacing\n",
    "        self.dx = self.x_domain[1]-self.x_domain[0]\n",
    "        self.dy = self.y_domain[1]-self.y_domain[0]\n",
    "        \n",
    "        # Boundaries\n",
    "        self.xmin = np.min(self.x_domain)\n",
    "        self.xmax = np.max(self.x_domain)\n",
    "        self.ymin = np.min(self.y_domain)\n",
    "        self.ymax = np.max(self.y_domain)\n",
    "    \n",
    "        # Meshgrid denoting initial positions\n",
    "        # from where trajectories are launched at time t0\n",
    "        self.X_domain, self.Y_domain = np.meshgrid(self.x_domain, self.y_domain)\n",
    "        \n",
    "        self.len_X = self.X_domain.shape[1]\n",
    "        self.len_Y = self.Y_domain.shape[0]\n",
    "        \n",
    "        # Specify auxiliary grid\n",
    "        ratio_aux = 0.1#args[0][3] \n",
    "        self.aux_grid_spacing = [self.dx*ratio_aux, self.dy*ratio_aux]"
   ]
  },
  {
   "cell_type": "markdown",
   "metadata": {},
   "source": [
    "# Fundamentals of a dynamical system\n",
    "\n",
    "In the following section we introduce the computational aspects involved when computing lagrangian particle trajectories from discrete velocity data."
   ]
  },
  {
   "cell_type": "markdown",
   "metadata": {},
   "source": [
    "## Interpolation\n",
    "\n",
    "We are dealing with a discrete representation of the velocity field. However, in order to compute lagrangian particle trajectories we need to evaluate the velocity field at any given point in space and time. This can be achieved by reconstructing the velocity field via interpolation from discrete velocity data. "
   ]
  },
  {
   "cell_type": "markdown",
   "metadata": {},
   "source": [
    "<a id='Gridded_Interpolation'></a>\n",
    "### Gridded Interpolation\n",
    "\n",
    "As we are dealing with gridded (two-dimensional) data, we use the gridded [RectbivariateSpline](https://docs.scipy.org/doc/scipy/reference/generated/scipy.interpolate.RectBivariateSpline.html). The interpolation method can be either cubic or linear."
   ]
  },
  {
   "cell_type": "code",
   "execution_count": 6,
   "metadata": {
    "ExecuteTime": {
     "end_time": "2021-10-01T11:10:45.818825Z",
     "start_time": "2021-10-01T11:10:45.804836Z"
    }
   },
   "outputs": [],
   "source": [
    "    def _gridded_Interpolation(self, Y, X, Field, method = \"cubic\"):\n",
    "        \n",
    "        # method used for interpolation in space. \n",
    "        # {\"cubic\", \"linear\"}\n",
    "        \n",
    "        # Cubic interpolation\n",
    "        if method == \"cubic\":\n",
    "                \n",
    "            kx = 3\n",
    "            ky = 3\n",
    "               \n",
    "        # linear interpolation\n",
    "        elif method == \"linear\":\n",
    "            \n",
    "            kx = 1\n",
    "            ky = 1\n",
    "    \n",
    "        # import Rectangular bivariate spline from scipy\n",
    "        from scipy.interpolate import RectBivariateSpline as RBS\n",
    "        \n",
    "        return RBS(Y[:,0], X[0,:], Field, kx = kx, ky = ky)"
   ]
  },
  {
   "cell_type": "markdown",
   "metadata": {},
   "source": [
    "<a id='Interpolation'></a>\n",
    "\n",
    "### Interpolation of discrete velocity data\n",
    "As we are dealing with a discrete representation of the velocity-field $ \\mathbf{v}(\\mathbf{x}, t) $ defined on a domain $ \\mathbf{x} \\in U $ over the time interval $ [t_0, t_N] $, we seek to generally evaluate the velocity of the particle at arbitrary locations $ \\mathbf{x}=\\begin{pmatrix} x \\\\ y \\end{pmatrix} \\in U $ at times $ t \\in [t_0, t_N] $.\n",
    "\n",
    "The velocity field is reconstructed using method introduced in [Gridded_interpolation](#Gridded_Interpolation). The interpolant can deal with both steady and unsteady 2D velocity fields. For steady velocity fields we avoid interpolating with respect to time. For unsteady velocity fields the interpolation with respect to time is linear by default, whereas the interpolation with respect to space can be chosen to be either \"linear\" or \"cubic\". The default value for spatial interpolation is \"cubic\"."
   ]
  },
  {
   "cell_type": "code",
   "execution_count": 7,
   "metadata": {
    "ExecuteTime": {
     "end_time": "2021-10-01T11:10:45.833781Z",
     "start_time": "2021-10-01T11:10:45.819796Z"
    }
   },
   "outputs": [],
   "source": [
    "    def _Interpolation_velocity(self, method = \"cubic\"):\n",
    "            \n",
    "        # if velocity field is unsteady, then spatial interpolation\n",
    "        # is computed at each time step.\n",
    "        if self.boolean_unsteady:    \n",
    "            \n",
    "            # define u, v interpolants\n",
    "            self.Interpolant_u = []\n",
    "            self.Interpolant_v = []\n",
    "                    \n",
    "            for j in range(self.U.shape[2]):\n",
    "                \n",
    "                self.Interpolant_u.append(self._gridded_Interpolation(self.Y, self.X, self.U[:,:,j], method))\n",
    "                self.Interpolant_v.append(self._gridded_Interpolation(self.Y, self.X, self.V[:,:,j], method))               \n",
    "        \n",
    "        # if velocity field is steady, then spatial interpolation\n",
    "        # is computed only once.\n",
    "        else:\n",
    "                    \n",
    "            self.Interpolant_u = self._gridded_Interpolation(self.Y, self.X, self.U, method)\n",
    "            self.Interpolant_v = self._gridded_Interpolation(self.Y, self.X, self.V, method)"
   ]
  },
  {
   "cell_type": "markdown",
   "metadata": {
    "hide_input": true
   },
   "source": [
    "## Differential equation\n",
    "**\\_dxdt** calculates the velocity of the lagrangian particle at (*x*,*t*). Before evaluating the velocity field, the algorithm checks the location  (see [Check position of particle](#Check_position_of_particle)) of the particle with respect to the original meshgrid (**self.X, self.Y**) and returns the right indices (**idx_x, idx_y**) of the meshgrid where the particle is currently located.\n",
    "\n",
    "If the particle is in a region where the velocity field is well defined, then **loc=\"IN\"** and the velocity is evaluated as highlighted in [Velocity in defined domain](#Velocity_in_defined_domain). If the particle is near a boundary, then **loc=\"BOUNDARY\"**, then the interaction between the boundary and the flow has to be taken into account when computing the velocity (see [Velocity near boundary](#Velocity_near_boundary)).\n",
    "\n",
    "In case the particle is outside the defined domain, then **loc=\"OUT\"** and the integration is stop immediately by returnin **None**.\n",
    "This can happen whenever the particle is initially located in a region where the velocity field is not defined at all (e.g. Land when dealing with AVISO-data)."
   ]
  },
  {
   "cell_type": "code",
   "execution_count": 8,
   "metadata": {
    "ExecuteTime": {
     "end_time": "2021-10-01T11:10:45.848775Z",
     "start_time": "2021-10-01T11:10:45.834756Z"
    }
   },
   "outputs": [],
   "source": [
    "    def _dxdt(self, x, t):\n",
    "        \n",
    "        # Check location of lagrangian particle.\n",
    "        loc, idx_x, idx_y = self._check_location(x)\n",
    "            \n",
    "        # If inside defined domain\n",
    "        # then velocity at (x, t)\n",
    "        # can be evaluated using the interpolant\n",
    "        if loc ==  \"IN\":\n",
    "            \n",
    "            return self._velocity_domain(x, t)\n",
    "                \n",
    "        elif loc == \"BOUNDARY\":\n",
    "            \n",
    "            return self._velocity_boundary(x, t, idx_x, idx_y)\n",
    "        \n",
    "        elif loc == \"OUT\":\n",
    "            \n",
    "            return None"
   ]
  },
  {
   "cell_type": "markdown",
   "metadata": {},
   "source": [
    "<a id='Velocity_in_defined_domain'></a>\n",
    "### Velocity in defined domain\n",
    "\n",
    "**\\_velocity\\_domain** computes the velocity of a particle whenever it is in a domain where the velocity field is well defined."
   ]
  },
  {
   "cell_type": "code",
   "execution_count": 9,
   "metadata": {
    "ExecuteTime": {
     "end_time": "2021-10-01T11:10:45.863731Z",
     "start_time": "2021-10-01T11:10:45.850743Z"
    }
   },
   "outputs": [],
   "source": [
    "    def _velocity_domain(self, x, t):\n",
    "            \n",
    "        # Unsteady case\n",
    "        if self.boolean_unsteady:\n",
    "            \n",
    "            k = int(t/self.dt_data)\n",
    "            \n",
    "            # evaluate velocity field at time t\n",
    "            ui = self.Interpolant_u[k](x[1], x[0])[0][0]\n",
    "            uf = self.Interpolant_u[k+1](x[1], x[0])[0][0]\n",
    "            u = ((k+1)*self.dt_data-t)/self.dt_data*ui + (t-k*self.dt_data)/self.dt_data*uf\n",
    "            \n",
    "            vi = self.Interpolant_v[k](x[1], x[0])[0][0]\n",
    "            vf = self.Interpolant_v[k+1](x[1], x[0])[0][0]\n",
    "            v = ((k+1)*self.dt_data-t)/self.dt_data*vi + (t-k*self.dt_data)/self.dt_data*vf\n",
    "        \n",
    "        # Steady case        \n",
    "        elif self.boolean_unsteady == False:\n",
    "            \n",
    "            u = self.Interpolant_u(x[1], x[0])[0][0]\n",
    "            v = self.Interpolant_v(x[1], x[0])[0][0]\n",
    "        \n",
    "        vel = np.array([u, v])\n",
    "        \n",
    "        return vel"
   ]
  },
  {
   "cell_type": "markdown",
   "metadata": {},
   "source": [
    "<a id='Velocity_near_boundary'></a>\n",
    "### Velocity near boundary\n",
    "\n",
    "$ \\_velocity\\_boundary $ computes the velocity of a particle in proximity of a solid (no-slip) boundary (e.g. wall/land).\n",
    "\n",
    "At the boundary, the interpolant computed in [Interpolation of discrete velocity data](#Interpolation) no longer performs interpolation but instead extrapolates into a region where the velocity field is not defined anymore. The velocity in this region is strictly speaking not defined anymore and we refer to the area between the last known data point and the boundary as *boundary layer*. \n",
    "\n",
    "Especially \"cubic\" interpolation methods lead to strong overshooting at the boundaries thereby violating the no-slip boundary condition and the incompressibility assumption of the flow. Hence, computing the velocity at the boundary as explained in [Velocity_in_defined_domain](#Velocity_in_defined_domain) leads to unphysical lagrangian particle trajectories which violate boundary conditions (Particles cannot penetrate the wall or hit the land).\n",
    "\n",
    "To evaluate the velocity of the particle on the boundary we must therefore resort to other techniques which assume incompressibility of the flow and no-slip boundary conditions.\n",
    "We start by introducing coordinates $ \\mathbf{x} = (x, y) $ in which the no-slip wall aligns with the x axis, and hence the continuously differentiable fluid velocity field $ \\mathbf{v}(x, y, t) $ is given by:\n",
    "\n",
    "\\begin{equation}\n",
    "\\mathbf{v}(x, y, t) = \\begin{pmatrix} y u_y(x, 0, t) +O(y^2) \\\\ \\dfrac{1}{2}y^2 v_{yy}(x, 0, t) + O(y^3) \\end{pmatrix}\n",
    "\\end{equation}\n",
    "\n",
    "The distance between the last point where the flow field is defined and the boundary is denoted as $ \\delta_{boundary} $ in fig. [3.2.2](#fig3.2.2) and denotes the thickness of the boundary layer. **idx_x, idx_y** indicate the indices of the meshgrid **self.X, self.Y**."
   ]
  },
  {
   "attachments": {
    "Boundary_layer.png": {
     "image/png": "[encoded data removed]"
    }
   },
   "cell_type": "markdown",
   "metadata": {},
   "source": [
    "<a id='fig3.2.2'></a>\n",
    "\n",
    "| <div> <img src=\"attachment:Boundary_layer.png\" width=\"1000\"/> </div> |\n",
    "|:--:| \n",
    "| *fig 3.2.2* Boundary layer |"
   ]
  },
  {
   "cell_type": "markdown",
   "metadata": {},
   "source": [
    "$ u_{y}, v_{yy} $ can be estimated by evaluating the velocity field at $ y = \\delta_{boundary}$ and by dropping the higher order terms. The velocity near a boundary is thus given by:\n",
    "\n",
    "\\begin{equation}\n",
    "\\mathbf{v}(x, y, t) = \\begin{pmatrix} \\dfrac{y}{\\delta_{boundary}} u(x, y = \\delta_{boundary}, t)\\\\ (\\dfrac{y}{\\delta_{boundary}})^2 v(x, y  = \\delta_{boundary}, t)\\end{pmatrix}\n",
    "\\end{equation}\n",
    "\n",
    "The boundary geometries depicted in fig. [3.2.2](#fig3.2.2) display the simplest case where the boundary aligns either with the x or y-coordinate. What happens, however when the boundary is diagonal instead of aligning with the x or y-coordinate of the meshgrid?"
   ]
  },
  {
   "cell_type": "code",
   "execution_count": 10,
   "metadata": {
    "ExecuteTime": {
     "end_time": "2021-10-01T11:10:45.908614Z",
     "start_time": "2021-10-01T11:10:45.864705Z"
    }
   },
   "outputs": [],
   "source": [
    "    def _velocity_boundary(self, x, t, idx_x, idx_y):\n",
    "                \n",
    "        check_idx = (1 < idx_x < self.defined_domain.shape[1] - 1) and (1 < idx_y < self.defined_domain.shape[0] - 1)\n",
    "        \n",
    "        x_p = x[0]\n",
    "        y_p = x[1]\n",
    "        \n",
    "        left_boundary = np.sum(self.defined_domain[idx_y-1:idx_y+1, idx_x]) == 2 and np.sum(self.defined_domain[idx_y-1:idx_y+1, idx_x-1]) == 0\n",
    "        right_boundary = np.sum(self.defined_domain[idx_y-1:idx_y+1, idx_x]) == 0 and np.sum(self.defined_domain[idx_y-1:idx_y+1, idx_x-1]) == 2\n",
    "        upper_boundary = np.sum(self.defined_domain[idx_y-1,idx_x-1:idx_x+1]) == 2 and np.sum(self.defined_domain[idx_y,idx_x-1:idx_x+1]) == 0\n",
    "        lower_boundary = np.sum(self.defined_domain[idx_y-1,idx_x-1:idx_x+1]) == 0 and np.sum(self.defined_domain[idx_y,idx_x-1:idx_x+1]) == 2 \n",
    "        \n",
    "        # left/right boundary \n",
    "        if left_boundary or right_boundary:\n",
    "            \n",
    "            if left_boundary: \n",
    "                \n",
    "                # set idx of wall\n",
    "                idx_wall = idx_x-1\n",
    "                idx_boundary = idx_wall+1\n",
    "            \n",
    "            elif right_boundary:\n",
    "                \n",
    "                idx_wall = idx_x\n",
    "                idx_boundary = idx_wall-1\n",
    "    \n",
    "            # x coordinate of the wall\n",
    "            x_wall = self.X[0, idx_wall]\n",
    "                \n",
    "            # closest point to the wall where the velocity field is still defined (=boundary layer)\n",
    "            x_boundary_layer = np.array([self.X[0, idx_boundary], x[1]])\n",
    "            \n",
    "            # velocity at the x_boundary_layer at time t\n",
    "            vel = self._velocity_domain(x_boundary_layer, t)\n",
    "            \n",
    "            # x-distance of particle to wall\n",
    "            x_tilde = np.abs(x[0]-x_wall)\n",
    "              \n",
    "            # compute velocity from eq. (3)\n",
    "            u = vel[0]*(x_tilde/self.dx_data)**2\n",
    "            v = vel[1]*(x_tilde/self.dx_data)\n",
    "            \n",
    "        # upper/lower boundary\n",
    "        elif upper_boundary or lower_boundary:\n",
    "            \n",
    "            if upper_boundary:\n",
    "                \n",
    "                idx_wall = idx_y\n",
    "                idx_boundary = idx_wall-1\n",
    "                \n",
    "            elif lower_boundary:\n",
    "                \n",
    "                idx_wall = idx_y-1\n",
    "                idx_boundary = idx_wall+1\n",
    "        \n",
    "            # y coordinate of the wall\n",
    "            y_wall = self.Y[idx_y, 0]\n",
    "            \n",
    "            # closest point to the wall where the velocity field is still defined (=boundary layer)\n",
    "            x_boundary_layer = np.array([x[0], self.Y[idx_y-1, 0]])\n",
    "            \n",
    "            # velocity at the x_boundary_layer at time t\n",
    "            vel = self._velocity_domain(x_boundary_layer, t)\n",
    "                                  \n",
    "            # y-distance of particle to wall\n",
    "            y_tilde = np.abs(y_wall-x[1])\n",
    "                    \n",
    "            # compute velocity from eq. (3)\n",
    "            u = vel[0]*(y_tilde/self.dy_data)\n",
    "            v = vel[1]*(y_tilde/self.dy_data)**2\n",
    "            \n",
    "        elif np.sum(self.defined_domain[idx_y-1:idx_y+1, idx_x-1:idx_x+1]) == 1:\n",
    "            \n",
    "            if self.defined_domain[idx_y-1, idx_x-1] or self.defined_domain[idx_y, idx_x]:\n",
    "            \n",
    "                wall_orientation = np.array([-1, 1])\n",
    "            \n",
    "                thickness = np.sqrt(self.dx_data**2+self.dy_data**2)/2\n",
    "            \n",
    "                y_0 = self.Y[idx_y, idx_x-1]\n",
    "                x_0 = self.X[idx_y, idx_x-1]\n",
    "            \n",
    "                x_wall = ((y_0-y_p)+x_p+x_0)/2\n",
    "                y_wall = ((y_0+y_p)+(x_0-x_p))/2\n",
    "                \n",
    "                if self.defined_domain[idx_y-1, idx_x-1]:\n",
    "            \n",
    "                    x_boundary_layer = np.array([x_wall - thickness/np.sqrt(2), y_wall - thickness/np.sqrt(2)])\n",
    "            \n",
    "                elif self.defined_domain[idx_y, idx_x]:\n",
    "                    \n",
    "                    x_boundary_layer = np.array([x_wall + thickness/np.sqrt(2), y_wall + thickness/np.sqrt(2)])\n",
    "                \n",
    "                vel = self._velocity_domain(x_boundary_layer, t)\n",
    "            \n",
    "                # Coordinate transformation\n",
    "            \n",
    "                y_tilde = np.sqrt((x_wall-x_p)**2+(y_wall-y_p)**2)\n",
    "            \n",
    "                u_new = (-vel[0]+vel[1])/np.sqrt(2)*(y_tilde/thickness)\n",
    "                v_new = (-vel[0]-vel[1])/np.sqrt(2)*(y_tilde/thickness)**2\n",
    "            \n",
    "                u = -(u_new+v_new)/np.sqrt(2)\n",
    "                v = (u_new-v_new)/np.sqrt(2)\n",
    "                \n",
    "            elif self.defined_domain[idx_y, idx_x-1] or self.defined_domain[idx_y - 1, idx_x]:\n",
    "            \n",
    "                wall_orientation = np.array([1, 1])\n",
    "            \n",
    "                thickness = np.sqrt(self.dx_data**2+self.dy_data**2)/2\n",
    "            \n",
    "                y_0 = self.Y[idx_y-1, idx_x-1]\n",
    "                x_0 = self.X[idx_y-1, idx_x-1]\n",
    "            \n",
    "                x_wall = ((y_0-y_p)+x_p+x_0)/2\n",
    "                y_wall = ((y_0+y_p)+(x_0-x_p))/2\n",
    "                \n",
    "                if self.defined_domain[idx_y, idx_x-1]:\n",
    "            \n",
    "                    x_boundary_layer = np.array([x_wall - thickness/np.sqrt(2), y_wall + thickness/np.sqrt(2)])\n",
    "            \n",
    "                elif self.defined_domain[idx_y-1, idx_x]:\n",
    "                    \n",
    "                    x_boundary_layer = np.array([x_wall + thickness/np.sqrt(2), y_wall - thickness/np.sqrt(2)])\n",
    "            \n",
    "                vel = self._velocity_domain(x_boundary_layer, t)\n",
    "            \n",
    "                # Coordinate transformation\n",
    "            \n",
    "                y_tilde = np.sqrt((x_wall-x_p)**2+(y_wall-y_p)**2)\n",
    "            \n",
    "                u_new = (vel[0]+vel[1])/np.sqrt(2)*(y_tilde/thickness)\n",
    "                v_new = (-vel[0]+vel[1])/np.sqrt(2)*(y_tilde/thickness)**2\n",
    "            \n",
    "                u = (u_new-v_new)/np.sqrt(2)\n",
    "                v = (u_new+v_new)/np.sqrt(2)                   \n",
    "        \n",
    "        elif np.sum(self.defined_domain[idx_y-1:idx_y+1, idx_x-1:idx_x+1]) == 3 and check_idx:\n",
    "        \n",
    "            if check_idx:\n",
    "                \n",
    "                if self.defined_domain[idx_y, idx_x] == 0:\n",
    "                    \n",
    "                    x_0 = self.X[idx_y, idx_x]\n",
    "                    y_0 = self.Y[idx_y, idx_x]\n",
    "            \n",
    "                    p1norm = (np.abs(y_p-y_0)+ np.abs(x_p-x_0))< 1\n",
    "            \n",
    "                    if p1norm and (((y_p-y_0)/(x_p-x_0) <= 1 and self.defined_domain[idx_y+1, idx_x-1] == 0) or (((y_p-y_0)/(x_p - x_0) > 1) and self.defined_domain[idx_y-1, idx_x+1] == 0)):\n",
    "                    \n",
    "                        thickness = np.sqrt(self.dx_data**2+self.dy_data**2)/2\n",
    "                        \n",
    "                        x_wall = (y_0-y_p+x_p+x_0)/2\n",
    "                        y_wall = (y_0+y_p+x_0-x_p)/2\n",
    "                        \n",
    "                        x_boundary_layer = np.array([x_wall - thickness/np.sqrt(2), y_wall - thickness/np.sqrt(2)])                        \n",
    "                        \n",
    "                        vel = self._velocity_domain(x_boundary_layer, t)\n",
    "            \n",
    "                        y_tilde = np.sqrt((x_wall-x_p)**2+(y_wall-y_p)**2)\n",
    "            \n",
    "                        # Velocity in coordinates parallel to diagonal boundary transformation\n",
    "                \n",
    "                        u_new = (-vel[0]+vel[1])/np.sqrt(2)*(y_tilde/thickness)\n",
    "                        v_new = (-vel[0]-vel[1])/np.sqrt(2)*(y_tilde/thickness)**2\n",
    "            \n",
    "                        u = -(u_new+v_new)/np.sqrt(2)\n",
    "                        v = (u_new-v_new)/np.sqrt(2)\n",
    "                    \n",
    "                    else:\n",
    "                        \n",
    "                        return self._velocity_domain(x, t)\n",
    "                    \n",
    "                elif self.defined_domain[idx_y-1, idx_x-1] == 0:\n",
    "                    \n",
    "                    x_0 = self.X[idx_y, idx_x]\n",
    "                    y_0 = self.Y[idx_y, idx_x]\n",
    "            \n",
    "                    p1norm = (np.abs(y_p-y_0)+ np.abs(x_p-x_0)) > 1\n",
    "                    \n",
    "                    if (p1norm and ((y_p-y_0)/(x_p - x_0) >= 1 and self.defined_domain[idx_y-1, idx_x] == 0) or (((y_p-y_0)/(x_p - x_0) < 1) and self.defined_domain[idx_y, idx_x-1] == 0)):\n",
    "                    \n",
    "                        thickness = np.sqrt(self.dx_data**2+self.dy_data**2)/2\n",
    "                        \n",
    "                        x_wall = (y_0-y_p+x_p+x_0)/2\n",
    "                        y_wall = (y_0+y_p+x_0-x_p)/2\n",
    "                        \n",
    "                        x_boundary_layer = np.array([x_wall + thickness/np.sqrt(2), y_wall + thickness/np.sqrt(2)])                        \n",
    "                        \n",
    "                        vel = self._velocity_domain(x_boundary_layer, t)\n",
    "            \n",
    "                        y_tilde = np.sqrt((x_wall-x_p)**2+(y_wall-y_p)**2)\n",
    "            \n",
    "                        # Velocity in coordinates parallel to diagonal boundary transformation\n",
    "                \n",
    "                        u_new = (-vel[0]+vel[1])/np.sqrt(2)*(y_tilde/thickness)\n",
    "                        v_new = (-vel[0]-vel[1])/np.sqrt(2)*(y_tilde/thickness)**2\n",
    "            \n",
    "                        u = -(u_new+v_new)/np.sqrt(2)\n",
    "                        v = (u_new-v_new)/np.sqrt(2)\n",
    "                    \n",
    "                    else:\n",
    "                        \n",
    "                        return self._velocity_domain(x, t)                    \n",
    "        \n",
    "                elif self.defined_domain[idx_y-1, idx_x] == 0:\n",
    "                \n",
    "                    x_0 = self.X[idx_y, idx_x-1]\n",
    "                    y_0 = self.Y[idx_y, idx_x-1]\n",
    "                    \n",
    "                    p1norm = (np.abs(y_p-y_0)+ np.abs(x_p-x_0)) < 1\n",
    "                        \n",
    "                    if (p1norm and (((y_p-y_0)/(x_p - x_0) < -1 and self.defined_domain[idx_y-2, idx_x-1]) == 0) or (((y_p-y_0)/(x_p - x_0) >= -1) and self.defined_domain[idx_y, idx_x+1])):\n",
    "            \n",
    "                        wall_orientation = np.array([1, 1])\n",
    "                        thickness = np.sqrt(self.dx_data**2+self.dy_data**2)/2\n",
    "            \n",
    "                        x_wall = ((y_p-y_0)+x_p+x_0)/2\n",
    "                        y_wall = ((y_p+y_0)+x_p-x_0)/2\n",
    "            \n",
    "                        x_boundary_layer = np.array([x_wall - thickness/np.sqrt(2), y_wall + thickness/np.sqrt(2)])\n",
    "                                    \n",
    "                        vel = self._velocity_domain(x_boundary_layer, t)\n",
    "            \n",
    "                        # Coordinate transformation \n",
    "                        y_tilde = np.sqrt((x_wall-x_p)**2+(y_wall-y_p)**2)\n",
    "            \n",
    "                        u_new = (vel[0]+vel[1])/np.sqrt(2)*(y_tilde/thickness)\n",
    "                        v_new = (-vel[0]+vel[1])/np.sqrt(2)*(y_tilde/thickness)**2\n",
    "            \n",
    "                        u = (u_new-v_new)/np.sqrt(2)\n",
    "                        v = (u_new+v_new)/np.sqrt(2)\n",
    "                    \n",
    "                    else:\n",
    "                        \n",
    "                        return self._velocity_domain(x, t)\n",
    "                    \n",
    "                elif self.defined_domain[idx_y, idx_x-1] == 0:\n",
    "                \n",
    "                    x_0 = self.X[idx_y, idx_x-1]\n",
    "                    y_0 = self.Y[idx_y, idx_x-1]\n",
    "                    \n",
    "                    p1norm = (np.abs(y_p-y_0)+ np.abs(x_p-x_0)) >= 1\n",
    "                        \n",
    "                    if (p1norm and (((y_p-y_0)/(x_p - x_0) < -1 and self.defined_domain[idx_y-2, idx_x-1]) == 0) or (((y_p-y_0)/(x_p - x_0) >= -1) and self.defined_domain[idx_y, idx_x+1])):\n",
    "            \n",
    "                        wall_orientation = np.array([1, 1])\n",
    "                        thickness = np.sqrt(self.dx_data**2+self.dy_data**2)/2\n",
    "            \n",
    "                        x_wall = ((y_p-y_0)+x_p+x_0)/2\n",
    "                        y_wall = ((y_p+y_0)+x_p-x_0)/2\n",
    "            \n",
    "                        x_boundary_layer = np.array([x_wall - thickness/np.sqrt(2), y_wall + thickness/np.sqrt(2)])\n",
    "                                    \n",
    "                        vel = self._velocity_domain(x_boundary_layer, t)\n",
    "            \n",
    "                        # Coordinate transformation \n",
    "                        y_tilde = np.sqrt((x_wall-x_p)**2+(y_wall-y_p)**2)\n",
    "            \n",
    "                        u_new = (vel[0]+vel[1])/np.sqrt(2)*(y_tilde/thickness)\n",
    "                        v_new = (-vel[0]+vel[1])/np.sqrt(2)*(y_tilde/thickness)**2\n",
    "            \n",
    "                        u = (u_new-v_new)/np.sqrt(2)\n",
    "                        v = (u_new+v_new)/np.sqrt(2)\n",
    "                \n",
    "                    else:\n",
    "                        \n",
    "                        return self._velocity_domain(x, t)\n",
    "        else:\n",
    "            \n",
    "            return None\n",
    "    \n",
    "        vel = np.array([u, v])\n",
    "        \n",
    "        return vel"
   ]
  },
  {
   "cell_type": "markdown",
   "metadata": {},
   "source": [
    "## Lagrangian particle trajectories"
   ]
  },
  {
   "cell_type": "markdown",
   "metadata": {},
   "source": [
    "### $4^{th}$-order Runge Kutta integration"
   ]
  },
  {
   "cell_type": "code",
   "execution_count": 11,
   "metadata": {
    "ExecuteTime": {
     "end_time": "2021-10-01T11:10:45.923575Z",
     "start_time": "2021-10-01T11:10:45.909585Z"
    }
   },
   "outputs": [],
   "source": [
    "    def _RK4(self, x, t, dt):\n",
    "        \n",
    "        # Define starting point.\n",
    "        x1 = x\n",
    "        t1 = t\n",
    "        \n",
    "        # If x is outside defined domain --> vel is None --> _RK4 returns \"None\" and integration will stop.\n",
    "        \n",
    "        # Compute velocity at the beginning of the time-step\n",
    "        vel = self._dxdt(x1, t1)\n",
    "        if vel is None: return None, None     \n",
    "        k1 = dt * vel\n",
    "    \n",
    "        #  position and time at the first midpoint.\n",
    "        x2 = x1 + .5 * k1\n",
    "        t2 = t + .5 * dt\n",
    "\n",
    "        # Compute velocity at the first midpoint.\n",
    "        vel = self._dxdt(x2, t2)\n",
    "        if vel is None: return None, None     \n",
    "        k2 = dt * vel\n",
    "\n",
    "        # Update position and time at the second midpoint.\n",
    "        x3 = x1 + .5 * k2\n",
    "        t3 = t + .5 * dt\n",
    "    \n",
    "        # Compute velocity at the second midpoint.\n",
    "        vel = self._dxdt(x3, t3)\n",
    "        if vel is None: return None, None     \n",
    "        k3 = dt * vel\n",
    "    \n",
    "        # Update position and time at the first midpoint.\n",
    "        x4 = x1 + k3\n",
    "        t4 = t + dt\n",
    "    \n",
    "        # Compute velocity at the end of the time-step.\n",
    "        vel = self._dxdt(x4, t4)\n",
    "        if vel is None: return None, None     \n",
    "        k4 = dt * vel\n",
    "    \n",
    "        # define list for velocity and positions of particle\n",
    "        vel_update = []\n",
    "        x_update = []\n",
    "        \n",
    "        # Compute velocity\n",
    "        for j in range(self.dim):\n",
    "            # Update velocity of particles\n",
    "            vel_update.append(1.0 / 6.0*(k1[j] + 2 * k2[j] + 2 * k3[j] + k4[j])/dt)\n",
    "    \n",
    "        # Integration x <-- x + v*dt\n",
    "        for j in range(self.dim):\n",
    "            # Update position of particles\n",
    "            x_update.append(x[j] + vel_update[j]*dt)\n",
    "    \n",
    "        vel_update = np.array(vel_update)\n",
    "        x_update = np.array(x_update)\n",
    "    \n",
    "        return x_update, vel_update"
   ]
  },
  {
   "cell_type": "markdown",
   "metadata": {},
   "source": [
    "### Single Lagrangian particle trajectory"
   ]
  },
  {
   "cell_type": "code",
   "execution_count": 12,
   "metadata": {
    "ExecuteTime": {
     "end_time": "2021-10-01T11:10:45.939534Z",
     "start_time": "2021-10-01T11:10:45.924545Z"
    }
   },
   "outputs": [],
   "source": [
    "    def _trajectory(self, x, time):\n",
    "        \n",
    "        # Initialize trajectory array.\n",
    "        trajectory = np.zeros((len(time), 2))\n",
    "        \n",
    "        # Initialize velocity array\n",
    "        velocity = np.zeros((len(time), 2))\n",
    "        \n",
    "        dt = time[1]-time[0]\n",
    "    \n",
    "        # Integration of trajectory using RK4\n",
    "        for i, t in enumerate(time):\n",
    "            \n",
    "            trajectory[i,:] = x\n",
    "        \n",
    "            # Integrate using 4th-order Runge-Kutta.                     \n",
    "            x, vel = self._RK4(x, t, dt)\n",
    "        \n",
    "            # Periodic boundary conditions.\n",
    "            if self.periodic[0]:\n",
    "                \n",
    "                if x[0] > self.xmax or x[0] < self.xmin:\n",
    "                \n",
    "                    x[0] = ((x[0]-self.xmin) % (self.xmax-self.xmin))+self.xmin\n",
    "                \n",
    "            if self.periodic[1]:\n",
    "                \n",
    "                if x[1] > self.ymax or x[1] < self.ymin:\n",
    "                \n",
    "                    x[1] = ((x[1]-self.ymin) % (self.ymax-self.ymin))+self.ymin\n",
    "            \n",
    "            # If x is \"None\"\n",
    "            # Trajectory outside of defined domain --> STOP INTEGRATION\n",
    "            # Set velocity/trajectory to np.nan\n",
    "            if x is None:\n",
    "                trajectory[:, :] = np.nan\n",
    "                velocity[:, :] = np.nan\n",
    "                break\n",
    "                                \n",
    "            velocity[i, :] = vel\n",
    "                \n",
    "        return trajectory.T, velocity.T"
   ]
  },
  {
   "cell_type": "markdown",
   "metadata": {},
   "source": [
    "### Lagrangian particle trajectories on a grid"
   ]
  },
  {
   "cell_type": "code",
   "execution_count": 13,
   "metadata": {
    "ExecuteTime": {
     "end_time": "2021-10-01T11:10:45.955522Z",
     "start_time": "2021-10-01T11:10:45.940503Z"
    }
   },
   "outputs": [],
   "source": [
    "    def _trajectory_grid(self):\n",
    "        \n",
    "        def parallelization(i):\n",
    "            \n",
    "            trajectories = np.zeros((self.len_X, self.dim, len(self.time)))\n",
    "            velocities = np.zeros((self.len_X, self.dim, len(self.time)))\n",
    "            \n",
    "            for j in range(self.len_X):\n",
    "                                          \n",
    "                x = np.array([self.X_domain[i, j], self.Y_domain[i, j]])\n",
    "                    \n",
    "                trajectories[j, :, :], velocities[j, :, :] = self._trajectory(x, self.time)\n",
    "                \n",
    "            return trajectories, velocities\n",
    "        \n",
    "        res = Parallel(n_jobs=self.Ncores, verbose = 1)(delayed(parallelization)(i) for i in tqdm(range(self.len_Y)))\n",
    "        \n",
    "        self.trajectory_grid = np.array(res)[:,0,:,:,:]\n",
    "        self.velocity_grid = np.array(res)[:,1,:,:,:-1]"
   ]
  },
  {
   "cell_type": "markdown",
   "metadata": {},
   "source": [
    "### Flow map"
   ]
  },
  {
   "cell_type": "code",
   "execution_count": 14,
   "metadata": {
    "ExecuteTime": {
     "end_time": "2021-10-01T11:10:45.971478Z",
     "start_time": "2021-10-01T11:10:45.956491Z"
    }
   },
   "outputs": [],
   "source": [
    "    def _Fmap(self, x, time):\n",
    "    \n",
    "        F_t0_tN = self._trajectory(x, time)[:, -1]\n",
    "    \n",
    "        return F_t0_tN"
   ]
  },
  {
   "cell_type": "markdown",
   "metadata": {},
   "source": [
    "# Tensors and gradients"
   ]
  },
  {
   "cell_type": "markdown",
   "metadata": {},
   "source": [
    "## Gradient of the flow map"
   ]
  },
  {
   "cell_type": "markdown",
   "metadata": {},
   "source": [
    "### Gradient of flow map for a lagrangian particle trajectory"
   ]
  },
  {
   "cell_type": "code",
   "execution_count": 15,
   "metadata": {
    "ExecuteTime": {
     "end_time": "2021-10-01T11:10:45.987434Z",
     "start_time": "2021-10-01T11:10:45.972448Z"
    }
   },
   "outputs": [],
   "source": [
    "    def _grad_Fmap(self, x, time):\n",
    "    \n",
    "        # Initialized gradient of flow map\n",
    "        grad_Fmap = np.zeros((self.dim, self.dim))\n",
    "    \n",
    "        # Array containing vectors for grid-spacing\n",
    "        delta_aux = np.diag(self.aux_grid_spacing)\n",
    "    \n",
    "        for i in range(self.dim):\n",
    "            for j in range(self.dim):            \n",
    "                x_aux0 = x-delta_aux[i, :]\n",
    "                x0 = self._Fmap(x_aux0, time)\n",
    "                x_aux1 = x-delta_aux[i, :]\n",
    "                x1 = self._Fmap(x_aux1, time)\n",
    "                grad_Fmap[i, j] = (x1[j]-x0[j])/(2*delta_aux[i, i])\n",
    "    \n",
    "        return grad_Fmap"
   ]
  },
  {
   "cell_type": "markdown",
   "metadata": {},
   "source": [
    "### Gradient of the flow map using auxiliary grid"
   ]
  },
  {
   "cell_type": "code",
   "execution_count": 16,
   "metadata": {
    "ExecuteTime": {
     "end_time": "2021-10-01T11:10:46.003392Z",
     "start_time": "2021-10-01T11:10:45.988406Z"
    }
   },
   "outputs": [],
   "source": [
    "    def _grad_Fmap_aux_grid(self):\n",
    "                                 \n",
    "        self.grad_Fmap_grid = np.zeros((self.len_Y, self.len_X, self.dim, self.dim))\n",
    "        \n",
    "        for i in range(self.len_Y):\n",
    "                \n",
    "            for j in range(self.len_X):\n",
    "    \n",
    "                x = np.array([self.X_domain[i, j], self.Y_domain[i, j]])\n",
    "                        \n",
    "                self.grad_Fmap_grid[i, j, :, : ] = self._grad_Fmap(x, self.time)\n",
    "            \n",
    "        return self.grad_Fmap_grid"
   ]
  },
  {
   "cell_type": "markdown",
   "metadata": {},
   "source": [
    "### Gradient of the flow map over a meshgrid."
   ]
  },
  {
   "cell_type": "code",
   "execution_count": 17,
   "metadata": {
    "ExecuteTime": {
     "end_time": "2021-10-01T11:10:46.019349Z",
     "start_time": "2021-10-01T11:10:46.004363Z"
    }
   },
   "outputs": [],
   "source": [
    "    def _grad_Fmap_grid(self, aux_grid = False):\n",
    "        \n",
    "        if aux_grid == False:\n",
    "            \n",
    "            if hasattr(self, 'trajectory_grid') == False:\n",
    "                \n",
    "                self._trajectory_grid()\n",
    "        \n",
    "            Fmap_grid = np.zeros((self.len_Y, self.len_X, self.dim))\n",
    "            \n",
    "            self.grad_Fmap_grid = np.zeros((self.len_Y, self.len_X, self.dim, self.dim))\n",
    "    \n",
    "            for i in range(self.len_Y):\n",
    "        \n",
    "                for j in range(self.len_X):\n",
    "                    \n",
    "                    Fmap_grid[i, j, :] = self.trajectory_grid[i, j, :, -1]\n",
    "            \n",
    "            for i in range(1, self.len_Y-1):\n",
    "                \n",
    "                for j in range(1, self.len_X-1):\n",
    "                    \n",
    "                    for c in range(self.dim):\n",
    "                        \n",
    "                        self.grad_Fmap_grid[i, j, c, 0] = (Fmap_grid[i, j+1, c] - Fmap_grid[i, j-1, c])/(2*self.dx)\n",
    "                        self.grad_Fmap_grid[i, j, c, 1] = (Fmap_grid[i+1, j, c] - Fmap_grid[i-1, j, c])/(2*self.dy)\n",
    "                        \n",
    "        else:\n",
    "            \n",
    "            def parallelization(i):\n",
    "                \n",
    "                grad_Fmap = np.zeros((self.len_X, self.dim, self.dim))\n",
    "                \n",
    "                for j in range(self.len_X):\n",
    "                    \n",
    "                    x = np.array([self.X_domain[i, j], self.Y_domain[i, j]])\n",
    "                \n",
    "                    grad_Fmap[j, :, :] = self._grad_Fmap_aux_grid(x, self.time)\n",
    "                \n",
    "                return grad_Fmap\n",
    "            \n",
    "            self.grad_Fmap_grid = np.array(Parallel(n_jobs=self.Ncores)(delayed(parallelization)(i) for i in tqdm(range(self.len_Y))))\n",
    "            \n",
    "        return self.grad_Fmap_grid"
   ]
  },
  {
   "cell_type": "markdown",
   "metadata": {},
   "source": [
    "## Cauchy-green-strain tensor"
   ]
  },
  {
   "cell_type": "code",
   "execution_count": 18,
   "metadata": {
    "ExecuteTime": {
     "end_time": "2021-10-01T11:10:46.035307Z",
     "start_time": "2021-10-01T11:10:46.020319Z"
    }
   },
   "outputs": [],
   "source": [
    "    def _cauchy_green_strain(self):\n",
    "        \n",
    "        if hasattr(self, 'grad_Fmap_grid') == False:\n",
    "                  \n",
    "            self._grad_Fmap_grid()\n",
    "            \n",
    "        self.B = np.zeros((self.len_Y, self.len_X, self.dim, self.dim))\n",
    "        self.C = self.B.copy()\n",
    "            \n",
    "        for i in range(self.len_Y):\n",
    "                \n",
    "            for j in range(self.len_X):\n",
    "                    \n",
    "                ### Compute left Cauchy-Green-Strain tensor\n",
    "                self.B[i, j, :, :] = np.dot(self.grad_Fmap_grid[i, j, :, :], self.grad_Fmap_grid[i, j, :, :].transpose())\n",
    "                    \n",
    "                ### Compute right Cauchy-Green-Strain tensor\n",
    "                self.C[i, j, :, :] = np.dot(self.grad_Fmap_grid[i, j, :, :].transpose(), self.grad_Fmap_grid[i, j, :, :])\n",
    "                    \n",
    "        return self.B, self.C"
   ]
  },
  {
   "cell_type": "markdown",
   "metadata": {},
   "source": [
    "## Gradient of velocity"
   ]
  },
  {
   "cell_type": "code",
   "execution_count": 19,
   "metadata": {
    "ExecuteTime": {
     "end_time": "2021-10-01T11:10:46.050544Z",
     "start_time": "2021-10-01T11:10:46.036277Z"
    }
   },
   "outputs": [],
   "source": [
    "    def _grad_vel(self, x, t):\n",
    "        \n",
    "        grad_vel = np.zeros((self.dim, self.dim))\n",
    "        \n",
    "        delta_aux = np.diag(self.aux_grid_spacing)\n",
    "        \n",
    "        for i in range(self.dim):\n",
    "            \n",
    "            for j in range(self.dim):          \n",
    "                \n",
    "                x_aux0 = x-delta_aux[i, :]\n",
    "                v0 = self._dxdt(x_aux0, t)\n",
    "                \n",
    "                x_aux1 = x+delta_aux[i, :]\n",
    "                v1 = self._dxdt(x_aux1, t)\n",
    "                \n",
    "                if v1 is None or v0 is None:\n",
    "                    \n",
    "                    grad_vel[i, j] = np.nan\n",
    "                    \n",
    "                else:\n",
    "                \n",
    "                    grad_vel[i, j] = (v1[j]-v0[j])/(2*delta_aux[i, i])\n",
    "                \n",
    "        return grad_vel"
   ]
  },
  {
   "cell_type": "markdown",
   "metadata": {},
   "source": [
    "## Vorticity tensor"
   ]
  },
  {
   "cell_type": "code",
   "execution_count": 20,
   "metadata": {
    "ExecuteTime": {
     "end_time": "2021-10-01T11:10:46.066528Z",
     "start_time": "2021-10-01T11:10:46.051542Z"
    }
   },
   "outputs": [],
   "source": [
    "    def _vorticity_tensor(self, x, t):\n",
    "        \n",
    "        grad_vel = self._grad_vel(x, t)\n",
    "    \n",
    "        return .5*(grad_vel-grad_vel.T)"
   ]
  },
  {
   "cell_type": "markdown",
   "metadata": {},
   "source": [
    "## Spin tensor"
   ]
  },
  {
   "cell_type": "code",
   "execution_count": 21,
   "metadata": {
    "ExecuteTime": {
     "end_time": "2021-10-01T11:10:46.082485Z",
     "start_time": "2021-10-01T11:10:46.067498Z"
    }
   },
   "outputs": [],
   "source": [
    "    def _spin_tensor(self, x, t):\n",
    "        \n",
    "        grad_vel = self._grad_vel(x)\n",
    "        \n",
    "        return .5*(grad_vel+grad_vel.T)"
   ]
  },
  {
   "cell_type": "markdown",
   "metadata": {},
   "source": [
    "# General Functions"
   ]
  },
  {
   "cell_type": "code",
   "execution_count": 22,
   "metadata": {
    "ExecuteTime": {
     "end_time": "2021-10-01T11:10:46.098442Z",
     "start_time": "2021-10-01T11:10:46.083455Z"
    }
   },
   "outputs": [],
   "source": [
    "    def _ocean_velocity_units(self, y0, u_ms, v_ms):\n",
    "        \n",
    "        earthRadius = 6371*(10**3)\n",
    "        \n",
    "        u_deg = (u_ms / (np.cos(y0*(np.pi/180))*(earthRadius)))*180*3600*24/np.pi\n",
    "        v_deg = (v_ms /earthRadius)*180*3600*24/np.pi\n",
    "        \n",
    "        return u_deg, v_deg"
   ]
  },
  {
   "cell_type": "markdown",
   "metadata": {},
   "source": [
    "<a id='Check_position_of_particle'></a>\n",
    "## Check position of particle\n",
    "\n",
    "The method $\\_check\\_location$ checks if the point $ x $ is in a domain where the velocity field is defined."
   ]
  },
  {
   "cell_type": "code",
   "execution_count": 23,
   "metadata": {
    "ExecuteTime": {
     "end_time": "2021-10-01T11:10:46.114372Z",
     "start_time": "2021-10-01T11:10:46.099413Z"
    }
   },
   "outputs": [],
   "source": [
    "    def _check_location(self, x):\n",
    "        \n",
    "        xp = x[0]\n",
    "        yp = x[1]\n",
    "        \n",
    "        idx_x = np.searchsorted(self.X[0,:], xp)\n",
    "        idx_y = np.searchsorted(self.Y[:,0], yp)\n",
    "        \n",
    "        if xp < np.min(self.X) or xp > np.max(self.X) or yp < np.min(self.Y) or yp > np.max(self.Y):\n",
    "            \n",
    "            loc = \"OUT\"\n",
    "                \n",
    "            return loc, idx_x, idx_y\n",
    "        \n",
    "        else:\n",
    "            \n",
    "            Condition_nan = np.sum(self.defined_domain[idx_y-1:idx_y+1, idx_x-1:idx_x+1].ravel())\n",
    "        \n",
    "            if Condition_nan == 4:\n",
    "        \n",
    "                loc = \"IN\"\n",
    "                    \n",
    "            elif Condition_nan == 0:\n",
    "            \n",
    "                loc = \"OUT\"\n",
    "        \n",
    "            elif Condition_nan == 2:\n",
    "            \n",
    "                loc = \"BOUNDARY\"\n",
    "                \n",
    "            elif Condition_nan == 1:\n",
    "                \n",
    "                if self.defined_domain[idx_y-1, idx_x-1]:\n",
    "                    \n",
    "                    if idx_y == self.defined_domain.shape[0]-1 and idx_x == self.defined_domain.shape[1]-1:\n",
    "                        \n",
    "                        loc = \"OUT\"\n",
    "                    \n",
    "                    else:\n",
    "                        \n",
    "                        if x[1] + x[0] < self.Y[idx_y, idx_x-1] + self.X[idx_y, idx_x-1]:\n",
    "                        \n",
    "                            loc = \"BOUNDARY\"\n",
    "                        \n",
    "                        else:\n",
    "                        \n",
    "                            loc = \"OUT\"\n",
    "                        \n",
    "                elif self.defined_domain[idx_y, idx_x]:\n",
    "                    \n",
    "                    if idx_y == 1 and idx_x == 1:\n",
    "                    \n",
    "                        loc = \"OUT\"\n",
    "                    \n",
    "                    else:\n",
    "                    \n",
    "                        if x[1] + x[0] > self.Y[idx_y, idx_x-1] + self.X[idx_y, idx_x-1]:\n",
    "                        \n",
    "                            loc = \"BOUNDARY\"\n",
    "                        \n",
    "                        else:\n",
    "                        \n",
    "                            loc = \"OUT\"\n",
    "                        \n",
    "                elif self.defined_domain[idx_y, idx_x-1]:\n",
    "                    \n",
    "                    if idx_y == 1 and idx_x == self.defined_domain.shape[1]-1:\n",
    "                        \n",
    "                        loc = \"OUT\"\n",
    "                    \n",
    "                    else:\n",
    "                        \n",
    "                        if x[1] - x[0] < self.Y[idx_y-1, idx_x-1] - self.X[idx_y-1, idx_x-1]:\n",
    "                        \n",
    "                            loc = \"BOUNDARY\"\n",
    "                        \n",
    "                        else:\n",
    "                        \n",
    "                            loc = \"OUT\"\n",
    "                        \n",
    "                elif self.defined_domain[idx_y-1, idx_x]:\n",
    "                    \n",
    "                    if idx_y == self.defined_domain.shape[0]-1 and idx_x == 1:\n",
    "                    \n",
    "                        loc = \"OUT\"\n",
    "                    \n",
    "                    else:\n",
    "                    \n",
    "                        if x[1] - x[0] > self.Y[idx_y-1, idx_x-1] - self.X[idx_y-1, idx_x-1]:\n",
    "                        \n",
    "                            loc = \"BOUNDARY\"\n",
    "                        \n",
    "                        else:\n",
    "                        \n",
    "                            loc = \"OUT\"\n",
    "                \n",
    "            elif Condition_nan == 3:\n",
    "                \n",
    "                loc = \"BOUNDARY\"\n",
    "         \n",
    "        return loc, idx_x, idx_y"
   ]
  },
  {
   "cell_type": "markdown",
   "metadata": {},
   "source": [
    "## Eigenvalues and Eigenvectors"
   ]
  },
  {
   "cell_type": "code",
   "execution_count": 24,
   "metadata": {
    "ExecuteTime": {
     "end_time": "2021-10-01T11:10:46.130356Z",
     "start_time": "2021-10-01T11:10:46.115370Z"
    }
   },
   "outputs": [],
   "source": [
    "    def _eigenvalues_and_eigenvectors(self, A):\n",
    "                   \n",
    "        a = A[0,0]\n",
    "        b = A[0,1]\n",
    "        c = A[1,0]\n",
    "        d = A[1,1]\n",
    "            \n",
    "        lamda_max = (a+d)/2+np.sqrt((a+d)**2/4-(a*d-b*c))\n",
    "        \n",
    "        if self.incompressible:\n",
    "            \n",
    "            if lamda_max < 1:\n",
    "                \n",
    "                lamda_max = np.nan\n",
    "        \n",
    "            lamda_min = 1/lamda_max\n",
    "            \n",
    "        else:\n",
    "            \n",
    "            lamda_min = (a+d)/2-np.sqrt((a+d)**2/4-(a*d-b*c))\n",
    "        \n",
    "        if np.abs((a+d)**2/4-(a*d-b*c)) <= 10**(-14):\n",
    "                       \n",
    "            if b == 0 and c == 0:\n",
    "            \n",
    "                v_max = np.array([1, 0])\n",
    "                v_min = np.array([0, 1])\n",
    "                \n",
    "            elif b != 0 and c == 0:\n",
    "                \n",
    "                v_max = np.array([1, 0])\n",
    "                v_min = np.array([np.nan, np.nan])\n",
    "                \n",
    "            elif b == 0 and c != 0:\n",
    "                \n",
    "                v_max = np.array([0, -1])\n",
    "                v_min = np.array([np.nan, np.nan])\n",
    "            \n",
    "            else:\n",
    "                \n",
    "                v_max = np.array([-b, a-lamda_max])\n",
    "                v_max = v_max/np.sqrt(v_max[0]**2+v_max[1]**2)\n",
    "            \n",
    "                v_min = np.array([-b, a-lamda_min])\n",
    "                v_min = v_min/np.sqrt(v_min[0]**2+v_min[1]**2)\n",
    "            \n",
    "        else:\n",
    "        \n",
    "            if a-lamda_max != 0 and b != 0:\n",
    "            \n",
    "                v_max = np.array([-b, a-lamda_max])\n",
    "                v_max = v_max/np.sqrt(v_max[0]**2+v_max[1]**2)\n",
    "            \n",
    "                v_min = np.array([-b, a-lamda_min])\n",
    "                v_min = v_min/np.sqrt(v_min[0]**2+v_min[1]**2)\n",
    "        \n",
    "            else:\n",
    "            \n",
    "                v_max = np.array([d-lamda_max, -c])\n",
    "                v_max = v_max/np.sqrt(v_max[0]**2+v_max[1]**2)\n",
    "            \n",
    "                v_min = np.array([d-lamda_min, -c])\n",
    "                v_min = v_min/np.sqrt(v_min[0]**2+v_min[1]**2)\n",
    "                        \n",
    "        return lamda_min, lamda_max, v_min, v_max"
   ]
  },
  {
   "cell_type": "markdown",
   "metadata": {},
   "source": [
    "## Singular value decomposition"
   ]
  },
  {
   "cell_type": "code",
   "execution_count": 25,
   "metadata": {
    "ExecuteTime": {
     "end_time": "2021-10-01T11:10:46.146311Z",
     "start_time": "2021-10-01T11:10:46.131328Z"
    }
   },
   "outputs": [],
   "source": [
    "    def _svd(self, A):  \n",
    "            \n",
    "        U, S, V = np.linalg.svd(A)\n",
    "                        \n",
    "        return U, S, V"
   ]
  }
 ],
 "metadata": {
  "kernelspec": {
   "display_name": "Python 3 (ipykernel)",
   "language": "python",
   "name": "python3"
  },
  "language_info": {
   "codemirror_mode": {
    "name": "ipython",
    "version": 3
   },
   "file_extension": ".py",
   "mimetype": "text/x-python",
   "name": "python",
   "nbconvert_exporter": "python",
   "pygments_lexer": "ipython3",
   "version": "3.7.11"
  },
  "latex_envs": {
   "LaTeX_envs_menu_present": true,
   "autoclose": false,
   "autocomplete": true,
   "bibliofile": "biblio.bib",
   "cite_by": "apalike",
   "current_citInitial": 1,
   "eqLabelWithNumbers": true,
   "eqNumInitial": 1,
   "hotkeys": {
    "equation": "Ctrl-E",
    "itemize": "Ctrl-I"
   },
   "labels_anchors": false,
   "latex_user_defs": false,
   "report_style_numbering": false,
   "user_envs_cfg": false
  },
  "toc": {
   "base_numbering": "1",
   "nav_menu": {},
   "number_sections": true,
   "sideBar": true,
   "skip_h1_title": false,
   "title_cell": "Table of Contents",
   "title_sidebar": "Contents",
   "toc_cell": true,
   "toc_position": {
    "height": "calc(100% - 180px)",
    "left": "10px",
    "top": "150px",
    "width": "422.475px"
   },
   "toc_section_display": true,
   "toc_window_display": true
  }
 },
 "nbformat": 4,
 "nbformat_minor": 4
}
