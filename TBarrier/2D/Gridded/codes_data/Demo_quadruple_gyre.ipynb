{
 "cells": [
  {
   "cell_type": "code",
   "execution_count": 1,
   "metadata": {},
   "outputs": [],
   "source": [
    "import os, inspect\n",
    "import matplotlib.pyplot as plt\n",
    "import numpy as np\n",
    "currentdir = os.path.dirname(os.path.abspath(inspect.getfile(inspect.currentframe())))\n",
    "parentdir = os.path.dirname(os.path.dirname(os.path.dirname(os.path.dirname(currentdir))))"
   ]
  },
  {
   "cell_type": "code",
   "execution_count": 2,
   "metadata": {},
   "outputs": [
    {
     "name": "stdout",
     "output_type": "stream",
     "text": [
      "CPU times: user 21.2 ms, sys: 6.24 ms, total: 27.4 ms\n",
      "Wall time: 26.6 ms\n"
     ]
    }
   ],
   "source": [
    "%%time\n",
    "# Import velocity field\n",
    "import sys\n",
    "sys.path.append(parentdir+\"/code/2D/Gridded/General\")\n",
    "\n",
    "from os.path import dirname, join as pjoin\n",
    "import scipy.io as sio\n",
    "\n",
    "#Import velocity data from file in data-folder\n",
    "mat_file = sio.loadmat(parentdir + '/data/quadruple_gyre.mat')\n",
    "\n",
    "U = mat_file['u']\n",
    "V = mat_file['v']\n",
    "x = mat_file['x']\n",
    "y = mat_file['y']\n",
    "time = mat_file['t']"
   ]
  },
  {
   "cell_type": "code",
   "execution_count": 3,
   "metadata": {},
   "outputs": [],
   "source": [
    "X, Y = np.meshgrid(x, y)"
   ]
  },
  {
   "cell_type": "code",
   "execution_count": 4,
   "metadata": {},
   "outputs": [],
   "source": [
    "# Name of Dataset. {\"Ocean\", \"General\"}\n",
    "Type = \"General\"\n",
    "\n",
    "# Number of cores to be used for parallel computing\n",
    "Ncores = 16\n",
    "\n",
    "# Specify whether the flow is incompressible. {True, False}\n",
    "incompressible = True\n",
    "\n",
    "# Summarize list of parameters of the flow.\n",
    "params_data = Type, X, Y, time, U, V, Ncores, incompressible"
   ]
  },
  {
   "cell_type": "code",
   "execution_count": 5,
   "metadata": {},
   "outputs": [
    {
     "name": "stdout",
     "output_type": "stream",
     "text": [
      "CPU times: user 49.6 ms, sys: 10.5 ms, total: 60 ms\n",
      "Wall time: 59.9 ms\n"
     ]
    }
   ],
   "source": [
    "%%time\n",
    "sys.path.append(parentdir+\"/code/2D/Gridded\")\n",
    "from ipynb.fs.full.System import System\n",
    "DS = System()\n",
    "DS._init_data(params_data)"
   ]
  },
  {
   "cell_type": "code",
   "execution_count": 6,
   "metadata": {},
   "outputs": [],
   "source": [
    "DS._Interpolation_velocity()"
   ]
  },
  {
   "cell_type": "code",
   "execution_count": 7,
   "metadata": {},
   "outputs": [],
   "source": [
    "# %%time\n",
    "\n",
    "# Initial time (in days)\n",
    "t0 = 0\n",
    "\n",
    "# Final time (in days)\n",
    "tN = 10\n",
    "\n",
    "# time step-size\n",
    "dt = .01\n",
    "\n",
    "time = np.arange(t0, tN+dt, dt)\n",
    "\n",
    "# longitudinal and latitudinal boundaries (in degrees)\n",
    "xmin = 0\n",
    "xmax = 1\n",
    "ymin = -1\n",
    "ymax = 1\n",
    "\n",
    "# spacing of meshgrid (in degrees)\n",
    "dx = 0.005\n",
    "dy = 0.005\n",
    "\n",
    "x_grid = np.arange(xmin, xmax + dx, dx)\n",
    "y_grid = np.arange(ymin, ymax + dy, dy)\n",
    "\n",
    "periodic_boundary = False\n",
    "ratio_auxiliary_grid = 0.1\n",
    "\n",
    "params_ds = time, x_grid, y_grid, periodic_boundary, ratio_auxiliary_grid\n",
    "DS._init_ds(params_ds)"
   ]
  },
  {
   "cell_type": "code",
   "execution_count": 8,
   "metadata": {},
   "outputs": [
    {
     "name": "stdout",
     "output_type": "stream",
     "text": [
      "=================Trajectories over meshgrid=================\n"
     ]
    },
    {
     "data": {
      "application/vnd.jupyter.widget-view+json": {
       "model_id": "f2fb73acf2b04829974b0f1bed0178da",
       "version_major": 2,
       "version_minor": 0
      },
      "text/plain": [
       "  0%|          | 0/401 [00:00<?, ?it/s]"
      ]
     },
     "metadata": {},
     "output_type": "display_data"
    },
    {
     "name": "stderr",
     "output_type": "stream",
     "text": [
      "[Parallel(n_jobs=16)]: Using backend LokyBackend with 16 concurrent workers.\n",
      "[Parallel(n_jobs=16)]: Done  18 tasks      | elapsed:  1.0min\n",
      "[Parallel(n_jobs=16)]: Done 168 tasks      | elapsed:  5.8min\n",
      "[Parallel(n_jobs=16)]: Done 401 out of 401 | elapsed: 13.6min finished\n"
     ]
    },
    {
     "name": "stdout",
     "output_type": "stream",
     "text": [
      "=================TRA=================\n"
     ]
    },
    {
     "ename": "NameError",
     "evalue": "name 'k' is not defined",
     "output_type": "error",
     "traceback": [
      "\u001b[0;31m---------------------------------------------------------------------------\u001b[0m",
      "\u001b[0;31mNameError\u001b[0m                                 Traceback (most recent call last)",
      "\u001b[0;32m<ipython-input-8-2637ec5bbb1c>\u001b[0m in \u001b[0;36m<module>\u001b[0;34m\u001b[0m\n\u001b[0;32m----> 1\u001b[0;31m \u001b[0mTRA\u001b[0m \u001b[0;34m=\u001b[0m \u001b[0mDS\u001b[0m\u001b[0;34m.\u001b[0m\u001b[0m_TRA_\u001b[0m\u001b[0;34m(\u001b[0m\u001b[0;34m)\u001b[0m\u001b[0;34m\u001b[0m\u001b[0;34m\u001b[0m\u001b[0m\n\u001b[0m\u001b[1;32m      2\u001b[0m \u001b[0;34m\u001b[0m\u001b[0m\n\u001b[1;32m      3\u001b[0m \u001b[0mfig\u001b[0m \u001b[0;34m=\u001b[0m \u001b[0mplt\u001b[0m\u001b[0;34m.\u001b[0m\u001b[0mfigure\u001b[0m\u001b[0;34m(\u001b[0m\u001b[0mfigsize\u001b[0m \u001b[0;34m=\u001b[0m \u001b[0;34m(\u001b[0m\u001b[0;36m14\u001b[0m\u001b[0;34m,\u001b[0m \u001b[0;36m8\u001b[0m\u001b[0;34m)\u001b[0m\u001b[0;34m)\u001b[0m\u001b[0;34m\u001b[0m\u001b[0;34m\u001b[0m\u001b[0m\n\u001b[1;32m      4\u001b[0m \u001b[0max\u001b[0m \u001b[0;34m=\u001b[0m \u001b[0mplt\u001b[0m\u001b[0;34m.\u001b[0m\u001b[0maxes\u001b[0m\u001b[0;34m(\u001b[0m\u001b[0;34m)\u001b[0m\u001b[0;34m\u001b[0m\u001b[0;34m\u001b[0m\u001b[0m\n\u001b[1;32m      5\u001b[0m \u001b[0mcax\u001b[0m \u001b[0;34m=\u001b[0m \u001b[0max\u001b[0m\u001b[0;34m.\u001b[0m\u001b[0mcontourf\u001b[0m\u001b[0;34m(\u001b[0m\u001b[0mDS\u001b[0m\u001b[0;34m.\u001b[0m\u001b[0mX_domain\u001b[0m\u001b[0;34m,\u001b[0m \u001b[0mDS\u001b[0m\u001b[0;34m.\u001b[0m\u001b[0mY_domain\u001b[0m\u001b[0;34m,\u001b[0m \u001b[0mTRA\u001b[0m\u001b[0;34m,\u001b[0m \u001b[0mlevels\u001b[0m \u001b[0;34m=\u001b[0m \u001b[0;36m600\u001b[0m\u001b[0;34m)\u001b[0m\u001b[0;34m\u001b[0m\u001b[0;34m\u001b[0m\u001b[0m\n",
      "\u001b[0;32m~/OneDrive/Jupyter_LCS/code/2D/Gridded/LCS.ipynb\u001b[0m in \u001b[0;36m_TRA_\u001b[0;34m(self)\u001b[0m\n\u001b[1;32m    114\u001b[0m     \u001b[0;34m\"                    LVD[i, j] = np.abs(omega-spatially_averaged_vorticity)\\n\"\u001b[0m\u001b[0;34m,\u001b[0m\u001b[0;34m\u001b[0m\u001b[0;34m\u001b[0m\u001b[0m\n\u001b[1;32m    115\u001b[0m     \u001b[0;34m\"                    \\n\"\u001b[0m\u001b[0;34m,\u001b[0m\u001b[0;34m\u001b[0m\u001b[0;34m\u001b[0m\u001b[0m\n\u001b[0;32m--> 116\u001b[0;31m     \u001b[0;34m\"            return LVD\\n\"\u001b[0m\u001b[0;34m,\u001b[0m\u001b[0;34m\u001b[0m\u001b[0;34m\u001b[0m\u001b[0m\n\u001b[0m\u001b[1;32m    117\u001b[0m     \u001b[0;34m\"        \\n\"\u001b[0m\u001b[0;34m,\u001b[0m\u001b[0;34m\u001b[0m\u001b[0;34m\u001b[0m\u001b[0m\n\u001b[1;32m    118\u001b[0m     \u001b[0;34m\"        self.LVD = np.array(Parallel(n_jobs=self.Ncores, verbose = 1)(delayed(parallelization)(k, t) for k, t in tqdm(enumerate(self.time), total=len(self.time))))\\n\"\u001b[0m\u001b[0;34m,\u001b[0m\u001b[0;34m\u001b[0m\u001b[0;34m\u001b[0m\u001b[0m\n",
      "\u001b[0;31mNameError\u001b[0m: name 'k' is not defined"
     ]
    }
   ],
   "source": [
    "TRA = DS._TRA_()\n",
    "\n",
    "fig = plt.figure(figsize = (14, 8))\n",
    "ax = plt.axes()\n",
    "cax = ax.contourf(DS.X_domain, DS.Y_domain, TRA, levels = 600)\n",
    "plt.colorbar(cax)\n",
    "plt.show()"
   ]
  },
  {
   "cell_type": "code",
   "execution_count": null,
   "metadata": {},
   "outputs": [],
   "source": [
    "TRA_bar = DS._TRA_bar()\n",
    "\n",
    "fig = plt.figure(figsize = (14, 8))\n",
    "ax = plt.axes()\n",
    "cax = ax.contourf(DS.X_domain, DS.Y_domain, TRA_bar, levels = 600)\n",
    "plt.colorbar(cax)\n",
    "plt.show()"
   ]
  },
  {
   "cell_type": "code",
   "execution_count": null,
   "metadata": {},
   "outputs": [],
   "source": [
    "FTLE_max, FTLE_min = DS._FTLE_()\n",
    "\n",
    "fig = plt.figure(figsize = (14, 8))\n",
    "ax = plt.axes()\n",
    "cax = ax.contourf(DS.X_domain, DS.Y_domain, FTLE_max, levels = 600)\n",
    "plt.colorbar(cax)\n",
    "plt.show()"
   ]
  },
  {
   "cell_type": "code",
   "execution_count": null,
   "metadata": {},
   "outputs": [],
   "source": [
    "LAVD = DS._LAVD_()\n",
    "\n",
    "fig = plt.figure(figsize = (14, 8))\n",
    "ax = plt.axes()\n",
    "cax = ax.contourf(DS.X_domain, DS.Y_domain, LAVD, levels = 600)\n",
    "plt.colorbar(cax)\n",
    "plt.show()"
   ]
  }
 ],
 "metadata": {
  "kernelspec": {
   "display_name": "Python 3",
   "language": "python",
   "name": "python3"
  },
  "language_info": {
   "codemirror_mode": {
    "name": "ipython",
    "version": 3
   },
   "file_extension": ".py",
   "mimetype": "text/x-python",
   "name": "python",
   "nbconvert_exporter": "python",
   "pygments_lexer": "ipython3",
   "version": "3.7.11"
  },
  "toc": {
   "base_numbering": 1,
   "nav_menu": {},
   "number_sections": true,
   "sideBar": true,
   "skip_h1_title": false,
   "title_cell": "Table of Contents",
   "title_sidebar": "Contents",
   "toc_cell": false,
   "toc_position": {},
   "toc_section_display": true,
   "toc_window_display": false
  }
 },
 "nbformat": 4,
 "nbformat_minor": 4
}
