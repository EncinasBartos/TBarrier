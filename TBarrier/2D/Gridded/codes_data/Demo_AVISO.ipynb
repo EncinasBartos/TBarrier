{
 "cells": [
  {
   "cell_type": "markdown",
   "metadata": {
    "toc": true
   },
   "source": [
    "<h1>Table of Contents<span class=\"tocSkip\"></span></h1>\n",
    "<div class=\"toc\"><ul class=\"toc-item\"><li><span><a href=\"#Introduction-to-AVISO-data\" data-toc-modified-id=\"Introduction-to-AVISO-data-1\"><span class=\"toc-item-num\">1&nbsp;&nbsp;</span>Introduction to AVISO-data</a></span><ul class=\"toc-item\"><li><span><a href=\"#Import-AVISO-data\" data-toc-modified-id=\"Import-AVISO-data-1.1\"><span class=\"toc-item-num\">1.1&nbsp;&nbsp;</span>Import AVISO data</a></span></li><li><span><a href=\"#Convert-velocity-units-from-$-\\dfrac{meters}{second}-$-to-$-\\dfrac{degrees}{day}-$\" data-toc-modified-id=\"Convert-velocity-units-from-$-\\dfrac{meters}{second}-$-to-$-\\dfrac{degrees}{day}-$-1.2\"><span class=\"toc-item-num\">1.2&nbsp;&nbsp;</span>Convert velocity units from $ \\dfrac{meters}{second} $ to $ \\dfrac{degrees}{day} $</a></span></li></ul></li><li><span><a href=\"#Initialization-of-data-and-parameters\" data-toc-modified-id=\"Initialization-of-data-and-parameters-2\"><span class=\"toc-item-num\">2&nbsp;&nbsp;</span>Initialization of data and parameters</a></span><ul class=\"toc-item\"><li><span><a href=\"#Initialize-dynamical-system\" data-toc-modified-id=\"Initialize-dynamical-system-2.1\"><span class=\"toc-item-num\">2.1&nbsp;&nbsp;</span>Initialize dynamical system</a></span></li><li><span><a href=\"#Initialize-data\" data-toc-modified-id=\"Initialize-data-2.2\"><span class=\"toc-item-num\">2.2&nbsp;&nbsp;</span>Initialize data</a></span></li><li><span><a href=\"#Initialize-parameters-of-dynamical-system\" data-toc-modified-id=\"Initialize-parameters-of-dynamical-system-2.3\"><span class=\"toc-item-num\">2.3&nbsp;&nbsp;</span>Initialize parameters of dynamical system</a></span></li></ul></li><li><span><a href=\"#Preliminary-Computations\" data-toc-modified-id=\"Preliminary-Computations-3\"><span class=\"toc-item-num\">3&nbsp;&nbsp;</span>Preliminary Computations</a></span><ul class=\"toc-item\"><li><span><a href=\"#Interpolate-velocity-data\" data-toc-modified-id=\"Interpolate-velocity-data-3.1\"><span class=\"toc-item-num\">3.1&nbsp;&nbsp;</span>Interpolate velocity data</a></span></li><li><span><a href=\"#Launch-Trajectories-from-Grid\" data-toc-modified-id=\"Launch-Trajectories-from-Grid-3.2\"><span class=\"toc-item-num\">3.2&nbsp;&nbsp;</span>Launch Trajectories from Grid</a></span></li><li><span><a href=\"#Gradient-of-Flow-map\" data-toc-modified-id=\"Gradient-of-Flow-map-3.3\"><span class=\"toc-item-num\">3.3&nbsp;&nbsp;</span>Gradient of Flow map</a></span></li><li><span><a href=\"#Computation-of-Cauchy-Green-Strain-tensor\" data-toc-modified-id=\"Computation-of-Cauchy-Green-Strain-tensor-3.4\"><span class=\"toc-item-num\">3.4&nbsp;&nbsp;</span>Computation of Cauchy Green Strain tensor</a></span></li></ul></li><li><span><a href=\"#Hyperbolic-LCS\" data-toc-modified-id=\"Hyperbolic-LCS-4\"><span class=\"toc-item-num\">4&nbsp;&nbsp;</span>Hyperbolic LCS</a></span><ul class=\"toc-item\"><li><span><a href=\"#Objective-Diagnostic-Methods\" data-toc-modified-id=\"Objective-Diagnostic-Methods-4.1\"><span class=\"toc-item-num\">4.1&nbsp;&nbsp;</span>Objective Diagnostic Methods</a></span><ul class=\"toc-item\"><li><span><a href=\"#Finite-Time-Lyapunov-Exponent-$-(FTLE)-$-over-the-time-interval-$-[t_0,-t_1]-$-at-time-$-t_0-$.\" data-toc-modified-id=\"Finite-Time-Lyapunov-Exponent-$-(FTLE)-$-over-the-time-interval-$-[t_0,-t_1]-$-at-time-$-t_0-$.-4.1.1\"><span class=\"toc-item-num\">4.1.1&nbsp;&nbsp;</span>Finite Time Lyapunov Exponent $ (FTLE) $ over the time-interval $ [t_0, t_1] $ at time $ t_0 $.</a></span><ul class=\"toc-item\"><li><span><a href=\"#Compute-FTLE\" data-toc-modified-id=\"Compute-FTLE-4.1.1.1\"><span class=\"toc-item-num\">4.1.1.1&nbsp;&nbsp;</span>Compute FTLE</a></span></li><li><span><a href=\"#FTLE-Plot\" data-toc-modified-id=\"FTLE-Plot-4.1.1.2\"><span class=\"toc-item-num\">4.1.1.2&nbsp;&nbsp;</span>FTLE Plot</a></span></li><li><span><a href=\"#Extract-ridges-from-FTLE\" data-toc-modified-id=\"Extract-ridges-from-FTLE-4.1.1.3\"><span class=\"toc-item-num\">4.1.1.3&nbsp;&nbsp;</span>Extract ridges from FTLE</a></span></li></ul></li></ul></li><li><span><a href=\"#Repelling-LCS-at-time-$-t_0-$-from-forward-shrinklines-over-$-[t_0,-t_1]-$.\" data-toc-modified-id=\"Repelling-LCS-at-time-$-t_0-$-from-forward-shrinklines-over-$-[t_0,-t_1]-$.-4.2\"><span class=\"toc-item-num\">4.2&nbsp;&nbsp;</span>Repelling LCS at time $ t_0 $ from forward shrinklines over $ [t_0, t_1] $.</a></span></li><li><span><a href=\"#Attracting-LCS-at-time-$-t_0-$-from-forward-stretchlines-over-$-[t_0,-t_1]-$.\" data-toc-modified-id=\"Attracting-LCS-at-time-$-t_0-$-from-forward-stretchlines-over-$-[t_0,-t_1]-$.-4.3\"><span class=\"toc-item-num\">4.3&nbsp;&nbsp;</span>Attracting LCS at time $ t_0 $ from forward stretchlines over $ [t_0, t_1] $.</a></span></li><li><span><a href=\"#Attracting-LCS-at-time-$-t-\\in-[t_0,-t_1]-$-from-forward-stretchlines-computed-over-the-time-interval-$-[t_0,-t_1]-$.-(Karrasch-et-al.-(2015))\" data-toc-modified-id=\"Attracting-LCS-at-time-$-t-\\in-[t_0,-t_1]-$-from-forward-stretchlines-computed-over-the-time-interval-$-[t_0,-t_1]-$.-(Karrasch-et-al.-(2015))-4.4\"><span class=\"toc-item-num\">4.4&nbsp;&nbsp;</span>Attracting LCS at time $ t \\in [t_0, t_1] $ from forward stretchlines computed over the time-interval $ [t_0, t_1] $. (Karrasch et al. (2015))</a></span></li><li><span><a href=\"#Quasi-objective-Diagnostics\" data-toc-modified-id=\"Quasi-objective-Diagnostics-4.5\"><span class=\"toc-item-num\">4.5&nbsp;&nbsp;</span>Quasi-objective Diagnostics</a></span><ul class=\"toc-item\"><li><span><a href=\"#Trajectory-Stretching-Exponent-$-(TSE/\\overline{TSE})-$\" data-toc-modified-id=\"Trajectory-Stretching-Exponent-$-(TSE/\\overline{TSE})-$-4.5.1\"><span class=\"toc-item-num\">4.5.1&nbsp;&nbsp;</span>Trajectory Stretching Exponent $ (TSE/\\overline{TSE}) $</a></span></li></ul></li></ul></li><li><span><a href=\"#Extraction-of-Elliptic-LCS-from-AVISO\" data-toc-modified-id=\"Extraction-of-Elliptic-LCS-from-AVISO-5\"><span class=\"toc-item-num\">5&nbsp;&nbsp;</span>Extraction of Elliptic LCS from AVISO</a></span><ul class=\"toc-item\"><li><span><a href=\"#Lagrangian-Averaged-Vorticity-Deviation\" data-toc-modified-id=\"Lagrangian-Averaged-Vorticity-Deviation-5.1\"><span class=\"toc-item-num\">5.1&nbsp;&nbsp;</span>Lagrangian Averaged Vorticity Deviation</a></span></li></ul></li><li><span><a href=\"#Polar-Rotation-Angle\" data-toc-modified-id=\"Polar-Rotation-Angle-6\"><span class=\"toc-item-num\">6&nbsp;&nbsp;</span>Polar Rotation Angle</a></span></li></ul></div>"
   ]
  },
  {
   "cell_type": "markdown",
   "metadata": {
    "ExecuteTime": {
     "end_time": "2021-09-30T13:25:31.362819Z",
     "start_time": "2021-09-30T13:25:31.028168Z"
    }
   },
   "source": [
    "<center> <font size=\"15\">DEMO AVISO</font>"
   ]
  },
  {
   "cell_type": "markdown",
   "metadata": {},
   "source": [
    "# Introduction to AVISO-data"
   ]
  },
  {
   "cell_type": "markdown",
   "metadata": {
    "ExecuteTime": {
     "end_time": "2021-09-30T14:47:02.784872Z",
     "start_time": "2021-09-30T14:47:02.777217Z"
    },
    "hide_input": false
   },
   "source": [
    "The following demo illustrates how to extract elliptic and hyperbolic Lagrangian Coherent structures from the [AVISO data set](http://aviso.oceanobs.com) (a 2D satellite-altimetry-derived ocean surface current product). The data is freely available from the [Copernicus Marine Environment](https://marine.copernicus.eu).\n",
    "\n",
    "The sea surface height $ h $ acts as a stream function for the geostrophic ocean surface velocity field. Particle trajectories on the ocean surface are approximately trajectories of the 2D system of ODEs:\n",
    "\n",
    "\\begin{align}\n",
    "\\dot{\\varphi} &= -\\dfrac{g}{R^2f(\\theta)cos(\\theta)}\\partial_{\\theta}h(\\phi, \\theta, t) \\\\\n",
    "\\dot{\\theta} &= \\dfrac{g}{R^2f(\\theta)cos(\\theta)}\\partial_{\\varphi}h(\\phi, \\theta, t),\n",
    "\\end{align}\n",
    "\n",
    "where $ \\varphi, \\theta $ respectively are the longitudinal and latitudinal position of the particle, $ g $ is the constant of gravity, $ R $ is the mean radius, $ f(\\theta) = 2\\Omega \\sin(\\theta) $ is the coriolis parameter and $ \\Omega $ is the mean angular velocity of the earth.\n",
    "\n",
    "The AVISO-data provides global coverage of ocean currents at daily time-intervals with a spatial resolution of $ 0.25^{\\circ} $. As part of this work, we focus on two commonly studied oceanographic regions:\n",
    "\n",
    "1. Agulhas leakage in the Southern Ocean:\n",
    "\\begin{equation}\n",
    "(\\varphi, \\theta) \\in [14^{\\circ}W, 9^{\\circ}E] \\times [39^{\\circ}S, 21^{\\circ}S]\n",
    "\\end{equation} \n",
    "over a period of $ t_N - t_0 $ where $ t_0 = 24 $ Novembre 2006.\n",
    "2. Gulf of Mexico:\n",
    "\\begin{equation}\n",
    "(\\varphi, \\theta) \\in [100^{\\circ}W, 80^{\\circ}W] \\times [20^{\\circ}N, 30^{\\circ}N]\n",
    "\\end{equation} \n",
    "over a period of $ t_N - t_0 $ where $ t_0 = 20 $ January 2016.\n",
    "\n",
    "The length of the period $ t_N-t_0 $ depends on the specific application."
   ]
  },
  {
   "cell_type": "markdown",
   "metadata": {},
   "source": [
    "## Import AVISO data"
   ]
  },
  {
   "cell_type": "markdown",
   "metadata": {},
   "source": [
    "After succesfully downloading the AVISO dataset in the region and time interval of interest, the \".nc\" file is saved in the following [folder](http://localhost:8888/notebooks/TBarrier/2D/Gridded/codes_data/data/files). For a tutorial about how to import \".nc\"-files in python we refer to the following [link](#https://unidata.github.io/netcdf4-python/). The function **Import_AVISO** briefly highlights the steps involved when importing the AVISO dataset."
   ]
  },
  {
   "cell_type": "code",
   "execution_count": 1,
   "metadata": {
    "ExecuteTime": {
     "end_time": "2021-10-07T20:58:25.336173Z",
     "start_time": "2021-10-07T20:58:25.146421Z"
    }
   },
   "outputs": [
    {
     "name": "stderr",
     "output_type": "stream",
     "text": [
      "C:\\Users\\encin\\anaconda3\\envs\\TBarrier\\lib\\site-packages\\ipykernel_launcher.py:18: DeprecationWarning: tostring() is deprecated. Use tobytes() instead.\n",
      "C:\\Users\\encin\\anaconda3\\envs\\TBarrier\\lib\\site-packages\\ipykernel_launcher.py:20: DeprecationWarning: tostring() is deprecated. Use tobytes() instead.\n"
     ]
    }
   ],
   "source": [
    "from netCDF4 import Dataset, num2date\n",
    "from datetime import datetime\n",
    "import numpy as np\n",
    "\n",
    "def Import_AVISO(file):\n",
    "    \n",
    "    fileobj = Dataset(file, 'r')\n",
    "\n",
    "    # xlon: longitudinal coordinate (in degrees)\n",
    "    xlon = fileobj.variables['longitude'][:]\n",
    "    # ylat: latitudinal coordinate (in degrees)\n",
    "    ylat = fileobj.variables['latitude'][:]\n",
    "    # u: zonal velocity component (in m/s)\n",
    "    u = fileobj.variables['ugos'][:,:,:].transpose((1, 2, 0))\n",
    "    # v: meridional velocity component (in m/s)\n",
    "    v = fileobj.variables['vgos'][:,:,:].transpose((1, 2, 0))\n",
    "    nctime = fileobj.variables['time'][:]\n",
    "    t_unit = fileobj.variables['time'].units  # get unit  \"days since 1950-01-01T00:00:00Z\"\n",
    "\n",
    "    t_cal = fileobj.variables['time'].calendar\n",
    "\n",
    "    date_gregorian = [num2date(nctime[i], units=t_unit, calendar=t_cal) for i in range(len(nctime))]\n",
    "    # time (in days)\n",
    "    time = (np.array(nctime)) - nctime[0]\n",
    "            \n",
    "    return xlon, ylat, u, v, time\n",
    "\n",
    "#Import velocity data from file in data-folder\n",
    "x, y, u, v, time = Import_AVISO('./data/Files/AVISO_Agulhas.nc')\n",
    "\n",
    "# Compute meshgrid\n",
    "X, Y = np.meshgrid(x, y)"
   ]
  },
  {
   "cell_type": "markdown",
   "metadata": {},
   "source": [
    "## Convert velocity units from $ \\dfrac{meters}{second} $ to $ \\dfrac{degrees}{day} $\n",
    "\n",
    "As the ocean velocity is given in units of $ \\dfrac{meters}{second} $, but the spatial coordinates are given in $ \\dfrac{degrees}{day} $, we need to account for this missmatch in the units. Similarly "
   ]
  },
  {
   "cell_type": "code",
   "execution_count": 2,
   "metadata": {
    "ExecuteTime": {
     "end_time": "2021-10-07T20:58:44.647685Z",
     "start_time": "2021-10-07T20:58:25.337163Z"
    }
   },
   "outputs": [],
   "source": [
    "earthRadius = 6371*(10**3)\n",
    "        \n",
    "U, V = np.zeros(u.shape), np.zeros(v.shape)\n",
    "    \n",
    "for i in range(U.shape[0]):\n",
    "    \n",
    "    for j in range(V.shape[1]):\n",
    "    \n",
    "        for k in range(V.shape[2]):\n",
    "            \n",
    "            U[i, j, k] = (u[i, j, k] / (np.cos(y[i]*(np.pi/180))*(earthRadius)))*180*3600*24/np.pi\n",
    "            V[i, j, k] = (v[i, j, k] / earthRadius)*180*3600*24/np.pi"
   ]
  },
  {
   "cell_type": "markdown",
   "metadata": {},
   "source": [
    "# Initialization of data and parameters"
   ]
  },
  {
   "cell_type": "markdown",
   "metadata": {},
   "source": [
    "## Initialize dynamical system"
   ]
  },
  {
   "cell_type": "code",
   "execution_count": 3,
   "metadata": {
    "ExecuteTime": {
     "end_time": "2021-10-07T20:58:44.758453Z",
     "start_time": "2021-10-07T20:58:44.649557Z"
    },
    "hide_input": false
   },
   "outputs": [
    {
     "name": "stdout",
     "output_type": "stream",
     "text": [
      "Wall time: 104 ms\n"
     ]
    }
   ],
   "source": [
    "%%time\n",
    "# Import and initialize Dynamical system\n",
    "import sys\n",
    "sys.path.append(\"./classes\")\n",
    "from ipynb.fs.defs.Dynamical_System import *\n",
    "DS = Dynamical_System()"
   ]
  },
  {
   "cell_type": "markdown",
   "metadata": {},
   "source": [
    "## Initialize data"
   ]
  },
  {
   "cell_type": "code",
   "execution_count": 4,
   "metadata": {
    "ExecuteTime": {
     "end_time": "2021-10-07T20:58:44.790362Z",
     "start_time": "2021-10-07T20:58:44.762412Z"
    }
   },
   "outputs": [],
   "source": [
    "# Number of cores to be used for parallel computing\n",
    "Ncores = 5\n",
    "\n",
    "# Incompressible/Compressible flow. {True, False}\n",
    "Incompressible = True\n",
    "\n",
    "# Periodic boundary conditions\n",
    "periodic_x = False\n",
    "periodic_y = False\n",
    "Periodic = [periodic_x, periodic_y]\n",
    "\n",
    "# List of parameters of the flow.\n",
    "params_data = {\"X\": X, \"Y\": Y, \"Time\": time, \"U\": U, \"V\": V, \"Ncores\": Ncores, \n",
    "               \"Incompressible\": Incompressible, \"Periodic\": Periodic}\n",
    "\n",
    "# Initialize data\n",
    "DS._init_data(params_data)"
   ]
  },
  {
   "cell_type": "markdown",
   "metadata": {},
   "source": [
    "<a id='Initialize_parameters_of_dynamical_system'></a>\n",
    "## Initialize parameters of dynamical system"
   ]
  },
  {
   "cell_type": "code",
   "execution_count": 5,
   "metadata": {
    "ExecuteTime": {
     "end_time": "2021-10-07T20:58:44.805886Z",
     "start_time": "2021-10-07T20:58:44.791357Z"
    }
   },
   "outputs": [
    {
     "name": "stdout",
     "output_type": "stream",
     "text": [
      "Wall time: 0 ns\n"
     ]
    }
   ],
   "source": [
    "%%time\n",
    "# Initial time (in days)\n",
    "t0 = 0\n",
    "\n",
    "# Final time (in days)\n",
    "tN = 20\n",
    "\n",
    "# time step-size\n",
    "dt = .1\n",
    "\n",
    "time = np.arange(t0, tN+dt, dt)\n",
    "\n",
    "# longitudinal and latitudinal boundaries (in degrees)\n",
    "xmin = -3.0\n",
    "xmax = 0.0\n",
    "ymin = -33.0\n",
    "ymax = -30.0\n",
    "\n",
    "# spacing of meshgrid (in degrees)\n",
    "dx = 0.02\n",
    "dy = 0.02\n",
    "\n",
    "x_domain = np.arange(xmin, xmax + dx, dx)\n",
    "y_domain = np.arange(ymin, ymax + dy, dy)\n",
    "\n",
    "params_ds = {\"time\": time, \"x_domain\": x_domain, \"y_domain\": y_domain}\n",
    "DS._init_ds(params_ds)"
   ]
  },
  {
   "cell_type": "markdown",
   "metadata": {},
   "source": [
    "# Preliminary Computations"
   ]
  },
  {
   "cell_type": "markdown",
   "metadata": {},
   "source": [
    "## Interpolate velocity data"
   ]
  },
  {
   "cell_type": "code",
   "execution_count": 6,
   "metadata": {
    "ExecuteTime": {
     "end_time": "2021-10-07T20:58:45.244254Z",
     "start_time": "2021-10-07T20:58:44.806857Z"
    }
   },
   "outputs": [
    {
     "name": "stdout",
     "output_type": "stream",
     "text": [
      "Wall time: 424 ms\n"
     ]
    }
   ],
   "source": [
    "%%time\n",
    "DS._Interpolation_velocity(\"cubic\")"
   ]
  },
  {
   "cell_type": "markdown",
   "metadata": {},
   "source": [
    "## Launch Trajectories from Grid"
   ]
  },
  {
   "cell_type": "markdown",
   "metadata": {},
   "source": [
    "Launch trajectories from a grid of initial conditions given by **DS.X_domain, DS.Y_domain**"
   ]
  },
  {
   "cell_type": "code",
   "execution_count": 7,
   "metadata": {
    "ExecuteTime": {
     "end_time": "2021-10-07T21:10:32.387876Z",
     "start_time": "2021-10-07T20:58:45.248271Z"
    }
   },
   "outputs": [
    {
     "data": {
      "application/vnd.jupyter.widget-view+json": {
       "model_id": "1110655990b44d3f9d6ab6c0e1ea794e",
       "version_major": 2,
       "version_minor": 0
      },
      "text/plain": [
       "  0%|          | 0/151 [00:00<?, ?it/s]"
      ]
     },
     "metadata": {},
     "output_type": "display_data"
    },
    {
     "name": "stderr",
     "output_type": "stream",
     "text": [
      "[Parallel(n_jobs=5)]: Using backend LokyBackend with 5 concurrent workers.\n",
      "[Parallel(n_jobs=5)]: Done  40 tasks      | elapsed:  3.1min\n",
      "[Parallel(n_jobs=5)]: Done 151 out of 151 | elapsed: 11.8min finished\n"
     ]
    }
   ],
   "source": [
    "DS._trajectory_grid();"
   ]
  },
  {
   "cell_type": "markdown",
   "metadata": {},
   "source": [
    "## Gradient of Flow map"
   ]
  },
  {
   "cell_type": "code",
   "execution_count": null,
   "metadata": {
    "ExecuteTime": {
     "start_time": "2021-10-07T20:58:25.151Z"
    }
   },
   "outputs": [
    {
     "data": {
      "application/vnd.jupyter.widget-view+json": {
       "model_id": "f067043c6b92470882a3c1ca7885d3d3",
       "version_major": 2,
       "version_minor": 0
      },
      "text/plain": [
       "  0%|          | 0/151 [00:00<?, ?it/s]"
      ]
     },
     "metadata": {},
     "output_type": "display_data"
    }
   ],
   "source": [
    "DS._grad_Fmap_grid(aux_grid = True, adaptive = False, tol_max = 0.01, tol_min = 0.002);"
   ]
  },
  {
   "cell_type": "markdown",
   "metadata": {},
   "source": [
    "## Computation of Cauchy Green Strain tensor"
   ]
  },
  {
   "cell_type": "markdown",
   "metadata": {},
   "source": [
    "The left and Cauchy-Green strain tensors are computed for every gridpoint based on the gradient of the flow map $ \\nabla F_{t_0}^{t_1}(\\mathbf{x}_0) $."
   ]
  },
  {
   "cell_type": "code",
   "execution_count": null,
   "metadata": {
    "ExecuteTime": {
     "start_time": "2021-10-07T20:58:25.153Z"
    }
   },
   "outputs": [],
   "source": [
    "B, C = DS._cauchy_green_strain();"
   ]
  },
  {
   "cell_type": "markdown",
   "metadata": {},
   "source": [
    "The left/right Cauchy-Green strain tensors $ C_{t_0}^{t_1}(\\mathbf{x}_0)/B_{t_0}^{t_1}(\\mathbf{x}_0)$ are both attributes of the specified dynamical system. Their shape is thus given as"
   ]
  },
  {
   "cell_type": "code",
   "execution_count": null,
   "metadata": {
    "ExecuteTime": {
     "start_time": "2021-10-07T20:58:25.155Z"
    }
   },
   "outputs": [],
   "source": [
    "DS.B.shape"
   ]
  },
  {
   "cell_type": "markdown",
   "metadata": {},
   "source": [
    "# Hyperbolic LCS"
   ]
  },
  {
   "cell_type": "markdown",
   "metadata": {},
   "source": [
    "## Objective Diagnostic Methods"
   ]
  },
  {
   "cell_type": "markdown",
   "metadata": {},
   "source": [
    "### Finite Time Lyapunov Exponent $ (FTLE) $ over the time-interval $ [t_0, t_1] $ at time $ t_0 $.\n",
    "\n",
    "The Finite Time Lyapunov Exponent (FTLE) is computed from the eigenvalues $ \\lambda_i $ of the Cauchy-Green strain tensor $ C_{t_0}^{t_1}(\\mathbf{x}_0) $:\n",
    "\n",
    "\\begin{equation}\n",
    "FTLE = \\dfrac{1}{2(t_1-t_0)}\\log(\\lambda_i), \\quad i = 1, 2 \n",
    "\\end{equation}\n",
    "\n",
    "where $ \\lambda_i $ denotes the eigenvalue associated with the eigenvector $ \\mathbf{\\xi}_i(\\mathbf{x}_0; t_0, t_1) $ of $ C_{t_0}^{t_1}(\\mathbf{x}_0) $.\n",
    "The minimum FTLE is computed for $ i = 1 $ (weakest eigenvalue), whereas the maximum FTLE is computed by setting $ i = 2 $ (dominant eigenvalue). If the type (minimum/maximum) of the FTLE is not specified, then we always assume that we are dealing with the maximum FTLE."
   ]
  },
  {
   "cell_type": "markdown",
   "metadata": {},
   "source": [
    "#### Compute FTLE"
   ]
  },
  {
   "cell_type": "code",
   "execution_count": null,
   "metadata": {
    "ExecuteTime": {
     "start_time": "2021-10-07T20:58:25.157Z"
    },
    "scrolled": true
   },
   "outputs": [],
   "source": [
    "FTLE = DS._FTLE_()"
   ]
  },
  {
   "cell_type": "markdown",
   "metadata": {},
   "source": [
    "#### FTLE Plot"
   ]
  },
  {
   "cell_type": "code",
   "execution_count": null,
   "metadata": {
    "ExecuteTime": {
     "start_time": "2021-10-07T20:58:25.160Z"
    },
    "scrolled": false
   },
   "outputs": [],
   "source": [
    "%matplotlib notebook\n",
    "import matplotlib.pyplot as plt\n",
    "import matplotlib.animation as animation\n",
    "import matplotlib\n",
    "matplotlib.rcParams['animation.embed_limit'] = 2**128\n",
    "\n",
    "fig = plt.figure(figsize=(8, 4))\n",
    "ax = plt.axes()\n",
    "cax = ax.contourf(DS.X_domain, DS.Y_domain, FTLE[1], cmap = \"gist_gray\", levels = 600)\n",
    "ax.set_xlabel(\"long (°)\")\n",
    "ax.set_ylabel(\"lat (°)\")\n",
    "ax.set_xticks(np.arange(np.min(DS.X_domain), np.max(DS.X_domain)+1, 1))\n",
    "ax.set_yticks(np.arange(np.min(DS.Y_domain), np.max(DS.Y_domain), 1))\n",
    "cbar = fig.colorbar(cax, ticks = np.linspace(0, 2*10**(-2), 5))\n",
    "cbar.ax.set_ylabel(r'$(\\dfrac{1}{d})$', rotation = 0, labelpad = 10)\n",
    "plt.show()"
   ]
  },
  {
   "cell_type": "markdown",
   "metadata": {},
   "source": [
    "#### Extract ridges from FTLE"
   ]
  },
  {
   "cell_type": "code",
   "execution_count": null,
   "metadata": {
    "ExecuteTime": {
     "start_time": "2021-10-07T20:58:25.167Z"
    }
   },
   "outputs": [],
   "source": [
    "# Parameters of _find_ridges for G\n",
    "Field = FTLE[1]\n",
    "threshold = 0.005\n",
    "type = \"ridge\"\n",
    "method = \"gradient\"\n",
    "resolution = 1\n",
    "ds = .5\n",
    "n_iterations = 20\n",
    "\n",
    "x_ridges, y_ridges = DS._find_ridges(Field, threshold, type, method, resolution, ds, n_iterations)"
   ]
  },
  {
   "cell_type": "code",
   "execution_count": null,
   "metadata": {
    "ExecuteTime": {
     "start_time": "2021-10-07T20:58:25.170Z"
    }
   },
   "outputs": [],
   "source": [
    "print(x_ridges)\n",
    "plt.close()\n",
    "fig = plt.figure(figsize=(8, 4))\n",
    "ax = plt.axes()\n",
    "cax = ax.contourf(DS.X_domain, DS.Y_domain, FTLE[1], cmap = \"gist_gray\", levels = 600)\n",
    "ax.scatter(x_ridges, y_ridges, c = \"r\", label = \"gradient\", s = 4)\n",
    "ax.set_xlabel(\"long (°)\")\n",
    "ax.set_ylabel(\"lat (°)\")\n",
    "ax.set_xticks(np.arange(np.min(DS.X_domain), np.max(DS.X_domain)+1, 1))\n",
    "ax.set_yticks(np.arange(np.min(DS.Y_domain), np.max(DS.Y_domain), 1))\n",
    "cbar = fig.colorbar(cax, ticks = np.linspace(0, 2*10**(-2), 5))\n",
    "cbar.ax.set_ylabel(r'$(\\dfrac{1}{d})$', rotation = 0, labelpad = 10)\n",
    "plt.legend(loc = \"upper right\", fontsize = 10)\n",
    "plt.show()"
   ]
  },
  {
   "cell_type": "markdown",
   "metadata": {},
   "source": [
    "## Repelling LCS at time $ t_0 $ from forward shrinklines over $ [t_0, t_1] $."
   ]
  },
  {
   "cell_type": "markdown",
   "metadata": {},
   "source": [
    "According to [proposition 4 in Section 5.3.1] repelling LCS (=forward shrinklines) at time $ t_0 $ are everywhere normal to the (weakest) eigenvector $ \\mathbf{\\xi}_1(\\mathbf{x}_0; t_0, t_1) $ of $ C_{t_0}^{t_1}(\\mathbf{x}_0;t_0,t_1) $. They are thus solutions of the autonomous differential equation:\n",
    "\n",
    "\\begin{equation}\n",
    "\\mathbf{x'}(s) = \\mathbf{\\xi}_1(\\mathbf{x}_0; t_0, t_1),\n",
    "\\label{eq: repelling_LCS_xi_1}\n",
    "\\end{equation}\n",
    "\n",
    "with prime denoting differentation with respect to a parameter $ s $. Solutions to eq. The tensorlines which satisfy eq. \\ref{eq: repelling_LCS_xi_1} are referred to as (forward) shrinklines and indicate repelling LCS at time $ t_0 $. The eigenvector $ \\mathbf{\\xi}_1(\\mathbf{x}_0; t_0, t_1) $ is only defined away from tensorline singularities as at those points it holds $ \\lambda_1(\\mathbf{x}_0;t_0,t_1) = \\lambda_2(\\mathbf{x}_0;t_0,t_1) = 1 $. At such points the dominant and weakest eigenvaluse (and thereby also eigenvectors) of the cauchy green strain tensor $ C_{t_0}^{t_1}(\\mathbf{x}_0;t_0,t_1) $ can no longer be defined."
   ]
  },
  {
   "cell_type": "code",
   "execution_count": null,
   "metadata": {
    "ExecuteTime": {
     "start_time": "2021-10-07T20:58:25.173Z"
    }
   },
   "outputs": [],
   "source": [
    "# Input parameters\n",
    "\n",
    "## interval of parameter \"s\" used for integration\n",
    "s_array = np.linspace(0, 20, 300)\n",
    "## integration of tensorlines stop if normal attraction/repulsion is below (or above) this threshold\n",
    "lamda_threshold = 1\n",
    "## maximum distance between two local maxima\n",
    "max_distance = 8*dx\n",
    "## shrinklines/stretchlines\n",
    "tensorline = \"shrinklines\"\n",
    "## maximum tensorline length\n",
    "max_line_length = 2\n",
    "\n",
    "x_shrink, y_shrink, lambda_shrink, peak_x_shrink, peak_y_shrink = DS._hyperbolic_LCS_local_variational_theory(s_array, lamda_threshold, max_distance, tensorline, max_line_length)"
   ]
  },
  {
   "cell_type": "markdown",
   "metadata": {},
   "source": [
    "## Attracting LCS at time $ t_0 $ from forward stretchlines over $ [t_0, t_1] $.\n",
    "Forward stretch"
   ]
  },
  {
   "cell_type": "code",
   "execution_count": null,
   "metadata": {
    "ExecuteTime": {
     "start_time": "2021-10-07T20:58:25.175Z"
    }
   },
   "outputs": [],
   "source": [
    "# Input parameters\n",
    "\n",
    "## interval of parameter \"s\" used for integration\n",
    "s_array = np.linspace(0, 20, 300)\n",
    "## integration of tensorlines stop if normal attraction/repulsion is below (or above) this threshold\n",
    "lamda_threshold = 1\n",
    "## maximum distance between two local maxima\n",
    "max_distance = 8*dx\n",
    "## shrinklines/stretchlines\n",
    "tensorline = \"stretchlines\"\n",
    "## maximum tensorline length\n",
    "max_line_length = 2"
   ]
  },
  {
   "cell_type": "code",
   "execution_count": null,
   "metadata": {
    "ExecuteTime": {
     "start_time": "2021-10-07T20:58:25.178Z"
    }
   },
   "outputs": [],
   "source": [
    "x_stretch, y_stretch, lambda_stretch, peak_x_stretch, peak_y_stretch = DS._hyperbolic_LCS_local_variational_theory(s_array, lamda_threshold, max_distance, tensorline, max_line_length)"
   ]
  },
  {
   "cell_type": "markdown",
   "metadata": {},
   "source": [
    "## Attracting LCS at time $ t \\in [t_0, t_1] $ from forward stretchlines computed over the time-interval $ [t_0, t_1] $. (Karrasch et al. (2015)) "
   ]
  },
  {
   "cell_type": "code",
   "execution_count": null,
   "metadata": {
    "ExecuteTime": {
     "start_time": "2021-10-07T20:58:25.180Z"
    },
    "scrolled": false
   },
   "outputs": [],
   "source": [
    "plt.close()\n",
    "fig = plt.figure(figsize=(8, 4))\n",
    "ax = plt.axes()\n",
    "x_singularity, y_singularity = DS._singularity()\n",
    "ax.scatter(x_singularity, y_singularity)\n",
    "for i in range(len(x_shrink)):\n",
    "    ax.plot(x_shrink[i], y_shrink[i], linewidth = 2, c = \"k\")\n",
    "#    ax.scatter(peak_x, peak_y)\n",
    "for j in range(len(x_stretch)):\n",
    "    ax.plot(x_stretch[j], y_stretch[j], linewidth = 2, c = \"y\")\n",
    "#ax.plot(DS.X_domain, DS.Y_domain, FTLE[1])\n",
    "plt.show()"
   ]
  },
  {
   "cell_type": "markdown",
   "metadata": {},
   "source": [
    "## Quasi-objective Diagnostics"
   ]
  },
  {
   "cell_type": "markdown",
   "metadata": {},
   "source": [
    "### Trajectory Stretching Exponent $ (TSE/\\overline{TSE}) $"
   ]
  },
  {
   "cell_type": "markdown",
   "metadata": {},
   "source": [
    "# Extraction of Elliptic LCS from AVISO"
   ]
  },
  {
   "cell_type": "markdown",
   "metadata": {},
   "source": [
    "## Lagrangian Averaged Vorticity Deviation"
   ]
  },
  {
   "cell_type": "code",
   "execution_count": null,
   "metadata": {
    "ExecuteTime": {
     "start_time": "2021-10-07T20:58:25.182Z"
    }
   },
   "outputs": [],
   "source": [
    "LAVD = DS._LAVD()"
   ]
  },
  {
   "cell_type": "markdown",
   "metadata": {},
   "source": [
    "# Polar Rotation Angle"
   ]
  },
  {
   "cell_type": "code",
   "execution_count": null,
   "metadata": {
    "ExecuteTime": {
     "start_time": "2021-10-07T20:58:25.185Z"
    }
   },
   "outputs": [],
   "source": [
    "LAVD = DS._LAVD()"
   ]
  },
  {
   "cell_type": "code",
   "execution_count": null,
   "metadata": {
    "ExecuteTime": {
     "start_time": "2021-10-07T20:58:25.186Z"
    }
   },
   "outputs": [],
   "source": [
    "%matplotlib notebook\n",
    "import matplotlib.pyplot as plt\n",
    "import matplotlib.animation as animation\n",
    "import matplotlib\n",
    "matplotlib.rcParams['animation.embed_limit'] = 2**128\n",
    "from IPython.display import HTML\n",
    "\n",
    "c = FTLE[1].ravel()\n",
    "x = DS.trajectory_grid[:,:,0,0].ravel()\n",
    "y = DS.trajectory_grid[:,:,1,0].ravel()\n",
    "\n",
    "steps = np.arange(0, DS.lenT, 1)\n",
    "\n",
    "plt.ioff()\n",
    "# create figure and axes\n",
    "fig, ax = plt.subplots(1, figsize=(8, 4))\n",
    "scat = ax.scatter(x, y, c=c, s=6, cmap = r'gist_rainbow_r')\n",
    "ax.set_xlabel(r'long (°)')\n",
    "ax.set_ylabel(r'lat (°)')\n",
    "fig.colorbar(scat)\n",
    "\n",
    "def update_plot(i, X, Y, scat):\n",
    "    x_data = X[:,:,i].ravel()\n",
    "    y_data = Y[:,:,i].ravel()\n",
    "    ax.set_title(f'$FTLE_{{{int(DS.t0)}d}}^{{{int(DS.tN)}d}}(t = {{{np.around(DS.time[i], 2)}d}})$')\n",
    "    ax.set_xlim(np.nanmin(x_data), np.nanmax(x_data))\n",
    "    ax.set_ylim(np.nanmin(y_data), np.nanmax(y_data))\n",
    "    scat.set_offsets(np.column_stack([x_data, y_data]))\n",
    "    return scat,\n",
    "    \n",
    "# the FuncAnimation function iterates through our animate function using the steps array\n",
    "ani = animation.FuncAnimation(fig, update_plot, frames=steps,\n",
    "                                  fargs=(DS.trajectory_grid[:,:,0,:], DS.trajectory_grid[:,:,1,:], scat), \n",
    "                                  interval = 50, \n",
    "                                  blit = True)\n",
    "plt.close(fig)\n",
    "plt.ion()\n",
    "\n",
    "HTML(ani.to_jshtml())"
   ]
  }
 ],
 "metadata": {
  "kernelspec": {
   "display_name": "Python 3 (ipykernel)",
   "language": "python",
   "name": "python3"
  },
  "language_info": {
   "codemirror_mode": {
    "name": "ipython",
    "version": 3
   },
   "file_extension": ".py",
   "mimetype": "text/x-python",
   "name": "python",
   "nbconvert_exporter": "python",
   "pygments_lexer": "ipython3",
   "version": "3.7.11"
  },
  "toc": {
   "base_numbering": 1,
   "nav_menu": {},
   "number_sections": true,
   "sideBar": true,
   "skip_h1_title": false,
   "title_cell": "Table of Contents",
   "title_sidebar": "Contents",
   "toc_cell": true,
   "toc_position": {
    "height": "calc(100% - 180px)",
    "left": "10px",
    "top": "150px",
    "width": "321.2px"
   },
   "toc_section_display": true,
   "toc_window_display": true
  }
 },
 "nbformat": 4,
 "nbformat_minor": 4
}
