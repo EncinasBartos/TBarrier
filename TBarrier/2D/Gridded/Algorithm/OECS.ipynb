{
 "cells": [
  {
   "cell_type": "code",
   "execution_count": null,
   "metadata": {},
   "outputs": [],
   "source": [
    "#_OECS\n",
    "\n",
    "class OECS:\n",
    "    \n",
    "    def __init__(self):\n",
    "        pass"
   ]
  },
  {
   "cell_type": "markdown",
   "metadata": {},
   "source": [
    "# Instantaneous Finite Time Lyapunov Exponent (IFTLE)"
   ]
  },
  {
   "cell_type": "code",
   "execution_count": null,
   "metadata": {},
   "outputs": [],
   "source": [
    "    def IFTLE(self, time):\n",
    "        \n",
    "        self.iFTLE_plus = np.zeros((self.len_Y, self.len_X))*np.nan\n",
    "        self.iFTLE_minus = np.zeros((self.len_Y, self.len_X))*np.nan\n",
    "        \n",
    "        for i in range(self.len_Y):\n",
    "        \n",
    "            for j in range(self.len_X):\n",
    "                \n",
    "                x = np.array([self.X_domain[i, j], self.Y_domain[i, j]])\n",
    "                \n",
    "                S = self._spin_tensor(self, x, time)\n",
    "                \n",
    "                lambda_min, lambda_max, v_min, v_max = self._eigenvalues_and_eigenvectors(S[i, j, :, :])\n",
    "                    \n",
    "                self.iFTLE_plus[i, j] = 1/(2*(self.lenT))*np.log(lambda_max)\n",
    "                self.iFTLE_minus[i, j] = 1/(2*(self.lenT))*np.log(lambda_min)\n",
    "                        \n",
    "        return self.FTLE_min, self.FTLE_max"
   ]
  },
  {
   "cell_type": "markdown",
   "metadata": {},
   "source": [
    "# Instantaneous Vorticity Deviation (IVD)"
   ]
  },
  {
   "cell_type": "code",
   "execution_count": null,
   "metadata": {},
   "outputs": [],
   "source": [
    "    def IVD(self, time):\n",
    "        \n",
    "        self.IVD = np.zeros((self.len_Y, self.len_X))*np.nan\n",
    "        \n",
    "        self.omega_bar = self._vorticity(t)\n",
    "                \n",
    "        spatially_averaged_vorticity = np.nanmean(self.omega_bar.ravel())\n",
    "        \n",
    "        for i in range(self.len_Y):\n",
    "        \n",
    "            for j in range(self.len_X):\n",
    "                \n",
    "                x = np.array([self.X_domain[i, j], self.Y_domain[i, j]])\n",
    "                \n",
    "                if np.isfinite(x[0]) and np.isfinite(x[1]):\n",
    "                    \n",
    "                    W = self._vorticity_tensor(x, time)\n",
    "                    \n",
    "                    omega = W[0, 1]-W[1, 0]\n",
    "                \n",
    "                    self.IVD[i, j] = np.abs(omega-spatially_averaged_vorticity)\n",
    "                    \n",
    "                else:\n",
    "                        \n",
    "                    self.IVD[i, j] = np.nan"
   ]
  },
  {
   "cell_type": "code",
   "execution_count": null,
   "metadata": {},
   "outputs": [],
   "source": []
  }
 ],
 "metadata": {
  "kernelspec": {
   "display_name": "Python 3",
   "language": "python",
   "name": "python3"
  },
  "language_info": {
   "codemirror_mode": {
    "name": "ipython",
    "version": 3
   },
   "file_extension": ".py",
   "mimetype": "text/x-python",
   "name": "python",
   "nbconvert_exporter": "python",
   "pygments_lexer": "ipython3",
   "version": "3.7.11"
  },
  "toc": {
   "base_numbering": 1,
   "nav_menu": {},
   "number_sections": true,
   "sideBar": true,
   "skip_h1_title": false,
   "title_cell": "Table of Contents",
   "title_sidebar": "Contents",
   "toc_cell": false,
   "toc_position": {},
   "toc_section_display": true,
   "toc_window_display": false
  }
 },
 "nbformat": 4,
 "nbformat_minor": 4
}
