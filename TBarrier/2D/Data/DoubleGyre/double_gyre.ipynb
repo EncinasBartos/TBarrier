{
 "cells": [
  {
   "cell_type": "code",
   "execution_count": 1,
   "id": "12bdb7e1",
   "metadata": {
    "ExecuteTime": {
     "end_time": "2021-11-18T23:53:42.105571Z",
     "start_time": "2021-11-18T23:53:39.869551Z"
    }
   },
   "outputs": [],
   "source": [
    "import numpy as np\n",
    "import matplotlib.pyplot as plt\n",
    "\n",
    "def f(x, t, omega, epsilon):\n",
    "    \n",
    "    return a(t, omega, epsilon)*(x**2)+b(t, omega, epsilon)*x\n",
    "\n",
    "def a(t, omega, epsilon):\n",
    "    \n",
    "    return epsilon*np.sin(omega*t)\n",
    "\n",
    "def b(t, omega, epsilon):\n",
    "    \n",
    "    return 1 - 2*epsilon*np.sin(omega*t)\n",
    "\n",
    "def psi(params, x, y, t):\n",
    "    \n",
    "    A = params[0]\n",
    "    omega = params[1]\n",
    "    epsilon = params[2]\n",
    "\n",
    "    return A*np.sin(np.pi*f(x, t, omega, epsilon))*np.sin(np.pi*y)\n",
    "\n",
    "def double_gyre(params, x, y, t, dx, dy):\n",
    "    \n",
    "    X, Y, time = np.meshgrid(x, y, t)\n",
    "    \n",
    "    u = np.zeros(X.shape)\n",
    "    v = np.zeros(Y.shape)\n",
    "    \n",
    "    for i in range(X.shape[0]):\n",
    "        \n",
    "        for j in range(Y.shape[1]):\n",
    "            \n",
    "            for k in range(time.shape[2]):\n",
    "                \n",
    "                x_ = X[i, j, k]\n",
    "                y_ = Y[i, j, k]\n",
    "                t_ = time[i, j, k]\n",
    "                \n",
    "                u[i, j, k] = -(psi(params, x_, y_ + dy, t_)-psi(params, x_, y_- dy, t_))/(2*dy)\n",
    "                v[i, j, k] = (psi(params, x_ + dx, y_, t_)-psi(params, x_ - dx, y_, t_))/(2*dx)\n",
    "    \n",
    "    v[0,:, :] = 0\n",
    "    v[-1,:,:] = 0\n",
    "    u[:,0, :] = 0\n",
    "    u[:,-1,:] = 0\n",
    "    \n",
    "    return u, v"
   ]
  },
  {
   "cell_type": "code",
   "execution_count": 2,
   "id": "40999403",
   "metadata": {
    "ExecuteTime": {
     "end_time": "2021-11-18T23:53:43.507391Z",
     "start_time": "2021-11-18T23:53:42.107566Z"
    }
   },
   "outputs": [
    {
     "ename": "ZeroDivisionError",
     "evalue": "float division by zero",
     "output_type": "error",
     "traceback": [
      "\u001b[1;31m---------------------------------------------------------------------------\u001b[0m",
      "\u001b[1;31mZeroDivisionError\u001b[0m                         Traceback (most recent call last)",
      "\u001b[1;32m~\\AppData\\Local\\Temp/ipykernel_18188/821655720.py\u001b[0m in \u001b[0;36m<module>\u001b[1;34m\u001b[0m\n\u001b[0;32m      1\u001b[0m \u001b[0mt\u001b[0m \u001b[1;33m=\u001b[0m \u001b[0mnp\u001b[0m\u001b[1;33m.\u001b[0m\u001b[0marange\u001b[0m\u001b[1;33m(\u001b[0m\u001b[1;36m0\u001b[0m\u001b[1;33m,\u001b[0m \u001b[1;36m10\u001b[0m\u001b[1;33m+\u001b[0m\u001b[1;36m1.2\u001b[0m\u001b[1;33m,\u001b[0m \u001b[1;36m0.1\u001b[0m\u001b[1;33m)\u001b[0m\u001b[1;33m\u001b[0m\u001b[1;33m\u001b[0m\u001b[0m\n\u001b[0;32m      2\u001b[0m \u001b[0mx\u001b[0m \u001b[1;33m=\u001b[0m \u001b[0mnp\u001b[0m\u001b[1;33m.\u001b[0m\u001b[0marange\u001b[0m\u001b[1;33m(\u001b[0m\u001b[1;36m0\u001b[0m\u001b[1;33m,\u001b[0m \u001b[1;36m2\u001b[0m\u001b[1;33m+\u001b[0m\u001b[1;36m0.1\u001b[0m\u001b[1;33m,\u001b[0m \u001b[1;36m0.1\u001b[0m\u001b[1;33m)\u001b[0m\u001b[1;33m\u001b[0m\u001b[1;33m\u001b[0m\u001b[0m\n\u001b[1;32m----> 3\u001b[1;33m \u001b[0my\u001b[0m \u001b[1;33m=\u001b[0m \u001b[0mnp\u001b[0m\u001b[1;33m.\u001b[0m\u001b[0marange\u001b[0m\u001b[1;33m(\u001b[0m\u001b[1;36m0\u001b[0m\u001b[1;33m,\u001b[0m \u001b[1;36m1\u001b[0m\u001b[1;33m+\u001b[0m\u001b[1;36m0.1\u001b[0m\u001b[1;33m,\u001b[0m \u001b[1;36m0.\u001b[0m\u001b[1;33m)\u001b[0m\u001b[1;33m\u001b[0m\u001b[1;33m\u001b[0m\u001b[0m\n\u001b[0m\u001b[0;32m      4\u001b[0m \u001b[1;33m\u001b[0m\u001b[0m\n\u001b[0;32m      5\u001b[0m \u001b[0mA\u001b[0m \u001b[1;33m=\u001b[0m \u001b[1;36m.1\u001b[0m\u001b[1;33m\u001b[0m\u001b[1;33m\u001b[0m\u001b[0m\n",
      "\u001b[1;31mZeroDivisionError\u001b[0m: float division by zero"
     ]
    }
   ],
   "source": [
    "t = np.arange(0, 10+1.2, 0.1)\n",
    "x = np.arange(0, 2+0.1, 0.1)\n",
    "y = np.arange(0, 1+0.1, 0.)\n",
    "\n",
    "A = .1\n",
    "omega = np.pi/5\n",
    "epsilon = .1\n",
    "\n",
    "dx = 0.0001\n",
    "dy = 0.0001\n",
    "\n",
    "params = [A, omega, epsilon]\n",
    "\n",
    "u, v = double_gyre(params, x, y, t, dx, dy)\n",
    "\n",
    "boundary = False\n",
    "\n",
    "plt.quiver(x, y, u[:, :, 0], v[:, :, 0])\n",
    "plt.show()"
   ]
  },
  {
   "cell_type": "code",
   "execution_count": null,
   "id": "6ba85462",
   "metadata": {
    "ExecuteTime": {
     "end_time": "2021-11-18T23:53:43.508389Z",
     "start_time": "2021-11-18T23:53:43.508389Z"
    }
   },
   "outputs": [],
   "source": [
    "import scipy.io\n",
    "scipy.io.savemat('double_gyre.mat', {'u': u, 'v': v, 'x': x, 'y': y, 't': t})"
   ]
  }
 ],
 "metadata": {
  "kernelspec": {
   "display_name": "Python 3 (ipykernel)",
   "language": "python",
   "name": "python3"
  },
  "language_info": {
   "codemirror_mode": {
    "name": "ipython",
    "version": 3
   },
   "file_extension": ".py",
   "mimetype": "text/x-python",
   "name": "python",
   "nbconvert_exporter": "python",
   "pygments_lexer": "ipython3",
   "version": "3.7.11"
  },
  "toc": {
   "base_numbering": 1,
   "nav_menu": {},
   "number_sections": true,
   "sideBar": true,
   "skip_h1_title": false,
   "title_cell": "Table of Contents",
   "title_sidebar": "Contents",
   "toc_cell": false,
   "toc_position": {},
   "toc_section_display": true,
   "toc_window_display": false
  }
 },
 "nbformat": 4,
 "nbformat_minor": 5
}
