{
 "cells": [
  {
   "cell_type": "markdown",
   "metadata": {},
   "source": [
    "The Finite Time Lyapunov Exponent ($\\mathrm{FTLE}$) is computed from the eigenvalues $ \\lambda_i $ of the Cauchy-Green strain tensor $ C_{t_0}^{t_N}(\\mathbf{x}_0) $:\n",
    "\n",
    "\\begin{equation}\n",
    "\\mathrm{FTLE}_{t_0}^{t_N} = \\dfrac{1}{2(t_N-t_0)}\\log(\\lambda_i), \\quad i = 1, 2 \n",
    "\\end{equation}\n",
    "\n",
    "where $ \\lambda_i $ denotes the eigenvalue associated with the eigenvector $ \\mathbf{\\xi}_i(\\mathbf{x}_0; t_0, t_N) $ of $ C_{t_0}^{t_N}(\\mathbf{x}_0) $.\n",
    "The minimum $\\mathrm{FTLE}$ is computed for $ i = 1 $ (weakest eigenvalue), whereas the maximum $\\mathrm{FTLE}_{t_0}^{t_N}$ is computed by setting $ i = 2 $ (dominant eigenvalue). If the type (minimum/maximum) of the $\\mathrm{FTLE}_{t_0}^{t_N}$ is not specified, then we always assume that we are dealing with the maximum $\\mathrm{FTLE}_{t_0}^{t_N}$."
   ]
  },
  {
   "cell_type": "markdown",
   "metadata": {},
   "source": [
    "| Name | Type (Shape) | Description |\n",
    "| --- | --- | --- |\n",
    "| C | array (Ny, Nx, 2, 2) | $ C_{t_0}^{t_N} $ of trajectories launched from meshgrid of size (Ny, Nx)|\n",
    "| lenT | float | $ t_N-t_0 $ |\n",
    "| FTLE | array (Ny, Nx) | maximum $ \\mathrm{\\overline{FTLE}}_{t_0}^{t_N} $|"
   ]
  },
  {
   "cell_type": "code",
   "execution_count": 1,
   "metadata": {},
   "outputs": [],
   "source": [
    "import sys, os\n",
    "\n",
    "# get current directory\n",
    "path = os.getcwd()\n",
    "\n",
    "# get parent directory\n",
    "parent_directory = os.path.sep.join(path.split(os.path.sep)[:-2])\n",
    "\n",
    "# add Algorithm folder to current working path\n",
    "sys.path.append(parent_directory+\"/Src\")"
   ]
  },
  {
   "cell_type": "code",
   "execution_count": null,
   "metadata": {},
   "outputs": [],
   "source": [
    "# Import numpy\n",
    "import numpy as np\n",
    "\n",
    "# Import function which calculates eigenvalues/eigenvectors in 2D\n",
    "from ipynb.fs.defs.eigen import eigen_C"
   ]
  },
  {
   "cell_type": "code",
   "execution_count": 2,
   "metadata": {},
   "outputs": [],
   "source": [
    "def _FTLE(C, lenT):\n",
    "    \n",
    "    FTLE = C[:,:,0,0].copy()*np.nan\n",
    "        \n",
    "    for i in range(C.shape[0]):\n",
    "        \n",
    "        for j in range(C.shape[1]):\n",
    "                \n",
    "            lambda_max = eigen_C(C[i, j, :, :])[1]\n",
    "                    \n",
    "            FTLE[i, j] = 1/(2*lenT)*np.log(lambda_max)\n",
    "                        \n",
    "    return FTLE"
   ]
  }
 ],
 "metadata": {
  "kernelspec": {
   "display_name": "Python 3",
   "language": "python",
   "name": "python3"
  },
  "language_info": {
   "codemirror_mode": {
    "name": "ipython",
    "version": 3
   },
   "file_extension": ".py",
   "mimetype": "text/x-python",
   "name": "python",
   "nbconvert_exporter": "python",
   "pygments_lexer": "ipython3",
   "version": "3.7.11"
  },
  "toc": {
   "base_numbering": 1,
   "nav_menu": {},
   "number_sections": true,
   "sideBar": true,
   "skip_h1_title": false,
   "title_cell": "Table of Contents",
   "title_sidebar": "Contents",
   "toc_cell": false,
   "toc_position": {},
   "toc_section_display": true,
   "toc_window_display": false
  }
 },
 "nbformat": 4,
 "nbformat_minor": 4
}
