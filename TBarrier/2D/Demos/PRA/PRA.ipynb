{
 "cells": [
  {
   "cell_type": "markdown",
   "metadata": {},
   "source": [
    "The Polar Rotation Angle (PRA) is computed from the eigenvectors $ \\xi_i, \\eta_i $ (with i = 1, 2) of the Cauchy-Green strain tensor $ C_{t_0}^{t_N}(\\mathbf{x}_0) $:\n",
    "\n",
    "\\begin{equation}\n",
    "\\mathrm{PRA}_{t_0}^{t_N}(\\mathbf{x}_0) = \\langle \\xi_1(\\mathbf{x}_0;t_0, t_N), \\eta_1(\\mathbf{x}_0;t_0, t_N) \\rangle = \\langle \\xi_2(\\mathbf{x}_0;t_0, t_N), \\eta_2(\\mathbf{x}_0;t_0, t_N) \\rangle\n",
    "\\end{equation}\n",
    "\n",
    "As the maximum eigenvalue is less sensitive with respect to numerical errors, it is recommended to use the dominant eigenvectors $ \\xi_2, \\eta_2 $ in order to compute $ \\mathrm{PRA}_{t_0}^{t_N}(\\mathbf{x}_0) $."
   ]
  },
  {
   "cell_type": "markdown",
   "metadata": {
    "ExecuteTime": {
     "end_time": "2021-10-25T07:40:09.687566Z",
     "start_time": "2021-10-25T07:40:09.684107Z"
    }
   },
   "source": [
    "| Name | Type (Shape) | Description |\n",
    "| --- | --- | --- |\n",
    "| grad_Fmap_grid | array (Ny, Nx, 2, 2) | $ \\nabla \\mathrm{F}_{t_0}^{t_N} $ of trajectories launched from meshgrid of size (Ny, Nx)|\n",
    "| PRA | array (Ny, Nx) | $ \\mathrm{PRA}_{t_0}^{t_N} $|"
   ]
  },
  {
   "cell_type": "code",
   "execution_count": null,
   "metadata": {},
   "outputs": [],
   "source": [
    "import numpy as np\n",
    "\n",
    "def _PRA(grad_Fmap_grid):\n",
    "            \n",
    "    PRA = np.zeros((grad_Fmap_grid.shape[0], grad_Fmap_grid.shape[1]))*np.nan\n",
    "            \n",
    "    for i in range(PRA.shape[0]):\n",
    "        \n",
    "        for j in range(PRA.shape[1]):\n",
    "                \n",
    "            U, S, V = np.linalg.svd(grad_Fmap_grid[i, j, :, :])\n",
    "            \n",
    "            if U[1, 0]*V[1, 0]+U[1, 1]*V[1, 1] > 1 or U[1, 0]*V[1, 0]+U[1, 1]*V[1, 1] < -1:\n",
    "                \n",
    "                PRA[i, j] = 0\n",
    "                \n",
    "            else:\n",
    "                \n",
    "                PRA[i, j] = np.arccos(U[1, 0]*V[1, 0]+U[1, 1]*V[1, 1])\n",
    "        \n",
    "    return PRA"
   ]
  }
 ],
 "metadata": {
  "kernelspec": {
   "display_name": "Python 3 (ipykernel)",
   "language": "python",
   "name": "python3"
  },
  "language_info": {
   "codemirror_mode": {
    "name": "ipython",
    "version": 3
   },
   "file_extension": ".py",
   "mimetype": "text/x-python",
   "name": "python",
   "nbconvert_exporter": "python",
   "pygments_lexer": "ipython3",
   "version": "3.7.11"
  },
  "toc": {
   "base_numbering": 1,
   "nav_menu": {},
   "number_sections": true,
   "sideBar": true,
   "skip_h1_title": false,
   "title_cell": "Table of Contents",
   "title_sidebar": "Contents",
   "toc_cell": false,
   "toc_position": {},
   "toc_section_display": true,
   "toc_window_display": false
  }
 },
 "nbformat": 4,
 "nbformat_minor": 4
}
