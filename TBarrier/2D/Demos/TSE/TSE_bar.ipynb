{
 "cells": [
  {
   "cell_type": "markdown",
   "metadata": {},
   "source": [
    "The Trajectory Stretching Exponent without cancellations $ (\\mathrm{\\overline{TSE}}_{t_0}^{t_N}) $ is computed from the velocity along the trajectories launched from initial conditions distributed over a regular meshgrid of size (Ny, Nx). The time-interval $ [t_0, t_N] $ is discretized with a resolution of N."
   ]
  },
  {
   "cell_type": "markdown",
   "metadata": {},
   "source": [
    "\\begin{equation}\n",
    "\\mathrm{\\overline{TSE}}_{t_0}^{t_N} = \\dfrac{1}{t_N-t_0} \\sum_{i = 0}^{N-1} |\\log{\\dfrac{\\sqrt{|\\mathbf{\\dot{x}}(t_{i+1})|^2 +\\mathrm{v}_0^2}}{\\sqrt{|\\mathbf{\\dot{x}}(t_i)|^2 +\\mathrm{v}_0^2}}}|\n",
    "\\end{equation}"
   ]
  },
  {
   "cell_type": "markdown",
   "metadata": {},
   "source": [
    "| Name | Type (Shape) | Description |\n",
    "| --- | --- | --- |\n",
    "| lenT | float | $ t_N-t_0 $ |\n",
    "| v0 | float | $ \\mathrm{v}_0 $ |\n",
    "| velocity_grid | array (Ny, Nx, 2, N) | velocity along trajectories launched from <br /> meshgrid of size (Ny, Nx) over the <br /> discretized time-interval with resolution N|\n",
    "| TSE_bar | array (Ny, Nx) | $ \\mathrm{\\overline{TSE}}_{t_0}^{t_N} $ over meshgrid|"
   ]
  },
  {
   "cell_type": "code",
   "execution_count": 2,
   "metadata": {},
   "outputs": [],
   "source": [
    "import numpy as np\n",
    "\n",
    "def _TSE_bar(lenT, velocity_grid, v0 = 0):\n",
    "        \n",
    "    TSE_bar = np.zeros((velocity_grid.shape[0], velocity_grid.shape[1], velocity_grid.shape[3]-1))\n",
    "    \n",
    "    for k in range(velocity_grid.shape[3]-1):                   \n",
    "                       \n",
    "        for i in range(velocity_grid.shape[0]):\n",
    "            \n",
    "            for j in range(velocity_grid.shape[1]):\n",
    "                    \n",
    "                velx0 = velocity_grid[i, j, 0, k]\n",
    "                vely0 = velocity_grid[i, j, 1, k]\n",
    "                    \n",
    "                vel0 = np.sqrt(velx0**2+vely0**2+v0**2)\n",
    "                    \n",
    "                velx1 = velocity_grid[i, j, 0, k + 1]\n",
    "                vely1 = velocity_grid[i, j, 1, k + 1]\n",
    "            \n",
    "                vel1 = np.sqrt(velx1**2+vely1**2+v0**2)\n",
    "                \n",
    "                TSE_bar[i, j, k] = np.abs(np.log(vel1/vel0))            \n",
    "        \n",
    "    TSE_bar = np.nanmean(TSE_bar, axis = 2)/lenT\n",
    "        \n",
    "    return TSE_bar"
   ]
  }
 ],
 "metadata": {
  "kernelspec": {
   "display_name": "Python 3",
   "language": "python",
   "name": "python3"
  },
  "language_info": {
   "codemirror_mode": {
    "name": "ipython",
    "version": 3
   },
   "file_extension": ".py",
   "mimetype": "text/x-python",
   "name": "python",
   "nbconvert_exporter": "python",
   "pygments_lexer": "ipython3",
   "version": "3.7.11"
  },
  "toc": {
   "base_numbering": 1,
   "nav_menu": {},
   "number_sections": true,
   "sideBar": true,
   "skip_h1_title": false,
   "title_cell": "Table of Contents",
   "title_sidebar": "Contents",
   "toc_cell": false,
   "toc_position": {},
   "toc_section_display": true,
   "toc_window_display": false
  }
 },
 "nbformat": 4,
 "nbformat_minor": 4
}
