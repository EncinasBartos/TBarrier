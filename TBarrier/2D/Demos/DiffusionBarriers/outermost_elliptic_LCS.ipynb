{
 "cells": [
  {
   "cell_type": "markdown",
   "metadata": {},
   "source": [
    "| Name | Type (Shape) | Description |\n",
    "| --- | --- | --- |\n",
    "| closed_null_geodesics | list (N,) | list containing $ N $ closed null geodesics\n",
    "| vortex | list | list containing extracted vortices"
   ]
  },
  {
   "cell_type": "code",
   "execution_count": null,
   "metadata": {},
   "outputs": [],
   "source": [
    "# Import numpy\n",
    "import numpy as np\n",
    "\n",
    "# Import shapely library to create polygons and points\n",
    "from shapely.geometry import Polygon, Point\n",
    "\n",
    "# tqdm shows progress bar\n",
    "from tqdm.notebook import tqdm"
   ]
  },
  {
   "cell_type": "code",
   "execution_count": 2,
   "metadata": {
    "ExecuteTime": {
     "end_time": "2021-11-16T09:22:28.800163Z",
     "start_time": "2021-11-16T09:22:28.789204Z"
    }
   },
   "outputs": [],
   "source": [
    "def _outermost_elliptic_LCS(closed_null_geodesics):\n",
    "    \n",
    "    Area = []\n",
    "    Poly = []\n",
    "    \n",
    "    for geodesics in closed_null_geodesics:\n",
    "        \n",
    "        if np.sum(geodesics[0]) is not None:\n",
    "            \n",
    "            x = geodesics[0]\n",
    "            y = geodesics[1]         \n",
    "        \n",
    "            # compute Polygon object from boundary of closed null geodesics\n",
    "            Poly.append(Polygon(zip(x, y)))\n",
    "            \n",
    "            # compute area of closed null geodesics\n",
    "            Area.append(Poly[-1].area)\n",
    "\n",
    "    # if no vortex is found then return 'nan'\n",
    "    if len(Area) == 0:\n",
    "        return False\n",
    "            \n",
    "    # sort geodesic curves from lowest area to highest area:\n",
    "    Area_sorted, closed_null_geodesics_sorted = zip(*sorted(zip(Area, closed_null_geodesics)))\n",
    "    _, Poly_sorted = zip(*sorted(zip(Area, Poly)))\n",
    "    \n",
    "    closed_elliptic_LCS = []\n",
    "    \n",
    "    for idx, Poly_geodesics in tqdm(enumerate(Poly_sorted), total = len(Poly_sorted)):\n",
    "        \n",
    "        coords = np.array(Poly_sorted[idx].exterior.coords)\n",
    "        \n",
    "        x = coords[:, 0]\n",
    "        y = coords[:, 1]\n",
    "        \n",
    "        # compute centroid of polygon\n",
    "        x_c = np.mean(x)\n",
    "        y_c = np.mean(y)\n",
    "        \n",
    "        # If first closed elliptic Coherent Structure, then set the center as a reference\n",
    "        if idx == 0:\n",
    "            \n",
    "            closed_elliptic_LCS.append([x_c, y_c, Poly_geodesics])\n",
    "        \n",
    "        # Set boolean to create new vortex\n",
    "        Bool_create_new_closed_elliptic_LCS = True\n",
    "        \n",
    "        # iterate over all elliptic LCS\n",
    "        for v in range(len(closed_elliptic_LCS)):\n",
    "        \n",
    "            # If vortex center is contained inside the closed null geodesics --> Bool_create_new_vortex = False\n",
    "            # --> no new vortex is create\n",
    "            if Poly_geodesics.contains(Point(closed_elliptic_LCS[v][0], closed_elliptic_LCS[v][1])):\n",
    "                \n",
    "                closed_elliptic_LCS[v] = [x_c, y_c, Poly_geodesics]\n",
    "                \n",
    "                Bool_create_new_closed_elliptic_LCS = False\n",
    "                \n",
    "        # If vortex center is not contained inside the closed null geodesics, then a new vortex is create    \n",
    "        if Bool_create_new_closed_elliptic_LCS:\n",
    "            \n",
    "            closed_elliptic_LCS.append([x_c, y_c, Poly_geodesics])        \n",
    "    \n",
    "    # Create list storing outermost elliptic LCS\n",
    "    outermost_closed_elliptic_LCS = []\n",
    "    \n",
    "    # Iteratere over all closed outermost elliptic LCS and append them to 'outermost_closed_elliptic_LCS'\n",
    "    for v in closed_elliptic_LCS:\n",
    "        \n",
    "        coords = np.array(v[2].exterior.coords)\n",
    "        \n",
    "        x = coords[:, 0]\n",
    "        y = coords[:, 1]\n",
    "        \n",
    "        outermost_closed_elliptic_LCS.append([x, y])\n",
    "        \n",
    "    return outermost_closed_elliptic_LCS"
   ]
  }
 ],
 "metadata": {
  "kernelspec": {
   "display_name": "Python 3",
   "language": "python",
   "name": "python3"
  },
  "language_info": {
   "codemirror_mode": {
    "name": "ipython",
    "version": 3
   },
   "file_extension": ".py",
   "mimetype": "text/x-python",
   "name": "python",
   "nbconvert_exporter": "python",
   "pygments_lexer": "ipython3",
   "version": "3.7.11"
  },
  "toc": {
   "base_numbering": 1,
   "nav_menu": {},
   "number_sections": true,
   "sideBar": true,
   "skip_h1_title": false,
   "title_cell": "Table of Contents",
   "title_sidebar": "Contents",
   "toc_cell": false,
   "toc_position": {},
   "toc_section_display": true,
   "toc_window_display": false
  }
 },
 "nbformat": 4,
 "nbformat_minor": 4
}
