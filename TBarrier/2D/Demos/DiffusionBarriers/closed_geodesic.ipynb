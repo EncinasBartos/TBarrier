{
 "cells": [
  {
   "cell_type": "code",
   "execution_count": 1,
   "metadata": {
    "ExecuteTime": {
     "end_time": "2021-11-15T18:34:08.059793Z",
     "start_time": "2021-11-15T18:34:07.813131Z"
    }
   },
   "outputs": [],
   "source": [
    "import numpy as np\n",
    "from numba import njit\n",
    "from math import pi, sqrt\n",
    "\n",
    "def _check_closed(x, y, phi, d_threshold):\n",
    "    \n",
    "    x0, y0, = x[0], y[0]\n",
    "    \n",
    "    for i in range(len(x)):\n",
    "        \n",
    "        # L2-distance with respect to initial condition (x0, y0, phi0)\n",
    "        distance = sqrt((x[i]-x0)**2+(y[i]-y0)**2)\n",
    "        \n",
    "        # Vortex boundary must be closed curve\n",
    "        # phi must complete a full cycle over [0, 2pi]\n",
    "        # discard trajectory segments that have not completed a full cycle\n",
    "        if 2*pi-.05 < np.max(np.abs(phi[:i+1])) < 2*2*pi and np.abs(phi[i]%(2*pi)) < .01 and distance < d_threshold:\n",
    "            return x[:i+1], y[:i+1], phi[:i+1]\n",
    "        \n",
    "    return np.nan, np.nan, np.nan"
   ]
  }
 ],
 "metadata": {
  "kernelspec": {
   "display_name": "Python 3",
   "language": "python",
   "name": "python3"
  },
  "language_info": {
   "codemirror_mode": {
    "name": "ipython",
    "version": 3
   },
   "file_extension": ".py",
   "mimetype": "text/x-python",
   "name": "python",
   "nbconvert_exporter": "python",
   "pygments_lexer": "ipython3",
   "version": "3.7.11"
  },
  "toc": {
   "base_numbering": 1,
   "nav_menu": {},
   "number_sections": true,
   "sideBar": true,
   "skip_h1_title": false,
   "title_cell": "Table of Contents",
   "title_sidebar": "Contents",
   "toc_cell": false,
   "toc_position": {},
   "toc_section_display": true,
   "toc_window_display": false
  }
 },
 "nbformat": 4,
 "nbformat_minor": 4
}
