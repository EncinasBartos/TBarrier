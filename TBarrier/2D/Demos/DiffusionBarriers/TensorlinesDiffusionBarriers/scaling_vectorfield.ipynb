{
 "cells": [
  {
   "cell_type": "code",
   "execution_count": null,
   "metadata": {},
   "outputs": [],
   "source": [
    "# Import numpy\n",
    "import numpy as np\n",
    "\n",
    "# Import function which re-orients the vector field\n",
    "from ipynb.fs.defs.orient_vectorfield import _orient_vectorfield"
   ]
  },
  {
   "cell_type": "code",
   "execution_count": null,
   "metadata": {},
   "outputs": [],
   "source": [
    "def _scaling_vectorfield(X, Y, x, x_prime, vector_field):\n",
    "    \n",
    "    vx, vy = _orient_vectorfield(X, Y, x, vector_field)\n",
    "        \n",
    "    if vx is not None:\n",
    "            \n",
    "        scaling = np.sign(vx*x_prime[0]+vy*x_prime[1])\n",
    "            \n",
    "        return scaling*np.array([vx, vy])\n",
    "        \n",
    "    else:\n",
    "        return None"
   ]
  }
 ],
 "metadata": {
  "kernelspec": {
   "display_name": "Python 3 (ipykernel)",
   "language": "python",
   "name": "python3"
  },
  "language_info": {
   "codemirror_mode": {
    "name": "ipython",
    "version": 3
   },
   "file_extension": ".py",
   "mimetype": "text/x-python",
   "name": "python",
   "nbconvert_exporter": "python",
   "pygments_lexer": "ipython3",
   "version": "3.7.11"
  },
  "toc": {
   "base_numbering": 1,
   "nav_menu": {},
   "number_sections": true,
   "sideBar": true,
   "skip_h1_title": false,
   "title_cell": "Table of Contents",
   "title_sidebar": "Contents",
   "toc_cell": false,
   "toc_position": {},
   "toc_section_display": true,
   "toc_window_display": false
  }
 },
 "nbformat": 4,
 "nbformat_minor": 4
}
