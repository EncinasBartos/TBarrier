{
 "cells": [
  {
   "cell_type": "code",
   "execution_count": 2,
   "metadata": {
    "ExecuteTime": {
     "end_time": "2021-11-18T09:58:50.408990Z",
     "start_time": "2021-11-18T09:58:49.962514Z"
    },
    "hide_input": false
   },
   "outputs": [],
   "source": [
    "# Import numpy\n",
    "import numpy as np\n",
    "\n",
    "# Import math symbols\n",
    "from math import sqrt, pi\n",
    "\n",
    "# Import numba (used for high performance scientific computing)\n",
    "from numba import jit"
   ]
  },
  {
   "cell_type": "code",
   "execution_count": 3,
   "metadata": {
    "ExecuteTime": {
     "end_time": "2021-11-18T09:58:50.415875Z",
     "start_time": "2021-11-18T09:58:50.411154Z"
    }
   },
   "outputs": [],
   "source": [
    "@jit()\n",
    "# Check if curve is closed after completing one full cycle\n",
    "def _closed_curve(x, y, phi, y0, d_threshold):\n",
    "    \n",
    "    # Discard trajectories whose maximum value was not close to 2*pi\n",
    "    if max(np.abs(phi)) < 0.95*2*pi or max(np.abs(phi))>2*2*pi:\n",
    "        return None, None, None\n",
    "    \n",
    "    max_phi = 0\n",
    "    \n",
    "    for i in range(x.shape[0]):\n",
    "        \n",
    "        if abs(phi[i]) > max_phi:\n",
    "            max_phi = abs(phi[i])\n",
    "        \n",
    "        # L2-distance with respect to initial condition y0\n",
    "        distance = sqrt((x[i]-y0[0])**2+(y[i]-y0[1])**2)\n",
    "        \n",
    "        # Vortex boundary must be closed curve\n",
    "        # phi must complete a full cycle over [0, 2pi]\n",
    "        # discard trajectory segments that have not completed a full cycle\n",
    "        if 2*pi-.05 < max_phi < 2*2*pi and abs(2*pi-abs(phi[i])) < .0025 and distance < d_threshold:\n",
    "            return x[:i+1], y[:i+1], phi[:i+1]\n",
    "        \n",
    "        elif max_phi > 2*2*pi:\n",
    "            break\n",
    "        \n",
    "    return None, None, None"
   ]
  }
 ],
 "metadata": {
  "kernelspec": {
   "display_name": "Python 3",
   "language": "python",
   "name": "python3"
  },
  "language_info": {
   "codemirror_mode": {
    "name": "ipython",
    "version": 3
   },
   "file_extension": ".py",
   "mimetype": "text/x-python",
   "name": "python",
   "nbconvert_exporter": "python",
   "pygments_lexer": "ipython3",
   "version": "3.7.11"
  },
  "toc": {
   "base_numbering": 1,
   "nav_menu": {},
   "number_sections": true,
   "sideBar": true,
   "skip_h1_title": false,
   "title_cell": "Table of Contents",
   "title_sidebar": "Contents",
   "toc_cell": false,
   "toc_position": {},
   "toc_section_display": true,
   "toc_window_display": false
  }
 },
 "nbformat": 4,
 "nbformat_minor": 4
}
