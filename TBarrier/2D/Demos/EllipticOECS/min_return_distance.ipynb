{
 "cells": [
  {
   "cell_type": "markdown",
   "metadata": {},
   "source": [
    "| Name | Type (Shape) | Description |\n",
    "| --- | --- | --- |\n",
    "| closed_null_geodesics | list (N,) | list containing $ N $ closed null geodesics\n",
    "| vortex | list | list containing extracted vortices"
   ]
  },
  {
   "cell_type": "code",
   "execution_count": null,
   "metadata": {},
   "outputs": [],
   "source": [
    "# Import numpy\n",
    "import numpy as np\n",
    "\n",
    "# Import shapely library to create polygons and points\n",
    "from shapely.geometry import Polygon, Point"
   ]
  },
  {
   "cell_type": "code",
   "execution_count": 2,
   "metadata": {
    "ExecuteTime": {
     "end_time": "2021-11-16T09:22:28.800163Z",
     "start_time": "2021-11-16T09:22:28.789204Z"
    }
   },
   "outputs": [],
   "source": [
    "def _min_return_distance(closed_null_geodesics):\n",
    "    \n",
    "    Area = []\n",
    "    Poly = []\n",
    "    \n",
    "    x_elliptic, y_elliptic = None, None\n",
    "    return_distance = 100000000000\n",
    "    \n",
    "    elliptic_structures = []\n",
    "    \n",
    "    for geodesics in closed_null_geodesics:\n",
    "        \n",
    "        if np.sum(geodesics[0]) is not None:\n",
    "            \n",
    "            x = geodesics[0]\n",
    "            y = geodesics[1]\n",
    "            \n",
    "            dist = (x[-1]-x[0])**2 + (y[-1]-y[0])**2)\n",
    "            \n",
    "            if dist < return_distance:\n",
    "                x_elliptic = x\n",
    "                y_elliptic = y\n",
    "                return_distance = dist\n",
    "    \n",
    "    return x_elliptic, y_elliptic"
   ]
  }
 ],
 "metadata": {
  "kernelspec": {
   "display_name": "Python 3",
   "language": "python",
   "name": "python3"
  },
  "language_info": {
   "codemirror_mode": {
    "name": "ipython",
    "version": 3
   },
   "file_extension": ".py",
   "mimetype": "text/x-python",
   "name": "python",
   "nbconvert_exporter": "python",
   "pygments_lexer": "ipython3",
   "version": "3.7.11"
  },
  "toc": {
   "base_numbering": 1,
   "nav_menu": {},
   "number_sections": true,
   "sideBar": true,
   "skip_h1_title": false,
   "title_cell": "Table of Contents",
   "title_sidebar": "Contents",
   "toc_cell": false,
   "toc_position": {},
   "toc_section_display": true,
   "toc_window_display": false
  }
 },
 "nbformat": 4,
 "nbformat_minor": 4
}
