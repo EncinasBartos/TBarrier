{
 "cells": [
  {
   "cell_type": "markdown",
   "metadata": {},
   "source": [
    "# Add Folders to Path"
   ]
  },
  {
   "cell_type": "code",
   "execution_count": 1,
   "metadata": {
    "ExecuteTime": {
     "end_time": "2021-11-18T20:13:20.310585Z",
     "start_time": "2021-11-18T20:13:20.306445Z"
    }
   },
   "outputs": [
    {
     "name": "stdout",
     "output_type": "stream",
     "text": [
      "CPU times: user 126 µs, sys: 103 µs, total: 229 µs\n",
      "Wall time: 164 µs\n"
     ]
    }
   ],
   "source": [
    "%%time\n",
    "import sys, os\n",
    "\n",
    "# get current directory\n",
    "path = os.getcwd()\n",
    "\n",
    "# get parent directory\n",
    "parent_directory = os.path.sep.join(path.split(os.path.sep)[:-2])\n",
    "\n",
    "# add Algorithm folder to current working path in order to access the functions\n",
    "sys.path.append(parent_directory+\"/Src\")"
   ]
  },
  {
   "cell_type": "code",
   "execution_count": 2,
   "metadata": {
    "ExecuteTime": {
     "end_time": "2021-11-18T20:13:20.799327Z",
     "start_time": "2021-11-18T20:13:20.312399Z"
    }
   },
   "outputs": [],
   "source": [
    "# Suppress numba warnings arising from computation falling back into object mode.\n",
    "from numba.core.errors import NumbaDeprecationWarning\n",
    "import warnings\n",
    "\n",
    "warnings.simplefilter('ignore', category=NumbaDeprecationWarning)"
   ]
  },
  {
   "cell_type": "markdown",
   "metadata": {},
   "source": [
    "In the following demo we extract elliptic LCS in the Agulhas region from the AVISO dataset. The notebook is structured as follows:\n",
    "\n",
    "* Import data from the file 'Agulhas_AVISO.mat' stored in the folder 'Data'\n",
    "* Define computational parameters (such as the number of cores) and variables\n",
    "* Define spatio-temporal domain over which to compute the elliptic LCS. The spatial domain (in degrees) defines the meshgrid from where to launch the trajectories and the temporal domain specifies the time-interval (in days).\n",
    "* Interpolate velocity from the gridded data using a cubic spline interpolation\n",
    "* Compute Cauchy Green strain tensor over meshgrid of initial conditions over the specified time-interval\n",
    "* Compute Cauchy Green strain tensor over meshgrid of initial conditions over the specified time-interval\n",
    "* Compute repelling LCS (shrinklines) at initial time\n",
    "* Compute attracting LCS (stretchlines) at initial time"
   ]
  },
  {
   "cell_type": "markdown",
   "metadata": {},
   "source": [
    "# Import Data"
   ]
  },
  {
   "cell_type": "code",
   "execution_count": 3,
   "metadata": {
    "ExecuteTime": {
     "end_time": "2021-11-18T20:13:20.834624Z",
     "start_time": "2021-11-18T20:13:20.801576Z"
    }
   },
   "outputs": [
    {
     "name": "stdout",
     "output_type": "stream",
     "text": [
      "CPU times: user 19.1 ms, sys: 13.1 ms, total: 32.2 ms\n",
      "Wall time: 31.1 ms\n"
     ]
    }
   ],
   "source": [
    "%%time\n",
    "import scipy.io as sio\n",
    "\n",
    "#Import velocity data from file in data-folder\n",
    "mat_file = sio.loadmat('../../Data/Agulhas_AVISO.mat')\n",
    "\n",
    "U = mat_file['u']\n",
    "V = mat_file['v']\n",
    "x = mat_file['x']\n",
    "y = mat_file['y']\n",
    "time = mat_file['t']\n",
    "\n",
    "#mat_file = sio.loadmat('../../Data/ocean_velocity_example_diffusive.mat')\n",
    "\n",
    "#U = mat_file['vx'].transpose()\n",
    "#V = mat_file['vy'].transpose()\n",
    "#x = mat_file['xc'].transpose()\n",
    "#y = mat_file['yc'].transpose()\n",
    "#time = mat_file['time'].transpose()"
   ]
  },
  {
   "cell_type": "markdown",
   "metadata": {},
   "source": [
    "# Data/Parameters for Dynamical System"
   ]
  },
  {
   "cell_type": "code",
   "execution_count": 4,
   "metadata": {
    "ExecuteTime": {
     "end_time": "2021-11-18T20:13:20.840376Z",
     "start_time": "2021-11-18T20:13:20.836841Z"
    }
   },
   "outputs": [],
   "source": [
    "import numpy as np\n",
    "\n",
    "# number of cores to be used for parallel computing\n",
    "Ncores = 50\n",
    "\n",
    "# periodic boundary conditions\n",
    "periodic_x = False\n",
    "periodic_y = False\n",
    "Periodic = [periodic_x, periodic_y]\n",
    "\n",
    "## compute meshgrid of dataset\n",
    "X, Y = np.meshgrid(x, y)\n",
    "\n",
    "# list of parameters\n",
    "params_data = {\"X\": X, \"Y\": Y, \"Time\": time, \"U\": U, \"V\": V, \"Ncores\": Ncores, \"Periodic\": Periodic}"
   ]
  },
  {
   "cell_type": "markdown",
   "metadata": {},
   "source": [
    "# Spatio-Temporal Domain of Dynamical System"
   ]
  },
  {
   "cell_type": "code",
   "execution_count": 5,
   "metadata": {
    "ExecuteTime": {
     "end_time": "2021-11-18T20:13:20.993150Z",
     "start_time": "2021-11-18T20:13:20.841845Z"
    }
   },
   "outputs": [
    {
     "name": "stdout",
     "output_type": "stream",
     "text": [
      "CPU times: user 126 ms, sys: 40 ms, total: 166 ms\n",
      "Wall time: 166 ms\n"
     ]
    }
   ],
   "source": [
    "%%time\n",
    "# Initial time (in days)\n",
    "t0 = 25\n",
    "\n",
    "# Final time (in days)\n",
    "tN = 45\n",
    "\n",
    "# time step-size\n",
    "dt = .1\n",
    "\n",
    "time = np.arange(t0, tN+dt, dt)\n",
    "\n",
    "# domain boundaries (in degrees)\n",
    "xmin = -3\n",
    "xmax = 1\n",
    "ymin = -32\n",
    "ymax = -24\n",
    "\n",
    "# spacing of meshgrid (in degrees)\n",
    "dx = 0.02\n",
    "dy = 0.02\n",
    "\n",
    "x_domain = np.arange(xmin, xmax + dx, dx)\n",
    "y_domain = np.arange(ymin, ymax + dy, dy)\n",
    "\n",
    "# meshgrid of domain\n",
    "X_domain, Y_domain = np.meshgrid(x_domain, y_domain)\n",
    "\n",
    "# Define parameters\n",
    "params_DS = {\"time\": time, \"X_domain\": X_domain, \"Y_domain\": Y_domain}\n",
    "\n",
    "# Initialize Dynamical System\n",
    "from ipynb.fs.defs.DynamicalSystem import *\n",
    "\n",
    "DS = Dynamical_System(params_data, params_DS)"
   ]
  },
  {
   "cell_type": "markdown",
   "metadata": {},
   "source": [
    "# Interpolate Velocity\n",
    "\n",
    "In order to evaluate the velocity field at arbitrary locations and times, we must interpolate the discrete velocity data. The interpolation with respect to time is always linear. The interpolation with respect to space can be chosen to be \"cubic\" or \"linear\". In order to favour a smooth velocity field, we interpolate the velocity field in space using a cubic interpolant."
   ]
  },
  {
   "cell_type": "code",
   "execution_count": 6,
   "metadata": {
    "ExecuteTime": {
     "end_time": "2021-11-18T20:13:21.098186Z",
     "start_time": "2021-11-18T20:13:20.994675Z"
    }
   },
   "outputs": [
    {
     "name": "stdout",
     "output_type": "stream",
     "text": [
      "CPU times: user 94.2 ms, sys: 8.34 ms, total: 103 ms\n",
      "Wall time: 102 ms\n"
     ]
    }
   ],
   "source": [
    "%%time\n",
    "# Interpolate velocity data using cubic spatial interpolation\n",
    "DS._Interpolation_velocity(\"cubic\")"
   ]
  },
  {
   "cell_type": "markdown",
   "metadata": {},
   "source": [
    "# Cauchy Green (CG) strain tensor over meshgrid of initial conditions\n",
    "\n",
    "The rate of strain tensor $ S(\\mathbf{x}, t) $ at time $ t $ is computed by iterating over meshgrid. The method *DS._spin_tensor(x, t)* computes the rate of strain tensor at point $ \\mathbf{x} $  at time $ t $ by using an auxiliary meshgrid. 'aux_grid' specifies the ratio between the auxiliary grid and the original meshgrid. This parameter is generally chosen to be between $ [\\dfrac{1}{20}, \\dfrac{1}{100}] $. The computations are parallelized."
   ]
  },
  {
   "cell_type": "code",
   "execution_count": null,
   "metadata": {
    "ExecuteTime": {
     "end_time": "2021-11-18T20:13:25.299255Z",
     "start_time": "2021-11-18T20:13:21.101906Z"
    }
   },
   "outputs": [
    {
     "data": {
      "application/vnd.jupyter.widget-view+json": {
       "model_id": "47f70edc36594c0d9f78d50bb70327ca",
       "version_major": 2,
       "version_minor": 0
      },
      "text/plain": [
       "  0%|          | 0/401 [00:00<?, ?it/s]"
      ]
     },
     "metadata": {},
     "output_type": "display_data"
    }
   ],
   "source": [
    "%%time\n",
    "# Import function to calculate Cauchy Green (CG) strain tensor from gradient of Flow map\n",
    "from ipynb.fs.defs.CauchyGreen import _CauchyGreen\n",
    "\n",
    "# tqdm is used to display progress bar\n",
    "from tqdm.notebook import tqdm\n",
    "\n",
    "# joblib is used for parallel computing\n",
    "from joblib import Parallel, delayed\n",
    "\n",
    "# Define ratio of auxiliary grid vs original meshgrid\n",
    "aux_grid = 0.1\n",
    "\n",
    "def parallel(i):\n",
    "    \n",
    "    # Define CG tensor\n",
    "    C_ = np.zeros((X_domain.shape[1], 2, 2))\n",
    "    \n",
    "    # Iterate over initial conditions\n",
    "    for j in range(X_domain.shape[1]):\n",
    "        \n",
    "        # Point at which to calculate CG tensor\n",
    "        x = np.array([X_domain[i, j], Y_domain[i, j]])\n",
    "        \n",
    "        # Calculate gradient of flow map at 'x' over the time-interval 'time' using an auxiliary grid ratio 'aux_grid'\n",
    "        grad_Fmap = DS._grad_Fmap(x, time, aux_grid)\n",
    "        \n",
    "        C_[j, :, :] = _CauchyGreen(grad_Fmap)\n",
    "        \n",
    "    return C_\n",
    "\n",
    "C = np.array(Parallel(n_jobs=Ncores, verbose = 0)(delayed(parallel)(i) for i in tqdm(range(X_domain.shape[0]))))"
   ]
  },
  {
   "cell_type": "markdown",
   "metadata": {},
   "source": [
    "# Compute Tensorfield Properties"
   ]
  },
  {
   "cell_type": "markdown",
   "metadata": {},
   "source": [
    "We now compute the properties of the rate of strain tensor 'S' such as the eigenvalues 's1', 's2' and eigenvectors 'eigenv1', 'eigenv2'. Furthermore, we also need the spatial derivatives of the elements of 'S'."
   ]
  },
  {
   "cell_type": "code",
   "execution_count": null,
   "metadata": {
    "ExecuteTime": {
     "end_time": "2021-11-18T20:13:25.314554Z",
     "start_time": "2021-11-18T20:13:25.301537Z"
    }
   },
   "outputs": [],
   "source": [
    "from ipynb.fs.defs.tensorfield import _tensorfield\n",
    "\n",
    "# Compute tensorfield properties\n",
    "s1, s2, eigenv1, eigenv2, C11, C12, C22, C11x, C11y, C12x, C12y, C22x, C22y = _tensorfield(X_domain, Y_domain, C, aux_grid, type = 'LCS')"
   ]
  },
  {
   "cell_type": "markdown",
   "metadata": {},
   "source": [
    "# Interpolate $ \\dot{\\phi}(x, y, \\phi)$ "
   ]
  },
  {
   "cell_type": "code",
   "execution_count": null,
   "metadata": {
    "ExecuteTime": {
     "end_time": "2021-11-18T20:13:25.316471Z",
     "start_time": "2021-11-18T20:13:20.440Z"
    }
   },
   "outputs": [],
   "source": [
    "%%time\n",
    "from ipynb.fs.defs.phi_prime import _phi_prime\n",
    "\n",
    "# Interpolant phi_phrime\n",
    "interp_phi_prime, interp_DOE = _phi_prime(X_domain, Y_domain, C11, C12, C22, C11x, C11y, C12x, C12y, C22x, C22y, Ncores)"
   ]
  },
  {
   "cell_type": "markdown",
   "metadata": {},
   "source": [
    "# Find closed null-geodesics of $ C_{t_0}^t − \\lambda^2 I$\n",
    "\n",
    "Elliptic OECSs are closed null geodesics of the one-parameter family of Lorentzian metrics $ C_{t_0}^t − \\lambda^2 I, \\lambda ∈ \\mathbb{R} $. "
   ]
  },
  {
   "cell_type": "code",
   "execution_count": null,
   "metadata": {
    "ExecuteTime": {
     "end_time": "2021-11-18T20:13:25.317764Z",
     "start_time": "2021-11-18T20:13:20.454Z"
    }
   },
   "outputs": [],
   "source": [
    "%%time\n",
    "# function which computes closed null geodesics\n",
    "from ipynb.fs.defs.closed_null_geodesics import _closed_null_geodesics\n",
    "# function which computes outermost closed null geodesics\n",
    "from ipynb.fs.defs.outermost_elliptic_LCS import _outermost_elliptic_LCS\n",
    "\n",
    "# define lambda range\n",
    "lambda_min = 0.9\n",
    "lambda_max = 1.1\n",
    "n_lambda = 5\n",
    "lambda_range = np.linspace(lambda_min, lambda_max, n_lambda)\n",
    "\n",
    "# define threshold distance for periodicity of trajectory\n",
    "d_threshold = 3*dx\n",
    "\n",
    "# parameter specifying sparsity of initial conditions.\n",
    "# If sparse_ic = 1, then original meshgrid is used for computation of initial level sets.\n",
    "# Increasing this parameter reduces the number of initial conditions and thereby reduces the computational time involved.\n",
    "sparse_ic = 2\n",
    "\n",
    "elliptic_LCS = []\n",
    "\n",
    "for lam in lambda_range:\n",
    "    \n",
    "    print(\"Compute elliptic LCS for lambda =\", lam)\n",
    "    \n",
    "    # Define list storing x, y coordinates of elliptic OECS\n",
    "    x_elliptic, y_elliptic = [], []\n",
    "    \n",
    "    # Find all closed null geodesics\n",
    "    closed_null_geodesics = _closed_null_geodesics(X_domain, Y_domain, lam, interp_phi_prime, d_threshold, C11, interp_DOE, sparse_ic, Ncores=1)\n",
    "    \n",
    "    for elliptic in closed_null_geodesics:\n",
    "        \n",
    "        x_elliptic.append(elliptic[0])\n",
    "        y_elliptic.append(elliptic[1])    \n",
    "        \n",
    "    # Extract outermost closed null geodesics\n",
    "    outermost_elliptic_LCS = _outermost_elliptic_LCS(closed_null_geodesics)\n",
    "    \n",
    "    # Store outermost closed null geodesics in list\n",
    "    if outermost_elliptic_LCS:\n",
    "        \n",
    "        for elliptic in outermost_elliptic_LCS:\n",
    "            \n",
    "            x_elliptic.append(elliptic[0])\n",
    "            y_elliptic.append(elliptic[1])\n",
    "            \n",
    "    elliptic_LCS.append([x_elliptic, y_elliptic])"
   ]
  },
  {
   "cell_type": "code",
   "execution_count": null,
   "metadata": {
    "ExecuteTime": {
     "end_time": "2021-11-18T20:13:25.318939Z",
     "start_time": "2021-11-18T20:13:20.455Z"
    }
   },
   "outputs": [],
   "source": [
    "######################################## Plot elliptic OECS ########################################\n",
    "\n",
    "# Define figure/axes\n",
    "fig = plt.figure(figsize = (16, 10), dpi = 300)\n",
    "ax = plt.axes()\n",
    "\n",
    "# Define norm/cmap\n",
    "norm = mpl.colors.Normalize(vmin=mu_range.min(), vmax=mu_range.max())\n",
    "cmap = mpl.cm.ScalarMappable(norm=norm, cmap=mpl.cm.jet)\n",
    "\n",
    "# Iterate over all elliptic LCS \n",
    "for i in range(len(elliptic_LCS)):\n",
    "    \n",
    "    for j in range(len(elliptic_LCS[i][0])):\n",
    "        \n",
    "        ax.plot(elliptic_LCS[i][0][j], elliptic_LCS[i][1][j], c=cmap.to_rgba(mu_range[i]), linewidth = 3)\n",
    "\n",
    "# Set axis limits\n",
    "ax.set_xlim([xmin, xmax])\n",
    "ax.set_ylim([ymin, ymax])\n",
    "\n",
    "# Set axis labels\n",
    "ax.set_xlabel(\"long (deg)\", fontsize = 16)\n",
    "ax.set_ylabel(\"lat (deg)\", fontsize = 16)\n",
    "\n",
    "# Colorbar\n",
    "cbar = fig.colorbar(cmap, ticks=[mu_range.min(), 0, mu_range.max()])\n",
    "cbar.ax.set_ylabel(r'$ \\mu $', rotation = 0, fontsize = 16)\n",
    "\n",
    "# Title\n",
    "ax.set_title(\"Elliptic LCS\", fontsize = 20)\n",
    "plt.show();"
   ]
  }
 ],
 "metadata": {
  "kernelspec": {
   "display_name": "Python 3",
   "language": "python",
   "name": "python3"
  },
  "language_info": {
   "codemirror_mode": {
    "name": "ipython",
    "version": 3
   },
   "file_extension": ".py",
   "mimetype": "text/x-python",
   "name": "python",
   "nbconvert_exporter": "python",
   "pygments_lexer": "ipython3",
   "version": "3.7.11"
  },
  "toc": {
   "base_numbering": 1,
   "nav_menu": {},
   "number_sections": true,
   "sideBar": true,
   "skip_h1_title": false,
   "title_cell": "Table of Contents",
   "title_sidebar": "Contents",
   "toc_cell": false,
   "toc_position": {},
   "toc_section_display": true,
   "toc_window_display": false
  }
 },
 "nbformat": 4,
 "nbformat_minor": 4
}
