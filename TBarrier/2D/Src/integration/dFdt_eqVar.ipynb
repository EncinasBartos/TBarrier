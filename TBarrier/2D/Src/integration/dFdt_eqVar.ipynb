{
 "cells": [
  {
   "cell_type": "markdown",
   "metadata": {},
   "source": [
    "The evolution of a trajectory $ \\mathbf{x}(t;t0,\\mathbf{x_0}) $ as a function of its initial position $ \\mathbf{x_0} $ is described by the flow map\n",
    "\n",
    "$$ \\mathbf{F}_{t_0}^t : \\mathbf{x}_0 \\rightarrow \\mathbf{x}(t;t_0,\\mathbf{x_0}) $$\n",
    "\n",
    "Differentiation of the flow map $ {\\mathbf{F}_1}_{t_0}^t = \\begin{pmatrix} {F_1}_{t_0}^t \\\\ {F_2}_{t_0}^t \\end{pmatrix} $ with respect to time gives:\n",
    "\n",
    "\\begin{equation}\n",
    "\\dfrac{d}{dt}\\mathbf{F}_{t_0}^t(\\mathbf{x_0}) = \\mathbf{v}(\\mathbf{F}_{t_0}^t(\\mathbf{x_0}), t) = \\begin{pmatrix} u((\\mathbf{F}_{t_0}^t(\\mathbf{x_0}), t)) \\\\ v((\\mathbf{F}_{t_0}^t(\\mathbf{x_0}), t)) \\end{pmatrix}\n",
    "\\label{eq: dFdt},\n",
    "\\end{equation}\n",
    "\n",
    "with $ \\mathbf{v}(\\mathbf{F}_{t_0}^t(\\mathbf{x_0}), t) $ being the velocity field.\n",
    "\n",
    "Taking the gradient of \\ref{eq: dFdt}, it holds that $ D \\mathbf{F}_{t_0}^t(\\mathbf{x_0}) $ evolves according to the equations of variations:\n",
    "\n",
    "\\begin{equation}\n",
    "\\dfrac{d}{dt} D \\mathbf{F}_{t_0}^t(\\mathbf{x_0}) = D\\mathbf{v}(\\mathbf{F}_{t_0}^t(\\mathbf{x_0}), t) D \\mathbf{F}_{t_0}^t(\\mathbf{x_0}) = \\begin{pmatrix} \\partial_x u && \\partial_y u \\\\ \\partial_x v && \\partial_y v \\end{pmatrix} \\begin{pmatrix} D_x{F_1}_{t_0}^t && D_y{F_1}_{t_0}^t \\\\ D_x{F_2}_{t_0}^t && D_y{F_2}_{t_0}^t \\end{pmatrix}\n",
    "\\label{eq: dDFdt}\n",
    "\\end{equation}\n",
    "\n",
    "Equations \\ref{eq: dFdt} and \\ref{eq: dDFdt} lead to a system of coupled ODEs.\n",
    "\n",
    "| Name | Type (Shape) | Description |\n",
    "| --- | --- | --- |\n",
    "| t | float | time |\n",
    "| x | array (2,) | $ \\mathbf{x} $ |\n",
    "| X | array (Ny, Nx) | X-meshgrid|\n",
    "| Y | array (Ny, Nx) | Y-meshgrid|\n",
    "| Interpolant | list (2,) | Interpolant[0]: Interpolant object for $ u((\\mathbf{x}, t))  $ <br /> Interpolant[1]: Interpolant object for $ v((\\mathbf{x}, t))  $. <br /> <br /> The interpolation, however, works only <br /> if the particle is in the defined flow domain. <br /> At the boundary of the domain, <br /> the interpolant is not defined.|\n",
    "| periodic | list (2,) | periodic[0]: periodicity in x <br /> periodic[1]: periodicity in y <br />|\n",
    "| defined_domain | array (Nx, Ny) | points on the meshgrid where velocity field is defined |\n",
    "| bool_unsteady | bool | specifies if velocity field is unsteady/steady |\n",
    "| dt_data | float | time spacing of the velocity data |\n",
    "| delta | list (2,) | delta[0]: x-grid spacing of the velocity data <br /> delta[1]: y-grid spacing of the velocity data|\n",
    "| u | float | $ u(\\mathbf{x}, t) $ |\n",
    "| v | float | $ v(\\mathbf{x}, t) $ |\n",
    "| aux_grid | list (2,) | aux_grid[0]: dx_auxiliary <br /> aux_grid[1]: dy_auxiliary |\n",
    "| DxF1 | float | $ D_x{F_1}_{t_0}^t(\\mathbf{x_0}) $ |\n",
    "| DyF1 | float | $ D_y{F_1}_{t_0}^t(\\mathbf{x_0}) $ |\n",
    "| DxF2 | float | $ D_x{F_2}_{t_0}^t(\\mathbf{x_0}) $ |\n",
    "| DyF2 | float | $ D_y{F_2}_{t_0}^t(\\mathbf{x_0}) $ |"
   ]
  },
  {
   "cell_type": "code",
   "execution_count": 1,
   "metadata": {
    "ExecuteTime": {
     "end_time": "2021-11-25T15:51:52.247948Z",
     "start_time": "2021-11-25T15:51:52.244611Z"
    }
   },
   "outputs": [],
   "source": [
    "import sys, os\n",
    "\n",
    "# get current directory\n",
    "path = os.getcwd()\n",
    "\n",
    "# get parent directory\n",
    "parent_directory = os.path.sep.join(path.split(os.path.sep)[:-1])\n",
    "\n",
    "# add Algorithm folder to current working path in order to access the functions\n",
    "sys.path.append(parent_directory+\"/utils\")"
   ]
  },
  {
   "cell_type": "code",
   "execution_count": 2,
   "metadata": {
    "ExecuteTime": {
     "end_time": "2021-11-25T15:51:52.689242Z",
     "start_time": "2021-11-25T15:51:52.249574Z"
    }
   },
   "outputs": [],
   "source": [
    "# Import numpy\n",
    "import numpy as np\n",
    "\n",
    "# Import function that computes velocity\n",
    "from ipynb.fs.defs.velocity import velocity\n",
    "\n",
    "# Import function that computes gradient of velocity\n",
    "from ipynb.fs.defs.gradient_velocity import gradient_velocity"
   ]
  },
  {
   "cell_type": "code",
   "execution_count": 3,
   "metadata": {
    "ExecuteTime": {
     "end_time": "2021-11-25T15:51:52.695323Z",
     "start_time": "2021-11-25T15:51:52.691260Z"
    }
   },
   "outputs": [],
   "source": [
    "def dFdt_eqVar(t, x, X, Y, Interpolant, periodic, defined_domain, bool_unsteady, dt_data, delta, aux_grid):\n",
    "    \n",
    "    # Flow map F at time t\n",
    "    F = x[:2]\n",
    "    \n",
    "    # DF11\n",
    "    DxF1 = x[2]\n",
    "    \n",
    "    # DF12\n",
    "    DyF1 = x[3]\n",
    "    \n",
    "    # DF21\n",
    "    DxF2 = x[4]\n",
    "    \n",
    "    # DF22\n",
    "    DyF2 = x[5]\n",
    "    \n",
    "    # DF\n",
    "    DF = np.array([[DxF1, DyF1], [DxF2, DyF2]])\n",
    "    \n",
    "    dx_data = delta[0]\n",
    "    dy_data = delta[1]\n",
    "    \n",
    "    # check if periodic in x\n",
    "    if periodic[0]:\n",
    "        \n",
    "        x[0] = x[0]%(X[0, -1, 0]-X[0, 0, 0])\n",
    "    \n",
    "    # check if periodic in y\n",
    "    if periodic[1]:\n",
    "        \n",
    "        x[1] = x[1]%(Y[-1, 0, 0]-Y[0, 0, 0])\n",
    "    \n",
    "    # compute velocity\n",
    "    vel = velocity(t, F, X, Y, Interpolant, periodic, defined_domain, bool_unsteady, dt_data, delta)\n",
    "    \n",
    "    # compute gradient of velocity\n",
    "    grad_vel = gradient_velocity(t, F, X, Y, Interpolant, periodic, defined_domain, bool_unsteady, dt_data, delta, aux_grid)\n",
    "    \n",
    "    # eq. 2\n",
    "    dDFdt = grad_vel@DF\n",
    "    \n",
    "    # eq.1\n",
    "    u = vel[0]\n",
    "    v = vel[1]\n",
    "    \n",
    "    # extract elements of dDFdt\n",
    "    dDxF1dt = dDFdt[0,0]\n",
    "    dDyF1dt = dDFdt[0,1]\n",
    "    dDxF2dt = dDFdt[1,0]\n",
    "    dDyF2dt = dDFdt[1,1]\n",
    "    \n",
    "    return [u, v, dDxF1dt, dDyF1dt, dDxF2dt, dDyF2dt]\n",
    "    "
   ]
  }
 ],
 "metadata": {
  "kernelspec": {
   "display_name": "Python 3",
   "language": "python",
   "name": "python3"
  },
  "language_info": {
   "codemirror_mode": {
    "name": "ipython",
    "version": 3
   },
   "file_extension": ".py",
   "mimetype": "text/x-python",
   "name": "python",
   "nbconvert_exporter": "python",
   "pygments_lexer": "ipython3",
   "version": "3.7.11"
  },
  "toc": {
   "base_numbering": 1,
   "nav_menu": {},
   "number_sections": true,
   "sideBar": true,
   "skip_h1_title": false,
   "title_cell": "Table of Contents",
   "title_sidebar": "Contents",
   "toc_cell": false,
   "toc_position": {},
   "toc_section_display": true,
   "toc_window_display": false
  }
 },
 "nbformat": 4,
 "nbformat_minor": 4
}
