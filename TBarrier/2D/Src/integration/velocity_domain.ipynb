{
 "cells": [
  {
   "cell_type": "code",
   "execution_count": null,
   "metadata": {},
   "outputs": [],
   "source": [
    "# Import numpy\n",
    "import numpy as np\n",
    "\n",
    "# Import cubic spline for interpolation in time\n",
    "from scipy.interpolate import CubicSpline"
   ]
  },
  {
   "cell_type": "code",
   "execution_count": 1,
   "metadata": {
    "ExecuteTime": {
     "end_time": "2021-11-29T13:21:38.156433Z",
     "start_time": "2021-11-29T13:21:38.142900Z"
    }
   },
   "outputs": [],
   "source": [
    "def velocity_domain(t, x, Interpolant, dt_data, bool_unsteady):\n",
    "            \n",
    "    # Unsteady case\n",
    "    if bool_unsteady:\n",
    "            \n",
    "        k = int(t/dt_data)\n",
    "            \n",
    "        # evaluate velocity field at time t\n",
    "        ui = Interpolant[0][k](x[1], x[0])[0][0]\n",
    "        uf = Interpolant[0][k+1](x[1], x[0])[0][0]\n",
    "        u = ((k+1)*dt_data-t)/dt_data*ui + (t-k*dt_data)/dt_data*uf\n",
    "\n",
    "        vi = Interpolant[1][k](x[1], x[0])[0][0]\n",
    "        vf = Interpolant[1][k+1](x[1], x[0])[0][0]\n",
    "        v = ((k+1)*dt_data-t)/dt_data*vi + (t-k*dt_data)/dt_data*vf\n",
    "        \n",
    "    # Steady case        \n",
    "    elif bool_unsteady == False:\n",
    "            \n",
    "        u = Interpolant[0](x[1], x[0])[0][0]\n",
    "        v = Interpolant[1](x[1], x[0])[0][0]\n",
    "        \n",
    "    vel = np.array([np.around(u, 10), np.around(v, 10)])\n",
    "        \n",
    "    return vel"
   ]
  },
  {
   "cell_type": "code",
   "execution_count": null,
   "metadata": {},
   "outputs": [],
   "source": []
  }
 ],
 "metadata": {
  "kernelspec": {
   "display_name": "Python 3",
   "language": "python",
   "name": "python3"
  },
  "language_info": {
   "codemirror_mode": {
    "name": "ipython",
    "version": 3
   },
   "file_extension": ".py",
   "mimetype": "text/x-python",
   "name": "python",
   "nbconvert_exporter": "python",
   "pygments_lexer": "ipython3",
   "version": "3.7.11"
  },
  "toc": {
   "base_numbering": 1,
   "nav_menu": {},
   "number_sections": true,
   "sideBar": true,
   "skip_h1_title": false,
   "title_cell": "Table of Contents",
   "title_sidebar": "Contents",
   "toc_cell": false,
   "toc_position": {},
   "toc_section_display": true,
   "toc_window_display": false
  }
 },
 "nbformat": 4,
 "nbformat_minor": 4
}
