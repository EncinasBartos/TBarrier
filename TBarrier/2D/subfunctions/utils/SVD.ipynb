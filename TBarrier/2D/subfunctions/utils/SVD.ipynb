{
 "cells": [
  {
   "cell_type": "markdown",
   "metadata": {},
   "source": [
    "This function computes the singular value decomposition (SVD) of $ 2\\times 2$ deformation gradient $ \\mathbf{\\nabla F_{t_0}^t(\\mathbf{x}_0)} $:\n",
    "\n",
    "\\begin{equation}\n",
    "\\mathbf{\\nabla F}_{t_0}^t(\\mathbf{x}_0) = \\begin{pmatrix} a && b \\\\ c && d \\end{pmatrix} = \\mathbf{P}_{t_0}^t \\Sigma_{t_0}^t {\\mathbf{Q}_{t_0}^t}^T\n",
    "\\end{equation}\n",
    "\n",
    "For simplicity we now drop the time-interval when expressing $ \\mathbf{\\nabla F}, \\mathbf{P}, \\mathbf{\\Sigma} $ and $ \\mathbf{Q} $\n",
    "\n",
    "The decomposition is given by:\n",
    "\n",
    "\\begin{equation}\n",
    "\\mathbf{\\nabla F}_{t_0}^t = \\begin{pmatrix} \\cos(\\phi) && -\\sin(\\phi) \\\\ \\sin(\\phi) && \\cos(\\phi) \\end{pmatrix} \\begin{pmatrix} \\sigma_1 && 0 \\\\ 0 && \\sigma_2 \\end{pmatrix}\\begin{pmatrix} \\cos(\\theta) && -\\sin(\\theta) \\\\ \\sin(\\theta) && \\cos(\\theta) \\end{pmatrix}.\n",
    "\\end{equation}\n",
    "\n",
    "Computation of $ P $:\n",
    "\n",
    "\\begin{equation}\n",
    "\\phi = \\dfrac{1}{2} \\tan^{-1}(\\dfrac{2ac+2bd}{a^2+b^2-c^2-d^2})\n",
    "\\end{equation}\n",
    "and \n",
    "\\begin{equation}\n",
    "\\mathbf{P} = \\begin{pmatrix} \\cos(\\phi) && -\\sin(\\phi) \\\\ \\sin(\\phi) && \\cos(\\phi) \\end{pmatrix}\n",
    "\\end{equation}\n",
    "\n",
    "Computation of $ Q $:\n",
    "\n",
    "\\begin{equation}\n",
    "\\theta = \\dfrac{1}{2} \\tan^{-1}(\\dfrac{2ab+2cd}{a^2-b^2+c^2-d^2})\n",
    "\\end{equation}\n",
    "and \n",
    "\\begin{equation}\n",
    "\\mathbf{Q} = \\begin{pmatrix} sign(s_{11})cos(\\theta) && -sign(s_{12})\\sin(\\theta) \\\\ sign(s_{21})\\sin(\\theta) && sign(s_{22})\\cos(\\theta) \\end{pmatrix},\n",
    "\\end{equation} with\n",
    "\n",
    "\\begin{align*}\n",
    "s_{1} &= (a\\cos(\\phi)+c\\sin(\\phi))\\cos(\\theta) + (b\\cos(\\phi)+d\\sin(\\phi))\\sin(\\theta) \\\\\n",
    "s_{2} &= (a\\sin(\\phi)-c\\sin(\\phi))\\cos(\\theta) + (-b\\sin(\\phi)+d\\cos(\\phi))\\sin(\\theta)\n",
    "\\end{align*}\n",
    "\n",
    "Computation of $ S $:\n",
    "\\begin{align*}\n",
    "\\sigma_1 &= \\sqrt{\\dfrac{S_1+S_2}{2}} \\\\\n",
    "\\sigma_2 &= \\sqrt{\\dfrac{S_1-S_2}{2}},\n",
    "\\end{align*} with \n",
    "\n",
    "\\begin{align*}\n",
    "S_1 &= a^2+b^2+c^2+d^2 \\\\\n",
    "S_2 &= \\sqrt{(a^2+b^2-c^2-d^2)^2+4(ac+bd)^2}\n",
    "\\end{align*}\n",
    "\n",
    "\\begin{equation}\n",
    "\\Sigma = \\begin{pmatrix} \\sigma_1 && 0 \\\\ 0 && \\sigma_2 \\end{pmatrix}\n",
    "\\end{equation}"
   ]
  },
  {
   "cell_type": "markdown",
   "metadata": {
    "ExecuteTime": {
     "end_time": "2021-11-25T09:45:16.626018Z",
     "start_time": "2021-11-25T09:45:16.622076Z"
    }
   },
   "source": [
    "| Name | Type (Shape) | Description |\n",
    "| --- | --- | --- |\n",
    "| gradFmap | array (2, 2) | $ \\mathbf{\\nabla F}_{t_0}^t(\\mathbf{x}_0) $|\n",
    "| P | array (2, 2) | $ \\mathbf{P}_{t_0}^t(\\mathbf{x}_0) $: orthogonal rotation matrix |\n",
    "| Q | array (2, 2) | $ \\mathbf{Q}_{t_0}^t(\\mathbf{x}_0) $: orthogonal rotation matrix |\n",
    "| SIG | array (2, 2) | $ \\mathbf{\\Sigma}_{t_0}^t(\\mathbf{x}_0) $: positive definite diagonal matrix representing uniaxial stretching/compression  |"
   ]
  },
  {
   "cell_type": "code",
   "execution_count": 3,
   "metadata": {
    "ExecuteTime": {
     "end_time": "2021-12-30T00:33:19.803922Z",
     "start_time": "2021-12-30T00:33:19.734033Z"
    }
   },
   "outputs": [],
   "source": [
    "# Import numpy\n",
    "import numpy as np\n",
    "\n",
    "# Import math tools\n",
    "from math import sqrt, cos, sin, atan2"
   ]
  },
  {
   "cell_type": "code",
   "execution_count": 4,
   "metadata": {
    "ExecuteTime": {
     "end_time": "2021-12-30T00:33:20.351611Z",
     "start_time": "2021-12-30T00:33:20.342664Z"
    }
   },
   "outputs": [],
   "source": [
    "def SVD(gradFmap):\n",
    "\n",
    "    Su = gradFmap@gradFmap.transpose()\n",
    "    theta = 0.5*atan2(Su[0,1]+Su[1,0], Su[0,0]-Su[1,1])\n",
    "    Ctheta = cos(theta)\n",
    "    Stheta = sin(theta)\n",
    "    P = np.array([[Ctheta, -Stheta], [Stheta, Ctheta]])\n",
    "\n",
    "    Sw = gradFmap.transpose()@gradFmap\n",
    "    phi = 0.5*atan2((Sw[0,1]+Sw[1,0]), (Sw[0,0]-Sw[1,1]))\n",
    "    Cphi = cos(phi)\n",
    "    Sphi = sin(phi)\n",
    "    W = np.array([[Cphi, -Sphi], [Sphi, Cphi]])\n",
    "\n",
    "    SUsum= Su[0,0]+Su[1,1]\n",
    "    SUdif= sqrt((Su[0,0]-Su[1,1])**2 + 4*(Su[0,1]*Su[1,0]))\n",
    "    \n",
    "    if SUsum-SUdif < 0: # This happens due to numerical inaccuracies\n",
    "        svals = np.array([sqrt((SUsum+SUdif)/2), 0])\n",
    "    \n",
    "    else:\n",
    "        svals= np.array([sqrt((SUsum+SUdif)/2), sqrt((SUsum-SUdif)/2)])\n",
    "   \n",
    "    SIG = np.diag(svals)\n",
    "\n",
    "    S = P.transpose()@gradFmap@W\n",
    "    C = np.diag([np.sign(S[0,0]), np.sign(S[1,1])])\n",
    "    Q = W@C\n",
    "    \n",
    "    return P, SIG, Q"
   ]
  }
 ],
 "metadata": {
  "kernelspec": {
   "display_name": "Python 3",
   "language": "python",
   "name": "python3"
  },
  "language_info": {
   "codemirror_mode": {
    "name": "ipython",
    "version": 3
   },
   "file_extension": ".py",
   "mimetype": "text/x-python",
   "name": "python",
   "nbconvert_exporter": "python",
   "pygments_lexer": "ipython3",
   "version": "3.7.12"
  },
  "toc": {
   "base_numbering": 1,
   "nav_menu": {},
   "number_sections": true,
   "sideBar": true,
   "skip_h1_title": false,
   "title_cell": "Table of Contents",
   "title_sidebar": "Contents",
   "toc_cell": false,
   "toc_position": {},
   "toc_section_display": true,
   "toc_window_display": false
  }
 },
 "nbformat": 4,
 "nbformat_minor": 4
}
