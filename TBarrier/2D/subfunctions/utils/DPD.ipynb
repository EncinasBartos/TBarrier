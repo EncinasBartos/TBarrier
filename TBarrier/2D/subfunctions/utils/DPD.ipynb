{
 "cells": [
  {
   "cell_type": "markdown",
   "metadata": {},
   "source": [
    "This function computes the Dynamic Polar Decomposition (DPD) of the $ 2\\times 2$ deformation gradient $ \\mathbf{\\nabla F_{t_0}^t(\\mathbf{x}_0)} $ for any times $ \\tau, t \\in [t_0, t_1] $:\n",
    "\n",
    "\\begin{equation}\n",
    "\\mathbf{\\nabla F_{t_0}^t(\\mathbf{x}(\\tau))} = \\mathbf{O}_{\\tau}^t(\\mathbf{x}(\\tau))\\mathbf{M}_{\\tau}^t(\\mathbf{x}(\\tau)) = \\mathbf{N}_{t_0}^t(\\mathbf{x}(\\tau))\\mathbf{O}_{\\tau}^t(\\mathbf{x}(\\tau)), \n",
    "\\end{equation} where the proper orthogonal dynamic rotation tensor $ \\mathbf{O}_{\\tau}^t(\\mathbf{x}(\\tau)) $ is the deformation gradient of a purely otational flow; $ \\mathbf{M}_{\\tau}^t(\\mathbf{x}(\\tau)) $ the right dynamic stretch tensor and the transpose of the non-degenerate left dynamic stretch tensor $ \\mathbf{N}_{t_0}^t(\\mathbf{x}(\\tau)) $ are deformation gradients of purely straining flows."
   ]
  },
  {
   "cell_type": "code",
   "execution_count": 32,
   "metadata": {
    "ExecuteTime": {
     "end_time": "2021-12-21T21:00:09.876573Z",
     "start_time": "2021-12-21T21:00:09.865603Z"
    }
   },
   "outputs": [],
   "source": [
    "# Import numpy\n",
    "import numpy as np\n",
    "\n",
    "# Import math tools\n",
    "from math import sqrt, cos, sin, atan2"
   ]
  },
  {
   "cell_type": "code",
   "execution_count": 49,
   "metadata": {
    "ExecuteTime": {
     "end_time": "2021-12-21T21:05:07.853374Z",
     "start_time": "2021-12-21T21:05:07.833428Z"
    }
   },
   "outputs": [],
   "source": [
    "def DPD(A):\n",
    "    \n",
    "    # to be completed\n",
    "    return U, SIG, V"
   ]
  }
 ],
 "metadata": {
  "kernelspec": {
   "display_name": "Python 3",
   "language": "python",
   "name": "python3"
  },
  "language_info": {
   "codemirror_mode": {
    "name": "ipython",
    "version": 3
   },
   "file_extension": ".py",
   "mimetype": "text/x-python",
   "name": "python",
   "nbconvert_exporter": "python",
   "pygments_lexer": "ipython3",
   "version": "3.7.12"
  },
  "toc": {
   "base_numbering": 1,
   "nav_menu": {},
   "number_sections": true,
   "sideBar": true,
   "skip_h1_title": false,
   "title_cell": "Table of Contents",
   "title_sidebar": "Contents",
   "toc_cell": false,
   "toc_position": {},
   "toc_section_display": true,
   "toc_window_display": false
  }
 },
 "nbformat": 4,
 "nbformat_minor": 4
}
