{
 "cells": [
  {
   "cell_type": "markdown",
   "metadata": {
    "ExecuteTime": {
     "end_time": "2021-11-25T15:42:06.721153Z",
     "start_time": "2021-11-25T15:42:06.715208Z"
    }
   },
   "source": [
    "This function computes the gradient of the velocity-field $ \\mathbf{v}(\\mathbf{x}, t) $ using an auxiliary meshgrid.\n",
    "\n",
    "| Name | Type (Shape) | Description |\n",
    "| --- | --- | --- |\n",
    "| t | float | time |\n",
    "| x | array (2,) | $ \\mathbf{x} $ |\n",
    "| X | array (Ny, Nx) | X-meshgrid|\n",
    "| Y | array (Ny, Nx) | Y-meshgrid|\n",
    "| Interpolant | list (2,) | Interpolant[0]: Interpolant object for $ u((\\mathbf{x}, t))  $ <br /> Interpolant[1]: Interpolant object for $ v((\\mathbf{x}, t))  $. <br /> <br /> The interpolation, however, works only <br /> if the particle is in the defined flow domain. <br /> At the boundary of the domain, <br /> the interpolant is not defined.|\n",
    "| periodic | list (2,) | periodic[0]: periodicity in x <br /> periodic[1]: periodicity in y <br />|\n",
    "| defined_domain | array (Ny, Nx) | points on the meshgrid where velocity field is defined |\n",
    "| bool_unsteady | bool | specifies if velocity field is unsteady/steady |\n",
    "| dt_data | float | time spacing of the velocity data |\n",
    "| delta_data | list (2,) | delta[0]: x-grid spacing of the velocity data <br /> delta[1]: y-grid spacing of the velocity data|\n",
    "| aux_grid | list (2,) | aux_grid[0]: dx_auxiliary spacing <br /> aux_grid[1]: dy_auxiliary spacing |\n",
    "| grad_vel | array (2,2) | $ \\nabla \\mathbf{v}(\\mathbf{x}, t) $ |"
   ]
  },
  {
   "cell_type": "code",
   "execution_count": 1,
   "metadata": {
    "ExecuteTime": {
     "end_time": "2021-11-26T11:25:07.821014Z",
     "start_time": "2021-11-26T11:25:07.806022Z"
    }
   },
   "outputs": [],
   "source": [
    "import sys, os\n",
    "\n",
    "# get current directory\n",
    "path = os.getcwd()\n",
    "\n",
    "# get parent directory\n",
    "parent_directory = os.path.sep.join(path.split(os.path.sep)[:-1])\n",
    "\n",
    "# add integration folder to current working path\n",
    "sys.path.append(parent_directory+\"/integration\")"
   ]
  },
  {
   "cell_type": "code",
   "execution_count": 2,
   "metadata": {
    "ExecuteTime": {
     "end_time": "2021-11-26T11:25:08.084396Z",
     "start_time": "2021-11-26T11:25:07.821982Z"
    }
   },
   "outputs": [],
   "source": [
    "# Import numpy as np\n",
    "import numpy as np\n",
    "\n",
    "# Import function that computes velocity in the domain\n",
    "from ipynb.fs.defs.velocity import velocity"
   ]
  },
  {
   "cell_type": "code",
   "execution_count": 3,
   "metadata": {
    "ExecuteTime": {
     "end_time": "2021-11-26T11:25:08.116296Z",
     "start_time": "2021-11-26T11:25:08.088344Z"
    }
   },
   "outputs": [],
   "source": [
    "def gradient_velocity(t, x, X, Y, Interpolant, periodic, defined_domain, bool_unsteady, dt_data, delta_data, aux_grid):\n",
    "        \n",
    "    # auxiliary grid spacing\n",
    "    rho_x = aux_grid[0]\n",
    "    rho_y = aux_grid[1]\n",
    "    \n",
    "    grad_vel = np.zeros((2, 2))\n",
    "    \n",
    "    # velocity on the auxiliary meshgrid\n",
    "    xL = x-np.array([1, 0])*rho_x\n",
    "    vLend = velocity(t, xL, X, Y, Interpolant, periodic, defined_domain, bool_unsteady, dt_data, delta_data)\n",
    "        \n",
    "    xR = x+np.array([1, 0])*rho_x\n",
    "    vRend = velocity(t, xR, X, Y, Interpolant, periodic, defined_domain, bool_unsteady, dt_data, delta_data)\n",
    "        \n",
    "    xD = x-np.array([0, 1])*rho_y\n",
    "    vDend = velocity(t, xD, X, Y, Interpolant, periodic, defined_domain, bool_unsteady, dt_data, delta_data)\n",
    "        \n",
    "    xU = x+np.array([0, 1])*rho_y\n",
    "    vUend = velocity(t, xU, X, Y, Interpolant, periodic, defined_domain, bool_unsteady, dt_data, delta_data)\n",
    "    \n",
    "    grad_vel[0, 0] = (vRend[0]-vLend[0])/(2*rho_x)\n",
    "    grad_vel[1, 0] = (vRend[1]-vLend[1])/(2*rho_x)\n",
    "    grad_vel[0, 1] = (vUend[0]-vDend[0])/(2*rho_y)\n",
    "    grad_vel[1, 1] = (vUend[1]-vDend[1])/(2*rho_y)\n",
    "                \n",
    "    return grad_vel"
   ]
  }
 ],
 "metadata": {
  "kernelspec": {
   "display_name": "Python 3 (ipykernel)",
   "language": "python",
   "name": "python3"
  },
  "language_info": {
   "codemirror_mode": {
    "name": "ipython",
    "version": 3
   },
   "file_extension": ".py",
   "mimetype": "text/x-python",
   "name": "python",
   "nbconvert_exporter": "python",
   "pygments_lexer": "ipython3",
   "version": "3.7.11"
  },
  "toc": {
   "base_numbering": 1,
   "nav_menu": {},
   "number_sections": true,
   "sideBar": true,
   "skip_h1_title": false,
   "title_cell": "Table of Contents",
   "title_sidebar": "Contents",
   "toc_cell": false,
   "toc_position": {},
   "toc_section_display": true,
   "toc_window_display": false
  }
 },
 "nbformat": 4,
 "nbformat_minor": 4
}
