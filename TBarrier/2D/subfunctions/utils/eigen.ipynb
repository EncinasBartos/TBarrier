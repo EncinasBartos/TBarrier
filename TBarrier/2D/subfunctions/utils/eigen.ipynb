{
 "cells": [
  {
   "cell_type": "markdown",
   "metadata": {},
   "source": [
    "The function computes the eigenvalues and eigenvectors of a two-dimensional symmetric matrix."
   ]
  },
  {
   "cell_type": "markdown",
   "metadata": {
    "ExecuteTime": {
     "end_time": "2021-11-25T09:45:16.626018Z",
     "start_time": "2021-11-25T09:45:16.622076Z"
    }
   },
   "source": [
    "| Name | Type (Shape) | Description |\n",
    "| --- | --- | --- |\n",
    "| C | array (2, 2) | $ C_{t_0}^{t_N} $|\n",
    "| lambda_min | float | minimum eigenvalue of $ C_{t_0}^{t_N} $|\n",
    "| lambda_max | float | maximum eigenvalue of $ C_{t_0}^{t_N} $|\n",
    "| v_min | array (2,) | eigenvectors associated to maximum eigenvalue of $ C_{t_0}^{t_N} $|\n",
    "| v_max | array (2,) | eigenvectors associated to minimum eigenvalue of $ C_{t_0}^{t_N} $|"
   ]
  },
  {
   "cell_type": "code",
   "execution_count": 3,
   "metadata": {
    "ExecuteTime": {
     "end_time": "2021-11-25T09:43:26.518415Z",
     "start_time": "2021-11-25T09:43:26.516467Z"
    }
   },
   "outputs": [],
   "source": [
    "# Import numpy\n",
    "import numpy as np\n",
    "\n",
    "# Import math tools\n",
    "from math import sqrt"
   ]
  },
  {
   "cell_type": "code",
   "execution_count": 1,
   "metadata": {
    "ExecuteTime": {
     "end_time": "2021-11-29T13:08:52.981267Z",
     "start_time": "2021-11-29T13:08:52.976732Z"
    }
   },
   "outputs": [],
   "source": [
    "def eigen(C):\n",
    "    \n",
    "    C11 = C[0, 0]\n",
    "    C12 = C[0, 1]\n",
    "    C22 = C[1, 1]\n",
    "    \n",
    "    lambda_max = (C11+C22)/2+sqrt((C11+C22)**2/4-(C11*C22-C12**2))\n",
    "    lambda_min = (C11+C22)/2-sqrt((C11+C22)**2/4-(C11*C22-C12**2))\n",
    "    \n",
    "    v_max = np.array([-C12, C11-lambda_max])\n",
    "    v_max = v_max/sqrt(v_max[0]**2+v_max[1]**2)\n",
    "            \n",
    "    v_min = np.array([-v_max[1], v_max[0]])\n",
    "    \n",
    "    return lambda_min, lambda_max, v_min, v_max"
   ]
  }
 ],
 "metadata": {
  "kernelspec": {
   "display_name": "Python 3",
   "language": "python",
   "name": "python3"
  },
  "language_info": {
   "codemirror_mode": {
    "name": "ipython",
    "version": 3
   },
   "file_extension": ".py",
   "mimetype": "text/x-python",
   "name": "python",
   "nbconvert_exporter": "python",
   "pygments_lexer": "ipython3",
   "version": "3.7.11"
  },
  "toc": {
   "base_numbering": 1,
   "nav_menu": {},
   "number_sections": true,
   "sideBar": true,
   "skip_h1_title": false,
   "title_cell": "Table of Contents",
   "title_sidebar": "Contents",
   "toc_cell": false,
   "toc_position": {},
   "toc_section_display": true,
   "toc_window_display": false
  }
 },
 "nbformat": 4,
 "nbformat_minor": 4
}
