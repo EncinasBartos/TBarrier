{
 "cells": [
  {
   "cell_type": "markdown",
   "metadata": {},
   "source": [
    "The function computes the eigenvalues and eigenvectors of a two-dimensional symmetric matrix.\n",
    "\n",
    "\\begin{equation}\n",
    "A = \\begin{pmatrix} A^{11} && A^{12} \\\\ A^{12} && A^{22} \\end{pmatrix}\n",
    "\\end{equation}"
   ]
  },
  {
   "cell_type": "markdown",
   "metadata": {
    "ExecuteTime": {
     "end_time": "2021-11-25T09:45:16.626018Z",
     "start_time": "2021-11-25T09:45:16.622076Z"
    }
   },
   "source": [
    "| Name | Type (Shape) | Description |\n",
    "| --- | --- | --- |\n",
    "| A | array (2, 2) | $ A $|\n",
    "| lambda_min | float | minimum eigenvalue of $ A $|\n",
    "| lambda_max | float | maximum eigenvalue of $ A $|\n",
    "| v_min | array (2,) | eigenvectors associated to maximum eigenvalue of $ A $|\n",
    "| v_max | array (2,) | eigenvectors associated to minimum eigenvalue of $ A $|"
   ]
  },
  {
   "cell_type": "code",
   "execution_count": 3,
   "metadata": {
    "ExecuteTime": {
     "end_time": "2021-11-25T09:43:26.518415Z",
     "start_time": "2021-11-25T09:43:26.516467Z"
    }
   },
   "outputs": [],
   "source": [
    "# Import numpy\n",
    "import numpy as np\n",
    "\n",
    "# Import math tools\n",
    "from math import sqrt"
   ]
  },
  {
   "cell_type": "code",
   "execution_count": 1,
   "metadata": {
    "ExecuteTime": {
     "end_time": "2021-11-29T13:08:52.981267Z",
     "start_time": "2021-11-29T13:08:52.976732Z"
    }
   },
   "outputs": [],
   "source": [
    "def eigen(A):\n",
    "    \n",
    "    A11 = A[0, 0] # float\n",
    "    A12 = A[0, 1] # float\n",
    "    A22 = A[1, 1] # float\n",
    "    \n",
    "    discriminant = (A11+A22)**2/4-(A11*A22-A12**2) # float\n",
    "    \n",
    "    if discriminant < 0 or np.isnan(discriminant):\n",
    "        return np.nan, np.nan, np.zeros((1,2))*np.nan, np.zeros((1,2))*np.nan\n",
    "    \n",
    "    lambda_max = (A11+A22)/2+sqrt(discriminant) # float\n",
    "    lambda_min = (A11+A22)/2-sqrt(discriminant) # float\n",
    "    \n",
    "    v_max = np.array([-A12, A11-lambda_max]) # array (2,)\n",
    "    v_max = v_max/sqrt(v_max[0]**2+v_max[1]**2) # array (2,)\n",
    "            \n",
    "    v_min = np.array([-v_max[1], v_max[0]]) # array (2,)\n",
    "    \n",
    "    return lambda_min, lambda_max, v_min, v_max"
   ]
  }
 ],
 "metadata": {
  "kernelspec": {
   "display_name": "Python 3",
   "language": "python",
   "name": "python3"
  },
  "language_info": {
   "codemirror_mode": {
    "name": "ipython",
    "version": 3
   },
   "file_extension": ".py",
   "mimetype": "text/x-python",
   "name": "python",
   "nbconvert_exporter": "python",
   "pygments_lexer": "ipython3",
   "version": "3.7.12"
  },
  "toc": {
   "base_numbering": 1,
   "nav_menu": {},
   "number_sections": true,
   "sideBar": true,
   "skip_h1_title": false,
   "title_cell": "Table of Contents",
   "title_sidebar": "Contents",
   "toc_cell": false,
   "toc_position": {},
   "toc_section_display": true,
   "toc_window_display": false
  }
 },
 "nbformat": 4,
 "nbformat_minor": 4
}
