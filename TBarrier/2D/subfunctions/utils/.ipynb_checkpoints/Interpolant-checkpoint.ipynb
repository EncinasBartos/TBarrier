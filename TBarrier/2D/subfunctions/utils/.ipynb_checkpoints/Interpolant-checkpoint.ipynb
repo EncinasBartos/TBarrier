{
 "cells": [
  {
   "cell_type": "markdown",
   "metadata": {},
   "source": [
    "This function computes the interpolant for the steady/unsteady velocity field. *interpolant_unsteady* is used for unsteady velocity fields, whereas *interpolant_steady* is used for steady velocity fields."
   ]
  },
  {
   "cell_type": "code",
   "execution_count": null,
   "metadata": {
    "code_folding": [
     0
    ]
   },
   "outputs": [],
   "source": [
    "# import Rectangular bivariate spline from scipy\n",
    "from scipy.interpolate import RectBivariateSpline as RBS"
   ]
  },
  {
   "cell_type": "code",
   "execution_count": null,
   "metadata": {
    "code_folding": [
     0
    ]
   },
   "outputs": [],
   "source": [
    "def interpolant_unsteady(X, Y, U, V, method = \"cubic\"):\n",
    "\n",
    "    # Cubic interpolation\n",
    "    if method == \"cubic\":\n",
    "                \n",
    "        kx = 3\n",
    "        ky = 3\n",
    "               \n",
    "    # linear interpolation\n",
    "    elif method == \"linear\":\n",
    "            \n",
    "        kx = 1\n",
    "        ky = 1  \n",
    "            \n",
    "    # define u, v interpolants\n",
    "    Interpolant = [[], []]\n",
    "                    \n",
    "    for j in range(U.shape[2]):\n",
    "                \n",
    "        Interpolant[0].append(RBS(Y[:,0], X[0,:], U[:,:,j], kx=kx, ky=ky))\n",
    "        Interpolant[1].append(RBS(Y[:,0], X[0,:], V[:,:,j], kx=kx, ky=ky))\n",
    "    \n",
    "    return Interpolant"
   ]
  },
  {
   "cell_type": "code",
   "execution_count": null,
   "metadata": {
    "code_folding": [
     0
    ]
   },
   "outputs": [],
   "source": [
    "def interpolant_steady(X, Y, U, V, method = \"cubic\"):\n",
    "        \n",
    "    # Cubic interpolation\n",
    "    if method == \"cubic\":\n",
    "                \n",
    "        kx = 3\n",
    "        ky = 3\n",
    "               \n",
    "    # linear interpolation\n",
    "    elif method == \"linear\":\n",
    "            \n",
    "        kx = 1\n",
    "        ky = 1\n",
    "            \n",
    "    # define u, v interpolants\n",
    "    Interpolant = []\n",
    "                \n",
    "    Interpolant.append(RBS(Y[:,0], X[0,:], U, kx=kx, ky=ky))\n",
    "    Interpolant.append(RBS(Y[:,0], X[0,:], V, kx=kx, ky=ky))  \n",
    "        \n",
    "    return Interpolant"
   ]
  }
 ],
 "metadata": {
  "kernelspec": {
   "display_name": "Python 3",
   "language": "python",
   "name": "python3"
  },
  "language_info": {
   "codemirror_mode": {
    "name": "ipython",
    "version": 3
   },
   "file_extension": ".py",
   "mimetype": "text/x-python",
   "name": "python",
   "nbconvert_exporter": "python",
   "pygments_lexer": "ipython3",
   "version": "3.7.11"
  },
  "toc": {
   "base_numbering": 1,
   "nav_menu": {},
   "number_sections": true,
   "sideBar": true,
   "skip_h1_title": false,
   "title_cell": "Table of Contents",
   "title_sidebar": "Contents",
   "toc_cell": false,
   "toc_position": {},
   "toc_section_display": true,
   "toc_window_display": false
  }
 },
 "nbformat": 4,
 "nbformat_minor": 4
}
