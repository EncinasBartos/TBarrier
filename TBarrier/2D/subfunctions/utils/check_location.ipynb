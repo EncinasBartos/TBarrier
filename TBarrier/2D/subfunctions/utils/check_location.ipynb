{
 "cells": [
  {
   "cell_type": "markdown",
   "metadata": {},
   "source": [
    "This function evaluates the location of the particle at $ \\mathbf{x} $. It returns the leftsided indices of the meshgrid X, Y where the particle is located. Based on the domain where the flow field is defined, the location of the particle is categorized either as being \n",
    "1. inside the flow domain:\"IN\"; This happens at points where the velocity field is locally well defined (= The velocities at the four adjacent grid points of the mesh is defined)\n",
    "2. outside the flow domain: \"OUT\"; This happens at points where the velociy field is not defined at all (= The velocities at the four adjacent grid points of the mesh is not defined)\n",
    "3. at the boundary: \"BOUNDARY\"; This happens at points where the velocity field is only partially defined such as at a wall boundary or at the interface between land and sea.\n",
    "\n",
    "| Name | Type (Shape) | Description |\n",
    "| --- | --- | --- |\n",
    "| X | array (Ny, Nx) | X-meshgrid|\n",
    "| Y | array (Ny, Nx) | Y-meshgrid|\n",
    "| x | array (2,) | $ \\mathbf{x} $ |\n",
    "| defined_domain | array (Ny, Nx) | points on the meshgrid where velocity field is defined |\n",
    "| no_nans_in_domain | bool | variable which indicates whether there are 'nans' in domain. Default is set to 'False' |"
   ]
  },
  {
   "cell_type": "code",
   "execution_count": null,
   "metadata": {},
   "outputs": [],
   "source": [
    "# Import numpy\n",
    "import numpy as np\n",
    "\n",
    "# Import numba (used for scientific computing)\n",
    "from numba import njit"
   ]
  },
  {
   "cell_type": "code",
   "execution_count": 1,
   "metadata": {
    "ExecuteTime": {
     "end_time": "2021-11-25T15:50:07.310061Z",
     "start_time": "2021-11-25T15:50:06.861665Z"
    }
   },
   "outputs": [],
   "source": [
    "@njit\n",
    "def check_location(X, Y, defined_domain, x, no_nans_in_domain = False):\n",
    "    \n",
    "    # Define boundaries\n",
    "    Xmax = X[0,-1]\n",
    "    Xmin = X[0, 0]\n",
    "    Ymin = Y[0, 0]\n",
    "    Ymax = Y[-1,0]\n",
    "    \n",
    "    # current position\n",
    "    xp = x[0]\n",
    "    yp = x[1]\n",
    "    \n",
    "    # if there are non nans inside the domain, then we can just worry about the boundaries\n",
    "    if no_nans_in_domain:\n",
    "        \n",
    "        if Xmin < xp < Xmax and Ymin < yp < Ymax:\n",
    "            \n",
    "            loc = \"IN\"\n",
    "            \n",
    "            return loc, None, None\n",
    "        \n",
    "        else:\n",
    "        \n",
    "            loc = \"OUT\"\n",
    "            \n",
    "            return loc, None, None\n",
    " \n",
    "    # if there are nans in the domain (e.g. Land in the ocean), then we need to take that into account\n",
    "    else:\n",
    "        \n",
    "        # compute left/lower indices of location of the particle with respect to the meshgrid\n",
    "        idx_x = np.searchsorted(X[0,:], xp)\n",
    "        idx_y = np.searchsorted(Y[:,0], yp)\n",
    "        \n",
    "        # check if particle outside rectangular boundaries\n",
    "        if xp < Xmin or xp > Xmax or yp < Ymin or yp > Ymax or np.isnan(xp) or np.isnan(yp):\n",
    "            \n",
    "            loc = \"OUT\"\n",
    "        \n",
    "        else:\n",
    "            \n",
    "            # particle at the left boundary of domain\n",
    "            if idx_x == 0:\n",
    "                    \n",
    "                idx_x = 1\n",
    "            \n",
    "            # particle at the lower boundary of domain\n",
    "            if idx_y == 0:\n",
    "                    \n",
    "                idx_y = 1\n",
    "            \n",
    "            Condition_nan = np.sum(defined_domain[idx_y-1:idx_y+1, idx_x-1:idx_x+1].ravel())\n",
    "        \n",
    "            if Condition_nan == 4:\n",
    "        \n",
    "                loc = \"IN\"\n",
    "                    \n",
    "            else:\n",
    "            \n",
    "                loc = \"OUT\"\n",
    "         \n",
    "        return loc, idx_x, idx_y"
   ]
  }
 ],
 "metadata": {
  "kernelspec": {
   "display_name": "Python 3",
   "language": "python",
   "name": "python3"
  },
  "language_info": {
   "codemirror_mode": {
    "name": "ipython",
    "version": 3
   },
   "file_extension": ".py",
   "mimetype": "text/x-python",
   "name": "python",
   "nbconvert_exporter": "python",
   "pygments_lexer": "ipython3",
   "version": "3.7.12"
  },
  "toc": {
   "base_numbering": 1,
   "nav_menu": {},
   "number_sections": true,
   "sideBar": true,
   "skip_h1_title": false,
   "title_cell": "Table of Contents",
   "title_sidebar": "Contents",
   "toc_cell": false,
   "toc_position": {},
   "toc_section_display": true,
   "toc_window_display": false
  }
 },
 "nbformat": 4,
 "nbformat_minor": 4
}
