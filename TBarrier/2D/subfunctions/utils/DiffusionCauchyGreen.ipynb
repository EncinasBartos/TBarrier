{
 "cells": [
  {
   "cell_type": "markdown",
   "metadata": {},
   "source": [
    "$ \\mathrm{\\overline{C}_{D}}_{t_0}^{t_N}(\\mathbf{x}_0) $ is given by:\n",
    "\n",
    "\\begin{equation}\n",
    "\\mathrm{\\overline{C}_{D}}_{t_0}^{t_N}(\\mathbf{x}_0) = \\dfrac{1}{t_N-t_0} \\int_{t_0}^{t_N}\\text{det }[\\mathbf{D}(\\mathbf{F}_{t_0}^t(\\mathbf{x}_0), t)] [\\mathbf{T}_{t_0}^t(\\mathbf{x}_0)]^{-1}dt \n",
    "\\end{equation}\n",
    "\n",
    "and denotes the time-averaged, diffusivity structure-weighted version of the classic right Cauchy–Green strain tensor. \n",
    "\n",
    "The transport tensor $ \\mathrm{T_{t_0}^{t}}(\\mathbf{x}_0) $ is given by:\n",
    "\n",
    "\\begin{equation}\n",
    "\\mathrm{T_{t_0}^{t}}(\\mathbf{x}_0) = [\\nabla \\mathbf{F}_{t_0}^t]^{-1}(\\mathbf{x}_0) \\mathbf{D}(\\mathbf{F}_{t_0}^t(\\mathbf{x}_0), t)) [\\nabla \\mathbf{F}_{t_0}^t]^{-T}(\\mathbf{x}_0).\n",
    "\\end{equation}\n",
    "\n",
    "\n",
    "It thus holds:\n",
    "\n",
    "\\begin{equation}\n",
    "\\mathrm{\\overline{C}_{D}}_{t_0}^{t_N}(\\mathbf{x}_0) = \\dfrac{1}{t_N-t_0} \\int_{t_0}^{t_N}\\text{det }[\\mathbf{D}(\\mathbf{F}_{t_0}^t(\\mathbf{x}_0), t)] [\\nabla \\mathbf{F}_{t_0}^t]^{T}(\\mathbf{x}_0)\\mathbf{D}(\\mathbf{F}_{t_0}^t(\\mathbf{x}_0), t)^{-1}[\\nabla \\mathbf{F}_{t_0}^t(\\mathbf{x}_0)] dt\n",
    "\\end{equation}\n",
    "\n",
    "$ \\mathbf{D}(\\mathbf{x}(t), t) = \\mathbf{D}(\\mathbf{x}(t), t)^T = \\begin{pmatrix} D_{11} && D_{12} \\\\ D_{12} && D_{22} \\end{pmatrix} $ denotes a continuously differentiable, positive definite diffusion-structure tensor, with possible anisotropy, spatial and temporal variation. $ \\mathbf{D}(\\mathbf{x}(t), t) $ must also be an objective tensor. In the following notebooks we will omit spatial and temporal variations of the $ D(\\mathbf{x}(t), t) $ and assume it to be constant. For isotropic diffusion ($ \\mathbf{D}(\\mathbf{x}(t), t) = \\mathbf{I} $) it holds:\n",
    "\n",
    "\\begin{equation}\n",
    "\\mathrm{T_{t_0}^{t}}(\\mathbf{x}_0) = [\\mathbf{C}_{t_0}^t]^{-1}(\\mathbf{x}_0).\n",
    "\\end{equation}"
   ]
  },
  {
   "cell_type": "markdown",
   "metadata": {
    "ExecuteTime": {
     "end_time": "2021-11-28T22:59:16.946922Z",
     "start_time": "2021-11-28T22:59:16.938943Z"
    }
   },
   "source": [
    "| Name | Type (Shape) | Description |\n",
    "| --- | --- | --- |\n",
    "| Interpolant_D11 | Interpolant object | Interpolant for $ D_{11} $|\n",
    "| Interpolant_D22 | Interpolant object | Interpolant for $ D_{22} $|\n",
    "| Interpolant_D12 | Interpolant object | Interpolant for $ D_{12} $|\n",
    "| time | array (N, ) | time |\n",
    "| Fmap | array (N,2) | flow map |\n",
    "| gradFmap | array (2, 2, N) | gradient of flow-map |\n",
    "| lenT | float | $ t_N-t_0 $ |\n",
    "| n_averaging | int | approximate the average with N/n_averaging  points |\n",
    "| T_avg | array (2, 2) | transport tensor $ \\mathrm{\\overline{T}_{t_0}^{t_N}}(\\mathbf{x}_0) $|"
   ]
  },
  {
   "cell_type": "code",
   "execution_count": 4,
   "metadata": {
    "ExecuteTime": {
     "end_time": "2021-11-29T19:09:10.508018Z",
     "start_time": "2021-11-29T19:09:10.375780Z"
    }
   },
   "outputs": [],
   "source": [
    "# Import numpy\n",
    "import numpy as np"
   ]
  },
  {
   "cell_type": "code",
   "execution_count": 6,
   "metadata": {
    "ExecuteTime": {
     "end_time": "2021-11-29T19:09:10.515197Z",
     "start_time": "2021-11-29T19:09:10.510021Z"
    }
   },
   "outputs": [],
   "source": [
    "def DiffusionCauchyGreen(Interpolant_D11, Interpolant_D12, Interpolant_D22, time, Fmap, gradFmap, lenT, n_averaging = 10):\n",
    "    \n",
    "    #evaluate the integral at these indices\n",
    "    indices = range(0, gradFmap.shape[2], n_averaging)\n",
    "    \n",
    "    # Diffusive Cauchy Green\n",
    "    Cd = np.zeros((2,2,len(indices))) * np.nan \n",
    "    \n",
    "    \n",
    "    counter = 0\n",
    "    \n",
    "    for i in indices:\n",
    "        \n",
    "        # evaluate D11 at x(t)\n",
    "        D11 = Interpolant_D11([Fmap[1, i], Fmap[0, i], time[i]])[0]\n",
    "        \n",
    "        # evaluate D12 at x(t)\n",
    "        D12 = Interpolant_D12([Fmap[1, i], Fmap[0, i], time[i]])[0]\n",
    "        \n",
    "        # evaluate D22 at x(t)\n",
    "        D22 = Interpolant_D22([Fmap[1, i], Fmap[0, i], time[i]])[0]\n",
    "\n",
    "        # determinant of D\n",
    "        detD = D11*D22 - D12**2\n",
    "        \n",
    "        D = np.array([[D11, D12], [D12, D22]])\n",
    "\n",
    "        # diffusion averaged CG tensor\n",
    "        Cd[:,:,counter] = detD*(gradFmap[:,:,i].transpose()@(D@gradFmap[:,:,i]))\n",
    "        \n",
    "        counter+=1\n",
    "    return np.average(Cd, axis = 2)"
   ]
  }
 ],
 "metadata": {
  "kernelspec": {
   "display_name": "Python 3",
   "language": "python",
   "name": "python3"
  },
  "language_info": {
   "codemirror_mode": {
    "name": "ipython",
    "version": 3
   },
   "file_extension": ".py",
   "mimetype": "text/x-python",
   "name": "python",
   "nbconvert_exporter": "python",
   "pygments_lexer": "ipython3",
   "version": "3.7.12"
  },
  "toc": {
   "base_numbering": 1,
   "nav_menu": {},
   "number_sections": true,
   "sideBar": true,
   "skip_h1_title": false,
   "title_cell": "Table of Contents",
   "title_sidebar": "Contents",
   "toc_cell": false,
   "toc_position": {},
   "toc_section_display": true,
   "toc_window_display": false
  }
 },
 "nbformat": 4,
 "nbformat_minor": 4
}
