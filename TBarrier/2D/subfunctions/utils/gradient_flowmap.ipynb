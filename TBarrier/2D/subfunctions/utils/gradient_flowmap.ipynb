{
 "cells": [
  {
   "cell_type": "markdown",
   "metadata": {},
   "source": [
    "This function computes the gradient of the flow map $ \\nabla \\mathbf{F}_{t_0}^{t}(\\mathbf{x_0}) $ at $ \\mathbf{x}_0 $ at time $ t $.\n",
    "\n",
    "| Name | Type (Shape) | Description |\n",
    "| --- | --- | --- |\n",
    "| t | float | time |\n",
    "| x | array (2,) | $ \\mathbf{x}_0 $ |\n",
    "| X | array (Ny, Nx) | X-meshgrid of velocity data|\n",
    "| Y | array (Ny, Nx) | Y-meshgrid of velocity data|\n",
    "| Interpolant | list (2,) | Interpolant[0]: Interpolant object for $ u((\\mathbf{x}, t))  $ <br /> Interpolant[1]: Interpolant object for $ v((\\mathbf{x}, t))  $. <br /> <br /> The interpolation, however, works only <br /> if the particle is in the defined flow domain. <br /> At the boundary of the domain, <br /> the interpolant is not defined.|\n",
    "| periodic | list (2,) | periodic[0]: periodicity in x <br /> periodic[1]: periodicity in y <br />|\n",
    "| defined_domain | array (Ny, Nx) | points on the meshgrid where velocity field is defined |\n",
    "| bool_unsteady | bool | specifies if velocity field is unsteady/steady |\n",
    "| time_data | array(1,Nt) | time of velocity data |\n",
    "| delta | list (2,) | delta[0]: x-grid spacing of the velocity data <br /> delta[1]: y-grid spacing of the velocity data|\n",
    "| aux_grid | list (2,) | aux_grid[0]: dx auxiliary spacing <br /> aux_grid[1]: dy auxiliary spacing |\n",
    "| gradFmap | array (2,2) | $ \\nabla \\mathbf{F}_{t_0}^{t}(\\mathbf{x_0}) $ |"
   ]
  },
  {
   "cell_type": "code",
   "execution_count": 1,
   "metadata": {
    "ExecuteTime": {
     "end_time": "2021-12-15T00:59:57.913511Z",
     "start_time": "2021-12-15T00:59:57.898551Z"
    }
   },
   "outputs": [],
   "source": [
    "import sys, os\n",
    "\n",
    "# get current directory\n",
    "path = os.getcwd()\n",
    "\n",
    "# get parent directory\n",
    "parent_directory = os.path.sep.join(path.split(os.path.sep)[:-1])\n",
    "\n",
    "# add integration folder to current working path in order to access the functions\n",
    "sys.path.append(parent_directory+\"/integration\")"
   ]
  },
  {
   "cell_type": "code",
   "execution_count": 2,
   "metadata": {
    "ExecuteTime": {
     "end_time": "2021-12-15T00:59:58.287856Z",
     "start_time": "2021-12-15T00:59:57.914509Z"
    }
   },
   "outputs": [],
   "source": [
    "# Import numpy\n",
    "import numpy as np\n",
    "\n",
    "# Import package which checks particle location\n",
    "from ipynb.fs.defs.check_location import check_location\n",
    "\n",
    "# Import package for progress bar\n",
    "from tqdm.notebook import tqdm\n",
    "\n",
    "# function to compute trajectory from dFdt\n",
    "from ipynb.fs.defs.integration_dFdt import integration_dFdt\n",
    "\n",
    "import matplotlib.pyplot as plt"
   ]
  },
  {
   "cell_type": "code",
   "execution_count": 3,
   "metadata": {
    "ExecuteTime": {
     "end_time": "2021-12-15T00:59:58.319772Z",
     "start_time": "2021-12-15T00:59:58.291825Z"
    }
   },
   "outputs": [],
   "source": [
    "def gradient_flowmap(time, x, X, Y, Interpolant_u, Interpolant_v, periodic, defined_domain, bool_unsteady, time_data, aux_grid):\n",
    "    \n",
    "    # define auxiliary grid spacing\n",
    "    rho_x = aux_grid[0]\n",
    "    rho_y = aux_grid[1]\n",
    "    \n",
    "    x = x.reshape(2, -1)\n",
    "    \n",
    "    X0, XL, XR, XU, XD = [], [], [], [], []\n",
    "\n",
    "    nan_mask = []\n",
    "    \n",
    "    for i in range(x.shape[1]):\n",
    "        \n",
    "        xr = x[0, i] + rho_x\n",
    "        xl = x[0, i] - rho_x\n",
    "        yu = x[1, i] + rho_y\n",
    "        yd = x[1, i] - rho_y\n",
    "        \n",
    "        bool_xr = (check_location(X, Y, defined_domain, np.array([xr, x[1, i]]))[0] == \"IN\")\n",
    "        bool_xl = (check_location(X, Y, defined_domain, np.array([xl, x[1, i]]))[0] == \"IN\")\n",
    "        bool_yu = (check_location(X, Y, defined_domain, np.array([x[0, i], yu]))[0] == \"IN\")\n",
    "        bool_yd = (check_location(X, Y, defined_domain, np.array([x[0, i], yd]))[0] == \"IN\")\n",
    "        \n",
    "        # check initial location of particles. Only compute gradient of flow map for those particles whose auxiliary trajectories are all within the defined flow domain\n",
    "        if bool_xr and bool_xl and bool_yu and bool_yd:\n",
    "            \n",
    "            nan_mask.append(True)\n",
    "            \n",
    "        else:\n",
    "            \n",
    "            nan_mask.append(False)\n",
    "    \n",
    "        X0.append([x[0, i], x[1, i]])\n",
    "        XL.append([xl, x[1, i]])\n",
    "        XR.append([xr, x[1, i]])\n",
    "        XU.append([x[0, i], yu])\n",
    "        XD.append([x[0, i], yd])\n",
    "    \n",
    "    X0 = np.array(X0).transpose()\n",
    "    XL = np.array(XL).transpose()\n",
    "    XR = np.array(XR).transpose()\n",
    "    XU = np.array(XU).transpose()\n",
    "    XD = np.array(XD).transpose()\n",
    "    \n",
    "    # launch trajectories from auxiliary grid\n",
    "    XLend = integration_dFdt(time, XL, X, Y, Interpolant_u, Interpolant_v, periodic, bool_unsteady, time_data)[0]\n",
    "    XRend = integration_dFdt(time, XR, X, Y, Interpolant_u, Interpolant_v, periodic, bool_unsteady, time_data)[0]\n",
    "    XDend = integration_dFdt(time, XD, X, Y, Interpolant_u, Interpolant_v, periodic, bool_unsteady, time_data)[0]\n",
    "    XUend = integration_dFdt(time, XU, X, Y, Interpolant_u, Interpolant_v, periodic, bool_unsteady, time_data)[0]\n",
    "    gradFmap = np.zeros((XLend.shape[0], 2, 2, XLend.shape[2]))\n",
    "    \n",
    "    # compute gradient of flow map over time interval\n",
    "    \n",
    "    for i in range(X0.shape[1]):\n",
    "        \n",
    "        if nan_mask[i]:\n",
    "        \n",
    "            for j in range(len(time)):\n",
    "\n",
    "                gradFmap[j,0,0,i] = (XRend[j,0,i]-XLend[j,0,i])/(2*rho_x)\n",
    "                gradFmap[j,1,0,i] = (XRend[j,1,i]-XLend[j,1,i])/(2*rho_x)\n",
    "        \n",
    "                gradFmap[j,0,1,i] = (XUend[j,0,i]-XDend[j,0,i])/(2*rho_y)\n",
    "                gradFmap[j,1,1,i] = (XUend[j,1,i]-XDend[j,1,i])/(2*rho_y)\n",
    "                \n",
    "        else:\n",
    "            \n",
    "            gradFmap[:,:,:,i] = np.nan\n",
    "    \n",
    "    print(\"Computation of gradient of flow map: DONE\")\n",
    "    \n",
    "    return gradFmap"
   ]
  }
 ],
 "metadata": {
  "kernelspec": {
   "display_name": "Python 3",
   "language": "python",
   "name": "python3"
  },
  "language_info": {
   "codemirror_mode": {
    "name": "ipython",
    "version": 3
   },
   "file_extension": ".py",
   "mimetype": "text/x-python",
   "name": "python",
   "nbconvert_exporter": "python",
   "pygments_lexer": "ipython3",
   "version": "3.7.11"
  },
  "toc": {
   "base_numbering": 1,
   "nav_menu": {},
   "number_sections": true,
   "sideBar": true,
   "skip_h1_title": false,
   "title_cell": "Table of Contents",
   "title_sidebar": "Contents",
   "toc_cell": false,
   "toc_position": {},
   "toc_section_display": true,
   "toc_window_display": false
  }
 },
 "nbformat": 4,
 "nbformat_minor": 4
}
