{
 "cells": [
  {
   "cell_type": "markdown",
   "metadata": {},
   "source": [
    "This function computes the gradient of the flow map $ \\nabla \\mathbf{F}_{t_0}^{t}(\\mathbf{x_0}) $ at $ \\mathbf{x}_0 $ at time $ t $.\n",
    "\n",
    "| Name | Type (Shape) | Description |\n",
    "| --- | --- | --- |\n",
    "| t | float | time |\n",
    "| x | array (2,) | $ \\mathbf{x}_0 $ |\n",
    "| X | array (NY, NX) | X-meshgrid of velocity data|\n",
    "| Y | array (NY, NX) | Y-meshgrid of velocity data|\n",
    "| Interpolant_u | Interpolant object | Interpolant object for $ u(\\mathbf{x}, t)  $ |\n",
    "| Interpolant_v | Interpolant object | Interpolant object for $ v(\\mathbf{x}, t)  $ |\n",
    "| periodic | list (3,) | periodic[0]: periodicity in x <br /> periodic[1]: periodicity in y <br /> periodic[2]: periodicity in time|\n",
    "| defined_domain | array (NY, NX) | points on the meshgrid where velocity field is defined |\n",
    "| bool_unsteady | bool | specifies if velocity field is unsteady/steady |\n",
    "| time_data | array(1,NT) | time of velocity data |\n",
    "| aux_grid | list (2,) | aux_grid[0]: dx auxiliary spacing <br /> aux_grid[1]: dy auxiliary spacing |\n",
    "| gradFmap | array (2,2) | $ \\nabla \\mathbf{F}_{t_0}^{t}(\\mathbf{x_0}) $ |"
   ]
  },
  {
   "cell_type": "code",
   "execution_count": 1,
   "metadata": {
    "ExecuteTime": {
     "end_time": "2021-12-15T00:59:57.913511Z",
     "start_time": "2021-12-15T00:59:57.898551Z"
    }
   },
   "outputs": [],
   "source": [
    "import sys, os\n",
    "\n",
    "# get current directory\n",
    "path = os.getcwd()\n",
    "\n",
    "# get parent directory\n",
    "parent_directory = os.path.sep.join(path.split(os.path.sep)[:-1])\n",
    "\n",
    "# add integration folder to current working path in order to access the functions\n",
    "sys.path.append(parent_directory+\"/integration\")"
   ]
  },
  {
   "cell_type": "code",
   "execution_count": 2,
   "metadata": {
    "ExecuteTime": {
     "end_time": "2021-12-15T00:59:58.287856Z",
     "start_time": "2021-12-15T00:59:57.914509Z"
    }
   },
   "outputs": [],
   "source": [
    "# Import numpy\n",
    "import numpy as np\n",
    "\n",
    "# Import function to check particle location\n",
    "from ipynb.fs.defs.check_location import check_location\n",
    "\n",
    "# Import function to compute trajectories (=flow map)\n",
    "from ipynb.fs.defs.integration_dFdt import integration_dFdt"
   ]
  },
  {
   "cell_type": "code",
   "execution_count": 3,
   "metadata": {
    "ExecuteTime": {
     "end_time": "2021-12-15T00:59:58.319772Z",
     "start_time": "2021-12-15T00:59:58.291825Z"
    }
   },
   "outputs": [],
   "source": [
    "def gradient_flowmap(time, x, X, Y, Interpolant_u, Interpolant_v, periodic, defined_domain, bool_unsteady, time_data, aux_grid):\n",
    "    '''\n",
    "    Calculates the gradient of the flowmap for a flow given by u, v, velocities, starting from given initial conditions. \n",
    "    The initial conditions can be specified as an array. \n",
    "    \n",
    "    Parameters:\n",
    "        time: array (Nt,),  time instant  \n",
    "        x: array (2, Npoints),  array of ICs\n",
    "        X: array (NY, NX)  X-meshgrid\n",
    "        Y: array (NY, NX)  Y-meshgrid \n",
    "        Interpolant_u: Interpolant object for u(x, t)\n",
    "        Interpolant_v: Interpolant object for v(x, t)\n",
    "        periodic: list of 3 bools, periodic[i] is True if the flow is periodic in the ith coordinate. Time is i=3.\n",
    "        bool_unsteady:  specifies if velocity field is unsteady/steady\n",
    "        time_data: array(Nt, ) time of velocity data\n",
    "        aux_grid: array(2,), grid spacing for the auxiliary grid \n",
    "\n",
    "    Returns:\n",
    "        gradFmap: array(Nt, 2, 2, Npoints), gradient of the flowmap (2 by 2 matrix) for each time instant and each spatial point\n",
    "    '''\n",
    "    # define auxiliary grid spacing\n",
    "    rho_x = aux_grid[0]\n",
    "    rho_y = aux_grid[1]\n",
    "    \n",
    "    x = x.reshape(2, -1)\n",
    "    \n",
    "    X0, XL, XR, XU, XD = [], [], [], [], []\n",
    "\n",
    "    nan_mask = []\n",
    "    \n",
    "    for i in range(x.shape[1]):\n",
    "        \n",
    "        xr = x[0, i] + rho_x # float\n",
    "        xl = x[0, i] - rho_x # float\n",
    "        yu = x[1, i] + rho_y # float\n",
    "        yd = x[1, i] - rho_y # float\n",
    "        \n",
    "        bool_xr = (check_location(X, Y, defined_domain, np.array([xr, x[1, i]]))[0] == \"IN\") # bool\n",
    "        bool_xl = (check_location(X, Y, defined_domain, np.array([xl, x[1, i]]))[0] == \"IN\") # bool\n",
    "        bool_yu = (check_location(X, Y, defined_domain, np.array([x[0, i], yu]))[0] == \"IN\") # bool\n",
    "        bool_yd = (check_location(X, Y, defined_domain, np.array([x[0, i], yd]))[0] == \"IN\") # bool\n",
    "        \n",
    "        # check initial location of particles. Only compute gradient of flow map for those particles whose auxiliary trajectories are all within the defined flow domain\n",
    "        if bool_xr and bool_xl and bool_yu and bool_yd:\n",
    "            \n",
    "            nan_mask.append(True)\n",
    "            \n",
    "        else:\n",
    "            \n",
    "            nan_mask.append(False)\n",
    "    \n",
    "        X0.append([x[0, i], x[1, i]])\n",
    "        XL.append([xl, x[1, i]])\n",
    "        XR.append([xr, x[1, i]])\n",
    "        XU.append([x[0, i], yu])\n",
    "        XD.append([x[0, i], yd])\n",
    "    \n",
    "    X0 = np.array(X0).transpose()\n",
    "    XL = np.array(XL).transpose()\n",
    "    XR = np.array(XR).transpose()\n",
    "    XU = np.array(XU).transpose()\n",
    "    XD = np.array(XD).transpose()\n",
    "    \n",
    "    # launch trajectories from auxiliary grid\n",
    "    XLend = integration_dFdt(time, XL, X, Y, Interpolant_u, Interpolant_v, periodic, bool_unsteady, time_data)[0] # array (Nt, 2)\n",
    "    \n",
    "    XRend = integration_dFdt(time, XR, X, Y, Interpolant_u, Interpolant_v, periodic, bool_unsteady, time_data)[0] # array (Nt, 2)\n",
    "    \n",
    "    XDend = integration_dFdt(time, XD, X, Y, Interpolant_u, Interpolant_v, periodic, bool_unsteady, time_data)[0] # array (Nt, 2)\n",
    "    \n",
    "    XUend = integration_dFdt(time, XU, X, Y, Interpolant_u, Interpolant_v, periodic, bool_unsteady, time_data)[0] # array (Nt, 2)\n",
    "    \n",
    "    # compute gradient of flow map over time interval\n",
    "    gradFmap = iterate_gradient(XRend, XLend, XUend, XDend) # array (Nt, 2, 2, Nx*Ny)\n",
    "    \n",
    "    return iterate_gradient(XRend, XLend, XUend, XDend)"
   ]
  },
  {
   "cell_type": "code",
   "execution_count": null,
   "metadata": {},
   "outputs": [],
   "source": [
    "from numba import njit, prange\n",
    "\n",
    "@njit(parallel = True)\n",
    "def iterate_gradient(XRend, XLend, XUend, XDend):\n",
    "    \n",
    "    gradFmap = np.zeros((XLend.shape[0], 2, 2, XLend.shape[2])) # array (Nt, 2, 2, Nx*Ny)\n",
    "    \n",
    "    for i in prange(XLend.shape[2]):      \n",
    "            \n",
    "        for j in prange(XLend.shape[0]):\n",
    "\n",
    "            gradFmap[j,0,0,i] = (XRend[j,0,i]-XLend[j,0,i])/(XRend[0,0,i]-XLend[0,0,i])\n",
    "            gradFmap[j,1,0,i] = (XRend[j,1,i]-XLend[j,1,i])/(XRend[0,0,i]-XLend[0,0,i])\n",
    "        \n",
    "            gradFmap[j,0,1,i] = (XUend[j,0,i]-XDend[j,0,i])/(XUend[0,1,i]-XDend[0,1,i])\n",
    "            gradFmap[j,1,1,i] = (XUend[j,1,i]-XDend[j,1,i])/(XUend[0,1,i]-XDend[0,1,i])\n",
    "            \n",
    "    return gradFmap"
   ]
  }
 ],
 "metadata": {
  "kernelspec": {
   "display_name": "Python 3",
   "language": "python",
   "name": "python3"
  },
  "language_info": {
   "codemirror_mode": {
    "name": "ipython",
    "version": 3
   },
   "file_extension": ".py",
   "mimetype": "text/x-python",
   "name": "python",
   "nbconvert_exporter": "python",
   "pygments_lexer": "ipython3",
   "version": "3.7.12"
  },
  "toc": {
   "base_numbering": 1,
   "nav_menu": {},
   "number_sections": true,
   "sideBar": true,
   "skip_h1_title": false,
   "title_cell": "Table of Contents",
   "title_sidebar": "Contents",
   "toc_cell": false,
   "toc_position": {},
   "toc_section_display": true,
   "toc_window_display": false
  }
 },
 "nbformat": 4,
 "nbformat_minor": 4
}
