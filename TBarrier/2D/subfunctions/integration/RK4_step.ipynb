{
 "cells": [
  {
   "cell_type": "markdown",
   "metadata": {
    "ExecuteTime": {
     "end_time": "2021-11-25T16:51:30.640266Z",
     "start_time": "2021-11-25T16:51:30.633301Z"
    }
   },
   "source": [
    "| Name | Type (Shape) | Description |\n",
    "| --- | --- | --- |\n",
    "| time | float | time |\n",
    "| x | array (2,) | $ \\mathbf{x} $ |\n",
    "| X | array (NX, NY) | X-meshgrid of velocity data|\n",
    "| Y | array (NX, NY) | Y-meshgrid of velocity data|\n",
    "| Interpolant_u | Interpolant object | Interpolant object for $ u(\\mathbf{x}, t)  $ |\n",
    "| Interpolant_v | Interpolant object | Interpolant object for $ v(\\mathbf{x}, t)  $ |\n",
    "| periodic | list (3,) | periodic[0]: periodicity in x <br /> periodic[1]: periodicity in y <br /> periodic[2]: periodicity in time|\n",
    "| defined_domain | array (NX, NY) | points on the meshgrid where velocity field is defined |\n",
    "| bool_unsteady | bool | specifies if velocity field is unsteady/steady |\n",
    "| time_data | array(1,NT) | time of velocity data |\n",
    "| delta | list (2,) | delta[0]: x-grid spacing of the velocity data <br /> delta[1]: y-grid spacing of the velocity data|"
   ]
  },
  {
   "cell_type": "code",
   "execution_count": 1,
   "metadata": {
    "ExecuteTime": {
     "end_time": "2021-12-15T10:33:55.467618Z",
     "start_time": "2021-12-15T10:33:55.464317Z"
    }
   },
   "outputs": [],
   "source": [
    "import sys, os\n",
    "\n",
    "# get current directory\n",
    "path = os.getcwd()\n",
    "\n",
    "# get parent directory\n",
    "parent_directory = os.path.sep.join(path.split(os.path.sep)[:-1])\n",
    "\n",
    "# add utils folder to current working path in order to access the functions\n",
    "sys.path.append(parent_directory+\"/utils\")"
   ]
  },
  {
   "cell_type": "code",
   "execution_count": 2,
   "metadata": {
    "ExecuteTime": {
     "end_time": "2021-12-15T10:33:56.012182Z",
     "start_time": "2021-12-15T10:33:55.469239Z"
    }
   },
   "outputs": [],
   "source": [
    "# Import numpy\n",
    "import numpy as np\n",
    "\n",
    "# Import package to solve ODE\n",
    "from scipy.integrate import solve_ivp\n",
    "\n",
    "# function which evalutes derivative of flow map\n",
    "from ipynb.fs.defs.dFdt import dFdt\n",
    "\n",
    "# function which computes particle velocity\n",
    "from ipynb.fs.defs.velocity import velocity"
   ]
  },
  {
   "cell_type": "code",
   "execution_count": 3,
   "metadata": {
    "ExecuteTime": {
     "end_time": "2021-12-15T10:33:56.020050Z",
     "start_time": "2021-12-15T10:33:56.014162Z"
    }
   },
   "outputs": [],
   "source": [
    "def RK4_step(t, x1, dt, X, Y, Interpolant_u, Interpolant_v, periodic, bool_unsteady, time_data):\n",
    "    \n",
    "    # Compute x_prime at the beginning of the time-step by re-orienting and rescaling the vector field\n",
    "    x_prime = velocity(t, x1, X, Y, Interpolant_u, Interpolant_v, periodic, bool_unsteady, time_data)\n",
    "    \n",
    "    # compute derivative\n",
    "    k1 = dt * x_prime\n",
    "\n",
    "    # Update position at the first midpoint.\n",
    "    x2 = x1 + .5 * k1\n",
    "     \n",
    "    # Update time\n",
    "    t = t+.5*dt\n",
    "    \n",
    "    # Compute x_prime at the first midpoint.\n",
    "    x_prime = velocity(t, x2, X, Y, Interpolant_u, Interpolant_v, periodic, bool_unsteady, time_data)\n",
    "    \n",
    "    # compute derivative\n",
    "    k2 = dt * x_prime\n",
    "\n",
    "    # Update position at the second midpoint.\n",
    "    x3 = x1 + .5 * k2\n",
    "    \n",
    "    # Update time\n",
    "    t = t+.5*dt\n",
    "    \n",
    "    # Compute x_prime at the second midpoint.\n",
    "    x_prime = velocity(t, x3, X, Y, Interpolant_u, Interpolant_v, periodic, bool_unsteady, time_data)\n",
    "    \n",
    "    # compute derivative\n",
    "    k3 = dt * x_prime\n",
    "    \n",
    "    # Update position at the endpoint.\n",
    "    x4 = x1 + k3\n",
    "    \n",
    "    # Update time\n",
    "    t = t+dt\n",
    "    \n",
    "    # Compute derivative at the end of the time-step.\n",
    "    x_prime = velocity(t, x4, X, Y, Interpolant_u, Interpolant_v, periodic, bool_unsteady, time_data) \n",
    "    \n",
    "    # compute derivative\n",
    "    k4 = dt * x_prime\n",
    "    \n",
    "    # Compute RK4 derivative\n",
    "    y_prime_update = 1.0 / 6.0*(k1 + 2 * k2 + 2 * k3 + k4)\n",
    "    \n",
    "    # Integration y <-- y + y_prime*dt\n",
    "    y_update = x1 + y_prime_update\n",
    "    \n",
    "    return y_update, y_prime_update/dt"
   ]
  }
 ],
 "metadata": {
  "kernelspec": {
   "display_name": "Python 3",
   "language": "python",
   "name": "python3"
  },
  "language_info": {
   "codemirror_mode": {
    "name": "ipython",
    "version": 3
   },
   "file_extension": ".py",
   "mimetype": "text/x-python",
   "name": "python",
   "nbconvert_exporter": "python",
   "pygments_lexer": "ipython3",
   "version": "3.7.12"
  },
  "toc": {
   "base_numbering": 1,
   "nav_menu": {},
   "number_sections": true,
   "sideBar": true,
   "skip_h1_title": false,
   "title_cell": "Table of Contents",
   "title_sidebar": "Contents",
   "toc_cell": false,
   "toc_position": {},
   "toc_section_display": true,
   "toc_window_display": false
  }
 },
 "nbformat": 4,
 "nbformat_minor": 4
}
