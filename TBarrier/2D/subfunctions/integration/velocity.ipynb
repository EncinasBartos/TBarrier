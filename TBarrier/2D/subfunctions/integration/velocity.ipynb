{
 "cells": [
  {
   "cell_type": "markdown",
   "metadata": {},
   "source": [
    "The particle dynamics in a general velocity field $ \\mathbf{u}(\\mathbf{x}, t) = \\begin{pmatrix} u(\\mathbf{x}, t) \\\\ v(\\mathbf{x}, t) \\end{pmatrix} $. This function evaluates the velocity field $ \\mathbf{u}(\\mathbf{x}, t) $, at point $ \\mathbf{x} $ at time $ t $.\n",
    "\n",
    "| Name | Type (Shape) | Description |\n",
    "| --- | --- | --- |\n",
    "| t | float | time |\n",
    "| x | array (2,) | $ \\mathbf{x} $ |\n",
    "| Interpolant_u | object | Interpolant object for $ u(\\mathbf{x}, t) $ |\n",
    "| Interpolant_v | object | Interpolant object for $ v(\\mathbf{x}, t) $ |\n",
    "| time_data | array(1,Nt) | time of velocity data |\n",
    "| bool_unsteady | bool | specifies if velocity field is unsteady/steady |\n",
    "| vel | array (2,) | $ \\mathbf{v}(\\mathbf{x}, t) $ |"
   ]
  },
  {
   "cell_type": "code",
   "execution_count": 1,
   "metadata": {
    "ExecuteTime": {
     "end_time": "2021-11-25T16:49:34.574190Z",
     "start_time": "2021-11-25T16:49:34.571273Z"
    }
   },
   "outputs": [],
   "source": [
    "import sys, os\n",
    "\n",
    "# get current directory\n",
    "path = os.getcwd()\n",
    "\n",
    "# get parent directory\n",
    "parent_directory = os.path.sep.join(path.split(os.path.sep)[:-1])\n",
    "\n",
    "# add Algorithm folder to current working path in order to access the functions\n",
    "sys.path.append(parent_directory+\"/utils\")"
   ]
  },
  {
   "cell_type": "code",
   "execution_count": 2,
   "metadata": {
    "ExecuteTime": {
     "end_time": "2021-11-25T16:49:35.050000Z",
     "start_time": "2021-11-25T16:49:34.575786Z"
    }
   },
   "outputs": [],
   "source": [
    "# Import numpy\n",
    "import numpy as np"
   ]
  },
  {
   "cell_type": "code",
   "execution_count": 3,
   "metadata": {
    "ExecuteTime": {
     "end_time": "2021-11-25T16:49:35.057542Z",
     "start_time": "2021-11-25T16:49:35.052218Z"
    }
   },
   "outputs": [],
   "source": [
    "def velocity(t, r, X, Y, Interpolant_u, Interpolant_v, periodic, bool_unsteady, time_data):\n",
    "    \n",
    "    # check if periodic in x\n",
    "    if periodic[0]:\n",
    "        \n",
    "        r[0,:] = (r[0,:]-X[0,0])%(X[0, -1]-X[0, 0])+X[0,0]\n",
    "    \n",
    "    # check if periodic in y\n",
    "    if periodic[1]:\n",
    "        \n",
    "        r[1,:] = (r[1,:]-Y[0,0])%(Y[-1, 0]-Y[0, 0])+Y[0,0]\n",
    "        \n",
    "    if periodic[2]:\n",
    "        \n",
    "        t = t%(time_data[0,-1]-time_data[0,0])+time_data[0,0]\n",
    "    \n",
    "    dt_data = time_data[0,1]-time_data[0,0]\n",
    "    \n",
    "    # Unsteady case\n",
    "    if bool_unsteady:\n",
    "\n",
    "        k = int(t/dt_data)\n",
    "    \n",
    "        # evaluate velocity field at time t\n",
    "        if k >= len(Interpolant_u)-1:\n",
    "            u = Interpolant_u[-1](r[1,:], r[0,:], grid = False)\n",
    "            v = Interpolant_v[-1](r[1,:], r[0,:], grid = False)\n",
    "            \n",
    "        else: \n",
    "    \n",
    "            ui = Interpolant_u[k](r[1,:], r[0,:], grid = False)\n",
    "            uf = Interpolant_u[k+1](r[1,:], r[0,:], grid = False)\n",
    "            u = ((k+1)*dt_data-t)/dt_data*ui + (t-k*dt_data)/dt_data*uf\n",
    "\n",
    "            vi = Interpolant_v[k](r[1,:], r[0,:], grid = False)\n",
    "            vf = Interpolant_v[k+1](r[1,:], r[0,:], grid = False)\n",
    "            v = ((k+1)*dt_data-t)/dt_data*vi + (t-k*dt_data)/dt_data*vf\n",
    "        \n",
    "    # Steady case        \n",
    "    elif bool_unsteady == False:\n",
    "            \n",
    "        u = Interpolant_u(r[:,1], r[:,0], grid = False)\n",
    "        v = Interpolant_v(r[:,1], r[:,0], grid = False)\n",
    "    \n",
    "    return np.array([u, v])"
   ]
  }
 ],
 "metadata": {
  "kernelspec": {
   "display_name": "Python 3",
   "language": "python",
   "name": "python3"
  },
  "language_info": {
   "codemirror_mode": {
    "name": "ipython",
    "version": 3
   },
   "file_extension": ".py",
   "mimetype": "text/x-python",
   "name": "python",
   "nbconvert_exporter": "python",
   "pygments_lexer": "ipython3",
   "version": "3.7.12"
  },
  "toc": {
   "base_numbering": 1,
   "nav_menu": {},
   "number_sections": true,
   "sideBar": true,
   "skip_h1_title": false,
   "title_cell": "Table of Contents",
   "title_sidebar": "Contents",
   "toc_cell": false,
   "toc_position": {},
   "toc_section_display": true,
   "toc_window_display": false
  }
 },
 "nbformat": 4,
 "nbformat_minor": 4
}
