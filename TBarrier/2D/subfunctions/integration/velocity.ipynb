{
 "cells": [
  {
   "cell_type": "markdown",
   "metadata": {},
   "source": [
    "The particle dynamics in a general velocity field $ \\mathbf{u}(\\mathbf{x}, t) = \\begin{pmatrix} u((\\mathbf{x}, t)) \\\\ v((\\mathbf{x}, t)) \\end{pmatrix} $. This function evaluates the velocity field $ \\mathbf{u}(\\mathbf{x}, t) $, at point $ \\mathbf{x} $ at time $ t $.\n",
    "\n",
    "| Name | Type (Shape) | Description |\n",
    "| --- | --- | --- |\n",
    "| t | float | time |\n",
    "| x | array (2,) | $ \\mathbf{x} $ |\n",
    "| X | array (Nx, Ny) | X-meshgrid|\n",
    "| Y | array (Nx, Ny) | Y-meshgrid|\n",
    "| Interpolant | list (2,) | Interpolant[0]: Interpolant object for $ u((\\mathbf{x}, t))  $ <br /> Interpolant[1]: Interpolant object for $ v((\\mathbf{x}, t))  $. <br /> <br /> The interpolation, however, works only <br /> if the particle is in the defined flow domain. <br /> At the boundary of the domain, <br /> the interpolant is not defined.|\n",
    "| periodic | list (2,) | periodic[0]: periodicity in x <br /> periodic[1]: periodicity in y <br />|\n",
    "| defined_domain | array (Nx, Ny) | points on the meshgrid where velocity field is defined |\n",
    "| bool_unsteady | bool | specifies if velocity field is unsteady/steady |\n",
    "| dt_data | float | time spacing of the velocity data |\n",
    "| delta | list (2,) | delta[0]: x-grid spacing of the velocity data <br /> delta[1]: y-grid spacing of the velocity data|\n",
    "| vx | float | $ u((\\mathbf{x}, t)) $ |\n",
    "| vy | float | $ v((\\mathbf{x}, t)) $ |"
   ]
  },
  {
   "cell_type": "code",
   "execution_count": 1,
   "metadata": {
    "ExecuteTime": {
     "end_time": "2021-11-25T16:49:34.574190Z",
     "start_time": "2021-11-25T16:49:34.571273Z"
    }
   },
   "outputs": [],
   "source": [
    "import sys, os\n",
    "\n",
    "# get current directory\n",
    "path = os.getcwd()\n",
    "\n",
    "# get parent directory\n",
    "parent_directory = os.path.sep.join(path.split(os.path.sep)[:-1])\n",
    "\n",
    "# add Algorithm folder to current working path in order to access the functions\n",
    "sys.path.append(parent_directory+\"/utils\")"
   ]
  },
  {
   "cell_type": "code",
   "execution_count": 2,
   "metadata": {
    "ExecuteTime": {
     "end_time": "2021-11-25T16:49:35.050000Z",
     "start_time": "2021-11-25T16:49:34.575786Z"
    }
   },
   "outputs": [],
   "source": [
    "# Import numpy\n",
    "import numpy as np\n",
    "\n",
    "# Import function that checks location of particle\n",
    "from ipynb.fs.defs.check_location import check_location\n",
    "\n",
    "# Import function that computes velocity in the domain\n",
    "from ipynb.fs.defs.velocity_domain import velocity_domain\n",
    "\n",
    "# Import function that computes velocity at the boundary\n",
    "from ipynb.fs.defs.velocity_boundary import velocity_boundary"
   ]
  },
  {
   "cell_type": "code",
   "execution_count": 3,
   "metadata": {
    "ExecuteTime": {
     "end_time": "2021-11-25T16:49:35.057542Z",
     "start_time": "2021-11-25T16:49:35.052218Z"
    }
   },
   "outputs": [],
   "source": [
    "def velocity(t, x, X, Y, Interpolant, periodic, defined_domain, bool_unsteady, dt_data, delta):\n",
    "    \n",
    "    dx_data = delta[0]\n",
    "    dy_data = delta[1]\n",
    "    \n",
    "    # check if periodic in x\n",
    "    if periodic[0]:\n",
    "        \n",
    "        x[0] = x[0]%(X[0, -1, 0]-X[0, 0, 0])\n",
    "    \n",
    "    # check if periodic in y\n",
    "    if periodic[1]:\n",
    "        \n",
    "        x[1] = x[1]%(Y[-1, 0, 0]-Y[0, 0, 0])\n",
    "    \n",
    "    # Check location of particle.\n",
    "    loc, idx_x, idx_y = check_location(X, Y, defined_domain, x)\n",
    "    \n",
    "    # If particle inside defined domain\n",
    "    # then velocity at (x, t)\n",
    "    # can be evaluated using the interpolant\n",
    "    if loc ==  \"IN\":\n",
    "            \n",
    "        vel = velocity_domain(t, x, Interpolant, dt_data, bool_unsteady)\n",
    "            \n",
    "        vx = vel[0]\n",
    "        vy = vel[1]\n",
    "            \n",
    "        return [vx, vy]\n",
    "    \n",
    "    # otherwise we need evaluate the velocity using free-slip boundary conditions\n",
    "    elif loc == \"BOUNDARY\":\n",
    "            \n",
    "        vel = velocity_boundary(t, x, idx_x, idx_y, defined_domain, X, Y, bool_unsteady, dt_data, dx_data, dy_data)\n",
    "            \n",
    "        vx = vel[0]\n",
    "        vy = vel[1]\n",
    "            \n",
    "        return np.array([vx, vy])\n",
    "        \n",
    "    elif loc == \"OUT\":\n",
    "            \n",
    "        return [0, 0]"
   ]
  }
 ],
 "metadata": {
  "kernelspec": {
   "display_name": "Python 3",
   "language": "python",
   "name": "python3"
  },
  "language_info": {
   "codemirror_mode": {
    "name": "ipython",
    "version": 3
   },
   "file_extension": ".py",
   "mimetype": "text/x-python",
   "name": "python",
   "nbconvert_exporter": "python",
   "pygments_lexer": "ipython3",
   "version": "3.7.11"
  },
  "toc": {
   "base_numbering": 1,
   "nav_menu": {},
   "number_sections": true,
   "sideBar": true,
   "skip_h1_title": false,
   "title_cell": "Table of Contents",
   "title_sidebar": "Contents",
   "toc_cell": false,
   "toc_position": {},
   "toc_section_display": true,
   "toc_window_display": false
  }
 },
 "nbformat": 4,
 "nbformat_minor": 4
}
