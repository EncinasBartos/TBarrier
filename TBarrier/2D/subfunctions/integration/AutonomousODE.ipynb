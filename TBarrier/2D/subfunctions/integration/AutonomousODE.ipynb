{
 "cells": [
  {
   "cell_type": "markdown",
   "metadata": {},
   "source": [
    "This function computes trajectories of an autonomous equation starting at $ \\mathbf{x}_0 $ given an Interpolant $ \\ $."
   ]
  },
  {
   "cell_type": "markdown",
   "metadata": {},
   "source": [
    "| Name | Type (Shape) | Description |\n",
    "| --- | --- | --- |\n",
    "| s_dummy | array (Ns, ) | dummy time-interval of length Ns |\n",
    "| x | array (2, ) | $ \\mathbf{x}_0 $ |\n",
    "| Interpolant | list (2,) | Interpolant[0]: Interpolant for x-component of $ \\mathbf{x}' $ <br /> Interpolant[1]: Interpolant for y-component of $ \\mathbf{x}' $ |"
   ]
  },
  {
   "cell_type": "code",
   "execution_count": 1,
   "metadata": {
    "ExecuteTime": {
     "end_time": "2021-12-13T21:03:19.813577Z",
     "start_time": "2021-12-13T21:03:19.657229Z"
    }
   },
   "outputs": [],
   "source": [
    "# import Rectangular bivariate spline from scipy\n",
    "from scipy.interpolate import RectBivariateSpline as RBS\n",
    "\n",
    "# Import numpy \n",
    "import numpy as np\n",
    "\n",
    "# Import pi from math tools\n",
    "from math import pi\n",
    "\n",
    "# import time counter\n",
    "import time"
   ]
  },
  {
   "cell_type": "code",
   "execution_count": 1,
   "metadata": {
    "ExecuteTime": {
     "end_time": "2021-12-14T08:37:57.337335Z",
     "start_time": "2021-12-14T08:37:57.321378Z"
    }
   },
   "outputs": [],
   "source": [
    "def AutonomousODE(s_dummy, x0, Interpolant):\n",
    "    \n",
    "    Interpolant_x = Interpolant[0]\n",
    "    Interpolant_y = Interpolant[1]\n",
    "    \n",
    "    ds = s_dummy[1] - s_dummy[0]\n",
    "    \n",
    "    x = np.zeros((2, len(s_dummy)))\n",
    "    xprime = np.zeros((2, len(s_dummy)))\n",
    "    \n",
    "    x0 = x0%(2*pi)\n",
    "    \n",
    "    for i in range(len(s_dummy)):\n",
    "        x[:, i] = x0\n",
    "        x0, xprime[:,i] = RK4_integration(x0, ds, Interpolant_x, Interpolant_y)\n",
    "    \n",
    "    return x, xprime"
   ]
  },
  {
   "cell_type": "code",
   "execution_count": 2,
   "metadata": {
    "ExecuteTime": {
     "end_time": "2021-12-14T10:33:47.247223Z",
     "start_time": "2021-12-14T10:33:47.239283Z"
    }
   },
   "outputs": [],
   "source": [
    "def RK4_integration(x0, ds, Interpolant_x, Interpolant_y):\n",
    "    \n",
    "    # Define starting point.\n",
    "    x1x = x0[0]\n",
    "    x1y = x0[1]\n",
    "    \n",
    "    # compute derivative\n",
    "    k1x = ds * Interpolant_x(x1y, x1x)[0][0]\n",
    "    k1y = ds * Interpolant_y(x1y, x1x)[0][0]\n",
    "    \n",
    "    #  position and time at the first midpoint.\n",
    "    x2x = (x1x + .5 * k1x)%(2*pi)\n",
    "    x2y = (x1y + .5 * k1y)%(2*pi)\n",
    "    \n",
    "    # compute derivative\n",
    "    k2x = ds * Interpolant_x(x2y, x2x)[0][0]\n",
    "    k2y = ds * Interpolant_y(x2y, x2x)[0][0]\n",
    "\n",
    "    # Update position at the second midpoint.\n",
    "    x3x = (x1x + .5 * k2x)%(2*pi)\n",
    "    x3y = (x1y + .5 * k2y)%(2*pi)\n",
    "    \n",
    "    # compute derivative\n",
    "    k3x = ds * Interpolant_x(x3y, x3x)[0][0]\n",
    "    k3y = ds * Interpolant_y(x3y, x3x)[0][0]\n",
    "    \n",
    "    # Update position at the endpoint.\n",
    "    x4x = (x1x + k3x)%(2*pi)\n",
    "    x4y = (x1y + k3y)%(2*pi)\n",
    "    \n",
    "    # compute derivative\n",
    "    k4x = ds * Interpolant_x(x4y, x4x)[0][0]\n",
    "    k4y = ds * Interpolant_y(x4y, x4x)[0][0]\n",
    "    \n",
    "    # compute derivatives and updated position of particle after 1 integration step\n",
    "\n",
    "    x_prime_update_x = 1 / 6 * (k1x + 2 * k2x + 2 * k3x + k4x)\n",
    "    x_prime_update_y = 1 / 6 * (k1y + 2 * k2y + 2 * k3y + k4y)\n",
    "    \n",
    "    x_prime_update = np.array([x_prime_update_x, x_prime_update_y])\n",
    "    \n",
    "    x_update = np.array([x1x+x_prime_update_x, x1y+x_prime_update_y])%(2*pi)\n",
    "\n",
    "    return x_update, x_prime_update"
   ]
  }
 ],
 "metadata": {
  "kernelspec": {
   "display_name": "Python 3",
   "language": "python",
   "name": "python3"
  },
  "language_info": {
   "codemirror_mode": {
    "name": "ipython",
    "version": 3
   },
   "file_extension": ".py",
   "mimetype": "text/x-python",
   "name": "python",
   "nbconvert_exporter": "python",
   "pygments_lexer": "ipython3",
   "version": "3.7.11"
  },
  "toc": {
   "base_numbering": 1,
   "nav_menu": {},
   "number_sections": true,
   "sideBar": true,
   "skip_h1_title": false,
   "title_cell": "Table of Contents",
   "title_sidebar": "Contents",
   "toc_cell": false,
   "toc_position": {},
   "toc_section_display": true,
   "toc_window_display": false
  }
 },
 "nbformat": 4,
 "nbformat_minor": 5
}
