{
 "cells": [
  {
   "cell_type": "markdown",
   "metadata": {
    "ExecuteTime": {
     "end_time": "2021-11-25T16:51:30.640266Z",
     "start_time": "2021-11-25T16:51:30.633301Z"
    }
   },
   "source": [
    "| Name | Type (Shape) | Description |\n",
    "| --- | --- | --- |\n",
    "| time | array (Nt,) | time |\n",
    "| x | array (2,) | $ \\mathbf{x} $ |\n",
    "| X | array (NX, NY) | X-meshgrid of velocity data|\n",
    "| Y | array (NX, NY) | Y-meshgrid of velocity data|\n",
    "| Interpolant_u | Interpolant object | Interpolant object for $ u(\\mathbf{x}, t)  $ |\n",
    "| Interpolant_v | Interpolant object | Interpolant object for $ v(\\mathbf{x}, t)  $ |\n",
    "| periodic | list (3,) | periodic[0]: periodicity in x <br /> periodic[1]: periodicity in y <br /> periodic[2]: periodicity in time|\n",
    "| defined_domain | array (NX, NY) | points on the meshgrid where velocity field is defined |\n",
    "| bool_unsteady | bool | specifies if velocity field is unsteady/steady |\n",
    "| time_data | array(1,NT) | time of velocity data |\n",
    "| delta | list (2,) | delta[0]: x-grid spacing of the velocity data <br /> delta[1]: y-grid spacing of the velocity data|\n",
    "| Fmap | array (Nt, 2, ) | integrated trajectory |\n",
    "| dFdt | array (Nt, 2, ) | velocity along trajectory |"
   ]
  },
  {
   "cell_type": "code",
   "execution_count": 1,
   "metadata": {
    "ExecuteTime": {
     "end_time": "2021-12-15T10:33:55.467618Z",
     "start_time": "2021-12-15T10:33:55.464317Z"
    }
   },
   "outputs": [],
   "source": [
    "import sys, os\n",
    "\n",
    "# get current directory\n",
    "path = os.getcwd()\n",
    "\n",
    "# get parent directory\n",
    "parent_directory = os.path.sep.join(path.split(os.path.sep)[:-1])\n",
    "\n",
    "# add utils folder to current working path in order to access the functions\n",
    "sys.path.append(parent_directory+\"/utils\")"
   ]
  },
  {
   "cell_type": "code",
   "execution_count": 2,
   "metadata": {
    "ExecuteTime": {
     "end_time": "2021-12-15T10:33:56.012182Z",
     "start_time": "2021-12-15T10:33:55.469239Z"
    }
   },
   "outputs": [],
   "source": [
    "# Import numpy\n",
    "import numpy as np\n",
    "\n",
    "# Import package for progress bar\n",
    "from tqdm.notebook import tqdm\n",
    "\n",
    "# Import function which computes RK4 step\n",
    "from ipynb.fs.defs.RK4_step import RK4_step"
   ]
  },
  {
   "cell_type": "code",
   "execution_count": 3,
   "metadata": {
    "ExecuteTime": {
     "end_time": "2021-12-15T10:33:56.020050Z",
     "start_time": "2021-12-15T10:33:56.014162Z"
    }
   },
   "outputs": [],
   "source": [
    "def integration_dFdt(time, x, X, Y, Interpolant_u, Interpolant_v, periodic, bool_unsteady, time_data):\n",
    "    \n",
    "    # reshape x\n",
    "    x = x.reshape(2, -1)\n",
    "\n",
    "    # Initialize arrays for flow map and derivative of flow map\n",
    "    Fmap = np.zeros((len(time), 2, x.shape[1]))\n",
    "    dFdt = np.zeros((len(time)-1, 2, x.shape[1]))\n",
    "    \n",
    "    # Step-size\n",
    "    dt = time[1]-time[0]\n",
    "    \n",
    "    counter = 0\n",
    "\n",
    "    # initial conditions\n",
    "    Fmap[counter,:,:] = x\n",
    "    \n",
    "    # Runge Kutta 4th order integration with fixed step size dt\n",
    "    for t in time[:-1]:\n",
    "        \n",
    "        Fmap[counter+1,:, :], dFdt[counter,:,:] = RK4_step(t, Fmap[counter,:, :], dt, X, Y, Interpolant_u, Interpolant_v, periodic, bool_unsteady, time_data)\n",
    "        \n",
    "        # check if periodic in x\n",
    "        if periodic[0]:\n",
    "        \n",
    "            Fmap[counter+1,0,:] = (Fmap[counter+1, 0,:]-X[0,0])%(X[0, -1]-X[0, 0])+X[0,0]\n",
    "    \n",
    "        # check if periodic in y\n",
    "        if periodic[1]:\n",
    "        \n",
    "            Fmap[counter+1,1,:] = (Fmap[counter+1, 1, :]-Y[0,0])%(Y[-1, 0]-Y[0, 0])+Y[0,0]\n",
    "    \n",
    "        counter += 1\n",
    "    \n",
    "    return Fmap, dFdt"
   ]
  }
 ],
 "metadata": {
  "kernelspec": {
   "display_name": "Python 3",
   "language": "python",
   "name": "python3"
  },
  "language_info": {
   "codemirror_mode": {
    "name": "ipython",
    "version": 3
   },
   "file_extension": ".py",
   "mimetype": "text/x-python",
   "name": "python",
   "nbconvert_exporter": "python",
   "pygments_lexer": "ipython3",
   "version": "3.7.12"
  },
  "toc": {
   "base_numbering": 1,
   "nav_menu": {},
   "number_sections": true,
   "sideBar": true,
   "skip_h1_title": false,
   "title_cell": "Table of Contents",
   "title_sidebar": "Contents",
   "toc_cell": false,
   "toc_position": {},
   "toc_section_display": true,
   "toc_window_display": false
  }
 },
 "nbformat": 4,
 "nbformat_minor": 4
}
