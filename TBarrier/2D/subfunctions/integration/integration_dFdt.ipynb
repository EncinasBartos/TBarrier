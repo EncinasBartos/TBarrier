{
 "cells": [
  {
   "cell_type": "markdown",
   "metadata": {
    "ExecuteTime": {
     "end_time": "2021-11-25T16:51:30.640266Z",
     "start_time": "2021-11-25T16:51:30.633301Z"
    }
   },
   "source": [
    "| Name | Type (Shape) | Description |\n",
    "| --- | --- | --- |\n",
    "| time | array (N,) | time |\n",
    "| x | array (2,) | $ \\mathbf{x} $ |\n",
    "| X | array (Nx, Ny) | X-meshgrid|\n",
    "| Y | array (Nx, Ny) | Y-meshgrid|\n",
    "| Interpolant | list (2,) | Interpolant[0]: Interpolant object for $ u((\\mathbf{x}, t))  $ <br /> Interpolant[1]: Interpolant object for $ v((\\mathbf{x}, t))  $. <br /> <br /> The interpolation, however, works only <br /> if the particle is in the defined flow domain. <br /> At the boundary of the domain, <br /> the interpolant is not defined.|\n",
    "| periodic | list (2,) | periodic[0]: periodicity in x <br /> periodic[1]: periodicity in y <br />|\n",
    "| defined_domain | array (Nx, Ny) | points on the meshgrid where velocity field is defined |\n",
    "| bool_unsteady | bool | specifies if velocity field is unsteady/steady |\n",
    "| dt_data | float | time spacing of the velocity data |\n",
    "| delta | list (2,) | delta[0]: x-grid spacing of the velocity data <br /> delta[1]: y-grid spacing of the velocity data|\n",
    "| trajectory | array (2,N) | integrated trajectory |\n",
    "| velocity | array (2,N) | velocity along trajectory |\n",
    "| DF | array (2,2,N) | gradient of flow map at every time-step |"
   ]
  },
  {
   "cell_type": "code",
   "execution_count": 1,
   "metadata": {
    "ExecuteTime": {
     "end_time": "2021-11-25T17:05:47.756230Z",
     "start_time": "2021-11-25T17:05:47.753048Z"
    }
   },
   "outputs": [],
   "source": [
    "import sys, os\n",
    "\n",
    "# get current directory\n",
    "path = os.getcwd()\n",
    "\n",
    "# get parent directory\n",
    "parent_directory = os.path.sep.join(path.split(os.path.sep)[:-1])\n",
    "\n",
    "# add utils folder to current working path in order to access the functions\n",
    "sys.path.append(parent_directory+\"/utils\")"
   ]
  },
  {
   "cell_type": "code",
   "execution_count": 2,
   "metadata": {
    "ExecuteTime": {
     "end_time": "2021-11-25T17:05:48.318330Z",
     "start_time": "2021-11-25T17:05:47.757820Z"
    }
   },
   "outputs": [],
   "source": [
    "# Import numpy\n",
    "import numpy as np\n",
    "\n",
    "# Import package to solve ODE\n",
    "from scipy.integrate import solve_ivp\n",
    "\n",
    "# function which evalutes derivative of flow map\n",
    "from ipynb.fs.defs.dFdt import dFdt"
   ]
  },
  {
   "cell_type": "code",
   "execution_count": 3,
   "metadata": {
    "ExecuteTime": {
     "end_time": "2021-11-25T17:05:48.326873Z",
     "start_time": "2021-11-25T17:05:48.320324Z"
    }
   },
   "outputs": [],
   "source": [
    "def integration_dFdt(time, x, X, Y, Interpolant, periodic, defined_domain, bool_unsteady, dt_data, delta):\n",
    "    \n",
    "    # time-interval [t0,tN] over which to integrate\n",
    "    time_interval = [time[0], time[-1]]\n",
    "        \n",
    "    # time-array at which flow map must be evaluated\n",
    "    t_eval = time.copy()\n",
    "        \n",
    "    # Step-size\n",
    "    dt = time[1]-time[0]\n",
    "                    \n",
    "    sol = solve_ivp(dFdt, time_interval, x, 'RK45', t_eval, rtol=1e-7, atol=1e-7, first_step = dt, args = (X, Y, Interpolant, periodic, defined_domain, bool_unsteady, dt_data, delta))\n",
    "    \n",
    "    # Initialize velocity array\n",
    "    dFdt_ = np.zeros((2, len(time)-1))\n",
    "            \n",
    "    for i in range(sol.y.shape[1]-1):\n",
    "                \n",
    "        dFdt_[0, i] = (sol.y[0,i+1]-sol.y[0,i])/dt\n",
    "        dFdt_[1, i] = (sol.y[1,i+1]-sol.y[1,i])/dt\n",
    "        \n",
    "    Fmap = sol.y.copy()\n",
    "    \n",
    "    if periodic[0]:\n",
    "        \n",
    "        Fmap[0,:] = Fmap[0,:]%(X[0, -1]-X[0, 0])\n",
    "    \n",
    "    if periodic[1]:\n",
    "        \n",
    "        Fmap[1,:] = Fmap[1,:]%(Y[-1, 0]-Y[0, 0])\n",
    "            \n",
    "    return Fmap, dFdt_"
   ]
  }
 ],
 "metadata": {
  "kernelspec": {
   "display_name": "Python 3",
   "language": "python",
   "name": "python3"
  },
  "language_info": {
   "codemirror_mode": {
    "name": "ipython",
    "version": 3
   },
   "file_extension": ".py",
   "mimetype": "text/x-python",
   "name": "python",
   "nbconvert_exporter": "python",
   "pygments_lexer": "ipython3",
   "version": "3.7.11"
  },
  "toc": {
   "base_numbering": 1,
   "nav_menu": {},
   "number_sections": true,
   "sideBar": true,
   "skip_h1_title": false,
   "title_cell": "Table of Contents",
   "title_sidebar": "Contents",
   "toc_cell": false,
   "toc_position": {},
   "toc_section_display": true,
   "toc_window_display": false
  }
 },
 "nbformat": 4,
 "nbformat_minor": 4
}
