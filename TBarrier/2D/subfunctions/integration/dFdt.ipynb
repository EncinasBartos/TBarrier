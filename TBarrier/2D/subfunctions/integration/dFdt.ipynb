{
 "cells": [
  {
   "cell_type": "markdown",
   "metadata": {},
   "source": [
    "The evolution of a trajectory $ \\mathbf{x}(t;t_0,\\mathbf{x_0}) $ as a function of its initial position $ \\mathbf{x_0} $ is described by the flow map\n",
    "\n",
    "$$ \\mathbf{F}_{t_0}^t : \\mathbf{x}_0 \\rightarrow \\mathbf{x}(t;t_0,\\mathbf{x_0}) $$\n",
    "\n",
    "Differentiation of the flow map $ {\\mathbf{F}}_{t_0}^t = \\begin{pmatrix} {F_1}_{t_0}^t \\\\ {F_2}_{t_0}^t \\end{pmatrix} $ with respect to time gives:\n",
    "\n",
    "\\begin{equation}\n",
    "\\dfrac{d}{dt}\\mathbf{F}_{t_0}^t(\\mathbf{x_0}) = \\mathbf{v}(\\mathbf{F}_{t_0}^t(\\mathbf{x_0}), t) = \\begin{pmatrix} u(\\mathbf{F}_{t_0}^t(\\mathbf{x_0}), t) \\\\ v(\\mathbf{F}_{t_0}^t(\\mathbf{x_0}), t) \\end{pmatrix}\n",
    "\\label{eq: dFdt},\n",
    "\\end{equation}\n",
    "\n",
    "with $ \\mathbf{v}(\\mathbf{F}_{t_0}^t(\\mathbf{x_0}), t) $ being the velocity field.\n",
    "\n",
    "| Name | Type (Shape) | Description |\n",
    "| --- | --- | --- |\n",
    "| t | float | time |\n",
    "| x | array (2,) | $ \\mathbf{x} $ |\n",
    "| X | array (NX, NY) | X-meshgrid|\n",
    "| Y | array (NX, NY) | Y-meshgrid|\n",
    "| time_data | array (1, NT) | Time-array with resolution N|\n",
    "| Interpolant_u | Interpolant object | Interpolant object for $ u(\\mathbf{x}, t)  $ |\n",
    "| Interpolant_v | Interpolant object | Interpolant object for $ v(\\mathbf{x}, t)  $ |\n",
    "| periodic | list (3,) | periodic[0]: periodicity in x <br /> periodic[1]: periodicity in y <br /> periodic[2]: periodicity in time|\n",
    "| defined_domain | array (NX, NY) | points on the meshgrid where velocity field is defined |\n",
    "| bool_unsteady | bool | specifies if velocity field is unsteady/steady |\n",
    "| dt_data | float | time spacing of the velocity data |\n",
    "| delta | list (2,) | delta[0]: x-grid spacing of the velocity data <br /> delta[1]: y-grid spacing of the velocity data|\n",
    "| vel | list (2,) | vel[0]: $ u(\\mathbf{x}, t) $ <br /> vel[1]: $ v(\\mathbf{x}, t) $ |"
   ]
  },
  {
   "cell_type": "code",
   "execution_count": 1,
   "metadata": {
    "ExecuteTime": {
     "end_time": "2021-12-31T20:05:40.494184Z",
     "start_time": "2021-12-31T20:05:40.487192Z"
    }
   },
   "outputs": [],
   "source": [
    "import sys, os\n",
    "\n",
    "# get current directory\n",
    "path = os.getcwd()\n",
    "\n",
    "# get parent directory\n",
    "parent_directory = os.path.sep.join(path.split(os.path.sep)[:-1])\n",
    "\n",
    "# add utils folder to current working path in order to access the functions\n",
    "sys.path.append(parent_directory+\"/utils\")"
   ]
  },
  {
   "cell_type": "code",
   "execution_count": 2,
   "metadata": {
    "ExecuteTime": {
     "end_time": "2021-12-31T20:05:40.589113Z",
     "start_time": "2021-12-31T20:05:40.495154Z"
    }
   },
   "outputs": [],
   "source": [
    "# Import numpy\n",
    "import numpy as np\n",
    "\n",
    "# Import function that computes velocity\n",
    "from ipynb.fs.defs.velocity import velocity"
   ]
  },
  {
   "cell_type": "code",
   "execution_count": 3,
   "metadata": {
    "ExecuteTime": {
     "end_time": "2021-12-31T20:05:40.604719Z",
     "start_time": "2021-12-31T20:05:40.590799Z"
    }
   },
   "outputs": [],
   "source": [
    "def dFdt(t, y, X, Y, time_data, Interpolant, periodic, defined_domain, bool_unsteady, dt_data, delta):\n",
    "    \n",
    "    # x/y position of particle\n",
    "    x = y[:2]\n",
    "    \n",
    "    vel = velocity(t, x, X, Y, time_data, Interpolant, periodic, defined_domain, bool_unsteady, dt_data, delta)\n",
    "    \n",
    "    return vel"
   ]
  }
 ],
 "metadata": {
  "kernelspec": {
   "display_name": "Python 3",
   "language": "python",
   "name": "python3"
  },
  "language_info": {
   "codemirror_mode": {
    "name": "ipython",
    "version": 3
   },
   "file_extension": ".py",
   "mimetype": "text/x-python",
   "name": "python",
   "nbconvert_exporter": "python",
   "pygments_lexer": "ipython3",
   "version": "3.7.12"
  },
  "toc": {
   "base_numbering": 1,
   "nav_menu": {},
   "number_sections": true,
   "sideBar": true,
   "skip_h1_title": false,
   "title_cell": "Table of Contents",
   "title_sidebar": "Contents",
   "toc_cell": false,
   "toc_position": {},
   "toc_section_display": true,
   "toc_window_display": false
  }
 },
 "nbformat": 4,
 "nbformat_minor": 4
}
