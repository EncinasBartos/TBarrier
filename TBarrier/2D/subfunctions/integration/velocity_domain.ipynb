{
 "cells": [
  {
   "cell_type": "markdown",
   "metadata": {},
   "source": [
    "This function computes the velocity whenever the particle is in a domain where the velocity field is well defined; i.e. the velocity is defined at the four surrounding grid points. Whenever this is the case, the velocity field can be interpolated using spline interpolation in space and linear interpolation in time. For steady velocity fields, the interpolation simplifies as time no longer plays a role and we can just interpolate with respect to space."
   ]
  },
  {
   "cell_type": "markdown",
   "metadata": {
    "ExecuteTime": {
     "end_time": "2021-12-09T22:52:56.754839Z",
     "start_time": "2021-12-09T22:52:56.747885Z"
    }
   },
   "source": [
    "| Name | Type (Shape) | Description |\n",
    "| --- | --- | --- |\n",
    "| t | float | time |\n",
    "| x | array (2,) | $ \\mathbf{x} $ |\n",
    "| Interpolant | list (2,) | Interpolant[0]: Interpolant object for $ u((\\mathbf{x}, t))  $ <br /> Interpolant[1]: Interpolant object for $ v((\\mathbf{x}, t))  $. <br /> <br /> The interpolation, however, works only <br /> if the particle is in the defined flow domain. <br /> At the boundary of the domain, <br /> the interpolant is not defined.|\n",
    "| periodic | list (2,) | periodic[0]: periodicity in x <br /> periodic[1]: periodicity in y <br />|\n",
    "| dt_data | float | time spacing of the velocity data |\n",
    "| bool_unsteady | bool | specifies if velocity field is unsteady/steady |\n",
    "| vel | array (2,) | $ \\mathbf{v}(\\mathbf{x}, t) $ |"
   ]
  },
  {
   "cell_type": "code",
   "execution_count": null,
   "metadata": {},
   "outputs": [],
   "source": [
    "# Import numpy\n",
    "import numpy as np"
   ]
  },
  {
   "cell_type": "code",
   "execution_count": 1,
   "metadata": {
    "ExecuteTime": {
     "end_time": "2021-11-29T13:21:38.156433Z",
     "start_time": "2021-11-29T13:21:38.142900Z"
    }
   },
   "outputs": [],
   "source": [
    "def velocity_domain(t, x, Interpolant, dt_data, bool_unsteady):\n",
    "            \n",
    "    # Unsteady case\n",
    "    if bool_unsteady:\n",
    "        \n",
    "        k = int(t/dt_data)\n",
    "            \n",
    "        # evaluate velocity field at time t\n",
    "        ui = Interpolant[0][k](x[1], x[0])[0][0]\n",
    "        uf = Interpolant[0][k+1](x[1], x[0])[0][0]\n",
    "        u = ((k+1)*dt_data-t)/dt_data*ui + (t-k*dt_data)/dt_data*uf\n",
    "\n",
    "        vi = Interpolant[1][k](x[1], x[0])[0][0]\n",
    "        vf = Interpolant[1][k+1](x[1], x[0])[0][0]\n",
    "        v = ((k+1)*dt_data-t)/dt_data*vi + (t-k*dt_data)/dt_data*vf\n",
    "        \n",
    "    # Steady case        \n",
    "    elif bool_unsteady == False:\n",
    "            \n",
    "        u = Interpolant[0](x[1], x[0])[0][0]\n",
    "        v = Interpolant[1](x[1], x[0])[0][0]\n",
    "        \n",
    "    vel = np.array([np.around(u, 10), np.around(v, 10)])\n",
    "        \n",
    "    return vel"
   ]
  }
 ],
 "metadata": {
  "kernelspec": {
   "display_name": "Python 3 (ipykernel)",
   "language": "python",
   "name": "python3"
  },
  "language_info": {
   "codemirror_mode": {
    "name": "ipython",
    "version": 3
   },
   "file_extension": ".py",
   "mimetype": "text/x-python",
   "name": "python",
   "nbconvert_exporter": "python",
   "pygments_lexer": "ipython3",
   "version": "3.7.11"
  },
  "toc": {
   "base_numbering": 1,
   "nav_menu": {},
   "number_sections": true,
   "sideBar": true,
   "skip_h1_title": false,
   "title_cell": "Table of Contents",
   "title_sidebar": "Contents",
   "toc_cell": false,
   "toc_position": {},
   "toc_section_display": true,
   "toc_window_display": false
  }
 },
 "nbformat": 4,
 "nbformat_minor": 4
}
