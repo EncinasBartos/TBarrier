{
 "cells": [
  {
   "cell_type": "markdown",
   "id": "b4c4ca9d",
   "metadata": {},
   "source": [
    "The Bickley jet is an idealized model of geophysical flows such as the Gulf Stream  and models a meandering zonal jet between a series of counter rotating vortices. The velocity is given by:\n",
    "\n",
    "\\begin{equation}\n",
    "\\mathbf{v}(x, y, t) = \\begin{pmatrix} -\\partial_y \\psi(x, y, t) \\\\ \\partial_x \\psi(\\mathbf{x}, t) \\end{pmatrix}, \n",
    "\\end{equation}\n",
    "\n",
    "where\n",
    "\n",
    "\\begin{align*}\n",
    "\\psi(x, y, t) &= \\psi_0(x, y) + \\psi_1(x, y, t) \\\\\n",
    "\\psi_0(x, y) &= c_3y-UL_y \\tanh(\\dfrac{y}{L_y}) \\\\\n",
    "\\psi_1(x,y,t) &= U L_ y\\mathrm{sech}^2(\\dfrac{y}{L_y}) \\sum_{i=0}^{3} \\epsilon_i f_i(x, t)e^{ik_ix}\n",
    "\\end{align*}\n",
    "\n",
    "The external forcing term is given by:\n",
    "\\begin{equation}\n",
    "f_i(x, t) = \\cos(\\dfrac{2i\\pi}{L_x}(x-c_it))\n",
    "\\end{equation}\n",
    "\n",
    "We have chosen the following set of parameters $$ c_1 = 0.1446U, c_2 = 0.205U, c_3 = 0.461U, \\epsilon_1 = 0.0075, \\epsilon_2 = 0.04, \\epsilon_3 = 0.3, U = 62.66 (\\dfrac{m}{s}), L_y = 1.77\\times 10^6 (m), L_x = 6371\\pi(km) $$"
   ]
  },
  {
   "cell_type": "code",
   "execution_count": 1,
   "id": "21a3bb0f",
   "metadata": {
    "ExecuteTime": {
     "end_time": "2021-11-29T22:07:06.861413Z",
     "start_time": "2021-11-29T22:07:06.505718Z"
    }
   },
   "outputs": [],
   "source": [
    "import scipy.io\n",
    "import numpy as np\n",
    "import matplotlib.pyplot as plt\n",
    "from tqdm.notebook import tqdm\n",
    "\n",
    "def k(n, Len_X):\n",
    "    \n",
    "    return 2*n*np.pi/Len_X\n",
    "\n",
    "def psi0(params, y):\n",
    "    \n",
    "    U = params[0]\n",
    "    Len_Y = params[3]\n",
    "    \n",
    "    return -U*Len_Y*np.tanh(y/Len_Y)\n",
    "\n",
    "def psi1(params, x, y, t):\n",
    "    \n",
    "    U = params[0]\n",
    "    R = params[1]\n",
    "    Len_X = params[2]\n",
    "    len_Y = params[3]\n",
    "    eps1 = params[4][0]\n",
    "    eps2 = params[4][1]\n",
    "    eps3 = params[4][2]\n",
    "    \n",
    "    c1 = 0.1446*U\n",
    "    c2 = 0.205*U\n",
    "    c3 = 0.461*U\n",
    "    \n",
    "    forcing3 = np.cos(k(3, Len_X)*(x-c3*t))\n",
    "    forcing2 = np.cos(k(2, Len_X)*(x-c2*t))\n",
    "    forcing1 = np.cos(k(1, Len_X)*(x-c1*t))\n",
    "    \n",
    "    return U*Len_Y*(sech(y/Len_Y)**2)*(eps1*forcing1+ eps2*forcing2 + eps3*forcing3)\n",
    "\n",
    "def sech(x):\n",
    "    \n",
    "    return 2*np.exp(x)/(np.exp(2*x)+1)\n",
    "\n",
    "def tanh(x):\n",
    "    \n",
    "    return (np.exp(2*x)-1)/(np.exp(2*x)+1)\n",
    "\n",
    "def psi(params, x, y, t):\n",
    "\n",
    "    return psi0(params, y)+psi1(params, x, y, t)\n",
    "\n",
    "def Bickley_jet(params, x, y, t, dx, dy):\n",
    "    \n",
    "    X, Y, time = np.meshgrid(x, y, t)\n",
    "    \n",
    "    u = np.zeros(X.shape)\n",
    "    v = np.zeros(Y.shape)\n",
    "    \n",
    "    for i in tqdm(range(X.shape[0])):\n",
    "        \n",
    "        for j in range(Y.shape[1]):\n",
    "            \n",
    "            for r in range(time.shape[2]):\n",
    "                \n",
    "                x_ = X[i, j, r]\n",
    "                y_ = Y[i, j, r]\n",
    "                t_ = time[i, j, r]\n",
    "                \n",
    "                #velx, vely = velocity(x_, y_, U, t_, eps, k, Len_X)\n",
    "                \n",
    "                u[i, j, r] = -(psi(params, x_, y_ + dy, t_)-psi(params, x_, y_- dy, t_))/(2*dy)\n",
    "                v[i, j, r] = (psi(params, x_ + dx, y_, t_)-psi(params, x_ - dx, y_, t_))/(2*dx)\n",
    "    \n",
    "    return u, v"
   ]
  },
  {
   "cell_type": "code",
   "execution_count": 2,
   "id": "5296dae0",
   "metadata": {
    "ExecuteTime": {
     "end_time": "2021-11-29T22:07:30.751738Z",
     "start_time": "2021-11-29T22:07:06.862411Z"
    },
    "scrolled": false
   },
   "outputs": [
    {
     "data": {
      "application/vnd.jupyter.widget-view+json": {
       "model_id": "9c9e84a0b14e41ea9b65ed29b1544374",
       "version_major": 2,
       "version_minor": 0
      },
      "text/plain": [
       "  0%|          | 0/20 [00:00<?, ?it/s]"
      ]
     },
     "metadata": {},
     "output_type": "display_data"
    }
   ],
   "source": [
    "# U = 62.66*3600*24 (in meters/day)\n",
    "U = 62.66*3600*24\n",
    "\n",
    "# Radius of the Earth (in meters)\n",
    "earthRadius = 6371*(10**3)\n",
    "\n",
    "# L_x = pi*earthRadius\n",
    "Len_X = np.pi*earthRadius\n",
    "\n",
    "# L_y = 1.77*10**6 (in meters)\n",
    "Len_Y = 1.77*(10**6)\n",
    "\n",
    "# [epsilon_1, epsilon_2, epsilon_3]\n",
    "epsilon = [.0075, .04, .3]\n",
    "\n",
    "# time array\n",
    "t = np.arange(0, 41, 1)\n",
    "x = np.linspace(0, 20*Len_X, 400)\n",
    "y = np.linspace(-2.25*Len_Y*1.25, 2.25*Len_Y*1.25, 20)\n",
    "\n",
    "params = [U, earthRadius, Len_X, Len_Y, epsilon]\n",
    "\n",
    "# Define grid size of mesh\n",
    "dx = Len_X/5000\n",
    "dy = Len_Y/5000\n",
    "\n",
    "u, v = Bickley_jet(params, x, y, t, dx, dy)\n",
    "            \n",
    "scipy.io.savemat('./Bickley.mat', {'U': u, 'V': v, 'x': x, 'y': y, 't': t})"
   ]
  }
 ],
 "metadata": {
  "kernelspec": {
   "display_name": "Python 3 (ipykernel)",
   "language": "python",
   "name": "python3"
  },
  "language_info": {
   "codemirror_mode": {
    "name": "ipython",
    "version": 3
   },
   "file_extension": ".py",
   "mimetype": "text/x-python",
   "name": "python",
   "nbconvert_exporter": "python",
   "pygments_lexer": "ipython3",
   "version": "3.7.11"
  },
  "toc": {
   "base_numbering": 1,
   "nav_menu": {},
   "number_sections": true,
   "sideBar": true,
   "skip_h1_title": false,
   "title_cell": "Table of Contents",
   "title_sidebar": "Contents",
   "toc_cell": false,
   "toc_position": {},
   "toc_section_display": true,
   "toc_window_display": false
  }
 },
 "nbformat": 4,
 "nbformat_minor": 5
}
