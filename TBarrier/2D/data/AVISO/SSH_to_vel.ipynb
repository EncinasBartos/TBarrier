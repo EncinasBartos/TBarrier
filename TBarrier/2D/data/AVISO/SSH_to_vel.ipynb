{
 "cells": [
  {
   "cell_type": "markdown",
   "metadata": {},
   "source": [
    "# Introduction to AVISO-data"
   ]
  },
  {
   "cell_type": "markdown",
   "metadata": {},
   "source": [
    "We will use the satellite-altimetry-derived ocean-surface current product AVISO-data as a dataset to validate the methods. The data is freely available from the [AVISO](https://data.marine.copernicus.eu/products).\n",
    "\n",
    "The sea surface height $ h $ acts as a stream function for the geostrophic ocean surface velocity field. Particle trajectories on the ocean surface are approximately trajectories of the 2D system of ODEs:\n",
    "\n",
    "\\begin{align}\n",
    "U &= -\\dfrac{g}{Rf(\\theta)}\\partial_{\\theta}h(\\phi, \\theta, t) \\tag{1} \\\\\n",
    "V &= \\dfrac{g}{Rf(\\theta)}\\partial_{\\varphi}h(\\phi, \\theta, t) \\tag{2},\n",
    "\\end{align}\n",
    "\n",
    "where $ \\varphi, \\theta $ respectively are the longitudinal and latitudinal position of the particle, $ g $ is the constant of gravity, $ R $ is the mean radius, $ f(\\theta) = 2\\Omega \\sin(\\theta) $ is the coriolis parameter and $ \\Omega $ is the mean angular velocity of the earth. $ \\theta_0 $ is a reference value generally taken to be the averaged $ \\theta $ in the considered spatial domain. U, V are the zonal and meridional velocity field in units of meters/second. We then need to convert it to deg/day using the function [convert_meters_per_second_to_deg_per_day](convert_meters_per_second_to_deg_per_day.ipynb)."
   ]
  },
  {
   "cell_type": "markdown",
   "metadata": {},
   "source": [
    "# Add Folders to Path\n",
    "\n",
    "We start by adding the necessary folders to the current working path."
   ]
  },
  {
   "cell_type": "code",
   "execution_count": 1,
   "metadata": {
    "ExecuteTime": {
     "end_time": "2023-02-16T15:45:56.133494Z",
     "start_time": "2023-02-16T15:45:56.126677Z"
    }
   },
   "outputs": [],
   "source": [
    "# import sys, os\n",
    "import sys, os\n",
    "\n",
    "# get current directory\n",
    "path = os.getcwd()\n",
    "\n",
    "# get parent directory\n",
    "parent_directory = os.path.sep.join(path.split(os.path.sep)[:-2])\n",
    "\n",
    "# add utils folder to current working path\n",
    "sys.path.append(parent_directory+\"/subfunctions/utils\")\n",
    "\n",
    "# add integration folder to current working path\n",
    "sys.path.append(parent_directory+\"/subfunctions/integration\")"
   ]
  },
  {
   "cell_type": "markdown",
   "metadata": {},
   "source": [
    "# Import data"
   ]
  },
  {
   "cell_type": "code",
   "execution_count": 8,
   "metadata": {
    "ExecuteTime": {
     "end_time": "2023-02-16T15:49:34.882095Z",
     "start_time": "2023-02-16T15:49:17.175853Z"
    },
    "code_folding": []
   },
   "outputs": [
    {
     "data": {
      "application/vnd.jupyter.widget-view+json": {
       "model_id": "b47d083126914501ae354a37ca4ce4c3",
       "version_major": 2,
       "version_minor": 0
      },
      "text/plain": [
       "  0%|          | 0/32 [00:00<?, ?it/s]"
      ]
     },
     "metadata": {},
     "output_type": "display_data"
    }
   ],
   "source": [
    "from netCDF4 import Dataset, num2date\n",
    "from datetime import datetime\n",
    "import numpy as np\n",
    "\n",
    "from scipy.interpolate import RectBivariateSpline as RBS\n",
    "\n",
    "from tqdm.notebook import tqdm\n",
    "\n",
    "# import function to convert meters/second to deg/day\n",
    "from ipynb.fs.defs.convert_meters_per_second_to_deg_per_day import *\n",
    "\n",
    "from math import cos, pi\n",
    "\n",
    "def SSH_to_vel(file):\n",
    "    '''\n",
    "    INPUT:\n",
    "        file: '.nc'-file downloaded from Copernicus. This file contains the SSH data\n",
    "    \n",
    "    OUTPUT:\n",
    "        x: longitude in degrees, array(1, NX)\n",
    "        y: latitude in degrees, array(1, NY)\n",
    "        time: time, array (1, NT)\n",
    "        U: zonal velocity component in deg/days, array(NY, NX, NT)\n",
    "        V: zonal velocity component, array(NY, NX, NT)\n",
    "    \n",
    "    '''\n",
    "    \n",
    "    fileobj = Dataset(file, 'r')\n",
    "\n",
    "    # x: longitudinal coordinate (in degrees)\n",
    "    x = fileobj.variables['longitude'][:]\n",
    "    # y: latitudinal coordinate (in degrees)\n",
    "    y = fileobj.variables['latitude'][:]\n",
    "    # ssh: Sea-surface height profile (in m)\n",
    "    ssh = fileobj.variables['zos'][:,:,:].transpose((1, 2, 0))\n",
    "    \n",
    "    # time from .nc file\n",
    "    nctime = fileobj.variables['time'][:]\n",
    "    t_unit = fileobj.variables['time'].units  # get unit  \"days since 1950-01-01T00:00:00Z\"\n",
    "\n",
    "    t_cal = fileobj.variables['time'].calendar\n",
    "    \n",
    "    ###### define parameters ######\n",
    "    \n",
    "    NY = y.shape[0]\n",
    "    NX = x.shape[0]\n",
    "    \n",
    "    # theta\n",
    "    theta = y # degrees\n",
    "    \n",
    "    # earths acceleration\n",
    "    g = 9.81 # m/s^2 \n",
    "    \n",
    "    # coriolis parameter\n",
    "    f = 2*7.2921*(10**(-5))*np.sin(theta*np.pi/180)\n",
    "    \n",
    "    # Radius of the earth\n",
    "    earthRadius = 6371*(10**3)\n",
    "    \n",
    "    # defined domain\n",
    "    defined_domain = np.isfinite(ssh[:,:,0])\n",
    "    \n",
    "    # set all nans to 0 to perform interpolation\n",
    "    ssh[np.isnan(ssh)] = 0\n",
    "\n",
    "    date_gregorian = [num2date(nctime[i], units=t_unit, calendar=t_cal) for i in range(len(nctime))]\n",
    "    \n",
    "    # time (in days)\n",
    "    time = (np.array(nctime)) - nctime[0]\n",
    "    \n",
    "    Phi, Theta = np.meshgrid(x, y)\n",
    "\n",
    "    u_m, v_m = np.zeros(ssh.shape), np.zeros(ssh.shape)\n",
    "    \n",
    "    # compute velocities in meters using the quasi-geostrophic equation with the f-plane approximation\n",
    "    for t in tqdm(range(u_m.shape[-1])):\n",
    "        # compute interpolant for ssh in order to evaluate derivatives\n",
    "        interpolant_ssh = RBS(y, x, ssh[:,:,t])\n",
    "        \n",
    "        dsshdtheta = interpolant_ssh(Theta[:,0], Phi[0,:], dy = 1)\n",
    "        dsshdphi = interpolant_ssh(Theta[:,0], Phi[0,:], dx = 1)\n",
    "        \n",
    "        for i in range(NY):\n",
    "            for j in range(NX):\n",
    "                u_m[i,j,t] = -(g/f[i])*dsshdtheta[i,j]/earthRadius*180/np.pi\n",
    "                v_m[i,j,t] = (g/f[i])*dsshdphi[i,j]/earthRadius*180/np.pi\n",
    "        \n",
    "        # set all values which originally had nan to nan again\n",
    "        u_m[~defined_domain,t] = np.nan\n",
    "        v_m[~defined_domain,t] = np.nan\n",
    "    \n",
    "    # convert meters/second to degrees/day\n",
    "    X, Y = np.meshgrid(x, y)\n",
    "    U, V = convert_meters_per_second_to_deg_per_day(X, Y, u_m, v_m)\n",
    "            \n",
    "    time =  time.reshape(1,-1)\n",
    "            \n",
    "    return x, y, U, V, time.reshape(1,-1)\n",
    "\n",
    "#Import velocity data from file in data-folder\n",
    "x, y, U, V, time_data = SSH_to_vel('SSH.nc')"
   ]
  },
  {
   "cell_type": "code",
   "execution_count": 3,
   "metadata": {
    "ExecuteTime": {
     "end_time": "2023-02-16T15:46:33.026390Z",
     "start_time": "2023-02-16T15:46:32.966922Z"
    }
   },
   "outputs": [],
   "source": [
    "# save data\n",
    "import scipy.io as sio\n",
    "\n",
    "mdic = {\"u\": U, \"v\": V, \"x\": x, \"y\": y, \"t\": time_data}\n",
    "sio.savemat('AVISO_from_ssh.mat', mdic)"
   ]
  },
  {
   "cell_type": "code",
   "execution_count": null,
   "metadata": {},
   "outputs": [],
   "source": [
    "import matplotlib.pyplot as plt\n",
    "\n",
    "fig = plt.figure()\n",
    "ax = plt.axes()\n",
    "ax.quiver(x, y, U[:,:,0], V[:,:,0])\n",
    "plt.show()"
   ]
  }
 ],
 "metadata": {
  "hide_input": false,
  "kernelspec": {
   "display_name": "Python 3",
   "language": "python",
   "name": "python3"
  },
  "language_info": {
   "codemirror_mode": {
    "name": "ipython",
    "version": 3
   },
   "file_extension": ".py",
   "mimetype": "text/x-python",
   "name": "python",
   "nbconvert_exporter": "python",
   "pygments_lexer": "ipython3",
   "version": "3.7.12"
  },
  "latex_envs": {
   "LaTeX_envs_menu_present": true,
   "autoclose": false,
   "autocomplete": true,
   "bibliofile": "biblio.bib",
   "cite_by": "apalike",
   "current_citInitial": 1,
   "eqLabelWithNumbers": true,
   "eqNumInitial": 1,
   "hotkeys": {
    "equation": "Ctrl-E",
    "itemize": "Ctrl-I"
   },
   "labels_anchors": false,
   "latex_user_defs": false,
   "report_style_numbering": false,
   "user_envs_cfg": false
  },
  "toc": {
   "base_numbering": 1,
   "nav_menu": {},
   "number_sections": true,
   "sideBar": true,
   "skip_h1_title": false,
   "title_cell": "Table of Contents",
   "title_sidebar": "Contents",
   "toc_cell": false,
   "toc_position": {},
   "toc_section_display": true,
   "toc_window_display": false
  }
 },
 "nbformat": 4,
 "nbformat_minor": 4
}
