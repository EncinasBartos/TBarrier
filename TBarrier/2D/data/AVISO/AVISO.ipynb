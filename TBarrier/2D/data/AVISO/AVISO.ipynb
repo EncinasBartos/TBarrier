{
 "cells": [
  {
   "cell_type": "markdown",
   "metadata": {},
   "source": [
    "# Introduction to AVISO-data"
   ]
  },
  {
   "cell_type": "markdown",
   "metadata": {},
   "source": [
    "We will use the satellite-altimetry-derived ocean-surface current product AVISO-data as a dataset to validate the methods. The data is freely available from the [AVISO]((http://aviso.oceanobs.com)).\n",
    "\n",
    "The sea surface height $ h $ acts as a stream function for the geostrophic ocean surface velocity field. Particle trajectories on the ocean surface are approximately trajectories of the 2D system of ODEs:\n",
    "\n",
    "\\begin{align}\n",
    "\\dot{\\varphi} &= -\\dfrac{g}{R^2f(\\theta)\\cos(\\theta)}\\partial_{\\theta}h(\\phi, \\theta, t) \\\\\n",
    "\\dot{\\theta} &= \\dfrac{g}{R^2f(\\theta)\\cos(\\theta)}\\partial_{\\varphi}h(\\phi, \\theta, t),\n",
    "\\end{align}\n",
    "\n",
    "where $ \\varphi, \\theta $ respectively are the longitudinal and latitudinal position of the particle, $ g $ is the constant of gravity, $ R $ is the mean radius, $ f(\\theta) = 2\\Omega \\sin(\\theta) $ is the coriolis parameter and $ \\Omega $ is the mean angular velocity of the earth.\n",
    "\n",
    "The AVISO-data provides global coverage of ocean currents at weekly time-intervals with a spatial resolution of $ 0.25^{\\circ} $. As part of this work, we focus on the commonly studied Agulhas region in the Southern Ocean:\n",
    "\n",
    "\\begin{equation}\n",
    "(\\varphi, \\theta) \\in [14^{\\circ}W, 9^{\\circ}E] \\times [39^{\\circ}S, 21^{\\circ}S]\n",
    "\\end{equation}\n",
    "\n",
    "over a period of (maximum) 90 days starting at $ t_0 = 24 $ November 2006. The area under study is characterized by intense eddy activity.\n",
    "\n",
    "\"Nan\"-values in the velocity data correspond to points where the particles is not defined (e.g. points on land). At the coastline (=interface between \"Nan\"-value and \"float\"-values in the velocity data), the velocity-field needs to be extrapolated, by assuming appropriate boundary conditions. In geophysical flows, the boundary conditions are selected to be of free slip type (=no penetration).\n",
    "In order to characterize the velocity field at the coastline we interpolate (both in time and space) the velocity from the original resolution to a finer resolution. Whenever the particle is in a grid cell which does not contain \"Nan\"-values, the velocity field is assumed to be well defined and the velocity can be computed via classic spline interpolation. \n",
    "At the coastlines, however, the grid-cell will contain at least one \"NaN\"-value. Hence, it is not possible to compute the velocity using standard interpolation techniques. In such flow regions, the velocity is computed assuming \"free-slip\" boundaries."
   ]
  },
  {
   "cell_type": "markdown",
   "metadata": {},
   "source": [
    "# Add Folders to Path\n",
    "\n",
    "We start by adding the necessary folders to the current working path."
   ]
  },
  {
   "cell_type": "code",
   "execution_count": null,
   "metadata": {},
   "outputs": [],
   "source": [
    "%%time\n",
    "import sys, os\n",
    "\n",
    "# get current directory\n",
    "path = os.getcwd()\n",
    "\n",
    "# get parent directory\n",
    "parent_directory = os.path.sep.join(path.split(os.path.sep)[:-4])\n",
    "\n",
    "# add utils folder to current working path\n",
    "sys.path.append(parent_directory+\"/subfunctions/utils\")\n",
    "\n",
    "# add integration folder to current working path\n",
    "sys.path.append(parent_directory+\"/subfunctions/integration\")"
   ]
  },
  {
   "cell_type": "markdown",
   "metadata": {},
   "source": [
    "# Import data"
   ]
  },
  {
   "cell_type": "code",
   "execution_count": 2,
   "metadata": {
    "ExecuteTime": {
     "end_time": "2021-12-22T11:02:33.102945Z",
     "start_time": "2021-12-22T11:02:33.094967Z"
    }
   },
   "outputs": [
    {
     "name": "stdout",
     "output_type": "stream",
     "text": [
      "[[ 0  7 14 21 28 35 42 49 56 63 70 77 84 91]]\n",
      "Wall time: 2 ms\n"
     ]
    }
   ],
   "source": [
    "%%time\n",
    "import scipy.io as sio\n",
    "\n",
    "#Import velocity data from file in data-folder\n",
    "mat_file = sio.loadmat('AVISO.mat')\n",
    "\n",
    "U = mat_file['u']\n",
    "V = mat_file['v']\n",
    "x = mat_file['x']\n",
    "y = mat_file['y']\n",
    "time_data = mat_file['t']"
   ]
  },
  {
   "cell_type": "markdown",
   "metadata": {},
   "source": [
    "# Refine velocity data using tricubic spline interpolation from [1]\n",
    "\n",
    "In order to more accurately capture the velocity data in the open sea we employ the tricubic spline interpolation from [1]. At the coastline, the velocity is evaluated assuming \"free-slip\" boundary conditions. The velocity data has a spatial resolution of 0.25 degrees, whereas the temporal resolution is originally seven days.\n",
    "\n",
    "NOTE: The package [pytricubic](#https://github.com/danielguterding/pytricubic) needs to be manually installed. The installation guidelines can be found on [here](#https://github.com/danielguterding/pytricubic).\n",
    "\n",
    "We refine both the spatial grid spacing to 0.025 degrees and the temporal spacing to one day using a tricubic spline interpolation."
   ]
  },
  {
   "cell_type": "code",
   "execution_count": 4,
   "metadata": {
    "ExecuteTime": {
     "end_time": "2021-12-22T11:03:48.187669Z",
     "start_time": "2021-12-22T11:03:48.118016Z"
    }
   },
   "outputs": [],
   "source": [
    "# import tricubic\n",
    "import tricubic\n",
    "\n",
    "# import numpy\n",
    "import numpy as np\n",
    "\n",
    "# import function which checks location of the particle.\n",
    "from ipynb.fs.defs.check_location import check_location\n",
    "\n",
    "# import function which computes the velocity of the particle at the coastline by assuming \"free-slip\" boundaries.\n",
    "from ipynb.fs.defs.velocity_boundary import velocity_boundary\n",
    "\n",
    "# import function which computes the velocity of the particle in a domain where velocity is well defined.\n",
    "from ipynb.fs.defs.velocity_domain import velocity_domain\n",
    "\n",
    "X_original, Y_original = np.meshgrid(x, y)\n",
    "time_data_original = time_data.copy()\n",
    "\n",
    "Interpolant_x = tricubic.tricubic(list(U), [X_original.shape[0], X_original.shape[1], time_data_original.shape[1]])\n",
    "Interpolant_y = tricubic.tricubic(list(V), [X_original.shape[0], X_original.shape[1], time_data_original.shape[1]])\n",
    "\n",
    "X_refined, Y_refined = np.meshgrid(np.arange(np.min(x), np.max(x)+0.025, 0.025), np.arange(np.min(y), np.max(y)+0.025, 0.025)) # 0.025 days\n",
    "time_refined = np.arange(np.min(time_data), np.max(time_data)+1, 1).reshape(1, -1)  # 1 day resolution\n",
    "\n",
    "U_refined = np.zeros((X_refined.shape[0], X_refined.shape[1], time_refined.shape[1]))\n",
    "V_refined = np.zeros((X_refined.shape[0], X_refined.shape[1], time_refined.shape[1]))\n",
    "\n",
    "for idx_y in range(Y_refined.shape[0]):\n",
    "    \n",
    "    for idx_x in range(X_refined.shape[1]):\n",
    "        \n",
    "        for idx_t in range(time_refined.shape[1]):\n",
    "            \n",
    "            U_refined[idx_y, idx_x, idx_t] = "
   ]
  },
  {
   "cell_type": "markdown",
   "metadata": {},
   "source": [
    "# References\n",
    "\n",
    "[1] Lekien, F., & Marsden, J. (2005). Tricubic interpolation in three dimensions. International Journal for Numerical Methods in Engineering, 63(3), 455-471."
   ]
  },
  {
   "cell_type": "code",
   "execution_count": null,
   "metadata": {},
   "outputs": [],
   "source": []
  }
 ],
 "metadata": {
  "kernelspec": {
   "display_name": "Python 3",
   "language": "python",
   "name": "python3"
  },
  "language_info": {
   "codemirror_mode": {
    "name": "ipython",
    "version": 3
   },
   "file_extension": ".py",
   "mimetype": "text/x-python",
   "name": "python",
   "nbconvert_exporter": "python",
   "pygments_lexer": "ipython3",
   "version": "3.7.12"
  },
  "toc": {
   "base_numbering": 1,
   "nav_menu": {},
   "number_sections": true,
   "sideBar": true,
   "skip_h1_title": false,
   "title_cell": "Table of Contents",
   "title_sidebar": "Contents",
   "toc_cell": false,
   "toc_position": {},
   "toc_section_display": true,
   "toc_window_display": false
  }
 },
 "nbformat": 4,
 "nbformat_minor": 4
}
