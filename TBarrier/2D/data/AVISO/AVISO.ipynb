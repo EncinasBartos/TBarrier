{
 "cells": [
  {
   "cell_type": "markdown",
   "metadata": {},
   "source": [
    "# Introduction to AVISO-data"
   ]
  },
  {
   "cell_type": "markdown",
   "metadata": {},
   "source": [
    "We will use the satellite-altimetry-derived ocean-surface current product AVISO-data as a dataset to validate the methods. The data is freely available from the [AVISO]((http://aviso.oceanobs.com)).\n",
    "\n",
    "The sea surface height $ h $ acts as a stream function for the geostrophic ocean surface velocity field. Particle trajectories on the ocean surface are approximately trajectories of the 2D system of ODEs:\n",
    "\n",
    "\\begin{align}\n",
    "\\dot{\\varphi} &= -\\dfrac{g}{R^2f(\\theta)\\cos(\\theta)}\\partial_{\\theta}h(\\phi, \\theta, t) \\\\\n",
    "\\dot{\\theta} &= \\dfrac{g}{R^2f(\\theta)\\cos(\\theta)}\\partial_{\\varphi}h(\\phi, \\theta, t),\n",
    "\\end{align}\n",
    "\n",
    "where $ \\varphi, \\theta $ respectively are the longitudinal and latitudinal position of the particle, $ g $ is the constant of gravity, $ R $ is the mean radius, $ f(\\theta) = 2\\Omega \\sin(\\theta) $ is the coriolis parameter and $ \\Omega $ is the mean angular velocity of the earth.\n",
    "\n",
    "The AVISO-data provides global coverage of ocean currents at weekly time-intervals with a spatial resolution of $ 0.25^{\\circ} $. As part of this work, we focus on the commonly studied Agulhas region in the Southern Ocean:\n",
    "\n",
    "\\begin{equation}\n",
    "(\\varphi, \\theta) \\in [14^{\\circ}W, 9^{\\circ}E] \\times [39^{\\circ}S, 21^{\\circ}S]\n",
    "\\end{equation}\n",
    "\n",
    "over a period of (maximum) 90 days starting at $ t_0 = 24 $ November 2006. The area under study is characterized by intense eddy activity."
   ]
  }
 ],
 "metadata": {
  "kernelspec": {
   "display_name": "Python 3",
   "language": "python",
   "name": "python3"
  },
  "language_info": {
   "codemirror_mode": {
    "name": "ipython",
    "version": 3
   },
   "file_extension": ".py",
   "mimetype": "text/x-python",
   "name": "python",
   "nbconvert_exporter": "python",
   "pygments_lexer": "ipython3",
   "version": "3.7.12"
  },
  "toc": {
   "base_numbering": 1,
   "nav_menu": {},
   "number_sections": true,
   "sideBar": true,
   "skip_h1_title": false,
   "title_cell": "Table of Contents",
   "title_sidebar": "Contents",
   "toc_cell": false,
   "toc_position": {},
   "toc_section_display": true,
   "toc_window_display": false
  }
 },
 "nbformat": 4,
 "nbformat_minor": 4
}
