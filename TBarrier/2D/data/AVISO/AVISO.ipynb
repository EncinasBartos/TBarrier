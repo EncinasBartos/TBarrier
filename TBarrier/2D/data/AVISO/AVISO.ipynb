{
 "cells": [
  {
   "cell_type": "markdown",
   "metadata": {},
   "source": [
    "# Introduction to AVISO-data"
   ]
  },
  {
   "cell_type": "markdown",
   "metadata": {},
   "source": [
    "We will use the satellite-altimetry-derived ocean-surface current product AVISO-data as a dataset to validate the methods. The data is freely available from the [AVISO]((http://aviso.oceanobs.com)).\n",
    "\n",
    "The sea surface height $ h $ acts as a stream function for the geostrophic ocean surface velocity field. Particle trajectories on the ocean surface are approximately trajectories of the 2D system of ODEs:\n",
    "\n",
    "\\begin{align}\n",
    "\\dot{\\varphi} &= -\\dfrac{g}{R^2f(\\theta)\\cos(\\theta)}\\partial_{\\theta}h(\\phi, \\theta, t) \\\\\n",
    "\\dot{\\theta} &= \\dfrac{g}{R^2f(\\theta)\\cos(\\theta)}\\partial_{\\varphi}h(\\phi, \\theta, t),\n",
    "\\end{align}\n",
    "\n",
    "where $ \\varphi, \\theta $ respectively are the longitudinal and latitudinal position of the particle, $ g $ is the constant of gravity, $ R $ is the mean radius, $ f(\\theta) = 2\\Omega \\sin(\\theta) $ is the coriolis parameter and $ \\Omega $ is the mean angular velocity of the earth.\n",
    "\n",
    "The AVISO-data provides global coverage of ocean currents at weekly time-intervals with a spatial resolution of $ 0.25^{\\circ} $. As part of this work, we focus on the commonly studied Agulhas region in the Southern Ocean:\n",
    "\n",
    "\\begin{equation}\n",
    "(\\varphi, \\theta) \\in [14^{\\circ}W, 9^{\\circ}E] \\times [39^{\\circ}S, 21^{\\circ}S]\n",
    "\\end{equation}\n",
    "\n",
    "over a period of (maximum) 90 days starting at $ t_0 = 24 $ November 2006. The area under study is characterized by intense eddy activity.\n",
    "\n",
    "\"Nan\"-values in the velocity data correspond to points where the particles is not defined (e.g. points on land). The velocity at those points is zero."
   ]
  },
  {
   "cell_type": "markdown",
   "metadata": {},
   "source": [
    "# Add Folders to Path\n",
    "\n",
    "We start by adding the necessary folders to the current working path."
   ]
  },
  {
   "cell_type": "code",
   "execution_count": 1,
   "metadata": {
    "ExecuteTime": {
     "end_time": "2022-01-11T22:04:42.249351Z",
     "start_time": "2022-01-11T22:04:42.236382Z"
    }
   },
   "outputs": [
    {
     "name": "stdout",
     "output_type": "stream",
     "text": [
      "Wall time: 0 ns\n"
     ]
    }
   ],
   "source": [
    "%%time\n",
    "import sys, os\n",
    "\n",
    "# get current directory\n",
    "path = os.getcwd()\n",
    "\n",
    "# get parent directory\n",
    "parent_directory = os.path.sep.join(path.split(os.path.sep)[:-2])\n",
    "\n",
    "# add utils folder to current working path\n",
    "sys.path.append(parent_directory+\"/subfunctions/utils\")\n",
    "\n",
    "# add integration folder to current working path\n",
    "sys.path.append(parent_directory+\"/subfunctions/integration\")"
   ]
  },
  {
   "cell_type": "markdown",
   "metadata": {},
   "source": [
    "# Import data"
   ]
  },
  {
   "cell_type": "code",
   "execution_count": 2,
   "metadata": {
    "ExecuteTime": {
     "end_time": "2022-01-11T22:04:42.361063Z",
     "start_time": "2022-01-11T22:04:42.250354Z"
    }
   },
   "outputs": [
    {
     "name": "stdout",
     "output_type": "stream",
     "text": [
      "Wall time: 105 ms\n"
     ]
    }
   ],
   "source": [
    "%%time\n",
    "import scipy.io as sio\n",
    "\n",
    "#Import velocity data from file in data-folder\n",
    "mat_file = sio.loadmat('AVISO_raw.mat')\n",
    "\n",
    "U = mat_file['u']\n",
    "V = mat_file['v']\n",
    "x = mat_file['x']\n",
    "y = mat_file['y']\n",
    "time_data = mat_file['t']"
   ]
  },
  {
   "cell_type": "markdown",
   "metadata": {},
   "source": [
    "# Interpolate in time using tricubic spline interpolation from [1]\n",
    "\n",
    "In order to more accurately capture the velocity data in the open sea we employ the tricubic spline interpolation from Lekien  .The velocity data has a spatial resolution of 0.25 degrees, whereas the temporal resolution is originally seven days. We interpolate the data to a finer temporal resolution using spline interpolation. The new temporal resolution is 1 day.\n",
    "\n",
    "NOTE: The package [pytricubic](#https://github.com/danielguterding/pytricubic) needs to be manually installed. The installation guidelines can be found [here](#https://github.com/danielguterding/pytricubic)."
   ]
  },
  {
   "cell_type": "code",
   "execution_count": 3,
   "metadata": {
    "ExecuteTime": {
     "end_time": "2022-01-11T22:04:56.598286Z",
     "start_time": "2022-01-11T22:04:42.362019Z"
    }
   },
   "outputs": [
    {
     "data": {
      "application/vnd.jupyter.widget-view+json": {
       "model_id": "2518a2a1512b480eb941ab2bd64c76da",
       "version_major": 2,
       "version_minor": 0
      },
      "text/plain": [
       "  0%|          | 0/105 [00:00<?, ?it/s]"
      ]
     },
     "metadata": {},
     "output_type": "display_data"
    }
   ],
   "source": [
    "# import tricubic\n",
    "import tricubic\n",
    "\n",
    "# import progress bar\n",
    "from tqdm.notebook import tqdm\n",
    "\n",
    "# import numpy\n",
    "import numpy as np\n",
    "\n",
    "# import function to check location of the particle.\n",
    "from ipynb.fs.defs.check_location import check_location\n",
    "\n",
    "# new temporal resolution\n",
    "new_dt = 1 # in units of days\n",
    "\n",
    "# grid of original data\n",
    "X_original, Y_original = np.meshgrid(x, y)\n",
    "time_data_original = time_data.copy()\n",
    "\n",
    "# spacing of grid-size of original data\n",
    "dx_data = X_original[0,1]-X_original[0,0]\n",
    "dy_data = Y_original[1,0]-Y_original[0,0]\n",
    "dt_data = time_data[0, 1]-time_data[0, 0]\n",
    "\n",
    "# create Interpolant object\n",
    "\n",
    "# refined spatial/temporal grid\n",
    "X_refined, Y_refined = np.meshgrid(np.arange(np.min(x), np.max(x)+0.25, 0.25), np.arange(np.min(y), np.max(y)+0.25, 0.25)) # 0.125 degrees\n",
    "time_data_refined = np.arange(np.min(time_data_original), np.max(time_data_original)+new_dt, new_dt).reshape(1, -1)  # .1 day resolution\n",
    "\n",
    "# Initialize arrays for velocities over refined grid\n",
    "U_refined = np.zeros((X_refined.shape[0], X_refined.shape[1], time_data_refined.shape[1]))\n",
    "V_refined = np.zeros((X_refined.shape[0], X_refined.shape[1], time_data_refined.shape[1]))\n",
    "\n",
    "# defined domain\n",
    "# defined_domain is an array which denotes point in the meshgrid where the velocity field is defined (=1) \n",
    "# and points where it is not defined (=0). \n",
    "# This is needed to evaluate whether the particle is in a cell with \"Nan\" values at its grid-points.\n",
    "defined_domain = np.isfinite(U[:,:,0]).astype(int)\n",
    "\n",
    "# transform nan values to '0' for interpolation\n",
    "U[np.isnan(U)] = 0\n",
    "V[np.isnan(V)] = 0\n",
    "\n",
    "# Interpolant for u/v\n",
    "Interpolant_u = tricubic.tricubic(list(U), [X_original.shape[0], X_original.shape[1], time_data_original.shape[1]])\n",
    "Interpolant_v = tricubic.tricubic(list(V), [X_original.shape[0], X_original.shape[1], time_data_original.shape[1]])\n",
    "\n",
    "# Iterate over grid\n",
    "\n",
    "# iterate in y\n",
    "for idx_y in tqdm(range(Y_refined.shape[0])):\n",
    "    \n",
    "    # iterate in x\n",
    "    for idx_x in range(X_refined.shape[1]):\n",
    "        \n",
    "        # iterate in time\n",
    "        for idx_t in range(time_data_refined.shape[1]):\n",
    "            \n",
    "            x0 = np.array([X_refined[idx_y, idx_x], Y_refined[idx_y, idx_x]])\n",
    "            \n",
    "            # check location of particle\n",
    "            location, idx_x_loc, idx_y_loc = check_location(X_original, Y_original, defined_domain, x0)\n",
    "            \n",
    "            # If particle is in a grid-cell without \"Nan\"-values, then use interpolant to evaluate velocity field at refined grid-point.\n",
    "            if location == \"IN\":\n",
    "                \n",
    "                x_scaled = (x0[0]-X_original[0, 0])/dx_data\n",
    "                \n",
    "                y_scaled = (x0[1]-Y_original[0, 0])/dy_data\n",
    "                \n",
    "                time_scaled = (time_data_refined[0,idx_t]-time_data_original[0, 0])/dt_data\n",
    "            \n",
    "                x_list = list(np.array([y_scaled, x_scaled, time_scaled]))\n",
    "            \n",
    "                U_refined[idx_y, idx_x, idx_t] = Interpolant_u.ip(x_list)\n",
    "                V_refined[idx_y, idx_x, idx_t] = Interpolant_v.ip(x_list)\n",
    "            \n",
    "            else:\n",
    "                \n",
    "                U_refined[idx_y, idx_x, idx_t], V_refined[idx_y, idx_x, idx_t] = np.nan, np.nan"
   ]
  },
  {
   "cell_type": "code",
   "execution_count": 4,
   "metadata": {
    "ExecuteTime": {
     "end_time": "2022-01-11T22:04:56.646194Z",
     "start_time": "2022-01-11T22:04:56.599255Z"
    }
   },
   "outputs": [],
   "source": [
    "# save data\n",
    "\n",
    "mdic = {\"u\": U_refined, \"v\": V_refined, \"x\": X_refined[0,:], \"y\": Y_refined[:,0], \"t\": time_data_refined}\n",
    "sio.savemat('AVISO.mat', mdic)"
   ]
  },
  {
   "cell_type": "markdown",
   "metadata": {},
   "source": [
    "# References\n",
    "\n",
    "[1] Lekien, F., & Marsden, J. (2005). Tricubic interpolation in three dimensions. International Journal for Numerical Methods in Engineering, 63(3), 455-471."
   ]
  }
 ],
 "metadata": {
  "kernelspec": {
   "display_name": "Python 3",
   "language": "python",
   "name": "python3"
  },
  "language_info": {
   "codemirror_mode": {
    "name": "ipython",
    "version": 3
   },
   "file_extension": ".py",
   "mimetype": "text/x-python",
   "name": "python",
   "nbconvert_exporter": "python",
   "pygments_lexer": "ipython3",
   "version": "3.7.12"
  },
  "toc": {
   "base_numbering": 1,
   "nav_menu": {},
   "number_sections": true,
   "sideBar": true,
   "skip_h1_title": false,
   "title_cell": "Table of Contents",
   "title_sidebar": "Contents",
   "toc_cell": false,
   "toc_position": {},
   "toc_section_display": true,
   "toc_window_display": false
  }
 },
 "nbformat": 4,
 "nbformat_minor": 4
}
