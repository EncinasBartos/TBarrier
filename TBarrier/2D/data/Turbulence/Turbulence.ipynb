{
 "cells": [
  {
   "cell_type": "markdown",
   "id": "27292b92",
   "metadata": {},
   "source": [
    "The two-dimensional turbulence simulation over a spatially periodic domain $ U = [0, 2\\pi] \\times [0, 2\\pi] $ is obtained from a pseudo-spectral code applied to the 2-D, incompressible Navier–Stokes equation (see [1]) with viscosity ($ \\mu = 2 \\times 10^{-5} $). The spatial coordinates are resolved using $ 1024 \\times 1024 $ Fourier modes and a $ 2/3 $ dealiasing. The velocity field was derived over the time-interval $ [0, 50] $ and contains 251 equally spaced velocity field snapshots. \n",
    "\n",
    "The following table highlights the variables stored in the mat-file '2DTurbulence.mat'.\n",
    "\n",
    "| Name | Type (Shape) | Description |\n",
    "| --- | --- | --- |\n",
    "| x | array (Nx,) | x-coordinate $ [0, 2\\pi] $ with Nx = 1024 |\n",
    "| y | array (Ny,) | y-coordinate $ [0, 2\\pi] $ with Ny = 1024 |\n",
    "| t | array (N,) | time $ [0, 250] $ with N = 251 |\n",
    "| U | array (Ny, Nx, N) | x-component of velocity |\n",
    "| V | array (Ny, Nx, N) | y-component of velocity |\n",
    "| omega | array (Ny, Nx, N) | vorticity |\n",
    "\n",
    "[1] Farazmand, M. M., Kevlahan, N. R., & Protas, B. (2011). Controlling the dual cascade of two-dimensional turbulence. $ \\textit{Journal of fluid mechanics, 668, 202-222.} $"
   ]
  },
  {
   "cell_type": "code",
   "execution_count": 1,
   "id": "dd2b8d2d",
   "metadata": {
    "ExecuteTime": {
     "end_time": "2021-12-13T12:53:58.876022Z",
     "start_time": "2021-12-13T12:53:58.851037Z"
    }
   },
   "outputs": [
    {
     "name": "stdout",
     "output_type": "stream",
     "text": [
      "Wall time: 0 ns\n"
     ]
    }
   ],
   "source": [
    "%%time\n",
    "import sys, os\n",
    "\n",
    "# get current directory\n",
    "path = os.getcwd()\n",
    "\n",
    "# get parent directory\n",
    "parent_directory = os.path.sep.join(path.split(os.path.sep)[:-2])\n",
    "\n",
    "# add utils folder to current working path\n",
    "sys.path.append(parent_directory+\"/subfunctions/utils\")\n",
    "\n",
    "# add integration folder to current working path\n",
    "sys.path.append(parent_directory+\"/subfunctions/integration\")"
   ]
  },
  {
   "cell_type": "code",
   "execution_count": 2,
   "id": "f41f8e1b",
   "metadata": {
    "ExecuteTime": {
     "end_time": "2021-12-13T12:53:59.851070Z",
     "start_time": "2021-12-13T12:53:58.882006Z"
    }
   },
   "outputs": [],
   "source": [
    "# Import scipy for loading/saving mat-files\n",
    "import scipy.io\n",
    "\n",
    "# Import os\n",
    "import os\n",
    "\n",
    "# Import numpy\n",
    "import numpy as np"
   ]
  },
  {
   "cell_type": "code",
   "execution_count": 3,
   "id": "b8f0cabc",
   "metadata": {
    "ExecuteTime": {
     "end_time": "2021-12-13T12:54:14.792086Z",
     "start_time": "2021-12-13T12:53:59.858049Z"
    },
    "scrolled": false
   },
   "outputs": [
    {
     "name": "stdout",
     "output_type": "stream",
     "text": [
      "Wall time: 14.9 s\n"
     ]
    }
   ],
   "source": [
    "%%time\n",
    "import scipy.io as sio\n",
    "\n",
    "# get current directory\n",
    "current_directory = os.getcwd()\n",
    "\n",
    "# load mat-file\n",
    "mat_data = scipy.io.loadmat(current_directory + r'/Turbulence.mat')\n",
    "\n",
    "# load variables\n",
    "U = mat_data['U'][:,:,:26]\n",
    "V = mat_data['V'][:,:,:26]\n",
    "omega = mat_data['omega']\n",
    "x = mat_data['x']\n",
    "y = mat_data['y']\n",
    "time_data = mat_data['t'][:,:26]"
   ]
  },
  {
   "cell_type": "markdown",
   "id": "07c4deaf",
   "metadata": {},
   "source": [
    "# Compute trajectories\n",
    "\n",
    "We precompute the trajectories in the periodic two-dimensional turbulence model. The trajectories are computed over the spatial domain:\n",
    "\n",
    "\\begin{equation}\n",
    "\\lbrace x, y \\in [0, 2\\pi] \\times [0, 2\\pi] \\rbrace\n",
    "\\end{equation} over the time-interval $ t \\in [0, 25] $"
   ]
  },
  {
   "cell_type": "markdown",
   "id": "ab7783e0",
   "metadata": {},
   "source": [
    "## Computational parameters and data\n",
    "\n",
    "Here we define the computational parameters and the data."
   ]
  },
  {
   "cell_type": "code",
   "execution_count": 4,
   "id": "b3fd4f32",
   "metadata": {
    "ExecuteTime": {
     "end_time": "2021-12-13T12:54:14.856544Z",
     "start_time": "2021-12-13T12:54:14.797070Z"
    }
   },
   "outputs": [],
   "source": [
    "import numpy as np\n",
    "\n",
    "# number of cores to be used for parallel computing\n",
    "Ncores = 8\n",
    "\n",
    "# time resolution of data\n",
    "dt_data = time_data[0,1]-time_data[0,0]\n",
    "\n",
    "# periodic boundary conditions\n",
    "periodic_x = False\n",
    "periodic_y = False\n",
    "periodic = [periodic_x, periodic_y]\n",
    "\n",
    "# unsteady velocity field\n",
    "bool_unsteady = True\n",
    "\n",
    "# defined domain\n",
    "# This array denotes where the velocity field is defined (=1) and where it is not defined (=0)\n",
    "defined_domain = np.isfinite(U[:,:,0]).astype(int)\n",
    "\n",
    "## meshgrid\n",
    "X, Y = np.meshgrid(x, y)\n",
    "\n",
    "## resolution of meshgrid\n",
    "dx_data = X[0,1]-X[0,0]\n",
    "dy_data = Y[1,0]-Y[0,0]\n",
    "\n",
    "delta = [dx_data, dy_data]"
   ]
  },
  {
   "cell_type": "markdown",
   "id": "6762e008",
   "metadata": {},
   "source": [
    "## Spatio-temporal domain\n",
    "\n",
    "Here we define the spatio-temporal domain over which to consider the dynamical system."
   ]
  },
  {
   "cell_type": "code",
   "execution_count": 5,
   "id": "decea73b",
   "metadata": {
    "ExecuteTime": {
     "end_time": "2021-12-13T12:54:15.501043Z",
     "start_time": "2021-12-13T12:54:14.863038Z"
    }
   },
   "outputs": [
    {
     "name": "stdout",
     "output_type": "stream",
     "text": [
      "Wall time: 56 ms\n"
     ]
    }
   ],
   "source": [
    "%%time\n",
    "# Initial time (in days)\n",
    "t0 = 0\n",
    "\n",
    "# Final time (in days)\n",
    "tN = 25\n",
    "\n",
    "# time step-size (in days)\n",
    "dt = .2\n",
    "\n",
    "time = np.arange(t0, tN+dt, dt)\n",
    "\n",
    "# length of time interval (in days)\n",
    "lenT = abs(tN-t0)\n",
    "\n",
    "# longitudinal and latitudinal boundaries (in degrees)\n",
    "xmin = 0\n",
    "xmax = 2*np.pi\n",
    "ymin = 0\n",
    "ymax = 2*np.pi\n",
    "\n",
    "# make sure that the chosen domain is part of the data domain\n",
    "assert (xmax <= np.max(X) and xmin >= np.min(X) and ymin >= np.min(Y) and ymax <= np.max(Y) and t0 >= np.min(time_data) and tN <= np.max(time_data)),\"The domains you are chooising are outside the domain of the data!!!!! --> redefine spatial/temporal domain\"\n",
    "\n",
    "# Resolution of meshgrid (in degrees)\n",
    "Nx = 1024\n",
    "Ny = 1024\n",
    "\n",
    "x_domain = np.linspace(xmin, xmax, Nx, endpoint = True)\n",
    "y_domain = np.linspace(ymin, ymax, Ny, endpoint = True)\n",
    "\n",
    "X_domain, Y_domain = np.meshgrid(x_domain, y_domain)"
   ]
  },
  {
   "cell_type": "markdown",
   "id": "f8ee156e",
   "metadata": {},
   "source": [
    "## Interpolate velocity\n",
    "\n",
    "In order to evaluate the velocity field at arbitrary locations and times, we interpolate the discrete velocity data. The interpolation with respect to time is always linear. The interpolation with respect to space can be chosen to be \"cubic\" or \"linear\"."
   ]
  },
  {
   "cell_type": "code",
   "execution_count": 6,
   "id": "597ac9ce",
   "metadata": {
    "ExecuteTime": {
     "end_time": "2021-12-13T12:54:33.224094Z",
     "start_time": "2021-12-13T12:54:15.509021Z"
    }
   },
   "outputs": [
    {
     "name": "stdout",
     "output_type": "stream",
     "text": [
      "Wall time: 17.7 s\n"
     ]
    }
   ],
   "source": [
    "%%time\n",
    "# Import interpolation function for unsteady flow field\n",
    "from ipynb.fs.defs.Interpolant import interpolant_unsteady\n",
    "\n",
    "# set nan values to zero so that we can apply interpolant. Interpolant does not work if the array contains nan values\n",
    "U[np.isnan(U)] = 0\n",
    "V[np.isnan(V)] = 0\n",
    "\n",
    "# Interpolate velocity data using cubic spatial interpolation\n",
    "Interpolant = interpolant_unsteady(X, Y, U, V, time_data, method = \"cubic\")"
   ]
  },
  {
   "cell_type": "markdown",
   "id": "1196036b",
   "metadata": {},
   "source": [
    "## Compute trajectories over meshgrid"
   ]
  },
  {
   "cell_type": "code",
   "execution_count": null,
   "id": "9629c235",
   "metadata": {
    "ExecuteTime": {
     "start_time": "2021-12-13T12:53:59.396Z"
    }
   },
   "outputs": [
    {
     "data": {
      "application/vnd.jupyter.widget-view+json": {
       "model_id": "0fab77078fd045ccb9d3ba3b3b672269",
       "version_major": 2,
       "version_minor": 0
      },
      "text/plain": [
       "  0%|          | 0/1024 [00:00<?, ?it/s]"
      ]
     },
     "metadata": {},
     "output_type": "display_data"
    }
   ],
   "source": [
    "%%time\n",
    "# Import package for computing trajectories/velocity along trajectories\n",
    "from ipynb.fs.defs.integration_dFdt import integration_dFdt\n",
    "\n",
    "# Import package which checks particle location\n",
    "from ipynb.fs.defs.check_location import check_location\n",
    "\n",
    "# Import package for progress bar\n",
    "from tqdm.notebook import tqdm\n",
    "\n",
    "# Import package for parallel computing\n",
    "from joblib import Parallel, delayed\n",
    "\n",
    "import matplotlib.pyplot as plt\n",
    "\n",
    "def parallel_trajectories(i):\n",
    "    \n",
    "    Trajectories_parallel = np.zeros((X_domain.shape[1], 2, len(time)))\n",
    "    \n",
    "    for j in range(X_domain.shape[1]):\n",
    "        \n",
    "        # set initial condition\n",
    "        x = np.array([X_domain[i, j], Y_domain[i, j]])\n",
    "\n",
    "        # compute velocity along trajectory\n",
    "        Fmap = integration_dFdt(time, x, X, Y, Interpolant, periodic, defined_domain, bool_unsteady, dt_data, delta)[0]\n",
    "        \n",
    "        fig = plt.figure()\n",
    "        ax = plt.axes()\n",
    "        ax.plot(Fmap[0,:], Fmap[1,:])\n",
    "        plt.show()\n",
    "    \n",
    "        Trajectories_parallel[j,:,:] = Fmap\n",
    "        \n",
    "    return Trajectories_parallel[j,:,:]\n",
    "\n",
    "Ncores\n",
    "Trajectories = np.array(Parallel(n_jobs=Ncores, verbose = 0)(delayed(parallel_trajectories)(i) for i in tqdm(range(X_domain.shape[0]))))"
   ]
  },
  {
   "cell_type": "code",
   "execution_count": null,
   "id": "a94a3a19",
   "metadata": {
    "ExecuteTime": {
     "start_time": "2021-12-13T12:53:59.461Z"
    }
   },
   "outputs": [],
   "source": [
    "#scipy.io.savemat(file_processed_data, {'': u, 'V': v, 'omega': v, 'x': x, 'y': y, 't': t})"
   ]
  }
 ],
 "metadata": {
  "kernelspec": {
   "display_name": "Python 3 (ipykernel)",
   "language": "python",
   "name": "python3"
  },
  "language_info": {
   "codemirror_mode": {
    "name": "ipython",
    "version": 3
   },
   "file_extension": ".py",
   "mimetype": "text/x-python",
   "name": "python",
   "nbconvert_exporter": "python",
   "pygments_lexer": "ipython3",
   "version": "3.7.11"
  },
  "toc": {
   "base_numbering": 1,
   "nav_menu": {},
   "number_sections": true,
   "sideBar": true,
   "skip_h1_title": false,
   "title_cell": "Table of Contents",
   "title_sidebar": "Contents",
   "toc_cell": false,
   "toc_position": {},
   "toc_section_display": true,
   "toc_window_display": false
  }
 },
 "nbformat": 4,
 "nbformat_minor": 5
}
