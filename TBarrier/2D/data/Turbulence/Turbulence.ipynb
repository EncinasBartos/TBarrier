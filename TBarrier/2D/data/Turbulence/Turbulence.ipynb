{
 "cells": [
  {
   "cell_type": "markdown",
   "id": "27292b92",
   "metadata": {},
   "source": [
    "The two-dimensional turbulence simulation over a spatially periodic domain $ U = [0, 2\\pi] \\times [0, 2\\pi] $ is obtained from a pseudo-spectral code applied to the 2-D, incompressible Navier–Stokes equation (see [1]) with viscosity ($ \\mu = 2 \\times 10^{-5} $). The spatial coordinates are resolved using $ 1024 \\times 1024 $ Fourier modes and a $ 2/3 $ dealiasing. The velocity field was derived over the time-interval $ [0, 50] $ and contains 251 equally spaced velocity field snapshots. \n",
    "\n",
    "The velocity data is stored in the folder [turb_u](./raw_data/turb_u) whereas the vorticity data is in the folder [turb_w](./raw_data/turb_w). Every snapshot of the velocity and the vorticity is stored in one mat-file. For easier data handling we now summarize the [velocity](./processed_data/velocity.mat) and [vorticity](./processed_data/vorticity.mat) snapshots in respectively two mat-files.\n",
    "\n",
    "[1] Farazmand, M. M., Kevlahan, N. R., & Protas, B. (2011). Controlling the dual cascade of two-dimensional turbulence. $ \\textit{Journal of fluid mechanics, 668, 202-222.} $"
   ]
  },
  {
   "cell_type": "code",
   "execution_count": null,
   "id": "0e80e795",
   "metadata": {},
   "outputs": [],
   "source": [
    "################################################## TO BE DONE ##################################################"
   ]
  },
  {
   "cell_type": "code",
   "execution_count": 1,
   "id": "f41f8e1b",
   "metadata": {
    "ExecuteTime": {
     "end_time": "2021-12-07T17:06:21.306712Z",
     "start_time": "2021-12-07T17:06:21.120701Z"
    }
   },
   "outputs": [],
   "source": [
    "# Import scipy for loading/saving mat-files\n",
    "import scipy.io\n",
    "\n",
    "# Import os\n",
    "import os\n",
    "\n",
    "# Import numpy\n",
    "import numpy as np"
   ]
  },
  {
   "cell_type": "code",
   "execution_count": 2,
   "id": "b8f0cabc",
   "metadata": {
    "ExecuteTime": {
     "end_time": "2021-12-07T17:06:21.313325Z",
     "start_time": "2021-12-07T17:06:21.308590Z"
    },
    "scrolled": false
   },
   "outputs": [],
   "source": [
    "# get current directory\n",
    "current_directory = os.getcwd()\n",
    "\n",
    "# directories from where dat is loaded/stored\n",
    "directory_raw_turb_u = current_directory + r'/raw_data/turb_u'\n",
    "directory_raw_turb_w = current_directory + r'/raw_data/turb_w'\n",
    "file_processed_data = current_directory + r'/processed_data/2DTurbulence.mat'\n",
    "\n",
    "# define u, v, omega\n",
    "# u.shape = v.shape = omega.shape = (1024, 1024, 251)\n",
    "u = np.zeros((1024, 1024, 251))\n",
    "v = np.zeros((1024, 1024, 251))\n",
    "omega = np.zeros((1024, 1024, 251))\n",
    "\n",
    "# define spatial and time-domain\n",
    "x = np.linspace(0, 2*np.pi, 1024)\n",
    "y = np.linspace(0, 2*np.pi, 1024)\n",
    "t = np.arange(0, 251, 1)"
   ]
  },
  {
   "cell_type": "code",
   "execution_count": 3,
   "id": "fb4c29e9",
   "metadata": {
    "ExecuteTime": {
     "end_time": "2021-12-07T17:06:21.415489Z",
     "start_time": "2021-12-07T17:06:21.315505Z"
    },
    "scrolled": true
   },
   "outputs": [
    {
     "ename": "FileNotFoundError",
     "evalue": "[Errno 2] No such file or directory: '/Users/enalex/OneDrive/TBarrier/TBarrier/2D/data/Turbulence/raw_data/turb_u'",
     "output_type": "error",
     "traceback": [
      "\u001b[0;31m---------------------------------------------------------------------------\u001b[0m",
      "\u001b[0;31mFileNotFoundError\u001b[0m                         Traceback (most recent call last)",
      "\u001b[0;32m<ipython-input-3-b5610509f974>\u001b[0m in \u001b[0;36m<module>\u001b[0;34m\u001b[0m\n\u001b[1;32m      1\u001b[0m \u001b[0mcounter\u001b[0m \u001b[0;34m=\u001b[0m \u001b[0;36m0\u001b[0m\u001b[0;34m\u001b[0m\u001b[0;34m\u001b[0m\u001b[0m\n\u001b[1;32m      2\u001b[0m \u001b[0;31m# iterate over all files in folder ./raw_data/turb_u\u001b[0m\u001b[0;34m\u001b[0m\u001b[0;34m\u001b[0m\u001b[0;34m\u001b[0m\u001b[0m\n\u001b[0;32m----> 3\u001b[0;31m \u001b[0;32mfor\u001b[0m \u001b[0mfilename\u001b[0m \u001b[0;32min\u001b[0m \u001b[0msorted\u001b[0m\u001b[0;34m(\u001b[0m\u001b[0mos\u001b[0m\u001b[0;34m.\u001b[0m\u001b[0mlistdir\u001b[0m\u001b[0;34m(\u001b[0m\u001b[0mdirectory_raw_turb_u\u001b[0m\u001b[0;34m)\u001b[0m\u001b[0;34m)\u001b[0m\u001b[0;34m:\u001b[0m\u001b[0;34m\u001b[0m\u001b[0;34m\u001b[0m\u001b[0m\n\u001b[0m\u001b[1;32m      4\u001b[0m     \u001b[0;32mif\u001b[0m \u001b[0mfilename\u001b[0m\u001b[0;34m.\u001b[0m\u001b[0mendswith\u001b[0m\u001b[0;34m(\u001b[0m\u001b[0;34m\".mat\"\u001b[0m\u001b[0;34m)\u001b[0m\u001b[0;34m:\u001b[0m\u001b[0;34m\u001b[0m\u001b[0;34m\u001b[0m\u001b[0m\n\u001b[1;32m      5\u001b[0m         \u001b[0mfile_u\u001b[0m \u001b[0;34m=\u001b[0m \u001b[0mos\u001b[0m\u001b[0;34m.\u001b[0m\u001b[0mpath\u001b[0m\u001b[0;34m.\u001b[0m\u001b[0mjoin\u001b[0m\u001b[0;34m(\u001b[0m\u001b[0mdirectory_raw_turb_u\u001b[0m\u001b[0;34m,\u001b[0m \u001b[0mfilename\u001b[0m\u001b[0;34m)\u001b[0m\u001b[0;34m\u001b[0m\u001b[0;34m\u001b[0m\u001b[0m\n",
      "\u001b[0;31mFileNotFoundError\u001b[0m: [Errno 2] No such file or directory: '/Users/enalex/OneDrive/TBarrier/TBarrier/2D/data/Turbulence/raw_data/turb_u'"
     ]
    }
   ],
   "source": [
    "counter = 0\n",
    "# iterate over all files in folder ./raw_data/turb_u\n",
    "for filename in sorted(os.listdir(directory_raw_turb_u)):\n",
    "    if filename.endswith(\".mat\"):\n",
    "        file_u = os.path.join(directory_raw_turb_u, filename) \n",
    "        turb_u = scipy.io.loadmat(file_u)\n",
    "        u[:,:,counter] = turb_u['u1']\n",
    "        v[:,:,counter] = turb_u['u2']\n",
    "        counter += 1"
   ]
  },
  {
   "cell_type": "code",
   "execution_count": null,
   "id": "4214d41b",
   "metadata": {
    "ExecuteTime": {
     "end_time": "2021-12-07T17:06:21.417571Z",
     "start_time": "2021-12-07T17:06:21.124Z"
    }
   },
   "outputs": [],
   "source": [
    "counter = 0\n",
    "# iterate over all files in folder ./raw_data/turb_w\n",
    "for filename in sorted(os.listdir(directory_raw_turb_w)):\n",
    "    if filename.endswith(\".mat\"):\n",
    "        file_w = os.path.join(directory_raw_turb_w, filename) \n",
    "        turb_w = scipy.io.loadmat(file_w)\n",
    "        omega[:,:,counter] = turb_w['w']\n",
    "        counter += 1"
   ]
  },
  {
   "cell_type": "code",
   "execution_count": null,
   "id": "a94a3a19",
   "metadata": {
    "ExecuteTime": {
     "end_time": "2021-12-07T17:06:21.418883Z",
     "start_time": "2021-12-07T17:06:21.125Z"
    }
   },
   "outputs": [],
   "source": [
    "scipy.io.savemat(file_processed_data, {'U': u, 'V': v, 'omega': v, 'x': x, 'y': y, 't': t})"
   ]
  }
 ],
 "metadata": {
  "kernelspec": {
   "display_name": "Python 3 (ipykernel)",
   "language": "python",
   "name": "python3"
  },
  "language_info": {
   "codemirror_mode": {
    "name": "ipython",
    "version": 3
   },
   "file_extension": ".py",
   "mimetype": "text/x-python",
   "name": "python",
   "nbconvert_exporter": "python",
   "pygments_lexer": "ipython3",
   "version": "3.7.11"
  },
  "toc": {
   "base_numbering": 1,
   "nav_menu": {},
   "number_sections": true,
   "sideBar": true,
   "skip_h1_title": false,
   "title_cell": "Table of Contents",
   "title_sidebar": "Contents",
   "toc_cell": false,
   "toc_position": {},
   "toc_section_display": true,
   "toc_window_display": false
  }
 },
 "nbformat": 4,
 "nbformat_minor": 5
}
