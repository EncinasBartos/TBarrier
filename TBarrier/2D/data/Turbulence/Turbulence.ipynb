{
 "cells": [
  {
   "cell_type": "markdown",
   "id": "27292b92",
   "metadata": {},
   "source": [
    "The two-dimensional turbulence simulation over a spatially periodic domain $ U = [0, 2\\pi] \\times [0, 2\\pi] $ is obtained from a pseudo-spectral code applied to the 2-D, incompressible Navier–Stokes equation (see [1]) with viscosity ($ \\mu = 2 \\times 10^{-5} $). The spatial coordinates are resolved using $ 1024 \\times 1024 $ Fourier modes and a $ 2/3 $ dealiasing. The velocity field was derived over the time-interval $ [0, 50] $ and contains 251 equally spaced velocity field snapshots. \n",
    "\n",
    "The following table highlights the variables stored in the mat-file '2DTurbulence.mat'.\n",
    "\n",
    "| Name | Type (Shape) | Description |\n",
    "| --- | --- | --- |\n",
    "| x | array (Nx,) | x-coordinate $ [0, 2\\pi] $ with Nx = 1024 |\n",
    "| y | array (Ny,) | y-coordinate $ [0, 2\\pi] $ with Ny = 1024 |\n",
    "| t | array (N,) | time $ [0, 250] $ with N = 251 |\n",
    "| U | array (Ny, Nx, N) | x-component of velocity |\n",
    "| V | array (Ny, Nx, N) | y-component of velocity |\n",
    "| omega | array (Ny, Nx, N) | vorticity |\n",
    "\n",
    "The mat-file 'particles1100.mat' contains the trajectories which have been advected over the time-interval [0, 50].\n",
    "\n",
    "| Name | Type (Shape) | Description |\n",
    "| --- | --- | --- |\n",
    "| xt | array (51, Ny, Nx, 5) | x-coordinate of trajectories with Nx = 1099, Ny = 1099. <br /> The last dimension has dimension 5 because it also includes the 4 trajectories launched from the auxiliary grid. |\n",
    "| yt | array (51, Ny, Nx, 5) | y-coordinate of trajectories with Nx = 1099, Ny = 1099. <br /> The last dimension has dimension 5 because it also includes the 4 trajectories launched from the auxiliary grid. |\n",
    "\n",
    "The mat-files are stored on [ https://polybox.ethz.ch/index.php/s/pzzHiwHfOw5VJZO ] as they are too big for a github repository. Please download them together with the demos and put all the script in the folder '/data/Turbulence' (the same folder where this notebook is located)."
   ]
  },
  {
   "cell_type": "markdown",
   "id": "16d09a38",
   "metadata": {},
   "source": [
    "# References\n",
    "\n",
    "[1] Farazmand, M. M., Kevlahan, N. R., & Protas, B. (2011). Controlling the dual cascade of two-dimensional turbulence. _Journal of Fluid Mechanics_, 668, 202-222. doi:10.1017/S0022112010004635"
   ]
  }
 ],
 "metadata": {
  "kernelspec": {
   "display_name": "Python 3",
   "language": "python",
   "name": "python3"
  },
  "language_info": {
   "codemirror_mode": {
    "name": "ipython",
    "version": 3
   },
   "file_extension": ".py",
   "mimetype": "text/x-python",
   "name": "python",
   "nbconvert_exporter": "python",
   "pygments_lexer": "ipython3",
   "version": "3.7.12"
  },
  "toc": {
   "base_numbering": 1,
   "nav_menu": {},
   "number_sections": true,
   "sideBar": true,
   "skip_h1_title": false,
   "title_cell": "Table of Contents",
   "title_sidebar": "Contents",
   "toc_cell": false,
   "toc_position": {},
   "toc_section_display": true,
   "toc_window_display": false
  }
 },
 "nbformat": 4,
 "nbformat_minor": 5
}
