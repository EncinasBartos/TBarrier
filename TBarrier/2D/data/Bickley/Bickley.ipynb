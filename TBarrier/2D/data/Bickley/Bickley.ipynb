{
 "cells": [
  {
   "cell_type": "markdown",
   "metadata": {},
   "source": [
    "The Bickley jet is an idealized model of geophysical flows such as the Gulf Stream  and models a meandering zonal jet between a series of counter rotating vortices. In the reference frame moving with $ c_2 $, the flow consists of a steady background and a\n",
    "time-periodic perturbation:\n",
    "\n",
    "\\begin{equation}\n",
    "\\mathbf{v}(x, y, t) = \\begin{pmatrix} -\\partial_y \\psi(x, y, t) \\\\ \\partial_x \\psi(x, y, t) \\end{pmatrix}, \n",
    "\\end{equation}\n",
    "\n",
    "where\n",
    "\n",
    "\\begin{align*}\n",
    "\\psi(x, y, t) &= \\psi_0(x, y) + \\psi_1(x, y, t) \\\\\n",
    "\\psi_0(x, y) &= c_2y-UL_y \\tanh(\\dfrac{y}{L_y}) \\\\\n",
    "\\psi_1(x,y,t) &= U L_ y\\mathrm{sech}^2(\\dfrac{y}{L_y}) [\\epsilon_1 \\cos(k_1x-\\sigma_1t) + \\epsilon_2 \\cos(k_2x)]\n",
    "\\end{align*}\n",
    "\n",
    "We have chosen the following set of parameters $$ c_1 = 0.205U, c_2 = 0.461U, \\epsilon_1 = 0.15, \\epsilon_2 = 0.3, U = 62.66 (\\dfrac{m}{s}), L_y = 1.77\\times 10^3 (km), L_x = 6371\\pi(km), \\sigma_1 = k_1(c_1-c_2) $$\n",
    "\n",
    "The periodic period is given by:\n",
    "\n",
    "\\begin{equation}\n",
    "T_{periodic} = \\dfrac{2\\pi}{\\sigma_1}\n",
    "\\end{equation}\n",
    "\n",
    "The velocity field has been discretized both in time and space and the velocity data is given over a gridded spatio-temporal domain."
   ]
  },
  {
   "cell_type": "code",
   "execution_count": 1,
   "metadata": {
    "ExecuteTime": {
     "end_time": "2021-12-27T14:51:32.656569Z",
     "start_time": "2021-12-27T14:51:32.545935Z"
    }
   },
   "outputs": [],
   "source": [
    "# Import scipy\n",
    "import scipy.io\n",
    "\n",
    "# Import numpy\n",
    "import numpy as np"
   ]
  },
  {
   "cell_type": "code",
   "execution_count": 2,
   "metadata": {
    "ExecuteTime": {
     "end_time": "2021-12-27T14:51:32.672039Z",
     "start_time": "2021-12-27T14:51:32.657538Z"
    },
    "code_folding": [
     42
    ]
   },
   "outputs": [],
   "source": [
    "def k(n, Len_X):\n",
    "    \n",
    "    return 2*n*np.pi/Len_X\n",
    "\n",
    "def psi0(params, y):\n",
    "    \n",
    "    U = params[0]\n",
    "    Len_Y = params[3]\n",
    "    c2 = 0.461*U\n",
    "    \n",
    "    return -U*Len_Y*np.tanh(y/Len_Y)+c2*y\n",
    "\n",
    "def psi1(params, x, y, t):\n",
    "    \n",
    "    U = params[0]\n",
    "    R = params[1]\n",
    "    Len_X = params[2]\n",
    "    len_Y = params[3]\n",
    "    eps1 = params[4][0]\n",
    "    eps2 = params[4][1]\n",
    "\n",
    "    c1 = 0.205*U\n",
    "    c2 = 0.461*U\n",
    "    sigma1 = k(1, Len_X)*(c1-c2)\n",
    "    \n",
    "    forcing2 = np.cos(k(2, Len_X)*x)\n",
    "    forcing1 = np.cos(k(1, Len_X)*x-sigma1*t)\n",
    "    \n",
    "    return U*Len_Y*(sech(y/Len_Y)**2)*(eps1*forcing1 + eps2*forcing2)\n",
    "\n",
    "def sech(x):\n",
    "    \n",
    "    return 2*np.exp(x)/(np.exp(2*x)+1)\n",
    "\n",
    "def tanh(x):\n",
    "    \n",
    "    return (np.exp(2*x)-1)/(np.exp(2*x)+1)\n",
    "\n",
    "def psi(params, x, y, t):\n",
    "\n",
    "    return psi0(params, y)+psi1(params, x, y, t)\n",
    "\n",
    "def Bickley_jet(params, x, y, t, dx, dy):\n",
    "    \n",
    "    X, Y, time = np.meshgrid(x, y, t)\n",
    "    \n",
    "    u = np.zeros(X.shape)\n",
    "    v = np.zeros(Y.shape)\n",
    "    \n",
    "    for i in range(X.shape[0]):\n",
    "        \n",
    "        for j in range(Y.shape[1]):\n",
    "            \n",
    "            for r in range(time.shape[2]):\n",
    "                \n",
    "                x_ = X[i, j, r]\n",
    "                y_ = Y[i, j, r]\n",
    "                t_ = time[i, j, r]\n",
    "                \n",
    "                u[i, j, r] = -(psi(params, x_, y_ + dy, t_)-psi(params, x_, y_- dy, t_))/(2*dy)\n",
    "                v[i, j, r] = (psi(params, x_ + dx, y_, t_)-psi(params, x_ - dx, y_, t_))/(2*dx)\n",
    "    \n",
    "    return u, v"
   ]
  },
  {
   "cell_type": "code",
   "execution_count": 3,
   "metadata": {
    "ExecuteTime": {
     "end_time": "2021-12-27T14:53:04.760207Z",
     "start_time": "2021-12-27T14:51:32.673010Z"
    },
    "scrolled": false
   },
   "outputs": [],
   "source": [
    "# U = 62.66*3600*24 (in kilometers/day)\n",
    "U = 62.66*3.6*24\n",
    "\n",
    "# Radius of the Earth (in kms)\n",
    "earthRadius = 6371\n",
    "\n",
    "# L_x = pi*earthRadius\n",
    "Len_X = np.pi*earthRadius\n",
    "\n",
    "# L_y = 1.77*10**3 (in km)\n",
    "Len_Y = 1.77*(10**3)\n",
    "\n",
    "# [epsilon_1, epsilon_2]\n",
    "epsilon = [.15, .3]\n",
    "\n",
    "c1 = 0.205*U\n",
    "c2 = 0.461*U\n",
    "sigma1 = k(1, Len_X)*(c1-c2)\n",
    "\n",
    "T_periodic = abs(2*np.pi/(sigma1))\n",
    "\n",
    "# time array\n",
    "t = np.linspace(0, T_periodic, 20, endpoint = True)\n",
    "x = np.arange(-10*Len_X, 10*Len_X, 200)\n",
    "y = np.arange(-3*Len_Y*1.25, 3*Len_Y*1.25, 200)\n",
    "\n",
    "params = [U, earthRadius, Len_X, Len_Y, epsilon]\n",
    "\n",
    "# Define grid-spacing for spatial derivative\n",
    "dx = Len_X/5000\n",
    "dy = Len_Y/5000\n",
    "\n",
    "u, v = Bickley_jet(params, x, y, t, dx, dy)\n",
    "            \n",
    "scipy.io.savemat('./Bickley.mat', {'u': u, 'v': v, 'x': x, 'y': y, 't': t})"
   ]
  },
  {
   "cell_type": "markdown",
   "metadata": {},
   "source": [
    "# References\n",
    "\n",
    "[1] Rypina, I. I., Brown, M. G., Beron-Vera, F. J., Koçak, H., Olascoaga, M. J., & Udovydchenkov, I. A. (2007). On the Lagrangian dynamics of atmospheric zonal jets and the permeability of the stratospheric polar vortex. Journal of the Atmospheric Sciences, 64(10), 3595-3610.\n",
    "\n",
    "[2] del‐Castillo‐Negrete, D., & Morrison, P. J. (1993). Chaotic transport by Rossby waves in shear flow. Physics of Fluids A: Fluid Dynamics, 5(4), 948-965."
   ]
  }
 ],
 "metadata": {
  "kernelspec": {
   "display_name": "Python 3",
   "language": "python",
   "name": "python3"
  },
  "language_info": {
   "codemirror_mode": {
    "name": "ipython",
    "version": 3
   },
   "file_extension": ".py",
   "mimetype": "text/x-python",
   "name": "python",
   "nbconvert_exporter": "python",
   "pygments_lexer": "ipython3",
   "version": "3.7.11"
  },
  "latex_envs": {
   "LaTeX_envs_menu_present": true,
   "autoclose": false,
   "autocomplete": true,
   "bibliofile": "biblio.bib",
   "cite_by": "apalike",
   "current_citInitial": 1,
   "eqLabelWithNumbers": true,
   "eqNumInitial": 1,
   "hotkeys": {
    "equation": "Ctrl-E",
    "itemize": "Ctrl-I"
   },
   "labels_anchors": false,
   "latex_user_defs": false,
   "report_style_numbering": false,
   "user_envs_cfg": false
  },
  "toc": {
   "base_numbering": 1,
   "nav_menu": {},
   "number_sections": true,
   "sideBar": true,
   "skip_h1_title": false,
   "title_cell": "Table of Contents",
   "title_sidebar": "Contents",
   "toc_cell": false,
   "toc_position": {},
   "toc_section_display": true,
   "toc_window_display": false
  }
 },
 "nbformat": 4,
 "nbformat_minor": 5
}
