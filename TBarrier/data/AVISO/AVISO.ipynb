{
 "cells": [
  {
   "cell_type": "markdown",
   "metadata": {},
   "source": [
    "# Introduction to AVISO-data"
   ]
  },
  {
   "cell_type": "markdown",
   "metadata": {},
   "source": [
    "The following notebook highlights how to import the [AVISO data set](http://aviso.oceanobs.com) (2D satellite-altimetry-derived ocean surface current product). The data is freely available from the [Copernicus Marine Environment](https://marine.copernicus.eu).\n",
    "\n",
    "The sea surface height $ h $ acts as a stream function for the geostrophic ocean surface velocity field. Particle trajectories on the ocean surface are approximately trajectories of the 2D system of ODEs:\n",
    "\n",
    "\\begin{align}\n",
    "\\dot{\\varphi} &= -\\dfrac{g}{R^2f(\\theta)cos(\\theta)}\\partial_{\\theta}h(\\phi, \\theta, t) \\\\\n",
    "\\dot{\\theta} &= \\dfrac{g}{R^2f(\\theta)cos(\\theta)}\\partial_{\\varphi}h(\\phi, \\theta, t),\n",
    "\\end{align}\n",
    "\n",
    "where $ \\varphi, \\theta $ respectively are the longitudinal and latitudinal position of the particle, $ g $ is the constant of gravity, $ R $ is the mean radius, $ f(\\theta) = 2\\Omega \\sin(\\theta) $ is the coriolis parameter and $ \\Omega $ is the mean angular velocity of the earth.\n",
    "\n",
    "The AVISO-data provides global coverage of ocean currents at daily time-intervals with a spatial resolution of $ 0.25^{\\circ} $. As part of this work, we focus the commonly studied Agulhas region in the Southern Ocean:\n",
    "\n",
    "\\begin{equation}\n",
    "(\\varphi, \\theta) \\in [14^{\\circ}W, 9^{\\circ}E] \\times [39^{\\circ}S, 21^{\\circ}S]\n",
    "\\end{equation}\n",
    "\n",
    "over a period of (maximum) 90 days starting at $ t_0 = 24 $ Novembre 2006."
   ]
  },
  {
   "cell_type": "markdown",
   "metadata": {},
   "source": [
    "# Import AVISO Data from \".nc\" file"
   ]
  },
  {
   "cell_type": "markdown",
   "metadata": {},
   "source": [
    "After downloading the AVISO dataset in the region and time interval of interest, the \".nc\" file is saved in the following [folder](http://localhost:8888/notebooks/TBarrier/2D/Gridded/codes_data/data/files). For a tutorial about how to import \".nc\"-files in python we refer to the following [link](#https://unidata.github.io/netcdf4-python/). The function **Import_AVISO** briefly highlights the steps involved when importing the AVISO dataset."
   ]
  },
  {
   "cell_type": "code",
   "execution_count": 1,
   "metadata": {
    "ExecuteTime": {
     "end_time": "2021-11-16T20:03:33.538817Z",
     "start_time": "2021-11-16T20:03:33.400595Z"
    }
   },
   "outputs": [],
   "source": [
    "from netCDF4 import Dataset, num2date\n",
    "from datetime import datetime\n",
    "import numpy as np\n",
    "\n",
    "def Import_AVISO(file):\n",
    "\n",
    "    # Suppress DeprecationWarning\n",
    "    import warnings\n",
    "    with warnings.catch_warnings():\n",
    "        warnings.simplefilter(\"ignore\", category=DeprecationWarning)\n",
    "    \n",
    "        fileobj = Dataset(file, 'r')\n",
    "\n",
    "        # x: longitudinal coordinate (in degrees)\n",
    "        x = fileobj.variables['longitude'][:]\n",
    "        \n",
    "        # y: latitudinal coordinate (in degrees)\n",
    "        y = fileobj.variables['latitude'][:]\n",
    "        \n",
    "        # u: zonal velocity component (in m/s)\n",
    "        u = fileobj.variables['ugos'][:,:,:].transpose((1, 2, 0))\n",
    "        \n",
    "        # v: meridional velocity component (in m/s)\n",
    "        v = fileobj.variables['vgos'][:,:,:].transpose((1, 2, 0))\n",
    "        \n",
    "        # time\n",
    "        nctime = fileobj.variables['time'][:]\n",
    "        t_unit = fileobj.variables['time'].units  # get unit  \"days since 1950-01-01T00:00:00Z\"\n",
    "\n",
    "        t_cal = fileobj.variables['time'].calendar\n",
    "\n",
    "        date_gregorian = [num2date(nctime[i], units=t_unit, calendar=t_cal) for i in range(len(nctime))]\n",
    "        # time (in days)\n",
    "        time = (np.array(nctime)) - nctime[0]\n",
    "            \n",
    "    return x, y, u, v, time"
   ]
  },
  {
   "cell_type": "code",
   "execution_count": 2,
   "metadata": {
    "ExecuteTime": {
     "end_time": "2021-11-16T20:03:33.601648Z",
     "start_time": "2021-11-16T20:03:33.539815Z"
    }
   },
   "outputs": [],
   "source": [
    "# Import data from '.nc' file\n",
    "\n",
    "x, y, u, v, t = Import_AVISO('../Data/AVISO_Agulhas.nc')"
   ]
  },
  {
   "cell_type": "markdown",
   "metadata": {},
   "source": [
    "# Convert velocity units from $ \\dfrac{meters}{second} $ to $ \\dfrac{degrees}{day} $\n",
    "\n",
    "As the ocean velocity is given in units of $ \\dfrac{meters}{second} $, but the spatial coordinates are given in $ \\dfrac{degrees}{day} $, we need to account for this missmatch in the units."
   ]
  },
  {
   "cell_type": "code",
   "execution_count": 3,
   "metadata": {
    "ExecuteTime": {
     "end_time": "2021-11-16T20:03:39.569407Z",
     "start_time": "2021-11-16T20:03:33.602647Z"
    }
   },
   "outputs": [],
   "source": [
    "# Radius of earth\n",
    "earthRadius = 6371*(10**3)\n",
    "\n",
    "# Define velocities (in degrees/day)\n",
    "U, V = np.zeros(u.shape), np.zeros(v.shape)\n",
    "    \n",
    "# Iterate over all velocities in y-direction\n",
    "for i in range(U.shape[0]):\n",
    "    \n",
    "    # Iterate over all velocities in x-direction\n",
    "    for j in range(V.shape[1]):\n",
    "    \n",
    "        # iterate over all velocities in time\n",
    "        for k in range(V.shape[2]):\n",
    "            \n",
    "            # compute longitudinal component of velocity (in degrees/day)\n",
    "            U[i, j, k] = (u[i, j, k] / (np.cos(y[i]*(np.pi/180))*(earthRadius)))*180*3600*24/np.pi\n",
    "            # compute latitudinal component of velocity (in degrees/day)\n",
    "            V[i, j, k] = (v[i, j, k] / earthRadius)*180*3600*24/np.pi"
   ]
  },
  {
   "cell_type": "markdown",
   "metadata": {},
   "source": [
    "# Save data in a '.mat' file"
   ]
  },
  {
   "cell_type": "code",
   "execution_count": 4,
   "metadata": {
    "ExecuteTime": {
     "end_time": "2021-11-16T20:03:39.630385Z",
     "start_time": "2021-11-16T20:03:39.570294Z"
    }
   },
   "outputs": [],
   "source": [
    "import scipy.io\n",
    "\n",
    "# save data to 'Agulhas_AVISO.mat' file in folder 'Data'\n",
    "scipy.io.savemat('Agulhas_AVISO.mat', {'u': U, 'v': V, 'x': x, 'y': y, 't': t})"
   ]
  }
 ],
 "metadata": {
  "kernelspec": {
   "display_name": "Python 3 (ipykernel)",
   "language": "python",
   "name": "python3"
  },
  "language_info": {
   "codemirror_mode": {
    "name": "ipython",
    "version": 3
   },
   "file_extension": ".py",
   "mimetype": "text/x-python",
   "name": "python",
   "nbconvert_exporter": "python",
   "pygments_lexer": "ipython3",
   "version": "3.7.11"
  },
  "toc": {
   "base_numbering": 1,
   "nav_menu": {},
   "number_sections": true,
   "sideBar": true,
   "skip_h1_title": false,
   "title_cell": "Table of Contents",
   "title_sidebar": "Contents",
   "toc_cell": false,
   "toc_position": {},
   "toc_section_display": true,
   "toc_window_display": false
  }
 },
 "nbformat": 4,
 "nbformat_minor": 4
}
