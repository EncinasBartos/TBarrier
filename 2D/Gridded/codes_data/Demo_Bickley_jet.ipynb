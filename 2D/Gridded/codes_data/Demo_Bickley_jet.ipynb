{
 "cells": [
  {
   "cell_type": "code",
   "execution_count": 1,
   "metadata": {},
   "outputs": [],
   "source": [
    "# Import general libraries\n",
    "%matplotlib inline\n",
    "import matplotlib.pyplot as plt\n",
    "import numpy as np"
   ]
  },
  {
   "cell_type": "code",
   "execution_count": 2,
   "metadata": {},
   "outputs": [
    {
     "name": "stdout",
     "output_type": "stream",
     "text": [
      "Import data\n",
      "Wall time: 41.9 ms\n"
     ]
    }
   ],
   "source": [
    "%%time\n",
    "# Import velocity field\n",
    "import scipy.io as sio\n",
    "\n",
    "print(\"Import data\")\n",
    "#Import velocity data from file in data-folder\n",
    "mat_file = sio.loadmat('./data/Files/Bickley_jet.mat')\n",
    "\n",
    "U = mat_file['u']\n",
    "V = mat_file['v']\n",
    "x = mat_file['x']\n",
    "y = mat_file['y']\n",
    "time = mat_file['t']"
   ]
  },
  {
   "cell_type": "code",
   "execution_count": 3,
   "metadata": {},
   "outputs": [],
   "source": [
    "# Create meshgrid\n",
    "X, Y = np.meshgrid(x, y)"
   ]
  },
  {
   "cell_type": "code",
   "execution_count": 4,
   "metadata": {},
   "outputs": [],
   "source": [
    "# Name of Dataset. {\"Ocean\", \"General\"}\n",
    "Type = \"General\"\n",
    "\n",
    "# Number of cores to be used for parallel computing\n",
    "Ncores = 4\n",
    "\n",
    "# Specify whether the flow is incompressible. {True, False}\n",
    "incompressible = True\n",
    "\n",
    "# Specify periodic boundary conditions\n",
    "periodic_boundary = [False, False]\n",
    "\n",
    "# Summarize list of parameters of the flow.\n",
    "params_data = Type, X, Y, time, U, V, Ncores, incompressible, periodic_boundary"
   ]
  },
  {
   "cell_type": "code",
   "execution_count": 5,
   "metadata": {},
   "outputs": [
    {
     "name": "stdout",
     "output_type": "stream",
     "text": [
      "Wall time: 72.8 ms\n"
     ]
    }
   ],
   "source": [
    "%%time\n",
    "from ipynb.fs.defs.System import *\n",
    "DS = System()\n",
    "DS._init_data(params_data)"
   ]
  },
  {
   "cell_type": "code",
   "execution_count": 6,
   "metadata": {},
   "outputs": [],
   "source": [
    "DS._Interpolation_velocity()"
   ]
  },
  {
   "cell_type": "code",
   "execution_count": 7,
   "metadata": {},
   "outputs": [
    {
     "name": "stdout",
     "output_type": "stream",
     "text": [
      "Wall time: 970 µs\n"
     ]
    }
   ],
   "source": [
    "%%time\n",
    "\n",
    "# Initial time (in days)\n",
    "t0 = DS.Time[0, 0]\n",
    "\n",
    "# Final time (in days)\n",
    "tN = DS.Time[0, 20]\n",
    "\n",
    "# time step-size\n",
    "dt = 0.2\n",
    "\n",
    "time = np.arange(t0, tN+dt, dt)\n",
    "\n",
    "# longitudinal and latitudinal boundaries (in degrees)\n",
    "xmin = np.min(DS.X)\n",
    "xmax = np.max(DS.X)/5\n",
    "ymin = np.min(DS.Y)/2\n",
    "ymax = np.max(DS.Y)/2\n",
    "\n",
    "# spacing of meshgrid (in degrees)\n",
    "dx = np.minimum(X[0, 1]-X[0, 0], Y[1, 0]-Y[0, 0])/30\n",
    "dy = dx\n",
    "\n",
    "x_grid = np.arange(xmin, xmax+dx, dx)\n",
    "y_grid = np.arange(ymin, ymax+dy, dy)\n",
    "\n",
    "# Specify ratio of auxiliary grid\n",
    "ratio_auxiliary_grid = 0.1\n",
    "\n",
    "params_ds = time, x_grid, y_grid, ratio_auxiliary_grid\n",
    "DS._init_ds(params_ds)"
   ]
  },
  {
   "cell_type": "code",
   "execution_count": null,
   "metadata": {},
   "outputs": [
    {
     "name": "stdout",
     "output_type": "stream",
     "text": [
      "=================Trajectories over meshgrid=================\n"
     ]
    },
    {
     "data": {
      "application/vnd.jupyter.widget-view+json": {
       "model_id": "ad76cfc6589e47ef8249d259c8a4745c",
       "version_major": 2,
       "version_minor": 0
      },
      "text/plain": [
       "  0%|          | 0/286 [00:00<?, ?it/s]"
      ]
     },
     "metadata": {},
     "output_type": "display_data"
    },
    {
     "name": "stderr",
     "output_type": "stream",
     "text": [
      "[Parallel(n_jobs=4)]: Using backend LokyBackend with 4 concurrent workers.\n",
      "[Parallel(n_jobs=4)]: Done  42 tasks      | elapsed:  3.0min\n"
     ]
    }
   ],
   "source": [
    "FTLE_min, FTLE_max = DS._FTLE_()"
   ]
  },
  {
   "cell_type": "code",
   "execution_count": null,
   "metadata": {},
   "outputs": [],
   "source": [
    "fig = plt.figure(figsize = (14, 8))\n",
    "ax = plt.axes()\n",
    "cax = ax.contourf(DS.trajectory_grid[:, :, 0, 0], DS.trajectory_grid[:, :, 1, 0], FTLE_max, levels = 600, cmap = \"Blues\")\n",
    "#cax = ax.scatter(DS.trajectory_grid[:, :, 0, 0].ravel(), DS.trajectory_grid[:, :, 1, 0].ravel(), c = FTLE_max.ravel())\n",
    "plt.colorbar(cax, ticks = np.linspace(0, 0.05, 6))\n",
    "plt.show()"
   ]
  },
  {
   "cell_type": "code",
   "execution_count": null,
   "metadata": {},
   "outputs": [],
   "source": [
    "PRA = DS._PRA_()"
   ]
  },
  {
   "cell_type": "code",
   "execution_count": null,
   "metadata": {},
   "outputs": [],
   "source": [
    "fig = plt.figure(figsize = (14, 8))\n",
    "ax = plt.axes()\n",
    "cax = ax.contourf(DS.trajectory_grid[:, :, 0, 0], DS.trajectory_grid[:, :, 1, 0], PRA, levels = 600, cmap = \"gist_rainbow\")\n",
    "#cax = ax.scatter(DS.trajectory_grid[:, :, 0, 0].ravel(), DS.trajectory_grid[:, :, 1, 0].ravel(), c = FTLE_max.ravel())\n",
    "plt.colorbar(cax, ticks = np.linspace(0, np.pi, 8))\n",
    "plt.show()"
   ]
  },
  {
   "cell_type": "code",
   "execution_count": null,
   "metadata": {},
   "outputs": [],
   "source": [
    "TRA_bar = DS._TRA_bar_()"
   ]
  },
  {
   "cell_type": "code",
   "execution_count": null,
   "metadata": {},
   "outputs": [],
   "source": [
    "fig = plt.figure(figsize = (14, 8))\n",
    "ax = plt.axes()\n",
    "cax = ax.contourf(DS.trajectory_grid[:, :, 0, 0], DS.trajectory_grid[:, :, 1, 0], TRA_bar, levels = 600, cmap = \"gist_rainbow\")\n",
    "#cax = ax.scatter(DS.trajectory_grid[:, :, 0, 0].ravel(), DS.trajectory_grid[:, :, 1, 0].ravel(), c = FTLE_max.ravel())\n",
    "plt.colorbar(cax)\n",
    "plt.show()"
   ]
  },
  {
   "cell_type": "code",
   "execution_count": null,
   "metadata": {},
   "outputs": [],
   "source": [
    "TSE = DS._TSE_()"
   ]
  },
  {
   "cell_type": "code",
   "execution_count": null,
   "metadata": {},
   "outputs": [],
   "source": [
    "TSE_bar = DS._TSE_bar_()"
   ]
  },
  {
   "cell_type": "code",
   "execution_count": null,
   "metadata": {},
   "outputs": [],
   "source": [
    "fig = plt.figure(figsize = (14, 8))\n",
    "ax = plt.axes()\n",
    "cax = ax.contourf(DS.trajectory_grid[:, :, 0, 0], DS.trajectory_grid[:, :, 1, 0], TRA_bar, levels = 600, cmap = \"gist_rainbow\")\n",
    "plt.colorbar(cax)\n",
    "plt.show()"
   ]
  },
  {
   "cell_type": "code",
   "execution_count": null,
   "metadata": {},
   "outputs": [],
   "source": [
    "extrema_x, extrema_y = DS._ridge_trench(FTLE_max, threshold = 0.02, type = \"ridge\", method = \"gradient\", \n",
    "                                        resolution = 2, ds = .5, n_iterations = 100)\n",
    "plt.scatter(extrema_x, extrema_y, s = .5)\n",
    "plt.show()"
   ]
  }
 ],
 "metadata": {
  "kernelspec": {
   "display_name": "Python 3",
   "language": "python",
   "name": "python3"
  },
  "language_info": {
   "codemirror_mode": {
    "name": "ipython",
    "version": 3
   },
   "file_extension": ".py",
   "mimetype": "text/x-python",
   "name": "python",
   "nbconvert_exporter": "python",
   "pygments_lexer": "ipython3",
   "version": "3.7.11"
  },
  "toc": {
   "base_numbering": 1,
   "nav_menu": {},
   "number_sections": true,
   "sideBar": true,
   "skip_h1_title": false,
   "title_cell": "Table of Contents",
   "title_sidebar": "Contents",
   "toc_cell": false,
   "toc_position": {},
   "toc_section_display": true,
   "toc_window_display": false
  }
 },
 "nbformat": 4,
 "nbformat_minor": 4
}
