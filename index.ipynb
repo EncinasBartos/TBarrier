{
 "cells": [
  {
   "cell_type": "markdown",
   "metadata": {},
   "source": [
    "# Notebooks TBarrier"
   ]
  },
  {
   "cell_type": "markdown",
   "metadata": {},
   "source": [
    "*Welcome to TBarrier Notebooks*"
   ]
  },
  {
   "cell_type": "markdown",
   "metadata": {
    "ExecuteTime": {
     "end_time": "2021-10-11T17:07:37.422608Z",
     "start_time": "2021-10-11T17:07:37.417603Z"
    }
   },
   "source": [
    "[Prerequisites](#Prerequisites)"
   ]
  },
  {
   "cell_type": "markdown",
   "metadata": {},
   "source": [
    "## Demos"
   ]
  },
  {
   "cell_type": "markdown",
   "metadata": {},
   "source": [
    "* 2D\n",
    "    * [AVISO Agulhas leakage](./TBarrier/TBarrier/2D/Gridded/codes_data/Demo_AVISO.ipynb)\n",
    "    * [AVISO Gulf of Mexico](./TBarrier/TBarrier/2D/Gridded/codes_data/Demo_GoM.ipynb)\n",
    "    * [Bickley jet](./TBarrier/2D/Gridded/codes_data/Demo_Bickley.ipynb)\n",
    "    * [Duffing oscillator](./TBarrier/2D/Gridded/codes_data/Demo_Duffing.ipynb)\n",
    "* 3D\n",
    "    * [ABC flow](./TBarrier/TBarrier/3D/Gridded/codes_data/Demo_ABC.ipynb)\n",
    "    * [Turbulent flow channel](./TBarrier/TBarrier/3D/Gridded/codes_data/Demo_TFC.ipynb)"
   ]
  },
  {
   "cell_type": "markdown",
   "metadata": {},
   "source": [
    "# Algorithms"
   ]
  },
  {
   "cell_type": "markdown",
   "metadata": {},
   "source": [
    "The algorithms are stored in separate class-files. The following should serve as an overview to the main list of algorithms used in this notebook."
   ]
  },
  {
   "cell_type": "markdown",
   "metadata": {},
   "source": [
    "1. 2D\n",
    "    1. [Dynamical System](./TBarrier/2D/Gridded/codes_data/classes/Dynamical_System.ipynb)\n",
    "        * [Interpolation](./TBarrier/2D/Gridded/codes_data/classes/Dynamical_System.ipynb#INTERPOLATION)\n",
    "        * [Differential Equation/Evaluation of velocity field](./TBarrier/2D/Gridded/codes_data/classes/Dynamical_System.ipynb#Differential_equation)\n",
    "        * [Lagrangian particle trajectory/Flow map](./TBarrier/2D/Gridded/codes_data/classes/Dynamical_System.ipynb#Lagrangian_particle_trajectories)\n",
    "        * [Gradient of the Flow map](./TBarrier/2D/Gridded/codes_data/classes/Dynamical_System.ipynb#Gradient_of_the_flow_map)\n",
    "        * [Cauchy-Green strain tensor](./TBarrier/2D/Gridded/codes_data/classes/Dynamical_System.ipynb#Cauchy_Green_strain_tensor)\n",
    "    2. [Lagrangian Coherent Structures (LCS)](./TBarrier/2D/Gridded/codes_data/classes/LCS.ipynb)\n",
    "        * [Diagnostic methods](./TBarrier/2D/Gridded/codes_data/classes/LCS.ipynb#Diagnostic_methods)\n",
    "            * [Finite Time Lyapunov Exponent (FTLE)](./TBarrier/2D/Gridded/codes_data/classes/LCS.ipynb#FTLE)\n",
    "            * [Polar Rotation Angle (PRA)](./TBarrier/2D/Gridded/codes_data/classes/LCS.ipynb#PRA)\n",
    "            * [Lagrangian Averaged Vorticity Deviation](./TBarrier/2D/Gridded/codes_data/classes/LCS.ipynb#LAVD)\n",
    "            * [Quasi-objective diagnostics](./TBarrier/2D/Gridded/codes_data/classes/LCS.ipynb#Quasi_objective_diagnostics)\n",
    "                * [Trajectory Rotation Average (TRA)](./TBarrier/2D/Gridded/codes_data/classes/LCS.ipynb#TRA)\n",
    "                * [Trajectory Rotation Average without cancellations ($\\overline{TRA}$)](./TBarrier/2D/Gridded/codes_data/classes/LCS.ipynb#TRA_bar)\n",
    "                * [Trajectory Stretching Exponent (TSE)](./TBarrier/2D/Gridded/codes_data/classes/LCS.ipynb#TSE)\n",
    "                * [Trajectory Stretching Exponent without cancellations ($\\overline{TSE}$)](./TBarrier/2D/Gridded/codes_data/classes/LCS.ipynb#TSE_bar)\n",
    "        * [Analytic methods](./TBarrier/2D/Gridded/codes_data/classes/LCS.ipynb#Analytic_methods)\n",
    "            * [Hyperbolic LCS](./TBarrier/2D/Gridded/codes_data/classes/LCS.ipynb#Hyperbolic_LCS)\n",
    "                * [Hyperbolic LCS from local variational theory](./TBarrier/2D/Gridded/codes_data/classes/LCS.ipynb#local_variational_theory_hyperbolic)\n",
    "            * [Elliptic LCS](./TBarrier/2D/Gridded/codes_data/classes/LCS.ipynb#Elliptic_LCS)\n",
    "                * [Elliptic LCS from local variational theory](./TBarrier/2D/Gridded/codes_data/classes/LCS.ipynb#local_variational_theory_elliptic)\n",
    "                * [Elliptic LCS from global variational theory]\n",
    "                    * [Computing elliptic LCS as closed null-geodesics]\n",
    "    3. [Objective Eulerian Coherent Structures (OECS)](./TBarrier/2D/Gridded/codes_data/classes/OECS.ipynb)\n",
    "        * [Instantaneous Finite Time Lyapunov Exponent]\n",
    "        * [Instantaneous Vorticity Deviation]\n",
    "        * [Global variational theory of ellipti OECS]\n",
    "        * [Objective Saddle points]\n",
    "2. 3D\n",
    "    1. [Dynamical System](./TBarrier/2D/Gridded/codes_data/classes/Dynamical_System.ipynb)\n",
    "        * [Interpolation](./TBarrier/2D/Gridded/codes_data/classes/Dynamical_System.ipynb#INTERPOLATION)\n",
    "        * [Differential Equation/Evaluation of velocity field](./TBarrier/2D/Gridded/codes_data/classes/Dynamical_System.ipynb#Differential_equation)\n",
    "        * [Lagrangian particle trajectory/Flow map](./TBarrier/2D/Gridded/codes_data/classes/Dynamical_System.ipynb#Lagrangian_particle_trajectories)\n",
    "        * [Gradient of the Flow map](./TBarrier/2D/Gridded/codes_data/classes/Dynamical_System.ipynb#Gradient_of_the_flow_map)\n",
    "        * [Cauchy-Green strain tensor](./TBarrier/2D/Gridded/codes_data/classes/Dynamical_System.ipynb#Cauchy_Green_strain_tensor)"
   ]
  },
  {
   "cell_type": "markdown",
   "metadata": {
    "ExecuteTime": {
     "end_time": "2021-10-12T06:38:30.086826Z",
     "start_time": "2021-10-12T06:38:30.079817Z"
    }
   },
   "source": [
    "<a id='Prerequisites'></a>\n",
    "## Prerequisites"
   ]
  },
  {
   "cell_type": "code",
   "execution_count": null,
   "metadata": {},
   "outputs": [],
   "source": []
  }
 ],
 "metadata": {
  "kernelspec": {
   "display_name": "Python 3 (ipykernel)",
   "language": "python",
   "name": "python3"
  },
  "language_info": {
   "codemirror_mode": {
    "name": "ipython",
    "version": 3
   },
   "file_extension": ".py",
   "mimetype": "text/x-python",
   "name": "python",
   "nbconvert_exporter": "python",
   "pygments_lexer": "ipython3",
   "version": "3.7.11"
  },
  "toc": {
   "base_numbering": 1,
   "nav_menu": {},
   "number_sections": false,
   "sideBar": true,
   "skip_h1_title": true,
   "title_cell": "Table of Contents",
   "title_sidebar": "Contents",
   "toc_cell": false,
   "toc_position": {},
   "toc_section_display": true,
   "toc_window_display": true
  }
 },
 "nbformat": 4,
 "nbformat_minor": 4
}
