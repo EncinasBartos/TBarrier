{
 "cells": [
  {
   "cell_type": "markdown",
   "metadata": {},
   "source": [
    "# Notebooks TBarrier"
   ]
  },
  {
   "cell_type": "markdown",
   "metadata": {},
   "source": [
    "*Welcome to TBarrier Notebooks*"
   ]
  },
  {
   "cell_type": "markdown",
   "metadata": {
    "ExecuteTime": {
     "end_time": "2021-10-11T17:07:37.422608Z",
     "start_time": "2021-10-11T17:07:37.417603Z"
    }
   },
   "source": [
    "[Prerequisites](#Prerequisites)"
   ]
  },
  {
   "cell_type": "markdown",
   "metadata": {},
   "source": [
    "## Demos"
   ]
  },
  {
   "cell_type": "markdown",
   "metadata": {},
   "source": [
    "* 2D\n",
    "    * [Finite Time Lyapunov Exponent (FTLE)](./TBarrier/2D/Gridded/Demos/FTLE)\n",
    "    * [Polar Rotation Angle (PRA)](./TBarrier/2D/Gridded/Demos/PRA)\n",
    "    * [Lagrangian Average Vorticity Deviation (LAVD)](./TBarrier/2D/Gridded/Demos/LAVD)\n",
    "    * [Trajectory Rotation Average (TRA)](./TBarrier/2D/Gridded/Demos/TRA)\n",
    "    * [Trajectory Stretching Exponent (TSE)](./TBarrier/2D/Gridded/Demos/TSE)\n",
    "    * [Local Variational Theory](./TBarrier/2D/Gridded/Demos/Local-Variational-Theory)\n",
    "    * [Geodesic LCS](./TBarrier/TBarrier/2D/Gridded/Demos/GeodesicLCS)\n",
    "    * [Instantaneous Finite Time Lyapunov Exponent](./TBarrier/2D/Gridded/Demos/IFTLE)\n",
    "    * [Instantaneous Vorticity Deviation](./TBarrier/2D/Gridded/Demos/IFTLE)\n",
    "    * [Geodesic OECS](./TBarrier/2D/Gridded/Demos/GeodesicOECS)\n",
    "    * [Objective Saddle Points](./TBarrier2D/Gridded/Demos/Objective-Saddle-Points)\n",
    "    * [Diffusion Barrier Sensitivity (DBS)](./TBarrier/2D/Gridded/Demos/DBS)\n",
    "* 3D\n",
    "    * [ABC flow](./TBarrier/TBarrier/3D/Gridded/codes_data/Demo_ABC.ipynb)\n",
    "    * [Turbulent flow channel](./TBarrier/TBarrier/3D/Gridded/codes_data/Demo_TFC.ipynb)"
   ]
  },
  {
   "cell_type": "markdown",
   "metadata": {
    "ExecuteTime": {
     "end_time": "2021-10-12T06:38:30.086826Z",
     "start_time": "2021-10-12T06:38:30.079817Z"
    }
   },
   "source": [
    "<a id='Prerequisites'></a>\n",
    "## Prerequisites"
   ]
  },
  {
   "cell_type": "code",
   "execution_count": null,
   "metadata": {},
   "outputs": [],
   "source": []
  }
 ],
 "metadata": {
  "kernelspec": {
   "display_name": "Python 3",
   "language": "python",
   "name": "python3"
  },
  "language_info": {
   "codemirror_mode": {
    "name": "ipython",
    "version": 3
   },
   "file_extension": ".py",
   "mimetype": "text/x-python",
   "name": "python",
   "nbconvert_exporter": "python",
   "pygments_lexer": "ipython3",
   "version": "3.7.11"
  },
  "toc": {
   "base_numbering": 1,
   "nav_menu": {},
   "number_sections": false,
   "sideBar": true,
   "skip_h1_title": true,
   "title_cell": "Table of Contents",
   "title_sidebar": "Contents",
   "toc_cell": false,
   "toc_position": {},
   "toc_section_display": true,
   "toc_window_display": true
  }
 },
 "nbformat": 4,
 "nbformat_minor": 4
}
